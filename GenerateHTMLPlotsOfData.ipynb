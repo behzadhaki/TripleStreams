{
 "cells": [
  {
   "cell_type": "code",
   "id": "e10086094576695c",
   "metadata": {
    "ExecuteTime": {
     "end_time": "2025-08-10T18:22:33.991478Z",
     "start_time": "2025-08-10T18:22:33.988959Z"
    }
   },
   "source": [
    "from triple_stream_data_utils import plot_scatter_distribution, create_heatmap_histogram_from_lists\n",
    "from tripleStreamsDataloaderUtils import load_compiled_dataset_pkl_bz2"
   ],
   "outputs": [],
   "execution_count": 2
  },
  {
   "cell_type": "code",
   "id": "351eacd47726cfbe",
   "metadata": {
    "ExecuteTime": {
     "end_time": "2025-08-10T17:49:18.170091Z",
     "start_time": "2025-08-10T17:42:25.442009Z"
    }
   },
   "source": [
    "# Make sure you've already ran python CompileStreamsAndFeatures.py\n",
    "import os\n",
    "accentThresh = 0.75\n",
    "\n",
    "root_path = f\"data/triple_streams/cached/CompiledUsingAccentThreshOf{accentThresh}/\"\n",
    "all_pkl_bz2_files = [f for f in os.listdir(root_path) if f.endswith('.pkl.bz2')]\n",
    "\n",
    "# Available Datasets\n",
    "available_datasets_path = {\n",
    "    all_pkl_bz2_file.split(\".pkl.bz2\")[0]: os.path.join(root_path, all_pkl_bz2_file) for all_pkl_bz2_file in all_pkl_bz2_files\n",
    "}\n",
    "\n",
    "# Generate Individual Plots (Not Normalized)\n",
    "from make_triple_stream_plots import build_plots\n",
    "\n",
    "feat1 = \"Flat Out Vs. Input | Hits | Hamming\"\n",
    "feat2 = \"Flat Out Vs. Input | Accent | Hamming\"\n",
    "\n",
    "root_path = f\"data/triple_streams/cached/CompiledUsingAccentThreshOf{accentThresh}/\"\n",
    "os.makedirs(os.path.join(root_path, \"analysis\"), exist_ok=True)\n",
    "os.makedirs(os.path.join(root_path, \"analysis/plots\"), exist_ok=True)\n",
    "\n",
    "# dataset_tags = [\"lmd_bass_brass_guitar_percussive\", \"elbg_both_flattened_left_right\"]\n",
    "\n",
    "dataset_tags = [path.split(\"/\")[-1].split(\".pkl.bz2\")[0] for path in sorted(available_datasets_path)]\n",
    "# find all pkl.bz2 files in the root_path\n",
    "\n",
    "output_path = build_plots(\n",
    "    root=root_path,\n",
    "    dataset_tags=dataset_tags,\n",
    "    feature1=feat1,\n",
    "    feature2=feat2,\n",
    "    n_bins_feat1=None,\n",
    "    n_bins_feat2=10,\n",
    "    scatter_max_points=100000,\n",
    "    output_html_path=os.path.join(os.path.join(root_path, \"analysis/plots\"), f\"<{feat1}>vs<{feat2}>.html\"),\n",
    "    force_recalc=False,\n",
    ")\n",
    "\n",
    "print(f\"HTML saved at: {output_path}\")\n",
    "\n",
    "# Generate Individual Plots (Normalized)\n",
    "from make_triple_stream_plots import build_plots\n",
    "\n",
    "feat1 = \"Flat Out Vs. Input | Hits | Hamming\"\n",
    "feat2 = \"Flat Out Vs. Input | Accent | Hamming Normalized\"\n",
    "\n",
    "\n",
    "# dataset_tags = [\"lmd_bass_brass_guitar_percussive\", \"elbg_both_flattened_left_right\"]\n",
    "\n",
    "dataset_tags = [path.split(\"/\")[-1].split(\".pkl.bz2\")[0] for path in sorted(available_datasets_path)]\n",
    "# find all pkl.bz2 files in the root_path\n",
    "\n",
    "output_path = build_plots(\n",
    "    root=root_path,\n",
    "    dataset_tags=dataset_tags,\n",
    "    feature1=feat1,\n",
    "    feature2=feat2,\n",
    "    n_bins_feat1=None,\n",
    "    n_bins_feat2=10,\n",
    "    scatter_max_points=100000,\n",
    "    output_html_path=os.path.join(os.path.join(root_path, \"analysis/plots\"), f\"<{feat1}>vs<{feat2}>.html\"),\n",
    "    force_recalc=False,\n",
    ")\n",
    "\n",
    "print(f\"HTML saved at: {output_path}\")"
   ],
   "outputs": [
    {
     "name": "stdout",
     "output_type": "stream",
     "text": [
      "Loading datasets...\n"
     ]
    },
    {
     "name": "stderr",
     "output_type": "stream",
     "text": [
      "Datasets: 100%|██████████| 43/43 [02:05<00:00,  2.92s/it]\n"
     ]
    },
    {
     "name": "stdout",
     "output_type": "stream",
     "text": [
      "Preparing heatmap caches...\n"
     ]
    },
    {
     "name": "stderr",
     "output_type": "stream",
     "text": [
      "Heatmaps: 100%|██████████| 43/43 [00:00<00:00, 578.24it/s]\n"
     ]
    },
    {
     "name": "stdout",
     "output_type": "stream",
     "text": [
      "Preparing scatter data...\n"
     ]
    },
    {
     "name": "stderr",
     "output_type": "stream",
     "text": [
      "Scatter: 100%|██████████| 43/43 [00:38<00:00,  1.12it/s]\n"
     ]
    },
    {
     "name": "stdout",
     "output_type": "stream",
     "text": [
      "HTML saved at: /Users/bezha/PycharmProjects/TripleStreams/data/triple_streams/cached/CompiledUsingAccentThreshOf0.75/analysis/plots/<Flat Out Vs. Input | Hits | Hamming>vs<Flat Out Vs. Input | Accent | Hamming>.html\n",
      "Loading datasets...\n"
     ]
    },
    {
     "name": "stderr",
     "output_type": "stream",
     "text": [
      "Datasets: 100%|██████████| 43/43 [02:03<00:00,  2.87s/it]\n"
     ]
    },
    {
     "name": "stdout",
     "output_type": "stream",
     "text": [
      "Preparing heatmap caches...\n"
     ]
    },
    {
     "name": "stderr",
     "output_type": "stream",
     "text": [
      "Heatmaps: 100%|██████████| 43/43 [00:00<00:00, 140.28it/s]\n"
     ]
    },
    {
     "name": "stdout",
     "output_type": "stream",
     "text": [
      "Preparing scatter data...\n"
     ]
    },
    {
     "name": "stderr",
     "output_type": "stream",
     "text": [
      "Scatter: 100%|██████████| 43/43 [00:37<00:00,  1.14it/s]\n"
     ]
    },
    {
     "name": "stdout",
     "output_type": "stream",
     "text": [
      "HTML saved at: /Users/bezha/PycharmProjects/TripleStreams/data/triple_streams/cached/CompiledUsingAccentThreshOf0.75/analysis/plots/<Flat Out Vs. Input | Hits | Hamming>vs<Flat Out Vs. Input | Accent | Hamming Normalized>.html\n"
     ]
    }
   ],
   "execution_count": 2
  },
  {
   "metadata": {
    "ExecuteTime": {
     "end_time": "2025-08-10T18:39:38.057324Z",
     "start_time": "2025-08-10T18:31:17.474393Z"
    }
   },
   "cell_type": "code",
   "source": [
    "# Make sure you've already ran python CompileStreamsAndFeatures.py\n",
    "import os\n",
    "accentThresh = 0.75\n",
    "n_bins = 10\n",
    "l_percentile = 0.0\n",
    "h_percentile = 0.9\n",
    "\n",
    "root_path = f\"data/triple_streams/cached/CompiledUsingAccentThreshOf{accentThresh}_with_{n_bins}_bins_in_{l_percentile}_{h_percentile}_percentile/\"\n",
    "all_pkl_bz2_files = [f for f in os.listdir(root_path) if f.endswith('.pkl.bz2')]\n",
    "\n",
    "# Available Datasets\n",
    "available_datasets_path = {\n",
    "    all_pkl_bz2_file.split(\".pkl.bz2\")[0]: os.path.join(root_path, all_pkl_bz2_file) for all_pkl_bz2_file in all_pkl_bz2_files\n",
    "}\n",
    "\n",
    "os.makedirs(os.path.join(root_path, \"analysis\"), exist_ok=True)\n",
    "os.makedirs(os.path.join(root_path, \"analysis/plots\"), exist_ok=True)\n",
    "\n",
    "# Generate Individual Plots ( Binned Not Normalized)\n",
    "from make_triple_stream_plots import build_plots\n",
    "\n",
    "feat1 = \"Flat Out Vs. Input | Hits | Hamming\"\n",
    "feat2 = \"Flat Out Vs. Input | Accent | Hamming (Binned)\"\n",
    "\n",
    "\n",
    "# dataset_tags = [\"lmd_bass_brass_guitar_percussive\", \"elbg_both_flattened_left_right\"]\n",
    "\n",
    "dataset_tags = []\n",
    "for path in sorted(available_datasets_path):\n",
    "    if \"edges\" not in path:\n",
    "        dataset_tags.append(path.split(\"/\")[-1].split(\".pkl.bz2\")[0])\n",
    "\n",
    "        # find all pkl.bz2 files in the root_path\n",
    "d_dict = load_compiled_dataset_pkl_bz2(os.path.join(root_path, all_pkl_bz2_files[0]))\n",
    "print(d_dict.keys())\n",
    "\n",
    "output_path = build_plots(\n",
    "    root=root_path,\n",
    "    dataset_tags=dataset_tags,\n",
    "    feature1=feat1,\n",
    "    feature2=feat2,\n",
    "    n_bins_feat1=None,\n",
    "    n_bins_feat2=10,\n",
    "    scatter_max_points=100000,\n",
    "    output_html_path=os.path.join(os.path.join(root_path, \"analysis/plots\"), f\"<{feat1}>vs<{feat2}>.html\"),\n",
    "    force_recalc=False,\n",
    ")\n",
    "\n",
    "print(f\"HTML saved at: {output_path}\")\n",
    "\n",
    "# Generate Individual Plots ( Binned Normalized)\n",
    "from make_triple_stream_plots import build_plots\n",
    "\n",
    "\n",
    "\n",
    "feat1 = \"Flat Out Vs. Input | Hits | Hamming\"\n",
    "feat2 = \"Flat Out Vs. Input | Accent | Hamming Normalized (Binned)\"\n",
    "\n",
    "\n",
    "os.makedirs(os.path.join(root_path, \"plots\"), exist_ok=True)\n",
    "# dataset_tags = [\"lmd_bass_brass_guitar_percussive\", \"elbg_both_flattened_left_right\"]\n",
    "\n",
    "dataset_tags = []\n",
    "for path in sorted(available_datasets_path):\n",
    "    if \"edges\" not in path:\n",
    "        dataset_tags.append(path.split(\"/\")[-1].split(\".pkl.bz2\")[0])\n",
    "\n",
    "# find all pkl.bz2 files in the root_path\n",
    "\n",
    "output_path = build_plots(\n",
    "    root=root_path,\n",
    "    dataset_tags=dataset_tags,\n",
    "    feature1=feat1,\n",
    "    feature2=feat2,\n",
    "    n_bins_feat1=None,\n",
    "    n_bins_feat2=10,\n",
    "    scatter_max_points=100000,\n",
    "    output_html_path=os.path.join(os.path.join(root_path, \"analysis/plots\"), f\"<{feat1}>vs<{feat2}>.html\"),\n",
    "    force_recalc=False,\n",
    ")\n",
    "\n",
    "print(f\"HTML saved at: {output_path}\")"
   ],
   "id": "18317f02144c210b",
   "outputs": [
    {
     "name": "stdout",
     "output_type": "stream",
     "text": [
      "dict_keys(['input_hvos', 'output_hvos', 'flat_out_hvos', 'sample_id', 'collection', 'metadata', 'qpm', 'Flat Out Vs. Input | Hits | Hamming', 'Flat Out Vs. Input | Accent | Hamming', 'Flat Out Vs. Input | Accent | Hamming Normalized', 'Flat Out Vs. Input | Accent | Jaccard', 'Stream 1 Vs. Flat Out | Hits | Jaccard Jaccard', 'Stream 2 Vs. Flat Out | Hits | Jaccard Jaccard', 'Stream 3 Vs. Flat Out | Hits | Jaccard Jaccard', 'pearson', 'cosine', 'euclidean_similarity', 'mae_similarity', 'dtw_similarity', 'Flat Out Vs. Input | Accent | Hamming (Binned)', 'Flat Out Vs. Input | Accent | Hamming Normalized (Binned)'])\n",
      "Loading datasets...\n"
     ]
    },
    {
     "name": "stderr",
     "output_type": "stream",
     "text": [
      "Datasets:   0%|          | 0/43 [00:00<?, ?it/s]"
     ]
    },
    {
     "name": "stdout",
     "output_type": "stream",
     "text": [
      "loading candombe_voice_{ix}_voice_{ix}_voice_{ix}_voice_{ix}...\n"
     ]
    },
    {
     "name": "stderr",
     "output_type": "stream",
     "text": [
      "Datasets:   2%|▏         | 1/43 [00:00<00:20,  2.09it/s]"
     ]
    },
    {
     "name": "stdout",
     "output_type": "stream",
     "text": [
      "loading elbg_both_flattened_left_right...\n"
     ]
    },
    {
     "name": "stderr",
     "output_type": "stream",
     "text": [
      "Datasets:   5%|▍         | 2/43 [00:01<00:24,  1.65it/s]"
     ]
    },
    {
     "name": "stdout",
     "output_type": "stream",
     "text": [
      "loading groove_midi_crash_hhclosed_hhopen_ride...\n"
     ]
    },
    {
     "name": "stderr",
     "output_type": "stream",
     "text": [
      "Datasets:   7%|▋         | 3/43 [00:03<01:02,  1.56s/it]"
     ]
    },
    {
     "name": "stdout",
     "output_type": "stream",
     "text": [
      "loading groove_midi_groove_high_low_mid...\n"
     ]
    },
    {
     "name": "stderr",
     "output_type": "stream",
     "text": [
      "Datasets:   9%|▉         | 4/43 [00:17<04:05,  6.29s/it]"
     ]
    },
    {
     "name": "stdout",
     "output_type": "stream",
     "text": [
      "loading groove_midi_hh_kick_snare_toms...\n"
     ]
    },
    {
     "name": "stderr",
     "output_type": "stream",
     "text": [
      "Datasets:  12%|█▏        | 5/43 [00:22<03:43,  5.89s/it]"
     ]
    },
    {
     "name": "stdout",
     "output_type": "stream",
     "text": [
      "loading groove_midi_hi_lo_mid_ride...\n"
     ]
    },
    {
     "name": "stderr",
     "output_type": "stream",
     "text": [
      "Datasets:  14%|█▍        | 6/43 [00:24<02:49,  4.58s/it]"
     ]
    },
    {
     "name": "stdout",
     "output_type": "stream",
     "text": [
      "loading lmd_bass_brass_drum_guitar...\n"
     ]
    },
    {
     "name": "stderr",
     "output_type": "stream",
     "text": [
      "Datasets:  16%|█▋        | 7/43 [00:36<04:13,  7.05s/it]"
     ]
    },
    {
     "name": "stdout",
     "output_type": "stream",
     "text": [
      "loading lmd_bass_brass_drum_percussion...\n"
     ]
    },
    {
     "name": "stderr",
     "output_type": "stream",
     "text": [
      "Datasets:  19%|█▊        | 8/43 [00:38<03:09,  5.42s/it]"
     ]
    },
    {
     "name": "stdout",
     "output_type": "stream",
     "text": [
      "loading lmd_bass_brass_drum_percussive...\n"
     ]
    },
    {
     "name": "stderr",
     "output_type": "stream",
     "text": [
      "Datasets:  21%|██        | 9/43 [00:39<02:16,  4.01s/it]"
     ]
    },
    {
     "name": "stdout",
     "output_type": "stream",
     "text": [
      "loading lmd_bass_brass_drum_piano...\n"
     ]
    },
    {
     "name": "stderr",
     "output_type": "stream",
     "text": [
      "Datasets:  23%|██▎       | 10/43 [00:50<03:23,  6.18s/it]"
     ]
    },
    {
     "name": "stdout",
     "output_type": "stream",
     "text": [
      "loading lmd_bass_brass_guitar_percussion...\n"
     ]
    },
    {
     "name": "stderr",
     "output_type": "stream",
     "text": [
      "Datasets:  28%|██▊       | 12/43 [00:51<01:38,  3.17s/it]"
     ]
    },
    {
     "name": "stdout",
     "output_type": "stream",
     "text": [
      "loading lmd_bass_brass_guitar_percussive...\n",
      "loading lmd_bass_brass_guitar_piano...\n"
     ]
    },
    {
     "name": "stderr",
     "output_type": "stream",
     "text": [
      "Datasets:  30%|███       | 13/43 [00:53<01:24,  2.81s/it]"
     ]
    },
    {
     "name": "stdout",
     "output_type": "stream",
     "text": [
      "loading lmd_bass_brass_percussion_percussive...\n",
      "loading lmd_bass_brass_percussion_piano...\n"
     ]
    },
    {
     "name": "stderr",
     "output_type": "stream",
     "text": [
      "Datasets:  35%|███▍      | 15/43 [00:53<00:44,  1.59s/it]"
     ]
    },
    {
     "name": "stdout",
     "output_type": "stream",
     "text": [
      "loading lmd_bass_brass_percussive_piano...\n",
      "loading lmd_bass_drum_guitar_percussion...\n"
     ]
    },
    {
     "name": "stderr",
     "output_type": "stream",
     "text": [
      "Datasets:  40%|███▉      | 17/43 [00:58<00:51,  1.99s/it]"
     ]
    },
    {
     "name": "stdout",
     "output_type": "stream",
     "text": [
      "loading lmd_bass_drum_guitar_percussive...\n"
     ]
    },
    {
     "name": "stderr",
     "output_type": "stream",
     "text": [
      "Datasets:  42%|████▏     | 18/43 [01:02<00:57,  2.28s/it]"
     ]
    },
    {
     "name": "stdout",
     "output_type": "stream",
     "text": [
      "loading lmd_bass_drum_guitar_piano...\n"
     ]
    },
    {
     "name": "stderr",
     "output_type": "stream",
     "text": [
      "Datasets:  44%|████▍     | 19/43 [01:50<05:21, 13.39s/it]"
     ]
    },
    {
     "name": "stdout",
     "output_type": "stream",
     "text": [
      "loading lmd_bass_drum_percussion_percussive...\n"
     ]
    },
    {
     "name": "stderr",
     "output_type": "stream",
     "text": [
      "Datasets:  47%|████▋     | 20/43 [01:53<04:08, 10.79s/it]"
     ]
    },
    {
     "name": "stdout",
     "output_type": "stream",
     "text": [
      "loading lmd_bass_drum_percussion_piano...\n"
     ]
    },
    {
     "name": "stderr",
     "output_type": "stream",
     "text": [
      "Datasets:  49%|████▉     | 21/43 [01:57<03:17,  8.98s/it]"
     ]
    },
    {
     "name": "stdout",
     "output_type": "stream",
     "text": [
      "loading lmd_bass_drum_percussive_piano...\n"
     ]
    },
    {
     "name": "stderr",
     "output_type": "stream",
     "text": [
      "Datasets:  53%|█████▎    | 23/43 [02:00<01:43,  5.16s/it]"
     ]
    },
    {
     "name": "stdout",
     "output_type": "stream",
     "text": [
      "loading lmd_bass_guitar_percussion_percussive...\n",
      "loading lmd_bass_guitar_percussion_piano...\n"
     ]
    },
    {
     "name": "stderr",
     "output_type": "stream",
     "text": [
      "Datasets:  56%|█████▌    | 24/43 [02:01<01:14,  3.93s/it]"
     ]
    },
    {
     "name": "stdout",
     "output_type": "stream",
     "text": [
      "loading lmd_bass_guitar_percussive_piano...\n"
     ]
    },
    {
     "name": "stderr",
     "output_type": "stream",
     "text": [
      "Datasets:  58%|█████▊    | 25/43 [02:01<00:52,  2.93s/it]"
     ]
    },
    {
     "name": "stdout",
     "output_type": "stream",
     "text": [
      "loading lmd_bass_percussion_percussive_piano...\n",
      "loading lmd_brass_drum_guitar_percussion...\n"
     ]
    },
    {
     "name": "stderr",
     "output_type": "stream",
     "text": [
      "Datasets:  63%|██████▎   | 27/43 [02:02<00:28,  1.79s/it]"
     ]
    },
    {
     "name": "stdout",
     "output_type": "stream",
     "text": [
      "loading lmd_brass_drum_guitar_percussive...\n"
     ]
    },
    {
     "name": "stderr",
     "output_type": "stream",
     "text": [
      "Datasets:  65%|██████▌   | 28/43 [02:03<00:22,  1.48s/it]"
     ]
    },
    {
     "name": "stdout",
     "output_type": "stream",
     "text": [
      "loading lmd_brass_drum_guitar_piano...\n"
     ]
    },
    {
     "name": "stderr",
     "output_type": "stream",
     "text": [
      "Datasets:  67%|██████▋   | 29/43 [02:08<00:34,  2.48s/it]"
     ]
    },
    {
     "name": "stdout",
     "output_type": "stream",
     "text": [
      "loading lmd_brass_drum_percussion_percussive...\n"
     ]
    },
    {
     "name": "stderr",
     "output_type": "stream",
     "text": [
      "Datasets:  70%|██████▉   | 30/43 [02:08<00:24,  1.89s/it]"
     ]
    },
    {
     "name": "stdout",
     "output_type": "stream",
     "text": [
      "loading lmd_brass_drum_percussion_piano...\n"
     ]
    },
    {
     "name": "stderr",
     "output_type": "stream",
     "text": [
      "Datasets:  72%|███████▏  | 31/43 [02:09<00:19,  1.62s/it]"
     ]
    },
    {
     "name": "stdout",
     "output_type": "stream",
     "text": [
      "loading lmd_brass_drum_percussive_piano...\n"
     ]
    },
    {
     "name": "stderr",
     "output_type": "stream",
     "text": [
      "Datasets:  79%|███████▉  | 34/43 [02:10<00:06,  1.35it/s]"
     ]
    },
    {
     "name": "stdout",
     "output_type": "stream",
     "text": [
      "loading lmd_brass_guitar_percussion_percussive...\n",
      "loading lmd_brass_guitar_percussion_piano...\n",
      "loading lmd_brass_guitar_percussive_piano...\n",
      "loading lmd_brass_percussion_percussive_piano...\n",
      "loading lmd_drum_guitar_percussion_percussive...\n"
     ]
    },
    {
     "name": "stderr",
     "output_type": "stream",
     "text": [
      "Datasets:  86%|████████▌ | 37/43 [02:10<00:02,  2.31it/s]"
     ]
    },
    {
     "name": "stdout",
     "output_type": "stream",
     "text": [
      "loading lmd_drum_guitar_percussion_piano...\n"
     ]
    },
    {
     "name": "stderr",
     "output_type": "stream",
     "text": [
      "Datasets:  88%|████████▊ | 38/43 [02:13<00:03,  1.27it/s]"
     ]
    },
    {
     "name": "stdout",
     "output_type": "stream",
     "text": [
      "loading lmd_drum_guitar_percussive_piano...\n"
     ]
    },
    {
     "name": "stderr",
     "output_type": "stream",
     "text": [
      "Datasets:  91%|█████████ | 39/43 [02:14<00:03,  1.07it/s]"
     ]
    },
    {
     "name": "stdout",
     "output_type": "stream",
     "text": [
      "loading lmd_drum_percussion_percussive_piano...\n"
     ]
    },
    {
     "name": "stderr",
     "output_type": "stream",
     "text": [
      "Datasets:  93%|█████████▎| 40/43 [02:14<00:02,  1.28it/s]"
     ]
    },
    {
     "name": "stdout",
     "output_type": "stream",
     "text": [
      "loading lmd_guitar_percussion_percussive_piano...\n",
      "loading ttd_both-is-and_both_flattened_left_right...\n"
     ]
    },
    {
     "name": "stderr",
     "output_type": "stream",
     "text": [
      "Datasets:  98%|█████████▊| 42/43 [02:15<00:00,  1.82it/s]"
     ]
    },
    {
     "name": "stdout",
     "output_type": "stream",
     "text": [
      "loading ttd_both-is-or_both_flattened_left_right...\n"
     ]
    },
    {
     "name": "stderr",
     "output_type": "stream",
     "text": [
      "Datasets: 100%|██████████| 43/43 [02:15<00:00,  3.15s/it]\n"
     ]
    },
    {
     "name": "stdout",
     "output_type": "stream",
     "text": [
      "Preparing heatmap caches...\n"
     ]
    },
    {
     "name": "stderr",
     "output_type": "stream",
     "text": [
      "Heatmaps: 100%|██████████| 43/43 [00:00<00:00, 1145.96it/s]\n"
     ]
    },
    {
     "name": "stdout",
     "output_type": "stream",
     "text": [
      "Preparing scatter data...\n"
     ]
    },
    {
     "name": "stderr",
     "output_type": "stream",
     "text": [
      "Scatter: 100%|██████████| 43/43 [00:40<00:00,  1.07it/s]\n"
     ]
    },
    {
     "name": "stdout",
     "output_type": "stream",
     "text": [
      "HTML saved at: /Users/bezha/PycharmProjects/TripleStreams/data/triple_streams/cached/CompiledUsingAccentThreshOf0.75_with_10_bins_in_0.0_0.9_percentile/analysis/plots/<Flat Out Vs. Input | Hits | Hamming>vs<Flat Out Vs. Input | Accent | Hamming (Binned)>.html\n",
      "Loading datasets...\n"
     ]
    },
    {
     "name": "stderr",
     "output_type": "stream",
     "text": [
      "Datasets:   0%|          | 0/43 [00:00<?, ?it/s]"
     ]
    },
    {
     "name": "stdout",
     "output_type": "stream",
     "text": [
      "loading candombe_voice_{ix}_voice_{ix}_voice_{ix}_voice_{ix}...\n"
     ]
    },
    {
     "name": "stderr",
     "output_type": "stream",
     "text": [
      "Datasets:   2%|▏         | 1/43 [00:00<00:24,  1.73it/s]"
     ]
    },
    {
     "name": "stdout",
     "output_type": "stream",
     "text": [
      "loading elbg_both_flattened_left_right...\n"
     ]
    },
    {
     "name": "stderr",
     "output_type": "stream",
     "text": [
      "Datasets:   5%|▍         | 2/43 [00:01<00:25,  1.60it/s]"
     ]
    },
    {
     "name": "stdout",
     "output_type": "stream",
     "text": [
      "loading groove_midi_crash_hhclosed_hhopen_ride...\n"
     ]
    },
    {
     "name": "stderr",
     "output_type": "stream",
     "text": [
      "Datasets:   7%|▋         | 3/43 [00:03<01:01,  1.54s/it]"
     ]
    },
    {
     "name": "stdout",
     "output_type": "stream",
     "text": [
      "loading groove_midi_groove_high_low_mid...\n"
     ]
    },
    {
     "name": "stderr",
     "output_type": "stream",
     "text": [
      "Datasets:   9%|▉         | 4/43 [00:17<03:58,  6.13s/it]"
     ]
    },
    {
     "name": "stdout",
     "output_type": "stream",
     "text": [
      "loading groove_midi_hh_kick_snare_toms...\n"
     ]
    },
    {
     "name": "stderr",
     "output_type": "stream",
     "text": [
      "Datasets:  12%|█▏        | 5/43 [00:22<03:38,  5.76s/it]"
     ]
    },
    {
     "name": "stdout",
     "output_type": "stream",
     "text": [
      "loading groove_midi_hi_lo_mid_ride...\n"
     ]
    },
    {
     "name": "stderr",
     "output_type": "stream",
     "text": [
      "Datasets:  14%|█▍        | 6/43 [00:24<02:46,  4.49s/it]"
     ]
    },
    {
     "name": "stdout",
     "output_type": "stream",
     "text": [
      "loading lmd_bass_brass_drum_guitar...\n"
     ]
    },
    {
     "name": "stderr",
     "output_type": "stream",
     "text": [
      "Datasets:  16%|█▋        | 7/43 [00:36<04:10,  6.95s/it]"
     ]
    },
    {
     "name": "stdout",
     "output_type": "stream",
     "text": [
      "loading lmd_bass_brass_drum_percussion...\n"
     ]
    },
    {
     "name": "stderr",
     "output_type": "stream",
     "text": [
      "Datasets:  19%|█▊        | 8/43 [00:38<03:06,  5.33s/it]"
     ]
    },
    {
     "name": "stdout",
     "output_type": "stream",
     "text": [
      "loading lmd_bass_brass_drum_percussive...\n"
     ]
    },
    {
     "name": "stderr",
     "output_type": "stream",
     "text": [
      "Datasets:  21%|██        | 9/43 [00:38<02:14,  3.95s/it]"
     ]
    },
    {
     "name": "stdout",
     "output_type": "stream",
     "text": [
      "loading lmd_bass_brass_drum_piano...\n"
     ]
    },
    {
     "name": "stderr",
     "output_type": "stream",
     "text": [
      "Datasets:  23%|██▎       | 10/43 [00:49<03:20,  6.09s/it]"
     ]
    },
    {
     "name": "stdout",
     "output_type": "stream",
     "text": [
      "loading lmd_bass_brass_guitar_percussion...\n"
     ]
    },
    {
     "name": "stderr",
     "output_type": "stream",
     "text": [
      "Datasets:  28%|██▊       | 12/43 [00:50<01:36,  3.12s/it]"
     ]
    },
    {
     "name": "stdout",
     "output_type": "stream",
     "text": [
      "loading lmd_bass_brass_guitar_percussive...\n",
      "loading lmd_bass_brass_guitar_piano...\n"
     ]
    },
    {
     "name": "stderr",
     "output_type": "stream",
     "text": [
      "Datasets:  30%|███       | 13/43 [00:52<01:22,  2.76s/it]"
     ]
    },
    {
     "name": "stdout",
     "output_type": "stream",
     "text": [
      "loading lmd_bass_brass_percussion_percussive...\n",
      "loading lmd_bass_brass_percussion_piano...\n"
     ]
    },
    {
     "name": "stderr",
     "output_type": "stream",
     "text": [
      "Datasets:  35%|███▍      | 15/43 [00:52<00:43,  1.56s/it]"
     ]
    },
    {
     "name": "stdout",
     "output_type": "stream",
     "text": [
      "loading lmd_bass_brass_percussive_piano...\n",
      "loading lmd_bass_drum_guitar_percussion...\n"
     ]
    },
    {
     "name": "stderr",
     "output_type": "stream",
     "text": [
      "Datasets:  40%|███▉      | 17/43 [00:58<00:50,  1.96s/it]"
     ]
    },
    {
     "name": "stdout",
     "output_type": "stream",
     "text": [
      "loading lmd_bass_drum_guitar_percussive...\n"
     ]
    },
    {
     "name": "stderr",
     "output_type": "stream",
     "text": [
      "Datasets:  42%|████▏     | 18/43 [01:01<00:56,  2.25s/it]"
     ]
    },
    {
     "name": "stdout",
     "output_type": "stream",
     "text": [
      "loading lmd_bass_drum_guitar_piano...\n"
     ]
    },
    {
     "name": "stderr",
     "output_type": "stream",
     "text": [
      "Datasets:  44%|████▍     | 19/43 [01:49<05:16, 13.19s/it]"
     ]
    },
    {
     "name": "stdout",
     "output_type": "stream",
     "text": [
      "loading lmd_bass_drum_percussion_percussive...\n"
     ]
    },
    {
     "name": "stderr",
     "output_type": "stream",
     "text": [
      "Datasets:  47%|████▋     | 20/43 [01:52<04:03, 10.60s/it]"
     ]
    },
    {
     "name": "stdout",
     "output_type": "stream",
     "text": [
      "loading lmd_bass_drum_percussion_piano...\n"
     ]
    },
    {
     "name": "stderr",
     "output_type": "stream",
     "text": [
      "Datasets:  49%|████▉     | 21/43 [01:56<03:14,  8.84s/it]"
     ]
    },
    {
     "name": "stdout",
     "output_type": "stream",
     "text": [
      "loading lmd_bass_drum_percussive_piano...\n"
     ]
    },
    {
     "name": "stderr",
     "output_type": "stream",
     "text": [
      "Datasets:  53%|█████▎    | 23/43 [01:58<01:41,  5.09s/it]"
     ]
    },
    {
     "name": "stdout",
     "output_type": "stream",
     "text": [
      "loading lmd_bass_guitar_percussion_percussive...\n",
      "loading lmd_bass_guitar_percussion_piano...\n"
     ]
    },
    {
     "name": "stderr",
     "output_type": "stream",
     "text": [
      "Datasets:  56%|█████▌    | 24/43 [01:59<01:13,  3.88s/it]"
     ]
    },
    {
     "name": "stdout",
     "output_type": "stream",
     "text": [
      "loading lmd_bass_guitar_percussive_piano...\n"
     ]
    },
    {
     "name": "stderr",
     "output_type": "stream",
     "text": [
      "Datasets:  58%|█████▊    | 25/43 [01:59<00:52,  2.89s/it]"
     ]
    },
    {
     "name": "stdout",
     "output_type": "stream",
     "text": [
      "loading lmd_bass_percussion_percussive_piano...\n",
      "loading lmd_brass_drum_guitar_percussion...\n"
     ]
    },
    {
     "name": "stderr",
     "output_type": "stream",
     "text": [
      "Datasets:  63%|██████▎   | 27/43 [02:00<00:28,  1.77s/it]"
     ]
    },
    {
     "name": "stdout",
     "output_type": "stream",
     "text": [
      "loading lmd_brass_drum_guitar_percussive...\n"
     ]
    },
    {
     "name": "stderr",
     "output_type": "stream",
     "text": [
      "Datasets:  65%|██████▌   | 28/43 [02:01<00:21,  1.46s/it]"
     ]
    },
    {
     "name": "stdout",
     "output_type": "stream",
     "text": [
      "loading lmd_brass_drum_guitar_piano...\n"
     ]
    },
    {
     "name": "stderr",
     "output_type": "stream",
     "text": [
      "Datasets:  67%|██████▋   | 29/43 [02:06<00:34,  2.44s/it]"
     ]
    },
    {
     "name": "stdout",
     "output_type": "stream",
     "text": [
      "loading lmd_brass_drum_percussion_percussive...\n"
     ]
    },
    {
     "name": "stderr",
     "output_type": "stream",
     "text": [
      "Datasets:  70%|██████▉   | 30/43 [02:06<00:24,  1.86s/it]"
     ]
    },
    {
     "name": "stdout",
     "output_type": "stream",
     "text": [
      "loading lmd_brass_drum_percussion_piano...\n"
     ]
    },
    {
     "name": "stderr",
     "output_type": "stream",
     "text": [
      "Datasets:  72%|███████▏  | 31/43 [02:07<00:19,  1.60s/it]"
     ]
    },
    {
     "name": "stdout",
     "output_type": "stream",
     "text": [
      "loading lmd_brass_drum_percussive_piano...\n"
     ]
    },
    {
     "name": "stderr",
     "output_type": "stream",
     "text": [
      "Datasets:  79%|███████▉  | 34/43 [02:08<00:06,  1.37it/s]"
     ]
    },
    {
     "name": "stdout",
     "output_type": "stream",
     "text": [
      "loading lmd_brass_guitar_percussion_percussive...\n",
      "loading lmd_brass_guitar_percussion_piano...\n",
      "loading lmd_brass_guitar_percussive_piano...\n",
      "loading lmd_brass_percussion_percussive_piano...\n",
      "loading lmd_drum_guitar_percussion_percussive...\n"
     ]
    },
    {
     "name": "stderr",
     "output_type": "stream",
     "text": [
      "Datasets:  86%|████████▌ | 37/43 [02:08<00:02,  2.34it/s]"
     ]
    },
    {
     "name": "stdout",
     "output_type": "stream",
     "text": [
      "loading lmd_drum_guitar_percussion_piano...\n"
     ]
    },
    {
     "name": "stderr",
     "output_type": "stream",
     "text": [
      "Datasets:  88%|████████▊ | 38/43 [02:10<00:03,  1.28it/s]"
     ]
    },
    {
     "name": "stdout",
     "output_type": "stream",
     "text": [
      "loading lmd_drum_guitar_percussive_piano...\n"
     ]
    },
    {
     "name": "stderr",
     "output_type": "stream",
     "text": [
      "Datasets:  91%|█████████ | 39/43 [02:12<00:03,  1.09it/s]"
     ]
    },
    {
     "name": "stdout",
     "output_type": "stream",
     "text": [
      "loading lmd_drum_percussion_percussive_piano...\n"
     ]
    },
    {
     "name": "stderr",
     "output_type": "stream",
     "text": [
      "Datasets:  93%|█████████▎| 40/43 [02:12<00:02,  1.30it/s]"
     ]
    },
    {
     "name": "stdout",
     "output_type": "stream",
     "text": [
      "loading lmd_guitar_percussion_percussive_piano...\n",
      "loading ttd_both-is-and_both_flattened_left_right...\n"
     ]
    },
    {
     "name": "stderr",
     "output_type": "stream",
     "text": [
      "Datasets:  98%|█████████▊| 42/43 [02:13<00:00,  1.83it/s]"
     ]
    },
    {
     "name": "stdout",
     "output_type": "stream",
     "text": [
      "loading ttd_both-is-or_both_flattened_left_right...\n"
     ]
    },
    {
     "name": "stderr",
     "output_type": "stream",
     "text": [
      "Datasets: 100%|██████████| 43/43 [02:13<00:00,  3.11s/it]\n"
     ]
    },
    {
     "name": "stdout",
     "output_type": "stream",
     "text": [
      "Preparing heatmap caches...\n"
     ]
    },
    {
     "name": "stderr",
     "output_type": "stream",
     "text": [
      "Heatmaps: 100%|██████████| 43/43 [00:00<00:00, 230.65it/s]\n"
     ]
    },
    {
     "name": "stdout",
     "output_type": "stream",
     "text": [
      "Preparing scatter data...\n"
     ]
    },
    {
     "name": "stderr",
     "output_type": "stream",
     "text": [
      "Scatter: 100%|██████████| 43/43 [00:40<00:00,  1.07it/s]\n"
     ]
    },
    {
     "name": "stdout",
     "output_type": "stream",
     "text": [
      "HTML saved at: /Users/bezha/PycharmProjects/TripleStreams/data/triple_streams/cached/CompiledUsingAccentThreshOf0.75_with_10_bins_in_0.0_0.9_percentile/analysis/plots/<Flat Out Vs. Input | Hits | Hamming>vs<Flat Out Vs. Input | Accent | Hamming Normalized (Binned)>.html\n"
     ]
    }
   ],
   "execution_count": 9
  },
  {
   "metadata": {
    "ExecuteTime": {
     "end_time": "2025-08-10T17:42:11.560823Z",
     "start_time": "2025-08-10T14:52:20.778623Z"
    }
   },
   "cell_type": "code",
   "source": "",
   "id": "ec24c423842ee0eb",
   "outputs": [],
   "execution_count": null
  },
  {
   "metadata": {
    "ExecuteTime": {
     "end_time": "2025-08-10T17:42:11.561020Z",
     "start_time": "2025-08-10T14:52:20.789959Z"
    }
   },
   "cell_type": "code",
   "source": [
    "# npz_path = \"/Users/bezha/PycharmProjects/TripleStreams/data/triple_streams/split_2bars/compiled_data/cache/hist2d__lmd_bass_brass_drum_guitar__Flat Out Vs. Input | Hits | Hamming__Flat Out Vs. Input | Accent | Jaccard__bins33x33.npz\"\n",
    "# # Load the npz file\n",
    "# import numpy as np\n",
    "# data = np.load(npz_path)\n",
    "# data"
   ],
   "id": "f5a1fdc55d5fc9ee",
   "outputs": [],
   "execution_count": 7
  },
  {
   "metadata": {
    "ExecuteTime": {
     "end_time": "2025-08-10T17:42:11.561116Z",
     "start_time": "2025-08-10T14:52:20.814448Z"
    }
   },
   "cell_type": "code",
   "source": [
    "# data_ = load_compiled_dataset_pkl_bz2(\"data/triple_streams/split_2bars/compiled_data/accentThresh0.75/ttd_both-is-and_both_flattened_left_right_Accent_thresh.pkl.bz2\")\n",
    "# create_heatmap_histogram_from_lists(\n",
    "#     feat1=data_[feat1],\n",
    "#     feat2=data_[feat2],\n",
    "# )"
   ],
   "id": "7680dd3796342400",
   "outputs": [],
   "execution_count": 8
  },
  {
   "metadata": {
    "ExecuteTime": {
     "end_time": "2025-08-10T17:42:11.561198Z",
     "start_time": "2025-08-10T14:52:20.832532Z"
    }
   },
   "cell_type": "code",
   "source": [
    "# sample_ix = 100 # for each sample 24 variations\n",
    "# input_hvos = loaded_datasets[\"input_hvos\"][sample_ix*24: ((sample_ix+1)*24)]\n",
    "# output_hvos = loaded_datasets[\"output_hvos\"][sample_ix*24: ((sample_ix+1)*24)]\n",
    "# metadatas = loaded_datasets[\"metadata\"][sample_ix*24: ((sample_ix+1)*24)]\n",
    "# print(len(input_hvos), len(output_hvos), len(metadatas))\n",
    "# print(loaded_datasets[\"Flat Out Vs. Input | Hits | Hamming\"][sample_ix*24: ((sample_ix+1)*24)])\n",
    "# print(loaded_datasets[\"Flat Out Vs. Input | Accent | Jaccard\"][sample_ix*24: ((sample_ix+1)*24)])\n",
    "# print(loaded_datasets[\"OS1_OF Jaccard\"][sample_ix*24: ((sample_ix+1)*24)])\n",
    "# print(loaded_datasets[\"OS2_OF Jaccard\"][sample_ix*24: ((sample_ix+1)*24)])\n",
    "# print(loaded_datasets[\"OS3_OF Jaccard\"][sample_ix*24: ((sample_ix+1)*24)])\n",
    "# create_multitab_from_HVO_Sequences(compile_into_list_of_hvo_seqs(input_hvos, output_hvos, metadatas, qpms=None))"
   ],
   "id": "c3ad81e20751ef26",
   "outputs": [],
   "execution_count": 9
  },
  {
   "metadata": {
    "ExecuteTime": {
     "end_time": "2025-08-10T17:42:11.561272Z",
     "start_time": "2025-08-10T14:52:20.841817Z"
    }
   },
   "cell_type": "code",
   "source": "",
   "id": "17961de07ccf60b",
   "outputs": [],
   "execution_count": null
  },
  {
   "metadata": {
    "ExecuteTime": {
     "end_time": "2025-08-10T17:42:11.561345Z",
     "start_time": "2025-08-10T14:52:20.849749Z"
    }
   },
   "cell_type": "code",
   "source": "",
   "id": "fbde4bf6323b1e78",
   "outputs": [],
   "execution_count": null
  },
  {
   "metadata": {
    "ExecuteTime": {
     "end_time": "2025-08-10T17:42:11.561410Z",
     "start_time": "2025-08-10T14:52:20.859238Z"
    }
   },
   "cell_type": "code",
   "source": "",
   "id": "c39b4365cc990805",
   "outputs": [],
   "execution_count": null
  },
  {
   "metadata": {
    "ExecuteTime": {
     "end_time": "2025-08-10T17:42:11.561472Z",
     "start_time": "2025-08-10T14:52:20.866717Z"
    }
   },
   "cell_type": "code",
   "source": "",
   "id": "5c3c0d130ab95481",
   "outputs": [],
   "execution_count": null
  },
  {
   "metadata": {
    "ExecuteTime": {
     "end_time": "2025-08-10T17:42:11.561551Z",
     "start_time": "2025-08-10T14:52:20.874163Z"
    }
   },
   "cell_type": "code",
   "source": "",
   "id": "7afc2dac598ae4b",
   "outputs": [],
   "execution_count": null
  },
  {
   "metadata": {
    "ExecuteTime": {
     "end_time": "2025-08-10T17:42:11.561619Z",
     "start_time": "2025-08-10T14:52:20.882011Z"
    }
   },
   "cell_type": "code",
   "source": "",
   "id": "5bd5747dc5160217",
   "outputs": [],
   "execution_count": null
  },
  {
   "metadata": {
    "ExecuteTime": {
     "end_time": "2025-08-10T17:42:11.561690Z",
     "start_time": "2025-08-10T14:52:20.890005Z"
    }
   },
   "cell_type": "code",
   "source": "",
   "id": "c360a82a1aa7324a",
   "outputs": [],
   "execution_count": null
  }
 ],
 "metadata": {
  "kernelspec": {
   "display_name": "Python TripleStreams",
   "language": "python",
   "name": "triplestreams"
  },
  "language_info": {
   "codemirror_mode": {
    "name": "ipython",
    "version": 3
   },
   "file_extension": ".py",
   "mimetype": "text/x-python",
   "name": "python",
   "nbconvert_exporter": "python",
   "pygments_lexer": "ipython3",
   "version": "3.9.23"
  }
 },
 "nbformat": 4,
 "nbformat_minor": 5
}
