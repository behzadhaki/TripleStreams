{
 "cells": [
  {
   "cell_type": "code",
   "id": "e10086094576695c",
   "metadata": {
    "ExecuteTime": {
     "end_time": "2025-08-10T17:42:25.438269Z",
     "start_time": "2025-08-10T17:42:23.926622Z"
    }
   },
   "source": [
    "from triple_stream_data_utils import plot_scatter_distribution, create_heatmap_histogram_from_lists\n",
    "from tripleStreamsDataloaderUtils import load_compiled_dataset_pkl_bz2"
   ],
   "outputs": [
    {
     "name": "stderr",
     "output_type": "stream",
     "text": [
      "Could not import fluidsynth. AUDIO rendering will not work.\n",
      "/Users/bezha/anaconda3/envs/TripleStreams/lib/python3.9/site-packages/tqdm/auto.py:21: TqdmWarning: IProgress not found. Please update jupyter and ipywidgets. See https://ipywidgets.readthedocs.io/en/stable/user_install.html\n",
      "  from .autonotebook import tqdm as notebook_tqdm\n"
     ]
    }
   ],
   "execution_count": 1
  },
  {
   "cell_type": "code",
   "id": "351eacd47726cfbe",
   "metadata": {
    "ExecuteTime": {
     "end_time": "2025-08-10T17:49:18.170091Z",
     "start_time": "2025-08-10T17:42:25.442009Z"
    }
   },
   "source": [
    "# Make sure you've already ran python CompileStreamsAndFeatures.py\n",
    "import os\n",
    "accentThresh = 0.75\n",
    "\n",
    "root_path = f\"data/triple_streams/cached/CompiledUsingAccentThreshOf{accentThresh}/\"\n",
    "all_pkl_bz2_files = [f for f in os.listdir(root_path) if f.endswith('.pkl.bz2')]\n",
    "\n",
    "# Available Datasets\n",
    "available_datasets_path = {\n",
    "    all_pkl_bz2_file.split(\".pkl.bz2\")[0]: os.path.join(root_path, all_pkl_bz2_file) for all_pkl_bz2_file in all_pkl_bz2_files\n",
    "}\n",
    "\n",
    "# Generate Individual Plots (Not Normalized)\n",
    "from make_triple_stream_plots import build_plots\n",
    "\n",
    "feat1 = \"Flat Out Vs. Input | Hits | Hamming\"\n",
    "feat2 = \"Flat Out Vs. Input | Accent | Hamming\"\n",
    "\n",
    "root_path = f\"data/triple_streams/cached/CompiledUsingAccentThreshOf{accentThresh}/\"\n",
    "os.makedirs(os.path.join(root_path, \"analysis\"), exist_ok=True)\n",
    "os.makedirs(os.path.join(root_path, \"analysis/plots\"), exist_ok=True)\n",
    "\n",
    "# dataset_tags = [\"lmd_bass_brass_guitar_percussive\", \"elbg_both_flattened_left_right\"]\n",
    "\n",
    "dataset_tags = [path.split(\"/\")[-1].split(\".pkl.bz2\")[0] for path in sorted(available_datasets_path)]\n",
    "# find all pkl.bz2 files in the root_path\n",
    "\n",
    "output_path = build_plots(\n",
    "    root=root_path,\n",
    "    dataset_tags=dataset_tags,\n",
    "    feature1=feat1,\n",
    "    feature2=feat2,\n",
    "    n_bins_feat1=None,\n",
    "    n_bins_feat2=10,\n",
    "    scatter_max_points=100000,\n",
    "    output_html_path=os.path.join(os.path.join(root_path, \"analysis/plots\"), f\"<{feat1}>vs<{feat2}>.html\"),\n",
    "    force_recalc=False,\n",
    ")\n",
    "\n",
    "print(f\"HTML saved at: {output_path}\")\n",
    "\n",
    "# Generate Individual Plots (Normalized)\n",
    "from make_triple_stream_plots import build_plots\n",
    "\n",
    "feat1 = \"Flat Out Vs. Input | Hits | Hamming\"\n",
    "feat2 = \"Flat Out Vs. Input | Accent | Hamming Normalized\"\n",
    "\n",
    "\n",
    "# dataset_tags = [\"lmd_bass_brass_guitar_percussive\", \"elbg_both_flattened_left_right\"]\n",
    "\n",
    "dataset_tags = [path.split(\"/\")[-1].split(\".pkl.bz2\")[0] for path in sorted(available_datasets_path)]\n",
    "# find all pkl.bz2 files in the root_path\n",
    "\n",
    "output_path = build_plots(\n",
    "    root=root_path,\n",
    "    dataset_tags=dataset_tags,\n",
    "    feature1=feat1,\n",
    "    feature2=feat2,\n",
    "    n_bins_feat1=None,\n",
    "    n_bins_feat2=10,\n",
    "    scatter_max_points=100000,\n",
    "    output_html_path=os.path.join(os.path.join(root_path, \"analysis/plots\"), f\"<{feat1}>vs<{feat2}>.html\"),\n",
    "    force_recalc=False,\n",
    ")\n",
    "\n",
    "print(f\"HTML saved at: {output_path}\")"
   ],
   "outputs": [
    {
     "name": "stdout",
     "output_type": "stream",
     "text": [
      "Loading datasets...\n"
     ]
    },
    {
     "name": "stderr",
     "output_type": "stream",
     "text": [
      "Datasets: 100%|██████████| 43/43 [02:05<00:00,  2.92s/it]\n"
     ]
    },
    {
     "name": "stdout",
     "output_type": "stream",
     "text": [
      "Preparing heatmap caches...\n"
     ]
    },
    {
     "name": "stderr",
     "output_type": "stream",
     "text": [
      "Heatmaps: 100%|██████████| 43/43 [00:00<00:00, 578.24it/s]\n"
     ]
    },
    {
     "name": "stdout",
     "output_type": "stream",
     "text": [
      "Preparing scatter data...\n"
     ]
    },
    {
     "name": "stderr",
     "output_type": "stream",
     "text": [
      "Scatter: 100%|██████████| 43/43 [00:38<00:00,  1.12it/s]\n"
     ]
    },
    {
     "name": "stdout",
     "output_type": "stream",
     "text": [
      "HTML saved at: /Users/bezha/PycharmProjects/TripleStreams/data/triple_streams/cached/CompiledUsingAccentThreshOf0.75/analysis/plots/<Flat Out Vs. Input | Hits | Hamming>vs<Flat Out Vs. Input | Accent | Hamming>.html\n",
      "Loading datasets...\n"
     ]
    },
    {
     "name": "stderr",
     "output_type": "stream",
     "text": [
      "Datasets: 100%|██████████| 43/43 [02:03<00:00,  2.87s/it]\n"
     ]
    },
    {
     "name": "stdout",
     "output_type": "stream",
     "text": [
      "Preparing heatmap caches...\n"
     ]
    },
    {
     "name": "stderr",
     "output_type": "stream",
     "text": [
      "Heatmaps: 100%|██████████| 43/43 [00:00<00:00, 140.28it/s]\n"
     ]
    },
    {
     "name": "stdout",
     "output_type": "stream",
     "text": [
      "Preparing scatter data...\n"
     ]
    },
    {
     "name": "stderr",
     "output_type": "stream",
     "text": [
      "Scatter: 100%|██████████| 43/43 [00:37<00:00,  1.14it/s]\n"
     ]
    },
    {
     "name": "stdout",
     "output_type": "stream",
     "text": [
      "HTML saved at: /Users/bezha/PycharmProjects/TripleStreams/data/triple_streams/cached/CompiledUsingAccentThreshOf0.75/analysis/plots/<Flat Out Vs. Input | Hits | Hamming>vs<Flat Out Vs. Input | Accent | Hamming Normalized>.html\n"
     ]
    }
   ],
   "execution_count": 2
  },
  {
   "metadata": {
    "ExecuteTime": {
     "end_time": "2025-08-10T17:49:18.882607Z",
     "start_time": "2025-08-10T17:49:18.221649Z"
    }
   },
   "cell_type": "code",
   "source": [
    "# Make sure you've already ran python CompileStreamsAndFeatures.py\n",
    "import os\n",
    "accentThresh = 0.75\n",
    "n_bins = 10\n",
    "l_percentile = 0.0\n",
    "h_percentile = 0.9\n",
    "\n",
    "root_path = f\"data/triple_streams/cached/CompiledUsingAccentThreshOf{accentThresh}_with_{n_bins}_bins_in_{l_percentile}_{h_percentile}_percentile/\"\n",
    "all_pkl_bz2_files = [f for f in os.listdir(root_path) if f.endswith('.pkl.bz2')]\n",
    "\n",
    "# Available Datasets\n",
    "available_datasets_path = {\n",
    "    all_pkl_bz2_file.split(\".pkl.bz2\")[0]: os.path.join(root_path, all_pkl_bz2_file) for all_pkl_bz2_file in all_pkl_bz2_files\n",
    "}\n",
    "\n",
    "\n",
    "# Generate Individual Plots ( Binned Not Normalized)\n",
    "from make_triple_stream_plots import build_plots\n",
    "\n",
    "feat1 = \"Flat Out Vs. Input | Hits | Hamming\"\n",
    "feat2 = \"Flat Out Vs. Input | Accent | Hamming (Binned)\"\n",
    "\n",
    "\n",
    "# dataset_tags = [\"lmd_bass_brass_guitar_percussive\", \"elbg_both_flattened_left_right\"]\n",
    "\n",
    "dataset_tags = [path.split(\"/\")[-1].split(\".pkl.bz2\")[0] for path in sorted(available_datasets_path)]\n",
    "# find all pkl.bz2 files in the root_path\n",
    "\n",
    "output_path = build_plots(\n",
    "    root=root_path,\n",
    "    dataset_tags=dataset_tags,\n",
    "    feature1=feat1,\n",
    "    feature2=feat2,\n",
    "    n_bins_feat1=None,\n",
    "    n_bins_feat2=10,\n",
    "    scatter_max_points=100000,\n",
    "    output_html_path=os.path.join(os.path.join(root_path, \"analysis/plots\"), f\"<{feat1}>vs<{feat2}>.html\"),\n",
    "    force_recalc=False,\n",
    ")\n",
    "\n",
    "print(f\"HTML saved at: {output_path}\")\n",
    "\n",
    "# Generate Individual Plots ( Binned Normalized)\n",
    "from make_triple_stream_plots import build_plots\n",
    "\n",
    "os.makedirs(os.path.join(root_path, \"analysis\"), exist_ok=True)\n",
    "os.makedirs(os.path.join(root_path, \"analysis/plots\"), exist_ok=True)\n",
    "\n",
    "feat1 = \"Flat Out Vs. Input | Hits | Hamming\"\n",
    "feat2 = \"Flat Out Vs. Input | Accent | Hamming Normalized (Binned)\"\n",
    "\n",
    "\n",
    "os.makedirs(os.path.join(root_path, \"plots\"), exist_ok=True)\n",
    "# dataset_tags = [\"lmd_bass_brass_guitar_percussive\", \"elbg_both_flattened_left_right\"]\n",
    "\n",
    "dataset_tags = [path.split(\"/\")[-1].split(\".pkl.bz2\")[0] for path in sorted(available_datasets_path)]\n",
    "# find all pkl.bz2 files in the root_path\n",
    "\n",
    "output_path = build_plots(\n",
    "    root=root_path,\n",
    "    dataset_tags=dataset_tags,\n",
    "    feature1=feat1,\n",
    "    feature2=feat2,\n",
    "    n_bins_feat1=None,\n",
    "    n_bins_feat2=10,\n",
    "    scatter_max_points=100000,\n",
    "    output_html_path=os.path.join(os.path.join(root_path, \"analysis/plots\"), f\"<{feat1}>vs<{feat2}>.html\"),\n",
    "    force_recalc=False,\n",
    ")\n",
    "\n",
    "print(f\"HTML saved at: {output_path}\")"
   ],
   "id": "18317f02144c210b",
   "outputs": [
    {
     "name": "stdout",
     "output_type": "stream",
     "text": [
      "Loading datasets...\n"
     ]
    },
    {
     "name": "stderr",
     "output_type": "stream",
     "text": [
      "Datasets:   0%|          | 0/45 [00:00<?, ?it/s]\n"
     ]
    },
    {
     "ename": "ValueError",
     "evalue": "could not convert string to float: 'bin_0'",
     "output_type": "error",
     "traceback": [
      "\u001B[0;31m---------------------------------------------------------------------------\u001B[0m",
      "\u001B[0;31mValueError\u001B[0m                                Traceback (most recent call last)",
      "Cell \u001B[0;32mIn[3], line 29\u001B[0m\n\u001B[1;32m     26\u001B[0m dataset_tags \u001B[38;5;241m=\u001B[39m [path\u001B[38;5;241m.\u001B[39msplit(\u001B[38;5;124m\"\u001B[39m\u001B[38;5;124m/\u001B[39m\u001B[38;5;124m\"\u001B[39m)[\u001B[38;5;241m-\u001B[39m\u001B[38;5;241m1\u001B[39m]\u001B[38;5;241m.\u001B[39msplit(\u001B[38;5;124m\"\u001B[39m\u001B[38;5;124m.pkl.bz2\u001B[39m\u001B[38;5;124m\"\u001B[39m)[\u001B[38;5;241m0\u001B[39m] \u001B[38;5;28;01mfor\u001B[39;00m path \u001B[38;5;129;01min\u001B[39;00m \u001B[38;5;28msorted\u001B[39m(available_datasets_path)]\n\u001B[1;32m     27\u001B[0m \u001B[38;5;66;03m# find all pkl.bz2 files in the root_path\u001B[39;00m\n\u001B[0;32m---> 29\u001B[0m output_path \u001B[38;5;241m=\u001B[39m \u001B[43mbuild_plots\u001B[49m\u001B[43m(\u001B[49m\n\u001B[1;32m     30\u001B[0m \u001B[43m    \u001B[49m\u001B[43mroot\u001B[49m\u001B[38;5;241;43m=\u001B[39;49m\u001B[43mroot_path\u001B[49m\u001B[43m,\u001B[49m\n\u001B[1;32m     31\u001B[0m \u001B[43m    \u001B[49m\u001B[43mdataset_tags\u001B[49m\u001B[38;5;241;43m=\u001B[39;49m\u001B[43mdataset_tags\u001B[49m\u001B[43m,\u001B[49m\n\u001B[1;32m     32\u001B[0m \u001B[43m    \u001B[49m\u001B[43mfeature1\u001B[49m\u001B[38;5;241;43m=\u001B[39;49m\u001B[43mfeat1\u001B[49m\u001B[43m,\u001B[49m\n\u001B[1;32m     33\u001B[0m \u001B[43m    \u001B[49m\u001B[43mfeature2\u001B[49m\u001B[38;5;241;43m=\u001B[39;49m\u001B[43mfeat2\u001B[49m\u001B[43m,\u001B[49m\n\u001B[1;32m     34\u001B[0m \u001B[43m    \u001B[49m\u001B[43mn_bins_feat1\u001B[49m\u001B[38;5;241;43m=\u001B[39;49m\u001B[38;5;28;43;01mNone\u001B[39;49;00m\u001B[43m,\u001B[49m\n\u001B[1;32m     35\u001B[0m \u001B[43m    \u001B[49m\u001B[43mn_bins_feat2\u001B[49m\u001B[38;5;241;43m=\u001B[39;49m\u001B[38;5;241;43m10\u001B[39;49m\u001B[43m,\u001B[49m\n\u001B[1;32m     36\u001B[0m \u001B[43m    \u001B[49m\u001B[43mscatter_max_points\u001B[49m\u001B[38;5;241;43m=\u001B[39;49m\u001B[38;5;241;43m100000\u001B[39;49m\u001B[43m,\u001B[49m\n\u001B[1;32m     37\u001B[0m \u001B[43m    \u001B[49m\u001B[43moutput_html_path\u001B[49m\u001B[38;5;241;43m=\u001B[39;49m\u001B[43mos\u001B[49m\u001B[38;5;241;43m.\u001B[39;49m\u001B[43mpath\u001B[49m\u001B[38;5;241;43m.\u001B[39;49m\u001B[43mjoin\u001B[49m\u001B[43m(\u001B[49m\u001B[43mos\u001B[49m\u001B[38;5;241;43m.\u001B[39;49m\u001B[43mpath\u001B[49m\u001B[38;5;241;43m.\u001B[39;49m\u001B[43mjoin\u001B[49m\u001B[43m(\u001B[49m\u001B[43mroot_path\u001B[49m\u001B[43m,\u001B[49m\u001B[43m \u001B[49m\u001B[38;5;124;43m\"\u001B[39;49m\u001B[38;5;124;43manalysis/plots\u001B[39;49m\u001B[38;5;124;43m\"\u001B[39;49m\u001B[43m)\u001B[49m\u001B[43m,\u001B[49m\u001B[43m \u001B[49m\u001B[38;5;124;43mf\u001B[39;49m\u001B[38;5;124;43m\"\u001B[39;49m\u001B[38;5;124;43m<\u001B[39;49m\u001B[38;5;132;43;01m{\u001B[39;49;00m\u001B[43mfeat1\u001B[49m\u001B[38;5;132;43;01m}\u001B[39;49;00m\u001B[38;5;124;43m>vs<\u001B[39;49m\u001B[38;5;132;43;01m{\u001B[39;49;00m\u001B[43mfeat2\u001B[49m\u001B[38;5;132;43;01m}\u001B[39;49;00m\u001B[38;5;124;43m>.html\u001B[39;49m\u001B[38;5;124;43m\"\u001B[39;49m\u001B[43m)\u001B[49m\u001B[43m,\u001B[49m\n\u001B[1;32m     38\u001B[0m \u001B[43m    \u001B[49m\u001B[43mforce_recalc\u001B[49m\u001B[38;5;241;43m=\u001B[39;49m\u001B[38;5;28;43;01mFalse\u001B[39;49;00m\u001B[43m,\u001B[49m\n\u001B[1;32m     39\u001B[0m \u001B[43m)\u001B[49m\n\u001B[1;32m     41\u001B[0m \u001B[38;5;28mprint\u001B[39m(\u001B[38;5;124mf\u001B[39m\u001B[38;5;124m\"\u001B[39m\u001B[38;5;124mHTML saved at: \u001B[39m\u001B[38;5;132;01m{\u001B[39;00moutput_path\u001B[38;5;132;01m}\u001B[39;00m\u001B[38;5;124m\"\u001B[39m)\n\u001B[1;32m     43\u001B[0m \u001B[38;5;66;03m# Generate Individual Plots ( Binned Normalized)\u001B[39;00m\n",
      "File \u001B[0;32m~/PycharmProjects/TripleStreams/make_triple_stream_plots.py:528\u001B[0m, in \u001B[0;36mbuild_plots\u001B[0;34m(root, dataset_tags, feature1, feature2, n_bins_feat1, n_bins_feat2, scatter_max_points, output_html_path, force_recalc)\u001B[0m\n\u001B[1;32m    519\u001B[0m \u001B[38;5;28;01mdef\u001B[39;00m\u001B[38;5;250m \u001B[39m\u001B[38;5;21mbuild_plots\u001B[39m(root: \u001B[38;5;28mstr\u001B[39m,\n\u001B[1;32m    520\u001B[0m                 dataset_tags: List[\u001B[38;5;28mstr\u001B[39m],\n\u001B[1;32m    521\u001B[0m                 feature1: \u001B[38;5;28mstr\u001B[39m,\n\u001B[0;32m   (...)\u001B[0m\n\u001B[1;32m    526\u001B[0m                 output_html_path: \u001B[38;5;28mstr\u001B[39m \u001B[38;5;241m=\u001B[39m \u001B[38;5;124m\"\u001B[39m\u001B[38;5;124mtriple_stream_plots.html\u001B[39m\u001B[38;5;124m\"\u001B[39m,\n\u001B[1;32m    527\u001B[0m                 force_recalc: \u001B[38;5;28mbool\u001B[39m \u001B[38;5;241m=\u001B[39m \u001B[38;5;28;01mFalse\u001B[39;00m) \u001B[38;5;241m-\u001B[39m\u001B[38;5;241m>\u001B[39m \u001B[38;5;28mstr\u001B[39m:\n\u001B[0;32m--> 528\u001B[0m     layout \u001B[38;5;241m=\u001B[39m \u001B[43mbuild_layout\u001B[49m\u001B[43m(\u001B[49m\u001B[43mroot\u001B[49m\u001B[43m,\u001B[49m\u001B[43m \u001B[49m\u001B[43mdataset_tags\u001B[49m\u001B[43m,\u001B[49m\u001B[43m \u001B[49m\u001B[43mfeature1\u001B[49m\u001B[43m,\u001B[49m\u001B[43m \u001B[49m\u001B[43mfeature2\u001B[49m\u001B[43m,\u001B[49m\n\u001B[1;32m    529\u001B[0m \u001B[43m                          \u001B[49m\u001B[43mn_bins_feat1\u001B[49m\u001B[38;5;241;43m=\u001B[39;49m\u001B[43mn_bins_feat1\u001B[49m\u001B[43m,\u001B[49m\u001B[43m \u001B[49m\u001B[43mn_bins_feat2\u001B[49m\u001B[38;5;241;43m=\u001B[39;49m\u001B[43mn_bins_feat2\u001B[49m\u001B[43m,\u001B[49m\n\u001B[1;32m    530\u001B[0m \u001B[43m                          \u001B[49m\u001B[43mscatter_max_points\u001B[49m\u001B[38;5;241;43m=\u001B[39;49m\u001B[43mscatter_max_points\u001B[49m\u001B[43m,\u001B[49m\n\u001B[1;32m    531\u001B[0m \u001B[43m                          \u001B[49m\u001B[43mforce_recalc\u001B[49m\u001B[38;5;241;43m=\u001B[39;49m\u001B[43mforce_recalc\u001B[49m\u001B[43m)\u001B[49m\n\u001B[1;32m    532\u001B[0m     output_file(output_html_path, title\u001B[38;5;241m=\u001B[39m\u001B[38;5;124mf\u001B[39m\u001B[38;5;124m\"\u001B[39m\u001B[38;5;124mFeature Plots: \u001B[39m\u001B[38;5;132;01m{\u001B[39;00mfeature1\u001B[38;5;132;01m}\u001B[39;00m\u001B[38;5;124m vs \u001B[39m\u001B[38;5;132;01m{\u001B[39;00mfeature2\u001B[38;5;132;01m}\u001B[39;00m\u001B[38;5;124m\"\u001B[39m)\n\u001B[1;32m    533\u001B[0m     save(layout)\n",
      "File \u001B[0;32m~/PycharmProjects/TripleStreams/make_triple_stream_plots.py:254\u001B[0m, in \u001B[0;36mbuild_layout\u001B[0;34m(root, dataset_tags, feature1, feature2, n_bins_feat1, n_bins_feat2, scatter_max_points, force_recalc)\u001B[0m\n\u001B[1;32m    251\u001B[0m     \u001B[38;5;28;01mraise\u001B[39;00m \u001B[38;5;167;01mKeyError\u001B[39;00m(\u001B[38;5;124mf\u001B[39m\u001B[38;5;124m\"\u001B[39m\u001B[38;5;124mFeatures \u001B[39m\u001B[38;5;124m'\u001B[39m\u001B[38;5;132;01m{\u001B[39;00mfeature1\u001B[38;5;132;01m}\u001B[39;00m\u001B[38;5;124m'\u001B[39m\u001B[38;5;124m and/or \u001B[39m\u001B[38;5;124m'\u001B[39m\u001B[38;5;132;01m{\u001B[39;00mfeature2\u001B[38;5;132;01m}\u001B[39;00m\u001B[38;5;124m'\u001B[39m\u001B[38;5;124m not found in dataset \u001B[39m\u001B[38;5;124m'\u001B[39m\u001B[38;5;132;01m{\u001B[39;00mtag\u001B[38;5;132;01m}\u001B[39;00m\u001B[38;5;124m'\u001B[39m\u001B[38;5;124m.\u001B[39m\u001B[38;5;124m\"\u001B[39m)\n\u001B[1;32m    253\u001B[0m x \u001B[38;5;241m=\u001B[39m np\u001B[38;5;241m.\u001B[39masarray(d_dict[feature1], dtype\u001B[38;5;241m=\u001B[39m\u001B[38;5;28mfloat\u001B[39m)\n\u001B[0;32m--> 254\u001B[0m y \u001B[38;5;241m=\u001B[39m \u001B[43mnp\u001B[49m\u001B[38;5;241;43m.\u001B[39;49m\u001B[43masarray\u001B[49m\u001B[43m(\u001B[49m\u001B[43md_dict\u001B[49m\u001B[43m[\u001B[49m\u001B[43mfeature2\u001B[49m\u001B[43m]\u001B[49m\u001B[43m,\u001B[49m\u001B[43m \u001B[49m\u001B[43mdtype\u001B[49m\u001B[38;5;241;43m=\u001B[39;49m\u001B[38;5;28;43mfloat\u001B[39;49m\u001B[43m)\u001B[49m\n\u001B[1;32m    255\u001B[0m x \u001B[38;5;241m=\u001B[39m np\u001B[38;5;241m.\u001B[39mconcatenate([np\u001B[38;5;241m.\u001B[39mravel(v) \u001B[38;5;28;01mfor\u001B[39;00m v \u001B[38;5;129;01min\u001B[39;00m x]) \u001B[38;5;28;01mif\u001B[39;00m x\u001B[38;5;241m.\u001B[39mdtype \u001B[38;5;241m==\u001B[39m \u001B[38;5;28mobject\u001B[39m \u001B[38;5;28;01melse\u001B[39;00m np\u001B[38;5;241m.\u001B[39mravel(x)\n\u001B[1;32m    256\u001B[0m y \u001B[38;5;241m=\u001B[39m np\u001B[38;5;241m.\u001B[39mconcatenate([np\u001B[38;5;241m.\u001B[39mravel(v) \u001B[38;5;28;01mfor\u001B[39;00m v \u001B[38;5;129;01min\u001B[39;00m y]) \u001B[38;5;28;01mif\u001B[39;00m y\u001B[38;5;241m.\u001B[39mdtype \u001B[38;5;241m==\u001B[39m \u001B[38;5;28mobject\u001B[39m \u001B[38;5;28;01melse\u001B[39;00m np\u001B[38;5;241m.\u001B[39mravel(y)\n",
      "\u001B[0;31mValueError\u001B[0m: could not convert string to float: 'bin_0'"
     ]
    }
   ],
   "execution_count": 3
  },
  {
   "metadata": {
    "ExecuteTime": {
     "end_time": "2025-08-10T17:42:11.560823Z",
     "start_time": "2025-08-10T14:52:20.778623Z"
    }
   },
   "cell_type": "code",
   "source": "",
   "id": "ec24c423842ee0eb",
   "outputs": [],
   "execution_count": null
  },
  {
   "metadata": {
    "ExecuteTime": {
     "end_time": "2025-08-10T17:42:11.561020Z",
     "start_time": "2025-08-10T14:52:20.789959Z"
    }
   },
   "cell_type": "code",
   "source": [
    "# npz_path = \"/Users/bezha/PycharmProjects/TripleStreams/data/triple_streams/split_2bars/compiled_data/cache/hist2d__lmd_bass_brass_drum_guitar__Flat Out Vs. Input | Hits | Hamming__Flat Out Vs. Input | Accent | Jaccard__bins33x33.npz\"\n",
    "# # Load the npz file\n",
    "# import numpy as np\n",
    "# data = np.load(npz_path)\n",
    "# data"
   ],
   "id": "f5a1fdc55d5fc9ee",
   "outputs": [],
   "execution_count": 7
  },
  {
   "metadata": {
    "ExecuteTime": {
     "end_time": "2025-08-10T17:42:11.561116Z",
     "start_time": "2025-08-10T14:52:20.814448Z"
    }
   },
   "cell_type": "code",
   "source": [
    "# data_ = load_compiled_dataset_pkl_bz2(\"data/triple_streams/split_2bars/compiled_data/accentThresh0.75/ttd_both-is-and_both_flattened_left_right_Accent_thresh.pkl.bz2\")\n",
    "# create_heatmap_histogram_from_lists(\n",
    "#     feat1=data_[feat1],\n",
    "#     feat2=data_[feat2],\n",
    "# )"
   ],
   "id": "7680dd3796342400",
   "outputs": [],
   "execution_count": 8
  },
  {
   "metadata": {
    "ExecuteTime": {
     "end_time": "2025-08-10T17:42:11.561198Z",
     "start_time": "2025-08-10T14:52:20.832532Z"
    }
   },
   "cell_type": "code",
   "source": [
    "# sample_ix = 100 # for each sample 24 variations\n",
    "# input_hvos = loaded_datasets[\"input_hvos\"][sample_ix*24: ((sample_ix+1)*24)]\n",
    "# output_hvos = loaded_datasets[\"output_hvos\"][sample_ix*24: ((sample_ix+1)*24)]\n",
    "# metadatas = loaded_datasets[\"metadata\"][sample_ix*24: ((sample_ix+1)*24)]\n",
    "# print(len(input_hvos), len(output_hvos), len(metadatas))\n",
    "# print(loaded_datasets[\"Flat Out Vs. Input | Hits | Hamming\"][sample_ix*24: ((sample_ix+1)*24)])\n",
    "# print(loaded_datasets[\"Flat Out Vs. Input | Accent | Jaccard\"][sample_ix*24: ((sample_ix+1)*24)])\n",
    "# print(loaded_datasets[\"OS1_OF Jaccard\"][sample_ix*24: ((sample_ix+1)*24)])\n",
    "# print(loaded_datasets[\"OS2_OF Jaccard\"][sample_ix*24: ((sample_ix+1)*24)])\n",
    "# print(loaded_datasets[\"OS3_OF Jaccard\"][sample_ix*24: ((sample_ix+1)*24)])\n",
    "# create_multitab_from_HVO_Sequences(compile_into_list_of_hvo_seqs(input_hvos, output_hvos, metadatas, qpms=None))"
   ],
   "id": "c3ad81e20751ef26",
   "outputs": [],
   "execution_count": 9
  },
  {
   "metadata": {
    "ExecuteTime": {
     "end_time": "2025-08-10T17:42:11.561272Z",
     "start_time": "2025-08-10T14:52:20.841817Z"
    }
   },
   "cell_type": "code",
   "source": "",
   "id": "17961de07ccf60b",
   "outputs": [],
   "execution_count": null
  },
  {
   "metadata": {
    "ExecuteTime": {
     "end_time": "2025-08-10T17:42:11.561345Z",
     "start_time": "2025-08-10T14:52:20.849749Z"
    }
   },
   "cell_type": "code",
   "source": "",
   "id": "fbde4bf6323b1e78",
   "outputs": [],
   "execution_count": null
  },
  {
   "metadata": {
    "ExecuteTime": {
     "end_time": "2025-08-10T17:42:11.561410Z",
     "start_time": "2025-08-10T14:52:20.859238Z"
    }
   },
   "cell_type": "code",
   "source": "",
   "id": "c39b4365cc990805",
   "outputs": [],
   "execution_count": null
  },
  {
   "metadata": {
    "ExecuteTime": {
     "end_time": "2025-08-10T17:42:11.561472Z",
     "start_time": "2025-08-10T14:52:20.866717Z"
    }
   },
   "cell_type": "code",
   "source": "",
   "id": "5c3c0d130ab95481",
   "outputs": [],
   "execution_count": null
  },
  {
   "metadata": {
    "ExecuteTime": {
     "end_time": "2025-08-10T17:42:11.561551Z",
     "start_time": "2025-08-10T14:52:20.874163Z"
    }
   },
   "cell_type": "code",
   "source": "",
   "id": "7afc2dac598ae4b",
   "outputs": [],
   "execution_count": null
  },
  {
   "metadata": {
    "ExecuteTime": {
     "end_time": "2025-08-10T17:42:11.561619Z",
     "start_time": "2025-08-10T14:52:20.882011Z"
    }
   },
   "cell_type": "code",
   "source": "",
   "id": "5bd5747dc5160217",
   "outputs": [],
   "execution_count": null
  },
  {
   "metadata": {
    "ExecuteTime": {
     "end_time": "2025-08-10T17:42:11.561690Z",
     "start_time": "2025-08-10T14:52:20.890005Z"
    }
   },
   "cell_type": "code",
   "source": "",
   "id": "c360a82a1aa7324a",
   "outputs": [],
   "execution_count": null
  }
 ],
 "metadata": {
  "kernelspec": {
   "display_name": "Python TripleStreams",
   "language": "python",
   "name": "triplestreams"
  },
  "language_info": {
   "codemirror_mode": {
    "name": "ipython",
    "version": 3
   },
   "file_extension": ".py",
   "mimetype": "text/x-python",
   "name": "python",
   "nbconvert_exporter": "python",
   "pygments_lexer": "ipython3",
   "version": "3.9.23"
  }
 },
 "nbformat": 4,
 "nbformat_minor": 5
}
