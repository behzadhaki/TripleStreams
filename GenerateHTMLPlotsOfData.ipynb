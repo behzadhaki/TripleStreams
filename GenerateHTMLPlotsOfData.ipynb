{
 "cells": [
  {
   "cell_type": "code",
   "id": "e10086094576695c",
   "metadata": {
    "ExecuteTime": {
     "end_time": "2025-08-10T21:51:17.587206Z",
     "start_time": "2025-08-10T21:51:16.037866Z"
    }
   },
   "source": [
    "from triple_stream_data_utils import plot_scatter_distribution, create_heatmap_histogram_from_lists\n",
    "from tripleStreamsDataloaderUtils import load_compiled_dataset_pkl_bz2"
   ],
   "outputs": [
    {
     "name": "stderr",
     "output_type": "stream",
     "text": [
      "Could not import fluidsynth. AUDIO rendering will not work.\n",
      "/Users/bezha/anaconda3/envs/TripleStreams/lib/python3.9/site-packages/tqdm/auto.py:21: TqdmWarning: IProgress not found. Please update jupyter and ipywidgets. See https://ipywidgets.readthedocs.io/en/stable/user_install.html\n",
      "  from .autonotebook import tqdm as notebook_tqdm\n"
     ]
    }
   ],
   "execution_count": 1
  },
  {
   "cell_type": "code",
   "id": "351eacd47726cfbe",
   "metadata": {
    "ExecuteTime": {
     "end_time": "2025-08-10T17:49:18.170091Z",
     "start_time": "2025-08-10T17:42:25.442009Z"
    }
   },
   "source": [
    "# Make sure you've already ran python CompileStreamsAndFeatures.py\n",
    "import os\n",
    "accentThresh = 0.75\n",
    "\n",
    "root_path = f\"data/triple_streams/cached/AccentAt{accentThresh}/\"\n",
    "all_pkl_bz2_files = [f for f in os.listdir(root_path) if f.endswith('.pkl.bz2')]\n",
    "\n",
    "# Available Datasets\n",
    "available_datasets_path = {\n",
    "    all_pkl_bz2_file.split(\".pkl.bz2\")[0]: os.path.join(root_path, all_pkl_bz2_file) for all_pkl_bz2_file in all_pkl_bz2_files\n",
    "}\n",
    "\n",
    "# Generate Individual Plots (Not Normalized)\n",
    "from make_triple_stream_plots import build_plots\n",
    "\n",
    "feat1 = \"Flat Out Vs. Input | Hits | Hamming\"\n",
    "feat2 = \"Flat Out Vs. Input | Accent | Hamming\"\n",
    "\n",
    "root_path = f\"data/triple_streams/cached/AccentAt{accentThresh}/\"\n",
    "os.makedirs(os.path.join(root_path, \"analysis\"), exist_ok=True)\n",
    "os.makedirs(os.path.join(root_path, \"analysis/plots\"), exist_ok=True)\n",
    "\n",
    "# dataset_tags = [\"lmd_bass_brass_guitar_percussive\", \"elbg_both_flattened_left_right\"]\n",
    "\n",
    "dataset_tags = [path.split(\"/\")[-1].split(\".pkl.bz2\")[0] for path in sorted(available_datasets_path)]\n",
    "# find all pkl.bz2 files in the root_path\n",
    "\n",
    "output_path = build_plots(\n",
    "    root=root_path,\n",
    "    dataset_tags=dataset_tags,\n",
    "    feature1=feat1,\n",
    "    feature2=feat2,\n",
    "    n_bins_feat1=None,\n",
    "    n_bins_feat2=10,\n",
    "    scatter_max_points=100000,\n",
    "    output_html_path=os.path.join(os.path.join(root_path, \"analysis/plots\"), f\"<{feat1}>vs<{feat2}>.html\"),\n",
    "    force_recalc=False,\n",
    ")\n",
    "\n",
    "print(f\"HTML saved at: {output_path}\")\n",
    "\n",
    "# Generate Individual Plots (Normalized)\n",
    "from make_triple_stream_plots import build_plots\n",
    "\n",
    "feat1 = \"Flat Out Vs. Input | Hits | Hamming\"\n",
    "feat2 = \"Flat Out Vs. Input | Accent | Hamming Normalized\"\n",
    "\n",
    "\n",
    "# dataset_tags = [\"lmd_bass_brass_guitar_percussive\", \"elbg_both_flattened_left_right\"]\n",
    "\n",
    "dataset_tags = [path.split(\"/\")[-1].split(\".pkl.bz2\")[0] for path in sorted(available_datasets_path)]\n",
    "# find all pkl.bz2 files in the root_path\n",
    "\n",
    "output_path = build_plots(\n",
    "    root=root_path,\n",
    "    dataset_tags=dataset_tags,\n",
    "    feature1=feat1,\n",
    "    feature2=feat2,\n",
    "    n_bins_feat1=None,\n",
    "    n_bins_feat2=10,\n",
    "    scatter_max_points=100000,\n",
    "    output_html_path=os.path.join(os.path.join(root_path, \"analysis/plots\"), f\"<{feat1}>vs<{feat2}>.html\"),\n",
    "    force_recalc=False,\n",
    ")\n",
    "\n",
    "print(f\"HTML saved at: {output_path}\")"
   ],
   "outputs": [
    {
     "name": "stdout",
     "output_type": "stream",
     "text": [
      "Loading datasets...\n"
     ]
    },
    {
     "name": "stderr",
     "output_type": "stream",
     "text": [
      "Datasets: 100%|██████████| 43/43 [02:05<00:00,  2.92s/it]\n"
     ]
    },
    {
     "name": "stdout",
     "output_type": "stream",
     "text": [
      "Preparing heatmap caches...\n"
     ]
    },
    {
     "name": "stderr",
     "output_type": "stream",
     "text": [
      "Heatmaps: 100%|██████████| 43/43 [00:00<00:00, 578.24it/s]\n"
     ]
    },
    {
     "name": "stdout",
     "output_type": "stream",
     "text": [
      "Preparing scatter data...\n"
     ]
    },
    {
     "name": "stderr",
     "output_type": "stream",
     "text": [
      "Scatter: 100%|██████████| 43/43 [00:38<00:00,  1.12it/s]\n"
     ]
    },
    {
     "name": "stdout",
     "output_type": "stream",
     "text": [
      "HTML saved at: /Users/bezha/PycharmProjects/TripleStreams/data/triple_streams/cached/CompiledUsingAccentThreshOf0.75/analysis/plots/<Flat Out Vs. Input | Hits | Hamming>vs<Flat Out Vs. Input | Accent | Hamming>.html\n",
      "Loading datasets...\n"
     ]
    },
    {
     "name": "stderr",
     "output_type": "stream",
     "text": [
      "Datasets: 100%|██████████| 43/43 [02:03<00:00,  2.87s/it]\n"
     ]
    },
    {
     "name": "stdout",
     "output_type": "stream",
     "text": [
      "Preparing heatmap caches...\n"
     ]
    },
    {
     "name": "stderr",
     "output_type": "stream",
     "text": [
      "Heatmaps: 100%|██████████| 43/43 [00:00<00:00, 140.28it/s]\n"
     ]
    },
    {
     "name": "stdout",
     "output_type": "stream",
     "text": [
      "Preparing scatter data...\n"
     ]
    },
    {
     "name": "stderr",
     "output_type": "stream",
     "text": [
      "Scatter: 100%|██████████| 43/43 [00:37<00:00,  1.14it/s]\n"
     ]
    },
    {
     "name": "stdout",
     "output_type": "stream",
     "text": [
      "HTML saved at: /Users/bezha/PycharmProjects/TripleStreams/data/triple_streams/cached/CompiledUsingAccentThreshOf0.75/analysis/plots/<Flat Out Vs. Input | Hits | Hamming>vs<Flat Out Vs. Input | Accent | Hamming Normalized>.html\n"
     ]
    }
   ],
   "execution_count": 2
  },
  {
   "metadata": {
    "ExecuteTime": {
     "end_time": "2025-08-10T21:52:49.039509Z",
     "start_time": "2025-08-10T21:52:35.666148Z"
    }
   },
   "cell_type": "code",
   "source": [
    "# Make sure you've already ran python CompileStreamsAndFeatures.py\n",
    "import os\n",
    "accentThresh = 0.75\n",
    "n_bins = 10\n",
    "l_percentile = 0.0\n",
    "h_percentile = 0.9\n",
    "\n",
    "root_path = f\"data/triple_streams/cached/AccentAt{accentThresh}_with_{n_bins}_bins_in_{l_percentile}_{h_percentile}_percentile/\"\n",
    "all_pkl_bz2_files = [f for f in os.listdir(root_path) if f.endswith('.pkl.bz2')]\n",
    "\n",
    "# Available Datasets\n",
    "available_datasets_path = {\n",
    "    all_pkl_bz2_file.split(\".pkl.bz2\")[0]: os.path.join(root_path, all_pkl_bz2_file) for all_pkl_bz2_file in all_pkl_bz2_files\n",
    "}\n",
    "\n",
    "os.makedirs(os.path.join(root_path, \"analysis\"), exist_ok=True)\n",
    "os.makedirs(os.path.join(root_path, \"analysis/plots\"), exist_ok=True)\n",
    "\n",
    "# Generate Individual Plots ( Binned Not Normalized)\n",
    "from make_triple_stream_plots import build_plots\n",
    "\n",
    "feat1 = \"Flat Out Vs. Input | Hits | Hamming\"\n",
    "feat2 = \"Flat Out Vs. Input | Accent | Hamming (Binned)\"\n",
    "\n",
    "\n",
    "# dataset_tags = [\"lmd_bass_brass_guitar_percussive\", \"elbg_both_flattened_left_right\"]\n",
    "\n",
    "dataset_tags = []\n",
    "for path in sorted(available_datasets_path):\n",
    "    if \"edges\" not in path:\n",
    "        dataset_tags.append(path.split(\"/\")[-1].split(\".pkl.bz2\")[0])\n",
    "\n",
    "        # find all pkl.bz2 files in the root_path\n",
    "d_dict = load_compiled_dataset_pkl_bz2(os.path.join(root_path, all_pkl_bz2_files[0]))\n",
    "print(d_dict.keys())\n",
    "\n",
    "output_path = build_plots(\n",
    "    root=root_path,\n",
    "    dataset_tags=dataset_tags,\n",
    "    feature1=feat1,\n",
    "    feature2=feat2,\n",
    "    n_bins_feat1=None,\n",
    "    n_bins_feat2=10,\n",
    "    scatter_max_points=100000,\n",
    "    output_html_path=os.path.join(os.path.join(root_path, \"analysis/plots\"), f\"<{feat1}>vs<{feat2}>.html\"),\n",
    "    force_recalc=False,\n",
    ")\n",
    "\n",
    "print(f\"HTML saved at: {output_path}\")\n",
    "\n",
    "# Generate Individual Plots ( Binned Normalized)\n",
    "from make_triple_stream_plots import build_plots\n",
    "\n",
    "\n",
    "\n",
    "feat1 = \"Flat Out Vs. Input | Hits | Hamming\"\n",
    "feat2 = \"Flat Out Vs. Input | Accent | Hamming Normalized (Binned)\"\n",
    "\n",
    "\n",
    "os.makedirs(os.path.join(root_path, \"plots\"), exist_ok=True)\n",
    "# dataset_tags = [\"lmd_bass_brass_guitar_percussive\", \"elbg_both_flattened_left_right\"]\n",
    "\n",
    "dataset_tags = []\n",
    "for path in sorted(available_datasets_path):\n",
    "    if \"edges\" not in path:\n",
    "        dataset_tags.append(path.split(\"/\")[-1].split(\".pkl.bz2\")[0])\n",
    "\n",
    "# find all pkl.bz2 files in the root_path\n",
    "\n",
    "output_path = build_plots(\n",
    "    root=root_path,\n",
    "    dataset_tags=dataset_tags,\n",
    "    feature1=feat1,\n",
    "    feature2=feat2,\n",
    "    n_bins_feat1=None,\n",
    "    n_bins_feat2=10,\n",
    "    scatter_max_points=100000,\n",
    "    output_html_path=os.path.join(os.path.join(root_path, \"analysis/plots\"), f\"<{feat1}>vs<{feat2}>.html\"),\n",
    "    force_recalc=False,\n",
    ")\n",
    "\n",
    "print(f\"HTML saved at: {output_path}\")"
   ],
   "id": "18317f02144c210b",
   "outputs": [
    {
     "name": "stdout",
     "output_type": "stream",
     "text": [
      "dict_keys([0.46875, 0.6875, 0.375, 0.15625, 0.34375, 0.1875, 0.59375, 0.75, 1.0, 0.84375, 0.40625, 0.9375, 0.53125, 0.65625, 0.625, 0.5, 0.96875, 0.0, 0.125, 0.03125, 0.875, 0.8125, 0.21875, 0.28125, 0.5625, 0.78125, 0.09375, 0.25, 0.71875, 0.3125, 0.90625, 0.4375, 0.0625])\n",
      "Loading datasets...\n"
     ]
    },
    {
     "name": "stderr",
     "output_type": "stream",
     "text": [
      "Datasets: 100%|██████████| 4/4 [00:01<00:00,  2.15it/s]\n"
     ]
    },
    {
     "name": "stdout",
     "output_type": "stream",
     "text": [
      "Preparing heatmap caches...\n"
     ]
    },
    {
     "name": "stderr",
     "output_type": "stream",
     "text": [
      "Heatmaps: 100%|██████████| 4/4 [00:00<00:00, 636.90it/s]\n"
     ]
    },
    {
     "name": "stdout",
     "output_type": "stream",
     "text": [
      "Preparing scatter data...\n"
     ]
    },
    {
     "name": "stderr",
     "output_type": "stream",
     "text": [
      "Scatter: 100%|██████████| 4/4 [00:00<00:00,  6.29it/s]\n"
     ]
    },
    {
     "name": "stdout",
     "output_type": "stream",
     "text": [
      "HTML saved at: /Users/bezha/PycharmProjects/TripleStreams/data/triple_streams/cached/CompiledUsingAccentThreshOf0.75_with_10_bins_in_0.0_0.9_percentile/analysis/plots/<Flat Out Vs. Input | Hits | Hamming>vs<Flat Out Vs. Input | Accent | Hamming (Binned)>.html\n",
      "Loading datasets...\n"
     ]
    },
    {
     "name": "stderr",
     "output_type": "stream",
     "text": [
      "Datasets: 100%|██████████| 4/4 [00:01<00:00,  2.05it/s]\n"
     ]
    },
    {
     "name": "stdout",
     "output_type": "stream",
     "text": [
      "Preparing heatmap caches...\n"
     ]
    },
    {
     "name": "stderr",
     "output_type": "stream",
     "text": [
      "Heatmaps: 100%|██████████| 4/4 [00:00<00:00, 678.42it/s]\n"
     ]
    },
    {
     "name": "stdout",
     "output_type": "stream",
     "text": [
      "Preparing scatter data...\n"
     ]
    },
    {
     "name": "stderr",
     "output_type": "stream",
     "text": [
      "Scatter: 100%|██████████| 4/4 [00:00<00:00,  6.30it/s]\n"
     ]
    },
    {
     "name": "stdout",
     "output_type": "stream",
     "text": [
      "HTML saved at: /Users/bezha/PycharmProjects/TripleStreams/data/triple_streams/cached/CompiledUsingAccentThreshOf0.75_with_10_bins_in_0.0_0.9_percentile/analysis/plots/<Flat Out Vs. Input | Hits | Hamming>vs<Flat Out Vs. Input | Accent | Hamming Normalized (Binned)>.html\n"
     ]
    }
   ],
   "execution_count": 2
  },
  {
   "metadata": {
    "ExecuteTime": {
     "end_time": "2025-08-10T17:42:11.560823Z",
     "start_time": "2025-08-10T14:52:20.778623Z"
    }
   },
   "cell_type": "code",
   "source": "",
   "id": "ec24c423842ee0eb",
   "outputs": [],
   "execution_count": null
  },
  {
   "metadata": {
    "ExecuteTime": {
     "end_time": "2025-08-10T17:42:11.561020Z",
     "start_time": "2025-08-10T14:52:20.789959Z"
    }
   },
   "cell_type": "code",
   "source": [
    "# npz_path = \"/Users/bezha/PycharmProjects/TripleStreams/data/triple_streams/split_2bars/compiled_data/cache/hist2d__lmd_bass_brass_drum_guitar__Flat Out Vs. Input | Hits | Hamming__Flat Out Vs. Input | Accent | Jaccard__bins33x33.npz\"\n",
    "# # Load the npz file\n",
    "# import numpy as np\n",
    "# data = np.load(npz_path)\n",
    "# data"
   ],
   "id": "f5a1fdc55d5fc9ee",
   "outputs": [],
   "execution_count": 7
  },
  {
   "metadata": {
    "ExecuteTime": {
     "end_time": "2025-08-10T17:42:11.561116Z",
     "start_time": "2025-08-10T14:52:20.814448Z"
    }
   },
   "cell_type": "code",
   "source": [
    "# data_ = load_compiled_dataset_pkl_bz2(\"data/triple_streams/split_2bars/compiled_data/accentThresh0.75/ttd_both-is-and_both_flattened_left_right_Accent_thresh.pkl.bz2\")\n",
    "# create_heatmap_histogram_from_lists(\n",
    "#     feat1=data_[feat1],\n",
    "#     feat2=data_[feat2],\n",
    "# )"
   ],
   "id": "7680dd3796342400",
   "outputs": [],
   "execution_count": 8
  },
  {
   "metadata": {
    "ExecuteTime": {
     "end_time": "2025-08-10T17:42:11.561198Z",
     "start_time": "2025-08-10T14:52:20.832532Z"
    }
   },
   "cell_type": "code",
   "source": [
    "# sample_ix = 100 # for each sample 24 variations\n",
    "# input_hvos = loaded_datasets[\"input_hvos\"][sample_ix*24: ((sample_ix+1)*24)]\n",
    "# output_hvos = loaded_datasets[\"output_hvos\"][sample_ix*24: ((sample_ix+1)*24)]\n",
    "# metadatas = loaded_datasets[\"metadata\"][sample_ix*24: ((sample_ix+1)*24)]\n",
    "# print(len(input_hvos), len(output_hvos), len(metadatas))\n",
    "# print(loaded_datasets[\"Flat Out Vs. Input | Hits | Hamming\"][sample_ix*24: ((sample_ix+1)*24)])\n",
    "# print(loaded_datasets[\"Flat Out Vs. Input | Accent | Jaccard\"][sample_ix*24: ((sample_ix+1)*24)])\n",
    "# print(loaded_datasets[\"OS1_OF Jaccard\"][sample_ix*24: ((sample_ix+1)*24)])\n",
    "# print(loaded_datasets[\"OS2_OF Jaccard\"][sample_ix*24: ((sample_ix+1)*24)])\n",
    "# print(loaded_datasets[\"OS3_OF Jaccard\"][sample_ix*24: ((sample_ix+1)*24)])\n",
    "# create_multitab_from_HVO_Sequences(compile_into_list_of_hvo_seqs(input_hvos, output_hvos, metadatas, qpms=None))"
   ],
   "id": "c3ad81e20751ef26",
   "outputs": [],
   "execution_count": 9
  },
  {
   "metadata": {
    "ExecuteTime": {
     "end_time": "2025-08-10T22:03:26.051555Z",
     "start_time": "2025-08-10T22:03:25.958090Z"
    }
   },
   "cell_type": "code",
   "source": [
    "test = load_compiled_dataset_pkl_bz2(\n",
    "    \"data/triple_streams/cached/AccentAt0.75_with_10_bins_in_0.0_0.9_percentile/lmd_brass_drum_guitar_percussion.pkl.bz2\"\n",
    ")\n",
    "test.keys()\n"
   ],
   "id": "17961de07ccf60b",
   "outputs": [
    {
     "ename": "NameError",
     "evalue": "name 'load_compiled_dataset_pkl_bz2' is not defined",
     "output_type": "error",
     "traceback": [
      "\u001B[0;31m---------------------------------------------------------------------------\u001B[0m",
      "\u001B[0;31mNameError\u001B[0m                                 Traceback (most recent call last)",
      "Cell \u001B[0;32mIn[1], line 1\u001B[0m\n\u001B[0;32m----> 1\u001B[0m test \u001B[38;5;241m=\u001B[39m \u001B[43mload_compiled_dataset_pkl_bz2\u001B[49m(\n\u001B[1;32m      2\u001B[0m     \u001B[38;5;124m\"\u001B[39m\u001B[38;5;124mdata/triple_streams/cached/CompiledUsingAccentThreshOf0.75_with_10_bins_in_0.0_0.9_percentile/lmd_brass_drum_guitar_percussion.pkl.bz2\u001B[39m\u001B[38;5;124m\"\u001B[39m\n\u001B[1;32m      3\u001B[0m )\n\u001B[1;32m      4\u001B[0m test\u001B[38;5;241m.\u001B[39mkeys()\n",
      "\u001B[0;31mNameError\u001B[0m: name 'load_compiled_dataset_pkl_bz2' is not defined"
     ]
    }
   ],
   "execution_count": 1
  },
  {
   "metadata": {
    "ExecuteTime": {
     "end_time": "2025-08-10T21:49:58.500820Z",
     "start_time": "2025-08-10T21:49:58.490860Z"
    }
   },
   "cell_type": "code",
   "source": "",
   "id": "fbde4bf6323b1e78",
   "outputs": [
    {
     "name": "stdout",
     "output_type": "stream",
     "text": [
      "{1: {'bin_0': (0.0, 0.045000000000000005), 'bin_1': (0.045000000000000005, 0.09000000000000001)}, 2: {'bin_0': (20.0, 20.0), 'bin_1': (20.0, 20.0)}, 3: {'bin_0': (30.0, 30.0), 'bin_1': (30.0, 30.0)}, 4: {'bin_0': (40.0, 40.0), 'bin_1': (40.0, 40.0)}, 5: {'bin_0': (50.0, 50.0), 'bin_1': (50.0, 50.0)}}\n"
     ]
    }
   ],
   "execution_count": 6
  },
  {
   "metadata": {
    "ExecuteTime": {
     "end_time": "2025-08-10T22:04:41.012371Z",
     "start_time": "2025-08-10T22:04:41.005052Z"
    }
   },
   "cell_type": "code",
   "source": [
    "# load data/triple_streams/cached/AccentAt0.75_with_10_bins_in_0.0_0.9_percentile/edges_dict_normalized_10_bins_0.0_0.9.pkl.bz2\n",
    "import pickle\n",
    "import bz2\n",
    "with bz2.open(\n",
    "    \"data/triple_streams/cached/AccentAt0.75_with_10_bins_in_0.0_0.9_percentile/edges_dict_10_bins_0.0_0.9.pkl.bz2\",\n",
    "    'rb') as f:\n",
    "    edges_dict = pickle.load(f)\n",
    "edges_dict"
   ],
   "id": "c39b4365cc990805",
   "outputs": [
    {
     "data": {
      "text/plain": [
       "{0.46875: {'bin_0': (0.0, 0.0),\n",
       "  'bin_1': (0.0, 0.0),\n",
       "  'bin_2': (0.0, 0.0),\n",
       "  'bin_3': (0.0, 0.0),\n",
       "  'bin_4': (0.0, 0.0),\n",
       "  'bin_5': (0.0, 0.0),\n",
       "  'bin_6': (0.0, 0.0),\n",
       "  'bin_7': (0.0, 0.0),\n",
       "  'bin_8': (0.0, 0.0),\n",
       "  'bin_9': (0.0, 0.0)},\n",
       " 0.6875: {'bin_0': (0.0, 0.0),\n",
       "  'bin_1': (0.0, 0.0),\n",
       "  'bin_2': (0.0, 0.0),\n",
       "  'bin_3': (0.0, 0.0),\n",
       "  'bin_4': (0.0, 0.0),\n",
       "  'bin_5': (0.0, 0.0),\n",
       "  'bin_6': (0.0, 0.0),\n",
       "  'bin_7': (0.0, 0.0),\n",
       "  'bin_8': (0.0, 0.0),\n",
       "  'bin_9': (0.0, 0.0)},\n",
       " 0.375: {'bin_0': (0.0, 0.0),\n",
       "  'bin_1': (0.0, 0.0),\n",
       "  'bin_2': (0.0, 0.0),\n",
       "  'bin_3': (0.0, 0.0),\n",
       "  'bin_4': (0.0, 0.0),\n",
       "  'bin_5': (0.0, 0.0),\n",
       "  'bin_6': (0.0, 0.0),\n",
       "  'bin_7': (0.0, 0.0),\n",
       "  'bin_8': (0.0, 0.0),\n",
       "  'bin_9': (0.0, 0.0)},\n",
       " 0.15625: {'bin_0': (0.0, 0.0),\n",
       "  'bin_1': (0.0, 0.0),\n",
       "  'bin_2': (0.0, 0.0),\n",
       "  'bin_3': (0.0, 0.0),\n",
       "  'bin_4': (0.0, 0.0),\n",
       "  'bin_5': (0.0, 0.0),\n",
       "  'bin_6': (0.0, 0.0),\n",
       "  'bin_7': (0.0, 0.0),\n",
       "  'bin_8': (0.0, 0.0),\n",
       "  'bin_9': (0.0, 0.0)},\n",
       " 0.34375: {'bin_0': (0.0, 0.0),\n",
       "  'bin_1': (0.0, 0.0),\n",
       "  'bin_2': (0.0, 0.0),\n",
       "  'bin_3': (0.0, 0.0),\n",
       "  'bin_4': (0.0, 0.0),\n",
       "  'bin_5': (0.0, 0.0),\n",
       "  'bin_6': (0.0, 0.0),\n",
       "  'bin_7': (0.0, 0.0),\n",
       "  'bin_8': (0.0, 0.0),\n",
       "  'bin_9': (0.0, 0.0)},\n",
       " 0.1875: {'bin_0': (0.0, 0.0),\n",
       "  'bin_1': (0.0, 0.0),\n",
       "  'bin_2': (0.0, 0.0),\n",
       "  'bin_3': (0.0, 0.0),\n",
       "  'bin_4': (0.0, 0.0),\n",
       "  'bin_5': (0.0, 0.0),\n",
       "  'bin_6': (0.0, 0.0),\n",
       "  'bin_7': (0.0, 0.0),\n",
       "  'bin_8': (0.0, 0.0),\n",
       "  'bin_9': (0.0, 0.0)},\n",
       " 0.59375: {'bin_0': (0.0, 0.0),\n",
       "  'bin_1': (0.0, 0.0),\n",
       "  'bin_2': (0.0, 0.0),\n",
       "  'bin_3': (0.0, 0.0),\n",
       "  'bin_4': (0.0, 0.0),\n",
       "  'bin_5': (0.0, 0.0),\n",
       "  'bin_6': (0.0, 0.0),\n",
       "  'bin_7': (0.0, 0.0),\n",
       "  'bin_8': (0.0, 0.0),\n",
       "  'bin_9': (0.0, 0.0)},\n",
       " 0.75: {'bin_0': (0.0, 0.0),\n",
       "  'bin_1': (0.0, 0.0),\n",
       "  'bin_2': (0.0, 0.0),\n",
       "  'bin_3': (0.0, 0.0),\n",
       "  'bin_4': (0.0, 0.0),\n",
       "  'bin_5': (0.0, 0.0),\n",
       "  'bin_6': (0.0, 0.0),\n",
       "  'bin_7': (0.0, 0.0),\n",
       "  'bin_8': (0.0, 0.0),\n",
       "  'bin_9': (0.0, 0.0)},\n",
       " 1.0: {'bin_0': (0.0, 0.009375),\n",
       "  'bin_1': (0.009375, 0.01875),\n",
       "  'bin_2': (0.01875, 0.028124999999999997),\n",
       "  'bin_3': (0.028124999999999997, 0.0375),\n",
       "  'bin_4': (0.0375, 0.046875),\n",
       "  'bin_5': (0.046875, 0.056249999999999994),\n",
       "  'bin_6': (0.056249999999999994, 0.065625),\n",
       "  'bin_7': (0.065625, 0.075),\n",
       "  'bin_8': (0.075, 0.08437499999999999),\n",
       "  'bin_9': (0.08437499999999999, 0.09375)},\n",
       " 0.84375: {'bin_0': (0.0, 0.0),\n",
       "  'bin_1': (0.0, 0.0),\n",
       "  'bin_2': (0.0, 0.0),\n",
       "  'bin_3': (0.0, 0.0),\n",
       "  'bin_4': (0.0, 0.0),\n",
       "  'bin_5': (0.0, 0.0),\n",
       "  'bin_6': (0.0, 0.0),\n",
       "  'bin_7': (0.0, 0.0),\n",
       "  'bin_8': (0.0, 0.0),\n",
       "  'bin_9': (0.0, 0.0)},\n",
       " 0.40625: {'bin_0': (0.0, 0.0),\n",
       "  'bin_1': (0.0, 0.0),\n",
       "  'bin_2': (0.0, 0.0),\n",
       "  'bin_3': (0.0, 0.0),\n",
       "  'bin_4': (0.0, 0.0),\n",
       "  'bin_5': (0.0, 0.0),\n",
       "  'bin_6': (0.0, 0.0),\n",
       "  'bin_7': (0.0, 0.0),\n",
       "  'bin_8': (0.0, 0.0),\n",
       "  'bin_9': (0.0, 0.0)},\n",
       " 0.9375: {'bin_0': (0.0, 0.0125),\n",
       "  'bin_1': (0.0125, 0.025),\n",
       "  'bin_2': (0.025, 0.037500000000000006),\n",
       "  'bin_3': (0.037500000000000006, 0.05),\n",
       "  'bin_4': (0.05, 0.0625),\n",
       "  'bin_5': (0.0625, 0.07500000000000001),\n",
       "  'bin_6': (0.07500000000000001, 0.08750000000000001),\n",
       "  'bin_7': (0.08750000000000001, 0.1),\n",
       "  'bin_8': (0.1, 0.1125),\n",
       "  'bin_9': (0.1125, 0.125)},\n",
       " 0.53125: {'bin_0': (0.0, 0.0),\n",
       "  'bin_1': (0.0, 0.0),\n",
       "  'bin_2': (0.0, 0.0),\n",
       "  'bin_3': (0.0, 0.0),\n",
       "  'bin_4': (0.0, 0.0),\n",
       "  'bin_5': (0.0, 0.0),\n",
       "  'bin_6': (0.0, 0.0),\n",
       "  'bin_7': (0.0, 0.0),\n",
       "  'bin_8': (0.0, 0.0),\n",
       "  'bin_9': (0.0, 0.0)},\n",
       " 0.65625: {'bin_0': (0.0, 0.0),\n",
       "  'bin_1': (0.0, 0.0),\n",
       "  'bin_2': (0.0, 0.0),\n",
       "  'bin_3': (0.0, 0.0),\n",
       "  'bin_4': (0.0, 0.0),\n",
       "  'bin_5': (0.0, 0.0),\n",
       "  'bin_6': (0.0, 0.0),\n",
       "  'bin_7': (0.0, 0.0),\n",
       "  'bin_8': (0.0, 0.0),\n",
       "  'bin_9': (0.0, 0.0)},\n",
       " 0.625: {'bin_0': (0.0, 0.0),\n",
       "  'bin_1': (0.0, 0.0),\n",
       "  'bin_2': (0.0, 0.0),\n",
       "  'bin_3': (0.0, 0.0),\n",
       "  'bin_4': (0.0, 0.0),\n",
       "  'bin_5': (0.0, 0.0),\n",
       "  'bin_6': (0.0, 0.0),\n",
       "  'bin_7': (0.0, 0.0),\n",
       "  'bin_8': (0.0, 0.0),\n",
       "  'bin_9': (0.0, 0.0)},\n",
       " 0.5: {'bin_0': (0.0, 0.0),\n",
       "  'bin_1': (0.0, 0.0),\n",
       "  'bin_2': (0.0, 0.0),\n",
       "  'bin_3': (0.0, 0.0),\n",
       "  'bin_4': (0.0, 0.0),\n",
       "  'bin_5': (0.0, 0.0),\n",
       "  'bin_6': (0.0, 0.0),\n",
       "  'bin_7': (0.0, 0.0),\n",
       "  'bin_8': (0.0, 0.0),\n",
       "  'bin_9': (0.0, 0.0)},\n",
       " 0.96875: {'bin_0': (0.0625, 0.065625),\n",
       "  'bin_1': (0.065625, 0.06875),\n",
       "  'bin_2': (0.06875, 0.071875),\n",
       "  'bin_3': (0.071875, 0.075),\n",
       "  'bin_4': (0.075, 0.078125),\n",
       "  'bin_5': (0.078125, 0.08125),\n",
       "  'bin_6': (0.08125, 0.084375),\n",
       "  'bin_7': (0.084375, 0.0875),\n",
       "  'bin_8': (0.0875, 0.090625),\n",
       "  'bin_9': (0.090625, 0.09375)},\n",
       " 0.0: {'bin_0': (0.0, 0.0),\n",
       "  'bin_1': (0.0, 0.0),\n",
       "  'bin_2': (0.0, 0.0),\n",
       "  'bin_3': (0.0, 0.0),\n",
       "  'bin_4': (0.0, 0.0),\n",
       "  'bin_5': (0.0, 0.0),\n",
       "  'bin_6': (0.0, 0.0),\n",
       "  'bin_7': (0.0, 0.0),\n",
       "  'bin_8': (0.0, 0.0),\n",
       "  'bin_9': (0.0, 0.0)},\n",
       " 0.125: {'bin_0': (0.0, 0.0),\n",
       "  'bin_1': (0.0, 0.0),\n",
       "  'bin_2': (0.0, 0.0),\n",
       "  'bin_3': (0.0, 0.0),\n",
       "  'bin_4': (0.0, 0.0),\n",
       "  'bin_5': (0.0, 0.0),\n",
       "  'bin_6': (0.0, 0.0),\n",
       "  'bin_7': (0.0, 0.0),\n",
       "  'bin_8': (0.0, 0.0),\n",
       "  'bin_9': (0.0, 0.0)},\n",
       " 0.03125: {'bin_0': (0.0, 0.0),\n",
       "  'bin_1': (0.0, 0.0),\n",
       "  'bin_2': (0.0, 0.0),\n",
       "  'bin_3': (0.0, 0.0),\n",
       "  'bin_4': (0.0, 0.0),\n",
       "  'bin_5': (0.0, 0.0),\n",
       "  'bin_6': (0.0, 0.0),\n",
       "  'bin_7': (0.0, 0.0),\n",
       "  'bin_8': (0.0, 0.0),\n",
       "  'bin_9': (0.0, 0.0)},\n",
       " 0.875: {'bin_0': (0.0, 0.0),\n",
       "  'bin_1': (0.0, 0.0),\n",
       "  'bin_2': (0.0, 0.0),\n",
       "  'bin_3': (0.0, 0.0),\n",
       "  'bin_4': (0.0, 0.0),\n",
       "  'bin_5': (0.0, 0.0),\n",
       "  'bin_6': (0.0, 0.0),\n",
       "  'bin_7': (0.0, 0.0),\n",
       "  'bin_8': (0.0, 0.0),\n",
       "  'bin_9': (0.0, 0.0)},\n",
       " 0.8125: {'bin_0': (0.03125, 0.034375),\n",
       "  'bin_1': (0.034375, 0.0375),\n",
       "  'bin_2': (0.0375, 0.040625),\n",
       "  'bin_3': (0.040625, 0.04375),\n",
       "  'bin_4': (0.04375, 0.046875),\n",
       "  'bin_5': (0.046875, 0.05),\n",
       "  'bin_6': (0.05, 0.053125000000000006),\n",
       "  'bin_7': (0.053125000000000006, 0.05625),\n",
       "  'bin_8': (0.05625, 0.059375),\n",
       "  'bin_9': (0.059375, 0.0625)},\n",
       " 0.21875: {'bin_0': (0.0, 0.0),\n",
       "  'bin_1': (0.0, 0.0),\n",
       "  'bin_2': (0.0, 0.0),\n",
       "  'bin_3': (0.0, 0.0),\n",
       "  'bin_4': (0.0, 0.0),\n",
       "  'bin_5': (0.0, 0.0),\n",
       "  'bin_6': (0.0, 0.0),\n",
       "  'bin_7': (0.0, 0.0),\n",
       "  'bin_8': (0.0, 0.0),\n",
       "  'bin_9': (0.0, 0.0)},\n",
       " 0.28125: {'bin_0': (0.0, 0.0),\n",
       "  'bin_1': (0.0, 0.0),\n",
       "  'bin_2': (0.0, 0.0),\n",
       "  'bin_3': (0.0, 0.0),\n",
       "  'bin_4': (0.0, 0.0),\n",
       "  'bin_5': (0.0, 0.0),\n",
       "  'bin_6': (0.0, 0.0),\n",
       "  'bin_7': (0.0, 0.0),\n",
       "  'bin_8': (0.0, 0.0),\n",
       "  'bin_9': (0.0, 0.0)},\n",
       " 0.5625: {'bin_0': (0.0, 0.0),\n",
       "  'bin_1': (0.0, 0.0),\n",
       "  'bin_2': (0.0, 0.0),\n",
       "  'bin_3': (0.0, 0.0),\n",
       "  'bin_4': (0.0, 0.0),\n",
       "  'bin_5': (0.0, 0.0),\n",
       "  'bin_6': (0.0, 0.0),\n",
       "  'bin_7': (0.0, 0.0),\n",
       "  'bin_8': (0.0, 0.0),\n",
       "  'bin_9': (0.0, 0.0)},\n",
       " 0.78125: {'bin_0': (0.0, 0.0),\n",
       "  'bin_1': (0.0, 0.0),\n",
       "  'bin_2': (0.0, 0.0),\n",
       "  'bin_3': (0.0, 0.0),\n",
       "  'bin_4': (0.0, 0.0),\n",
       "  'bin_5': (0.0, 0.0),\n",
       "  'bin_6': (0.0, 0.0),\n",
       "  'bin_7': (0.0, 0.0),\n",
       "  'bin_8': (0.0, 0.0),\n",
       "  'bin_9': (0.0, 0.0)},\n",
       " 0.09375: {'bin_0': (0.0, 0.0),\n",
       "  'bin_1': (0.0, 0.0),\n",
       "  'bin_2': (0.0, 0.0),\n",
       "  'bin_3': (0.0, 0.0),\n",
       "  'bin_4': (0.0, 0.0),\n",
       "  'bin_5': (0.0, 0.0),\n",
       "  'bin_6': (0.0, 0.0),\n",
       "  'bin_7': (0.0, 0.0),\n",
       "  'bin_8': (0.0, 0.0),\n",
       "  'bin_9': (0.0, 0.0)},\n",
       " 0.25: {'bin_0': (0.0, 0.0),\n",
       "  'bin_1': (0.0, 0.0),\n",
       "  'bin_2': (0.0, 0.0),\n",
       "  'bin_3': (0.0, 0.0),\n",
       "  'bin_4': (0.0, 0.0),\n",
       "  'bin_5': (0.0, 0.0),\n",
       "  'bin_6': (0.0, 0.0),\n",
       "  'bin_7': (0.0, 0.0),\n",
       "  'bin_8': (0.0, 0.0),\n",
       "  'bin_9': (0.0, 0.0)},\n",
       " 0.71875: {'bin_0': (0.0, 0.0),\n",
       "  'bin_1': (0.0, 0.0),\n",
       "  'bin_2': (0.0, 0.0),\n",
       "  'bin_3': (0.0, 0.0),\n",
       "  'bin_4': (0.0, 0.0),\n",
       "  'bin_5': (0.0, 0.0),\n",
       "  'bin_6': (0.0, 0.0),\n",
       "  'bin_7': (0.0, 0.0),\n",
       "  'bin_8': (0.0, 0.0),\n",
       "  'bin_9': (0.0, 0.0)},\n",
       " 0.3125: {'bin_0': (0.0, 0.0),\n",
       "  'bin_1': (0.0, 0.0),\n",
       "  'bin_2': (0.0, 0.0),\n",
       "  'bin_3': (0.0, 0.0),\n",
       "  'bin_4': (0.0, 0.0),\n",
       "  'bin_5': (0.0, 0.0),\n",
       "  'bin_6': (0.0, 0.0),\n",
       "  'bin_7': (0.0, 0.0),\n",
       "  'bin_8': (0.0, 0.0),\n",
       "  'bin_9': (0.0, 0.0)},\n",
       " 0.90625: {'bin_0': (0.0625, 0.0625),\n",
       "  'bin_1': (0.0625, 0.0625),\n",
       "  'bin_2': (0.0625, 0.0625),\n",
       "  'bin_3': (0.0625, 0.0625),\n",
       "  'bin_4': (0.0625, 0.0625),\n",
       "  'bin_5': (0.0625, 0.0625),\n",
       "  'bin_6': (0.0625, 0.0625),\n",
       "  'bin_7': (0.0625, 0.0625),\n",
       "  'bin_8': (0.0625, 0.0625),\n",
       "  'bin_9': (0.0625, 0.0625)},\n",
       " 0.4375: {'bin_0': (0.0, 0.0),\n",
       "  'bin_1': (0.0, 0.0),\n",
       "  'bin_2': (0.0, 0.0),\n",
       "  'bin_3': (0.0, 0.0),\n",
       "  'bin_4': (0.0, 0.0),\n",
       "  'bin_5': (0.0, 0.0),\n",
       "  'bin_6': (0.0, 0.0),\n",
       "  'bin_7': (0.0, 0.0),\n",
       "  'bin_8': (0.0, 0.0),\n",
       "  'bin_9': (0.0, 0.0)},\n",
       " 0.0625: {'bin_0': (0.0, 0.0),\n",
       "  'bin_1': (0.0, 0.0),\n",
       "  'bin_2': (0.0, 0.0),\n",
       "  'bin_3': (0.0, 0.0),\n",
       "  'bin_4': (0.0, 0.0),\n",
       "  'bin_5': (0.0, 0.0),\n",
       "  'bin_6': (0.0, 0.0),\n",
       "  'bin_7': (0.0, 0.0),\n",
       "  'bin_8': (0.0, 0.0),\n",
       "  'bin_9': (0.0, 0.0)}}"
      ]
     },
     "execution_count": 6,
     "metadata": {},
     "output_type": "execute_result"
    }
   ],
   "execution_count": 6
  },
  {
   "metadata": {
    "ExecuteTime": {
     "end_time": "2025-08-10T18:58:55.212035Z",
     "start_time": "2025-08-10T18:58:55.188204Z"
    }
   },
   "cell_type": "code",
   "source": "",
   "id": "5c3c0d130ab95481",
   "outputs": [
    {
     "data": {
      "text/html": [
       "<div class=\"bk-root\">\n",
       "        <a href=\"https://bokeh.org\" target=\"_blank\" class=\"bk-logo bk-logo-small bk-logo-notebook\"></a>\n",
       "        <span id=\"2157\">Loading BokehJS ...</span>\n",
       "    </div>\n"
      ]
     },
     "metadata": {},
     "output_type": "display_data"
    },
    {
     "data": {
      "application/javascript": "(function(root) {\n  function now() {\n    return new Date();\n  }\n\n  const force = true;\n\n  if (typeof root._bokeh_onload_callbacks === \"undefined\" || force === true) {\n    root._bokeh_onload_callbacks = [];\n    root._bokeh_is_loading = undefined;\n  }\n\nconst JS_MIME_TYPE = 'application/javascript';\n  const HTML_MIME_TYPE = 'text/html';\n  const EXEC_MIME_TYPE = 'application/vnd.bokehjs_exec.v0+json';\n  const CLASS_NAME = 'output_bokeh rendered_html';\n\n  /**\n   * Render data to the DOM node\n   */\n  function render(props, node) {\n    const script = document.createElement(\"script\");\n    node.appendChild(script);\n  }\n\n  /**\n   * Handle when an output is cleared or removed\n   */\n  function handleClearOutput(event, handle) {\n    const cell = handle.cell;\n\n    const id = cell.output_area._bokeh_element_id;\n    const server_id = cell.output_area._bokeh_server_id;\n    // Clean up Bokeh references\n    if (id != null && id in Bokeh.index) {\n      Bokeh.index[id].model.document.clear();\n      delete Bokeh.index[id];\n    }\n\n    if (server_id !== undefined) {\n      // Clean up Bokeh references\n      const cmd_clean = \"from bokeh.io.state import curstate; print(curstate().uuid_to_server['\" + server_id + \"'].get_sessions()[0].document.roots[0]._id)\";\n      cell.notebook.kernel.execute(cmd_clean, {\n        iopub: {\n          output: function(msg) {\n            const id = msg.content.text.trim();\n            if (id in Bokeh.index) {\n              Bokeh.index[id].model.document.clear();\n              delete Bokeh.index[id];\n            }\n          }\n        }\n      });\n      // Destroy server and session\n      const cmd_destroy = \"import bokeh.io.notebook as ion; ion.destroy_server('\" + server_id + \"')\";\n      cell.notebook.kernel.execute(cmd_destroy);\n    }\n  }\n\n  /**\n   * Handle when a new output is added\n   */\n  function handleAddOutput(event, handle) {\n    const output_area = handle.output_area;\n    const output = handle.output;\n\n    // limit handleAddOutput to display_data with EXEC_MIME_TYPE content only\n    if ((output.output_type != \"display_data\") || (!Object.prototype.hasOwnProperty.call(output.data, EXEC_MIME_TYPE))) {\n      return\n    }\n\n    const toinsert = output_area.element.find(\".\" + CLASS_NAME.split(' ')[0]);\n\n    if (output.metadata[EXEC_MIME_TYPE][\"id\"] !== undefined) {\n      toinsert[toinsert.length - 1].firstChild.textContent = output.data[JS_MIME_TYPE];\n      // store reference to embed id on output_area\n      output_area._bokeh_element_id = output.metadata[EXEC_MIME_TYPE][\"id\"];\n    }\n    if (output.metadata[EXEC_MIME_TYPE][\"server_id\"] !== undefined) {\n      const bk_div = document.createElement(\"div\");\n      bk_div.innerHTML = output.data[HTML_MIME_TYPE];\n      const script_attrs = bk_div.children[0].attributes;\n      for (let i = 0; i < script_attrs.length; i++) {\n        toinsert[toinsert.length - 1].firstChild.setAttribute(script_attrs[i].name, script_attrs[i].value);\n        toinsert[toinsert.length - 1].firstChild.textContent = bk_div.children[0].textContent\n      }\n      // store reference to server id on output_area\n      output_area._bokeh_server_id = output.metadata[EXEC_MIME_TYPE][\"server_id\"];\n    }\n  }\n\n  function register_renderer(events, OutputArea) {\n\n    function append_mime(data, metadata, element) {\n      // create a DOM node to render to\n      const toinsert = this.create_output_subarea(\n        metadata,\n        CLASS_NAME,\n        EXEC_MIME_TYPE\n      );\n      this.keyboard_manager.register_events(toinsert);\n      // Render to node\n      const props = {data: data, metadata: metadata[EXEC_MIME_TYPE]};\n      render(props, toinsert[toinsert.length - 1]);\n      element.append(toinsert);\n      return toinsert\n    }\n\n    /* Handle when an output is cleared or removed */\n    events.on('clear_output.CodeCell', handleClearOutput);\n    events.on('delete.Cell', handleClearOutput);\n\n    /* Handle when a new output is added */\n    events.on('output_added.OutputArea', handleAddOutput);\n\n    /**\n     * Register the mime type and append_mime function with output_area\n     */\n    OutputArea.prototype.register_mime_type(EXEC_MIME_TYPE, append_mime, {\n      /* Is output safe? */\n      safe: true,\n      /* Index of renderer in `output_area.display_order` */\n      index: 0\n    });\n  }\n\n  // register the mime type if in Jupyter Notebook environment and previously unregistered\n  if (root.Jupyter !== undefined) {\n    const events = require('base/js/events');\n    const OutputArea = require('notebook/js/outputarea').OutputArea;\n\n    if (OutputArea.prototype.mime_types().indexOf(EXEC_MIME_TYPE) == -1) {\n      register_renderer(events, OutputArea);\n    }\n  }\n  if (typeof (root._bokeh_timeout) === \"undefined\" || force === true) {\n    root._bokeh_timeout = Date.now() + 5000;\n    root._bokeh_failed_load = false;\n  }\n\n  const NB_LOAD_WARNING = {'data': {'text/html':\n     \"<div style='background-color: #fdd'>\\n\"+\n     \"<p>\\n\"+\n     \"BokehJS does not appear to have successfully loaded. If loading BokehJS from CDN, this \\n\"+\n     \"may be due to a slow or bad network connection. Possible fixes:\\n\"+\n     \"</p>\\n\"+\n     \"<ul>\\n\"+\n     \"<li>re-rerun `output_notebook()` to attempt to load from CDN again, or</li>\\n\"+\n     \"<li>use INLINE resources instead, as so:</li>\\n\"+\n     \"</ul>\\n\"+\n     \"<code>\\n\"+\n     \"from bokeh.resources import INLINE\\n\"+\n     \"output_notebook(resources=INLINE)\\n\"+\n     \"</code>\\n\"+\n     \"</div>\"}};\n\n  function display_loaded() {\n    const el = document.getElementById(\"2157\");\n    if (el != null) {\n      el.textContent = \"BokehJS is loading...\";\n    }\n    if (root.Bokeh !== undefined) {\n      if (el != null) {\n        el.textContent = \"BokehJS \" + root.Bokeh.version + \" successfully loaded.\";\n      }\n    } else if (Date.now() < root._bokeh_timeout) {\n      setTimeout(display_loaded, 100)\n    }\n  }\n\n  function run_callbacks() {\n    try {\n      root._bokeh_onload_callbacks.forEach(function(callback) {\n        if (callback != null)\n          callback();\n      });\n    } finally {\n      delete root._bokeh_onload_callbacks\n    }\n    console.debug(\"Bokeh: all callbacks have finished\");\n  }\n\n  function load_libs(css_urls, js_urls, callback) {\n    if (css_urls == null) css_urls = [];\n    if (js_urls == null) js_urls = [];\n\n    root._bokeh_onload_callbacks.push(callback);\n    if (root._bokeh_is_loading > 0) {\n      console.debug(\"Bokeh: BokehJS is being loaded, scheduling callback at\", now());\n      return null;\n    }\n    if (js_urls == null || js_urls.length === 0) {\n      run_callbacks();\n      return null;\n    }\n    console.debug(\"Bokeh: BokehJS not loaded, scheduling load and callback at\", now());\n    root._bokeh_is_loading = css_urls.length + js_urls.length;\n\n    function on_load() {\n      root._bokeh_is_loading--;\n      if (root._bokeh_is_loading === 0) {\n        console.debug(\"Bokeh: all BokehJS libraries/stylesheets loaded\");\n        run_callbacks()\n      }\n    }\n\n    function on_error(url) {\n      console.error(\"failed to load \" + url);\n    }\n\n    for (let i = 0; i < css_urls.length; i++) {\n      const url = css_urls[i];\n      const element = document.createElement(\"link\");\n      element.onload = on_load;\n      element.onerror = on_error.bind(null, url);\n      element.rel = \"stylesheet\";\n      element.type = \"text/css\";\n      element.href = url;\n      console.debug(\"Bokeh: injecting link tag for BokehJS stylesheet: \", url);\n      document.body.appendChild(element);\n    }\n\n    for (let i = 0; i < js_urls.length; i++) {\n      const url = js_urls[i];\n      const element = document.createElement('script');\n      element.onload = on_load;\n      element.onerror = on_error.bind(null, url);\n      element.async = false;\n      element.src = url;\n      console.debug(\"Bokeh: injecting script tag for BokehJS library: \", url);\n      document.head.appendChild(element);\n    }\n  };\n\n  function inject_raw_css(css) {\n    const element = document.createElement(\"style\");\n    element.appendChild(document.createTextNode(css));\n    document.body.appendChild(element);\n  }\n\n  const js_urls = [\"https://cdn.bokeh.org/bokeh/release/bokeh-2.4.3.min.js\", \"https://cdn.bokeh.org/bokeh/release/bokeh-gl-2.4.3.min.js\", \"https://cdn.bokeh.org/bokeh/release/bokeh-widgets-2.4.3.min.js\", \"https://cdn.bokeh.org/bokeh/release/bokeh-tables-2.4.3.min.js\", \"https://cdn.bokeh.org/bokeh/release/bokeh-mathjax-2.4.3.min.js\"];\n  const css_urls = [];\n\n  const inline_js = [    function(Bokeh) {\n      Bokeh.set_log_level(\"info\");\n    },\nfunction(Bokeh) {\n    }\n  ];\n\n  function run_inline_js() {\n    if (root.Bokeh !== undefined || force === true) {\n          for (let i = 0; i < inline_js.length; i++) {\n      inline_js[i].call(root, root.Bokeh);\n    }\nif (force === true) {\n        display_loaded();\n      }} else if (Date.now() < root._bokeh_timeout) {\n      setTimeout(run_inline_js, 100);\n    } else if (!root._bokeh_failed_load) {\n      console.log(\"Bokeh: BokehJS failed to load within specified timeout.\");\n      root._bokeh_failed_load = true;\n    } else if (force !== true) {\n      const cell = $(document.getElementById(\"2157\")).parents('.cell').data().cell;\n      cell.output_area.append_execute_result(NB_LOAD_WARNING)\n    }\n  }\n\n  if (root._bokeh_is_loading === 0) {\n    console.debug(\"Bokeh: BokehJS loaded, going straight to plotting\");\n    run_inline_js();\n  } else {\n    load_libs(css_urls, js_urls, function() {\n      console.debug(\"Bokeh: BokehJS plotting callback run at\", now());\n      run_inline_js();\n    });\n  }\n}(window));",
      "application/vnd.bokehjs_load.v0+json": "(function(root) {\n  function now() {\n    return new Date();\n  }\n\n  const force = true;\n\n  if (typeof root._bokeh_onload_callbacks === \"undefined\" || force === true) {\n    root._bokeh_onload_callbacks = [];\n    root._bokeh_is_loading = undefined;\n  }\n\n\n  if (typeof (root._bokeh_timeout) === \"undefined\" || force === true) {\n    root._bokeh_timeout = Date.now() + 5000;\n    root._bokeh_failed_load = false;\n  }\n\n  const NB_LOAD_WARNING = {'data': {'text/html':\n     \"<div style='background-color: #fdd'>\\n\"+\n     \"<p>\\n\"+\n     \"BokehJS does not appear to have successfully loaded. If loading BokehJS from CDN, this \\n\"+\n     \"may be due to a slow or bad network connection. Possible fixes:\\n\"+\n     \"</p>\\n\"+\n     \"<ul>\\n\"+\n     \"<li>re-rerun `output_notebook()` to attempt to load from CDN again, or</li>\\n\"+\n     \"<li>use INLINE resources instead, as so:</li>\\n\"+\n     \"</ul>\\n\"+\n     \"<code>\\n\"+\n     \"from bokeh.resources import INLINE\\n\"+\n     \"output_notebook(resources=INLINE)\\n\"+\n     \"</code>\\n\"+\n     \"</div>\"}};\n\n  function display_loaded() {\n    const el = document.getElementById(\"2157\");\n    if (el != null) {\n      el.textContent = \"BokehJS is loading...\";\n    }\n    if (root.Bokeh !== undefined) {\n      if (el != null) {\n        el.textContent = \"BokehJS \" + root.Bokeh.version + \" successfully loaded.\";\n      }\n    } else if (Date.now() < root._bokeh_timeout) {\n      setTimeout(display_loaded, 100)\n    }\n  }\n\n  function run_callbacks() {\n    try {\n      root._bokeh_onload_callbacks.forEach(function(callback) {\n        if (callback != null)\n          callback();\n      });\n    } finally {\n      delete root._bokeh_onload_callbacks\n    }\n    console.debug(\"Bokeh: all callbacks have finished\");\n  }\n\n  function load_libs(css_urls, js_urls, callback) {\n    if (css_urls == null) css_urls = [];\n    if (js_urls == null) js_urls = [];\n\n    root._bokeh_onload_callbacks.push(callback);\n    if (root._bokeh_is_loading > 0) {\n      console.debug(\"Bokeh: BokehJS is being loaded, scheduling callback at\", now());\n      return null;\n    }\n    if (js_urls == null || js_urls.length === 0) {\n      run_callbacks();\n      return null;\n    }\n    console.debug(\"Bokeh: BokehJS not loaded, scheduling load and callback at\", now());\n    root._bokeh_is_loading = css_urls.length + js_urls.length;\n\n    function on_load() {\n      root._bokeh_is_loading--;\n      if (root._bokeh_is_loading === 0) {\n        console.debug(\"Bokeh: all BokehJS libraries/stylesheets loaded\");\n        run_callbacks()\n      }\n    }\n\n    function on_error(url) {\n      console.error(\"failed to load \" + url);\n    }\n\n    for (let i = 0; i < css_urls.length; i++) {\n      const url = css_urls[i];\n      const element = document.createElement(\"link\");\n      element.onload = on_load;\n      element.onerror = on_error.bind(null, url);\n      element.rel = \"stylesheet\";\n      element.type = \"text/css\";\n      element.href = url;\n      console.debug(\"Bokeh: injecting link tag for BokehJS stylesheet: \", url);\n      document.body.appendChild(element);\n    }\n\n    for (let i = 0; i < js_urls.length; i++) {\n      const url = js_urls[i];\n      const element = document.createElement('script');\n      element.onload = on_load;\n      element.onerror = on_error.bind(null, url);\n      element.async = false;\n      element.src = url;\n      console.debug(\"Bokeh: injecting script tag for BokehJS library: \", url);\n      document.head.appendChild(element);\n    }\n  };\n\n  function inject_raw_css(css) {\n    const element = document.createElement(\"style\");\n    element.appendChild(document.createTextNode(css));\n    document.body.appendChild(element);\n  }\n\n  const js_urls = [\"https://cdn.bokeh.org/bokeh/release/bokeh-2.4.3.min.js\", \"https://cdn.bokeh.org/bokeh/release/bokeh-gl-2.4.3.min.js\", \"https://cdn.bokeh.org/bokeh/release/bokeh-widgets-2.4.3.min.js\", \"https://cdn.bokeh.org/bokeh/release/bokeh-tables-2.4.3.min.js\", \"https://cdn.bokeh.org/bokeh/release/bokeh-mathjax-2.4.3.min.js\"];\n  const css_urls = [];\n\n  const inline_js = [    function(Bokeh) {\n      Bokeh.set_log_level(\"info\");\n    },\nfunction(Bokeh) {\n    }\n  ];\n\n  function run_inline_js() {\n    if (root.Bokeh !== undefined || force === true) {\n          for (let i = 0; i < inline_js.length; i++) {\n      inline_js[i].call(root, root.Bokeh);\n    }\nif (force === true) {\n        display_loaded();\n      }} else if (Date.now() < root._bokeh_timeout) {\n      setTimeout(run_inline_js, 100);\n    } else if (!root._bokeh_failed_load) {\n      console.log(\"Bokeh: BokehJS failed to load within specified timeout.\");\n      root._bokeh_failed_load = true;\n    } else if (force !== true) {\n      const cell = $(document.getElementById(\"2157\")).parents('.cell').data().cell;\n      cell.output_area.append_execute_result(NB_LOAD_WARNING)\n    }\n  }\n\n  if (root._bokeh_is_loading === 0) {\n    console.debug(\"Bokeh: BokehJS loaded, going straight to plotting\");\n    run_inline_js();\n  } else {\n    load_libs(css_urls, js_urls, function() {\n      console.debug(\"Bokeh: BokehJS plotting callback run at\", now());\n      run_inline_js();\n    });\n  }\n}(window));"
     },
     "metadata": {},
     "output_type": "display_data"
    },
    {
     "ename": "KeyError",
     "evalue": "'Flat Out Vs. Input | Hits | Hamming'",
     "output_type": "error",
     "traceback": [
      "\u001B[0;31m---------------------------------------------------------------------------\u001B[0m",
      "\u001B[0;31mKeyError\u001B[0m                                  Traceback (most recent call last)",
      "Cell \u001B[0;32mIn[31], line 3\u001B[0m\n\u001B[1;32m      1\u001B[0m \u001B[38;5;28;01mfrom\u001B[39;00m\u001B[38;5;250m \u001B[39m\u001B[38;5;21;01mBinnifyCompiledStreams\u001B[39;00m\u001B[38;5;250m \u001B[39m\u001B[38;5;28;01mimport\u001B[39;00m bin_y_within_percentiles\n\u001B[0;32m----> 3\u001B[0m bin_y_within_percentiles(x\u001B[38;5;241m=\u001B[39m\u001B[43medges_dict\u001B[49m\u001B[43m[\u001B[49m\u001B[38;5;124;43m\"\u001B[39;49m\u001B[38;5;124;43mFlat Out Vs. Input | Hits | Hamming\u001B[39;49m\u001B[38;5;124;43m\"\u001B[39;49m\u001B[43m]\u001B[49m,\n\u001B[1;32m      4\u001B[0m                         y\u001B[38;5;241m=\u001B[39medges_dict[\u001B[38;5;124m\"\u001B[39m\u001B[38;5;124mFlat Out Vs. Input | Accent | Hamming\u001B[39m\u001B[38;5;124m\"\u001B[39m],\n\u001B[1;32m      5\u001B[0m                         n_bins\u001B[38;5;241m=\u001B[39m\u001B[38;5;241m10\u001B[39m,\n\u001B[1;32m      6\u001B[0m                         l_percentile\u001B[38;5;241m=\u001B[39m\u001B[38;5;241m0.0\u001B[39m,\n\u001B[1;32m      7\u001B[0m                         h_percentile\u001B[38;5;241m=\u001B[39m\u001B[38;5;241m0.9\u001B[39m,\n\u001B[1;32m      8\u001B[0m                         return_binned_y\u001B[38;5;241m=\u001B[39m\u001B[38;5;28;01mTrue\u001B[39;00m)\n",
      "\u001B[0;31mKeyError\u001B[0m: 'Flat Out Vs. Input | Hits | Hamming'"
     ]
    }
   ],
   "execution_count": 31
  },
  {
   "metadata": {
    "ExecuteTime": {
     "end_time": "2025-08-10T17:42:11.561551Z",
     "start_time": "2025-08-10T14:52:20.874163Z"
    }
   },
   "cell_type": "code",
   "source": "",
   "id": "7afc2dac598ae4b",
   "outputs": [],
   "execution_count": null
  },
  {
   "metadata": {
    "ExecuteTime": {
     "end_time": "2025-08-10T17:42:11.561619Z",
     "start_time": "2025-08-10T14:52:20.882011Z"
    }
   },
   "cell_type": "code",
   "source": "",
   "id": "5bd5747dc5160217",
   "outputs": [],
   "execution_count": null
  },
  {
   "metadata": {
    "ExecuteTime": {
     "end_time": "2025-08-10T17:42:11.561690Z",
     "start_time": "2025-08-10T14:52:20.890005Z"
    }
   },
   "cell_type": "code",
   "source": "",
   "id": "c360a82a1aa7324a",
   "outputs": [],
   "execution_count": null
  }
 ],
 "metadata": {
  "kernelspec": {
   "display_name": "Python TripleStreams",
   "language": "python",
   "name": "triplestreams"
  },
  "language_info": {
   "codemirror_mode": {
    "name": "ipython",
    "version": 3
   },
   "file_extension": ".py",
   "mimetype": "text/x-python",
   "name": "python",
   "nbconvert_exporter": "python",
   "pygments_lexer": "ipython3",
   "version": "3.9.23"
  }
 },
 "nbformat": 4,
 "nbformat_minor": 5
}
