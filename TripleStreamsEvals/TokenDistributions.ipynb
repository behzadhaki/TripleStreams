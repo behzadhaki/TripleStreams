{
 "cells": [
  {
   "cell_type": "code",
   "id": "initial_id",
   "metadata": {
    "collapsed": true,
    "ExecuteTime": {
     "end_time": "2025-08-16T09:41:30.577846Z",
     "start_time": "2025-08-16T09:41:30.575938Z"
    }
   },
   "source": [
    "import sys\n",
    "sys.path.insert(0, '../')"
   ],
   "outputs": [],
   "execution_count": 11
  },
  {
   "metadata": {
    "ExecuteTime": {
     "end_time": "2025-08-16T09:41:30.594147Z",
     "start_time": "2025-08-16T09:41:30.591723Z"
    }
   },
   "cell_type": "code",
   "source": [
    "import numpy as np\n",
    "import yaml\n",
    "from matplotlib import pyplot as plt\n",
    "import logging\n",
    "logging.getLogger('matplotlib').setLevel(logging.WARNING)\n",
    "import os\n",
    "os.environ.pop(\"MPLDEBUG\", None)\n",
    "\n",
    "import torch\n",
    "from torch.utils.data import DataLoader\n",
    "from model import TripleStreamsVAE\n",
    "from data import get_triplestream_dataset\n",
    "from helpers.control_feature_utils import run_inference_and_extract_features, run_inference, extract_control_features"
   ],
   "id": "fb2fbd245d613321",
   "outputs": [],
   "execution_count": 12
  },
  {
   "metadata": {},
   "cell_type": "markdown",
   "source": [
    "## Load Dataset\n",
    "\n",
    "### Note: First run, it will take a while to load the dataset, but it will be cached for future runs."
   ],
   "id": "ac86cdd70bd86e0c"
  },
  {
   "metadata": {
    "ExecuteTime": {
     "end_time": "2025-08-16T09:42:28.680192Z",
     "start_time": "2025-08-16T09:41:30.606887Z"
    }
   },
   "cell_type": "code",
   "source": [
    "config = yaml.safe_load(open('../helpers/configs/TripleStreams_0.5.yaml', 'r'))\n",
    "config['dataset_root_path'] = os.path.join(\"../\", config['dataset_root_path'])\n",
    "\n",
    "is_testing = False\n",
    "\n",
    "dataset = get_triplestream_dataset(\n",
    "        config=config,\n",
    "        subset_tag=\"validation\",\n",
    "        use_cached=True,\n",
    "        downsampled_size=10000 if is_testing else None,\n",
    "        print_logs=False                                #<---  Set to True to print dataset loading logs\n",
    "    )"
   ],
   "id": "d6b60049f3e0fc77",
   "outputs": [],
   "execution_count": 13
  },
  {
   "metadata": {
    "ExecuteTime": {
     "end_time": "2025-08-16T09:42:28.686228Z",
     "start_time": "2025-08-16T09:42:28.683521Z"
    }
   },
   "cell_type": "code",
   "source": [
    "\n",
    "dataloader = DataLoader(\n",
    "    dataset,\n",
    "    batch_size=1024 ,\n",
    "    shuffle=False,\n",
    "    num_workers=0\n",
    ")"
   ],
   "id": "1357781ea094e7f",
   "outputs": [],
   "execution_count": 14
  },
  {
   "metadata": {},
   "cell_type": "markdown",
   "source": "## Load Model",
   "id": "de724064e23a26b4"
  },
  {
   "metadata": {
    "ExecuteTime": {
     "end_time": "2025-08-16T09:42:28.814714Z",
     "start_time": "2025-08-16T09:42:28.692220Z"
    }
   },
   "cell_type": "code",
   "source": [
    "from model import load_model\n",
    "model_path = 'models/step_190000.pth'\n",
    "model = load_model(\n",
    "    model_path=model_path,\n",
    "    model_class=TripleStreamsVAE,\n",
    "    params_dict=config,\n",
    "    is_evaluating=True\n",
    ")"
   ],
   "id": "34779fee10a1f210",
   "outputs": [],
   "execution_count": 15
  },
  {
   "metadata": {},
   "cell_type": "markdown",
   "source": "",
   "id": "362037d8c28b4926"
  },
  {
   "metadata": {
    "ExecuteTime": {
     "end_time": "2025-08-16T09:52:20.263414Z",
     "start_time": "2025-08-16T09:42:28.820501Z"
    }
   },
   "cell_type": "code",
   "source": [
    "# gt_data, pred_data, metadata = run_inference_and_extract_features(model, dataloader)\n",
    "# gt_data.keys(), pred_data.keys()\n",
    "inference_data = run_inference(model, dataloader)\n",
    "inference_data.keys()"
   ],
   "id": "be2bddbb2d5f3b49",
   "outputs": [
    {
     "name": "stderr",
     "output_type": "stream",
     "text": [
      "100%|██████████| 387/387 [09:50<00:00,  1.52s/it]  \n"
     ]
    },
    {
     "data": {
      "text/plain": [
       "dict_keys(['input_grooves_gt', 'output_streams_gt', 'flat_outputs_gt', 'encoding_control1_tokens_gt', 'encoding_control2_tokens_gt', 'decoding_control1_tokens_gt', 'decoding_control2_tokens_gt', 'decoding_control3_tokens_gt', 'output_streams_pred', 'flat_outputs_pred', 'metadata'])"
      ]
     },
     "execution_count": 16,
     "metadata": {},
     "output_type": "execute_result"
    }
   ],
   "execution_count": 16
  },
  {
   "metadata": {},
   "cell_type": "markdown",
   "source": "#### Get Token Distributions",
   "id": "9c87a396f191b83c"
  },
  {
   "metadata": {
    "ExecuteTime": {
     "end_time": "2025-08-16T09:52:43.163051Z",
     "start_time": "2025-08-16T09:52:20.291091Z"
    }
   },
   "cell_type": "code",
   "source": [
    "# GT_Control Features\n",
    "gt_controls = extract_control_features(\n",
    "    flat_input_hvo=inference_data['input_grooves_gt'],\n",
    "    flat_output_hvo=inference_data['flat_outputs_gt'],\n",
    "    output_streams_hvo=inference_data['output_streams_gt']\n",
    ")\n",
    "\n",
    "# Predicted Control Features\n",
    "pred_controls = extract_control_features(\n",
    "    flat_input_hvo=inference_data['input_grooves_gt'],\n",
    "    flat_output_hvo=inference_data['flat_outputs_pred'],\n",
    "    output_streams_hvo=inference_data['output_streams_pred']\n",
    ")\n",
    "\n",
    "gt_controls.keys(), pred_controls.keys()"
   ],
   "id": "9045da7ba924e17",
   "outputs": [
    {
     "data": {
      "text/plain": [
       "(dict_keys(['encoding_control1_tokens', 'decoding_control1_tokens', 'encoding_control2_tokens', 'decoding_control2_tokens', 'decoding_control3_tokens']),\n",
       " dict_keys(['encoding_control1_tokens', 'decoding_control1_tokens', 'encoding_control2_tokens', 'decoding_control2_tokens', 'decoding_control3_tokens']))"
      ]
     },
     "execution_count": 17,
     "metadata": {},
     "output_type": "execute_result"
    }
   ],
   "execution_count": 17
  },
  {
   "metadata": {
    "ExecuteTime": {
     "end_time": "2025-08-16T09:52:43.230994Z",
     "start_time": "2025-08-16T09:52:43.228202Z"
    }
   },
   "cell_type": "code",
   "source": "(gt_controls['encoding_control2_tokens'] - dataset.encoding_control2_tokens.numpy()).max()",
   "id": "6bb4386c5eaa533",
   "outputs": [
    {
     "data": {
      "text/plain": [
       "9"
      ]
     },
     "execution_count": 18,
     "metadata": {},
     "output_type": "execute_result"
    }
   ],
   "execution_count": 18
  },
  {
   "metadata": {
    "ExecuteTime": {
     "end_time": "2025-08-16T09:52:43.568170Z",
     "start_time": "2025-08-16T09:52:43.311453Z"
    }
   },
   "cell_type": "code",
   "source": [
    "def plot_token_distributions(gt_tokens, pred_tokens, title, ax=None):\n",
    "    # tokens are assumed to have 0 to N integer values\n",
    "    n_bins = max(gt_tokens.max(), pred_tokens.max()) + 1\n",
    "    bin_edges = np.arange(n_bins + 1) - 0.5  # Create bin edges centered on integers\n",
    "    gt_hist, _ = np.histogram(gt_tokens, bins=bin_edges)\n",
    "    pred_hist, _ = np.histogram(pred_tokens, bins=bin_edges)\n",
    "    width = 0.35  # Width of the bars\n",
    "    x = np.arange(n_bins)  # The label locations\n",
    "    if ax is None:\n",
    "        fig, ax = plt.subplots(figsize=(3, 2))\n",
    "    ax.bar(x - width/2, gt_hist, width, label='Ground Truth', alpha=0.7, color='blue')\n",
    "    ax.bar(x + width/2, pred_hist, width, label='Predicted', alpha=0.7, color='orange')\n",
    "    ax.set_xlabel('Token Value')\n",
    "    ax.set_ylabel('Frequency')\n",
    "    ax.set_title(title)\n",
    "    ax.set_xticks([x[0], x[-1]])  # Show every second tick for clarity\n",
    "    ax.set_xticklabels([0, 1])\n",
    "    ax.legend()\n",
    "\n",
    "\n",
    "# create a 1x2 grid of subplots\n",
    "fig, axs = plt.subplots(1, 2, figsize=(15, 3))\n",
    "\n",
    "# Plot Encoding Control 1 Tokens\n",
    "plot_token_distributions(\n",
    "    gt_tokens=gt_controls['encoding_control1_tokens'],\n",
    "    pred_tokens=pred_controls['encoding_control1_tokens'],\n",
    "    title='Encoding Control 1 Tokens Distribution',\n",
    "    ax=axs[0]\n",
    ")\n",
    "\n",
    "# Plot Encoding Control 2 Tokens\n",
    "plot_token_distributions(\n",
    "    gt_tokens=gt_controls['encoding_control2_tokens'],\n",
    "    pred_tokens=pred_controls['encoding_control2_tokens'],\n",
    "    title='Encoding Control 2 Tokens Distribution',\n",
    "    ax=axs[1]\n",
    ")\n",
    "\n",
    "plt.tight_layout()\n",
    "plt.show()\n",
    "\n",
    "fig, axs = plt.subplots(1, 3, figsize=(15, 3))\n",
    "# Plot Decoding Control 1 Tokens\n",
    "plot_token_distributions(\n",
    "    gt_tokens=gt_controls['decoding_control1_tokens'],\n",
    "    pred_tokens=pred_controls['decoding_control1_tokens'],\n",
    "    title='Decoding Control 1 Tokens Distribution',\n",
    "    ax=axs[0]\n",
    ")\n",
    "\n",
    "# Plot Decoding Control 2 Tokens\n",
    "plot_token_distributions(\n",
    "    gt_tokens=gt_controls['decoding_control2_tokens'],\n",
    "    pred_tokens=pred_controls['decoding_control2_tokens'],\n",
    "    title='Decoding Control 2 Tokens Distribution',\n",
    "    ax=axs[1]\n",
    ")\n",
    "\n",
    "# Plot Decoding Control 3 Tokens\n",
    "plot_token_distributions(\n",
    "    gt_tokens=gt_controls['decoding_control3_tokens'],\n",
    "    pred_tokens=pred_controls['decoding_control3_tokens'],\n",
    "    title='Decoding Control 3 Tokens Distribution',\n",
    "    ax=axs[2]\n",
    ")\n",
    "plt.tight_layout()\n",
    "plt.show()"
   ],
   "id": "7a471a9ded2d24f6",
   "outputs": [
    {
     "data": {
      "text/plain": [
       "<Figure size 1500x300 with 2 Axes>"
      ],
      "image/png": "[encoded data removed]"
     },
     "metadata": {},
     "output_type": "display_data"
    },
    {
     "data": {
      "text/plain": [
       "<Figure size 1500x300 with 3 Axes>"
      ],
      "image/png": "[encoded data removed]"
     },
     "metadata": {},
     "output_type": "display_data"
    }
   ],
   "execution_count": 19
  },
  {
   "metadata": {},
   "cell_type": "markdown",
   "source": "",
   "id": "96525b42c41db47f"
  },
  {
   "metadata": {
    "ExecuteTime": {
     "end_time": "2025-08-16T09:52:43.580715Z",
     "start_time": "2025-08-16T09:52:43.579598Z"
    }
   },
   "cell_type": "code",
   "source": "",
   "id": "8eabe0f29670036",
   "outputs": [],
   "execution_count": null
  },
  {
   "metadata": {
    "ExecuteTime": {
     "end_time": "2025-08-16T09:52:43.590688Z",
     "start_time": "2025-08-16T09:52:43.588464Z"
    }
   },
   "cell_type": "code",
   "source": [
    "# get counts\n",
    "np.count_nonzero(gt_controls['encoding_control2_tokens']),  np.count_nonzero(dataset.encoding_control2_tokens)"
   ],
   "id": "96a642e47bef7baf",
   "outputs": [
    {
     "data": {
      "text/plain": [
       "(322038, 366138)"
      ]
     },
     "execution_count": 20,
     "metadata": {},
     "output_type": "execute_result"
    }
   ],
   "execution_count": 20
  },
  {
   "metadata": {
    "ExecuteTime": {
     "end_time": "2025-08-16T09:52:43.599229Z",
     "start_time": "2025-08-16T09:52:43.598075Z"
    }
   },
   "cell_type": "code",
   "source": "",
   "id": "a5ba91914de63905",
   "outputs": [],
   "execution_count": null
  }
 ],
 "metadata": {
  "kernelspec": {
   "display_name": "Python (TripleStreams)",
   "language": "python",
   "name": "triplestreams"
  },
  "language_info": {
   "codemirror_mode": {
    "name": "ipython",
    "version": 2
   },
   "file_extension": ".py",
   "mimetype": "text/x-python",
   "name": "python",
   "nbconvert_exporter": "python",
   "pygments_lexer": "ipython2",
   "version": "2.7.6"
  }
 },
 "nbformat": 4,
 "nbformat_minor": 5
}
