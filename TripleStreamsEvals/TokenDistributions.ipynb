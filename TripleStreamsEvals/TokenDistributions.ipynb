{
 "cells": [
  {
   "cell_type": "code",
   "id": "initial_id",
   "metadata": {
    "collapsed": true,
    "ExecuteTime": {
     "end_time": "2025-08-15T12:29:12.216767Z",
     "start_time": "2025-08-15T12:29:12.213272Z"
    }
   },
   "source": [
    "import sys\n",
    "sys.path.insert(0, '../')"
   ],
   "outputs": [],
   "execution_count": 1
  },
  {
   "metadata": {
    "ExecuteTime": {
     "end_time": "2025-08-15T12:29:13.611696Z",
     "start_time": "2025-08-15T12:29:12.219049Z"
    }
   },
   "cell_type": "code",
   "source": [
    "import numpy as np\n",
    "import yaml\n",
    "from matplotlib import pyplot as plt\n",
    "import logging\n",
    "logging.getLogger('matplotlib').setLevel(logging.WARNING)\n",
    "import os\n",
    "os.environ.pop(\"MPLDEBUG\", None)\n",
    "\n",
    "import torch\n",
    "from torch.utils.data import DataLoader\n",
    "from model import TripleStreamsVAE\n",
    "from data import get_triplestream_dataset\n",
    "from helpers.control_feature_utils import run_inference_and_extract_features, run_inference, extract_control_features"
   ],
   "id": "fb2fbd245d613321",
   "outputs": [
    {
     "name": "stderr",
     "output_type": "stream",
     "text": [
      "Could not import fluidsynth. AUDIO rendering will not work.\n",
      "Holoviews not installed. Please install holoviews to be able to generate heatmaps.\n"
     ]
    }
   ],
   "execution_count": 2
  },
  {
   "metadata": {},
   "cell_type": "markdown",
   "source": [
    "## Load Dataset\n",
    "\n",
    "### Note: First run, it will take a while to load the dataset, but it will be cached for future runs."
   ],
   "id": "ac86cdd70bd86e0c"
  },
  {
   "metadata": {
    "ExecuteTime": {
     "end_time": "2025-08-15T12:29:13.922691Z",
     "start_time": "2025-08-15T12:29:13.635422Z"
    }
   },
   "cell_type": "code",
   "source": [
    "config = yaml.safe_load(open('../helpers/configs/TripleStreams_0.5.yaml', 'r'))\n",
    "config['dataset_root_path'] = os.path.join(\"../\", config['dataset_root_path'])\n",
    "\n",
    "is_testing = True\n",
    "\n",
    "dataset = get_triplestream_dataset(\n",
    "        config=config,\n",
    "        subset_tag=\"validation\",\n",
    "        use_cached=True,\n",
    "        downsampled_size=10000 if is_testing else None,\n",
    "        print_logs=False                                #<---  Set to True to print dataset loading logs\n",
    "    )"
   ],
   "id": "d6b60049f3e0fc77",
   "outputs": [],
   "execution_count": 3
  },
  {
   "metadata": {
    "ExecuteTime": {
     "end_time": "2025-08-15T12:29:13.930255Z",
     "start_time": "2025-08-15T12:29:13.928705Z"
    }
   },
   "cell_type": "code",
   "source": [
    "\n",
    "dataloader = DataLoader(\n",
    "    dataset,\n",
    "    batch_size=1024 ,\n",
    "    shuffle=False,\n",
    "    num_workers=0\n",
    ")"
   ],
   "id": "1357781ea094e7f",
   "outputs": [],
   "execution_count": 4
  },
  {
   "metadata": {},
   "cell_type": "markdown",
   "source": "## Load Model",
   "id": "de724064e23a26b4"
  },
  {
   "metadata": {
    "ExecuteTime": {
     "end_time": "2025-08-15T12:29:14.040107Z",
     "start_time": "2025-08-15T12:29:13.934891Z"
    }
   },
   "cell_type": "code",
   "source": [
    "from model import load_model\n",
    "model_path = 'models/step_70000.pth'\n",
    "model = load_model(\n",
    "    model_path=model_path,\n",
    "    model_class=TripleStreamsVAE,\n",
    "    params_dict=config,\n",
    "    is_evaluating=True\n",
    ")"
   ],
   "id": "34779fee10a1f210",
   "outputs": [],
   "execution_count": 5
  },
  {
   "metadata": {},
   "cell_type": "markdown",
   "source": "",
   "id": "362037d8c28b4926"
  },
  {
   "metadata": {
    "ExecuteTime": {
     "end_time": "2025-08-15T12:29:25.038343Z",
     "start_time": "2025-08-15T12:29:14.044530Z"
    }
   },
   "cell_type": "code",
   "source": [
    "# gt_data, pred_data, metadata = run_inference_and_extract_features(model, dataloader)\n",
    "# gt_data.keys(), pred_data.keys()\n",
    "inference_data = run_inference(model, dataloader)\n",
    "inference_data.keys()"
   ],
   "id": "be2bddbb2d5f3b49",
   "outputs": [
    {
     "name": "stderr",
     "output_type": "stream",
     "text": [
      "100%|██████████| 10/10 [00:10<00:00,  1.09s/it]\n"
     ]
    },
    {
     "data": {
      "text/plain": [
       "dict_keys(['input_grooves_gt', 'output_streams_gt', 'flat_outputs_gt', 'encoding_control1_tokens_gt', 'encoding_control2_tokens_gt', 'decoding_control1_tokens_gt', 'decoding_control2_tokens_gt', 'decoding_control3_tokens_gt', 'output_streams_pred', 'flat_outputs_pred', 'metadata'])"
      ]
     },
     "execution_count": 6,
     "metadata": {},
     "output_type": "execute_result"
    }
   ],
   "execution_count": 6
  },
  {
   "metadata": {},
   "cell_type": "markdown",
   "source": "#### Get Token Distributions",
   "id": "9c87a396f191b83c"
  },
  {
   "metadata": {
    "ExecuteTime": {
     "end_time": "2025-08-15T12:29:25.599417Z",
     "start_time": "2025-08-15T12:29:25.050561Z"
    }
   },
   "cell_type": "code",
   "source": [
    "# GT_Control Features\n",
    "gt_controls = extract_control_features(\n",
    "    flat_input_hvo=inference_data['input_grooves_gt'],\n",
    "    flat_output_hvo=inference_data['flat_outputs_gt'],\n",
    "    output_streams_hvo=inference_data['output_streams_gt']\n",
    ")\n",
    "\n",
    "# Predicted Control Features\n",
    "pred_controls = extract_control_features(\n",
    "    flat_input_hvo=inference_data['input_grooves_gt'],\n",
    "    flat_output_hvo=inference_data['flat_outputs_pred'],\n",
    "    output_streams_hvo=inference_data['output_streams_pred']\n",
    ")\n",
    "\n",
    "gt_controls.keys(), pred_controls.keys()"
   ],
   "id": "9045da7ba924e17",
   "outputs": [
    {
     "data": {
      "text/plain": [
       "(dict_keys(['encoding_control1_tokens', 'decoding_control1_tokens', 'encoding_control2_tokens', 'decoding_control2_tokens', 'decoding_control3_tokens']),\n",
       " dict_keys(['encoding_control1_tokens', 'decoding_control1_tokens', 'encoding_control2_tokens', 'decoding_control2_tokens', 'decoding_control3_tokens']))"
      ]
     },
     "execution_count": 7,
     "metadata": {},
     "output_type": "execute_result"
    }
   ],
   "execution_count": 7
  },
  {
   "metadata": {
    "ExecuteTime": {
     "end_time": "2025-08-15T12:29:25.672510Z",
     "start_time": "2025-08-15T12:29:25.665088Z"
    }
   },
   "cell_type": "code",
   "source": "(gt_controls['encoding_control2_tokens'] - dataset.encoding_control2_tokens.numpy()).max()",
   "id": "6bb4386c5eaa533",
   "outputs": [
    {
     "data": {
      "text/plain": [
       "9"
      ]
     },
     "execution_count": 8,
     "metadata": {},
     "output_type": "execute_result"
    }
   ],
   "execution_count": 8
  },
  {
   "metadata": {
    "ExecuteTime": {
     "end_time": "2025-08-15T12:43:12.114421Z",
     "start_time": "2025-08-15T12:43:11.889351Z"
    }
   },
   "cell_type": "code",
   "source": [
    "def plot_token_distributions(gt_tokens, pred_tokens, title, ax=None):\n",
    "    # tokens are assumed to have 0 to N integer values\n",
    "    n_bins = max(gt_tokens.max(), pred_tokens.max()) + 1\n",
    "    bin_edges = np.arange(n_bins + 1) - 0.5  # Create bin edges centered on integers\n",
    "    gt_hist, _ = np.histogram(gt_tokens, bins=bin_edges)\n",
    "    pred_hist, _ = np.histogram(pred_tokens, bins=bin_edges)\n",
    "    width = 0.35  # Width of the bars\n",
    "    x = np.arange(n_bins)  # The label locations\n",
    "    if ax is None:\n",
    "        fig, ax = plt.subplots(figsize=(3, 2))\n",
    "    ax.bar(x - width/2, gt_hist, width, label='Ground Truth', alpha=0.7, color='blue')\n",
    "    ax.bar(x + width/2, pred_hist, width, label='Predicted', alpha=0.7, color='orange')\n",
    "    ax.set_xlabel('Token Value')\n",
    "    ax.set_ylabel('Frequency')\n",
    "    ax.set_title(title)\n",
    "    ax.set_xticks([x[0], x[-1]])  # Show every second tick for clarity\n",
    "    ax.set_xticklabels([0, 1])\n",
    "    ax.legend()\n",
    "\n",
    "\n",
    "# create a 1x2 grid of subplots\n",
    "fig, axs = plt.subplots(1, 2, figsize=(15, 3))\n",
    "\n",
    "# Plot Encoding Control 1 Tokens\n",
    "plot_token_distributions(\n",
    "    gt_tokens=gt_controls['encoding_control1_tokens'],\n",
    "    pred_tokens=pred_controls['encoding_control1_tokens'],\n",
    "    title='Encoding Control 1 Tokens Distribution',\n",
    "    ax=axs[0]\n",
    ")\n",
    "\n",
    "# Plot Encoding Control 2 Tokens\n",
    "plot_token_distributions(\n",
    "    gt_tokens=gt_controls['encoding_control2_tokens'],\n",
    "    pred_tokens=pred_controls['encoding_control2_tokens'],\n",
    "    title='Encoding Control 2 Tokens Distribution',\n",
    "    ax=axs[1]\n",
    ")\n",
    "\n",
    "plt.tight_layout()\n",
    "plt.show()\n",
    "\n",
    "fig, axs = plt.subplots(1, 3, figsize=(15, 3))\n",
    "# Plot Decoding Control 1 Tokens\n",
    "plot_token_distributions(\n",
    "    gt_tokens=gt_controls['decoding_control1_tokens'],\n",
    "    pred_tokens=pred_controls['decoding_control1_tokens'],\n",
    "    title='Decoding Control 1 Tokens Distribution',\n",
    "    ax=axs[0]\n",
    ")\n",
    "\n",
    "# Plot Decoding Control 2 Tokens\n",
    "plot_token_distributions(\n",
    "    gt_tokens=gt_controls['decoding_control2_tokens'],\n",
    "    pred_tokens=pred_controls['decoding_control2_tokens'],\n",
    "    title='Decoding Control 2 Tokens Distribution',\n",
    "    ax=axs[1]\n",
    ")\n",
    "\n",
    "# Plot Decoding Control 3 Tokens\n",
    "plot_token_distributions(\n",
    "    gt_tokens=gt_controls['decoding_control3_tokens'],\n",
    "    pred_tokens=pred_controls['decoding_control3_tokens'],\n",
    "    title='Decoding Control 3 Tokens Distribution',\n",
    "    ax=axs[2]\n",
    ")\n",
    "plt.tight_layout()\n",
    "plt.show()"
   ],
   "id": "7a471a9ded2d24f6",
   "outputs": [
    {
     "data": {
      "text/plain": [
       "<Figure size 1500x300 with 2 Axes>"
      ],
      "image/png": "[encoded data removed]"
     },
     "metadata": {},
     "output_type": "display_data"
    },
    {
     "data": {
      "text/plain": [
       "<Figure size 1500x300 with 3 Axes>"
      ],
      "image/png": "[encoded data removed]"
     },
     "metadata": {},
     "output_type": "display_data"
    }
   ],
   "execution_count": 42
  },
  {
   "metadata": {},
   "cell_type": "markdown",
   "source": "",
   "id": "96525b42c41db47f"
  },
  {
   "metadata": {
    "ExecuteTime": {
     "end_time": "2025-08-15T12:37:45.435667Z",
     "start_time": "2025-08-15T12:37:45.420653Z"
    }
   },
   "cell_type": "code",
   "source": "",
   "id": "8eabe0f29670036",
   "outputs": [
    {
     "ename": "AttributeError",
     "evalue": "'numpy.ndarray' object has no attribute 'value_counts'",
     "output_type": "error",
     "traceback": [
      "\u001B[0;31m---------------------------------------------------------------------------\u001B[0m",
      "\u001B[0;31mAttributeError\u001B[0m                            Traceback (most recent call last)",
      "Cell \u001B[0;32mIn[18], line 1\u001B[0m\n\u001B[0;32m----> 1\u001B[0m (\u001B[43mgt_controls\u001B[49m\u001B[43m[\u001B[49m\u001B[38;5;124;43m'\u001B[39;49m\u001B[38;5;124;43mdecoding_control2_tokens\u001B[39;49m\u001B[38;5;124;43m'\u001B[39;49m\u001B[43m]\u001B[49m\u001B[38;5;241;43m.\u001B[39;49m\u001B[43mvalue_counts\u001B[49m() \u001B[38;5;241m==\u001B[39m gt_controls[\u001B[38;5;124m'\u001B[39m\u001B[38;5;124mdecoding_control3_tokens\u001B[39m\u001B[38;5;124m'\u001B[39m]\u001B[38;5;241m.\u001B[39mvalue_counts())\u001B[38;5;241m.\u001B[39mall()\n",
      "\u001B[0;31mAttributeError\u001B[0m: 'numpy.ndarray' object has no attribute 'value_counts'"
     ]
    }
   ],
   "execution_count": 18
  },
  {
   "metadata": {
    "ExecuteTime": {
     "end_time": "2025-08-15T12:42:35.837191Z",
     "start_time": "2025-08-15T12:42:35.833662Z"
    }
   },
   "cell_type": "code",
   "source": [
    "# get counts\n",
    "np.count_nonzero(gt_controls['encoding_control2_tokens']),  np.count_nonzero(dataset.encoding_control2_tokens)"
   ],
   "id": "96a642e47bef7baf",
   "outputs": [
    {
     "data": {
      "text/plain": [
       "(7880, 8971)"
      ]
     },
     "execution_count": 39,
     "metadata": {},
     "output_type": "execute_result"
    }
   ],
   "execution_count": 39
  },
  {
   "metadata": {},
   "cell_type": "code",
   "outputs": [],
   "execution_count": null,
   "source": "",
   "id": "a5ba91914de63905"
  }
 ],
 "metadata": {
  "kernelspec": {
   "display_name": "Python (TripleStreams)",
   "language": "python",
   "name": "triplestreams"
  },
  "language_info": {
   "codemirror_mode": {
    "name": "ipython",
    "version": 2
   },
   "file_extension": ".py",
   "mimetype": "text/x-python",
   "name": "python",
   "nbconvert_exporter": "python",
   "pygments_lexer": "ipython2",
   "version": "2.7.6"
  }
 },
 "nbformat": 4,
 "nbformat_minor": 5
}
