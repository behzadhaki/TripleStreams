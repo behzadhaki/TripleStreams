{
 "cells": [
  {
   "cell_type": "code",
   "execution_count": 1,
   "id": "f39abe0139f3ea29",
   "metadata": {
    "ExecuteTime": {
     "end_time": "2025-08-17T21:42:29.934006Z",
     "start_time": "2025-08-17T21:42:29.931715Z"
    }
   },
   "outputs": [],
   "source": [
    "import sys\n",
    "sys.path.insert(0, '../')"
   ]
  },
  {
   "cell_type": "code",
   "execution_count": 2,
   "id": "33c7270ea97a63ec",
   "metadata": {
    "ExecuteTime": {
     "end_time": "2025-08-17T21:42:31.180001Z",
     "start_time": "2025-08-17T21:42:30.022761Z"
    }
   },
   "outputs": [
    {
     "name": "stderr",
     "output_type": "stream",
     "text": [
      "/Users/bezha/anaconda3/envs/TripleStreams/lib/python3.9/site-packages/pydub/utils.py:170: RuntimeWarning: Couldn't find ffmpeg or avconv - defaulting to ffmpeg, but may not work\n",
      "  warn(\"Couldn't find ffmpeg or avconv - defaulting to ffmpeg, but may not work\", RuntimeWarning)\n",
      "Could not import fluidsynth. AUDIO rendering will not work.\n",
      "Holoviews not installed. Please install holoviews to be able to generate heatmaps.\n"
     ]
    }
   ],
   "source": [
    "import numpy as np\n",
    "import yaml\n",
    "from matplotlib import pyplot as plt\n",
    "import logging\n",
    "logging.getLogger('matplotlib').setLevel(logging.WARNING)\n",
    "import os\n",
    "os.environ.pop(\"MPLDEBUG\", None)\n",
    "import tqdm\n",
    "import torch\n",
    "from torch.utils.data import DataLoader\n",
    "from model import FlexControlTripleStreamsVAE\n",
    "from data import get_flexcontrol_triplestream_dataset\n",
    "\n"
   ]
  },
  {
   "cell_type": "markdown",
   "id": "f39ad373db3dd68c",
   "metadata": {},
   "source": [
    "## Load Dataset\n",
    "\n",
    "### Note: First run, it will take a while to load the dataset, but it will be cached for future runs."
   ]
  },
  {
   "cell_type": "code",
   "execution_count": 3,
   "id": "6e51f36f85b4215e",
   "metadata": {
    "ExecuteTime": {
     "end_time": "2025-08-17T21:42:31.243603Z",
     "start_time": "2025-08-17T21:42:31.182441Z"
    }
   },
   "outputs": [],
   "source": [
    "config = yaml.safe_load(open('../helpers/configs/FlexControlTripleStreams_0.5.yaml', 'r'))\n",
    "config['dataset_root_path'] = os.path.join(\"../\", config['dataset_root_path'])\n",
    "\n",
    "is_testing = True\n",
    "\n",
    "dataset = get_flexcontrol_triplestream_dataset(\n",
    "        config=config,\n",
    "        subset_tag=\"validation\",\n",
    "        use_cached=True,\n",
    "        downsampled_size=2000 if is_testing else None,\n",
    "        print_logs=False                                #<---  Set to True to print dataset loading logs\n",
    "    )"
   ]
  },
  {
   "cell_type": "markdown",
   "id": "350e2f7a9cce44bf",
   "metadata": {},
   "source": [
    "## Load Model"
   ]
  },
  {
   "cell_type": "code",
   "execution_count": 4,
   "id": "dc6f5203529a8a0c",
   "metadata": {
    "ExecuteTime": {
     "end_time": "2025-08-17T21:42:31.361267Z",
     "start_time": "2025-08-17T21:42:31.250271Z"
    }
   },
   "outputs": [],
   "source": [
    "from model import load_model\n",
    "model_path = 'models/step_463738.pth'\n",
    "model = load_model(\n",
    "    model_path=model_path,\n",
    "    model_class=FlexControlTripleStreamsVAE,\n",
    "    params_dict=config,\n",
    "    is_evaluating=True\n",
    ")"
   ]
  },
  {
   "cell_type": "markdown",
   "id": "10576d572af3d2c6",
   "metadata": {},
   "source": [
    "## Run Inference"
   ]
  },
  {
   "cell_type": "code",
   "execution_count": 7,
   "id": "95e1e7e04853fa4b",
   "metadata": {
    "ExecuteTime": {
     "end_time": "2025-08-17T21:42:31.985692Z",
     "start_time": "2025-08-17T21:42:31.366526Z"
    }
   },
   "outputs": [
    {
     "data": {
      "application/vnd.jupyter.widget-view+json": {
       "model_id": "2878395dd84e43f4be7d6b36922c96fe",
       "version_major": 2,
       "version_minor": 0
      },
      "text/plain": [
       "interactive(children=(IntSlider(value=0, description='Sample', max=1986), IntSlider(value=0, description='Outp…"
      ]
     },
     "metadata": {},
     "output_type": "display_data"
    }
   ],
   "source": [
    "from ipywidgets import interact, interactive, fixed, interact_manual\n",
    "import ipywidgets as widgets\n",
    "from data.triple_streams.triple_stream_data_utils import create_multitab_from_HVO_Sequences, compile_into_list_of_hvo_seqs\n",
    "from bokeh.io import save\n",
    "from IPython.display import HTML, display\n",
    "import torch\n",
    "import os\n",
    "\n",
    "drum_mapping = {\n",
    "    \"Input Groove\": [36],\n",
    "    \"Stream 1\": [37],\n",
    "    \"Stream 2\": [38],\n",
    "    \"Stream 3\": [39],\n",
    "}\n",
    "\n",
    "@interact_manual(\n",
    "    sample=widgets.IntSlider(min=0, max=len(dataset)-1, step=1, value=0, description='Sample'),\n",
    "    param1=widgets.IntSlider(min=0, max=32, step=1, value=0, description='Output/Input Difference'),\n",
    "    param2=widgets.IntSlider(min=0, max=4, step=1, value=0, description='Output/Input Accent Difference'),\n",
    "    param3=widgets.IntSlider(min=0, max=5, step=1, value=0, description='Density Stream 1'),\n",
    "    param4=widgets.IntSlider(min=0, max=5, step=1, value=0, description='Density Stream 2'),\n",
    "    param5=widgets.IntSlider(min=0, max=5, step=1, value=0, description='Density Stream 3')\n",
    ")\n",
    "def generate_function(sample, param1, param2, param3, param4, param5):\n",
    "    \"\"\"Generate and save plot as HTML file\"\"\"\n",
    "    print(f\"Generating with parameters: Sample={sample}, Controls=[{param1}, {param2}, {param3}, {param4}, {param5}]\")\n",
    "\n",
    "    model.eval()\n",
    "    with torch.no_grad():\n",
    "        input_groove = dataset.input_grooves[sample].unsqueeze(0)\n",
    "        encoding_control_tokens = torch.tensor([param1, param2]).unsqueeze(0)\n",
    "        decoding_control_tokens = torch.tensor([(5-param3), (5-param4), (5-param5)]).unsqueeze(0)\n",
    "\n",
    "        hvo, latent_z = model.predict(\n",
    "            flat_hvo_groove=input_groove,\n",
    "            encoding_control_tokens=encoding_control_tokens,\n",
    "            decoding_control_tokens=decoding_control_tokens,\n",
    "        )\n",
    "\n",
    "    hvo_sequence_list = compile_into_list_of_hvo_seqs(\n",
    "        input_hvos = input_groove,\n",
    "        output_hvos = hvo, \n",
    "        metadatas = [dataset.metadata[sample]]\n",
    "        \n",
    "    )\n",
    "\n",
    "    # Create the plot\n",
    "    tabs = create_multitab_from_HVO_Sequences(\n",
    "        hvos=hvo_sequence_list[0]\n",
    "    )\n",
    "\n",
    "    hvo_sequence_list[0]"
   ]
  },
  {
   "cell_type": "code",
   "execution_count": null,
   "id": "e999d7b3a4ea8a23",
   "metadata": {
    "ExecuteTime": {
     "end_time": "2025-08-17T21:42:31.993164Z",
     "start_time": "2025-08-17T21:42:31.991795Z"
    }
   },
   "outputs": [],
   "source": []
  },
  {
   "cell_type": "code",
   "execution_count": null,
   "id": "9a4561f2-3ea6-4f73-a329-b932632db5c0",
   "metadata": {
    "ExecuteTime": {
     "end_time": "2025-08-17T21:42:32.000220Z",
     "start_time": "2025-08-17T21:42:31.998886Z"
    }
   },
   "outputs": [],
   "source": []
  },
  {
   "cell_type": "code",
   "execution_count": null,
   "id": "44a7fe8a-4d2b-448f-9e4b-0a9482597611",
   "metadata": {
    "ExecuteTime": {
     "end_time": "2025-08-17T21:42:32.010676Z",
     "start_time": "2025-08-17T21:42:32.009502Z"
    }
   },
   "outputs": [],
   "source": []
  },
  {
   "cell_type": "code",
   "execution_count": null,
   "id": "f8858362-fa6e-48de-8429-b490f2339bf0",
   "metadata": {
    "ExecuteTime": {
     "end_time": "2025-08-17T21:42:32.022944Z",
     "start_time": "2025-08-17T21:42:32.021761Z"
    }
   },
   "outputs": [],
   "source": []
  },
  {
   "cell_type": "code",
   "execution_count": null,
   "id": "9233c1ea-998e-49c8-8177-bf7fba182d38",
   "metadata": {
    "ExecuteTime": {
     "end_time": "2025-08-17T21:42:32.037741Z",
     "start_time": "2025-08-17T21:42:32.036588Z"
    }
   },
   "outputs": [],
   "source": []
  },
  {
   "cell_type": "code",
   "execution_count": null,
   "id": "106cb48a-ee23-4f42-ba54-1f7a0aaf807a",
   "metadata": {
    "ExecuteTime": {
     "end_time": "2025-08-17T21:42:32.050186Z",
     "start_time": "2025-08-17T21:42:32.048927Z"
    }
   },
   "outputs": [],
   "source": []
  },
  {
   "cell_type": "code",
   "execution_count": null,
   "id": "e3e48bfe-8dee-4324-927a-30a2fed8892b",
   "metadata": {
    "ExecuteTime": {
     "end_time": "2025-08-17T21:42:32.061543Z",
     "start_time": "2025-08-17T21:42:32.060442Z"
    }
   },
   "outputs": [],
   "source": []
  },
  {
   "cell_type": "code",
   "execution_count": null,
   "id": "ce3d92c0-697a-4418-98f1-875d581898a0",
   "metadata": {
    "ExecuteTime": {
     "end_time": "2025-08-17T21:42:32.073334Z",
     "start_time": "2025-08-17T21:42:32.072119Z"
    }
   },
   "outputs": [],
   "source": []
  }
 ],
 "metadata": {
  "kernelspec": {
   "display_name": "Python (TripleStreams)",
   "language": "python",
   "name": "triplestreams"
  },
  "language_info": {
   "codemirror_mode": {
    "name": "ipython",
    "version": 3
   },
   "file_extension": ".py",
   "mimetype": "text/x-python",
   "name": "python",
   "nbconvert_exporter": "python",
   "pygments_lexer": "ipython3",
   "version": "3.9.23"
  }
 },
 "nbformat": 4,
 "nbformat_minor": 5
}
