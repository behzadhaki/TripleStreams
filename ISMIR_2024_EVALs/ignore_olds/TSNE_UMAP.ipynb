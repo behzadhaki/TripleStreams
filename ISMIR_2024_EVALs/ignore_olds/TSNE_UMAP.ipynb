{
 "cells": [
  {
   "cell_type": "code",
   "execution_count": 2,
   "id": "dc3d03bb57e4833a",
   "metadata": {
    "collapsed": false,
    "ExecuteTime": {
     "end_time": "2024-03-23T16:11:53.586821Z",
     "start_time": "2024-03-23T16:11:51.241277Z"
    }
   },
   "source": [
    "import wandb\n",
    "import os\n",
    "os.environ[\"WANDB_SILENT\"] = \"true\"\n",
    "\n",
    "import numpy as np\n",
    "import pandas as pd\n",
    "\n",
    "# import sys\n",
    "# sys.path.insert(0, \"../..\")\n",
    "\n",
    "%cd ..\n",
    "\n",
    "from helpers import load_model\n",
    "from model import GenreClassifier\n",
    "from data.src.dataLoaders import Groove2Drum2BarDataset\n",
    "from model import BaseVAE, MuteVAE\n",
    "\n",
    "import torch\n",
    "\n",
    "\n",
    "from bokeh.palettes import inferno, Category20b\n",
    "from bokeh.core.enums import MarkerType\n",
    "from bokeh.plotting import figure, show, save\n",
    "from bokeh.io import output_notebook, reset_output\n",
    "# output_notebook()"
   ],
   "outputs": []
  },
  {
   "cell_type": "code",
   "source": [
    "\n",
    "down_sampled_ratio=None\n",
    "# load dataset as torch.utils.data.Dataset\n",
    "dataset = Groove2Drum2BarDataset(\n",
    "    dataset_setting_json_path=\"data/dataset_json_settings/Balanced_6000_performed.json\",\n",
    "    subset_tag=\"test\",\n",
    "    max_len=32,\n",
    "    tapped_voice_idx=2,\n",
    "    collapse_tapped_sequence=True,\n",
    "    num_voice_density_bins=3,\n",
    "    num_tempo_bins=6,\n",
    "    num_global_density_bins=7,\n",
    "    augment_dataset=False,\n",
    "    force_regenerate=False\n",
    ")\n"
   ],
   "metadata": {
    "collapsed": false,
    "ExecuteTime": {
     "end_time": "2024-03-23T16:11:54.995162Z",
     "start_time": "2024-03-23T16:11:53.587663Z"
    }
   },
   "id": "d4200af59b7d9d42",
   "execution_count": 3,
   "outputs": []
  },
  {
   "cell_type": "markdown",
   "id": "06a0e58a",
   "metadata": {},
   "source": [
    "# Download model, load and Serialize"
   ]
  },
  {
   "cell_type": "code",
   "execution_count": 4,
   "id": "1198ebc5c3d66766",
   "metadata": {
    "collapsed": false,
    "ExecuteTime": {
     "end_time": "2024-03-23T16:11:56.137806Z",
     "start_time": "2024-03-23T16:11:54.995901Z"
    }
   },
   "source": [
    "from helpers import download_model_from_wandb, predict_using_model, load_model\n",
    "    \n",
    "# download_model_from_wandb(\"45\", 3, \"driven-frost-24\", GenreClassifier, new_path=\"./trained_models/genre_classifier.pth\")\n",
    "# download_model_from_wandb(\"155\", 1, \"lively-pond-9\", BaseVAE, new_path=\"./trained_models/base_vae_beta_0_2.pth\")\n",
    "# download_model_from_wandb(\"405\", 0, \"polished-pyramid-1\", MuteVAE, new_path=\"./trained_models/mute_vae_beta_0_2.pth\")\n",
    "\n",
    "genre_classifier = load_model(\"./trained_models/genre_classifier.pth\", GenreClassifier)\n",
    "model_BaseVAE_0_2 = load_model(\"./trained_models/base_vae_beta_0_2.pth\", BaseVAE)\n",
    "model_MuteVAE_0_2 = load_model(\"./trained_models/mute_vae_beta_0_2.pth\", MuteVAE)\n",
    "\n",
    "# model_MuteVAE\n",
    "\n",
    "\n",
    "# model.serialize(save_folder=f\"{run_name}\", filename=f\"Gen_{run_name}_{epoch}_serialized__{datetime.datetime.now().strftime('%Y%m%d_%H%M%S')}.pt\")"
   ],
   "outputs": []
  },
  {
   "cell_type": "code",
   "source": [
    "from eval.UMAP import TSNEMapper, UMapper\n",
    "from helpers import predict_using_model"
   ],
   "metadata": {
    "collapsed": false,
    "ExecuteTime": {
     "end_time": "2024-03-23T16:12:02.288698Z",
     "start_time": "2024-03-23T16:11:56.138908Z"
    }
   },
   "id": "ee600db4e55df5c4",
   "execution_count": 5,
   "outputs": []
  },
  {
   "cell_type": "code",
   "source": [
    "# tsne_mapper = TSNEMapper(identifier_=\"BaseVAE_beta_0_2\")\n",
    "# _, latents_z = predict_using_model(model_BaseVAE_0_2, dataset)\n"
   ],
   "metadata": {
    "collapsed": false,
    "ExecuteTime": {
     "end_time": "2024-03-23T16:12:02.291219Z",
     "start_time": "2024-03-23T16:12:02.289616Z"
    }
   },
   "id": "cdb8af0b17e5f7dd",
   "execution_count": 6,
   "outputs": []
  },
  {
   "cell_type": "code",
   "source": [
    "# tsne_mapper.fit(latents_z, tags_ = [hvo_seq.metadata[\"style_primary\"] for hvo_seq in dataset.hvo_sequences])\n",
    "\n"
   ],
   "metadata": {
    "collapsed": false,
    "ExecuteTime": {
     "end_time": "2024-03-23T16:12:02.293569Z",
     "start_time": "2024-03-23T16:12:02.291934Z"
    }
   },
   "id": "8c16e6984bb2a958",
   "execution_count": 7,
   "outputs": []
  },
  {
   "cell_type": "code",
   "source": [
    "# p = tsne_mapper.plot(save_plot=False, show_plot=False)\n",
    "# from bokeh.plotting import figure, output_file, save, show, reset_output\n"
   ],
   "metadata": {
    "collapsed": false,
    "ExecuteTime": {
     "end_time": "2024-03-23T16:12:02.295866Z",
     "start_time": "2024-03-23T16:12:02.294307Z"
    }
   },
   "id": "4637391becdfd22d",
   "execution_count": 8,
   "outputs": []
  },
  {
   "cell_type": "code",
   "source": [
    "# show(p)"
   ],
   "metadata": {
    "collapsed": false,
    "ExecuteTime": {
     "end_time": "2024-03-23T16:12:02.298423Z",
     "start_time": "2024-03-23T16:12:02.296728Z"
    }
   },
   "id": "2f9cfa7c01104714",
   "execution_count": 9,
   "outputs": []
  },
  {
   "cell_type": "code",
   "source": [
    "#umap_mapper = UMapper(identifier_=\"BaseVAE_beta_0_2\", embedding_dims=2, metric=\"euclidean\", n_neighbors=100)\n",
    "_, latents_z = predict_using_model(model_MuteVAE_0_2, dataset)"
   ],
   "metadata": {
    "collapsed": false,
    "ExecuteTime": {
     "end_time": "2024-03-23T16:26:41.185512Z",
     "start_time": "2024-03-23T16:26:06.804623Z"
    }
   },
   "id": "a9582ca168058c70",
   "execution_count": 24,
   "outputs": []
  },
  {
   "cell_type": "code",
   "source": [
    "import matplotlib.pyplot as plt\n",
    "import numpy as np\n",
    "\n",
    "def plot_latent_distributions(latents):\n",
    "    \"\"\"\n",
    "    Plot boxplot distributions of latent values at each dimension.\n",
    "\n",
    "    Parameters:\n",
    "    - latents: A 2D NumPy array of shape (n_samples, n_dimensions) where each row represents\n",
    "               a latent vector and each column corresponds to a dimension.\n",
    "    \"\"\"\n",
    "    # Ensure latents is a NumPy array\n",
    "    latents = np.array(latents)\n",
    "    \n",
    "    # Check if the shape of latents is appropriate\n",
    "    if latents.ndim != 2 or latents.shape[1] != 128:\n",
    "        raise ValueError(\"Latents should be a 2D NumPy array with 128 dimensions.\")\n",
    "    \n",
    "    # Plotting\n",
    "    plt.figure(figsize=(10, 5))\n",
    "    plt.boxplot(latents, notch=True, vert=True)\n",
    "    plt.title('Boxplot Distribution of Latent Values at Each Dimension')\n",
    "    plt.xlabel('Latent Dimension Value')\n",
    "    plt.ylabel('Dimension Index')\n",
    "    plt.grid(True)\n",
    "    plt.show()\n",
    "    \n",
    "plot_latent_distributions(latents_z.numpy())\n",
    "\n",
    "# plot"
   ],
   "metadata": {
    "collapsed": false,
    "ExecuteTime": {
     "end_time": "2024-03-23T16:28:14.854571Z",
     "start_time": "2024-03-23T16:28:14.140140Z"
    }
   },
   "id": "b3d60fa6c70f3374",
   "execution_count": 28,
   "outputs": []
  },
  {
   "cell_type": "code",
   "source": [
    "from bokeh.models.glyphs import Line, Patch\n",
    "from bokeh.io import show, output_notebook\n",
    "from bokeh.layouts import gridplot\n",
    "import numpy as np\n",
    "from scipy.stats import gaussian_kde\n",
    "from bokeh.models import ColumnDataSource, FixedTicker, Grid, LinearAxis, Plot, Range1d\n",
    "\n",
    "def make_ridge_plot(latents, start_dim, end_dim, width=900, height=200):\n",
    "    \"\"\"\n",
    "    Create a single ridge plot for a subset of dimensions.\n",
    "    \n",
    "    Parameters:\n",
    "    - latents: 2D NumPy array of latent vectors.\n",
    "    - start_dim, end_dim: Start and end dimension indices for this plot.\n",
    "    - width, height: Width and height of the plot.\n",
    "    \"\"\"\n",
    "    # Calculate the gaussian KDE for each dimension in the subset\n",
    "    kde_list = [gaussian_kde(latents[:, i]) for i in range(start_dim, end_dim)]\n",
    "    \n",
    "    # Determine x_range for the plot dynamically based on the latents' range\n",
    "    x_min, x_max = np.min(latents[:, start_dim:end_dim]), np.max(latents[:, start_dim:end_dim])\n",
    "    x_range = Range1d(start=x_min, end=x_max)\n",
    "    y_range = Range1d(start=-3, end=(end_dim-start_dim) + 1)\n",
    "    \n",
    "    plot = Plot(width=width, height=height, x_range=x_range, y_range=y_range, title=None)\n",
    "    \n",
    "    # Plot each dimension's distribution\n",
    "    for i, kde in enumerate(kde_list, start=1):\n",
    "        x = np.linspace(x_min, x_max, 100)\n",
    "        y = kde(x) * -0.75 + i  # Adjust scale and position for visibility\n",
    "        source = ColumnDataSource(data=dict(x=x, y=y))\n",
    "        \n",
    "        # Filled area under the curve\n",
    "        plot.add_glyph(source, Patch(x='x', y='y', fill_alpha=0.6, line_color=None))\n",
    "        \n",
    "        # Line around the curve\n",
    "        plot.add_glyph(source, Line(x='x', y='y', line_color=\"black\", line_width=2))\n",
    "    \n",
    "    return plot\n",
    "\n",
    "def plot_ridge_grid(latents, dimensions=128, rows=4, width=900, height=200):\n",
    "    \"\"\"\n",
    "    Create a grid of ridge plots for the latent space dimensions.\n",
    "    \n",
    "    Parameters:\n",
    "    - latents: 2D NumPy array of latent vectors.\n",
    "    - dimensions: Total number of dimensions. Should be 128 for this use case.\n",
    "    - rows: Number of rows in the grid.\n",
    "    - width, height: Width and height of each row plot.\n",
    "    \"\"\"\n",
    "    plots_per_row = dimensions // rows\n",
    "    grid = []\n",
    "    \n",
    "    for i in range(0, dimensions, plots_per_row):\n",
    "        grid.append(make_ridge_plot(latents, i, min(i+plots_per_row, dimensions), width, height))\n",
    "    \n",
    "    grid_layout = gridplot(grid, ncols=4, plot_width=width, plot_height=height)\n",
    "    \n",
    "    # Show plot\n",
    "    output_notebook()  # Display plot within a Jupyter Notebook. Comment out if not using Jupyter.\n",
    "    show(grid_layout)\n",
    "    \n",
    "plot_ridge_grid(latents_z.numpy(), dimensions=128, rows=4, width=100, height=400)"
   ],
   "metadata": {
    "collapsed": false,
    "ExecuteTime": {
     "end_time": "2024-03-23T16:25:54.140077Z",
     "start_time": "2024-03-23T16:25:51.832237Z"
    }
   },
   "id": "73891da34d7790f1",
   "execution_count": 23,
   "outputs": []
  },
  {
   "cell_type": "code",
   "source": [
    "#umap_mapper.fit(latents_z, tags_ = [hvo_seq.metadata[\"style_primary\"] for hvo_seq in dataset.hvo_sequences])\n",
    "#show(umap_mapper.plot(save_plot=False, show_plot=False))\n"
   ],
   "metadata": {
    "collapsed": false
   },
   "id": "30868c833da18f82",
   "execution_count": 0,
   "outputs": []
  },
  {
   "cell_type": "code",
   "source": [],
   "metadata": {
    "collapsed": false
   },
   "id": "fd52c9b0f14002b9",
   "execution_count": null,
   "outputs": []
  }
 ],
 "metadata": {
  "kernelspec": {
   "name": "groovetransformer",
   "language": "python",
   "display_name": "GrooveTransformer"
  },
  "language_info": {
   "codemirror_mode": {
    "name": "ipython",
    "version": 3
   },
   "file_extension": ".py",
   "mimetype": "text/x-python",
   "name": "python",
   "nbconvert_exporter": "python",
   "pygments_lexer": "ipython3",
   "version": "3.9.12"
  }
 },
 "nbformat": 4,
 "nbformat_minor": 5
}
