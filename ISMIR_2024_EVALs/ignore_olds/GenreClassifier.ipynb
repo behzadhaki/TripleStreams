{
 "cells": [
  {
   "cell_type": "code",
   "execution_count": 1,
   "id": "dc3d03bb57e4833a",
   "metadata": {
    "collapsed": false,
    "ExecuteTime": {
     "end_time": "2024-03-21T17:23:37.768812Z",
     "start_time": "2024-03-21T17:23:34.612730Z"
    }
   },
   "source": [
    "import wandb\n",
    "import os\n",
    "os.environ[\"WANDB_SILENT\"] = \"true\"\n",
    "\n",
    "import numpy as np\n",
    "import pandas as pd\n",
    "\n",
    "# import sys\n",
    "# sys.path.insert(0, \"../..\")\n",
    "\n",
    "%cd ..\n",
    "\n",
    "from helpers import load_model\n",
    "from model import GenreClassifier\n",
    "from data.src.dataLoaders import Groove2Drum2BarDataset\n",
    "\n",
    "import torch\n",
    "\n",
    "\n",
    "from bokeh.palettes import inferno, Category20b\n",
    "from bokeh.core.enums import MarkerType\n",
    "from bokeh.plotting import figure, show, save\n",
    "from bokeh.io import output_notebook, reset_output\n",
    "# output_notebook()"
   ],
   "outputs": []
  },
  {
   "cell_type": "code",
   "source": [
    "\n",
    "down_sampled_ratio=None\n",
    "# load dataset as torch.utils.data.Dataset\n",
    "dataset = Groove2Drum2BarDataset(\n",
    "    dataset_setting_json_path=\"data/dataset_json_settings/Balanced_6000_performed.json\",\n",
    "    subset_tag=\"test\",\n",
    "    max_len=32,\n",
    "    tapped_voice_idx=2,\n",
    "    collapse_tapped_sequence=True,\n",
    "    num_voice_density_bins=3,\n",
    "    num_tempo_bins=6,\n",
    "    num_global_density_bins=7,\n",
    "    augment_dataset=False,\n",
    "    force_regenerate=False\n",
    ")\n"
   ],
   "metadata": {
    "collapsed": false,
    "ExecuteTime": {
     "end_time": "2024-03-21T17:25:19.875571Z",
     "start_time": "2024-03-21T17:23:37.772320Z"
    }
   },
   "id": "d4200af59b7d9d42",
   "execution_count": 2,
   "outputs": []
  },
  {
   "cell_type": "code",
   "source": [
    "from collections import Counter\n",
    "dataset.genre_tags"
   ],
   "metadata": {
    "collapsed": false,
    "ExecuteTime": {
     "end_time": "2024-03-21T17:25:19.886254Z",
     "start_time": "2024-03-21T17:25:19.880284Z"
    }
   },
   "id": "849a6ebf74747602",
   "execution_count": 3,
   "outputs": []
  },
  {
   "cell_type": "markdown",
   "id": "06a0e58a",
   "metadata": {},
   "source": [
    "# Download model, load and Serialize"
   ]
  },
  {
   "cell_type": "code",
   "execution_count": 4,
   "id": "1198ebc5c3d66766",
   "metadata": {
    "collapsed": false,
    "ExecuteTime": {
     "end_time": "2024-03-21T17:25:34.795567Z",
     "start_time": "2024-03-21T17:25:19.887222Z"
    }
   },
   "source": [
    "epoch = \"45\" #\"605\"\n",
    "version = 3\n",
    "run_name = \"driven-frost-24\"\n",
    "\n",
    "artifact_path = f\"behzadhaki/GenreClassifier/model_epoch_{epoch}:v{version}\"\n",
    "epoch = artifact_path.split(\"model_epoch_\")[-1].split(\":\")[0]\n",
    "\n",
    "local_path = f\"artifacts/model_epoch_{epoch}:v{version}/{run_name}.pth\"\n",
    "if not os.path.exists(local_path):\n",
    "    print(\"Downloading artifact\")\n",
    "    run = wandb.init()\n",
    "    artifact = run.use_artifact(artifact_path, type='model')\n",
    "    artifact_dir = artifact.download()\n",
    "    # rename {epoch}.pth to {run_name}.pth\n",
    "    os.rename(os.path.join(artifact_dir, f\"{epoch}.pth\"), os.path.join(artifact_dir, f\"{run_name}.pth\"))\n",
    "    print(\"Artifact downloaded to: \", artifact_dir)\n",
    "else:\n",
    "    print(\"Artifact already downloaded\")\n",
    "    artifact_dir = os.path.dirname(local_path)\n",
    "    \n",
    "print(os.path.join(artifact_dir, f\"{run_name}.pth\"))"
   ],
   "outputs": []
  },
  {
   "cell_type": "code",
   "source": [
    "print(os.path.join(artifact_dir, f\"{run_name}.pth\"))\n",
    "model = load_model(os.path.join(artifact_dir, f\"{run_name}.pth\"), model_class=GenreClassifier)\n",
    "\n",
    "import datetime\n",
    "\n",
    "#model.predict(torch.randn(1, 32, 3))\n",
    "model.serialize(save_folder=f\"{run_name}\", filename=f\"Gen_{run_name}_{epoch}_serialized__{datetime.datetime.now().strftime('%Y%m%d_%H%M%S')}.pt\")\n"
   ],
   "metadata": {
    "ExecuteTime": {
     "end_time": "2024-03-21T17:25:37.278100Z",
     "start_time": "2024-03-21T17:25:34.798897Z"
    }
   },
   "id": "8549c686",
   "execution_count": 5,
   "outputs": []
  },
  {
   "cell_type": "markdown",
   "source": [
    "# Run Inference"
   ],
   "metadata": {
    "collapsed": false
   },
   "id": "db019fac53b58c42"
  },
  {
   "cell_type": "code",
   "source": [
    "drum_patterns = dataset.output_grooves\n",
    "target_genres = dataset.genre_targets\n",
    "target_genres"
   ],
   "metadata": {
    "collapsed": false,
    "ExecuteTime": {
     "end_time": "2024-03-21T17:25:37.532082Z",
     "start_time": "2024-03-21T17:25:37.278810Z"
    }
   },
   "id": "867a4a33ad0e702c",
   "execution_count": 6,
   "outputs": []
  },
  {
   "cell_type": "code",
   "source": [
    "predicted_genres, _ = model.predict(drum_patterns)"
   ],
   "metadata": {
    "collapsed": false,
    "ExecuteTime": {
     "end_time": "2024-03-21T17:25:50.825274Z",
     "start_time": "2024-03-21T17:25:37.535292Z"
    }
   },
   "id": "9601467d950ba6e5",
   "execution_count": 7,
   "outputs": []
  },
  {
   "cell_type": "code",
   "source": [
    "predicted_genres"
   ],
   "metadata": {
    "collapsed": false,
    "ExecuteTime": {
     "end_time": "2024-03-21T17:25:51.044285Z",
     "start_time": "2024-03-21T17:25:50.826234Z"
    }
   },
   "id": "d9ce73deeb0eb7d6",
   "execution_count": 8,
   "outputs": []
  },
  {
   "cell_type": "code",
   "source": [
    "# plot confusion matrix\n",
    "from sklearn.metrics import confusion_matrix\n",
    "import seaborn as sns\n",
    "import matplotlib.pyplot as plt\n",
    "\n",
    "cm = confusion_matrix(target_genres, predicted_genres)\n",
    "cm = cm / cm.sum(axis=1)[:, np.newaxis]\n",
    "plt.figure(figsize=(6, 6))\n",
    "\n",
    "labels = dataset.genre_tags\n",
    "labels = [label.split(\"/\")[0] for label in labels]\n",
    "# font -> 5 also for x, y tick labels\n",
    "sns.set(font_scale=0.8)\n",
    "sns.heatmap(cm, annot=True, fmt=\".2f\", cmap=\"Blues\", xticklabels=labels, yticklabels=labels, cbar=False, annot_kws={\"size\": 7})"
   ],
   "metadata": {
    "collapsed": false,
    "ExecuteTime": {
     "end_time": "2024-03-21T17:26:29.587407Z",
     "start_time": "2024-03-21T17:26:29.035564Z"
    }
   },
   "id": "534911311bc37365",
   "execution_count": 11,
   "outputs": []
  },
  {
   "cell_type": "code",
   "source": [
    "# accuracy, precision, recall, f1\n",
    "from sklearn.metrics import accuracy_score, precision_score, recall_score, f1_score\n",
    "\n",
    "accuracy = accuracy_score(target_genres, predicted_genres) * 100\n",
    "precision = precision_score(target_genres, predicted_genres, average=\"weighted\") * 100\n",
    "recall = recall_score(target_genres, predicted_genres, average=\"weighted\") * 100\n",
    "f1 = f1_score(target_genres, predicted_genres, average=\"weighted\") * 100\n",
    "\n",
    "print(f\"Accuracy: {accuracy:.2f}, Precision: {precision:.2f}, Recall: {recall:.2f}, F1: {f1:.2f}\")"
   ],
   "metadata": {
    "collapsed": false,
    "ExecuteTime": {
     "end_time": "2024-03-21T17:26:34.938134Z",
     "start_time": "2024-03-21T17:26:34.726862Z"
    }
   },
   "id": "9cb25c3907154545",
   "execution_count": 12,
   "outputs": []
  },
  {
   "cell_type": "code",
   "source": [],
   "metadata": {
    "collapsed": false,
    "ExecuteTime": {
     "end_time": "2024-03-21T17:25:52.729164Z",
     "start_time": "2024-03-21T17:25:52.490972Z"
    }
   },
   "id": "ce45386b7651434f",
   "execution_count": 10,
   "outputs": []
  }
 ],
 "metadata": {
  "kernelspec": {
   "name": "groovetransformer",
   "language": "python",
   "display_name": "GrooveTransformer"
  },
  "language_info": {
   "codemirror_mode": {
    "name": "ipython",
    "version": 3
   },
   "file_extension": ".py",
   "mimetype": "text/x-python",
   "name": "python",
   "nbconvert_exporter": "python",
   "pygments_lexer": "ipython3",
   "version": "3.9.12"
  }
 },
 "nbformat": 4,
 "nbformat_minor": 5
}
