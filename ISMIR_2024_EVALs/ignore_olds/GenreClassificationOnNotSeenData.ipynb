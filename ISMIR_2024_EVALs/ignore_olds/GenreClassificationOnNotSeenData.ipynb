{
 "cells": [
  {
   "cell_type": "code",
   "execution_count": 1,
   "id": "dc3d03bb57e4833a",
   "metadata": {
    "collapsed": false,
    "ExecuteTime": {
     "end_time": "2024-03-24T08:33:32.677609Z",
     "start_time": "2024-03-24T08:33:30.564081Z"
    }
   },
   "source": [
    "import wandb\n",
    "import os\n",
    "os.environ[\"WANDB_SILENT\"] = \"true\"\n",
    "\n",
    "import numpy as np\n",
    "import pandas as pd\n",
    "\n",
    "# import sys\n",
    "# sys.path.insert(0, \"../..\")\n",
    "\n",
    "%cd ..\n",
    "\n",
    "from helpers import load_model\n",
    "from model import BaseVAE, GenreClassifier, MuteVAE\n",
    "from data.src.dataLoaders import Groove2Drum2BarDataset\n",
    "\n",
    "import torch\n",
    "\n",
    "from bokeh.palettes import inferno, Category20b\n",
    "from bokeh.core.enums import MarkerType\n",
    "from bokeh.plotting import figure, show, save\n",
    "from bokeh.io import output_notebook, reset_output\n",
    "# output_notebook()\n"
   ],
   "outputs": []
  },
  {
   "cell_type": "markdown",
   "source": [
    "# Description\n",
    "\n",
    "In this notebook, we are evaluating the GenreClassification using samples not in the training. In fact, we are not using GrooveMIDI at all here"
   ],
   "metadata": {
    "collapsed": false
   },
   "id": "ba75f0e9cb2942c7"
  },
  {
   "cell_type": "code",
   "source": [
    "\n",
    "down_sampled_ratio=None\n",
    "\n",
    "# test set\n",
    "dataset = Groove2Drum2BarDataset(\n",
    "    dataset_setting_json_path=\"data/dataset_json_settings/Balanced_6000_performed.json\",\n",
    "    subset_tag=\"test\",\n",
    "    max_len=32,\n",
    "    tapped_voice_idx=2,\n",
    "    collapse_tapped_sequence=True,\n",
    "    num_voice_density_bins=3,\n",
    "    num_tempo_bins=6,\n",
    "    num_global_density_bins=7,\n",
    "    augment_dataset=False,\n",
    "    force_regenerate=False\n",
    ")\n",
    "\n",
    "# # no GMD\n",
    "# dataset = Groove2Drum2BarDataset(\n",
    "#     dataset_setting_json_path=\"data/dataset_json_settings/Balanced_1000_performed_no_GMD.json\",\n",
    "#     subset_tag=\"test\",\n",
    "#     max_len=32,\n",
    "#     tapped_voice_idx=2,\n",
    "#     collapse_tapped_sequence=True,\n",
    "#     num_voice_density_bins=3,\n",
    "#     num_tempo_bins=6,\n",
    "#     num_global_density_bins=7,\n",
    "#     augment_dataset=False,\n",
    "#     force_regenerate=False\n",
    "# )"
   ],
   "metadata": {
    "collapsed": false,
    "ExecuteTime": {
     "end_time": "2024-03-24T08:33:34.063668Z",
     "start_time": "2024-03-24T08:33:32.678759Z"
    }
   },
   "id": "d4200af59b7d9d42",
   "execution_count": 2,
   "outputs": []
  },
  {
   "cell_type": "markdown",
   "id": "06a0e58a",
   "metadata": {},
   "source": [
    "# access GenreClassifier and BaseVAE models"
   ]
  },
  {
   "cell_type": "code",
   "execution_count": 3,
   "id": "c4f7c3012264b64e",
   "metadata": {
    "collapsed": false,
    "ExecuteTime": {
     "end_time": "2024-03-24T08:33:35.467715Z",
     "start_time": "2024-03-24T08:33:34.064580Z"
    }
   },
   "source": [
    "from helpers import download_model_from_wandb, predict_using_model, load_model\n",
    "    \n",
    "# download_model_from_wandb(\"45\", 3, \"driven-frost-24\", GenreClassifier, new_path=\"./trained_models/genre_classifier.pth\")\n",
    "# download_model_from_wandb(\"155\", 1, \"lively-pond-9\", BaseVAE, new_path=\"./trained_models/base_vae_beta_0_2.pth\")\n",
    "# download_model_from_wandb(\"405\", 0, \"polished-pyramid-1\", MuteVAE, new_path=\"./trained_models/mute_vae_beta_0_2.pth\")\n",
    "\n",
    "model_classifier = load_model(\"./trained_models/genre_classifier.pth\", GenreClassifier)\n",
    "model_BaseVAE = load_model(\"./trained_models/base_vae_beta_0_5.pth\", BaseVAE)# load_model(\"./trained_models/base_vae_beta_0_2.pth\", BaseVAE)\n",
    "model_MuteVAE = load_model(\"./trained_models/mute_vae_beta_0_2.pth\", MuteVAE)\n",
    "\n",
    "# model_MuteVAE\n",
    "\n",
    "\n",
    "# model.serialize(save_folder=f\"{run_name}\", filename=f\"Gen_{run_name}_{epoch}_serialized__{datetime.datetime.now().strftime('%Y%m%d_%H%M%S')}.pt\")"
   ],
   "outputs": []
  },
  {
   "cell_type": "markdown",
   "source": [
    "# Step 1 - Confusion Matrix of Classifier on the evaluation set"
   ],
   "metadata": {
    "collapsed": false
   },
   "id": "db019fac53b58c42"
  },
  {
   "cell_type": "code",
   "source": [
    "from helpers import classifier_confusion_matrix, plot_confusion_matrix"
   ],
   "metadata": {
    "collapsed": false,
    "ExecuteTime": {
     "end_time": "2024-03-24T08:33:35.470881Z",
     "start_time": "2024-03-24T08:33:35.468864Z"
    }
   },
   "id": "e7fa149338f42822",
   "execution_count": 4,
   "outputs": []
  },
  {
   "cell_type": "code",
   "source": [
    "cm, scores, labels = classifier_confusion_matrix(dataset, model_classifier)"
   ],
   "metadata": {
    "collapsed": false,
    "ExecuteTime": {
     "end_time": "2024-03-24T08:33:40.186996Z",
     "start_time": "2024-03-24T08:33:35.471546Z"
    }
   },
   "id": "e0f34f666fb22a1f",
   "execution_count": 5,
   "outputs": []
  },
  {
   "cell_type": "code",
   "source": [
    "plot_confusion_matrix(cm, labels)"
   ],
   "metadata": {
    "collapsed": false,
    "ExecuteTime": {
     "end_time": "2024-03-24T08:33:40.431431Z",
     "start_time": "2024-03-24T08:33:40.187715Z"
    }
   },
   "id": "c8305c050e3da0fe",
   "execution_count": 6,
   "outputs": []
  },
  {
   "cell_type": "markdown",
   "source": [
    "# Generate Patterns using BaseVAE and Re-evaluate the Confusion Matrix\n",
    "\n",
    "groove -> BaseVAE -> drum_pattern -> GenreClassifier -> genre_prediction <---- target_genre"
   ],
   "metadata": {
    "collapsed": false
   },
   "id": "c0b9ce50ddcd7b8a"
  },
  {
   "cell_type": "code",
   "source": [
    "\n",
    "def predict_using_batch_data_base_vae(dataset_, model_=model_BaseVAE):\n",
    "    model_.eval()\n",
    "    flat_hvo_groove = dataset_.input_grooves\n",
    "    with torch.no_grad():\n",
    "        hvo, latent_z = model_.predict(flat_hvo_groove=flat_hvo_groove)\n",
    "    return hvo, latent_z\n",
    "\n"
   ],
   "metadata": {
    "collapsed": false
   },
   "id": "f452105c3a1dd2d0",
   "execution_count": 7,
   "outputs": []
  },
  {
   "cell_type": "code",
   "source": [
    "# generate drum patterns using BaseVAE\n",
    "hvo, latent_z = predict_using_batch_data_base_vae(dataset, model_BaseVAE)"
   ],
   "metadata": {
    "collapsed": false,
    "ExecuteTime": {
     "start_time": "2024-03-24T08:33:40.434712Z"
    }
   },
   "id": "2ac417680bbaa0a6",
   "execution_count": null,
   "outputs": []
  },
  {
   "cell_type": "code",
   "source": [
    "# predict genre using GenreClassifier\n",
    "drum_patterns = hvo\n",
    "target_genres = dataset.genre_targets\n",
    "predicted_genres, _ = model_classifier.predict(drum_patterns)\n"
   ],
   "metadata": {
    "collapsed": false
   },
   "id": "3119ade40074b24c",
   "execution_count": null,
   "outputs": []
  },
  {
   "cell_type": "code",
   "source": [
    "# plot confusion matrix\n",
    "from sklearn.metrics import confusion_matrix\n",
    "import seaborn as sns\n",
    "import matplotlib.pyplot as plt\n",
    "\n",
    "cm = confusion_matrix(target_genres, predicted_genres)\n",
    "cm = cm / cm.sum(axis=1)[:, np.newaxis]\n",
    "plt.figure(figsize=(6, 6))\n",
    "\n",
    "labels = dataset.genre_tags\n",
    "labels = [label.split(\"/\")[0] for label in labels]\n",
    "# font -> 5 also for x, y tick labels\n",
    "sns.set(font_scale=0.8)\n",
    "sns.heatmap(cm, annot=True, fmt=\".2f\", cmap=\"Blues\", xticklabels=labels, yticklabels=labels, cbar=False, annot_kws={\"size\": 9})"
   ],
   "metadata": {
    "collapsed": false
   },
   "id": "632862d147c32f8f",
   "execution_count": null,
   "outputs": []
  },
  {
   "cell_type": "code",
   "source": [
    "# accuracy, precision, recall, f1\n",
    "from sklearn.metrics import accuracy_score, precision_score, recall_score, f1_score\n",
    "\n",
    "accuracy = accuracy_score(target_genres, predicted_genres)\n",
    "precision = precision_score(target_genres, predicted_genres, average=\"weighted\")\n",
    "recall = recall_score(target_genres, predicted_genres, average=\"weighted\")\n",
    "f1 = f1_score(target_genres, predicted_genres, average=\"weighted\")\n",
    "\n",
    "print(f\"Accuracy: {accuracy:.2f}, Precision: {precision:.2f}, Recall: {recall:.2f}, F1: {f1:.2f}\")"
   ],
   "metadata": {
    "collapsed": false
   },
   "id": "7e54fd43bd9b1f8e",
   "execution_count": null,
   "outputs": []
  },
  {
   "cell_type": "markdown",
   "source": [
    "# Generate Patterns using MuteVAE and Re-evaluate the Confusion Matrix\n",
    "\n",
    "groove -> MuteVAE -> drum_pattern -> GenreClassifier -> genre_prediction <---- target_genre"
   ],
   "metadata": {
    "collapsed": false
   },
   "id": "da8111bdb99747b5"
  },
  {
   "cell_type": "code",
   "source": [
    "def predict_using_batch_data_mute_vae(dataset_, model_=model_MuteVAE):\n",
    "    model_.eval()\n",
    "    flat_hvo_groove = dataset_.input_grooves\n",
    "    kick_is_muted = dataset_.kick_is_muted\n",
    "    snare_is_muted = dataset_.snare_is_muted\n",
    "    hat_is_muted = dataset_.hat_is_muted\n",
    "    tom_is_muted = dataset_.tom_is_muted\n",
    "    cymbal_is_muted = dataset_.cymbal_is_muted\n",
    "    \n",
    "    with torch.no_grad():\n",
    "        hvo, latent_z = model_.predict(\n",
    "            flat_hvo_groove=flat_hvo_groove,\n",
    "            kick_is_muted=kick_is_muted,\n",
    "            snare_is_muted=snare_is_muted,\n",
    "            hat_is_muted=hat_is_muted,\n",
    "            tom_is_muted=tom_is_muted,\n",
    "            cymbal_is_muted=cymbal_is_muted)\n",
    "    return hvo, latent_z\n",
    "\n"
   ],
   "metadata": {
    "collapsed": false
   },
   "id": "a807e349861bacbc",
   "execution_count": null,
   "outputs": []
  },
  {
   "cell_type": "code",
   "source": [
    "# generate drum patterns using MuteVAE\n",
    "hvo, latent_z = predict_using_batch_data_mute_vae(dataset, model_MuteVAE)\n"
   ],
   "metadata": {
    "collapsed": false
   },
   "id": "734998fb03eb4885",
   "execution_count": null,
   "outputs": []
  },
  {
   "cell_type": "code",
   "source": [
    "# predict genre using GenreClassifier\n",
    "drum_patterns = hvo\n",
    "target_genres = dataset.genre_targets\n",
    "predicted_genres, _ = model_classifier.predict(drum_patterns)\n"
   ],
   "metadata": {
    "collapsed": false
   },
   "id": "f52de5659d3d3e03",
   "execution_count": null,
   "outputs": []
  },
  {
   "cell_type": "code",
   "source": [
    "# plot confusion matrix\n",
    "from sklearn.metrics import confusion_matrix\n",
    "import seaborn as sns\n",
    "import matplotlib.pyplot as plt\n",
    "    \n",
    "cm = confusion_matrix(target_genres, predicted_genres)\n",
    "cm = cm / cm.sum(axis=1)[:, np.newaxis]\n",
    "plt.figure(figsize=(6, 6))\n",
    "\n",
    "labels = dataset.genre_tags\n",
    "labels = [label.split(\"/\")[0] for label in labels]\n",
    "# font -> 5 also for x, y tick labels\n",
    "sns.set(font_scale=0.8)\n",
    "sns.heatmap(cm, annot=True, fmt=\".2f\", cmap=\"Blues\", xticklabels=labels, yticklabels=labels, cbar=False, annot_kws={\"size\": 9})"
   ],
   "metadata": {
    "collapsed": false
   },
   "id": "b8fc5ab81ba15252",
   "execution_count": null,
   "outputs": []
  },
  {
   "cell_type": "code",
   "source": [
    "# accuracy, precision, recall, f1\n",
    "from sklearn.metrics import accuracy_score, precision_score, recall_score, f1_score\n",
    "\n",
    "accuracy = accuracy_score(target_genres, predicted_genres)\n",
    "precision = precision_score(target_genres, predicted_genres, average=\"weighted\")\n",
    "recall = recall_score(target_genres, predicted_genres, average=\"weighted\")\n",
    "f1 = f1_score(target_genres, predicted_genres, average=\"weighted\")\n",
    "\n",
    "print(f\"Accuracy: {accuracy:.2f}, Precision: {precision:.2f}, Recall: {recall:.2f}, F1: {f1:.2f}\")"
   ],
   "metadata": {
    "collapsed": false
   },
   "id": "74e894da0291951c",
   "execution_count": null,
   "outputs": []
  },
  {
   "cell_type": "code",
   "source": [],
   "metadata": {
    "collapsed": false
   },
   "id": "948014da2deb5d6a",
   "execution_count": null,
   "outputs": []
  }
 ],
 "metadata": {
  "kernelspec": {
   "name": "groovetransformer",
   "language": "python",
   "display_name": "GrooveTransformer"
  },
  "language_info": {
   "codemirror_mode": {
    "name": "ipython",
    "version": 3
   },
   "file_extension": ".py",
   "mimetype": "text/x-python",
   "name": "python",
   "nbconvert_exporter": "python",
   "pygments_lexer": "ipython3",
   "version": "3.9.12"
  }
 },
 "nbformat": 4,
 "nbformat_minor": 5
}
