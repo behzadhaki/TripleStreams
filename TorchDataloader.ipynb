{
 "cells": [
  {
   "cell_type": "code",
   "id": "e10086094576695c",
   "metadata": {
    "ExecuteTime": {
     "end_time": "2025-08-10T12:49:47.747329Z",
     "start_time": "2025-08-10T12:49:45.731484Z"
    }
   },
   "source": [
    "from triple_stream_data_utils import plot_scatter_distribution, create_heatmap_histogram_from_lists\n",
    "from tripleStreamsDataloaderUtils import load_compiled_dataset_pkl_bz2"
   ],
   "outputs": [
    {
     "name": "stderr",
     "output_type": "stream",
     "text": [
      "Could not import fluidsynth. AUDIO rendering will not work.\n",
      "/Users/bezha/anaconda3/envs/TripleStreams/lib/python3.9/site-packages/tqdm/auto.py:21: TqdmWarning: IProgress not found. Please update jupyter and ipywidgets. See https://ipywidgets.readthedocs.io/en/stable/user_install.html\n",
      "  from .autonotebook import tqdm as notebook_tqdm\n"
     ]
    }
   ],
   "execution_count": 1
  },
  {
   "cell_type": "code",
   "id": "351eacd47726cfbe",
   "metadata": {
    "ExecuteTime": {
     "end_time": "2025-08-10T12:49:47.755477Z",
     "start_time": "2025-08-10T12:49:47.751292Z"
    }
   },
   "source": [
    "# Make sure you've already ran python CompileStreamsAndFeatures.py\n",
    "import os\n",
    "accentThresh = 0.75\n",
    "\n",
    "root_path = f\"data/triple_streams/split_2bars/compiled_data/accentThresh{accentThresh}\"\n",
    "all_pkl_bz2_files = [f for f in os.listdir(root_path) if f.endswith('.pkl.bz2')]\n",
    "\n",
    "# Available Datasets\n",
    "available_datasets_path = {\n",
    "    all_pkl_bz2_file.split(\".pkl.bz2\")[0]: os.path.join(root_path, all_pkl_bz2_file) for all_pkl_bz2_file in all_pkl_bz2_files\n",
    "}\n",
    "# dict_keys(['input_hvos', 'output_hvos', 'flat_out_hvos', 'sample_id', 'collection', 'metadata', 'qpm', 'OF_Input Hamming', 'OF_Input Hamming Accent', 'OS1_OF Jaccard', 'OS2_OF Jaccard', 'OS3_OF Jaccard', 'pearson', 'cosine', 'euclidean_similarity', 'mae_similarity', 'dtw_similarity'])\n",
    "\n",
    "available_datasets_path,"
   ],
   "outputs": [
    {
     "data": {
      "text/plain": [
       "({'ttd_both-is-and_both_flattened_left_right_Accent_thresh': 'data/triple_streams/split_2bars/compiled_data/accentThresh0.75/ttd_both-is-and_both_flattened_left_right_Accent_thresh.pkl.bz2',\n",
       "  'ttd_both-is-or_both_flattened_left_right_Accent_thresh': 'data/triple_streams/split_2bars/compiled_data/accentThresh0.75/ttd_both-is-or_both_flattened_left_right_Accent_thresh.pkl.bz2',\n",
       "  'candombe_voice_{ix}_voice_{ix}_voice_{ix}_voice_{ix}_Accent_thresh': 'data/triple_streams/split_2bars/compiled_data/accentThresh0.75/candombe_voice_{ix}_voice_{ix}_voice_{ix}_voice_{ix}_Accent_thresh.pkl.bz2',\n",
       "  'groove_midi_hi_lo_mid_ride_Accent_thresh': 'data/triple_streams/split_2bars/compiled_data/accentThresh0.75/groove_midi_hi_lo_mid_ride_Accent_thresh.pkl.bz2',\n",
       "  'elbg_both_flattened_left_right_Accent_thresh': 'data/triple_streams/split_2bars/compiled_data/accentThresh0.75/elbg_both_flattened_left_right_Accent_thresh.pkl.bz2',\n",
       "  'groove_midi_groove_high_low_mid_Accent_thresh': 'data/triple_streams/split_2bars/compiled_data/accentThresh0.75/groove_midi_groove_high_low_mid_Accent_thresh.pkl.bz2',\n",
       "  'groove_midi_crash_hhclosed_hhopen_ride_Accent_thresh': 'data/triple_streams/split_2bars/compiled_data/accentThresh0.75/groove_midi_crash_hhclosed_hhopen_ride_Accent_thresh.pkl.bz2',\n",
       "  'groove_midi_hh_kick_snare_toms_Accent_thresh': 'data/triple_streams/split_2bars/compiled_data/accentThresh0.75/groove_midi_hh_kick_snare_toms_Accent_thresh.pkl.bz2'},)"
      ]
     },
     "execution_count": 2,
     "metadata": {},
     "output_type": "execute_result"
    }
   ],
   "execution_count": 2
  },
  {
   "metadata": {
    "ExecuteTime": {
     "end_time": "2025-08-10T12:50:30.806332Z",
     "start_time": "2025-08-10T12:49:47.786953Z"
    }
   },
   "cell_type": "code",
   "source": [
    "from make_triple_stream_plots import build_plots\n",
    "\n",
    "feat1 = \"OF_Input Hamming\"\n",
    "feat2 = \"OF_Input Hamming Accent\"\n",
    "\n",
    "\n",
    "os.makedirs(os.path.join(root_path, \"plots\"), exist_ok=True)\n",
    "dataset_tags = [\"lmd_bass_brass_guitar_percussive\", \"elbg_both_flattened_left_right\"]\n",
    "\n",
    "tags = [path.split(\"/\")[-1].split(\".pkl.bz2\")[0] for path in sorted(available_datasets_path)]\n",
    "# find all pkl.bz2 files in the root_path\n",
    "\n",
    "output_path = build_plots(\n",
    "    root=root_path,\n",
    "    dataset_tags=tags,\n",
    "    feature1=feat1,\n",
    "    feature2=feat2,\n",
    "    n_bins_feat1=None,\n",
    "    n_bins_feat2=None,\n",
    "    scatter_max_points=100000,\n",
    "    output_html_path=os.path.join(os.path.join(root_path, \"plots\"), f\"<{feat1}>vs<{feat2}>.html\"),\n",
    "    force_recalc=True,\n",
    ")\n",
    "\n",
    "print(f\"HTML saved at: {output_path}\")"
   ],
   "id": "93f3af3a4ca6fca9",
   "outputs": [
    {
     "name": "stdout",
     "output_type": "stream",
     "text": [
      "Loading datasets...\n"
     ]
    },
    {
     "name": "stderr",
     "output_type": "stream",
     "text": [
      "Datasets: 100%|██████████| 8/8 [00:24<00:00,  3.04s/it]\n"
     ]
    },
    {
     "name": "stdout",
     "output_type": "stream",
     "text": [
      "Preparing heatmap caches...\n"
     ]
    },
    {
     "name": "stderr",
     "output_type": "stream",
     "text": [
      "Heatmaps: 100%|██████████| 8/8 [00:00<00:00, 129.11it/s]\n"
     ]
    },
    {
     "name": "stdout",
     "output_type": "stream",
     "text": [
      "Preparing scatter data...\n"
     ]
    },
    {
     "name": "stderr",
     "output_type": "stream",
     "text": [
      "Scatter: 100%|██████████| 8/8 [00:08<00:00,  1.02s/it]\n"
     ]
    },
    {
     "name": "stdout",
     "output_type": "stream",
     "text": [
      "HTML saved at: /Users/bezha/PycharmProjects/TripleStreams/data/triple_streams/split_2bars/compiled_data/accentThresh0.75/plots/<OF_Input Hamming>vs<OF_Input Hamming Accent>.html\n"
     ]
    }
   ],
   "execution_count": 3
  },
  {
   "metadata": {
    "ExecuteTime": {
     "end_time": "2025-08-10T12:50:30.822983Z",
     "start_time": "2025-08-10T12:50:30.821493Z"
    }
   },
   "cell_type": "code",
   "source": [
    "# npz_path = \"/Users/bezha/PycharmProjects/TripleStreams/data/triple_streams/split_2bars/compiled_data/cache/hist2d__lmd_bass_brass_drum_guitar__OF_Input Hamming__OF_Input Hamming Accent__bins33x33.npz\"\n",
    "# # Load the npz file\n",
    "# import numpy as np\n",
    "# data = np.load(npz_path)\n",
    "# data"
   ],
   "id": "f5a1fdc55d5fc9ee",
   "outputs": [],
   "execution_count": 4
  },
  {
   "metadata": {
    "ExecuteTime": {
     "end_time": "2025-08-10T12:50:31.999394Z",
     "start_time": "2025-08-10T12:50:30.826652Z"
    }
   },
   "cell_type": "code",
   "source": [
    "data_ = load_compiled_dataset_pkl_bz2(\"data/triple_streams/split_2bars/compiled_data/accentThresh0.75/ttd_both-is-and_both_flattened_left_right_Accent_thresh.pkl.bz2\")\n",
    "create_heatmap_histogram_from_lists(\n",
    "    feat1=data_[feat1],\n",
    "    feat2=data_[feat2],\n",
    ")"
   ],
   "id": "7680dd3796342400",
   "outputs": [
    {
     "data": {
      "application/vnd.plotly.v1+json": {
       "data": [
        {
         "colorbar": {
          "title": {
           "text": "Count"
          }
         },
         "colorscale": [
          [
           0.0,
           "#0d0887"
          ],
          [
           0.1111111111111111,
           "#46039f"
          ],
          [
           0.2222222222222222,
           "#7201a8"
          ],
          [
           0.3333333333333333,
           "#9c179e"
          ],
          [
           0.4444444444444444,
           "#bd3786"
          ],
          [
           0.5555555555555556,
           "#d8576b"
          ],
          [
           0.6666666666666666,
           "#ed7953"
          ],
          [
           0.7777777777777778,
           "#fb9f3a"
          ],
          [
           0.8888888888888888,
           "#fdca26"
          ],
          [
           1.0,
           "#f0f921"
          ]
         ],
         "hovertemplate": "X: %{x}<br>Y: %{y}<br>Count: %{z}<extra></extra>",
         "showscale": true,
         "text": [
          [
           "6",
           "6",
           "12",
           "12",
           "6",
           "18",
           "30",
           "24",
           "",
           "18",
           "12",
           "24",
           "6",
           "24",
           "12",
           "24",
           "30",
           "18",
           "18",
           "12",
           "36",
           "24",
           "",
           "12",
           "",
           "",
           "",
           "18",
           "18",
           "",
           "6",
           "",
           ""
          ],
          [
           "18",
           "12",
           "12",
           "18",
           "30",
           "12",
           "30",
           "30",
           "18",
           "36",
           "18",
           "18",
           "6",
           "24",
           "36",
           "36",
           "30",
           "18",
           "12",
           "12",
           "",
           "6",
           "12",
           "6",
           "12",
           "",
           "",
           "",
           "",
           "",
           "",
           "",
           ""
          ],
          [
           "42",
           "18",
           "30",
           "36",
           "18",
           "30",
           "24",
           "54",
           "48",
           "60",
           "72",
           "36",
           "30",
           "30",
           "24",
           "24",
           "60",
           "18",
           "18",
           "6",
           "12",
           "18",
           "12",
           "18",
           "12",
           "12",
           "6",
           "",
           "",
           "12",
           "",
           "6",
           ""
          ],
          [
           "18",
           "42",
           "60",
           "66",
           "66",
           "54",
           "66",
           "54",
           "54",
           "78",
           "72",
           "66",
           "48",
           "66",
           "24",
           "42",
           "54",
           "66",
           "24",
           "48",
           "42",
           "36",
           "48",
           "12",
           "6",
           "6",
           "18",
           "6",
           "6",
           "",
           "",
           "12",
           ""
          ],
          [
           "54",
           "36",
           "48",
           "60",
           "72",
           "54",
           "24",
           "48",
           "42",
           "48",
           "36",
           "66",
           "60",
           "30",
           "84",
           "108",
           "102",
           "36",
           "42",
           "60",
           "42",
           "36",
           "30",
           "48",
           "12",
           "30",
           "12",
           "12",
           "12",
           "18",
           "6",
           "30",
           "36"
          ],
          [
           "36",
           "24",
           "42",
           "60",
           "48",
           "66",
           "90",
           "60",
           "84",
           "42",
           "78",
           "78",
           "96",
           "108",
           "102",
           "102",
           "126",
           "78",
           "78",
           "42",
           "30",
           "60",
           "30",
           "36",
           "42",
           "18",
           "",
           "24",
           "12",
           "",
           "12",
           "18",
           "12"
          ],
          [
           "36",
           "54",
           "36",
           "60",
           "108",
           "72",
           "54",
           "48",
           "60",
           "90",
           "54",
           "78",
           "102",
           "66",
           "90",
           "150",
           "138",
           "72",
           "84",
           "66",
           "60",
           "72",
           "72",
           "78",
           "54",
           "18",
           "42",
           "12",
           "48",
           "24",
           "24",
           "30",
           "18"
          ],
          [
           "30",
           "66",
           "90",
           "60",
           "36",
           "54",
           "78",
           "66",
           "102",
           "72",
           "90",
           "72",
           "54",
           "108",
           "90",
           "114",
           "90",
           "102",
           "126",
           "96",
           "84",
           "54",
           "30",
           "48",
           "54",
           "6",
           "48",
           "60",
           "36",
           "36",
           "24",
           "18",
           "36"
          ],
          [
           "12",
           "66",
           "66",
           "42",
           "60",
           "42",
           "78",
           "96",
           "96",
           "102",
           "90",
           "96",
           "66",
           "114",
           "78",
           "102",
           "90",
           "126",
           "150",
           "102",
           "84",
           "66",
           "54",
           "102",
           "30",
           "36",
           "42",
           "30",
           "24",
           "24",
           "30",
           "30",
           "54"
          ],
          [
           "30",
           "30",
           "36",
           "24",
           "84",
           "72",
           "72",
           "54",
           "102",
           "84",
           "102",
           "66",
           "60",
           "96",
           "96",
           "126",
           "90",
           "102",
           "132",
           "102",
           "90",
           "132",
           "72",
           "54",
           "24",
           "30",
           "48",
           "30",
           "36",
           "36",
           "36",
           "102",
           "48"
          ],
          [
           "18",
           "36",
           "24",
           "24",
           "18",
           "30",
           "48",
           "30",
           "48",
           "36",
           "72",
           "54",
           "48",
           "78",
           "96",
           "66",
           "78",
           "90",
           "90",
           "96",
           "54",
           "36",
           "30",
           "24",
           "60",
           "24",
           "36",
           "18",
           "12",
           "12",
           "24",
           "18",
           "48"
          ],
          [
           "18",
           "6",
           "18",
           "24",
           "18",
           "36",
           "12",
           "30",
           "60",
           "48",
           "54",
           "42",
           "72",
           "60",
           "60",
           "96",
           "96",
           "96",
           "126",
           "108",
           "66",
           "60",
           "60",
           "24",
           "90",
           "60",
           "48",
           "30",
           "12",
           "12",
           "54",
           "36",
           "78"
          ],
          [
           "18",
           "30",
           "30",
           "12",
           "42",
           "30",
           "12",
           "48",
           "54",
           "24",
           "72",
           "60",
           "54",
           "72",
           "78",
           "114",
           "156",
           "84",
           "114",
           "60",
           "48",
           "72",
           "108",
           "48",
           "30",
           "72",
           "36",
           "12",
           "48",
           "18",
           "48",
           "66",
           "48"
          ],
          [
           "6",
           "12",
           "24",
           "30",
           "30",
           "12",
           "42",
           "12",
           "48",
           "24",
           "54",
           "48",
           "30",
           "60",
           "66",
           "72",
           "84",
           "66",
           "102",
           "96",
           "90",
           "78",
           "42",
           "18",
           "78",
           "24",
           "30",
           "24",
           "24",
           "36",
           "24",
           "30",
           "42"
          ],
          [
           "",
           "12",
           "6",
           "12",
           "6",
           "12",
           "24",
           "24",
           "30",
           "18",
           "30",
           "24",
           "24",
           "42",
           "36",
           "72",
           "60",
           "102",
           "96",
           "60",
           "30",
           "60",
           "60",
           "30",
           "54",
           "42",
           "30",
           "42",
           "24",
           "24",
           "36",
           "36",
           "18"
          ],
          [
           "18",
           "6",
           "6",
           "24",
           "36",
           "12",
           "36",
           "18",
           "6",
           "24",
           "",
           "30",
           "36",
           "18",
           "42",
           "36",
           "24",
           "78",
           "66",
           "48",
           "42",
           "30",
           "42",
           "36",
           "36",
           "24",
           "24",
           "18",
           "42",
           "18",
           "36",
           "60",
           "78"
          ],
          [
           "12",
           "18",
           "12",
           "6",
           "",
           "6",
           "18",
           "6",
           "30",
           "12",
           "12",
           "24",
           "6",
           "24",
           "30",
           "42",
           "36",
           "36",
           "54",
           "48",
           "24",
           "48",
           "24",
           "12",
           "36",
           "24",
           "36",
           "12",
           "24",
           "24",
           "6",
           "30",
           "78"
          ],
          [
           "",
           "6",
           "",
           "",
           "12",
           "6",
           "12",
           "12",
           "12",
           "",
           "6",
           "",
           "12",
           "6",
           "24",
           "18",
           "36",
           "54",
           "6",
           "18",
           "30",
           "30",
           "24",
           "18",
           "42",
           "30",
           "24",
           "18",
           "6",
           "6",
           "6",
           "18",
           "18"
          ],
          [
           "",
           "6",
           "6",
           "",
           "6",
           "6",
           "6",
           "6",
           "",
           "12",
           "",
           "12",
           "",
           "",
           "12",
           "18",
           "24",
           "30",
           "36",
           "24",
           "30",
           "12",
           "42",
           "12",
           "30",
           "24",
           "24",
           "18",
           "36",
           "",
           "6",
           "24",
           "36"
          ],
          [
           "",
           "",
           "6",
           "6",
           "",
           "",
           "6",
           "",
           "",
           "6",
           "24",
           "6",
           "18",
           "",
           "18",
           "24",
           "18",
           "18",
           "12",
           "36",
           "12",
           "12",
           "24",
           "",
           "6",
           "6",
           "12",
           "18",
           "54",
           "",
           "18",
           "6",
           "24"
          ],
          [
           "",
           "",
           "",
           "",
           "",
           "6",
           "",
           "",
           "",
           "",
           "12",
           "6",
           "12",
           "",
           "12",
           "6",
           "6",
           "36",
           "12",
           "6",
           "30",
           "12",
           "18",
           "",
           "",
           "6",
           "18",
           "6",
           "42",
           "24",
           "",
           "24",
           "6"
          ],
          [
           "",
           "",
           "",
           "",
           "",
           "",
           "",
           "12",
           "12",
           "12",
           "",
           "",
           "6",
           "",
           "",
           "12",
           "6",
           "12",
           "",
           "",
           "36",
           "6",
           "",
           "6",
           "6",
           "6",
           "6",
           "12",
           "6",
           "6",
           "6",
           "30",
           "6"
          ],
          [
           "",
           "6",
           "6",
           "",
           "",
           "",
           "",
           "",
           "",
           "",
           "",
           "",
           "",
           "",
           "",
           "6",
           "",
           "12",
           "12",
           "",
           "6",
           "",
           "6",
           "",
           "",
           "",
           "",
           "6",
           "12",
           "18",
           "12",
           "6",
           ""
          ],
          [
           "",
           "",
           "",
           "",
           "",
           "",
           "",
           "",
           "",
           "",
           "",
           "",
           "",
           "6",
           "",
           "",
           "18",
           "6",
           "",
           "",
           "6",
           "6",
           "",
           "",
           "6",
           "",
           "",
           "12",
           "12",
           "6",
           "12",
           "6",
           "6"
          ],
          [
           "",
           "",
           "",
           "",
           "",
           "",
           "",
           "6",
           "",
           "",
           "",
           "",
           "",
           "",
           "",
           "6",
           "",
           "",
           "6",
           "",
           "",
           "6",
           "",
           "",
           "6",
           "12",
           "",
           "",
           "",
           "6",
           "12",
           "24",
           "12"
          ],
          [
           "",
           "",
           "",
           "",
           "",
           "",
           "",
           "6",
           "",
           "",
           "",
           "",
           "",
           "",
           "",
           "6",
           "6",
           "6",
           "",
           "6",
           "",
           "",
           "",
           "6",
           "",
           "6",
           "",
           "",
           "6",
           "",
           "24",
           "6",
           "18"
          ],
          [
           "",
           "",
           "",
           "",
           "",
           "",
           "",
           "",
           "",
           "",
           "",
           "",
           "",
           "",
           "",
           "",
           "6",
           "",
           "",
           "6",
           "",
           "",
           "",
           "",
           "",
           "",
           "",
           "",
           "",
           "",
           "",
           "",
           ""
          ],
          [
           "",
           "",
           "",
           "",
           "",
           "",
           "",
           "",
           "",
           "",
           "",
           "",
           "",
           "",
           "",
           "6",
           "",
           "",
           "6",
           "6",
           "",
           "",
           "",
           "",
           "",
           "",
           "",
           "6",
           "",
           "6",
           "12",
           "6",
           "12"
          ],
          [
           "",
           "",
           "",
           "",
           "",
           "",
           "",
           "",
           "",
           "",
           "",
           "",
           "",
           "",
           "",
           "",
           "",
           "",
           "",
           "",
           "",
           "",
           "",
           "6",
           "",
           "",
           "",
           "",
           "",
           "",
           "",
           "",
           "6"
          ],
          [
           "",
           "",
           "",
           "",
           "",
           "",
           "",
           "",
           "",
           "",
           "",
           "",
           "",
           "",
           "",
           "",
           "",
           "6",
           "",
           "",
           "",
           "",
           "",
           "",
           "",
           "",
           "",
           "",
           "",
           "",
           "",
           "",
           ""
          ],
          [
           "",
           "",
           "",
           "",
           "",
           "",
           "",
           "",
           "",
           "",
           "",
           "",
           "",
           "",
           "",
           "",
           "",
           "",
           "",
           "",
           "",
           "",
           "",
           "",
           "",
           "",
           "",
           "",
           "",
           "",
           "",
           "6",
           ""
          ],
          [
           "",
           "",
           "",
           "",
           "",
           "",
           "",
           "",
           "",
           "",
           "",
           "",
           "",
           "",
           "",
           "",
           "",
           "",
           "",
           "",
           "",
           "",
           "",
           "",
           "",
           "",
           "",
           "",
           "",
           "",
           "",
           "",
           "6"
          ]
         ],
         "textfont": {
          "size": 6
         },
         "texttemplate": "%{text}",
         "x": [
          "0.0",
          "0.03125",
          "0.0625",
          "0.09375",
          "0.125",
          "0.15625",
          "0.1875",
          "0.21875",
          "0.25",
          "0.28125",
          "0.3125",
          "0.34375",
          "0.375",
          "0.40625",
          "0.4375",
          "0.46875",
          "0.5",
          "0.53125",
          "0.5625",
          "0.59375",
          "0.625",
          "0.65625",
          "0.6875",
          "0.71875",
          "0.75",
          "0.78125",
          "0.8125",
          "0.84375",
          "0.875",
          "0.90625",
          "0.9375",
          "0.96875",
          "1.0"
         ],
         "y": [
          "0.00",
          "0.03",
          "0.06",
          "0.09",
          "0.12",
          "0.16",
          "0.19",
          "0.22",
          "0.25",
          "0.28",
          "0.31",
          "0.34",
          "0.38",
          "0.41",
          "0.44",
          "0.47",
          "0.50",
          "0.53",
          "0.56",
          "0.59",
          "0.62",
          "0.66",
          "0.69",
          "0.72",
          "0.75",
          "0.78",
          "0.81",
          "0.84",
          "0.91",
          "0.94",
          "0.97",
          "1.00"
         ],
         "z": {
          "dtype": "i4",
          "bdata": "BgAAAAYAAAAMAAAADAAAAAYAAAASAAAAHgAAABgAAAAAAAAAEgAAAAwAAAAYAAAABgAAABgAAAAMAAAAGAAAAB4AAAASAAAAEgAAAAwAAAAkAAAAGAAAAAAAAAAMAAAAAAAAAAAAAAAAAAAAEgAAABIAAAAAAAAABgAAAAAAAAAAAAAAEgAAAAwAAAAMAAAAEgAAAB4AAAAMAAAAHgAAAB4AAAASAAAAJAAAABIAAAASAAAABgAAABgAAAAkAAAAJAAAAB4AAAASAAAADAAAAAwAAAAAAAAABgAAAAwAAAAGAAAADAAAAAAAAAAAAAAAAAAAAAAAAAAAAAAAAAAAAAAAAAAAAAAAKgAAABIAAAAeAAAAJAAAABIAAAAeAAAAGAAAADYAAAAwAAAAPAAAAEgAAAAkAAAAHgAAAB4AAAAYAAAAGAAAADwAAAASAAAAEgAAAAYAAAAMAAAAEgAAAAwAAAASAAAADAAAAAwAAAAGAAAAAAAAAAAAAAAMAAAAAAAAAAYAAAAAAAAAEgAAACoAAAA8AAAAQgAAAEIAAAA2AAAAQgAAADYAAAA2AAAATgAAAEgAAABCAAAAMAAAAEIAAAAYAAAAKgAAADYAAABCAAAAGAAAADAAAAAqAAAAJAAAADAAAAAMAAAABgAAAAYAAAASAAAABgAAAAYAAAAAAAAAAAAAAAwAAAAAAAAANgAAACQAAAAwAAAAPAAAAEgAAAA2AAAAGAAAADAAAAAqAAAAMAAAACQAAABCAAAAPAAAAB4AAABUAAAAbAAAAGYAAAAkAAAAKgAAADwAAAAqAAAAJAAAAB4AAAAwAAAADAAAAB4AAAAMAAAADAAAAAwAAAASAAAABgAAAB4AAAAkAAAAJAAAABgAAAAqAAAAPAAAADAAAABCAAAAWgAAADwAAABUAAAAKgAAAE4AAABOAAAAYAAAAGwAAABmAAAAZgAAAH4AAABOAAAATgAAACoAAAAeAAAAPAAAAB4AAAAkAAAAKgAAABIAAAAAAAAAGAAAAAwAAAAAAAAADAAAABIAAAAMAAAAJAAAADYAAAAkAAAAPAAAAGwAAABIAAAANgAAADAAAAA8AAAAWgAAADYAAABOAAAAZgAAAEIAAABaAAAAlgAAAIoAAABIAAAAVAAAAEIAAAA8AAAASAAAAEgAAABOAAAANgAAABIAAAAqAAAADAAAADAAAAAYAAAAGAAAAB4AAAASAAAAHgAAAEIAAABaAAAAPAAAACQAAAA2AAAATgAAAEIAAABmAAAASAAAAFoAAABIAAAANgAAAGwAAABaAAAAcgAAAFoAAABmAAAAfgAAAGAAAABUAAAANgAAAB4AAAAwAAAANgAAAAYAAAAwAAAAPAAAACQAAAAkAAAAGAAAABIAAAAkAAAADAAAAEIAAABCAAAAKgAAADwAAAAqAAAATgAAAGAAAABgAAAAZgAAAFoAAABgAAAAQgAAAHIAAABOAAAAZgAAAFoAAAB+AAAAlgAAAGYAAABUAAAAQgAAADYAAABmAAAAHgAAACQAAAAqAAAAHgAAABgAAAAYAAAAHgAAAB4AAAA2AAAAHgAAAB4AAAAkAAAAGAAAAFQAAABIAAAASAAAADYAAABmAAAAVAAAAGYAAABCAAAAPAAAAGAAAABgAAAAfgAAAFoAAABmAAAAhAAAAGYAAABaAAAAhAAAAEgAAAA2AAAAGAAAAB4AAAAwAAAAHgAAACQAAAAkAAAAJAAAAGYAAAAwAAAAEgAAACQAAAAYAAAAGAAAABIAAAAeAAAAMAAAAB4AAAAwAAAAJAAAAEgAAAA2AAAAMAAAAE4AAABgAAAAQgAAAE4AAABaAAAAWgAAAGAAAAA2AAAAJAAAAB4AAAAYAAAAPAAAABgAAAAkAAAAEgAAAAwAAAAMAAAAGAAAABIAAAAwAAAAEgAAAAYAAAASAAAAGAAAABIAAAAkAAAADAAAAB4AAAA8AAAAMAAAADYAAAAqAAAASAAAADwAAAA8AAAAYAAAAGAAAABgAAAAfgAAAGwAAABCAAAAPAAAADwAAAAYAAAAWgAAADwAAAAwAAAAHgAAAAwAAAAMAAAANgAAACQAAABOAAAAEgAAAB4AAAAeAAAADAAAACoAAAAeAAAADAAAADAAAAA2AAAAGAAAAEgAAAA8AAAANgAAAEgAAABOAAAAcgAAAJwAAABUAAAAcgAAADwAAAAwAAAASAAAAGwAAAAwAAAAHgAAAEgAAAAkAAAADAAAADAAAAASAAAAMAAAAEIAAAAwAAAABgAAAAwAAAAYAAAAHgAAAB4AAAAMAAAAKgAAAAwAAAAwAAAAGAAAADYAAAAwAAAAHgAAADwAAABCAAAASAAAAFQAAABCAAAAZgAAAGAAAABaAAAATgAAACoAAAASAAAATgAAABgAAAAeAAAAGAAAABgAAAAkAAAAGAAAAB4AAAAqAAAAAAAAAAwAAAAGAAAADAAAAAYAAAAMAAAAGAAAABgAAAAeAAAAEgAAAB4AAAAYAAAAGAAAACoAAAAkAAAASAAAADwAAABmAAAAYAAAADwAAAAeAAAAPAAAADwAAAAeAAAANgAAACoAAAAeAAAAKgAAABgAAAAYAAAAJAAAACQAAAASAAAAEgAAAAYAAAAGAAAAGAAAACQAAAAMAAAAJAAAABIAAAAGAAAAGAAAAAAAAAAeAAAAJAAAABIAAAAqAAAAJAAAABgAAABOAAAAQgAAADAAAAAqAAAAHgAAACoAAAAkAAAAJAAAABgAAAAYAAAAEgAAACoAAAASAAAAJAAAADwAAABOAAAADAAAABIAAAAMAAAABgAAAAAAAAAGAAAAEgAAAAYAAAAeAAAADAAAAAwAAAAYAAAABgAAABgAAAAeAAAAKgAAACQAAAAkAAAANgAAADAAAAAYAAAAMAAAABgAAAAMAAAAJAAAABgAAAAkAAAADAAAABgAAAAYAAAABgAAAB4AAABOAAAAAAAAAAYAAAAAAAAAAAAAAAwAAAAGAAAADAAAAAwAAAAMAAAAAAAAAAYAAAAAAAAADAAAAAYAAAAYAAAAEgAAACQAAAA2AAAABgAAABIAAAAeAAAAHgAAABgAAAASAAAAKgAAAB4AAAAYAAAAEgAAAAYAAAAGAAAABgAAABIAAAASAAAAAAAAAAYAAAAGAAAAAAAAAAYAAAAGAAAABgAAAAYAAAAAAAAADAAAAAAAAAAMAAAAAAAAAAAAAAAMAAAAEgAAABgAAAAeAAAAJAAAABgAAAAeAAAADAAAACoAAAAMAAAAHgAAABgAAAAYAAAAEgAAACQAAAAAAAAABgAAABgAAAAkAAAAAAAAAAAAAAAGAAAABgAAAAAAAAAAAAAABgAAAAAAAAAAAAAABgAAABgAAAAGAAAAEgAAAAAAAAASAAAAGAAAABIAAAASAAAADAAAACQAAAAMAAAADAAAABgAAAAAAAAABgAAAAYAAAAMAAAAEgAAADYAAAAAAAAAEgAAAAYAAAAYAAAAAAAAAAAAAAAAAAAAAAAAAAAAAAAGAAAAAAAAAAAAAAAAAAAAAAAAAAwAAAAGAAAADAAAAAAAAAAMAAAABgAAAAYAAAAkAAAADAAAAAYAAAAeAAAADAAAABIAAAAAAAAAAAAAAAYAAAASAAAABgAAACoAAAAYAAAAAAAAABgAAAAGAAAAAAAAAAAAAAAAAAAAAAAAAAAAAAAAAAAAAAAAAAwAAAAMAAAADAAAAAAAAAAAAAAABgAAAAAAAAAAAAAADAAAAAYAAAAMAAAAAAAAAAAAAAAkAAAABgAAAAAAAAAGAAAABgAAAAYAAAAGAAAADAAAAAYAAAAGAAAABgAAAB4AAAAGAAAAAAAAAAYAAAAGAAAAAAAAAAAAAAAAAAAAAAAAAAAAAAAAAAAAAAAAAAAAAAAAAAAAAAAAAAAAAAAAAAAABgAAAAAAAAAMAAAADAAAAAAAAAAGAAAAAAAAAAYAAAAAAAAAAAAAAAAAAAAAAAAABgAAAAwAAAASAAAADAAAAAYAAAAAAAAAAAAAAAAAAAAAAAAAAAAAAAAAAAAAAAAAAAAAAAAAAAAAAAAAAAAAAAAAAAAAAAAAAAAAAAYAAAAAAAAAAAAAABIAAAAGAAAAAAAAAAAAAAAGAAAABgAAAAAAAAAAAAAABgAAAAAAAAAAAAAADAAAAAwAAAAGAAAADAAAAAYAAAAGAAAAAAAAAAAAAAAAAAAAAAAAAAAAAAAAAAAAAAAAAAYAAAAAAAAAAAAAAAAAAAAAAAAAAAAAAAAAAAAAAAAABgAAAAAAAAAAAAAABgAAAAAAAAAAAAAABgAAAAAAAAAAAAAABgAAAAwAAAAAAAAAAAAAAAAAAAAGAAAADAAAABgAAAAMAAAAAAAAAAAAAAAAAAAAAAAAAAAAAAAAAAAAAAAAAAYAAAAAAAAAAAAAAAAAAAAAAAAAAAAAAAAAAAAAAAAABgAAAAYAAAAGAAAAAAAAAAYAAAAAAAAAAAAAAAAAAAAGAAAAAAAAAAYAAAAAAAAAAAAAAAYAAAAAAAAAGAAAAAYAAAASAAAAAAAAAAAAAAAAAAAAAAAAAAAAAAAAAAAAAAAAAAAAAAAAAAAAAAAAAAAAAAAAAAAAAAAAAAAAAAAAAAAAAAAAAAYAAAAAAAAAAAAAAAYAAAAAAAAAAAAAAAAAAAAAAAAAAAAAAAAAAAAAAAAAAAAAAAAAAAAAAAAAAAAAAAAAAAAAAAAAAAAAAAAAAAAAAAAAAAAAAAAAAAAAAAAAAAAAAAAAAAAAAAAAAAAAAAAAAAAAAAAAAAAAAAAAAAAAAAAABgAAAAAAAAAAAAAABgAAAAYAAAAAAAAAAAAAAAAAAAAAAAAAAAAAAAAAAAAAAAAABgAAAAAAAAAGAAAADAAAAAYAAAAMAAAAAAAAAAAAAAAAAAAAAAAAAAAAAAAAAAAAAAAAAAAAAAAAAAAAAAAAAAAAAAAAAAAAAAAAAAAAAAAAAAAAAAAAAAAAAAAAAAAAAAAAAAAAAAAAAAAAAAAAAAAAAAAGAAAAAAAAAAAAAAAAAAAAAAAAAAAAAAAAAAAAAAAAAAAAAAAGAAAAAAAAAAAAAAAAAAAAAAAAAAAAAAAAAAAAAAAAAAAAAAAAAAAAAAAAAAAAAAAAAAAAAAAAAAAAAAAAAAAAAAAAAAAAAAAGAAAAAAAAAAAAAAAAAAAAAAAAAAAAAAAAAAAAAAAAAAAAAAAAAAAAAAAAAAAAAAAAAAAAAAAAAAAAAAAAAAAAAAAAAAAAAAAAAAAAAAAAAAAAAAAAAAAAAAAAAAAAAAAAAAAAAAAAAAAAAAAAAAAAAAAAAAAAAAAAAAAAAAAAAAAAAAAAAAAAAAAAAAAAAAAAAAAAAAAAAAAAAAAAAAAAAAAAAAAAAAAAAAAAAAAAAAAAAAAAAAAAAAAAAAYAAAAAAAAAAAAAAAAAAAAAAAAAAAAAAAAAAAAAAAAAAAAAAAAAAAAAAAAAAAAAAAAAAAAAAAAAAAAAAAAAAAAAAAAAAAAAAAAAAAAAAAAAAAAAAAAAAAAAAAAAAAAAAAAAAAAAAAAAAAAAAAAAAAAAAAAAAAAAAAAAAAAAAAAAAAAAAAAAAAAGAAAA",
          "shape": "32, 33"
         },
         "type": "heatmap"
        }
       ],
       "layout": {
        "template": {
         "data": {
          "histogram2dcontour": [
           {
            "type": "histogram2dcontour",
            "colorbar": {
             "outlinewidth": 0,
             "ticks": ""
            },
            "colorscale": [
             [
              0.0,
              "#0d0887"
             ],
             [
              0.1111111111111111,
              "#46039f"
             ],
             [
              0.2222222222222222,
              "#7201a8"
             ],
             [
              0.3333333333333333,
              "#9c179e"
             ],
             [
              0.4444444444444444,
              "#bd3786"
             ],
             [
              0.5555555555555556,
              "#d8576b"
             ],
             [
              0.6666666666666666,
              "#ed7953"
             ],
             [
              0.7777777777777778,
              "#fb9f3a"
             ],
             [
              0.8888888888888888,
              "#fdca26"
             ],
             [
              1.0,
              "#f0f921"
             ]
            ]
           }
          ],
          "choropleth": [
           {
            "type": "choropleth",
            "colorbar": {
             "outlinewidth": 0,
             "ticks": ""
            }
           }
          ],
          "histogram2d": [
           {
            "type": "histogram2d",
            "colorbar": {
             "outlinewidth": 0,
             "ticks": ""
            },
            "colorscale": [
             [
              0.0,
              "#0d0887"
             ],
             [
              0.1111111111111111,
              "#46039f"
             ],
             [
              0.2222222222222222,
              "#7201a8"
             ],
             [
              0.3333333333333333,
              "#9c179e"
             ],
             [
              0.4444444444444444,
              "#bd3786"
             ],
             [
              0.5555555555555556,
              "#d8576b"
             ],
             [
              0.6666666666666666,
              "#ed7953"
             ],
             [
              0.7777777777777778,
              "#fb9f3a"
             ],
             [
              0.8888888888888888,
              "#fdca26"
             ],
             [
              1.0,
              "#f0f921"
             ]
            ]
           }
          ],
          "heatmap": [
           {
            "type": "heatmap",
            "colorbar": {
             "outlinewidth": 0,
             "ticks": ""
            },
            "colorscale": [
             [
              0.0,
              "#0d0887"
             ],
             [
              0.1111111111111111,
              "#46039f"
             ],
             [
              0.2222222222222222,
              "#7201a8"
             ],
             [
              0.3333333333333333,
              "#9c179e"
             ],
             [
              0.4444444444444444,
              "#bd3786"
             ],
             [
              0.5555555555555556,
              "#d8576b"
             ],
             [
              0.6666666666666666,
              "#ed7953"
             ],
             [
              0.7777777777777778,
              "#fb9f3a"
             ],
             [
              0.8888888888888888,
              "#fdca26"
             ],
             [
              1.0,
              "#f0f921"
             ]
            ]
           }
          ],
          "contourcarpet": [
           {
            "type": "contourcarpet",
            "colorbar": {
             "outlinewidth": 0,
             "ticks": ""
            }
           }
          ],
          "contour": [
           {
            "type": "contour",
            "colorbar": {
             "outlinewidth": 0,
             "ticks": ""
            },
            "colorscale": [
             [
              0.0,
              "#0d0887"
             ],
             [
              0.1111111111111111,
              "#46039f"
             ],
             [
              0.2222222222222222,
              "#7201a8"
             ],
             [
              0.3333333333333333,
              "#9c179e"
             ],
             [
              0.4444444444444444,
              "#bd3786"
             ],
             [
              0.5555555555555556,
              "#d8576b"
             ],
             [
              0.6666666666666666,
              "#ed7953"
             ],
             [
              0.7777777777777778,
              "#fb9f3a"
             ],
             [
              0.8888888888888888,
              "#fdca26"
             ],
             [
              1.0,
              "#f0f921"
             ]
            ]
           }
          ],
          "surface": [
           {
            "type": "surface",
            "colorbar": {
             "outlinewidth": 0,
             "ticks": ""
            },
            "colorscale": [
             [
              0.0,
              "#0d0887"
             ],
             [
              0.1111111111111111,
              "#46039f"
             ],
             [
              0.2222222222222222,
              "#7201a8"
             ],
             [
              0.3333333333333333,
              "#9c179e"
             ],
             [
              0.4444444444444444,
              "#bd3786"
             ],
             [
              0.5555555555555556,
              "#d8576b"
             ],
             [
              0.6666666666666666,
              "#ed7953"
             ],
             [
              0.7777777777777778,
              "#fb9f3a"
             ],
             [
              0.8888888888888888,
              "#fdca26"
             ],
             [
              1.0,
              "#f0f921"
             ]
            ]
           }
          ],
          "mesh3d": [
           {
            "type": "mesh3d",
            "colorbar": {
             "outlinewidth": 0,
             "ticks": ""
            }
           }
          ],
          "scatter": [
           {
            "fillpattern": {
             "fillmode": "overlay",
             "size": 10,
             "solidity": 0.2
            },
            "type": "scatter"
           }
          ],
          "parcoords": [
           {
            "type": "parcoords",
            "line": {
             "colorbar": {
              "outlinewidth": 0,
              "ticks": ""
             }
            }
           }
          ],
          "scatterpolargl": [
           {
            "type": "scatterpolargl",
            "marker": {
             "colorbar": {
              "outlinewidth": 0,
              "ticks": ""
             }
            }
           }
          ],
          "bar": [
           {
            "error_x": {
             "color": "#2a3f5f"
            },
            "error_y": {
             "color": "#2a3f5f"
            },
            "marker": {
             "line": {
              "color": "#E5ECF6",
              "width": 0.5
             },
             "pattern": {
              "fillmode": "overlay",
              "size": 10,
              "solidity": 0.2
             }
            },
            "type": "bar"
           }
          ],
          "scattergeo": [
           {
            "type": "scattergeo",
            "marker": {
             "colorbar": {
              "outlinewidth": 0,
              "ticks": ""
             }
            }
           }
          ],
          "scatterpolar": [
           {
            "type": "scatterpolar",
            "marker": {
             "colorbar": {
              "outlinewidth": 0,
              "ticks": ""
             }
            }
           }
          ],
          "histogram": [
           {
            "marker": {
             "pattern": {
              "fillmode": "overlay",
              "size": 10,
              "solidity": 0.2
             }
            },
            "type": "histogram"
           }
          ],
          "scattergl": [
           {
            "type": "scattergl",
            "marker": {
             "colorbar": {
              "outlinewidth": 0,
              "ticks": ""
             }
            }
           }
          ],
          "scatter3d": [
           {
            "type": "scatter3d",
            "line": {
             "colorbar": {
              "outlinewidth": 0,
              "ticks": ""
             }
            },
            "marker": {
             "colorbar": {
              "outlinewidth": 0,
              "ticks": ""
             }
            }
           }
          ],
          "scattermap": [
           {
            "type": "scattermap",
            "marker": {
             "colorbar": {
              "outlinewidth": 0,
              "ticks": ""
             }
            }
           }
          ],
          "scattermapbox": [
           {
            "type": "scattermapbox",
            "marker": {
             "colorbar": {
              "outlinewidth": 0,
              "ticks": ""
             }
            }
           }
          ],
          "scatterternary": [
           {
            "type": "scatterternary",
            "marker": {
             "colorbar": {
              "outlinewidth": 0,
              "ticks": ""
             }
            }
           }
          ],
          "scattercarpet": [
           {
            "type": "scattercarpet",
            "marker": {
             "colorbar": {
              "outlinewidth": 0,
              "ticks": ""
             }
            }
           }
          ],
          "carpet": [
           {
            "aaxis": {
             "endlinecolor": "#2a3f5f",
             "gridcolor": "white",
             "linecolor": "white",
             "minorgridcolor": "white",
             "startlinecolor": "#2a3f5f"
            },
            "baxis": {
             "endlinecolor": "#2a3f5f",
             "gridcolor": "white",
             "linecolor": "white",
             "minorgridcolor": "white",
             "startlinecolor": "#2a3f5f"
            },
            "type": "carpet"
           }
          ],
          "table": [
           {
            "cells": {
             "fill": {
              "color": "#EBF0F8"
             },
             "line": {
              "color": "white"
             }
            },
            "header": {
             "fill": {
              "color": "#C8D4E3"
             },
             "line": {
              "color": "white"
             }
            },
            "type": "table"
           }
          ],
          "barpolar": [
           {
            "marker": {
             "line": {
              "color": "#E5ECF6",
              "width": 0.5
             },
             "pattern": {
              "fillmode": "overlay",
              "size": 10,
              "solidity": 0.2
             }
            },
            "type": "barpolar"
           }
          ],
          "pie": [
           {
            "automargin": true,
            "type": "pie"
           }
          ]
         },
         "layout": {
          "autotypenumbers": "strict",
          "colorway": [
           "#636efa",
           "#EF553B",
           "#00cc96",
           "#ab63fa",
           "#FFA15A",
           "#19d3f3",
           "#FF6692",
           "#B6E880",
           "#FF97FF",
           "#FECB52"
          ],
          "font": {
           "color": "#2a3f5f"
          },
          "hovermode": "closest",
          "hoverlabel": {
           "align": "left"
          },
          "paper_bgcolor": "white",
          "plot_bgcolor": "#E5ECF6",
          "polar": {
           "bgcolor": "#E5ECF6",
           "angularaxis": {
            "gridcolor": "white",
            "linecolor": "white",
            "ticks": ""
           },
           "radialaxis": {
            "gridcolor": "white",
            "linecolor": "white",
            "ticks": ""
           }
          },
          "ternary": {
           "bgcolor": "#E5ECF6",
           "aaxis": {
            "gridcolor": "white",
            "linecolor": "white",
            "ticks": ""
           },
           "baxis": {
            "gridcolor": "white",
            "linecolor": "white",
            "ticks": ""
           },
           "caxis": {
            "gridcolor": "white",
            "linecolor": "white",
            "ticks": ""
           }
          },
          "coloraxis": {
           "colorbar": {
            "outlinewidth": 0,
            "ticks": ""
           }
          },
          "colorscale": {
           "sequential": [
            [
             0.0,
             "#0d0887"
            ],
            [
             0.1111111111111111,
             "#46039f"
            ],
            [
             0.2222222222222222,
             "#7201a8"
            ],
            [
             0.3333333333333333,
             "#9c179e"
            ],
            [
             0.4444444444444444,
             "#bd3786"
            ],
            [
             0.5555555555555556,
             "#d8576b"
            ],
            [
             0.6666666666666666,
             "#ed7953"
            ],
            [
             0.7777777777777778,
             "#fb9f3a"
            ],
            [
             0.8888888888888888,
             "#fdca26"
            ],
            [
             1.0,
             "#f0f921"
            ]
           ],
           "sequentialminus": [
            [
             0.0,
             "#0d0887"
            ],
            [
             0.1111111111111111,
             "#46039f"
            ],
            [
             0.2222222222222222,
             "#7201a8"
            ],
            [
             0.3333333333333333,
             "#9c179e"
            ],
            [
             0.4444444444444444,
             "#bd3786"
            ],
            [
             0.5555555555555556,
             "#d8576b"
            ],
            [
             0.6666666666666666,
             "#ed7953"
            ],
            [
             0.7777777777777778,
             "#fb9f3a"
            ],
            [
             0.8888888888888888,
             "#fdca26"
            ],
            [
             1.0,
             "#f0f921"
            ]
           ],
           "diverging": [
            [
             0,
             "#8e0152"
            ],
            [
             0.1,
             "#c51b7d"
            ],
            [
             0.2,
             "#de77ae"
            ],
            [
             0.3,
             "#f1b6da"
            ],
            [
             0.4,
             "#fde0ef"
            ],
            [
             0.5,
             "#f7f7f7"
            ],
            [
             0.6,
             "#e6f5d0"
            ],
            [
             0.7,
             "#b8e186"
            ],
            [
             0.8,
             "#7fbc41"
            ],
            [
             0.9,
             "#4d9221"
            ],
            [
             1,
             "#276419"
            ]
           ]
          },
          "xaxis": {
           "gridcolor": "white",
           "linecolor": "white",
           "ticks": "",
           "title": {
            "standoff": 15
           },
           "zerolinecolor": "white",
           "automargin": true,
           "zerolinewidth": 2
          },
          "yaxis": {
           "gridcolor": "white",
           "linecolor": "white",
           "ticks": "",
           "title": {
            "standoff": 15
           },
           "zerolinecolor": "white",
           "automargin": true,
           "zerolinewidth": 2
          },
          "scene": {
           "xaxis": {
            "backgroundcolor": "#E5ECF6",
            "gridcolor": "white",
            "linecolor": "white",
            "showbackground": true,
            "ticks": "",
            "zerolinecolor": "white",
            "gridwidth": 2
           },
           "yaxis": {
            "backgroundcolor": "#E5ECF6",
            "gridcolor": "white",
            "linecolor": "white",
            "showbackground": true,
            "ticks": "",
            "zerolinecolor": "white",
            "gridwidth": 2
           },
           "zaxis": {
            "backgroundcolor": "#E5ECF6",
            "gridcolor": "white",
            "linecolor": "white",
            "showbackground": true,
            "ticks": "",
            "zerolinecolor": "white",
            "gridwidth": 2
           }
          },
          "shapedefaults": {
           "line": {
            "color": "#2a3f5f"
           }
          },
          "annotationdefaults": {
           "arrowcolor": "#2a3f5f",
           "arrowhead": 0,
           "arrowwidth": 1
          },
          "geo": {
           "bgcolor": "white",
           "landcolor": "#E5ECF6",
           "subunitcolor": "white",
           "showland": true,
           "showlakes": true,
           "lakecolor": "white"
          },
          "title": {
           "x": 0.05
          },
          "mapbox": {
           "style": "light"
          }
         }
        },
        "title": {
         "text": "Heatmap: X vs Y (unique values)"
        },
        "xaxis": {
         "title": {
          "text": "X"
         }
        },
        "yaxis": {
         "title": {
          "text": "Y"
         }
        },
        "width": 1200,
        "height": 600
       },
       "config": {
        "plotlyServerURL": "https://plot.ly"
       }
      }
     },
     "metadata": {},
     "output_type": "display_data"
    }
   ],
   "execution_count": 5
  },
  {
   "metadata": {
    "ExecuteTime": {
     "end_time": "2025-08-10T12:50:32.005989Z",
     "start_time": "2025-08-10T12:50:32.004215Z"
    }
   },
   "cell_type": "code",
   "source": [
    "# sample_ix = 100 # for each sample 24 variations\n",
    "# input_hvos = loaded_datasets[\"input_hvos\"][sample_ix*24: ((sample_ix+1)*24)]\n",
    "# output_hvos = loaded_datasets[\"output_hvos\"][sample_ix*24: ((sample_ix+1)*24)]\n",
    "# metadatas = loaded_datasets[\"metadata\"][sample_ix*24: ((sample_ix+1)*24)]\n",
    "# print(len(input_hvos), len(output_hvos), len(metadatas))\n",
    "# print(loaded_datasets[\"OF_Input Hamming\"][sample_ix*24: ((sample_ix+1)*24)])\n",
    "# print(loaded_datasets[\"OF_Input Hamming Accent\"][sample_ix*24: ((sample_ix+1)*24)])\n",
    "# print(loaded_datasets[\"OS1_OF Jaccard\"][sample_ix*24: ((sample_ix+1)*24)])\n",
    "# print(loaded_datasets[\"OS2_OF Jaccard\"][sample_ix*24: ((sample_ix+1)*24)])\n",
    "# print(loaded_datasets[\"OS3_OF Jaccard\"][sample_ix*24: ((sample_ix+1)*24)])\n",
    "# create_multitab_from_HVO_Sequences(compile_into_list_of_hvo_seqs(input_hvos, output_hvos, metadatas, qpms=None))"
   ],
   "id": "207973c40193898d",
   "outputs": [],
   "execution_count": 6
  }
 ],
 "metadata": {
  "kernelspec": {
   "display_name": "Python TripleStreams",
   "language": "python",
   "name": "triplestreams"
  },
  "language_info": {
   "codemirror_mode": {
    "name": "ipython",
    "version": 3
   },
   "file_extension": ".py",
   "mimetype": "text/x-python",
   "name": "python",
   "nbconvert_exporter": "python",
   "pygments_lexer": "ipython3",
   "version": "3.9.23"
  }
 },
 "nbformat": 4,
 "nbformat_minor": 5
}
