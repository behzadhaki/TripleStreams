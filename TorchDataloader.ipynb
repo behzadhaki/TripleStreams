{
 "cells": [
  {
   "cell_type": "code",
   "id": "e10086094576695c",
   "metadata": {
    "ExecuteTime": {
     "end_time": "2025-08-09T20:58:27.845439Z",
     "start_time": "2025-08-09T20:58:25.932130Z"
    }
   },
   "source": [
    "from triple_stream_data_utils import *\n",
    "\n",
    "def _ndarray_to_npy_bytes(arr, allow_pickle=False):\n",
    "    buf = io.BytesIO()\n",
    "    # .npy format is versioned & stable; this avoids numpy's pickle reducers\n",
    "    np.save(buf, arr, allow_pickle=allow_pickle)\n",
    "    return buf.getvalue()\n",
    "\n",
    "def _npy_bytes_to_ndarray(b, allow_pickle=False):\n",
    "    buf = io.BytesIO(b)\n",
    "    return np.load(buf, allow_pickle=allow_pickle)\n",
    "\n",
    "def _encode_for_pickle(obj, allow_pickle_arrays=False):\n",
    "    \"\"\"\n",
    "    Recursively convert ndarrays into a small marker dict with .npy bytes.\n",
    "    Everything else is returned as-is (and will be pickled normally).\n",
    "    \"\"\"\n",
    "    if isinstance(obj, np.ndarray):\n",
    "        return {\"__npy__\": True, \"data\": _ndarray_to_npy_bytes(obj, allow_pickle=allow_pickle_arrays)}\n",
    "    elif isinstance(obj, dict):\n",
    "        return {k: _encode_for_pickle(v, allow_pickle_arrays) for k, v in obj.items()}\n",
    "    elif isinstance(obj, (list, tuple)):\n",
    "        t = type(obj)\n",
    "        return t(_encode_for_pickle(v, allow_pickle_arrays) for v in obj)\n",
    "    else:\n",
    "        return obj\n",
    "\n",
    "def _decode_after_unpickle(obj, allow_pickle_arrays=False):\n",
    "    \"\"\"\n",
    "    Inverse of _encode_for_pickle: turn marker dicts back into ndarrays.\n",
    "    \"\"\"\n",
    "    if isinstance(obj, dict):\n",
    "        if obj.keys() == {\"__npy__\", \"data\"} and obj.get(\"__npy__\") is True:\n",
    "            return _npy_bytes_to_ndarray(obj[\"data\"], allow_pickle=allow_pickle_arrays)\n",
    "        else:\n",
    "            return {k: _decode_after_unpickle(v, allow_pickle_arrays) for k, v in obj.items()}\n",
    "    elif isinstance(obj, (list, tuple)):\n",
    "        t = type(obj)\n",
    "        return t(_decode_after_unpickle(v, allow_pickle_arrays) for v in obj)\n",
    "    else:\n",
    "        return obj\n",
    "\n",
    "def load_compiled_dataset_pkl_bz2(dataset_pkl_bz2, *, allow_pickle_arrays=False):\n",
    "    \"\"\"\n",
    "    Load a compiled dataset saved by compile_data_for_multiple_datasets_pkl().\n",
    "    \"\"\"\n",
    "    assert dataset_pkl_bz2.endswith(\".pkl.bz2\"), \"Dataset name must end with .pkl.bz2\"\n",
    "    compiled_data_path = dataset_pkl_bz2\n",
    "    if not os.path.exists(compiled_data_path):\n",
    "        raise FileNotFoundError(f\"No compiled dataset found at {compiled_data_path}\")\n",
    "\n",
    "    with bz2.BZ2File(compiled_data_path, 'rb') as f:\n",
    "        raw = pickle.load(f)\n",
    "    return _decode_after_unpickle(raw, allow_pickle_arrays=allow_pickle_arrays)\n"
   ],
   "outputs": [
    {
     "name": "stderr",
     "output_type": "stream",
     "text": [
      "Could not import fluidsynth. AUDIO rendering will not work.\n"
     ]
    }
   ],
   "execution_count": 2
  },
  {
   "cell_type": "code",
   "id": "f5a1fdc55d5fc9ee",
   "metadata": {
    "ExecuteTime": {
     "end_time": "2025-08-09T20:58:27.855354Z",
     "start_time": "2025-08-09T20:58:27.851252Z"
    }
   },
   "source": [
    "# Make sure you've already ran python CompileStreamsAndFeatures.py\n",
    "\n",
    "root = \"data/triple_streams/split_2bars/compiled_data/\"\n",
    "all_pkl_bz2_files = [f for f in os.listdir(root) if f.endswith('.pkl.bz2')]\n",
    "\n",
    "# Available Datasets\n",
    "available_datasets_path = {\n",
    "    all_pkl_bz2_file.split(\".pkl.bz2\")[0]: os.path.join(root, all_pkl_bz2_file) for all_pkl_bz2_file in all_pkl_bz2_files\n",
    "}\n",
    "\n",
    "available_datasets_path"
   ],
   "outputs": [
    {
     "data": {
      "text/plain": [
       "{'lmd_drum_guitar_percussion_piano': 'data/triple_streams/split_2bars/compiled_data/lmd_drum_guitar_percussion_piano.pkl.bz2',\n",
       " 'lmd_drum_guitar_percussive_piano': 'data/triple_streams/split_2bars/compiled_data/lmd_drum_guitar_percussive_piano.pkl.bz2',\n",
       " 'lmd_bass_brass_guitar_piano': 'data/triple_streams/split_2bars/compiled_data/lmd_bass_brass_guitar_piano.pkl.bz2',\n",
       " 'groove_midi_crash_hhclosed_hhopen_ride': 'data/triple_streams/split_2bars/compiled_data/groove_midi_crash_hhclosed_hhopen_ride.pkl.bz2',\n",
       " 'lmd_bass_percussion_percussive_piano': 'data/triple_streams/split_2bars/compiled_data/lmd_bass_percussion_percussive_piano.pkl.bz2',\n",
       " 'lmd_bass_drum_guitar_piano': 'data/triple_streams/split_2bars/compiled_data/lmd_bass_drum_guitar_piano.pkl.bz2',\n",
       " 'groove_midi_hh_kick_snare_toms': 'data/triple_streams/split_2bars/compiled_data/groove_midi_hh_kick_snare_toms.pkl.bz2',\n",
       " 'elbg_both_flattened_left_right': 'data/triple_streams/split_2bars/compiled_data/elbg_both_flattened_left_right.pkl.bz2',\n",
       " 'lmd_bass_drum_guitar_percussion': 'data/triple_streams/split_2bars/compiled_data/lmd_bass_drum_guitar_percussion.pkl.bz2',\n",
       " 'lmd_bass_brass_drum_percussion': 'data/triple_streams/split_2bars/compiled_data/lmd_bass_brass_drum_percussion.pkl.bz2',\n",
       " 'lmd_brass_guitar_percussion_percussive': 'data/triple_streams/split_2bars/compiled_data/lmd_brass_guitar_percussion_percussive.pkl.bz2',\n",
       " 'lmd_bass_drum_guitar_percussive': 'data/triple_streams/split_2bars/compiled_data/lmd_bass_drum_guitar_percussive.pkl.bz2',\n",
       " 'lmd_brass_guitar_percussive_piano': 'data/triple_streams/split_2bars/compiled_data/lmd_brass_guitar_percussive_piano.pkl.bz2',\n",
       " 'lmd_brass_guitar_percussion_piano': 'data/triple_streams/split_2bars/compiled_data/lmd_brass_guitar_percussion_piano.pkl.bz2',\n",
       " 'lmd_bass_drum_percussion_percussive': 'data/triple_streams/split_2bars/compiled_data/lmd_bass_drum_percussion_percussive.pkl.bz2',\n",
       " 'lmd_brass_drum_percussive_piano': 'data/triple_streams/split_2bars/compiled_data/lmd_brass_drum_percussive_piano.pkl.bz2',\n",
       " 'lmd_brass_drum_percussion_piano': 'data/triple_streams/split_2bars/compiled_data/lmd_brass_drum_percussion_piano.pkl.bz2',\n",
       " 'lmd_bass_brass_drum_percussive': 'data/triple_streams/split_2bars/compiled_data/lmd_bass_brass_drum_percussive.pkl.bz2',\n",
       " 'lmd_guitar_percussion_percussive_piano': 'data/triple_streams/split_2bars/compiled_data/lmd_guitar_percussion_percussive_piano.pkl.bz2',\n",
       " 'lmd_brass_drum_guitar_piano': 'data/triple_streams/split_2bars/compiled_data/lmd_brass_drum_guitar_piano.pkl.bz2',\n",
       " 'lmd_drum_guitar_percussion_percussive': 'data/triple_streams/split_2bars/compiled_data/lmd_drum_guitar_percussion_percussive.pkl.bz2',\n",
       " 'lmd_bass_guitar_percussion_percussive': 'data/triple_streams/split_2bars/compiled_data/lmd_bass_guitar_percussion_percussive.pkl.bz2',\n",
       " 'lmd_bass_brass_guitar_percussive': 'data/triple_streams/split_2bars/compiled_data/lmd_bass_brass_guitar_percussive.pkl.bz2',\n",
       " 'lmd_bass_brass_guitar_percussion': 'data/triple_streams/split_2bars/compiled_data/lmd_bass_brass_guitar_percussion.pkl.bz2',\n",
       " 'lmd_bass_brass_drum_piano': 'data/triple_streams/split_2bars/compiled_data/lmd_bass_brass_drum_piano.pkl.bz2',\n",
       " 'lmd_bass_guitar_percussive_piano': 'data/triple_streams/split_2bars/compiled_data/lmd_bass_guitar_percussive_piano.pkl.bz2',\n",
       " 'groove_midi_hi_lo_mid_ride': 'data/triple_streams/split_2bars/compiled_data/groove_midi_hi_lo_mid_ride.pkl.bz2',\n",
       " 'groove_midi_groove_high_low_mid': 'data/triple_streams/split_2bars/compiled_data/groove_midi_groove_high_low_mid.pkl.bz2',\n",
       " 'lmd_drum_percussion_percussive_piano': 'data/triple_streams/split_2bars/compiled_data/lmd_drum_percussion_percussive_piano.pkl.bz2',\n",
       " 'lmd_bass_guitar_percussion_piano': 'data/triple_streams/split_2bars/compiled_data/lmd_bass_guitar_percussion_piano.pkl.bz2',\n",
       " 'lmd_bass_brass_percussion_piano': 'data/triple_streams/split_2bars/compiled_data/lmd_bass_brass_percussion_piano.pkl.bz2',\n",
       " 'lmd_bass_brass_percussive_piano': 'data/triple_streams/split_2bars/compiled_data/lmd_bass_brass_percussive_piano.pkl.bz2',\n",
       " 'lmd_brass_drum_percussion_percussive': 'data/triple_streams/split_2bars/compiled_data/lmd_brass_drum_percussion_percussive.pkl.bz2',\n",
       " 'ttd_both-is-or_both_flattened_left_right': 'data/triple_streams/split_2bars/compiled_data/ttd_both-is-or_both_flattened_left_right.pkl.bz2',\n",
       " 'lmd_brass_drum_guitar_percussion': 'data/triple_streams/split_2bars/compiled_data/lmd_brass_drum_guitar_percussion.pkl.bz2',\n",
       " 'ttd_both-is-and_both_flattened_left_right': 'data/triple_streams/split_2bars/compiled_data/ttd_both-is-and_both_flattened_left_right.pkl.bz2',\n",
       " 'lmd_bass_drum_percussive_piano': 'data/triple_streams/split_2bars/compiled_data/lmd_bass_drum_percussive_piano.pkl.bz2',\n",
       " 'lmd_bass_brass_drum_guitar': 'data/triple_streams/split_2bars/compiled_data/lmd_bass_brass_drum_guitar.pkl.bz2',\n",
       " 'lmd_bass_drum_percussion_piano': 'data/triple_streams/split_2bars/compiled_data/lmd_bass_drum_percussion_piano.pkl.bz2',\n",
       " 'lmd_brass_drum_guitar_percussive': 'data/triple_streams/split_2bars/compiled_data/lmd_brass_drum_guitar_percussive.pkl.bz2',\n",
       " 'candombe_voice_{ix}_voice_{ix}_voice_{ix}_voice_{ix}': 'data/triple_streams/split_2bars/compiled_data/candombe_voice_{ix}_voice_{ix}_voice_{ix}_voice_{ix}.pkl.bz2',\n",
       " 'lmd_brass_percussion_percussive_piano': 'data/triple_streams/split_2bars/compiled_data/lmd_brass_percussion_percussive_piano.pkl.bz2',\n",
       " 'lmd_bass_brass_percussion_percussive': 'data/triple_streams/split_2bars/compiled_data/lmd_bass_brass_percussion_percussive.pkl.bz2'}"
      ]
     },
     "execution_count": 3,
     "metadata": {},
     "output_type": "execute_result"
    }
   ],
   "execution_count": 3
  },
  {
   "metadata": {
    "ExecuteTime": {
     "end_time": "2025-08-09T21:00:03.767328Z",
     "start_time": "2025-08-09T20:59:11.143358Z"
    }
   },
   "cell_type": "code",
   "source": [
    "dataset_tags = [\"lmd_bass_drum_guitar_piano\"]   # \"lmd\" is not included here\n",
    "loaded_datasets = {}\n",
    "\n",
    "for dataset_tag in dataset_tags:\n",
    "    # load .pkl.bz2 file\n",
    "    if dataset_tag in available_datasets_path:\n",
    "        d_dict = load_compiled_dataset_pkl_bz2(available_datasets_path[dataset_tag])\n",
    "        for key, val in d_dict.items():\n",
    "            if key not in loaded_datasets:\n",
    "                loaded_datasets[key] = []\n",
    "            loaded_datasets[key].extend(val)\n",
    "\n",
    "print(loaded_datasets.keys())"
   ],
   "id": "a5e6f93b777dbe59",
   "outputs": [
    {
     "name": "stdout",
     "output_type": "stream",
     "text": [
      "dict_keys(['input_hvos', 'output_hvos', 'flat_out_hvos', 'sample_id', 'collection', 'metadata', 'qpm', 'OF_Input Hamming', 'OF_Input Hamming Accent', 'OS1_OF Jaccard', 'OS2_OF Jaccard', 'OS3_OF Jaccard', 'pearson', 'cosine', 'euclidean_similarity', 'mae_similarity', 'dtw_similarity'])\n"
     ]
    }
   ],
   "execution_count": 9
  },
  {
   "cell_type": "code",
   "id": "2faebb96a369afef",
   "metadata": {
    "jupyter": {
     "is_executing": true
    },
    "ExecuteTime": {
     "start_time": "2025-08-09T21:00:03.777917Z"
    }
   },
   "source": [
    "feature1 = \"OF_Input Hamming\"\n",
    "feature2 = \"mae_similarity\"\n",
    "plot_scatter_distribution(\n",
    "    feat1=loaded_datasets[feature1],\n",
    "    feat2=loaded_datasets[feature2],\n",
    "    xlabel=feature1,\n",
    "    ylabel=feature2,\n",
    "    title=\"Flat Output Vs. Input Features\"\n",
    ")\n",
    "create_heatmap_histogram_from_lists(\n",
    "    feat1=loaded_datasets[feature1],\n",
    "    feat2=loaded_datasets[feature2],\n",
    "    xlabel=feature1,\n",
    "    ylabel=feature2,\n",
    "    title=\"Flat Output Vs. Input Features\"\n",
    ")"
   ],
   "outputs": [
    {
     "data": {
      "text/plain": [
       "<Figure size 600x600 with 1 Axes>"
      ],
      "image/png": "[encoded data removed]"
     },
     "metadata": {},
     "output_type": "display_data"
    }
   ],
   "execution_count": null
  },
  {
   "metadata": {
    "ExecuteTime": {
     "end_time": "2025-08-09T20:58:58.194457Z",
     "start_time": "2025-08-09T20:58:58.179045Z"
    }
   },
   "cell_type": "code",
   "source": [
    "# clip accents at 0.75\n",
    "clipped_accents = [min(v, 0.75) for v in loaded_datasets[\"OF_Input Hamming Accent\"]]\n",
    "\n",
    "plot_scatter_distribution(\n",
    "    feat1=loaded_datasets[\"OF_Input Hamming\"],\n",
    "    feat2=clipped_accents,\n",
    "    xlabel=\"Hits Hamming\",\n",
    "    ylabel=\"Accented Hits Hamming\",\n",
    "    title=\"Flat Output Vs. Input Features\"\n",
    ")\n",
    "create_heatmap_histogram_from_lists(\n",
    "    feat1=loaded_datasets[\"OF_Input Hamming\"],\n",
    "    feat2=clipped_accents,\n",
    "    xlabel=\"Hits Hamming\",\n",
    "    ylabel=\"Accented Hits Hamming\",\n",
    "    title=\"Flat Output Vs. Input Features\",\n",
    "    clip_counts_at=50000,\n",
    "    saturate_colors_only=True\n",
    ")\n"
   ],
   "id": "692f0f6c8780ede1",
   "outputs": [
    {
     "ename": "KeyError",
     "evalue": "'OF_Input Hamming Accent'",
     "output_type": "error",
     "traceback": [
      "\u001B[0;31m---------------------------------------------------------------------------\u001B[0m",
      "\u001B[0;31mKeyError\u001B[0m                                  Traceback (most recent call last)",
      "Cell \u001B[0;32mIn[8], line 2\u001B[0m\n\u001B[1;32m      1\u001B[0m \u001B[38;5;66;03m# clip accents at 0.75\u001B[39;00m\n\u001B[0;32m----> 2\u001B[0m clipped_accents \u001B[38;5;241m=\u001B[39m [\u001B[38;5;28mmin\u001B[39m(v, \u001B[38;5;241m0.75\u001B[39m) \u001B[38;5;28;01mfor\u001B[39;00m v \u001B[38;5;129;01min\u001B[39;00m \u001B[43mloaded_datasets\u001B[49m\u001B[43m[\u001B[49m\u001B[38;5;124;43m\"\u001B[39;49m\u001B[38;5;124;43mOF_Input Hamming Accent\u001B[39;49m\u001B[38;5;124;43m\"\u001B[39;49m\u001B[43m]\u001B[49m]\n\u001B[1;32m      4\u001B[0m plot_scatter_distribution(\n\u001B[1;32m      5\u001B[0m     feat1\u001B[38;5;241m=\u001B[39mloaded_datasets[\u001B[38;5;124m\"\u001B[39m\u001B[38;5;124mOF_Input Hamming\u001B[39m\u001B[38;5;124m\"\u001B[39m],\n\u001B[1;32m      6\u001B[0m     feat2\u001B[38;5;241m=\u001B[39mclipped_accents,\n\u001B[0;32m   (...)\u001B[0m\n\u001B[1;32m      9\u001B[0m     title\u001B[38;5;241m=\u001B[39m\u001B[38;5;124m\"\u001B[39m\u001B[38;5;124mFlat Output Vs. Input Features\u001B[39m\u001B[38;5;124m\"\u001B[39m\n\u001B[1;32m     10\u001B[0m )\n\u001B[1;32m     11\u001B[0m create_heatmap_histogram_from_lists(\n\u001B[1;32m     12\u001B[0m     feat1\u001B[38;5;241m=\u001B[39mloaded_datasets[\u001B[38;5;124m\"\u001B[39m\u001B[38;5;124mOF_Input Hamming\u001B[39m\u001B[38;5;124m\"\u001B[39m],\n\u001B[1;32m     13\u001B[0m     feat2\u001B[38;5;241m=\u001B[39mclipped_accents,\n\u001B[0;32m   (...)\u001B[0m\n\u001B[1;32m     18\u001B[0m     saturate_colors_only\u001B[38;5;241m=\u001B[39m\u001B[38;5;28;01mTrue\u001B[39;00m\n\u001B[1;32m     19\u001B[0m )\n",
      "\u001B[0;31mKeyError\u001B[0m: 'OF_Input Hamming Accent'"
     ]
    }
   ],
   "execution_count": 8
  },
  {
   "metadata": {},
   "cell_type": "code",
   "outputs": [],
   "execution_count": null,
   "source": [
    "# sample_ix = 100 # for each sample 24 variations\n",
    "# input_hvos = loaded_datasets[\"input_hvos\"][sample_ix*24: ((sample_ix+1)*24)]\n",
    "# output_hvos = loaded_datasets[\"output_hvos\"][sample_ix*24: ((sample_ix+1)*24)]\n",
    "# metadatas = loaded_datasets[\"metadata\"][sample_ix*24: ((sample_ix+1)*24)]\n",
    "# print(len(input_hvos), len(output_hvos), len(metadatas))\n",
    "# print(loaded_datasets[\"OF_Input Hamming\"][sample_ix*24: ((sample_ix+1)*24)])\n",
    "# print(loaded_datasets[\"OF_Input Hamming Accent\"][sample_ix*24: ((sample_ix+1)*24)])\n",
    "# print(loaded_datasets[\"OS1_OF Jaccard\"][sample_ix*24: ((sample_ix+1)*24)])\n",
    "# print(loaded_datasets[\"OS2_OF Jaccard\"][sample_ix*24: ((sample_ix+1)*24)])\n",
    "# print(loaded_datasets[\"OS3_OF Jaccard\"][sample_ix*24: ((sample_ix+1)*24)])\n",
    "# create_multitab_from_HVO_Sequences(compile_into_list_of_hvo_seqs(input_hvos, output_hvos, metadatas, qpms=None))"
   ],
   "id": "207973c40193898d"
  }
 ],
 "metadata": {
  "kernelspec": {
   "display_name": "Python TripleStreams",
   "language": "python",
   "name": "triplestreams"
  },
  "language_info": {
   "codemirror_mode": {
    "name": "ipython",
    "version": 3
   },
   "file_extension": ".py",
   "mimetype": "text/x-python",
   "name": "python",
   "nbconvert_exporter": "python",
   "pygments_lexer": "ipython3",
   "version": "3.9.23"
  }
 },
 "nbformat": 4,
 "nbformat_minor": 5
}
