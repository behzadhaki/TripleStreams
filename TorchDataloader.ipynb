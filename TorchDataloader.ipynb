{
 "cells": [
  {
   "cell_type": "code",
   "id": "e10086094576695c",
   "metadata": {
    "ExecuteTime": {
     "end_time": "2025-08-10T14:52:09.904210Z",
     "start_time": "2025-08-10T14:52:08.309006Z"
    }
   },
   "source": [
    "from triple_stream_data_utils import plot_scatter_distribution, create_heatmap_histogram_from_lists\n",
    "from tripleStreamsDataloaderUtils import load_compiled_dataset_pkl_bz2"
   ],
   "outputs": [
    {
     "name": "stderr",
     "output_type": "stream",
     "text": [
      "Could not import fluidsynth. AUDIO rendering will not work.\n",
      "/Users/bezha/anaconda3/envs/TripleStreams/lib/python3.9/site-packages/tqdm/auto.py:21: TqdmWarning: IProgress not found. Please update jupyter and ipywidgets. See https://ipywidgets.readthedocs.io/en/stable/user_install.html\n",
      "  from .autonotebook import tqdm as notebook_tqdm\n"
     ]
    }
   ],
   "execution_count": 1
  },
  {
   "cell_type": "code",
   "id": "351eacd47726cfbe",
   "metadata": {
    "ExecuteTime": {
     "end_time": "2025-08-10T14:55:38.475572Z",
     "start_time": "2025-08-10T14:55:38.470450Z"
    }
   },
   "source": [
    "# Make sure you've already ran python CompileStreamsAndFeatures.py\n",
    "import os\n",
    "accentThresh = 0.75\n",
    "\n",
    "root_path = f\"data/triple_streams/split_2bars/compiled_data/accentThresh{accentThresh}\"\n",
    "all_pkl_bz2_files = [f for f in os.listdir(root_path) if f.endswith('.pkl.bz2')]\n",
    "\n",
    "# Available Datasets\n",
    "available_datasets_path = {\n",
    "    all_pkl_bz2_file.split(\".pkl.bz2\")[0]: os.path.join(root_path, all_pkl_bz2_file) for all_pkl_bz2_file in all_pkl_bz2_files\n",
    "}\n",
    "# dict_keys(['input_hvos', 'output_hvos', 'flat_out_hvos', 'sample_id', 'collection', 'metadata', 'qpm', 'Flat Out Vs. Input | Hits | Hamming', 'Flat Out Vs. Input | Accent | Jaccard', 'OS1_OF Jaccard', 'OS2_OF Jaccard', 'OS3_OF Jaccard', 'pearson', 'cosine', 'euclidean_similarity', 'mae_similarity', 'dtw_similarity'])\n",
    "\n",
    "available_datasets_path,"
   ],
   "outputs": [
    {
     "data": {
      "text/plain": [
       "({'ttd_both-is-and_both_flattened_left_right_Accent_thresh': 'data/triple_streams/split_2bars/compiled_data/accentThresh0.75/ttd_both-is-and_both_flattened_left_right_Accent_thresh.pkl.bz2',\n",
       "  'ttd_both-is-or_both_flattened_left_right_Accent_thresh': 'data/triple_streams/split_2bars/compiled_data/accentThresh0.75/ttd_both-is-or_both_flattened_left_right_Accent_thresh.pkl.bz2',\n",
       "  'candombe_voice_{ix}_voice_{ix}_voice_{ix}_voice_{ix}_Accent_thresh': 'data/triple_streams/split_2bars/compiled_data/accentThresh0.75/candombe_voice_{ix}_voice_{ix}_voice_{ix}_voice_{ix}_Accent_thresh.pkl.bz2',\n",
       "  'groove_midi_hi_lo_mid_ride_Accent_thresh': 'data/triple_streams/split_2bars/compiled_data/accentThresh0.75/groove_midi_hi_lo_mid_ride_Accent_thresh.pkl.bz2',\n",
       "  'elbg_both_flattened_left_right_Accent_thresh': 'data/triple_streams/split_2bars/compiled_data/accentThresh0.75/elbg_both_flattened_left_right_Accent_thresh.pkl.bz2',\n",
       "  'groove_midi_groove_high_low_mid_Accent_thresh': 'data/triple_streams/split_2bars/compiled_data/accentThresh0.75/groove_midi_groove_high_low_mid_Accent_thresh.pkl.bz2',\n",
       "  'groove_midi_crash_hhclosed_hhopen_ride_Accent_thresh': 'data/triple_streams/split_2bars/compiled_data/accentThresh0.75/groove_midi_crash_hhclosed_hhopen_ride_Accent_thresh.pkl.bz2',\n",
       "  'groove_midi_hh_kick_snare_toms_Accent_thresh': 'data/triple_streams/split_2bars/compiled_data/accentThresh0.75/groove_midi_hh_kick_snare_toms_Accent_thresh.pkl.bz2'},)"
      ]
     },
     "execution_count": 13,
     "metadata": {},
     "output_type": "execute_result"
    }
   ],
   "execution_count": 13
  },
  {
   "metadata": {
    "ExecuteTime": {
     "end_time": "2025-08-10T14:56:22.558229Z",
     "start_time": "2025-08-10T14:55:39.832292Z"
    }
   },
   "cell_type": "code",
   "source": [
    "from make_triple_stream_plots import build_plots\n",
    "\n",
    "feat1 = \"Flat Out Vs. Input | Hits | Hamming\"\n",
    "feat2 = \"Flat Out Vs. Input | Accent | Hamming Normalized\"\n",
    "\n",
    "\n",
    "os.makedirs(os.path.join(root_path, \"plots\"), exist_ok=True)\n",
    "# dataset_tags = [\"lmd_bass_brass_guitar_percussive\", \"elbg_both_flattened_left_right\"]\n",
    "\n",
    "dataset_tags = [path.split(\"/\")[-1].split(\".pkl.bz2\")[0] for path in sorted(available_datasets_path)]\n",
    "# find all pkl.bz2 files in the root_path\n",
    "\n",
    "output_path = build_plots(\n",
    "    root=root_path,\n",
    "    dataset_tags=dataset_tags,\n",
    "    feature1=feat1,\n",
    "    feature2=feat2,\n",
    "    n_bins_feat1=None,\n",
    "    n_bins_feat2=10,\n",
    "    scatter_max_points=100000,\n",
    "    output_html_path=os.path.join(os.path.join(root_path, \"plots\"), f\"<{feat1}>vs<{feat2}>.html\"),\n",
    "    force_recalc=False,\n",
    ")\n",
    "\n",
    "print(f\"HTML saved at: {output_path}\")"
   ],
   "id": "683168b0ed3c52ab",
   "outputs": [
    {
     "name": "stdout",
     "output_type": "stream",
     "text": [
      "Loading datasets...\n"
     ]
    },
    {
     "name": "stderr",
     "output_type": "stream",
     "text": [
      "Datasets: 100%|██████████| 8/8 [00:24<00:00,  3.06s/it]\n"
     ]
    },
    {
     "name": "stdout",
     "output_type": "stream",
     "text": [
      "Preparing heatmap caches...\n"
     ]
    },
    {
     "name": "stderr",
     "output_type": "stream",
     "text": [
      "Heatmaps: 100%|██████████| 8/8 [00:00<00:00, 136.21it/s]\n"
     ]
    },
    {
     "name": "stdout",
     "output_type": "stream",
     "text": [
      "Preparing scatter data...\n"
     ]
    },
    {
     "name": "stderr",
     "output_type": "stream",
     "text": [
      "Scatter: 100%|██████████| 8/8 [00:07<00:00,  1.03it/s]\n"
     ]
    },
    {
     "name": "stdout",
     "output_type": "stream",
     "text": [
      "HTML saved at: /Users/bezha/PycharmProjects/TripleStreams/data/triple_streams/split_2bars/compiled_data/accentThresh0.75/plots/<Flat Out Vs. Input | Hits | Hamming>vs<Flat Out Vs. Input | Accent | Hamming Normalized>.html\n"
     ]
    }
   ],
   "execution_count": 14
  },
  {
   "metadata": {},
   "cell_type": "code",
   "source": [
    "from binning_utils import *\n",
    "\n",
    "\n"
   ],
   "id": "561ed472049d6d8d",
   "outputs": [],
   "execution_count": null
  },
  {
   "metadata": {
    "ExecuteTime": {
     "end_time": "2025-08-10T14:52:33.082582Z",
     "start_time": "2025-08-10T14:52:31.495427Z"
    }
   },
   "cell_type": "code",
   "outputs": [
    {
     "name": "stderr",
     "output_type": "stream",
     "text": [
      "100%|██████████| 5/5 [00:01<00:00,  4.29it/s]\n"
     ]
    },
    {
     "data": {
      "text/html": [
       "\n",
       "  <div class=\"bk-root\" id=\"8d9cdd50-9854-4bba-ae6e-0db18efe77ad\" data-root-id=\"2129\"></div>\n"
      ]
     },
     "metadata": {},
     "output_type": "display_data"
    },
    {
     "data": {
      "application/javascript": "(function(root) {\n  function embed_document(root) {\n  const docs_json = {\"b2cda6f7-706b-4119-912c-1e44ea04e70f\":{\"defs\":[],\"roots\":{\"references\":[{\"attributes\":{\"below\":[{\"id\":\"2140\"}],\"center\":[{\"id\":\"2142\"},{\"id\":\"2145\"}],\"height\":560,\"left\":[{\"id\":\"2143\"}],\"output_backend\":\"webgl\",\"renderers\":[{\"id\":\"2182\"},{\"id\":\"2188\"}],\"right\":[{\"id\":\"2190\"}],\"title\":{\"id\":\"2130\"},\"toolbar\":{\"id\":\"2153\"},\"width\":980,\"x_range\":{\"id\":\"2132\"},\"x_scale\":{\"id\":\"2136\"},\"y_range\":{\"id\":\"2134\"},\"y_scale\":{\"id\":\"2138\"}},\"id\":\"2129\",\"subtype\":\"Figure\",\"type\":\"Plot\"},{\"attributes\":{\"bottom_units\":\"screen\",\"coordinates\":null,\"fill_alpha\":0.5,\"fill_color\":\"lightgrey\",\"group\":null,\"left_units\":\"screen\",\"level\":\"overlay\",\"line_alpha\":1.0,\"line_color\":\"black\",\"line_dash\":[4,4],\"line_width\":2,\"right_units\":\"screen\",\"syncable\":false,\"top_units\":\"screen\"},\"id\":\"2152\",\"type\":\"BoxAnnotation\"},{\"attributes\":{},\"id\":\"2166\",\"type\":\"AllLabels\"},{\"attributes\":{},\"id\":\"2206\",\"type\":\"NoOverlap\"},{\"attributes\":{\"coordinates\":null,\"data_source\":{\"id\":\"2127\"},\"glyph\":{\"id\":\"2185\"},\"group\":null,\"hover_glyph\":null,\"muted_glyph\":{\"id\":\"2187\"},\"nonselection_glyph\":{\"id\":\"2186\"},\"view\":{\"id\":\"2189\"}},\"id\":\"2188\",\"type\":\"GlyphRenderer\"},{\"attributes\":{},\"id\":\"2211\",\"type\":\"Selection\"},{\"attributes\":{\"color_mapper\":{\"id\":\"2128\"},\"coordinates\":null,\"group\":null,\"location\":[0,0],\"major_label_policy\":{\"id\":\"2206\"}},\"id\":\"2190\",\"type\":\"ColorBar\"},{\"attributes\":{\"data\":{\"bin\":[\"bin_0\",\"bin_3\",\"bin_6\",\"bin_9\",\"bin_0\",\"bin_1\",\"bin_2\",\"bin_3\",\"bin_4\",\"bin_5\",\"bin_6\",\"bin_7\",\"bin_8\",\"bin_9\",\"bin_0\",\"bin_1\",\"bin_2\",\"bin_3\",\"bin_4\",\"bin_5\",\"bin_6\",\"bin_7\",\"bin_8\",\"bin_9\",\"bin_0\",\"bin_1\",\"bin_2\",\"bin_3\",\"bin_4\",\"bin_5\",\"bin_6\",\"bin_7\",\"bin_8\",\"bin_9\",\"bin_0\",\"bin_1\",\"bin_2\",\"bin_3\",\"bin_4\",\"bin_5\",\"bin_6\",\"bin_7\",\"bin_8\",\"bin_9\",\"bin_0\",\"bin_1\",\"bin_2\",\"bin_3\",\"bin_4\",\"bin_5\",\"bin_6\",\"bin_7\",\"bin_8\",\"bin_9\",\"bin_0\",\"bin_1\",\"bin_2\",\"bin_3\",\"bin_4\",\"bin_5\",\"bin_6\",\"bin_7\",\"bin_8\",\"bin_9\",\"bin_0\",\"bin_1\",\"bin_2\",\"bin_3\",\"bin_4\",\"bin_5\",\"bin_6\",\"bin_7\",\"bin_8\",\"bin_9\",\"bin_0\",\"bin_1\",\"bin_2\",\"bin_3\",\"bin_4\",\"bin_5\",\"bin_6\",\"bin_7\",\"bin_8\",\"bin_9\",\"bin_0\",\"bin_1\",\"bin_2\",\"bin_3\",\"bin_4\",\"bin_5\",\"bin_6\",\"bin_7\",\"bin_8\",\"bin_9\",\"bin_0\",\"bin_1\",\"bin_2\",\"bin_3\",\"bin_4\",\"bin_5\",\"bin_6\",\"bin_7\",\"bin_8\",\"bin_9\",\"bin_0\",\"bin_1\",\"bin_2\",\"bin_3\",\"bin_4\",\"bin_5\",\"bin_6\",\"bin_7\",\"bin_8\",\"bin_9\",\"bin_0\",\"bin_1\",\"bin_2\",\"bin_3\",\"bin_4\",\"bin_5\",\"bin_6\",\"bin_7\",\"bin_8\",\"bin_9\",\"bin_0\",\"bin_1\",\"bin_2\",\"bin_3\",\"bin_4\",\"bin_5\",\"bin_6\",\"bin_7\",\"bin_8\",\"bin_9\",\"bin_0\",\"bin_1\",\"bin_2\",\"bin_3\",\"bin_4\",\"bin_5\",\"bin_6\",\"bin_7\",\"bin_8\",\"bin_9\",\"bin_0\",\"bin_1\",\"bin_2\",\"bin_3\",\"bin_4\",\"bin_5\",\"bin_6\",\"bin_7\",\"bin_8\",\"bin_9\",\"bin_0\",\"bin_1\",\"bin_2\",\"bin_3\",\"bin_4\",\"bin_5\",\"bin_6\",\"bin_7\",\"bin_8\",\"bin_9\",\"bin_0\",\"bin_1\",\"bin_2\",\"bin_3\",\"bin_4\",\"bin_5\",\"bin_6\",\"bin_7\",\"bin_8\",\"bin_9\",\"bin_0\",\"bin_1\",\"bin_2\",\"bin_3\",\"bin_4\",\"bin_5\",\"bin_6\",\"bin_7\",\"bin_8\",\"bin_9\",\"bin_0\",\"bin_1\",\"bin_2\",\"bin_3\",\"bin_4\",\"bin_5\",\"bin_6\",\"bin_7\",\"bin_8\",\"bin_9\",\"bin_0\",\"bin_1\",\"bin_2\",\"bin_3\",\"bin_4\",\"bin_5\",\"bin_6\",\"bin_7\",\"bin_8\",\"bin_9\",\"bin_0\",\"bin_1\",\"bin_2\",\"bin_3\",\"bin_4\",\"bin_5\",\"bin_6\",\"bin_7\",\"bin_8\",\"bin_9\",\"bin_0\",\"bin_1\",\"bin_2\",\"bin_3\",\"bin_4\",\"bin_5\",\"bin_6\",\"bin_7\",\"bin_8\",\"bin_9\",\"bin_0\",\"bin_1\",\"bin_2\",\"bin_3\",\"bin_4\",\"bin_5\",\"bin_6\",\"bin_7\",\"bin_8\",\"bin_9\",\"bin_0\",\"bin_1\",\"bin_2\",\"bin_3\",\"bin_4\",\"bin_5\",\"bin_6\",\"bin_7\",\"bin_8\",\"bin_9\",\"bin_0\",\"bin_1\",\"bin_2\",\"bin_3\",\"bin_4\",\"bin_5\",\"bin_6\",\"bin_7\",\"bin_8\",\"bin_9\",\"bin_0\",\"bin_1\",\"bin_2\",\"bin_3\",\"bin_4\",\"bin_5\",\"bin_6\",\"bin_7\",\"bin_8\",\"bin_9\",\"bin_0\",\"bin_1\",\"bin_2\",\"bin_3\",\"bin_4\",\"bin_5\",\"bin_6\",\"bin_7\",\"bin_8\",\"bin_9\",\"bin_0\",\"bin_2\",\"bin_3\",\"bin_4\",\"bin_5\",\"bin_6\",\"bin_7\",\"bin_8\",\"bin_9\",\"bin_0\",\"bin_1\",\"bin_2\",\"bin_3\",\"bin_4\",\"bin_5\",\"bin_6\",\"bin_7\",\"bin_8\",\"bin_9\",\"bin_0\",\"bin_2\",\"bin_3\",\"bin_4\",\"bin_5\",\"bin_6\",\"bin_7\",\"bin_8\",\"bin_9\",\"bin_0\",\"bin_1\",\"bin_2\",\"bin_3\",\"bin_4\",\"bin_5\",\"bin_6\",\"bin_7\",\"bin_8\",\"bin_9\",\"bin_0\",\"bin_2\",\"bin_3\",\"bin_4\",\"bin_5\",\"bin_6\",\"bin_7\",\"bin_8\",\"bin_9\"],\"count\":[7686,570,576,1380,258,60,36,18,30,18,6,12,18,72,144,42,48,42,24,42,36,18,54,90,222,48,30,12,24,18,48,24,18,78,210,102,114,120,54,72,48,54,48,120,180,102,96,78,36,72,66,54,48,144,534,330,90,240,90,108,120,60,84,228,564,294,96,198,186,210,174,36,138,270,522,474,264,402,204,282,162,78,114,366,246,156,186,240,198,252,120,228,168,264,300,222,192,144,198,390,186,222,222,378,264,294,228,168,366,426,252,300,204,468,438,222,252,294,354,396,222,468,282,480,354,282,216,336,150,474,504,444,210,522,450,318,174,324,150,330,552,744,330,618,318,258,342,342,192,384,474,432,450,528,348,270,210,354,144,282,420,480,720,618,378,294,168,276,336,348,432,438,534,618,522,246,126,294,366,342,318,582,504,858,378,228,192,246,354,324,300,390,396,744,714,528,366,294,276,198,300,408,300,906,348,168,216,174,180,252,264,294,306,642,210,102,126,198,132,198,432,204,264,594,72,48,48,138,108,138,438,216,300,426,48,36,102,108,72,228,198,348,222,390,48,30,42,42,156,108,312,324,174,270,30,6,54,90,150,132,258,228,174,360,30,48,60,30,144,168,102,168,162,228,30,24,60,84,102,156,186,60,306,48,24,24,132,132,84,72,42,72,174,42,102,78,48,126,60,66,60,198,18,36,12,36,54,114,30,96,24,66,36,18,18,30,84,30,102,120,390],\"edge_high\":{\"__ndarray__\":\"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\",\"dtype\":\"float64\",\"order\":\"little\",\"shape\":[321]},\"edge_low\":{\"__ndarray__\":\"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\",\"dtype\":\"float64\",\"order\":\"little\",\"shape\":[321]},\"edge_text\":[\"[0, 0.00937]\",\"[0.0281, 0.0375]\",\"[0.0562, 0.0656]\",\"[0.0844, 0.0938]\",\"[0, 0.0531]\",\"[0.0531, 0.106]\",\"[0.106, 0.159]\",\"[0.159, 0.212]\",\"[0.212, 0.266]\",\"[0.266, 0.319]\",\"[0.319, 0.372]\",\"[0.372, 0.425]\",\"[0.425, 0.478]\",\"[0.478, 0.531]\",\"[0, 0.05]\",\"[0.05, 0.1]\",\"[0.1, 0.15]\",\"[0.15, 0.2]\",\"[0.2, 0.25]\",\"[0.25, 0.3]\",\"[0.3, 0.35]\",\"[0.35, 0.4]\",\"[0.4, 0.45]\",\"[0.45, 0.5]\",\"[0, 0.0656]\",\"[0.0656, 0.131]\",\"[0.131, 0.197]\",\"[0.197, 0.263]\",\"[0.263, 0.328]\",\"[0.328, 0.394]\",\"[0.394, 0.459]\",\"[0.459, 0.525]\",\"[0.525, 0.591]\",\"[0.591, 0.656]\",\"[0, 0.0594]\",\"[0.0594, 0.119]\",\"[0.119, 0.178]\",\"[0.178, 0.237]\",\"[0.237, 0.297]\",\"[0.297, 0.356]\",\"[0.356, 0.416]\",\"[0.416, 0.475]\",\"[0.475, 0.534]\",\"[0.534, 0.594]\",\"[0, 0.0563]\",\"[0.0563, 0.113]\",\"[0.113, 0.169]\",\"[0.169, 0.225]\",\"[0.225, 0.281]\",\"[0.281, 0.338]\",\"[0.338, 0.394]\",\"[0.394, 0.45]\",\"[0.45, 0.506]\",\"[0.506, 0.562]\",\"[0, 0.05]\",\"[0.05, 0.1]\",\"[0.1, 0.15]\",\"[0.15, 0.2]\",\"[0.2, 0.25]\",\"[0.25, 0.3]\",\"[0.3, 0.35]\",\"[0.35, 0.4]\",\"[0.4, 0.45]\",\"[0.45, 0.5]\",\"[0, 0.05]\",\"[0.05, 0.1]\",\"[0.1, 0.15]\",\"[0.15, 0.2]\",\"[0.2, 0.25]\",\"[0.25, 0.3]\",\"[0.3, 0.35]\",\"[0.35, 0.4]\",\"[0.4, 0.45]\",\"[0.45, 0.5]\",\"[0, 0.05]\",\"[0.05, 0.1]\",\"[0.1, 0.15]\",\"[0.15, 0.2]\",\"[0.2, 0.25]\",\"[0.25, 0.3]\",\"[0.3, 0.35]\",\"[0.35, 0.4]\",\"[0.4, 0.45]\",\"[0.45, 0.5]\",\"[0, 0.0563]\",\"[0.0563, 0.113]\",\"[0.113, 0.169]\",\"[0.169, 0.225]\",\"[0.225, 0.281]\",\"[0.281, 0.338]\",\"[0.338, 0.394]\",\"[0.394, 0.45]\",\"[0.45, 0.506]\",\"[0.506, 0.562]\",\"[0, 0.0531]\",\"[0.0531, 0.106]\",\"[0.106, 0.159]\",\"[0.159, 0.212]\",\"[0.212, 0.266]\",\"[0.266, 0.319]\",\"[0.319, 0.372]\",\"[0.372, 0.425]\",\"[0.425, 0.478]\",\"[0.478, 0.531]\",\"[0, 0.0531]\",\"[0.0531, 0.106]\",\"[0.106, 0.159]\",\"[0.159, 0.212]\",\"[0.212, 0.266]\",\"[0.266, 0.319]\",\"[0.319, 0.372]\",\"[0.372, 0.425]\",\"[0.425, 0.478]\",\"[0.478, 0.531]\",\"[0, 0.0531]\",\"[0.0531, 0.106]\",\"[0.106, 0.159]\",\"[0.159, 0.212]\",\"[0.212, 0.266]\",\"[0.266, 0.319]\",\"[0.319, 0.372]\",\"[0.372, 0.425]\",\"[0.425, 0.478]\",\"[0.478, 0.531]\",\"[0, 0.0563]\",\"[0.0563, 0.113]\",\"[0.113, 0.169]\",\"[0.169, 0.225]\",\"[0.225, 0.281]\",\"[0.281, 0.338]\",\"[0.338, 0.394]\",\"[0.394, 0.45]\",\"[0.45, 0.506]\",\"[0.506, 0.562]\",\"[0, 0.0563]\",\"[0.0563, 0.113]\",\"[0.113, 0.169]\",\"[0.169, 0.225]\",\"[0.225, 0.281]\",\"[0.281, 0.338]\",\"[0.338, 0.394]\",\"[0.394, 0.45]\",\"[0.45, 0.506]\",\"[0.506, 0.562]\",\"[0, 0.0563]\",\"[0.0563, 0.113]\",\"[0.113, 0.169]\",\"[0.169, 0.225]\",\"[0.225, 0.281]\",\"[0.281, 0.338]\",\"[0.338, 0.394]\",\"[0.394, 0.45]\",\"[0.45, 0.506]\",\"[0.506, 0.562]\",\"[0, 0.0563]\",\"[0.0563, 0.113]\",\"[0.113, 0.169]\",\"[0.169, 0.225]\",\"[0.225, 0.281]\",\"[0.281, 0.338]\",\"[0.338, 0.394]\",\"[0.394, 0.45]\",\"[0.45, 0.506]\",\"[0.506, 0.562]\",\"[0, 0.0594]\",\"[0.0594, 0.119]\",\"[0.119, 0.178]\",\"[0.178, 0.237]\",\"[0.237, 0.297]\",\"[0.297, 0.356]\",\"[0.356, 0.416]\",\"[0.416, 0.475]\",\"[0.475, 0.534]\",\"[0.534, 0.594]\",\"[0, 0.0594]\",\"[0.0594, 0.119]\",\"[0.119, 0.178]\",\"[0.178, 0.237]\",\"[0.237, 0.297]\",\"[0.297, 0.356]\",\"[0.356, 0.416]\",\"[0.416, 0.475]\",\"[0.475, 0.534]\",\"[0.534, 0.594]\",\"[0, 0.0625]\",\"[0.0625, 0.125]\",\"[0.125, 0.188]\",\"[0.188, 0.25]\",\"[0.25, 0.312]\",\"[0.312, 0.375]\",\"[0.375, 0.438]\",\"[0.438, 0.5]\",\"[0.5, 0.562]\",\"[0.562, 0.625]\",\"[0, 0.0625]\",\"[0.0625, 0.125]\",\"[0.125, 0.188]\",\"[0.188, 0.25]\",\"[0.25, 0.312]\",\"[0.312, 0.375]\",\"[0.375, 0.438]\",\"[0.438, 0.5]\",\"[0.5, 0.562]\",\"[0.562, 0.625]\",\"[0, 0.0656]\",\"[0.0656, 0.131]\",\"[0.131, 0.197]\",\"[0.197, 0.263]\",\"[0.263, 0.328]\",\"[0.328, 0.394]\",\"[0.394, 0.459]\",\"[0.459, 0.525]\",\"[0.525, 0.591]\",\"[0.591, 0.656]\",\"[0, 0.0719]\",\"[0.0719, 0.144]\",\"[0.144, 0.216]\",\"[0.216, 0.287]\",\"[0.287, 0.359]\",\"[0.359, 0.431]\",\"[0.431, 0.503]\",\"[0.503, 0.575]\",\"[0.575, 0.647]\",\"[0.647, 0.719]\",\"[0, 0.0719]\",\"[0.0719, 0.144]\",\"[0.144, 0.216]\",\"[0.216, 0.287]\",\"[0.287, 0.359]\",\"[0.359, 0.431]\",\"[0.431, 0.503]\",\"[0.503, 0.575]\",\"[0.575, 0.647]\",\"[0.647, 0.719]\",\"[0, 0.075]\",\"[0.075, 0.15]\",\"[0.15, 0.225]\",\"[0.225, 0.3]\",\"[0.3, 0.375]\",\"[0.375, 0.45]\",\"[0.45, 0.525]\",\"[0.525, 0.6]\",\"[0.6, 0.675]\",\"[0.675, 0.75]\",\"[0, 0.0781]\",\"[0.0781, 0.156]\",\"[0.156, 0.234]\",\"[0.234, 0.312]\",\"[0.312, 0.391]\",\"[0.391, 0.469]\",\"[0.469, 0.547]\",\"[0.547, 0.625]\",\"[0.625, 0.703]\",\"[0.703, 0.781]\",\"[0.0312, 0.109]\",\"[0.109, 0.188]\",\"[0.188, 0.266]\",\"[0.266, 0.344]\",\"[0.344, 0.422]\",\"[0.422, 0.5]\",\"[0.5, 0.578]\",\"[0.578, 0.656]\",\"[0.656, 0.734]\",\"[0.734, 0.812]\",\"[0, 0.0844]\",\"[0.0844, 0.169]\",\"[0.169, 0.253]\",\"[0.253, 0.338]\",\"[0.338, 0.422]\",\"[0.422, 0.506]\",\"[0.506, 0.591]\",\"[0.591, 0.675]\",\"[0.675, 0.759]\",\"[0.759, 0.844]\",\"[0, 0.0875]\",\"[0.175, 0.262]\",\"[0.262, 0.35]\",\"[0.35, 0.438]\",\"[0.438, 0.525]\",\"[0.525, 0.612]\",\"[0.612, 0.7]\",\"[0.7, 0.787]\",\"[0.787, 0.875]\",\"[0.219, 0.284]\",\"[0.284, 0.35]\",\"[0.35, 0.416]\",\"[0.416, 0.481]\",\"[0.481, 0.547]\",\"[0.547, 0.613]\",\"[0.613, 0.678]\",\"[0.678, 0.744]\",\"[0.744, 0.809]\",\"[0.809, 0.875]\",\"[0.188, 0.263]\",\"[0.338, 0.412]\",\"[0.412, 0.487]\",\"[0.487, 0.562]\",\"[0.562, 0.637]\",\"[0.637, 0.713]\",\"[0.713, 0.787]\",\"[0.787, 0.862]\",\"[0.862, 0.938]\",\"[0.0938, 0.178]\",\"[0.178, 0.263]\",\"[0.263, 0.347]\",\"[0.347, 0.431]\",\"[0.431, 0.516]\",\"[0.516, 0.6]\",\"[0.6, 0.684]\",\"[0.684, 0.769]\",\"[0.769, 0.853]\",\"[0.853, 0.938]\",\"[0, 0.1]\",\"[0.2, 0.3]\",\"[0.3, 0.4]\",\"[0.4, 0.5]\",\"[0.5, 0.6]\",\"[0.6, 0.7]\",\"[0.7, 0.8]\",\"[0.8, 0.9]\",\"[0.9, 1]\"],\"tile_text\":[\"7686\",\"\",\"\",\"\",\"\",\"\",\"\",\"\",\"\",\"\",\"\",\"\",\"\",\"\",\"\",\"\",\"\",\"\",\"\",\"\",\"\",\"\",\"\",\"\",\"\",\"\",\"\",\"\",\"\",\"\",\"\",\"\",\"\",\"\",\"\",\"\",\"\",\"\",\"\",\"\",\"\",\"\",\"\",\"\",\"\",\"\",\"\",\"\",\"\",\"\",\"\",\"\",\"\",\"\",\"\",\"\",\"\",\"\",\"\",\"\",\"\",\"\",\"\",\"\",\"\",\"\",\"\",\"\",\"\",\"\",\"\",\"\",\"\",\"\",\"\",\"\",\"\",\"\",\"\",\"\",\"\",\"\",\"\",\"\",\"\",\"\",\"\",\"\",\"\",\"\",\"\",\"\",\"\",\"\",\"\",\"\",\"\",\"\",\"\",\"\",\"\",\"\",\"\",\"\",\"\",\"\",\"\",\"\",\"\",\"\",\"\",\"\",\"\",\"\",\"\",\"\",\"\",\"\",\"\",\"\",\"\",\"\",\"\",\"\",\"\",\"\",\"\",\"\",\"\",\"\",\"\",\"\",\"\",\"\",\"\",\"\",\"\",\"\",\"\",\"\",\"\",\"\",\"\",\"\",\"\",\"\",\"\",\"\",\"\",\"\",\"\",\"\",\"\",\"\",\"\",\"\",\"\",\"\",\"\",\"\",\"\",\"\",\"\",\"\",\"\",\"\",\"\",\"\",\"\",\"\",\"\",\"\",\"\",\"\",\"\",\"\",\"\",\"\",\"\",\"\",\"\",\"\",\"\",\"\",\"\",\"\",\"\",\"\",\"\",\"\",\"\",\"\",\"\",\"\",\"\",\"\",\"\",\"\",\"\",\"\",\"\",\"\",\"\",\"\",\"\",\"\",\"\",\"\",\"\",\"\",\"\",\"\",\"\",\"\",\"\",\"\",\"\",\"\",\"\",\"\",\"\",\"\",\"\",\"\",\"\",\"\",\"\",\"\",\"\",\"\",\"\",\"\",\"\",\"\",\"\",\"\",\"\",\"\",\"\",\"\",\"\",\"\",\"\",\"\",\"\",\"\",\"\",\"\",\"\",\"\",\"\",\"\",\"\",\"\",\"\",\"\",\"\",\"\",\"\",\"\",\"\",\"\",\"\",\"\",\"\",\"\",\"\",\"\",\"\",\"\",\"\",\"\",\"\",\"\",\"\",\"\",\"\",\"\",\"\",\"\",\"\",\"\",\"\",\"\",\"\",\"\",\"\",\"\",\"\",\"\",\"\",\"\",\"\",\"\",\"\",\"\",\"\",\"\",\"\",\"\",\"\",\"\",\"\",\"\",\"\",\"\",\"\",\"\",\"\",\"\",\"\",\"\",\"\",\"\",\"\",\"\",\"\",\"\",\"\",\"\",\"\"],\"x\":[\"0.0\",\"0.0\",\"0.0\",\"0.0\",\"0.03125\",\"0.03125\",\"0.03125\",\"0.03125\",\"0.03125\",\"0.03125\",\"0.03125\",\"0.03125\",\"0.03125\",\"0.03125\",\"0.0625\",\"0.0625\",\"0.0625\",\"0.0625\",\"0.0625\",\"0.0625\",\"0.0625\",\"0.0625\",\"0.0625\",\"0.0625\",\"0.09375\",\"0.09375\",\"0.09375\",\"0.09375\",\"0.09375\",\"0.09375\",\"0.09375\",\"0.09375\",\"0.09375\",\"0.09375\",\"0.125\",\"0.125\",\"0.125\",\"0.125\",\"0.125\",\"0.125\",\"0.125\",\"0.125\",\"0.125\",\"0.125\",\"0.15625\",\"0.15625\",\"0.15625\",\"0.15625\",\"0.15625\",\"0.15625\",\"0.15625\",\"0.15625\",\"0.15625\",\"0.15625\",\"0.1875\",\"0.1875\",\"0.1875\",\"0.1875\",\"0.1875\",\"0.1875\",\"0.1875\",\"0.1875\",\"0.1875\",\"0.1875\",\"0.21875\",\"0.21875\",\"0.21875\",\"0.21875\",\"0.21875\",\"0.21875\",\"0.21875\",\"0.21875\",\"0.21875\",\"0.21875\",\"0.25\",\"0.25\",\"0.25\",\"0.25\",\"0.25\",\"0.25\",\"0.25\",\"0.25\",\"0.25\",\"0.25\",\"0.28125\",\"0.28125\",\"0.28125\",\"0.28125\",\"0.28125\",\"0.28125\",\"0.28125\",\"0.28125\",\"0.28125\",\"0.28125\",\"0.3125\",\"0.3125\",\"0.3125\",\"0.3125\",\"0.3125\",\"0.3125\",\"0.3125\",\"0.3125\",\"0.3125\",\"0.3125\",\"0.34375\",\"0.34375\",\"0.34375\",\"0.34375\",\"0.34375\",\"0.34375\",\"0.34375\",\"0.34375\",\"0.34375\",\"0.34375\",\"0.375\",\"0.375\",\"0.375\",\"0.375\",\"0.375\",\"0.375\",\"0.375\",\"0.375\",\"0.375\",\"0.375\",\"0.40625\",\"0.40625\",\"0.40625\",\"0.40625\",\"0.40625\",\"0.40625\",\"0.40625\",\"0.40625\",\"0.40625\",\"0.40625\",\"0.4375\",\"0.4375\",\"0.4375\",\"0.4375\",\"0.4375\",\"0.4375\",\"0.4375\",\"0.4375\",\"0.4375\",\"0.4375\",\"0.46875\",\"0.46875\",\"0.46875\",\"0.46875\",\"0.46875\",\"0.46875\",\"0.46875\",\"0.46875\",\"0.46875\",\"0.46875\",\"0.5\",\"0.5\",\"0.5\",\"0.5\",\"0.5\",\"0.5\",\"0.5\",\"0.5\",\"0.5\",\"0.5\",\"0.53125\",\"0.53125\",\"0.53125\",\"0.53125\",\"0.53125\",\"0.53125\",\"0.53125\",\"0.53125\",\"0.53125\",\"0.53125\",\"0.5625\",\"0.5625\",\"0.5625\",\"0.5625\",\"0.5625\",\"0.5625\",\"0.5625\",\"0.5625\",\"0.5625\",\"0.5625\",\"0.59375\",\"0.59375\",\"0.59375\",\"0.59375\",\"0.59375\",\"0.59375\",\"0.59375\",\"0.59375\",\"0.59375\",\"0.59375\",\"0.625\",\"0.625\",\"0.625\",\"0.625\",\"0.625\",\"0.625\",\"0.625\",\"0.625\",\"0.625\",\"0.625\",\"0.65625\",\"0.65625\",\"0.65625\",\"0.65625\",\"0.65625\",\"0.65625\",\"0.65625\",\"0.65625\",\"0.65625\",\"0.65625\",\"0.6875\",\"0.6875\",\"0.6875\",\"0.6875\",\"0.6875\",\"0.6875\",\"0.6875\",\"0.6875\",\"0.6875\",\"0.6875\",\"0.71875\",\"0.71875\",\"0.71875\",\"0.71875\",\"0.71875\",\"0.71875\",\"0.71875\",\"0.71875\",\"0.71875\",\"0.71875\",\"0.75\",\"0.75\",\"0.75\",\"0.75\",\"0.75\",\"0.75\",\"0.75\",\"0.75\",\"0.75\",\"0.75\",\"0.78125\",\"0.78125\",\"0.78125\",\"0.78125\",\"0.78125\",\"0.78125\",\"0.78125\",\"0.78125\",\"0.78125\",\"0.78125\",\"0.8125\",\"0.8125\",\"0.8125\",\"0.8125\",\"0.8125\",\"0.8125\",\"0.8125\",\"0.8125\",\"0.8125\",\"0.8125\",\"0.84375\",\"0.84375\",\"0.84375\",\"0.84375\",\"0.84375\",\"0.84375\",\"0.84375\",\"0.84375\",\"0.84375\",\"0.84375\",\"0.875\",\"0.875\",\"0.875\",\"0.875\",\"0.875\",\"0.875\",\"0.875\",\"0.875\",\"0.875\",\"0.90625\",\"0.90625\",\"0.90625\",\"0.90625\",\"0.90625\",\"0.90625\",\"0.90625\",\"0.90625\",\"0.90625\",\"0.90625\",\"0.9375\",\"0.9375\",\"0.9375\",\"0.9375\",\"0.9375\",\"0.9375\",\"0.9375\",\"0.9375\",\"0.9375\",\"0.96875\",\"0.96875\",\"0.96875\",\"0.96875\",\"0.96875\",\"0.96875\",\"0.96875\",\"0.96875\",\"0.96875\",\"0.96875\",\"1.0\",\"1.0\",\"1.0\",\"1.0\",\"1.0\",\"1.0\",\"1.0\",\"1.0\",\"1.0\"]},\"selected\":{\"id\":\"2211\"},\"selection_policy\":{\"id\":\"2210\"}},\"id\":\"2127\",\"type\":\"ColumnDataSource\"},{\"attributes\":{\"high\":7686,\"low\":0,\"palette\":[\"#440154\",\"#440255\",\"#440357\",\"#450558\",\"#45065A\",\"#45085B\",\"#46095C\",\"#460B5E\",\"#460C5F\",\"#460E61\",\"#470F62\",\"#471163\",\"#471265\",\"#471466\",\"#471567\",\"#471669\",\"#47186A\",\"#48196B\",\"#481A6C\",\"#481C6E\",\"#481D6F\",\"#481E70\",\"#482071\",\"#482172\",\"#482273\",\"#482374\",\"#472575\",\"#472676\",\"#472777\",\"#472878\",\"#472A79\",\"#472B7A\",\"#472C7B\",\"#462D7C\",\"#462F7C\",\"#46307D\",\"#46317E\",\"#45327F\",\"#45347F\",\"#453580\",\"#453681\",\"#443781\",\"#443982\",\"#433A83\",\"#433B83\",\"#433C84\",\"#423D84\",\"#423E85\",\"#424085\",\"#414186\",\"#414286\",\"#404387\",\"#404487\",\"#3F4587\",\"#3F4788\",\"#3E4888\",\"#3E4989\",\"#3D4A89\",\"#3D4B89\",\"#3D4C89\",\"#3C4D8A\",\"#3C4E8A\",\"#3B508A\",\"#3B518A\",\"#3A528B\",\"#3A538B\",\"#39548B\",\"#39558B\",\"#38568B\",\"#38578C\",\"#37588C\",\"#37598C\",\"#365A8C\",\"#365B8C\",\"#355C8C\",\"#355D8C\",\"#345E8D\",\"#345F8D\",\"#33608D\",\"#33618D\",\"#32628D\",\"#32638D\",\"#31648D\",\"#31658D\",\"#31668D\",\"#30678D\",\"#30688D\",\"#2F698D\",\"#2F6A8D\",\"#2E6B8E\",\"#2E6C8E\",\"#2E6D8E\",\"#2D6E8E\",\"#2D6F8E\",\"#2C708E\",\"#2C718E\",\"#2C728E\",\"#2B738E\",\"#2B748E\",\"#2A758E\",\"#2A768E\",\"#2A778E\",\"#29788E\",\"#29798E\",\"#287A8E\",\"#287A8E\",\"#287B8E\",\"#277C8E\",\"#277D8E\",\"#277E8E\",\"#267F8E\",\"#26808E\",\"#26818E\",\"#25828E\",\"#25838D\",\"#24848D\",\"#24858D\",\"#24868D\",\"#23878D\",\"#23888D\",\"#23898D\",\"#22898D\",\"#228A8D\",\"#228B8D\",\"#218C8D\",\"#218D8C\",\"#218E8C\",\"#208F8C\",\"#20908C\",\"#20918C\",\"#1F928C\",\"#1F938B\",\"#1F948B\",\"#1F958B\",\"#1F968B\",\"#1E978A\",\"#1E988A\",\"#1E998A\",\"#1E998A\",\"#1E9A89\",\"#1E9B89\",\"#1E9C89\",\"#1E9D88\",\"#1E9E88\",\"#1E9F88\",\"#1EA087\",\"#1FA187\",\"#1FA286\",\"#1FA386\",\"#20A485\",\"#20A585\",\"#21A685\",\"#21A784\",\"#22A784\",\"#23A883\",\"#23A982\",\"#24AA82\",\"#25AB81\",\"#26AC81\",\"#27AD80\",\"#28AE7F\",\"#29AF7F\",\"#2AB07E\",\"#2BB17D\",\"#2CB17D\",\"#2EB27C\",\"#2FB37B\",\"#30B47A\",\"#32B57A\",\"#33B679\",\"#35B778\",\"#36B877\",\"#38B976\",\"#39B976\",\"#3BBA75\",\"#3DBB74\",\"#3EBC73\",\"#40BD72\",\"#42BE71\",\"#44BE70\",\"#45BF6F\",\"#47C06E\",\"#49C16D\",\"#4BC26C\",\"#4DC26B\",\"#4FC369\",\"#51C468\",\"#53C567\",\"#55C666\",\"#57C665\",\"#59C764\",\"#5BC862\",\"#5EC961\",\"#60C960\",\"#62CA5F\",\"#64CB5D\",\"#67CC5C\",\"#69CC5B\",\"#6BCD59\",\"#6DCE58\",\"#70CE56\",\"#72CF55\",\"#74D054\",\"#77D052\",\"#79D151\",\"#7CD24F\",\"#7ED24E\",\"#81D34C\",\"#83D34B\",\"#86D449\",\"#88D547\",\"#8BD546\",\"#8DD644\",\"#90D643\",\"#92D741\",\"#95D73F\",\"#97D83E\",\"#9AD83C\",\"#9DD93A\",\"#9FD938\",\"#A2DA37\",\"#A5DA35\",\"#A7DB33\",\"#AADB32\",\"#ADDC30\",\"#AFDC2E\",\"#B2DD2C\",\"#B5DD2B\",\"#B7DD29\",\"#BADE27\",\"#BDDE26\",\"#BFDF24\",\"#C2DF22\",\"#C5DF21\",\"#C7E01F\",\"#CAE01E\",\"#CDE01D\",\"#CFE11C\",\"#D2E11B\",\"#D4E11A\",\"#D7E219\",\"#DAE218\",\"#DCE218\",\"#DFE318\",\"#E1E318\",\"#E4E318\",\"#E7E419\",\"#E9E419\",\"#ECE41A\",\"#EEE51B\",\"#F1E51C\",\"#F3E51E\",\"#F6E61F\",\"#F8E621\",\"#FAE622\",\"#FDE724\"]},\"id\":\"2128\",\"type\":\"LinearColorMapper\"},{\"attributes\":{\"source\":{\"id\":\"2127\"}},\"id\":\"2183\",\"type\":\"CDSView\"},{\"attributes\":{},\"id\":\"2136\",\"type\":\"CategoricalScale\"},{\"attributes\":{},\"id\":\"2165\",\"type\":\"CategoricalTickFormatter\"},{\"attributes\":{\"factors\":[\"bin_0\",\"bin_1\",\"bin_2\",\"bin_3\",\"bin_4\",\"bin_5\",\"bin_6\",\"bin_7\",\"bin_8\",\"bin_9\"]},\"id\":\"2134\",\"type\":\"FactorRange\"},{\"attributes\":{},\"id\":\"2210\",\"type\":\"UnionRenderers\"},{\"attributes\":{\"fill_alpha\":{\"value\":0.2},\"fill_color\":{\"field\":\"count\",\"transform\":{\"id\":\"2128\"}},\"hatch_alpha\":{\"value\":0.2},\"height\":{\"value\":1},\"line_alpha\":{\"value\":0.2},\"line_color\":{\"value\":null},\"width\":{\"value\":1},\"x\":{\"field\":\"x\"},\"y\":{\"field\":\"bin\"}},\"id\":\"2181\",\"type\":\"Rect\"},{\"attributes\":{\"factors\":[\"0.0\",\"0.03125\",\"0.0625\",\"0.09375\",\"0.125\",\"0.15625\",\"0.1875\",\"0.21875\",\"0.25\",\"0.28125\",\"0.3125\",\"0.34375\",\"0.375\",\"0.40625\",\"0.4375\",\"0.46875\",\"0.5\",\"0.53125\",\"0.5625\",\"0.59375\",\"0.625\",\"0.65625\",\"0.6875\",\"0.71875\",\"0.75\",\"0.78125\",\"0.8125\",\"0.84375\",\"0.875\",\"0.90625\",\"0.9375\",\"0.96875\",\"1.0\"]},\"id\":\"2132\",\"type\":\"FactorRange\"},{\"attributes\":{\"coordinates\":null,\"group\":null,\"text\":\"Custom bins & percentiles\"},\"id\":\"2130\",\"type\":\"Title\"},{\"attributes\":{\"axis_label\":\"X\",\"coordinates\":null,\"formatter\":{\"id\":\"2165\"},\"group\":null,\"major_label_policy\":{\"id\":\"2166\"},\"ticker\":{\"id\":\"2141\"}},\"id\":\"2140\",\"type\":\"CategoricalAxis\"},{\"attributes\":{\"active_drag\":{\"id\":\"2146\"},\"active_scroll\":{\"id\":\"2147\"},\"tools\":[{\"id\":\"2146\"},{\"id\":\"2147\"},{\"id\":\"2148\"},{\"id\":\"2149\"},{\"id\":\"2150\"},{\"id\":\"2151\"}]},\"id\":\"2153\",\"type\":\"Toolbar\"},{\"attributes\":{},\"id\":\"2163\",\"type\":\"AllLabels\"},{\"attributes\":{},\"id\":\"2141\",\"type\":\"CategoricalTicker\"},{\"attributes\":{\"callback\":null,\"tooltips\":[[\"X\",\"@x\"],[\"Bin\",\"@bin\"],[\"Count\",\"@count\"],[\"Edges\",\"@edge_text\"],[\"Low\",\"@edge_low{0.###}\"],[\"High\",\"@edge_high{0.###}\"]]},\"id\":\"2151\",\"type\":\"HoverTool\"},{\"attributes\":{\"fill_color\":{\"field\":\"count\",\"transform\":{\"id\":\"2128\"}},\"height\":{\"value\":1},\"line_color\":{\"value\":null},\"width\":{\"value\":1},\"x\":{\"field\":\"x\"},\"y\":{\"field\":\"bin\"}},\"id\":\"2179\",\"type\":\"Rect\"},{\"attributes\":{},\"id\":\"2162\",\"type\":\"CategoricalTickFormatter\"},{\"attributes\":{\"axis_label\":\"Bin\",\"coordinates\":null,\"formatter\":{\"id\":\"2162\"},\"group\":null,\"major_label_policy\":{\"id\":\"2163\"},\"ticker\":{\"id\":\"2144\"}},\"id\":\"2143\",\"type\":\"CategoricalAxis\"},{\"attributes\":{},\"id\":\"2138\",\"type\":\"CategoricalScale\"},{\"attributes\":{\"axis\":{\"id\":\"2140\"},\"coordinates\":null,\"group\":null,\"ticker\":null},\"id\":\"2142\",\"type\":\"Grid\"},{\"attributes\":{\"source\":{\"id\":\"2127\"}},\"id\":\"2189\",\"type\":\"CDSView\"},{\"attributes\":{\"coordinates\":null,\"data_source\":{\"id\":\"2127\"},\"glyph\":{\"id\":\"2179\"},\"group\":null,\"hover_glyph\":null,\"muted_glyph\":{\"id\":\"2181\"},\"nonselection_glyph\":{\"id\":\"2180\"},\"view\":{\"id\":\"2183\"}},\"id\":\"2182\",\"type\":\"GlyphRenderer\"},{\"attributes\":{\"axis\":{\"id\":\"2143\"},\"coordinates\":null,\"dimension\":1,\"group\":null,\"ticker\":null},\"id\":\"2145\",\"type\":\"Grid\"},{\"attributes\":{},\"id\":\"2144\",\"type\":\"CategoricalTicker\"},{\"attributes\":{},\"id\":\"2147\",\"type\":\"WheelZoomTool\"},{\"attributes\":{\"text\":{\"field\":\"tile_text\"},\"text_align\":{\"value\":\"center\"},\"text_alpha\":{\"value\":0.1},\"text_baseline\":{\"value\":\"middle\"},\"text_color\":{\"value\":\"black\"},\"x\":{\"field\":\"x\"},\"y\":{\"field\":\"bin\"}},\"id\":\"2186\",\"type\":\"Text\"},{\"attributes\":{\"text\":{\"field\":\"tile_text\"},\"text_align\":{\"value\":\"center\"},\"text_alpha\":{\"value\":0.2},\"text_baseline\":{\"value\":\"middle\"},\"text_color\":{\"value\":\"black\"},\"x\":{\"field\":\"x\"},\"y\":{\"field\":\"bin\"}},\"id\":\"2187\",\"type\":\"Text\"},{\"attributes\":{},\"id\":\"2146\",\"type\":\"PanTool\"},{\"attributes\":{\"fill_alpha\":{\"value\":0.1},\"fill_color\":{\"field\":\"count\",\"transform\":{\"id\":\"2128\"}},\"hatch_alpha\":{\"value\":0.1},\"height\":{\"value\":1},\"line_alpha\":{\"value\":0.1},\"line_color\":{\"value\":null},\"width\":{\"value\":1},\"x\":{\"field\":\"x\"},\"y\":{\"field\":\"bin\"}},\"id\":\"2180\",\"type\":\"Rect\"},{\"attributes\":{\"text\":{\"field\":\"tile_text\"},\"text_align\":{\"value\":\"center\"},\"text_alpha\":{\"value\":0.95},\"text_baseline\":{\"value\":\"middle\"},\"text_color\":{\"value\":\"black\"},\"x\":{\"field\":\"x\"},\"y\":{\"field\":\"bin\"}},\"id\":\"2185\",\"type\":\"Text\"},{\"attributes\":{\"overlay\":{\"id\":\"2152\"}},\"id\":\"2148\",\"type\":\"BoxZoomTool\"},{\"attributes\":{},\"id\":\"2149\",\"type\":\"ResetTool\"},{\"attributes\":{},\"id\":\"2150\",\"type\":\"SaveTool\"}],\"root_ids\":[\"2129\"]},\"title\":\"Bokeh Application\",\"version\":\"2.4.3\"}};\n  const render_items = [{\"docid\":\"b2cda6f7-706b-4119-912c-1e44ea04e70f\",\"root_ids\":[\"2129\"],\"roots\":{\"2129\":\"8d9cdd50-9854-4bba-ae6e-0db18efe77ad\"}}];\n  root.Bokeh.embed.embed_items_notebook(docs_json, render_items);\n  }\n  if (root.Bokeh !== undefined) {\n    embed_document(root);\n  } else {\n    let attempts = 0;\n    const timer = setInterval(function(root) {\n      if (root.Bokeh !== undefined) {\n        clearInterval(timer);\n        embed_document(root);\n      } else {\n        attempts++;\n        if (attempts > 100) {\n          clearInterval(timer);\n          console.log(\"Bokeh: ERROR: Unable to run BokehJS code because BokehJS library is missing\");\n        }\n      }\n    }, 10, root)\n  }\n})(window);",
      "application/vnd.bokehjs_exec.v0+json": ""
     },
     "metadata": {
      "application/vnd.bokehjs_exec.v0+json": {
       "id": "2129"
      }
     },
     "output_type": "display_data"
    }
   ],
   "execution_count": 10,
   "source": [
    "\n",
    "import os, tqdm\n",
    "feat1 = \"Flat Out Vs. Input | Hits | Hamming\"\n",
    "feat2 = \"Flat Out Vs. Input | Accent | Hamming\"\n",
    "\n",
    "root_path = \"data/triple_streams/split_2bars/compiled_data/accentThresh0.75\"\n",
    "data_all = {}\n",
    "\n",
    "for pkl in tqdm.tqdm(os.listdir(root_path)):\n",
    "    if pkl.endswith(\".pkl.bz2\"):\n",
    "        data = load_compiled_dataset_pkl_bz2(os.path.join(root_path, pkl))\n",
    "        for k, v in data.items():\n",
    "            if k not in data_all:\n",
    "                data_all[k] = []\n",
    "            data_all[k].extend(v)\n",
    "\n",
    "create_heatmap_histogram_from_lists(\n",
    "    feat1=data_all[feat1],\n",
    "    feat2=data_all[feat2],\n",
    ")\n",
    "\n",
    "\n",
    "\n",
    "x = data_all[feat1]\n",
    "y = data_all[feat2]\n",
    "new_x = [0, 1]     # 3 is unseen\n",
    "new_y = [0.12, 0.5]\n",
    "\n",
    "# Fit with custom settings, e.g., 12 bins and the central 70% (15th–85th percentiles)\n",
    "labels, edges_dict = bin_y_within_percentiles(x, y, n_bins=10, low_pct=0, high_pct=90)\n",
    "\n",
    "\n",
    "# Map new data using the returned dict\n",
    "mapped = map_with_edges_dict(edges_dict, new_x, new_y, on_unknown_x=\"error\")\n",
    "\n",
    "create_heatmap_histogram_from_lists(\n",
    "    feat1=data_all[feat1],\n",
    "    feat2=labels,\n",
    ")\n",
    "\n",
    "\n",
    "# Plot (still draws only non-zero cells; only the max cell shows text)\n",
    "plot_bin_heatmap(x, labels, edges_dict, title=\"Custom bins & percentiles\")\n"
   ],
   "id": "4bbf939ac2cdd9ee"
  },
  {
   "metadata": {
    "ExecuteTime": {
     "end_time": "2025-08-10T14:52:20.760496Z",
     "start_time": "2025-08-10T14:52:20.759200Z"
    }
   },
   "cell_type": "code",
   "source": "",
   "id": "18317f02144c210b",
   "outputs": [],
   "execution_count": null
  },
  {
   "metadata": {
    "ExecuteTime": {
     "end_time": "2025-08-10T14:52:20.780760Z",
     "start_time": "2025-08-10T14:52:20.778623Z"
    }
   },
   "cell_type": "code",
   "source": "",
   "id": "ec24c423842ee0eb",
   "outputs": [],
   "execution_count": null
  },
  {
   "metadata": {
    "ExecuteTime": {
     "end_time": "2025-08-10T14:52:20.793921Z",
     "start_time": "2025-08-10T14:52:20.789959Z"
    }
   },
   "cell_type": "code",
   "source": [
    "# npz_path = \"/Users/bezha/PycharmProjects/TripleStreams/data/triple_streams/split_2bars/compiled_data/cache/hist2d__lmd_bass_brass_drum_guitar__Flat Out Vs. Input | Hits | Hamming__Flat Out Vs. Input | Accent | Jaccard__bins33x33.npz\"\n",
    "# # Load the npz file\n",
    "# import numpy as np\n",
    "# data = np.load(npz_path)\n",
    "# data"
   ],
   "id": "f5a1fdc55d5fc9ee",
   "outputs": [],
   "execution_count": 7
  },
  {
   "metadata": {
    "ExecuteTime": {
     "end_time": "2025-08-10T14:52:20.816693Z",
     "start_time": "2025-08-10T14:52:20.814448Z"
    }
   },
   "cell_type": "code",
   "source": [
    "# data_ = load_compiled_dataset_pkl_bz2(\"data/triple_streams/split_2bars/compiled_data/accentThresh0.75/ttd_both-is-and_both_flattened_left_right_Accent_thresh.pkl.bz2\")\n",
    "# create_heatmap_histogram_from_lists(\n",
    "#     feat1=data_[feat1],\n",
    "#     feat2=data_[feat2],\n",
    "# )"
   ],
   "id": "7680dd3796342400",
   "outputs": [],
   "execution_count": 8
  },
  {
   "metadata": {
    "ExecuteTime": {
     "end_time": "2025-08-10T14:52:20.835174Z",
     "start_time": "2025-08-10T14:52:20.832532Z"
    }
   },
   "cell_type": "code",
   "source": [
    "# sample_ix = 100 # for each sample 24 variations\n",
    "# input_hvos = loaded_datasets[\"input_hvos\"][sample_ix*24: ((sample_ix+1)*24)]\n",
    "# output_hvos = loaded_datasets[\"output_hvos\"][sample_ix*24: ((sample_ix+1)*24)]\n",
    "# metadatas = loaded_datasets[\"metadata\"][sample_ix*24: ((sample_ix+1)*24)]\n",
    "# print(len(input_hvos), len(output_hvos), len(metadatas))\n",
    "# print(loaded_datasets[\"Flat Out Vs. Input | Hits | Hamming\"][sample_ix*24: ((sample_ix+1)*24)])\n",
    "# print(loaded_datasets[\"Flat Out Vs. Input | Accent | Jaccard\"][sample_ix*24: ((sample_ix+1)*24)])\n",
    "# print(loaded_datasets[\"OS1_OF Jaccard\"][sample_ix*24: ((sample_ix+1)*24)])\n",
    "# print(loaded_datasets[\"OS2_OF Jaccard\"][sample_ix*24: ((sample_ix+1)*24)])\n",
    "# print(loaded_datasets[\"OS3_OF Jaccard\"][sample_ix*24: ((sample_ix+1)*24)])\n",
    "# create_multitab_from_HVO_Sequences(compile_into_list_of_hvo_seqs(input_hvos, output_hvos, metadatas, qpms=None))"
   ],
   "id": "c3ad81e20751ef26",
   "outputs": [],
   "execution_count": 9
  },
  {
   "metadata": {
    "ExecuteTime": {
     "end_time": "2025-08-10T14:52:20.843321Z",
     "start_time": "2025-08-10T14:52:20.841817Z"
    }
   },
   "cell_type": "code",
   "source": "",
   "id": "17961de07ccf60b",
   "outputs": [],
   "execution_count": null
  },
  {
   "metadata": {
    "ExecuteTime": {
     "end_time": "2025-08-10T14:52:20.851081Z",
     "start_time": "2025-08-10T14:52:20.849749Z"
    }
   },
   "cell_type": "code",
   "source": "",
   "id": "fbde4bf6323b1e78",
   "outputs": [],
   "execution_count": null
  },
  {
   "metadata": {
    "ExecuteTime": {
     "end_time": "2025-08-10T14:52:20.860529Z",
     "start_time": "2025-08-10T14:52:20.859238Z"
    }
   },
   "cell_type": "code",
   "source": "",
   "id": "c39b4365cc990805",
   "outputs": [],
   "execution_count": null
  },
  {
   "metadata": {
    "ExecuteTime": {
     "end_time": "2025-08-10T14:52:20.868101Z",
     "start_time": "2025-08-10T14:52:20.866717Z"
    }
   },
   "cell_type": "code",
   "source": "",
   "id": "5c3c0d130ab95481",
   "outputs": [],
   "execution_count": null
  },
  {
   "metadata": {
    "ExecuteTime": {
     "end_time": "2025-08-10T14:52:20.875331Z",
     "start_time": "2025-08-10T14:52:20.874163Z"
    }
   },
   "cell_type": "code",
   "source": "",
   "id": "7afc2dac598ae4b",
   "outputs": [],
   "execution_count": null
  },
  {
   "metadata": {
    "ExecuteTime": {
     "end_time": "2025-08-10T14:52:20.883413Z",
     "start_time": "2025-08-10T14:52:20.882011Z"
    }
   },
   "cell_type": "code",
   "source": "",
   "id": "5bd5747dc5160217",
   "outputs": [],
   "execution_count": null
  },
  {
   "metadata": {
    "ExecuteTime": {
     "end_time": "2025-08-10T14:52:20.891647Z",
     "start_time": "2025-08-10T14:52:20.890005Z"
    }
   },
   "cell_type": "code",
   "source": "",
   "id": "c360a82a1aa7324a",
   "outputs": [],
   "execution_count": null
  }
 ],
 "metadata": {
  "kernelspec": {
   "display_name": "Python TripleStreams",
   "language": "python",
   "name": "triplestreams"
  },
  "language_info": {
   "codemirror_mode": {
    "name": "ipython",
    "version": 3
   },
   "file_extension": ".py",
   "mimetype": "text/x-python",
   "name": "python",
   "nbconvert_exporter": "python",
   "pygments_lexer": "ipython3",
   "version": "3.9.23"
  }
 },
 "nbformat": 4,
 "nbformat_minor": 5
}
