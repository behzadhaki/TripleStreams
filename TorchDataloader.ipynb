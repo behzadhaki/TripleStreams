{
 "cells": [
  {
   "cell_type": "code",
   "id": "e10086094576695c",
   "metadata": {
    "ExecuteTime": {
     "end_time": "2025-08-10T09:21:55.873915Z",
     "start_time": "2025-08-10T09:21:54.401968Z"
    }
   },
   "source": [
    "from triple_stream_data_utils import plot_scatter_distribution, create_heatmap_histogram_from_lists\n",
    "from tripleStreamsDataloaderUtils import load_compiled_dataset_pkl_bz2"
   ],
   "outputs": [
    {
     "name": "stderr",
     "output_type": "stream",
     "text": [
      "Could not import fluidsynth. AUDIO rendering will not work.\n",
      "/Users/bezha/anaconda3/envs/TripleStreams/lib/python3.9/site-packages/tqdm/auto.py:21: TqdmWarning: IProgress not found. Please update jupyter and ipywidgets. See https://ipywidgets.readthedocs.io/en/stable/user_install.html\n",
      "  from .autonotebook import tqdm as notebook_tqdm\n"
     ]
    }
   ],
   "execution_count": 1
  },
  {
   "cell_type": "code",
   "id": "351eacd47726cfbe",
   "metadata": {
    "ExecuteTime": {
     "end_time": "2025-08-10T09:21:55.882795Z",
     "start_time": "2025-08-10T09:21:55.878783Z"
    }
   },
   "source": [
    "# Make sure you've already ran python CompileStreamsAndFeatures.py\n",
    "import os\n",
    "\n",
    "root = \"data/triple_streams/split_2bars/compiled_data/\"\n",
    "all_pkl_bz2_files = [f for f in os.listdir(root) if f.endswith('.pkl.bz2')]\n",
    "\n",
    "# Available Datasets\n",
    "available_datasets_path = {\n",
    "    all_pkl_bz2_file.split(\".pkl.bz2\")[0]: os.path.join(root, all_pkl_bz2_file) for all_pkl_bz2_file in all_pkl_bz2_files\n",
    "}\n",
    "# dict_keys(['input_hvos', 'output_hvos', 'flat_out_hvos', 'sample_id', 'collection', 'metadata', 'qpm', 'OF_Input Hamming', 'OF_Input Hamming Accent', 'OS1_OF Jaccard', 'OS2_OF Jaccard', 'OS3_OF Jaccard', 'pearson', 'cosine', 'euclidean_similarity', 'mae_similarity', 'dtw_similarity'])\n",
    "\n",
    "available_datasets_path,"
   ],
   "outputs": [
    {
     "data": {
      "text/plain": [
       "({'lmd_drum_guitar_percussion_piano': 'data/triple_streams/split_2bars/compiled_data/lmd_drum_guitar_percussion_piano.pkl.bz2',\n",
       "  'lmd_drum_guitar_percussive_piano': 'data/triple_streams/split_2bars/compiled_data/lmd_drum_guitar_percussive_piano.pkl.bz2',\n",
       "  'lmd_bass_brass_guitar_piano': 'data/triple_streams/split_2bars/compiled_data/lmd_bass_brass_guitar_piano.pkl.bz2',\n",
       "  'groove_midi_crash_hhclosed_hhopen_ride': 'data/triple_streams/split_2bars/compiled_data/groove_midi_crash_hhclosed_hhopen_ride.pkl.bz2',\n",
       "  'lmd_bass_percussion_percussive_piano': 'data/triple_streams/split_2bars/compiled_data/lmd_bass_percussion_percussive_piano.pkl.bz2',\n",
       "  'lmd_bass_drum_guitar_piano': 'data/triple_streams/split_2bars/compiled_data/lmd_bass_drum_guitar_piano.pkl.bz2',\n",
       "  'groove_midi_hh_kick_snare_toms': 'data/triple_streams/split_2bars/compiled_data/groove_midi_hh_kick_snare_toms.pkl.bz2',\n",
       "  'elbg_both_flattened_left_right': 'data/triple_streams/split_2bars/compiled_data/elbg_both_flattened_left_right.pkl.bz2',\n",
       "  'lmd_bass_drum_guitar_percussion': 'data/triple_streams/split_2bars/compiled_data/lmd_bass_drum_guitar_percussion.pkl.bz2',\n",
       "  'lmd_bass_brass_drum_percussion': 'data/triple_streams/split_2bars/compiled_data/lmd_bass_brass_drum_percussion.pkl.bz2',\n",
       "  'lmd_brass_guitar_percussion_percussive': 'data/triple_streams/split_2bars/compiled_data/lmd_brass_guitar_percussion_percussive.pkl.bz2',\n",
       "  'lmd_bass_drum_guitar_percussive': 'data/triple_streams/split_2bars/compiled_data/lmd_bass_drum_guitar_percussive.pkl.bz2',\n",
       "  'lmd_brass_guitar_percussive_piano': 'data/triple_streams/split_2bars/compiled_data/lmd_brass_guitar_percussive_piano.pkl.bz2',\n",
       "  'lmd_brass_guitar_percussion_piano': 'data/triple_streams/split_2bars/compiled_data/lmd_brass_guitar_percussion_piano.pkl.bz2',\n",
       "  'lmd_bass_drum_percussion_percussive': 'data/triple_streams/split_2bars/compiled_data/lmd_bass_drum_percussion_percussive.pkl.bz2',\n",
       "  'lmd_brass_drum_percussive_piano': 'data/triple_streams/split_2bars/compiled_data/lmd_brass_drum_percussive_piano.pkl.bz2',\n",
       "  'lmd_brass_drum_percussion_piano': 'data/triple_streams/split_2bars/compiled_data/lmd_brass_drum_percussion_piano.pkl.bz2',\n",
       "  'lmd_bass_brass_drum_percussive': 'data/triple_streams/split_2bars/compiled_data/lmd_bass_brass_drum_percussive.pkl.bz2',\n",
       "  'lmd_guitar_percussion_percussive_piano': 'data/triple_streams/split_2bars/compiled_data/lmd_guitar_percussion_percussive_piano.pkl.bz2',\n",
       "  'lmd_brass_drum_guitar_piano': 'data/triple_streams/split_2bars/compiled_data/lmd_brass_drum_guitar_piano.pkl.bz2',\n",
       "  'lmd_drum_guitar_percussion_percussive': 'data/triple_streams/split_2bars/compiled_data/lmd_drum_guitar_percussion_percussive.pkl.bz2',\n",
       "  'lmd_bass_guitar_percussion_percussive': 'data/triple_streams/split_2bars/compiled_data/lmd_bass_guitar_percussion_percussive.pkl.bz2',\n",
       "  'lmd_bass_brass_guitar_percussive': 'data/triple_streams/split_2bars/compiled_data/lmd_bass_brass_guitar_percussive.pkl.bz2',\n",
       "  'lmd_bass_brass_guitar_percussion': 'data/triple_streams/split_2bars/compiled_data/lmd_bass_brass_guitar_percussion.pkl.bz2',\n",
       "  'lmd_bass_brass_drum_piano': 'data/triple_streams/split_2bars/compiled_data/lmd_bass_brass_drum_piano.pkl.bz2',\n",
       "  'lmd_bass_guitar_percussive_piano': 'data/triple_streams/split_2bars/compiled_data/lmd_bass_guitar_percussive_piano.pkl.bz2',\n",
       "  'groove_midi_hi_lo_mid_ride': 'data/triple_streams/split_2bars/compiled_data/groove_midi_hi_lo_mid_ride.pkl.bz2',\n",
       "  'groove_midi_groove_high_low_mid': 'data/triple_streams/split_2bars/compiled_data/groove_midi_groove_high_low_mid.pkl.bz2',\n",
       "  'lmd_drum_percussion_percussive_piano': 'data/triple_streams/split_2bars/compiled_data/lmd_drum_percussion_percussive_piano.pkl.bz2',\n",
       "  'lmd_bass_guitar_percussion_piano': 'data/triple_streams/split_2bars/compiled_data/lmd_bass_guitar_percussion_piano.pkl.bz2',\n",
       "  'lmd_bass_brass_percussion_piano': 'data/triple_streams/split_2bars/compiled_data/lmd_bass_brass_percussion_piano.pkl.bz2',\n",
       "  'lmd_bass_brass_percussive_piano': 'data/triple_streams/split_2bars/compiled_data/lmd_bass_brass_percussive_piano.pkl.bz2',\n",
       "  'lmd_brass_drum_percussion_percussive': 'data/triple_streams/split_2bars/compiled_data/lmd_brass_drum_percussion_percussive.pkl.bz2',\n",
       "  'ttd_both-is-or_both_flattened_left_right': 'data/triple_streams/split_2bars/compiled_data/ttd_both-is-or_both_flattened_left_right.pkl.bz2',\n",
       "  'lmd_brass_drum_guitar_percussion': 'data/triple_streams/split_2bars/compiled_data/lmd_brass_drum_guitar_percussion.pkl.bz2',\n",
       "  'ttd_both-is-and_both_flattened_left_right': 'data/triple_streams/split_2bars/compiled_data/ttd_both-is-and_both_flattened_left_right.pkl.bz2',\n",
       "  'lmd_bass_drum_percussive_piano': 'data/triple_streams/split_2bars/compiled_data/lmd_bass_drum_percussive_piano.pkl.bz2',\n",
       "  'lmd_bass_brass_drum_guitar': 'data/triple_streams/split_2bars/compiled_data/lmd_bass_brass_drum_guitar.pkl.bz2',\n",
       "  'lmd_bass_drum_percussion_piano': 'data/triple_streams/split_2bars/compiled_data/lmd_bass_drum_percussion_piano.pkl.bz2',\n",
       "  'lmd_brass_drum_guitar_percussive': 'data/triple_streams/split_2bars/compiled_data/lmd_brass_drum_guitar_percussive.pkl.bz2',\n",
       "  'candombe_voice_{ix}_voice_{ix}_voice_{ix}_voice_{ix}': 'data/triple_streams/split_2bars/compiled_data/candombe_voice_{ix}_voice_{ix}_voice_{ix}_voice_{ix}.pkl.bz2',\n",
       "  'lmd_brass_percussion_percussive_piano': 'data/triple_streams/split_2bars/compiled_data/lmd_brass_percussion_percussive_piano.pkl.bz2',\n",
       "  'lmd_bass_brass_percussion_percussive': 'data/triple_streams/split_2bars/compiled_data/lmd_bass_brass_percussion_percussive.pkl.bz2'},)"
      ]
     },
     "execution_count": 2,
     "metadata": {},
     "output_type": "execute_result"
    }
   ],
   "execution_count": 2
  },
  {
   "metadata": {
    "ExecuteTime": {
     "end_time": "2025-08-10T09:21:57.643120Z",
     "start_time": "2025-08-10T09:21:55.912661Z"
    }
   },
   "cell_type": "code",
   "source": [
    "from make_triple_stream_plots import build_plots\n",
    "\n",
    "feat1 = \"OF_Input Hamming\"\n",
    "feat2 = \"OF_Input Hamming Accent\"\n",
    "# dataset_tags = [\"lmd_bass_brass_guitar_percussive\", \"elbg_both_flattened_left_right\"]\n",
    "dataset_tags = [f.split(\"/\")[-1] for f in os.listdir(root) if f.endswith('.pkl.bz2')];\n",
    "\n",
    "html_path = f\"data/triple_streams/split_2bars/plots/<{feat1}>vs<{feat2}>.html\"\n",
    "os.makedirs(os.path.dirname(html_path), exist_ok=True)\n",
    "\n",
    "# This will generate the HTML and return its path\n",
    "output_path = build_plots(\n",
    "    root=\"data/triple_streams/split_2bars/compiled_data/\",\n",
    "    dataset_tags=[\"lmd_bass_brass_guitar_percussive\", \"elbg_both_flattened_left_right\"],\n",
    "    feature1=feat1,\n",
    "    feature2=feat2,\n",
    "    n_bins_feat1=None,\n",
    "    n_bins_feat2=None,\n",
    "    scatter_max_points=10000000,\n",
    "    output_html_path=f\"data/triple_streams/split_2bars/plots/<{feat1}>vs<{feat2}>.html\"\n",
    ")\n",
    "\n",
    "print(f\"HTML saved at: {output_path}\")"
   ],
   "id": "93f3af3a4ca6fca9",
   "outputs": [
    {
     "name": "stdout",
     "output_type": "stream",
     "text": [
      "Loading datasets...\n"
     ]
    },
    {
     "name": "stderr",
     "output_type": "stream",
     "text": [
      "Datasets: 100%|██████████| 2/2 [00:00<00:00,  2.83it/s]\n"
     ]
    },
    {
     "name": "stdout",
     "output_type": "stream",
     "text": [
      "Preparing heatmap caches...\n"
     ]
    },
    {
     "name": "stderr",
     "output_type": "stream",
     "text": [
      "Heatmaps: 100%|██████████| 2/2 [00:00<00:00, 315.05it/s]\n"
     ]
    },
    {
     "name": "stdout",
     "output_type": "stream",
     "text": [
      "Preparing scatter data...\n"
     ]
    },
    {
     "name": "stderr",
     "output_type": "stream",
     "text": [
      "Scatter: 100%|██████████| 2/2 [00:00<00:00, 99.83it/s]\n"
     ]
    },
    {
     "name": "stdout",
     "output_type": "stream",
     "text": [
      "HTML saved at: /Users/bezha/PycharmProjects/TripleStreams/data/triple_streams/split_2bars/plots/<OF_Input Hamming>vs<OF_Input Hamming Accent>.html\n"
     ]
    }
   ],
   "execution_count": 3
  },
  {
   "metadata": {
    "ExecuteTime": {
     "end_time": "2025-08-10T09:21:57.657048Z",
     "start_time": "2025-08-10T09:21:57.655849Z"
    }
   },
   "cell_type": "code",
   "source": "",
   "id": "e292d62b4de8d8ea",
   "outputs": [],
   "execution_count": null
  },
  {
   "metadata": {
    "ExecuteTime": {
     "end_time": "2025-08-10T09:21:57.662961Z",
     "start_time": "2025-08-10T09:21:57.661776Z"
    }
   },
   "cell_type": "code",
   "source": "",
   "id": "465d9110e67192a8",
   "outputs": [],
   "execution_count": null
  },
  {
   "metadata": {
    "ExecuteTime": {
     "end_time": "2025-08-10T09:21:57.668802Z",
     "start_time": "2025-08-10T09:21:57.667632Z"
    }
   },
   "cell_type": "code",
   "source": "",
   "id": "f5a1fdc55d5fc9ee",
   "outputs": [],
   "execution_count": null
  },
  {
   "cell_type": "code",
   "id": "b7d4200ae31e4cfd",
   "metadata": {
    "ExecuteTime": {
     "end_time": "2025-08-10T09:21:57.680158Z",
     "start_time": "2025-08-10T09:21:57.678656Z"
    }
   },
   "source": [
    "# dataset_tags = [\"lmd_bass_brass_guitar_percussive\", \"elbg_both_flattened_left_right\"]   # \"lmd\" is not included here\n",
    "# loaded_datasets = {}\n",
    "#\n",
    "# for dataset_tag in dataset_tags:\n",
    "#     # load .pkl.bz2 file\n",
    "#     if dataset_tag in available_datasets_path:\n",
    "#         d_dict = load_compiled_dataset_pkl_bz2(available_datasets_path[dataset_tag])\n",
    "#         for key, val in d_dict.items():\n",
    "#             if key not in loaded_datasets:\n",
    "#                 loaded_datasets[key] = []\n",
    "#             loaded_datasets[key].extend(val)\n",
    "# print(loaded_datasets.keys())"
   ],
   "outputs": [],
   "execution_count": 4
  },
  {
   "metadata": {
    "ExecuteTime": {
     "end_time": "2025-08-10T09:21:57.690368Z",
     "start_time": "2025-08-10T09:21:57.689288Z"
    }
   },
   "cell_type": "code",
   "source": "",
   "id": "8a9639ec21b2fb6c",
   "outputs": [],
   "execution_count": null
  },
  {
   "metadata": {
    "ExecuteTime": {
     "end_time": "2025-08-10T09:21:57.695231Z",
     "start_time": "2025-08-10T09:21:57.694010Z"
    }
   },
   "cell_type": "code",
   "source": "",
   "id": "1fa68e06eb775a45",
   "outputs": [],
   "execution_count": null
  },
  {
   "metadata": {
    "ExecuteTime": {
     "end_time": "2025-08-10T09:21:57.700837Z",
     "start_time": "2025-08-10T09:21:57.699715Z"
    }
   },
   "cell_type": "code",
   "source": "",
   "id": "1327f51791e0f042",
   "outputs": [],
   "execution_count": null
  },
  {
   "metadata": {
    "ExecuteTime": {
     "end_time": "2025-08-10T09:21:57.707186Z",
     "start_time": "2025-08-10T09:21:57.705780Z"
    }
   },
   "cell_type": "code",
   "source": [
    "# sample_ix = 100 # for each sample 24 variations\n",
    "# input_hvos = loaded_datasets[\"input_hvos\"][sample_ix*24: ((sample_ix+1)*24)]\n",
    "# output_hvos = loaded_datasets[\"output_hvos\"][sample_ix*24: ((sample_ix+1)*24)]\n",
    "# metadatas = loaded_datasets[\"metadata\"][sample_ix*24: ((sample_ix+1)*24)]\n",
    "# print(len(input_hvos), len(output_hvos), len(metadatas))\n",
    "# print(loaded_datasets[\"OF_Input Hamming\"][sample_ix*24: ((sample_ix+1)*24)])\n",
    "# print(loaded_datasets[\"OF_Input Hamming Accent\"][sample_ix*24: ((sample_ix+1)*24)])\n",
    "# print(loaded_datasets[\"OS1_OF Jaccard\"][sample_ix*24: ((sample_ix+1)*24)])\n",
    "# print(loaded_datasets[\"OS2_OF Jaccard\"][sample_ix*24: ((sample_ix+1)*24)])\n",
    "# print(loaded_datasets[\"OS3_OF Jaccard\"][sample_ix*24: ((sample_ix+1)*24)])\n",
    "# create_multitab_from_HVO_Sequences(compile_into_list_of_hvo_seqs(input_hvos, output_hvos, metadatas, qpms=None))"
   ],
   "id": "207973c40193898d",
   "outputs": [],
   "execution_count": 5
  }
 ],
 "metadata": {
  "kernelspec": {
   "display_name": "Python TripleStreams",
   "language": "python",
   "name": "triplestreams"
  },
  "language_info": {
   "codemirror_mode": {
    "name": "ipython",
    "version": 3
   },
   "file_extension": ".py",
   "mimetype": "text/x-python",
   "name": "python",
   "nbconvert_exporter": "python",
   "pygments_lexer": "ipython3",
   "version": "3.9.23"
  }
 },
 "nbformat": 4,
 "nbformat_minor": 5
}
