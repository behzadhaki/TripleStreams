{
 "cells": [
  {
   "cell_type": "code",
   "id": "initial_id",
   "metadata": {
    "collapsed": true,
    "ExecuteTime": {
     "end_time": "2025-08-01T13:55:42.403408Z",
     "start_time": "2025-08-01T13:55:42.401322Z"
    }
   },
   "source": [
    "import os\n",
    "import pickle, bz2\n",
    "\n",
    "import tqdm\n",
    "from bokeh.io import output_notebook, show\n",
    "\n"
   ],
   "outputs": [],
   "execution_count": 19
  },
  {
   "metadata": {
    "ExecuteTime": {
     "end_time": "2025-08-01T13:55:42.428570Z",
     "start_time": "2025-08-01T13:55:42.419651Z"
    }
   },
   "cell_type": "code",
   "source": [
    "# loader\n",
    "def load_dataset(file_path):\n",
    "    with bz2.BZ2File(file_path, 'rb') as f:\n",
    "        dataset = pickle.load(f)\n",
    "    return dataset\n",
    "\n",
    "def print_dataset_structure(dataset_dict, name=None):\n",
    "    first_level_keys = set()\n",
    "    second_level_keys = set()\n",
    "    third_level_keys = set()\n",
    "\n",
    "\n",
    "\n",
    "    for key, value in dataset_dict.items():\n",
    "        first_level_keys.add(key)\n",
    "        if isinstance(value, dict):\n",
    "            for sub_key in value.keys():\n",
    "                second_level_keys.add(sub_key)\n",
    "                if isinstance(value[sub_key], dict):\n",
    "                    for sub_sub_key in value[sub_key].keys():\n",
    "                        third_level_keys.add(sub_sub_key)\n",
    "\n",
    "    if name is not None:\n",
    "        print(f\"Dataset Structure for Dataset: {name}\")\n",
    "    else:\n",
    "        print(\"Dataset Structure:\")\n",
    "\n",
    "\n",
    "    print(\"----\"*10)\n",
    "    print(\"First Level Keys:\")\n",
    "    print(first_level_keys)\n",
    "    print(\"----\"*10)\n",
    "    print(\"Second Level Keys:\")\n",
    "    print(list(second_level_keys)[:10])\n",
    "    print(\"----\"*10)\n",
    "    print(\"Third Level Keys:\")\n",
    "    print(third_level_keys)\n",
    "    print(\"----\"*10)\n",
    "    print(\"\\n\")\n",
    "\n",
    "def print_all_datasets_structure(dataset_path_list):\n",
    "    for dataset_pkl in dataset_pkls:\n",
    "        dataset_path = os.path.join(data_dir, dataset_pkl)\n",
    "        dataset_dict = load_dataset(dataset_path)\n",
    "        print_dataset_structure(dataset_dict, name=dataset_pkl)\n",
    "        del dataset_dict\n",
    "\n",
    "# get all split_n_bar_phrases from last key\n",
    "def get_split_n_bar_phrases(dataset_path_list):\n",
    "    if not isinstance(dataset_path_list, list):\n",
    "        dataset_path_list = [dataset_path_list]\n",
    "\n",
    "    split_n_bar_phrases = list()\n",
    "\n",
    "    for dataset_pkl_ in dataset_path_list:\n",
    "        dataset_dict_ = load_dataset(os.path.join(data_dir, dataset_pkl_))\n",
    "        for key, value in dataset_dict_.items():\n",
    "            for sub_key, sub_value in value.items():\n",
    "                hvo_splits = sub_value['split_n_bar_phrases']\n",
    "                for hvo_split in hvo_splits:\n",
    "                    hvo_split.metadata.update({'collection': dataset_pkl_.replace('.pkl.bz2', ''), 'sample_id': sub_key})\n",
    "\n",
    "                split_n_bar_phrases.extend(sub_value['split_n_bar_phrases'])\n",
    "\n",
    "    return split_n_bar_phrases\n",
    "\n",
    "import random\n",
    "\n",
    "def get_randome_phrases(split_n_bar_phrases, n=1):\n",
    "    # returns hvos and their indexes in the split_n_bar_phrases list\n",
    "    if not isinstance(split_n_bar_phrases, list):\n",
    "        split_n_bar_phrases = [split_n_bar_phrases]\n",
    "    sample_ix = random.sample(range(len(split_n_bar_phrases)), n)\n",
    "    sample_hvo_phrases = [split_n_bar_phrases[ix] for ix in sample_ix]\n",
    "\n",
    "    return sample_hvo_phrases, sample_ix\n",
    "\n",
    "\n",
    "\n",
    "\n",
    "from bokeh.models import Tabs, TabPanel\n",
    "import warnings\n",
    "import logging\n",
    "from bokeh.util.warnings import BokehUserWarning, BokehDeprecationWarning\n",
    "\n",
    "def setup_quiet_bokeh():\n",
    "    \"\"\"Set up comprehensive bokeh warning suppression\"\"\"\n",
    "    # Suppress warnings\n",
    "    warnings.filterwarnings(\"ignore\", category=BokehUserWarning)\n",
    "    warnings.filterwarnings(\"ignore\", category=BokehDeprecationWarning)\n",
    "    warnings.filterwarnings(\"ignore\", message=\".*bokeh.*\")\n",
    "\n",
    "    # Suppress logging\n",
    "    logging.getLogger('bokeh').setLevel(logging.ERROR)\n",
    "\n",
    "    # Suppress other common warnings that might appear with bokeh\n",
    "    warnings.filterwarnings(\"ignore\", category=FutureWarning)\n",
    "    warnings.filterwarnings(\"ignore\", category=UserWarning)\n",
    "\n",
    "def create_multitab_from_figures(hvos,  tab_titles=None, show_tabs= True):\n",
    "    \"\"\"\n",
    "    Create a multitab visualizer from already-generated bokeh figures.\n",
    "\n",
    "    Parameters:\n",
    "    -----------\n",
    "    figures : List\n",
    "        List of bokeh figure objects\n",
    "    tab_titles : List[str]\n",
    "        List of titles for each tab\n",
    "    show_tabs : bool, default=True\n",
    "        Whether to immediately show the tabs\n",
    "\n",
    "    Returns:\n",
    "    --------\n",
    "    Tabs\n",
    "        Bokeh Tabs object containing all the figures\n",
    "    \"\"\"\n",
    "    setup_quiet_bokeh()\n",
    "    output_notebook()\n",
    "\n",
    "    figures = []\n",
    "\n",
    "    generate_titles = False\n",
    "    if tab_titles is None:\n",
    "        tab_titles = []\n",
    "        generate_titles = True\n",
    "\n",
    "    if not isinstance(hvos, list):\n",
    "        hvos = [hvos]\n",
    "    for ix, hvo in enumerate(hvos):\n",
    "        figure = hvo.to_html_plot(\n",
    "            filename='',\n",
    "            save_figure=False,\n",
    "            show_figure=False)\n",
    "        figures.append(figure)\n",
    "        if generate_titles:\n",
    "            tab_titles.append(f\"Tab {ix+1}\")\n",
    "\n",
    "    if not isinstance(tab_titles, list):\n",
    "        tab_titles = [tab_titles]\n",
    "    if not tab_titles:\n",
    "        tab_titles = [f\"Tab {i+1}\" for i in range(len(figures))]\n",
    "    if len(figures) == 0:\n",
    "        raise ValueError(\"No figures provided to create tabs\")\n",
    "\n",
    "    if len(figures) != len(tab_titles):\n",
    "        raise ValueError(\"Number of figures must match number of tab titles\")\n",
    "\n",
    "    panels = []\n",
    "\n",
    "    for figure, title in zip(figures, tab_titles):\n",
    "        panel = TabPanel(child=figure, title=title)\n",
    "        panels.append(panel)\n",
    "\n",
    "    tabs = Tabs(tabs=panels)\n",
    "\n",
    "    if show_tabs:\n",
    "        show(tabs)\n",
    "\n",
    "    return tabs\n",
    "\n",
    "\n"
   ],
   "id": "e10086094576695c",
   "outputs": [],
   "execution_count": 20
  },
  {
   "metadata": {
    "ExecuteTime": {
     "end_time": "2025-08-01T13:59:40.984707Z",
     "start_time": "2025-08-01T13:55:42.434238Z"
    }
   },
   "cell_type": "code",
   "source": [
    "# LOAD DATASETS\n",
    "\n",
    "data_dir = \"data/triple_streams/split_2bars/rest\" # \"data/triple_streams/split_2bars/lmd or rest\"\n",
    "\n",
    "# find all .pkl.bz2 files in the directory\n",
    "dataset_pkls = [f for f in os.listdir(data_dir) if f.endswith('.pkl.bz2')]\n",
    "# dataset_pkls = ['lmd_batch_60.pkl.bz2']\n",
    "# print the structure of each dataset\n",
    "print_all_datasets_structure(dataset_pkls)\n",
    "\n",
    "# load all loops from all datasets\n",
    "split_n_bar_phrases = get_split_n_bar_phrases(dataset_pkls)\n",
    "\n",
    "# print the number of phrases loaded\n",
    "print(f\"Number of split_n_bar_phrases loaded: {len(split_n_bar_phrases)}\")\n"
   ],
   "id": "f69ff5991d811d35",
   "outputs": [
    {
     "name": "stdout",
     "output_type": "stream",
     "text": [
      "Dataset Structure for Dataset: lmd_batch_56_filtered.pkl.bz2\n",
      "----------------------------------------\n",
      "First Level Keys:\n",
      "{'AllAvailableStreams'}\n",
      "----------------------------------------\n",
      "Second Level Keys:\n",
      "['c8b32d0a1390d6cf113aa6a41d7395a7', '278cd65b65561ef94a16932cf424406d', '476aaf93bd0f52ca660f961c95f74888', '0b9e29cccfbececb0d5fe1f256fc2589', 'dcee7827dee25f21f823345187da1124', '18c64e0d22d6555e9add99dbc7416d69', '98e03752c60180a28bf3686003ce4a88', 'b08dfd8a708354cbb1fd2b3f27bba39f', 'd8ba8b2f104d9b3c7c57764850c8a3c1', 'e6a31b03fd6041a7114b4a1211d1783e']\n",
      "----------------------------------------\n",
      "Third Level Keys:\n",
      "{'compiled_single_hvos', 'split_n_bar_phrases', 'hvo_sequences', 'filenames'}\n",
      "----------------------------------------\n",
      "\n",
      "\n",
      "Dataset Structure for Dataset: lmd_batch_33_filtered.pkl.bz2\n",
      "----------------------------------------\n",
      "First Level Keys:\n",
      "{'AllAvailableStreams'}\n",
      "----------------------------------------\n",
      "Second Level Keys:\n",
      "['64c2ff2a1d18ee70714eb653f91969e2', 'eab1c990eaed7fa3531cdbc4ddf7c8d6', '70d6a59d3e432ccef5a1194e0da6367e', 'c32e79c76222e43dda6f71ccaf8e1bb5', 'acef30bf86a21b3c7c2b412e8ce5b048', 'd637644ec2c9e91f6199fa280fc285eb', '5ab3514beaa329f24eee63034d32ce0a', 'd72d890fcc8df0de6434cd9ee9eb4cf0', '2cbeafc407ab2ae32fbfcbbc74ef7c5c', '17fecd7de6dd8e276fdef6b3b8b21a1e']\n",
      "----------------------------------------\n",
      "Third Level Keys:\n",
      "{'compiled_single_hvos', 'split_n_bar_phrases', 'hvo_sequences', 'filenames'}\n",
      "----------------------------------------\n",
      "\n",
      "\n",
      "Dataset Structure for Dataset: lmd_batch_12_filtered.pkl.bz2\n",
      "----------------------------------------\n",
      "First Level Keys:\n",
      "{'AllAvailableStreams'}\n",
      "----------------------------------------\n",
      "Second Level Keys:\n",
      "['00e59c9a2b56634c8a30c6b0c93e151a', '65be62e29fa119c79d95fe783a260629', '9072b2b4cedf580f008bbedbbe2f4729', 'aaf96d749bf55585dad8fc5da843e029', '87d86828ab8e7cd40ebf70d9d29dfef6', '915cae9cad9269310e740e3a65253512', '2f8e388801a811dd1dae6b6d9781328c', '83b706bfb9eb96d76a00b262c3dbf0d3', '3c66884c64418fabf1048fd89a90f62b', 'a821eb5736375b01c518808189f83bc6']\n",
      "----------------------------------------\n",
      "Third Level Keys:\n",
      "{'compiled_single_hvos', 'split_n_bar_phrases', 'hvo_sequences', 'filenames'}\n",
      "----------------------------------------\n",
      "\n",
      "\n",
      "Dataset Structure for Dataset: lmd_batch_49_filtered.pkl.bz2\n",
      "----------------------------------------\n",
      "First Level Keys:\n",
      "{'AllAvailableStreams'}\n",
      "----------------------------------------\n",
      "Second Level Keys:\n",
      "['2a741d363fa7500f02eeff616e93ef7e', '1434291555b98c842dc145254ec8cc1f', 'c01e303f720f8608a676fcbdd3f98246', '7d36b214c725521cdacc76169c1e7992', 'f80e71ab5f67ad87b47e735a5ced33fb', '7f5b73b80c127b638fd7eb4e354d3a8c', '3237b09f61961257c4723348438c0154', '2b09d4937deb6f2df5709e945e4ce012', '452ba8655803cd3b6e327db24b4f6c0c', '0f3fc86086eda3b7afabf666f9019de0']\n",
      "----------------------------------------\n",
      "Third Level Keys:\n",
      "{'compiled_single_hvos', 'split_n_bar_phrases', 'hvo_sequences', 'filenames'}\n",
      "----------------------------------------\n",
      "\n",
      "\n",
      "Dataset Structure for Dataset: lmd_batch_06_filtered.pkl.bz2\n",
      "----------------------------------------\n",
      "First Level Keys:\n",
      "{'AllAvailableStreams'}\n",
      "----------------------------------------\n",
      "Second Level Keys:\n",
      "['943e67a907c1b256ca6f56cfe267d69c', '036d9870fc8b15ad66447e0dc943cff7', '4c5f0b778c35faa29ff077e5f62e7f98', '6d975fa2a230ab56853268bd15449d4d', 'b19c5a15299c29039ec046b4ef0e3011', '5b10f6807574727164b847c86aac7d73', '4c05cb4b53af86b4b5b8e59e075ed9a9', 'cda5534fc4f676d5616a89b691b33b70', '31087e4247ebc4bf03c4724045fd83c3', 'ea9c8d9693352c4a6c723be79901da45']\n",
      "----------------------------------------\n",
      "Third Level Keys:\n",
      "{'compiled_single_hvos', 'split_n_bar_phrases', 'hvo_sequences', 'filenames'}\n",
      "----------------------------------------\n",
      "\n",
      "\n",
      "Dataset Structure for Dataset: lmd_batch_38_filtered.pkl.bz2\n",
      "----------------------------------------\n",
      "First Level Keys:\n",
      "{'AllAvailableStreams'}\n",
      "----------------------------------------\n",
      "Second Level Keys:\n",
      "['a633287ccbd895abc65f16cdd963d2bd', '4482ff8df1c23252649a5070b35a3560', '231043cf7c82b861bf2091a67ad2b80b', 'd9fc27f1cfec14b9e5eaddfa717da32b', '3e414a6851046889aa07a6949a7c5d2d', '9162f0c034a2ac31aae57a8ca3edba98', '92cc01eee3635da9f1f77cdf6dcfeabe', '1bb43de3d0bb68e0e360519ca37e0fa4', '64b53e1dc28ac96bc4a860ada0021bb0', '4b7af6f5c9da0ed022bf591e1c51ee65']\n",
      "----------------------------------------\n",
      "Third Level Keys:\n",
      "{'compiled_single_hvos', 'split_n_bar_phrases', 'hvo_sequences', 'filenames'}\n",
      "----------------------------------------\n",
      "\n",
      "\n",
      "Dataset Structure for Dataset: lmd_batch_42_filtered.pkl.bz2\n",
      "----------------------------------------\n",
      "First Level Keys:\n",
      "{'AllAvailableStreams'}\n",
      "----------------------------------------\n",
      "Second Level Keys:\n",
      "['746a708a8faf19f4380b6ad56bfaf3de', 'ba195b9b785ba4dc0bec6d64823d86c3', '4738ddfa4a5bfa31bc9e952bbd7aece5', '0c82190c360989ab0556876fa0cd3b7a', 'e1090352d759eabdb878dad057ae7085', '9d151fe406d2c9087cb9082c62cc60c1', 'a94800bc505a8ac2a6dce532b031b617', 'd64baa668667f4546d09268bffc4180e', '8502db9265a5bbc8c93e553a5ef6a863', '5cbd8a8edb8490c08dbbe10f284c6739']\n",
      "----------------------------------------\n",
      "Third Level Keys:\n",
      "{'compiled_single_hvos', 'split_n_bar_phrases', 'hvo_sequences', 'filenames'}\n",
      "----------------------------------------\n",
      "\n",
      "\n",
      "Dataset Structure for Dataset: lmd_batch_19_filtered.pkl.bz2\n",
      "----------------------------------------\n",
      "First Level Keys:\n",
      "{'AllAvailableStreams'}\n",
      "----------------------------------------\n",
      "Second Level Keys:\n",
      "['af23b70c6b51ef1d97be8baa5ea13404', '79f951e7c913c959dd706cc216be671b', 'f16ec4e6c37b3c53caaefd225f0ddd5c', '3a57fef256fc40766de95bb6fa355854', '670390251e4e78a232f90134abc39d4d', '9205574332b2de4b5cfd2f3e99cc7c10', '7c5f48cb060c2bd4496047e11400d717', 'fd6ca2700ec6ccebe055ed6b6b92a8ff', '4c926e32d6b16bc9b141989575049fc9', '678a84aeb393c543f4fcfaf96955eec4']\n",
      "----------------------------------------\n",
      "Third Level Keys:\n",
      "{'compiled_single_hvos', 'split_n_bar_phrases', 'hvo_sequences', 'filenames'}\n",
      "----------------------------------------\n",
      "\n",
      "\n",
      "Dataset Structure for Dataset: lmd_batch_27_filtered.pkl.bz2\n",
      "----------------------------------------\n",
      "First Level Keys:\n",
      "{'AllAvailableStreams'}\n",
      "----------------------------------------\n",
      "Second Level Keys:\n",
      "['f04402b370cc4bc1bcaf4ee943e1fc32', '7199c096d313ec65d21a4a117483ed4b', 'a400c5e730dbdd9f9db6242c2f22e90b', 'f0fb98fa23759763780501b98e430c14', '158b4c80484154bf367b4dd008b54780', 'b2145bc503221f3057e18d029cbd9f9e', '850b2bc491cdc8f7d775898fd86da8f9', 'aec3ec9152c44be13c165d84428ac291', '94c5f54fa3601c01bcdf05199a49fb5f', '9e0b2e3f07172173ef459d470237986e']\n",
      "----------------------------------------\n",
      "Third Level Keys:\n",
      "{'compiled_single_hvos', 'split_n_bar_phrases', 'hvo_sequences', 'filenames'}\n",
      "----------------------------------------\n",
      "\n",
      "\n",
      "Dataset Structure for Dataset: lmd_batch_46_filtered.pkl.bz2\n",
      "----------------------------------------\n",
      "First Level Keys:\n",
      "{'AllAvailableStreams'}\n",
      "----------------------------------------\n",
      "Second Level Keys:\n",
      "['b068117ddf7aef34af94db24daedbaf0', '4425f1085458b0871952768e3891837a', 'cfae28d26b86b68e775d96f4f20195d3', 'bf4114c51e18a5d996845220502e2cb1', '03873445d045c010c5d918f3832a3b68', 'd9964e3be6cdde4a9815c9f03d61286b', '599db61fbc105c666e52bfb5d3448f30', '99f3b4909aa6b53dee1904e8feac3116', '86424213d3ddd64640649892579cdf55', '6c17e71735158a52a7f50c0bc3b7c978']\n",
      "----------------------------------------\n",
      "Third Level Keys:\n",
      "{'compiled_single_hvos', 'split_n_bar_phrases', 'hvo_sequences', 'filenames'}\n",
      "----------------------------------------\n",
      "\n",
      "\n",
      "Dataset Structure for Dataset: lmd_batch_23_filtered.pkl.bz2\n",
      "----------------------------------------\n",
      "First Level Keys:\n",
      "{'AllAvailableStreams'}\n",
      "----------------------------------------\n",
      "Second Level Keys:\n",
      "['d82d0bc273452ca5d6b32a71a4ba8b6a', '6bfc9218a4f69d36ec7370be68cfca89', '4dd80bb4169705f6f93e7bbe6e9c850d', '528134180eded7326bedf8b0c9c8ff7e', '0bb1d64385d29a05f547ed98f86b6f4a', 'edd922b5751dae8fabf65ae69ddd2238', '921eb2edf3b7cede77b6870bb05d255b', '945ae92281400abb9932a3d643644cd9', 'b0eaf102f0327f4d8e7a78e727439262', '47873aee6d7773888571c2c8bb3ba2aa']\n",
      "----------------------------------------\n",
      "Third Level Keys:\n",
      "{'compiled_single_hvos', 'split_n_bar_phrases', 'hvo_sequences', 'filenames'}\n",
      "----------------------------------------\n",
      "\n",
      "\n",
      "Dataset Structure for Dataset: lmd_batch_02_filtered.pkl.bz2\n",
      "----------------------------------------\n",
      "First Level Keys:\n",
      "{'AllAvailableStreams'}\n",
      "----------------------------------------\n",
      "Second Level Keys:\n",
      "['2ec97753d9531fc159372c15dd8e6c78', '2bdbca980259f3562c36f78b188f6e0e', '7d9c7853fc8bc48eadc5f9ebbc297596', '1ebced49632e6fc799988c11b7eb0a43', 'ad7a50e370cf8a3fcc6fe94511cff590', '9d88097baea3aaa018c3179027670f6d', 'cd095d84c5203705070f0baa04b2d18d', 'c137d6f60705a036b3735938fbbd802e', 'c827cdc22c7fbf06e7cad6f7b534bd48', '3e4656073039291412edbd0791fbc2dd']\n",
      "----------------------------------------\n",
      "Third Level Keys:\n",
      "{'compiled_single_hvos', 'split_n_bar_phrases', 'hvo_sequences', 'filenames'}\n",
      "----------------------------------------\n",
      "\n",
      "\n",
      "Dataset Structure for Dataset: lmd_batch_59_filtered.pkl.bz2\n",
      "----------------------------------------\n",
      "First Level Keys:\n",
      "{'AllAvailableStreams'}\n",
      "----------------------------------------\n",
      "Second Level Keys:\n",
      "['06bcd0a7de8b370dc04fa6b438ed81f8', 'da03031756ebbce8b11e2f261faa6ddd', '64183fde3dffdf807cd6e01345e66c95', '9fb4ff085e151ad22fd483b8cbcde7ef', 'e53f1746ad32b13b56575ddc73202653', '639f79b16331a398d1668e9e3f38a173', '5e94916169eb833a4fe28b49ba4c81ae', '36c9dea6a6c5b0685fb3508253714b8d', '3510a028a4995152d9b1051b6bcbbd61', '2905bff96fa762b217370da27432a985']\n",
      "----------------------------------------\n",
      "Third Level Keys:\n",
      "{'compiled_single_hvos', 'split_n_bar_phrases', 'hvo_sequences', 'filenames'}\n",
      "----------------------------------------\n",
      "\n",
      "\n",
      "Dataset Structure for Dataset: lmd_batch_28_filtered.pkl.bz2\n",
      "----------------------------------------\n",
      "First Level Keys:\n",
      "{'AllAvailableStreams'}\n",
      "----------------------------------------\n",
      "Second Level Keys:\n",
      "['a1e175cf4ddfd7e9c85de5ddd944abe7', '3938c23922f4f3917f704c763acafc79', 'e578fa8a371b274f56f7e1afc565e93f', '2d15e98dd8199f0a3cd19bb9aa97deb8', '0f1dc6ae176b1b950c8f7f8f21e311a2', 'a3cc63a9007b13161e95137e2d00516a', 'eaa00ec1c136fe42bda856dbcd451b36', '224efcc28080ca527ab7443fcbf8b0cf', '11c68da7466003b1f6530ec0c883da0c', '038b90d1cb8441a3dea83263eff3a390']\n",
      "----------------------------------------\n",
      "Third Level Keys:\n",
      "{'compiled_single_hvos', 'split_n_bar_phrases', 'hvo_sequences', 'filenames'}\n",
      "----------------------------------------\n",
      "\n",
      "\n",
      "Dataset Structure for Dataset: lmd_batch_16_filtered.pkl.bz2\n",
      "----------------------------------------\n",
      "First Level Keys:\n",
      "{'AllAvailableStreams'}\n",
      "----------------------------------------\n",
      "Second Level Keys:\n",
      "['eedfccde49d52157ba5418da2d558565', 'de0fb42bf0c087fb9d7616727972ab0e', '122903e1572f8cd6a0ba18333cf3cdc3', '761446ada16c6d883a660d8a82f41f06', 'a98f7d9f7a8f662f1126f1d74f0a22d4', '5349c424cb31982c2368d609e94db60c', 'e4bb58555a62a6ba018a5b31703b36f6', 'd5ac81f70e2243e864ca4ef789ab4517', '065eb51653683ecf14bd3fef1f39718c', '510af1920136ff5b1d278b97d00489ca']\n",
      "----------------------------------------\n",
      "Third Level Keys:\n",
      "{'compiled_single_hvos', 'split_n_bar_phrases', 'hvo_sequences', 'filenames'}\n",
      "----------------------------------------\n",
      "\n",
      "\n",
      "Dataset Structure for Dataset: lmd_batch_52_filtered.pkl.bz2\n",
      "----------------------------------------\n",
      "First Level Keys:\n",
      "{'AllAvailableStreams'}\n",
      "----------------------------------------\n",
      "Second Level Keys:\n",
      "['82647c00fbae1789d8072bbf9529f59d', '29e67e2d8c6b7ebc62c010988f711411', '78315c939b7ed72e940b37a7afd8c50e', '94b2aa9bce75bebf907d62a6c147f42f', '31112169dffca5bf155d6f8dd69437ee', '5d96d5e3ace663fcf672ef439ecb3a37', '3ffbf76ebb413f37b38ad77b3d77b184', '2d9f648044366dff04cf770adfff84a3', '258c4df918f669247a68ce2f613b98e6', '0e1ca61b3412240122b97229b032408f']\n",
      "----------------------------------------\n",
      "Third Level Keys:\n",
      "{'compiled_single_hvos', 'split_n_bar_phrases', 'hvo_sequences', 'filenames'}\n",
      "----------------------------------------\n",
      "\n",
      "\n",
      "Dataset Structure for Dataset: lmd_batch_37_filtered.pkl.bz2\n",
      "----------------------------------------\n",
      "First Level Keys:\n",
      "{'AllAvailableStreams'}\n",
      "----------------------------------------\n",
      "Second Level Keys:\n",
      "['5c7d3f9efcef171c3cfa93d9c92e032d', '1f3dfc52fb22e1930c6cc4632b919096', '5ab4625e8bca54aad1d4277f30269307', 'f3f6f0db9a1f6f1730fa32ce0772420f', '3fb1d3b187b1f477ffeacbfb0719a444', '755081e423b136e5d15d30d623664af4', '7d9ac0633022bf6dee1d691d2741541b', '8a67ed50a61bceb43ed7388ec0ae96bc', '525aff568839a021edef96cc47718989', '7c37a3affde88c904c787032ff85bebf']\n",
      "----------------------------------------\n",
      "Third Level Keys:\n",
      "{'compiled_single_hvos', 'split_n_bar_phrases', 'hvo_sequences', 'filenames'}\n",
      "----------------------------------------\n",
      "\n",
      "\n",
      "Dataset Structure for Dataset: lmd_batch_09_filtered.pkl.bz2\n",
      "----------------------------------------\n",
      "First Level Keys:\n",
      "{'AllAvailableStreams'}\n",
      "----------------------------------------\n",
      "Second Level Keys:\n",
      "['a36d71594177dd89f8202f76bea0d1a1', 'b513fe8463545ba562d4ab1d17345f26', '649a4bc3d167d4d07f8a9fbd69d19143', '3925654aeb46f0ab607fcb0dd1b69ea5', 'f297f12d6e4dcd42cbaa6a5527613399', '2655ebd406f1fea75115f823475e75be', '3fa154c5f2c20e2cdedf2d6caff1335f', '0fd218bc10cc3abb27180ff64365f7d4', '2de20ec5f14074c646c4109b9f5e1213', '3b4c6c5aa3d0f6ec8d15fc02f66c7113']\n",
      "----------------------------------------\n",
      "Third Level Keys:\n",
      "{'compiled_single_hvos', 'split_n_bar_phrases', 'hvo_sequences', 'filenames'}\n",
      "----------------------------------------\n",
      "\n",
      "\n",
      "Dataset Structure for Dataset: lmd_batch_48_filtered.pkl.bz2\n",
      "----------------------------------------\n",
      "First Level Keys:\n",
      "{'AllAvailableStreams'}\n",
      "----------------------------------------\n",
      "Second Level Keys:\n",
      "['a214a74cce1e5c50611f7908ccbe70b6', '714024753ac2a7e57f3f564615b4c75e', '5d343f137e50381ac981284a7e772115', 'b99a6ccc16a4639315dafdd02e4b9a21', '29b4ed07d62a12d9159b8c2bef730edf', 'f84e72dd11aedbf7bbee642b53abd0b4', 'a645657239031fa54c49fd108066c71f', 'fe9fee992e24adf25992c4ffdde42f76', 'a07156460c6c138ef40b2b38d0594d16', 'e3aed55e73ed7b8de41793435d48e692']\n",
      "----------------------------------------\n",
      "Third Level Keys:\n",
      "{'compiled_single_hvos', 'split_n_bar_phrases', 'hvo_sequences', 'filenames'}\n",
      "----------------------------------------\n",
      "\n",
      "\n",
      "Dataset Structure for Dataset: lmd_batch_13_filtered.pkl.bz2\n",
      "----------------------------------------\n",
      "First Level Keys:\n",
      "{'AllAvailableStreams'}\n",
      "----------------------------------------\n",
      "Second Level Keys:\n",
      "['7a43fb608028aeac9cfdf38d585b33ac', '79978e7cbd11143b9d7d2c35f79beb76', '69945918dddfbc6faaa2cf851cabbbcc', 'e74c7069d33e377676b40ef7405cb976', '2776ebe96e2a1fd511dfa3d1d316a2e1', '18eabc9032f18f1ffcf630b92300edb3', 'b1db54eed9c8a26c06dcd13086df953f', 'b754c9de4af60584e10662698e200baf', '76cb3c26a99ca1dd9afade242942539d', 'bf71748d456c245ec97839cb1c8de151']\n",
      "----------------------------------------\n",
      "Third Level Keys:\n",
      "{'compiled_single_hvos', 'split_n_bar_phrases', 'hvo_sequences', 'filenames'}\n",
      "----------------------------------------\n",
      "\n",
      "\n",
      "Dataset Structure for Dataset: lmd_batch_32_filtered.pkl.bz2\n",
      "----------------------------------------\n",
      "First Level Keys:\n",
      "{'AllAvailableStreams'}\n",
      "----------------------------------------\n",
      "Second Level Keys:\n",
      "['a8a167f3ab4d81560b65095e7565a837', '0276245252a6b21d22fc61744fc815e1', '6b90ac1dfe248245ac7e3d23e2551537', '1d58168a161faf8a783a5c7f4552151d', '0a98cecf9faeb15d6783afd263613571', '7159e44c0e0eed831e9549e31c1b002d', '9adbc0d113e90077e58fd40292db6adc', 'f08079ce1829d093eda4addb6c997b56', '20d6beea8f8a51c13d8b5422a6c24193', 'a57b880a4f40f871b0427bfd8c83e9ec']\n",
      "----------------------------------------\n",
      "Third Level Keys:\n",
      "{'compiled_single_hvos', 'split_n_bar_phrases', 'hvo_sequences', 'filenames'}\n",
      "----------------------------------------\n",
      "\n",
      "\n",
      "Dataset Structure for Dataset: lmd_batch_57_filtered.pkl.bz2\n",
      "----------------------------------------\n",
      "First Level Keys:\n",
      "{'AllAvailableStreams'}\n",
      "----------------------------------------\n",
      "Second Level Keys:\n",
      "['7cd0cb42a37c41602aa6b843ca61ab64', '5d912b56cd5acdc78d45782b390e4e16', '74a8ba14af2b90295938bf3a1393ebfa', '82f659a804466b13d1f92f55486a9310', 'b99c257ac0a9978924ae2e612b5dc2a0', '0a9dbb6dd7dcb479b173f0619e193ea1', '99e4005c7cea62bfeb3ad3dc8d737090', 'c3d564583ec04e01e1508acdd905ebea', '88199543ba7da98209eea276b9c80e4c', '089d580a9b8cc726d2a344f0746f0788']\n",
      "----------------------------------------\n",
      "Third Level Keys:\n",
      "{'compiled_single_hvos', 'split_n_bar_phrases', 'hvo_sequences', 'filenames'}\n",
      "----------------------------------------\n",
      "\n",
      "\n",
      "Dataset Structure for Dataset: lmd_batch_18_filtered.pkl.bz2\n",
      "----------------------------------------\n",
      "First Level Keys:\n",
      "{'AllAvailableStreams'}\n",
      "----------------------------------------\n",
      "Second Level Keys:\n",
      "['3e13b3ee2706be8338d23569fe3224b4', '7a6b9545a39ca046d8b009be61fdd6d1', '2abaf8f63feac8c6d2a9b6adab8bbac3', 'ccf1594a4750837d2d1a4e1907220e6a', 'd3076f30597139af6477c3197e97c3b4', '5f9cf6321474d252fe3abf0a4be22b15', '013ed0d0e9c0ed06bc279f924f7a08a9', '0cd93b9265b23da082d34666826cc721', 'f6148465423b9882c551a09ad7921f05', '5e1fb1136f71d0c3ed21c3dbdf63e177']\n",
      "----------------------------------------\n",
      "Third Level Keys:\n",
      "{'compiled_single_hvos', 'split_n_bar_phrases', 'hvo_sequences', 'filenames'}\n",
      "----------------------------------------\n",
      "\n",
      "\n",
      "Dataset Structure for Dataset: lmd_batch_26_filtered.pkl.bz2\n",
      "----------------------------------------\n",
      "First Level Keys:\n",
      "{'AllAvailableStreams'}\n",
      "----------------------------------------\n",
      "Second Level Keys:\n",
      "['72f244d1ac08bd657fd380b462957c67', 'a4166999bfaf188d1de266f588c8b1da', '5a38c6a4d4c2f9944028070eeddd69f7', '23e76fb2f3a2658469d0a7b23ad21b6c', '23c5d382c28c250fc9de9bf6b9ecfd99', 'bf1fbd16059c411f17f35a960ed46e04', '3e145551c66043825c8eb18aebe4bad8', 'd3f3fb99a5a219a3544d8b736ec20400', 'dc423e56b1c7177145ad224762265968', '0b390c9c993ab8db30466997972785e4']\n",
      "----------------------------------------\n",
      "Third Level Keys:\n",
      "{'compiled_single_hvos', 'split_n_bar_phrases', 'hvo_sequences', 'filenames'}\n",
      "----------------------------------------\n",
      "\n",
      "\n",
      "Dataset Structure for Dataset: lmd_batch_43_filtered.pkl.bz2\n",
      "----------------------------------------\n",
      "First Level Keys:\n",
      "{'AllAvailableStreams'}\n",
      "----------------------------------------\n",
      "Second Level Keys:\n",
      "['c5780bc050522215dc0e248f3b7ccb95', 'd2777247e0882ac904ff056d7caebb2f', '18d2a55af3cc071be0a5cf42f38a6676', '778883f90f8d41b99f572c7cc3770608', 'e2c306ba815f92f3e9084b6bfad6d467', '9e6d31f5ec9d39a7092b901d5e2a98ec', 'd212dfd1239893af995c68ae680df41a', 'f738297c8be274e1781949d63e59e82f', 'ec1531d64bdbdcd53f1b87b58a1f4a6c', 'd498331deca4b1b2a3ad9bf14188308c']\n",
      "----------------------------------------\n",
      "Third Level Keys:\n",
      "{'compiled_single_hvos', 'split_n_bar_phrases', 'hvo_sequences', 'filenames'}\n",
      "----------------------------------------\n",
      "\n",
      "\n",
      "Dataset Structure for Dataset: lmd_batch_07_filtered.pkl.bz2\n",
      "----------------------------------------\n",
      "First Level Keys:\n",
      "{'AllAvailableStreams'}\n",
      "----------------------------------------\n",
      "Second Level Keys:\n",
      "['a8af93b686d4b9584f4e8d05a2bffbde', 'e7557ef86367ba6ca8bf33f9b1b140b0', '2d6c125bd5511e765fc60b4cf070fd59', 'f0ab82da403ae9a20cdb4cff00ea434b', 'a08bb9d34f03cb09ade94303729c8c2f', '28097134966cd74e66ee84d2f798a189', '7bab104adcecd131478f7da59096e7e6', '41a71f13c9321032c4deb81f32de6d38', 'e215c37bc4cc2e14479e4f97bac6a052', 'f04eeb30a84a2a8b48e06852ce057fc3']\n",
      "----------------------------------------\n",
      "Third Level Keys:\n",
      "{'compiled_single_hvos', 'split_n_bar_phrases', 'hvo_sequences', 'filenames'}\n",
      "----------------------------------------\n",
      "\n",
      "\n",
      "Dataset Structure for Dataset: lmd_batch_39_filtered.pkl.bz2\n",
      "----------------------------------------\n",
      "First Level Keys:\n",
      "{'AllAvailableStreams'}\n",
      "----------------------------------------\n",
      "Second Level Keys:\n",
      "['411e27d51bce2236b16d4d700bfb5a9f', '749d5357becf8c18e771e232ca97b98b', '637771950f3c5a988a307a44c514c96c', '7b6d7401df46febcc5c41ffd7ee02b0b', 'f8052e5ba394bd4216de85218a7e5ac3', '93750a3195696442f7449bf934fb15f6', 'b3fc648998c92edbb38595b8be65cc69', '5cf3e17f893d15baaed118f20880f5ff', '2497b964acf2a490d62b10bedc9705c4', '8e4581617ad93aaae4e78587f604b888']\n",
      "----------------------------------------\n",
      "Third Level Keys:\n",
      "{'compiled_single_hvos', 'split_n_bar_phrases', 'hvo_sequences', 'filenames'}\n",
      "----------------------------------------\n",
      "\n",
      "\n",
      "Dataset Structure for Dataset: lmd_batch_58_filtered.pkl.bz2\n",
      "----------------------------------------\n",
      "First Level Keys:\n",
      "{'AllAvailableStreams'}\n",
      "----------------------------------------\n",
      "Second Level Keys:\n",
      "['26343a5dd6be2db6e0d04902a8208d31', 'e7ca95ea7cfcb5799771e1a9712a3e65', 'a884eb064427482abdadaa699a3c8017', 'e6e378d31b86907957354c3b1d41cc1a', '0daed0adb984bcaebb7c4a32ea042940', 'dbd98573a5cce6bd037ef834d1b45073', '412f57b9d9ce1d2201cf5b46b778b655', '94678f81e405ff9db1cc59b772aa8668', '1332fea35efe7d11001969a738a91027', 'f008fd45a90f851080ffbbdd5fc0626c']\n",
      "----------------------------------------\n",
      "Third Level Keys:\n",
      "{'compiled_single_hvos', 'split_n_bar_phrases', 'hvo_sequences', 'filenames'}\n",
      "----------------------------------------\n",
      "\n",
      "\n",
      "Dataset Structure for Dataset: lmd_batch_03_filtered.pkl.bz2\n",
      "----------------------------------------\n",
      "First Level Keys:\n",
      "{'AllAvailableStreams'}\n",
      "----------------------------------------\n",
      "Second Level Keys:\n",
      "['fcb3b5175ea1adf1f52dfff0ee733593', 'f6913f2acdff9e205575bea6e8954b5c', 'c3d2c87381eb9ee372f5b8c17d040f0f', 'b4a25fa10327fa8d535733fa04a79eed', '8ee033e486ecfadf9ea427f7f80a8f31', 'f101907faf53868f05170fabda5f535d', '3155cd35b914f08f933fe26963d2ed1b', 'deb9a3881a85855500d2ab21ad77357c', '71850810ffe95c9dcd734be6191d235c', 'e8759907c511a95178932412815df49c']\n",
      "----------------------------------------\n",
      "Third Level Keys:\n",
      "{'compiled_single_hvos', 'split_n_bar_phrases', 'hvo_sequences', 'filenames'}\n",
      "----------------------------------------\n",
      "\n",
      "\n",
      "Dataset Structure for Dataset: lmd_batch_22_filtered.pkl.bz2\n",
      "----------------------------------------\n",
      "First Level Keys:\n",
      "{'AllAvailableStreams'}\n",
      "----------------------------------------\n",
      "Second Level Keys:\n",
      "['d78668bfc2e787e4fb36d97508329dfa', 'c7215a85ef217531ed2fbe750ea59ead', 'd0435e62d021d908bf8f9687e9a1a185', '33a10594b63f45b40da02b438116bf30', 'ffb5a34739efb2bb014b02e3d84de19c', '3c1faaa3e8f31a1844a25e6ec23e40d7', 'bbf4314a942340d4e01703e9e74751fa', '1a420e7536010a11a8ba8faaf2cc44f6', '4004f49696ac383272e8c778fab504cb', 'fc4b12332c0239eae1d34ac4e7e274bb']\n",
      "----------------------------------------\n",
      "Third Level Keys:\n",
      "{'compiled_single_hvos', 'split_n_bar_phrases', 'hvo_sequences', 'filenames'}\n",
      "----------------------------------------\n",
      "\n",
      "\n",
      "Dataset Structure for Dataset: lmd_batch_47_filtered.pkl.bz2\n",
      "----------------------------------------\n",
      "First Level Keys:\n",
      "{'AllAvailableStreams'}\n",
      "----------------------------------------\n",
      "Second Level Keys:\n",
      "['7143662985a6282c96c29d64d4525f34', 'bdd3c1f4111b2d8d75564cc9d0401c5c', 'f1cd9ae59f407ee43c1fb7d4d7fa2d19', '4a923ca3393679b0cc22df16a71ed074', '7ff93181196e15010ae74190aa9d7076', '7fdab7d5d03f12c6f921a79e58347e36', 'f7e1ee6d5c706bcaded9a9eb6726571f', '04898916e98982450562d32d962c9054', 'fb418ff72079d6e1af9ba3ffe19dbdab', '13b6fcd91cb165c9952813bbd01abbde']\n",
      "----------------------------------------\n",
      "Third Level Keys:\n",
      "{'compiled_single_hvos', 'split_n_bar_phrases', 'hvo_sequences', 'filenames'}\n",
      "----------------------------------------\n",
      "\n",
      "\n",
      "Dataset Structure for Dataset: lmd_batch_36_filtered.pkl.bz2\n",
      "----------------------------------------\n",
      "First Level Keys:\n",
      "{'AllAvailableStreams'}\n",
      "----------------------------------------\n",
      "Second Level Keys:\n",
      "['15c7e0764f4a452b30096fa18e158134', 'a375c7d4da558b9eaffd375a8aa39a4a', '9577b6c9ddd3f5547d3821113e3fa840', 'f61f6fa83c2aae5857c39f05e47d39da', '8c31d869430a4457485ca83d0294f70a', 'a8cc7a933e8628349c4b00f9223287ce', '2b8fad176cf420e303c22976dbf95bdc', '713f2da6d6682d68e4c32a2f7eb51fcd', 'dc97e040bac9619c71e6617eaed71653', '12f8eca4724e67b2267fd6a644934794']\n",
      "----------------------------------------\n",
      "Third Level Keys:\n",
      "{'compiled_single_hvos', 'split_n_bar_phrases', 'hvo_sequences', 'filenames'}\n",
      "----------------------------------------\n",
      "\n",
      "\n",
      "Dataset Structure for Dataset: lmd_batch_08_filtered.pkl.bz2\n",
      "----------------------------------------\n",
      "First Level Keys:\n",
      "{'AllAvailableStreams'}\n",
      "----------------------------------------\n",
      "Second Level Keys:\n",
      "['48a68f44b08c1981f72faaed19964f4f', 'dd82bb36a469edb02aef88fa888be9c0', '637de937cf06c782d9ef7e7b2659eecc', '8eca58cfd5dd2ab04935894ceaf0a0ee', 'c71180396e20e04dfe0eb9e4735fd202', '80b75db8913a22559ebffc2195b52437', '8e0643ad064ad5a9b5c70964e579ad33', '16336562f7d15ca8a01ea851d84d65bc', '5419778027df01532620bc92152d3660', '10982f1e7d55309b8a263eb76b50789d']\n",
      "----------------------------------------\n",
      "Third Level Keys:\n",
      "{'compiled_single_hvos', 'split_n_bar_phrases', 'hvo_sequences', 'filenames'}\n",
      "----------------------------------------\n",
      "\n",
      "\n",
      "Dataset Structure for Dataset: lmd_batch_53_filtered.pkl.bz2\n",
      "----------------------------------------\n",
      "First Level Keys:\n",
      "{'AllAvailableStreams'}\n",
      "----------------------------------------\n",
      "Second Level Keys:\n",
      "['8e4fcc0a2ca196738927f857d5acd8a6', 'f54495620db24c6628674b451505f3b4', '8e537f3aa020f1a2ca9b4556fd1f17e6', '973d6c3cacd42e1689e1eebd9aa1d11b', '3e995c3e14bff362bd1588c70db65e87', '9898abbf900530a83fc0d1a7ad6d0e55', '2fb5a289c40f246d1e52f9e8f537e1fb', '6d1de7f615625560ee12e4025499187a', '484b0d0f1f8638838ad174fdf4e4ee2c', 'd3d8680b2b4898263d9ebc392d851360']\n",
      "----------------------------------------\n",
      "Third Level Keys:\n",
      "{'compiled_single_hvos', 'split_n_bar_phrases', 'hvo_sequences', 'filenames'}\n",
      "----------------------------------------\n",
      "\n",
      "\n",
      "Dataset Structure for Dataset: lmd_batch_29_filtered.pkl.bz2\n",
      "----------------------------------------\n",
      "First Level Keys:\n",
      "{'AllAvailableStreams'}\n",
      "----------------------------------------\n",
      "Second Level Keys:\n",
      "['defc26e67e135c633572518a45c7df43', '596c2b88ab2f6192a256fa1f47cc5132', 'd6bb1fcb053c5d1427d6465bccf30c50', 'ff19305336b99f099b889f692c34e474', 'd3ee6de0fa4e5bb0cfaf1ad673b90247', '7762d14fed4d98263b02a13777d6b01b', 'ba9205f0d69843593fe8b693a7562b59', '77bdaa97ad29837c2bfe6b2cc1dd25cf', 'cbec8ff8b317ecfb89c9b9ae5de76cc6', 'a1fb02f35adf2bd7d151304c879fa6be']\n",
      "----------------------------------------\n",
      "Third Level Keys:\n",
      "{'compiled_single_hvos', 'split_n_bar_phrases', 'hvo_sequences', 'filenames'}\n",
      "----------------------------------------\n",
      "\n",
      "\n",
      "Dataset Structure for Dataset: lmd_batch_17_filtered.pkl.bz2\n",
      "----------------------------------------\n",
      "First Level Keys:\n",
      "{'AllAvailableStreams'}\n",
      "----------------------------------------\n",
      "Second Level Keys:\n",
      "['5d1e78cedf0dba88c52551d05506bfb6', '35ba043e33d7656b51040a0c08ec306a', '88932acdf25c598999041982aef07e28', 'abcabaa89faecacb9349680574fc100a', 'b5214bcf983a65154af284eb49db3cba', '40c7daf0c45a8bbb2df655b9e8e10cd0', 'fcbbd9217cd8be0f356a725d5558d560', '243cbb7deba72868ac2bf53631393f62', 'f79c22dbc1163d6e02b3e96b4a91b9c7', 'e8b9bf853a893c41ff61cb7045b65237']\n",
      "----------------------------------------\n",
      "Third Level Keys:\n",
      "{'compiled_single_hvos', 'split_n_bar_phrases', 'hvo_sequences', 'filenames'}\n",
      "----------------------------------------\n",
      "\n",
      "\n",
      "Dataset Structure for Dataset: lmd_batch_25_filtered.pkl.bz2\n",
      "----------------------------------------\n",
      "First Level Keys:\n",
      "{'AllAvailableStreams'}\n",
      "----------------------------------------\n",
      "Second Level Keys:\n",
      "['90942ac6eaa3af1e1902c0ded4ffea3d', 'bc196294f820369b36baf56a5e9597fa', '7550afa06b6e0abf78029ebd531030ac', 'b54b036fd6385b55c6192192b46e1ad5', '82581de6072af066d8728623bcae7221', 'b7ef8bc27c1a4d2cb6d5ee433a9955f4', 'bc5a3861862a9647141ea84d1d41d099', '18292b12a23961b95f715511d93e96f3', '4209328e2bc714f74f1faf288a9e7c71', 'b3936ee963d1077f312fddf90f72b941']\n",
      "----------------------------------------\n",
      "Third Level Keys:\n",
      "{'compiled_single_hvos', 'split_n_bar_phrases', 'hvo_sequences', 'filenames'}\n",
      "----------------------------------------\n",
      "\n",
      "\n",
      "Dataset Structure for Dataset: lmd_batch_40_filtered.pkl.bz2\n",
      "----------------------------------------\n",
      "First Level Keys:\n",
      "{'AllAvailableStreams'}\n",
      "----------------------------------------\n",
      "Second Level Keys:\n",
      "['b7607d4fc442287000b47142b6e6ef73', 'b020458f9462b1d7ef5fa4779c005b1b', 'e0fa93b7722b544264b6c667e084ba51', 'a49a0b67e325c893aa1f0e4f6ced02fe', '8c40c94b9021447918c35d9dea6cb28b', '112540aaa7146c934f70388114cde82c', 'b967744672474d7e0a8555a6bf46c41a', 'ee7201c95421b4188e16707e30df6748', '565aa743bfbe5049b0fa8033f783102a', 'da80825202cd668ec1cae71e07d0ce69']\n",
      "----------------------------------------\n",
      "Third Level Keys:\n",
      "{'compiled_single_hvos', 'split_n_bar_phrases', 'hvo_sequences', 'filenames'}\n",
      "----------------------------------------\n",
      "\n",
      "\n",
      "Dataset Structure for Dataset: lmd_batch_04_filtered.pkl.bz2\n",
      "----------------------------------------\n",
      "First Level Keys:\n",
      "{'AllAvailableStreams'}\n",
      "----------------------------------------\n",
      "Second Level Keys:\n",
      "['a2c0a453f309a73c8bad75e9cdecc173', 'b8d9ecada8819568eec72b884cc8a281', '1075c762a255780378e71ee618f2da44', '94ad1a6d8823512abf4caf74e4fbf1c1', 'd3e345549b6552c952f550cb314a4187', '379cc287d24148585a73b97c8be22a67', '580b3c59d1829eba23d296f7cdb606cb', '5f564fc81a9ae9d5f45ac8e36d6823ee', '798f4477f79484792294d4260db62e72', '43ca81ce1a1d16a8883d48c810eeef2f']\n",
      "----------------------------------------\n",
      "Third Level Keys:\n",
      "{'compiled_single_hvos', 'split_n_bar_phrases', 'hvo_sequences', 'filenames'}\n",
      "----------------------------------------\n",
      "\n",
      "\n",
      "Dataset Structure for Dataset: lmd_batch_10_filtered.pkl.bz2\n",
      "----------------------------------------\n",
      "First Level Keys:\n",
      "{'AllAvailableStreams'}\n",
      "----------------------------------------\n",
      "Second Level Keys:\n",
      "['d8a7894ed7a357c3ce8da8292f2f6053', 'debd3c7a72bef3986b245f543ac32ddc', '4264a71c067697c4c199da5f473f2a1a', '0d1896a75101cc5c5b76258bd792c1d1', '30b9b90a7502d3de6f1d6371fd77d3d3', '77c37312181c3edb2778633df3f9ae0d', '93adae63ea31b25d4a35297cdc6e44c4', 'b5cdecf1397a5f8b4050e63bbfdc7d59', 'f8016f557a6e62803f2d321a89b099a4', '744b8ce63daf420f60eb8dca0970bcdd']\n",
      "----------------------------------------\n",
      "Third Level Keys:\n",
      "{'compiled_single_hvos', 'split_n_bar_phrases', 'hvo_sequences', 'filenames'}\n",
      "----------------------------------------\n",
      "\n",
      "\n",
      "Dataset Structure for Dataset: lmd_batch_31_filtered.pkl.bz2\n",
      "----------------------------------------\n",
      "First Level Keys:\n",
      "{'AllAvailableStreams'}\n",
      "----------------------------------------\n",
      "Second Level Keys:\n",
      "['56acd7b08f67e1af44fe2568be001c68', '1f5500b750b4b1be446bd16b01fb8114', '56e6998ebeeda5910499aa862c3f1293', 'ba2e667dc7c72802fe837ac792a005d7', '8c0e3d8e58723ca57a174715f20e09ff', '8a0e612423b2e3e95a11c4c8613e7651', '396ff017952e764540806a4525fd6fa3', '9fbc6aaacd4b8e17d819675268c01520', '2feeb28f1596b7b7446a78d517fb76ff', 'bda6151244b7f481b9e276899f2650d0']\n",
      "----------------------------------------\n",
      "Third Level Keys:\n",
      "{'compiled_single_hvos', 'split_n_bar_phrases', 'hvo_sequences', 'filenames'}\n",
      "----------------------------------------\n",
      "\n",
      "\n",
      "Dataset Structure for Dataset: lmd_batch_54_filtered.pkl.bz2\n",
      "----------------------------------------\n",
      "First Level Keys:\n",
      "{'AllAvailableStreams'}\n",
      "----------------------------------------\n",
      "Second Level Keys:\n",
      "['6d16ba3b3dd057ce7a844d51384d83bd', 'c4839e0a199f7e1fd13d71c5cb8a89e0', '750a29f7d1f10803b1e81f49091f4c46', 'a078d4c81a75d4406b6008146e37986a', '8e58b37d8f4eb0241a61b6faaf6c4c0a', '2b04913a52a96951cca665b6d4fe8f13', 'a64abce4ba8032752d92ae5bebe8e43e', '07315d936c4d433f8284a9b58ee62d87', '3351633239ade9d776997fa9b931e843', '21a53be652d0e51690f1069f2fb78168']\n",
      "----------------------------------------\n",
      "Third Level Keys:\n",
      "{'compiled_single_hvos', 'split_n_bar_phrases', 'hvo_sequences', 'filenames'}\n",
      "----------------------------------------\n",
      "\n",
      "\n",
      "Dataset Structure for Dataset: lmd_batch_35_filtered.pkl.bz2\n",
      "----------------------------------------\n",
      "First Level Keys:\n",
      "{'AllAvailableStreams'}\n",
      "----------------------------------------\n",
      "Second Level Keys:\n",
      "['e050643cb1d4c49760cc79d227d5add6', '65e36a88547c01770b41981b5bbb8507', '42d3d4feb020dec5f3e28a3ae0d29d10', '161841fbc315568f7fe8570560125e43', '4f050e38a9def04e79cf50852da9d546', 'e61b067e2aadfc39daedb011081797ba', '1ac4f9da340c6d76b9c07e26f57707f2', '193c81d7ae32045ce26ec443e7fb1069', '69ba0ec5f84c8651f776db73003df9b2', '0d9f49a9eefd65ee8c3b0a3d42964e0a']\n",
      "----------------------------------------\n",
      "Third Level Keys:\n",
      "{'compiled_single_hvos', 'split_n_bar_phrases', 'hvo_sequences', 'filenames'}\n",
      "----------------------------------------\n",
      "\n",
      "\n",
      "Dataset Structure for Dataset: lmd_batch_50_filtered.pkl.bz2\n",
      "----------------------------------------\n",
      "First Level Keys:\n",
      "{'AllAvailableStreams'}\n",
      "----------------------------------------\n",
      "Second Level Keys:\n",
      "['2a809c863f26abf4d936281216ab071a', 'c599d6e65918cf69e5e2604021d59658', '9a2c0d1664943e8d6d1c768d4279629b', 'b2513551068c59b2c37a0f816652732d', 'de5d2fd09c676e5f3a70414256dbbc6a', '92ab78fa7daa45a1cb25f3edde5ff93e', '1214151b172b5da80b87752fb0cb76b0', '3fec66666d1a8d6702a27e20c71ef83f', 'a266cc57813348c08fc3961479ebf723', '3861cab2340db9665aab89eac9f7732d']\n",
      "----------------------------------------\n",
      "Third Level Keys:\n",
      "{'compiled_single_hvos', 'split_n_bar_phrases', 'hvo_sequences', 'filenames'}\n",
      "----------------------------------------\n",
      "\n",
      "\n",
      "Dataset Structure for Dataset: lmd_batch_14_filtered.pkl.bz2\n",
      "----------------------------------------\n",
      "First Level Keys:\n",
      "{'AllAvailableStreams'}\n",
      "----------------------------------------\n",
      "Second Level Keys:\n",
      "['76717bd376645333b0a613285b8f9b10', 'f760b8cd7d5d5cf9152f75714fa4ce03', '739db8c7f6ca24c1aa9c82694cbcac10', 'afa087d2ff0a97334ee88b7a0967bdfe', 'd8d31e0d500824568762a778ac8eee1b', '3d8e34075fe024820eaf9c3688ee457f', '60b5074b68a0f6e6111d29bdfad70560', '8903192612580ac4f8e22d094107272c', '1221897bfd7cfe6e3fcff56ce6501948', '4c59cacad14ee9cd6f03440203d2cd3e']\n",
      "----------------------------------------\n",
      "Third Level Keys:\n",
      "{'compiled_single_hvos', 'split_n_bar_phrases', 'hvo_sequences', 'filenames'}\n",
      "----------------------------------------\n",
      "\n",
      "\n",
      "Dataset Structure for Dataset: lmd_batch_21_filtered.pkl.bz2\n",
      "----------------------------------------\n",
      "First Level Keys:\n",
      "{'AllAvailableStreams'}\n",
      "----------------------------------------\n",
      "Second Level Keys:\n",
      "['3c18fbaa3745a1ff6fa468e635889713', 'a6a3d8821bd8c9565958326238dfec8f', 'ae2f62389dcf88905f676e8f9e85c22e', 'b09dd1a885921ba0febc2cec7510473d', '3def478ecf8e240089dfaeef2efa9aef', 'db5142b46aaf89ab2199dcd51089de16', 'ad15dcbae5906baed2220347c5166d77', 'c9a103fa9f15a32124650d0306a746b7', 'ef70a740cf1ac1674abf870837e0f7c5', '0599e2bbb65b4256a74cfa07e1e742b4']\n",
      "----------------------------------------\n",
      "Third Level Keys:\n",
      "{'compiled_single_hvos', 'split_n_bar_phrases', 'hvo_sequences', 'filenames'}\n",
      "----------------------------------------\n",
      "\n",
      "\n",
      "Dataset Structure for Dataset: lmd_batch_44_filtered.pkl.bz2\n",
      "----------------------------------------\n",
      "First Level Keys:\n",
      "{'AllAvailableStreams'}\n",
      "----------------------------------------\n",
      "Second Level Keys:\n",
      "['02440b897fb39d2013f13f83cd034e88', '91c7ebaef8a3634d8d184bd44da00dd4', '92b5096eaf7e538b7b23f1aa18528257', '80ba68f0f44a6546ef52a4ece6155f75', '0d3d83cd2d4482f804bf2662086cd40a', '8a74be7f639f323093e71a86ee0ea86c', '6e91ad44e45494a39583cc1a498466e3', 'e73deb0c8228ed2a7d62de59cf699fd9', 'cd39230ca20d6a2ac3feaceecc4713f6', '9fa52023296f389d600132a42b6f42a9']\n",
      "----------------------------------------\n",
      "Third Level Keys:\n",
      "{'compiled_single_hvos', 'split_n_bar_phrases', 'hvo_sequences', 'filenames'}\n",
      "----------------------------------------\n",
      "\n",
      "\n",
      "Dataset Structure for Dataset: lmd_batch_05_filtered.pkl.bz2\n",
      "----------------------------------------\n",
      "First Level Keys:\n",
      "{'AllAvailableStreams'}\n",
      "----------------------------------------\n",
      "Second Level Keys:\n",
      "['dc248ac00caa2e0046e1bd57c070659c', 'cf10a72dbb883a9e22d554e1b8da0f6a', '621f9eca845dbe5a0481ce49a347510c', '0d6ddb5c90dd6f9acbbad00f37661693', '1a5fbbb97503be54e053b69eda3c858b', '9c123b9be29d8a92331bee07bf8d1e34', '680e67e41bd5b15b0b6815c96b408e6c', 'e03f47e4d7f75d1d1e4cefdd3a3ce628', '0c87cac66adfbf7e514fe8d1021ba7f9', '759f912b69651e00cd42135b2ecdedc9']\n",
      "----------------------------------------\n",
      "Third Level Keys:\n",
      "{'compiled_single_hvos', 'split_n_bar_phrases', 'hvo_sequences', 'filenames'}\n",
      "----------------------------------------\n",
      "\n",
      "\n",
      "Dataset Structure for Dataset: lmd_batch_60_filtered.pkl.bz2\n",
      "----------------------------------------\n",
      "First Level Keys:\n",
      "{'AllAvailableStreams'}\n",
      "----------------------------------------\n",
      "Second Level Keys:\n",
      "['ee2b2c40230f4030211b3897e0d461ad', '404aa933d903b89265453d7ffff53359', 'f709d3ecb913e7f9c4aa3ae1a67b8376', '2e05386a6a0416349088ca16fad32589', 'a9c9f375c066a46c6a5f7ba93f275a75', 'cee9fcf848916efe240f5b46188d19db', '8c1d6c4a02617e34635b222ae730c08f', '27d0c91c2d00dcb600122dad91f8fde2', 'ebf85e32747f158d2182b0b742275dd6', '647e60d045e8300bb3bb533e25a5eef5']\n",
      "----------------------------------------\n",
      "Third Level Keys:\n",
      "{'compiled_single_hvos', 'split_n_bar_phrases', 'hvo_sequences', 'filenames'}\n",
      "----------------------------------------\n",
      "\n",
      "\n",
      "Dataset Structure for Dataset: lmd_batch_41_filtered.pkl.bz2\n",
      "----------------------------------------\n",
      "First Level Keys:\n",
      "{'AllAvailableStreams'}\n",
      "----------------------------------------\n",
      "Second Level Keys:\n",
      "['9dae20a6efb69e33d4993a68e45ca3e7', 'c0353a925a60752fc40e1429c084a596', '99f92df3bda18335b50addba8f3d3a38', 'e1caa16ab82062dd2b4d204039ac6277', '953435618587e5e821603cd5660e6d36', 'b97dc283afc183df3589b0102b8bc572', 'd1bcd3c2eb386265b6dbd4c8f869eb33', '57db0c856be810fb0fefbf1eab653187', '9589deb3f536572a5b06c7feac8199bc', 'dd19061a9c336f6ac151bcb164931034']\n",
      "----------------------------------------\n",
      "Third Level Keys:\n",
      "{'compiled_single_hvos', 'split_n_bar_phrases', 'hvo_sequences', 'filenames'}\n",
      "----------------------------------------\n",
      "\n",
      "\n",
      "Dataset Structure for Dataset: lmd_batch_24_filtered.pkl.bz2\n",
      "----------------------------------------\n",
      "First Level Keys:\n",
      "{'AllAvailableStreams'}\n",
      "----------------------------------------\n",
      "Second Level Keys:\n",
      "['411b1a83f75bad655074ba7b93652090', 'ee2b3b1b7ac09ebc284ef44527d5bb78', 'a582133b72fc4cfe592c42e87eae9599', 'bfc1556639bf3ebd4ecf7ed955a9482a', '2e05ac2d1877e8013f8d8466c072b819', 'b295eed70b0f8dd825715bbefd20a4c2', 'fe45b89b08ebc32296db0929048016f8', 'f4487f656a2c96fe4f201e6f51d11aa8', '3f1deec43f538cd07c200c1c0c638709', 'e9a4e4c6909d374cfea0acf334e5627c']\n",
      "----------------------------------------\n",
      "Third Level Keys:\n",
      "{'compiled_single_hvos', 'split_n_bar_phrases', 'hvo_sequences', 'filenames'}\n",
      "----------------------------------------\n",
      "\n",
      "\n",
      "Dataset Structure for Dataset: lmd_batch_55_filtered.pkl.bz2\n",
      "----------------------------------------\n",
      "First Level Keys:\n",
      "{'AllAvailableStreams'}\n",
      "----------------------------------------\n",
      "Second Level Keys:\n",
      "['0780421c1a9e0c88a9106bb29d00af97', 'f21c540b0a1348ff2bfc40a7e59dae39', '3d918606c6bf89ab1ded3079a877460a', '9ca99a7bdf1b834a9198dd953198edd5', '50f0f7ea3259902b21af903883713616', 'ec21a1929fd9e34c6c82f2a75b2ed8bb', 'ef824d51befb62a0f0aff133e7f394de', 'b45b833cb914a5f9b1a35b468532df30', '59c8bb232cbee483402cd83a03edc5ad', 'e5a0b58a73de571319c03a6e4eaa4032']\n",
      "----------------------------------------\n",
      "Third Level Keys:\n",
      "{'compiled_single_hvos', 'split_n_bar_phrases', 'hvo_sequences', 'filenames'}\n",
      "----------------------------------------\n",
      "\n",
      "\n",
      "Dataset Structure for Dataset: lmd_batch_30_filtered.pkl.bz2\n",
      "----------------------------------------\n",
      "First Level Keys:\n",
      "{'AllAvailableStreams'}\n",
      "----------------------------------------\n",
      "Second Level Keys:\n",
      "['518c2c0b67bca82e13fd209dc8fe2ec8', '691983f5280eb1851279d10015980eac', '3640c7cc38abe0961d2b58ba9932d076', '4e7814188bc58f317f2ffcf708efe43a', '889286aa0ab28104ea59eefc4502f150', '816f9716d1542f425e42b9c35950743a', 'db930e860cc479e61406c7d112377083', '219273c97f15838e8a87abafb4f4a472', 'd6f99443e1a11e5b84afe99ff7acbf46', '98ac6e97459222fefe7af911307ba49d']\n",
      "----------------------------------------\n",
      "Third Level Keys:\n",
      "{'compiled_single_hvos', 'split_n_bar_phrases', 'hvo_sequences', 'filenames'}\n",
      "----------------------------------------\n",
      "\n",
      "\n",
      "Dataset Structure for Dataset: lmd_batch_11_filtered.pkl.bz2\n",
      "----------------------------------------\n",
      "First Level Keys:\n",
      "{'AllAvailableStreams'}\n",
      "----------------------------------------\n",
      "Second Level Keys:\n",
      "['02f565c794d9bca3d51bb269c737cc14', '54cfe43854bb4a01bd50197fb9577b6a', '4b64c967aa009f4eb6dc6d7431dfca4e', '5f229b8408b4c182f9052f096d997fc2', 'a37465928b4a975bd0c6a02d66b441fe', 'f1103bbeac83d59d583babdf85f53ea1', 'a3a1e9ec55eac9145f6513c40370bc3a', '433a0cd8300237a4e2793f595112b5cb', '3f7fc30fd076b4ed8451b7928a7cd22b', 'af2a5a0945db786da88d98ee306bf56d']\n",
      "----------------------------------------\n",
      "Third Level Keys:\n",
      "{'compiled_single_hvos', 'split_n_bar_phrases', 'hvo_sequences', 'filenames'}\n",
      "----------------------------------------\n",
      "\n",
      "\n",
      "Dataset Structure for Dataset: lmd_batch_15_filtered.pkl.bz2\n",
      "----------------------------------------\n",
      "First Level Keys:\n",
      "{'AllAvailableStreams'}\n",
      "----------------------------------------\n",
      "Second Level Keys:\n",
      "['cc74fb4aea3c24fb1640c95363300b62', '6f7066b2a3c6feb331fdff964749af3e', '0f8b446fe27384a972ebd5895b6ba6c8', '99979501b8403b9cbbe6c753b657e4c0', '5f4a5eefdfa8a47e28532529751ecc7f', '86f9702ed433441d042057b9a59be4d9', 'c4cccd46261056bd04ae47371884e2d6', '6eab3a16bcfffbcdac16c3a697f43cb7', '4b75bd3f56bf39e7bff65c36320fa090', '9062ed81e81a1622025a9b0f0f9c6535']\n",
      "----------------------------------------\n",
      "Third Level Keys:\n",
      "{'compiled_single_hvos', 'split_n_bar_phrases', 'hvo_sequences', 'filenames'}\n",
      "----------------------------------------\n",
      "\n",
      "\n",
      "Dataset Structure for Dataset: lmd_batch_51_filtered.pkl.bz2\n",
      "----------------------------------------\n",
      "First Level Keys:\n",
      "{'AllAvailableStreams'}\n",
      "----------------------------------------\n",
      "Second Level Keys:\n",
      "['063531ed298db85d1ba72865b52b628c', 'ebaeeb1e064635c24729e33e89453149', 'bbb5dfcf700b4b5b69c2f4e208ff6c45', '02b1cf78fde43def668e5e2a6665b401', '1b183d91dcee9e437e025ef704c827f7', '96fb1fd08dfd7f080fa884e29adee701', '0dccccbb2a6b624bd99626fe8b0efb03', '18a3736120f8b96a62ab6d44d039fe92', '84d2484d403f79910a6c6945409bea08', 'f78cdf5089bf49f46dc58d6428054507']\n",
      "----------------------------------------\n",
      "Third Level Keys:\n",
      "{'compiled_single_hvos', 'split_n_bar_phrases', 'hvo_sequences', 'filenames'}\n",
      "----------------------------------------\n",
      "\n",
      "\n",
      "Dataset Structure for Dataset: lmd_batch_34_filtered.pkl.bz2\n",
      "----------------------------------------\n",
      "First Level Keys:\n",
      "{'AllAvailableStreams'}\n",
      "----------------------------------------\n",
      "Second Level Keys:\n",
      "['5f2c99a603e951a84e44da079a111f45', '3d138f38e29c72e56ab4650ff6158042', 'f19d3b6e19ace71ae3ba6a1c4d422f58', 'a6ed8402aa60625fb586cc1aef6fe53f', '204a3d61b64a715b27d93d783de50ffd', '1ffbc265a6c8cece7fe9337547622d7a', 'bca2401f157463498e42fc9d145f3371', '5428c19c5c85f93d30f1544fa05f44c6', 'd5765326db0b680ef2d08616cd97afe7', '268b893f020c2dc7d178707aa3e72f5a']\n",
      "----------------------------------------\n",
      "Third Level Keys:\n",
      "{'compiled_single_hvos', 'split_n_bar_phrases', 'hvo_sequences', 'filenames'}\n",
      "----------------------------------------\n",
      "\n",
      "\n",
      "Dataset Structure for Dataset: lmd_batch_45_filtered.pkl.bz2\n",
      "----------------------------------------\n",
      "First Level Keys:\n",
      "{'AllAvailableStreams'}\n",
      "----------------------------------------\n",
      "Second Level Keys:\n",
      "['b98c448acf2344cd63c6ab9eb4febf1b', '1b9f5f325c2080d345d877f590aa3dbe', '95b5c782f6c80fae95dcaf61a35691a8', '7d8f4b73269f102e33ecea31051f311b', '4918762428fad085b719af93f89a473c', '5c7557b94e603c0c4f9296c9467c4c3b', '621324e593dc8e3463b53dac5f01a532', 'db3d9d92e45429c44f3b45fc6102a995', '6304d2bba4282f8bd74322828c30f0c7', '93ed935af5c744e6fdab2e50ba8dc821']\n",
      "----------------------------------------\n",
      "Third Level Keys:\n",
      "{'compiled_single_hvos', 'split_n_bar_phrases', 'hvo_sequences', 'filenames'}\n",
      "----------------------------------------\n",
      "\n",
      "\n",
      "Dataset Structure for Dataset: lmd_batch_20_filtered.pkl.bz2\n",
      "----------------------------------------\n",
      "First Level Keys:\n",
      "{'AllAvailableStreams'}\n",
      "----------------------------------------\n",
      "Second Level Keys:\n",
      "['5a7a4d008228374f5591e9b5539fe755', '3c72f68b36155b9d5ff85b4c478c38e9', 'd6061d2d3395548240076f3d71bfe1ce', 'd448bc14706e595d359707da1a769a61', 'cd9e47cfa58b5016fc352ac32515738f', '543b769485cf6684f99485d1e1bcfa71', '74d8a8e984493b9ec2e30aa20e70e9c5', '6e4d33c533307b7b226b0eeae7153451', '354d8b753277a208bc6b6a856bed65d6', 'ef50f24faba791d82c4b8eb1e27d1043']\n",
      "----------------------------------------\n",
      "Third Level Keys:\n",
      "{'compiled_single_hvos', 'split_n_bar_phrases', 'hvo_sequences', 'filenames'}\n",
      "----------------------------------------\n",
      "\n",
      "\n",
      "Dataset Structure for Dataset: lmd_batch_01_filtered.pkl.bz2\n",
      "----------------------------------------\n",
      "First Level Keys:\n",
      "{'AllAvailableStreams'}\n",
      "----------------------------------------\n",
      "Second Level Keys:\n",
      "['f7d377edc3520c0cb1826e97bc6232ff', '52213c6d71899a609060e4523487fbb5', 'e2c207051b414110134db68c498e6f3a', '915704861bba18289c00ed03e23a04b7', 'd12da306e8b1f31caaebe2eb0bb45a84', 'ac3bf5339615ab1ae004a729522169fa', 'cf357c154e983c0401b6a2862997ee92', '16e284a9a10fa1f3c2502062790b9e60', 'db24d0cc4e778de131056eac1460199e', 'd06ec76ddeabcacf864f7f84d238f987']\n",
      "----------------------------------------\n",
      "Third Level Keys:\n",
      "{'compiled_single_hvos', 'split_n_bar_phrases', 'hvo_sequences', 'filenames'}\n",
      "----------------------------------------\n",
      "\n",
      "\n"
     ]
    },
    {
     "ename": "FileNotFoundError",
     "evalue": "[Errno 2] No such file or directory: 'data/triple_streams/split_2bars/lmd_top_four/taptamdrum_hvo_output_both_is_and.pkl.bz2'",
     "output_type": "error",
     "traceback": [
      "\u001B[0;31m---------------------------------------------------------------------------\u001B[0m",
      "\u001B[0;31mFileNotFoundError\u001B[0m                         Traceback (most recent call last)",
      "Cell \u001B[0;32mIn[21], line 11\u001B[0m\n\u001B[1;32m      8\u001B[0m dataset_pkls \u001B[38;5;241m=\u001B[39m dataset_pkls_lmd \u001B[38;5;241m+\u001B[39m dataset_pkls_rest\n\u001B[1;32m      9\u001B[0m \u001B[38;5;66;03m# dataset_pkls = ['lmd_batch_60.pkl.bz2']\u001B[39;00m\n\u001B[1;32m     10\u001B[0m \u001B[38;5;66;03m# print the structure of each dataset\u001B[39;00m\n\u001B[0;32m---> 11\u001B[0m \u001B[43mprint_all_datasets_structure\u001B[49m\u001B[43m(\u001B[49m\u001B[43mdataset_pkls\u001B[49m\u001B[43m)\u001B[49m\n\u001B[1;32m     13\u001B[0m \u001B[38;5;66;03m# load all loops from all datasets\u001B[39;00m\n\u001B[1;32m     14\u001B[0m split_n_bar_phrases \u001B[38;5;241m=\u001B[39m get_split_n_bar_phrases(dataset_pkls)\n",
      "Cell \u001B[0;32mIn[20], line 44\u001B[0m, in \u001B[0;36mprint_all_datasets_structure\u001B[0;34m(dataset_path_list)\u001B[0m\n\u001B[1;32m     42\u001B[0m \u001B[38;5;28;01mfor\u001B[39;00m dataset_pkl \u001B[38;5;129;01min\u001B[39;00m dataset_pkls:\n\u001B[1;32m     43\u001B[0m     dataset_path \u001B[38;5;241m=\u001B[39m os\u001B[38;5;241m.\u001B[39mpath\u001B[38;5;241m.\u001B[39mjoin(data_dir, dataset_pkl)\n\u001B[0;32m---> 44\u001B[0m     dataset_dict \u001B[38;5;241m=\u001B[39m \u001B[43mload_dataset\u001B[49m\u001B[43m(\u001B[49m\u001B[43mdataset_path\u001B[49m\u001B[43m)\u001B[49m\n\u001B[1;32m     45\u001B[0m     print_dataset_structure(dataset_dict, name\u001B[38;5;241m=\u001B[39mdataset_pkl)\n\u001B[1;32m     46\u001B[0m     \u001B[38;5;28;01mdel\u001B[39;00m dataset_dict\n",
      "Cell \u001B[0;32mIn[20], line 3\u001B[0m, in \u001B[0;36mload_dataset\u001B[0;34m(file_path)\u001B[0m\n\u001B[1;32m      2\u001B[0m \u001B[38;5;28;01mdef\u001B[39;00m\u001B[38;5;250m \u001B[39m\u001B[38;5;21mload_dataset\u001B[39m(file_path):\n\u001B[0;32m----> 3\u001B[0m     \u001B[38;5;28;01mwith\u001B[39;00m \u001B[43mbz2\u001B[49m\u001B[38;5;241;43m.\u001B[39;49m\u001B[43mBZ2File\u001B[49m\u001B[43m(\u001B[49m\u001B[43mfile_path\u001B[49m\u001B[43m,\u001B[49m\u001B[43m \u001B[49m\u001B[38;5;124;43m'\u001B[39;49m\u001B[38;5;124;43mrb\u001B[39;49m\u001B[38;5;124;43m'\u001B[39;49m\u001B[43m)\u001B[49m \u001B[38;5;28;01mas\u001B[39;00m f:\n\u001B[1;32m      4\u001B[0m         dataset \u001B[38;5;241m=\u001B[39m pickle\u001B[38;5;241m.\u001B[39mload(f)\n\u001B[1;32m      5\u001B[0m     \u001B[38;5;28;01mreturn\u001B[39;00m dataset\n",
      "File \u001B[0;32m~/anaconda3/envs/TripleStreams/lib/python3.9/bz2.py:85\u001B[0m, in \u001B[0;36mBZ2File.__init__\u001B[0;34m(self, filename, mode, compresslevel)\u001B[0m\n\u001B[1;32m     82\u001B[0m     \u001B[38;5;28;01mraise\u001B[39;00m \u001B[38;5;167;01mValueError\u001B[39;00m(\u001B[38;5;124m\"\u001B[39m\u001B[38;5;124mInvalid mode: \u001B[39m\u001B[38;5;132;01m%r\u001B[39;00m\u001B[38;5;124m\"\u001B[39m \u001B[38;5;241m%\u001B[39m (mode,))\n\u001B[1;32m     84\u001B[0m \u001B[38;5;28;01mif\u001B[39;00m \u001B[38;5;28misinstance\u001B[39m(filename, (\u001B[38;5;28mstr\u001B[39m, \u001B[38;5;28mbytes\u001B[39m, os\u001B[38;5;241m.\u001B[39mPathLike)):\n\u001B[0;32m---> 85\u001B[0m     \u001B[38;5;28mself\u001B[39m\u001B[38;5;241m.\u001B[39m_fp \u001B[38;5;241m=\u001B[39m \u001B[43m_builtin_open\u001B[49m\u001B[43m(\u001B[49m\u001B[43mfilename\u001B[49m\u001B[43m,\u001B[49m\u001B[43m \u001B[49m\u001B[43mmode\u001B[49m\u001B[43m)\u001B[49m\n\u001B[1;32m     86\u001B[0m     \u001B[38;5;28mself\u001B[39m\u001B[38;5;241m.\u001B[39m_closefp \u001B[38;5;241m=\u001B[39m \u001B[38;5;28;01mTrue\u001B[39;00m\n\u001B[1;32m     87\u001B[0m     \u001B[38;5;28mself\u001B[39m\u001B[38;5;241m.\u001B[39m_mode \u001B[38;5;241m=\u001B[39m mode_code\n",
      "\u001B[0;31mFileNotFoundError\u001B[0m: [Errno 2] No such file or directory: 'data/triple_streams/split_2bars/lmd_top_four/taptamdrum_hvo_output_both_is_and.pkl.bz2'"
     ]
    }
   ],
   "execution_count": 21
  },
  {
   "metadata": {
    "ExecuteTime": {
     "end_time": "2025-08-01T13:59:41.017006Z",
     "start_time": "2025-08-01T11:20:49.844721Z"
    }
   },
   "cell_type": "code",
   "source": [
    "# INSPECT SOME HVO SAMPLES\n",
    "create_multitab_from_figures(split_n_bar_phrases[2000:2010], show_tabs=True)\n"
   ],
   "id": "d43b6e3a9e8f74da",
   "outputs": [
    {
     "data": {
      "text/html": [
       "    <style>\n",
       "        .bk-notebook-logo {\n",
       "            display: block;\n",
       "            width: 20px;\n",
       "            height: 20px;\n",
       "            background-image: url(data:image/png;base64,iVBORw0KGgoAAAANSUhEUgAAABQAAAAUCAYAAACNiR0NAAAABHNCSVQICAgIfAhkiAAAAAlwSFlzAAALEgAACxIB0t1+/AAAABx0RVh0U29mdHdhcmUAQWRvYmUgRmlyZXdvcmtzIENTNui8sowAAAOkSURBVDiNjZRtaJVlGMd/1/08zzln5zjP1LWcU9N0NkN8m2CYjpgQYQXqSs0I84OLIC0hkEKoPtiH3gmKoiJDU7QpLgoLjLIQCpEsNJ1vqUOdO7ppbuec5+V+rj4ctwzd8IIbbi6u+8f1539dt3A78eXC7QizUF7gyV1fD1Yqg4JWz84yffhm0qkFqBogB9rM8tZdtwVsPUhWhGcFJngGeWrPzHm5oaMmkfEg1usvLFyc8jLRqDOMru7AyC8saQr7GG7f5fvDeH7Ej8CM66nIF+8yngt6HWaKh7k49Soy9nXurCi1o3qUbS3zWfrYeQDTB/Qj6kX6Ybhw4B+bOYoLKCC9H3Nu/leUTZ1JdRWkkn2ldcCamzrcf47KKXdAJllSlxAOkRgyHsGC/zRday5Qld9DyoM4/q/rUoy/CXh3jzOu3bHUVZeU+DEn8FInkPBFlu3+nW3Nw0mk6vCDiWg8CeJaxEwuHS3+z5RgY+YBR6V1Z1nxSOfoaPa4LASWxxdNp+VWTk7+4vzaou8v8PN+xo+KY2xsw6une2frhw05CTYOmQvsEhjhWjn0bmXPjpE1+kplmmkP3suftwTubK9Vq22qKmrBhpY4jvd5afdRA3wGjFAgcnTK2s4hY0/GPNIb0nErGMCRxWOOX64Z8RAC4oCXdklmEvcL8o0BfkNK4lUg9HTl+oPlQxdNo3Mg4Nv175e/1LDGzZen30MEjRUtmXSfiTVu1kK8W4txyV6BMKlbgk3lMwYCiusNy9fVfvvwMxv8Ynl6vxoByANLTWplvuj/nF9m2+PDtt1eiHPBr1oIfhCChQMBw6Aw0UulqTKZdfVvfG7VcfIqLG9bcldL/+pdWTLxLUy8Qq38heUIjh4XlzZxzQm19lLFlr8vdQ97rjZVOLf8nclzckbcD4wxXMidpX30sFd37Fv/GtwwhzhxGVAprjbg0gCAEeIgwCZyTV2Z1REEW8O4py0wsjeloKoMr6iCY6dP92H6Vw/oTyICIthibxjm/DfN9lVz8IqtqKYLUXfoKVMVQVVJOElGjrnnUt9T9wbgp8AyYKaGlqingHZU/uG2NTZSVqwHQTWkx9hxjkpWDaCg6Ckj5qebgBVbT3V3NNXMSiWSDdGV3hrtzla7J+duwPOToIg42ChPQOQjspnSlp1V+Gjdged7+8UN5CRAV7a5EdFNwCjEaBR27b3W890TE7g24NAP/mMDXRWrGoFPQI9ls/MWO2dWFAar/xcOIImbbpA3zgAAAABJRU5ErkJggg==);\n",
       "        }\n",
       "    </style>\n",
       "    <div>\n",
       "        <a href=\"https://bokeh.org\" target=\"_blank\" class=\"bk-notebook-logo\"></a>\n",
       "        <span id=\"ad2fd263-89db-46ae-b3ed-aa8e45534c43\">Loading BokehJS ...</span>\n",
       "    </div>\n"
      ]
     },
     "metadata": {},
     "output_type": "display_data"
    },
    {
     "data": {
      "application/javascript": "'use strict';\n(function(root) {\n  function now() {\n    return new Date();\n  }\n\n  const force = true;\n\n  if (typeof root._bokeh_onload_callbacks === \"undefined\" || force === true) {\n    root._bokeh_onload_callbacks = [];\n    root._bokeh_is_loading = undefined;\n  }\n\nconst JS_MIME_TYPE = 'application/javascript';\n  const HTML_MIME_TYPE = 'text/html';\n  const EXEC_MIME_TYPE = 'application/vnd.bokehjs_exec.v0+json';\n  const CLASS_NAME = 'output_bokeh rendered_html';\n\n  /**\n   * Render data to the DOM node\n   */\n  function render(props, node) {\n    const script = document.createElement(\"script\");\n    node.appendChild(script);\n  }\n\n  /**\n   * Handle when an output is cleared or removed\n   */\n  function handleClearOutput(event, handle) {\n    function drop(id) {\n      const view = Bokeh.index.get_by_id(id)\n      if (view != null) {\n        view.model.document.clear()\n        Bokeh.index.delete(view)\n      }\n    }\n\n    const cell = handle.cell;\n\n    const id = cell.output_area._bokeh_element_id;\n    const server_id = cell.output_area._bokeh_server_id;\n\n    // Clean up Bokeh references\n    if (id != null) {\n      drop(id)\n    }\n\n    if (server_id !== undefined) {\n      // Clean up Bokeh references\n      const cmd_clean = \"from bokeh.io.state import curstate; print(curstate().uuid_to_server['\" + server_id + \"'].get_sessions()[0].document.roots[0]._id)\";\n      cell.notebook.kernel.execute(cmd_clean, {\n        iopub: {\n          output: function(msg) {\n            const id = msg.content.text.trim()\n            drop(id)\n          }\n        }\n      });\n      // Destroy server and session\n      const cmd_destroy = \"import bokeh.io.notebook as ion; ion.destroy_server('\" + server_id + \"')\";\n      cell.notebook.kernel.execute(cmd_destroy);\n    }\n  }\n\n  /**\n   * Handle when a new output is added\n   */\n  function handleAddOutput(event, handle) {\n    const output_area = handle.output_area;\n    const output = handle.output;\n\n    // limit handleAddOutput to display_data with EXEC_MIME_TYPE content only\n    if ((output.output_type != \"display_data\") || (!Object.prototype.hasOwnProperty.call(output.data, EXEC_MIME_TYPE))) {\n      return\n    }\n\n    const toinsert = output_area.element.find(\".\" + CLASS_NAME.split(' ')[0]);\n\n    if (output.metadata[EXEC_MIME_TYPE][\"id\"] !== undefined) {\n      toinsert[toinsert.length - 1].firstChild.textContent = output.data[JS_MIME_TYPE];\n      // store reference to embed id on output_area\n      output_area._bokeh_element_id = output.metadata[EXEC_MIME_TYPE][\"id\"];\n    }\n    if (output.metadata[EXEC_MIME_TYPE][\"server_id\"] !== undefined) {\n      const bk_div = document.createElement(\"div\");\n      bk_div.innerHTML = output.data[HTML_MIME_TYPE];\n      const script_attrs = bk_div.children[0].attributes;\n      for (let i = 0; i < script_attrs.length; i++) {\n        toinsert[toinsert.length - 1].firstChild.setAttribute(script_attrs[i].name, script_attrs[i].value);\n        toinsert[toinsert.length - 1].firstChild.textContent = bk_div.children[0].textContent\n      }\n      // store reference to server id on output_area\n      output_area._bokeh_server_id = output.metadata[EXEC_MIME_TYPE][\"server_id\"];\n    }\n  }\n\n  function register_renderer(events, OutputArea) {\n\n    function append_mime(data, metadata, element) {\n      // create a DOM node to render to\n      const toinsert = this.create_output_subarea(\n        metadata,\n        CLASS_NAME,\n        EXEC_MIME_TYPE\n      );\n      this.keyboard_manager.register_events(toinsert);\n      // Render to node\n      const props = {data: data, metadata: metadata[EXEC_MIME_TYPE]};\n      render(props, toinsert[toinsert.length - 1]);\n      element.append(toinsert);\n      return toinsert\n    }\n\n    /* Handle when an output is cleared or removed */\n    events.on('clear_output.CodeCell', handleClearOutput);\n    events.on('delete.Cell', handleClearOutput);\n\n    /* Handle when a new output is added */\n    events.on('output_added.OutputArea', handleAddOutput);\n\n    /**\n     * Register the mime type and append_mime function with output_area\n     */\n    OutputArea.prototype.register_mime_type(EXEC_MIME_TYPE, append_mime, {\n      /* Is output safe? */\n      safe: true,\n      /* Index of renderer in `output_area.display_order` */\n      index: 0\n    });\n  }\n\n  // register the mime type if in Jupyter Notebook environment and previously unregistered\n  if (root.Jupyter !== undefined) {\n    const events = require('base/js/events');\n    const OutputArea = require('notebook/js/outputarea').OutputArea;\n\n    if (OutputArea.prototype.mime_types().indexOf(EXEC_MIME_TYPE) == -1) {\n      register_renderer(events, OutputArea);\n    }\n  }\n  if (typeof (root._bokeh_timeout) === \"undefined\" || force === true) {\n    root._bokeh_timeout = Date.now() + 5000;\n    root._bokeh_failed_load = false;\n  }\n\n  const NB_LOAD_WARNING = {'data': {'text/html':\n     \"<div style='background-color: #fdd'>\\n\"+\n     \"<p>\\n\"+\n     \"BokehJS does not appear to have successfully loaded. If loading BokehJS from CDN, this \\n\"+\n     \"may be due to a slow or bad network connection. Possible fixes:\\n\"+\n     \"</p>\\n\"+\n     \"<ul>\\n\"+\n     \"<li>re-rerun `output_notebook()` to attempt to load from CDN again, or</li>\\n\"+\n     \"<li>use INLINE resources instead, as so:</li>\\n\"+\n     \"</ul>\\n\"+\n     \"<code>\\n\"+\n     \"from bokeh.resources import INLINE\\n\"+\n     \"output_notebook(resources=INLINE)\\n\"+\n     \"</code>\\n\"+\n     \"</div>\"}};\n\n  function display_loaded(error = null) {\n    const el = document.getElementById(\"ad2fd263-89db-46ae-b3ed-aa8e45534c43\");\n    if (el != null) {\n      const html = (() => {\n        if (typeof root.Bokeh === \"undefined\") {\n          if (error == null) {\n            return \"BokehJS is loading ...\";\n          } else {\n            return \"BokehJS failed to load.\";\n          }\n        } else {\n          const prefix = `BokehJS ${root.Bokeh.version}`;\n          if (error == null) {\n            return `${prefix} successfully loaded.`;\n          } else {\n            return `${prefix} <b>encountered errors</b> while loading and may not function as expected.`;\n          }\n        }\n      })();\n      el.innerHTML = html;\n\n      if (error != null) {\n        const wrapper = document.createElement(\"div\");\n        wrapper.style.overflow = \"auto\";\n        wrapper.style.height = \"5em\";\n        wrapper.style.resize = \"vertical\";\n        const content = document.createElement(\"div\");\n        content.style.fontFamily = \"monospace\";\n        content.style.whiteSpace = \"pre-wrap\";\n        content.style.backgroundColor = \"rgb(255, 221, 221)\";\n        content.textContent = error.stack ?? error.toString();\n        wrapper.append(content);\n        el.append(wrapper);\n      }\n    } else if (Date.now() < root._bokeh_timeout) {\n      setTimeout(() => display_loaded(error), 100);\n    }\n  }\n\n  function run_callbacks() {\n    try {\n      root._bokeh_onload_callbacks.forEach(function(callback) {\n        if (callback != null)\n          callback();\n      });\n    } finally {\n      delete root._bokeh_onload_callbacks\n    }\n    console.debug(\"Bokeh: all callbacks have finished\");\n  }\n\n  function load_libs(css_urls, js_urls, callback) {\n    if (css_urls == null) css_urls = [];\n    if (js_urls == null) js_urls = [];\n\n    root._bokeh_onload_callbacks.push(callback);\n    if (root._bokeh_is_loading > 0) {\n      console.debug(\"Bokeh: BokehJS is being loaded, scheduling callback at\", now());\n      return null;\n    }\n    if (js_urls == null || js_urls.length === 0) {\n      run_callbacks();\n      return null;\n    }\n    console.debug(\"Bokeh: BokehJS not loaded, scheduling load and callback at\", now());\n    root._bokeh_is_loading = css_urls.length + js_urls.length;\n\n    function on_load() {\n      root._bokeh_is_loading--;\n      if (root._bokeh_is_loading === 0) {\n        console.debug(\"Bokeh: all BokehJS libraries/stylesheets loaded\");\n        run_callbacks()\n      }\n    }\n\n    function on_error(url) {\n      console.error(\"failed to load \" + url);\n    }\n\n    for (let i = 0; i < css_urls.length; i++) {\n      const url = css_urls[i];\n      const element = document.createElement(\"link\");\n      element.onload = on_load;\n      element.onerror = on_error.bind(null, url);\n      element.rel = \"stylesheet\";\n      element.type = \"text/css\";\n      element.href = url;\n      console.debug(\"Bokeh: injecting link tag for BokehJS stylesheet: \", url);\n      document.body.appendChild(element);\n    }\n\n    for (let i = 0; i < js_urls.length; i++) {\n      const url = js_urls[i];\n      const element = document.createElement('script');\n      element.onload = on_load;\n      element.onerror = on_error.bind(null, url);\n      element.async = false;\n      element.src = url;\n      console.debug(\"Bokeh: injecting script tag for BokehJS library: \", url);\n      document.head.appendChild(element);\n    }\n  };\n\n  function inject_raw_css(css) {\n    const element = document.createElement(\"style\");\n    element.appendChild(document.createTextNode(css));\n    document.body.appendChild(element);\n  }\n\n  const js_urls = [\"https://cdn.bokeh.org/bokeh/release/bokeh-3.4.3.min.js\", \"https://cdn.bokeh.org/bokeh/release/bokeh-gl-3.4.3.min.js\", \"https://cdn.bokeh.org/bokeh/release/bokeh-widgets-3.4.3.min.js\", \"https://cdn.bokeh.org/bokeh/release/bokeh-tables-3.4.3.min.js\", \"https://cdn.bokeh.org/bokeh/release/bokeh-mathjax-3.4.3.min.js\"];\n  const css_urls = [];\n\n  const inline_js = [    function(Bokeh) {\n      Bokeh.set_log_level(\"info\");\n    },\nfunction(Bokeh) {\n    }\n  ];\n\n  function run_inline_js() {\n    if (root.Bokeh !== undefined || force === true) {\n      try {\n            for (let i = 0; i < inline_js.length; i++) {\n      inline_js[i].call(root, root.Bokeh);\n    }\n\n      } catch (error) {display_loaded(error);throw error;\n      }if (force === true) {\n        display_loaded();\n      }} else if (Date.now() < root._bokeh_timeout) {\n      setTimeout(run_inline_js, 100);\n    } else if (!root._bokeh_failed_load) {\n      console.log(\"Bokeh: BokehJS failed to load within specified timeout.\");\n      root._bokeh_failed_load = true;\n    } else if (force !== true) {\n      const cell = $(document.getElementById(\"ad2fd263-89db-46ae-b3ed-aa8e45534c43\")).parents('.cell').data().cell;\n      cell.output_area.append_execute_result(NB_LOAD_WARNING)\n    }\n  }\n\n  if (root._bokeh_is_loading === 0) {\n    console.debug(\"Bokeh: BokehJS loaded, going straight to plotting\");\n    run_inline_js();\n  } else {\n    load_libs(css_urls, js_urls, function() {\n      console.debug(\"Bokeh: BokehJS plotting callback run at\", now());\n      run_inline_js();\n    });\n  }\n}(window));",
      "application/vnd.bokehjs_load.v0+json": "'use strict';\n(function(root) {\n  function now() {\n    return new Date();\n  }\n\n  const force = true;\n\n  if (typeof root._bokeh_onload_callbacks === \"undefined\" || force === true) {\n    root._bokeh_onload_callbacks = [];\n    root._bokeh_is_loading = undefined;\n  }\n\n\n  if (typeof (root._bokeh_timeout) === \"undefined\" || force === true) {\n    root._bokeh_timeout = Date.now() + 5000;\n    root._bokeh_failed_load = false;\n  }\n\n  const NB_LOAD_WARNING = {'data': {'text/html':\n     \"<div style='background-color: #fdd'>\\n\"+\n     \"<p>\\n\"+\n     \"BokehJS does not appear to have successfully loaded. If loading BokehJS from CDN, this \\n\"+\n     \"may be due to a slow or bad network connection. Possible fixes:\\n\"+\n     \"</p>\\n\"+\n     \"<ul>\\n\"+\n     \"<li>re-rerun `output_notebook()` to attempt to load from CDN again, or</li>\\n\"+\n     \"<li>use INLINE resources instead, as so:</li>\\n\"+\n     \"</ul>\\n\"+\n     \"<code>\\n\"+\n     \"from bokeh.resources import INLINE\\n\"+\n     \"output_notebook(resources=INLINE)\\n\"+\n     \"</code>\\n\"+\n     \"</div>\"}};\n\n  function display_loaded(error = null) {\n    const el = document.getElementById(\"ad2fd263-89db-46ae-b3ed-aa8e45534c43\");\n    if (el != null) {\n      const html = (() => {\n        if (typeof root.Bokeh === \"undefined\") {\n          if (error == null) {\n            return \"BokehJS is loading ...\";\n          } else {\n            return \"BokehJS failed to load.\";\n          }\n        } else {\n          const prefix = `BokehJS ${root.Bokeh.version}`;\n          if (error == null) {\n            return `${prefix} successfully loaded.`;\n          } else {\n            return `${prefix} <b>encountered errors</b> while loading and may not function as expected.`;\n          }\n        }\n      })();\n      el.innerHTML = html;\n\n      if (error != null) {\n        const wrapper = document.createElement(\"div\");\n        wrapper.style.overflow = \"auto\";\n        wrapper.style.height = \"5em\";\n        wrapper.style.resize = \"vertical\";\n        const content = document.createElement(\"div\");\n        content.style.fontFamily = \"monospace\";\n        content.style.whiteSpace = \"pre-wrap\";\n        content.style.backgroundColor = \"rgb(255, 221, 221)\";\n        content.textContent = error.stack ?? error.toString();\n        wrapper.append(content);\n        el.append(wrapper);\n      }\n    } else if (Date.now() < root._bokeh_timeout) {\n      setTimeout(() => display_loaded(error), 100);\n    }\n  }\n\n  function run_callbacks() {\n    try {\n      root._bokeh_onload_callbacks.forEach(function(callback) {\n        if (callback != null)\n          callback();\n      });\n    } finally {\n      delete root._bokeh_onload_callbacks\n    }\n    console.debug(\"Bokeh: all callbacks have finished\");\n  }\n\n  function load_libs(css_urls, js_urls, callback) {\n    if (css_urls == null) css_urls = [];\n    if (js_urls == null) js_urls = [];\n\n    root._bokeh_onload_callbacks.push(callback);\n    if (root._bokeh_is_loading > 0) {\n      console.debug(\"Bokeh: BokehJS is being loaded, scheduling callback at\", now());\n      return null;\n    }\n    if (js_urls == null || js_urls.length === 0) {\n      run_callbacks();\n      return null;\n    }\n    console.debug(\"Bokeh: BokehJS not loaded, scheduling load and callback at\", now());\n    root._bokeh_is_loading = css_urls.length + js_urls.length;\n\n    function on_load() {\n      root._bokeh_is_loading--;\n      if (root._bokeh_is_loading === 0) {\n        console.debug(\"Bokeh: all BokehJS libraries/stylesheets loaded\");\n        run_callbacks()\n      }\n    }\n\n    function on_error(url) {\n      console.error(\"failed to load \" + url);\n    }\n\n    for (let i = 0; i < css_urls.length; i++) {\n      const url = css_urls[i];\n      const element = document.createElement(\"link\");\n      element.onload = on_load;\n      element.onerror = on_error.bind(null, url);\n      element.rel = \"stylesheet\";\n      element.type = \"text/css\";\n      element.href = url;\n      console.debug(\"Bokeh: injecting link tag for BokehJS stylesheet: \", url);\n      document.body.appendChild(element);\n    }\n\n    for (let i = 0; i < js_urls.length; i++) {\n      const url = js_urls[i];\n      const element = document.createElement('script');\n      element.onload = on_load;\n      element.onerror = on_error.bind(null, url);\n      element.async = false;\n      element.src = url;\n      console.debug(\"Bokeh: injecting script tag for BokehJS library: \", url);\n      document.head.appendChild(element);\n    }\n  };\n\n  function inject_raw_css(css) {\n    const element = document.createElement(\"style\");\n    element.appendChild(document.createTextNode(css));\n    document.body.appendChild(element);\n  }\n\n  const js_urls = [\"https://cdn.bokeh.org/bokeh/release/bokeh-3.4.3.min.js\", \"https://cdn.bokeh.org/bokeh/release/bokeh-gl-3.4.3.min.js\", \"https://cdn.bokeh.org/bokeh/release/bokeh-widgets-3.4.3.min.js\", \"https://cdn.bokeh.org/bokeh/release/bokeh-tables-3.4.3.min.js\", \"https://cdn.bokeh.org/bokeh/release/bokeh-mathjax-3.4.3.min.js\"];\n  const css_urls = [];\n\n  const inline_js = [    function(Bokeh) {\n      Bokeh.set_log_level(\"info\");\n    },\nfunction(Bokeh) {\n    }\n  ];\n\n  function run_inline_js() {\n    if (root.Bokeh !== undefined || force === true) {\n      try {\n            for (let i = 0; i < inline_js.length; i++) {\n      inline_js[i].call(root, root.Bokeh);\n    }\n\n      } catch (error) {display_loaded(error);throw error;\n      }if (force === true) {\n        display_loaded();\n      }} else if (Date.now() < root._bokeh_timeout) {\n      setTimeout(run_inline_js, 100);\n    } else if (!root._bokeh_failed_load) {\n      console.log(\"Bokeh: BokehJS failed to load within specified timeout.\");\n      root._bokeh_failed_load = true;\n    } else if (force !== true) {\n      const cell = $(document.getElementById(\"ad2fd263-89db-46ae-b3ed-aa8e45534c43\")).parents('.cell').data().cell;\n      cell.output_area.append_execute_result(NB_LOAD_WARNING)\n    }\n  }\n\n  if (root._bokeh_is_loading === 0) {\n    console.debug(\"Bokeh: BokehJS loaded, going straight to plotting\");\n    run_inline_js();\n  } else {\n    load_libs(css_urls, js_urls, function() {\n      console.debug(\"Bokeh: BokehJS plotting callback run at\", now());\n      run_inline_js();\n    });\n  }\n}(window));"
     },
     "metadata": {},
     "output_type": "display_data"
    },
    {
     "data": {
      "text/html": [
       "\n",
       "  <div id=\"ac646bb5-3899-4162-8e8e-5b0e08f1f84d\" data-root-id=\"p2301\" style=\"display: contents;\"></div>\n"
      ]
     },
     "metadata": {},
     "output_type": "display_data"
    },
    {
     "data": {
      "application/javascript": "(function(root) {\n  function embed_document(root) {\n  const docs_json = {\"7be04d4e-e74d-4af6-890e-e238842e013f\":{\"version\":\"3.4.3\",\"title\":\"Bokeh Application\",\"roots\":[{\"type\":\"object\",\"name\":\"Tabs\",\"id\":\"p2301\",\"attributes\":{\"tabs\":[{\"type\":\"object\",\"name\":\"TabPanel\",\"id\":\"p2291\",\"attributes\":{\"title\":\"Tab 1\",\"child\":{\"type\":\"object\",\"name\":\"Figure\",\"id\":\"p1004\",\"attributes\":{\"width\":800,\"height\":400,\"x_range\":{\"type\":\"object\",\"name\":\"DataRange1d\",\"id\":\"p1006\",\"attributes\":{\"start\":-0.4559,\"end\":5.014900000000001}},\"y_range\":{\"type\":\"object\",\"name\":\"Range1d\",\"id\":\"p1013\",\"attributes\":{\"start\":-0.5,\"end\":5.75}},\"x_scale\":{\"type\":\"object\",\"name\":\"LinearScale\",\"id\":\"p1014\"},\"y_scale\":{\"type\":\"object\",\"name\":\"LinearScale\",\"id\":\"p1015\"},\"title\":{\"type\":\"object\",\"name\":\"Title\",\"id\":\"p1011\",\"attributes\":{\"text_color\":\"#5B5B5B\",\"text_font\":\"Helvetica\",\"text_font_size\":\"1.15em\"}},\"renderers\":[{\"type\":\"object\",\"name\":\"GlyphRenderer\",\"id\":\"p1046\",\"attributes\":{\"data_source\":{\"type\":\"object\",\"name\":\"ColumnDataSource\",\"id\":\"p1037\",\"attributes\":{\"selected\":{\"type\":\"object\",\"name\":\"Selection\",\"id\":\"p1038\",\"attributes\":{\"indices\":[],\"line_indices\":[]}},\"selection_policy\":{\"type\":\"object\",\"name\":\"UnionRenderers\",\"id\":\"p1039\"},\"data\":{\"type\":\"map\",\"entries\":[[\"start\",[-0.000294,-0.000294,-0.000294,-0.000294,0.29370599999999997,0.440853,0.587853,0.587853,0.587853,0.882,0.882,1.029,1.029,1.1761469999999998,1.1761469999999998,1.1761469999999998,1.1761469999999998,1.3231469999999999,1.3231469999999999,1.3231469999999999,1.3231469999999999,1.470294,1.617296,1.617296,1.617296,1.617296,1.765294,1.765294,1.9124409999999998,1.9124409999999998,1.9124409999999998,1.9124409999999998,2.059441,2.059441,2.059441,2.059441,2.3525590000000003,2.3525590000000003,2.3525590000000003,2.646706,2.7937060000000002,2.9408529999999997,2.9408529999999997,2.9408529999999997,3.235,3.235,3.382,3.382,3.529,3.529,3.529,3.6761470000000003,3.6761470000000003,3.6761470000000003,3.823147,3.9702960000000003,3.9702960000000003,3.9702960000000003,4.118294000000001,4.118294000000001,4.265294,4.265294,4.412441,4.412441,4.412441,4.412441,4.5594410000000005,4.5594410000000005]],[\"end\",[0.07320599999999967,0.07320599999999967,0.07320599999999967,0.07320599999999967,0.36720599999999964,0.5143529999999996,0.6613529999999996,0.6613529999999996,0.6613529999999996,0.9554999999999997,0.9554999999999997,1.1024999999999996,1.1024999999999996,1.2496469999999995,1.2496469999999995,1.2496469999999995,1.2496469999999995,1.3966469999999995,1.3966469999999995,1.3966469999999995,1.3966469999999995,1.5437939999999997,1.6907959999999997,1.6907959999999997,1.6907959999999997,1.6907959999999997,1.8387939999999996,1.8387939999999996,1.9859409999999995,1.9859409999999995,1.9859409999999995,1.9859409999999995,2.1329409999999998,2.1329409999999998,2.1329409999999998,2.1329409999999998,2.426059,2.426059,2.426059,2.7202059999999997,2.867206,3.0143529999999994,3.0143529999999994,3.0143529999999994,3.3084999999999996,3.3084999999999996,3.4555,3.4555,3.6024999999999996,3.6024999999999996,3.6024999999999996,3.749647,3.749647,3.749647,3.8966469999999997,4.043796,4.043796,4.043796,4.191794,4.191794,4.338794,4.338794,4.485941,4.485941,4.485941,4.485941,4.632941000000001,4.632941000000001]],[\"instrument\",[\"stream_0\",\"stream_1\",\"stream_2\",\"stream_3\",\"stream_2\",\"stream_2\",\"stream_1\",\"stream_2\",\"stream_3\",\"stream_2\",\"stream_3\",\"stream_2\",\"stream_3\",\"stream_0\",\"stream_1\",\"stream_2\",\"stream_3\",\"stream_0\",\"stream_1\",\"stream_2\",\"stream_3\",\"stream_2\",\"stream_0\",\"stream_1\",\"stream_2\",\"stream_3\",\"stream_2\",\"stream_3\",\"stream_0\",\"stream_1\",\"stream_2\",\"stream_3\",\"stream_0\",\"stream_1\",\"stream_2\",\"stream_3\",\"stream_1\",\"stream_2\",\"stream_3\",\"stream_2\",\"stream_2\",\"stream_1\",\"stream_2\",\"stream_3\",\"stream_2\",\"stream_3\",\"stream_2\",\"stream_3\",\"stream_1\",\"stream_2\",\"stream_3\",\"stream_1\",\"stream_2\",\"stream_3\",\"stream_2\",\"stream_1\",\"stream_2\",\"stream_3\",\"stream_2\",\"stream_3\",\"stream_1\",\"stream_2\",\"stream_0\",\"stream_1\",\"stream_2\",\"stream_3\",\"stream_0\",\"stream_2\"]],[\"voice_index\",[0,1,2,3,2,2,1,2,3,2,3,2,3,0,1,2,3,0,1,2,3,2,0,1,2,3,2,3,0,1,2,3,0,1,2,3,1,2,3,2,2,1,2,3,2,3,2,3,1,2,3,1,2,3,2,1,2,3,2,3,1,2,0,1,2,3,0,2]],[\"midi\",[36,38,42,46,42,42,38,42,46,42,46,42,46,36,38,42,46,36,38,42,46,42,36,38,42,46,42,46,36,38,42,46,36,38,42,46,38,42,46,42,42,38,42,46,42,46,42,46,38,42,46,38,42,46,42,38,42,46,42,46,38,42,36,38,42,46,36,42]],[\"velocity\",[0.913,0.858,1.0,0.378,0.339,1.0,0.898,1.0,0.457,0.339,0.472,1.0,0.417,0.913,0.898,1.0,0.472,0.913,0.756,1.0,0.52,0.339,0.913,0.858,1.0,0.598,1.0,0.52,0.913,0.819,1.0,0.567,0.913,0.898,1.0,0.472,0.858,1.0,0.417,0.339,1.0,0.937,1.0,0.472,1.0,0.425,0.339,0.283,0.976,1.0,0.362,0.89,1.0,0.543,0.339,0.937,1.0,0.472,1.0,0.504,0.937,1.0,0.913,0.89,1.0,0.52,0.913,1.0]],[\"offset\",[-0.002,-0.002,-0.002,-0.002,-0.002,-0.001,-0.001,-0.001,-0.001,0.0,0.0,0.0,0.0,0.001,0.001,0.001,0.001,0.001,0.001,0.001,0.001,0.002,0.002,0.002,0.002,0.002,0.002,0.002,0.003,0.003,0.003,0.003,0.003,0.003,0.003,0.003,-0.003,-0.003,-0.003,-0.002,-0.002,-0.001,-0.001,-0.001,0.0,0.0,0.0,0.0,0.0,0.0,0.0,0.001,0.001,0.001,0.001,0.002,0.002,0.002,0.002,0.002,0.002,0.002,0.003,0.003,0.003,0.003,0.003,0.003]],[\"offset_sec\",[-0.0,-0.0,-0.0,-0.0,-0.0,-0.0,-0.0,-0.0,-0.0,0.0,0.0,0.0,0.0,0.0,0.0,0.0,0.0,0.0,0.0,0.0,0.0,0.0,0.0,0.0,0.0,0.0,0.0,0.0,0.0,0.0,0.0,0.0,0.0,0.0,0.0,0.0,-0.0,-0.0,-0.0,-0.0,-0.0,-0.0,-0.0,-0.0,0.0,0.0,0.0,0.0,0.0,0.0,0.0,0.0,0.0,0.0,0.0,0.0,0.0,0.0,0.0,0.0,0.0,0.0,0.0,0.0,0.0,0.0,0.0,0.0]],[\"grid_line\",[0,0,0,0,2,3,4,4,4,6,6,7,7,8,8,8,8,9,9,9,9,10,11,11,11,11,12,12,13,13,13,13,14,14,14,14,16,16,16,18,19,20,20,20,22,22,23,23,24,24,24,25,25,25,26,27,27,27,28,28,29,29,30,30,30,30,31,31]],[\"top\",{\"type\":\"ndarray\",\"array\":{\"type\":\"bytes\",\"data\":\"mpmZmZmZyT8zMzMzMzPzP5qZmZmZmQFAmpmZmZmZCUCamZmZmZkBQJqZmZmZmQFAMzMzMzMz8z+amZmZmZkBQJqZmZmZmQlAmpmZmZmZAUCamZmZmZkJQJqZmZmZmQFAmpmZmZmZCUCamZmZmZnJPzMzMzMzM/M/mpmZmZmZAUCamZmZmZkJQJqZmZmZmck/MzMzMzMz8z+amZmZmZkBQJqZmZmZmQlAmpmZmZmZAUCamZmZmZnJPzMzMzMzM/M/mpmZmZmZAUCamZmZmZkJQJqZmZmZmQFAmpmZmZmZCUCamZmZmZnJPzMzMzMzM/M/mpmZmZmZAUCamZmZmZkJQJqZmZmZmck/MzMzMzMz8z+amZmZmZkBQJqZmZmZmQlAMzMzMzMz8z+amZmZmZkBQJqZmZmZmQlAmpmZmZmZAUCamZmZmZkBQDMzMzMzM/M/mpmZmZmZAUCamZmZmZkJQJqZmZmZmQFAmpmZmZmZCUCamZmZmZkBQJqZmZmZmQlAMzMzMzMz8z+amZmZmZkBQJqZmZmZmQlAMzMzMzMz8z+amZmZmZkBQJqZmZmZmQlAmpmZmZmZAUAzMzMzMzPzP5qZmZmZmQFAmpmZmZmZCUCamZmZmZkBQJqZmZmZmQlAMzMzMzMz8z+amZmZmZkBQJqZmZmZmck/MzMzMzMz8z+amZmZmZkBQJqZmZmZmQlAmpmZmZmZyT+amZmZmZkBQA==\"},\"shape\":[68],\"dtype\":\"float64\",\"order\":\"little\"}],[\"bottom\",{\"type\":\"ndarray\",\"array\":{\"type\":\"bytes\",\"data\":\"mpmZmZmZyb+amZmZmZnpP83MzMzMzPw/ZmZmZmZmBkDNzMzMzMz8P83MzMzMzPw/mpmZmZmZ6T/NzMzMzMz8P2ZmZmZmZgZAzczMzMzM/D9mZmZmZmYGQM3MzMzMzPw/ZmZmZmZmBkCamZmZmZnJv5qZmZmZmek/zczMzMzM/D9mZmZmZmYGQJqZmZmZmcm/mpmZmZmZ6T/NzMzMzMz8P2ZmZmZmZgZAzczMzMzM/D+amZmZmZnJv5qZmZmZmek/zczMzMzM/D9mZmZmZmYGQM3MzMzMzPw/ZmZmZmZmBkCamZmZmZnJv5qZmZmZmek/zczMzMzM/D9mZmZmZmYGQJqZmZmZmcm/mpmZmZmZ6T/NzMzMzMz8P2ZmZmZmZgZAmpmZmZmZ6T/NzMzMzMz8P2ZmZmZmZgZAzczMzMzM/D/NzMzMzMz8P5qZmZmZmek/zczMzMzM/D9mZmZmZmYGQM3MzMzMzPw/ZmZmZmZmBkDNzMzMzMz8P2ZmZmZmZgZAmpmZmZmZ6T/NzMzMzMz8P2ZmZmZmZgZAmpmZmZmZ6T/NzMzMzMz8P2ZmZmZmZgZAzczMzMzM/D+amZmZmZnpP83MzMzMzPw/ZmZmZmZmBkDNzMzMzMz8P2ZmZmZmZgZAmpmZmZmZ6T/NzMzMzMz8P5qZmZmZmcm/mpmZmZmZ6T/NzMzMzMz8P2ZmZmZmZgZAmpmZmZmZyb/NzMzMzMz8Pw==\"},\"shape\":[68],\"dtype\":\"float64\",\"order\":\"little\"}]]}}},\"view\":{\"type\":\"object\",\"name\":\"CDSView\",\"id\":\"p1047\",\"attributes\":{\"filter\":{\"type\":\"object\",\"name\":\"AllIndices\",\"id\":\"p1048\"}}},\"glyph\":{\"type\":\"object\",\"name\":\"Quad\",\"id\":\"p1043\",\"attributes\":{\"left\":{\"type\":\"field\",\"field\":\"start\"},\"right\":{\"type\":\"field\",\"field\":\"end\"},\"bottom\":{\"type\":\"field\",\"field\":\"bottom\"},\"top\":{\"type\":\"field\",\"field\":\"top\"},\"line_color\":{\"type\":\"value\",\"value\":\"grey\"},\"fill_color\":{\"type\":\"value\",\"value\":\"grey\"},\"fill_alpha\":{\"type\":\"field\",\"field\":\"velocity\"}}},\"nonselection_glyph\":{\"type\":\"object\",\"name\":\"Quad\",\"id\":\"p1044\",\"attributes\":{\"left\":{\"type\":\"field\",\"field\":\"start\"},\"right\":{\"type\":\"field\",\"field\":\"end\"},\"bottom\":{\"type\":\"field\",\"field\":\"bottom\"},\"top\":{\"type\":\"field\",\"field\":\"top\"},\"line_color\":{\"type\":\"value\",\"value\":\"grey\"},\"line_alpha\":{\"type\":\"value\",\"value\":0.1},\"fill_color\":{\"type\":\"value\",\"value\":\"grey\"},\"fill_alpha\":{\"type\":\"value\",\"value\":0.1},\"hatch_alpha\":{\"type\":\"value\",\"value\":0.1}}},\"muted_glyph\":{\"type\":\"object\",\"name\":\"Quad\",\"id\":\"p1045\",\"attributes\":{\"left\":{\"type\":\"field\",\"field\":\"start\"},\"right\":{\"type\":\"field\",\"field\":\"end\"},\"bottom\":{\"type\":\"field\",\"field\":\"bottom\"},\"top\":{\"type\":\"field\",\"field\":\"top\"},\"line_color\":{\"type\":\"value\",\"value\":\"grey\"},\"line_alpha\":{\"type\":\"value\",\"value\":0.2},\"fill_color\":{\"type\":\"value\",\"value\":\"grey\"},\"fill_alpha\":{\"type\":\"value\",\"value\":0.2},\"hatch_alpha\":{\"type\":\"value\",\"value\":0.2}}}}},{\"type\":\"object\",\"name\":\"GlyphRenderer\",\"id\":\"p1097\",\"attributes\":{\"data_source\":{\"type\":\"object\",\"name\":\"ColumnDataSource\",\"id\":\"p1088\",\"attributes\":{\"selected\":{\"type\":\"object\",\"name\":\"Selection\",\"id\":\"p1089\",\"attributes\":{\"indices\":[],\"line_indices\":[]}},\"selection_policy\":{\"type\":\"object\",\"name\":\"UnionRenderers\",\"id\":\"p1090\"},\"data\":{\"type\":\"map\",\"entries\":[[\"x\",[0.0]],[\"y\",[4.5]],[\"tempo\",[102.0000510000255]],[\"grid_index\",[0]]]}}},\"view\":{\"type\":\"object\",\"name\":\"CDSView\",\"id\":\"p1098\",\"attributes\":{\"filter\":{\"type\":\"object\",\"name\":\"AllIndices\",\"id\":\"p1099\"}}},\"glyph\":{\"type\":\"object\",\"name\":\"Scatter\",\"id\":\"p1094\",\"attributes\":{\"x\":{\"type\":\"field\",\"field\":\"x\"},\"y\":{\"type\":\"field\",\"field\":\"y\"},\"size\":{\"type\":\"value\",\"value\":10},\"line_color\":{\"type\":\"value\",\"value\":\"#440154\"},\"fill_color\":{\"type\":\"value\",\"value\":\"#440154\"}}},\"nonselection_glyph\":{\"type\":\"object\",\"name\":\"Scatter\",\"id\":\"p1095\",\"attributes\":{\"x\":{\"type\":\"field\",\"field\":\"x\"},\"y\":{\"type\":\"field\",\"field\":\"y\"},\"size\":{\"type\":\"value\",\"value\":10},\"line_color\":{\"type\":\"value\",\"value\":\"#440154\"},\"line_alpha\":{\"type\":\"value\",\"value\":0.1},\"fill_color\":{\"type\":\"value\",\"value\":\"#440154\"},\"fill_alpha\":{\"type\":\"value\",\"value\":0.1},\"hatch_alpha\":{\"type\":\"value\",\"value\":0.1}}},\"muted_glyph\":{\"type\":\"object\",\"name\":\"Scatter\",\"id\":\"p1096\",\"attributes\":{\"x\":{\"type\":\"field\",\"field\":\"x\"},\"y\":{\"type\":\"field\",\"field\":\"y\"},\"size\":{\"type\":\"value\",\"value\":10},\"line_color\":{\"type\":\"value\",\"value\":\"#440154\"},\"line_alpha\":{\"type\":\"value\",\"value\":0.2},\"fill_color\":{\"type\":\"value\",\"value\":\"#440154\"},\"fill_alpha\":{\"type\":\"value\",\"value\":0.2},\"hatch_alpha\":{\"type\":\"value\",\"value\":0.2}}}}},{\"type\":\"object\",\"name\":\"GlyphRenderer\",\"id\":\"p1111\",\"attributes\":{\"data_source\":{\"type\":\"object\",\"name\":\"ColumnDataSource\",\"id\":\"p1102\",\"attributes\":{\"selected\":{\"type\":\"object\",\"name\":\"Selection\",\"id\":\"p1103\",\"attributes\":{\"indices\":[],\"line_indices\":[]}},\"selection_policy\":{\"type\":\"object\",\"name\":\"UnionRenderers\",\"id\":\"p1104\"},\"data\":{\"type\":\"map\",\"entries\":[[\"x\",[0.0]],[\"y\",[4]],[\"Numerator\",[4]],[\"Denominator\",[4]],[\"grid_index\",[0]]]}}},\"view\":{\"type\":\"object\",\"name\":\"CDSView\",\"id\":\"p1112\",\"attributes\":{\"filter\":{\"type\":\"object\",\"name\":\"AllIndices\",\"id\":\"p1113\"}}},\"glyph\":{\"type\":\"object\",\"name\":\"Scatter\",\"id\":\"p1108\",\"attributes\":{\"x\":{\"type\":\"field\",\"field\":\"x\"},\"y\":{\"type\":\"field\",\"field\":\"y\"},\"size\":{\"type\":\"value\",\"value\":10},\"line_color\":{\"type\":\"value\",\"value\":\"#70CE56\"},\"fill_color\":{\"type\":\"value\",\"value\":\"#70CE56\"}}},\"nonselection_glyph\":{\"type\":\"object\",\"name\":\"Scatter\",\"id\":\"p1109\",\"attributes\":{\"x\":{\"type\":\"field\",\"field\":\"x\"},\"y\":{\"type\":\"field\",\"field\":\"y\"},\"size\":{\"type\":\"value\",\"value\":10},\"line_color\":{\"type\":\"value\",\"value\":\"#70CE56\"},\"line_alpha\":{\"type\":\"value\",\"value\":0.1},\"fill_color\":{\"type\":\"value\",\"value\":\"#70CE56\"},\"fill_alpha\":{\"type\":\"value\",\"value\":0.1},\"hatch_alpha\":{\"type\":\"value\",\"value\":0.1}}},\"muted_glyph\":{\"type\":\"object\",\"name\":\"Scatter\",\"id\":\"p1110\",\"attributes\":{\"x\":{\"type\":\"field\",\"field\":\"x\"},\"y\":{\"type\":\"field\",\"field\":\"y\"},\"size\":{\"type\":\"value\",\"value\":10},\"line_color\":{\"type\":\"value\",\"value\":\"#70CE56\"},\"line_alpha\":{\"type\":\"value\",\"value\":0.2},\"fill_color\":{\"type\":\"value\",\"value\":\"#70CE56\"},\"fill_alpha\":{\"type\":\"value\",\"value\":0.2},\"hatch_alpha\":{\"type\":\"value\",\"value\":0.2}}}}},{\"type\":\"object\",\"name\":\"GlyphRenderer\",\"id\":\"p1125\",\"attributes\":{\"data_source\":{\"type\":\"object\",\"name\":\"ColumnDataSource\",\"id\":\"p1116\",\"attributes\":{\"selected\":{\"type\":\"object\",\"name\":\"Selection\",\"id\":\"p1117\",\"attributes\":{\"indices\":[],\"line_indices\":[]}},\"selection_policy\":{\"type\":\"object\",\"name\":\"UnionRenderers\",\"id\":\"p1118\"},\"data\":{\"type\":\"map\",\"entries\":[[\"x\",[0.0]],[\"y\",[3.5]],[\"filename\",[\"5382749461010f7bf3e83b1cc56b0dae_guitar.mid\"]],[\"main_file\",[\"5382749461010f7bf3e83b1cc56b0dae\"]],[\"instrument\",[\"guitar\"]],[\"source\",[\"Lakh MIDI\"]],[\"stream_0\",[\"brass\"]],[\"stream_1\",[\"bass\"]],[\"stream_2\",[\"drum\"]],[\"stream_3\",[\"guitar\"]],[\"start_bar\",[6]],[\"collection\",[\"lmd_batch_56_filtered\"]],[\"sample_id\",[\"5382749461010f7bf3e83b1cc56b0dae\"]]]}}},\"view\":{\"type\":\"object\",\"name\":\"CDSView\",\"id\":\"p1126\",\"attributes\":{\"filter\":{\"type\":\"object\",\"name\":\"AllIndices\",\"id\":\"p1127\"}}},\"glyph\":{\"type\":\"object\",\"name\":\"Scatter\",\"id\":\"p1122\",\"attributes\":{\"x\":{\"type\":\"field\",\"field\":\"x\"},\"y\":{\"type\":\"field\",\"field\":\"y\"},\"size\":{\"type\":\"value\",\"value\":10},\"line_color\":{\"type\":\"value\",\"value\":\"#1EA087\"},\"fill_color\":{\"type\":\"value\",\"value\":\"#1EA087\"}}},\"nonselection_glyph\":{\"type\":\"object\",\"name\":\"Scatter\",\"id\":\"p1123\",\"attributes\":{\"x\":{\"type\":\"field\",\"field\":\"x\"},\"y\":{\"type\":\"field\",\"field\":\"y\"},\"size\":{\"type\":\"value\",\"value\":10},\"line_color\":{\"type\":\"value\",\"value\":\"#1EA087\"},\"line_alpha\":{\"type\":\"value\",\"value\":0.1},\"fill_color\":{\"type\":\"value\",\"value\":\"#1EA087\"},\"fill_alpha\":{\"type\":\"value\",\"value\":0.1},\"hatch_alpha\":{\"type\":\"value\",\"value\":0.1}}},\"muted_glyph\":{\"type\":\"object\",\"name\":\"Scatter\",\"id\":\"p1124\",\"attributes\":{\"x\":{\"type\":\"field\",\"field\":\"x\"},\"y\":{\"type\":\"field\",\"field\":\"y\"},\"size\":{\"type\":\"value\",\"value\":10},\"line_color\":{\"type\":\"value\",\"value\":\"#1EA087\"},\"line_alpha\":{\"type\":\"value\",\"value\":0.2},\"fill_color\":{\"type\":\"value\",\"value\":\"#1EA087\"},\"fill_alpha\":{\"type\":\"value\",\"value\":0.2},\"hatch_alpha\":{\"type\":\"value\",\"value\":0.2}}}}}],\"toolbar\":{\"type\":\"object\",\"name\":\"Toolbar\",\"id\":\"p1012\",\"attributes\":{\"tools\":[{\"type\":\"object\",\"name\":\"PanTool\",\"id\":\"p1026\"},{\"type\":\"object\",\"name\":\"WheelZoomTool\",\"id\":\"p1027\",\"attributes\":{\"renderers\":\"auto\"}},{\"type\":\"object\",\"name\":\"BoxZoomTool\",\"id\":\"p1028\",\"attributes\":{\"overlay\":{\"type\":\"object\",\"name\":\"BoxAnnotation\",\"id\":\"p1029\",\"attributes\":{\"syncable\":false,\"level\":\"overlay\",\"visible\":false,\"left\":{\"type\":\"number\",\"value\":\"nan\"},\"right\":{\"type\":\"number\",\"value\":\"nan\"},\"top\":{\"type\":\"number\",\"value\":\"nan\"},\"bottom\":{\"type\":\"number\",\"value\":\"nan\"},\"left_units\":\"canvas\",\"right_units\":\"canvas\",\"top_units\":\"canvas\",\"bottom_units\":\"canvas\",\"line_color\":\"black\",\"line_alpha\":1.0,\"line_width\":2,\"line_dash\":[4,4],\"fill_color\":\"lightgrey\",\"fill_alpha\":0.5}}}},{\"type\":\"object\",\"name\":\"SaveTool\",\"id\":\"p1034\"},{\"type\":\"object\",\"name\":\"ResetTool\",\"id\":\"p1035\"},{\"type\":\"object\",\"name\":\"HelpTool\",\"id\":\"p1036\"},{\"type\":\"object\",\"name\":\"HoverTool\",\"id\":\"p1051\",\"attributes\":{\"renderers\":[{\"id\":\"p1046\"}],\"tooltips\":[[\"start\",\"@start\"],[\"end\",\"@end\"],[\"instrument\",\"@instrument\"],[\"voice_index\",\"@voice_index\"],[\"midi\",\"@midi\"],[\"velocity\",\"@velocity\"],[\"offset\",\"@offset\"],[\"offset_sec\",\"@offset_sec\"],[\"grid_line\",\"@grid_line\"]]}},{\"type\":\"object\",\"name\":\"HoverTool\",\"id\":\"p1101\",\"attributes\":{\"renderers\":[{\"id\":\"p1097\"}],\"tooltips\":[[\"tempo\",\"@tempo\"],[\"grid_index\",\"@grid_index\"]]}},{\"type\":\"object\",\"name\":\"HoverTool\",\"id\":\"p1115\",\"attributes\":{\"renderers\":[{\"id\":\"p1111\"}],\"tooltips\":[[\"Numerator\",\"@Numerator\"],[\"Denominator\",\"@Denominator\"],[\"grid_index\",\"@grid_index\"]]}},{\"type\":\"object\",\"name\":\"HoverTool\",\"id\":\"p1129\",\"attributes\":{\"renderers\":[{\"id\":\"p1125\"}],\"tooltips\":[[\"filename\",\"@filename\"],[\"main_file\",\"@main_file\"],[\"instrument\",\"@instrument\"],[\"source\",\"@source\"],[\"stream_0\",\"@stream_0\"],[\"stream_1\",\"@stream_1\"],[\"stream_2\",\"@stream_2\"],[\"stream_3\",\"@stream_3\"],[\"start_bar\",\"@start_bar\"],[\"collection\",\"@collection\"],[\"sample_id\",\"@sample_id\"]]}}]}},\"left\":[{\"type\":\"object\",\"name\":\"LinearAxis\",\"id\":\"p1021\",\"attributes\":{\"ticker\":{\"type\":\"object\",\"name\":\"FixedTicker\",\"id\":\"p1052\",\"attributes\":{\"ticks\":[0,1,2,3],\"minor_ticks\":[]}},\"formatter\":{\"type\":\"object\",\"name\":\"BasicTickFormatter\",\"id\":\"p1023\"},\"axis_label\":\"Instrument\",\"axis_label_standoff\":10,\"axis_label_text_color\":\"#5B5B5B\",\"axis_label_text_font\":\"Helvetica\",\"axis_label_text_font_size\":\"1.25em\",\"axis_label_text_font_style\":\"normal\",\"major_label_overrides\":{\"type\":\"map\",\"entries\":[[0,\"stream_0\"],[1,\"stream_1\"],[2,\"stream_2\"],[3,\"stream_3\"]]},\"major_label_policy\":{\"type\":\"object\",\"name\":\"AllLabels\",\"id\":\"p1024\"},\"major_label_text_color\":\"#5B5B5B\",\"major_label_text_font\":\"Helvetica\",\"major_label_text_font_size\":\"1.025em\",\"axis_line_color\":\"#5B5B5B\",\"axis_line_alpha\":0,\"major_tick_line_color\":\"#5B5B5B\",\"major_tick_line_alpha\":0,\"minor_tick_line_color\":\"#5B5B5B\",\"minor_tick_line_alpha\":0}}],\"right\":[{\"type\":\"object\",\"name\":\"Legend\",\"id\":\"p1049\",\"attributes\":{\"border_line_alpha\":0,\"background_fill_alpha\":0.25,\"click_policy\":\"hide\",\"label_text_color\":\"#5B5B5B\",\"label_text_font\":\"Helvetica\",\"label_text_font_size\":\"1.025em\",\"label_standoff\":8,\"glyph_width\":15,\"spacing\":8,\"items\":[{\"type\":\"object\",\"name\":\"LegendItem\",\"id\":\"p1050\",\"attributes\":{\"label\":{\"type\":\"value\",\"value\":\"Piano Roll\"},\"renderers\":[{\"id\":\"p1046\"}]}},{\"type\":\"object\",\"name\":\"LegendItem\",\"id\":\"p1100\",\"attributes\":{\"label\":{\"type\":\"value\",\"value\":\"Tempo\"},\"renderers\":[{\"id\":\"p1097\"}]}},{\"type\":\"object\",\"name\":\"LegendItem\",\"id\":\"p1114\",\"attributes\":{\"label\":{\"type\":\"value\",\"value\":\"Time Signature\"},\"renderers\":[{\"id\":\"p1111\"}]}},{\"type\":\"object\",\"name\":\"LegendItem\",\"id\":\"p1128\",\"attributes\":{\"label\":{\"type\":\"value\",\"value\":\"Metadata\"},\"renderers\":[{\"id\":\"p1125\"}]}}]}}],\"below\":[{\"type\":\"object\",\"name\":\"LinearAxis\",\"id\":\"p1016\",\"attributes\":{\"ticker\":{\"type\":\"object\",\"name\":\"FixedTicker\",\"id\":\"p1077\",\"attributes\":{\"ticks\":[0.0,0.59,1.18,1.76,2.35,2.94,3.53,4.12],\"minor_ticks\":[]}},\"formatter\":{\"type\":\"object\",\"name\":\"BasicTickFormatter\",\"id\":\"p1018\"},\"axis_label\":\"Time (sec)\",\"axis_label_standoff\":10,\"axis_label_text_color\":\"#5B5B5B\",\"axis_label_text_font\":\"Helvetica\",\"axis_label_text_font_size\":\"1.25em\",\"axis_label_text_font_style\":\"normal\",\"major_label_orientation\":1.57,\"major_label_policy\":{\"type\":\"object\",\"name\":\"AllLabels\",\"id\":\"p1019\"},\"major_label_text_color\":\"#5B5B5B\",\"major_label_text_font\":\"Helvetica\",\"major_label_text_font_size\":\"1.025em\",\"axis_line_color\":\"#5B5B5B\",\"axis_line_alpha\":0,\"major_tick_line_color\":\"#5B5B5B\",\"major_tick_line_alpha\":0,\"minor_tick_line_color\":\"#5B5B5B\",\"minor_tick_line_alpha\":0}}],\"center\":[{\"type\":\"object\",\"name\":\"Grid\",\"id\":\"p1020\",\"attributes\":{\"axis\":{\"id\":\"p1016\"},\"grid_line_color\":null}},{\"type\":\"object\",\"name\":\"Grid\",\"id\":\"p1025\",\"attributes\":{\"dimension\":1,\"axis\":{\"id\":\"p1021\"},\"grid_line_color\":null}},{\"id\":\"p1049\"},{\"type\":\"object\",\"name\":\"Span\",\"id\":\"p1053\",\"attributes\":{\"location\":0.147,\"dimension\":\"height\",\"line_width\":0.1}},{\"type\":\"object\",\"name\":\"Span\",\"id\":\"p1054\",\"attributes\":{\"location\":0.294,\"dimension\":\"height\",\"line_width\":0.1}},{\"type\":\"object\",\"name\":\"Span\",\"id\":\"p1055\",\"attributes\":{\"location\":0.441,\"dimension\":\"height\",\"line_width\":0.1}},{\"type\":\"object\",\"name\":\"Span\",\"id\":\"p1056\",\"attributes\":{\"location\":0.735,\"dimension\":\"height\",\"line_width\":0.1}},{\"type\":\"object\",\"name\":\"Span\",\"id\":\"p1057\",\"attributes\":{\"location\":0.882,\"dimension\":\"height\",\"line_width\":0.1}},{\"type\":\"object\",\"name\":\"Span\",\"id\":\"p1058\",\"attributes\":{\"location\":1.029,\"dimension\":\"height\",\"line_width\":0.1}},{\"type\":\"object\",\"name\":\"Span\",\"id\":\"p1059\",\"attributes\":{\"location\":1.323,\"dimension\":\"height\",\"line_width\":0.1}},{\"type\":\"object\",\"name\":\"Span\",\"id\":\"p1060\",\"attributes\":{\"location\":1.47,\"dimension\":\"height\",\"line_width\":0.1}},{\"type\":\"object\",\"name\":\"Span\",\"id\":\"p1061\",\"attributes\":{\"location\":1.617,\"dimension\":\"height\",\"line_width\":0.1}},{\"type\":\"object\",\"name\":\"Span\",\"id\":\"p1062\",\"attributes\":{\"location\":1.912,\"dimension\":\"height\",\"line_width\":0.1}},{\"type\":\"object\",\"name\":\"Span\",\"id\":\"p1063\",\"attributes\":{\"location\":2.059,\"dimension\":\"height\",\"line_width\":0.1}},{\"type\":\"object\",\"name\":\"Span\",\"id\":\"p1064\",\"attributes\":{\"location\":2.206,\"dimension\":\"height\",\"line_width\":0.1}},{\"type\":\"object\",\"name\":\"Span\",\"id\":\"p1065\",\"attributes\":{\"location\":2.5,\"dimension\":\"height\",\"line_width\":0.1}},{\"type\":\"object\",\"name\":\"Span\",\"id\":\"p1066\",\"attributes\":{\"location\":2.647,\"dimension\":\"height\",\"line_width\":0.1}},{\"type\":\"object\",\"name\":\"Span\",\"id\":\"p1067\",\"attributes\":{\"location\":2.794,\"dimension\":\"height\",\"line_width\":0.1}},{\"type\":\"object\",\"name\":\"Span\",\"id\":\"p1068\",\"attributes\":{\"location\":3.088,\"dimension\":\"height\",\"line_width\":0.1}},{\"type\":\"object\",\"name\":\"Span\",\"id\":\"p1069\",\"attributes\":{\"location\":3.235,\"dimension\":\"height\",\"line_width\":0.1}},{\"type\":\"object\",\"name\":\"Span\",\"id\":\"p1070\",\"attributes\":{\"location\":3.382,\"dimension\":\"height\",\"line_width\":0.1}},{\"type\":\"object\",\"name\":\"Span\",\"id\":\"p1071\",\"attributes\":{\"location\":3.676,\"dimension\":\"height\",\"line_width\":0.1}},{\"type\":\"object\",\"name\":\"Span\",\"id\":\"p1072\",\"attributes\":{\"location\":3.823,\"dimension\":\"height\",\"line_width\":0.1}},{\"type\":\"object\",\"name\":\"Span\",\"id\":\"p1073\",\"attributes\":{\"location\":3.97,\"dimension\":\"height\",\"line_width\":0.1}},{\"type\":\"object\",\"name\":\"Span\",\"id\":\"p1074\",\"attributes\":{\"location\":4.265,\"dimension\":\"height\",\"line_width\":0.1}},{\"type\":\"object\",\"name\":\"Span\",\"id\":\"p1075\",\"attributes\":{\"location\":4.412,\"dimension\":\"height\",\"line_width\":0.1}},{\"type\":\"object\",\"name\":\"Span\",\"id\":\"p1076\",\"attributes\":{\"location\":4.559,\"dimension\":\"height\",\"line_width\":0.1}},{\"type\":\"object\",\"name\":\"Span\",\"id\":\"p1078\",\"attributes\":{\"location\":0.0,\"dimension\":\"height\",\"line_width\":0.5}},{\"type\":\"object\",\"name\":\"Span\",\"id\":\"p1079\",\"attributes\":{\"location\":0.588,\"dimension\":\"height\",\"line_width\":0.5}},{\"type\":\"object\",\"name\":\"Span\",\"id\":\"p1080\",\"attributes\":{\"location\":1.176,\"dimension\":\"height\",\"line_width\":0.5}},{\"type\":\"object\",\"name\":\"Span\",\"id\":\"p1081\",\"attributes\":{\"location\":1.765,\"dimension\":\"height\",\"line_width\":0.5}},{\"type\":\"object\",\"name\":\"Span\",\"id\":\"p1082\",\"attributes\":{\"location\":2.353,\"dimension\":\"height\",\"line_width\":0.5}},{\"type\":\"object\",\"name\":\"Span\",\"id\":\"p1083\",\"attributes\":{\"location\":2.941,\"dimension\":\"height\",\"line_width\":0.5}},{\"type\":\"object\",\"name\":\"Span\",\"id\":\"p1084\",\"attributes\":{\"location\":3.529,\"dimension\":\"height\",\"line_width\":0.5}},{\"type\":\"object\",\"name\":\"Span\",\"id\":\"p1085\",\"attributes\":{\"location\":4.118,\"dimension\":\"height\",\"line_width\":0.5}},{\"type\":\"object\",\"name\":\"Span\",\"id\":\"p1086\",\"attributes\":{\"location\":0.0,\"dimension\":\"height\",\"line_width\":2}},{\"type\":\"object\",\"name\":\"Span\",\"id\":\"p1087\",\"attributes\":{\"location\":2.353,\"dimension\":\"height\",\"line_width\":2}}]}}}},{\"type\":\"object\",\"name\":\"TabPanel\",\"id\":\"p2292\",\"attributes\":{\"title\":\"Tab 2\",\"child\":{\"type\":\"object\",\"name\":\"Figure\",\"id\":\"p1133\",\"attributes\":{\"width\":800,\"height\":400,\"x_range\":{\"type\":\"object\",\"name\":\"DataRange1d\",\"id\":\"p1135\",\"attributes\":{\"start\":-0.4559,\"end\":5.014900000000001}},\"y_range\":{\"type\":\"object\",\"name\":\"Range1d\",\"id\":\"p1142\",\"attributes\":{\"start\":-0.5,\"end\":5.75}},\"x_scale\":{\"type\":\"object\",\"name\":\"LinearScale\",\"id\":\"p1143\"},\"y_scale\":{\"type\":\"object\",\"name\":\"LinearScale\",\"id\":\"p1144\"},\"title\":{\"type\":\"object\",\"name\":\"Title\",\"id\":\"p1140\",\"attributes\":{\"text_color\":\"#5B5B5B\",\"text_font\":\"Helvetica\",\"text_font_size\":\"1.15em\"}},\"renderers\":[{\"type\":\"object\",\"name\":\"GlyphRenderer\",\"id\":\"p1175\",\"attributes\":{\"data_source\":{\"type\":\"object\",\"name\":\"ColumnDataSource\",\"id\":\"p1166\",\"attributes\":{\"selected\":{\"type\":\"object\",\"name\":\"Selection\",\"id\":\"p1167\",\"attributes\":{\"indices\":[],\"line_indices\":[]}},\"selection_policy\":{\"type\":\"object\",\"name\":\"UnionRenderers\",\"id\":\"p1168\"},\"data\":{\"type\":\"map\",\"entries\":[[\"start\",[-0.000441,-0.000441,-0.000441,0.29370599999999997,0.440706,0.587853,0.587853,0.587853,0.882,0.882,1.029,1.029,1.176,1.176,1.176,1.3231469999999999,1.3231469999999999,1.3231469999999999,1.4701469999999999,1.617296,1.617296,1.617296,1.765294,1.765294,1.912294,1.912294,2.059441,2.059441,2.059441,2.059441,2.206441,2.206441,2.3525590000000003,2.3525590000000003,2.3525590000000003,2.3525590000000003,2.646706,2.646706,2.7937060000000002,2.940706,2.940706,2.940706,2.940706,3.087853,3.2348529999999998,3.2348529999999998,3.2348529999999998,3.382,3.382,3.529,3.529,3.529,3.529,3.676,3.676,3.676,3.676,3.823147,3.970148,3.970148,3.970148,3.970148,4.118294000000001,4.118294000000001,4.265294,4.265294,4.265294,4.412294,4.412294,4.412294,4.412294,4.5594410000000005]],[\"end\",[0.07305899999999968,0.07305899999999968,0.07305899999999968,0.36720599999999964,0.5142059999999997,0.6613529999999996,0.6613529999999996,0.6613529999999996,0.9554999999999997,0.9554999999999997,1.1024999999999996,1.1024999999999996,1.2494999999999996,1.2494999999999996,1.2494999999999996,1.3966469999999995,1.3966469999999995,1.3966469999999995,1.5436469999999995,1.6907959999999997,1.6907959999999997,1.6907959999999997,1.8387939999999996,1.8387939999999996,1.9857939999999996,1.9857939999999996,2.1329409999999998,2.1329409999999998,2.1329409999999998,2.1329409999999998,2.2799409999999996,2.2799409999999996,2.426059,2.426059,2.426059,2.426059,2.7202059999999997,2.7202059999999997,2.867206,3.0142059999999997,3.0142059999999997,3.0142059999999997,3.0142059999999997,3.1613529999999996,3.3083529999999994,3.3083529999999994,3.3083529999999994,3.4555,3.4555,3.6024999999999996,3.6024999999999996,3.6024999999999996,3.6024999999999996,3.7495,3.7495,3.7495,3.7495,3.8966469999999997,4.043647999999999,4.043647999999999,4.043647999999999,4.043647999999999,4.191794,4.191794,4.338794,4.338794,4.338794,4.485794,4.485794,4.485794,4.485794,4.632941000000001]],[\"instrument\",[\"stream_1\",\"stream_2\",\"stream_3\",\"stream_2\",\"stream_2\",\"stream_1\",\"stream_2\",\"stream_3\",\"stream_2\",\"stream_3\",\"stream_2\",\"stream_3\",\"stream_1\",\"stream_2\",\"stream_3\",\"stream_1\",\"stream_2\",\"stream_3\",\"stream_2\",\"stream_1\",\"stream_2\",\"stream_3\",\"stream_2\",\"stream_3\",\"stream_1\",\"stream_2\",\"stream_0\",\"stream_1\",\"stream_2\",\"stream_3\",\"stream_0\",\"stream_2\",\"stream_0\",\"stream_1\",\"stream_2\",\"stream_3\",\"stream_0\",\"stream_2\",\"stream_2\",\"stream_0\",\"stream_1\",\"stream_2\",\"stream_3\",\"stream_0\",\"stream_0\",\"stream_2\",\"stream_3\",\"stream_0\",\"stream_2\",\"stream_0\",\"stream_1\",\"stream_2\",\"stream_3\",\"stream_0\",\"stream_1\",\"stream_2\",\"stream_3\",\"stream_2\",\"stream_0\",\"stream_1\",\"stream_2\",\"stream_3\",\"stream_2\",\"stream_3\",\"stream_1\",\"stream_2\",\"stream_3\",\"stream_0\",\"stream_1\",\"stream_2\",\"stream_3\",\"stream_3\"]],[\"voice_index\",[1,2,3,2,2,1,2,3,2,3,2,3,1,2,3,1,2,3,2,1,2,3,2,3,1,2,0,1,2,3,0,2,0,1,2,3,0,2,2,0,1,2,3,0,0,2,3,0,2,0,1,2,3,0,1,2,3,2,0,1,2,3,2,3,1,2,3,0,1,2,3,3]],[\"midi\",[38,42,46,42,42,38,42,46,42,46,42,46,38,42,46,38,42,46,42,38,42,46,42,46,38,42,36,38,42,46,36,42,36,38,42,46,36,42,42,36,38,42,46,36,36,42,46,36,42,36,38,42,46,36,38,42,46,42,36,38,42,46,42,46,38,42,46,36,38,42,46,46]],[\"velocity\",[0.858,1.0,0.417,0.339,1.0,0.937,1.0,0.472,1.0,0.425,0.339,0.283,0.976,1.0,0.362,0.89,1.0,0.543,0.339,0.937,1.0,0.472,1.0,0.504,0.937,1.0,0.913,0.89,1.0,0.52,0.913,1.0,0.913,0.858,1.0,0.472,0.913,0.339,1.0,0.913,0.898,1.0,0.598,0.913,0.913,0.339,0.52,0.913,1.0,0.913,0.898,1.0,0.504,0.913,0.756,1.0,0.543,0.339,0.913,0.858,1.0,0.504,1.0,0.472,0.819,1.0,0.402,0.913,0.898,1.0,0.543,0.457]],[\"offset\",[-0.003,-0.003,-0.003,-0.002,-0.002,-0.001,-0.001,-0.001,0.0,0.0,0.0,0.0,0.0,0.0,0.0,0.001,0.001,0.001,0.001,0.002,0.002,0.002,0.002,0.002,0.002,0.002,0.003,0.003,0.003,0.003,0.003,0.003,-0.003,-0.003,-0.003,-0.003,-0.002,-0.002,-0.002,-0.002,-0.002,-0.002,-0.002,-0.001,-0.001,-0.001,-0.001,0.0,0.0,0.0,0.0,0.0,0.0,0.0,0.0,0.0,0.0,0.001,0.001,0.001,0.001,0.001,0.002,0.002,0.002,0.002,0.002,0.002,0.002,0.002,0.002,0.003]],[\"offset_sec\",[-0.0,-0.0,-0.0,-0.0,-0.0,-0.0,-0.0,-0.0,0.0,0.0,0.0,0.0,0.0,0.0,0.0,0.0,0.0,0.0,0.0,0.0,0.0,0.0,0.0,0.0,0.0,0.0,0.0,0.0,0.0,0.0,0.0,0.0,-0.0,-0.0,-0.0,-0.0,-0.0,-0.0,-0.0,-0.0,-0.0,-0.0,-0.0,-0.0,-0.0,-0.0,-0.0,0.0,0.0,0.0,0.0,0.0,0.0,0.0,0.0,0.0,0.0,0.0,0.0,0.0,0.0,0.0,0.0,0.0,0.0,0.0,0.0,0.0,0.0,0.0,0.0,0.0]],[\"grid_line\",[0,0,0,2,3,4,4,4,6,6,7,7,8,8,8,9,9,9,10,11,11,11,12,12,13,13,14,14,14,14,15,15,16,16,16,16,18,18,19,20,20,20,20,21,22,22,22,23,23,24,24,24,24,25,25,25,25,26,27,27,27,27,28,28,29,29,29,30,30,30,30,31]],[\"top\",{\"type\":\"ndarray\",\"array\":{\"type\":\"bytes\",\"data\":\"MzMzMzMz8z+amZmZmZkBQJqZmZmZmQlAmpmZmZmZAUCamZmZmZkBQDMzMzMzM/M/mpmZmZmZAUCamZmZmZkJQJqZmZmZmQFAmpmZmZmZCUCamZmZmZkBQJqZmZmZmQlAMzMzMzMz8z+amZmZmZkBQJqZmZmZmQlAMzMzMzMz8z+amZmZmZkBQJqZmZmZmQlAmpmZmZmZAUAzMzMzMzPzP5qZmZmZmQFAmpmZmZmZCUCamZmZmZkBQJqZmZmZmQlAMzMzMzMz8z+amZmZmZkBQJqZmZmZmck/MzMzMzMz8z+amZmZmZkBQJqZmZmZmQlAmpmZmZmZyT+amZmZmZkBQJqZmZmZmck/MzMzMzMz8z+amZmZmZkBQJqZmZmZmQlAmpmZmZmZyT+amZmZmZkBQJqZmZmZmQFAmpmZmZmZyT8zMzMzMzPzP5qZmZmZmQFAmpmZmZmZCUCamZmZmZnJP5qZmZmZmck/mpmZmZmZAUCamZmZmZkJQJqZmZmZmck/mpmZmZmZAUCamZmZmZnJPzMzMzMzM/M/mpmZmZmZAUCamZmZmZkJQJqZmZmZmck/MzMzMzMz8z+amZmZmZkBQJqZmZmZmQlAmpmZmZmZAUCamZmZmZnJPzMzMzMzM/M/mpmZmZmZAUCamZmZmZkJQJqZmZmZmQFAmpmZmZmZCUAzMzMzMzPzP5qZmZmZmQFAmpmZmZmZCUCamZmZmZnJPzMzMzMzM/M/mpmZmZmZAUCamZmZmZkJQJqZmZmZmQlA\"},\"shape\":[72],\"dtype\":\"float64\",\"order\":\"little\"}],[\"bottom\",{\"type\":\"ndarray\",\"array\":{\"type\":\"bytes\",\"data\":\"mpmZmZmZ6T/NzMzMzMz8P2ZmZmZmZgZAzczMzMzM/D/NzMzMzMz8P5qZmZmZmek/zczMzMzM/D9mZmZmZmYGQM3MzMzMzPw/ZmZmZmZmBkDNzMzMzMz8P2ZmZmZmZgZAmpmZmZmZ6T/NzMzMzMz8P2ZmZmZmZgZAmpmZmZmZ6T/NzMzMzMz8P2ZmZmZmZgZAzczMzMzM/D+amZmZmZnpP83MzMzMzPw/ZmZmZmZmBkDNzMzMzMz8P2ZmZmZmZgZAmpmZmZmZ6T/NzMzMzMz8P5qZmZmZmcm/mpmZmZmZ6T/NzMzMzMz8P2ZmZmZmZgZAmpmZmZmZyb/NzMzMzMz8P5qZmZmZmcm/mpmZmZmZ6T/NzMzMzMz8P2ZmZmZmZgZAmpmZmZmZyb/NzMzMzMz8P83MzMzMzPw/mpmZmZmZyb+amZmZmZnpP83MzMzMzPw/ZmZmZmZmBkCamZmZmZnJv5qZmZmZmcm/zczMzMzM/D9mZmZmZmYGQJqZmZmZmcm/zczMzMzM/D+amZmZmZnJv5qZmZmZmek/zczMzMzM/D9mZmZmZmYGQJqZmZmZmcm/mpmZmZmZ6T/NzMzMzMz8P2ZmZmZmZgZAzczMzMzM/D+amZmZmZnJv5qZmZmZmek/zczMzMzM/D9mZmZmZmYGQM3MzMzMzPw/ZmZmZmZmBkCamZmZmZnpP83MzMzMzPw/ZmZmZmZmBkCamZmZmZnJv5qZmZmZmek/zczMzMzM/D9mZmZmZmYGQGZmZmZmZgZA\"},\"shape\":[72],\"dtype\":\"float64\",\"order\":\"little\"}]]}}},\"view\":{\"type\":\"object\",\"name\":\"CDSView\",\"id\":\"p1176\",\"attributes\":{\"filter\":{\"type\":\"object\",\"name\":\"AllIndices\",\"id\":\"p1177\"}}},\"glyph\":{\"type\":\"object\",\"name\":\"Quad\",\"id\":\"p1172\",\"attributes\":{\"left\":{\"type\":\"field\",\"field\":\"start\"},\"right\":{\"type\":\"field\",\"field\":\"end\"},\"bottom\":{\"type\":\"field\",\"field\":\"bottom\"},\"top\":{\"type\":\"field\",\"field\":\"top\"},\"line_color\":{\"type\":\"value\",\"value\":\"grey\"},\"fill_color\":{\"type\":\"value\",\"value\":\"grey\"},\"fill_alpha\":{\"type\":\"field\",\"field\":\"velocity\"}}},\"nonselection_glyph\":{\"type\":\"object\",\"name\":\"Quad\",\"id\":\"p1173\",\"attributes\":{\"left\":{\"type\":\"field\",\"field\":\"start\"},\"right\":{\"type\":\"field\",\"field\":\"end\"},\"bottom\":{\"type\":\"field\",\"field\":\"bottom\"},\"top\":{\"type\":\"field\",\"field\":\"top\"},\"line_color\":{\"type\":\"value\",\"value\":\"grey\"},\"line_alpha\":{\"type\":\"value\",\"value\":0.1},\"fill_color\":{\"type\":\"value\",\"value\":\"grey\"},\"fill_alpha\":{\"type\":\"value\",\"value\":0.1},\"hatch_alpha\":{\"type\":\"value\",\"value\":0.1}}},\"muted_glyph\":{\"type\":\"object\",\"name\":\"Quad\",\"id\":\"p1174\",\"attributes\":{\"left\":{\"type\":\"field\",\"field\":\"start\"},\"right\":{\"type\":\"field\",\"field\":\"end\"},\"bottom\":{\"type\":\"field\",\"field\":\"bottom\"},\"top\":{\"type\":\"field\",\"field\":\"top\"},\"line_color\":{\"type\":\"value\",\"value\":\"grey\"},\"line_alpha\":{\"type\":\"value\",\"value\":0.2},\"fill_color\":{\"type\":\"value\",\"value\":\"grey\"},\"fill_alpha\":{\"type\":\"value\",\"value\":0.2},\"hatch_alpha\":{\"type\":\"value\",\"value\":0.2}}}}},{\"type\":\"object\",\"name\":\"GlyphRenderer\",\"id\":\"p1226\",\"attributes\":{\"data_source\":{\"type\":\"object\",\"name\":\"ColumnDataSource\",\"id\":\"p1217\",\"attributes\":{\"selected\":{\"type\":\"object\",\"name\":\"Selection\",\"id\":\"p1218\",\"attributes\":{\"indices\":[],\"line_indices\":[]}},\"selection_policy\":{\"type\":\"object\",\"name\":\"UnionRenderers\",\"id\":\"p1219\"},\"data\":{\"type\":\"map\",\"entries\":[[\"x\",[0.0]],[\"y\",[4.5]],[\"tempo\",[102.0000510000255]],[\"grid_index\",[0]]]}}},\"view\":{\"type\":\"object\",\"name\":\"CDSView\",\"id\":\"p1227\",\"attributes\":{\"filter\":{\"type\":\"object\",\"name\":\"AllIndices\",\"id\":\"p1228\"}}},\"glyph\":{\"type\":\"object\",\"name\":\"Scatter\",\"id\":\"p1223\",\"attributes\":{\"x\":{\"type\":\"field\",\"field\":\"x\"},\"y\":{\"type\":\"field\",\"field\":\"y\"},\"size\":{\"type\":\"value\",\"value\":10},\"line_color\":{\"type\":\"value\",\"value\":\"#440154\"},\"fill_color\":{\"type\":\"value\",\"value\":\"#440154\"}}},\"nonselection_glyph\":{\"type\":\"object\",\"name\":\"Scatter\",\"id\":\"p1224\",\"attributes\":{\"x\":{\"type\":\"field\",\"field\":\"x\"},\"y\":{\"type\":\"field\",\"field\":\"y\"},\"size\":{\"type\":\"value\",\"value\":10},\"line_color\":{\"type\":\"value\",\"value\":\"#440154\"},\"line_alpha\":{\"type\":\"value\",\"value\":0.1},\"fill_color\":{\"type\":\"value\",\"value\":\"#440154\"},\"fill_alpha\":{\"type\":\"value\",\"value\":0.1},\"hatch_alpha\":{\"type\":\"value\",\"value\":0.1}}},\"muted_glyph\":{\"type\":\"object\",\"name\":\"Scatter\",\"id\":\"p1225\",\"attributes\":{\"x\":{\"type\":\"field\",\"field\":\"x\"},\"y\":{\"type\":\"field\",\"field\":\"y\"},\"size\":{\"type\":\"value\",\"value\":10},\"line_color\":{\"type\":\"value\",\"value\":\"#440154\"},\"line_alpha\":{\"type\":\"value\",\"value\":0.2},\"fill_color\":{\"type\":\"value\",\"value\":\"#440154\"},\"fill_alpha\":{\"type\":\"value\",\"value\":0.2},\"hatch_alpha\":{\"type\":\"value\",\"value\":0.2}}}}},{\"type\":\"object\",\"name\":\"GlyphRenderer\",\"id\":\"p1240\",\"attributes\":{\"data_source\":{\"type\":\"object\",\"name\":\"ColumnDataSource\",\"id\":\"p1231\",\"attributes\":{\"selected\":{\"type\":\"object\",\"name\":\"Selection\",\"id\":\"p1232\",\"attributes\":{\"indices\":[],\"line_indices\":[]}},\"selection_policy\":{\"type\":\"object\",\"name\":\"UnionRenderers\",\"id\":\"p1233\"},\"data\":{\"type\":\"map\",\"entries\":[[\"x\",[0.0]],[\"y\",[4]],[\"Numerator\",[4]],[\"Denominator\",[4]],[\"grid_index\",[0]]]}}},\"view\":{\"type\":\"object\",\"name\":\"CDSView\",\"id\":\"p1241\",\"attributes\":{\"filter\":{\"type\":\"object\",\"name\":\"AllIndices\",\"id\":\"p1242\"}}},\"glyph\":{\"type\":\"object\",\"name\":\"Scatter\",\"id\":\"p1237\",\"attributes\":{\"x\":{\"type\":\"field\",\"field\":\"x\"},\"y\":{\"type\":\"field\",\"field\":\"y\"},\"size\":{\"type\":\"value\",\"value\":10},\"line_color\":{\"type\":\"value\",\"value\":\"#70CE56\"},\"fill_color\":{\"type\":\"value\",\"value\":\"#70CE56\"}}},\"nonselection_glyph\":{\"type\":\"object\",\"name\":\"Scatter\",\"id\":\"p1238\",\"attributes\":{\"x\":{\"type\":\"field\",\"field\":\"x\"},\"y\":{\"type\":\"field\",\"field\":\"y\"},\"size\":{\"type\":\"value\",\"value\":10},\"line_color\":{\"type\":\"value\",\"value\":\"#70CE56\"},\"line_alpha\":{\"type\":\"value\",\"value\":0.1},\"fill_color\":{\"type\":\"value\",\"value\":\"#70CE56\"},\"fill_alpha\":{\"type\":\"value\",\"value\":0.1},\"hatch_alpha\":{\"type\":\"value\",\"value\":0.1}}},\"muted_glyph\":{\"type\":\"object\",\"name\":\"Scatter\",\"id\":\"p1239\",\"attributes\":{\"x\":{\"type\":\"field\",\"field\":\"x\"},\"y\":{\"type\":\"field\",\"field\":\"y\"},\"size\":{\"type\":\"value\",\"value\":10},\"line_color\":{\"type\":\"value\",\"value\":\"#70CE56\"},\"line_alpha\":{\"type\":\"value\",\"value\":0.2},\"fill_color\":{\"type\":\"value\",\"value\":\"#70CE56\"},\"fill_alpha\":{\"type\":\"value\",\"value\":0.2},\"hatch_alpha\":{\"type\":\"value\",\"value\":0.2}}}}},{\"type\":\"object\",\"name\":\"GlyphRenderer\",\"id\":\"p1254\",\"attributes\":{\"data_source\":{\"type\":\"object\",\"name\":\"ColumnDataSource\",\"id\":\"p1245\",\"attributes\":{\"selected\":{\"type\":\"object\",\"name\":\"Selection\",\"id\":\"p1246\",\"attributes\":{\"indices\":[],\"line_indices\":[]}},\"selection_policy\":{\"type\":\"object\",\"name\":\"UnionRenderers\",\"id\":\"p1247\"},\"data\":{\"type\":\"map\",\"entries\":[[\"x\",[0.0]],[\"y\",[3.5]],[\"filename\",[\"5382749461010f7bf3e83b1cc56b0dae_guitar.mid\"]],[\"main_file\",[\"5382749461010f7bf3e83b1cc56b0dae\"]],[\"instrument\",[\"guitar\"]],[\"source\",[\"Lakh MIDI\"]],[\"stream_0\",[\"brass\"]],[\"stream_1\",[\"bass\"]],[\"stream_2\",[\"drum\"]],[\"stream_3\",[\"guitar\"]],[\"start_bar\",[7]],[\"collection\",[\"lmd_batch_56_filtered\"]],[\"sample_id\",[\"5382749461010f7bf3e83b1cc56b0dae\"]]]}}},\"view\":{\"type\":\"object\",\"name\":\"CDSView\",\"id\":\"p1255\",\"attributes\":{\"filter\":{\"type\":\"object\",\"name\":\"AllIndices\",\"id\":\"p1256\"}}},\"glyph\":{\"type\":\"object\",\"name\":\"Scatter\",\"id\":\"p1251\",\"attributes\":{\"x\":{\"type\":\"field\",\"field\":\"x\"},\"y\":{\"type\":\"field\",\"field\":\"y\"},\"size\":{\"type\":\"value\",\"value\":10},\"line_color\":{\"type\":\"value\",\"value\":\"#1EA087\"},\"fill_color\":{\"type\":\"value\",\"value\":\"#1EA087\"}}},\"nonselection_glyph\":{\"type\":\"object\",\"name\":\"Scatter\",\"id\":\"p1252\",\"attributes\":{\"x\":{\"type\":\"field\",\"field\":\"x\"},\"y\":{\"type\":\"field\",\"field\":\"y\"},\"size\":{\"type\":\"value\",\"value\":10},\"line_color\":{\"type\":\"value\",\"value\":\"#1EA087\"},\"line_alpha\":{\"type\":\"value\",\"value\":0.1},\"fill_color\":{\"type\":\"value\",\"value\":\"#1EA087\"},\"fill_alpha\":{\"type\":\"value\",\"value\":0.1},\"hatch_alpha\":{\"type\":\"value\",\"value\":0.1}}},\"muted_glyph\":{\"type\":\"object\",\"name\":\"Scatter\",\"id\":\"p1253\",\"attributes\":{\"x\":{\"type\":\"field\",\"field\":\"x\"},\"y\":{\"type\":\"field\",\"field\":\"y\"},\"size\":{\"type\":\"value\",\"value\":10},\"line_color\":{\"type\":\"value\",\"value\":\"#1EA087\"},\"line_alpha\":{\"type\":\"value\",\"value\":0.2},\"fill_color\":{\"type\":\"value\",\"value\":\"#1EA087\"},\"fill_alpha\":{\"type\":\"value\",\"value\":0.2},\"hatch_alpha\":{\"type\":\"value\",\"value\":0.2}}}}}],\"toolbar\":{\"type\":\"object\",\"name\":\"Toolbar\",\"id\":\"p1141\",\"attributes\":{\"tools\":[{\"type\":\"object\",\"name\":\"PanTool\",\"id\":\"p1155\"},{\"type\":\"object\",\"name\":\"WheelZoomTool\",\"id\":\"p1156\",\"attributes\":{\"renderers\":\"auto\"}},{\"type\":\"object\",\"name\":\"BoxZoomTool\",\"id\":\"p1157\",\"attributes\":{\"overlay\":{\"type\":\"object\",\"name\":\"BoxAnnotation\",\"id\":\"p1158\",\"attributes\":{\"syncable\":false,\"level\":\"overlay\",\"visible\":false,\"left\":{\"type\":\"number\",\"value\":\"nan\"},\"right\":{\"type\":\"number\",\"value\":\"nan\"},\"top\":{\"type\":\"number\",\"value\":\"nan\"},\"bottom\":{\"type\":\"number\",\"value\":\"nan\"},\"left_units\":\"canvas\",\"right_units\":\"canvas\",\"top_units\":\"canvas\",\"bottom_units\":\"canvas\",\"line_color\":\"black\",\"line_alpha\":1.0,\"line_width\":2,\"line_dash\":[4,4],\"fill_color\":\"lightgrey\",\"fill_alpha\":0.5}}}},{\"type\":\"object\",\"name\":\"SaveTool\",\"id\":\"p1163\"},{\"type\":\"object\",\"name\":\"ResetTool\",\"id\":\"p1164\"},{\"type\":\"object\",\"name\":\"HelpTool\",\"id\":\"p1165\"},{\"type\":\"object\",\"name\":\"HoverTool\",\"id\":\"p1180\",\"attributes\":{\"renderers\":[{\"id\":\"p1175\"}],\"tooltips\":[[\"start\",\"@start\"],[\"end\",\"@end\"],[\"instrument\",\"@instrument\"],[\"voice_index\",\"@voice_index\"],[\"midi\",\"@midi\"],[\"velocity\",\"@velocity\"],[\"offset\",\"@offset\"],[\"offset_sec\",\"@offset_sec\"],[\"grid_line\",\"@grid_line\"]]}},{\"type\":\"object\",\"name\":\"HoverTool\",\"id\":\"p1230\",\"attributes\":{\"renderers\":[{\"id\":\"p1226\"}],\"tooltips\":[[\"tempo\",\"@tempo\"],[\"grid_index\",\"@grid_index\"]]}},{\"type\":\"object\",\"name\":\"HoverTool\",\"id\":\"p1244\",\"attributes\":{\"renderers\":[{\"id\":\"p1240\"}],\"tooltips\":[[\"Numerator\",\"@Numerator\"],[\"Denominator\",\"@Denominator\"],[\"grid_index\",\"@grid_index\"]]}},{\"type\":\"object\",\"name\":\"HoverTool\",\"id\":\"p1258\",\"attributes\":{\"renderers\":[{\"id\":\"p1254\"}],\"tooltips\":[[\"filename\",\"@filename\"],[\"main_file\",\"@main_file\"],[\"instrument\",\"@instrument\"],[\"source\",\"@source\"],[\"stream_0\",\"@stream_0\"],[\"stream_1\",\"@stream_1\"],[\"stream_2\",\"@stream_2\"],[\"stream_3\",\"@stream_3\"],[\"start_bar\",\"@start_bar\"],[\"collection\",\"@collection\"],[\"sample_id\",\"@sample_id\"]]}}]}},\"left\":[{\"type\":\"object\",\"name\":\"LinearAxis\",\"id\":\"p1150\",\"attributes\":{\"ticker\":{\"type\":\"object\",\"name\":\"FixedTicker\",\"id\":\"p1181\",\"attributes\":{\"ticks\":[0,1,2,3],\"minor_ticks\":[]}},\"formatter\":{\"type\":\"object\",\"name\":\"BasicTickFormatter\",\"id\":\"p1152\"},\"axis_label\":\"Instrument\",\"axis_label_standoff\":10,\"axis_label_text_color\":\"#5B5B5B\",\"axis_label_text_font\":\"Helvetica\",\"axis_label_text_font_size\":\"1.25em\",\"axis_label_text_font_style\":\"normal\",\"major_label_overrides\":{\"type\":\"map\",\"entries\":[[0,\"stream_0\"],[1,\"stream_1\"],[2,\"stream_2\"],[3,\"stream_3\"]]},\"major_label_policy\":{\"type\":\"object\",\"name\":\"AllLabels\",\"id\":\"p1153\"},\"major_label_text_color\":\"#5B5B5B\",\"major_label_text_font\":\"Helvetica\",\"major_label_text_font_size\":\"1.025em\",\"axis_line_color\":\"#5B5B5B\",\"axis_line_alpha\":0,\"major_tick_line_color\":\"#5B5B5B\",\"major_tick_line_alpha\":0,\"minor_tick_line_color\":\"#5B5B5B\",\"minor_tick_line_alpha\":0}}],\"right\":[{\"type\":\"object\",\"name\":\"Legend\",\"id\":\"p1178\",\"attributes\":{\"border_line_alpha\":0,\"background_fill_alpha\":0.25,\"click_policy\":\"hide\",\"label_text_color\":\"#5B5B5B\",\"label_text_font\":\"Helvetica\",\"label_text_font_size\":\"1.025em\",\"label_standoff\":8,\"glyph_width\":15,\"spacing\":8,\"items\":[{\"type\":\"object\",\"name\":\"LegendItem\",\"id\":\"p1179\",\"attributes\":{\"label\":{\"type\":\"value\",\"value\":\"Piano Roll\"},\"renderers\":[{\"id\":\"p1175\"}]}},{\"type\":\"object\",\"name\":\"LegendItem\",\"id\":\"p1229\",\"attributes\":{\"label\":{\"type\":\"value\",\"value\":\"Tempo\"},\"renderers\":[{\"id\":\"p1226\"}]}},{\"type\":\"object\",\"name\":\"LegendItem\",\"id\":\"p1243\",\"attributes\":{\"label\":{\"type\":\"value\",\"value\":\"Time Signature\"},\"renderers\":[{\"id\":\"p1240\"}]}},{\"type\":\"object\",\"name\":\"LegendItem\",\"id\":\"p1257\",\"attributes\":{\"label\":{\"type\":\"value\",\"value\":\"Metadata\"},\"renderers\":[{\"id\":\"p1254\"}]}}]}}],\"below\":[{\"type\":\"object\",\"name\":\"LinearAxis\",\"id\":\"p1145\",\"attributes\":{\"ticker\":{\"type\":\"object\",\"name\":\"FixedTicker\",\"id\":\"p1206\",\"attributes\":{\"ticks\":[0.0,0.59,1.18,1.76,2.35,2.94,3.53,4.12],\"minor_ticks\":[]}},\"formatter\":{\"type\":\"object\",\"name\":\"BasicTickFormatter\",\"id\":\"p1147\"},\"axis_label\":\"Time (sec)\",\"axis_label_standoff\":10,\"axis_label_text_color\":\"#5B5B5B\",\"axis_label_text_font\":\"Helvetica\",\"axis_label_text_font_size\":\"1.25em\",\"axis_label_text_font_style\":\"normal\",\"major_label_orientation\":1.57,\"major_label_policy\":{\"type\":\"object\",\"name\":\"AllLabels\",\"id\":\"p1148\"},\"major_label_text_color\":\"#5B5B5B\",\"major_label_text_font\":\"Helvetica\",\"major_label_text_font_size\":\"1.025em\",\"axis_line_color\":\"#5B5B5B\",\"axis_line_alpha\":0,\"major_tick_line_color\":\"#5B5B5B\",\"major_tick_line_alpha\":0,\"minor_tick_line_color\":\"#5B5B5B\",\"minor_tick_line_alpha\":0}}],\"center\":[{\"type\":\"object\",\"name\":\"Grid\",\"id\":\"p1149\",\"attributes\":{\"axis\":{\"id\":\"p1145\"},\"grid_line_color\":null}},{\"type\":\"object\",\"name\":\"Grid\",\"id\":\"p1154\",\"attributes\":{\"dimension\":1,\"axis\":{\"id\":\"p1150\"},\"grid_line_color\":null}},{\"id\":\"p1178\"},{\"type\":\"object\",\"name\":\"Span\",\"id\":\"p1182\",\"attributes\":{\"location\":0.147,\"dimension\":\"height\",\"line_width\":0.1}},{\"type\":\"object\",\"name\":\"Span\",\"id\":\"p1183\",\"attributes\":{\"location\":0.294,\"dimension\":\"height\",\"line_width\":0.1}},{\"type\":\"object\",\"name\":\"Span\",\"id\":\"p1184\",\"attributes\":{\"location\":0.441,\"dimension\":\"height\",\"line_width\":0.1}},{\"type\":\"object\",\"name\":\"Span\",\"id\":\"p1185\",\"attributes\":{\"location\":0.735,\"dimension\":\"height\",\"line_width\":0.1}},{\"type\":\"object\",\"name\":\"Span\",\"id\":\"p1186\",\"attributes\":{\"location\":0.882,\"dimension\":\"height\",\"line_width\":0.1}},{\"type\":\"object\",\"name\":\"Span\",\"id\":\"p1187\",\"attributes\":{\"location\":1.029,\"dimension\":\"height\",\"line_width\":0.1}},{\"type\":\"object\",\"name\":\"Span\",\"id\":\"p1188\",\"attributes\":{\"location\":1.323,\"dimension\":\"height\",\"line_width\":0.1}},{\"type\":\"object\",\"name\":\"Span\",\"id\":\"p1189\",\"attributes\":{\"location\":1.47,\"dimension\":\"height\",\"line_width\":0.1}},{\"type\":\"object\",\"name\":\"Span\",\"id\":\"p1190\",\"attributes\":{\"location\":1.617,\"dimension\":\"height\",\"line_width\":0.1}},{\"type\":\"object\",\"name\":\"Span\",\"id\":\"p1191\",\"attributes\":{\"location\":1.912,\"dimension\":\"height\",\"line_width\":0.1}},{\"type\":\"object\",\"name\":\"Span\",\"id\":\"p1192\",\"attributes\":{\"location\":2.059,\"dimension\":\"height\",\"line_width\":0.1}},{\"type\":\"object\",\"name\":\"Span\",\"id\":\"p1193\",\"attributes\":{\"location\":2.206,\"dimension\":\"height\",\"line_width\":0.1}},{\"type\":\"object\",\"name\":\"Span\",\"id\":\"p1194\",\"attributes\":{\"location\":2.5,\"dimension\":\"height\",\"line_width\":0.1}},{\"type\":\"object\",\"name\":\"Span\",\"id\":\"p1195\",\"attributes\":{\"location\":2.647,\"dimension\":\"height\",\"line_width\":0.1}},{\"type\":\"object\",\"name\":\"Span\",\"id\":\"p1196\",\"attributes\":{\"location\":2.794,\"dimension\":\"height\",\"line_width\":0.1}},{\"type\":\"object\",\"name\":\"Span\",\"id\":\"p1197\",\"attributes\":{\"location\":3.088,\"dimension\":\"height\",\"line_width\":0.1}},{\"type\":\"object\",\"name\":\"Span\",\"id\":\"p1198\",\"attributes\":{\"location\":3.235,\"dimension\":\"height\",\"line_width\":0.1}},{\"type\":\"object\",\"name\":\"Span\",\"id\":\"p1199\",\"attributes\":{\"location\":3.382,\"dimension\":\"height\",\"line_width\":0.1}},{\"type\":\"object\",\"name\":\"Span\",\"id\":\"p1200\",\"attributes\":{\"location\":3.676,\"dimension\":\"height\",\"line_width\":0.1}},{\"type\":\"object\",\"name\":\"Span\",\"id\":\"p1201\",\"attributes\":{\"location\":3.823,\"dimension\":\"height\",\"line_width\":0.1}},{\"type\":\"object\",\"name\":\"Span\",\"id\":\"p1202\",\"attributes\":{\"location\":3.97,\"dimension\":\"height\",\"line_width\":0.1}},{\"type\":\"object\",\"name\":\"Span\",\"id\":\"p1203\",\"attributes\":{\"location\":4.265,\"dimension\":\"height\",\"line_width\":0.1}},{\"type\":\"object\",\"name\":\"Span\",\"id\":\"p1204\",\"attributes\":{\"location\":4.412,\"dimension\":\"height\",\"line_width\":0.1}},{\"type\":\"object\",\"name\":\"Span\",\"id\":\"p1205\",\"attributes\":{\"location\":4.559,\"dimension\":\"height\",\"line_width\":0.1}},{\"type\":\"object\",\"name\":\"Span\",\"id\":\"p1207\",\"attributes\":{\"location\":0.0,\"dimension\":\"height\",\"line_width\":0.5}},{\"type\":\"object\",\"name\":\"Span\",\"id\":\"p1208\",\"attributes\":{\"location\":0.588,\"dimension\":\"height\",\"line_width\":0.5}},{\"type\":\"object\",\"name\":\"Span\",\"id\":\"p1209\",\"attributes\":{\"location\":1.176,\"dimension\":\"height\",\"line_width\":0.5}},{\"type\":\"object\",\"name\":\"Span\",\"id\":\"p1210\",\"attributes\":{\"location\":1.765,\"dimension\":\"height\",\"line_width\":0.5}},{\"type\":\"object\",\"name\":\"Span\",\"id\":\"p1211\",\"attributes\":{\"location\":2.353,\"dimension\":\"height\",\"line_width\":0.5}},{\"type\":\"object\",\"name\":\"Span\",\"id\":\"p1212\",\"attributes\":{\"location\":2.941,\"dimension\":\"height\",\"line_width\":0.5}},{\"type\":\"object\",\"name\":\"Span\",\"id\":\"p1213\",\"attributes\":{\"location\":3.529,\"dimension\":\"height\",\"line_width\":0.5}},{\"type\":\"object\",\"name\":\"Span\",\"id\":\"p1214\",\"attributes\":{\"location\":4.118,\"dimension\":\"height\",\"line_width\":0.5}},{\"type\":\"object\",\"name\":\"Span\",\"id\":\"p1215\",\"attributes\":{\"location\":0.0,\"dimension\":\"height\",\"line_width\":2}},{\"type\":\"object\",\"name\":\"Span\",\"id\":\"p1216\",\"attributes\":{\"location\":2.353,\"dimension\":\"height\",\"line_width\":2}}]}}}},{\"type\":\"object\",\"name\":\"TabPanel\",\"id\":\"p2293\",\"attributes\":{\"title\":\"Tab 3\",\"child\":{\"type\":\"object\",\"name\":\"Figure\",\"id\":\"p1262\",\"attributes\":{\"width\":800,\"height\":400,\"x_range\":{\"type\":\"object\",\"name\":\"DataRange1d\",\"id\":\"p1264\",\"attributes\":{\"start\":-0.4559,\"end\":5.014900000000001}},\"y_range\":{\"type\":\"object\",\"name\":\"Range1d\",\"id\":\"p1271\",\"attributes\":{\"start\":-0.5,\"end\":5.75}},\"x_scale\":{\"type\":\"object\",\"name\":\"LinearScale\",\"id\":\"p1272\"},\"y_scale\":{\"type\":\"object\",\"name\":\"LinearScale\",\"id\":\"p1273\"},\"title\":{\"type\":\"object\",\"name\":\"Title\",\"id\":\"p1269\",\"attributes\":{\"text_color\":\"#5B5B5B\",\"text_font\":\"Helvetica\",\"text_font_size\":\"1.15em\"}},\"renderers\":[{\"type\":\"object\",\"name\":\"GlyphRenderer\",\"id\":\"p1304\",\"attributes\":{\"data_source\":{\"type\":\"object\",\"name\":\"ColumnDataSource\",\"id\":\"p1295\",\"attributes\":{\"selected\":{\"type\":\"object\",\"name\":\"Selection\",\"id\":\"p1296\",\"attributes\":{\"indices\":[],\"line_indices\":[]}},\"selection_policy\":{\"type\":\"object\",\"name\":\"UnionRenderers\",\"id\":\"p1297\"},\"data\":{\"type\":\"map\",\"entries\":[[\"start\",[0.0,0.0,0.0,0.294147,0.441147,0.588294,0.588294,0.588294,0.882294,0.882294,1.0294409999999998,1.0294409999999998,1.175412,1.175412,1.175412,1.322559,1.322559,1.322559,1.469559,1.616706,1.616706,1.616706,1.7647039999999998,1.7647039999999998,1.911706,1.911706,2.058853,2.058853,2.058853,2.205853,2.353,2.353,2.353,2.353,2.5,2.647,2.647,2.794147,2.794147,2.941147,2.941147,2.941147,2.941147,3.088294,3.2352939999999997,3.2352939999999997,3.2352939999999997,3.382294,3.382294,3.382294,3.528412,3.528412,3.528412,3.528412,3.675412,3.675412,3.675412,3.675412,3.822559,3.9695590000000003,3.9695590000000003,3.9695590000000003,3.9695590000000003,4.117704000000001,4.117704000000001,4.264705999999999,4.264705999999999,4.264705999999999,4.264705999999999,4.411706,4.411706,4.411706,4.411706]],[\"end\",[0.07349999999999968,0.07349999999999968,0.07349999999999968,0.36764699999999967,0.5146469999999996,0.6617939999999997,0.6617939999999997,0.6617939999999997,0.9557939999999997,0.9557939999999997,1.1029409999999995,1.1029409999999995,1.2489119999999996,1.2489119999999996,1.2489119999999996,1.3960589999999997,1.3960589999999997,1.3960589999999997,1.5430589999999997,1.6902059999999997,1.6902059999999997,1.6902059999999997,1.8382039999999995,1.8382039999999995,1.9852059999999996,1.9852059999999996,2.1323529999999997,2.1323529999999997,2.1323529999999997,2.2793529999999995,2.4265,2.4265,2.4265,2.4265,2.5734999999999997,2.7204999999999995,2.7204999999999995,2.867647,2.867647,3.0146469999999996,3.0146469999999996,3.0146469999999996,3.0146469999999996,3.1617939999999995,3.3087939999999993,3.3087939999999993,3.3087939999999993,3.4557939999999996,3.4557939999999996,3.4557939999999996,3.6019119999999996,3.6019119999999996,3.6019119999999996,3.6019119999999996,3.748912,3.748912,3.748912,3.748912,3.8960589999999997,4.0430589999999995,4.0430589999999995,4.0430589999999995,4.0430589999999995,4.191204000000001,4.191204000000001,4.338206,4.338206,4.338206,4.338206,4.485206,4.485206,4.485206,4.485206]],[\"instrument\",[\"stream_1\",\"stream_2\",\"stream_3\",\"stream_2\",\"stream_2\",\"stream_1\",\"stream_2\",\"stream_3\",\"stream_2\",\"stream_3\",\"stream_2\",\"stream_3\",\"stream_1\",\"stream_2\",\"stream_3\",\"stream_1\",\"stream_2\",\"stream_3\",\"stream_2\",\"stream_1\",\"stream_2\",\"stream_3\",\"stream_2\",\"stream_3\",\"stream_1\",\"stream_2\",\"stream_1\",\"stream_2\",\"stream_3\",\"stream_2\",\"stream_0\",\"stream_1\",\"stream_2\",\"stream_3\",\"stream_0\",\"stream_0\",\"stream_2\",\"stream_0\",\"stream_2\",\"stream_0\",\"stream_1\",\"stream_2\",\"stream_3\",\"stream_0\",\"stream_0\",\"stream_2\",\"stream_3\",\"stream_0\",\"stream_2\",\"stream_3\",\"stream_0\",\"stream_1\",\"stream_2\",\"stream_3\",\"stream_0\",\"stream_1\",\"stream_2\",\"stream_3\",\"stream_2\",\"stream_0\",\"stream_1\",\"stream_2\",\"stream_3\",\"stream_2\",\"stream_3\",\"stream_0\",\"stream_1\",\"stream_2\",\"stream_3\",\"stream_0\",\"stream_1\",\"stream_2\",\"stream_3\"]],[\"voice_index\",[1,2,3,2,2,1,2,3,2,3,2,3,1,2,3,1,2,3,2,1,2,3,2,3,1,2,1,2,3,2,0,1,2,3,0,0,2,0,2,0,1,2,3,0,0,2,3,0,2,3,0,1,2,3,0,1,2,3,2,0,1,2,3,2,3,0,1,2,3,0,1,2,3]],[\"midi\",[38,42,46,42,42,38,42,46,42,46,42,46,38,42,46,38,42,46,42,38,42,46,42,46,38,42,38,42,46,42,36,38,42,46,36,36,42,36,42,36,38,42,46,36,36,42,46,36,42,46,36,38,42,46,36,38,42,46,42,36,38,42,46,42,46,36,38,42,46,36,38,42,46]],[\"velocity\",[0.937,1.0,0.472,1.0,1.0,0.937,1.0,0.472,1.0,0.402,1.0,0.394,0.819,1.0,0.346,0.701,1.0,0.472,1.0,0.898,1.0,0.441,1.0,0.441,0.858,1.0,0.898,1.0,0.472,1.0,0.945,0.858,1.0,0.378,0.945,0.945,1.0,0.945,1.0,0.945,0.898,1.0,0.457,0.945,0.945,1.0,0.472,0.945,1.0,0.417,0.945,0.898,1.0,0.472,0.945,0.756,1.0,0.52,0.339,0.945,0.858,1.0,0.598,1.0,0.52,0.945,0.819,1.0,0.567,0.945,0.898,1.0,0.472]],[\"offset\",[0.0,0.0,0.0,0.001,0.001,0.002,0.002,0.002,0.002,0.002,0.003,0.003,-0.004,-0.004,-0.004,-0.003,-0.003,-0.003,-0.003,-0.002,-0.002,-0.002,-0.002,-0.002,-0.002,-0.002,-0.001,-0.001,-0.001,-0.001,0.0,0.0,0.0,0.0,0.0,0.0,0.0,0.001,0.001,0.001,0.001,0.001,0.001,0.002,0.002,0.002,0.002,0.002,0.002,0.002,-0.004,-0.004,-0.004,-0.004,-0.004,-0.004,-0.004,-0.004,-0.003,-0.003,-0.003,-0.003,-0.003,-0.002,-0.002,-0.002,-0.002,-0.002,-0.002,-0.002,-0.002,-0.002,-0.002]],[\"offset_sec\",[0.0,0.0,0.0,0.0,0.0,0.0,0.0,0.0,0.0,0.0,0.0,0.0,-0.001,-0.001,-0.001,-0.0,-0.0,-0.0,-0.0,-0.0,-0.0,-0.0,-0.0,-0.0,-0.0,-0.0,-0.0,-0.0,-0.0,-0.0,0.0,0.0,0.0,0.0,0.0,0.0,0.0,0.0,0.0,0.0,0.0,0.0,0.0,0.0,0.0,0.0,0.0,0.0,0.0,0.0,-0.001,-0.001,-0.001,-0.001,-0.001,-0.001,-0.001,-0.001,-0.0,-0.0,-0.0,-0.0,-0.0,-0.0,-0.0,-0.0,-0.0,-0.0,-0.0,-0.0,-0.0,-0.0,-0.0]],[\"grid_line\",[0,0,0,2,3,4,4,4,6,6,7,7,8,8,8,9,9,9,10,11,11,11,12,12,13,13,14,14,14,15,16,16,16,16,17,18,18,19,19,20,20,20,20,21,22,22,22,23,23,23,24,24,24,24,25,25,25,25,26,27,27,27,27,28,28,29,29,29,29,30,30,30,30]],[\"top\",{\"type\":\"ndarray\",\"array\":{\"type\":\"bytes\",\"data\":\"MzMzMzMz8z+amZmZmZkBQJqZmZmZmQlAmpmZmZmZAUCamZmZmZkBQDMzMzMzM/M/mpmZmZmZAUCamZmZmZkJQJqZmZmZmQFAmpmZmZmZCUCamZmZmZkBQJqZmZmZmQlAMzMzMzMz8z+amZmZmZkBQJqZmZmZmQlAMzMzMzMz8z+amZmZmZkBQJqZmZmZmQlAmpmZmZmZAUAzMzMzMzPzP5qZmZmZmQFAmpmZmZmZCUCamZmZmZkBQJqZmZmZmQlAMzMzMzMz8z+amZmZmZkBQDMzMzMzM/M/mpmZmZmZAUCamZmZmZkJQJqZmZmZmQFAmpmZmZmZyT8zMzMzMzPzP5qZmZmZmQFAmpmZmZmZCUCamZmZmZnJP5qZmZmZmck/mpmZmZmZAUCamZmZmZnJP5qZmZmZmQFAmpmZmZmZyT8zMzMzMzPzP5qZmZmZmQFAmpmZmZmZCUCamZmZmZnJP5qZmZmZmck/mpmZmZmZAUCamZmZmZkJQJqZmZmZmck/mpmZmZmZAUCamZmZmZkJQJqZmZmZmck/MzMzMzMz8z+amZmZmZkBQJqZmZmZmQlAmpmZmZmZyT8zMzMzMzPzP5qZmZmZmQFAmpmZmZmZCUCamZmZmZkBQJqZmZmZmck/MzMzMzMz8z+amZmZmZkBQJqZmZmZmQlAmpmZmZmZAUCamZmZmZkJQJqZmZmZmck/MzMzMzMz8z+amZmZmZkBQJqZmZmZmQlAmpmZmZmZyT8zMzMzMzPzP5qZmZmZmQFAmpmZmZmZCUA=\"},\"shape\":[73],\"dtype\":\"float64\",\"order\":\"little\"}],[\"bottom\",{\"type\":\"ndarray\",\"array\":{\"type\":\"bytes\",\"data\":\"mpmZmZmZ6T/NzMzMzMz8P2ZmZmZmZgZAzczMzMzM/D/NzMzMzMz8P5qZmZmZmek/zczMzMzM/D9mZmZmZmYGQM3MzMzMzPw/ZmZmZmZmBkDNzMzMzMz8P2ZmZmZmZgZAmpmZmZmZ6T/NzMzMzMz8P2ZmZmZmZgZAmpmZmZmZ6T/NzMzMzMz8P2ZmZmZmZgZAzczMzMzM/D+amZmZmZnpP83MzMzMzPw/ZmZmZmZmBkDNzMzMzMz8P2ZmZmZmZgZAmpmZmZmZ6T/NzMzMzMz8P5qZmZmZmek/zczMzMzM/D9mZmZmZmYGQM3MzMzMzPw/mpmZmZmZyb+amZmZmZnpP83MzMzMzPw/ZmZmZmZmBkCamZmZmZnJv5qZmZmZmcm/zczMzMzM/D+amZmZmZnJv83MzMzMzPw/mpmZmZmZyb+amZmZmZnpP83MzMzMzPw/ZmZmZmZmBkCamZmZmZnJv5qZmZmZmcm/zczMzMzM/D9mZmZmZmYGQJqZmZmZmcm/zczMzMzM/D9mZmZmZmYGQJqZmZmZmcm/mpmZmZmZ6T/NzMzMzMz8P2ZmZmZmZgZAmpmZmZmZyb+amZmZmZnpP83MzMzMzPw/ZmZmZmZmBkDNzMzMzMz8P5qZmZmZmcm/mpmZmZmZ6T/NzMzMzMz8P2ZmZmZmZgZAzczMzMzM/D9mZmZmZmYGQJqZmZmZmcm/mpmZmZmZ6T/NzMzMzMz8P2ZmZmZmZgZAmpmZmZmZyb+amZmZmZnpP83MzMzMzPw/ZmZmZmZmBkA=\"},\"shape\":[73],\"dtype\":\"float64\",\"order\":\"little\"}]]}}},\"view\":{\"type\":\"object\",\"name\":\"CDSView\",\"id\":\"p1305\",\"attributes\":{\"filter\":{\"type\":\"object\",\"name\":\"AllIndices\",\"id\":\"p1306\"}}},\"glyph\":{\"type\":\"object\",\"name\":\"Quad\",\"id\":\"p1301\",\"attributes\":{\"left\":{\"type\":\"field\",\"field\":\"start\"},\"right\":{\"type\":\"field\",\"field\":\"end\"},\"bottom\":{\"type\":\"field\",\"field\":\"bottom\"},\"top\":{\"type\":\"field\",\"field\":\"top\"},\"line_color\":{\"type\":\"value\",\"value\":\"grey\"},\"fill_color\":{\"type\":\"value\",\"value\":\"grey\"},\"fill_alpha\":{\"type\":\"field\",\"field\":\"velocity\"}}},\"nonselection_glyph\":{\"type\":\"object\",\"name\":\"Quad\",\"id\":\"p1302\",\"attributes\":{\"left\":{\"type\":\"field\",\"field\":\"start\"},\"right\":{\"type\":\"field\",\"field\":\"end\"},\"bottom\":{\"type\":\"field\",\"field\":\"bottom\"},\"top\":{\"type\":\"field\",\"field\":\"top\"},\"line_color\":{\"type\":\"value\",\"value\":\"grey\"},\"line_alpha\":{\"type\":\"value\",\"value\":0.1},\"fill_color\":{\"type\":\"value\",\"value\":\"grey\"},\"fill_alpha\":{\"type\":\"value\",\"value\":0.1},\"hatch_alpha\":{\"type\":\"value\",\"value\":0.1}}},\"muted_glyph\":{\"type\":\"object\",\"name\":\"Quad\",\"id\":\"p1303\",\"attributes\":{\"left\":{\"type\":\"field\",\"field\":\"start\"},\"right\":{\"type\":\"field\",\"field\":\"end\"},\"bottom\":{\"type\":\"field\",\"field\":\"bottom\"},\"top\":{\"type\":\"field\",\"field\":\"top\"},\"line_color\":{\"type\":\"value\",\"value\":\"grey\"},\"line_alpha\":{\"type\":\"value\",\"value\":0.2},\"fill_color\":{\"type\":\"value\",\"value\":\"grey\"},\"fill_alpha\":{\"type\":\"value\",\"value\":0.2},\"hatch_alpha\":{\"type\":\"value\",\"value\":0.2}}}}},{\"type\":\"object\",\"name\":\"GlyphRenderer\",\"id\":\"p1355\",\"attributes\":{\"data_source\":{\"type\":\"object\",\"name\":\"ColumnDataSource\",\"id\":\"p1346\",\"attributes\":{\"selected\":{\"type\":\"object\",\"name\":\"Selection\",\"id\":\"p1347\",\"attributes\":{\"indices\":[],\"line_indices\":[]}},\"selection_policy\":{\"type\":\"object\",\"name\":\"UnionRenderers\",\"id\":\"p1348\"},\"data\":{\"type\":\"map\",\"entries\":[[\"x\",[0.0]],[\"y\",[4.5]],[\"tempo\",[102.0000510000255]],[\"grid_index\",[0]]]}}},\"view\":{\"type\":\"object\",\"name\":\"CDSView\",\"id\":\"p1356\",\"attributes\":{\"filter\":{\"type\":\"object\",\"name\":\"AllIndices\",\"id\":\"p1357\"}}},\"glyph\":{\"type\":\"object\",\"name\":\"Scatter\",\"id\":\"p1352\",\"attributes\":{\"x\":{\"type\":\"field\",\"field\":\"x\"},\"y\":{\"type\":\"field\",\"field\":\"y\"},\"size\":{\"type\":\"value\",\"value\":10},\"line_color\":{\"type\":\"value\",\"value\":\"#440154\"},\"fill_color\":{\"type\":\"value\",\"value\":\"#440154\"}}},\"nonselection_glyph\":{\"type\":\"object\",\"name\":\"Scatter\",\"id\":\"p1353\",\"attributes\":{\"x\":{\"type\":\"field\",\"field\":\"x\"},\"y\":{\"type\":\"field\",\"field\":\"y\"},\"size\":{\"type\":\"value\",\"value\":10},\"line_color\":{\"type\":\"value\",\"value\":\"#440154\"},\"line_alpha\":{\"type\":\"value\",\"value\":0.1},\"fill_color\":{\"type\":\"value\",\"value\":\"#440154\"},\"fill_alpha\":{\"type\":\"value\",\"value\":0.1},\"hatch_alpha\":{\"type\":\"value\",\"value\":0.1}}},\"muted_glyph\":{\"type\":\"object\",\"name\":\"Scatter\",\"id\":\"p1354\",\"attributes\":{\"x\":{\"type\":\"field\",\"field\":\"x\"},\"y\":{\"type\":\"field\",\"field\":\"y\"},\"size\":{\"type\":\"value\",\"value\":10},\"line_color\":{\"type\":\"value\",\"value\":\"#440154\"},\"line_alpha\":{\"type\":\"value\",\"value\":0.2},\"fill_color\":{\"type\":\"value\",\"value\":\"#440154\"},\"fill_alpha\":{\"type\":\"value\",\"value\":0.2},\"hatch_alpha\":{\"type\":\"value\",\"value\":0.2}}}}},{\"type\":\"object\",\"name\":\"GlyphRenderer\",\"id\":\"p1369\",\"attributes\":{\"data_source\":{\"type\":\"object\",\"name\":\"ColumnDataSource\",\"id\":\"p1360\",\"attributes\":{\"selected\":{\"type\":\"object\",\"name\":\"Selection\",\"id\":\"p1361\",\"attributes\":{\"indices\":[],\"line_indices\":[]}},\"selection_policy\":{\"type\":\"object\",\"name\":\"UnionRenderers\",\"id\":\"p1362\"},\"data\":{\"type\":\"map\",\"entries\":[[\"x\",[0.0]],[\"y\",[4]],[\"Numerator\",[4]],[\"Denominator\",[4]],[\"grid_index\",[0]]]}}},\"view\":{\"type\":\"object\",\"name\":\"CDSView\",\"id\":\"p1370\",\"attributes\":{\"filter\":{\"type\":\"object\",\"name\":\"AllIndices\",\"id\":\"p1371\"}}},\"glyph\":{\"type\":\"object\",\"name\":\"Scatter\",\"id\":\"p1366\",\"attributes\":{\"x\":{\"type\":\"field\",\"field\":\"x\"},\"y\":{\"type\":\"field\",\"field\":\"y\"},\"size\":{\"type\":\"value\",\"value\":10},\"line_color\":{\"type\":\"value\",\"value\":\"#70CE56\"},\"fill_color\":{\"type\":\"value\",\"value\":\"#70CE56\"}}},\"nonselection_glyph\":{\"type\":\"object\",\"name\":\"Scatter\",\"id\":\"p1367\",\"attributes\":{\"x\":{\"type\":\"field\",\"field\":\"x\"},\"y\":{\"type\":\"field\",\"field\":\"y\"},\"size\":{\"type\":\"value\",\"value\":10},\"line_color\":{\"type\":\"value\",\"value\":\"#70CE56\"},\"line_alpha\":{\"type\":\"value\",\"value\":0.1},\"fill_color\":{\"type\":\"value\",\"value\":\"#70CE56\"},\"fill_alpha\":{\"type\":\"value\",\"value\":0.1},\"hatch_alpha\":{\"type\":\"value\",\"value\":0.1}}},\"muted_glyph\":{\"type\":\"object\",\"name\":\"Scatter\",\"id\":\"p1368\",\"attributes\":{\"x\":{\"type\":\"field\",\"field\":\"x\"},\"y\":{\"type\":\"field\",\"field\":\"y\"},\"size\":{\"type\":\"value\",\"value\":10},\"line_color\":{\"type\":\"value\",\"value\":\"#70CE56\"},\"line_alpha\":{\"type\":\"value\",\"value\":0.2},\"fill_color\":{\"type\":\"value\",\"value\":\"#70CE56\"},\"fill_alpha\":{\"type\":\"value\",\"value\":0.2},\"hatch_alpha\":{\"type\":\"value\",\"value\":0.2}}}}},{\"type\":\"object\",\"name\":\"GlyphRenderer\",\"id\":\"p1383\",\"attributes\":{\"data_source\":{\"type\":\"object\",\"name\":\"ColumnDataSource\",\"id\":\"p1374\",\"attributes\":{\"selected\":{\"type\":\"object\",\"name\":\"Selection\",\"id\":\"p1375\",\"attributes\":{\"indices\":[],\"line_indices\":[]}},\"selection_policy\":{\"type\":\"object\",\"name\":\"UnionRenderers\",\"id\":\"p1376\"},\"data\":{\"type\":\"map\",\"entries\":[[\"x\",[0.0]],[\"y\",[3.5]],[\"filename\",[\"5382749461010f7bf3e83b1cc56b0dae_guitar.mid\"]],[\"main_file\",[\"5382749461010f7bf3e83b1cc56b0dae\"]],[\"instrument\",[\"guitar\"]],[\"source\",[\"Lakh MIDI\"]],[\"stream_0\",[\"brass\"]],[\"stream_1\",[\"bass\"]],[\"stream_2\",[\"drum\"]],[\"stream_3\",[\"guitar\"]],[\"start_bar\",[50]],[\"collection\",[\"lmd_batch_56_filtered\"]],[\"sample_id\",[\"5382749461010f7bf3e83b1cc56b0dae\"]]]}}},\"view\":{\"type\":\"object\",\"name\":\"CDSView\",\"id\":\"p1384\",\"attributes\":{\"filter\":{\"type\":\"object\",\"name\":\"AllIndices\",\"id\":\"p1385\"}}},\"glyph\":{\"type\":\"object\",\"name\":\"Scatter\",\"id\":\"p1380\",\"attributes\":{\"x\":{\"type\":\"field\",\"field\":\"x\"},\"y\":{\"type\":\"field\",\"field\":\"y\"},\"size\":{\"type\":\"value\",\"value\":10},\"line_color\":{\"type\":\"value\",\"value\":\"#1EA087\"},\"fill_color\":{\"type\":\"value\",\"value\":\"#1EA087\"}}},\"nonselection_glyph\":{\"type\":\"object\",\"name\":\"Scatter\",\"id\":\"p1381\",\"attributes\":{\"x\":{\"type\":\"field\",\"field\":\"x\"},\"y\":{\"type\":\"field\",\"field\":\"y\"},\"size\":{\"type\":\"value\",\"value\":10},\"line_color\":{\"type\":\"value\",\"value\":\"#1EA087\"},\"line_alpha\":{\"type\":\"value\",\"value\":0.1},\"fill_color\":{\"type\":\"value\",\"value\":\"#1EA087\"},\"fill_alpha\":{\"type\":\"value\",\"value\":0.1},\"hatch_alpha\":{\"type\":\"value\",\"value\":0.1}}},\"muted_glyph\":{\"type\":\"object\",\"name\":\"Scatter\",\"id\":\"p1382\",\"attributes\":{\"x\":{\"type\":\"field\",\"field\":\"x\"},\"y\":{\"type\":\"field\",\"field\":\"y\"},\"size\":{\"type\":\"value\",\"value\":10},\"line_color\":{\"type\":\"value\",\"value\":\"#1EA087\"},\"line_alpha\":{\"type\":\"value\",\"value\":0.2},\"fill_color\":{\"type\":\"value\",\"value\":\"#1EA087\"},\"fill_alpha\":{\"type\":\"value\",\"value\":0.2},\"hatch_alpha\":{\"type\":\"value\",\"value\":0.2}}}}}],\"toolbar\":{\"type\":\"object\",\"name\":\"Toolbar\",\"id\":\"p1270\",\"attributes\":{\"tools\":[{\"type\":\"object\",\"name\":\"PanTool\",\"id\":\"p1284\"},{\"type\":\"object\",\"name\":\"WheelZoomTool\",\"id\":\"p1285\",\"attributes\":{\"renderers\":\"auto\"}},{\"type\":\"object\",\"name\":\"BoxZoomTool\",\"id\":\"p1286\",\"attributes\":{\"overlay\":{\"type\":\"object\",\"name\":\"BoxAnnotation\",\"id\":\"p1287\",\"attributes\":{\"syncable\":false,\"level\":\"overlay\",\"visible\":false,\"left\":{\"type\":\"number\",\"value\":\"nan\"},\"right\":{\"type\":\"number\",\"value\":\"nan\"},\"top\":{\"type\":\"number\",\"value\":\"nan\"},\"bottom\":{\"type\":\"number\",\"value\":\"nan\"},\"left_units\":\"canvas\",\"right_units\":\"canvas\",\"top_units\":\"canvas\",\"bottom_units\":\"canvas\",\"line_color\":\"black\",\"line_alpha\":1.0,\"line_width\":2,\"line_dash\":[4,4],\"fill_color\":\"lightgrey\",\"fill_alpha\":0.5}}}},{\"type\":\"object\",\"name\":\"SaveTool\",\"id\":\"p1292\"},{\"type\":\"object\",\"name\":\"ResetTool\",\"id\":\"p1293\"},{\"type\":\"object\",\"name\":\"HelpTool\",\"id\":\"p1294\"},{\"type\":\"object\",\"name\":\"HoverTool\",\"id\":\"p1309\",\"attributes\":{\"renderers\":[{\"id\":\"p1304\"}],\"tooltips\":[[\"start\",\"@start\"],[\"end\",\"@end\"],[\"instrument\",\"@instrument\"],[\"voice_index\",\"@voice_index\"],[\"midi\",\"@midi\"],[\"velocity\",\"@velocity\"],[\"offset\",\"@offset\"],[\"offset_sec\",\"@offset_sec\"],[\"grid_line\",\"@grid_line\"]]}},{\"type\":\"object\",\"name\":\"HoverTool\",\"id\":\"p1359\",\"attributes\":{\"renderers\":[{\"id\":\"p1355\"}],\"tooltips\":[[\"tempo\",\"@tempo\"],[\"grid_index\",\"@grid_index\"]]}},{\"type\":\"object\",\"name\":\"HoverTool\",\"id\":\"p1373\",\"attributes\":{\"renderers\":[{\"id\":\"p1369\"}],\"tooltips\":[[\"Numerator\",\"@Numerator\"],[\"Denominator\",\"@Denominator\"],[\"grid_index\",\"@grid_index\"]]}},{\"type\":\"object\",\"name\":\"HoverTool\",\"id\":\"p1387\",\"attributes\":{\"renderers\":[{\"id\":\"p1383\"}],\"tooltips\":[[\"filename\",\"@filename\"],[\"main_file\",\"@main_file\"],[\"instrument\",\"@instrument\"],[\"source\",\"@source\"],[\"stream_0\",\"@stream_0\"],[\"stream_1\",\"@stream_1\"],[\"stream_2\",\"@stream_2\"],[\"stream_3\",\"@stream_3\"],[\"start_bar\",\"@start_bar\"],[\"collection\",\"@collection\"],[\"sample_id\",\"@sample_id\"]]}}]}},\"left\":[{\"type\":\"object\",\"name\":\"LinearAxis\",\"id\":\"p1279\",\"attributes\":{\"ticker\":{\"type\":\"object\",\"name\":\"FixedTicker\",\"id\":\"p1310\",\"attributes\":{\"ticks\":[0,1,2,3],\"minor_ticks\":[]}},\"formatter\":{\"type\":\"object\",\"name\":\"BasicTickFormatter\",\"id\":\"p1281\"},\"axis_label\":\"Instrument\",\"axis_label_standoff\":10,\"axis_label_text_color\":\"#5B5B5B\",\"axis_label_text_font\":\"Helvetica\",\"axis_label_text_font_size\":\"1.25em\",\"axis_label_text_font_style\":\"normal\",\"major_label_overrides\":{\"type\":\"map\",\"entries\":[[0,\"stream_0\"],[1,\"stream_1\"],[2,\"stream_2\"],[3,\"stream_3\"]]},\"major_label_policy\":{\"type\":\"object\",\"name\":\"AllLabels\",\"id\":\"p1282\"},\"major_label_text_color\":\"#5B5B5B\",\"major_label_text_font\":\"Helvetica\",\"major_label_text_font_size\":\"1.025em\",\"axis_line_color\":\"#5B5B5B\",\"axis_line_alpha\":0,\"major_tick_line_color\":\"#5B5B5B\",\"major_tick_line_alpha\":0,\"minor_tick_line_color\":\"#5B5B5B\",\"minor_tick_line_alpha\":0}}],\"right\":[{\"type\":\"object\",\"name\":\"Legend\",\"id\":\"p1307\",\"attributes\":{\"border_line_alpha\":0,\"background_fill_alpha\":0.25,\"click_policy\":\"hide\",\"label_text_color\":\"#5B5B5B\",\"label_text_font\":\"Helvetica\",\"label_text_font_size\":\"1.025em\",\"label_standoff\":8,\"glyph_width\":15,\"spacing\":8,\"items\":[{\"type\":\"object\",\"name\":\"LegendItem\",\"id\":\"p1308\",\"attributes\":{\"label\":{\"type\":\"value\",\"value\":\"Piano Roll\"},\"renderers\":[{\"id\":\"p1304\"}]}},{\"type\":\"object\",\"name\":\"LegendItem\",\"id\":\"p1358\",\"attributes\":{\"label\":{\"type\":\"value\",\"value\":\"Tempo\"},\"renderers\":[{\"id\":\"p1355\"}]}},{\"type\":\"object\",\"name\":\"LegendItem\",\"id\":\"p1372\",\"attributes\":{\"label\":{\"type\":\"value\",\"value\":\"Time Signature\"},\"renderers\":[{\"id\":\"p1369\"}]}},{\"type\":\"object\",\"name\":\"LegendItem\",\"id\":\"p1386\",\"attributes\":{\"label\":{\"type\":\"value\",\"value\":\"Metadata\"},\"renderers\":[{\"id\":\"p1383\"}]}}]}}],\"below\":[{\"type\":\"object\",\"name\":\"LinearAxis\",\"id\":\"p1274\",\"attributes\":{\"ticker\":{\"type\":\"object\",\"name\":\"FixedTicker\",\"id\":\"p1335\",\"attributes\":{\"ticks\":[0.0,0.59,1.18,1.76,2.35,2.94,3.53,4.12],\"minor_ticks\":[]}},\"formatter\":{\"type\":\"object\",\"name\":\"BasicTickFormatter\",\"id\":\"p1276\"},\"axis_label\":\"Time (sec)\",\"axis_label_standoff\":10,\"axis_label_text_color\":\"#5B5B5B\",\"axis_label_text_font\":\"Helvetica\",\"axis_label_text_font_size\":\"1.25em\",\"axis_label_text_font_style\":\"normal\",\"major_label_orientation\":1.57,\"major_label_policy\":{\"type\":\"object\",\"name\":\"AllLabels\",\"id\":\"p1277\"},\"major_label_text_color\":\"#5B5B5B\",\"major_label_text_font\":\"Helvetica\",\"major_label_text_font_size\":\"1.025em\",\"axis_line_color\":\"#5B5B5B\",\"axis_line_alpha\":0,\"major_tick_line_color\":\"#5B5B5B\",\"major_tick_line_alpha\":0,\"minor_tick_line_color\":\"#5B5B5B\",\"minor_tick_line_alpha\":0}}],\"center\":[{\"type\":\"object\",\"name\":\"Grid\",\"id\":\"p1278\",\"attributes\":{\"axis\":{\"id\":\"p1274\"},\"grid_line_color\":null}},{\"type\":\"object\",\"name\":\"Grid\",\"id\":\"p1283\",\"attributes\":{\"dimension\":1,\"axis\":{\"id\":\"p1279\"},\"grid_line_color\":null}},{\"id\":\"p1307\"},{\"type\":\"object\",\"name\":\"Span\",\"id\":\"p1311\",\"attributes\":{\"location\":0.147,\"dimension\":\"height\",\"line_width\":0.1}},{\"type\":\"object\",\"name\":\"Span\",\"id\":\"p1312\",\"attributes\":{\"location\":0.294,\"dimension\":\"height\",\"line_width\":0.1}},{\"type\":\"object\",\"name\":\"Span\",\"id\":\"p1313\",\"attributes\":{\"location\":0.441,\"dimension\":\"height\",\"line_width\":0.1}},{\"type\":\"object\",\"name\":\"Span\",\"id\":\"p1314\",\"attributes\":{\"location\":0.735,\"dimension\":\"height\",\"line_width\":0.1}},{\"type\":\"object\",\"name\":\"Span\",\"id\":\"p1315\",\"attributes\":{\"location\":0.882,\"dimension\":\"height\",\"line_width\":0.1}},{\"type\":\"object\",\"name\":\"Span\",\"id\":\"p1316\",\"attributes\":{\"location\":1.029,\"dimension\":\"height\",\"line_width\":0.1}},{\"type\":\"object\",\"name\":\"Span\",\"id\":\"p1317\",\"attributes\":{\"location\":1.323,\"dimension\":\"height\",\"line_width\":0.1}},{\"type\":\"object\",\"name\":\"Span\",\"id\":\"p1318\",\"attributes\":{\"location\":1.47,\"dimension\":\"height\",\"line_width\":0.1}},{\"type\":\"object\",\"name\":\"Span\",\"id\":\"p1319\",\"attributes\":{\"location\":1.617,\"dimension\":\"height\",\"line_width\":0.1}},{\"type\":\"object\",\"name\":\"Span\",\"id\":\"p1320\",\"attributes\":{\"location\":1.912,\"dimension\":\"height\",\"line_width\":0.1}},{\"type\":\"object\",\"name\":\"Span\",\"id\":\"p1321\",\"attributes\":{\"location\":2.059,\"dimension\":\"height\",\"line_width\":0.1}},{\"type\":\"object\",\"name\":\"Span\",\"id\":\"p1322\",\"attributes\":{\"location\":2.206,\"dimension\":\"height\",\"line_width\":0.1}},{\"type\":\"object\",\"name\":\"Span\",\"id\":\"p1323\",\"attributes\":{\"location\":2.5,\"dimension\":\"height\",\"line_width\":0.1}},{\"type\":\"object\",\"name\":\"Span\",\"id\":\"p1324\",\"attributes\":{\"location\":2.647,\"dimension\":\"height\",\"line_width\":0.1}},{\"type\":\"object\",\"name\":\"Span\",\"id\":\"p1325\",\"attributes\":{\"location\":2.794,\"dimension\":\"height\",\"line_width\":0.1}},{\"type\":\"object\",\"name\":\"Span\",\"id\":\"p1326\",\"attributes\":{\"location\":3.088,\"dimension\":\"height\",\"line_width\":0.1}},{\"type\":\"object\",\"name\":\"Span\",\"id\":\"p1327\",\"attributes\":{\"location\":3.235,\"dimension\":\"height\",\"line_width\":0.1}},{\"type\":\"object\",\"name\":\"Span\",\"id\":\"p1328\",\"attributes\":{\"location\":3.382,\"dimension\":\"height\",\"line_width\":0.1}},{\"type\":\"object\",\"name\":\"Span\",\"id\":\"p1329\",\"attributes\":{\"location\":3.676,\"dimension\":\"height\",\"line_width\":0.1}},{\"type\":\"object\",\"name\":\"Span\",\"id\":\"p1330\",\"attributes\":{\"location\":3.823,\"dimension\":\"height\",\"line_width\":0.1}},{\"type\":\"object\",\"name\":\"Span\",\"id\":\"p1331\",\"attributes\":{\"location\":3.97,\"dimension\":\"height\",\"line_width\":0.1}},{\"type\":\"object\",\"name\":\"Span\",\"id\":\"p1332\",\"attributes\":{\"location\":4.265,\"dimension\":\"height\",\"line_width\":0.1}},{\"type\":\"object\",\"name\":\"Span\",\"id\":\"p1333\",\"attributes\":{\"location\":4.412,\"dimension\":\"height\",\"line_width\":0.1}},{\"type\":\"object\",\"name\":\"Span\",\"id\":\"p1334\",\"attributes\":{\"location\":4.559,\"dimension\":\"height\",\"line_width\":0.1}},{\"type\":\"object\",\"name\":\"Span\",\"id\":\"p1336\",\"attributes\":{\"location\":0.0,\"dimension\":\"height\",\"line_width\":0.5}},{\"type\":\"object\",\"name\":\"Span\",\"id\":\"p1337\",\"attributes\":{\"location\":0.588,\"dimension\":\"height\",\"line_width\":0.5}},{\"type\":\"object\",\"name\":\"Span\",\"id\":\"p1338\",\"attributes\":{\"location\":1.176,\"dimension\":\"height\",\"line_width\":0.5}},{\"type\":\"object\",\"name\":\"Span\",\"id\":\"p1339\",\"attributes\":{\"location\":1.765,\"dimension\":\"height\",\"line_width\":0.5}},{\"type\":\"object\",\"name\":\"Span\",\"id\":\"p1340\",\"attributes\":{\"location\":2.353,\"dimension\":\"height\",\"line_width\":0.5}},{\"type\":\"object\",\"name\":\"Span\",\"id\":\"p1341\",\"attributes\":{\"location\":2.941,\"dimension\":\"height\",\"line_width\":0.5}},{\"type\":\"object\",\"name\":\"Span\",\"id\":\"p1342\",\"attributes\":{\"location\":3.529,\"dimension\":\"height\",\"line_width\":0.5}},{\"type\":\"object\",\"name\":\"Span\",\"id\":\"p1343\",\"attributes\":{\"location\":4.118,\"dimension\":\"height\",\"line_width\":0.5}},{\"type\":\"object\",\"name\":\"Span\",\"id\":\"p1344\",\"attributes\":{\"location\":0.0,\"dimension\":\"height\",\"line_width\":2}},{\"type\":\"object\",\"name\":\"Span\",\"id\":\"p1345\",\"attributes\":{\"location\":2.353,\"dimension\":\"height\",\"line_width\":2}}]}}}},{\"type\":\"object\",\"name\":\"TabPanel\",\"id\":\"p2294\",\"attributes\":{\"title\":\"Tab 4\",\"child\":{\"type\":\"object\",\"name\":\"Figure\",\"id\":\"p1391\",\"attributes\":{\"width\":800,\"height\":400,\"x_range\":{\"type\":\"object\",\"name\":\"DataRange1d\",\"id\":\"p1393\",\"attributes\":{\"start\":-0.4559,\"end\":5.014900000000001}},\"y_range\":{\"type\":\"object\",\"name\":\"Range1d\",\"id\":\"p1400\",\"attributes\":{\"start\":-0.5,\"end\":5.75}},\"x_scale\":{\"type\":\"object\",\"name\":\"LinearScale\",\"id\":\"p1401\"},\"y_scale\":{\"type\":\"object\",\"name\":\"LinearScale\",\"id\":\"p1402\"},\"title\":{\"type\":\"object\",\"name\":\"Title\",\"id\":\"p1398\",\"attributes\":{\"text_color\":\"#5B5B5B\",\"text_font\":\"Helvetica\",\"text_font_size\":\"1.15em\"}},\"renderers\":[{\"type\":\"object\",\"name\":\"GlyphRenderer\",\"id\":\"p1433\",\"attributes\":{\"data_source\":{\"type\":\"object\",\"name\":\"ColumnDataSource\",\"id\":\"p1424\",\"attributes\":{\"selected\":{\"type\":\"object\",\"name\":\"Selection\",\"id\":\"p1425\",\"attributes\":{\"indices\":[],\"line_indices\":[]}},\"selection_policy\":{\"type\":\"object\",\"name\":\"UnionRenderers\",\"id\":\"p1426\"},\"data\":{\"type\":\"map\",\"entries\":[[\"start\",[0.000294,0.000294,0.000294,0.000294,0.294441,0.294441,0.44144100000000003,0.44144100000000003,0.5875589999999999,0.5875589999999999,0.5875589999999999,0.5875589999999999,0.734706,0.881706,0.881706,1.028706,1.028706,1.028706,1.175853,1.175853,1.175853,1.322853,1.322853,1.322853,1.47,1.47,1.617,1.617,1.617,1.617,1.765,1.765,1.765,1.9121469999999998,1.9121469999999998,1.9121469999999998,2.0591470000000003,2.0591470000000003,2.0591470000000003,2.0591470000000003,2.2062939999999998,2.353294,2.353294,2.353294,2.353294,2.500294,2.6474409999999997,2.6474409999999997,2.794441,2.794441,2.940559,2.940559,2.940559,3.234706,3.234706,3.234706,3.3817060000000003,3.3817060000000003,3.528706,3.528706,3.675853,3.675853,3.675853,3.822853,3.969853,3.969853,3.969853,4.118,4.118,4.265,4.412147,4.412147,4.412147,4.412147,4.559147]],[\"end\",[0.07379399999999968,0.07379399999999968,0.07379399999999968,0.07379399999999968,0.3679409999999997,0.3679409999999997,0.5149409999999996,0.5149409999999996,0.6610589999999996,0.6610589999999996,0.6610589999999996,0.6610589999999996,0.8082059999999996,0.9552059999999997,0.9552059999999997,1.1022059999999996,1.1022059999999996,1.1022059999999996,1.2493529999999997,1.2493529999999997,1.2493529999999997,1.3963529999999997,1.3963529999999997,1.3963529999999997,1.5434999999999997,1.5434999999999997,1.6904999999999997,1.6904999999999997,1.6904999999999997,1.6904999999999997,1.8384999999999996,1.8384999999999996,1.8384999999999996,1.9856469999999995,1.9856469999999995,1.9856469999999995,2.132647,2.132647,2.132647,2.132647,2.2797939999999994,2.4267939999999997,2.4267939999999997,2.4267939999999997,2.4267939999999997,2.5737939999999995,2.7209409999999994,2.7209409999999994,2.8679409999999996,2.8679409999999996,3.0140589999999996,3.0140589999999996,3.0140589999999996,3.3082059999999998,3.3082059999999998,3.3082059999999998,3.455206,3.455206,3.602206,3.602206,3.7493529999999997,3.7493529999999997,3.7493529999999997,3.8963529999999995,4.043353,4.043353,4.043353,4.1915,4.1915,4.3385,4.485647,4.485647,4.485647,4.485647,4.632647]],[\"instrument\",[\"stream_0\",\"stream_1\",\"stream_2\",\"stream_3\",\"stream_0\",\"stream_2\",\"stream_0\",\"stream_2\",\"stream_0\",\"stream_1\",\"stream_2\",\"stream_3\",\"stream_0\",\"stream_2\",\"stream_3\",\"stream_0\",\"stream_2\",\"stream_3\",\"stream_1\",\"stream_2\",\"stream_3\",\"stream_1\",\"stream_2\",\"stream_3\",\"stream_0\",\"stream_2\",\"stream_0\",\"stream_1\",\"stream_2\",\"stream_3\",\"stream_0\",\"stream_2\",\"stream_3\",\"stream_0\",\"stream_1\",\"stream_2\",\"stream_0\",\"stream_1\",\"stream_2\",\"stream_3\",\"stream_2\",\"stream_0\",\"stream_1\",\"stream_2\",\"stream_3\",\"stream_0\",\"stream_0\",\"stream_2\",\"stream_0\",\"stream_2\",\"stream_1\",\"stream_2\",\"stream_3\",\"stream_0\",\"stream_1\",\"stream_2\",\"stream_1\",\"stream_2\",\"stream_2\",\"stream_3\",\"stream_1\",\"stream_2\",\"stream_3\",\"stream_2\",\"stream_1\",\"stream_2\",\"stream_3\",\"stream_2\",\"stream_3\",\"stream_1\",\"stream_0\",\"stream_1\",\"stream_2\",\"stream_3\",\"stream_2\"]],[\"voice_index\",[0,1,2,3,0,2,0,2,0,1,2,3,0,2,3,0,2,3,1,2,3,1,2,3,0,2,0,1,2,3,0,2,3,0,1,2,0,1,2,3,2,0,1,2,3,0,0,2,0,2,1,2,3,0,1,2,1,2,2,3,1,2,3,2,1,2,3,2,3,1,0,1,2,3,2]],[\"midi\",[36,38,42,46,36,42,36,42,36,38,42,46,36,42,46,36,42,46,38,42,46,38,42,46,36,42,36,38,42,46,36,42,46,36,38,42,36,38,42,46,42,36,38,42,46,36,36,42,36,42,38,42,46,36,38,42,38,42,42,46,38,42,46,42,38,42,46,42,46,38,36,38,42,46,42]],[\"velocity\",[0.913,0.858,1.0,0.417,0.913,0.339,0.913,1.0,0.913,0.937,1.0,0.472,0.913,1.0,0.425,0.913,0.339,0.283,0.976,1.0,0.362,0.89,1.0,0.543,0.913,0.339,0.913,0.937,1.0,0.472,0.913,1.0,0.504,0.913,0.937,1.0,0.913,0.89,1.0,0.52,1.0,0.913,0.898,1.0,0.472,0.913,0.913,1.0,0.913,1.0,0.858,1.0,0.543,0.913,0.819,1.0,0.858,1.0,1.0,0.622,0.858,1.0,0.567,1.0,0.858,1.0,0.598,1.0,0.425,0.937,0.913,0.795,1.0,0.567,1.0]],[\"offset\",[0.002,0.002,0.002,0.002,0.003,0.003,0.003,0.003,-0.003,-0.003,-0.003,-0.003,-0.002,-0.002,-0.002,-0.002,-0.002,-0.002,-0.001,-0.001,-0.001,-0.001,-0.001,-0.001,0.0,0.0,0.0,0.0,0.0,0.0,0.0,0.0,0.0,0.001,0.001,0.001,0.001,0.001,0.001,0.001,0.002,0.002,0.002,0.002,0.002,0.002,0.003,0.003,0.003,0.003,-0.003,-0.003,-0.003,-0.002,-0.002,-0.002,-0.002,-0.002,-0.002,-0.002,-0.001,-0.001,-0.001,-0.001,-0.001,-0.001,-0.001,0.0,0.0,0.0,0.001,0.001,0.001,0.001,0.001]],[\"offset_sec\",[0.0,0.0,0.0,0.0,0.0,0.0,0.0,0.0,-0.0,-0.0,-0.0,-0.0,-0.0,-0.0,-0.0,-0.0,-0.0,-0.0,-0.0,-0.0,-0.0,-0.0,-0.0,-0.0,0.0,0.0,0.0,0.0,0.0,0.0,0.0,0.0,0.0,0.0,0.0,0.0,0.0,0.0,0.0,0.0,0.0,0.0,0.0,0.0,0.0,0.0,0.0,0.0,0.0,0.0,-0.0,-0.0,-0.0,-0.0,-0.0,-0.0,-0.0,-0.0,-0.0,-0.0,-0.0,-0.0,-0.0,-0.0,-0.0,-0.0,-0.0,0.0,0.0,0.0,0.0,0.0,0.0,0.0,0.0]],[\"grid_line\",[0,0,0,0,2,2,3,3,4,4,4,4,5,6,6,7,7,7,8,8,8,9,9,9,10,10,11,11,11,11,12,12,12,13,13,13,14,14,14,14,15,16,16,16,16,17,18,18,19,19,20,20,20,22,22,22,23,23,24,24,25,25,25,26,27,27,27,28,28,29,30,30,30,30,31]],[\"top\",{\"type\":\"ndarray\",\"array\":{\"type\":\"bytes\",\"data\":\"mpmZmZmZyT8zMzMzMzPzP5qZmZmZmQFAmpmZmZmZCUCamZmZmZnJP5qZmZmZmQFAmpmZmZmZyT+amZmZmZkBQJqZmZmZmck/MzMzMzMz8z+amZmZmZkBQJqZmZmZmQlAmpmZmZmZyT+amZmZmZkBQJqZmZmZmQlAmpmZmZmZyT+amZmZmZkBQJqZmZmZmQlAMzMzMzMz8z+amZmZmZkBQJqZmZmZmQlAMzMzMzMz8z+amZmZmZkBQJqZmZmZmQlAmpmZmZmZyT+amZmZmZkBQJqZmZmZmck/MzMzMzMz8z+amZmZmZkBQJqZmZmZmQlAmpmZmZmZyT+amZmZmZkBQJqZmZmZmQlAmpmZmZmZyT8zMzMzMzPzP5qZmZmZmQFAmpmZmZmZyT8zMzMzMzPzP5qZmZmZmQFAmpmZmZmZCUCamZmZmZkBQJqZmZmZmck/MzMzMzMz8z+amZmZmZkBQJqZmZmZmQlAmpmZmZmZyT+amZmZmZnJP5qZmZmZmQFAmpmZmZmZyT+amZmZmZkBQDMzMzMzM/M/mpmZmZmZAUCamZmZmZkJQJqZmZmZmck/MzMzMzMz8z+amZmZmZkBQDMzMzMzM/M/mpmZmZmZAUCamZmZmZkBQJqZmZmZmQlAMzMzMzMz8z+amZmZmZkBQJqZmZmZmQlAmpmZmZmZAUAzMzMzMzPzP5qZmZmZmQFAmpmZmZmZCUCamZmZmZkBQJqZmZmZmQlAMzMzMzMz8z+amZmZmZnJPzMzMzMzM/M/mpmZmZmZAUCamZmZmZkJQJqZmZmZmQFA\"},\"shape\":[75],\"dtype\":\"float64\",\"order\":\"little\"}],[\"bottom\",{\"type\":\"ndarray\",\"array\":{\"type\":\"bytes\",\"data\":\"mpmZmZmZyb+amZmZmZnpP83MzMzMzPw/ZmZmZmZmBkCamZmZmZnJv83MzMzMzPw/mpmZmZmZyb/NzMzMzMz8P5qZmZmZmcm/mpmZmZmZ6T/NzMzMzMz8P2ZmZmZmZgZAmpmZmZmZyb/NzMzMzMz8P2ZmZmZmZgZAmpmZmZmZyb/NzMzMzMz8P2ZmZmZmZgZAmpmZmZmZ6T/NzMzMzMz8P2ZmZmZmZgZAmpmZmZmZ6T/NzMzMzMz8P2ZmZmZmZgZAmpmZmZmZyb/NzMzMzMz8P5qZmZmZmcm/mpmZmZmZ6T/NzMzMzMz8P2ZmZmZmZgZAmpmZmZmZyb/NzMzMzMz8P2ZmZmZmZgZAmpmZmZmZyb+amZmZmZnpP83MzMzMzPw/mpmZmZmZyb+amZmZmZnpP83MzMzMzPw/ZmZmZmZmBkDNzMzMzMz8P5qZmZmZmcm/mpmZmZmZ6T/NzMzMzMz8P2ZmZmZmZgZAmpmZmZmZyb+amZmZmZnJv83MzMzMzPw/mpmZmZmZyb/NzMzMzMz8P5qZmZmZmek/zczMzMzM/D9mZmZmZmYGQJqZmZmZmcm/mpmZmZmZ6T/NzMzMzMz8P5qZmZmZmek/zczMzMzM/D/NzMzMzMz8P2ZmZmZmZgZAmpmZmZmZ6T/NzMzMzMz8P2ZmZmZmZgZAzczMzMzM/D+amZmZmZnpP83MzMzMzPw/ZmZmZmZmBkDNzMzMzMz8P2ZmZmZmZgZAmpmZmZmZ6T+amZmZmZnJv5qZmZmZmek/zczMzMzM/D9mZmZmZmYGQM3MzMzMzPw/\"},\"shape\":[75],\"dtype\":\"float64\",\"order\":\"little\"}]]}}},\"view\":{\"type\":\"object\",\"name\":\"CDSView\",\"id\":\"p1434\",\"attributes\":{\"filter\":{\"type\":\"object\",\"name\":\"AllIndices\",\"id\":\"p1435\"}}},\"glyph\":{\"type\":\"object\",\"name\":\"Quad\",\"id\":\"p1430\",\"attributes\":{\"left\":{\"type\":\"field\",\"field\":\"start\"},\"right\":{\"type\":\"field\",\"field\":\"end\"},\"bottom\":{\"type\":\"field\",\"field\":\"bottom\"},\"top\":{\"type\":\"field\",\"field\":\"top\"},\"line_color\":{\"type\":\"value\",\"value\":\"grey\"},\"fill_color\":{\"type\":\"value\",\"value\":\"grey\"},\"fill_alpha\":{\"type\":\"field\",\"field\":\"velocity\"}}},\"nonselection_glyph\":{\"type\":\"object\",\"name\":\"Quad\",\"id\":\"p1431\",\"attributes\":{\"left\":{\"type\":\"field\",\"field\":\"start\"},\"right\":{\"type\":\"field\",\"field\":\"end\"},\"bottom\":{\"type\":\"field\",\"field\":\"bottom\"},\"top\":{\"type\":\"field\",\"field\":\"top\"},\"line_color\":{\"type\":\"value\",\"value\":\"grey\"},\"line_alpha\":{\"type\":\"value\",\"value\":0.1},\"fill_color\":{\"type\":\"value\",\"value\":\"grey\"},\"fill_alpha\":{\"type\":\"value\",\"value\":0.1},\"hatch_alpha\":{\"type\":\"value\",\"value\":0.1}}},\"muted_glyph\":{\"type\":\"object\",\"name\":\"Quad\",\"id\":\"p1432\",\"attributes\":{\"left\":{\"type\":\"field\",\"field\":\"start\"},\"right\":{\"type\":\"field\",\"field\":\"end\"},\"bottom\":{\"type\":\"field\",\"field\":\"bottom\"},\"top\":{\"type\":\"field\",\"field\":\"top\"},\"line_color\":{\"type\":\"value\",\"value\":\"grey\"},\"line_alpha\":{\"type\":\"value\",\"value\":0.2},\"fill_color\":{\"type\":\"value\",\"value\":\"grey\"},\"fill_alpha\":{\"type\":\"value\",\"value\":0.2},\"hatch_alpha\":{\"type\":\"value\",\"value\":0.2}}}}},{\"type\":\"object\",\"name\":\"GlyphRenderer\",\"id\":\"p1484\",\"attributes\":{\"data_source\":{\"type\":\"object\",\"name\":\"ColumnDataSource\",\"id\":\"p1475\",\"attributes\":{\"selected\":{\"type\":\"object\",\"name\":\"Selection\",\"id\":\"p1476\",\"attributes\":{\"indices\":[],\"line_indices\":[]}},\"selection_policy\":{\"type\":\"object\",\"name\":\"UnionRenderers\",\"id\":\"p1477\"},\"data\":{\"type\":\"map\",\"entries\":[[\"x\",[0.0]],[\"y\",[4.5]],[\"tempo\",[102.0000510000255]],[\"grid_index\",[0]]]}}},\"view\":{\"type\":\"object\",\"name\":\"CDSView\",\"id\":\"p1485\",\"attributes\":{\"filter\":{\"type\":\"object\",\"name\":\"AllIndices\",\"id\":\"p1486\"}}},\"glyph\":{\"type\":\"object\",\"name\":\"Scatter\",\"id\":\"p1481\",\"attributes\":{\"x\":{\"type\":\"field\",\"field\":\"x\"},\"y\":{\"type\":\"field\",\"field\":\"y\"},\"size\":{\"type\":\"value\",\"value\":10},\"line_color\":{\"type\":\"value\",\"value\":\"#440154\"},\"fill_color\":{\"type\":\"value\",\"value\":\"#440154\"}}},\"nonselection_glyph\":{\"type\":\"object\",\"name\":\"Scatter\",\"id\":\"p1482\",\"attributes\":{\"x\":{\"type\":\"field\",\"field\":\"x\"},\"y\":{\"type\":\"field\",\"field\":\"y\"},\"size\":{\"type\":\"value\",\"value\":10},\"line_color\":{\"type\":\"value\",\"value\":\"#440154\"},\"line_alpha\":{\"type\":\"value\",\"value\":0.1},\"fill_color\":{\"type\":\"value\",\"value\":\"#440154\"},\"fill_alpha\":{\"type\":\"value\",\"value\":0.1},\"hatch_alpha\":{\"type\":\"value\",\"value\":0.1}}},\"muted_glyph\":{\"type\":\"object\",\"name\":\"Scatter\",\"id\":\"p1483\",\"attributes\":{\"x\":{\"type\":\"field\",\"field\":\"x\"},\"y\":{\"type\":\"field\",\"field\":\"y\"},\"size\":{\"type\":\"value\",\"value\":10},\"line_color\":{\"type\":\"value\",\"value\":\"#440154\"},\"line_alpha\":{\"type\":\"value\",\"value\":0.2},\"fill_color\":{\"type\":\"value\",\"value\":\"#440154\"},\"fill_alpha\":{\"type\":\"value\",\"value\":0.2},\"hatch_alpha\":{\"type\":\"value\",\"value\":0.2}}}}},{\"type\":\"object\",\"name\":\"GlyphRenderer\",\"id\":\"p1498\",\"attributes\":{\"data_source\":{\"type\":\"object\",\"name\":\"ColumnDataSource\",\"id\":\"p1489\",\"attributes\":{\"selected\":{\"type\":\"object\",\"name\":\"Selection\",\"id\":\"p1490\",\"attributes\":{\"indices\":[],\"line_indices\":[]}},\"selection_policy\":{\"type\":\"object\",\"name\":\"UnionRenderers\",\"id\":\"p1491\"},\"data\":{\"type\":\"map\",\"entries\":[[\"x\",[0.0]],[\"y\",[4]],[\"Numerator\",[4]],[\"Denominator\",[4]],[\"grid_index\",[0]]]}}},\"view\":{\"type\":\"object\",\"name\":\"CDSView\",\"id\":\"p1499\",\"attributes\":{\"filter\":{\"type\":\"object\",\"name\":\"AllIndices\",\"id\":\"p1500\"}}},\"glyph\":{\"type\":\"object\",\"name\":\"Scatter\",\"id\":\"p1495\",\"attributes\":{\"x\":{\"type\":\"field\",\"field\":\"x\"},\"y\":{\"type\":\"field\",\"field\":\"y\"},\"size\":{\"type\":\"value\",\"value\":10},\"line_color\":{\"type\":\"value\",\"value\":\"#70CE56\"},\"fill_color\":{\"type\":\"value\",\"value\":\"#70CE56\"}}},\"nonselection_glyph\":{\"type\":\"object\",\"name\":\"Scatter\",\"id\":\"p1496\",\"attributes\":{\"x\":{\"type\":\"field\",\"field\":\"x\"},\"y\":{\"type\":\"field\",\"field\":\"y\"},\"size\":{\"type\":\"value\",\"value\":10},\"line_color\":{\"type\":\"value\",\"value\":\"#70CE56\"},\"line_alpha\":{\"type\":\"value\",\"value\":0.1},\"fill_color\":{\"type\":\"value\",\"value\":\"#70CE56\"},\"fill_alpha\":{\"type\":\"value\",\"value\":0.1},\"hatch_alpha\":{\"type\":\"value\",\"value\":0.1}}},\"muted_glyph\":{\"type\":\"object\",\"name\":\"Scatter\",\"id\":\"p1497\",\"attributes\":{\"x\":{\"type\":\"field\",\"field\":\"x\"},\"y\":{\"type\":\"field\",\"field\":\"y\"},\"size\":{\"type\":\"value\",\"value\":10},\"line_color\":{\"type\":\"value\",\"value\":\"#70CE56\"},\"line_alpha\":{\"type\":\"value\",\"value\":0.2},\"fill_color\":{\"type\":\"value\",\"value\":\"#70CE56\"},\"fill_alpha\":{\"type\":\"value\",\"value\":0.2},\"hatch_alpha\":{\"type\":\"value\",\"value\":0.2}}}}},{\"type\":\"object\",\"name\":\"GlyphRenderer\",\"id\":\"p1512\",\"attributes\":{\"data_source\":{\"type\":\"object\",\"name\":\"ColumnDataSource\",\"id\":\"p1503\",\"attributes\":{\"selected\":{\"type\":\"object\",\"name\":\"Selection\",\"id\":\"p1504\",\"attributes\":{\"indices\":[],\"line_indices\":[]}},\"selection_policy\":{\"type\":\"object\",\"name\":\"UnionRenderers\",\"id\":\"p1505\"},\"data\":{\"type\":\"map\",\"entries\":[[\"x\",[0.0]],[\"y\",[3.5]],[\"filename\",[\"5382749461010f7bf3e83b1cc56b0dae_guitar.mid\"]],[\"main_file\",[\"5382749461010f7bf3e83b1cc56b0dae\"]],[\"instrument\",[\"guitar\"]],[\"source\",[\"Lakh MIDI\"]],[\"stream_0\",[\"brass\"]],[\"stream_1\",[\"bass\"]],[\"stream_2\",[\"drum\"]],[\"stream_3\",[\"guitar\"]],[\"start_bar\",[11]],[\"collection\",[\"lmd_batch_56_filtered\"]],[\"sample_id\",[\"5382749461010f7bf3e83b1cc56b0dae\"]]]}}},\"view\":{\"type\":\"object\",\"name\":\"CDSView\",\"id\":\"p1513\",\"attributes\":{\"filter\":{\"type\":\"object\",\"name\":\"AllIndices\",\"id\":\"p1514\"}}},\"glyph\":{\"type\":\"object\",\"name\":\"Scatter\",\"id\":\"p1509\",\"attributes\":{\"x\":{\"type\":\"field\",\"field\":\"x\"},\"y\":{\"type\":\"field\",\"field\":\"y\"},\"size\":{\"type\":\"value\",\"value\":10},\"line_color\":{\"type\":\"value\",\"value\":\"#1EA087\"},\"fill_color\":{\"type\":\"value\",\"value\":\"#1EA087\"}}},\"nonselection_glyph\":{\"type\":\"object\",\"name\":\"Scatter\",\"id\":\"p1510\",\"attributes\":{\"x\":{\"type\":\"field\",\"field\":\"x\"},\"y\":{\"type\":\"field\",\"field\":\"y\"},\"size\":{\"type\":\"value\",\"value\":10},\"line_color\":{\"type\":\"value\",\"value\":\"#1EA087\"},\"line_alpha\":{\"type\":\"value\",\"value\":0.1},\"fill_color\":{\"type\":\"value\",\"value\":\"#1EA087\"},\"fill_alpha\":{\"type\":\"value\",\"value\":0.1},\"hatch_alpha\":{\"type\":\"value\",\"value\":0.1}}},\"muted_glyph\":{\"type\":\"object\",\"name\":\"Scatter\",\"id\":\"p1511\",\"attributes\":{\"x\":{\"type\":\"field\",\"field\":\"x\"},\"y\":{\"type\":\"field\",\"field\":\"y\"},\"size\":{\"type\":\"value\",\"value\":10},\"line_color\":{\"type\":\"value\",\"value\":\"#1EA087\"},\"line_alpha\":{\"type\":\"value\",\"value\":0.2},\"fill_color\":{\"type\":\"value\",\"value\":\"#1EA087\"},\"fill_alpha\":{\"type\":\"value\",\"value\":0.2},\"hatch_alpha\":{\"type\":\"value\",\"value\":0.2}}}}}],\"toolbar\":{\"type\":\"object\",\"name\":\"Toolbar\",\"id\":\"p1399\",\"attributes\":{\"tools\":[{\"type\":\"object\",\"name\":\"PanTool\",\"id\":\"p1413\"},{\"type\":\"object\",\"name\":\"WheelZoomTool\",\"id\":\"p1414\",\"attributes\":{\"renderers\":\"auto\"}},{\"type\":\"object\",\"name\":\"BoxZoomTool\",\"id\":\"p1415\",\"attributes\":{\"overlay\":{\"type\":\"object\",\"name\":\"BoxAnnotation\",\"id\":\"p1416\",\"attributes\":{\"syncable\":false,\"level\":\"overlay\",\"visible\":false,\"left\":{\"type\":\"number\",\"value\":\"nan\"},\"right\":{\"type\":\"number\",\"value\":\"nan\"},\"top\":{\"type\":\"number\",\"value\":\"nan\"},\"bottom\":{\"type\":\"number\",\"value\":\"nan\"},\"left_units\":\"canvas\",\"right_units\":\"canvas\",\"top_units\":\"canvas\",\"bottom_units\":\"canvas\",\"line_color\":\"black\",\"line_alpha\":1.0,\"line_width\":2,\"line_dash\":[4,4],\"fill_color\":\"lightgrey\",\"fill_alpha\":0.5}}}},{\"type\":\"object\",\"name\":\"SaveTool\",\"id\":\"p1421\"},{\"type\":\"object\",\"name\":\"ResetTool\",\"id\":\"p1422\"},{\"type\":\"object\",\"name\":\"HelpTool\",\"id\":\"p1423\"},{\"type\":\"object\",\"name\":\"HoverTool\",\"id\":\"p1438\",\"attributes\":{\"renderers\":[{\"id\":\"p1433\"}],\"tooltips\":[[\"start\",\"@start\"],[\"end\",\"@end\"],[\"instrument\",\"@instrument\"],[\"voice_index\",\"@voice_index\"],[\"midi\",\"@midi\"],[\"velocity\",\"@velocity\"],[\"offset\",\"@offset\"],[\"offset_sec\",\"@offset_sec\"],[\"grid_line\",\"@grid_line\"]]}},{\"type\":\"object\",\"name\":\"HoverTool\",\"id\":\"p1488\",\"attributes\":{\"renderers\":[{\"id\":\"p1484\"}],\"tooltips\":[[\"tempo\",\"@tempo\"],[\"grid_index\",\"@grid_index\"]]}},{\"type\":\"object\",\"name\":\"HoverTool\",\"id\":\"p1502\",\"attributes\":{\"renderers\":[{\"id\":\"p1498\"}],\"tooltips\":[[\"Numerator\",\"@Numerator\"],[\"Denominator\",\"@Denominator\"],[\"grid_index\",\"@grid_index\"]]}},{\"type\":\"object\",\"name\":\"HoverTool\",\"id\":\"p1516\",\"attributes\":{\"renderers\":[{\"id\":\"p1512\"}],\"tooltips\":[[\"filename\",\"@filename\"],[\"main_file\",\"@main_file\"],[\"instrument\",\"@instrument\"],[\"source\",\"@source\"],[\"stream_0\",\"@stream_0\"],[\"stream_1\",\"@stream_1\"],[\"stream_2\",\"@stream_2\"],[\"stream_3\",\"@stream_3\"],[\"start_bar\",\"@start_bar\"],[\"collection\",\"@collection\"],[\"sample_id\",\"@sample_id\"]]}}]}},\"left\":[{\"type\":\"object\",\"name\":\"LinearAxis\",\"id\":\"p1408\",\"attributes\":{\"ticker\":{\"type\":\"object\",\"name\":\"FixedTicker\",\"id\":\"p1439\",\"attributes\":{\"ticks\":[0,1,2,3],\"minor_ticks\":[]}},\"formatter\":{\"type\":\"object\",\"name\":\"BasicTickFormatter\",\"id\":\"p1410\"},\"axis_label\":\"Instrument\",\"axis_label_standoff\":10,\"axis_label_text_color\":\"#5B5B5B\",\"axis_label_text_font\":\"Helvetica\",\"axis_label_text_font_size\":\"1.25em\",\"axis_label_text_font_style\":\"normal\",\"major_label_overrides\":{\"type\":\"map\",\"entries\":[[0,\"stream_0\"],[1,\"stream_1\"],[2,\"stream_2\"],[3,\"stream_3\"]]},\"major_label_policy\":{\"type\":\"object\",\"name\":\"AllLabels\",\"id\":\"p1411\"},\"major_label_text_color\":\"#5B5B5B\",\"major_label_text_font\":\"Helvetica\",\"major_label_text_font_size\":\"1.025em\",\"axis_line_color\":\"#5B5B5B\",\"axis_line_alpha\":0,\"major_tick_line_color\":\"#5B5B5B\",\"major_tick_line_alpha\":0,\"minor_tick_line_color\":\"#5B5B5B\",\"minor_tick_line_alpha\":0}}],\"right\":[{\"type\":\"object\",\"name\":\"Legend\",\"id\":\"p1436\",\"attributes\":{\"border_line_alpha\":0,\"background_fill_alpha\":0.25,\"click_policy\":\"hide\",\"label_text_color\":\"#5B5B5B\",\"label_text_font\":\"Helvetica\",\"label_text_font_size\":\"1.025em\",\"label_standoff\":8,\"glyph_width\":15,\"spacing\":8,\"items\":[{\"type\":\"object\",\"name\":\"LegendItem\",\"id\":\"p1437\",\"attributes\":{\"label\":{\"type\":\"value\",\"value\":\"Piano Roll\"},\"renderers\":[{\"id\":\"p1433\"}]}},{\"type\":\"object\",\"name\":\"LegendItem\",\"id\":\"p1487\",\"attributes\":{\"label\":{\"type\":\"value\",\"value\":\"Tempo\"},\"renderers\":[{\"id\":\"p1484\"}]}},{\"type\":\"object\",\"name\":\"LegendItem\",\"id\":\"p1501\",\"attributes\":{\"label\":{\"type\":\"value\",\"value\":\"Time Signature\"},\"renderers\":[{\"id\":\"p1498\"}]}},{\"type\":\"object\",\"name\":\"LegendItem\",\"id\":\"p1515\",\"attributes\":{\"label\":{\"type\":\"value\",\"value\":\"Metadata\"},\"renderers\":[{\"id\":\"p1512\"}]}}]}}],\"below\":[{\"type\":\"object\",\"name\":\"LinearAxis\",\"id\":\"p1403\",\"attributes\":{\"ticker\":{\"type\":\"object\",\"name\":\"FixedTicker\",\"id\":\"p1464\",\"attributes\":{\"ticks\":[0.0,0.59,1.18,1.76,2.35,2.94,3.53,4.12],\"minor_ticks\":[]}},\"formatter\":{\"type\":\"object\",\"name\":\"BasicTickFormatter\",\"id\":\"p1405\"},\"axis_label\":\"Time (sec)\",\"axis_label_standoff\":10,\"axis_label_text_color\":\"#5B5B5B\",\"axis_label_text_font\":\"Helvetica\",\"axis_label_text_font_size\":\"1.25em\",\"axis_label_text_font_style\":\"normal\",\"major_label_orientation\":1.57,\"major_label_policy\":{\"type\":\"object\",\"name\":\"AllLabels\",\"id\":\"p1406\"},\"major_label_text_color\":\"#5B5B5B\",\"major_label_text_font\":\"Helvetica\",\"major_label_text_font_size\":\"1.025em\",\"axis_line_color\":\"#5B5B5B\",\"axis_line_alpha\":0,\"major_tick_line_color\":\"#5B5B5B\",\"major_tick_line_alpha\":0,\"minor_tick_line_color\":\"#5B5B5B\",\"minor_tick_line_alpha\":0}}],\"center\":[{\"type\":\"object\",\"name\":\"Grid\",\"id\":\"p1407\",\"attributes\":{\"axis\":{\"id\":\"p1403\"},\"grid_line_color\":null}},{\"type\":\"object\",\"name\":\"Grid\",\"id\":\"p1412\",\"attributes\":{\"dimension\":1,\"axis\":{\"id\":\"p1408\"},\"grid_line_color\":null}},{\"id\":\"p1436\"},{\"type\":\"object\",\"name\":\"Span\",\"id\":\"p1440\",\"attributes\":{\"location\":0.147,\"dimension\":\"height\",\"line_width\":0.1}},{\"type\":\"object\",\"name\":\"Span\",\"id\":\"p1441\",\"attributes\":{\"location\":0.294,\"dimension\":\"height\",\"line_width\":0.1}},{\"type\":\"object\",\"name\":\"Span\",\"id\":\"p1442\",\"attributes\":{\"location\":0.441,\"dimension\":\"height\",\"line_width\":0.1}},{\"type\":\"object\",\"name\":\"Span\",\"id\":\"p1443\",\"attributes\":{\"location\":0.735,\"dimension\":\"height\",\"line_width\":0.1}},{\"type\":\"object\",\"name\":\"Span\",\"id\":\"p1444\",\"attributes\":{\"location\":0.882,\"dimension\":\"height\",\"line_width\":0.1}},{\"type\":\"object\",\"name\":\"Span\",\"id\":\"p1445\",\"attributes\":{\"location\":1.029,\"dimension\":\"height\",\"line_width\":0.1}},{\"type\":\"object\",\"name\":\"Span\",\"id\":\"p1446\",\"attributes\":{\"location\":1.323,\"dimension\":\"height\",\"line_width\":0.1}},{\"type\":\"object\",\"name\":\"Span\",\"id\":\"p1447\",\"attributes\":{\"location\":1.47,\"dimension\":\"height\",\"line_width\":0.1}},{\"type\":\"object\",\"name\":\"Span\",\"id\":\"p1448\",\"attributes\":{\"location\":1.617,\"dimension\":\"height\",\"line_width\":0.1}},{\"type\":\"object\",\"name\":\"Span\",\"id\":\"p1449\",\"attributes\":{\"location\":1.912,\"dimension\":\"height\",\"line_width\":0.1}},{\"type\":\"object\",\"name\":\"Span\",\"id\":\"p1450\",\"attributes\":{\"location\":2.059,\"dimension\":\"height\",\"line_width\":0.1}},{\"type\":\"object\",\"name\":\"Span\",\"id\":\"p1451\",\"attributes\":{\"location\":2.206,\"dimension\":\"height\",\"line_width\":0.1}},{\"type\":\"object\",\"name\":\"Span\",\"id\":\"p1452\",\"attributes\":{\"location\":2.5,\"dimension\":\"height\",\"line_width\":0.1}},{\"type\":\"object\",\"name\":\"Span\",\"id\":\"p1453\",\"attributes\":{\"location\":2.647,\"dimension\":\"height\",\"line_width\":0.1}},{\"type\":\"object\",\"name\":\"Span\",\"id\":\"p1454\",\"attributes\":{\"location\":2.794,\"dimension\":\"height\",\"line_width\":0.1}},{\"type\":\"object\",\"name\":\"Span\",\"id\":\"p1455\",\"attributes\":{\"location\":3.088,\"dimension\":\"height\",\"line_width\":0.1}},{\"type\":\"object\",\"name\":\"Span\",\"id\":\"p1456\",\"attributes\":{\"location\":3.235,\"dimension\":\"height\",\"line_width\":0.1}},{\"type\":\"object\",\"name\":\"Span\",\"id\":\"p1457\",\"attributes\":{\"location\":3.382,\"dimension\":\"height\",\"line_width\":0.1}},{\"type\":\"object\",\"name\":\"Span\",\"id\":\"p1458\",\"attributes\":{\"location\":3.676,\"dimension\":\"height\",\"line_width\":0.1}},{\"type\":\"object\",\"name\":\"Span\",\"id\":\"p1459\",\"attributes\":{\"location\":3.823,\"dimension\":\"height\",\"line_width\":0.1}},{\"type\":\"object\",\"name\":\"Span\",\"id\":\"p1460\",\"attributes\":{\"location\":3.97,\"dimension\":\"height\",\"line_width\":0.1}},{\"type\":\"object\",\"name\":\"Span\",\"id\":\"p1461\",\"attributes\":{\"location\":4.265,\"dimension\":\"height\",\"line_width\":0.1}},{\"type\":\"object\",\"name\":\"Span\",\"id\":\"p1462\",\"attributes\":{\"location\":4.412,\"dimension\":\"height\",\"line_width\":0.1}},{\"type\":\"object\",\"name\":\"Span\",\"id\":\"p1463\",\"attributes\":{\"location\":4.559,\"dimension\":\"height\",\"line_width\":0.1}},{\"type\":\"object\",\"name\":\"Span\",\"id\":\"p1465\",\"attributes\":{\"location\":0.0,\"dimension\":\"height\",\"line_width\":0.5}},{\"type\":\"object\",\"name\":\"Span\",\"id\":\"p1466\",\"attributes\":{\"location\":0.588,\"dimension\":\"height\",\"line_width\":0.5}},{\"type\":\"object\",\"name\":\"Span\",\"id\":\"p1467\",\"attributes\":{\"location\":1.176,\"dimension\":\"height\",\"line_width\":0.5}},{\"type\":\"object\",\"name\":\"Span\",\"id\":\"p1468\",\"attributes\":{\"location\":1.765,\"dimension\":\"height\",\"line_width\":0.5}},{\"type\":\"object\",\"name\":\"Span\",\"id\":\"p1469\",\"attributes\":{\"location\":2.353,\"dimension\":\"height\",\"line_width\":0.5}},{\"type\":\"object\",\"name\":\"Span\",\"id\":\"p1470\",\"attributes\":{\"location\":2.941,\"dimension\":\"height\",\"line_width\":0.5}},{\"type\":\"object\",\"name\":\"Span\",\"id\":\"p1471\",\"attributes\":{\"location\":3.529,\"dimension\":\"height\",\"line_width\":0.5}},{\"type\":\"object\",\"name\":\"Span\",\"id\":\"p1472\",\"attributes\":{\"location\":4.118,\"dimension\":\"height\",\"line_width\":0.5}},{\"type\":\"object\",\"name\":\"Span\",\"id\":\"p1473\",\"attributes\":{\"location\":0.0,\"dimension\":\"height\",\"line_width\":2}},{\"type\":\"object\",\"name\":\"Span\",\"id\":\"p1474\",\"attributes\":{\"location\":2.353,\"dimension\":\"height\",\"line_width\":2}}]}}}},{\"type\":\"object\",\"name\":\"TabPanel\",\"id\":\"p2295\",\"attributes\":{\"title\":\"Tab 5\",\"child\":{\"type\":\"object\",\"name\":\"Figure\",\"id\":\"p1520\",\"attributes\":{\"width\":800,\"height\":400,\"x_range\":{\"type\":\"object\",\"name\":\"DataRange1d\",\"id\":\"p1522\",\"attributes\":{\"start\":-0.4559,\"end\":5.014900000000001}},\"y_range\":{\"type\":\"object\",\"name\":\"Range1d\",\"id\":\"p1529\",\"attributes\":{\"start\":-0.5,\"end\":5.75}},\"x_scale\":{\"type\":\"object\",\"name\":\"LinearScale\",\"id\":\"p1530\"},\"y_scale\":{\"type\":\"object\",\"name\":\"LinearScale\",\"id\":\"p1531\"},\"title\":{\"type\":\"object\",\"name\":\"Title\",\"id\":\"p1527\",\"attributes\":{\"text_color\":\"#5B5B5B\",\"text_font\":\"Helvetica\",\"text_font_size\":\"1.15em\"}},\"renderers\":[{\"type\":\"object\",\"name\":\"GlyphRenderer\",\"id\":\"p1562\",\"attributes\":{\"data_source\":{\"type\":\"object\",\"name\":\"ColumnDataSource\",\"id\":\"p1553\",\"attributes\":{\"selected\":{\"type\":\"object\",\"name\":\"Selection\",\"id\":\"p1554\",\"attributes\":{\"indices\":[],\"line_indices\":[]}},\"selection_policy\":{\"type\":\"object\",\"name\":\"UnionRenderers\",\"id\":\"p1555\"},\"data\":{\"type\":\"map\",\"entries\":[[\"start\",[-0.000588,-0.000588,-0.000588,0.146559,0.29355899999999996,0.29355899999999996,0.440706,0.440706,0.587706,0.587706,0.587706,0.734706,0.881853,0.881853,0.881853,1.028853,1.028853,1.028853,1.176,1.176,1.323,1.323,1.323,1.47,1.47,1.617148,1.617148,1.617148,1.7651469999999998,1.778524,1.912294,1.840117,2.059294,2.059294,2.021809,2.2062939999999998,2.352412,2.352412,2.352412,2.499412,2.646559,2.646559,2.646559,2.793559,2.793559,2.940706,2.940706,2.940706,3.0877060000000003,3.234706,3.234706,3.234706,3.381853,3.381853,3.381853,3.528853,3.528853,3.676,3.676,3.676,3.823,3.823,3.97,3.97,3.97,4.1181470000000004,4.131524000000001,4.265147,4.265147,4.203701,4.412294,4.412294,4.382894,4.559294,4.559294]],[\"end\",[0.07291199999999967,0.07291199999999967,0.07291199999999967,0.22005899999999967,0.36705899999999964,0.36705899999999964,0.5142059999999997,0.5142059999999997,0.6612059999999996,0.6612059999999996,0.6612059999999996,0.8082059999999996,0.9553529999999997,0.9553529999999997,0.9553529999999997,1.1023529999999997,1.1023529999999997,1.1023529999999997,1.2494999999999996,1.2494999999999996,1.3964999999999996,1.3964999999999996,1.3964999999999996,1.5434999999999997,1.5434999999999997,1.6906479999999997,1.6906479999999997,1.6906479999999997,1.8386469999999995,1.8520239999999997,1.9857939999999996,1.9136169999999997,2.1327939999999996,2.1327939999999996,2.095309,2.2797939999999994,2.425912,2.425912,2.425912,2.5729119999999996,2.7200589999999996,2.7200589999999996,2.7200589999999996,2.867059,2.867059,3.0142059999999997,3.0142059999999997,3.0142059999999997,3.161206,3.3082059999999998,3.3082059999999998,3.3082059999999998,3.4553529999999997,3.4553529999999997,3.4553529999999997,3.6023529999999995,3.6023529999999995,3.7495,3.7495,3.7495,3.8964999999999996,3.8964999999999996,4.0435,4.0435,4.0435,4.191647,4.205024,4.338647,4.338647,4.277201,4.485794,4.485794,4.4563939999999995,4.6327940000000005,4.6327940000000005]],[\"instrument\",[\"stream_0\",\"stream_1\",\"stream_2\",\"stream_3\",\"stream_2\",\"stream_3\",\"stream_2\",\"stream_3\",\"stream_1\",\"stream_2\",\"stream_3\",\"stream_3\",\"stream_1\",\"stream_2\",\"stream_3\",\"stream_1\",\"stream_2\",\"stream_3\",\"stream_2\",\"stream_3\",\"stream_1\",\"stream_2\",\"stream_3\",\"stream_2\",\"stream_3\",\"stream_1\",\"stream_2\",\"stream_3\",\"stream_2\",\"stream_3\",\"stream_1\",\"stream_3\",\"stream_1\",\"stream_2\",\"stream_3\",\"stream_2\",\"stream_0\",\"stream_1\",\"stream_2\",\"stream_3\",\"stream_1\",\"stream_2\",\"stream_3\",\"stream_2\",\"stream_3\",\"stream_1\",\"stream_2\",\"stream_3\",\"stream_3\",\"stream_1\",\"stream_2\",\"stream_3\",\"stream_1\",\"stream_2\",\"stream_3\",\"stream_2\",\"stream_3\",\"stream_1\",\"stream_2\",\"stream_3\",\"stream_2\",\"stream_3\",\"stream_1\",\"stream_2\",\"stream_3\",\"stream_2\",\"stream_3\",\"stream_1\",\"stream_2\",\"stream_3\",\"stream_1\",\"stream_2\",\"stream_3\",\"stream_1\",\"stream_2\"]],[\"voice_index\",[0,1,2,3,2,3,2,3,1,2,3,3,1,2,3,1,2,3,2,3,1,2,3,2,3,1,2,3,2,3,1,3,1,2,3,2,0,1,2,3,1,2,3,2,3,1,2,3,3,1,2,3,1,2,3,2,3,1,2,3,2,3,1,2,3,2,3,1,2,3,1,2,3,1,2]],[\"midi\",[36,38,42,46,42,46,42,46,38,42,46,46,38,42,46,38,42,46,42,46,38,42,46,42,46,38,42,46,42,46,38,46,38,42,46,42,36,38,42,46,38,42,46,42,46,38,42,46,46,38,42,46,38,42,46,42,46,38,42,46,42,46,38,42,46,42,46,38,42,46,38,42,46,38,42]],[\"velocity\",[0.724,0.898,1.0,0.945,1.0,0.945,1.0,0.945,0.858,1.0,0.945,0.945,0.819,1.0,0.945,0.858,1.0,0.945,1.0,0.945,0.858,1.0,0.945,1.0,0.945,0.858,1.0,0.945,1.0,0.945,0.937,0.945,0.795,1.0,0.945,1.0,0.724,0.898,1.0,0.945,0.787,1.0,0.945,1.0,0.945,0.898,1.0,0.945,0.945,0.724,1.0,0.945,0.787,1.0,0.945,1.0,0.945,0.858,1.0,0.945,1.0,0.945,0.858,1.0,0.945,1.0,0.945,0.819,1.0,0.945,0.898,1.0,0.945,0.858,1.0]],[\"offset\",[-0.004,-0.004,-0.004,-0.003,-0.003,-0.003,-0.002,-0.002,-0.002,-0.002,-0.002,-0.002,-0.001,-0.001,-0.001,-0.001,-0.001,-0.001,0.0,0.0,0.0,0.0,0.0,0.0,0.0,0.001,0.001,0.001,0.001,0.092,0.002,-0.489,0.002,0.002,-0.253,0.002,-0.004,-0.004,-0.004,-0.004,-0.003,-0.003,-0.003,-0.003,-0.003,-0.002,-0.002,-0.002,-0.002,-0.002,-0.002,-0.002,-0.001,-0.001,-0.001,-0.001,-0.001,0.0,0.0,0.0,0.0,0.0,0.0,0.0,0.0,0.001,0.092,0.001,0.001,-0.417,0.002,0.002,-0.198,0.002,0.002]],[\"offset_sec\",[-0.001,-0.001,-0.001,-0.0,-0.0,-0.0,-0.0,-0.0,-0.0,-0.0,-0.0,-0.0,-0.0,-0.0,-0.0,-0.0,-0.0,-0.0,0.0,0.0,0.0,0.0,0.0,0.0,0.0,0.0,0.0,0.0,0.0,0.014,0.0,-0.072,0.0,0.0,-0.037,0.0,-0.001,-0.001,-0.001,-0.001,-0.0,-0.0,-0.0,-0.0,-0.0,-0.0,-0.0,-0.0,-0.0,-0.0,-0.0,-0.0,-0.0,-0.0,-0.0,-0.0,-0.0,0.0,0.0,0.0,0.0,0.0,0.0,0.0,0.0,0.0,0.014,0.0,0.0,-0.061,0.0,0.0,-0.029,0.0,0.0]],[\"grid_line\",[0,0,0,1,2,2,3,3,4,4,4,5,6,6,6,7,7,7,8,8,9,9,9,10,10,11,11,11,12,12,13,13,14,14,14,15,16,16,16,17,18,18,18,19,19,20,20,20,21,22,22,22,23,23,23,24,24,25,25,25,26,26,27,27,27,28,28,29,29,29,30,30,30,31,31]],[\"top\",{\"type\":\"ndarray\",\"array\":{\"type\":\"bytes\",\"data\":\"mpmZmZmZyT8zMzMzMzPzP5qZmZmZmQFAmpmZmZmZCUCamZmZmZkBQJqZmZmZmQlAmpmZmZmZAUCamZmZmZkJQDMzMzMzM/M/mpmZmZmZAUCamZmZmZkJQJqZmZmZmQlAMzMzMzMz8z+amZmZmZkBQJqZmZmZmQlAMzMzMzMz8z+amZmZmZkBQJqZmZmZmQlAmpmZmZmZAUCamZmZmZkJQDMzMzMzM/M/mpmZmZmZAUCamZmZmZkJQJqZmZmZmQFAmpmZmZmZCUAzMzMzMzPzP5qZmZmZmQFAmpmZmZmZCUCamZmZmZkBQJqZmZmZmQlAMzMzMzMz8z+amZmZmZkJQDMzMzMzM/M/mpmZmZmZAUCamZmZmZkJQJqZmZmZmQFAmpmZmZmZyT8zMzMzMzPzP5qZmZmZmQFAmpmZmZmZCUAzMzMzMzPzP5qZmZmZmQFAmpmZmZmZCUCamZmZmZkBQJqZmZmZmQlAMzMzMzMz8z+amZmZmZkBQJqZmZmZmQlAmpmZmZmZCUAzMzMzMzPzP5qZmZmZmQFAmpmZmZmZCUAzMzMzMzPzP5qZmZmZmQFAmpmZmZmZCUCamZmZmZkBQJqZmZmZmQlAMzMzMzMz8z+amZmZmZkBQJqZmZmZmQlAmpmZmZmZAUCamZmZmZkJQDMzMzMzM/M/mpmZmZmZAUCamZmZmZkJQJqZmZmZmQFAmpmZmZmZCUAzMzMzMzPzP5qZmZmZmQFAmpmZmZmZCUAzMzMzMzPzP5qZmZmZmQFAmpmZmZmZCUAzMzMzMzPzP5qZmZmZmQFA\"},\"shape\":[75],\"dtype\":\"float64\",\"order\":\"little\"}],[\"bottom\",{\"type\":\"ndarray\",\"array\":{\"type\":\"bytes\",\"data\":\"mpmZmZmZyb+amZmZmZnpP83MzMzMzPw/ZmZmZmZmBkDNzMzMzMz8P2ZmZmZmZgZAzczMzMzM/D9mZmZmZmYGQJqZmZmZmek/zczMzMzM/D9mZmZmZmYGQGZmZmZmZgZAmpmZmZmZ6T/NzMzMzMz8P2ZmZmZmZgZAmpmZmZmZ6T/NzMzMzMz8P2ZmZmZmZgZAzczMzMzM/D9mZmZmZmYGQJqZmZmZmek/zczMzMzM/D9mZmZmZmYGQM3MzMzMzPw/ZmZmZmZmBkCamZmZmZnpP83MzMzMzPw/ZmZmZmZmBkDNzMzMzMz8P2ZmZmZmZgZAmpmZmZmZ6T9mZmZmZmYGQJqZmZmZmek/zczMzMzM/D9mZmZmZmYGQM3MzMzMzPw/mpmZmZmZyb+amZmZmZnpP83MzMzMzPw/ZmZmZmZmBkCamZmZmZnpP83MzMzMzPw/ZmZmZmZmBkDNzMzMzMz8P2ZmZmZmZgZAmpmZmZmZ6T/NzMzMzMz8P2ZmZmZmZgZAZmZmZmZmBkCamZmZmZnpP83MzMzMzPw/ZmZmZmZmBkCamZmZmZnpP83MzMzMzPw/ZmZmZmZmBkDNzMzMzMz8P2ZmZmZmZgZAmpmZmZmZ6T/NzMzMzMz8P2ZmZmZmZgZAzczMzMzM/D9mZmZmZmYGQJqZmZmZmek/zczMzMzM/D9mZmZmZmYGQM3MzMzMzPw/ZmZmZmZmBkCamZmZmZnpP83MzMzMzPw/ZmZmZmZmBkCamZmZmZnpP83MzMzMzPw/ZmZmZmZmBkCamZmZmZnpP83MzMzMzPw/\"},\"shape\":[75],\"dtype\":\"float64\",\"order\":\"little\"}]]}}},\"view\":{\"type\":\"object\",\"name\":\"CDSView\",\"id\":\"p1563\",\"attributes\":{\"filter\":{\"type\":\"object\",\"name\":\"AllIndices\",\"id\":\"p1564\"}}},\"glyph\":{\"type\":\"object\",\"name\":\"Quad\",\"id\":\"p1559\",\"attributes\":{\"left\":{\"type\":\"field\",\"field\":\"start\"},\"right\":{\"type\":\"field\",\"field\":\"end\"},\"bottom\":{\"type\":\"field\",\"field\":\"bottom\"},\"top\":{\"type\":\"field\",\"field\":\"top\"},\"line_color\":{\"type\":\"value\",\"value\":\"grey\"},\"fill_color\":{\"type\":\"value\",\"value\":\"grey\"},\"fill_alpha\":{\"type\":\"field\",\"field\":\"velocity\"}}},\"nonselection_glyph\":{\"type\":\"object\",\"name\":\"Quad\",\"id\":\"p1560\",\"attributes\":{\"left\":{\"type\":\"field\",\"field\":\"start\"},\"right\":{\"type\":\"field\",\"field\":\"end\"},\"bottom\":{\"type\":\"field\",\"field\":\"bottom\"},\"top\":{\"type\":\"field\",\"field\":\"top\"},\"line_color\":{\"type\":\"value\",\"value\":\"grey\"},\"line_alpha\":{\"type\":\"value\",\"value\":0.1},\"fill_color\":{\"type\":\"value\",\"value\":\"grey\"},\"fill_alpha\":{\"type\":\"value\",\"value\":0.1},\"hatch_alpha\":{\"type\":\"value\",\"value\":0.1}}},\"muted_glyph\":{\"type\":\"object\",\"name\":\"Quad\",\"id\":\"p1561\",\"attributes\":{\"left\":{\"type\":\"field\",\"field\":\"start\"},\"right\":{\"type\":\"field\",\"field\":\"end\"},\"bottom\":{\"type\":\"field\",\"field\":\"bottom\"},\"top\":{\"type\":\"field\",\"field\":\"top\"},\"line_color\":{\"type\":\"value\",\"value\":\"grey\"},\"line_alpha\":{\"type\":\"value\",\"value\":0.2},\"fill_color\":{\"type\":\"value\",\"value\":\"grey\"},\"fill_alpha\":{\"type\":\"value\",\"value\":0.2},\"hatch_alpha\":{\"type\":\"value\",\"value\":0.2}}}}},{\"type\":\"object\",\"name\":\"GlyphRenderer\",\"id\":\"p1613\",\"attributes\":{\"data_source\":{\"type\":\"object\",\"name\":\"ColumnDataSource\",\"id\":\"p1604\",\"attributes\":{\"selected\":{\"type\":\"object\",\"name\":\"Selection\",\"id\":\"p1605\",\"attributes\":{\"indices\":[],\"line_indices\":[]}},\"selection_policy\":{\"type\":\"object\",\"name\":\"UnionRenderers\",\"id\":\"p1606\"},\"data\":{\"type\":\"map\",\"entries\":[[\"x\",[0.0]],[\"y\",[4.5]],[\"tempo\",[102.0000510000255]],[\"grid_index\",[0]]]}}},\"view\":{\"type\":\"object\",\"name\":\"CDSView\",\"id\":\"p1614\",\"attributes\":{\"filter\":{\"type\":\"object\",\"name\":\"AllIndices\",\"id\":\"p1615\"}}},\"glyph\":{\"type\":\"object\",\"name\":\"Scatter\",\"id\":\"p1610\",\"attributes\":{\"x\":{\"type\":\"field\",\"field\":\"x\"},\"y\":{\"type\":\"field\",\"field\":\"y\"},\"size\":{\"type\":\"value\",\"value\":10},\"line_color\":{\"type\":\"value\",\"value\":\"#440154\"},\"fill_color\":{\"type\":\"value\",\"value\":\"#440154\"}}},\"nonselection_glyph\":{\"type\":\"object\",\"name\":\"Scatter\",\"id\":\"p1611\",\"attributes\":{\"x\":{\"type\":\"field\",\"field\":\"x\"},\"y\":{\"type\":\"field\",\"field\":\"y\"},\"size\":{\"type\":\"value\",\"value\":10},\"line_color\":{\"type\":\"value\",\"value\":\"#440154\"},\"line_alpha\":{\"type\":\"value\",\"value\":0.1},\"fill_color\":{\"type\":\"value\",\"value\":\"#440154\"},\"fill_alpha\":{\"type\":\"value\",\"value\":0.1},\"hatch_alpha\":{\"type\":\"value\",\"value\":0.1}}},\"muted_glyph\":{\"type\":\"object\",\"name\":\"Scatter\",\"id\":\"p1612\",\"attributes\":{\"x\":{\"type\":\"field\",\"field\":\"x\"},\"y\":{\"type\":\"field\",\"field\":\"y\"},\"size\":{\"type\":\"value\",\"value\":10},\"line_color\":{\"type\":\"value\",\"value\":\"#440154\"},\"line_alpha\":{\"type\":\"value\",\"value\":0.2},\"fill_color\":{\"type\":\"value\",\"value\":\"#440154\"},\"fill_alpha\":{\"type\":\"value\",\"value\":0.2},\"hatch_alpha\":{\"type\":\"value\",\"value\":0.2}}}}},{\"type\":\"object\",\"name\":\"GlyphRenderer\",\"id\":\"p1627\",\"attributes\":{\"data_source\":{\"type\":\"object\",\"name\":\"ColumnDataSource\",\"id\":\"p1618\",\"attributes\":{\"selected\":{\"type\":\"object\",\"name\":\"Selection\",\"id\":\"p1619\",\"attributes\":{\"indices\":[],\"line_indices\":[]}},\"selection_policy\":{\"type\":\"object\",\"name\":\"UnionRenderers\",\"id\":\"p1620\"},\"data\":{\"type\":\"map\",\"entries\":[[\"x\",[0.0]],[\"y\",[4]],[\"Numerator\",[4]],[\"Denominator\",[4]],[\"grid_index\",[0]]]}}},\"view\":{\"type\":\"object\",\"name\":\"CDSView\",\"id\":\"p1628\",\"attributes\":{\"filter\":{\"type\":\"object\",\"name\":\"AllIndices\",\"id\":\"p1629\"}}},\"glyph\":{\"type\":\"object\",\"name\":\"Scatter\",\"id\":\"p1624\",\"attributes\":{\"x\":{\"type\":\"field\",\"field\":\"x\"},\"y\":{\"type\":\"field\",\"field\":\"y\"},\"size\":{\"type\":\"value\",\"value\":10},\"line_color\":{\"type\":\"value\",\"value\":\"#70CE56\"},\"fill_color\":{\"type\":\"value\",\"value\":\"#70CE56\"}}},\"nonselection_glyph\":{\"type\":\"object\",\"name\":\"Scatter\",\"id\":\"p1625\",\"attributes\":{\"x\":{\"type\":\"field\",\"field\":\"x\"},\"y\":{\"type\":\"field\",\"field\":\"y\"},\"size\":{\"type\":\"value\",\"value\":10},\"line_color\":{\"type\":\"value\",\"value\":\"#70CE56\"},\"line_alpha\":{\"type\":\"value\",\"value\":0.1},\"fill_color\":{\"type\":\"value\",\"value\":\"#70CE56\"},\"fill_alpha\":{\"type\":\"value\",\"value\":0.1},\"hatch_alpha\":{\"type\":\"value\",\"value\":0.1}}},\"muted_glyph\":{\"type\":\"object\",\"name\":\"Scatter\",\"id\":\"p1626\",\"attributes\":{\"x\":{\"type\":\"field\",\"field\":\"x\"},\"y\":{\"type\":\"field\",\"field\":\"y\"},\"size\":{\"type\":\"value\",\"value\":10},\"line_color\":{\"type\":\"value\",\"value\":\"#70CE56\"},\"line_alpha\":{\"type\":\"value\",\"value\":0.2},\"fill_color\":{\"type\":\"value\",\"value\":\"#70CE56\"},\"fill_alpha\":{\"type\":\"value\",\"value\":0.2},\"hatch_alpha\":{\"type\":\"value\",\"value\":0.2}}}}},{\"type\":\"object\",\"name\":\"GlyphRenderer\",\"id\":\"p1641\",\"attributes\":{\"data_source\":{\"type\":\"object\",\"name\":\"ColumnDataSource\",\"id\":\"p1632\",\"attributes\":{\"selected\":{\"type\":\"object\",\"name\":\"Selection\",\"id\":\"p1633\",\"attributes\":{\"indices\":[],\"line_indices\":[]}},\"selection_policy\":{\"type\":\"object\",\"name\":\"UnionRenderers\",\"id\":\"p1634\"},\"data\":{\"type\":\"map\",\"entries\":[[\"x\",[0.0]],[\"y\",[3.5]],[\"filename\",[\"5382749461010f7bf3e83b1cc56b0dae_guitar.mid\"]],[\"main_file\",[\"5382749461010f7bf3e83b1cc56b0dae\"]],[\"instrument\",[\"guitar\"]],[\"source\",[\"Lakh MIDI\"]],[\"stream_0\",[\"brass\"]],[\"stream_1\",[\"bass\"]],[\"stream_2\",[\"drum\"]],[\"stream_3\",[\"guitar\"]],[\"start_bar\",[42]],[\"collection\",[\"lmd_batch_56_filtered\"]],[\"sample_id\",[\"5382749461010f7bf3e83b1cc56b0dae\"]]]}}},\"view\":{\"type\":\"object\",\"name\":\"CDSView\",\"id\":\"p1642\",\"attributes\":{\"filter\":{\"type\":\"object\",\"name\":\"AllIndices\",\"id\":\"p1643\"}}},\"glyph\":{\"type\":\"object\",\"name\":\"Scatter\",\"id\":\"p1638\",\"attributes\":{\"x\":{\"type\":\"field\",\"field\":\"x\"},\"y\":{\"type\":\"field\",\"field\":\"y\"},\"size\":{\"type\":\"value\",\"value\":10},\"line_color\":{\"type\":\"value\",\"value\":\"#1EA087\"},\"fill_color\":{\"type\":\"value\",\"value\":\"#1EA087\"}}},\"nonselection_glyph\":{\"type\":\"object\",\"name\":\"Scatter\",\"id\":\"p1639\",\"attributes\":{\"x\":{\"type\":\"field\",\"field\":\"x\"},\"y\":{\"type\":\"field\",\"field\":\"y\"},\"size\":{\"type\":\"value\",\"value\":10},\"line_color\":{\"type\":\"value\",\"value\":\"#1EA087\"},\"line_alpha\":{\"type\":\"value\",\"value\":0.1},\"fill_color\":{\"type\":\"value\",\"value\":\"#1EA087\"},\"fill_alpha\":{\"type\":\"value\",\"value\":0.1},\"hatch_alpha\":{\"type\":\"value\",\"value\":0.1}}},\"muted_glyph\":{\"type\":\"object\",\"name\":\"Scatter\",\"id\":\"p1640\",\"attributes\":{\"x\":{\"type\":\"field\",\"field\":\"x\"},\"y\":{\"type\":\"field\",\"field\":\"y\"},\"size\":{\"type\":\"value\",\"value\":10},\"line_color\":{\"type\":\"value\",\"value\":\"#1EA087\"},\"line_alpha\":{\"type\":\"value\",\"value\":0.2},\"fill_color\":{\"type\":\"value\",\"value\":\"#1EA087\"},\"fill_alpha\":{\"type\":\"value\",\"value\":0.2},\"hatch_alpha\":{\"type\":\"value\",\"value\":0.2}}}}}],\"toolbar\":{\"type\":\"object\",\"name\":\"Toolbar\",\"id\":\"p1528\",\"attributes\":{\"tools\":[{\"type\":\"object\",\"name\":\"PanTool\",\"id\":\"p1542\"},{\"type\":\"object\",\"name\":\"WheelZoomTool\",\"id\":\"p1543\",\"attributes\":{\"renderers\":\"auto\"}},{\"type\":\"object\",\"name\":\"BoxZoomTool\",\"id\":\"p1544\",\"attributes\":{\"overlay\":{\"type\":\"object\",\"name\":\"BoxAnnotation\",\"id\":\"p1545\",\"attributes\":{\"syncable\":false,\"level\":\"overlay\",\"visible\":false,\"left\":{\"type\":\"number\",\"value\":\"nan\"},\"right\":{\"type\":\"number\",\"value\":\"nan\"},\"top\":{\"type\":\"number\",\"value\":\"nan\"},\"bottom\":{\"type\":\"number\",\"value\":\"nan\"},\"left_units\":\"canvas\",\"right_units\":\"canvas\",\"top_units\":\"canvas\",\"bottom_units\":\"canvas\",\"line_color\":\"black\",\"line_alpha\":1.0,\"line_width\":2,\"line_dash\":[4,4],\"fill_color\":\"lightgrey\",\"fill_alpha\":0.5}}}},{\"type\":\"object\",\"name\":\"SaveTool\",\"id\":\"p1550\"},{\"type\":\"object\",\"name\":\"ResetTool\",\"id\":\"p1551\"},{\"type\":\"object\",\"name\":\"HelpTool\",\"id\":\"p1552\"},{\"type\":\"object\",\"name\":\"HoverTool\",\"id\":\"p1567\",\"attributes\":{\"renderers\":[{\"id\":\"p1562\"}],\"tooltips\":[[\"start\",\"@start\"],[\"end\",\"@end\"],[\"instrument\",\"@instrument\"],[\"voice_index\",\"@voice_index\"],[\"midi\",\"@midi\"],[\"velocity\",\"@velocity\"],[\"offset\",\"@offset\"],[\"offset_sec\",\"@offset_sec\"],[\"grid_line\",\"@grid_line\"]]}},{\"type\":\"object\",\"name\":\"HoverTool\",\"id\":\"p1617\",\"attributes\":{\"renderers\":[{\"id\":\"p1613\"}],\"tooltips\":[[\"tempo\",\"@tempo\"],[\"grid_index\",\"@grid_index\"]]}},{\"type\":\"object\",\"name\":\"HoverTool\",\"id\":\"p1631\",\"attributes\":{\"renderers\":[{\"id\":\"p1627\"}],\"tooltips\":[[\"Numerator\",\"@Numerator\"],[\"Denominator\",\"@Denominator\"],[\"grid_index\",\"@grid_index\"]]}},{\"type\":\"object\",\"name\":\"HoverTool\",\"id\":\"p1645\",\"attributes\":{\"renderers\":[{\"id\":\"p1641\"}],\"tooltips\":[[\"filename\",\"@filename\"],[\"main_file\",\"@main_file\"],[\"instrument\",\"@instrument\"],[\"source\",\"@source\"],[\"stream_0\",\"@stream_0\"],[\"stream_1\",\"@stream_1\"],[\"stream_2\",\"@stream_2\"],[\"stream_3\",\"@stream_3\"],[\"start_bar\",\"@start_bar\"],[\"collection\",\"@collection\"],[\"sample_id\",\"@sample_id\"]]}}]}},\"left\":[{\"type\":\"object\",\"name\":\"LinearAxis\",\"id\":\"p1537\",\"attributes\":{\"ticker\":{\"type\":\"object\",\"name\":\"FixedTicker\",\"id\":\"p1568\",\"attributes\":{\"ticks\":[0,1,2,3],\"minor_ticks\":[]}},\"formatter\":{\"type\":\"object\",\"name\":\"BasicTickFormatter\",\"id\":\"p1539\"},\"axis_label\":\"Instrument\",\"axis_label_standoff\":10,\"axis_label_text_color\":\"#5B5B5B\",\"axis_label_text_font\":\"Helvetica\",\"axis_label_text_font_size\":\"1.25em\",\"axis_label_text_font_style\":\"normal\",\"major_label_overrides\":{\"type\":\"map\",\"entries\":[[0,\"stream_0\"],[1,\"stream_1\"],[2,\"stream_2\"],[3,\"stream_3\"]]},\"major_label_policy\":{\"type\":\"object\",\"name\":\"AllLabels\",\"id\":\"p1540\"},\"major_label_text_color\":\"#5B5B5B\",\"major_label_text_font\":\"Helvetica\",\"major_label_text_font_size\":\"1.025em\",\"axis_line_color\":\"#5B5B5B\",\"axis_line_alpha\":0,\"major_tick_line_color\":\"#5B5B5B\",\"major_tick_line_alpha\":0,\"minor_tick_line_color\":\"#5B5B5B\",\"minor_tick_line_alpha\":0}}],\"right\":[{\"type\":\"object\",\"name\":\"Legend\",\"id\":\"p1565\",\"attributes\":{\"border_line_alpha\":0,\"background_fill_alpha\":0.25,\"click_policy\":\"hide\",\"label_text_color\":\"#5B5B5B\",\"label_text_font\":\"Helvetica\",\"label_text_font_size\":\"1.025em\",\"label_standoff\":8,\"glyph_width\":15,\"spacing\":8,\"items\":[{\"type\":\"object\",\"name\":\"LegendItem\",\"id\":\"p1566\",\"attributes\":{\"label\":{\"type\":\"value\",\"value\":\"Piano Roll\"},\"renderers\":[{\"id\":\"p1562\"}]}},{\"type\":\"object\",\"name\":\"LegendItem\",\"id\":\"p1616\",\"attributes\":{\"label\":{\"type\":\"value\",\"value\":\"Tempo\"},\"renderers\":[{\"id\":\"p1613\"}]}},{\"type\":\"object\",\"name\":\"LegendItem\",\"id\":\"p1630\",\"attributes\":{\"label\":{\"type\":\"value\",\"value\":\"Time Signature\"},\"renderers\":[{\"id\":\"p1627\"}]}},{\"type\":\"object\",\"name\":\"LegendItem\",\"id\":\"p1644\",\"attributes\":{\"label\":{\"type\":\"value\",\"value\":\"Metadata\"},\"renderers\":[{\"id\":\"p1641\"}]}}]}}],\"below\":[{\"type\":\"object\",\"name\":\"LinearAxis\",\"id\":\"p1532\",\"attributes\":{\"ticker\":{\"type\":\"object\",\"name\":\"FixedTicker\",\"id\":\"p1593\",\"attributes\":{\"ticks\":[0.0,0.59,1.18,1.76,2.35,2.94,3.53,4.12],\"minor_ticks\":[]}},\"formatter\":{\"type\":\"object\",\"name\":\"BasicTickFormatter\",\"id\":\"p1534\"},\"axis_label\":\"Time (sec)\",\"axis_label_standoff\":10,\"axis_label_text_color\":\"#5B5B5B\",\"axis_label_text_font\":\"Helvetica\",\"axis_label_text_font_size\":\"1.25em\",\"axis_label_text_font_style\":\"normal\",\"major_label_orientation\":1.57,\"major_label_policy\":{\"type\":\"object\",\"name\":\"AllLabels\",\"id\":\"p1535\"},\"major_label_text_color\":\"#5B5B5B\",\"major_label_text_font\":\"Helvetica\",\"major_label_text_font_size\":\"1.025em\",\"axis_line_color\":\"#5B5B5B\",\"axis_line_alpha\":0,\"major_tick_line_color\":\"#5B5B5B\",\"major_tick_line_alpha\":0,\"minor_tick_line_color\":\"#5B5B5B\",\"minor_tick_line_alpha\":0}}],\"center\":[{\"type\":\"object\",\"name\":\"Grid\",\"id\":\"p1536\",\"attributes\":{\"axis\":{\"id\":\"p1532\"},\"grid_line_color\":null}},{\"type\":\"object\",\"name\":\"Grid\",\"id\":\"p1541\",\"attributes\":{\"dimension\":1,\"axis\":{\"id\":\"p1537\"},\"grid_line_color\":null}},{\"id\":\"p1565\"},{\"type\":\"object\",\"name\":\"Span\",\"id\":\"p1569\",\"attributes\":{\"location\":0.147,\"dimension\":\"height\",\"line_width\":0.1}},{\"type\":\"object\",\"name\":\"Span\",\"id\":\"p1570\",\"attributes\":{\"location\":0.294,\"dimension\":\"height\",\"line_width\":0.1}},{\"type\":\"object\",\"name\":\"Span\",\"id\":\"p1571\",\"attributes\":{\"location\":0.441,\"dimension\":\"height\",\"line_width\":0.1}},{\"type\":\"object\",\"name\":\"Span\",\"id\":\"p1572\",\"attributes\":{\"location\":0.735,\"dimension\":\"height\",\"line_width\":0.1}},{\"type\":\"object\",\"name\":\"Span\",\"id\":\"p1573\",\"attributes\":{\"location\":0.882,\"dimension\":\"height\",\"line_width\":0.1}},{\"type\":\"object\",\"name\":\"Span\",\"id\":\"p1574\",\"attributes\":{\"location\":1.029,\"dimension\":\"height\",\"line_width\":0.1}},{\"type\":\"object\",\"name\":\"Span\",\"id\":\"p1575\",\"attributes\":{\"location\":1.323,\"dimension\":\"height\",\"line_width\":0.1}},{\"type\":\"object\",\"name\":\"Span\",\"id\":\"p1576\",\"attributes\":{\"location\":1.47,\"dimension\":\"height\",\"line_width\":0.1}},{\"type\":\"object\",\"name\":\"Span\",\"id\":\"p1577\",\"attributes\":{\"location\":1.617,\"dimension\":\"height\",\"line_width\":0.1}},{\"type\":\"object\",\"name\":\"Span\",\"id\":\"p1578\",\"attributes\":{\"location\":1.912,\"dimension\":\"height\",\"line_width\":0.1}},{\"type\":\"object\",\"name\":\"Span\",\"id\":\"p1579\",\"attributes\":{\"location\":2.059,\"dimension\":\"height\",\"line_width\":0.1}},{\"type\":\"object\",\"name\":\"Span\",\"id\":\"p1580\",\"attributes\":{\"location\":2.206,\"dimension\":\"height\",\"line_width\":0.1}},{\"type\":\"object\",\"name\":\"Span\",\"id\":\"p1581\",\"attributes\":{\"location\":2.5,\"dimension\":\"height\",\"line_width\":0.1}},{\"type\":\"object\",\"name\":\"Span\",\"id\":\"p1582\",\"attributes\":{\"location\":2.647,\"dimension\":\"height\",\"line_width\":0.1}},{\"type\":\"object\",\"name\":\"Span\",\"id\":\"p1583\",\"attributes\":{\"location\":2.794,\"dimension\":\"height\",\"line_width\":0.1}},{\"type\":\"object\",\"name\":\"Span\",\"id\":\"p1584\",\"attributes\":{\"location\":3.088,\"dimension\":\"height\",\"line_width\":0.1}},{\"type\":\"object\",\"name\":\"Span\",\"id\":\"p1585\",\"attributes\":{\"location\":3.235,\"dimension\":\"height\",\"line_width\":0.1}},{\"type\":\"object\",\"name\":\"Span\",\"id\":\"p1586\",\"attributes\":{\"location\":3.382,\"dimension\":\"height\",\"line_width\":0.1}},{\"type\":\"object\",\"name\":\"Span\",\"id\":\"p1587\",\"attributes\":{\"location\":3.676,\"dimension\":\"height\",\"line_width\":0.1}},{\"type\":\"object\",\"name\":\"Span\",\"id\":\"p1588\",\"attributes\":{\"location\":3.823,\"dimension\":\"height\",\"line_width\":0.1}},{\"type\":\"object\",\"name\":\"Span\",\"id\":\"p1589\",\"attributes\":{\"location\":3.97,\"dimension\":\"height\",\"line_width\":0.1}},{\"type\":\"object\",\"name\":\"Span\",\"id\":\"p1590\",\"attributes\":{\"location\":4.265,\"dimension\":\"height\",\"line_width\":0.1}},{\"type\":\"object\",\"name\":\"Span\",\"id\":\"p1591\",\"attributes\":{\"location\":4.412,\"dimension\":\"height\",\"line_width\":0.1}},{\"type\":\"object\",\"name\":\"Span\",\"id\":\"p1592\",\"attributes\":{\"location\":4.559,\"dimension\":\"height\",\"line_width\":0.1}},{\"type\":\"object\",\"name\":\"Span\",\"id\":\"p1594\",\"attributes\":{\"location\":0.0,\"dimension\":\"height\",\"line_width\":0.5}},{\"type\":\"object\",\"name\":\"Span\",\"id\":\"p1595\",\"attributes\":{\"location\":0.588,\"dimension\":\"height\",\"line_width\":0.5}},{\"type\":\"object\",\"name\":\"Span\",\"id\":\"p1596\",\"attributes\":{\"location\":1.176,\"dimension\":\"height\",\"line_width\":0.5}},{\"type\":\"object\",\"name\":\"Span\",\"id\":\"p1597\",\"attributes\":{\"location\":1.765,\"dimension\":\"height\",\"line_width\":0.5}},{\"type\":\"object\",\"name\":\"Span\",\"id\":\"p1598\",\"attributes\":{\"location\":2.353,\"dimension\":\"height\",\"line_width\":0.5}},{\"type\":\"object\",\"name\":\"Span\",\"id\":\"p1599\",\"attributes\":{\"location\":2.941,\"dimension\":\"height\",\"line_width\":0.5}},{\"type\":\"object\",\"name\":\"Span\",\"id\":\"p1600\",\"attributes\":{\"location\":3.529,\"dimension\":\"height\",\"line_width\":0.5}},{\"type\":\"object\",\"name\":\"Span\",\"id\":\"p1601\",\"attributes\":{\"location\":4.118,\"dimension\":\"height\",\"line_width\":0.5}},{\"type\":\"object\",\"name\":\"Span\",\"id\":\"p1602\",\"attributes\":{\"location\":0.0,\"dimension\":\"height\",\"line_width\":2}},{\"type\":\"object\",\"name\":\"Span\",\"id\":\"p1603\",\"attributes\":{\"location\":2.353,\"dimension\":\"height\",\"line_width\":2}}]}}}},{\"type\":\"object\",\"name\":\"TabPanel\",\"id\":\"p2296\",\"attributes\":{\"title\":\"Tab 6\",\"child\":{\"type\":\"object\",\"name\":\"Figure\",\"id\":\"p1649\",\"attributes\":{\"width\":800,\"height\":400,\"x_range\":{\"type\":\"object\",\"name\":\"DataRange1d\",\"id\":\"p1651\",\"attributes\":{\"start\":-0.4559,\"end\":5.014900000000001}},\"y_range\":{\"type\":\"object\",\"name\":\"Range1d\",\"id\":\"p1658\",\"attributes\":{\"start\":-0.5,\"end\":5.75}},\"x_scale\":{\"type\":\"object\",\"name\":\"LinearScale\",\"id\":\"p1659\"},\"y_scale\":{\"type\":\"object\",\"name\":\"LinearScale\",\"id\":\"p1660\"},\"title\":{\"type\":\"object\",\"name\":\"Title\",\"id\":\"p1656\",\"attributes\":{\"text_color\":\"#5B5B5B\",\"text_font\":\"Helvetica\",\"text_font_size\":\"1.15em\"}},\"renderers\":[{\"type\":\"object\",\"name\":\"GlyphRenderer\",\"id\":\"p1691\",\"attributes\":{\"data_source\":{\"type\":\"object\",\"name\":\"ColumnDataSource\",\"id\":\"p1682\",\"attributes\":{\"selected\":{\"type\":\"object\",\"name\":\"Selection\",\"id\":\"p1683\",\"attributes\":{\"indices\":[],\"line_indices\":[]}},\"selection_policy\":{\"type\":\"object\",\"name\":\"UnionRenderers\",\"id\":\"p1684\"},\"data\":{\"type\":\"map\",\"entries\":[[\"start\",[0.000147,0.000147,0.000147,0.000147,0.147147,0.294294,0.294294,0.441294,0.441294,0.588441,0.588441,0.588441,0.882441,0.882441,0.882441,0.882441,1.029588,1.029588,1.029588,1.175706,1.322706,1.322706,1.322706,1.469706,1.469706,1.616853,1.616853,1.7648519999999999,1.7648519999999999,1.911853,2.059,2.059,2.059,2.059,2.206,2.3531470000000003,2.3531470000000003,2.3531470000000003,2.3531470000000003,2.647147,2.647147,2.647147,2.794294,2.9412939999999996,2.9412939999999996,2.9412939999999996,2.9412939999999996,3.088441,3.235441,3.235441,3.235441,3.382441,3.382441,3.382441,3.382441,3.528559,3.528559,3.6755590000000002,3.6755590000000002,3.6755590000000002,3.822706,3.9697060000000004,3.9697060000000004,3.9697060000000004,4.117852,4.117852,4.117852,4.264853,4.264853,4.192676,4.411853,4.411853,4.339676,4.411853,4.559,4.486823]],[\"end\",[0.07364699999999967,0.07364699999999967,0.07364699999999967,0.07364699999999967,0.22064699999999968,0.3677939999999997,0.3677939999999997,0.5147939999999998,0.5147939999999998,0.6619409999999997,0.6619409999999997,0.6619409999999997,0.9559409999999997,0.9559409999999997,0.9559409999999997,0.9559409999999997,1.1030879999999996,1.1030879999999996,1.1030879999999996,1.2492059999999996,1.3962059999999996,1.3962059999999996,1.3962059999999996,1.5432059999999996,1.5432059999999996,1.6903529999999998,1.6903529999999998,1.8383519999999995,1.8383519999999995,1.9853529999999997,2.1325,2.1325,2.1325,2.1325,2.2794999999999996,2.426647,2.426647,2.426647,2.426647,2.7206469999999996,2.7206469999999996,2.7206469999999996,2.8677939999999995,3.0147939999999993,3.0147939999999993,3.0147939999999993,3.0147939999999993,3.1619409999999997,3.3089409999999995,3.3089409999999995,3.3089409999999995,3.4559409999999997,3.4559409999999997,3.4559409999999997,3.4559409999999997,3.6020589999999997,3.6020589999999997,3.749059,3.749059,3.749059,3.896206,4.043206,4.043206,4.043206,4.191352,4.191352,4.191352,4.338353,4.338353,4.266176,4.485353,4.485353,4.413176,4.485353,4.6325,4.560323]],[\"instrument\",[\"stream_0\",\"stream_1\",\"stream_2\",\"stream_3\",\"stream_0\",\"stream_0\",\"stream_2\",\"stream_0\",\"stream_2\",\"stream_1\",\"stream_2\",\"stream_3\",\"stream_0\",\"stream_1\",\"stream_2\",\"stream_3\",\"stream_1\",\"stream_2\",\"stream_3\",\"stream_2\",\"stream_1\",\"stream_2\",\"stream_3\",\"stream_1\",\"stream_2\",\"stream_2\",\"stream_3\",\"stream_2\",\"stream_3\",\"stream_1\",\"stream_0\",\"stream_1\",\"stream_2\",\"stream_3\",\"stream_2\",\"stream_0\",\"stream_1\",\"stream_2\",\"stream_3\",\"stream_0\",\"stream_1\",\"stream_2\",\"stream_2\",\"stream_0\",\"stream_1\",\"stream_2\",\"stream_3\",\"stream_0\",\"stream_1\",\"stream_2\",\"stream_3\",\"stream_0\",\"stream_1\",\"stream_2\",\"stream_3\",\"stream_0\",\"stream_2\",\"stream_1\",\"stream_2\",\"stream_3\",\"stream_2\",\"stream_1\",\"stream_2\",\"stream_3\",\"stream_1\",\"stream_2\",\"stream_3\",\"stream_0\",\"stream_1\",\"stream_2\",\"stream_0\",\"stream_1\",\"stream_2\",\"stream_3\",\"stream_1\",\"stream_2\"]],[\"voice_index\",[0,1,2,3,0,0,2,0,2,1,2,3,0,1,2,3,1,2,3,2,1,2,3,1,2,2,3,2,3,1,0,1,2,3,2,0,1,2,3,0,1,2,2,0,1,2,3,0,1,2,3,0,1,2,3,0,2,1,2,3,2,1,2,3,1,2,3,0,1,2,0,1,2,3,1,2]],[\"midi\",[36,38,42,46,36,36,42,36,42,38,42,46,36,38,42,46,38,42,46,42,38,42,46,38,42,42,46,42,46,38,36,38,42,46,42,36,38,42,46,36,38,42,42,36,38,42,46,36,38,42,46,36,38,42,46,36,42,38,42,46,42,38,42,46,38,42,46,36,38,42,36,38,42,46,38,42]],[\"velocity\",[0.913,0.78,1.0,0.48,0.913,0.913,1.0,0.913,1.0,0.89,1.0,0.472,0.913,0.819,1.0,0.48,0.843,1.0,0.52,1.0,0.843,1.0,0.52,0.78,1.0,1.0,0.504,1.0,0.567,0.858,0.913,0.866,1.0,0.598,1.0,0.913,0.787,1.0,0.37,0.913,0.661,1.0,1.0,0.913,0.724,1.0,0.457,0.913,0.724,1.0,0.425,0.913,0.756,1.0,0.425,0.913,1.0,0.898,0.339,0.425,1.0,0.819,0.339,0.425,0.787,1.0,0.425,0.913,0.858,0.339,0.913,0.898,0.339,0.457,0.819,1.0]],[\"offset\",[0.001,0.001,0.001,0.001,0.001,0.002,0.002,0.002,0.002,0.003,0.003,0.003,0.003,0.003,0.003,0.003,0.004,0.004,0.004,-0.002,-0.002,-0.002,-0.002,-0.002,-0.002,-0.001,-0.001,-0.001,-0.001,-0.001,0.0,0.0,0.0,0.0,0.0,0.001,0.001,0.001,0.001,0.001,0.001,0.001,0.002,0.002,0.002,0.002,0.002,0.003,0.003,0.003,0.003,0.003,0.003,0.003,0.003,-0.003,-0.003,-0.003,-0.003,-0.003,-0.002,-0.002,-0.002,-0.002,-0.001,-0.001,-0.001,-0.001,-0.001,-0.492,-0.001,-0.001,-0.492,-0.001,0.0,-0.491]],[\"offset_sec\",[0.0,0.0,0.0,0.0,0.0,0.0,0.0,0.0,0.0,0.0,0.0,0.0,0.0,0.0,0.0,0.0,0.001,0.001,0.001,-0.0,-0.0,-0.0,-0.0,-0.0,-0.0,-0.0,-0.0,-0.0,-0.0,-0.0,0.0,0.0,0.0,0.0,0.0,0.0,0.0,0.0,0.0,0.0,0.0,0.0,0.0,0.0,0.0,0.0,0.0,0.0,0.0,0.0,0.0,0.0,0.0,0.0,0.0,-0.0,-0.0,-0.0,-0.0,-0.0,-0.0,-0.0,-0.0,-0.0,-0.0,-0.0,-0.0,-0.0,-0.0,-0.072,-0.0,-0.0,-0.072,-0.0,0.0,-0.072]],[\"grid_line\",[0,0,0,0,1,2,2,3,3,4,4,4,6,6,6,6,7,7,7,8,9,9,9,10,10,11,11,12,12,13,14,14,14,14,15,16,16,16,16,18,18,18,19,20,20,20,20,21,22,22,22,23,23,23,23,24,24,25,25,25,26,27,27,27,28,28,28,29,29,29,30,30,30,30,31,31]],[\"top\",{\"type\":\"ndarray\",\"array\":{\"type\":\"bytes\",\"data\":\"mpmZmZmZyT8zMzMzMzPzP5qZmZmZmQFAmpmZmZmZCUCamZmZmZnJP5qZmZmZmck/mpmZmZmZAUCamZmZmZnJP5qZmZmZmQFAMzMzMzMz8z+amZmZmZkBQJqZmZmZmQlAmpmZmZmZyT8zMzMzMzPzP5qZmZmZmQFAmpmZmZmZCUAzMzMzMzPzP5qZmZmZmQFAmpmZmZmZCUCamZmZmZkBQDMzMzMzM/M/mpmZmZmZAUCamZmZmZkJQDMzMzMzM/M/mpmZmZmZAUCamZmZmZkBQJqZmZmZmQlAmpmZmZmZAUCamZmZmZkJQDMzMzMzM/M/mpmZmZmZyT8zMzMzMzPzP5qZmZmZmQFAmpmZmZmZCUCamZmZmZkBQJqZmZmZmck/MzMzMzMz8z+amZmZmZkBQJqZmZmZmQlAmpmZmZmZyT8zMzMzMzPzP5qZmZmZmQFAmpmZmZmZAUCamZmZmZnJPzMzMzMzM/M/mpmZmZmZAUCamZmZmZkJQJqZmZmZmck/MzMzMzMz8z+amZmZmZkBQJqZmZmZmQlAmpmZmZmZyT8zMzMzMzPzP5qZmZmZmQFAmpmZmZmZCUCamZmZmZnJP5qZmZmZmQFAMzMzMzMz8z+amZmZmZkBQJqZmZmZmQlAmpmZmZmZAUAzMzMzMzPzP5qZmZmZmQFAmpmZmZmZCUAzMzMzMzPzP5qZmZmZmQFAmpmZmZmZCUCamZmZmZnJPzMzMzMzM/M/mpmZmZmZAUCamZmZmZnJPzMzMzMzM/M/mpmZmZmZAUCamZmZmZkJQDMzMzMzM/M/mpmZmZmZAUA=\"},\"shape\":[76],\"dtype\":\"float64\",\"order\":\"little\"}],[\"bottom\",{\"type\":\"ndarray\",\"array\":{\"type\":\"bytes\",\"data\":\"mpmZmZmZyb+amZmZmZnpP83MzMzMzPw/ZmZmZmZmBkCamZmZmZnJv5qZmZmZmcm/zczMzMzM/D+amZmZmZnJv83MzMzMzPw/mpmZmZmZ6T/NzMzMzMz8P2ZmZmZmZgZAmpmZmZmZyb+amZmZmZnpP83MzMzMzPw/ZmZmZmZmBkCamZmZmZnpP83MzMzMzPw/ZmZmZmZmBkDNzMzMzMz8P5qZmZmZmek/zczMzMzM/D9mZmZmZmYGQJqZmZmZmek/zczMzMzM/D/NzMzMzMz8P2ZmZmZmZgZAzczMzMzM/D9mZmZmZmYGQJqZmZmZmek/mpmZmZmZyb+amZmZmZnpP83MzMzMzPw/ZmZmZmZmBkDNzMzMzMz8P5qZmZmZmcm/mpmZmZmZ6T/NzMzMzMz8P2ZmZmZmZgZAmpmZmZmZyb+amZmZmZnpP83MzMzMzPw/zczMzMzM/D+amZmZmZnJv5qZmZmZmek/zczMzMzM/D9mZmZmZmYGQJqZmZmZmcm/mpmZmZmZ6T/NzMzMzMz8P2ZmZmZmZgZAmpmZmZmZyb+amZmZmZnpP83MzMzMzPw/ZmZmZmZmBkCamZmZmZnJv83MzMzMzPw/mpmZmZmZ6T/NzMzMzMz8P2ZmZmZmZgZAzczMzMzM/D+amZmZmZnpP83MzMzMzPw/ZmZmZmZmBkCamZmZmZnpP83MzMzMzPw/ZmZmZmZmBkCamZmZmZnJv5qZmZmZmek/zczMzMzM/D+amZmZmZnJv5qZmZmZmek/zczMzMzM/D9mZmZmZmYGQJqZmZmZmek/zczMzMzM/D8=\"},\"shape\":[76],\"dtype\":\"float64\",\"order\":\"little\"}]]}}},\"view\":{\"type\":\"object\",\"name\":\"CDSView\",\"id\":\"p1692\",\"attributes\":{\"filter\":{\"type\":\"object\",\"name\":\"AllIndices\",\"id\":\"p1693\"}}},\"glyph\":{\"type\":\"object\",\"name\":\"Quad\",\"id\":\"p1688\",\"attributes\":{\"left\":{\"type\":\"field\",\"field\":\"start\"},\"right\":{\"type\":\"field\",\"field\":\"end\"},\"bottom\":{\"type\":\"field\",\"field\":\"bottom\"},\"top\":{\"type\":\"field\",\"field\":\"top\"},\"line_color\":{\"type\":\"value\",\"value\":\"grey\"},\"fill_color\":{\"type\":\"value\",\"value\":\"grey\"},\"fill_alpha\":{\"type\":\"field\",\"field\":\"velocity\"}}},\"nonselection_glyph\":{\"type\":\"object\",\"name\":\"Quad\",\"id\":\"p1689\",\"attributes\":{\"left\":{\"type\":\"field\",\"field\":\"start\"},\"right\":{\"type\":\"field\",\"field\":\"end\"},\"bottom\":{\"type\":\"field\",\"field\":\"bottom\"},\"top\":{\"type\":\"field\",\"field\":\"top\"},\"line_color\":{\"type\":\"value\",\"value\":\"grey\"},\"line_alpha\":{\"type\":\"value\",\"value\":0.1},\"fill_color\":{\"type\":\"value\",\"value\":\"grey\"},\"fill_alpha\":{\"type\":\"value\",\"value\":0.1},\"hatch_alpha\":{\"type\":\"value\",\"value\":0.1}}},\"muted_glyph\":{\"type\":\"object\",\"name\":\"Quad\",\"id\":\"p1690\",\"attributes\":{\"left\":{\"type\":\"field\",\"field\":\"start\"},\"right\":{\"type\":\"field\",\"field\":\"end\"},\"bottom\":{\"type\":\"field\",\"field\":\"bottom\"},\"top\":{\"type\":\"field\",\"field\":\"top\"},\"line_color\":{\"type\":\"value\",\"value\":\"grey\"},\"line_alpha\":{\"type\":\"value\",\"value\":0.2},\"fill_color\":{\"type\":\"value\",\"value\":\"grey\"},\"fill_alpha\":{\"type\":\"value\",\"value\":0.2},\"hatch_alpha\":{\"type\":\"value\",\"value\":0.2}}}}},{\"type\":\"object\",\"name\":\"GlyphRenderer\",\"id\":\"p1742\",\"attributes\":{\"data_source\":{\"type\":\"object\",\"name\":\"ColumnDataSource\",\"id\":\"p1733\",\"attributes\":{\"selected\":{\"type\":\"object\",\"name\":\"Selection\",\"id\":\"p1734\",\"attributes\":{\"indices\":[],\"line_indices\":[]}},\"selection_policy\":{\"type\":\"object\",\"name\":\"UnionRenderers\",\"id\":\"p1735\"},\"data\":{\"type\":\"map\",\"entries\":[[\"x\",[0.0]],[\"y\",[4.5]],[\"tempo\",[102.0000510000255]],[\"grid_index\",[0]]]}}},\"view\":{\"type\":\"object\",\"name\":\"CDSView\",\"id\":\"p1743\",\"attributes\":{\"filter\":{\"type\":\"object\",\"name\":\"AllIndices\",\"id\":\"p1744\"}}},\"glyph\":{\"type\":\"object\",\"name\":\"Scatter\",\"id\":\"p1739\",\"attributes\":{\"x\":{\"type\":\"field\",\"field\":\"x\"},\"y\":{\"type\":\"field\",\"field\":\"y\"},\"size\":{\"type\":\"value\",\"value\":10},\"line_color\":{\"type\":\"value\",\"value\":\"#440154\"},\"fill_color\":{\"type\":\"value\",\"value\":\"#440154\"}}},\"nonselection_glyph\":{\"type\":\"object\",\"name\":\"Scatter\",\"id\":\"p1740\",\"attributes\":{\"x\":{\"type\":\"field\",\"field\":\"x\"},\"y\":{\"type\":\"field\",\"field\":\"y\"},\"size\":{\"type\":\"value\",\"value\":10},\"line_color\":{\"type\":\"value\",\"value\":\"#440154\"},\"line_alpha\":{\"type\":\"value\",\"value\":0.1},\"fill_color\":{\"type\":\"value\",\"value\":\"#440154\"},\"fill_alpha\":{\"type\":\"value\",\"value\":0.1},\"hatch_alpha\":{\"type\":\"value\",\"value\":0.1}}},\"muted_glyph\":{\"type\":\"object\",\"name\":\"Scatter\",\"id\":\"p1741\",\"attributes\":{\"x\":{\"type\":\"field\",\"field\":\"x\"},\"y\":{\"type\":\"field\",\"field\":\"y\"},\"size\":{\"type\":\"value\",\"value\":10},\"line_color\":{\"type\":\"value\",\"value\":\"#440154\"},\"line_alpha\":{\"type\":\"value\",\"value\":0.2},\"fill_color\":{\"type\":\"value\",\"value\":\"#440154\"},\"fill_alpha\":{\"type\":\"value\",\"value\":0.2},\"hatch_alpha\":{\"type\":\"value\",\"value\":0.2}}}}},{\"type\":\"object\",\"name\":\"GlyphRenderer\",\"id\":\"p1756\",\"attributes\":{\"data_source\":{\"type\":\"object\",\"name\":\"ColumnDataSource\",\"id\":\"p1747\",\"attributes\":{\"selected\":{\"type\":\"object\",\"name\":\"Selection\",\"id\":\"p1748\",\"attributes\":{\"indices\":[],\"line_indices\":[]}},\"selection_policy\":{\"type\":\"object\",\"name\":\"UnionRenderers\",\"id\":\"p1749\"},\"data\":{\"type\":\"map\",\"entries\":[[\"x\",[0.0]],[\"y\",[4]],[\"Numerator\",[4]],[\"Denominator\",[4]],[\"grid_index\",[0]]]}}},\"view\":{\"type\":\"object\",\"name\":\"CDSView\",\"id\":\"p1757\",\"attributes\":{\"filter\":{\"type\":\"object\",\"name\":\"AllIndices\",\"id\":\"p1758\"}}},\"glyph\":{\"type\":\"object\",\"name\":\"Scatter\",\"id\":\"p1753\",\"attributes\":{\"x\":{\"type\":\"field\",\"field\":\"x\"},\"y\":{\"type\":\"field\",\"field\":\"y\"},\"size\":{\"type\":\"value\",\"value\":10},\"line_color\":{\"type\":\"value\",\"value\":\"#70CE56\"},\"fill_color\":{\"type\":\"value\",\"value\":\"#70CE56\"}}},\"nonselection_glyph\":{\"type\":\"object\",\"name\":\"Scatter\",\"id\":\"p1754\",\"attributes\":{\"x\":{\"type\":\"field\",\"field\":\"x\"},\"y\":{\"type\":\"field\",\"field\":\"y\"},\"size\":{\"type\":\"value\",\"value\":10},\"line_color\":{\"type\":\"value\",\"value\":\"#70CE56\"},\"line_alpha\":{\"type\":\"value\",\"value\":0.1},\"fill_color\":{\"type\":\"value\",\"value\":\"#70CE56\"},\"fill_alpha\":{\"type\":\"value\",\"value\":0.1},\"hatch_alpha\":{\"type\":\"value\",\"value\":0.1}}},\"muted_glyph\":{\"type\":\"object\",\"name\":\"Scatter\",\"id\":\"p1755\",\"attributes\":{\"x\":{\"type\":\"field\",\"field\":\"x\"},\"y\":{\"type\":\"field\",\"field\":\"y\"},\"size\":{\"type\":\"value\",\"value\":10},\"line_color\":{\"type\":\"value\",\"value\":\"#70CE56\"},\"line_alpha\":{\"type\":\"value\",\"value\":0.2},\"fill_color\":{\"type\":\"value\",\"value\":\"#70CE56\"},\"fill_alpha\":{\"type\":\"value\",\"value\":0.2},\"hatch_alpha\":{\"type\":\"value\",\"value\":0.2}}}}},{\"type\":\"object\",\"name\":\"GlyphRenderer\",\"id\":\"p1770\",\"attributes\":{\"data_source\":{\"type\":\"object\",\"name\":\"ColumnDataSource\",\"id\":\"p1761\",\"attributes\":{\"selected\":{\"type\":\"object\",\"name\":\"Selection\",\"id\":\"p1762\",\"attributes\":{\"indices\":[],\"line_indices\":[]}},\"selection_policy\":{\"type\":\"object\",\"name\":\"UnionRenderers\",\"id\":\"p1763\"},\"data\":{\"type\":\"map\",\"entries\":[[\"x\",[0.0]],[\"y\",[3.5]],[\"filename\",[\"5382749461010f7bf3e83b1cc56b0dae_guitar.mid\"]],[\"main_file\",[\"5382749461010f7bf3e83b1cc56b0dae\"]],[\"instrument\",[\"guitar\"]],[\"source\",[\"Lakh MIDI\"]],[\"stream_0\",[\"brass\"]],[\"stream_1\",[\"bass\"]],[\"stream_2\",[\"drum\"]],[\"stream_3\",[\"guitar\"]],[\"start_bar\",[14]],[\"collection\",[\"lmd_batch_56_filtered\"]],[\"sample_id\",[\"5382749461010f7bf3e83b1cc56b0dae\"]]]}}},\"view\":{\"type\":\"object\",\"name\":\"CDSView\",\"id\":\"p1771\",\"attributes\":{\"filter\":{\"type\":\"object\",\"name\":\"AllIndices\",\"id\":\"p1772\"}}},\"glyph\":{\"type\":\"object\",\"name\":\"Scatter\",\"id\":\"p1767\",\"attributes\":{\"x\":{\"type\":\"field\",\"field\":\"x\"},\"y\":{\"type\":\"field\",\"field\":\"y\"},\"size\":{\"type\":\"value\",\"value\":10},\"line_color\":{\"type\":\"value\",\"value\":\"#1EA087\"},\"fill_color\":{\"type\":\"value\",\"value\":\"#1EA087\"}}},\"nonselection_glyph\":{\"type\":\"object\",\"name\":\"Scatter\",\"id\":\"p1768\",\"attributes\":{\"x\":{\"type\":\"field\",\"field\":\"x\"},\"y\":{\"type\":\"field\",\"field\":\"y\"},\"size\":{\"type\":\"value\",\"value\":10},\"line_color\":{\"type\":\"value\",\"value\":\"#1EA087\"},\"line_alpha\":{\"type\":\"value\",\"value\":0.1},\"fill_color\":{\"type\":\"value\",\"value\":\"#1EA087\"},\"fill_alpha\":{\"type\":\"value\",\"value\":0.1},\"hatch_alpha\":{\"type\":\"value\",\"value\":0.1}}},\"muted_glyph\":{\"type\":\"object\",\"name\":\"Scatter\",\"id\":\"p1769\",\"attributes\":{\"x\":{\"type\":\"field\",\"field\":\"x\"},\"y\":{\"type\":\"field\",\"field\":\"y\"},\"size\":{\"type\":\"value\",\"value\":10},\"line_color\":{\"type\":\"value\",\"value\":\"#1EA087\"},\"line_alpha\":{\"type\":\"value\",\"value\":0.2},\"fill_color\":{\"type\":\"value\",\"value\":\"#1EA087\"},\"fill_alpha\":{\"type\":\"value\",\"value\":0.2},\"hatch_alpha\":{\"type\":\"value\",\"value\":0.2}}}}}],\"toolbar\":{\"type\":\"object\",\"name\":\"Toolbar\",\"id\":\"p1657\",\"attributes\":{\"tools\":[{\"type\":\"object\",\"name\":\"PanTool\",\"id\":\"p1671\"},{\"type\":\"object\",\"name\":\"WheelZoomTool\",\"id\":\"p1672\",\"attributes\":{\"renderers\":\"auto\"}},{\"type\":\"object\",\"name\":\"BoxZoomTool\",\"id\":\"p1673\",\"attributes\":{\"overlay\":{\"type\":\"object\",\"name\":\"BoxAnnotation\",\"id\":\"p1674\",\"attributes\":{\"syncable\":false,\"level\":\"overlay\",\"visible\":false,\"left\":{\"type\":\"number\",\"value\":\"nan\"},\"right\":{\"type\":\"number\",\"value\":\"nan\"},\"top\":{\"type\":\"number\",\"value\":\"nan\"},\"bottom\":{\"type\":\"number\",\"value\":\"nan\"},\"left_units\":\"canvas\",\"right_units\":\"canvas\",\"top_units\":\"canvas\",\"bottom_units\":\"canvas\",\"line_color\":\"black\",\"line_alpha\":1.0,\"line_width\":2,\"line_dash\":[4,4],\"fill_color\":\"lightgrey\",\"fill_alpha\":0.5}}}},{\"type\":\"object\",\"name\":\"SaveTool\",\"id\":\"p1679\"},{\"type\":\"object\",\"name\":\"ResetTool\",\"id\":\"p1680\"},{\"type\":\"object\",\"name\":\"HelpTool\",\"id\":\"p1681\"},{\"type\":\"object\",\"name\":\"HoverTool\",\"id\":\"p1696\",\"attributes\":{\"renderers\":[{\"id\":\"p1691\"}],\"tooltips\":[[\"start\",\"@start\"],[\"end\",\"@end\"],[\"instrument\",\"@instrument\"],[\"voice_index\",\"@voice_index\"],[\"midi\",\"@midi\"],[\"velocity\",\"@velocity\"],[\"offset\",\"@offset\"],[\"offset_sec\",\"@offset_sec\"],[\"grid_line\",\"@grid_line\"]]}},{\"type\":\"object\",\"name\":\"HoverTool\",\"id\":\"p1746\",\"attributes\":{\"renderers\":[{\"id\":\"p1742\"}],\"tooltips\":[[\"tempo\",\"@tempo\"],[\"grid_index\",\"@grid_index\"]]}},{\"type\":\"object\",\"name\":\"HoverTool\",\"id\":\"p1760\",\"attributes\":{\"renderers\":[{\"id\":\"p1756\"}],\"tooltips\":[[\"Numerator\",\"@Numerator\"],[\"Denominator\",\"@Denominator\"],[\"grid_index\",\"@grid_index\"]]}},{\"type\":\"object\",\"name\":\"HoverTool\",\"id\":\"p1774\",\"attributes\":{\"renderers\":[{\"id\":\"p1770\"}],\"tooltips\":[[\"filename\",\"@filename\"],[\"main_file\",\"@main_file\"],[\"instrument\",\"@instrument\"],[\"source\",\"@source\"],[\"stream_0\",\"@stream_0\"],[\"stream_1\",\"@stream_1\"],[\"stream_2\",\"@stream_2\"],[\"stream_3\",\"@stream_3\"],[\"start_bar\",\"@start_bar\"],[\"collection\",\"@collection\"],[\"sample_id\",\"@sample_id\"]]}}]}},\"left\":[{\"type\":\"object\",\"name\":\"LinearAxis\",\"id\":\"p1666\",\"attributes\":{\"ticker\":{\"type\":\"object\",\"name\":\"FixedTicker\",\"id\":\"p1697\",\"attributes\":{\"ticks\":[0,1,2,3],\"minor_ticks\":[]}},\"formatter\":{\"type\":\"object\",\"name\":\"BasicTickFormatter\",\"id\":\"p1668\"},\"axis_label\":\"Instrument\",\"axis_label_standoff\":10,\"axis_label_text_color\":\"#5B5B5B\",\"axis_label_text_font\":\"Helvetica\",\"axis_label_text_font_size\":\"1.25em\",\"axis_label_text_font_style\":\"normal\",\"major_label_overrides\":{\"type\":\"map\",\"entries\":[[0,\"stream_0\"],[1,\"stream_1\"],[2,\"stream_2\"],[3,\"stream_3\"]]},\"major_label_policy\":{\"type\":\"object\",\"name\":\"AllLabels\",\"id\":\"p1669\"},\"major_label_text_color\":\"#5B5B5B\",\"major_label_text_font\":\"Helvetica\",\"major_label_text_font_size\":\"1.025em\",\"axis_line_color\":\"#5B5B5B\",\"axis_line_alpha\":0,\"major_tick_line_color\":\"#5B5B5B\",\"major_tick_line_alpha\":0,\"minor_tick_line_color\":\"#5B5B5B\",\"minor_tick_line_alpha\":0}}],\"right\":[{\"type\":\"object\",\"name\":\"Legend\",\"id\":\"p1694\",\"attributes\":{\"border_line_alpha\":0,\"background_fill_alpha\":0.25,\"click_policy\":\"hide\",\"label_text_color\":\"#5B5B5B\",\"label_text_font\":\"Helvetica\",\"label_text_font_size\":\"1.025em\",\"label_standoff\":8,\"glyph_width\":15,\"spacing\":8,\"items\":[{\"type\":\"object\",\"name\":\"LegendItem\",\"id\":\"p1695\",\"attributes\":{\"label\":{\"type\":\"value\",\"value\":\"Piano Roll\"},\"renderers\":[{\"id\":\"p1691\"}]}},{\"type\":\"object\",\"name\":\"LegendItem\",\"id\":\"p1745\",\"attributes\":{\"label\":{\"type\":\"value\",\"value\":\"Tempo\"},\"renderers\":[{\"id\":\"p1742\"}]}},{\"type\":\"object\",\"name\":\"LegendItem\",\"id\":\"p1759\",\"attributes\":{\"label\":{\"type\":\"value\",\"value\":\"Time Signature\"},\"renderers\":[{\"id\":\"p1756\"}]}},{\"type\":\"object\",\"name\":\"LegendItem\",\"id\":\"p1773\",\"attributes\":{\"label\":{\"type\":\"value\",\"value\":\"Metadata\"},\"renderers\":[{\"id\":\"p1770\"}]}}]}}],\"below\":[{\"type\":\"object\",\"name\":\"LinearAxis\",\"id\":\"p1661\",\"attributes\":{\"ticker\":{\"type\":\"object\",\"name\":\"FixedTicker\",\"id\":\"p1722\",\"attributes\":{\"ticks\":[0.0,0.59,1.18,1.76,2.35,2.94,3.53,4.12],\"minor_ticks\":[]}},\"formatter\":{\"type\":\"object\",\"name\":\"BasicTickFormatter\",\"id\":\"p1663\"},\"axis_label\":\"Time (sec)\",\"axis_label_standoff\":10,\"axis_label_text_color\":\"#5B5B5B\",\"axis_label_text_font\":\"Helvetica\",\"axis_label_text_font_size\":\"1.25em\",\"axis_label_text_font_style\":\"normal\",\"major_label_orientation\":1.57,\"major_label_policy\":{\"type\":\"object\",\"name\":\"AllLabels\",\"id\":\"p1664\"},\"major_label_text_color\":\"#5B5B5B\",\"major_label_text_font\":\"Helvetica\",\"major_label_text_font_size\":\"1.025em\",\"axis_line_color\":\"#5B5B5B\",\"axis_line_alpha\":0,\"major_tick_line_color\":\"#5B5B5B\",\"major_tick_line_alpha\":0,\"minor_tick_line_color\":\"#5B5B5B\",\"minor_tick_line_alpha\":0}}],\"center\":[{\"type\":\"object\",\"name\":\"Grid\",\"id\":\"p1665\",\"attributes\":{\"axis\":{\"id\":\"p1661\"},\"grid_line_color\":null}},{\"type\":\"object\",\"name\":\"Grid\",\"id\":\"p1670\",\"attributes\":{\"dimension\":1,\"axis\":{\"id\":\"p1666\"},\"grid_line_color\":null}},{\"id\":\"p1694\"},{\"type\":\"object\",\"name\":\"Span\",\"id\":\"p1698\",\"attributes\":{\"location\":0.147,\"dimension\":\"height\",\"line_width\":0.1}},{\"type\":\"object\",\"name\":\"Span\",\"id\":\"p1699\",\"attributes\":{\"location\":0.294,\"dimension\":\"height\",\"line_width\":0.1}},{\"type\":\"object\",\"name\":\"Span\",\"id\":\"p1700\",\"attributes\":{\"location\":0.441,\"dimension\":\"height\",\"line_width\":0.1}},{\"type\":\"object\",\"name\":\"Span\",\"id\":\"p1701\",\"attributes\":{\"location\":0.735,\"dimension\":\"height\",\"line_width\":0.1}},{\"type\":\"object\",\"name\":\"Span\",\"id\":\"p1702\",\"attributes\":{\"location\":0.882,\"dimension\":\"height\",\"line_width\":0.1}},{\"type\":\"object\",\"name\":\"Span\",\"id\":\"p1703\",\"attributes\":{\"location\":1.029,\"dimension\":\"height\",\"line_width\":0.1}},{\"type\":\"object\",\"name\":\"Span\",\"id\":\"p1704\",\"attributes\":{\"location\":1.323,\"dimension\":\"height\",\"line_width\":0.1}},{\"type\":\"object\",\"name\":\"Span\",\"id\":\"p1705\",\"attributes\":{\"location\":1.47,\"dimension\":\"height\",\"line_width\":0.1}},{\"type\":\"object\",\"name\":\"Span\",\"id\":\"p1706\",\"attributes\":{\"location\":1.617,\"dimension\":\"height\",\"line_width\":0.1}},{\"type\":\"object\",\"name\":\"Span\",\"id\":\"p1707\",\"attributes\":{\"location\":1.912,\"dimension\":\"height\",\"line_width\":0.1}},{\"type\":\"object\",\"name\":\"Span\",\"id\":\"p1708\",\"attributes\":{\"location\":2.059,\"dimension\":\"height\",\"line_width\":0.1}},{\"type\":\"object\",\"name\":\"Span\",\"id\":\"p1709\",\"attributes\":{\"location\":2.206,\"dimension\":\"height\",\"line_width\":0.1}},{\"type\":\"object\",\"name\":\"Span\",\"id\":\"p1710\",\"attributes\":{\"location\":2.5,\"dimension\":\"height\",\"line_width\":0.1}},{\"type\":\"object\",\"name\":\"Span\",\"id\":\"p1711\",\"attributes\":{\"location\":2.647,\"dimension\":\"height\",\"line_width\":0.1}},{\"type\":\"object\",\"name\":\"Span\",\"id\":\"p1712\",\"attributes\":{\"location\":2.794,\"dimension\":\"height\",\"line_width\":0.1}},{\"type\":\"object\",\"name\":\"Span\",\"id\":\"p1713\",\"attributes\":{\"location\":3.088,\"dimension\":\"height\",\"line_width\":0.1}},{\"type\":\"object\",\"name\":\"Span\",\"id\":\"p1714\",\"attributes\":{\"location\":3.235,\"dimension\":\"height\",\"line_width\":0.1}},{\"type\":\"object\",\"name\":\"Span\",\"id\":\"p1715\",\"attributes\":{\"location\":3.382,\"dimension\":\"height\",\"line_width\":0.1}},{\"type\":\"object\",\"name\":\"Span\",\"id\":\"p1716\",\"attributes\":{\"location\":3.676,\"dimension\":\"height\",\"line_width\":0.1}},{\"type\":\"object\",\"name\":\"Span\",\"id\":\"p1717\",\"attributes\":{\"location\":3.823,\"dimension\":\"height\",\"line_width\":0.1}},{\"type\":\"object\",\"name\":\"Span\",\"id\":\"p1718\",\"attributes\":{\"location\":3.97,\"dimension\":\"height\",\"line_width\":0.1}},{\"type\":\"object\",\"name\":\"Span\",\"id\":\"p1719\",\"attributes\":{\"location\":4.265,\"dimension\":\"height\",\"line_width\":0.1}},{\"type\":\"object\",\"name\":\"Span\",\"id\":\"p1720\",\"attributes\":{\"location\":4.412,\"dimension\":\"height\",\"line_width\":0.1}},{\"type\":\"object\",\"name\":\"Span\",\"id\":\"p1721\",\"attributes\":{\"location\":4.559,\"dimension\":\"height\",\"line_width\":0.1}},{\"type\":\"object\",\"name\":\"Span\",\"id\":\"p1723\",\"attributes\":{\"location\":0.0,\"dimension\":\"height\",\"line_width\":0.5}},{\"type\":\"object\",\"name\":\"Span\",\"id\":\"p1724\",\"attributes\":{\"location\":0.588,\"dimension\":\"height\",\"line_width\":0.5}},{\"type\":\"object\",\"name\":\"Span\",\"id\":\"p1725\",\"attributes\":{\"location\":1.176,\"dimension\":\"height\",\"line_width\":0.5}},{\"type\":\"object\",\"name\":\"Span\",\"id\":\"p1726\",\"attributes\":{\"location\":1.765,\"dimension\":\"height\",\"line_width\":0.5}},{\"type\":\"object\",\"name\":\"Span\",\"id\":\"p1727\",\"attributes\":{\"location\":2.353,\"dimension\":\"height\",\"line_width\":0.5}},{\"type\":\"object\",\"name\":\"Span\",\"id\":\"p1728\",\"attributes\":{\"location\":2.941,\"dimension\":\"height\",\"line_width\":0.5}},{\"type\":\"object\",\"name\":\"Span\",\"id\":\"p1729\",\"attributes\":{\"location\":3.529,\"dimension\":\"height\",\"line_width\":0.5}},{\"type\":\"object\",\"name\":\"Span\",\"id\":\"p1730\",\"attributes\":{\"location\":4.118,\"dimension\":\"height\",\"line_width\":0.5}},{\"type\":\"object\",\"name\":\"Span\",\"id\":\"p1731\",\"attributes\":{\"location\":0.0,\"dimension\":\"height\",\"line_width\":2}},{\"type\":\"object\",\"name\":\"Span\",\"id\":\"p1732\",\"attributes\":{\"location\":2.353,\"dimension\":\"height\",\"line_width\":2}}]}}}},{\"type\":\"object\",\"name\":\"TabPanel\",\"id\":\"p2297\",\"attributes\":{\"title\":\"Tab 7\",\"child\":{\"type\":\"object\",\"name\":\"Figure\",\"id\":\"p1778\",\"attributes\":{\"width\":800,\"height\":400,\"x_range\":{\"type\":\"object\",\"name\":\"DataRange1d\",\"id\":\"p1780\",\"attributes\":{\"start\":-0.4559,\"end\":5.014900000000001}},\"y_range\":{\"type\":\"object\",\"name\":\"Range1d\",\"id\":\"p1787\",\"attributes\":{\"start\":-0.5,\"end\":5.75}},\"x_scale\":{\"type\":\"object\",\"name\":\"LinearScale\",\"id\":\"p1788\"},\"y_scale\":{\"type\":\"object\",\"name\":\"LinearScale\",\"id\":\"p1789\"},\"title\":{\"type\":\"object\",\"name\":\"Title\",\"id\":\"p1785\",\"attributes\":{\"text_color\":\"#5B5B5B\",\"text_font\":\"Helvetica\",\"text_font_size\":\"1.15em\"}},\"renderers\":[{\"type\":\"object\",\"name\":\"GlyphRenderer\",\"id\":\"p1820\",\"attributes\":{\"data_source\":{\"type\":\"object\",\"name\":\"ColumnDataSource\",\"id\":\"p1811\",\"attributes\":{\"selected\":{\"type\":\"object\",\"name\":\"Selection\",\"id\":\"p1812\",\"attributes\":{\"indices\":[],\"line_indices\":[]}},\"selection_policy\":{\"type\":\"object\",\"name\":\"UnionRenderers\",\"id\":\"p1813\"},\"data\":{\"type\":\"map\",\"entries\":[[\"start\",[-0.000588,-0.000588,-0.000588,-0.000588,0.146559,0.29355899999999996,0.29355899999999996,0.440706,0.440706,0.587706,0.587706,0.587706,0.881853,0.881853,0.881853,0.881853,1.028853,1.028853,1.028853,1.176,1.323,1.323,1.323,1.47,1.47,1.617148,1.617148,1.7651469999999998,1.7651469999999998,1.912294,2.059294,2.059294,2.059294,2.059294,2.2062939999999998,2.352412,2.352412,2.352412,2.352412,2.646559,2.646559,2.646559,2.793559,2.940706,2.940706,2.940706,2.940706,3.0877060000000003,3.234706,3.234706,3.234706,3.381853,3.381853,3.381853,3.381853,3.528853,3.528853,3.676,3.676,3.676,3.823,3.97,3.97,3.97,4.1181470000000004,4.1181470000000004,4.1181470000000004,4.265147,4.265147,4.19297,4.412294,4.412294,4.33997,4.412294,4.559294,4.4871170000000005]],[\"end\",[0.07291199999999967,0.07291199999999967,0.07291199999999967,0.07291199999999967,0.22005899999999967,0.36705899999999964,0.36705899999999964,0.5142059999999997,0.5142059999999997,0.6612059999999996,0.6612059999999996,0.6612059999999996,0.9553529999999997,0.9553529999999997,0.9553529999999997,0.9553529999999997,1.1023529999999997,1.1023529999999997,1.1023529999999997,1.2494999999999996,1.3964999999999996,1.3964999999999996,1.3964999999999996,1.5434999999999997,1.5434999999999997,1.6906479999999997,1.6906479999999997,1.8386469999999995,1.8386469999999995,1.9857939999999996,2.1327939999999996,2.1327939999999996,2.1327939999999996,2.1327939999999996,2.2797939999999994,2.425912,2.425912,2.425912,2.425912,2.7200589999999996,2.7200589999999996,2.7200589999999996,2.867059,3.0142059999999997,3.0142059999999997,3.0142059999999997,3.0142059999999997,3.161206,3.3082059999999998,3.3082059999999998,3.3082059999999998,3.4553529999999997,3.4553529999999997,3.4553529999999997,3.4553529999999997,3.6023529999999995,3.6023529999999995,3.7495,3.7495,3.7495,3.8964999999999996,4.0435,4.0435,4.0435,4.191647,4.191647,4.191647,4.338647,4.338647,4.26647,4.485794,4.485794,4.41347,4.485794,4.6327940000000005,4.560617000000001]],[\"instrument\",[\"stream_0\",\"stream_1\",\"stream_2\",\"stream_3\",\"stream_0\",\"stream_0\",\"stream_2\",\"stream_0\",\"stream_2\",\"stream_1\",\"stream_2\",\"stream_3\",\"stream_0\",\"stream_1\",\"stream_2\",\"stream_3\",\"stream_1\",\"stream_2\",\"stream_3\",\"stream_2\",\"stream_1\",\"stream_2\",\"stream_3\",\"stream_1\",\"stream_2\",\"stream_2\",\"stream_3\",\"stream_2\",\"stream_3\",\"stream_1\",\"stream_0\",\"stream_1\",\"stream_2\",\"stream_3\",\"stream_2\",\"stream_0\",\"stream_1\",\"stream_2\",\"stream_3\",\"stream_0\",\"stream_1\",\"stream_2\",\"stream_2\",\"stream_0\",\"stream_1\",\"stream_2\",\"stream_3\",\"stream_0\",\"stream_1\",\"stream_2\",\"stream_3\",\"stream_0\",\"stream_1\",\"stream_2\",\"stream_3\",\"stream_0\",\"stream_2\",\"stream_1\",\"stream_2\",\"stream_3\",\"stream_2\",\"stream_1\",\"stream_2\",\"stream_3\",\"stream_1\",\"stream_2\",\"stream_3\",\"stream_0\",\"stream_1\",\"stream_2\",\"stream_0\",\"stream_1\",\"stream_2\",\"stream_3\",\"stream_1\",\"stream_2\"]],[\"voice_index\",[0,1,2,3,0,0,2,0,2,1,2,3,0,1,2,3,1,2,3,2,1,2,3,1,2,2,3,2,3,1,0,1,2,3,2,0,1,2,3,0,1,2,2,0,1,2,3,0,1,2,3,0,1,2,3,0,2,1,2,3,2,1,2,3,1,2,3,0,1,2,0,1,2,3,1,2]],[\"midi\",[36,38,42,46,36,36,42,36,42,38,42,46,36,38,42,46,38,42,46,42,38,42,46,38,42,42,46,42,46,38,36,38,42,46,42,36,38,42,46,36,38,42,42,36,38,42,46,36,38,42,46,36,38,42,46,36,42,38,42,46,42,38,42,46,38,42,46,36,38,42,36,38,42,46,38,42]],[\"velocity\",[0.913,0.78,1.0,0.48,0.913,0.913,1.0,0.913,1.0,0.89,1.0,0.472,0.913,0.819,1.0,0.48,0.843,1.0,0.52,1.0,0.843,1.0,0.52,0.78,1.0,1.0,0.504,1.0,0.567,0.858,0.913,0.866,1.0,0.598,1.0,0.913,0.787,1.0,0.37,0.913,0.661,1.0,1.0,0.913,0.724,1.0,0.457,0.913,0.724,1.0,0.425,0.913,0.756,1.0,0.425,0.913,1.0,0.898,0.339,0.425,1.0,0.819,0.339,0.425,0.787,1.0,0.425,0.913,0.858,0.339,0.913,0.898,0.339,0.457,0.819,1.0]],[\"offset\",[-0.004,-0.004,-0.004,-0.004,-0.003,-0.003,-0.003,-0.002,-0.002,-0.002,-0.002,-0.002,-0.001,-0.001,-0.001,-0.001,-0.001,-0.001,-0.001,0.0,0.0,0.0,0.0,0.0,0.0,0.001,0.001,0.001,0.001,0.002,0.002,0.002,0.002,0.002,0.002,-0.004,-0.004,-0.004,-0.004,-0.003,-0.003,-0.003,-0.003,-0.002,-0.002,-0.002,-0.002,-0.002,-0.002,-0.002,-0.002,-0.001,-0.001,-0.001,-0.001,-0.001,-0.001,0.0,0.0,0.0,0.0,0.0,0.0,0.0,0.001,0.001,0.001,0.001,0.001,-0.49,0.002,0.002,-0.49,0.002,0.002,-0.489]],[\"offset_sec\",[-0.001,-0.001,-0.001,-0.001,-0.0,-0.0,-0.0,-0.0,-0.0,-0.0,-0.0,-0.0,-0.0,-0.0,-0.0,-0.0,-0.0,-0.0,-0.0,0.0,0.0,0.0,0.0,0.0,0.0,0.0,0.0,0.0,0.0,0.0,0.0,0.0,0.0,0.0,0.0,-0.001,-0.001,-0.001,-0.001,-0.0,-0.0,-0.0,-0.0,-0.0,-0.0,-0.0,-0.0,-0.0,-0.0,-0.0,-0.0,-0.0,-0.0,-0.0,-0.0,-0.0,-0.0,0.0,0.0,0.0,0.0,0.0,0.0,0.0,0.0,0.0,0.0,0.0,0.0,-0.072,0.0,0.0,-0.072,0.0,0.0,-0.072]],[\"grid_line\",[0,0,0,0,1,2,2,3,3,4,4,4,6,6,6,6,7,7,7,8,9,9,9,10,10,11,11,12,12,13,14,14,14,14,15,16,16,16,16,18,18,18,19,20,20,20,20,21,22,22,22,23,23,23,23,24,24,25,25,25,26,27,27,27,28,28,28,29,29,29,30,30,30,30,31,31]],[\"top\",{\"type\":\"ndarray\",\"array\":{\"type\":\"bytes\",\"data\":\"mpmZmZmZyT8zMzMzMzPzP5qZmZmZmQFAmpmZmZmZCUCamZmZmZnJP5qZmZmZmck/mpmZmZmZAUCamZmZmZnJP5qZmZmZmQFAMzMzMzMz8z+amZmZmZkBQJqZmZmZmQlAmpmZmZmZyT8zMzMzMzPzP5qZmZmZmQFAmpmZmZmZCUAzMzMzMzPzP5qZmZmZmQFAmpmZmZmZCUCamZmZmZkBQDMzMzMzM/M/mpmZmZmZAUCamZmZmZkJQDMzMzMzM/M/mpmZmZmZAUCamZmZmZkBQJqZmZmZmQlAmpmZmZmZAUCamZmZmZkJQDMzMzMzM/M/mpmZmZmZyT8zMzMzMzPzP5qZmZmZmQFAmpmZmZmZCUCamZmZmZkBQJqZmZmZmck/MzMzMzMz8z+amZmZmZkBQJqZmZmZmQlAmpmZmZmZyT8zMzMzMzPzP5qZmZmZmQFAmpmZmZmZAUCamZmZmZnJPzMzMzMzM/M/mpmZmZmZAUCamZmZmZkJQJqZmZmZmck/MzMzMzMz8z+amZmZmZkBQJqZmZmZmQlAmpmZmZmZyT8zMzMzMzPzP5qZmZmZmQFAmpmZmZmZCUCamZmZmZnJP5qZmZmZmQFAMzMzMzMz8z+amZmZmZkBQJqZmZmZmQlAmpmZmZmZAUAzMzMzMzPzP5qZmZmZmQFAmpmZmZmZCUAzMzMzMzPzP5qZmZmZmQFAmpmZmZmZCUCamZmZmZnJPzMzMzMzM/M/mpmZmZmZAUCamZmZmZnJPzMzMzMzM/M/mpmZmZmZAUCamZmZmZkJQDMzMzMzM/M/mpmZmZmZAUA=\"},\"shape\":[76],\"dtype\":\"float64\",\"order\":\"little\"}],[\"bottom\",{\"type\":\"ndarray\",\"array\":{\"type\":\"bytes\",\"data\":\"mpmZmZmZyb+amZmZmZnpP83MzMzMzPw/ZmZmZmZmBkCamZmZmZnJv5qZmZmZmcm/zczMzMzM/D+amZmZmZnJv83MzMzMzPw/mpmZmZmZ6T/NzMzMzMz8P2ZmZmZmZgZAmpmZmZmZyb+amZmZmZnpP83MzMzMzPw/ZmZmZmZmBkCamZmZmZnpP83MzMzMzPw/ZmZmZmZmBkDNzMzMzMz8P5qZmZmZmek/zczMzMzM/D9mZmZmZmYGQJqZmZmZmek/zczMzMzM/D/NzMzMzMz8P2ZmZmZmZgZAzczMzMzM/D9mZmZmZmYGQJqZmZmZmek/mpmZmZmZyb+amZmZmZnpP83MzMzMzPw/ZmZmZmZmBkDNzMzMzMz8P5qZmZmZmcm/mpmZmZmZ6T/NzMzMzMz8P2ZmZmZmZgZAmpmZmZmZyb+amZmZmZnpP83MzMzMzPw/zczMzMzM/D+amZmZmZnJv5qZmZmZmek/zczMzMzM/D9mZmZmZmYGQJqZmZmZmcm/mpmZmZmZ6T/NzMzMzMz8P2ZmZmZmZgZAmpmZmZmZyb+amZmZmZnpP83MzMzMzPw/ZmZmZmZmBkCamZmZmZnJv83MzMzMzPw/mpmZmZmZ6T/NzMzMzMz8P2ZmZmZmZgZAzczMzMzM/D+amZmZmZnpP83MzMzMzPw/ZmZmZmZmBkCamZmZmZnpP83MzMzMzPw/ZmZmZmZmBkCamZmZmZnJv5qZmZmZmek/zczMzMzM/D+amZmZmZnJv5qZmZmZmek/zczMzMzM/D9mZmZmZmYGQJqZmZmZmek/zczMzMzM/D8=\"},\"shape\":[76],\"dtype\":\"float64\",\"order\":\"little\"}]]}}},\"view\":{\"type\":\"object\",\"name\":\"CDSView\",\"id\":\"p1821\",\"attributes\":{\"filter\":{\"type\":\"object\",\"name\":\"AllIndices\",\"id\":\"p1822\"}}},\"glyph\":{\"type\":\"object\",\"name\":\"Quad\",\"id\":\"p1817\",\"attributes\":{\"left\":{\"type\":\"field\",\"field\":\"start\"},\"right\":{\"type\":\"field\",\"field\":\"end\"},\"bottom\":{\"type\":\"field\",\"field\":\"bottom\"},\"top\":{\"type\":\"field\",\"field\":\"top\"},\"line_color\":{\"type\":\"value\",\"value\":\"grey\"},\"fill_color\":{\"type\":\"value\",\"value\":\"grey\"},\"fill_alpha\":{\"type\":\"field\",\"field\":\"velocity\"}}},\"nonselection_glyph\":{\"type\":\"object\",\"name\":\"Quad\",\"id\":\"p1818\",\"attributes\":{\"left\":{\"type\":\"field\",\"field\":\"start\"},\"right\":{\"type\":\"field\",\"field\":\"end\"},\"bottom\":{\"type\":\"field\",\"field\":\"bottom\"},\"top\":{\"type\":\"field\",\"field\":\"top\"},\"line_color\":{\"type\":\"value\",\"value\":\"grey\"},\"line_alpha\":{\"type\":\"value\",\"value\":0.1},\"fill_color\":{\"type\":\"value\",\"value\":\"grey\"},\"fill_alpha\":{\"type\":\"value\",\"value\":0.1},\"hatch_alpha\":{\"type\":\"value\",\"value\":0.1}}},\"muted_glyph\":{\"type\":\"object\",\"name\":\"Quad\",\"id\":\"p1819\",\"attributes\":{\"left\":{\"type\":\"field\",\"field\":\"start\"},\"right\":{\"type\":\"field\",\"field\":\"end\"},\"bottom\":{\"type\":\"field\",\"field\":\"bottom\"},\"top\":{\"type\":\"field\",\"field\":\"top\"},\"line_color\":{\"type\":\"value\",\"value\":\"grey\"},\"line_alpha\":{\"type\":\"value\",\"value\":0.2},\"fill_color\":{\"type\":\"value\",\"value\":\"grey\"},\"fill_alpha\":{\"type\":\"value\",\"value\":0.2},\"hatch_alpha\":{\"type\":\"value\",\"value\":0.2}}}}},{\"type\":\"object\",\"name\":\"GlyphRenderer\",\"id\":\"p1871\",\"attributes\":{\"data_source\":{\"type\":\"object\",\"name\":\"ColumnDataSource\",\"id\":\"p1862\",\"attributes\":{\"selected\":{\"type\":\"object\",\"name\":\"Selection\",\"id\":\"p1863\",\"attributes\":{\"indices\":[],\"line_indices\":[]}},\"selection_policy\":{\"type\":\"object\",\"name\":\"UnionRenderers\",\"id\":\"p1864\"},\"data\":{\"type\":\"map\",\"entries\":[[\"x\",[0.0]],[\"y\",[4.5]],[\"tempo\",[102.0000510000255]],[\"grid_index\",[0]]]}}},\"view\":{\"type\":\"object\",\"name\":\"CDSView\",\"id\":\"p1872\",\"attributes\":{\"filter\":{\"type\":\"object\",\"name\":\"AllIndices\",\"id\":\"p1873\"}}},\"glyph\":{\"type\":\"object\",\"name\":\"Scatter\",\"id\":\"p1868\",\"attributes\":{\"x\":{\"type\":\"field\",\"field\":\"x\"},\"y\":{\"type\":\"field\",\"field\":\"y\"},\"size\":{\"type\":\"value\",\"value\":10},\"line_color\":{\"type\":\"value\",\"value\":\"#440154\"},\"fill_color\":{\"type\":\"value\",\"value\":\"#440154\"}}},\"nonselection_glyph\":{\"type\":\"object\",\"name\":\"Scatter\",\"id\":\"p1869\",\"attributes\":{\"x\":{\"type\":\"field\",\"field\":\"x\"},\"y\":{\"type\":\"field\",\"field\":\"y\"},\"size\":{\"type\":\"value\",\"value\":10},\"line_color\":{\"type\":\"value\",\"value\":\"#440154\"},\"line_alpha\":{\"type\":\"value\",\"value\":0.1},\"fill_color\":{\"type\":\"value\",\"value\":\"#440154\"},\"fill_alpha\":{\"type\":\"value\",\"value\":0.1},\"hatch_alpha\":{\"type\":\"value\",\"value\":0.1}}},\"muted_glyph\":{\"type\":\"object\",\"name\":\"Scatter\",\"id\":\"p1870\",\"attributes\":{\"x\":{\"type\":\"field\",\"field\":\"x\"},\"y\":{\"type\":\"field\",\"field\":\"y\"},\"size\":{\"type\":\"value\",\"value\":10},\"line_color\":{\"type\":\"value\",\"value\":\"#440154\"},\"line_alpha\":{\"type\":\"value\",\"value\":0.2},\"fill_color\":{\"type\":\"value\",\"value\":\"#440154\"},\"fill_alpha\":{\"type\":\"value\",\"value\":0.2},\"hatch_alpha\":{\"type\":\"value\",\"value\":0.2}}}}},{\"type\":\"object\",\"name\":\"GlyphRenderer\",\"id\":\"p1885\",\"attributes\":{\"data_source\":{\"type\":\"object\",\"name\":\"ColumnDataSource\",\"id\":\"p1876\",\"attributes\":{\"selected\":{\"type\":\"object\",\"name\":\"Selection\",\"id\":\"p1877\",\"attributes\":{\"indices\":[],\"line_indices\":[]}},\"selection_policy\":{\"type\":\"object\",\"name\":\"UnionRenderers\",\"id\":\"p1878\"},\"data\":{\"type\":\"map\",\"entries\":[[\"x\",[0.0]],[\"y\",[4]],[\"Numerator\",[4]],[\"Denominator\",[4]],[\"grid_index\",[0]]]}}},\"view\":{\"type\":\"object\",\"name\":\"CDSView\",\"id\":\"p1886\",\"attributes\":{\"filter\":{\"type\":\"object\",\"name\":\"AllIndices\",\"id\":\"p1887\"}}},\"glyph\":{\"type\":\"object\",\"name\":\"Scatter\",\"id\":\"p1882\",\"attributes\":{\"x\":{\"type\":\"field\",\"field\":\"x\"},\"y\":{\"type\":\"field\",\"field\":\"y\"},\"size\":{\"type\":\"value\",\"value\":10},\"line_color\":{\"type\":\"value\",\"value\":\"#70CE56\"},\"fill_color\":{\"type\":\"value\",\"value\":\"#70CE56\"}}},\"nonselection_glyph\":{\"type\":\"object\",\"name\":\"Scatter\",\"id\":\"p1883\",\"attributes\":{\"x\":{\"type\":\"field\",\"field\":\"x\"},\"y\":{\"type\":\"field\",\"field\":\"y\"},\"size\":{\"type\":\"value\",\"value\":10},\"line_color\":{\"type\":\"value\",\"value\":\"#70CE56\"},\"line_alpha\":{\"type\":\"value\",\"value\":0.1},\"fill_color\":{\"type\":\"value\",\"value\":\"#70CE56\"},\"fill_alpha\":{\"type\":\"value\",\"value\":0.1},\"hatch_alpha\":{\"type\":\"value\",\"value\":0.1}}},\"muted_glyph\":{\"type\":\"object\",\"name\":\"Scatter\",\"id\":\"p1884\",\"attributes\":{\"x\":{\"type\":\"field\",\"field\":\"x\"},\"y\":{\"type\":\"field\",\"field\":\"y\"},\"size\":{\"type\":\"value\",\"value\":10},\"line_color\":{\"type\":\"value\",\"value\":\"#70CE56\"},\"line_alpha\":{\"type\":\"value\",\"value\":0.2},\"fill_color\":{\"type\":\"value\",\"value\":\"#70CE56\"},\"fill_alpha\":{\"type\":\"value\",\"value\":0.2},\"hatch_alpha\":{\"type\":\"value\",\"value\":0.2}}}}},{\"type\":\"object\",\"name\":\"GlyphRenderer\",\"id\":\"p1899\",\"attributes\":{\"data_source\":{\"type\":\"object\",\"name\":\"ColumnDataSource\",\"id\":\"p1890\",\"attributes\":{\"selected\":{\"type\":\"object\",\"name\":\"Selection\",\"id\":\"p1891\",\"attributes\":{\"indices\":[],\"line_indices\":[]}},\"selection_policy\":{\"type\":\"object\",\"name\":\"UnionRenderers\",\"id\":\"p1892\"},\"data\":{\"type\":\"map\",\"entries\":[[\"x\",[0.0]],[\"y\",[3.5]],[\"filename\",[\"5382749461010f7bf3e83b1cc56b0dae_guitar.mid\"]],[\"main_file\",[\"5382749461010f7bf3e83b1cc56b0dae\"]],[\"instrument\",[\"guitar\"]],[\"source\",[\"Lakh MIDI\"]],[\"stream_0\",[\"brass\"]],[\"stream_1\",[\"bass\"]],[\"stream_2\",[\"drum\"]],[\"stream_3\",[\"guitar\"]],[\"start_bar\",[59]],[\"collection\",[\"lmd_batch_56_filtered\"]],[\"sample_id\",[\"5382749461010f7bf3e83b1cc56b0dae\"]]]}}},\"view\":{\"type\":\"object\",\"name\":\"CDSView\",\"id\":\"p1900\",\"attributes\":{\"filter\":{\"type\":\"object\",\"name\":\"AllIndices\",\"id\":\"p1901\"}}},\"glyph\":{\"type\":\"object\",\"name\":\"Scatter\",\"id\":\"p1896\",\"attributes\":{\"x\":{\"type\":\"field\",\"field\":\"x\"},\"y\":{\"type\":\"field\",\"field\":\"y\"},\"size\":{\"type\":\"value\",\"value\":10},\"line_color\":{\"type\":\"value\",\"value\":\"#1EA087\"},\"fill_color\":{\"type\":\"value\",\"value\":\"#1EA087\"}}},\"nonselection_glyph\":{\"type\":\"object\",\"name\":\"Scatter\",\"id\":\"p1897\",\"attributes\":{\"x\":{\"type\":\"field\",\"field\":\"x\"},\"y\":{\"type\":\"field\",\"field\":\"y\"},\"size\":{\"type\":\"value\",\"value\":10},\"line_color\":{\"type\":\"value\",\"value\":\"#1EA087\"},\"line_alpha\":{\"type\":\"value\",\"value\":0.1},\"fill_color\":{\"type\":\"value\",\"value\":\"#1EA087\"},\"fill_alpha\":{\"type\":\"value\",\"value\":0.1},\"hatch_alpha\":{\"type\":\"value\",\"value\":0.1}}},\"muted_glyph\":{\"type\":\"object\",\"name\":\"Scatter\",\"id\":\"p1898\",\"attributes\":{\"x\":{\"type\":\"field\",\"field\":\"x\"},\"y\":{\"type\":\"field\",\"field\":\"y\"},\"size\":{\"type\":\"value\",\"value\":10},\"line_color\":{\"type\":\"value\",\"value\":\"#1EA087\"},\"line_alpha\":{\"type\":\"value\",\"value\":0.2},\"fill_color\":{\"type\":\"value\",\"value\":\"#1EA087\"},\"fill_alpha\":{\"type\":\"value\",\"value\":0.2},\"hatch_alpha\":{\"type\":\"value\",\"value\":0.2}}}}}],\"toolbar\":{\"type\":\"object\",\"name\":\"Toolbar\",\"id\":\"p1786\",\"attributes\":{\"tools\":[{\"type\":\"object\",\"name\":\"PanTool\",\"id\":\"p1800\"},{\"type\":\"object\",\"name\":\"WheelZoomTool\",\"id\":\"p1801\",\"attributes\":{\"renderers\":\"auto\"}},{\"type\":\"object\",\"name\":\"BoxZoomTool\",\"id\":\"p1802\",\"attributes\":{\"overlay\":{\"type\":\"object\",\"name\":\"BoxAnnotation\",\"id\":\"p1803\",\"attributes\":{\"syncable\":false,\"level\":\"overlay\",\"visible\":false,\"left\":{\"type\":\"number\",\"value\":\"nan\"},\"right\":{\"type\":\"number\",\"value\":\"nan\"},\"top\":{\"type\":\"number\",\"value\":\"nan\"},\"bottom\":{\"type\":\"number\",\"value\":\"nan\"},\"left_units\":\"canvas\",\"right_units\":\"canvas\",\"top_units\":\"canvas\",\"bottom_units\":\"canvas\",\"line_color\":\"black\",\"line_alpha\":1.0,\"line_width\":2,\"line_dash\":[4,4],\"fill_color\":\"lightgrey\",\"fill_alpha\":0.5}}}},{\"type\":\"object\",\"name\":\"SaveTool\",\"id\":\"p1808\"},{\"type\":\"object\",\"name\":\"ResetTool\",\"id\":\"p1809\"},{\"type\":\"object\",\"name\":\"HelpTool\",\"id\":\"p1810\"},{\"type\":\"object\",\"name\":\"HoverTool\",\"id\":\"p1825\",\"attributes\":{\"renderers\":[{\"id\":\"p1820\"}],\"tooltips\":[[\"start\",\"@start\"],[\"end\",\"@end\"],[\"instrument\",\"@instrument\"],[\"voice_index\",\"@voice_index\"],[\"midi\",\"@midi\"],[\"velocity\",\"@velocity\"],[\"offset\",\"@offset\"],[\"offset_sec\",\"@offset_sec\"],[\"grid_line\",\"@grid_line\"]]}},{\"type\":\"object\",\"name\":\"HoverTool\",\"id\":\"p1875\",\"attributes\":{\"renderers\":[{\"id\":\"p1871\"}],\"tooltips\":[[\"tempo\",\"@tempo\"],[\"grid_index\",\"@grid_index\"]]}},{\"type\":\"object\",\"name\":\"HoverTool\",\"id\":\"p1889\",\"attributes\":{\"renderers\":[{\"id\":\"p1885\"}],\"tooltips\":[[\"Numerator\",\"@Numerator\"],[\"Denominator\",\"@Denominator\"],[\"grid_index\",\"@grid_index\"]]}},{\"type\":\"object\",\"name\":\"HoverTool\",\"id\":\"p1903\",\"attributes\":{\"renderers\":[{\"id\":\"p1899\"}],\"tooltips\":[[\"filename\",\"@filename\"],[\"main_file\",\"@main_file\"],[\"instrument\",\"@instrument\"],[\"source\",\"@source\"],[\"stream_0\",\"@stream_0\"],[\"stream_1\",\"@stream_1\"],[\"stream_2\",\"@stream_2\"],[\"stream_3\",\"@stream_3\"],[\"start_bar\",\"@start_bar\"],[\"collection\",\"@collection\"],[\"sample_id\",\"@sample_id\"]]}}]}},\"left\":[{\"type\":\"object\",\"name\":\"LinearAxis\",\"id\":\"p1795\",\"attributes\":{\"ticker\":{\"type\":\"object\",\"name\":\"FixedTicker\",\"id\":\"p1826\",\"attributes\":{\"ticks\":[0,1,2,3],\"minor_ticks\":[]}},\"formatter\":{\"type\":\"object\",\"name\":\"BasicTickFormatter\",\"id\":\"p1797\"},\"axis_label\":\"Instrument\",\"axis_label_standoff\":10,\"axis_label_text_color\":\"#5B5B5B\",\"axis_label_text_font\":\"Helvetica\",\"axis_label_text_font_size\":\"1.25em\",\"axis_label_text_font_style\":\"normal\",\"major_label_overrides\":{\"type\":\"map\",\"entries\":[[0,\"stream_0\"],[1,\"stream_1\"],[2,\"stream_2\"],[3,\"stream_3\"]]},\"major_label_policy\":{\"type\":\"object\",\"name\":\"AllLabels\",\"id\":\"p1798\"},\"major_label_text_color\":\"#5B5B5B\",\"major_label_text_font\":\"Helvetica\",\"major_label_text_font_size\":\"1.025em\",\"axis_line_color\":\"#5B5B5B\",\"axis_line_alpha\":0,\"major_tick_line_color\":\"#5B5B5B\",\"major_tick_line_alpha\":0,\"minor_tick_line_color\":\"#5B5B5B\",\"minor_tick_line_alpha\":0}}],\"right\":[{\"type\":\"object\",\"name\":\"Legend\",\"id\":\"p1823\",\"attributes\":{\"border_line_alpha\":0,\"background_fill_alpha\":0.25,\"click_policy\":\"hide\",\"label_text_color\":\"#5B5B5B\",\"label_text_font\":\"Helvetica\",\"label_text_font_size\":\"1.025em\",\"label_standoff\":8,\"glyph_width\":15,\"spacing\":8,\"items\":[{\"type\":\"object\",\"name\":\"LegendItem\",\"id\":\"p1824\",\"attributes\":{\"label\":{\"type\":\"value\",\"value\":\"Piano Roll\"},\"renderers\":[{\"id\":\"p1820\"}]}},{\"type\":\"object\",\"name\":\"LegendItem\",\"id\":\"p1874\",\"attributes\":{\"label\":{\"type\":\"value\",\"value\":\"Tempo\"},\"renderers\":[{\"id\":\"p1871\"}]}},{\"type\":\"object\",\"name\":\"LegendItem\",\"id\":\"p1888\",\"attributes\":{\"label\":{\"type\":\"value\",\"value\":\"Time Signature\"},\"renderers\":[{\"id\":\"p1885\"}]}},{\"type\":\"object\",\"name\":\"LegendItem\",\"id\":\"p1902\",\"attributes\":{\"label\":{\"type\":\"value\",\"value\":\"Metadata\"},\"renderers\":[{\"id\":\"p1899\"}]}}]}}],\"below\":[{\"type\":\"object\",\"name\":\"LinearAxis\",\"id\":\"p1790\",\"attributes\":{\"ticker\":{\"type\":\"object\",\"name\":\"FixedTicker\",\"id\":\"p1851\",\"attributes\":{\"ticks\":[0.0,0.59,1.18,1.76,2.35,2.94,3.53,4.12],\"minor_ticks\":[]}},\"formatter\":{\"type\":\"object\",\"name\":\"BasicTickFormatter\",\"id\":\"p1792\"},\"axis_label\":\"Time (sec)\",\"axis_label_standoff\":10,\"axis_label_text_color\":\"#5B5B5B\",\"axis_label_text_font\":\"Helvetica\",\"axis_label_text_font_size\":\"1.25em\",\"axis_label_text_font_style\":\"normal\",\"major_label_orientation\":1.57,\"major_label_policy\":{\"type\":\"object\",\"name\":\"AllLabels\",\"id\":\"p1793\"},\"major_label_text_color\":\"#5B5B5B\",\"major_label_text_font\":\"Helvetica\",\"major_label_text_font_size\":\"1.025em\",\"axis_line_color\":\"#5B5B5B\",\"axis_line_alpha\":0,\"major_tick_line_color\":\"#5B5B5B\",\"major_tick_line_alpha\":0,\"minor_tick_line_color\":\"#5B5B5B\",\"minor_tick_line_alpha\":0}}],\"center\":[{\"type\":\"object\",\"name\":\"Grid\",\"id\":\"p1794\",\"attributes\":{\"axis\":{\"id\":\"p1790\"},\"grid_line_color\":null}},{\"type\":\"object\",\"name\":\"Grid\",\"id\":\"p1799\",\"attributes\":{\"dimension\":1,\"axis\":{\"id\":\"p1795\"},\"grid_line_color\":null}},{\"id\":\"p1823\"},{\"type\":\"object\",\"name\":\"Span\",\"id\":\"p1827\",\"attributes\":{\"location\":0.147,\"dimension\":\"height\",\"line_width\":0.1}},{\"type\":\"object\",\"name\":\"Span\",\"id\":\"p1828\",\"attributes\":{\"location\":0.294,\"dimension\":\"height\",\"line_width\":0.1}},{\"type\":\"object\",\"name\":\"Span\",\"id\":\"p1829\",\"attributes\":{\"location\":0.441,\"dimension\":\"height\",\"line_width\":0.1}},{\"type\":\"object\",\"name\":\"Span\",\"id\":\"p1830\",\"attributes\":{\"location\":0.735,\"dimension\":\"height\",\"line_width\":0.1}},{\"type\":\"object\",\"name\":\"Span\",\"id\":\"p1831\",\"attributes\":{\"location\":0.882,\"dimension\":\"height\",\"line_width\":0.1}},{\"type\":\"object\",\"name\":\"Span\",\"id\":\"p1832\",\"attributes\":{\"location\":1.029,\"dimension\":\"height\",\"line_width\":0.1}},{\"type\":\"object\",\"name\":\"Span\",\"id\":\"p1833\",\"attributes\":{\"location\":1.323,\"dimension\":\"height\",\"line_width\":0.1}},{\"type\":\"object\",\"name\":\"Span\",\"id\":\"p1834\",\"attributes\":{\"location\":1.47,\"dimension\":\"height\",\"line_width\":0.1}},{\"type\":\"object\",\"name\":\"Span\",\"id\":\"p1835\",\"attributes\":{\"location\":1.617,\"dimension\":\"height\",\"line_width\":0.1}},{\"type\":\"object\",\"name\":\"Span\",\"id\":\"p1836\",\"attributes\":{\"location\":1.912,\"dimension\":\"height\",\"line_width\":0.1}},{\"type\":\"object\",\"name\":\"Span\",\"id\":\"p1837\",\"attributes\":{\"location\":2.059,\"dimension\":\"height\",\"line_width\":0.1}},{\"type\":\"object\",\"name\":\"Span\",\"id\":\"p1838\",\"attributes\":{\"location\":2.206,\"dimension\":\"height\",\"line_width\":0.1}},{\"type\":\"object\",\"name\":\"Span\",\"id\":\"p1839\",\"attributes\":{\"location\":2.5,\"dimension\":\"height\",\"line_width\":0.1}},{\"type\":\"object\",\"name\":\"Span\",\"id\":\"p1840\",\"attributes\":{\"location\":2.647,\"dimension\":\"height\",\"line_width\":0.1}},{\"type\":\"object\",\"name\":\"Span\",\"id\":\"p1841\",\"attributes\":{\"location\":2.794,\"dimension\":\"height\",\"line_width\":0.1}},{\"type\":\"object\",\"name\":\"Span\",\"id\":\"p1842\",\"attributes\":{\"location\":3.088,\"dimension\":\"height\",\"line_width\":0.1}},{\"type\":\"object\",\"name\":\"Span\",\"id\":\"p1843\",\"attributes\":{\"location\":3.235,\"dimension\":\"height\",\"line_width\":0.1}},{\"type\":\"object\",\"name\":\"Span\",\"id\":\"p1844\",\"attributes\":{\"location\":3.382,\"dimension\":\"height\",\"line_width\":0.1}},{\"type\":\"object\",\"name\":\"Span\",\"id\":\"p1845\",\"attributes\":{\"location\":3.676,\"dimension\":\"height\",\"line_width\":0.1}},{\"type\":\"object\",\"name\":\"Span\",\"id\":\"p1846\",\"attributes\":{\"location\":3.823,\"dimension\":\"height\",\"line_width\":0.1}},{\"type\":\"object\",\"name\":\"Span\",\"id\":\"p1847\",\"attributes\":{\"location\":3.97,\"dimension\":\"height\",\"line_width\":0.1}},{\"type\":\"object\",\"name\":\"Span\",\"id\":\"p1848\",\"attributes\":{\"location\":4.265,\"dimension\":\"height\",\"line_width\":0.1}},{\"type\":\"object\",\"name\":\"Span\",\"id\":\"p1849\",\"attributes\":{\"location\":4.412,\"dimension\":\"height\",\"line_width\":0.1}},{\"type\":\"object\",\"name\":\"Span\",\"id\":\"p1850\",\"attributes\":{\"location\":4.559,\"dimension\":\"height\",\"line_width\":0.1}},{\"type\":\"object\",\"name\":\"Span\",\"id\":\"p1852\",\"attributes\":{\"location\":0.0,\"dimension\":\"height\",\"line_width\":0.5}},{\"type\":\"object\",\"name\":\"Span\",\"id\":\"p1853\",\"attributes\":{\"location\":0.588,\"dimension\":\"height\",\"line_width\":0.5}},{\"type\":\"object\",\"name\":\"Span\",\"id\":\"p1854\",\"attributes\":{\"location\":1.176,\"dimension\":\"height\",\"line_width\":0.5}},{\"type\":\"object\",\"name\":\"Span\",\"id\":\"p1855\",\"attributes\":{\"location\":1.765,\"dimension\":\"height\",\"line_width\":0.5}},{\"type\":\"object\",\"name\":\"Span\",\"id\":\"p1856\",\"attributes\":{\"location\":2.353,\"dimension\":\"height\",\"line_width\":0.5}},{\"type\":\"object\",\"name\":\"Span\",\"id\":\"p1857\",\"attributes\":{\"location\":2.941,\"dimension\":\"height\",\"line_width\":0.5}},{\"type\":\"object\",\"name\":\"Span\",\"id\":\"p1858\",\"attributes\":{\"location\":3.529,\"dimension\":\"height\",\"line_width\":0.5}},{\"type\":\"object\",\"name\":\"Span\",\"id\":\"p1859\",\"attributes\":{\"location\":4.118,\"dimension\":\"height\",\"line_width\":0.5}},{\"type\":\"object\",\"name\":\"Span\",\"id\":\"p1860\",\"attributes\":{\"location\":0.0,\"dimension\":\"height\",\"line_width\":2}},{\"type\":\"object\",\"name\":\"Span\",\"id\":\"p1861\",\"attributes\":{\"location\":2.353,\"dimension\":\"height\",\"line_width\":2}}]}}}},{\"type\":\"object\",\"name\":\"TabPanel\",\"id\":\"p2298\",\"attributes\":{\"title\":\"Tab 8\",\"child\":{\"type\":\"object\",\"name\":\"Figure\",\"id\":\"p1907\",\"attributes\":{\"width\":800,\"height\":400,\"x_range\":{\"type\":\"object\",\"name\":\"DataRange1d\",\"id\":\"p1909\",\"attributes\":{\"start\":-0.4559,\"end\":5.014900000000001}},\"y_range\":{\"type\":\"object\",\"name\":\"Range1d\",\"id\":\"p1916\",\"attributes\":{\"start\":-0.5,\"end\":5.75}},\"x_scale\":{\"type\":\"object\",\"name\":\"LinearScale\",\"id\":\"p1917\"},\"y_scale\":{\"type\":\"object\",\"name\":\"LinearScale\",\"id\":\"p1918\"},\"title\":{\"type\":\"object\",\"name\":\"Title\",\"id\":\"p1914\",\"attributes\":{\"text_color\":\"#5B5B5B\",\"text_font\":\"Helvetica\",\"text_font_size\":\"1.15em\"}},\"renderers\":[{\"type\":\"object\",\"name\":\"GlyphRenderer\",\"id\":\"p1949\",\"attributes\":{\"data_source\":{\"type\":\"object\",\"name\":\"ColumnDataSource\",\"id\":\"p1940\",\"attributes\":{\"selected\":{\"type\":\"object\",\"name\":\"Selection\",\"id\":\"p1941\",\"attributes\":{\"indices\":[],\"line_indices\":[]}},\"selection_policy\":{\"type\":\"object\",\"name\":\"UnionRenderers\",\"id\":\"p1942\"},\"data\":{\"type\":\"map\",\"entries\":[[\"start\",[-0.000294,-0.000294,-0.000294,-0.000294,0.293853,0.293853,0.441,0.588,0.588,0.588,0.588,0.735,0.882147,0.882147,1.0291469999999998,1.0291469999999998,1.0291469999999998,1.176294,1.176294,1.176294,1.323294,1.323294,1.323294,1.470294,1.470294,1.6174439999999999,1.6174439999999999,1.6174439999999999,1.6174439999999999,1.764408,1.764408,1.764408,1.911559,1.911559,1.911559,2.0585590000000002,2.0585590000000002,2.0585590000000002,2.0585590000000002,2.205706,2.205706,2.3527060000000004,2.3527060000000004,2.3527060000000004,2.3527060000000004,2.6468529999999997,2.6468529999999997,2.793853,2.941,2.941,2.941,2.941,3.235,3.235,3.235,3.3821470000000002,3.3821470000000002,3.3821470000000002,3.529147,3.529147,3.529147,3.676294,3.676294,3.676294,3.676294,3.8232939999999997,3.9702960000000003,3.9702960000000003,3.9702960000000003,3.9702960000000003,4.117408,4.117408,4.264412,4.264412,4.264412,4.411559,4.411559,4.411559,4.411559]],[\"end\",[0.07320599999999967,0.07320599999999967,0.07320599999999967,0.07320599999999967,0.36735299999999965,0.36735299999999965,0.5144999999999997,0.6614999999999996,0.6614999999999996,0.6614999999999996,0.6614999999999996,0.8084999999999997,0.9556469999999997,0.9556469999999997,1.1026469999999995,1.1026469999999995,1.1026469999999995,1.2497939999999996,1.2497939999999996,1.2497939999999996,1.3967939999999996,1.3967939999999996,1.3967939999999996,1.5437939999999997,1.5437939999999997,1.6909439999999996,1.6909439999999996,1.6909439999999996,1.6909439999999996,1.8379079999999997,1.8379079999999997,1.8379079999999997,1.9850589999999997,1.9850589999999997,1.9850589999999997,2.132059,2.132059,2.132059,2.132059,2.279206,2.279206,2.426206,2.426206,2.426206,2.426206,2.7203529999999994,2.7203529999999994,2.8673529999999996,3.0144999999999995,3.0144999999999995,3.0144999999999995,3.0144999999999995,3.3084999999999996,3.3084999999999996,3.3084999999999996,3.455647,3.455647,3.455647,3.6026469999999997,3.6026469999999997,3.6026469999999997,3.7497939999999996,3.7497939999999996,3.7497939999999996,3.7497939999999996,3.8967939999999994,4.043796,4.043796,4.043796,4.043796,4.190908,4.190908,4.337911999999999,4.337911999999999,4.337911999999999,4.485059,4.485059,4.485059,4.485059]],[\"instrument\",[\"stream_0\",\"stream_1\",\"stream_2\",\"stream_3\",\"stream_0\",\"stream_2\",\"stream_2\",\"stream_0\",\"stream_1\",\"stream_2\",\"stream_3\",\"stream_0\",\"stream_2\",\"stream_3\",\"stream_0\",\"stream_2\",\"stream_3\",\"stream_1\",\"stream_2\",\"stream_3\",\"stream_1\",\"stream_2\",\"stream_3\",\"stream_0\",\"stream_2\",\"stream_0\",\"stream_1\",\"stream_2\",\"stream_3\",\"stream_0\",\"stream_2\",\"stream_3\",\"stream_0\",\"stream_1\",\"stream_2\",\"stream_0\",\"stream_1\",\"stream_2\",\"stream_3\",\"stream_0\",\"stream_2\",\"stream_0\",\"stream_1\",\"stream_2\",\"stream_3\",\"stream_0\",\"stream_2\",\"stream_2\",\"stream_0\",\"stream_1\",\"stream_2\",\"stream_3\",\"stream_0\",\"stream_2\",\"stream_3\",\"stream_0\",\"stream_2\",\"stream_3\",\"stream_1\",\"stream_2\",\"stream_3\",\"stream_0\",\"stream_1\",\"stream_2\",\"stream_3\",\"stream_2\",\"stream_0\",\"stream_1\",\"stream_2\",\"stream_3\",\"stream_2\",\"stream_3\",\"stream_1\",\"stream_2\",\"stream_3\",\"stream_0\",\"stream_1\",\"stream_2\",\"stream_3\"]],[\"voice_index\",[0,1,2,3,0,2,2,0,1,2,3,0,2,3,0,2,3,1,2,3,1,2,3,0,2,0,1,2,3,0,2,3,0,1,2,0,1,2,3,0,2,0,1,2,3,0,2,2,0,1,2,3,0,2,3,0,2,3,1,2,3,0,1,2,3,2,0,1,2,3,2,3,1,2,3,0,1,2,3]],[\"midi\",[36,38,42,46,36,42,42,36,38,42,46,36,42,46,36,42,46,38,42,46,38,42,46,36,42,36,38,42,46,36,42,46,36,38,42,36,38,42,46,36,42,36,38,42,46,36,42,42,36,38,42,46,36,42,46,36,42,46,38,42,46,36,38,42,46,42,36,38,42,46,42,46,38,42,46,36,38,42,46]],[\"velocity\",[0.913,0.858,1.0,0.472,0.913,0.339,1.0,0.913,0.937,1.0,0.472,0.913,0.339,0.402,0.913,1.0,0.394,0.976,1.0,0.346,0.89,1.0,0.472,0.913,0.339,0.913,0.937,1.0,0.441,0.913,1.0,0.441,0.913,0.937,1.0,0.913,0.89,1.0,0.472,0.913,1.0,0.913,0.858,1.0,0.378,0.913,0.339,1.0,0.913,0.898,1.0,0.457,0.913,0.339,0.472,0.913,1.0,0.417,0.898,1.0,0.472,0.913,0.756,1.0,0.52,0.339,0.913,0.858,1.0,0.598,1.0,0.52,0.819,1.0,0.567,0.913,0.898,1.0,0.472]],[\"offset\",[-0.002,-0.002,-0.002,-0.002,-0.001,-0.001,0.0,0.0,0.0,0.0,0.0,0.0,0.001,0.001,0.001,0.001,0.001,0.002,0.002,0.002,0.002,0.002,0.002,0.002,0.002,0.003,0.003,0.003,0.003,-0.004,-0.004,-0.004,-0.003,-0.003,-0.003,-0.003,-0.003,-0.003,-0.003,-0.002,-0.002,-0.002,-0.002,-0.002,-0.002,-0.001,-0.001,-0.001,0.0,0.0,0.0,0.0,0.0,0.0,0.0,0.001,0.001,0.001,0.001,0.001,0.001,0.002,0.002,0.002,0.002,0.002,0.002,0.002,0.002,0.002,-0.004,-0.004,-0.004,-0.004,-0.004,-0.003,-0.003,-0.003,-0.003]],[\"offset_sec\",[-0.0,-0.0,-0.0,-0.0,-0.0,-0.0,0.0,0.0,0.0,0.0,0.0,0.0,0.0,0.0,0.0,0.0,0.0,0.0,0.0,0.0,0.0,0.0,0.0,0.0,0.0,0.0,0.0,0.0,0.0,-0.001,-0.001,-0.001,-0.0,-0.0,-0.0,-0.0,-0.0,-0.0,-0.0,-0.0,-0.0,-0.0,-0.0,-0.0,-0.0,-0.0,-0.0,-0.0,0.0,0.0,0.0,0.0,0.0,0.0,0.0,0.0,0.0,0.0,0.0,0.0,0.0,0.0,0.0,0.0,0.0,0.0,0.0,0.0,0.0,0.0,-0.001,-0.001,-0.001,-0.001,-0.001,-0.0,-0.0,-0.0,-0.0]],[\"grid_line\",[0,0,0,0,2,2,3,4,4,4,4,5,6,6,7,7,7,8,8,8,9,9,9,10,10,11,11,11,11,12,12,12,13,13,13,14,14,14,14,15,15,16,16,16,16,18,18,19,20,20,20,20,22,22,22,23,23,23,24,24,24,25,25,25,25,26,27,27,27,27,28,28,29,29,29,30,30,30,30]],[\"top\",{\"type\":\"ndarray\",\"array\":{\"type\":\"bytes\",\"data\":\"mpmZmZmZyT8zMzMzMzPzP5qZmZmZmQFAmpmZmZmZCUCamZmZmZnJP5qZmZmZmQFAmpmZmZmZAUCamZmZmZnJPzMzMzMzM/M/mpmZmZmZAUCamZmZmZkJQJqZmZmZmck/mpmZmZmZAUCamZmZmZkJQJqZmZmZmck/mpmZmZmZAUCamZmZmZkJQDMzMzMzM/M/mpmZmZmZAUCamZmZmZkJQDMzMzMzM/M/mpmZmZmZAUCamZmZmZkJQJqZmZmZmck/mpmZmZmZAUCamZmZmZnJPzMzMzMzM/M/mpmZmZmZAUCamZmZmZkJQJqZmZmZmck/mpmZmZmZAUCamZmZmZkJQJqZmZmZmck/MzMzMzMz8z+amZmZmZkBQJqZmZmZmck/MzMzMzMz8z+amZmZmZkBQJqZmZmZmQlAmpmZmZmZyT+amZmZmZkBQJqZmZmZmck/MzMzMzMz8z+amZmZmZkBQJqZmZmZmQlAmpmZmZmZyT+amZmZmZkBQJqZmZmZmQFAmpmZmZmZyT8zMzMzMzPzP5qZmZmZmQFAmpmZmZmZCUCamZmZmZnJP5qZmZmZmQFAmpmZmZmZCUCamZmZmZnJP5qZmZmZmQFAmpmZmZmZCUAzMzMzMzPzP5qZmZmZmQFAmpmZmZmZCUCamZmZmZnJPzMzMzMzM/M/mpmZmZmZAUCamZmZmZkJQJqZmZmZmQFAmpmZmZmZyT8zMzMzMzPzP5qZmZmZmQFAmpmZmZmZCUCamZmZmZkBQJqZmZmZmQlAMzMzMzMz8z+amZmZmZkBQJqZmZmZmQlAmpmZmZmZyT8zMzMzMzPzP5qZmZmZmQFAmpmZmZmZCUA=\"},\"shape\":[79],\"dtype\":\"float64\",\"order\":\"little\"}],[\"bottom\",{\"type\":\"ndarray\",\"array\":{\"type\":\"bytes\",\"data\":\"mpmZmZmZyb+amZmZmZnpP83MzMzMzPw/ZmZmZmZmBkCamZmZmZnJv83MzMzMzPw/zczMzMzM/D+amZmZmZnJv5qZmZmZmek/zczMzMzM/D9mZmZmZmYGQJqZmZmZmcm/zczMzMzM/D9mZmZmZmYGQJqZmZmZmcm/zczMzMzM/D9mZmZmZmYGQJqZmZmZmek/zczMzMzM/D9mZmZmZmYGQJqZmZmZmek/zczMzMzM/D9mZmZmZmYGQJqZmZmZmcm/zczMzMzM/D+amZmZmZnJv5qZmZmZmek/zczMzMzM/D9mZmZmZmYGQJqZmZmZmcm/zczMzMzM/D9mZmZmZmYGQJqZmZmZmcm/mpmZmZmZ6T/NzMzMzMz8P5qZmZmZmcm/mpmZmZmZ6T/NzMzMzMz8P2ZmZmZmZgZAmpmZmZmZyb/NzMzMzMz8P5qZmZmZmcm/mpmZmZmZ6T/NzMzMzMz8P2ZmZmZmZgZAmpmZmZmZyb/NzMzMzMz8P83MzMzMzPw/mpmZmZmZyb+amZmZmZnpP83MzMzMzPw/ZmZmZmZmBkCamZmZmZnJv83MzMzMzPw/ZmZmZmZmBkCamZmZmZnJv83MzMzMzPw/ZmZmZmZmBkCamZmZmZnpP83MzMzMzPw/ZmZmZmZmBkCamZmZmZnJv5qZmZmZmek/zczMzMzM/D9mZmZmZmYGQM3MzMzMzPw/mpmZmZmZyb+amZmZmZnpP83MzMzMzPw/ZmZmZmZmBkDNzMzMzMz8P2ZmZmZmZgZAmpmZmZmZ6T/NzMzMzMz8P2ZmZmZmZgZAmpmZmZmZyb+amZmZmZnpP83MzMzMzPw/ZmZmZmZmBkA=\"},\"shape\":[79],\"dtype\":\"float64\",\"order\":\"little\"}]]}}},\"view\":{\"type\":\"object\",\"name\":\"CDSView\",\"id\":\"p1950\",\"attributes\":{\"filter\":{\"type\":\"object\",\"name\":\"AllIndices\",\"id\":\"p1951\"}}},\"glyph\":{\"type\":\"object\",\"name\":\"Quad\",\"id\":\"p1946\",\"attributes\":{\"left\":{\"type\":\"field\",\"field\":\"start\"},\"right\":{\"type\":\"field\",\"field\":\"end\"},\"bottom\":{\"type\":\"field\",\"field\":\"bottom\"},\"top\":{\"type\":\"field\",\"field\":\"top\"},\"line_color\":{\"type\":\"value\",\"value\":\"grey\"},\"fill_color\":{\"type\":\"value\",\"value\":\"grey\"},\"fill_alpha\":{\"type\":\"field\",\"field\":\"velocity\"}}},\"nonselection_glyph\":{\"type\":\"object\",\"name\":\"Quad\",\"id\":\"p1947\",\"attributes\":{\"left\":{\"type\":\"field\",\"field\":\"start\"},\"right\":{\"type\":\"field\",\"field\":\"end\"},\"bottom\":{\"type\":\"field\",\"field\":\"bottom\"},\"top\":{\"type\":\"field\",\"field\":\"top\"},\"line_color\":{\"type\":\"value\",\"value\":\"grey\"},\"line_alpha\":{\"type\":\"value\",\"value\":0.1},\"fill_color\":{\"type\":\"value\",\"value\":\"grey\"},\"fill_alpha\":{\"type\":\"value\",\"value\":0.1},\"hatch_alpha\":{\"type\":\"value\",\"value\":0.1}}},\"muted_glyph\":{\"type\":\"object\",\"name\":\"Quad\",\"id\":\"p1948\",\"attributes\":{\"left\":{\"type\":\"field\",\"field\":\"start\"},\"right\":{\"type\":\"field\",\"field\":\"end\"},\"bottom\":{\"type\":\"field\",\"field\":\"bottom\"},\"top\":{\"type\":\"field\",\"field\":\"top\"},\"line_color\":{\"type\":\"value\",\"value\":\"grey\"},\"line_alpha\":{\"type\":\"value\",\"value\":0.2},\"fill_color\":{\"type\":\"value\",\"value\":\"grey\"},\"fill_alpha\":{\"type\":\"value\",\"value\":0.2},\"hatch_alpha\":{\"type\":\"value\",\"value\":0.2}}}}},{\"type\":\"object\",\"name\":\"GlyphRenderer\",\"id\":\"p2000\",\"attributes\":{\"data_source\":{\"type\":\"object\",\"name\":\"ColumnDataSource\",\"id\":\"p1991\",\"attributes\":{\"selected\":{\"type\":\"object\",\"name\":\"Selection\",\"id\":\"p1992\",\"attributes\":{\"indices\":[],\"line_indices\":[]}},\"selection_policy\":{\"type\":\"object\",\"name\":\"UnionRenderers\",\"id\":\"p1993\"},\"data\":{\"type\":\"map\",\"entries\":[[\"x\",[0.0]],[\"y\",[4.5]],[\"tempo\",[102.0000510000255]],[\"grid_index\",[0]]]}}},\"view\":{\"type\":\"object\",\"name\":\"CDSView\",\"id\":\"p2001\",\"attributes\":{\"filter\":{\"type\":\"object\",\"name\":\"AllIndices\",\"id\":\"p2002\"}}},\"glyph\":{\"type\":\"object\",\"name\":\"Scatter\",\"id\":\"p1997\",\"attributes\":{\"x\":{\"type\":\"field\",\"field\":\"x\"},\"y\":{\"type\":\"field\",\"field\":\"y\"},\"size\":{\"type\":\"value\",\"value\":10},\"line_color\":{\"type\":\"value\",\"value\":\"#440154\"},\"fill_color\":{\"type\":\"value\",\"value\":\"#440154\"}}},\"nonselection_glyph\":{\"type\":\"object\",\"name\":\"Scatter\",\"id\":\"p1998\",\"attributes\":{\"x\":{\"type\":\"field\",\"field\":\"x\"},\"y\":{\"type\":\"field\",\"field\":\"y\"},\"size\":{\"type\":\"value\",\"value\":10},\"line_color\":{\"type\":\"value\",\"value\":\"#440154\"},\"line_alpha\":{\"type\":\"value\",\"value\":0.1},\"fill_color\":{\"type\":\"value\",\"value\":\"#440154\"},\"fill_alpha\":{\"type\":\"value\",\"value\":0.1},\"hatch_alpha\":{\"type\":\"value\",\"value\":0.1}}},\"muted_glyph\":{\"type\":\"object\",\"name\":\"Scatter\",\"id\":\"p1999\",\"attributes\":{\"x\":{\"type\":\"field\",\"field\":\"x\"},\"y\":{\"type\":\"field\",\"field\":\"y\"},\"size\":{\"type\":\"value\",\"value\":10},\"line_color\":{\"type\":\"value\",\"value\":\"#440154\"},\"line_alpha\":{\"type\":\"value\",\"value\":0.2},\"fill_color\":{\"type\":\"value\",\"value\":\"#440154\"},\"fill_alpha\":{\"type\":\"value\",\"value\":0.2},\"hatch_alpha\":{\"type\":\"value\",\"value\":0.2}}}}},{\"type\":\"object\",\"name\":\"GlyphRenderer\",\"id\":\"p2014\",\"attributes\":{\"data_source\":{\"type\":\"object\",\"name\":\"ColumnDataSource\",\"id\":\"p2005\",\"attributes\":{\"selected\":{\"type\":\"object\",\"name\":\"Selection\",\"id\":\"p2006\",\"attributes\":{\"indices\":[],\"line_indices\":[]}},\"selection_policy\":{\"type\":\"object\",\"name\":\"UnionRenderers\",\"id\":\"p2007\"},\"data\":{\"type\":\"map\",\"entries\":[[\"x\",[0.0]],[\"y\",[4]],[\"Numerator\",[4]],[\"Denominator\",[4]],[\"grid_index\",[0]]]}}},\"view\":{\"type\":\"object\",\"name\":\"CDSView\",\"id\":\"p2015\",\"attributes\":{\"filter\":{\"type\":\"object\",\"name\":\"AllIndices\",\"id\":\"p2016\"}}},\"glyph\":{\"type\":\"object\",\"name\":\"Scatter\",\"id\":\"p2011\",\"attributes\":{\"x\":{\"type\":\"field\",\"field\":\"x\"},\"y\":{\"type\":\"field\",\"field\":\"y\"},\"size\":{\"type\":\"value\",\"value\":10},\"line_color\":{\"type\":\"value\",\"value\":\"#70CE56\"},\"fill_color\":{\"type\":\"value\",\"value\":\"#70CE56\"}}},\"nonselection_glyph\":{\"type\":\"object\",\"name\":\"Scatter\",\"id\":\"p2012\",\"attributes\":{\"x\":{\"type\":\"field\",\"field\":\"x\"},\"y\":{\"type\":\"field\",\"field\":\"y\"},\"size\":{\"type\":\"value\",\"value\":10},\"line_color\":{\"type\":\"value\",\"value\":\"#70CE56\"},\"line_alpha\":{\"type\":\"value\",\"value\":0.1},\"fill_color\":{\"type\":\"value\",\"value\":\"#70CE56\"},\"fill_alpha\":{\"type\":\"value\",\"value\":0.1},\"hatch_alpha\":{\"type\":\"value\",\"value\":0.1}}},\"muted_glyph\":{\"type\":\"object\",\"name\":\"Scatter\",\"id\":\"p2013\",\"attributes\":{\"x\":{\"type\":\"field\",\"field\":\"x\"},\"y\":{\"type\":\"field\",\"field\":\"y\"},\"size\":{\"type\":\"value\",\"value\":10},\"line_color\":{\"type\":\"value\",\"value\":\"#70CE56\"},\"line_alpha\":{\"type\":\"value\",\"value\":0.2},\"fill_color\":{\"type\":\"value\",\"value\":\"#70CE56\"},\"fill_alpha\":{\"type\":\"value\",\"value\":0.2},\"hatch_alpha\":{\"type\":\"value\",\"value\":0.2}}}}},{\"type\":\"object\",\"name\":\"GlyphRenderer\",\"id\":\"p2028\",\"attributes\":{\"data_source\":{\"type\":\"object\",\"name\":\"ColumnDataSource\",\"id\":\"p2019\",\"attributes\":{\"selected\":{\"type\":\"object\",\"name\":\"Selection\",\"id\":\"p2020\",\"attributes\":{\"indices\":[],\"line_indices\":[]}},\"selection_policy\":{\"type\":\"object\",\"name\":\"UnionRenderers\",\"id\":\"p2021\"},\"data\":{\"type\":\"map\",\"entries\":[[\"x\",[0.0]],[\"y\",[3.5]],[\"filename\",[\"5382749461010f7bf3e83b1cc56b0dae_guitar.mid\"]],[\"main_file\",[\"5382749461010f7bf3e83b1cc56b0dae\"]],[\"instrument\",[\"guitar\"]],[\"source\",[\"Lakh MIDI\"]],[\"stream_0\",[\"brass\"]],[\"stream_1\",[\"bass\"]],[\"stream_2\",[\"drum\"]],[\"stream_3\",[\"guitar\"]],[\"start_bar\",[54]],[\"collection\",[\"lmd_batch_56_filtered\"]],[\"sample_id\",[\"5382749461010f7bf3e83b1cc56b0dae\"]]]}}},\"view\":{\"type\":\"object\",\"name\":\"CDSView\",\"id\":\"p2029\",\"attributes\":{\"filter\":{\"type\":\"object\",\"name\":\"AllIndices\",\"id\":\"p2030\"}}},\"glyph\":{\"type\":\"object\",\"name\":\"Scatter\",\"id\":\"p2025\",\"attributes\":{\"x\":{\"type\":\"field\",\"field\":\"x\"},\"y\":{\"type\":\"field\",\"field\":\"y\"},\"size\":{\"type\":\"value\",\"value\":10},\"line_color\":{\"type\":\"value\",\"value\":\"#1EA087\"},\"fill_color\":{\"type\":\"value\",\"value\":\"#1EA087\"}}},\"nonselection_glyph\":{\"type\":\"object\",\"name\":\"Scatter\",\"id\":\"p2026\",\"attributes\":{\"x\":{\"type\":\"field\",\"field\":\"x\"},\"y\":{\"type\":\"field\",\"field\":\"y\"},\"size\":{\"type\":\"value\",\"value\":10},\"line_color\":{\"type\":\"value\",\"value\":\"#1EA087\"},\"line_alpha\":{\"type\":\"value\",\"value\":0.1},\"fill_color\":{\"type\":\"value\",\"value\":\"#1EA087\"},\"fill_alpha\":{\"type\":\"value\",\"value\":0.1},\"hatch_alpha\":{\"type\":\"value\",\"value\":0.1}}},\"muted_glyph\":{\"type\":\"object\",\"name\":\"Scatter\",\"id\":\"p2027\",\"attributes\":{\"x\":{\"type\":\"field\",\"field\":\"x\"},\"y\":{\"type\":\"field\",\"field\":\"y\"},\"size\":{\"type\":\"value\",\"value\":10},\"line_color\":{\"type\":\"value\",\"value\":\"#1EA087\"},\"line_alpha\":{\"type\":\"value\",\"value\":0.2},\"fill_color\":{\"type\":\"value\",\"value\":\"#1EA087\"},\"fill_alpha\":{\"type\":\"value\",\"value\":0.2},\"hatch_alpha\":{\"type\":\"value\",\"value\":0.2}}}}}],\"toolbar\":{\"type\":\"object\",\"name\":\"Toolbar\",\"id\":\"p1915\",\"attributes\":{\"tools\":[{\"type\":\"object\",\"name\":\"PanTool\",\"id\":\"p1929\"},{\"type\":\"object\",\"name\":\"WheelZoomTool\",\"id\":\"p1930\",\"attributes\":{\"renderers\":\"auto\"}},{\"type\":\"object\",\"name\":\"BoxZoomTool\",\"id\":\"p1931\",\"attributes\":{\"overlay\":{\"type\":\"object\",\"name\":\"BoxAnnotation\",\"id\":\"p1932\",\"attributes\":{\"syncable\":false,\"level\":\"overlay\",\"visible\":false,\"left\":{\"type\":\"number\",\"value\":\"nan\"},\"right\":{\"type\":\"number\",\"value\":\"nan\"},\"top\":{\"type\":\"number\",\"value\":\"nan\"},\"bottom\":{\"type\":\"number\",\"value\":\"nan\"},\"left_units\":\"canvas\",\"right_units\":\"canvas\",\"top_units\":\"canvas\",\"bottom_units\":\"canvas\",\"line_color\":\"black\",\"line_alpha\":1.0,\"line_width\":2,\"line_dash\":[4,4],\"fill_color\":\"lightgrey\",\"fill_alpha\":0.5}}}},{\"type\":\"object\",\"name\":\"SaveTool\",\"id\":\"p1937\"},{\"type\":\"object\",\"name\":\"ResetTool\",\"id\":\"p1938\"},{\"type\":\"object\",\"name\":\"HelpTool\",\"id\":\"p1939\"},{\"type\":\"object\",\"name\":\"HoverTool\",\"id\":\"p1954\",\"attributes\":{\"renderers\":[{\"id\":\"p1949\"}],\"tooltips\":[[\"start\",\"@start\"],[\"end\",\"@end\"],[\"instrument\",\"@instrument\"],[\"voice_index\",\"@voice_index\"],[\"midi\",\"@midi\"],[\"velocity\",\"@velocity\"],[\"offset\",\"@offset\"],[\"offset_sec\",\"@offset_sec\"],[\"grid_line\",\"@grid_line\"]]}},{\"type\":\"object\",\"name\":\"HoverTool\",\"id\":\"p2004\",\"attributes\":{\"renderers\":[{\"id\":\"p2000\"}],\"tooltips\":[[\"tempo\",\"@tempo\"],[\"grid_index\",\"@grid_index\"]]}},{\"type\":\"object\",\"name\":\"HoverTool\",\"id\":\"p2018\",\"attributes\":{\"renderers\":[{\"id\":\"p2014\"}],\"tooltips\":[[\"Numerator\",\"@Numerator\"],[\"Denominator\",\"@Denominator\"],[\"grid_index\",\"@grid_index\"]]}},{\"type\":\"object\",\"name\":\"HoverTool\",\"id\":\"p2032\",\"attributes\":{\"renderers\":[{\"id\":\"p2028\"}],\"tooltips\":[[\"filename\",\"@filename\"],[\"main_file\",\"@main_file\"],[\"instrument\",\"@instrument\"],[\"source\",\"@source\"],[\"stream_0\",\"@stream_0\"],[\"stream_1\",\"@stream_1\"],[\"stream_2\",\"@stream_2\"],[\"stream_3\",\"@stream_3\"],[\"start_bar\",\"@start_bar\"],[\"collection\",\"@collection\"],[\"sample_id\",\"@sample_id\"]]}}]}},\"left\":[{\"type\":\"object\",\"name\":\"LinearAxis\",\"id\":\"p1924\",\"attributes\":{\"ticker\":{\"type\":\"object\",\"name\":\"FixedTicker\",\"id\":\"p1955\",\"attributes\":{\"ticks\":[0,1,2,3],\"minor_ticks\":[]}},\"formatter\":{\"type\":\"object\",\"name\":\"BasicTickFormatter\",\"id\":\"p1926\"},\"axis_label\":\"Instrument\",\"axis_label_standoff\":10,\"axis_label_text_color\":\"#5B5B5B\",\"axis_label_text_font\":\"Helvetica\",\"axis_label_text_font_size\":\"1.25em\",\"axis_label_text_font_style\":\"normal\",\"major_label_overrides\":{\"type\":\"map\",\"entries\":[[0,\"stream_0\"],[1,\"stream_1\"],[2,\"stream_2\"],[3,\"stream_3\"]]},\"major_label_policy\":{\"type\":\"object\",\"name\":\"AllLabels\",\"id\":\"p1927\"},\"major_label_text_color\":\"#5B5B5B\",\"major_label_text_font\":\"Helvetica\",\"major_label_text_font_size\":\"1.025em\",\"axis_line_color\":\"#5B5B5B\",\"axis_line_alpha\":0,\"major_tick_line_color\":\"#5B5B5B\",\"major_tick_line_alpha\":0,\"minor_tick_line_color\":\"#5B5B5B\",\"minor_tick_line_alpha\":0}}],\"right\":[{\"type\":\"object\",\"name\":\"Legend\",\"id\":\"p1952\",\"attributes\":{\"border_line_alpha\":0,\"background_fill_alpha\":0.25,\"click_policy\":\"hide\",\"label_text_color\":\"#5B5B5B\",\"label_text_font\":\"Helvetica\",\"label_text_font_size\":\"1.025em\",\"label_standoff\":8,\"glyph_width\":15,\"spacing\":8,\"items\":[{\"type\":\"object\",\"name\":\"LegendItem\",\"id\":\"p1953\",\"attributes\":{\"label\":{\"type\":\"value\",\"value\":\"Piano Roll\"},\"renderers\":[{\"id\":\"p1949\"}]}},{\"type\":\"object\",\"name\":\"LegendItem\",\"id\":\"p2003\",\"attributes\":{\"label\":{\"type\":\"value\",\"value\":\"Tempo\"},\"renderers\":[{\"id\":\"p2000\"}]}},{\"type\":\"object\",\"name\":\"LegendItem\",\"id\":\"p2017\",\"attributes\":{\"label\":{\"type\":\"value\",\"value\":\"Time Signature\"},\"renderers\":[{\"id\":\"p2014\"}]}},{\"type\":\"object\",\"name\":\"LegendItem\",\"id\":\"p2031\",\"attributes\":{\"label\":{\"type\":\"value\",\"value\":\"Metadata\"},\"renderers\":[{\"id\":\"p2028\"}]}}]}}],\"below\":[{\"type\":\"object\",\"name\":\"LinearAxis\",\"id\":\"p1919\",\"attributes\":{\"ticker\":{\"type\":\"object\",\"name\":\"FixedTicker\",\"id\":\"p1980\",\"attributes\":{\"ticks\":[0.0,0.59,1.18,1.76,2.35,2.94,3.53,4.12],\"minor_ticks\":[]}},\"formatter\":{\"type\":\"object\",\"name\":\"BasicTickFormatter\",\"id\":\"p1921\"},\"axis_label\":\"Time (sec)\",\"axis_label_standoff\":10,\"axis_label_text_color\":\"#5B5B5B\",\"axis_label_text_font\":\"Helvetica\",\"axis_label_text_font_size\":\"1.25em\",\"axis_label_text_font_style\":\"normal\",\"major_label_orientation\":1.57,\"major_label_policy\":{\"type\":\"object\",\"name\":\"AllLabels\",\"id\":\"p1922\"},\"major_label_text_color\":\"#5B5B5B\",\"major_label_text_font\":\"Helvetica\",\"major_label_text_font_size\":\"1.025em\",\"axis_line_color\":\"#5B5B5B\",\"axis_line_alpha\":0,\"major_tick_line_color\":\"#5B5B5B\",\"major_tick_line_alpha\":0,\"minor_tick_line_color\":\"#5B5B5B\",\"minor_tick_line_alpha\":0}}],\"center\":[{\"type\":\"object\",\"name\":\"Grid\",\"id\":\"p1923\",\"attributes\":{\"axis\":{\"id\":\"p1919\"},\"grid_line_color\":null}},{\"type\":\"object\",\"name\":\"Grid\",\"id\":\"p1928\",\"attributes\":{\"dimension\":1,\"axis\":{\"id\":\"p1924\"},\"grid_line_color\":null}},{\"id\":\"p1952\"},{\"type\":\"object\",\"name\":\"Span\",\"id\":\"p1956\",\"attributes\":{\"location\":0.147,\"dimension\":\"height\",\"line_width\":0.1}},{\"type\":\"object\",\"name\":\"Span\",\"id\":\"p1957\",\"attributes\":{\"location\":0.294,\"dimension\":\"height\",\"line_width\":0.1}},{\"type\":\"object\",\"name\":\"Span\",\"id\":\"p1958\",\"attributes\":{\"location\":0.441,\"dimension\":\"height\",\"line_width\":0.1}},{\"type\":\"object\",\"name\":\"Span\",\"id\":\"p1959\",\"attributes\":{\"location\":0.735,\"dimension\":\"height\",\"line_width\":0.1}},{\"type\":\"object\",\"name\":\"Span\",\"id\":\"p1960\",\"attributes\":{\"location\":0.882,\"dimension\":\"height\",\"line_width\":0.1}},{\"type\":\"object\",\"name\":\"Span\",\"id\":\"p1961\",\"attributes\":{\"location\":1.029,\"dimension\":\"height\",\"line_width\":0.1}},{\"type\":\"object\",\"name\":\"Span\",\"id\":\"p1962\",\"attributes\":{\"location\":1.323,\"dimension\":\"height\",\"line_width\":0.1}},{\"type\":\"object\",\"name\":\"Span\",\"id\":\"p1963\",\"attributes\":{\"location\":1.47,\"dimension\":\"height\",\"line_width\":0.1}},{\"type\":\"object\",\"name\":\"Span\",\"id\":\"p1964\",\"attributes\":{\"location\":1.617,\"dimension\":\"height\",\"line_width\":0.1}},{\"type\":\"object\",\"name\":\"Span\",\"id\":\"p1965\",\"attributes\":{\"location\":1.912,\"dimension\":\"height\",\"line_width\":0.1}},{\"type\":\"object\",\"name\":\"Span\",\"id\":\"p1966\",\"attributes\":{\"location\":2.059,\"dimension\":\"height\",\"line_width\":0.1}},{\"type\":\"object\",\"name\":\"Span\",\"id\":\"p1967\",\"attributes\":{\"location\":2.206,\"dimension\":\"height\",\"line_width\":0.1}},{\"type\":\"object\",\"name\":\"Span\",\"id\":\"p1968\",\"attributes\":{\"location\":2.5,\"dimension\":\"height\",\"line_width\":0.1}},{\"type\":\"object\",\"name\":\"Span\",\"id\":\"p1969\",\"attributes\":{\"location\":2.647,\"dimension\":\"height\",\"line_width\":0.1}},{\"type\":\"object\",\"name\":\"Span\",\"id\":\"p1970\",\"attributes\":{\"location\":2.794,\"dimension\":\"height\",\"line_width\":0.1}},{\"type\":\"object\",\"name\":\"Span\",\"id\":\"p1971\",\"attributes\":{\"location\":3.088,\"dimension\":\"height\",\"line_width\":0.1}},{\"type\":\"object\",\"name\":\"Span\",\"id\":\"p1972\",\"attributes\":{\"location\":3.235,\"dimension\":\"height\",\"line_width\":0.1}},{\"type\":\"object\",\"name\":\"Span\",\"id\":\"p1973\",\"attributes\":{\"location\":3.382,\"dimension\":\"height\",\"line_width\":0.1}},{\"type\":\"object\",\"name\":\"Span\",\"id\":\"p1974\",\"attributes\":{\"location\":3.676,\"dimension\":\"height\",\"line_width\":0.1}},{\"type\":\"object\",\"name\":\"Span\",\"id\":\"p1975\",\"attributes\":{\"location\":3.823,\"dimension\":\"height\",\"line_width\":0.1}},{\"type\":\"object\",\"name\":\"Span\",\"id\":\"p1976\",\"attributes\":{\"location\":3.97,\"dimension\":\"height\",\"line_width\":0.1}},{\"type\":\"object\",\"name\":\"Span\",\"id\":\"p1977\",\"attributes\":{\"location\":4.265,\"dimension\":\"height\",\"line_width\":0.1}},{\"type\":\"object\",\"name\":\"Span\",\"id\":\"p1978\",\"attributes\":{\"location\":4.412,\"dimension\":\"height\",\"line_width\":0.1}},{\"type\":\"object\",\"name\":\"Span\",\"id\":\"p1979\",\"attributes\":{\"location\":4.559,\"dimension\":\"height\",\"line_width\":0.1}},{\"type\":\"object\",\"name\":\"Span\",\"id\":\"p1981\",\"attributes\":{\"location\":0.0,\"dimension\":\"height\",\"line_width\":0.5}},{\"type\":\"object\",\"name\":\"Span\",\"id\":\"p1982\",\"attributes\":{\"location\":0.588,\"dimension\":\"height\",\"line_width\":0.5}},{\"type\":\"object\",\"name\":\"Span\",\"id\":\"p1983\",\"attributes\":{\"location\":1.176,\"dimension\":\"height\",\"line_width\":0.5}},{\"type\":\"object\",\"name\":\"Span\",\"id\":\"p1984\",\"attributes\":{\"location\":1.765,\"dimension\":\"height\",\"line_width\":0.5}},{\"type\":\"object\",\"name\":\"Span\",\"id\":\"p1985\",\"attributes\":{\"location\":2.353,\"dimension\":\"height\",\"line_width\":0.5}},{\"type\":\"object\",\"name\":\"Span\",\"id\":\"p1986\",\"attributes\":{\"location\":2.941,\"dimension\":\"height\",\"line_width\":0.5}},{\"type\":\"object\",\"name\":\"Span\",\"id\":\"p1987\",\"attributes\":{\"location\":3.529,\"dimension\":\"height\",\"line_width\":0.5}},{\"type\":\"object\",\"name\":\"Span\",\"id\":\"p1988\",\"attributes\":{\"location\":4.118,\"dimension\":\"height\",\"line_width\":0.5}},{\"type\":\"object\",\"name\":\"Span\",\"id\":\"p1989\",\"attributes\":{\"location\":0.0,\"dimension\":\"height\",\"line_width\":2}},{\"type\":\"object\",\"name\":\"Span\",\"id\":\"p1990\",\"attributes\":{\"location\":2.353,\"dimension\":\"height\",\"line_width\":2}}]}}}},{\"type\":\"object\",\"name\":\"TabPanel\",\"id\":\"p2299\",\"attributes\":{\"title\":\"Tab 9\",\"child\":{\"type\":\"object\",\"name\":\"Figure\",\"id\":\"p2036\",\"attributes\":{\"width\":800,\"height\":400,\"x_range\":{\"type\":\"object\",\"name\":\"DataRange1d\",\"id\":\"p2038\",\"attributes\":{\"start\":-0.34700000000000003,\"end\":3.8170000000000006}},\"y_range\":{\"type\":\"object\",\"name\":\"Range1d\",\"id\":\"p2045\",\"attributes\":{\"start\":-0.5,\"end\":5.75}},\"x_scale\":{\"type\":\"object\",\"name\":\"LinearScale\",\"id\":\"p2046\"},\"y_scale\":{\"type\":\"object\",\"name\":\"LinearScale\",\"id\":\"p2047\"},\"title\":{\"type\":\"object\",\"name\":\"Title\",\"id\":\"p2043\",\"attributes\":{\"text_color\":\"#5B5B5B\",\"text_font\":\"Helvetica\",\"text_font_size\":\"1.15em\"}},\"renderers\":[{\"type\":\"object\",\"name\":\"GlyphRenderer\",\"id\":\"p2078\",\"attributes\":{\"data_source\":{\"type\":\"object\",\"name\":\"ColumnDataSource\",\"id\":\"p2069\",\"attributes\":{\"selected\":{\"type\":\"object\",\"name\":\"Selection\",\"id\":\"p2070\",\"attributes\":{\"indices\":[],\"line_indices\":[]}},\"selection_policy\":{\"type\":\"object\",\"name\":\"UnionRenderers\",\"id\":\"p2071\"},\"data\":{\"type\":\"map\",\"entries\":[[\"start\",[0.000448,0.002464,0.000448,0.224336,0.22232000000000002,0.448224,0.448224,0.44419200000000003,0.670096,0.670096,0.66808,0.896,0.893984,0.891968,1.1178720000000002,1.1178720000000002,1.1158560000000002,1.34078,1.34078,1.338782,1.564648,1.564648,1.56252,1.7915599999999998,1.789432,1.789432,2.015448,2.01332,2.011304,2.2392239999999997,2.237208,2.227016,2.463112,2.45908,2.45908,2.687,2.682968,2.682968,2.908872,2.906856,2.906856,3.133778,3.129782,3.129782,3.357664,3.355648,3.353632]],[\"end\",[0.05594799999999988,0.057963999999999884,0.05594799999999988,0.27983599999999986,0.2778199999999999,0.5037239999999998,0.5037239999999998,0.4996919999999999,0.7255959999999999,0.7255959999999999,0.7235799999999999,0.9514999999999999,0.9494839999999999,0.9474679999999999,1.173372,1.173372,1.171356,1.39628,1.39628,1.3942819999999998,1.620148,1.620148,1.6180199999999998,1.8470599999999997,1.8449319999999998,1.8449319999999998,2.070948,2.06882,2.066804,2.2947239999999995,2.2927079999999997,2.2825159999999998,2.518612,2.51458,2.51458,2.7424999999999997,2.7384679999999997,2.7384679999999997,2.964372,2.9623559999999998,2.9623559999999998,3.189278,3.185282,3.185282,3.413164,3.411148,3.409132]],[\"instrument\",[\"stream_0\",\"stream_1\",\"stream_3\",\"stream_1\",\"stream_3\",\"stream_0\",\"stream_1\",\"stream_3\",\"stream_0\",\"stream_1\",\"stream_3\",\"stream_0\",\"stream_1\",\"stream_3\",\"stream_0\",\"stream_1\",\"stream_3\",\"stream_0\",\"stream_1\",\"stream_3\",\"stream_0\",\"stream_1\",\"stream_3\",\"stream_0\",\"stream_1\",\"stream_3\",\"stream_0\",\"stream_1\",\"stream_3\",\"stream_0\",\"stream_1\",\"stream_3\",\"stream_0\",\"stream_1\",\"stream_3\",\"stream_0\",\"stream_1\",\"stream_3\",\"stream_0\",\"stream_1\",\"stream_3\",\"stream_0\",\"stream_1\",\"stream_3\",\"stream_0\",\"stream_1\",\"stream_3\"]],[\"voice_index\",[0,1,3,1,3,0,1,3,0,1,3,0,1,3,0,1,3,0,1,3,0,1,3,0,1,3,0,1,3,0,1,3,0,1,3,0,1,3,0,1,3,0,1,3,0,1,3]],[\"midi\",[36,38,46,38,46,36,38,46,36,38,46,36,38,46,36,38,46,36,38,46,36,38,46,36,38,46,36,38,46,36,38,46,36,38,46,36,38,46,36,38,46,36,38,46,36,38,46]],[\"velocity\",[0.638,0.78,0.724,0.756,0.512,0.559,0.709,0.654,0.346,0.764,0.496,0.575,0.756,0.535,0.354,0.709,0.535,0.63,0.717,0.575,0.441,0.685,0.535,0.583,0.732,0.504,0.307,0.701,0.567,0.567,0.654,0.606,0.378,0.669,0.559,0.528,0.669,0.543,0.331,0.654,0.512,0.614,0.646,0.512,0.323,0.63,0.551]],[\"offset\",[0.004,0.022,0.004,0.003,-0.015,0.002,0.002,-0.034,-0.017,-0.017,-0.035,0.0,-0.018,-0.036,-0.019,-0.019,-0.037,-0.02,-0.02,-0.038,-0.021,-0.021,-0.04,0.005,-0.014,-0.014,0.004,-0.015,-0.033,0.002,-0.016,-0.107,0.001,-0.035,-0.035,0.0,-0.036,-0.036,-0.019,-0.037,-0.037,-0.002,-0.038,-0.038,-0.003,-0.021,-0.039]],[\"offset_sec\",[0.0,0.002,0.0,0.0,-0.002,0.0,0.0,-0.004,-0.002,-0.002,-0.004,0.0,-0.002,-0.004,-0.002,-0.002,-0.004,-0.002,-0.002,-0.004,-0.002,-0.002,-0.004,0.001,-0.002,-0.002,0.0,-0.002,-0.004,0.0,-0.002,-0.012,0.0,-0.004,-0.004,0.0,-0.004,-0.004,-0.002,-0.004,-0.004,-0.0,-0.004,-0.004,-0.0,-0.002,-0.004]],[\"grid_line\",[0,0,0,2,2,4,4,4,6,6,6,8,8,8,10,10,10,12,12,12,14,14,14,16,16,16,18,18,18,20,20,20,22,22,22,24,24,24,26,26,26,28,28,28,30,30,30]],[\"top\",{\"type\":\"ndarray\",\"array\":{\"type\":\"bytes\",\"data\":\"mpmZmZmZyT8zMzMzMzPzP5qZmZmZmQlAMzMzMzMz8z+amZmZmZkJQJqZmZmZmck/MzMzMzMz8z+amZmZmZkJQJqZmZmZmck/MzMzMzMz8z+amZmZmZkJQJqZmZmZmck/MzMzMzMz8z+amZmZmZkJQJqZmZmZmck/MzMzMzMz8z+amZmZmZkJQJqZmZmZmck/MzMzMzMz8z+amZmZmZkJQJqZmZmZmck/MzMzMzMz8z+amZmZmZkJQJqZmZmZmck/MzMzMzMz8z+amZmZmZkJQJqZmZmZmck/MzMzMzMz8z+amZmZmZkJQJqZmZmZmck/MzMzMzMz8z+amZmZmZkJQJqZmZmZmck/MzMzMzMz8z+amZmZmZkJQJqZmZmZmck/MzMzMzMz8z+amZmZmZkJQJqZmZmZmck/MzMzMzMz8z+amZmZmZkJQJqZmZmZmck/MzMzMzMz8z+amZmZmZkJQJqZmZmZmck/MzMzMzMz8z+amZmZmZkJQA==\"},\"shape\":[47],\"dtype\":\"float64\",\"order\":\"little\"}],[\"bottom\",{\"type\":\"ndarray\",\"array\":{\"type\":\"bytes\",\"data\":\"mpmZmZmZyb+amZmZmZnpP2ZmZmZmZgZAmpmZmZmZ6T9mZmZmZmYGQJqZmZmZmcm/mpmZmZmZ6T9mZmZmZmYGQJqZmZmZmcm/mpmZmZmZ6T9mZmZmZmYGQJqZmZmZmcm/mpmZmZmZ6T9mZmZmZmYGQJqZmZmZmcm/mpmZmZmZ6T9mZmZmZmYGQJqZmZmZmcm/mpmZmZmZ6T9mZmZmZmYGQJqZmZmZmcm/mpmZmZmZ6T9mZmZmZmYGQJqZmZmZmcm/mpmZmZmZ6T9mZmZmZmYGQJqZmZmZmcm/mpmZmZmZ6T9mZmZmZmYGQJqZmZmZmcm/mpmZmZmZ6T9mZmZmZmYGQJqZmZmZmcm/mpmZmZmZ6T9mZmZmZmYGQJqZmZmZmcm/mpmZmZmZ6T9mZmZmZmYGQJqZmZmZmcm/mpmZmZmZ6T9mZmZmZmYGQJqZmZmZmcm/mpmZmZmZ6T9mZmZmZmYGQJqZmZmZmcm/mpmZmZmZ6T9mZmZmZmYGQA==\"},\"shape\":[47],\"dtype\":\"float64\",\"order\":\"little\"}]]}}},\"view\":{\"type\":\"object\",\"name\":\"CDSView\",\"id\":\"p2079\",\"attributes\":{\"filter\":{\"type\":\"object\",\"name\":\"AllIndices\",\"id\":\"p2080\"}}},\"glyph\":{\"type\":\"object\",\"name\":\"Quad\",\"id\":\"p2075\",\"attributes\":{\"left\":{\"type\":\"field\",\"field\":\"start\"},\"right\":{\"type\":\"field\",\"field\":\"end\"},\"bottom\":{\"type\":\"field\",\"field\":\"bottom\"},\"top\":{\"type\":\"field\",\"field\":\"top\"},\"line_color\":{\"type\":\"value\",\"value\":\"grey\"},\"fill_color\":{\"type\":\"value\",\"value\":\"grey\"},\"fill_alpha\":{\"type\":\"field\",\"field\":\"velocity\"}}},\"nonselection_glyph\":{\"type\":\"object\",\"name\":\"Quad\",\"id\":\"p2076\",\"attributes\":{\"left\":{\"type\":\"field\",\"field\":\"start\"},\"right\":{\"type\":\"field\",\"field\":\"end\"},\"bottom\":{\"type\":\"field\",\"field\":\"bottom\"},\"top\":{\"type\":\"field\",\"field\":\"top\"},\"line_color\":{\"type\":\"value\",\"value\":\"grey\"},\"line_alpha\":{\"type\":\"value\",\"value\":0.1},\"fill_color\":{\"type\":\"value\",\"value\":\"grey\"},\"fill_alpha\":{\"type\":\"value\",\"value\":0.1},\"hatch_alpha\":{\"type\":\"value\",\"value\":0.1}}},\"muted_glyph\":{\"type\":\"object\",\"name\":\"Quad\",\"id\":\"p2077\",\"attributes\":{\"left\":{\"type\":\"field\",\"field\":\"start\"},\"right\":{\"type\":\"field\",\"field\":\"end\"},\"bottom\":{\"type\":\"field\",\"field\":\"bottom\"},\"top\":{\"type\":\"field\",\"field\":\"top\"},\"line_color\":{\"type\":\"value\",\"value\":\"grey\"},\"line_alpha\":{\"type\":\"value\",\"value\":0.2},\"fill_color\":{\"type\":\"value\",\"value\":\"grey\"},\"fill_alpha\":{\"type\":\"value\",\"value\":0.2},\"hatch_alpha\":{\"type\":\"value\",\"value\":0.2}}}}},{\"type\":\"object\",\"name\":\"GlyphRenderer\",\"id\":\"p2129\",\"attributes\":{\"data_source\":{\"type\":\"object\",\"name\":\"ColumnDataSource\",\"id\":\"p2120\",\"attributes\":{\"selected\":{\"type\":\"object\",\"name\":\"Selection\",\"id\":\"p2121\",\"attributes\":{\"indices\":[],\"line_indices\":[]}},\"selection_policy\":{\"type\":\"object\",\"name\":\"UnionRenderers\",\"id\":\"p2122\"},\"data\":{\"type\":\"map\",\"entries\":[[\"x\",[0.0]],[\"y\",[4.5]],[\"tempo\",[134.00065660321735]],[\"grid_index\",[0]]]}}},\"view\":{\"type\":\"object\",\"name\":\"CDSView\",\"id\":\"p2130\",\"attributes\":{\"filter\":{\"type\":\"object\",\"name\":\"AllIndices\",\"id\":\"p2131\"}}},\"glyph\":{\"type\":\"object\",\"name\":\"Scatter\",\"id\":\"p2126\",\"attributes\":{\"x\":{\"type\":\"field\",\"field\":\"x\"},\"y\":{\"type\":\"field\",\"field\":\"y\"},\"size\":{\"type\":\"value\",\"value\":10},\"line_color\":{\"type\":\"value\",\"value\":\"#440154\"},\"fill_color\":{\"type\":\"value\",\"value\":\"#440154\"}}},\"nonselection_glyph\":{\"type\":\"object\",\"name\":\"Scatter\",\"id\":\"p2127\",\"attributes\":{\"x\":{\"type\":\"field\",\"field\":\"x\"},\"y\":{\"type\":\"field\",\"field\":\"y\"},\"size\":{\"type\":\"value\",\"value\":10},\"line_color\":{\"type\":\"value\",\"value\":\"#440154\"},\"line_alpha\":{\"type\":\"value\",\"value\":0.1},\"fill_color\":{\"type\":\"value\",\"value\":\"#440154\"},\"fill_alpha\":{\"type\":\"value\",\"value\":0.1},\"hatch_alpha\":{\"type\":\"value\",\"value\":0.1}}},\"muted_glyph\":{\"type\":\"object\",\"name\":\"Scatter\",\"id\":\"p2128\",\"attributes\":{\"x\":{\"type\":\"field\",\"field\":\"x\"},\"y\":{\"type\":\"field\",\"field\":\"y\"},\"size\":{\"type\":\"value\",\"value\":10},\"line_color\":{\"type\":\"value\",\"value\":\"#440154\"},\"line_alpha\":{\"type\":\"value\",\"value\":0.2},\"fill_color\":{\"type\":\"value\",\"value\":\"#440154\"},\"fill_alpha\":{\"type\":\"value\",\"value\":0.2},\"hatch_alpha\":{\"type\":\"value\",\"value\":0.2}}}}},{\"type\":\"object\",\"name\":\"GlyphRenderer\",\"id\":\"p2143\",\"attributes\":{\"data_source\":{\"type\":\"object\",\"name\":\"ColumnDataSource\",\"id\":\"p2134\",\"attributes\":{\"selected\":{\"type\":\"object\",\"name\":\"Selection\",\"id\":\"p2135\",\"attributes\":{\"indices\":[],\"line_indices\":[]}},\"selection_policy\":{\"type\":\"object\",\"name\":\"UnionRenderers\",\"id\":\"p2136\"},\"data\":{\"type\":\"map\",\"entries\":[[\"x\",[0.0]],[\"y\",[4]],[\"Numerator\",[4]],[\"Denominator\",[4]],[\"grid_index\",[0]]]}}},\"view\":{\"type\":\"object\",\"name\":\"CDSView\",\"id\":\"p2144\",\"attributes\":{\"filter\":{\"type\":\"object\",\"name\":\"AllIndices\",\"id\":\"p2145\"}}},\"glyph\":{\"type\":\"object\",\"name\":\"Scatter\",\"id\":\"p2140\",\"attributes\":{\"x\":{\"type\":\"field\",\"field\":\"x\"},\"y\":{\"type\":\"field\",\"field\":\"y\"},\"size\":{\"type\":\"value\",\"value\":10},\"line_color\":{\"type\":\"value\",\"value\":\"#70CE56\"},\"fill_color\":{\"type\":\"value\",\"value\":\"#70CE56\"}}},\"nonselection_glyph\":{\"type\":\"object\",\"name\":\"Scatter\",\"id\":\"p2141\",\"attributes\":{\"x\":{\"type\":\"field\",\"field\":\"x\"},\"y\":{\"type\":\"field\",\"field\":\"y\"},\"size\":{\"type\":\"value\",\"value\":10},\"line_color\":{\"type\":\"value\",\"value\":\"#70CE56\"},\"line_alpha\":{\"type\":\"value\",\"value\":0.1},\"fill_color\":{\"type\":\"value\",\"value\":\"#70CE56\"},\"fill_alpha\":{\"type\":\"value\",\"value\":0.1},\"hatch_alpha\":{\"type\":\"value\",\"value\":0.1}}},\"muted_glyph\":{\"type\":\"object\",\"name\":\"Scatter\",\"id\":\"p2142\",\"attributes\":{\"x\":{\"type\":\"field\",\"field\":\"x\"},\"y\":{\"type\":\"field\",\"field\":\"y\"},\"size\":{\"type\":\"value\",\"value\":10},\"line_color\":{\"type\":\"value\",\"value\":\"#70CE56\"},\"line_alpha\":{\"type\":\"value\",\"value\":0.2},\"fill_color\":{\"type\":\"value\",\"value\":\"#70CE56\"},\"fill_alpha\":{\"type\":\"value\",\"value\":0.2},\"hatch_alpha\":{\"type\":\"value\",\"value\":0.2}}}}},{\"type\":\"object\",\"name\":\"GlyphRenderer\",\"id\":\"p2157\",\"attributes\":{\"data_source\":{\"type\":\"object\",\"name\":\"ColumnDataSource\",\"id\":\"p2148\",\"attributes\":{\"selected\":{\"type\":\"object\",\"name\":\"Selection\",\"id\":\"p2149\",\"attributes\":{\"indices\":[],\"line_indices\":[]}},\"selection_policy\":{\"type\":\"object\",\"name\":\"UnionRenderers\",\"id\":\"p2150\"},\"data\":{\"type\":\"map\",\"entries\":[[\"x\",[0.0]],[\"y\",[3.5]],[\"filename\",[\"8db064fc2147f51a6b21dfdb5f55fbaf_guitar.mid\"]],[\"main_file\",[\"8db064fc2147f51a6b21dfdb5f55fbaf\"]],[\"instrument\",[\"guitar\"]],[\"source\",[\"Lakh MIDI\"]],[\"stream_0\",[\"drum\"]],[\"stream_1\",[\"bass\"]],[\"stream_2\",[\"piano\"]],[\"stream_3\",[\"guitar\"]],[\"start_bar\",[69]],[\"collection\",[\"lmd_batch_56_filtered\"]],[\"sample_id\",[\"8db064fc2147f51a6b21dfdb5f55fbaf\"]]]}}},\"view\":{\"type\":\"object\",\"name\":\"CDSView\",\"id\":\"p2158\",\"attributes\":{\"filter\":{\"type\":\"object\",\"name\":\"AllIndices\",\"id\":\"p2159\"}}},\"glyph\":{\"type\":\"object\",\"name\":\"Scatter\",\"id\":\"p2154\",\"attributes\":{\"x\":{\"type\":\"field\",\"field\":\"x\"},\"y\":{\"type\":\"field\",\"field\":\"y\"},\"size\":{\"type\":\"value\",\"value\":10},\"line_color\":{\"type\":\"value\",\"value\":\"#1EA087\"},\"fill_color\":{\"type\":\"value\",\"value\":\"#1EA087\"}}},\"nonselection_glyph\":{\"type\":\"object\",\"name\":\"Scatter\",\"id\":\"p2155\",\"attributes\":{\"x\":{\"type\":\"field\",\"field\":\"x\"},\"y\":{\"type\":\"field\",\"field\":\"y\"},\"size\":{\"type\":\"value\",\"value\":10},\"line_color\":{\"type\":\"value\",\"value\":\"#1EA087\"},\"line_alpha\":{\"type\":\"value\",\"value\":0.1},\"fill_color\":{\"type\":\"value\",\"value\":\"#1EA087\"},\"fill_alpha\":{\"type\":\"value\",\"value\":0.1},\"hatch_alpha\":{\"type\":\"value\",\"value\":0.1}}},\"muted_glyph\":{\"type\":\"object\",\"name\":\"Scatter\",\"id\":\"p2156\",\"attributes\":{\"x\":{\"type\":\"field\",\"field\":\"x\"},\"y\":{\"type\":\"field\",\"field\":\"y\"},\"size\":{\"type\":\"value\",\"value\":10},\"line_color\":{\"type\":\"value\",\"value\":\"#1EA087\"},\"line_alpha\":{\"type\":\"value\",\"value\":0.2},\"fill_color\":{\"type\":\"value\",\"value\":\"#1EA087\"},\"fill_alpha\":{\"type\":\"value\",\"value\":0.2},\"hatch_alpha\":{\"type\":\"value\",\"value\":0.2}}}}}],\"toolbar\":{\"type\":\"object\",\"name\":\"Toolbar\",\"id\":\"p2044\",\"attributes\":{\"tools\":[{\"type\":\"object\",\"name\":\"PanTool\",\"id\":\"p2058\"},{\"type\":\"object\",\"name\":\"WheelZoomTool\",\"id\":\"p2059\",\"attributes\":{\"renderers\":\"auto\"}},{\"type\":\"object\",\"name\":\"BoxZoomTool\",\"id\":\"p2060\",\"attributes\":{\"overlay\":{\"type\":\"object\",\"name\":\"BoxAnnotation\",\"id\":\"p2061\",\"attributes\":{\"syncable\":false,\"level\":\"overlay\",\"visible\":false,\"left\":{\"type\":\"number\",\"value\":\"nan\"},\"right\":{\"type\":\"number\",\"value\":\"nan\"},\"top\":{\"type\":\"number\",\"value\":\"nan\"},\"bottom\":{\"type\":\"number\",\"value\":\"nan\"},\"left_units\":\"canvas\",\"right_units\":\"canvas\",\"top_units\":\"canvas\",\"bottom_units\":\"canvas\",\"line_color\":\"black\",\"line_alpha\":1.0,\"line_width\":2,\"line_dash\":[4,4],\"fill_color\":\"lightgrey\",\"fill_alpha\":0.5}}}},{\"type\":\"object\",\"name\":\"SaveTool\",\"id\":\"p2066\"},{\"type\":\"object\",\"name\":\"ResetTool\",\"id\":\"p2067\"},{\"type\":\"object\",\"name\":\"HelpTool\",\"id\":\"p2068\"},{\"type\":\"object\",\"name\":\"HoverTool\",\"id\":\"p2083\",\"attributes\":{\"renderers\":[{\"id\":\"p2078\"}],\"tooltips\":[[\"start\",\"@start\"],[\"end\",\"@end\"],[\"instrument\",\"@instrument\"],[\"voice_index\",\"@voice_index\"],[\"midi\",\"@midi\"],[\"velocity\",\"@velocity\"],[\"offset\",\"@offset\"],[\"offset_sec\",\"@offset_sec\"],[\"grid_line\",\"@grid_line\"]]}},{\"type\":\"object\",\"name\":\"HoverTool\",\"id\":\"p2133\",\"attributes\":{\"renderers\":[{\"id\":\"p2129\"}],\"tooltips\":[[\"tempo\",\"@tempo\"],[\"grid_index\",\"@grid_index\"]]}},{\"type\":\"object\",\"name\":\"HoverTool\",\"id\":\"p2147\",\"attributes\":{\"renderers\":[{\"id\":\"p2143\"}],\"tooltips\":[[\"Numerator\",\"@Numerator\"],[\"Denominator\",\"@Denominator\"],[\"grid_index\",\"@grid_index\"]]}},{\"type\":\"object\",\"name\":\"HoverTool\",\"id\":\"p2161\",\"attributes\":{\"renderers\":[{\"id\":\"p2157\"}],\"tooltips\":[[\"filename\",\"@filename\"],[\"main_file\",\"@main_file\"],[\"instrument\",\"@instrument\"],[\"source\",\"@source\"],[\"stream_0\",\"@stream_0\"],[\"stream_1\",\"@stream_1\"],[\"stream_2\",\"@stream_2\"],[\"stream_3\",\"@stream_3\"],[\"start_bar\",\"@start_bar\"],[\"collection\",\"@collection\"],[\"sample_id\",\"@sample_id\"]]}}]}},\"left\":[{\"type\":\"object\",\"name\":\"LinearAxis\",\"id\":\"p2053\",\"attributes\":{\"ticker\":{\"type\":\"object\",\"name\":\"FixedTicker\",\"id\":\"p2084\",\"attributes\":{\"ticks\":[0,1,2,3],\"minor_ticks\":[]}},\"formatter\":{\"type\":\"object\",\"name\":\"BasicTickFormatter\",\"id\":\"p2055\"},\"axis_label\":\"Instrument\",\"axis_label_standoff\":10,\"axis_label_text_color\":\"#5B5B5B\",\"axis_label_text_font\":\"Helvetica\",\"axis_label_text_font_size\":\"1.25em\",\"axis_label_text_font_style\":\"normal\",\"major_label_overrides\":{\"type\":\"map\",\"entries\":[[0,\"stream_0\"],[1,\"stream_1\"],[2,\"stream_2\"],[3,\"stream_3\"]]},\"major_label_policy\":{\"type\":\"object\",\"name\":\"AllLabels\",\"id\":\"p2056\"},\"major_label_text_color\":\"#5B5B5B\",\"major_label_text_font\":\"Helvetica\",\"major_label_text_font_size\":\"1.025em\",\"axis_line_color\":\"#5B5B5B\",\"axis_line_alpha\":0,\"major_tick_line_color\":\"#5B5B5B\",\"major_tick_line_alpha\":0,\"minor_tick_line_color\":\"#5B5B5B\",\"minor_tick_line_alpha\":0}}],\"right\":[{\"type\":\"object\",\"name\":\"Legend\",\"id\":\"p2081\",\"attributes\":{\"border_line_alpha\":0,\"background_fill_alpha\":0.25,\"click_policy\":\"hide\",\"label_text_color\":\"#5B5B5B\",\"label_text_font\":\"Helvetica\",\"label_text_font_size\":\"1.025em\",\"label_standoff\":8,\"glyph_width\":15,\"spacing\":8,\"items\":[{\"type\":\"object\",\"name\":\"LegendItem\",\"id\":\"p2082\",\"attributes\":{\"label\":{\"type\":\"value\",\"value\":\"Piano Roll\"},\"renderers\":[{\"id\":\"p2078\"}]}},{\"type\":\"object\",\"name\":\"LegendItem\",\"id\":\"p2132\",\"attributes\":{\"label\":{\"type\":\"value\",\"value\":\"Tempo\"},\"renderers\":[{\"id\":\"p2129\"}]}},{\"type\":\"object\",\"name\":\"LegendItem\",\"id\":\"p2146\",\"attributes\":{\"label\":{\"type\":\"value\",\"value\":\"Time Signature\"},\"renderers\":[{\"id\":\"p2143\"}]}},{\"type\":\"object\",\"name\":\"LegendItem\",\"id\":\"p2160\",\"attributes\":{\"label\":{\"type\":\"value\",\"value\":\"Metadata\"},\"renderers\":[{\"id\":\"p2157\"}]}}]}}],\"below\":[{\"type\":\"object\",\"name\":\"LinearAxis\",\"id\":\"p2048\",\"attributes\":{\"ticker\":{\"type\":\"object\",\"name\":\"FixedTicker\",\"id\":\"p2109\",\"attributes\":{\"ticks\":[0.0,0.45,0.9,1.34,1.79,2.24,2.69,3.13],\"minor_ticks\":[]}},\"formatter\":{\"type\":\"object\",\"name\":\"BasicTickFormatter\",\"id\":\"p2050\"},\"axis_label\":\"Time (sec)\",\"axis_label_standoff\":10,\"axis_label_text_color\":\"#5B5B5B\",\"axis_label_text_font\":\"Helvetica\",\"axis_label_text_font_size\":\"1.25em\",\"axis_label_text_font_style\":\"normal\",\"major_label_orientation\":1.57,\"major_label_policy\":{\"type\":\"object\",\"name\":\"AllLabels\",\"id\":\"p2051\"},\"major_label_text_color\":\"#5B5B5B\",\"major_label_text_font\":\"Helvetica\",\"major_label_text_font_size\":\"1.025em\",\"axis_line_color\":\"#5B5B5B\",\"axis_line_alpha\":0,\"major_tick_line_color\":\"#5B5B5B\",\"major_tick_line_alpha\":0,\"minor_tick_line_color\":\"#5B5B5B\",\"minor_tick_line_alpha\":0}}],\"center\":[{\"type\":\"object\",\"name\":\"Grid\",\"id\":\"p2052\",\"attributes\":{\"axis\":{\"id\":\"p2048\"},\"grid_line_color\":null}},{\"type\":\"object\",\"name\":\"Grid\",\"id\":\"p2057\",\"attributes\":{\"dimension\":1,\"axis\":{\"id\":\"p2053\"},\"grid_line_color\":null}},{\"id\":\"p2081\"},{\"type\":\"object\",\"name\":\"Span\",\"id\":\"p2085\",\"attributes\":{\"location\":0.112,\"dimension\":\"height\",\"line_width\":0.1}},{\"type\":\"object\",\"name\":\"Span\",\"id\":\"p2086\",\"attributes\":{\"location\":0.224,\"dimension\":\"height\",\"line_width\":0.1}},{\"type\":\"object\",\"name\":\"Span\",\"id\":\"p2087\",\"attributes\":{\"location\":0.336,\"dimension\":\"height\",\"line_width\":0.1}},{\"type\":\"object\",\"name\":\"Span\",\"id\":\"p2088\",\"attributes\":{\"location\":0.56,\"dimension\":\"height\",\"line_width\":0.1}},{\"type\":\"object\",\"name\":\"Span\",\"id\":\"p2089\",\"attributes\":{\"location\":0.672,\"dimension\":\"height\",\"line_width\":0.1}},{\"type\":\"object\",\"name\":\"Span\",\"id\":\"p2090\",\"attributes\":{\"location\":0.784,\"dimension\":\"height\",\"line_width\":0.1}},{\"type\":\"object\",\"name\":\"Span\",\"id\":\"p2091\",\"attributes\":{\"location\":1.008,\"dimension\":\"height\",\"line_width\":0.1}},{\"type\":\"object\",\"name\":\"Span\",\"id\":\"p2092\",\"attributes\":{\"location\":1.12,\"dimension\":\"height\",\"line_width\":0.1}},{\"type\":\"object\",\"name\":\"Span\",\"id\":\"p2093\",\"attributes\":{\"location\":1.232,\"dimension\":\"height\",\"line_width\":0.1}},{\"type\":\"object\",\"name\":\"Span\",\"id\":\"p2094\",\"attributes\":{\"location\":1.455,\"dimension\":\"height\",\"line_width\":0.1}},{\"type\":\"object\",\"name\":\"Span\",\"id\":\"p2095\",\"attributes\":{\"location\":1.567,\"dimension\":\"height\",\"line_width\":0.1}},{\"type\":\"object\",\"name\":\"Span\",\"id\":\"p2096\",\"attributes\":{\"location\":1.679,\"dimension\":\"height\",\"line_width\":0.1}},{\"type\":\"object\",\"name\":\"Span\",\"id\":\"p2097\",\"attributes\":{\"location\":1.903,\"dimension\":\"height\",\"line_width\":0.1}},{\"type\":\"object\",\"name\":\"Span\",\"id\":\"p2098\",\"attributes\":{\"location\":2.015,\"dimension\":\"height\",\"line_width\":0.1}},{\"type\":\"object\",\"name\":\"Span\",\"id\":\"p2099\",\"attributes\":{\"location\":2.127,\"dimension\":\"height\",\"line_width\":0.1}},{\"type\":\"object\",\"name\":\"Span\",\"id\":\"p2100\",\"attributes\":{\"location\":2.351,\"dimension\":\"height\",\"line_width\":0.1}},{\"type\":\"object\",\"name\":\"Span\",\"id\":\"p2101\",\"attributes\":{\"location\":2.463,\"dimension\":\"height\",\"line_width\":0.1}},{\"type\":\"object\",\"name\":\"Span\",\"id\":\"p2102\",\"attributes\":{\"location\":2.575,\"dimension\":\"height\",\"line_width\":0.1}},{\"type\":\"object\",\"name\":\"Span\",\"id\":\"p2103\",\"attributes\":{\"location\":2.799,\"dimension\":\"height\",\"line_width\":0.1}},{\"type\":\"object\",\"name\":\"Span\",\"id\":\"p2104\",\"attributes\":{\"location\":2.911,\"dimension\":\"height\",\"line_width\":0.1}},{\"type\":\"object\",\"name\":\"Span\",\"id\":\"p2105\",\"attributes\":{\"location\":3.023,\"dimension\":\"height\",\"line_width\":0.1}},{\"type\":\"object\",\"name\":\"Span\",\"id\":\"p2106\",\"attributes\":{\"location\":3.246,\"dimension\":\"height\",\"line_width\":0.1}},{\"type\":\"object\",\"name\":\"Span\",\"id\":\"p2107\",\"attributes\":{\"location\":3.358,\"dimension\":\"height\",\"line_width\":0.1}},{\"type\":\"object\",\"name\":\"Span\",\"id\":\"p2108\",\"attributes\":{\"location\":3.47,\"dimension\":\"height\",\"line_width\":0.1}},{\"type\":\"object\",\"name\":\"Span\",\"id\":\"p2110\",\"attributes\":{\"location\":0.0,\"dimension\":\"height\",\"line_width\":0.5}},{\"type\":\"object\",\"name\":\"Span\",\"id\":\"p2111\",\"attributes\":{\"location\":0.448,\"dimension\":\"height\",\"line_width\":0.5}},{\"type\":\"object\",\"name\":\"Span\",\"id\":\"p2112\",\"attributes\":{\"location\":0.896,\"dimension\":\"height\",\"line_width\":0.5}},{\"type\":\"object\",\"name\":\"Span\",\"id\":\"p2113\",\"attributes\":{\"location\":1.343,\"dimension\":\"height\",\"line_width\":0.5}},{\"type\":\"object\",\"name\":\"Span\",\"id\":\"p2114\",\"attributes\":{\"location\":1.791,\"dimension\":\"height\",\"line_width\":0.5}},{\"type\":\"object\",\"name\":\"Span\",\"id\":\"p2115\",\"attributes\":{\"location\":2.239,\"dimension\":\"height\",\"line_width\":0.5}},{\"type\":\"object\",\"name\":\"Span\",\"id\":\"p2116\",\"attributes\":{\"location\":2.687,\"dimension\":\"height\",\"line_width\":0.5}},{\"type\":\"object\",\"name\":\"Span\",\"id\":\"p2117\",\"attributes\":{\"location\":3.134,\"dimension\":\"height\",\"line_width\":0.5}},{\"type\":\"object\",\"name\":\"Span\",\"id\":\"p2118\",\"attributes\":{\"location\":0.0,\"dimension\":\"height\",\"line_width\":2}},{\"type\":\"object\",\"name\":\"Span\",\"id\":\"p2119\",\"attributes\":{\"location\":1.791,\"dimension\":\"height\",\"line_width\":2}}]}}}},{\"type\":\"object\",\"name\":\"TabPanel\",\"id\":\"p2300\",\"attributes\":{\"title\":\"Tab 10\",\"child\":{\"type\":\"object\",\"name\":\"Figure\",\"id\":\"p2165\",\"attributes\":{\"width\":800,\"height\":400,\"x_range\":{\"type\":\"object\",\"name\":\"DataRange1d\",\"id\":\"p2167\",\"attributes\":{\"start\":-0.34700000000000003,\"end\":3.8170000000000006}},\"y_range\":{\"type\":\"object\",\"name\":\"Range1d\",\"id\":\"p2174\",\"attributes\":{\"start\":-0.5,\"end\":5.75}},\"x_scale\":{\"type\":\"object\",\"name\":\"LinearScale\",\"id\":\"p2175\"},\"y_scale\":{\"type\":\"object\",\"name\":\"LinearScale\",\"id\":\"p2176\"},\"title\":{\"type\":\"object\",\"name\":\"Title\",\"id\":\"p2172\",\"attributes\":{\"text_color\":\"#5B5B5B\",\"text_font\":\"Helvetica\",\"text_font_size\":\"1.15em\"}},\"renderers\":[{\"type\":\"object\",\"name\":\"GlyphRenderer\",\"id\":\"p2207\",\"attributes\":{\"data_source\":{\"type\":\"object\",\"name\":\"ColumnDataSource\",\"id\":\"p2198\",\"attributes\":{\"selected\":{\"type\":\"object\",\"name\":\"Selection\",\"id\":\"p2199\",\"attributes\":{\"indices\":[],\"line_indices\":[]}},\"selection_policy\":{\"type\":\"object\",\"name\":\"UnionRenderers\",\"id\":\"p2200\"},\"data\":{\"type\":\"map\",\"entries\":[[\"start\",[0.000448,0.000448,0.002576,0.22232000000000002,0.224336,0.216272,0.446208,0.45035200000000003,0.436016,0.670096,0.6741280000000001,0.6619200000000001,0.893984,0.898016,0.877744,1.1178720000000002,1.1198880000000002,1.097488,1.34078,1.342778,1.314584,1.566664,1.5686799999999999,1.540232,1.7915599999999998,1.7935759999999998,1.775096,2.017464,2.015448,1.9848720000000002,2.237208,2.2393359999999998,2.204728,2.463224,2.461096,2.434664,2.687112,2.687112,2.660568,2.910888,2.910888,2.884456,3.13178,3.13178,3.101588,3.355648,3.355648,3.3272]],[\"end\",[0.05594799999999988,0.05594799999999988,0.058075999999999885,0.2778199999999999,0.27983599999999986,0.2717719999999999,0.5017079999999998,0.505852,0.4915159999999999,0.7255959999999999,0.7296279999999999,0.71742,0.9494839999999999,0.9535159999999999,0.9332439999999999,1.173372,1.175388,1.152988,1.39628,1.398278,1.3700839999999999,1.622164,1.6241799999999997,1.595732,1.8470599999999997,1.8490759999999997,1.830596,2.072964,2.070948,2.040372,2.2927079999999997,2.2948359999999997,2.2602279999999997,2.5187239999999997,2.516596,2.490164,2.742612,2.742612,2.716068,2.966388,2.966388,2.939956,3.18728,3.18728,3.157088,3.411148,3.411148,3.3827]],[\"instrument\",[\"stream_0\",\"stream_1\",\"stream_3\",\"stream_0\",\"stream_1\",\"stream_3\",\"stream_0\",\"stream_1\",\"stream_3\",\"stream_0\",\"stream_1\",\"stream_3\",\"stream_0\",\"stream_1\",\"stream_3\",\"stream_0\",\"stream_1\",\"stream_3\",\"stream_0\",\"stream_1\",\"stream_3\",\"stream_0\",\"stream_1\",\"stream_3\",\"stream_0\",\"stream_1\",\"stream_3\",\"stream_0\",\"stream_1\",\"stream_3\",\"stream_0\",\"stream_1\",\"stream_3\",\"stream_0\",\"stream_1\",\"stream_3\",\"stream_0\",\"stream_1\",\"stream_3\",\"stream_0\",\"stream_1\",\"stream_3\",\"stream_0\",\"stream_1\",\"stream_3\",\"stream_0\",\"stream_1\",\"stream_3\"]],[\"voice_index\",[0,1,3,0,1,3,0,1,3,0,1,3,0,1,3,0,1,3,0,1,3,0,1,3,0,1,3,0,1,3,0,1,3,0,1,3,0,1,3,0,1,3,0,1,3,0,1,3]],[\"midi\",[36,38,46,36,38,46,36,38,46,36,38,46,36,38,46,36,38,46,36,38,46,36,38,46,36,38,46,36,38,46,36,38,46,36,38,46,36,38,46,36,38,46,36,38,46,36,38,46]],[\"velocity\",[0.394,0.717,0.512,0.315,0.598,0.425,0.378,0.685,0.425,0.276,0.685,0.457,0.299,0.74,0.457,0.276,0.717,0.449,0.37,0.732,0.402,0.307,0.732,0.457,0.89,0.661,0.378,0.299,0.677,0.307,0.378,0.717,0.433,0.37,0.709,0.394,0.315,0.717,0.378,0.37,0.693,0.291,0.409,0.677,0.315,0.402,0.717,0.299]],[\"offset\",[0.004,0.004,0.023,-0.015,0.003,-0.069,-0.016,0.021,-0.107,-0.017,0.019,-0.09,-0.018,0.018,-0.163,-0.019,-0.001,-0.201,-0.02,-0.002,-0.256,-0.003,0.015,-0.239,0.005,0.023,-0.142,0.022,0.004,-0.269,-0.016,0.003,-0.306,0.002,-0.017,-0.253,0.001,0.001,-0.236,-0.001,-0.001,-0.237,-0.02,-0.02,-0.292,-0.021,-0.021,-0.275]],[\"offset_sec\",[0.0,0.0,0.003,-0.002,0.0,-0.008,-0.002,0.002,-0.012,-0.002,0.002,-0.01,-0.002,0.002,-0.018,-0.002,-0.0,-0.023,-0.002,-0.0,-0.028,-0.0,0.002,-0.027,0.001,0.003,-0.016,0.002,0.0,-0.03,-0.002,0.0,-0.034,0.0,-0.002,-0.028,0.0,0.0,-0.026,-0.0,-0.0,-0.027,-0.002,-0.002,-0.032,-0.002,-0.002,-0.031]],[\"grid_line\",[0,0,0,2,2,2,4,4,4,6,6,6,8,8,8,10,10,10,12,12,12,14,14,14,16,16,16,18,18,18,20,20,20,22,22,22,24,24,24,26,26,26,28,28,28,30,30,30]],[\"top\",{\"type\":\"ndarray\",\"array\":{\"type\":\"bytes\",\"data\":\"mpmZmZmZyT8zMzMzMzPzP5qZmZmZmQlAmpmZmZmZyT8zMzMzMzPzP5qZmZmZmQlAmpmZmZmZyT8zMzMzMzPzP5qZmZmZmQlAmpmZmZmZyT8zMzMzMzPzP5qZmZmZmQlAmpmZmZmZyT8zMzMzMzPzP5qZmZmZmQlAmpmZmZmZyT8zMzMzMzPzP5qZmZmZmQlAmpmZmZmZyT8zMzMzMzPzP5qZmZmZmQlAmpmZmZmZyT8zMzMzMzPzP5qZmZmZmQlAmpmZmZmZyT8zMzMzMzPzP5qZmZmZmQlAmpmZmZmZyT8zMzMzMzPzP5qZmZmZmQlAmpmZmZmZyT8zMzMzMzPzP5qZmZmZmQlAmpmZmZmZyT8zMzMzMzPzP5qZmZmZmQlAmpmZmZmZyT8zMzMzMzPzP5qZmZmZmQlAmpmZmZmZyT8zMzMzMzPzP5qZmZmZmQlAmpmZmZmZyT8zMzMzMzPzP5qZmZmZmQlAmpmZmZmZyT8zMzMzMzPzP5qZmZmZmQlA\"},\"shape\":[48],\"dtype\":\"float64\",\"order\":\"little\"}],[\"bottom\",{\"type\":\"ndarray\",\"array\":{\"type\":\"bytes\",\"data\":\"mpmZmZmZyb+amZmZmZnpP2ZmZmZmZgZAmpmZmZmZyb+amZmZmZnpP2ZmZmZmZgZAmpmZmZmZyb+amZmZmZnpP2ZmZmZmZgZAmpmZmZmZyb+amZmZmZnpP2ZmZmZmZgZAmpmZmZmZyb+amZmZmZnpP2ZmZmZmZgZAmpmZmZmZyb+amZmZmZnpP2ZmZmZmZgZAmpmZmZmZyb+amZmZmZnpP2ZmZmZmZgZAmpmZmZmZyb+amZmZmZnpP2ZmZmZmZgZAmpmZmZmZyb+amZmZmZnpP2ZmZmZmZgZAmpmZmZmZyb+amZmZmZnpP2ZmZmZmZgZAmpmZmZmZyb+amZmZmZnpP2ZmZmZmZgZAmpmZmZmZyb+amZmZmZnpP2ZmZmZmZgZAmpmZmZmZyb+amZmZmZnpP2ZmZmZmZgZAmpmZmZmZyb+amZmZmZnpP2ZmZmZmZgZAmpmZmZmZyb+amZmZmZnpP2ZmZmZmZgZAmpmZmZmZyb+amZmZmZnpP2ZmZmZmZgZA\"},\"shape\":[48],\"dtype\":\"float64\",\"order\":\"little\"}]]}}},\"view\":{\"type\":\"object\",\"name\":\"CDSView\",\"id\":\"p2208\",\"attributes\":{\"filter\":{\"type\":\"object\",\"name\":\"AllIndices\",\"id\":\"p2209\"}}},\"glyph\":{\"type\":\"object\",\"name\":\"Quad\",\"id\":\"p2204\",\"attributes\":{\"left\":{\"type\":\"field\",\"field\":\"start\"},\"right\":{\"type\":\"field\",\"field\":\"end\"},\"bottom\":{\"type\":\"field\",\"field\":\"bottom\"},\"top\":{\"type\":\"field\",\"field\":\"top\"},\"line_color\":{\"type\":\"value\",\"value\":\"grey\"},\"fill_color\":{\"type\":\"value\",\"value\":\"grey\"},\"fill_alpha\":{\"type\":\"field\",\"field\":\"velocity\"}}},\"nonselection_glyph\":{\"type\":\"object\",\"name\":\"Quad\",\"id\":\"p2205\",\"attributes\":{\"left\":{\"type\":\"field\",\"field\":\"start\"},\"right\":{\"type\":\"field\",\"field\":\"end\"},\"bottom\":{\"type\":\"field\",\"field\":\"bottom\"},\"top\":{\"type\":\"field\",\"field\":\"top\"},\"line_color\":{\"type\":\"value\",\"value\":\"grey\"},\"line_alpha\":{\"type\":\"value\",\"value\":0.1},\"fill_color\":{\"type\":\"value\",\"value\":\"grey\"},\"fill_alpha\":{\"type\":\"value\",\"value\":0.1},\"hatch_alpha\":{\"type\":\"value\",\"value\":0.1}}},\"muted_glyph\":{\"type\":\"object\",\"name\":\"Quad\",\"id\":\"p2206\",\"attributes\":{\"left\":{\"type\":\"field\",\"field\":\"start\"},\"right\":{\"type\":\"field\",\"field\":\"end\"},\"bottom\":{\"type\":\"field\",\"field\":\"bottom\"},\"top\":{\"type\":\"field\",\"field\":\"top\"},\"line_color\":{\"type\":\"value\",\"value\":\"grey\"},\"line_alpha\":{\"type\":\"value\",\"value\":0.2},\"fill_color\":{\"type\":\"value\",\"value\":\"grey\"},\"fill_alpha\":{\"type\":\"value\",\"value\":0.2},\"hatch_alpha\":{\"type\":\"value\",\"value\":0.2}}}}},{\"type\":\"object\",\"name\":\"GlyphRenderer\",\"id\":\"p2258\",\"attributes\":{\"data_source\":{\"type\":\"object\",\"name\":\"ColumnDataSource\",\"id\":\"p2249\",\"attributes\":{\"selected\":{\"type\":\"object\",\"name\":\"Selection\",\"id\":\"p2250\",\"attributes\":{\"indices\":[],\"line_indices\":[]}},\"selection_policy\":{\"type\":\"object\",\"name\":\"UnionRenderers\",\"id\":\"p2251\"},\"data\":{\"type\":\"map\",\"entries\":[[\"x\",[0.0]],[\"y\",[4.5]],[\"tempo\",[134.00065660321735]],[\"grid_index\",[0]]]}}},\"view\":{\"type\":\"object\",\"name\":\"CDSView\",\"id\":\"p2259\",\"attributes\":{\"filter\":{\"type\":\"object\",\"name\":\"AllIndices\",\"id\":\"p2260\"}}},\"glyph\":{\"type\":\"object\",\"name\":\"Scatter\",\"id\":\"p2255\",\"attributes\":{\"x\":{\"type\":\"field\",\"field\":\"x\"},\"y\":{\"type\":\"field\",\"field\":\"y\"},\"size\":{\"type\":\"value\",\"value\":10},\"line_color\":{\"type\":\"value\",\"value\":\"#440154\"},\"fill_color\":{\"type\":\"value\",\"value\":\"#440154\"}}},\"nonselection_glyph\":{\"type\":\"object\",\"name\":\"Scatter\",\"id\":\"p2256\",\"attributes\":{\"x\":{\"type\":\"field\",\"field\":\"x\"},\"y\":{\"type\":\"field\",\"field\":\"y\"},\"size\":{\"type\":\"value\",\"value\":10},\"line_color\":{\"type\":\"value\",\"value\":\"#440154\"},\"line_alpha\":{\"type\":\"value\",\"value\":0.1},\"fill_color\":{\"type\":\"value\",\"value\":\"#440154\"},\"fill_alpha\":{\"type\":\"value\",\"value\":0.1},\"hatch_alpha\":{\"type\":\"value\",\"value\":0.1}}},\"muted_glyph\":{\"type\":\"object\",\"name\":\"Scatter\",\"id\":\"p2257\",\"attributes\":{\"x\":{\"type\":\"field\",\"field\":\"x\"},\"y\":{\"type\":\"field\",\"field\":\"y\"},\"size\":{\"type\":\"value\",\"value\":10},\"line_color\":{\"type\":\"value\",\"value\":\"#440154\"},\"line_alpha\":{\"type\":\"value\",\"value\":0.2},\"fill_color\":{\"type\":\"value\",\"value\":\"#440154\"},\"fill_alpha\":{\"type\":\"value\",\"value\":0.2},\"hatch_alpha\":{\"type\":\"value\",\"value\":0.2}}}}},{\"type\":\"object\",\"name\":\"GlyphRenderer\",\"id\":\"p2272\",\"attributes\":{\"data_source\":{\"type\":\"object\",\"name\":\"ColumnDataSource\",\"id\":\"p2263\",\"attributes\":{\"selected\":{\"type\":\"object\",\"name\":\"Selection\",\"id\":\"p2264\",\"attributes\":{\"indices\":[],\"line_indices\":[]}},\"selection_policy\":{\"type\":\"object\",\"name\":\"UnionRenderers\",\"id\":\"p2265\"},\"data\":{\"type\":\"map\",\"entries\":[[\"x\",[0.0]],[\"y\",[4]],[\"Numerator\",[4]],[\"Denominator\",[4]],[\"grid_index\",[0]]]}}},\"view\":{\"type\":\"object\",\"name\":\"CDSView\",\"id\":\"p2273\",\"attributes\":{\"filter\":{\"type\":\"object\",\"name\":\"AllIndices\",\"id\":\"p2274\"}}},\"glyph\":{\"type\":\"object\",\"name\":\"Scatter\",\"id\":\"p2269\",\"attributes\":{\"x\":{\"type\":\"field\",\"field\":\"x\"},\"y\":{\"type\":\"field\",\"field\":\"y\"},\"size\":{\"type\":\"value\",\"value\":10},\"line_color\":{\"type\":\"value\",\"value\":\"#70CE56\"},\"fill_color\":{\"type\":\"value\",\"value\":\"#70CE56\"}}},\"nonselection_glyph\":{\"type\":\"object\",\"name\":\"Scatter\",\"id\":\"p2270\",\"attributes\":{\"x\":{\"type\":\"field\",\"field\":\"x\"},\"y\":{\"type\":\"field\",\"field\":\"y\"},\"size\":{\"type\":\"value\",\"value\":10},\"line_color\":{\"type\":\"value\",\"value\":\"#70CE56\"},\"line_alpha\":{\"type\":\"value\",\"value\":0.1},\"fill_color\":{\"type\":\"value\",\"value\":\"#70CE56\"},\"fill_alpha\":{\"type\":\"value\",\"value\":0.1},\"hatch_alpha\":{\"type\":\"value\",\"value\":0.1}}},\"muted_glyph\":{\"type\":\"object\",\"name\":\"Scatter\",\"id\":\"p2271\",\"attributes\":{\"x\":{\"type\":\"field\",\"field\":\"x\"},\"y\":{\"type\":\"field\",\"field\":\"y\"},\"size\":{\"type\":\"value\",\"value\":10},\"line_color\":{\"type\":\"value\",\"value\":\"#70CE56\"},\"line_alpha\":{\"type\":\"value\",\"value\":0.2},\"fill_color\":{\"type\":\"value\",\"value\":\"#70CE56\"},\"fill_alpha\":{\"type\":\"value\",\"value\":0.2},\"hatch_alpha\":{\"type\":\"value\",\"value\":0.2}}}}},{\"type\":\"object\",\"name\":\"GlyphRenderer\",\"id\":\"p2286\",\"attributes\":{\"data_source\":{\"type\":\"object\",\"name\":\"ColumnDataSource\",\"id\":\"p2277\",\"attributes\":{\"selected\":{\"type\":\"object\",\"name\":\"Selection\",\"id\":\"p2278\",\"attributes\":{\"indices\":[],\"line_indices\":[]}},\"selection_policy\":{\"type\":\"object\",\"name\":\"UnionRenderers\",\"id\":\"p2279\"},\"data\":{\"type\":\"map\",\"entries\":[[\"x\",[0.0]],[\"y\",[3.5]],[\"filename\",[\"8db064fc2147f51a6b21dfdb5f55fbaf_guitar.mid\"]],[\"main_file\",[\"8db064fc2147f51a6b21dfdb5f55fbaf\"]],[\"instrument\",[\"guitar\"]],[\"source\",[\"Lakh MIDI\"]],[\"stream_0\",[\"drum\"]],[\"stream_1\",[\"bass\"]],[\"stream_2\",[\"piano\"]],[\"stream_3\",[\"guitar\"]],[\"start_bar\",[14]],[\"collection\",[\"lmd_batch_56_filtered\"]],[\"sample_id\",[\"8db064fc2147f51a6b21dfdb5f55fbaf\"]]]}}},\"view\":{\"type\":\"object\",\"name\":\"CDSView\",\"id\":\"p2287\",\"attributes\":{\"filter\":{\"type\":\"object\",\"name\":\"AllIndices\",\"id\":\"p2288\"}}},\"glyph\":{\"type\":\"object\",\"name\":\"Scatter\",\"id\":\"p2283\",\"attributes\":{\"x\":{\"type\":\"field\",\"field\":\"x\"},\"y\":{\"type\":\"field\",\"field\":\"y\"},\"size\":{\"type\":\"value\",\"value\":10},\"line_color\":{\"type\":\"value\",\"value\":\"#1EA087\"},\"fill_color\":{\"type\":\"value\",\"value\":\"#1EA087\"}}},\"nonselection_glyph\":{\"type\":\"object\",\"name\":\"Scatter\",\"id\":\"p2284\",\"attributes\":{\"x\":{\"type\":\"field\",\"field\":\"x\"},\"y\":{\"type\":\"field\",\"field\":\"y\"},\"size\":{\"type\":\"value\",\"value\":10},\"line_color\":{\"type\":\"value\",\"value\":\"#1EA087\"},\"line_alpha\":{\"type\":\"value\",\"value\":0.1},\"fill_color\":{\"type\":\"value\",\"value\":\"#1EA087\"},\"fill_alpha\":{\"type\":\"value\",\"value\":0.1},\"hatch_alpha\":{\"type\":\"value\",\"value\":0.1}}},\"muted_glyph\":{\"type\":\"object\",\"name\":\"Scatter\",\"id\":\"p2285\",\"attributes\":{\"x\":{\"type\":\"field\",\"field\":\"x\"},\"y\":{\"type\":\"field\",\"field\":\"y\"},\"size\":{\"type\":\"value\",\"value\":10},\"line_color\":{\"type\":\"value\",\"value\":\"#1EA087\"},\"line_alpha\":{\"type\":\"value\",\"value\":0.2},\"fill_color\":{\"type\":\"value\",\"value\":\"#1EA087\"},\"fill_alpha\":{\"type\":\"value\",\"value\":0.2},\"hatch_alpha\":{\"type\":\"value\",\"value\":0.2}}}}}],\"toolbar\":{\"type\":\"object\",\"name\":\"Toolbar\",\"id\":\"p2173\",\"attributes\":{\"tools\":[{\"type\":\"object\",\"name\":\"PanTool\",\"id\":\"p2187\"},{\"type\":\"object\",\"name\":\"WheelZoomTool\",\"id\":\"p2188\",\"attributes\":{\"renderers\":\"auto\"}},{\"type\":\"object\",\"name\":\"BoxZoomTool\",\"id\":\"p2189\",\"attributes\":{\"overlay\":{\"type\":\"object\",\"name\":\"BoxAnnotation\",\"id\":\"p2190\",\"attributes\":{\"syncable\":false,\"level\":\"overlay\",\"visible\":false,\"left\":{\"type\":\"number\",\"value\":\"nan\"},\"right\":{\"type\":\"number\",\"value\":\"nan\"},\"top\":{\"type\":\"number\",\"value\":\"nan\"},\"bottom\":{\"type\":\"number\",\"value\":\"nan\"},\"left_units\":\"canvas\",\"right_units\":\"canvas\",\"top_units\":\"canvas\",\"bottom_units\":\"canvas\",\"line_color\":\"black\",\"line_alpha\":1.0,\"line_width\":2,\"line_dash\":[4,4],\"fill_color\":\"lightgrey\",\"fill_alpha\":0.5}}}},{\"type\":\"object\",\"name\":\"SaveTool\",\"id\":\"p2195\"},{\"type\":\"object\",\"name\":\"ResetTool\",\"id\":\"p2196\"},{\"type\":\"object\",\"name\":\"HelpTool\",\"id\":\"p2197\"},{\"type\":\"object\",\"name\":\"HoverTool\",\"id\":\"p2212\",\"attributes\":{\"renderers\":[{\"id\":\"p2207\"}],\"tooltips\":[[\"start\",\"@start\"],[\"end\",\"@end\"],[\"instrument\",\"@instrument\"],[\"voice_index\",\"@voice_index\"],[\"midi\",\"@midi\"],[\"velocity\",\"@velocity\"],[\"offset\",\"@offset\"],[\"offset_sec\",\"@offset_sec\"],[\"grid_line\",\"@grid_line\"]]}},{\"type\":\"object\",\"name\":\"HoverTool\",\"id\":\"p2262\",\"attributes\":{\"renderers\":[{\"id\":\"p2258\"}],\"tooltips\":[[\"tempo\",\"@tempo\"],[\"grid_index\",\"@grid_index\"]]}},{\"type\":\"object\",\"name\":\"HoverTool\",\"id\":\"p2276\",\"attributes\":{\"renderers\":[{\"id\":\"p2272\"}],\"tooltips\":[[\"Numerator\",\"@Numerator\"],[\"Denominator\",\"@Denominator\"],[\"grid_index\",\"@grid_index\"]]}},{\"type\":\"object\",\"name\":\"HoverTool\",\"id\":\"p2290\",\"attributes\":{\"renderers\":[{\"id\":\"p2286\"}],\"tooltips\":[[\"filename\",\"@filename\"],[\"main_file\",\"@main_file\"],[\"instrument\",\"@instrument\"],[\"source\",\"@source\"],[\"stream_0\",\"@stream_0\"],[\"stream_1\",\"@stream_1\"],[\"stream_2\",\"@stream_2\"],[\"stream_3\",\"@stream_3\"],[\"start_bar\",\"@start_bar\"],[\"collection\",\"@collection\"],[\"sample_id\",\"@sample_id\"]]}}]}},\"left\":[{\"type\":\"object\",\"name\":\"LinearAxis\",\"id\":\"p2182\",\"attributes\":{\"ticker\":{\"type\":\"object\",\"name\":\"FixedTicker\",\"id\":\"p2213\",\"attributes\":{\"ticks\":[0,1,2,3],\"minor_ticks\":[]}},\"formatter\":{\"type\":\"object\",\"name\":\"BasicTickFormatter\",\"id\":\"p2184\"},\"axis_label\":\"Instrument\",\"axis_label_standoff\":10,\"axis_label_text_color\":\"#5B5B5B\",\"axis_label_text_font\":\"Helvetica\",\"axis_label_text_font_size\":\"1.25em\",\"axis_label_text_font_style\":\"normal\",\"major_label_overrides\":{\"type\":\"map\",\"entries\":[[0,\"stream_0\"],[1,\"stream_1\"],[2,\"stream_2\"],[3,\"stream_3\"]]},\"major_label_policy\":{\"type\":\"object\",\"name\":\"AllLabels\",\"id\":\"p2185\"},\"major_label_text_color\":\"#5B5B5B\",\"major_label_text_font\":\"Helvetica\",\"major_label_text_font_size\":\"1.025em\",\"axis_line_color\":\"#5B5B5B\",\"axis_line_alpha\":0,\"major_tick_line_color\":\"#5B5B5B\",\"major_tick_line_alpha\":0,\"minor_tick_line_color\":\"#5B5B5B\",\"minor_tick_line_alpha\":0}}],\"right\":[{\"type\":\"object\",\"name\":\"Legend\",\"id\":\"p2210\",\"attributes\":{\"border_line_alpha\":0,\"background_fill_alpha\":0.25,\"click_policy\":\"hide\",\"label_text_color\":\"#5B5B5B\",\"label_text_font\":\"Helvetica\",\"label_text_font_size\":\"1.025em\",\"label_standoff\":8,\"glyph_width\":15,\"spacing\":8,\"items\":[{\"type\":\"object\",\"name\":\"LegendItem\",\"id\":\"p2211\",\"attributes\":{\"label\":{\"type\":\"value\",\"value\":\"Piano Roll\"},\"renderers\":[{\"id\":\"p2207\"}]}},{\"type\":\"object\",\"name\":\"LegendItem\",\"id\":\"p2261\",\"attributes\":{\"label\":{\"type\":\"value\",\"value\":\"Tempo\"},\"renderers\":[{\"id\":\"p2258\"}]}},{\"type\":\"object\",\"name\":\"LegendItem\",\"id\":\"p2275\",\"attributes\":{\"label\":{\"type\":\"value\",\"value\":\"Time Signature\"},\"renderers\":[{\"id\":\"p2272\"}]}},{\"type\":\"object\",\"name\":\"LegendItem\",\"id\":\"p2289\",\"attributes\":{\"label\":{\"type\":\"value\",\"value\":\"Metadata\"},\"renderers\":[{\"id\":\"p2286\"}]}}]}}],\"below\":[{\"type\":\"object\",\"name\":\"LinearAxis\",\"id\":\"p2177\",\"attributes\":{\"ticker\":{\"type\":\"object\",\"name\":\"FixedTicker\",\"id\":\"p2238\",\"attributes\":{\"ticks\":[0.0,0.45,0.9,1.34,1.79,2.24,2.69,3.13],\"minor_ticks\":[]}},\"formatter\":{\"type\":\"object\",\"name\":\"BasicTickFormatter\",\"id\":\"p2179\"},\"axis_label\":\"Time (sec)\",\"axis_label_standoff\":10,\"axis_label_text_color\":\"#5B5B5B\",\"axis_label_text_font\":\"Helvetica\",\"axis_label_text_font_size\":\"1.25em\",\"axis_label_text_font_style\":\"normal\",\"major_label_orientation\":1.57,\"major_label_policy\":{\"type\":\"object\",\"name\":\"AllLabels\",\"id\":\"p2180\"},\"major_label_text_color\":\"#5B5B5B\",\"major_label_text_font\":\"Helvetica\",\"major_label_text_font_size\":\"1.025em\",\"axis_line_color\":\"#5B5B5B\",\"axis_line_alpha\":0,\"major_tick_line_color\":\"#5B5B5B\",\"major_tick_line_alpha\":0,\"minor_tick_line_color\":\"#5B5B5B\",\"minor_tick_line_alpha\":0}}],\"center\":[{\"type\":\"object\",\"name\":\"Grid\",\"id\":\"p2181\",\"attributes\":{\"axis\":{\"id\":\"p2177\"},\"grid_line_color\":null}},{\"type\":\"object\",\"name\":\"Grid\",\"id\":\"p2186\",\"attributes\":{\"dimension\":1,\"axis\":{\"id\":\"p2182\"},\"grid_line_color\":null}},{\"id\":\"p2210\"},{\"type\":\"object\",\"name\":\"Span\",\"id\":\"p2214\",\"attributes\":{\"location\":0.112,\"dimension\":\"height\",\"line_width\":0.1}},{\"type\":\"object\",\"name\":\"Span\",\"id\":\"p2215\",\"attributes\":{\"location\":0.224,\"dimension\":\"height\",\"line_width\":0.1}},{\"type\":\"object\",\"name\":\"Span\",\"id\":\"p2216\",\"attributes\":{\"location\":0.336,\"dimension\":\"height\",\"line_width\":0.1}},{\"type\":\"object\",\"name\":\"Span\",\"id\":\"p2217\",\"attributes\":{\"location\":0.56,\"dimension\":\"height\",\"line_width\":0.1}},{\"type\":\"object\",\"name\":\"Span\",\"id\":\"p2218\",\"attributes\":{\"location\":0.672,\"dimension\":\"height\",\"line_width\":0.1}},{\"type\":\"object\",\"name\":\"Span\",\"id\":\"p2219\",\"attributes\":{\"location\":0.784,\"dimension\":\"height\",\"line_width\":0.1}},{\"type\":\"object\",\"name\":\"Span\",\"id\":\"p2220\",\"attributes\":{\"location\":1.008,\"dimension\":\"height\",\"line_width\":0.1}},{\"type\":\"object\",\"name\":\"Span\",\"id\":\"p2221\",\"attributes\":{\"location\":1.12,\"dimension\":\"height\",\"line_width\":0.1}},{\"type\":\"object\",\"name\":\"Span\",\"id\":\"p2222\",\"attributes\":{\"location\":1.232,\"dimension\":\"height\",\"line_width\":0.1}},{\"type\":\"object\",\"name\":\"Span\",\"id\":\"p2223\",\"attributes\":{\"location\":1.455,\"dimension\":\"height\",\"line_width\":0.1}},{\"type\":\"object\",\"name\":\"Span\",\"id\":\"p2224\",\"attributes\":{\"location\":1.567,\"dimension\":\"height\",\"line_width\":0.1}},{\"type\":\"object\",\"name\":\"Span\",\"id\":\"p2225\",\"attributes\":{\"location\":1.679,\"dimension\":\"height\",\"line_width\":0.1}},{\"type\":\"object\",\"name\":\"Span\",\"id\":\"p2226\",\"attributes\":{\"location\":1.903,\"dimension\":\"height\",\"line_width\":0.1}},{\"type\":\"object\",\"name\":\"Span\",\"id\":\"p2227\",\"attributes\":{\"location\":2.015,\"dimension\":\"height\",\"line_width\":0.1}},{\"type\":\"object\",\"name\":\"Span\",\"id\":\"p2228\",\"attributes\":{\"location\":2.127,\"dimension\":\"height\",\"line_width\":0.1}},{\"type\":\"object\",\"name\":\"Span\",\"id\":\"p2229\",\"attributes\":{\"location\":2.351,\"dimension\":\"height\",\"line_width\":0.1}},{\"type\":\"object\",\"name\":\"Span\",\"id\":\"p2230\",\"attributes\":{\"location\":2.463,\"dimension\":\"height\",\"line_width\":0.1}},{\"type\":\"object\",\"name\":\"Span\",\"id\":\"p2231\",\"attributes\":{\"location\":2.575,\"dimension\":\"height\",\"line_width\":0.1}},{\"type\":\"object\",\"name\":\"Span\",\"id\":\"p2232\",\"attributes\":{\"location\":2.799,\"dimension\":\"height\",\"line_width\":0.1}},{\"type\":\"object\",\"name\":\"Span\",\"id\":\"p2233\",\"attributes\":{\"location\":2.911,\"dimension\":\"height\",\"line_width\":0.1}},{\"type\":\"object\",\"name\":\"Span\",\"id\":\"p2234\",\"attributes\":{\"location\":3.023,\"dimension\":\"height\",\"line_width\":0.1}},{\"type\":\"object\",\"name\":\"Span\",\"id\":\"p2235\",\"attributes\":{\"location\":3.246,\"dimension\":\"height\",\"line_width\":0.1}},{\"type\":\"object\",\"name\":\"Span\",\"id\":\"p2236\",\"attributes\":{\"location\":3.358,\"dimension\":\"height\",\"line_width\":0.1}},{\"type\":\"object\",\"name\":\"Span\",\"id\":\"p2237\",\"attributes\":{\"location\":3.47,\"dimension\":\"height\",\"line_width\":0.1}},{\"type\":\"object\",\"name\":\"Span\",\"id\":\"p2239\",\"attributes\":{\"location\":0.0,\"dimension\":\"height\",\"line_width\":0.5}},{\"type\":\"object\",\"name\":\"Span\",\"id\":\"p2240\",\"attributes\":{\"location\":0.448,\"dimension\":\"height\",\"line_width\":0.5}},{\"type\":\"object\",\"name\":\"Span\",\"id\":\"p2241\",\"attributes\":{\"location\":0.896,\"dimension\":\"height\",\"line_width\":0.5}},{\"type\":\"object\",\"name\":\"Span\",\"id\":\"p2242\",\"attributes\":{\"location\":1.343,\"dimension\":\"height\",\"line_width\":0.5}},{\"type\":\"object\",\"name\":\"Span\",\"id\":\"p2243\",\"attributes\":{\"location\":1.791,\"dimension\":\"height\",\"line_width\":0.5}},{\"type\":\"object\",\"name\":\"Span\",\"id\":\"p2244\",\"attributes\":{\"location\":2.239,\"dimension\":\"height\",\"line_width\":0.5}},{\"type\":\"object\",\"name\":\"Span\",\"id\":\"p2245\",\"attributes\":{\"location\":2.687,\"dimension\":\"height\",\"line_width\":0.5}},{\"type\":\"object\",\"name\":\"Span\",\"id\":\"p2246\",\"attributes\":{\"location\":3.134,\"dimension\":\"height\",\"line_width\":0.5}},{\"type\":\"object\",\"name\":\"Span\",\"id\":\"p2247\",\"attributes\":{\"location\":0.0,\"dimension\":\"height\",\"line_width\":2}},{\"type\":\"object\",\"name\":\"Span\",\"id\":\"p2248\",\"attributes\":{\"location\":1.791,\"dimension\":\"height\",\"line_width\":2}}]}}}}]}}]}};\n  const render_items = [{\"docid\":\"7be04d4e-e74d-4af6-890e-e238842e013f\",\"roots\":{\"p2301\":\"ac646bb5-3899-4162-8e8e-5b0e08f1f84d\"},\"root_ids\":[\"p2301\"]}];\n  void root.Bokeh.embed.embed_items_notebook(docs_json, render_items);\n  }\n  if (root.Bokeh !== undefined) {\n    embed_document(root);\n  } else {\n    let attempts = 0;\n    const timer = setInterval(function(root) {\n      if (root.Bokeh !== undefined) {\n        clearInterval(timer);\n        embed_document(root);\n      } else {\n        attempts++;\n        if (attempts > 100) {\n          clearInterval(timer);\n          console.log(\"Bokeh: ERROR: Unable to run BokehJS code because BokehJS library is missing\");\n        }\n      }\n    }, 10, root)\n  }\n})(window);",
      "application/vnd.bokehjs_exec.v0+json": ""
     },
     "metadata": {
      "application/vnd.bokehjs_exec.v0+json": {
       "id": "p2301"
      }
     },
     "output_type": "display_data"
    },
    {
     "data": {
      "text/plain": [
       "Tabs(id='p2301', ...)"
      ],
      "text/html": [
       "<div style=\"display: table;\"><div style=\"display: table-row;\"><div style=\"display: table-cell;\"><b title=\"bokeh.models.layouts.Tabs\">Tabs</b>(</div><div style=\"display: table-cell;\">id&nbsp;=&nbsp;'p2301', <span id=\"p2323\" style=\"cursor: pointer;\">&hellip;)</span></div></div><div class=\"p2322\" style=\"display: none;\"><div style=\"display: table-cell;\"></div><div style=\"display: table-cell;\">active&nbsp;=&nbsp;0,</div></div><div class=\"p2322\" style=\"display: none;\"><div style=\"display: table-cell;\"></div><div style=\"display: table-cell;\">align&nbsp;=&nbsp;'auto',</div></div><div class=\"p2322\" style=\"display: none;\"><div style=\"display: table-cell;\"></div><div style=\"display: table-cell;\">aspect_ratio&nbsp;=&nbsp;None,</div></div><div class=\"p2322\" style=\"display: none;\"><div style=\"display: table-cell;\"></div><div style=\"display: table-cell;\">context_menu&nbsp;=&nbsp;None,</div></div><div class=\"p2322\" style=\"display: none;\"><div style=\"display: table-cell;\"></div><div style=\"display: table-cell;\">css_classes&nbsp;=&nbsp;[],</div></div><div class=\"p2322\" style=\"display: none;\"><div style=\"display: table-cell;\"></div><div style=\"display: table-cell;\">css_variables&nbsp;=&nbsp;{},</div></div><div class=\"p2322\" style=\"display: none;\"><div style=\"display: table-cell;\"></div><div style=\"display: table-cell;\">disabled&nbsp;=&nbsp;False,</div></div><div class=\"p2322\" style=\"display: none;\"><div style=\"display: table-cell;\"></div><div style=\"display: table-cell;\">elements&nbsp;=&nbsp;[],</div></div><div class=\"p2322\" style=\"display: none;\"><div style=\"display: table-cell;\"></div><div style=\"display: table-cell;\">flow_mode&nbsp;=&nbsp;'block',</div></div><div class=\"p2322\" style=\"display: none;\"><div style=\"display: table-cell;\"></div><div style=\"display: table-cell;\">height&nbsp;=&nbsp;None,</div></div><div class=\"p2322\" style=\"display: none;\"><div style=\"display: table-cell;\"></div><div style=\"display: table-cell;\">height_policy&nbsp;=&nbsp;'auto',</div></div><div class=\"p2322\" style=\"display: none;\"><div style=\"display: table-cell;\"></div><div style=\"display: table-cell;\">js_event_callbacks&nbsp;=&nbsp;{},</div></div><div class=\"p2322\" style=\"display: none;\"><div style=\"display: table-cell;\"></div><div style=\"display: table-cell;\">js_property_callbacks&nbsp;=&nbsp;{},</div></div><div class=\"p2322\" style=\"display: none;\"><div style=\"display: table-cell;\"></div><div style=\"display: table-cell;\">margin&nbsp;=&nbsp;None,</div></div><div class=\"p2322\" style=\"display: none;\"><div style=\"display: table-cell;\"></div><div style=\"display: table-cell;\">max_height&nbsp;=&nbsp;None,</div></div><div class=\"p2322\" style=\"display: none;\"><div style=\"display: table-cell;\"></div><div style=\"display: table-cell;\">max_width&nbsp;=&nbsp;None,</div></div><div class=\"p2322\" style=\"display: none;\"><div style=\"display: table-cell;\"></div><div style=\"display: table-cell;\">min_height&nbsp;=&nbsp;None,</div></div><div class=\"p2322\" style=\"display: none;\"><div style=\"display: table-cell;\"></div><div style=\"display: table-cell;\">min_width&nbsp;=&nbsp;None,</div></div><div class=\"p2322\" style=\"display: none;\"><div style=\"display: table-cell;\"></div><div style=\"display: table-cell;\">name&nbsp;=&nbsp;None,</div></div><div class=\"p2322\" style=\"display: none;\"><div style=\"display: table-cell;\"></div><div style=\"display: table-cell;\">resizable&nbsp;=&nbsp;False,</div></div><div class=\"p2322\" style=\"display: none;\"><div style=\"display: table-cell;\"></div><div style=\"display: table-cell;\">sizing_mode&nbsp;=&nbsp;None,</div></div><div class=\"p2322\" style=\"display: none;\"><div style=\"display: table-cell;\"></div><div style=\"display: table-cell;\">styles&nbsp;=&nbsp;{},</div></div><div class=\"p2322\" style=\"display: none;\"><div style=\"display: table-cell;\"></div><div style=\"display: table-cell;\">stylesheets&nbsp;=&nbsp;[],</div></div><div class=\"p2322\" style=\"display: none;\"><div style=\"display: table-cell;\"></div><div style=\"display: table-cell;\">subscribed_events&nbsp;=&nbsp;PropertyValueSet(),</div></div><div class=\"p2322\" style=\"display: none;\"><div style=\"display: table-cell;\"></div><div style=\"display: table-cell;\">syncable&nbsp;=&nbsp;True,</div></div><div class=\"p2322\" style=\"display: none;\"><div style=\"display: table-cell;\"></div><div style=\"display: table-cell;\">tabs&nbsp;=&nbsp;[TabPanel(id='p2291', ...), TabPanel(id='p2292', ...), TabPanel(id='p2293', ...), TabPanel(id='p2294', ...), TabPanel(id='p2295', ...), TabPanel(id='p2296', ...), TabPanel(id='p2297', ...), TabPanel(id='p2298', ...), TabPanel(id='p2299', ...), TabPanel(id='p2300', ...)],</div></div><div class=\"p2322\" style=\"display: none;\"><div style=\"display: table-cell;\"></div><div style=\"display: table-cell;\">tabs_location&nbsp;=&nbsp;'above',</div></div><div class=\"p2322\" style=\"display: none;\"><div style=\"display: table-cell;\"></div><div style=\"display: table-cell;\">tags&nbsp;=&nbsp;[],</div></div><div class=\"p2322\" style=\"display: none;\"><div style=\"display: table-cell;\"></div><div style=\"display: table-cell;\">visible&nbsp;=&nbsp;True,</div></div><div class=\"p2322\" style=\"display: none;\"><div style=\"display: table-cell;\"></div><div style=\"display: table-cell;\">width&nbsp;=&nbsp;None,</div></div><div class=\"p2322\" style=\"display: none;\"><div style=\"display: table-cell;\"></div><div style=\"display: table-cell;\">width_policy&nbsp;=&nbsp;'auto')</div></div></div>\n",
       "<script>\n",
       "(function() {\n",
       "  let expanded = false;\n",
       "  const ellipsis = document.getElementById(\"p2323\");\n",
       "  ellipsis.addEventListener(\"click\", function() {\n",
       "    const rows = document.getElementsByClassName(\"p2322\");\n",
       "    for (let i = 0; i < rows.length; i++) {\n",
       "      const el = rows[i];\n",
       "      el.style.display = expanded ? \"none\" : \"table-row\";\n",
       "    }\n",
       "    ellipsis.innerHTML = expanded ? \"&hellip;)\" : \"&lsaquo;&lsaquo;&lsaquo;\";\n",
       "    expanded = !expanded;\n",
       "  });\n",
       "})();\n",
       "</script>\n"
      ]
     },
     "execution_count": 4,
     "metadata": {},
     "output_type": "execute_result"
    }
   ],
   "execution_count": 4
  },
  {
   "metadata": {},
   "cell_type": "code",
   "outputs": [],
   "execution_count": null,
   "source": [
    "import numpy as np\n",
    "\n",
    "def get_accent_hits_from_velocities(velocity_flat, accent_thresh=0.75, compare_consecutives=False):\n",
    "    \"\"\"\n",
    "    Extract accent hits from the velocity flat representation of HVO.\n",
    "    :param velocity_flat: a (B, T, 1) or (T, 1) numpy array where the last  column represents the velocity of hits.\n",
    "    :param use_median: if True, use the median velocity to determine accent hits, otherwise use 0.5\n",
    "    :return:\n",
    "    \"\"\"\n",
    "    assert velocity_flat.ndim == 1 or velocity_flat.shape[-1] == 1, \"Velocity flat must have 1 columns (hits, velocity, offset)\"\n",
    "\n",
    "    return np.where(velocity_flat > accent_thresh, 1, 0)\n",
    "\n",
    "def get_split_to_streams(hvo_sample, groove_dim=0):\n",
    "    \"\"\"\n",
    "    Split the HVO sample into input groove, streams, and flat output HVO.\n",
    "\n",
    "    Parameters:\n",
    "    -----------\n",
    "    hvo_sample : HVOSequence\n",
    "        The HVO sample to be split.\n",
    "    groove_dim : int, optional\n",
    "        The index of the groove dimension in the HVO sample. Default is 0.\n",
    "\n",
    "    Returns:\n",
    "    --------\n",
    "    input_hvo : HVOSequence\n",
    "        The input groove extracted from the HVO sample.\n",
    "    streams : list of HVOSequence\n",
    "        List of streams extracted from the HVO sample, excluding the groove dimension.\n",
    "    flat_out_hvo : HVOSequence\n",
    "        The flat output HVO sequence with the groove dimension set to zero.\n",
    "    \"\"\"\n",
    "    # get input groove\n",
    "    n_streams = hvo_sample.hits.shape[1]\n",
    "\n",
    "    input_hvo = hvo_sample.hvo[:, (groove_dim, groove_dim+n_streams, groove_dim+2*n_streams)]\n",
    "\n",
    "    # get flat of rest\n",
    "    flat_hvo = hvo_sample.copy()\n",
    "    flat_hvo.hvo[:, groove_dim] = 0                             # remove groove hit\n",
    "    flat_hvo.hvo[:, (groove_dim + n_streams)] = 0               # remove groove vel\n",
    "    flat_hvo.hvo[:, (groove_dim + n_streams*2)] = 0             # remove groove offset\n",
    "    flat_out_hvo  = flat_hvo.flatten_voices(reduce_dim=True)\n",
    "\n",
    "    # streams\n",
    "    streams = []\n",
    "    for i in range(n_streams):\n",
    "        if i != groove_dim:\n",
    "            streams.append(hvo_sample.hvo[:, (i, i+n_streams, i+2*n_streams)])\n",
    "\n",
    "    return input_hvo, streams, flat_out_hvo\n",
    "\n",
    "def Jaccard_similarity(a, b):\n",
    "    intersection = np.sum(np.minimum(a, b))\n",
    "    union = np.sum(np.maximum(a, b))\n",
    "    return (intersection / union)\n",
    "\n",
    "def hamming_distance(a, b):\n",
    "    if len(a) != len(b):\n",
    "        raise ValueError(\"Sequences must be of equal length\")\n",
    "    return sum(x != y for x, y in zip(a, b))/ len(a)\n",
    "\n",
    "from hvo_sequence.utils import fuzzy_Hamming_distance\n",
    "\n",
    "def extract_features_from_sets(hvo_sample, groove_dim):\n",
    "    \"\"\"\n",
    "    Extract control features from a set of HVO samples.\n",
    "    :param hvo_sample: HVOSequence\n",
    "        The HVO sample to extract control features from.\n",
    "    :param groove_dim: int\n",
    "        The index of the groove dimension in the HVO sample.\n",
    "    :return: dict\n",
    "        A dictionary containing the control features.\n",
    "    \"\"\"\n",
    "    input_hvo, out_streams, flat_out_hvo = get_split_to_streams(hvo_sample, groove_dim=groove_dim)\n",
    "\n",
    "    input_hits = input_hvo[:, 0]\n",
    "    flat_out_hits = flat_out_hvo[:, 0]\n",
    "    analysis_dict = {\n",
    "        \"groove_to_output_hit_hamming_distance\": float(hamming_distance(input_hits, flat_out_hits)),\n",
    "    }\n",
    "\n",
    "    input_velocities = input_hvo[:, 1]\n",
    "    input_accent_hits = get_accent_hits_from_velocities(input_velocities)\n",
    "    flat_out_velocities = flat_out_hvo[:, 1]\n",
    "    flat_out_accent_hits = get_accent_hits_from_velocities(flat_out_velocities)\n",
    "    analysis_dict.update({\n",
    "        \"groove_to_output_accent_hamming_distance\": float(hamming_distance(input_accent_hits, flat_out_accent_hits)),\n",
    "    })\n",
    "\n",
    "    # calculate hit\n",
    "    analysis_dict.update({f\"out_stream_{i}_jaccard_sim_with_flat_out\": float(Jaccard_similarity(out_streams[i][:, 0], flat_out_hits)) for i in range(len(out_streams))})\n",
    "    analysis_dict.update({f\"out_stream_{i}_accent_hamming_distance_with_flat_out\": float(hamming_distance(get_accent_hits_from_velocities(out_streams[i][:, 1]), flat_out_accent_hits)) for i in range(len(out_streams))})\n",
    "\n",
    "\n",
    "    return analysis_dict\n",
    "\n",
    "# plot violin plots of the control features\n",
    "import seaborn as sns\n",
    "import matplotlib.pyplot as plt\n",
    "def plot_control_features_violin(control_features_df):\n",
    "    \"\"\"\n",
    "    Plot violin plots of the control features.\n",
    "    :param control_features_df: pd.DataFrame\n",
    "        DataFrame containing the control features.\n",
    "    \"\"\"\n",
    "    plt.figure(figsize=(6, 8))\n",
    "    sns.violinplot(data=control_features_df.drop(columns=[\"sample_id\", \"collection\"]))\n",
    "    # 90 deg rotate with wrapp\n",
    "    plt.xticks(rotation=90, fontsize=8)\n",
    "    plt.title(\"Control Features Violin Plots\")\n",
    "    plt.tight_layout()\n",
    "\n",
    "\n",
    "    plt.show()\n",
    "\n",
    "# plot the  scatter of groove to output hit hamming distance and groove to output accent hamming distance\n",
    "def plot_scatter_input_output_distribution(control_features_df, use_normalized_accents=False):\n",
    "    plt.figure(figsize=(6, 4))\n",
    "    x = control_features_df[\"groove_to_output_hit_hamming_distance\"]\n",
    "    y = control_features_df[\"groove_to_output_accent_hamming_distance\"] if not use_normalized_accents else control_features_df[\"accent_hamming_values_per_hit_hamming_normalized\"]\n",
    "    plt.scatter(x, y, alpha=0.005)\n",
    "    plt.xlabel(\"Groove to Output Hit Hamming Distance\")\n",
    "    plt.ylabel(\"Groove to Output Accent Hamming Distance\")\n",
    "    if use_normalized_accents:\n",
    "        plt.title(\"Scatter Plot of Groove to Output Hit and Binned Accent Hamming Distances\")\n",
    "    else:\n",
    "        plt.title(\"Scatter Plot of Groove to Output Hit and Accent Hamming Distances\")\n",
    "    plt.tight_layout()\n",
    "    plt.show()\n",
    "\n"
   ],
   "id": "8bac250f04b336d4"
  },
  {
   "metadata": {
    "ExecuteTime": {
     "end_time": "2025-08-01T13:59:41.020435Z",
     "start_time": "2025-08-01T11:20:50.467690Z"
    }
   },
   "cell_type": "code",
   "source": "split_n_bar_phrases[0].metadata",
   "id": "2839ec45b41710fa",
   "outputs": [
    {
     "data": {
      "text/plain": [
       "{'filename': '4c15eca6bb1f673da443ffb105aaf147_bass.mid',\n",
       " 'main_file': '4c15eca6bb1f673da443ffb105aaf147',\n",
       " 'instrument': 'bass',\n",
       " 'source': 'Lakh MIDI',\n",
       " 'stream_0': 'guitar',\n",
       " 'stream_1': 'piano',\n",
       " 'stream_2': 'drum',\n",
       " 'stream_3': 'bass',\n",
       " 'start_bar': 144,\n",
       " 'collection': 'lmd_batch_56_filtered',\n",
       " 'sample_id': '4c15eca6bb1f673da443ffb105aaf147'}"
      ]
     },
     "execution_count": 6,
     "metadata": {},
     "output_type": "execute_result"
    }
   ],
   "execution_count": 6
  },
  {
   "metadata": {
    "ExecuteTime": {
     "end_time": "2025-08-01T13:59:41.021991Z",
     "start_time": "2025-08-01T11:20:50.479316Z"
    }
   },
   "cell_type": "code",
   "source": [
    "hvo_samples, sample_indices = get_randome_phrases(split_n_bar_phrases, n=1)\n",
    "create_multitab_from_figures(hvo_samples, [f\"ix: {ix}\" for ix in sample_indices], show_tabs=True)\n",
    "extract_features_from_sets(hvo_samples[0], groove_dim=0)"
   ],
   "id": "34057300e8051c72",
   "outputs": [
    {
     "data": {
      "text/html": [
       "    <style>\n",
       "        .bk-notebook-logo {\n",
       "            display: block;\n",
       "            width: 20px;\n",
       "            height: 20px;\n",
       "            background-image: url(data:image/png;base64,iVBORw0KGgoAAAANSUhEUgAAABQAAAAUCAYAAACNiR0NAAAABHNCSVQICAgIfAhkiAAAAAlwSFlzAAALEgAACxIB0t1+/AAAABx0RVh0U29mdHdhcmUAQWRvYmUgRmlyZXdvcmtzIENTNui8sowAAAOkSURBVDiNjZRtaJVlGMd/1/08zzln5zjP1LWcU9N0NkN8m2CYjpgQYQXqSs0I84OLIC0hkEKoPtiH3gmKoiJDU7QpLgoLjLIQCpEsNJ1vqUOdO7ppbuec5+V+rj4ctwzd8IIbbi6u+8f1539dt3A78eXC7QizUF7gyV1fD1Yqg4JWz84yffhm0qkFqBogB9rM8tZdtwVsPUhWhGcFJngGeWrPzHm5oaMmkfEg1usvLFyc8jLRqDOMru7AyC8saQr7GG7f5fvDeH7Ej8CM66nIF+8yngt6HWaKh7k49Soy9nXurCi1o3qUbS3zWfrYeQDTB/Qj6kX6Ybhw4B+bOYoLKCC9H3Nu/leUTZ1JdRWkkn2ldcCamzrcf47KKXdAJllSlxAOkRgyHsGC/zRday5Qld9DyoM4/q/rUoy/CXh3jzOu3bHUVZeU+DEn8FInkPBFlu3+nW3Nw0mk6vCDiWg8CeJaxEwuHS3+z5RgY+YBR6V1Z1nxSOfoaPa4LASWxxdNp+VWTk7+4vzaou8v8PN+xo+KY2xsw6une2frhw05CTYOmQvsEhjhWjn0bmXPjpE1+kplmmkP3suftwTubK9Vq22qKmrBhpY4jvd5afdRA3wGjFAgcnTK2s4hY0/GPNIb0nErGMCRxWOOX64Z8RAC4oCXdklmEvcL8o0BfkNK4lUg9HTl+oPlQxdNo3Mg4Nv175e/1LDGzZen30MEjRUtmXSfiTVu1kK8W4txyV6BMKlbgk3lMwYCiusNy9fVfvvwMxv8Ynl6vxoByANLTWplvuj/nF9m2+PDtt1eiHPBr1oIfhCChQMBw6Aw0UulqTKZdfVvfG7VcfIqLG9bcldL/+pdWTLxLUy8Qq38heUIjh4XlzZxzQm19lLFlr8vdQ97rjZVOLf8nclzckbcD4wxXMidpX30sFd37Fv/GtwwhzhxGVAprjbg0gCAEeIgwCZyTV2Z1REEW8O4py0wsjeloKoMr6iCY6dP92H6Vw/oTyICIthibxjm/DfN9lVz8IqtqKYLUXfoKVMVQVVJOElGjrnnUt9T9wbgp8AyYKaGlqingHZU/uG2NTZSVqwHQTWkx9hxjkpWDaCg6Ckj5qebgBVbT3V3NNXMSiWSDdGV3hrtzla7J+duwPOToIg42ChPQOQjspnSlp1V+Gjdged7+8UN5CRAV7a5EdFNwCjEaBR27b3W890TE7g24NAP/mMDXRWrGoFPQI9ls/MWO2dWFAar/xcOIImbbpA3zgAAAABJRU5ErkJggg==);\n",
       "        }\n",
       "    </style>\n",
       "    <div>\n",
       "        <a href=\"https://bokeh.org\" target=\"_blank\" class=\"bk-notebook-logo\"></a>\n",
       "        <span id=\"b4cb5ebc-e2a4-46c2-b70d-ac25cdf37948\">Loading BokehJS ...</span>\n",
       "    </div>\n"
      ]
     },
     "metadata": {},
     "output_type": "display_data"
    },
    {
     "data": {
      "application/javascript": "'use strict';\n(function(root) {\n  function now() {\n    return new Date();\n  }\n\n  const force = true;\n\n  if (typeof root._bokeh_onload_callbacks === \"undefined\" || force === true) {\n    root._bokeh_onload_callbacks = [];\n    root._bokeh_is_loading = undefined;\n  }\n\nconst JS_MIME_TYPE = 'application/javascript';\n  const HTML_MIME_TYPE = 'text/html';\n  const EXEC_MIME_TYPE = 'application/vnd.bokehjs_exec.v0+json';\n  const CLASS_NAME = 'output_bokeh rendered_html';\n\n  /**\n   * Render data to the DOM node\n   */\n  function render(props, node) {\n    const script = document.createElement(\"script\");\n    node.appendChild(script);\n  }\n\n  /**\n   * Handle when an output is cleared or removed\n   */\n  function handleClearOutput(event, handle) {\n    function drop(id) {\n      const view = Bokeh.index.get_by_id(id)\n      if (view != null) {\n        view.model.document.clear()\n        Bokeh.index.delete(view)\n      }\n    }\n\n    const cell = handle.cell;\n\n    const id = cell.output_area._bokeh_element_id;\n    const server_id = cell.output_area._bokeh_server_id;\n\n    // Clean up Bokeh references\n    if (id != null) {\n      drop(id)\n    }\n\n    if (server_id !== undefined) {\n      // Clean up Bokeh references\n      const cmd_clean = \"from bokeh.io.state import curstate; print(curstate().uuid_to_server['\" + server_id + \"'].get_sessions()[0].document.roots[0]._id)\";\n      cell.notebook.kernel.execute(cmd_clean, {\n        iopub: {\n          output: function(msg) {\n            const id = msg.content.text.trim()\n            drop(id)\n          }\n        }\n      });\n      // Destroy server and session\n      const cmd_destroy = \"import bokeh.io.notebook as ion; ion.destroy_server('\" + server_id + \"')\";\n      cell.notebook.kernel.execute(cmd_destroy);\n    }\n  }\n\n  /**\n   * Handle when a new output is added\n   */\n  function handleAddOutput(event, handle) {\n    const output_area = handle.output_area;\n    const output = handle.output;\n\n    // limit handleAddOutput to display_data with EXEC_MIME_TYPE content only\n    if ((output.output_type != \"display_data\") || (!Object.prototype.hasOwnProperty.call(output.data, EXEC_MIME_TYPE))) {\n      return\n    }\n\n    const toinsert = output_area.element.find(\".\" + CLASS_NAME.split(' ')[0]);\n\n    if (output.metadata[EXEC_MIME_TYPE][\"id\"] !== undefined) {\n      toinsert[toinsert.length - 1].firstChild.textContent = output.data[JS_MIME_TYPE];\n      // store reference to embed id on output_area\n      output_area._bokeh_element_id = output.metadata[EXEC_MIME_TYPE][\"id\"];\n    }\n    if (output.metadata[EXEC_MIME_TYPE][\"server_id\"] !== undefined) {\n      const bk_div = document.createElement(\"div\");\n      bk_div.innerHTML = output.data[HTML_MIME_TYPE];\n      const script_attrs = bk_div.children[0].attributes;\n      for (let i = 0; i < script_attrs.length; i++) {\n        toinsert[toinsert.length - 1].firstChild.setAttribute(script_attrs[i].name, script_attrs[i].value);\n        toinsert[toinsert.length - 1].firstChild.textContent = bk_div.children[0].textContent\n      }\n      // store reference to server id on output_area\n      output_area._bokeh_server_id = output.metadata[EXEC_MIME_TYPE][\"server_id\"];\n    }\n  }\n\n  function register_renderer(events, OutputArea) {\n\n    function append_mime(data, metadata, element) {\n      // create a DOM node to render to\n      const toinsert = this.create_output_subarea(\n        metadata,\n        CLASS_NAME,\n        EXEC_MIME_TYPE\n      );\n      this.keyboard_manager.register_events(toinsert);\n      // Render to node\n      const props = {data: data, metadata: metadata[EXEC_MIME_TYPE]};\n      render(props, toinsert[toinsert.length - 1]);\n      element.append(toinsert);\n      return toinsert\n    }\n\n    /* Handle when an output is cleared or removed */\n    events.on('clear_output.CodeCell', handleClearOutput);\n    events.on('delete.Cell', handleClearOutput);\n\n    /* Handle when a new output is added */\n    events.on('output_added.OutputArea', handleAddOutput);\n\n    /**\n     * Register the mime type and append_mime function with output_area\n     */\n    OutputArea.prototype.register_mime_type(EXEC_MIME_TYPE, append_mime, {\n      /* Is output safe? */\n      safe: true,\n      /* Index of renderer in `output_area.display_order` */\n      index: 0\n    });\n  }\n\n  // register the mime type if in Jupyter Notebook environment and previously unregistered\n  if (root.Jupyter !== undefined) {\n    const events = require('base/js/events');\n    const OutputArea = require('notebook/js/outputarea').OutputArea;\n\n    if (OutputArea.prototype.mime_types().indexOf(EXEC_MIME_TYPE) == -1) {\n      register_renderer(events, OutputArea);\n    }\n  }\n  if (typeof (root._bokeh_timeout) === \"undefined\" || force === true) {\n    root._bokeh_timeout = Date.now() + 5000;\n    root._bokeh_failed_load = false;\n  }\n\n  const NB_LOAD_WARNING = {'data': {'text/html':\n     \"<div style='background-color: #fdd'>\\n\"+\n     \"<p>\\n\"+\n     \"BokehJS does not appear to have successfully loaded. If loading BokehJS from CDN, this \\n\"+\n     \"may be due to a slow or bad network connection. Possible fixes:\\n\"+\n     \"</p>\\n\"+\n     \"<ul>\\n\"+\n     \"<li>re-rerun `output_notebook()` to attempt to load from CDN again, or</li>\\n\"+\n     \"<li>use INLINE resources instead, as so:</li>\\n\"+\n     \"</ul>\\n\"+\n     \"<code>\\n\"+\n     \"from bokeh.resources import INLINE\\n\"+\n     \"output_notebook(resources=INLINE)\\n\"+\n     \"</code>\\n\"+\n     \"</div>\"}};\n\n  function display_loaded(error = null) {\n    const el = document.getElementById(\"b4cb5ebc-e2a4-46c2-b70d-ac25cdf37948\");\n    if (el != null) {\n      const html = (() => {\n        if (typeof root.Bokeh === \"undefined\") {\n          if (error == null) {\n            return \"BokehJS is loading ...\";\n          } else {\n            return \"BokehJS failed to load.\";\n          }\n        } else {\n          const prefix = `BokehJS ${root.Bokeh.version}`;\n          if (error == null) {\n            return `${prefix} successfully loaded.`;\n          } else {\n            return `${prefix} <b>encountered errors</b> while loading and may not function as expected.`;\n          }\n        }\n      })();\n      el.innerHTML = html;\n\n      if (error != null) {\n        const wrapper = document.createElement(\"div\");\n        wrapper.style.overflow = \"auto\";\n        wrapper.style.height = \"5em\";\n        wrapper.style.resize = \"vertical\";\n        const content = document.createElement(\"div\");\n        content.style.fontFamily = \"monospace\";\n        content.style.whiteSpace = \"pre-wrap\";\n        content.style.backgroundColor = \"rgb(255, 221, 221)\";\n        content.textContent = error.stack ?? error.toString();\n        wrapper.append(content);\n        el.append(wrapper);\n      }\n    } else if (Date.now() < root._bokeh_timeout) {\n      setTimeout(() => display_loaded(error), 100);\n    }\n  }\n\n  function run_callbacks() {\n    try {\n      root._bokeh_onload_callbacks.forEach(function(callback) {\n        if (callback != null)\n          callback();\n      });\n    } finally {\n      delete root._bokeh_onload_callbacks\n    }\n    console.debug(\"Bokeh: all callbacks have finished\");\n  }\n\n  function load_libs(css_urls, js_urls, callback) {\n    if (css_urls == null) css_urls = [];\n    if (js_urls == null) js_urls = [];\n\n    root._bokeh_onload_callbacks.push(callback);\n    if (root._bokeh_is_loading > 0) {\n      console.debug(\"Bokeh: BokehJS is being loaded, scheduling callback at\", now());\n      return null;\n    }\n    if (js_urls == null || js_urls.length === 0) {\n      run_callbacks();\n      return null;\n    }\n    console.debug(\"Bokeh: BokehJS not loaded, scheduling load and callback at\", now());\n    root._bokeh_is_loading = css_urls.length + js_urls.length;\n\n    function on_load() {\n      root._bokeh_is_loading--;\n      if (root._bokeh_is_loading === 0) {\n        console.debug(\"Bokeh: all BokehJS libraries/stylesheets loaded\");\n        run_callbacks()\n      }\n    }\n\n    function on_error(url) {\n      console.error(\"failed to load \" + url);\n    }\n\n    for (let i = 0; i < css_urls.length; i++) {\n      const url = css_urls[i];\n      const element = document.createElement(\"link\");\n      element.onload = on_load;\n      element.onerror = on_error.bind(null, url);\n      element.rel = \"stylesheet\";\n      element.type = \"text/css\";\n      element.href = url;\n      console.debug(\"Bokeh: injecting link tag for BokehJS stylesheet: \", url);\n      document.body.appendChild(element);\n    }\n\n    for (let i = 0; i < js_urls.length; i++) {\n      const url = js_urls[i];\n      const element = document.createElement('script');\n      element.onload = on_load;\n      element.onerror = on_error.bind(null, url);\n      element.async = false;\n      element.src = url;\n      console.debug(\"Bokeh: injecting script tag for BokehJS library: \", url);\n      document.head.appendChild(element);\n    }\n  };\n\n  function inject_raw_css(css) {\n    const element = document.createElement(\"style\");\n    element.appendChild(document.createTextNode(css));\n    document.body.appendChild(element);\n  }\n\n  const js_urls = [\"https://cdn.bokeh.org/bokeh/release/bokeh-3.4.3.min.js\", \"https://cdn.bokeh.org/bokeh/release/bokeh-gl-3.4.3.min.js\", \"https://cdn.bokeh.org/bokeh/release/bokeh-widgets-3.4.3.min.js\", \"https://cdn.bokeh.org/bokeh/release/bokeh-tables-3.4.3.min.js\", \"https://cdn.bokeh.org/bokeh/release/bokeh-mathjax-3.4.3.min.js\"];\n  const css_urls = [];\n\n  const inline_js = [    function(Bokeh) {\n      Bokeh.set_log_level(\"info\");\n    },\nfunction(Bokeh) {\n    }\n  ];\n\n  function run_inline_js() {\n    if (root.Bokeh !== undefined || force === true) {\n      try {\n            for (let i = 0; i < inline_js.length; i++) {\n      inline_js[i].call(root, root.Bokeh);\n    }\n\n      } catch (error) {display_loaded(error);throw error;\n      }if (force === true) {\n        display_loaded();\n      }} else if (Date.now() < root._bokeh_timeout) {\n      setTimeout(run_inline_js, 100);\n    } else if (!root._bokeh_failed_load) {\n      console.log(\"Bokeh: BokehJS failed to load within specified timeout.\");\n      root._bokeh_failed_load = true;\n    } else if (force !== true) {\n      const cell = $(document.getElementById(\"b4cb5ebc-e2a4-46c2-b70d-ac25cdf37948\")).parents('.cell').data().cell;\n      cell.output_area.append_execute_result(NB_LOAD_WARNING)\n    }\n  }\n\n  if (root._bokeh_is_loading === 0) {\n    console.debug(\"Bokeh: BokehJS loaded, going straight to plotting\");\n    run_inline_js();\n  } else {\n    load_libs(css_urls, js_urls, function() {\n      console.debug(\"Bokeh: BokehJS plotting callback run at\", now());\n      run_inline_js();\n    });\n  }\n}(window));",
      "application/vnd.bokehjs_load.v0+json": "'use strict';\n(function(root) {\n  function now() {\n    return new Date();\n  }\n\n  const force = true;\n\n  if (typeof root._bokeh_onload_callbacks === \"undefined\" || force === true) {\n    root._bokeh_onload_callbacks = [];\n    root._bokeh_is_loading = undefined;\n  }\n\n\n  if (typeof (root._bokeh_timeout) === \"undefined\" || force === true) {\n    root._bokeh_timeout = Date.now() + 5000;\n    root._bokeh_failed_load = false;\n  }\n\n  const NB_LOAD_WARNING = {'data': {'text/html':\n     \"<div style='background-color: #fdd'>\\n\"+\n     \"<p>\\n\"+\n     \"BokehJS does not appear to have successfully loaded. If loading BokehJS from CDN, this \\n\"+\n     \"may be due to a slow or bad network connection. Possible fixes:\\n\"+\n     \"</p>\\n\"+\n     \"<ul>\\n\"+\n     \"<li>re-rerun `output_notebook()` to attempt to load from CDN again, or</li>\\n\"+\n     \"<li>use INLINE resources instead, as so:</li>\\n\"+\n     \"</ul>\\n\"+\n     \"<code>\\n\"+\n     \"from bokeh.resources import INLINE\\n\"+\n     \"output_notebook(resources=INLINE)\\n\"+\n     \"</code>\\n\"+\n     \"</div>\"}};\n\n  function display_loaded(error = null) {\n    const el = document.getElementById(\"b4cb5ebc-e2a4-46c2-b70d-ac25cdf37948\");\n    if (el != null) {\n      const html = (() => {\n        if (typeof root.Bokeh === \"undefined\") {\n          if (error == null) {\n            return \"BokehJS is loading ...\";\n          } else {\n            return \"BokehJS failed to load.\";\n          }\n        } else {\n          const prefix = `BokehJS ${root.Bokeh.version}`;\n          if (error == null) {\n            return `${prefix} successfully loaded.`;\n          } else {\n            return `${prefix} <b>encountered errors</b> while loading and may not function as expected.`;\n          }\n        }\n      })();\n      el.innerHTML = html;\n\n      if (error != null) {\n        const wrapper = document.createElement(\"div\");\n        wrapper.style.overflow = \"auto\";\n        wrapper.style.height = \"5em\";\n        wrapper.style.resize = \"vertical\";\n        const content = document.createElement(\"div\");\n        content.style.fontFamily = \"monospace\";\n        content.style.whiteSpace = \"pre-wrap\";\n        content.style.backgroundColor = \"rgb(255, 221, 221)\";\n        content.textContent = error.stack ?? error.toString();\n        wrapper.append(content);\n        el.append(wrapper);\n      }\n    } else if (Date.now() < root._bokeh_timeout) {\n      setTimeout(() => display_loaded(error), 100);\n    }\n  }\n\n  function run_callbacks() {\n    try {\n      root._bokeh_onload_callbacks.forEach(function(callback) {\n        if (callback != null)\n          callback();\n      });\n    } finally {\n      delete root._bokeh_onload_callbacks\n    }\n    console.debug(\"Bokeh: all callbacks have finished\");\n  }\n\n  function load_libs(css_urls, js_urls, callback) {\n    if (css_urls == null) css_urls = [];\n    if (js_urls == null) js_urls = [];\n\n    root._bokeh_onload_callbacks.push(callback);\n    if (root._bokeh_is_loading > 0) {\n      console.debug(\"Bokeh: BokehJS is being loaded, scheduling callback at\", now());\n      return null;\n    }\n    if (js_urls == null || js_urls.length === 0) {\n      run_callbacks();\n      return null;\n    }\n    console.debug(\"Bokeh: BokehJS not loaded, scheduling load and callback at\", now());\n    root._bokeh_is_loading = css_urls.length + js_urls.length;\n\n    function on_load() {\n      root._bokeh_is_loading--;\n      if (root._bokeh_is_loading === 0) {\n        console.debug(\"Bokeh: all BokehJS libraries/stylesheets loaded\");\n        run_callbacks()\n      }\n    }\n\n    function on_error(url) {\n      console.error(\"failed to load \" + url);\n    }\n\n    for (let i = 0; i < css_urls.length; i++) {\n      const url = css_urls[i];\n      const element = document.createElement(\"link\");\n      element.onload = on_load;\n      element.onerror = on_error.bind(null, url);\n      element.rel = \"stylesheet\";\n      element.type = \"text/css\";\n      element.href = url;\n      console.debug(\"Bokeh: injecting link tag for BokehJS stylesheet: \", url);\n      document.body.appendChild(element);\n    }\n\n    for (let i = 0; i < js_urls.length; i++) {\n      const url = js_urls[i];\n      const element = document.createElement('script');\n      element.onload = on_load;\n      element.onerror = on_error.bind(null, url);\n      element.async = false;\n      element.src = url;\n      console.debug(\"Bokeh: injecting script tag for BokehJS library: \", url);\n      document.head.appendChild(element);\n    }\n  };\n\n  function inject_raw_css(css) {\n    const element = document.createElement(\"style\");\n    element.appendChild(document.createTextNode(css));\n    document.body.appendChild(element);\n  }\n\n  const js_urls = [\"https://cdn.bokeh.org/bokeh/release/bokeh-3.4.3.min.js\", \"https://cdn.bokeh.org/bokeh/release/bokeh-gl-3.4.3.min.js\", \"https://cdn.bokeh.org/bokeh/release/bokeh-widgets-3.4.3.min.js\", \"https://cdn.bokeh.org/bokeh/release/bokeh-tables-3.4.3.min.js\", \"https://cdn.bokeh.org/bokeh/release/bokeh-mathjax-3.4.3.min.js\"];\n  const css_urls = [];\n\n  const inline_js = [    function(Bokeh) {\n      Bokeh.set_log_level(\"info\");\n    },\nfunction(Bokeh) {\n    }\n  ];\n\n  function run_inline_js() {\n    if (root.Bokeh !== undefined || force === true) {\n      try {\n            for (let i = 0; i < inline_js.length; i++) {\n      inline_js[i].call(root, root.Bokeh);\n    }\n\n      } catch (error) {display_loaded(error);throw error;\n      }if (force === true) {\n        display_loaded();\n      }} else if (Date.now() < root._bokeh_timeout) {\n      setTimeout(run_inline_js, 100);\n    } else if (!root._bokeh_failed_load) {\n      console.log(\"Bokeh: BokehJS failed to load within specified timeout.\");\n      root._bokeh_failed_load = true;\n    } else if (force !== true) {\n      const cell = $(document.getElementById(\"b4cb5ebc-e2a4-46c2-b70d-ac25cdf37948\")).parents('.cell').data().cell;\n      cell.output_area.append_execute_result(NB_LOAD_WARNING)\n    }\n  }\n\n  if (root._bokeh_is_loading === 0) {\n    console.debug(\"Bokeh: BokehJS loaded, going straight to plotting\");\n    run_inline_js();\n  } else {\n    load_libs(css_urls, js_urls, function() {\n      console.debug(\"Bokeh: BokehJS plotting callback run at\", now());\n      run_inline_js();\n    });\n  }\n}(window));"
     },
     "metadata": {},
     "output_type": "display_data"
    },
    {
     "data": {
      "text/html": [
       "\n",
       "  <div id=\"aea73796-00d7-45d5-bc30-1466d19b4545\" data-root-id=\"p2454\" style=\"display: contents;\"></div>\n"
      ]
     },
     "metadata": {},
     "output_type": "display_data"
    },
    {
     "data": {
      "application/javascript": "(function(root) {\n  function embed_document(root) {\n  const docs_json = {\"0d693b82-4864-48cc-9cfe-bfbc6f5fba03\":{\"version\":\"3.4.3\",\"title\":\"Bokeh Application\",\"roots\":[{\"type\":\"object\",\"name\":\"Tabs\",\"id\":\"p2454\",\"attributes\":{\"tabs\":[{\"type\":\"object\",\"name\":\"TabPanel\",\"id\":\"p2453\",\"attributes\":{\"title\":\"ix: 101081\",\"child\":{\"type\":\"object\",\"name\":\"Figure\",\"id\":\"p2327\",\"attributes\":{\"width\":800,\"height\":400,\"x_range\":{\"type\":\"object\",\"name\":\"DataRange1d\",\"id\":\"p2329\",\"attributes\":{\"start\":-0.3633,\"end\":3.9963}},\"y_range\":{\"type\":\"object\",\"name\":\"Range1d\",\"id\":\"p2336\",\"attributes\":{\"start\":-0.5,\"end\":5.75}},\"x_scale\":{\"type\":\"object\",\"name\":\"LinearScale\",\"id\":\"p2337\"},\"y_scale\":{\"type\":\"object\",\"name\":\"LinearScale\",\"id\":\"p2338\"},\"title\":{\"type\":\"object\",\"name\":\"Title\",\"id\":\"p2334\",\"attributes\":{\"text_color\":\"#5B5B5B\",\"text_font\":\"Helvetica\",\"text_font_size\":\"1.15em\"}},\"renderers\":[{\"type\":\"object\",\"name\":\"GlyphRenderer\",\"id\":\"p2369\",\"attributes\":{\"data_source\":{\"type\":\"object\",\"name\":\"ColumnDataSource\",\"id\":\"p2360\",\"attributes\":{\"selected\":{\"type\":\"object\",\"name\":\"Selection\",\"id\":\"p2361\",\"attributes\":{\"indices\":[],\"line_indices\":[]}},\"selection_policy\":{\"type\":\"object\",\"name\":\"UnionRenderers\",\"id\":\"p2362\"},\"data\":{\"type\":\"map\",\"entries\":[[\"start\",[-0.000351,0.014507999999999998,-0.000351,0.46935099999999996,0.46935099999999996,0.624961,0.624961,0.7570439999999999,0.78265,0.9371170000000001,0.926444,0.9371170000000001,1.405883,1.3865779999999999,1.395236,1.874649,1.874649,1.855461,2.3912679999999997,2.4402909999999998,2.570278,2.604314,2.752956,2.759336,2.931457,2.9546229999999998,2.9378919999999997,3.511022,3.51736,3.528098]],[\"end\",[0.05764899999999983,0.07250799999999982,0.05764899999999983,0.5273509999999998,0.5273509999999998,0.6829609999999998,0.6829609999999998,0.8150439999999998,0.8406499999999998,0.9951169999999999,0.9844439999999999,0.9951169999999999,1.4638829999999998,1.4445779999999997,1.4532359999999998,1.9326489999999998,1.9326489999999998,1.9134609999999999,2.4492679999999996,2.4982909999999996,2.628278,2.662314,2.810956,2.8173359999999996,2.989457,3.0126229999999996,2.9958919999999996,3.569022,3.57536,3.586098]],[\"instrument\",[\"stream_0\",\"stream_1\",\"stream_2\",\"stream_0\",\"stream_2\",\"stream_0\",\"stream_2\",\"stream_2\",\"stream_0\",\"stream_0\",\"stream_1\",\"stream_2\",\"stream_0\",\"stream_1\",\"stream_2\",\"stream_0\",\"stream_1\",\"stream_2\",\"stream_0\",\"stream_2\",\"stream_0\",\"stream_2\",\"stream_0\",\"stream_2\",\"stream_0\",\"stream_1\",\"stream_2\",\"stream_0\",\"stream_1\",\"stream_2\"]],[\"voice_index\",[0,1,2,0,2,0,2,2,0,0,1,2,0,1,2,0,1,2,0,2,0,2,0,2,0,1,2,0,1,2]],[\"midi\",[36,38,42,36,42,36,42,42,36,36,38,42,36,38,42,36,38,42,36,42,36,42,36,42,36,38,42,36,38,42]],[\"velocity\",[0.685,0.843,0.543,0.685,0.315,0.685,0.402,0.496,0.685,0.685,0.843,0.551,0.685,0.843,0.567,0.685,0.843,0.606,0.685,0.472,0.685,0.425,0.685,0.504,0.764,0.843,0.543,0.685,0.843,0.37]],[\"offset\",[-0.003,0.124,-0.003,0.003,0.003,0.333,0.333,0.458,-0.325,0.001,-0.091,0.001,-0.001,-0.166,-0.092,-0.003,-0.003,-0.167,0.404,-0.177,-0.066,0.223,0.491,-0.454,0.021,0.219,0.076,-0.034,0.02,0.111]],[\"offset_sec\",[-0.0,0.015,-0.0,0.0,0.0,0.039,0.039,0.054,-0.038,0.0,-0.011,0.0,-0.0,-0.019,-0.011,-0.0,-0.0,-0.02,0.047,-0.021,-0.008,0.026,0.057,-0.053,0.002,0.026,0.009,-0.004,0.002,0.013]],[\"grid_line\",[0,0,0,4,4,5,5,6,7,8,8,8,12,12,12,16,16,16,20,21,22,22,23,24,25,25,25,30,30,30]],[\"top\",{\"type\":\"ndarray\",\"array\":{\"type\":\"bytes\",\"data\":\"mpmZmZmZyT8zMzMzMzPzP5qZmZmZmQFAmpmZmZmZyT+amZmZmZkBQJqZmZmZmck/mpmZmZmZAUCamZmZmZkBQJqZmZmZmck/mpmZmZmZyT8zMzMzMzPzP5qZmZmZmQFAmpmZmZmZyT8zMzMzMzPzP5qZmZmZmQFAmpmZmZmZyT8zMzMzMzPzP5qZmZmZmQFAmpmZmZmZyT+amZmZmZkBQJqZmZmZmck/mpmZmZmZAUCamZmZmZnJP5qZmZmZmQFAmpmZmZmZyT8zMzMzMzPzP5qZmZmZmQFAmpmZmZmZyT8zMzMzMzPzP5qZmZmZmQFA\"},\"shape\":[30],\"dtype\":\"float64\",\"order\":\"little\"}],[\"bottom\",{\"type\":\"ndarray\",\"array\":{\"type\":\"bytes\",\"data\":\"mpmZmZmZyb+amZmZmZnpP83MzMzMzPw/mpmZmZmZyb/NzMzMzMz8P5qZmZmZmcm/zczMzMzM/D/NzMzMzMz8P5qZmZmZmcm/mpmZmZmZyb+amZmZmZnpP83MzMzMzPw/mpmZmZmZyb+amZmZmZnpP83MzMzMzPw/mpmZmZmZyb+amZmZmZnpP83MzMzMzPw/mpmZmZmZyb/NzMzMzMz8P5qZmZmZmcm/zczMzMzM/D+amZmZmZnJv83MzMzMzPw/mpmZmZmZyb+amZmZmZnpP83MzMzMzPw/mpmZmZmZyb+amZmZmZnpP83MzMzMzPw/\"},\"shape\":[30],\"dtype\":\"float64\",\"order\":\"little\"}]]}}},\"view\":{\"type\":\"object\",\"name\":\"CDSView\",\"id\":\"p2370\",\"attributes\":{\"filter\":{\"type\":\"object\",\"name\":\"AllIndices\",\"id\":\"p2371\"}}},\"glyph\":{\"type\":\"object\",\"name\":\"Quad\",\"id\":\"p2366\",\"attributes\":{\"left\":{\"type\":\"field\",\"field\":\"start\"},\"right\":{\"type\":\"field\",\"field\":\"end\"},\"bottom\":{\"type\":\"field\",\"field\":\"bottom\"},\"top\":{\"type\":\"field\",\"field\":\"top\"},\"line_color\":{\"type\":\"value\",\"value\":\"grey\"},\"fill_color\":{\"type\":\"value\",\"value\":\"grey\"},\"fill_alpha\":{\"type\":\"field\",\"field\":\"velocity\"}}},\"nonselection_glyph\":{\"type\":\"object\",\"name\":\"Quad\",\"id\":\"p2367\",\"attributes\":{\"left\":{\"type\":\"field\",\"field\":\"start\"},\"right\":{\"type\":\"field\",\"field\":\"end\"},\"bottom\":{\"type\":\"field\",\"field\":\"bottom\"},\"top\":{\"type\":\"field\",\"field\":\"top\"},\"line_color\":{\"type\":\"value\",\"value\":\"grey\"},\"line_alpha\":{\"type\":\"value\",\"value\":0.1},\"fill_color\":{\"type\":\"value\",\"value\":\"grey\"},\"fill_alpha\":{\"type\":\"value\",\"value\":0.1},\"hatch_alpha\":{\"type\":\"value\",\"value\":0.1}}},\"muted_glyph\":{\"type\":\"object\",\"name\":\"Quad\",\"id\":\"p2368\",\"attributes\":{\"left\":{\"type\":\"field\",\"field\":\"start\"},\"right\":{\"type\":\"field\",\"field\":\"end\"},\"bottom\":{\"type\":\"field\",\"field\":\"bottom\"},\"top\":{\"type\":\"field\",\"field\":\"top\"},\"line_color\":{\"type\":\"value\",\"value\":\"grey\"},\"line_alpha\":{\"type\":\"value\",\"value\":0.2},\"fill_color\":{\"type\":\"value\",\"value\":\"grey\"},\"fill_alpha\":{\"type\":\"value\",\"value\":0.2},\"hatch_alpha\":{\"type\":\"value\",\"value\":0.2}}}}},{\"type\":\"object\",\"name\":\"GlyphRenderer\",\"id\":\"p2420\",\"attributes\":{\"data_source\":{\"type\":\"object\",\"name\":\"ColumnDataSource\",\"id\":\"p2411\",\"attributes\":{\"selected\":{\"type\":\"object\",\"name\":\"Selection\",\"id\":\"p2412\",\"attributes\":{\"indices\":[],\"line_indices\":[]}},\"selection_policy\":{\"type\":\"object\",\"name\":\"UnionRenderers\",\"id\":\"p2413\"},\"data\":{\"type\":\"map\",\"entries\":[[\"x\",[0.0]],[\"y\",[4.5]],[\"tempo\",[128.0002730672492]],[\"grid_index\",[0]]]}}},\"view\":{\"type\":\"object\",\"name\":\"CDSView\",\"id\":\"p2421\",\"attributes\":{\"filter\":{\"type\":\"object\",\"name\":\"AllIndices\",\"id\":\"p2422\"}}},\"glyph\":{\"type\":\"object\",\"name\":\"Scatter\",\"id\":\"p2417\",\"attributes\":{\"x\":{\"type\":\"field\",\"field\":\"x\"},\"y\":{\"type\":\"field\",\"field\":\"y\"},\"size\":{\"type\":\"value\",\"value\":10},\"line_color\":{\"type\":\"value\",\"value\":\"#440154\"},\"fill_color\":{\"type\":\"value\",\"value\":\"#440154\"}}},\"nonselection_glyph\":{\"type\":\"object\",\"name\":\"Scatter\",\"id\":\"p2418\",\"attributes\":{\"x\":{\"type\":\"field\",\"field\":\"x\"},\"y\":{\"type\":\"field\",\"field\":\"y\"},\"size\":{\"type\":\"value\",\"value\":10},\"line_color\":{\"type\":\"value\",\"value\":\"#440154\"},\"line_alpha\":{\"type\":\"value\",\"value\":0.1},\"fill_color\":{\"type\":\"value\",\"value\":\"#440154\"},\"fill_alpha\":{\"type\":\"value\",\"value\":0.1},\"hatch_alpha\":{\"type\":\"value\",\"value\":0.1}}},\"muted_glyph\":{\"type\":\"object\",\"name\":\"Scatter\",\"id\":\"p2419\",\"attributes\":{\"x\":{\"type\":\"field\",\"field\":\"x\"},\"y\":{\"type\":\"field\",\"field\":\"y\"},\"size\":{\"type\":\"value\",\"value\":10},\"line_color\":{\"type\":\"value\",\"value\":\"#440154\"},\"line_alpha\":{\"type\":\"value\",\"value\":0.2},\"fill_color\":{\"type\":\"value\",\"value\":\"#440154\"},\"fill_alpha\":{\"type\":\"value\",\"value\":0.2},\"hatch_alpha\":{\"type\":\"value\",\"value\":0.2}}}}},{\"type\":\"object\",\"name\":\"GlyphRenderer\",\"id\":\"p2434\",\"attributes\":{\"data_source\":{\"type\":\"object\",\"name\":\"ColumnDataSource\",\"id\":\"p2425\",\"attributes\":{\"selected\":{\"type\":\"object\",\"name\":\"Selection\",\"id\":\"p2426\",\"attributes\":{\"indices\":[],\"line_indices\":[]}},\"selection_policy\":{\"type\":\"object\",\"name\":\"UnionRenderers\",\"id\":\"p2427\"},\"data\":{\"type\":\"map\",\"entries\":[[\"x\",[0.0]],[\"y\",[4]],[\"Numerator\",[4]],[\"Denominator\",[4]],[\"grid_index\",[0]]]}}},\"view\":{\"type\":\"object\",\"name\":\"CDSView\",\"id\":\"p2435\",\"attributes\":{\"filter\":{\"type\":\"object\",\"name\":\"AllIndices\",\"id\":\"p2436\"}}},\"glyph\":{\"type\":\"object\",\"name\":\"Scatter\",\"id\":\"p2431\",\"attributes\":{\"x\":{\"type\":\"field\",\"field\":\"x\"},\"y\":{\"type\":\"field\",\"field\":\"y\"},\"size\":{\"type\":\"value\",\"value\":10},\"line_color\":{\"type\":\"value\",\"value\":\"#70CE56\"},\"fill_color\":{\"type\":\"value\",\"value\":\"#70CE56\"}}},\"nonselection_glyph\":{\"type\":\"object\",\"name\":\"Scatter\",\"id\":\"p2432\",\"attributes\":{\"x\":{\"type\":\"field\",\"field\":\"x\"},\"y\":{\"type\":\"field\",\"field\":\"y\"},\"size\":{\"type\":\"value\",\"value\":10},\"line_color\":{\"type\":\"value\",\"value\":\"#70CE56\"},\"line_alpha\":{\"type\":\"value\",\"value\":0.1},\"fill_color\":{\"type\":\"value\",\"value\":\"#70CE56\"},\"fill_alpha\":{\"type\":\"value\",\"value\":0.1},\"hatch_alpha\":{\"type\":\"value\",\"value\":0.1}}},\"muted_glyph\":{\"type\":\"object\",\"name\":\"Scatter\",\"id\":\"p2433\",\"attributes\":{\"x\":{\"type\":\"field\",\"field\":\"x\"},\"y\":{\"type\":\"field\",\"field\":\"y\"},\"size\":{\"type\":\"value\",\"value\":10},\"line_color\":{\"type\":\"value\",\"value\":\"#70CE56\"},\"line_alpha\":{\"type\":\"value\",\"value\":0.2},\"fill_color\":{\"type\":\"value\",\"value\":\"#70CE56\"},\"fill_alpha\":{\"type\":\"value\",\"value\":0.2},\"hatch_alpha\":{\"type\":\"value\",\"value\":0.2}}}}},{\"type\":\"object\",\"name\":\"GlyphRenderer\",\"id\":\"p2448\",\"attributes\":{\"data_source\":{\"type\":\"object\",\"name\":\"ColumnDataSource\",\"id\":\"p2439\",\"attributes\":{\"selected\":{\"type\":\"object\",\"name\":\"Selection\",\"id\":\"p2440\",\"attributes\":{\"indices\":[],\"line_indices\":[]}},\"selection_policy\":{\"type\":\"object\",\"name\":\"UnionRenderers\",\"id\":\"p2441\"},\"data\":{\"type\":\"map\",\"entries\":[[\"x\",[0.0]],[\"y\",[3.5]],[\"filename\",[\"078c6eccfb8521a862e07fe7b66d11a3_percussion.mid\"]],[\"main_file\",[\"078c6eccfb8521a862e07fe7b66d11a3\"]],[\"instrument\",[\"percussion\"]],[\"source\",[\"Lakh MIDI\"]],[\"stream_0\",[\"drum\"]],[\"stream_1\",[\"bass\"]],[\"stream_2\",[\"brass\"]],[\"stream_3\",[\"percussion\"]],[\"start_bar\",[89]],[\"collection\",[\"lmd_batch_09_filtered\"]],[\"sample_id\",[\"078c6eccfb8521a862e07fe7b66d11a3\"]]]}}},\"view\":{\"type\":\"object\",\"name\":\"CDSView\",\"id\":\"p2449\",\"attributes\":{\"filter\":{\"type\":\"object\",\"name\":\"AllIndices\",\"id\":\"p2450\"}}},\"glyph\":{\"type\":\"object\",\"name\":\"Scatter\",\"id\":\"p2445\",\"attributes\":{\"x\":{\"type\":\"field\",\"field\":\"x\"},\"y\":{\"type\":\"field\",\"field\":\"y\"},\"size\":{\"type\":\"value\",\"value\":10},\"line_color\":{\"type\":\"value\",\"value\":\"#1EA087\"},\"fill_color\":{\"type\":\"value\",\"value\":\"#1EA087\"}}},\"nonselection_glyph\":{\"type\":\"object\",\"name\":\"Scatter\",\"id\":\"p2446\",\"attributes\":{\"x\":{\"type\":\"field\",\"field\":\"x\"},\"y\":{\"type\":\"field\",\"field\":\"y\"},\"size\":{\"type\":\"value\",\"value\":10},\"line_color\":{\"type\":\"value\",\"value\":\"#1EA087\"},\"line_alpha\":{\"type\":\"value\",\"value\":0.1},\"fill_color\":{\"type\":\"value\",\"value\":\"#1EA087\"},\"fill_alpha\":{\"type\":\"value\",\"value\":0.1},\"hatch_alpha\":{\"type\":\"value\",\"value\":0.1}}},\"muted_glyph\":{\"type\":\"object\",\"name\":\"Scatter\",\"id\":\"p2447\",\"attributes\":{\"x\":{\"type\":\"field\",\"field\":\"x\"},\"y\":{\"type\":\"field\",\"field\":\"y\"},\"size\":{\"type\":\"value\",\"value\":10},\"line_color\":{\"type\":\"value\",\"value\":\"#1EA087\"},\"line_alpha\":{\"type\":\"value\",\"value\":0.2},\"fill_color\":{\"type\":\"value\",\"value\":\"#1EA087\"},\"fill_alpha\":{\"type\":\"value\",\"value\":0.2},\"hatch_alpha\":{\"type\":\"value\",\"value\":0.2}}}}}],\"toolbar\":{\"type\":\"object\",\"name\":\"Toolbar\",\"id\":\"p2335\",\"attributes\":{\"tools\":[{\"type\":\"object\",\"name\":\"PanTool\",\"id\":\"p2349\"},{\"type\":\"object\",\"name\":\"WheelZoomTool\",\"id\":\"p2350\",\"attributes\":{\"renderers\":\"auto\"}},{\"type\":\"object\",\"name\":\"BoxZoomTool\",\"id\":\"p2351\",\"attributes\":{\"overlay\":{\"type\":\"object\",\"name\":\"BoxAnnotation\",\"id\":\"p2352\",\"attributes\":{\"syncable\":false,\"level\":\"overlay\",\"visible\":false,\"left\":{\"type\":\"number\",\"value\":\"nan\"},\"right\":{\"type\":\"number\",\"value\":\"nan\"},\"top\":{\"type\":\"number\",\"value\":\"nan\"},\"bottom\":{\"type\":\"number\",\"value\":\"nan\"},\"left_units\":\"canvas\",\"right_units\":\"canvas\",\"top_units\":\"canvas\",\"bottom_units\":\"canvas\",\"line_color\":\"black\",\"line_alpha\":1.0,\"line_width\":2,\"line_dash\":[4,4],\"fill_color\":\"lightgrey\",\"fill_alpha\":0.5}}}},{\"type\":\"object\",\"name\":\"SaveTool\",\"id\":\"p2357\"},{\"type\":\"object\",\"name\":\"ResetTool\",\"id\":\"p2358\"},{\"type\":\"object\",\"name\":\"HelpTool\",\"id\":\"p2359\"},{\"type\":\"object\",\"name\":\"HoverTool\",\"id\":\"p2374\",\"attributes\":{\"renderers\":[{\"id\":\"p2369\"}],\"tooltips\":[[\"start\",\"@start\"],[\"end\",\"@end\"],[\"instrument\",\"@instrument\"],[\"voice_index\",\"@voice_index\"],[\"midi\",\"@midi\"],[\"velocity\",\"@velocity\"],[\"offset\",\"@offset\"],[\"offset_sec\",\"@offset_sec\"],[\"grid_line\",\"@grid_line\"]]}},{\"type\":\"object\",\"name\":\"HoverTool\",\"id\":\"p2424\",\"attributes\":{\"renderers\":[{\"id\":\"p2420\"}],\"tooltips\":[[\"tempo\",\"@tempo\"],[\"grid_index\",\"@grid_index\"]]}},{\"type\":\"object\",\"name\":\"HoverTool\",\"id\":\"p2438\",\"attributes\":{\"renderers\":[{\"id\":\"p2434\"}],\"tooltips\":[[\"Numerator\",\"@Numerator\"],[\"Denominator\",\"@Denominator\"],[\"grid_index\",\"@grid_index\"]]}},{\"type\":\"object\",\"name\":\"HoverTool\",\"id\":\"p2452\",\"attributes\":{\"renderers\":[{\"id\":\"p2448\"}],\"tooltips\":[[\"filename\",\"@filename\"],[\"main_file\",\"@main_file\"],[\"instrument\",\"@instrument\"],[\"source\",\"@source\"],[\"stream_0\",\"@stream_0\"],[\"stream_1\",\"@stream_1\"],[\"stream_2\",\"@stream_2\"],[\"stream_3\",\"@stream_3\"],[\"start_bar\",\"@start_bar\"],[\"collection\",\"@collection\"],[\"sample_id\",\"@sample_id\"]]}}]}},\"left\":[{\"type\":\"object\",\"name\":\"LinearAxis\",\"id\":\"p2344\",\"attributes\":{\"ticker\":{\"type\":\"object\",\"name\":\"FixedTicker\",\"id\":\"p2375\",\"attributes\":{\"ticks\":[0,1,2,3],\"minor_ticks\":[]}},\"formatter\":{\"type\":\"object\",\"name\":\"BasicTickFormatter\",\"id\":\"p2346\"},\"axis_label\":\"Instrument\",\"axis_label_standoff\":10,\"axis_label_text_color\":\"#5B5B5B\",\"axis_label_text_font\":\"Helvetica\",\"axis_label_text_font_size\":\"1.25em\",\"axis_label_text_font_style\":\"normal\",\"major_label_overrides\":{\"type\":\"map\",\"entries\":[[0,\"stream_0\"],[1,\"stream_1\"],[2,\"stream_2\"],[3,\"stream_3\"]]},\"major_label_policy\":{\"type\":\"object\",\"name\":\"AllLabels\",\"id\":\"p2347\"},\"major_label_text_color\":\"#5B5B5B\",\"major_label_text_font\":\"Helvetica\",\"major_label_text_font_size\":\"1.025em\",\"axis_line_color\":\"#5B5B5B\",\"axis_line_alpha\":0,\"major_tick_line_color\":\"#5B5B5B\",\"major_tick_line_alpha\":0,\"minor_tick_line_color\":\"#5B5B5B\",\"minor_tick_line_alpha\":0}}],\"right\":[{\"type\":\"object\",\"name\":\"Legend\",\"id\":\"p2372\",\"attributes\":{\"border_line_alpha\":0,\"background_fill_alpha\":0.25,\"click_policy\":\"hide\",\"label_text_color\":\"#5B5B5B\",\"label_text_font\":\"Helvetica\",\"label_text_font_size\":\"1.025em\",\"label_standoff\":8,\"glyph_width\":15,\"spacing\":8,\"items\":[{\"type\":\"object\",\"name\":\"LegendItem\",\"id\":\"p2373\",\"attributes\":{\"label\":{\"type\":\"value\",\"value\":\"Piano Roll\"},\"renderers\":[{\"id\":\"p2369\"}]}},{\"type\":\"object\",\"name\":\"LegendItem\",\"id\":\"p2423\",\"attributes\":{\"label\":{\"type\":\"value\",\"value\":\"Tempo\"},\"renderers\":[{\"id\":\"p2420\"}]}},{\"type\":\"object\",\"name\":\"LegendItem\",\"id\":\"p2437\",\"attributes\":{\"label\":{\"type\":\"value\",\"value\":\"Time Signature\"},\"renderers\":[{\"id\":\"p2434\"}]}},{\"type\":\"object\",\"name\":\"LegendItem\",\"id\":\"p2451\",\"attributes\":{\"label\":{\"type\":\"value\",\"value\":\"Metadata\"},\"renderers\":[{\"id\":\"p2448\"}]}}]}}],\"below\":[{\"type\":\"object\",\"name\":\"LinearAxis\",\"id\":\"p2339\",\"attributes\":{\"ticker\":{\"type\":\"object\",\"name\":\"FixedTicker\",\"id\":\"p2400\",\"attributes\":{\"ticks\":[0.0,0.47,0.94,1.41,1.88,2.34,2.81,3.28],\"minor_ticks\":[]}},\"formatter\":{\"type\":\"object\",\"name\":\"BasicTickFormatter\",\"id\":\"p2341\"},\"axis_label\":\"Time (sec)\",\"axis_label_standoff\":10,\"axis_label_text_color\":\"#5B5B5B\",\"axis_label_text_font\":\"Helvetica\",\"axis_label_text_font_size\":\"1.25em\",\"axis_label_text_font_style\":\"normal\",\"major_label_orientation\":1.57,\"major_label_policy\":{\"type\":\"object\",\"name\":\"AllLabels\",\"id\":\"p2342\"},\"major_label_text_color\":\"#5B5B5B\",\"major_label_text_font\":\"Helvetica\",\"major_label_text_font_size\":\"1.025em\",\"axis_line_color\":\"#5B5B5B\",\"axis_line_alpha\":0,\"major_tick_line_color\":\"#5B5B5B\",\"major_tick_line_alpha\":0,\"minor_tick_line_color\":\"#5B5B5B\",\"minor_tick_line_alpha\":0}}],\"center\":[{\"type\":\"object\",\"name\":\"Grid\",\"id\":\"p2343\",\"attributes\":{\"axis\":{\"id\":\"p2339\"},\"grid_line_color\":null}},{\"type\":\"object\",\"name\":\"Grid\",\"id\":\"p2348\",\"attributes\":{\"dimension\":1,\"axis\":{\"id\":\"p2344\"},\"grid_line_color\":null}},{\"id\":\"p2372\"},{\"type\":\"object\",\"name\":\"Span\",\"id\":\"p2376\",\"attributes\":{\"location\":0.117,\"dimension\":\"height\",\"line_width\":0.1}},{\"type\":\"object\",\"name\":\"Span\",\"id\":\"p2377\",\"attributes\":{\"location\":0.234,\"dimension\":\"height\",\"line_width\":0.1}},{\"type\":\"object\",\"name\":\"Span\",\"id\":\"p2378\",\"attributes\":{\"location\":0.352,\"dimension\":\"height\",\"line_width\":0.1}},{\"type\":\"object\",\"name\":\"Span\",\"id\":\"p2379\",\"attributes\":{\"location\":0.586,\"dimension\":\"height\",\"line_width\":0.1}},{\"type\":\"object\",\"name\":\"Span\",\"id\":\"p2380\",\"attributes\":{\"location\":0.703,\"dimension\":\"height\",\"line_width\":0.1}},{\"type\":\"object\",\"name\":\"Span\",\"id\":\"p2381\",\"attributes\":{\"location\":0.821,\"dimension\":\"height\",\"line_width\":0.1}},{\"type\":\"object\",\"name\":\"Span\",\"id\":\"p2382\",\"attributes\":{\"location\":1.054,\"dimension\":\"height\",\"line_width\":0.1}},{\"type\":\"object\",\"name\":\"Span\",\"id\":\"p2383\",\"attributes\":{\"location\":1.171,\"dimension\":\"height\",\"line_width\":0.1}},{\"type\":\"object\",\"name\":\"Span\",\"id\":\"p2384\",\"attributes\":{\"location\":1.289,\"dimension\":\"height\",\"line_width\":0.1}},{\"type\":\"object\",\"name\":\"Span\",\"id\":\"p2385\",\"attributes\":{\"location\":1.523,\"dimension\":\"height\",\"line_width\":0.1}},{\"type\":\"object\",\"name\":\"Span\",\"id\":\"p2386\",\"attributes\":{\"location\":1.64,\"dimension\":\"height\",\"line_width\":0.1}},{\"type\":\"object\",\"name\":\"Span\",\"id\":\"p2387\",\"attributes\":{\"location\":1.758,\"dimension\":\"height\",\"line_width\":0.1}},{\"type\":\"object\",\"name\":\"Span\",\"id\":\"p2388\",\"attributes\":{\"location\":1.992,\"dimension\":\"height\",\"line_width\":0.1}},{\"type\":\"object\",\"name\":\"Span\",\"id\":\"p2389\",\"attributes\":{\"location\":2.109,\"dimension\":\"height\",\"line_width\":0.1}},{\"type\":\"object\",\"name\":\"Span\",\"id\":\"p2390\",\"attributes\":{\"location\":2.227,\"dimension\":\"height\",\"line_width\":0.1}},{\"type\":\"object\",\"name\":\"Span\",\"id\":\"p2391\",\"attributes\":{\"location\":2.461,\"dimension\":\"height\",\"line_width\":0.1}},{\"type\":\"object\",\"name\":\"Span\",\"id\":\"p2392\",\"attributes\":{\"location\":2.578,\"dimension\":\"height\",\"line_width\":0.1}},{\"type\":\"object\",\"name\":\"Span\",\"id\":\"p2393\",\"attributes\":{\"location\":2.696,\"dimension\":\"height\",\"line_width\":0.1}},{\"type\":\"object\",\"name\":\"Span\",\"id\":\"p2394\",\"attributes\":{\"location\":2.929,\"dimension\":\"height\",\"line_width\":0.1}},{\"type\":\"object\",\"name\":\"Span\",\"id\":\"p2395\",\"attributes\":{\"location\":3.046,\"dimension\":\"height\",\"line_width\":0.1}},{\"type\":\"object\",\"name\":\"Span\",\"id\":\"p2396\",\"attributes\":{\"location\":3.164,\"dimension\":\"height\",\"line_width\":0.1}},{\"type\":\"object\",\"name\":\"Span\",\"id\":\"p2397\",\"attributes\":{\"location\":3.398,\"dimension\":\"height\",\"line_width\":0.1}},{\"type\":\"object\",\"name\":\"Span\",\"id\":\"p2398\",\"attributes\":{\"location\":3.515,\"dimension\":\"height\",\"line_width\":0.1}},{\"type\":\"object\",\"name\":\"Span\",\"id\":\"p2399\",\"attributes\":{\"location\":3.633,\"dimension\":\"height\",\"line_width\":0.1}},{\"type\":\"object\",\"name\":\"Span\",\"id\":\"p2401\",\"attributes\":{\"location\":0.0,\"dimension\":\"height\",\"line_width\":0.5}},{\"type\":\"object\",\"name\":\"Span\",\"id\":\"p2402\",\"attributes\":{\"location\":0.469,\"dimension\":\"height\",\"line_width\":0.5}},{\"type\":\"object\",\"name\":\"Span\",\"id\":\"p2403\",\"attributes\":{\"location\":0.937,\"dimension\":\"height\",\"line_width\":0.5}},{\"type\":\"object\",\"name\":\"Span\",\"id\":\"p2404\",\"attributes\":{\"location\":1.406,\"dimension\":\"height\",\"line_width\":0.5}},{\"type\":\"object\",\"name\":\"Span\",\"id\":\"p2405\",\"attributes\":{\"location\":1.875,\"dimension\":\"height\",\"line_width\":0.5}},{\"type\":\"object\",\"name\":\"Span\",\"id\":\"p2406\",\"attributes\":{\"location\":2.344,\"dimension\":\"height\",\"line_width\":0.5}},{\"type\":\"object\",\"name\":\"Span\",\"id\":\"p2407\",\"attributes\":{\"location\":2.812,\"dimension\":\"height\",\"line_width\":0.5}},{\"type\":\"object\",\"name\":\"Span\",\"id\":\"p2408\",\"attributes\":{\"location\":3.281,\"dimension\":\"height\",\"line_width\":0.5}},{\"type\":\"object\",\"name\":\"Span\",\"id\":\"p2409\",\"attributes\":{\"location\":0.0,\"dimension\":\"height\",\"line_width\":2}},{\"type\":\"object\",\"name\":\"Span\",\"id\":\"p2410\",\"attributes\":{\"location\":1.875,\"dimension\":\"height\",\"line_width\":2}}]}}}}]}}]}};\n  const render_items = [{\"docid\":\"0d693b82-4864-48cc-9cfe-bfbc6f5fba03\",\"roots\":{\"p2454\":\"aea73796-00d7-45d5-bc30-1466d19b4545\"},\"root_ids\":[\"p2454\"]}];\n  void root.Bokeh.embed.embed_items_notebook(docs_json, render_items);\n  }\n  if (root.Bokeh !== undefined) {\n    embed_document(root);\n  } else {\n    let attempts = 0;\n    const timer = setInterval(function(root) {\n      if (root.Bokeh !== undefined) {\n        clearInterval(timer);\n        embed_document(root);\n      } else {\n        attempts++;\n        if (attempts > 100) {\n          clearInterval(timer);\n          console.log(\"Bokeh: ERROR: Unable to run BokehJS code because BokehJS library is missing\");\n        }\n      }\n    }, 10, root)\n  }\n})(window);",
      "application/vnd.bokehjs_exec.v0+json": ""
     },
     "metadata": {
      "application/vnd.bokehjs_exec.v0+json": {
       "id": "p2454"
      }
     },
     "output_type": "display_data"
    },
    {
     "data": {
      "text/plain": [
       "{'groove_to_output_hit_hamming_distance': 0.1875,\n",
       " 'groove_to_output_accent_hamming_distance': 0.15625,\n",
       " 'out_stream_0_jaccard_sim_with_flat_out': 0.5,\n",
       " 'out_stream_1_jaccard_sim_with_flat_out': 1.0,\n",
       " 'out_stream_2_jaccard_sim_with_flat_out': 0.0,\n",
       " 'out_stream_0_accent_hamming_distance_with_flat_out': 0.0,\n",
       " 'out_stream_1_accent_hamming_distance_with_flat_out': 0.1875,\n",
       " 'out_stream_2_accent_hamming_distance_with_flat_out': 0.1875}"
      ]
     },
     "execution_count": 7,
     "metadata": {},
     "output_type": "execute_result"
    }
   ],
   "execution_count": 7
  },
  {
   "metadata": {
    "ExecuteTime": {
     "end_time": "2025-08-01T13:59:41.052546Z",
     "start_time": "2025-08-01T11:20:50.621264Z"
    }
   },
   "cell_type": "code",
   "source": [
    "# Extract control features for all samples\n",
    "control_features = {\n",
    "    \"sample_id\": [],\n",
    "    \"collection\": [],\n",
    "}\n",
    "import tqdm\n",
    "\n",
    "for hvo_sample in tqdm.tqdm(split_n_bar_phrases):\n",
    "    for groove_dim in range(4): #<--- change to 1 if you don't want to use all streams as a groove (TODO: Change and generate different plots)\n",
    "        control_features[\"sample_id\"].append(hvo_sample.metadata['sample_id'])\n",
    "        control_features[\"collection\"].append(hvo_sample.metadata['collection'])\n",
    "\n",
    "        features = extract_features_from_sets(hvo_sample, groove_dim)\n",
    "        for key, value in features.items():\n",
    "            if key not in control_features:\n",
    "                control_features[key] = []\n",
    "            control_features[key].append(value)\n",
    "\n",
    "\n",
    "\n",
    "# Convert to DataFrame\n",
    "import pandas as pd\n",
    "control_features_df = pd.DataFrame(control_features)\n",
    "control_features_df"
   ],
   "id": "c6cec677d006acc8",
   "outputs": [
    {
     "name": "stderr",
     "output_type": "stream",
     "text": [
      "  0%|          | 1091/340896 [00:00<03:41, 1531.40it/s]/var/folders/lr/8ctpqx7n6m54ydpt525nf6q80000gn/T/ipykernel_42889/1587318265.py:57: RuntimeWarning: invalid value encountered in scalar divide\n",
      "  return (intersection / union)\n",
      "100%|██████████| 340896/340896 [03:34<00:00, 1588.70it/s]\n"
     ]
    },
    {
     "data": {
      "text/plain": [
       "                                sample_id             collection  \\\n",
       "0        4c15eca6bb1f673da443ffb105aaf147  lmd_batch_56_filtered   \n",
       "1        4c15eca6bb1f673da443ffb105aaf147  lmd_batch_56_filtered   \n",
       "2        4c15eca6bb1f673da443ffb105aaf147  lmd_batch_56_filtered   \n",
       "3        4c15eca6bb1f673da443ffb105aaf147  lmd_batch_56_filtered   \n",
       "4        4c15eca6bb1f673da443ffb105aaf147  lmd_batch_56_filtered   \n",
       "...                                   ...                    ...   \n",
       "1363579  2a0420c40862ea885271c77e63867d44  lmd_batch_01_filtered   \n",
       "1363580  2a0420c40862ea885271c77e63867d44  lmd_batch_01_filtered   \n",
       "1363581  2a0420c40862ea885271c77e63867d44  lmd_batch_01_filtered   \n",
       "1363582  2a0420c40862ea885271c77e63867d44  lmd_batch_01_filtered   \n",
       "1363583  2a0420c40862ea885271c77e63867d44  lmd_batch_01_filtered   \n",
       "\n",
       "         groove_to_output_hit_hamming_distance  \\\n",
       "0                                      0.18750   \n",
       "1                                      0.40625   \n",
       "2                                      0.12500   \n",
       "3                                      0.28125   \n",
       "4                                      0.21875   \n",
       "...                                        ...   \n",
       "1363579                                0.53125   \n",
       "1363580                                0.90625   \n",
       "1363581                                0.71875   \n",
       "1363582                                0.50000   \n",
       "1363583                                0.62500   \n",
       "\n",
       "         groove_to_output_accent_hamming_distance  \\\n",
       "0                                         0.37500   \n",
       "1                                         0.37500   \n",
       "2                                         0.37500   \n",
       "3                                         0.37500   \n",
       "4                                         0.25000   \n",
       "...                                           ...   \n",
       "1363579                                   0.28125   \n",
       "1363580                                   0.18750   \n",
       "1363581                                   0.18750   \n",
       "1363582                                   0.18750   \n",
       "1363583                                   0.18750   \n",
       "\n",
       "         out_stream_0_jaccard_sim_with_flat_out  \\\n",
       "0                                      0.250000   \n",
       "1                                      0.705882   \n",
       "2                                      0.857143   \n",
       "3                                      0.705882   \n",
       "4                                      0.250000   \n",
       "...                                         ...   \n",
       "1363579                                0.500000   \n",
       "1363580                                0.206897   \n",
       "1363581                                0.000000   \n",
       "1363582                                0.000000   \n",
       "1363583                                0.000000   \n",
       "\n",
       "         out_stream_1_jaccard_sim_with_flat_out  \\\n",
       "0                                      1.000000   \n",
       "1                                      0.941176   \n",
       "2                                      0.285714   \n",
       "3                                      0.235294   \n",
       "4                                      1.000000   \n",
       "...                                         ...   \n",
       "1363579                                1.000000   \n",
       "1363580                                0.551724   \n",
       "1363581                                0.551724   \n",
       "1363582                                0.230769   \n",
       "1363583                                0.375000   \n",
       "\n",
       "         out_stream_2_jaccard_sim_with_flat_out  \\\n",
       "0                                      0.500000   \n",
       "1                                      0.470588   \n",
       "2                                      0.571429   \n",
       "3                                      0.941176   \n",
       "4                                      0.500000   \n",
       "...                                         ...   \n",
       "1363579                                0.000000   \n",
       "1363580                                0.758621   \n",
       "1363581                                0.758621   \n",
       "1363582                                0.846154   \n",
       "1363583                                1.000000   \n",
       "\n",
       "         out_stream_0_accent_hamming_distance_with_flat_out  \\\n",
       "0                                                   0.3750    \n",
       "1                                                   0.3750    \n",
       "2                                                   0.0000    \n",
       "3                                                   0.3750    \n",
       "4                                                   0.3750    \n",
       "...                                                    ...    \n",
       "1363579                                             0.0000    \n",
       "1363580                                             0.0000    \n",
       "1363581                                             0.0000    \n",
       "1363582                                             0.1875    \n",
       "1363583                                             0.1875    \n",
       "\n",
       "         out_stream_1_accent_hamming_distance_with_flat_out  \\\n",
       "0                                                   0.0000    \n",
       "1                                                   0.0000    \n",
       "2                                                   0.0000    \n",
       "3                                                   0.3750    \n",
       "4                                                   0.0000    \n",
       "...                                                    ...    \n",
       "1363579                                             0.2500    \n",
       "1363580                                             0.1875    \n",
       "1363581                                             0.0000    \n",
       "1363582                                             0.0000    \n",
       "1363583                                             0.0000    \n",
       "\n",
       "         out_stream_2_accent_hamming_distance_with_flat_out  \n",
       "0                                                   0.3750   \n",
       "1                                                   0.3750   \n",
       "2                                                   0.0000   \n",
       "3                                                   0.0000   \n",
       "4                                                   0.3750   \n",
       "...                                                    ...   \n",
       "1363579                                             0.2500   \n",
       "1363580                                             0.1875   \n",
       "1363581                                             0.0000   \n",
       "1363582                                             0.1875   \n",
       "1363583                                             0.1875   \n",
       "\n",
       "[1363584 rows x 10 columns]"
      ],
      "text/html": [
       "<div>\n",
       "<style scoped>\n",
       "    .dataframe tbody tr th:only-of-type {\n",
       "        vertical-align: middle;\n",
       "    }\n",
       "\n",
       "    .dataframe tbody tr th {\n",
       "        vertical-align: top;\n",
       "    }\n",
       "\n",
       "    .dataframe thead th {\n",
       "        text-align: right;\n",
       "    }\n",
       "</style>\n",
       "<table border=\"1\" class=\"dataframe\">\n",
       "  <thead>\n",
       "    <tr style=\"text-align: right;\">\n",
       "      <th></th>\n",
       "      <th>sample_id</th>\n",
       "      <th>collection</th>\n",
       "      <th>groove_to_output_hit_hamming_distance</th>\n",
       "      <th>groove_to_output_accent_hamming_distance</th>\n",
       "      <th>out_stream_0_jaccard_sim_with_flat_out</th>\n",
       "      <th>out_stream_1_jaccard_sim_with_flat_out</th>\n",
       "      <th>out_stream_2_jaccard_sim_with_flat_out</th>\n",
       "      <th>out_stream_0_accent_hamming_distance_with_flat_out</th>\n",
       "      <th>out_stream_1_accent_hamming_distance_with_flat_out</th>\n",
       "      <th>out_stream_2_accent_hamming_distance_with_flat_out</th>\n",
       "    </tr>\n",
       "  </thead>\n",
       "  <tbody>\n",
       "    <tr>\n",
       "      <th>0</th>\n",
       "      <td>4c15eca6bb1f673da443ffb105aaf147</td>\n",
       "      <td>lmd_batch_56_filtered</td>\n",
       "      <td>0.18750</td>\n",
       "      <td>0.37500</td>\n",
       "      <td>0.250000</td>\n",
       "      <td>1.000000</td>\n",
       "      <td>0.500000</td>\n",
       "      <td>0.3750</td>\n",
       "      <td>0.0000</td>\n",
       "      <td>0.3750</td>\n",
       "    </tr>\n",
       "    <tr>\n",
       "      <th>1</th>\n",
       "      <td>4c15eca6bb1f673da443ffb105aaf147</td>\n",
       "      <td>lmd_batch_56_filtered</td>\n",
       "      <td>0.40625</td>\n",
       "      <td>0.37500</td>\n",
       "      <td>0.705882</td>\n",
       "      <td>0.941176</td>\n",
       "      <td>0.470588</td>\n",
       "      <td>0.3750</td>\n",
       "      <td>0.0000</td>\n",
       "      <td>0.3750</td>\n",
       "    </tr>\n",
       "    <tr>\n",
       "      <th>2</th>\n",
       "      <td>4c15eca6bb1f673da443ffb105aaf147</td>\n",
       "      <td>lmd_batch_56_filtered</td>\n",
       "      <td>0.12500</td>\n",
       "      <td>0.37500</td>\n",
       "      <td>0.857143</td>\n",
       "      <td>0.285714</td>\n",
       "      <td>0.571429</td>\n",
       "      <td>0.0000</td>\n",
       "      <td>0.0000</td>\n",
       "      <td>0.0000</td>\n",
       "    </tr>\n",
       "    <tr>\n",
       "      <th>3</th>\n",
       "      <td>4c15eca6bb1f673da443ffb105aaf147</td>\n",
       "      <td>lmd_batch_56_filtered</td>\n",
       "      <td>0.28125</td>\n",
       "      <td>0.37500</td>\n",
       "      <td>0.705882</td>\n",
       "      <td>0.235294</td>\n",
       "      <td>0.941176</td>\n",
       "      <td>0.3750</td>\n",
       "      <td>0.3750</td>\n",
       "      <td>0.0000</td>\n",
       "    </tr>\n",
       "    <tr>\n",
       "      <th>4</th>\n",
       "      <td>4c15eca6bb1f673da443ffb105aaf147</td>\n",
       "      <td>lmd_batch_56_filtered</td>\n",
       "      <td>0.21875</td>\n",
       "      <td>0.25000</td>\n",
       "      <td>0.250000</td>\n",
       "      <td>1.000000</td>\n",
       "      <td>0.500000</td>\n",
       "      <td>0.3750</td>\n",
       "      <td>0.0000</td>\n",
       "      <td>0.3750</td>\n",
       "    </tr>\n",
       "    <tr>\n",
       "      <th>...</th>\n",
       "      <td>...</td>\n",
       "      <td>...</td>\n",
       "      <td>...</td>\n",
       "      <td>...</td>\n",
       "      <td>...</td>\n",
       "      <td>...</td>\n",
       "      <td>...</td>\n",
       "      <td>...</td>\n",
       "      <td>...</td>\n",
       "      <td>...</td>\n",
       "    </tr>\n",
       "    <tr>\n",
       "      <th>1363579</th>\n",
       "      <td>2a0420c40862ea885271c77e63867d44</td>\n",
       "      <td>lmd_batch_01_filtered</td>\n",
       "      <td>0.53125</td>\n",
       "      <td>0.28125</td>\n",
       "      <td>0.500000</td>\n",
       "      <td>1.000000</td>\n",
       "      <td>0.000000</td>\n",
       "      <td>0.0000</td>\n",
       "      <td>0.2500</td>\n",
       "      <td>0.2500</td>\n",
       "    </tr>\n",
       "    <tr>\n",
       "      <th>1363580</th>\n",
       "      <td>2a0420c40862ea885271c77e63867d44</td>\n",
       "      <td>lmd_batch_01_filtered</td>\n",
       "      <td>0.90625</td>\n",
       "      <td>0.18750</td>\n",
       "      <td>0.206897</td>\n",
       "      <td>0.551724</td>\n",
       "      <td>0.758621</td>\n",
       "      <td>0.0000</td>\n",
       "      <td>0.1875</td>\n",
       "      <td>0.1875</td>\n",
       "    </tr>\n",
       "    <tr>\n",
       "      <th>1363581</th>\n",
       "      <td>2a0420c40862ea885271c77e63867d44</td>\n",
       "      <td>lmd_batch_01_filtered</td>\n",
       "      <td>0.71875</td>\n",
       "      <td>0.18750</td>\n",
       "      <td>0.000000</td>\n",
       "      <td>0.551724</td>\n",
       "      <td>0.758621</td>\n",
       "      <td>0.0000</td>\n",
       "      <td>0.0000</td>\n",
       "      <td>0.0000</td>\n",
       "    </tr>\n",
       "    <tr>\n",
       "      <th>1363582</th>\n",
       "      <td>2a0420c40862ea885271c77e63867d44</td>\n",
       "      <td>lmd_batch_01_filtered</td>\n",
       "      <td>0.50000</td>\n",
       "      <td>0.18750</td>\n",
       "      <td>0.000000</td>\n",
       "      <td>0.230769</td>\n",
       "      <td>0.846154</td>\n",
       "      <td>0.1875</td>\n",
       "      <td>0.0000</td>\n",
       "      <td>0.1875</td>\n",
       "    </tr>\n",
       "    <tr>\n",
       "      <th>1363583</th>\n",
       "      <td>2a0420c40862ea885271c77e63867d44</td>\n",
       "      <td>lmd_batch_01_filtered</td>\n",
       "      <td>0.62500</td>\n",
       "      <td>0.18750</td>\n",
       "      <td>0.000000</td>\n",
       "      <td>0.375000</td>\n",
       "      <td>1.000000</td>\n",
       "      <td>0.1875</td>\n",
       "      <td>0.0000</td>\n",
       "      <td>0.1875</td>\n",
       "    </tr>\n",
       "  </tbody>\n",
       "</table>\n",
       "<p>1363584 rows × 10 columns</p>\n",
       "</div>"
      ]
     },
     "execution_count": 8,
     "metadata": {},
     "output_type": "execute_result"
    }
   ],
   "execution_count": 8
  },
  {
   "metadata": {
    "ExecuteTime": {
     "end_time": "2025-08-01T13:59:41.055466Z",
     "start_time": "2025-08-01T11:24:26.378429Z"
    }
   },
   "cell_type": "code",
   "source": [
    "import numpy as np\n",
    "# box plot import\n",
    "\n",
    "n_bins = 8\n",
    "valid_values = np.linspace(0, 1, n_bins)\n",
    "# get unique hit hamming distances\n",
    "hit_hamming_values = sorted(set(control_features_df[\"groove_to_output_hit_hamming_distance\"].values))\n",
    "\n",
    "accent_hamming_values_per_hit_hamming = {float(hit_hamming_value): [] for hit_hamming_value in hit_hamming_values}\n",
    "for key in accent_hamming_values_per_hit_hamming.keys():\n",
    "    accent_hamming_values_per_hit_hamming[key] = control_features_df[control_features_df[\"groove_to_output_hit_hamming_distance\"] == key].groove_to_output_accent_hamming_distance.values\n",
    "    # get box plot stats\n",
    "    lower_bound = np.sort(accent_hamming_values_per_hit_hamming[key])[10]\n",
    "    upper_bound = min(np.sort(accent_hamming_values_per_hit_hamming[key])[-20], 1.0)  # upper bound is the 20th largest value or 1.0\n",
    "\n",
    "    if \"accent_hamming_values_per_hit_hamming_normalized\" not in control_features_df.columns:\n",
    "        control_features_df[\"accent_hamming_values_per_hit_hamming_normalized\"] = np.nan\n",
    "\n",
    "    # strech so that lower bound is 0 and upper bound is 1, then clip to 0-1 range\n",
    "    if lower_bound < 0.1:\n",
    "        lower_bound = 0.\n",
    "    control_features_df.loc[control_features_df[\"groove_to_output_hit_hamming_distance\"] == key, \"accent_hamming_values_per_hit_hamming_normalized\"] = \\\n",
    "        np.clip((control_features_df.loc[control_features_df[\"groove_to_output_hit_hamming_distance\"] == key, \"groove_to_output_accent_hamming_distance\"] - lower_bound) / (upper_bound - lower_bound), 0, 1)\n",
    "\n",
    "# change normalized values to the closest valid value\n",
    "control_features_df[\"accent_hamming_values_per_hit_hamming_normalized\"] = control_features_df[\"accent_hamming_values_per_hit_hamming_normalized\"].apply(\n",
    "    lambda x: valid_values[np.argmin(np.abs(valid_values - x))] if not np.isnan(x) else np.nan)\n",
    "# print the first 10 rows of the control features DataFrame\n",
    "\n",
    "# print new normalized column, vs original\n",
    "control_features_df[[\"groove_to_output_hit_hamming_distance\", \"groove_to_output_accent_hamming_distance\", \"accent_hamming_values_per_hit_hamming_normalized\"]].head(10)\n"
   ],
   "id": "c16cb9638521dfe2",
   "outputs": [
    {
     "data": {
      "text/plain": [
       "   groove_to_output_hit_hamming_distance  \\\n",
       "0                                0.18750   \n",
       "1                                0.40625   \n",
       "2                                0.12500   \n",
       "3                                0.28125   \n",
       "4                                0.21875   \n",
       "5                                0.43750   \n",
       "6                                0.18750   \n",
       "7                                0.31250   \n",
       "8                                0.15625   \n",
       "9                                0.40625   \n",
       "\n",
       "   groove_to_output_accent_hamming_distance  \\\n",
       "0                                   0.37500   \n",
       "1                                   0.37500   \n",
       "2                                   0.37500   \n",
       "3                                   0.37500   \n",
       "4                                   0.25000   \n",
       "5                                   0.37500   \n",
       "6                                   0.25000   \n",
       "7                                   0.37500   \n",
       "8                                   0.34375   \n",
       "9                                   0.34375   \n",
       "\n",
       "   accent_hamming_values_per_hit_hamming_normalized  \n",
       "0                                          0.428571  \n",
       "1                                          0.428571  \n",
       "2                                          0.428571  \n",
       "3                                          0.428571  \n",
       "4                                          0.285714  \n",
       "5                                          0.428571  \n",
       "6                                          0.285714  \n",
       "7                                          0.428571  \n",
       "8                                          0.428571  \n",
       "9                                          0.285714  "
      ],
      "text/html": [
       "<div>\n",
       "<style scoped>\n",
       "    .dataframe tbody tr th:only-of-type {\n",
       "        vertical-align: middle;\n",
       "    }\n",
       "\n",
       "    .dataframe tbody tr th {\n",
       "        vertical-align: top;\n",
       "    }\n",
       "\n",
       "    .dataframe thead th {\n",
       "        text-align: right;\n",
       "    }\n",
       "</style>\n",
       "<table border=\"1\" class=\"dataframe\">\n",
       "  <thead>\n",
       "    <tr style=\"text-align: right;\">\n",
       "      <th></th>\n",
       "      <th>groove_to_output_hit_hamming_distance</th>\n",
       "      <th>groove_to_output_accent_hamming_distance</th>\n",
       "      <th>accent_hamming_values_per_hit_hamming_normalized</th>\n",
       "    </tr>\n",
       "  </thead>\n",
       "  <tbody>\n",
       "    <tr>\n",
       "      <th>0</th>\n",
       "      <td>0.18750</td>\n",
       "      <td>0.37500</td>\n",
       "      <td>0.428571</td>\n",
       "    </tr>\n",
       "    <tr>\n",
       "      <th>1</th>\n",
       "      <td>0.40625</td>\n",
       "      <td>0.37500</td>\n",
       "      <td>0.428571</td>\n",
       "    </tr>\n",
       "    <tr>\n",
       "      <th>2</th>\n",
       "      <td>0.12500</td>\n",
       "      <td>0.37500</td>\n",
       "      <td>0.428571</td>\n",
       "    </tr>\n",
       "    <tr>\n",
       "      <th>3</th>\n",
       "      <td>0.28125</td>\n",
       "      <td>0.37500</td>\n",
       "      <td>0.428571</td>\n",
       "    </tr>\n",
       "    <tr>\n",
       "      <th>4</th>\n",
       "      <td>0.21875</td>\n",
       "      <td>0.25000</td>\n",
       "      <td>0.285714</td>\n",
       "    </tr>\n",
       "    <tr>\n",
       "      <th>5</th>\n",
       "      <td>0.43750</td>\n",
       "      <td>0.37500</td>\n",
       "      <td>0.428571</td>\n",
       "    </tr>\n",
       "    <tr>\n",
       "      <th>6</th>\n",
       "      <td>0.18750</td>\n",
       "      <td>0.25000</td>\n",
       "      <td>0.285714</td>\n",
       "    </tr>\n",
       "    <tr>\n",
       "      <th>7</th>\n",
       "      <td>0.31250</td>\n",
       "      <td>0.37500</td>\n",
       "      <td>0.428571</td>\n",
       "    </tr>\n",
       "    <tr>\n",
       "      <th>8</th>\n",
       "      <td>0.15625</td>\n",
       "      <td>0.34375</td>\n",
       "      <td>0.428571</td>\n",
       "    </tr>\n",
       "    <tr>\n",
       "      <th>9</th>\n",
       "      <td>0.40625</td>\n",
       "      <td>0.34375</td>\n",
       "      <td>0.285714</td>\n",
       "    </tr>\n",
       "  </tbody>\n",
       "</table>\n",
       "</div>"
      ]
     },
     "execution_count": 9,
     "metadata": {},
     "output_type": "execute_result"
    }
   ],
   "execution_count": 9
  },
  {
   "metadata": {
    "ExecuteTime": {
     "end_time": "2025-08-01T13:59:41.056548Z",
     "start_time": "2025-08-01T11:24:28.410166Z"
    }
   },
   "cell_type": "code",
   "source": [
    "plot_scatter_input_output_distribution(control_features_df, use_normalized_accents=False)\n",
    "plot_scatter_input_output_distribution(control_features_df, use_normalized_accents=True)"
   ],
   "id": "31dd2d7b4699e779",
   "outputs": [
    {
     "data": {
      "text/plain": [
       "<Figure size 600x400 with 1 Axes>"
      ],
      "image/png": "[encoded data removed]"
     },
     "metadata": {},
     "output_type": "display_data"
    },
    {
     "data": {
      "text/plain": [
       "<Figure size 600x400 with 1 Axes>"
      ],
      "image/png": "[encoded data removed]"
     },
     "metadata": {},
     "output_type": "display_data"
    }
   ],
   "execution_count": 10
  },
  {
   "metadata": {
    "ExecuteTime": {
     "end_time": "2025-08-01T13:59:41.056713Z",
     "start_time": "2025-08-01T11:24:29.477930Z"
    }
   },
   "cell_type": "code",
   "source": [
    "\n",
    "# get all available collections\n",
    "collections = control_features_df[\"collection\"].unique()\n",
    "print(f\"Available collections: {collections}\")\n",
    "# exclude groove_midi\n",
    "df_subset = control_features_df[control_features_df[\"collection\"] == \"lmd_batch_60\"]\n",
    "plot_scatter_input_output_distribution(df_subset, use_normalized_accents=False)\n",
    "df_subset = control_features_df[control_features_df[\"collection\"] == \"lmd_batch_60\"]\n",
    "plot_scatter_input_output_distribution(df_subset, use_normalized_accents=True)\n",
    "# df_subset = control_features_df[control_features_df[\"collection\"] == \"elbg\"]\n",
    "# plot_scatter_input_output_distribution(df_subset, use_normalized_accents=False)\n",
    "# df_subset = control_features_df[control_features_df[\"collection\"] == \"candombe\"]\n",
    "# plot_scatter_input_output_distribution(df_subset, use_normalized_accents=False)\n",
    "# df_subset = control_features_df[control_features_df[\"collection\"] == \"taptamdrum_hvo_output_both_is_and\"]\n",
    "# plot_scatter_input_output_distribution(df_subset, use_normalized_accents=False)\n",
    "# df_subset = control_features_df[control_features_df[\"collection\"] == \"groove_midi\"]\n",
    "# plot_scatter_input_output_distribution(df_subset, use_normalized_accents=False)\n"
   ],
   "id": "12f7addd6f52b8aa",
   "outputs": [
    {
     "name": "stdout",
     "output_type": "stream",
     "text": [
      "Available collections: ['lmd_batch_56_filtered' 'lmd_batch_33_filtered' 'lmd_batch_12_filtered'\n",
      " 'lmd_batch_49_filtered' 'lmd_batch_06_filtered' 'lmd_batch_38_filtered'\n",
      " 'lmd_batch_42_filtered' 'lmd_batch_19_filtered' 'lmd_batch_27_filtered'\n",
      " 'lmd_batch_46_filtered' 'lmd_batch_23_filtered' 'lmd_batch_02_filtered'\n",
      " 'lmd_batch_59_filtered' 'lmd_batch_28_filtered' 'lmd_batch_16_filtered'\n",
      " 'lmd_batch_52_filtered' 'lmd_batch_37_filtered' 'lmd_batch_09_filtered'\n",
      " 'lmd_batch_48_filtered' 'lmd_batch_13_filtered' 'lmd_batch_32_filtered'\n",
      " 'lmd_batch_57_filtered' 'lmd_batch_18_filtered' 'lmd_batch_26_filtered'\n",
      " 'lmd_batch_43_filtered' 'lmd_batch_07_filtered' 'lmd_batch_39_filtered'\n",
      " 'lmd_batch_58_filtered' 'lmd_batch_03_filtered' 'lmd_batch_22_filtered'\n",
      " 'lmd_batch_47_filtered' 'lmd_batch_36_filtered' 'lmd_batch_08_filtered'\n",
      " 'lmd_batch_53_filtered' 'lmd_batch_29_filtered' 'lmd_batch_17_filtered'\n",
      " 'lmd_batch_25_filtered' 'lmd_batch_40_filtered' 'lmd_batch_04_filtered'\n",
      " 'lmd_batch_10_filtered' 'lmd_batch_31_filtered' 'lmd_batch_54_filtered'\n",
      " 'lmd_batch_35_filtered' 'lmd_batch_50_filtered' 'lmd_batch_14_filtered'\n",
      " 'lmd_batch_21_filtered' 'lmd_batch_44_filtered' 'lmd_batch_05_filtered'\n",
      " 'lmd_batch_60_filtered' 'lmd_batch_41_filtered' 'lmd_batch_24_filtered'\n",
      " 'lmd_batch_55_filtered' 'lmd_batch_30_filtered' 'lmd_batch_11_filtered'\n",
      " 'lmd_batch_15_filtered' 'lmd_batch_51_filtered' 'lmd_batch_34_filtered'\n",
      " 'lmd_batch_45_filtered' 'lmd_batch_20_filtered' 'lmd_batch_01_filtered']\n"
     ]
    },
    {
     "data": {
      "text/plain": [
       "<Figure size 600x400 with 1 Axes>"
      ],
      "image/png": "[encoded data removed]"
     },
     "metadata": {},
     "output_type": "display_data"
    },
    {
     "data": {
      "text/plain": [
       "<Figure size 600x400 with 1 Axes>"
      ],
      "image/png": "[encoded data removed]"
     },
     "metadata": {},
     "output_type": "display_data"
    }
   ],
   "execution_count": 11
  },
  {
   "metadata": {
    "ExecuteTime": {
     "end_time": "2025-08-01T13:59:41.057181Z",
     "start_time": "2025-08-01T11:24:29.704483Z"
    }
   },
   "cell_type": "code",
   "source": "plot_control_features_violin(control_features_df)\n",
   "id": "450a0fdb87a76f7f",
   "outputs": [
    {
     "data": {
      "text/plain": [
       "<Figure size 600x800 with 1 Axes>"
      ],
      "image/png": "[encoded data removed]"
     },
     "metadata": {},
     "output_type": "display_data"
    }
   ],
   "execution_count": 12
  },
  {
   "metadata": {
    "ExecuteTime": {
     "end_time": "2025-08-01T13:59:41.058065Z",
     "start_time": "2025-08-01T11:24:47.352268Z"
    }
   },
   "cell_type": "code",
   "source": "",
   "id": "b47a22f9f709a401",
   "outputs": [],
   "execution_count": null
  },
  {
   "metadata": {
    "ExecuteTime": {
     "end_time": "2025-08-01T13:59:41.058299Z",
     "start_time": "2025-08-01T11:24:47.355716Z"
    }
   },
   "cell_type": "code",
   "source": [
    "# plot histogram of Accent hamming for hit distance of n (actual distance will be n*1./31.)\n",
    "def plot_histogram_accent_hamming_distance(control_features_df, hit_hamming_distance_index=0):\n",
    "    \"\"\"\n",
    "    Plot histogram of accent hamming distance for hit distance of n (actual distance will be n*1./32.)\n",
    "    :param control_features_df: pd.DataFrame\n",
    "        DataFrame containing the control features.\n",
    "    :param hit_hamming_distance_index: int\n",
    "        The index of the hit hamming distance to plot.\n",
    "    \"\"\"\n",
    "    plt.figure(figsize=(6, 4))\n",
    "    hit_hamming_distance = control_features_df[\"groove_to_output_hit_hamming_distance\"]\n",
    "    accent_hamming_distance = control_features_df[\"groove_to_output_accent_hamming_distance\"]\n",
    "\n",
    "    plt.hist(accent_hamming_distance[hit_hamming_distance == hit_hamming_distance_index/32.0], bins=30, alpha=0.7)\n",
    "    plt.xlabel(\"Accent Hamming Distance\")\n",
    "    plt.ylabel(\"Frequency\")\n",
    "    plt.title(f\"Histogram of Accent Hamming Distance for Hit Distance {hit_hamming_distance_index}\")\n",
    "    plt.tight_layout()\n",
    "    plt.show()\n",
    "\n",
    "# create a grid of 4 x 8 figures with the histogram of accent hamming distance for hit distance of n (actual distance will be n*1./32.)\n",
    "def plot_histogram_accent_hamming_distance_grid(control_features_df, hit_hamming_distance_index=0):\n",
    "    \"\"\"\n",
    "    Plot histogram of accent hamming distance for hit distance of n (actual distance will be n*1./32.)\n",
    "    :param control_features_df: pd.DataFrame\n",
    "        DataFrame containing the control features.\n",
    "    :param hit_hamming_distance_index: int\n",
    "        The index of the hit hamming distance to plot.\n",
    "    \"\"\"\n",
    "    fig, axs = plt.subplots(4, 8, figsize=(16, 8))\n",
    "    axs = axs.flatten()\n",
    "\n",
    "    for i in range(32):\n",
    "        hit_hamming_distance = control_features_df[\"groove_to_output_hit_hamming_distance\"]\n",
    "        accent_hamming_distance = control_features_df[\"groove_to_output_accent_hamming_distance\"]\n",
    "\n",
    "        axs[i].hist(accent_hamming_distance[hit_hamming_distance == i/32.0], bins=30, alpha=0.7)\n",
    "        axs[i].set_xlabel(\"Accent Hamming Distance\")\n",
    "        axs[i].set_ylabel(\"Frequency\")\n",
    "        axs[i].set_title(f\"Hit Distance {i}\")\n",
    "\n",
    "    plt.tight_layout()\n",
    "    plt.show()"
   ],
   "id": "f581080cd5581786",
   "outputs": [],
   "execution_count": 13
  },
  {
   "metadata": {
    "ExecuteTime": {
     "end_time": "2025-08-01T13:59:41.058540Z",
     "start_time": "2025-08-01T11:24:47.366197Z"
    }
   },
   "cell_type": "code",
   "source": "",
   "id": "dc182aaa72f124f3",
   "outputs": [],
   "execution_count": null
  },
  {
   "metadata": {
    "ExecuteTime": {
     "end_time": "2025-08-01T13:59:41.058687Z",
     "start_time": "2025-08-01T11:24:47.376089Z"
    }
   },
   "cell_type": "code",
   "source": [
    "\n",
    "plot_histogram_accent_hamming_distance_grid(control_features_df, hit_hamming_distance_index=32)\n"
   ],
   "id": "d556e7e6c155a224",
   "outputs": [
    {
     "data": {
      "text/plain": [
       "<Figure size 1600x800 with 32 Axes>"
      ],
      "image/png": "[encoded data removed]"
     },
     "metadata": {},
     "output_type": "display_data"
    }
   ],
   "execution_count": 14
  },
  {
   "metadata": {
    "ExecuteTime": {
     "end_time": "2025-08-01T13:59:41.058821Z",
     "start_time": "2025-08-01T11:24:48.733001Z"
    }
   },
   "cell_type": "code",
   "source": [
    "import pandas as pd\n",
    "import plotly.graph_objects as go\n",
    "import plotly.express as px\n",
    "import numpy as np\n",
    "\n",
    "def create_heatmap_histogram(df, key1, key2, bins=None, title=None, exclude_pairs=None,\n",
    "                           show_zeros=False):\n",
    "    \"\"\"\n",
    "    Creates an interactive heatmap histogram from a DataFrame using two keys.\n",
    "    Shows frequency counts in each cell like a confusion matrix.\n",
    "\n",
    "    Parameters:\n",
    "    -----------\n",
    "    df : pandas.DataFrame\n",
    "        The input dataframe\n",
    "    key1 : str\n",
    "        Column name for x-axis\n",
    "    key2 : str\n",
    "        Column name for y-axis\n",
    "    bins : int, tuple, or None, optional\n",
    "        Number of bins for each dimension. If None (default), uses all unique values\n",
    "    title : str, optional\n",
    "        Plot title (default: auto-generated)\n",
    "    exclude_pairs : list of tuples or tuple, optional\n",
    "        Specific (key1, key2) value pairs to exclude from calculations\n",
    "        e.g., [(10, 20), (15, 25)] or (10, 20) for single exclusion\n",
    "    show_zeros : bool, optional\n",
    "        Whether to show 0 counts in cells (default: False)\n",
    "\n",
    "    Returns:\n",
    "    --------\n",
    "    plotly.graph_objects.Figure\n",
    "        Interactive heatmap with counts\n",
    "    \"\"\"\n",
    "\n",
    "    # Create a copy to avoid modifying original dataframe\n",
    "    df_filtered = df.copy()\n",
    "\n",
    "    # Handle exclusions\n",
    "    if exclude_pairs is not None:\n",
    "        # Convert single tuple to list of tuples\n",
    "        if isinstance(exclude_pairs, tuple):\n",
    "            exclude_pairs = [exclude_pairs]\n",
    "\n",
    "        # Create boolean mask for rows to keep\n",
    "        mask = pd.Series([True] * len(df_filtered), index=df_filtered.index)\n",
    "\n",
    "        for pair in exclude_pairs:\n",
    "            if len(pair) != 2:\n",
    "                raise ValueError(\"Each exclusion pair must contain exactly 2 values\")\n",
    "\n",
    "            exclude_mask = (df_filtered[key1] == pair[0]) & (df_filtered[key2] == pair[1])\n",
    "            mask = mask & ~exclude_mask\n",
    "\n",
    "            # Print info about excluded points\n",
    "            excluded_count = exclude_mask.sum()\n",
    "            if excluded_count > 0:\n",
    "                print(f\"Excluded {excluded_count} points with ({key1}={pair[0]}, {key2}={pair[1]})\")\n",
    "\n",
    "        # Apply the mask\n",
    "        df_filtered = df_filtered[mask]\n",
    "        print(f\"Total rows after exclusions: {len(df_filtered)} (original: {len(df)})\")\n",
    "\n",
    "    # Extract data for the two keys and remove NaN values\n",
    "    valid_data = df_filtered[[key1, key2]].dropna()\n",
    "    x_data = valid_data[key1]\n",
    "    y_data = valid_data[key2]\n",
    "\n",
    "    if len(x_data) == 0:\n",
    "        print(\"Warning: No valid data points remaining after exclusions and NaN removal\")\n",
    "        return None\n",
    "\n",
    "    # Handle bins=None case (use unique values)\n",
    "    if bins is None:\n",
    "        # Create cross-tabulation using unique values\n",
    "        crosstab = pd.crosstab(y_data, x_data, dropna=False)\n",
    "\n",
    "        # Get sorted unique values for consistent ordering\n",
    "        x_values = sorted(x_data.unique())\n",
    "        y_values = sorted(y_data.unique())\n",
    "\n",
    "        # Reindex to ensure all values are present\n",
    "        crosstab = crosstab.reindex(index=y_values, columns=x_values, fill_value=0)\n",
    "\n",
    "        # Create labels (convert to string for display)\n",
    "        x_labels = [str(x) for x in x_values]\n",
    "        y_labels = [str(y) for y in y_values]\n",
    "\n",
    "        # Get the count matrix\n",
    "        count_matrix = crosstab.values\n",
    "\n",
    "    else:\n",
    "        # Use binning approach for numeric bins\n",
    "        # Create 2D histogram using numpy\n",
    "        hist, x_edges, y_edges = np.histogram2d(x_data, y_data, bins=bins)\n",
    "\n",
    "        # Create bin labels for better readability\n",
    "        x_labels = []\n",
    "        for i in range(len(x_edges) - 1):\n",
    "            x_labels.append(f\"{x_edges[i]:.1f}-{x_edges[i+1]:.1f}\")\n",
    "\n",
    "        y_labels = []\n",
    "        for i in range(len(y_edges) - 1):\n",
    "            y_labels.append(f\"{y_edges[i]:.1f}-{y_edges[i+1]:.1f}\")\n",
    "\n",
    "        # Transpose histogram for correct orientation\n",
    "        count_matrix = hist.T\n",
    "\n",
    "    # Create text annotations for each cell (showing the count)\n",
    "    text_annotations = []\n",
    "    for i in range(len(y_labels)):\n",
    "        row = []\n",
    "        for j in range(len(x_labels)):\n",
    "            count = int(count_matrix[i, j])\n",
    "            if count > 0 or show_zeros:\n",
    "                row.append(str(count))\n",
    "            else:\n",
    "                row.append(\"\")  # Don't show 0s for cleaner look unless requested\n",
    "        text_annotations.append(row)\n",
    "\n",
    "    # Create the heatmap\n",
    "    fig = go.Figure(data=go.Heatmap(\n",
    "        z=count_matrix,\n",
    "        x=x_labels,\n",
    "        y=y_labels,\n",
    "        text=text_annotations,\n",
    "        texttemplate=\"%{text}\",\n",
    "        textfont={\"size\": max(8, min(12, 300 // max(len(x_labels), len(y_labels))))},  # Dynamic font size\n",
    "        colorscale='Plasma', # 'YlGnBu', 'Cividis', 'Plasma', 'Inferno', 'Magma'\n",
    "        showscale=True,\n",
    "        colorbar=dict(title=\"Count\"),\n",
    "        hovertemplate=f'{key1}: %{{x}}<br>{key2}: %{{y}}<br>Count: %{{z}}<extra></extra>'\n",
    "    ))\n",
    "\n",
    "    # Update layout\n",
    "    if title is None:\n",
    "        exclusion_info = f\" (Excluded {len(exclude_pairs)} pairs)\" if exclude_pairs else \"\"\n",
    "        bins_info = \"All unique values\" if bins is None else f\"{bins} bins\"\n",
    "        title = f'Heatmap: {key1} vs {key2} ({bins_info}){exclusion_info}'\n",
    "\n",
    "    # Dynamic sizing based on number of categories\n",
    "    plot_width = max(600, len(x_labels) * 40)\n",
    "    plot_height = max(400, len(y_labels) * 30)\n",
    "\n",
    "    fig.update_layout(\n",
    "        title=title,\n",
    "        xaxis_title=key1,\n",
    "        yaxis_title=key2,\n",
    "        width=min(plot_width, 1200),  # Cap maximum width\n",
    "        height=min(plot_height, 800), # Cap maximum height\n",
    "        xaxis=dict(tickangle=45 if len(x_labels) > 10 else 0),\n",
    "        yaxis=dict(tickangle=0)\n",
    "    )\n",
    "\n",
    "    return fig\n",
    "\n",
    "def create_binned_heatmap_histogram(df, key1, key2, bins=20, title=None, exclude_pairs=None,\n",
    "                                  show_zeros=False):\n",
    "    \"\"\"\n",
    "    Creates a heatmap for continuous data with explicit binning.\n",
    "    This is the old behavior when you specifically want to bin continuous data.\n",
    "\n",
    "    Parameters are the same as create_heatmap_histogram but bins defaults to 20.\n",
    "    \"\"\"\n",
    "    return create_heatmap_histogram(df, key1, key2, bins=bins, title=title,\n",
    "                                  exclude_pairs=exclude_pairs, show_zeros=show_zeros)\n",
    "\n",
    "# Helper function to check data characteristics\n",
    "def analyze_data_for_binning(df, key1, key2):\n",
    "    \"\"\"\n",
    "    Analyzes the data to suggest whether binning might be needed.\n",
    "\n",
    "    Returns:\n",
    "    --------\n",
    "    dict: Information about the data characteristics\n",
    "    \"\"\"\n",
    "    x_data = df[key1].dropna()\n",
    "    y_data = df[key2].dropna()\n",
    "\n",
    "    x_unique_count = x_data.nunique()\n",
    "    y_unique_count = y_data.nunique()\n",
    "\n",
    "    x_is_numeric = pd.api.types.is_numeric_dtype(x_data)\n",
    "    y_is_numeric = pd.api.types.is_numeric_dtype(y_data)\n",
    "\n",
    "    analysis = {\n",
    "        'x_unique_count': x_unique_count,\n",
    "        'y_unique_count': y_unique_count,\n",
    "        'x_is_numeric': x_is_numeric,\n",
    "        'y_is_numeric': y_is_numeric,\n",
    "        'total_combinations': x_unique_count * y_unique_count,\n",
    "        'data_points': len(df[[key1, key2]].dropna())\n",
    "    }\n",
    "\n",
    "    # Suggestions\n",
    "    if analysis['total_combinations'] > 100:\n",
    "        analysis['suggestion'] = f\"Consider using bins (e.g., bins=20) as you have {analysis['total_combinations']} unique combinations\"\n",
    "    elif analysis['total_combinations'] > 50:\n",
    "        analysis['suggestion'] = \"Data might benefit from binning for cleaner visualization\"\n",
    "    else:\n",
    "        analysis['suggestion'] = \"Using unique values (bins=None) should work well\"\n",
    "\n",
    "    return analysis\n",
    "\n",
    "# Example usage:\n",
    "\"\"\"\n",
    "import pandas as pd\n",
    "import numpy as np\n",
    "\n",
    "# Example 1: Discrete/Categorical data (bins=None works great)\n",
    "np.random.seed(42)\n",
    "df_discrete = pd.DataFrame({\n",
    "    'department': np.random.choice(['Sales', 'Engineering', 'Marketing', 'HR'], 500),\n",
    "    'rating': np.random.choice([1, 2, 3, 4, 5], 500),\n",
    "    'experience': np.random.choice(['Junior', 'Mid', 'Senior'], 500)\n",
    "})\n",
    "\n",
    "# This will use all unique values automatically\n",
    "fig1 = create_heatmap_histogram(df_discrete, 'department', 'rating',\n",
    "                               title='Department vs Rating (All Unique Values)')\n",
    "fig1.show()\n",
    "\n",
    "# Example 2: Continuous data with bins=None (might create many unique values)\n",
    "df_continuous = pd.DataFrame({\n",
    "    'height': np.random.normal(170, 10, 1000),\n",
    "    'weight': np.random.normal(70, 15, 1000),\n",
    "    'age': np.random.randint(18, 80, 1000)\n",
    "})\n",
    "\n",
    "# Check data characteristics first\n",
    "analysis = analyze_data_for_binning(df_continuous, 'height', 'weight')\n",
    "print(\"Data analysis:\", analysis)\n",
    "\n",
    "# This might create a very sparse heatmap due to many unique float values\n",
    "fig2 = create_heatmap_histogram(df_continuous, 'height', 'weight',\n",
    "                               title='Height vs Weight (All Unique Values - Might be Sparse)')\n",
    "\n",
    "# Better approach for continuous data - use binning\n",
    "fig3 = create_heatmap_histogram(df_continuous, 'height', 'weight', bins=15,\n",
    "                               title='Height vs Weight (15x15 bins)')\n",
    "fig3.show()\n",
    "\n",
    "# Example 3: Integer data works well with bins=None\n",
    "df_integers = pd.DataFrame({\n",
    "    'score1': np.random.randint(0, 11, 1000),  # 0-10 score\n",
    "    'score2': np.random.randint(0, 11, 1000),  # 0-10 score\n",
    "    'category': np.random.choice(['A', 'B', 'C'], 1000)\n",
    "})\n",
    "\n",
    "fig4 = create_heatmap_histogram(df_integers, 'score1', 'score2',\n",
    "                               title='Score1 vs Score2 (Integer Values)')\n",
    "fig4.show()\n",
    "\n",
    "# Example 4: With exclusions\n",
    "fig5 = create_heatmap_histogram(df_discrete, 'department', 'rating',\n",
    "                               exclude_pairs=[('Sales', 5), ('HR', 1)],\n",
    "                               show_zeros=True,\n",
    "                               title='Department vs Rating (With Exclusions)')\n",
    "fig5.show()\n",
    "\"\"\"\n",
    "\n",
    "create_heatmap_histogram(control_features_df,\n",
    "                         key1=\"groove_to_output_hit_hamming_distance\",\n",
    "                         key2=\"groove_to_output_accent_hamming_distance\",\n",
    "                         bins=None,\n",
    "                         title=\"Heatmap Histogram of Groove to Output Hit Hamming Distance vs Accent Hamming Distance\",\n",
    "                         )\n",
    "\n",
    "\n"
   ],
   "id": "1ff81c90dca910be",
   "outputs": [
    {
     "data": {
      "application/vnd.plotly.v1+json": {
       "data": [
        {
         "colorbar": {
          "title": {
           "text": "Count"
          }
         },
         "colorscale": [
          [
           0.0,
           "#0d0887"
          ],
          [
           0.1111111111111111,
           "#46039f"
          ],
          [
           0.2222222222222222,
           "#7201a8"
          ],
          [
           0.3333333333333333,
           "#9c179e"
          ],
          [
           0.4444444444444444,
           "#bd3786"
          ],
          [
           0.5555555555555556,
           "#d8576b"
          ],
          [
           0.6666666666666666,
           "#ed7953"
          ],
          [
           0.7777777777777778,
           "#fb9f3a"
          ],
          [
           0.8888888888888888,
           "#fdca26"
          ],
          [
           1.0,
           "#f0f921"
          ]
         ],
         "hovertemplate": "groove_to_output_hit_hamming_distance: %{x}<br>groove_to_output_accent_hamming_distance: %{y}<br>Count: %{z}<extra></extra>",
         "showscale": true,
         "text": [
          [
           "9036",
           "2915",
           "3687",
           "3889",
           "5000",
           "4457",
           "5463",
           "5338",
           "6972",
           "5541",
           "5767",
           "4783",
           "5305",
           "4134",
           "4080",
           "3286",
           "5649",
           "2560",
           "2578",
           "1794",
           "1961",
           "1268",
           "1544",
           "1263",
           "1869",
           "893",
           "951",
           "619",
           "752",
           "450",
           "629",
           "451",
           "3161"
          ],
          [
           "2282",
           "2406",
           "1459",
           "1389",
           "1848",
           "1798",
           "2088",
           "2023",
           "2661",
           "2247",
           "2132",
           "1956",
           "2014",
           "1533",
           "1573",
           "1336",
           "2012",
           "1049",
           "995",
           "804",
           "715",
           "518",
           "596",
           "423",
           "620",
           "362",
           "328",
           "230",
           "271",
           "177",
           "200",
           "217",
           "794"
          ],
          [
           "2367",
           "1753",
           "3430",
           "1726",
           "2055",
           "1976",
           "2382",
           "2210",
           "2943",
           "2381",
           "2453",
           "2120",
           "2224",
           "1777",
           "1962",
           "1396",
           "2267",
           "1139",
           "1031",
           "740",
           "865",
           "604",
           "621",
           "468",
           "647",
           "358",
           "368",
           "288",
           "332",
           "211",
           "339",
           "129",
           "898"
          ],
          [
           "2484",
           "1796",
           "2372",
           "3564",
           "2657",
           "2608",
           "2619",
           "2713",
           "3276",
           "2554",
           "2597",
           "2289",
           "2312",
           "1862",
           "1847",
           "1606",
           "2197",
           "1189",
           "1142",
           "777",
           "829",
           "624",
           "550",
           "510",
           "700",
           "360",
           "365",
           "298",
           "371",
           "258",
           "254",
           "188",
           "719"
          ],
          [
           "3490",
           "2071",
           "2720",
           "2968",
           "6564",
           "3496",
           "3903",
           "3323",
           "4782",
           "3382",
           "3521",
           "3054",
           "3449",
           "2441",
           "2352",
           "1967",
           "2996",
           "1460",
           "1487",
           "997",
           "1247",
           "768",
           "856",
           "672",
           "1031",
           "473",
           "494",
           "394",
           "610",
           "236",
           "197",
           "172",
           "1073"
          ],
          [
           "3335",
           "2216",
           "3074",
           "3108",
           "4096",
           "5855",
           "4578",
           "4215",
           "4992",
           "4000",
           "3816",
           "3409",
           "3220",
           "2798",
           "2453",
           "2132",
           "2916",
           "1584",
           "1468",
           "1117",
           "1114",
           "863",
           "810",
           "673",
           "977",
           "532",
           "475",
           "463",
           "344",
           "211",
           "219",
           "153",
           "731"
          ],
          [
           "3969",
           "2363",
           "3689",
           "3395",
           "4531",
           "4515",
           "7831",
           "5225",
           "6225",
           "4741",
           "4850",
           "3773",
           "3826",
           "3225",
           "3117",
           "2378",
           "3421",
           "1741",
           "1810",
           "1308",
           "1389",
           "974",
           "1093",
           "764",
           "1102",
           "533",
           "712",
           "295",
           "434",
           "238",
           "309",
           "155",
           "980"
          ],
          [
           "4028",
           "2643",
           "3454",
           "3342",
           "4424",
           "4456",
           "5377",
           "7764",
           "6891",
           "5505",
           "5062",
           "4436",
           "4226",
           "3261",
           "3141",
           "2665",
           "3801",
           "2137",
           "1784",
           "1439",
           "1480",
           "1074",
           "1130",
           "975",
           "1184",
           "747",
           "533",
           "356",
           "394",
           "246",
           "250",
           "133",
           "999"
          ],
          [
           "4960",
           "2931",
           "3653",
           "3630",
           "4817",
           "4357",
           "5603",
           "5518",
           "11571",
           "6129",
           "6283",
           "4840",
           "4907",
           "3964",
           "3750",
           "3065",
           "5123",
           "2375",
           "2280",
           "1584",
           "2003",
           "1314",
           "1444",
           "992",
           "2142",
           "692",
           "692",
           "413",
           "599",
           "266",
           "345",
           "229",
           "1563"
          ],
          [
           "3647",
           "2510",
           "3146",
           "2996",
           "3862",
           "3976",
           "4613",
           "4895",
           "6425",
           "7754",
           "5736",
           "4909",
           "4602",
           "3867",
           "3605",
           "3089",
           "4231",
           "2371",
           "2060",
           "1720",
           "1883",
           "1355",
           "1396",
           "1226",
           "1421",
           "667",
           "638",
           "413",
           "447",
           "305",
           "327",
           "187",
           "1308"
          ],
          [
           "3493",
           "2007",
           "2904",
           "2780",
           "3624",
           "3482",
           "4298",
           "4210",
           "5510",
           "5202",
           "8227",
           "5110",
           "5052",
           "3967",
           "3969",
           "3086",
           "4661",
           "2438",
           "2433",
           "1724",
           "2271",
           "1383",
           "1686",
           "948",
           "1604",
           "714",
           "737",
           "394",
           "581",
           "321",
           "331",
           "242",
           "1485"
          ],
          [
           "2747",
           "1691",
           "2274",
           "2385",
           "3029",
           "2830",
           "3360",
           "3501",
           "4576",
           "4019",
           "4367",
           "6528",
           "4837",
           "3930",
           "3526",
           "2978",
           "4021",
           "2527",
           "2310",
           "1899",
           "1933",
           "1523",
           "1193",
           "973",
           "1313",
           "704",
           "648",
           "438",
           "468",
           "313",
           "344",
           "254",
           "1299"
          ],
          [
           "2808",
           "1326",
           "1956",
           "1965",
           "2829",
           "2363",
           "2881",
           "2694",
           "4110",
           "3220",
           "3845",
           "3865",
           "6696",
           "3578",
           "3713",
           "2880",
           "4481",
           "2348",
           "2568",
           "1803",
           "2531",
           "1313",
           "1276",
           "951",
           "1420",
           "637",
           "783",
           "448",
           "554",
           "326",
           "334",
           "217",
           "1596"
          ],
          [
           "2079",
           "1078",
           "1483",
           "1568",
           "1823",
           "1802",
           "2289",
           "2350",
           "2904",
           "2731",
           "2922",
           "2874",
           "3413",
           "4873",
           "3429",
           "2873",
           "3797",
           "2494",
           "2157",
           "1822",
           "1840",
           "1312",
           "1184",
           "854",
           "1172",
           "629",
           "590",
           "465",
           "477",
           "308",
           "273",
           "223",
           "1390"
          ],
          [
           "1820",
           "964",
           "1269",
           "1214",
           "1481",
           "1430",
           "1910",
           "1849",
           "2563",
           "2088",
           "2608",
           "2293",
           "2775",
           "2540",
           "5109",
           "2931",
           "4074",
           "2046",
           "2354",
           "1502",
           "1644",
           "1050",
           "1340",
           "828",
           "1165",
           "516",
           "649",
           "398",
           "474",
           "299",
           "361",
           "259",
           "1384"
          ],
          [
           "1643",
           "809",
           "883",
           "865",
           "1086",
           "1164",
           "1439",
           "1410",
           "1951",
           "1634",
           "1858",
           "1822",
           "2030",
           "1959",
           "2229",
           "3768",
           "3697",
           "2236",
           "1748",
           "1447",
           "1398",
           "979",
           "1081",
           "727",
           "979",
           "530",
           "469",
           "392",
           "439",
           "313",
           "296",
           "285",
           "1178"
          ],
          [
           "2661",
           "913",
           "971",
           "807",
           "1330",
           "1038",
           "1394",
           "1283",
           "2405",
           "1487",
           "1725",
           "1550",
           "2044",
           "1680",
           "2143",
           "1978",
           "8087",
           "2084",
           "2049",
           "1378",
           "1551",
           "1077",
           "1230",
           "827",
           "1349",
           "593",
           "596",
           "451",
           "562",
           "337",
           "423",
           "257",
           "2273"
          ],
          [
           "647",
           "581",
           "561",
           "565",
           "712",
           "676",
           "805",
           "860",
           "1050",
           "1062",
           "1069",
           "1066",
           "1272",
           "1134",
           "1293",
           "1381",
           "1621",
           "2809",
           "1598",
           "1214",
           "1095",
           "800",
           "920",
           "710",
           "757",
           "527",
           "464",
           "319",
           "354",
           "284",
           "307",
           "239",
           "1230"
          ],
          [
           "549",
           "249",
           "487",
           "353",
           "524",
           "486",
           "633",
           "686",
           "854",
           "746",
           "1008",
           "787",
           "991",
           "795",
           "1177",
           "846",
           "1143",
           "891",
           "2842",
           "1083",
           "1143",
           "791",
           "839",
           "608",
           "788",
           "381",
           "430",
           "352",
           "386",
           "267",
           "344",
           "225",
           "1320"
          ],
          [
           "461",
           "217",
           "300",
           "305",
           "400",
           "378",
           "409",
           "487",
           "645",
           "534",
           "588",
           "613",
           "743",
           "765",
           "625",
           "607",
           "704",
           "570",
           "709",
           "1851",
           "1018",
           "715",
           "725",
           "602",
           "605",
           "468",
           "391",
           "315",
           "371",
           "223",
           "277",
           "240",
           "1103"
          ],
          [
           "423",
           "137",
           "223",
           "176",
           "346",
           "294",
           "382",
           "388",
           "599",
           "410",
           "535",
           "450",
           "728",
           "420",
           "488",
           "430",
           "632",
           "395",
           "592",
           "534",
           "1916",
           "643",
           "688",
           "453",
           "607",
           "434",
           "345",
           "301",
           "424",
           "224",
           "265",
           "174",
           "1231"
          ],
          [
           "343",
           "128",
           "175",
           "162",
           "176",
           "214",
           "328",
           "275",
           "377",
           "316",
           "342",
           "353",
           "305",
           "309",
           "309",
           "297",
           "397",
           "291",
           "318",
           "328",
           "446",
           "1203",
           "576",
           "534",
           "459",
           "294",
           "265",
           "252",
           "281",
           "200",
           "243",
           "154",
           "878"
          ],
          [
           "279",
           "127",
           "152",
           "125",
           "170",
           "154",
           "233",
           "194",
           "288",
           "215",
           "341",
           "172",
           "273",
           "209",
           "241",
           "189",
           "293",
           "198",
           "239",
           "245",
           "379",
           "291",
           "1352",
           "423",
           "557",
           "299",
           "323",
           "224",
           "289",
           "192",
           "239",
           "156",
           "927"
          ],
          [
           "219",
           "105",
           "117",
           "141",
           "121",
           "105",
           "135",
           "183",
           "218",
           "216",
           "171",
           "124",
           "175",
           "145",
           "145",
           "139",
           "200",
           "192",
           "179",
           "162",
           "226",
           "229",
           "268",
           "903",
           "452",
           "341",
           "221",
           "192",
           "271",
           "157",
           "191",
           "116",
           "732"
          ],
          [
           "416",
           "96",
           "121",
           "93",
           "162",
           "102",
           "144",
           "141",
           "465",
           "103",
           "146",
           "112",
           "165",
           "104",
           "168",
           "124",
           "323",
           "120",
           "133",
           "110",
           "256",
           "140",
           "187",
           "202",
           "1763",
           "354",
           "313",
           "212",
           "305",
           "195",
           "225",
           "161",
           "1148"
          ],
          [
           "145",
           "52",
           "72",
           "73",
           "66",
           "60",
           "55",
           "104",
           "74",
           "76",
           "67",
           "73",
           "92",
           "66",
           "59",
           "91",
           "112",
           "56",
           "77",
           "82",
           "110",
           "56",
           "133",
           "107",
           "186",
           "609",
           "285",
           "173",
           "207",
           "134",
           "152",
           "118",
           "595"
          ],
          [
           "143",
           "64",
           "69",
           "55",
           "58",
           "45",
           "110",
           "53",
           "74",
           "55",
           "82",
           "47",
           "61",
           "41",
           "75",
           "55",
           "110",
           "54",
           "79",
           "73",
           "100",
           "57",
           "89",
           "96",
           "126",
           "96",
           "697",
           "228",
           "283",
           "136",
           "196",
           "107",
           "738"
          ],
          [
           "114",
           "36",
           "53",
           "47",
           "58",
           "47",
           "37",
           "23",
           "40",
           "19",
           "36",
           "27",
           "33",
           "48",
           "55",
           "36",
           "48",
           "32",
           "39",
           "55",
           "61",
           "34",
           "60",
           "58",
           "104",
           "62",
           "93",
           "418",
           "193",
           "109",
           "120",
           "120",
           "524"
          ],
          [
           "113",
           "20",
           "22",
           "35",
           "89",
           "16",
           "26",
           "23",
           "40",
           "17",
           "31",
           "15",
           "37",
           "23",
           "25",
           "25",
           "91",
           "26",
           "45",
           "27",
           "56",
           "50",
           "69",
           "37",
           "74",
           "40",
           "59",
           "75",
           "606",
           "113",
           "154",
           "84",
           "515"
          ],
          [
           "83",
           "28",
           "35",
           "25",
           "10",
           "15",
           "18",
           "21",
           "22",
           "9",
           "6",
           "7",
           "16",
           "20",
           "21",
           "14",
           "37",
           "22",
           "34",
           "16",
           "29",
           "28",
           "25",
           "51",
           "38",
           "22",
           "34",
           "32",
           "48",
           "296",
           "151",
           "106",
           "368"
          ],
          [
           "112",
           "18",
           "30",
           "6",
           "6",
           "10",
           "11",
           "25",
           "10",
           "10",
           "27",
           "7",
           "15",
           "11",
           "46",
           "14",
           "42",
           "9",
           "21",
           "15",
           "14",
           "19",
           "34",
           "29",
           "34",
           "22",
           "20",
           "21",
           "42",
           "34",
           "383",
           "113",
           "468"
          ],
          [
           "94",
           "24",
           "9",
           "2",
           "11",
           "4",
           "5",
           "27",
           "21",
           "5",
           "8",
           "5",
           "12",
           "6",
           "25",
           "20",
           "44",
           "6",
           "11",
           "17",
           "13",
           "17",
           "24",
           "20",
           "36",
           "8",
           "13",
           "11",
           "20",
           "26",
           "33",
           "356",
           "493"
          ],
          [
           "298",
           "10",
           "21",
           "6",
           "22",
           "6",
           "7",
           "8",
           "80",
           "7",
           "8",
           "5",
           "49",
           "58",
           "77",
           "81",
           "137",
           "15",
           "36",
           "36",
           "37",
           "47",
           "25",
           "27",
           "65",
           "37",
           "32",
           "26",
           "59",
           "42",
           "45",
           "81",
           "2585"
          ]
         ],
         "textfont": {
          "size": 9
         },
         "texttemplate": "%{text}",
         "x": [
          "0.0",
          "0.03125",
          "0.0625",
          "0.09375",
          "0.125",
          "0.15625",
          "0.1875",
          "0.21875",
          "0.25",
          "0.28125",
          "0.3125",
          "0.34375",
          "0.375",
          "0.40625",
          "0.4375",
          "0.46875",
          "0.5",
          "0.53125",
          "0.5625",
          "0.59375",
          "0.625",
          "0.65625",
          "0.6875",
          "0.71875",
          "0.75",
          "0.78125",
          "0.8125",
          "0.84375",
          "0.875",
          "0.90625",
          "0.9375",
          "0.96875",
          "1.0"
         ],
         "y": [
          "0.0",
          "0.03125",
          "0.0625",
          "0.09375",
          "0.125",
          "0.15625",
          "0.1875",
          "0.21875",
          "0.25",
          "0.28125",
          "0.3125",
          "0.34375",
          "0.375",
          "0.40625",
          "0.4375",
          "0.46875",
          "0.5",
          "0.53125",
          "0.5625",
          "0.59375",
          "0.625",
          "0.65625",
          "0.6875",
          "0.71875",
          "0.75",
          "0.78125",
          "0.8125",
          "0.84375",
          "0.875",
          "0.90625",
          "0.9375",
          "0.96875",
          "1.0"
         ],
         "z": {
          "dtype": "i2",
          "bdata": "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",
          "shape": "33, 33"
         },
         "type": "heatmap"
        }
       ],
       "layout": {
        "template": {
         "data": {
          "histogram2dcontour": [
           {
            "type": "histogram2dcontour",
            "colorbar": {
             "outlinewidth": 0,
             "ticks": ""
            },
            "colorscale": [
             [
              0.0,
              "#0d0887"
             ],
             [
              0.1111111111111111,
              "#46039f"
             ],
             [
              0.2222222222222222,
              "#7201a8"
             ],
             [
              0.3333333333333333,
              "#9c179e"
             ],
             [
              0.4444444444444444,
              "#bd3786"
             ],
             [
              0.5555555555555556,
              "#d8576b"
             ],
             [
              0.6666666666666666,
              "#ed7953"
             ],
             [
              0.7777777777777778,
              "#fb9f3a"
             ],
             [
              0.8888888888888888,
              "#fdca26"
             ],
             [
              1.0,
              "#f0f921"
             ]
            ]
           }
          ],
          "choropleth": [
           {
            "type": "choropleth",
            "colorbar": {
             "outlinewidth": 0,
             "ticks": ""
            }
           }
          ],
          "histogram2d": [
           {
            "type": "histogram2d",
            "colorbar": {
             "outlinewidth": 0,
             "ticks": ""
            },
            "colorscale": [
             [
              0.0,
              "#0d0887"
             ],
             [
              0.1111111111111111,
              "#46039f"
             ],
             [
              0.2222222222222222,
              "#7201a8"
             ],
             [
              0.3333333333333333,
              "#9c179e"
             ],
             [
              0.4444444444444444,
              "#bd3786"
             ],
             [
              0.5555555555555556,
              "#d8576b"
             ],
             [
              0.6666666666666666,
              "#ed7953"
             ],
             [
              0.7777777777777778,
              "#fb9f3a"
             ],
             [
              0.8888888888888888,
              "#fdca26"
             ],
             [
              1.0,
              "#f0f921"
             ]
            ]
           }
          ],
          "heatmap": [
           {
            "type": "heatmap",
            "colorbar": {
             "outlinewidth": 0,
             "ticks": ""
            },
            "colorscale": [
             [
              0.0,
              "#0d0887"
             ],
             [
              0.1111111111111111,
              "#46039f"
             ],
             [
              0.2222222222222222,
              "#7201a8"
             ],
             [
              0.3333333333333333,
              "#9c179e"
             ],
             [
              0.4444444444444444,
              "#bd3786"
             ],
             [
              0.5555555555555556,
              "#d8576b"
             ],
             [
              0.6666666666666666,
              "#ed7953"
             ],
             [
              0.7777777777777778,
              "#fb9f3a"
             ],
             [
              0.8888888888888888,
              "#fdca26"
             ],
             [
              1.0,
              "#f0f921"
             ]
            ]
           }
          ],
          "contourcarpet": [
           {
            "type": "contourcarpet",
            "colorbar": {
             "outlinewidth": 0,
             "ticks": ""
            }
           }
          ],
          "contour": [
           {
            "type": "contour",
            "colorbar": {
             "outlinewidth": 0,
             "ticks": ""
            },
            "colorscale": [
             [
              0.0,
              "#0d0887"
             ],
             [
              0.1111111111111111,
              "#46039f"
             ],
             [
              0.2222222222222222,
              "#7201a8"
             ],
             [
              0.3333333333333333,
              "#9c179e"
             ],
             [
              0.4444444444444444,
              "#bd3786"
             ],
             [
              0.5555555555555556,
              "#d8576b"
             ],
             [
              0.6666666666666666,
              "#ed7953"
             ],
             [
              0.7777777777777778,
              "#fb9f3a"
             ],
             [
              0.8888888888888888,
              "#fdca26"
             ],
             [
              1.0,
              "#f0f921"
             ]
            ]
           }
          ],
          "surface": [
           {
            "type": "surface",
            "colorbar": {
             "outlinewidth": 0,
             "ticks": ""
            },
            "colorscale": [
             [
              0.0,
              "#0d0887"
             ],
             [
              0.1111111111111111,
              "#46039f"
             ],
             [
              0.2222222222222222,
              "#7201a8"
             ],
             [
              0.3333333333333333,
              "#9c179e"
             ],
             [
              0.4444444444444444,
              "#bd3786"
             ],
             [
              0.5555555555555556,
              "#d8576b"
             ],
             [
              0.6666666666666666,
              "#ed7953"
             ],
             [
              0.7777777777777778,
              "#fb9f3a"
             ],
             [
              0.8888888888888888,
              "#fdca26"
             ],
             [
              1.0,
              "#f0f921"
             ]
            ]
           }
          ],
          "mesh3d": [
           {
            "type": "mesh3d",
            "colorbar": {
             "outlinewidth": 0,
             "ticks": ""
            }
           }
          ],
          "scatter": [
           {
            "fillpattern": {
             "fillmode": "overlay",
             "size": 10,
             "solidity": 0.2
            },
            "type": "scatter"
           }
          ],
          "parcoords": [
           {
            "type": "parcoords",
            "line": {
             "colorbar": {
              "outlinewidth": 0,
              "ticks": ""
             }
            }
           }
          ],
          "scatterpolargl": [
           {
            "type": "scatterpolargl",
            "marker": {
             "colorbar": {
              "outlinewidth": 0,
              "ticks": ""
             }
            }
           }
          ],
          "bar": [
           {
            "error_x": {
             "color": "#2a3f5f"
            },
            "error_y": {
             "color": "#2a3f5f"
            },
            "marker": {
             "line": {
              "color": "#E5ECF6",
              "width": 0.5
             },
             "pattern": {
              "fillmode": "overlay",
              "size": 10,
              "solidity": 0.2
             }
            },
            "type": "bar"
           }
          ],
          "scattergeo": [
           {
            "type": "scattergeo",
            "marker": {
             "colorbar": {
              "outlinewidth": 0,
              "ticks": ""
             }
            }
           }
          ],
          "scatterpolar": [
           {
            "type": "scatterpolar",
            "marker": {
             "colorbar": {
              "outlinewidth": 0,
              "ticks": ""
             }
            }
           }
          ],
          "histogram": [
           {
            "marker": {
             "pattern": {
              "fillmode": "overlay",
              "size": 10,
              "solidity": 0.2
             }
            },
            "type": "histogram"
           }
          ],
          "scattergl": [
           {
            "type": "scattergl",
            "marker": {
             "colorbar": {
              "outlinewidth": 0,
              "ticks": ""
             }
            }
           }
          ],
          "scatter3d": [
           {
            "type": "scatter3d",
            "line": {
             "colorbar": {
              "outlinewidth": 0,
              "ticks": ""
             }
            },
            "marker": {
             "colorbar": {
              "outlinewidth": 0,
              "ticks": ""
             }
            }
           }
          ],
          "scattermap": [
           {
            "type": "scattermap",
            "marker": {
             "colorbar": {
              "outlinewidth": 0,
              "ticks": ""
             }
            }
           }
          ],
          "scattermapbox": [
           {
            "type": "scattermapbox",
            "marker": {
             "colorbar": {
              "outlinewidth": 0,
              "ticks": ""
             }
            }
           }
          ],
          "scatterternary": [
           {
            "type": "scatterternary",
            "marker": {
             "colorbar": {
              "outlinewidth": 0,
              "ticks": ""
             }
            }
           }
          ],
          "scattercarpet": [
           {
            "type": "scattercarpet",
            "marker": {
             "colorbar": {
              "outlinewidth": 0,
              "ticks": ""
             }
            }
           }
          ],
          "carpet": [
           {
            "aaxis": {
             "endlinecolor": "#2a3f5f",
             "gridcolor": "white",
             "linecolor": "white",
             "minorgridcolor": "white",
             "startlinecolor": "#2a3f5f"
            },
            "baxis": {
             "endlinecolor": "#2a3f5f",
             "gridcolor": "white",
             "linecolor": "white",
             "minorgridcolor": "white",
             "startlinecolor": "#2a3f5f"
            },
            "type": "carpet"
           }
          ],
          "table": [
           {
            "cells": {
             "fill": {
              "color": "#EBF0F8"
             },
             "line": {
              "color": "white"
             }
            },
            "header": {
             "fill": {
              "color": "#C8D4E3"
             },
             "line": {
              "color": "white"
             }
            },
            "type": "table"
           }
          ],
          "barpolar": [
           {
            "marker": {
             "line": {
              "color": "#E5ECF6",
              "width": 0.5
             },
             "pattern": {
              "fillmode": "overlay",
              "size": 10,
              "solidity": 0.2
             }
            },
            "type": "barpolar"
           }
          ],
          "pie": [
           {
            "automargin": true,
            "type": "pie"
           }
          ]
         },
         "layout": {
          "autotypenumbers": "strict",
          "colorway": [
           "#636efa",
           "#EF553B",
           "#00cc96",
           "#ab63fa",
           "#FFA15A",
           "#19d3f3",
           "#FF6692",
           "#B6E880",
           "#FF97FF",
           "#FECB52"
          ],
          "font": {
           "color": "#2a3f5f"
          },
          "hovermode": "closest",
          "hoverlabel": {
           "align": "left"
          },
          "paper_bgcolor": "white",
          "plot_bgcolor": "#E5ECF6",
          "polar": {
           "bgcolor": "#E5ECF6",
           "angularaxis": {
            "gridcolor": "white",
            "linecolor": "white",
            "ticks": ""
           },
           "radialaxis": {
            "gridcolor": "white",
            "linecolor": "white",
            "ticks": ""
           }
          },
          "ternary": {
           "bgcolor": "#E5ECF6",
           "aaxis": {
            "gridcolor": "white",
            "linecolor": "white",
            "ticks": ""
           },
           "baxis": {
            "gridcolor": "white",
            "linecolor": "white",
            "ticks": ""
           },
           "caxis": {
            "gridcolor": "white",
            "linecolor": "white",
            "ticks": ""
           }
          },
          "coloraxis": {
           "colorbar": {
            "outlinewidth": 0,
            "ticks": ""
           }
          },
          "colorscale": {
           "sequential": [
            [
             0.0,
             "#0d0887"
            ],
            [
             0.1111111111111111,
             "#46039f"
            ],
            [
             0.2222222222222222,
             "#7201a8"
            ],
            [
             0.3333333333333333,
             "#9c179e"
            ],
            [
             0.4444444444444444,
             "#bd3786"
            ],
            [
             0.5555555555555556,
             "#d8576b"
            ],
            [
             0.6666666666666666,
             "#ed7953"
            ],
            [
             0.7777777777777778,
             "#fb9f3a"
            ],
            [
             0.8888888888888888,
             "#fdca26"
            ],
            [
             1.0,
             "#f0f921"
            ]
           ],
           "sequentialminus": [
            [
             0.0,
             "#0d0887"
            ],
            [
             0.1111111111111111,
             "#46039f"
            ],
            [
             0.2222222222222222,
             "#7201a8"
            ],
            [
             0.3333333333333333,
             "#9c179e"
            ],
            [
             0.4444444444444444,
             "#bd3786"
            ],
            [
             0.5555555555555556,
             "#d8576b"
            ],
            [
             0.6666666666666666,
             "#ed7953"
            ],
            [
             0.7777777777777778,
             "#fb9f3a"
            ],
            [
             0.8888888888888888,
             "#fdca26"
            ],
            [
             1.0,
             "#f0f921"
            ]
           ],
           "diverging": [
            [
             0,
             "#8e0152"
            ],
            [
             0.1,
             "#c51b7d"
            ],
            [
             0.2,
             "#de77ae"
            ],
            [
             0.3,
             "#f1b6da"
            ],
            [
             0.4,
             "#fde0ef"
            ],
            [
             0.5,
             "#f7f7f7"
            ],
            [
             0.6,
             "#e6f5d0"
            ],
            [
             0.7,
             "#b8e186"
            ],
            [
             0.8,
             "#7fbc41"
            ],
            [
             0.9,
             "#4d9221"
            ],
            [
             1,
             "#276419"
            ]
           ]
          },
          "xaxis": {
           "gridcolor": "white",
           "linecolor": "white",
           "ticks": "",
           "title": {
            "standoff": 15
           },
           "zerolinecolor": "white",
           "automargin": true,
           "zerolinewidth": 2
          },
          "yaxis": {
           "gridcolor": "white",
           "linecolor": "white",
           "ticks": "",
           "title": {
            "standoff": 15
           },
           "zerolinecolor": "white",
           "automargin": true,
           "zerolinewidth": 2
          },
          "scene": {
           "xaxis": {
            "backgroundcolor": "#E5ECF6",
            "gridcolor": "white",
            "linecolor": "white",
            "showbackground": true,
            "ticks": "",
            "zerolinecolor": "white",
            "gridwidth": 2
           },
           "yaxis": {
            "backgroundcolor": "#E5ECF6",
            "gridcolor": "white",
            "linecolor": "white",
            "showbackground": true,
            "ticks": "",
            "zerolinecolor": "white",
            "gridwidth": 2
           },
           "zaxis": {
            "backgroundcolor": "#E5ECF6",
            "gridcolor": "white",
            "linecolor": "white",
            "showbackground": true,
            "ticks": "",
            "zerolinecolor": "white",
            "gridwidth": 2
           }
          },
          "shapedefaults": {
           "line": {
            "color": "#2a3f5f"
           }
          },
          "annotationdefaults": {
           "arrowcolor": "#2a3f5f",
           "arrowhead": 0,
           "arrowwidth": 1
          },
          "geo": {
           "bgcolor": "white",
           "landcolor": "#E5ECF6",
           "subunitcolor": "white",
           "showland": true,
           "showlakes": true,
           "lakecolor": "white"
          },
          "title": {
           "x": 0.05
          },
          "mapbox": {
           "style": "light"
          }
         }
        },
        "xaxis": {
         "title": {
          "text": "groove_to_output_hit_hamming_distance"
         },
         "tickangle": 45
        },
        "yaxis": {
         "title": {
          "text": "groove_to_output_accent_hamming_distance"
         },
         "tickangle": 0
        },
        "title": {
         "text": "Heatmap Histogram of Groove to Output Hit Hamming Distance vs Accent Hamming Distance"
        },
        "width": 1200,
        "height": 800
       },
       "config": {
        "plotlyServerURL": "https://plot.ly"
       }
      }
     },
     "metadata": {},
     "output_type": "display_data"
    }
   ],
   "execution_count": 15
  },
  {
   "metadata": {
    "ExecuteTime": {
     "end_time": "2025-08-01T13:59:41.059009Z",
     "start_time": "2025-08-01T11:24:49.104573Z"
    }
   },
   "cell_type": "code",
   "source": [
    "create_heatmap_histogram(control_features_df,\n",
    "                         key1=\"groove_to_output_hit_hamming_distance\",\n",
    "                         key2=\"accent_hamming_values_per_hit_hamming_normalized\",\n",
    "                         bins=None,\n",
    "                         title=\"Heatmap Histogram of Groove to Output Hit Hamming Distance vs Modified Accent Hamming Distance\",\n",
    "                         )"
   ],
   "id": "52146c06974a6d6e",
   "outputs": [
    {
     "data": {
      "application/vnd.plotly.v1+json": {
       "data": [
        {
         "colorbar": {
          "title": {
           "text": "Count"
          }
         },
         "colorscale": [
          [
           0.0,
           "#0d0887"
          ],
          [
           0.1111111111111111,
           "#46039f"
          ],
          [
           0.2222222222222222,
           "#7201a8"
          ],
          [
           0.3333333333333333,
           "#9c179e"
          ],
          [
           0.4444444444444444,
           "#bd3786"
          ],
          [
           0.5555555555555556,
           "#d8576b"
          ],
          [
           0.6666666666666666,
           "#ed7953"
          ],
          [
           0.7777777777777778,
           "#fb9f3a"
          ],
          [
           0.8888888888888888,
           "#fdca26"
          ],
          [
           1.0,
           "#f0f921"
          ]
         ],
         "hovertemplate": "groove_to_output_hit_hamming_distance: %{x}<br>accent_hamming_values_per_hit_hamming_normalized: %{y}<br>Count: %{z}<extra></extra>",
         "showscale": true,
         "text": [
          [
           "13685",
           "7074",
           "8576",
           "7004",
           "8903",
           "8231",
           "9933",
           "9571",
           "12576",
           "10169",
           "10352",
           "8859",
           "9543",
           "7444",
           "7615",
           "6018",
           "9928",
           "4748",
           "4604",
           "3338",
           "3541",
           "2390",
           "2761",
           "2154",
           "3136",
           "1613",
           "1647",
           "1137",
           "1355",
           "838",
           "1168",
           "797",
           "4853"
          ],
          [
           "13278",
           "8446",
           "11855",
           "13035",
           "17848",
           "16474",
           "18931",
           "15476",
           "19275",
           "14677",
           "14784",
           "12525",
           "12807",
           "10326",
           "9769",
           "8083",
           "11530",
           "5974",
           "5907",
           "4199",
           "4579",
           "3229",
           "3309",
           "2619",
           "3810",
           "1898",
           "2046",
           "1450",
           "1759",
           "943",
           "979",
           "668",
           "3503"
          ],
          [
           "18875",
           "11782",
           "15431",
           "12748",
           "19756",
           "16271",
           "19891",
           "25888",
           "34973",
           "24590",
           "25308",
           "19295",
           "23624",
           "18989",
           "17991",
           "14883",
           "21837",
           "11848",
           "10867",
           "8366",
           "9570",
           "6649",
           "6849",
           "5114",
           "7664",
           "3524",
           "3248",
           "2014",
           "2489",
           "1451",
           "1597",
           "1045",
           "6654"
          ],
          [
           "8350",
           "4177",
           "5591",
           "7132",
           "7219",
           "8425",
           "10440",
           "8303",
           "11528",
           "12058",
           "13742",
           "15560",
           "14914",
           "12950",
           "14480",
           "12452",
           "16049",
           "9124",
           "8827",
           "6574",
           "7413",
           "4654",
           "4881",
           "3360",
           "4736",
           "2312",
           "2491",
           "1703",
           "1944",
           "1246",
           "1264",
           "984",
           "5548"
          ],
          [
           "4741",
           "1960",
           "2542",
           "2590",
           "3312",
           "3742",
           "4680",
           "3316",
           "5553",
           "5463",
           "6248",
           "5225",
           "5778",
           "4794",
           "5726",
           "5242",
           "12187",
           "6354",
           "7790",
           "6060",
           "6723",
           "4026",
           "4402",
           "3200",
           "4106",
           "2403",
           "2226",
           "1738",
           "2097",
           "1335",
           "1616",
           "1135",
           "7157"
          ],
          [
           "1402",
           "593",
           "637",
           "768",
           "695",
           "767",
           "1078",
           "1181",
           "1422",
           "1157",
           "1389",
           "1588",
           "1010",
           "833",
           "922",
           "840",
           "1325",
           "1196",
           "946",
           "927",
           "1417",
           "1919",
           "2516",
           "2169",
           "3417",
           "1897",
           "1407",
           "1053",
           "1353",
           "878",
           "1050",
           "705",
           "4280"
          ],
          [
           "453",
           "172",
           "179",
           "362",
           "215",
           "254",
           "346",
           "203",
           "176",
           "253",
           "331",
           "356",
           "147",
           "132",
           "176",
           "130",
           "286",
           "168",
           "197",
           "171",
           "246",
           "169",
           "243",
           "242",
           "342",
           "220",
           "883",
           "753",
           "1130",
           "654",
           "621",
           "417",
           "2145"
          ],
          [
           "504",
           "80",
           "60",
           "121",
           "39",
           "51",
           "67",
           "81",
           "111",
           "48",
           "80",
           "66",
           "76",
           "75",
           "148",
           "115",
           "223",
           "52",
           "68",
           "68",
           "64",
           "83",
           "83",
           "76",
           "135",
           "67",
           "65",
           "58",
           "121",
           "102",
           "461",
           "550",
           "3546"
          ]
         ],
         "textfont": {
          "size": 9
         },
         "texttemplate": "%{text}",
         "x": [
          "0.0",
          "0.03125",
          "0.0625",
          "0.09375",
          "0.125",
          "0.15625",
          "0.1875",
          "0.21875",
          "0.25",
          "0.28125",
          "0.3125",
          "0.34375",
          "0.375",
          "0.40625",
          "0.4375",
          "0.46875",
          "0.5",
          "0.53125",
          "0.5625",
          "0.59375",
          "0.625",
          "0.65625",
          "0.6875",
          "0.71875",
          "0.75",
          "0.78125",
          "0.8125",
          "0.84375",
          "0.875",
          "0.90625",
          "0.9375",
          "0.96875",
          "1.0"
         ],
         "y": [
          "0.0",
          "0.14285714285714285",
          "0.2857142857142857",
          "0.42857142857142855",
          "0.5714285714285714",
          "0.7142857142857142",
          "0.8571428571428571",
          "1.0"
         ],
         "z": {
          "dtype": "i4",
          "bdata": "dTUAAKIbAACAIQAAXBsAAMciAAAnIAAAzSYAAGMlAAAgMQAAuScAAHAoAACbIgAARyUAABQdAAC/HQAAghcAAMgmAACMEgAA/BEAAAoNAADVDQAAVgkAAMkKAABqCAAAQAwAAE0GAABvBgAAcQQAAEsFAABGAwAAkAQAAB0DAAD1EgAA3jMAAP4gAABPLgAA6zIAALhFAABaQAAA80kAAHQ8AABLSwAAVTkAAMA5AADtMAAABzIAAFYoAAApJgAAkx8AAAotAABWFwAAExcAAGcQAADjEQAAnQwAAO0MAAA7CgAA4g4AAGoHAAD+BwAAqgUAAN8GAACvAwAA0wMAAJwCAACvDQAAu0kAAAYuAABHPAAAzDEAACxNAACPPwAAs00AACBlAACdiAAADmAAANxiAABfSwAASFwAAC1KAABHRgAAIzoAAE1VAABILgAAcyoAAK4gAABiJQAA+RkAAMEaAAD6EwAA8B0AAMQNAACwDAAA3gcAALkJAACrBQAAPQYAABUEAAD+GQAAniAAAFEQAADXFQAA3BsAADMcAADpIAAAyCgAAG8gAAAILQAAGi8AAK41AADIPAAAQjoAAJYyAACQOAAApDAAALE+AACkIwAAeyIAAK4ZAAD1HAAALhIAABETAAAgDQAAgBIAAAgJAAC7CQAApwYAAJgHAADeBAAA8AQAANgDAACsFQAAhRIAAKgHAADuCQAAHgoAAPAMAACeDgAASBIAAPQMAACxFQAAVxUAAGgYAABpFAAAkhYAALoSAABeFgAAehQAAJsvAADSGAAAbh4AAKwXAABDGgAAug8AADIRAACADAAAChAAAGMJAACyCAAAygYAADEIAAA3BQAAUAYAAG8EAAD1GwAAegUAAFECAAB9AgAAAAMAALcCAAD/AgAANgQAAJ0EAACOBQAAhQQAAG0FAAA0BgAA8gMAAEEDAACaAwAASAMAAC0FAACsBAAAsgMAAJ8DAACJBQAAfwcAANQJAAB5CAAAWQ0AAGkHAAB/BQAAHQQAAEkFAABuAwAAGgQAAMECAAC4EAAAxQEAAKwAAACzAAAAagEAANcAAAD+AAAAWgEAAMsAAACwAAAA/QAAAEsBAABkAQAAkwAAAIQAAACwAAAAggAAAB4BAACoAAAAxQAAAKsAAAD2AAAAqQAAAPMAAADyAAAAVgEAANwAAABzAwAA8QIAAGoEAACOAgAAbQIAAKEBAABhCAAA+AEAAFAAAAA8AAAAeQAAACcAAAAzAAAAQwAAAFEAAABvAAAAMAAAAFAAAABCAAAATAAAAEsAAACUAAAAcwAAAN8AAAA0AAAARAAAAEQAAABAAAAAUwAAAFMAAABMAAAAhwAAAEMAAABBAAAAOgAAAHkAAABmAAAAzQEAACYCAADaDQAA",
          "shape": "8, 33"
         },
         "type": "heatmap"
        }
       ],
       "layout": {
        "template": {
         "data": {
          "histogram2dcontour": [
           {
            "type": "histogram2dcontour",
            "colorbar": {
             "outlinewidth": 0,
             "ticks": ""
            },
            "colorscale": [
             [
              0.0,
              "#0d0887"
             ],
             [
              0.1111111111111111,
              "#46039f"
             ],
             [
              0.2222222222222222,
              "#7201a8"
             ],
             [
              0.3333333333333333,
              "#9c179e"
             ],
             [
              0.4444444444444444,
              "#bd3786"
             ],
             [
              0.5555555555555556,
              "#d8576b"
             ],
             [
              0.6666666666666666,
              "#ed7953"
             ],
             [
              0.7777777777777778,
              "#fb9f3a"
             ],
             [
              0.8888888888888888,
              "#fdca26"
             ],
             [
              1.0,
              "#f0f921"
             ]
            ]
           }
          ],
          "choropleth": [
           {
            "type": "choropleth",
            "colorbar": {
             "outlinewidth": 0,
             "ticks": ""
            }
           }
          ],
          "histogram2d": [
           {
            "type": "histogram2d",
            "colorbar": {
             "outlinewidth": 0,
             "ticks": ""
            },
            "colorscale": [
             [
              0.0,
              "#0d0887"
             ],
             [
              0.1111111111111111,
              "#46039f"
             ],
             [
              0.2222222222222222,
              "#7201a8"
             ],
             [
              0.3333333333333333,
              "#9c179e"
             ],
             [
              0.4444444444444444,
              "#bd3786"
             ],
             [
              0.5555555555555556,
              "#d8576b"
             ],
             [
              0.6666666666666666,
              "#ed7953"
             ],
             [
              0.7777777777777778,
              "#fb9f3a"
             ],
             [
              0.8888888888888888,
              "#fdca26"
             ],
             [
              1.0,
              "#f0f921"
             ]
            ]
           }
          ],
          "heatmap": [
           {
            "type": "heatmap",
            "colorbar": {
             "outlinewidth": 0,
             "ticks": ""
            },
            "colorscale": [
             [
              0.0,
              "#0d0887"
             ],
             [
              0.1111111111111111,
              "#46039f"
             ],
             [
              0.2222222222222222,
              "#7201a8"
             ],
             [
              0.3333333333333333,
              "#9c179e"
             ],
             [
              0.4444444444444444,
              "#bd3786"
             ],
             [
              0.5555555555555556,
              "#d8576b"
             ],
             [
              0.6666666666666666,
              "#ed7953"
             ],
             [
              0.7777777777777778,
              "#fb9f3a"
             ],
             [
              0.8888888888888888,
              "#fdca26"
             ],
             [
              1.0,
              "#f0f921"
             ]
            ]
           }
          ],
          "contourcarpet": [
           {
            "type": "contourcarpet",
            "colorbar": {
             "outlinewidth": 0,
             "ticks": ""
            }
           }
          ],
          "contour": [
           {
            "type": "contour",
            "colorbar": {
             "outlinewidth": 0,
             "ticks": ""
            },
            "colorscale": [
             [
              0.0,
              "#0d0887"
             ],
             [
              0.1111111111111111,
              "#46039f"
             ],
             [
              0.2222222222222222,
              "#7201a8"
             ],
             [
              0.3333333333333333,
              "#9c179e"
             ],
             [
              0.4444444444444444,
              "#bd3786"
             ],
             [
              0.5555555555555556,
              "#d8576b"
             ],
             [
              0.6666666666666666,
              "#ed7953"
             ],
             [
              0.7777777777777778,
              "#fb9f3a"
             ],
             [
              0.8888888888888888,
              "#fdca26"
             ],
             [
              1.0,
              "#f0f921"
             ]
            ]
           }
          ],
          "surface": [
           {
            "type": "surface",
            "colorbar": {
             "outlinewidth": 0,
             "ticks": ""
            },
            "colorscale": [
             [
              0.0,
              "#0d0887"
             ],
             [
              0.1111111111111111,
              "#46039f"
             ],
             [
              0.2222222222222222,
              "#7201a8"
             ],
             [
              0.3333333333333333,
              "#9c179e"
             ],
             [
              0.4444444444444444,
              "#bd3786"
             ],
             [
              0.5555555555555556,
              "#d8576b"
             ],
             [
              0.6666666666666666,
              "#ed7953"
             ],
             [
              0.7777777777777778,
              "#fb9f3a"
             ],
             [
              0.8888888888888888,
              "#fdca26"
             ],
             [
              1.0,
              "#f0f921"
             ]
            ]
           }
          ],
          "mesh3d": [
           {
            "type": "mesh3d",
            "colorbar": {
             "outlinewidth": 0,
             "ticks": ""
            }
           }
          ],
          "scatter": [
           {
            "fillpattern": {
             "fillmode": "overlay",
             "size": 10,
             "solidity": 0.2
            },
            "type": "scatter"
           }
          ],
          "parcoords": [
           {
            "type": "parcoords",
            "line": {
             "colorbar": {
              "outlinewidth": 0,
              "ticks": ""
             }
            }
           }
          ],
          "scatterpolargl": [
           {
            "type": "scatterpolargl",
            "marker": {
             "colorbar": {
              "outlinewidth": 0,
              "ticks": ""
             }
            }
           }
          ],
          "bar": [
           {
            "error_x": {
             "color": "#2a3f5f"
            },
            "error_y": {
             "color": "#2a3f5f"
            },
            "marker": {
             "line": {
              "color": "#E5ECF6",
              "width": 0.5
             },
             "pattern": {
              "fillmode": "overlay",
              "size": 10,
              "solidity": 0.2
             }
            },
            "type": "bar"
           }
          ],
          "scattergeo": [
           {
            "type": "scattergeo",
            "marker": {
             "colorbar": {
              "outlinewidth": 0,
              "ticks": ""
             }
            }
           }
          ],
          "scatterpolar": [
           {
            "type": "scatterpolar",
            "marker": {
             "colorbar": {
              "outlinewidth": 0,
              "ticks": ""
             }
            }
           }
          ],
          "histogram": [
           {
            "marker": {
             "pattern": {
              "fillmode": "overlay",
              "size": 10,
              "solidity": 0.2
             }
            },
            "type": "histogram"
           }
          ],
          "scattergl": [
           {
            "type": "scattergl",
            "marker": {
             "colorbar": {
              "outlinewidth": 0,
              "ticks": ""
             }
            }
           }
          ],
          "scatter3d": [
           {
            "type": "scatter3d",
            "line": {
             "colorbar": {
              "outlinewidth": 0,
              "ticks": ""
             }
            },
            "marker": {
             "colorbar": {
              "outlinewidth": 0,
              "ticks": ""
             }
            }
           }
          ],
          "scattermap": [
           {
            "type": "scattermap",
            "marker": {
             "colorbar": {
              "outlinewidth": 0,
              "ticks": ""
             }
            }
           }
          ],
          "scattermapbox": [
           {
            "type": "scattermapbox",
            "marker": {
             "colorbar": {
              "outlinewidth": 0,
              "ticks": ""
             }
            }
           }
          ],
          "scatterternary": [
           {
            "type": "scatterternary",
            "marker": {
             "colorbar": {
              "outlinewidth": 0,
              "ticks": ""
             }
            }
           }
          ],
          "scattercarpet": [
           {
            "type": "scattercarpet",
            "marker": {
             "colorbar": {
              "outlinewidth": 0,
              "ticks": ""
             }
            }
           }
          ],
          "carpet": [
           {
            "aaxis": {
             "endlinecolor": "#2a3f5f",
             "gridcolor": "white",
             "linecolor": "white",
             "minorgridcolor": "white",
             "startlinecolor": "#2a3f5f"
            },
            "baxis": {
             "endlinecolor": "#2a3f5f",
             "gridcolor": "white",
             "linecolor": "white",
             "minorgridcolor": "white",
             "startlinecolor": "#2a3f5f"
            },
            "type": "carpet"
           }
          ],
          "table": [
           {
            "cells": {
             "fill": {
              "color": "#EBF0F8"
             },
             "line": {
              "color": "white"
             }
            },
            "header": {
             "fill": {
              "color": "#C8D4E3"
             },
             "line": {
              "color": "white"
             }
            },
            "type": "table"
           }
          ],
          "barpolar": [
           {
            "marker": {
             "line": {
              "color": "#E5ECF6",
              "width": 0.5
             },
             "pattern": {
              "fillmode": "overlay",
              "size": 10,
              "solidity": 0.2
             }
            },
            "type": "barpolar"
           }
          ],
          "pie": [
           {
            "automargin": true,
            "type": "pie"
           }
          ]
         },
         "layout": {
          "autotypenumbers": "strict",
          "colorway": [
           "#636efa",
           "#EF553B",
           "#00cc96",
           "#ab63fa",
           "#FFA15A",
           "#19d3f3",
           "#FF6692",
           "#B6E880",
           "#FF97FF",
           "#FECB52"
          ],
          "font": {
           "color": "#2a3f5f"
          },
          "hovermode": "closest",
          "hoverlabel": {
           "align": "left"
          },
          "paper_bgcolor": "white",
          "plot_bgcolor": "#E5ECF6",
          "polar": {
           "bgcolor": "#E5ECF6",
           "angularaxis": {
            "gridcolor": "white",
            "linecolor": "white",
            "ticks": ""
           },
           "radialaxis": {
            "gridcolor": "white",
            "linecolor": "white",
            "ticks": ""
           }
          },
          "ternary": {
           "bgcolor": "#E5ECF6",
           "aaxis": {
            "gridcolor": "white",
            "linecolor": "white",
            "ticks": ""
           },
           "baxis": {
            "gridcolor": "white",
            "linecolor": "white",
            "ticks": ""
           },
           "caxis": {
            "gridcolor": "white",
            "linecolor": "white",
            "ticks": ""
           }
          },
          "coloraxis": {
           "colorbar": {
            "outlinewidth": 0,
            "ticks": ""
           }
          },
          "colorscale": {
           "sequential": [
            [
             0.0,
             "#0d0887"
            ],
            [
             0.1111111111111111,
             "#46039f"
            ],
            [
             0.2222222222222222,
             "#7201a8"
            ],
            [
             0.3333333333333333,
             "#9c179e"
            ],
            [
             0.4444444444444444,
             "#bd3786"
            ],
            [
             0.5555555555555556,
             "#d8576b"
            ],
            [
             0.6666666666666666,
             "#ed7953"
            ],
            [
             0.7777777777777778,
             "#fb9f3a"
            ],
            [
             0.8888888888888888,
             "#fdca26"
            ],
            [
             1.0,
             "#f0f921"
            ]
           ],
           "sequentialminus": [
            [
             0.0,
             "#0d0887"
            ],
            [
             0.1111111111111111,
             "#46039f"
            ],
            [
             0.2222222222222222,
             "#7201a8"
            ],
            [
             0.3333333333333333,
             "#9c179e"
            ],
            [
             0.4444444444444444,
             "#bd3786"
            ],
            [
             0.5555555555555556,
             "#d8576b"
            ],
            [
             0.6666666666666666,
             "#ed7953"
            ],
            [
             0.7777777777777778,
             "#fb9f3a"
            ],
            [
             0.8888888888888888,
             "#fdca26"
            ],
            [
             1.0,
             "#f0f921"
            ]
           ],
           "diverging": [
            [
             0,
             "#8e0152"
            ],
            [
             0.1,
             "#c51b7d"
            ],
            [
             0.2,
             "#de77ae"
            ],
            [
             0.3,
             "#f1b6da"
            ],
            [
             0.4,
             "#fde0ef"
            ],
            [
             0.5,
             "#f7f7f7"
            ],
            [
             0.6,
             "#e6f5d0"
            ],
            [
             0.7,
             "#b8e186"
            ],
            [
             0.8,
             "#7fbc41"
            ],
            [
             0.9,
             "#4d9221"
            ],
            [
             1,
             "#276419"
            ]
           ]
          },
          "xaxis": {
           "gridcolor": "white",
           "linecolor": "white",
           "ticks": "",
           "title": {
            "standoff": 15
           },
           "zerolinecolor": "white",
           "automargin": true,
           "zerolinewidth": 2
          },
          "yaxis": {
           "gridcolor": "white",
           "linecolor": "white",
           "ticks": "",
           "title": {
            "standoff": 15
           },
           "zerolinecolor": "white",
           "automargin": true,
           "zerolinewidth": 2
          },
          "scene": {
           "xaxis": {
            "backgroundcolor": "#E5ECF6",
            "gridcolor": "white",
            "linecolor": "white",
            "showbackground": true,
            "ticks": "",
            "zerolinecolor": "white",
            "gridwidth": 2
           },
           "yaxis": {
            "backgroundcolor": "#E5ECF6",
            "gridcolor": "white",
            "linecolor": "white",
            "showbackground": true,
            "ticks": "",
            "zerolinecolor": "white",
            "gridwidth": 2
           },
           "zaxis": {
            "backgroundcolor": "#E5ECF6",
            "gridcolor": "white",
            "linecolor": "white",
            "showbackground": true,
            "ticks": "",
            "zerolinecolor": "white",
            "gridwidth": 2
           }
          },
          "shapedefaults": {
           "line": {
            "color": "#2a3f5f"
           }
          },
          "annotationdefaults": {
           "arrowcolor": "#2a3f5f",
           "arrowhead": 0,
           "arrowwidth": 1
          },
          "geo": {
           "bgcolor": "white",
           "landcolor": "#E5ECF6",
           "subunitcolor": "white",
           "showland": true,
           "showlakes": true,
           "lakecolor": "white"
          },
          "title": {
           "x": 0.05
          },
          "mapbox": {
           "style": "light"
          }
         }
        },
        "xaxis": {
         "title": {
          "text": "groove_to_output_hit_hamming_distance"
         },
         "tickangle": 45
        },
        "yaxis": {
         "title": {
          "text": "accent_hamming_values_per_hit_hamming_normalized"
         },
         "tickangle": 0
        },
        "title": {
         "text": "Heatmap Histogram of Groove to Output Hit Hamming Distance vs Modified Accent Hamming Distance"
        },
        "width": 1200,
        "height": 400
       },
       "config": {
        "plotlyServerURL": "https://plot.ly"
       }
      }
     },
     "metadata": {},
     "output_type": "display_data"
    }
   ],
   "execution_count": 16
  },
  {
   "metadata": {
    "ExecuteTime": {
     "end_time": "2025-08-01T13:59:41.059227Z",
     "start_time": "2025-08-01T11:24:49.240243Z"
    }
   },
   "cell_type": "code",
   "source": "",
   "id": "34c7a099af350585",
   "outputs": [],
   "execution_count": null
  }
 ],
 "metadata": {
  "kernelspec": {
   "display_name": "Python 3",
   "language": "python",
   "name": "python3"
  },
  "language_info": {
   "codemirror_mode": {
    "name": "ipython",
    "version": 2
   },
   "file_extension": ".py",
   "mimetype": "text/x-python",
   "name": "python",
   "nbconvert_exporter": "python",
   "pygments_lexer": "ipython2",
   "version": "2.7.6"
  }
 },
 "nbformat": 4,
 "nbformat_minor": 5
}
