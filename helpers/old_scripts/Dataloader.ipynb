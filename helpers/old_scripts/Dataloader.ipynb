{
 "cells": [
  {
   "cell_type": "markdown",
   "id": "fe409667-5e8f-468a-bcd0-7ef63fdd995d",
   "metadata": {
    "ExecuteTime": {
     "end_time": "2025-08-09T09:50:05.250424Z",
     "start_time": "2025-08-09T09:50:05.243831Z"
    }
   },
   "source": [
    "# 1. Create the environment with Python 3.9\n",
    "conda create -n TripleStreams python=3.9 -y\n",
    "\n",
    "# 2. Activate it\n",
    "conda activate TripleStreams\n",
    "\n",
    "# 3. Install Jupyter + core dependencies\n",
    "conda install -c conda-forge jupyterlab notebook ipykernel \\\n",
    "    numpy=1.26 scipy=1.11 pandas matplotlib seaborn tqdm plotly bokeh=2.4.3 ffmpeg -y\n",
    "\n",
    "# 4. Install pip-only packages\n",
    "pip install note-seq pydub wandb\n",
    "\n",
    "# 5. Register environment as a Jupyter kernel\n",
    "python -m ipykernel install --user --name=TripleStreams --display-name \"Python (TripleStreams)\"\n"
   ]
  },
  {
   "cell_type": "code",
   "id": "a19f4225-e9e8-429e-8775-f72770da5891",
   "metadata": {
    "ExecuteTime": {
     "end_time": "2025-08-09T10:18:51.725393Z",
     "start_time": "2025-08-09T10:18:51.522358Z"
    }
   },
   "source": [
    "import os\n",
    "import pickle, bz2\n",
    "\n",
    "import tqdm\n",
    "from bokeh.io import output_notebook, show\n",
    "\n",
    "try:\n",
    "    import note_seq\n",
    "    HAS_NOTE_SEQ = True\n",
    "except:\n",
    "    HAS_NOTE_SEQ = False"
   ],
   "outputs": [
    {
     "name": "stderr",
     "output_type": "stream",
     "text": [
      "/Users/bezha/anaconda3/envs/TripleStreams/lib/python3.9/site-packages/pydub/utils.py:170: RuntimeWarning: Couldn't find ffmpeg or avconv - defaulting to ffmpeg, but may not work\n",
      "  warn(\"Couldn't find ffmpeg or avconv - defaulting to ffmpeg, but may not work\", RuntimeWarning)\n"
     ]
    }
   ],
   "execution_count": 1
  },
  {
   "cell_type": "code",
   "id": "e10086094576695c",
   "metadata": {
    "ExecuteTime": {
     "end_time": "2025-08-09T10:18:51.736562Z",
     "start_time": "2025-08-09T10:18:51.728409Z"
    }
   },
   "source": [
    "# loader\n",
    "import bz2, pickle\n",
    "\n",
    "class NumpyCompatUnpickler(pickle.Unpickler):\n",
    "    def find_class(self, module, name):\n",
    "        # Redirect legacy/private numpy path to the public one\n",
    "        if module == \"numpy._core\":\n",
    "            module = \"numpy.core\"\n",
    "        return super().find_class(module, name)\n",
    "\n",
    "def load_dataset(file_path):\n",
    "    with bz2.BZ2File(file_path, 'rb') as f:\n",
    "        return NumpyCompatUnpickler(f).load()\n",
    "\n",
    "\n",
    "def print_dataset_structure(dataset_dict, name=None):\n",
    "    first_level_keys = set()\n",
    "    second_level_keys = set()\n",
    "    third_level_keys = set()\n",
    "\n",
    "\n",
    "\n",
    "    for key, value in dataset_dict.items():\n",
    "        first_level_keys.add(key)\n",
    "        if isinstance(value, dict):\n",
    "            for sub_key in value.keys():\n",
    "                second_level_keys.add(sub_key)\n",
    "                if isinstance(value[sub_key], dict):\n",
    "                    for sub_sub_key in value[sub_key].keys():\n",
    "                        third_level_keys.add(sub_sub_key)\n",
    "\n",
    "    if name is not None:\n",
    "        print(f\"Dataset Structure for Dataset: {name}\")\n",
    "    else:\n",
    "        print(\"Dataset Structure:\")\n",
    "\n",
    "\n",
    "    print(\"----\"*10)\n",
    "    print(\"First Level Keys:\")\n",
    "    print(first_level_keys)\n",
    "    print(\"----\"*10)\n",
    "    print(\"Second Level Keys:\")\n",
    "    print(list(second_level_keys)[:10])\n",
    "    print(\"----\"*10)\n",
    "    print(\"Third Level Keys:\")\n",
    "    print(third_level_keys)\n",
    "    print(\"----\"*10)\n",
    "    print(\"\\n\")\n",
    "\n",
    "def print_all_datasets_structure(dataset_path_list):\n",
    "    for dataset_pkl in dataset_pkls:\n",
    "        dataset_path = os.path.join(data_dir, dataset_pkl)\n",
    "        dataset_dict = load_dataset(dataset_path)\n",
    "        print_dataset_structure(dataset_dict, name=dataset_pkl)\n",
    "        del dataset_dict\n",
    "\n",
    "# get all split_n_bar_phrases from last key\n",
    "def get_split_n_bar_phrases(dataset_path_list):\n",
    "    if not isinstance(dataset_path_list, list):\n",
    "        dataset_path_list = [dataset_path_list]\n",
    "\n",
    "    split_n_bar_phrases = list()\n",
    "\n",
    "    for dataset_pkl_ in dataset_path_list:\n",
    "        dataset_dict_ = load_dataset(os.path.join(data_dir, dataset_pkl_))\n",
    "        for key, value in dataset_dict_.items():\n",
    "            for sub_key, sub_value in value.items():\n",
    "                hvo_splits = sub_value['split_n_bar_phrases']\n",
    "                for hvo_split in hvo_splits:\n",
    "                    hvo_split.metadata.update({'collection': dataset_pkl_.replace('.pkl.bz2', ''), 'sample_id': sub_key})\n",
    "\n",
    "                split_n_bar_phrases.extend(sub_value['split_n_bar_phrases'])\n",
    "\n",
    "    return split_n_bar_phrases\n",
    "\n",
    "import random\n",
    "\n",
    "def get_randome_phrases(split_n_bar_phrases, n=1):\n",
    "    # returns hvos and their indexes in the split_n_bar_phrases list\n",
    "    if not isinstance(split_n_bar_phrases, list):\n",
    "        split_n_bar_phrases = [split_n_bar_phrases]\n",
    "    sample_ix = random.sample(range(len(split_n_bar_phrases)), n)\n",
    "    sample_hvo_phrases = [split_n_bar_phrases[ix] for ix in sample_ix]\n",
    "\n",
    "    return sample_hvo_phrases, sample_ix\n",
    "\n",
    "\n",
    "# version-safe imports\n",
    "from bokeh.io import output_notebook, show\n",
    "try:\n",
    "    # Bokeh ≥ 3.0\n",
    "    from bokeh.models import Tabs, TabPanel as Panel\n",
    "    HAS_TABPANEL = True\n",
    "except ImportError:\n",
    "    # Bokeh 2.x (your case: 2.4.3)\n",
    "    from bokeh.models.widgets import Tabs, Panel\n",
    "    HAS_TABPANEL = False\n",
    "\n",
    "\n",
    "import warnings\n",
    "import logging\n",
    "from bokeh.util.warnings import BokehUserWarning, BokehDeprecationWarning\n",
    "\n",
    "def setup_quiet_bokeh():\n",
    "    \"\"\"Set up comprehensive bokeh warning suppression\"\"\"\n",
    "    # Suppress warnings\n",
    "    warnings.filterwarnings(\"ignore\", category=BokehUserWarning)\n",
    "    warnings.filterwarnings(\"ignore\", category=BokehDeprecationWarning)\n",
    "    warnings.filterwarnings(\"ignore\", message=\".*bokeh.*\")\n",
    "\n",
    "    # Suppress logging\n",
    "    logging.getLogger('bokeh').setLevel(logging.ERROR)\n",
    "\n",
    "    # Suppress other common warnings that might appear with bokeh\n",
    "    warnings.filterwarnings(\"ignore\", category=FutureWarning)\n",
    "    warnings.filterwarnings(\"ignore\", category=UserWarning)\n",
    "\n",
    "def create_multitab_from_figures(hvos,  tab_titles=None, show_tabs= True):\n",
    "    \"\"\"\n",
    "    Create a multitab visualizer from already-generated bokeh figures.\n",
    "\n",
    "    Parameters:\n",
    "    -----------\n",
    "    figures : List\n",
    "        List of bokeh figure objects\n",
    "    tab_titles : List[str]\n",
    "        List of titles for each tab\n",
    "    show_tabs : bool, default=True\n",
    "        Whether to immediately show the tabs\n",
    "\n",
    "    Returns:\n",
    "    --------\n",
    "    Tabs\n",
    "        Bokeh Tabs object containing all the figures\n",
    "    \"\"\"\n",
    "    setup_quiet_bokeh()\n",
    "    output_notebook()\n",
    "\n",
    "    figures = []\n",
    "\n",
    "    generate_titles = False\n",
    "    if tab_titles is None:\n",
    "        tab_titles = []\n",
    "        generate_titles = True\n",
    "\n",
    "    if not isinstance(hvos, list):\n",
    "        hvos = [hvos]\n",
    "    for ix, hvo in enumerate(hvos):\n",
    "        figure = hvo.to_html_plot(\n",
    "            filename='',\n",
    "            save_figure=False,\n",
    "            show_figure=False)\n",
    "        figures.append(figure)\n",
    "        if generate_titles:\n",
    "            tab_titles.append(f\"Tab {ix+1}\")\n",
    "\n",
    "    if not isinstance(tab_titles, list):\n",
    "        tab_titles = [tab_titles]\n",
    "    if not tab_titles:\n",
    "        tab_titles = [f\"Tab {i+1}\" for i in range(len(figures))]\n",
    "    if len(figures) == 0:\n",
    "        raise ValueError(\"No figures provided to create tabs\")\n",
    "\n",
    "    if len(figures) != len(tab_titles):\n",
    "        raise ValueError(\"Number of figures must match number of tab titles\")\n",
    "\n",
    "    panels = []\n",
    "\n",
    "    for figure, title in zip(figures, tab_titles):\n",
    "        panel = TabPanel(child=figure, title=title) if HAS_TABPANEL else Panel(child=figure, title=title)\n",
    "        panels.append(panel)\n",
    "\n",
    "    tabs = Tabs(tabs=panels)\n",
    "\n",
    "    if show_tabs:\n",
    "        show(tabs)\n",
    "\n",
    "    return tabs\n",
    "\n",
    "\n"
   ],
   "outputs": [],
   "execution_count": 2
  },
  {
   "cell_type": "code",
   "id": "f69ff5991d811d35",
   "metadata": {
    "ExecuteTime": {
     "end_time": "2025-08-09T10:19:03.670855Z",
     "start_time": "2025-08-09T10:18:51.804432Z"
    }
   },
   "source": [
    "# LOAD DATASETS\n",
    "import os, pickle, bz2\n",
    "\n",
    "data_dir = \"data/triple_streams/split_2bars/rest\" # \"data/triple_streams/split_2bars/lmd or rest\"\n",
    "\n",
    "# find all .pkl.bz2 files in the directory\n",
    "# dataset_pkls = [f for f in os.listdir(data_dir) if f.endswith('.pkl.bz2')]\n",
    "dataset_pkls = ['groove_midi.pkl.bz2']\n",
    "# print the structure of each dataset\n",
    "print_all_datasets_structure(dataset_pkls)\n",
    "\n",
    "# load all loops from all datasets\n",
    "split_n_bar_phrases = get_split_n_bar_phrases(dataset_pkls)\n",
    "\n",
    "# print the number of phrases loaded\n",
    "print(f\"Number of split_n_bar_phrases loaded: {len(split_n_bar_phrases)}\")\n"
   ],
   "outputs": [
    {
     "name": "stderr",
     "output_type": "stream",
     "text": [
      "Could not import fluidsynth. AUDIO rendering will not work.\n"
     ]
    },
    {
     "name": "stdout",
     "output_type": "stream",
     "text": [
      "Dataset Structure for Dataset: groove_midi.pkl.bz2\n",
      "----------------------------------------\n",
      "First Level Keys:\n",
      "{'velocity', 'pitch', 'toms', 'functional', 'functionalhats'}\n",
      "----------------------------------------\n",
      "Second Level Keys:\n",
      "['19_jazz_120_beat_4-4', '16_rock_100_beat_4-4', '44_rock_120_beat_4-4', '4_rock_105_beat_4-4', '132_soul_105_beat_4-4', '1_funk-groove1_138_beat_4-4', '9_rock_135_beat_4-4', '188_reggae_78_fill_4-4', '35_rock_120_beat_4-4', '37_hiphop_100_fill_4-4']\n",
      "----------------------------------------\n",
      "Third Level Keys:\n",
      "{'split_n_bar_phrases', 'hvo_sequences', 'compiled_single_hvo', 'filenames'}\n",
      "----------------------------------------\n",
      "\n",
      "\n",
      "Number of split_n_bar_phrases loaded: 82687\n"
     ]
    }
   ],
   "execution_count": 3
  },
  {
   "cell_type": "code",
   "id": "d43b6e3a9e8f74da",
   "metadata": {
    "ExecuteTime": {
     "end_time": "2025-08-09T10:19:04.185706Z",
     "start_time": "2025-08-09T10:19:03.691290Z"
    }
   },
   "source": [
    "# INSPECT SOME HVO SAMPLES\n",
    "create_multitab_from_figures(split_n_bar_phrases[2000:2010], show_tabs=True)\n"
   ],
   "outputs": [
    {
     "data": {
      "text/html": [
       "<div class=\"bk-root\">\n",
       "        <a href=\"https://bokeh.org\" target=\"_blank\" class=\"bk-logo bk-logo-small bk-logo-notebook\"></a>\n",
       "        <span id=\"1002\">Loading BokehJS ...</span>\n",
       "    </div>\n"
      ]
     },
     "metadata": {},
     "output_type": "display_data"
    },
    {
     "data": {
      "application/javascript": "(function(root) {\n  function now() {\n    return new Date();\n  }\n\n  const force = true;\n\n  if (typeof root._bokeh_onload_callbacks === \"undefined\" || force === true) {\n    root._bokeh_onload_callbacks = [];\n    root._bokeh_is_loading = undefined;\n  }\n\nconst JS_MIME_TYPE = 'application/javascript';\n  const HTML_MIME_TYPE = 'text/html';\n  const EXEC_MIME_TYPE = 'application/vnd.bokehjs_exec.v0+json';\n  const CLASS_NAME = 'output_bokeh rendered_html';\n\n  /**\n   * Render data to the DOM node\n   */\n  function render(props, node) {\n    const script = document.createElement(\"script\");\n    node.appendChild(script);\n  }\n\n  /**\n   * Handle when an output is cleared or removed\n   */\n  function handleClearOutput(event, handle) {\n    const cell = handle.cell;\n\n    const id = cell.output_area._bokeh_element_id;\n    const server_id = cell.output_area._bokeh_server_id;\n    // Clean up Bokeh references\n    if (id != null && id in Bokeh.index) {\n      Bokeh.index[id].model.document.clear();\n      delete Bokeh.index[id];\n    }\n\n    if (server_id !== undefined) {\n      // Clean up Bokeh references\n      const cmd_clean = \"from bokeh.io.state import curstate; print(curstate().uuid_to_server['\" + server_id + \"'].get_sessions()[0].document.roots[0]._id)\";\n      cell.notebook.kernel.execute(cmd_clean, {\n        iopub: {\n          output: function(msg) {\n            const id = msg.content.text.trim();\n            if (id in Bokeh.index) {\n              Bokeh.index[id].model.document.clear();\n              delete Bokeh.index[id];\n            }\n          }\n        }\n      });\n      // Destroy server and session\n      const cmd_destroy = \"import bokeh.io.notebook as ion; ion.destroy_server('\" + server_id + \"')\";\n      cell.notebook.kernel.execute(cmd_destroy);\n    }\n  }\n\n  /**\n   * Handle when a new output is added\n   */\n  function handleAddOutput(event, handle) {\n    const output_area = handle.output_area;\n    const output = handle.output;\n\n    // limit handleAddOutput to display_data with EXEC_MIME_TYPE content only\n    if ((output.output_type != \"display_data\") || (!Object.prototype.hasOwnProperty.call(output.data, EXEC_MIME_TYPE))) {\n      return\n    }\n\n    const toinsert = output_area.element.find(\".\" + CLASS_NAME.split(' ')[0]);\n\n    if (output.metadata[EXEC_MIME_TYPE][\"id\"] !== undefined) {\n      toinsert[toinsert.length - 1].firstChild.textContent = output.data[JS_MIME_TYPE];\n      // store reference to embed id on output_area\n      output_area._bokeh_element_id = output.metadata[EXEC_MIME_TYPE][\"id\"];\n    }\n    if (output.metadata[EXEC_MIME_TYPE][\"server_id\"] !== undefined) {\n      const bk_div = document.createElement(\"div\");\n      bk_div.innerHTML = output.data[HTML_MIME_TYPE];\n      const script_attrs = bk_div.children[0].attributes;\n      for (let i = 0; i < script_attrs.length; i++) {\n        toinsert[toinsert.length - 1].firstChild.setAttribute(script_attrs[i].name, script_attrs[i].value);\n        toinsert[toinsert.length - 1].firstChild.textContent = bk_div.children[0].textContent\n      }\n      // store reference to server id on output_area\n      output_area._bokeh_server_id = output.metadata[EXEC_MIME_TYPE][\"server_id\"];\n    }\n  }\n\n  function register_renderer(events, OutputArea) {\n\n    function append_mime(data, metadata, element) {\n      // create a DOM node to render to\n      const toinsert = this.create_output_subarea(\n        metadata,\n        CLASS_NAME,\n        EXEC_MIME_TYPE\n      );\n      this.keyboard_manager.register_events(toinsert);\n      // Render to node\n      const props = {data: data, metadata: metadata[EXEC_MIME_TYPE]};\n      render(props, toinsert[toinsert.length - 1]);\n      element.append(toinsert);\n      return toinsert\n    }\n\n    /* Handle when an output is cleared or removed */\n    events.on('clear_output.CodeCell', handleClearOutput);\n    events.on('delete.Cell', handleClearOutput);\n\n    /* Handle when a new output is added */\n    events.on('output_added.OutputArea', handleAddOutput);\n\n    /**\n     * Register the mime type and append_mime function with output_area\n     */\n    OutputArea.prototype.register_mime_type(EXEC_MIME_TYPE, append_mime, {\n      /* Is output safe? */\n      safe: true,\n      /* Index of renderer in `output_area.display_order` */\n      index: 0\n    });\n  }\n\n  // register the mime type if in Jupyter Notebook environment and previously unregistered\n  if (root.Jupyter !== undefined) {\n    const events = require('base/js/events');\n    const OutputArea = require('notebook/js/outputarea').OutputArea;\n\n    if (OutputArea.prototype.mime_types().indexOf(EXEC_MIME_TYPE) == -1) {\n      register_renderer(events, OutputArea);\n    }\n  }\n  if (typeof (root._bokeh_timeout) === \"undefined\" || force === true) {\n    root._bokeh_timeout = Date.now() + 5000;\n    root._bokeh_failed_load = false;\n  }\n\n  const NB_LOAD_WARNING = {'data': {'text/html':\n     \"<div style='background-color: #fdd'>\\n\"+\n     \"<p>\\n\"+\n     \"BokehJS does not appear to have successfully loaded. If loading BokehJS from CDN, this \\n\"+\n     \"may be due to a slow or bad network connection. Possible fixes:\\n\"+\n     \"</p>\\n\"+\n     \"<ul>\\n\"+\n     \"<li>re-rerun `output_notebook()` to attempt to load from CDN again, or</li>\\n\"+\n     \"<li>use INLINE resources instead, as so:</li>\\n\"+\n     \"</ul>\\n\"+\n     \"<code>\\n\"+\n     \"from bokeh.resources import INLINE\\n\"+\n     \"output_notebook(resources=INLINE)\\n\"+\n     \"</code>\\n\"+\n     \"</div>\"}};\n\n  function display_loaded() {\n    const el = document.getElementById(\"1002\");\n    if (el != null) {\n      el.textContent = \"BokehJS is loading...\";\n    }\n    if (root.Bokeh !== undefined) {\n      if (el != null) {\n        el.textContent = \"BokehJS \" + root.Bokeh.version + \" successfully loaded.\";\n      }\n    } else if (Date.now() < root._bokeh_timeout) {\n      setTimeout(display_loaded, 100)\n    }\n  }\n\n  function run_callbacks() {\n    try {\n      root._bokeh_onload_callbacks.forEach(function(callback) {\n        if (callback != null)\n          callback();\n      });\n    } finally {\n      delete root._bokeh_onload_callbacks\n    }\n    console.debug(\"Bokeh: all callbacks have finished\");\n  }\n\n  function load_libs(css_urls, js_urls, callback) {\n    if (css_urls == null) css_urls = [];\n    if (js_urls == null) js_urls = [];\n\n    root._bokeh_onload_callbacks.push(callback);\n    if (root._bokeh_is_loading > 0) {\n      console.debug(\"Bokeh: BokehJS is being loaded, scheduling callback at\", now());\n      return null;\n    }\n    if (js_urls == null || js_urls.length === 0) {\n      run_callbacks();\n      return null;\n    }\n    console.debug(\"Bokeh: BokehJS not loaded, scheduling load and callback at\", now());\n    root._bokeh_is_loading = css_urls.length + js_urls.length;\n\n    function on_load() {\n      root._bokeh_is_loading--;\n      if (root._bokeh_is_loading === 0) {\n        console.debug(\"Bokeh: all BokehJS libraries/stylesheets loaded\");\n        run_callbacks()\n      }\n    }\n\n    function on_error(url) {\n      console.error(\"failed to load \" + url);\n    }\n\n    for (let i = 0; i < css_urls.length; i++) {\n      const url = css_urls[i];\n      const element = document.createElement(\"link\");\n      element.onload = on_load;\n      element.onerror = on_error.bind(null, url);\n      element.rel = \"stylesheet\";\n      element.type = \"text/css\";\n      element.href = url;\n      console.debug(\"Bokeh: injecting link tag for BokehJS stylesheet: \", url);\n      document.body.appendChild(element);\n    }\n\n    for (let i = 0; i < js_urls.length; i++) {\n      const url = js_urls[i];\n      const element = document.createElement('script');\n      element.onload = on_load;\n      element.onerror = on_error.bind(null, url);\n      element.async = false;\n      element.src = url;\n      console.debug(\"Bokeh: injecting script tag for BokehJS library: \", url);\n      document.head.appendChild(element);\n    }\n  };\n\n  function inject_raw_css(css) {\n    const element = document.createElement(\"style\");\n    element.appendChild(document.createTextNode(css));\n    document.body.appendChild(element);\n  }\n\n  const js_urls = [\"https://cdn.bokeh.org/bokeh/release/bokeh-2.4.3.min.js\", \"https://cdn.bokeh.org/bokeh/release/bokeh-gl-2.4.3.min.js\", \"https://cdn.bokeh.org/bokeh/release/bokeh-widgets-2.4.3.min.js\", \"https://cdn.bokeh.org/bokeh/release/bokeh-tables-2.4.3.min.js\", \"https://cdn.bokeh.org/bokeh/release/bokeh-mathjax-2.4.3.min.js\"];\n  const css_urls = [];\n\n  const inline_js = [    function(Bokeh) {\n      Bokeh.set_log_level(\"info\");\n    },\nfunction(Bokeh) {\n    }\n  ];\n\n  function run_inline_js() {\n    if (root.Bokeh !== undefined || force === true) {\n          for (let i = 0; i < inline_js.length; i++) {\n      inline_js[i].call(root, root.Bokeh);\n    }\nif (force === true) {\n        display_loaded();\n      }} else if (Date.now() < root._bokeh_timeout) {\n      setTimeout(run_inline_js, 100);\n    } else if (!root._bokeh_failed_load) {\n      console.log(\"Bokeh: BokehJS failed to load within specified timeout.\");\n      root._bokeh_failed_load = true;\n    } else if (force !== true) {\n      const cell = $(document.getElementById(\"1002\")).parents('.cell').data().cell;\n      cell.output_area.append_execute_result(NB_LOAD_WARNING)\n    }\n  }\n\n  if (root._bokeh_is_loading === 0) {\n    console.debug(\"Bokeh: BokehJS loaded, going straight to plotting\");\n    run_inline_js();\n  } else {\n    load_libs(css_urls, js_urls, function() {\n      console.debug(\"Bokeh: BokehJS plotting callback run at\", now());\n      run_inline_js();\n    });\n  }\n}(window));",
      "application/vnd.bokehjs_load.v0+json": "(function(root) {\n  function now() {\n    return new Date();\n  }\n\n  const force = true;\n\n  if (typeof root._bokeh_onload_callbacks === \"undefined\" || force === true) {\n    root._bokeh_onload_callbacks = [];\n    root._bokeh_is_loading = undefined;\n  }\n\n\n  if (typeof (root._bokeh_timeout) === \"undefined\" || force === true) {\n    root._bokeh_timeout = Date.now() + 5000;\n    root._bokeh_failed_load = false;\n  }\n\n  const NB_LOAD_WARNING = {'data': {'text/html':\n     \"<div style='background-color: #fdd'>\\n\"+\n     \"<p>\\n\"+\n     \"BokehJS does not appear to have successfully loaded. If loading BokehJS from CDN, this \\n\"+\n     \"may be due to a slow or bad network connection. Possible fixes:\\n\"+\n     \"</p>\\n\"+\n     \"<ul>\\n\"+\n     \"<li>re-rerun `output_notebook()` to attempt to load from CDN again, or</li>\\n\"+\n     \"<li>use INLINE resources instead, as so:</li>\\n\"+\n     \"</ul>\\n\"+\n     \"<code>\\n\"+\n     \"from bokeh.resources import INLINE\\n\"+\n     \"output_notebook(resources=INLINE)\\n\"+\n     \"</code>\\n\"+\n     \"</div>\"}};\n\n  function display_loaded() {\n    const el = document.getElementById(\"1002\");\n    if (el != null) {\n      el.textContent = \"BokehJS is loading...\";\n    }\n    if (root.Bokeh !== undefined) {\n      if (el != null) {\n        el.textContent = \"BokehJS \" + root.Bokeh.version + \" successfully loaded.\";\n      }\n    } else if (Date.now() < root._bokeh_timeout) {\n      setTimeout(display_loaded, 100)\n    }\n  }\n\n  function run_callbacks() {\n    try {\n      root._bokeh_onload_callbacks.forEach(function(callback) {\n        if (callback != null)\n          callback();\n      });\n    } finally {\n      delete root._bokeh_onload_callbacks\n    }\n    console.debug(\"Bokeh: all callbacks have finished\");\n  }\n\n  function load_libs(css_urls, js_urls, callback) {\n    if (css_urls == null) css_urls = [];\n    if (js_urls == null) js_urls = [];\n\n    root._bokeh_onload_callbacks.push(callback);\n    if (root._bokeh_is_loading > 0) {\n      console.debug(\"Bokeh: BokehJS is being loaded, scheduling callback at\", now());\n      return null;\n    }\n    if (js_urls == null || js_urls.length === 0) {\n      run_callbacks();\n      return null;\n    }\n    console.debug(\"Bokeh: BokehJS not loaded, scheduling load and callback at\", now());\n    root._bokeh_is_loading = css_urls.length + js_urls.length;\n\n    function on_load() {\n      root._bokeh_is_loading--;\n      if (root._bokeh_is_loading === 0) {\n        console.debug(\"Bokeh: all BokehJS libraries/stylesheets loaded\");\n        run_callbacks()\n      }\n    }\n\n    function on_error(url) {\n      console.error(\"failed to load \" + url);\n    }\n\n    for (let i = 0; i < css_urls.length; i++) {\n      const url = css_urls[i];\n      const element = document.createElement(\"link\");\n      element.onload = on_load;\n      element.onerror = on_error.bind(null, url);\n      element.rel = \"stylesheet\";\n      element.type = \"text/css\";\n      element.href = url;\n      console.debug(\"Bokeh: injecting link tag for BokehJS stylesheet: \", url);\n      document.body.appendChild(element);\n    }\n\n    for (let i = 0; i < js_urls.length; i++) {\n      const url = js_urls[i];\n      const element = document.createElement('script');\n      element.onload = on_load;\n      element.onerror = on_error.bind(null, url);\n      element.async = false;\n      element.src = url;\n      console.debug(\"Bokeh: injecting script tag for BokehJS library: \", url);\n      document.head.appendChild(element);\n    }\n  };\n\n  function inject_raw_css(css) {\n    const element = document.createElement(\"style\");\n    element.appendChild(document.createTextNode(css));\n    document.body.appendChild(element);\n  }\n\n  const js_urls = [\"https://cdn.bokeh.org/bokeh/release/bokeh-2.4.3.min.js\", \"https://cdn.bokeh.org/bokeh/release/bokeh-gl-2.4.3.min.js\", \"https://cdn.bokeh.org/bokeh/release/bokeh-widgets-2.4.3.min.js\", \"https://cdn.bokeh.org/bokeh/release/bokeh-tables-2.4.3.min.js\", \"https://cdn.bokeh.org/bokeh/release/bokeh-mathjax-2.4.3.min.js\"];\n  const css_urls = [];\n\n  const inline_js = [    function(Bokeh) {\n      Bokeh.set_log_level(\"info\");\n    },\nfunction(Bokeh) {\n    }\n  ];\n\n  function run_inline_js() {\n    if (root.Bokeh !== undefined || force === true) {\n          for (let i = 0; i < inline_js.length; i++) {\n      inline_js[i].call(root, root.Bokeh);\n    }\nif (force === true) {\n        display_loaded();\n      }} else if (Date.now() < root._bokeh_timeout) {\n      setTimeout(run_inline_js, 100);\n    } else if (!root._bokeh_failed_load) {\n      console.log(\"Bokeh: BokehJS failed to load within specified timeout.\");\n      root._bokeh_failed_load = true;\n    } else if (force !== true) {\n      const cell = $(document.getElementById(\"1002\")).parents('.cell').data().cell;\n      cell.output_area.append_execute_result(NB_LOAD_WARNING)\n    }\n  }\n\n  if (root._bokeh_is_loading === 0) {\n    console.debug(\"Bokeh: BokehJS loaded, going straight to plotting\");\n    run_inline_js();\n  } else {\n    load_libs(css_urls, js_urls, function() {\n      console.debug(\"Bokeh: BokehJS plotting callback run at\", now());\n      run_inline_js();\n    });\n  }\n}(window));"
     },
     "metadata": {},
     "output_type": "display_data"
    },
    {
     "data": {
      "text/html": [
       "\n",
       "  <div class=\"bk-root\" id=\"55007a44-23b2-476e-9034-f408737f571c\" data-root-id=\"2623\"></div>\n"
      ]
     },
     "metadata": {},
     "output_type": "display_data"
    },
    {
     "data": {
      "application/javascript": "(function(root) {\n  function embed_document(root) {\n  const docs_json = {\"99622fa1-f200-4f5c-93f8-329027b0b484\":{\"defs\":[],\"roots\":{\"references\":[{\"attributes\":{\"tabs\":[{\"id\":\"2613\"},{\"id\":\"2614\"},{\"id\":\"2615\"},{\"id\":\"2616\"},{\"id\":\"2617\"},{\"id\":\"2618\"},{\"id\":\"2619\"},{\"id\":\"2620\"},{\"id\":\"2621\"},{\"id\":\"2622\"}]},\"id\":\"2623\",\"type\":\"Tabs\"},{\"attributes\":{},\"id\":\"1669\",\"type\":\"HelpTool\"},{\"attributes\":{},\"id\":\"1691\",\"type\":\"BasicTickFormatter\"},{\"attributes\":{\"axis\":{\"id\":\"1016\"},\"coordinates\":null,\"dimension\":1,\"grid_line_color\":null,\"group\":null,\"ticker\":null},\"id\":\"1019\",\"type\":\"Grid\"},{\"attributes\":{\"source\":{\"id\":\"2161\"}},\"id\":\"2167\",\"type\":\"CDSView\"},{\"attributes\":{\"source\":{\"id\":\"2105\"}},\"id\":\"2111\",\"type\":\"CDSView\"},{\"attributes\":{},\"id\":\"2497\",\"type\":\"AllLabels\"},{\"attributes\":{},\"id\":\"2496\",\"type\":\"BasicTickFormatter\"},{\"attributes\":{\"label\":{\"value\":\"Metadata\"},\"renderers\":[{\"id\":\"1949\"}]},\"id\":\"1966\",\"type\":\"LegendItem\"},{\"attributes\":{\"fill_color\":{\"value\":\"#1EA087\"},\"line_color\":{\"value\":\"#1EA087\"},\"size\":{\"value\":10},\"x\":{\"field\":\"x\"},\"y\":{\"field\":\"y\"}},\"id\":\"2107\",\"type\":\"Circle\"},{\"attributes\":{},\"id\":\"2172\",\"type\":\"AllLabels\"},{\"attributes\":{\"fill_alpha\":{\"value\":0.2},\"fill_color\":{\"value\":\"#1EA087\"},\"hatch_alpha\":{\"value\":0.2},\"line_alpha\":{\"value\":0.2},\"line_color\":{\"value\":\"#1EA087\"},\"size\":{\"value\":10},\"x\":{\"field\":\"x\"},\"y\":{\"field\":\"y\"}},\"id\":\"2109\",\"type\":\"Circle\"},{\"attributes\":{},\"id\":\"2498\",\"type\":\"UnionRenderers\"},{\"attributes\":{\"fill_alpha\":{\"value\":0.2},\"fill_color\":{\"value\":\"#1EA087\"},\"hatch_alpha\":{\"value\":0.2},\"line_alpha\":{\"value\":0.2},\"line_color\":{\"value\":\"#1EA087\"},\"size\":{\"value\":10},\"x\":{\"field\":\"x\"},\"y\":{\"field\":\"y\"}},\"id\":\"1948\",\"type\":\"Circle\"},{\"attributes\":{\"fill_alpha\":{\"value\":0.1},\"fill_color\":{\"value\":\"#1EA087\"},\"hatch_alpha\":{\"value\":0.1},\"line_alpha\":{\"value\":0.1},\"line_color\":{\"value\":\"#1EA087\"},\"size\":{\"value\":10},\"x\":{\"field\":\"x\"},\"y\":{\"field\":\"y\"}},\"id\":\"2108\",\"type\":\"Circle\"},{\"attributes\":{},\"id\":\"2174\",\"type\":\"BasicTickFormatter\"},{\"attributes\":{},\"id\":\"1020\",\"type\":\"PanTool\"},{\"attributes\":{},\"id\":\"1694\",\"type\":\"Selection\"},{\"attributes\":{},\"id\":\"1021\",\"type\":\"WheelZoomTool\"},{\"attributes\":{\"callback\":null,\"renderers\":[{\"id\":\"1949\"}],\"tooltips\":[[\"track_number\",\"@track_number\"],[\"genre\",\"@genre\"],[\"bpm\",\"@bpm\"],[\"meter\",\"@meter\"],[\"grouping\",\"@grouping\"],[\"member\",\"@member\"],[\"source\",\"@source\"],[\"stream_0\",\"@stream_0\"],[\"stream_1\",\"@stream_1\"],[\"stream_2\",\"@stream_2\"],[\"stream_3\",\"@stream_3\"],[\"start_bar\",\"@start_bar\"],[\"collection\",\"@collection\"],[\"sample_id\",\"@sample_id\"]]},\"id\":\"1967\",\"type\":\"HoverTool\"},{\"attributes\":{\"bottom\":{\"field\":\"bottom\"},\"fill_alpha\":{\"value\":0.1},\"fill_color\":{\"value\":\"grey\"},\"hatch_alpha\":{\"value\":0.1},\"left\":{\"field\":\"start\"},\"line_alpha\":{\"value\":0.1},\"line_color\":{\"value\":\"grey\"},\"right\":{\"field\":\"end\"},\"top\":{\"field\":\"top\"}},\"id\":\"2164\",\"type\":\"Quad\"},{\"attributes\":{\"background_fill_alpha\":0.25,\"border_line_alpha\":0,\"click_policy\":\"hide\",\"coordinates\":null,\"glyph_width\":15,\"group\":null,\"items\":[{\"id\":\"1697\"},{\"id\":\"1757\"},{\"id\":\"1780\"},{\"id\":\"1805\"}],\"label_standoff\":8,\"label_text_color\":\"#5B5B5B\",\"label_text_font\":\"Calibri Light\",\"label_text_font_size\":\"0.95em\",\"label_text_font_style\":\"bold\",\"spacing\":8},\"id\":\"1696\",\"type\":\"Legend\"},{\"attributes\":{\"coordinates\":null,\"data_source\":{\"id\":\"2161\"},\"glyph\":{\"id\":\"2163\"},\"group\":null,\"hover_glyph\":null,\"muted_glyph\":{\"id\":\"2165\"},\"nonselection_glyph\":{\"id\":\"2164\"},\"view\":{\"id\":\"2167\"}},\"id\":\"2166\",\"type\":\"GlyphRenderer\"},{\"attributes\":{\"label\":{\"value\":\"Piano Roll\"},\"renderers\":[{\"id\":\"1683\"}]},\"id\":\"1697\",\"type\":\"LegendItem\"},{\"attributes\":{\"coordinates\":null,\"data_source\":{\"id\":\"2105\"},\"glyph\":{\"id\":\"2107\"},\"group\":null,\"hover_glyph\":null,\"muted_glyph\":{\"id\":\"2109\"},\"nonselection_glyph\":{\"id\":\"2108\"},\"view\":{\"id\":\"2111\"}},\"id\":\"2110\",\"type\":\"GlyphRenderer\"},{\"attributes\":{\"below\":[{\"id\":\"2139\"}],\"center\":[{\"id\":\"2142\"},{\"id\":\"2146\"},{\"id\":\"2179\"},{\"id\":\"2186\"},{\"id\":\"2187\"},{\"id\":\"2188\"},{\"id\":\"2189\"},{\"id\":\"2190\"},{\"id\":\"2191\"},{\"id\":\"2192\"},{\"id\":\"2193\"},{\"id\":\"2194\"},{\"id\":\"2195\"},{\"id\":\"2196\"},{\"id\":\"2197\"},{\"id\":\"2198\"},{\"id\":\"2199\"},{\"id\":\"2200\"},{\"id\":\"2201\"},{\"id\":\"2202\"},{\"id\":\"2203\"},{\"id\":\"2204\"},{\"id\":\"2205\"},{\"id\":\"2206\"},{\"id\":\"2207\"},{\"id\":\"2208\"},{\"id\":\"2209\"},{\"id\":\"2212\"},{\"id\":\"2213\"},{\"id\":\"2214\"},{\"id\":\"2215\"},{\"id\":\"2216\"},{\"id\":\"2217\"},{\"id\":\"2218\"},{\"id\":\"2219\"},{\"id\":\"2220\"},{\"id\":\"2221\"}],\"height\":400,\"left\":[{\"id\":\"2143\"}],\"renderers\":[{\"id\":\"2166\"},{\"id\":\"2227\"},{\"id\":\"2248\"},{\"id\":\"2271\"}],\"right\":[{\"id\":\"2179\"}],\"title\":{\"id\":\"2168\"},\"toolbar\":{\"id\":\"2154\"},\"width\":800,\"x_range\":{\"id\":\"2131\"},\"x_scale\":{\"id\":\"2135\"},\"y_range\":{\"id\":\"2133\"},\"y_scale\":{\"id\":\"2137\"}},\"id\":\"2130\",\"subtype\":\"Figure\",\"type\":\"Plot\"},{\"attributes\":{},\"id\":\"2124\",\"type\":\"UnionRenderers\"},{\"attributes\":{\"label\":{\"value\":\"Metadata\"},\"renderers\":[{\"id\":\"2110\"}]},\"id\":\"2127\",\"type\":\"LegendItem\"},{\"attributes\":{},\"id\":\"2237\",\"type\":\"UnionRenderers\"},{\"attributes\":{\"label\":{\"value\":\"Metadata\"},\"renderers\":[{\"id\":\"1305\"}]},\"id\":\"1322\",\"type\":\"LegendItem\"},{\"attributes\":{},\"id\":\"1024\",\"type\":\"ResetTool\"},{\"attributes\":{\"bottom_units\":\"screen\",\"coordinates\":null,\"fill_alpha\":0.5,\"fill_color\":\"lightgrey\",\"group\":null,\"left_units\":\"screen\",\"level\":\"overlay\",\"line_alpha\":1.0,\"line_color\":\"black\",\"line_dash\":[4,4],\"line_width\":2,\"right_units\":\"screen\",\"syncable\":false,\"top_units\":\"screen\"},\"id\":\"2153\",\"type\":\"BoxAnnotation\"},{\"attributes\":{},\"id\":\"1025\",\"type\":\"HelpTool\"},{\"attributes\":{},\"id\":\"1023\",\"type\":\"SaveTool\"},{\"attributes\":{\"callback\":null,\"renderers\":[{\"id\":\"2110\"}],\"tooltips\":[[\"track_number\",\"@track_number\"],[\"genre\",\"@genre\"],[\"bpm\",\"@bpm\"],[\"meter\",\"@meter\"],[\"grouping\",\"@grouping\"],[\"member\",\"@member\"],[\"source\",\"@source\"],[\"stream_0\",\"@stream_0\"],[\"stream_1\",\"@stream_1\"],[\"stream_2\",\"@stream_2\"],[\"stream_3\",\"@stream_3\"],[\"start_bar\",\"@start_bar\"],[\"collection\",\"@collection\"],[\"sample_id\",\"@sample_id\"]]},\"id\":\"2128\",\"type\":\"HoverTool\"},{\"attributes\":{},\"id\":\"2125\",\"type\":\"Selection\"},{\"attributes\":{},\"id\":\"2499\",\"type\":\"Selection\"},{\"attributes\":{\"data\":{\"bottom\":{\"__ndarray__\":\"mpmZmZmZyb+amZmZmZnpP2ZmZmZmZgZAmpmZmZmZyb/NzMzMzMz8P5qZmZmZmcm/ZmZmZmZmBkCamZmZmZnJv83MzMzMzPw/mpmZmZmZyb+amZmZmZnpP2ZmZmZmZgZAmpmZmZmZyb9mZmZmZmYGQJqZmZmZmcm/ZmZmZmZmBkCamZmZmZnJv83MzMzMzPw/mpmZmZmZyb+amZmZmZnpP2ZmZmZmZgZAmpmZmZmZyb/NzMzMzMz8P5qZmZmZmcm/ZmZmZmZmBkCamZmZmZnJv83MzMzMzPw/mpmZmZmZyb+amZmZmZnpP2ZmZmZmZgZAmpmZmZmZyb/NzMzMzMz8P5qZmZmZmcm/ZmZmZmZmBkCamZmZmZnJv2ZmZmZmZgZAmpmZmZmZyb+amZmZmZnpP83MzMzMzPw/ZmZmZmZmBkCamZmZmZnJv83MzMzMzPw/mpmZmZmZyb9mZmZmZmYGQJqZmZmZmcm/zczMzMzM/D+amZmZmZnJv5qZmZmZmek/ZmZmZmZmBkCamZmZmZnJv83MzMzMzPw/mpmZmZmZyb9mZmZmZmYGQJqZmZmZmcm/mpmZmZmZ6T9mZmZmZmYGQJqZmZmZmcm/zczMzMzM/D9mZmZmZmYGQJqZmZmZmcm/zczMzMzM/D+amZmZmZnJv2ZmZmZmZgZAmpmZmZmZyb/NzMzMzMz8P5qZmZmZmcm/mpmZmZmZ6T9mZmZmZmYGQJqZmZmZmcm/zczMzMzM/D+amZmZmZnJv2ZmZmZmZgZAmpmZmZmZyb+amZmZmZnpP2ZmZmZmZgZA\",\"dtype\":\"float64\",\"order\":\"little\",\"shape\":[75]},\"end\":[0.035250000000000004,0.035250000000000004,0.069375,0.176125,0.176125,0.30562500000000004,0.30562500000000004,0.4125,0.4125,0.542,0.542,0.5625,0.692,0.692,0.823875,0.823875,0.9375,0.9375,1.021625,1.021625,1.067,1.183,1.183,1.296625,1.296625,1.421625,1.421625,1.551125,1.551125,1.551125,1.66475,1.66475,1.792,1.792,1.919375,1.919375,2.003375,2.003375,2.042,2.055625,2.151125,2.151125,2.278375,2.278375,2.398875,2.398875,2.51025,2.51025,2.53975,2.669375,2.669375,2.796625,2.796625,2.921625,2.998875,2.921625,3.042,3.053375,3.042,3.167,3.167,3.278375,3.278375,3.396625,3.396625,3.51475,3.51475,3.526125,3.642,3.642,3.76025,3.76025,3.8875,3.971625,3.8875],\"grid_line\":[0,0,0,1,1,2,2,3,3,4,4,4,5,5,6,6,7,7,8,8,8,9,9,10,10,11,11,12,12,12,13,13,14,14,15,15,16,16,16,16,17,17,18,18,19,19,20,20,20,21,21,22,22,23,23,23,24,24,24,25,25,26,26,27,27,28,28,28,29,29,30,30,31,31,31],\"instrument\":[\"stream_0\",\"stream_1\",\"stream_3\",\"stream_0\",\"stream_2\",\"stream_0\",\"stream_3\",\"stream_0\",\"stream_2\",\"stream_0\",\"stream_1\",\"stream_3\",\"stream_0\",\"stream_3\",\"stream_0\",\"stream_3\",\"stream_0\",\"stream_2\",\"stream_0\",\"stream_1\",\"stream_3\",\"stream_0\",\"stream_2\",\"stream_0\",\"stream_3\",\"stream_0\",\"stream_2\",\"stream_0\",\"stream_1\",\"stream_3\",\"stream_0\",\"stream_2\",\"stream_0\",\"stream_3\",\"stream_0\",\"stream_3\",\"stream_0\",\"stream_1\",\"stream_2\",\"stream_3\",\"stream_0\",\"stream_2\",\"stream_0\",\"stream_3\",\"stream_0\",\"stream_2\",\"stream_0\",\"stream_1\",\"stream_3\",\"stream_0\",\"stream_2\",\"stream_0\",\"stream_3\",\"stream_0\",\"stream_1\",\"stream_3\",\"stream_0\",\"stream_2\",\"stream_3\",\"stream_0\",\"stream_2\",\"stream_0\",\"stream_3\",\"stream_0\",\"stream_2\",\"stream_0\",\"stream_1\",\"stream_3\",\"stream_0\",\"stream_2\",\"stream_0\",\"stream_3\",\"stream_0\",\"stream_1\",\"stream_3\"],\"midi\":[36,38,46,36,42,36,46,36,42,36,38,46,36,46,36,46,36,42,36,38,46,36,42,36,46,36,42,36,38,46,36,42,36,46,36,46,36,38,42,46,36,42,36,46,36,42,36,38,46,36,42,36,46,36,38,46,36,42,46,36,42,36,46,36,42,36,38,46,36,42,36,46,36,38,46],\"offset\":[-0.218,-0.218,0.055,-0.091,-0.091,-0.055,-0.055,-0.2,-0.2,-0.164,-0.164,0.0,0.036,0.036,0.091,0.091,0.0,0.0,-0.327,-0.327,0.036,-0.036,-0.036,-0.127,-0.127,-0.127,-0.127,-0.091,-0.091,-0.091,-0.182,-0.182,-0.164,-0.164,-0.145,-0.145,-0.473,-0.473,-0.164,-0.055,-0.291,-0.291,-0.273,-0.273,-0.309,-0.309,-0.418,-0.418,-0.182,-0.145,-0.145,-0.127,-0.127,-0.127,0.491,-0.127,-0.164,-0.073,-0.164,-0.164,-0.164,-0.273,-0.273,-0.327,-0.327,-0.382,-0.382,-0.291,-0.364,-0.364,-0.418,-0.418,-0.4,0.273,-0.4],\"offset_sec\":[-0.027,-0.027,0.007,-0.011,-0.011,-0.007,-0.007,-0.025,-0.025,-0.02,-0.02,0.0,0.004,0.004,0.011,0.011,0.0,0.0,-0.041,-0.041,0.004,-0.004,-0.004,-0.016,-0.016,-0.016,-0.016,-0.011,-0.011,-0.011,-0.023,-0.023,-0.02,-0.02,-0.018,-0.018,-0.059,-0.059,-0.02,-0.007,-0.036,-0.036,-0.034,-0.034,-0.039,-0.039,-0.052,-0.052,-0.023,-0.018,-0.018,-0.016,-0.016,-0.016,0.061,-0.016,-0.02,-0.009,-0.02,-0.02,-0.02,-0.034,-0.034,-0.041,-0.041,-0.048,-0.048,-0.036,-0.046,-0.046,-0.052,-0.052,-0.05,0.034,-0.05],\"start\":[-0.02725,-0.02725,0.006875,0.113625,0.113625,0.243125,0.243125,0.35,0.35,0.4795,0.4795,0.5,0.6295,0.6295,0.761375,0.761375,0.875,0.875,0.959125,0.959125,1.0045,1.1205,1.1205,1.234125,1.234125,1.359125,1.359125,1.488625,1.488625,1.488625,1.60225,1.60225,1.7295,1.7295,1.856875,1.856875,1.940875,1.940875,1.9795,1.993125,2.088625,2.088625,2.215875,2.215875,2.336375,2.336375,2.44775,2.44775,2.47725,2.606875,2.606875,2.734125,2.734125,2.859125,2.936375,2.859125,2.9795,2.990875,2.9795,3.1045,3.1045,3.215875,3.215875,3.334125,3.334125,3.45225,3.45225,3.463625,3.5795,3.5795,3.69775,3.69775,3.825,3.909125,3.825],\"top\":{\"__ndarray__\":\"mpmZmZmZyT8zMzMzMzPzP5qZmZmZmQlAmpmZmZmZyT+amZmZmZkBQJqZmZmZmck/mpmZmZmZCUCamZmZmZnJP5qZmZmZmQFAmpmZmZmZyT8zMzMzMzPzP5qZmZmZmQlAmpmZmZmZyT+amZmZmZkJQJqZmZmZmck/mpmZmZmZCUCamZmZmZnJP5qZmZmZmQFAmpmZmZmZyT8zMzMzMzPzP5qZmZmZmQlAmpmZmZmZyT+amZmZmZkBQJqZmZmZmck/mpmZmZmZCUCamZmZmZnJP5qZmZmZmQFAmpmZmZmZyT8zMzMzMzPzP5qZmZmZmQlAmpmZmZmZyT+amZmZmZkBQJqZmZmZmck/mpmZmZmZCUCamZmZmZnJP5qZmZmZmQlAmpmZmZmZyT8zMzMzMzPzP5qZmZmZmQFAmpmZmZmZCUCamZmZmZnJP5qZmZmZmQFAmpmZmZmZyT+amZmZmZkJQJqZmZmZmck/mpmZmZmZAUCamZmZmZnJPzMzMzMzM/M/mpmZmZmZCUCamZmZmZnJP5qZmZmZmQFAmpmZmZmZyT+amZmZmZkJQJqZmZmZmck/MzMzMzMz8z+amZmZmZkJQJqZmZmZmck/mpmZmZmZAUCamZmZmZkJQJqZmZmZmck/mpmZmZmZAUCamZmZmZnJP5qZmZmZmQlAmpmZmZmZyT+amZmZmZkBQJqZmZmZmck/MzMzMzMz8z+amZmZmZkJQJqZmZmZmck/mpmZmZmZAUCamZmZmZnJP5qZmZmZmQlAmpmZmZmZyT8zMzMzMzPzP5qZmZmZmQlA\",\"dtype\":\"float64\",\"order\":\"little\",\"shape\":[75]},\"velocity\":[0.213,0.213,1.0,0.386,0.386,0.969,0.969,0.488,0.488,0.173,0.173,1.0,0.591,0.591,0.906,0.906,0.543,0.543,0.213,0.213,1.0,0.504,0.504,0.74,0.74,0.465,0.465,0.213,0.213,0.992,0.37,0.37,1.0,1.0,0.669,0.669,0.173,0.173,0.48,1.0,0.488,0.488,1.0,1.0,0.535,0.535,0.197,0.197,1.0,0.441,0.441,0.732,0.732,0.669,0.197,0.669,1.0,0.496,1.0,0.512,0.512,0.921,0.921,0.528,0.528,0.213,0.213,0.858,0.425,0.425,1.0,1.0,1.0,0.213,1.0],\"voice_index\":[0,1,3,0,2,0,3,0,2,0,1,3,0,3,0,3,0,2,0,1,3,0,2,0,3,0,2,0,1,3,0,2,0,3,0,3,0,1,2,3,0,2,0,3,0,2,0,1,3,0,2,0,3,0,1,3,0,2,3,0,2,0,3,0,2,0,1,3,0,2,0,3,0,1,3]},\"selected\":{\"id\":\"2177\"},\"selection_policy\":{\"id\":\"2176\"}},\"id\":\"2161\",\"type\":\"ColumnDataSource\"},{\"attributes\":{},\"id\":\"2175\",\"type\":\"AllLabels\"},{\"attributes\":{},\"id\":\"1664\",\"type\":\"PanTool\"},{\"attributes\":{\"overlay\":{\"id\":\"1670\"}},\"id\":\"1666\",\"type\":\"BoxZoomTool\"},{\"attributes\":{\"coordinates\":null,\"data_source\":{\"id\":\"1678\"},\"glyph\":{\"id\":\"1680\"},\"group\":null,\"hover_glyph\":null,\"muted_glyph\":{\"id\":\"1682\"},\"nonselection_glyph\":{\"id\":\"1681\"},\"view\":{\"id\":\"1684\"}},\"id\":\"1683\",\"type\":\"GlyphRenderer\"},{\"attributes\":{\"axis\":{\"id\":\"1660\"},\"coordinates\":null,\"dimension\":1,\"grid_line_color\":null,\"group\":null,\"ticker\":null},\"id\":\"1663\",\"type\":\"Grid\"},{\"attributes\":{},\"id\":\"1854\",\"type\":\"UnionRenderers\"},{\"attributes\":{},\"id\":\"1665\",\"type\":\"WheelZoomTool\"},{\"attributes\":{},\"id\":\"1692\",\"type\":\"AllLabels\"},{\"attributes\":{\"callback\":null,\"renderers\":[{\"id\":\"1926\"}],\"tooltips\":[[\"Numerator\",\"@Numerator\"],[\"Denominator\",\"@Denominator\"],[\"grid_index\",\"@grid_index\"]]},\"id\":\"1942\",\"type\":\"HoverTool\"},{\"attributes\":{\"tools\":[{\"id\":\"1664\"},{\"id\":\"1665\"},{\"id\":\"1666\"},{\"id\":\"1667\"},{\"id\":\"1668\"},{\"id\":\"1669\"},{\"id\":\"1698\"},{\"id\":\"1758\"},{\"id\":\"1781\"},{\"id\":\"1806\"}]},\"id\":\"1671\",\"type\":\"Toolbar\"},{\"attributes\":{\"overlay\":{\"id\":\"1026\"}},\"id\":\"1022\",\"type\":\"BoxZoomTool\"},{\"attributes\":{\"axis\":{\"id\":\"1012\"},\"coordinates\":null,\"grid_line_color\":null,\"group\":null,\"ticker\":null},\"id\":\"1015\",\"type\":\"Grid\"},{\"attributes\":{\"end\":4.2625,\"start\":-0.3875},\"id\":\"2131\",\"type\":\"DataRange1d\"},{\"attributes\":{\"bottom\":{\"field\":\"bottom\"},\"fill_alpha\":{\"value\":0.1},\"fill_color\":{\"value\":\"grey\"},\"hatch_alpha\":{\"value\":0.1},\"left\":{\"field\":\"start\"},\"line_alpha\":{\"value\":0.1},\"line_color\":{\"value\":\"grey\"},\"right\":{\"field\":\"end\"},\"top\":{\"field\":\"top\"}},\"id\":\"1681\",\"type\":\"Quad\"},{\"attributes\":{\"coordinates\":null,\"dimension\":\"height\",\"group\":null,\"line_width\":0.1,\"location\":0.75},\"id\":\"1707\",\"type\":\"Span\"},{\"attributes\":{\"tools\":[{\"id\":\"1020\"},{\"id\":\"1021\"},{\"id\":\"1022\"},{\"id\":\"1023\"},{\"id\":\"1024\"},{\"id\":\"1025\"},{\"id\":\"1054\"},{\"id\":\"1114\"},{\"id\":\"1137\"},{\"id\":\"1162\"}]},\"id\":\"1027\",\"type\":\"Toolbar\"},{\"attributes\":{\"axis_label\":\"Instrument\",\"axis_label_standoff\":10,\"axis_label_text_color\":\"#5B5B5B\",\"axis_label_text_font\":\"Calibri Light\",\"axis_label_text_font_size\":\"1.15em\",\"axis_label_text_font_style\":\"bold\",\"axis_line_alpha\":1,\"axis_line_color\":\"#5B5B5B\",\"coordinates\":null,\"formatter\":{\"id\":\"1688\"},\"group\":null,\"major_label_overrides\":{\"0\":\"stream_0\",\"1\":\"stream_1\",\"2\":\"stream_2\",\"3\":\"stream_3\"},\"major_label_policy\":{\"id\":\"1689\"},\"major_label_text_color\":\"#5B5B5B\",\"major_label_text_font\":\"Calibri Light\",\"major_label_text_font_size\":\"0.95em\",\"major_label_text_font_style\":\"bold\",\"major_tick_in\":0,\"major_tick_line_alpha\":0.25,\"major_tick_line_color\":\"#5B5B5B\",\"major_tick_out\":3,\"minor_tick_line_alpha\":0.25,\"minor_tick_line_color\":\"#5B5B5B\",\"ticker\":{\"id\":\"1701\"}},\"id\":\"1660\",\"type\":\"LinearAxis\"},{\"attributes\":{\"source\":{\"id\":\"1678\"}},\"id\":\"1684\",\"type\":\"CDSView\"},{\"attributes\":{\"bottom_units\":\"screen\",\"coordinates\":null,\"fill_alpha\":0.5,\"fill_color\":\"lightgrey\",\"group\":null,\"left_units\":\"screen\",\"level\":\"overlay\",\"line_alpha\":1.0,\"line_color\":\"black\",\"line_dash\":[4,4],\"line_width\":2,\"right_units\":\"screen\",\"syncable\":false,\"top_units\":\"screen\"},\"id\":\"1670\",\"type\":\"BoxAnnotation\"},{\"attributes\":{},\"id\":\"1667\",\"type\":\"SaveTool\"},{\"attributes\":{\"callback\":null,\"renderers\":[{\"id\":\"1683\"}],\"tooltips\":[[\"start\",\"@start\"],[\"end\",\"@end\"],[\"instrument\",\"@instrument\"],[\"voice_index\",\"@voice_index\"],[\"midi\",\"@midi\"],[\"velocity\",\"@velocity\"],[\"offset\",\"@offset\"],[\"offset_sec\",\"@offset_sec\"],[\"grid_line\",\"@grid_line\"]]},\"id\":\"1698\",\"type\":\"HoverTool\"},{\"attributes\":{\"axis_label\":\"Instrument\",\"axis_label_standoff\":10,\"axis_label_text_color\":\"#5B5B5B\",\"axis_label_text_font\":\"Calibri Light\",\"axis_label_text_font_size\":\"1.15em\",\"axis_label_text_font_style\":\"bold\",\"axis_line_alpha\":1,\"axis_line_color\":\"#5B5B5B\",\"coordinates\":null,\"formatter\":{\"id\":\"2171\"},\"group\":null,\"major_label_overrides\":{\"0\":\"stream_0\",\"1\":\"stream_1\",\"2\":\"stream_2\",\"3\":\"stream_3\"},\"major_label_policy\":{\"id\":\"2172\"},\"major_label_text_color\":\"#5B5B5B\",\"major_label_text_font\":\"Calibri Light\",\"major_label_text_font_size\":\"0.95em\",\"major_label_text_font_style\":\"bold\",\"major_tick_in\":0,\"major_tick_line_alpha\":0.25,\"major_tick_line_color\":\"#5B5B5B\",\"major_tick_out\":3,\"minor_tick_line_alpha\":0.25,\"minor_tick_line_color\":\"#5B5B5B\",\"ticker\":{\"id\":\"2184\"}},\"id\":\"2143\",\"type\":\"LinearAxis\"},{\"attributes\":{\"coordinates\":null,\"dimension\":\"height\",\"group\":null,\"line_width\":0.1,\"location\":1.25},\"id\":\"1710\",\"type\":\"Span\"},{\"attributes\":{},\"id\":\"2137\",\"type\":\"LinearScale\"},{\"attributes\":{},\"id\":\"1688\",\"type\":\"BasicTickFormatter\"},{\"attributes\":{\"end\":5.75,\"start\":-0.5},\"id\":\"2133\",\"type\":\"Range1d\"},{\"attributes\":{\"coordinates\":null,\"dimension\":\"height\",\"group\":null,\"line_width\":0.1,\"location\":0.875},\"id\":\"1708\",\"type\":\"Span\"},{\"attributes\":{},\"id\":\"2135\",\"type\":\"LinearScale\"},{\"attributes\":{\"ticks\":[0,1,2,3]},\"id\":\"1701\",\"type\":\"FixedTicker\"},{\"attributes\":{\"axis_label\":\"Time (sec)\",\"axis_label_standoff\":10,\"axis_label_text_color\":\"#5B5B5B\",\"axis_label_text_font\":\"Calibri Light\",\"axis_label_text_font_size\":\"1.15em\",\"axis_label_text_font_style\":\"bold\",\"axis_line_alpha\":1,\"axis_line_color\":\"#5B5B5B\",\"coordinates\":null,\"formatter\":{\"id\":\"2174\"},\"group\":null,\"major_label_orientation\":1.57,\"major_label_policy\":{\"id\":\"2175\"},\"major_label_text_color\":\"#5B5B5B\",\"major_label_text_font\":\"Calibri Light\",\"major_label_text_font_size\":\"0.95em\",\"major_label_text_font_style\":\"bold\",\"major_tick_in\":0,\"major_tick_line_alpha\":0.25,\"major_tick_line_color\":\"#5B5B5B\",\"major_tick_out\":3,\"minor_tick_line_alpha\":0.25,\"minor_tick_line_color\":\"#5B5B5B\",\"ticker\":{\"id\":\"2210\"}},\"id\":\"2139\",\"type\":\"LinearAxis\"},{\"attributes\":{},\"id\":\"1668\",\"type\":\"ResetTool\"},{\"attributes\":{\"axis_label\":\"Instrument\",\"axis_label_standoff\":10,\"axis_label_text_color\":\"#5B5B5B\",\"axis_label_text_font\":\"Calibri Light\",\"axis_label_text_font_size\":\"1.15em\",\"axis_label_text_font_style\":\"bold\",\"axis_line_alpha\":1,\"axis_line_color\":\"#5B5B5B\",\"coordinates\":null,\"formatter\":{\"id\":\"1044\"},\"group\":null,\"major_label_overrides\":{\"0\":\"stream_0\",\"1\":\"stream_1\",\"2\":\"stream_2\",\"3\":\"stream_3\"},\"major_label_policy\":{\"id\":\"1045\"},\"major_label_text_color\":\"#5B5B5B\",\"major_label_text_font\":\"Calibri Light\",\"major_label_text_font_size\":\"0.95em\",\"major_label_text_font_style\":\"bold\",\"major_tick_in\":0,\"major_tick_line_alpha\":0.25,\"major_tick_line_color\":\"#5B5B5B\",\"major_tick_out\":3,\"minor_tick_line_alpha\":0.25,\"minor_tick_line_color\":\"#5B5B5B\",\"ticker\":{\"id\":\"1057\"}},\"id\":\"1016\",\"type\":\"LinearAxis\"},{\"attributes\":{},\"id\":\"1689\",\"type\":\"AllLabels\"},{\"attributes\":{\"bottom\":{\"field\":\"bottom\"},\"fill_alpha\":{\"value\":0.2},\"fill_color\":{\"value\":\"grey\"},\"hatch_alpha\":{\"value\":0.2},\"left\":{\"field\":\"start\"},\"line_alpha\":{\"value\":0.2},\"line_color\":{\"value\":\"grey\"},\"right\":{\"field\":\"end\"},\"top\":{\"field\":\"top\"}},\"id\":\"1682\",\"type\":\"Quad\"},{\"attributes\":{\"data\":{\"grid_index\":[0],\"tempo\":[120.0],\"x\":[0.0],\"y\":[4.5]},\"selected\":{\"id\":\"1755\"},\"selection_policy\":{\"id\":\"1754\"}},\"id\":\"1739\",\"type\":\"ColumnDataSource\"},{\"attributes\":{\"coordinates\":null,\"group\":null,\"text_color\":\"#5B5B5B\",\"text_font\":\"Calibri Light\",\"text_font_size\":\"1.25em\",\"text_font_style\":\"bold\"},\"id\":\"1685\",\"type\":\"Title\"},{\"attributes\":{},\"id\":\"1693\",\"type\":\"UnionRenderers\"},{\"attributes\":{\"coordinates\":null,\"dimension\":\"height\",\"group\":null,\"line_width\":0.1,\"location\":0.625},\"id\":\"1706\",\"type\":\"Span\"},{\"attributes\":{\"coordinates\":null,\"dimension\":\"height\",\"group\":null,\"line_width\":0.1,\"location\":0.125},\"id\":\"1703\",\"type\":\"Span\"},{\"attributes\":{\"coordinates\":null,\"dimension\":\"height\",\"group\":null,\"line_width\":0.1,\"location\":1.125},\"id\":\"1709\",\"type\":\"Span\"},{\"attributes\":{\"axis\":{\"id\":\"2139\"},\"coordinates\":null,\"grid_line_color\":null,\"group\":null,\"ticker\":null},\"id\":\"2142\",\"type\":\"Grid\"},{\"attributes\":{},\"id\":\"2176\",\"type\":\"UnionRenderers\"},{\"attributes\":{\"coordinates\":null,\"dimension\":\"height\",\"group\":null,\"line_width\":0.1,\"location\":0.375},\"id\":\"1705\",\"type\":\"Span\"},{\"attributes\":{\"axis\":{\"id\":\"2143\"},\"coordinates\":null,\"dimension\":1,\"grid_line_color\":null,\"group\":null,\"ticker\":null},\"id\":\"2146\",\"type\":\"Grid\"},{\"attributes\":{\"bottom_units\":\"screen\",\"coordinates\":null,\"fill_alpha\":0.5,\"fill_color\":\"lightgrey\",\"group\":null,\"left_units\":\"screen\",\"level\":\"overlay\",\"line_alpha\":1.0,\"line_color\":\"black\",\"line_dash\":[4,4],\"line_width\":2,\"right_units\":\"screen\",\"syncable\":false,\"top_units\":\"screen\"},\"id\":\"1026\",\"type\":\"BoxAnnotation\"},{\"attributes\":{\"coordinates\":null,\"dimension\":\"height\",\"group\":null,\"line_width\":0.1,\"location\":0.25},\"id\":\"1704\",\"type\":\"Span\"},{\"attributes\":{},\"id\":\"2177\",\"type\":\"Selection\"},{\"attributes\":{},\"id\":\"2338\",\"type\":\"Selection\"},{\"attributes\":{\"bottom\":{\"field\":\"bottom\"},\"fill_alpha\":{\"value\":0.1},\"fill_color\":{\"value\":\"grey\"},\"hatch_alpha\":{\"value\":0.1},\"left\":{\"field\":\"start\"},\"line_alpha\":{\"value\":0.1},\"line_color\":{\"value\":\"grey\"},\"right\":{\"field\":\"end\"},\"top\":{\"field\":\"top\"}},\"id\":\"1037\",\"type\":\"Quad\"},{\"attributes\":{\"source\":{\"id\":\"1034\"}},\"id\":\"1040\",\"type\":\"CDSView\"},{\"attributes\":{\"bottom\":{\"field\":\"bottom\"},\"fill_alpha\":{\"value\":0.2},\"fill_color\":{\"value\":\"grey\"},\"hatch_alpha\":{\"value\":0.2},\"left\":{\"field\":\"start\"},\"line_alpha\":{\"value\":0.2},\"line_color\":{\"value\":\"grey\"},\"right\":{\"field\":\"end\"},\"top\":{\"field\":\"top\"}},\"id\":\"1038\",\"type\":\"Quad\"},{\"attributes\":{\"bottom_units\":\"screen\",\"coordinates\":null,\"fill_alpha\":0.5,\"fill_color\":\"lightgrey\",\"group\":null,\"left_units\":\"screen\",\"level\":\"overlay\",\"line_alpha\":1.0,\"line_color\":\"black\",\"line_dash\":[4,4],\"line_width\":2,\"right_units\":\"screen\",\"syncable\":false,\"top_units\":\"screen\"},\"id\":\"1992\",\"type\":\"BoxAnnotation\"},{\"attributes\":{\"end\":4.2625,\"start\":-0.3875},\"id\":\"1326\",\"type\":\"DataRange1d\"},{\"attributes\":{\"label\":{\"value\":\"Metadata\"},\"renderers\":[{\"id\":\"2432\"}]},\"id\":\"2449\",\"type\":\"LegendItem\"},{\"attributes\":{\"callback\":null,\"renderers\":[{\"id\":\"2432\"}],\"tooltips\":[[\"track_number\",\"@track_number\"],[\"genre\",\"@genre\"],[\"bpm\",\"@bpm\"],[\"meter\",\"@meter\"],[\"grouping\",\"@grouping\"],[\"member\",\"@member\"],[\"source\",\"@source\"],[\"stream_0\",\"@stream_0\"],[\"stream_1\",\"@stream_1\"],[\"stream_2\",\"@stream_2\"],[\"stream_3\",\"@stream_3\"],[\"start_bar\",\"@start_bar\"],[\"collection\",\"@collection\"],[\"sample_id\",\"@sample_id\"]]},\"id\":\"2450\",\"type\":\"HoverTool\"},{\"attributes\":{\"background_fill_alpha\":0.25,\"border_line_alpha\":0,\"click_policy\":\"hide\",\"coordinates\":null,\"glyph_width\":15,\"group\":null,\"items\":[{\"id\":\"2019\"},{\"id\":\"2079\"},{\"id\":\"2102\"},{\"id\":\"2127\"}],\"label_standoff\":8,\"label_text_color\":\"#5B5B5B\",\"label_text_font\":\"Calibri Light\",\"label_text_font_size\":\"0.95em\",\"label_text_font_style\":\"bold\",\"spacing\":8},\"id\":\"2018\",\"type\":\"Legend\"},{\"attributes\":{},\"id\":\"2446\",\"type\":\"UnionRenderers\"},{\"attributes\":{\"below\":[{\"id\":\"2300\"}],\"center\":[{\"id\":\"2303\"},{\"id\":\"2307\"},{\"id\":\"2340\"},{\"id\":\"2347\"},{\"id\":\"2348\"},{\"id\":\"2349\"},{\"id\":\"2350\"},{\"id\":\"2351\"},{\"id\":\"2352\"},{\"id\":\"2353\"},{\"id\":\"2354\"},{\"id\":\"2355\"},{\"id\":\"2356\"},{\"id\":\"2357\"},{\"id\":\"2358\"},{\"id\":\"2359\"},{\"id\":\"2360\"},{\"id\":\"2361\"},{\"id\":\"2362\"},{\"id\":\"2363\"},{\"id\":\"2364\"},{\"id\":\"2365\"},{\"id\":\"2366\"},{\"id\":\"2367\"},{\"id\":\"2368\"},{\"id\":\"2369\"},{\"id\":\"2370\"},{\"id\":\"2373\"},{\"id\":\"2374\"},{\"id\":\"2375\"},{\"id\":\"2376\"},{\"id\":\"2377\"},{\"id\":\"2378\"},{\"id\":\"2379\"},{\"id\":\"2380\"},{\"id\":\"2381\"},{\"id\":\"2382\"}],\"height\":400,\"left\":[{\"id\":\"2304\"}],\"renderers\":[{\"id\":\"2327\"},{\"id\":\"2388\"},{\"id\":\"2409\"},{\"id\":\"2432\"}],\"right\":[{\"id\":\"2340\"}],\"title\":{\"id\":\"2329\"},\"toolbar\":{\"id\":\"2315\"},\"width\":800,\"x_range\":{\"id\":\"2292\"},\"x_scale\":{\"id\":\"2296\"},\"y_range\":{\"id\":\"2294\"},\"y_scale\":{\"id\":\"2298\"}},\"id\":\"2291\",\"subtype\":\"Figure\",\"type\":\"Plot\"},{\"attributes\":{},\"id\":\"2014\",\"type\":\"AllLabels\"},{\"attributes\":{},\"id\":\"2447\",\"type\":\"Selection\"},{\"attributes\":{\"coordinates\":null,\"data_source\":{\"id\":\"1034\"},\"glyph\":{\"id\":\"1036\"},\"group\":null,\"hover_glyph\":null,\"muted_glyph\":{\"id\":\"1038\"},\"nonselection_glyph\":{\"id\":\"1037\"},\"view\":{\"id\":\"1040\"}},\"id\":\"1039\",\"type\":\"GlyphRenderer\"},{\"attributes\":{\"coordinates\":null,\"dimension\":\"height\",\"group\":null,\"line_width\":0.1,\"location\":1.75},\"id\":\"1713\",\"type\":\"Span\"},{\"attributes\":{\"coordinates\":null,\"dimension\":\"height\",\"group\":null,\"line_width\":0.1,\"location\":1.875},\"id\":\"1714\",\"type\":\"Span\"},{\"attributes\":{\"coordinates\":null,\"dimension\":\"height\",\"group\":null,\"line_width\":0.1,\"location\":2.125},\"id\":\"1715\",\"type\":\"Span\"},{\"attributes\":{\"coordinates\":null,\"dimension\":\"height\",\"group\":null,\"line_width\":0.1,\"location\":2.25},\"id\":\"1716\",\"type\":\"Span\"},{\"attributes\":{\"bottom\":{\"field\":\"bottom\"},\"fill_alpha\":{\"field\":\"velocity\"},\"fill_color\":{\"value\":\"grey\"},\"left\":{\"field\":\"start\"},\"line_color\":{\"value\":\"grey\"},\"right\":{\"field\":\"end\"},\"top\":{\"field\":\"top\"}},\"id\":\"1036\",\"type\":\"Quad\"},{\"attributes\":{\"coordinates\":null,\"dimension\":\"height\",\"group\":null,\"line_width\":0.1,\"location\":2.375},\"id\":\"1717\",\"type\":\"Span\"},{\"attributes\":{\"coordinates\":null,\"dimension\":\"height\",\"group\":null,\"line_width\":0.1,\"location\":2.625},\"id\":\"1718\",\"type\":\"Span\"},{\"attributes\":{\"coordinates\":null,\"dimension\":\"height\",\"group\":null,\"line_width\":0.1,\"location\":2.75},\"id\":\"1719\",\"type\":\"Span\"},{\"attributes\":{\"below\":[{\"id\":\"1334\"}],\"center\":[{\"id\":\"1337\"},{\"id\":\"1341\"},{\"id\":\"1374\"},{\"id\":\"1381\"},{\"id\":\"1382\"},{\"id\":\"1383\"},{\"id\":\"1384\"},{\"id\":\"1385\"},{\"id\":\"1386\"},{\"id\":\"1387\"},{\"id\":\"1388\"},{\"id\":\"1389\"},{\"id\":\"1390\"},{\"id\":\"1391\"},{\"id\":\"1392\"},{\"id\":\"1393\"},{\"id\":\"1394\"},{\"id\":\"1395\"},{\"id\":\"1396\"},{\"id\":\"1397\"},{\"id\":\"1398\"},{\"id\":\"1399\"},{\"id\":\"1400\"},{\"id\":\"1401\"},{\"id\":\"1402\"},{\"id\":\"1403\"},{\"id\":\"1404\"},{\"id\":\"1407\"},{\"id\":\"1408\"},{\"id\":\"1409\"},{\"id\":\"1410\"},{\"id\":\"1411\"},{\"id\":\"1412\"},{\"id\":\"1413\"},{\"id\":\"1414\"},{\"id\":\"1415\"},{\"id\":\"1416\"}],\"height\":400,\"left\":[{\"id\":\"1338\"}],\"renderers\":[{\"id\":\"1361\"},{\"id\":\"1422\"},{\"id\":\"1443\"},{\"id\":\"1466\"}],\"right\":[{\"id\":\"1374\"}],\"title\":{\"id\":\"1363\"},\"toolbar\":{\"id\":\"1349\"},\"width\":800,\"x_range\":{\"id\":\"1326\"},\"x_scale\":{\"id\":\"1330\"},\"y_range\":{\"id\":\"1328\"},\"y_scale\":{\"id\":\"1332\"}},\"id\":\"1325\",\"subtype\":\"Figure\",\"type\":\"Plot\"},{\"attributes\":{\"data\":{\"grid_index\":[0],\"tempo\":[120.0],\"x\":[0.0],\"y\":[4.5]},\"selected\":{\"id\":\"1433\"},\"selection_policy\":{\"id\":\"1432\"}},\"id\":\"1417\",\"type\":\"ColumnDataSource\"},{\"attributes\":{\"bottom\":{\"field\":\"bottom\"},\"fill_alpha\":{\"value\":0.1},\"fill_color\":{\"value\":\"grey\"},\"hatch_alpha\":{\"value\":0.1},\"left\":{\"field\":\"start\"},\"line_alpha\":{\"value\":0.1},\"line_color\":{\"value\":\"grey\"},\"right\":{\"field\":\"end\"},\"top\":{\"field\":\"top\"}},\"id\":\"2003\",\"type\":\"Quad\"},{\"attributes\":{\"coordinates\":null,\"dimension\":\"height\",\"group\":null,\"line_width\":0.1,\"location\":3.375},\"id\":\"1079\",\"type\":\"Span\"},{\"attributes\":{\"data\":{\"bottom\":{\"__ndarray__\":\"mpmZmZmZyb+amZmZmZnpP83MzMzMzPw/ZmZmZmZmBkCamZmZmZnJv83MzMzMzPw/mpmZmZmZyb9mZmZmZmYGQJqZmZmZmcm/zczMzMzM/D+amZmZmZnJv5qZmZmZmek/ZmZmZmZmBkCamZmZmZnJv83MzMzMzPw/mpmZmZmZyb9mZmZmZmYGQJqZmZmZmcm/mpmZmZmZ6T9mZmZmZmYGQJqZmZmZmcm/zczMzMzM/D9mZmZmZmYGQJqZmZmZmcm/zczMzMzM/D+amZmZmZnJv2ZmZmZmZgZAmpmZmZmZyb/NzMzMzMz8P5qZmZmZmcm/mpmZmZmZ6T9mZmZmZmYGQJqZmZmZmcm/zczMzMzM/D+amZmZmZnJv2ZmZmZmZgZAmpmZmZmZyb+amZmZmZnpP2ZmZmZmZgZAmpmZmZmZyb9mZmZmZmYGQJqZmZmZmcm/zczMzMzM/D+amZmZmZnJv2ZmZmZmZgZAmpmZmZmZyb/NzMzMzMz8P5qZmZmZmcm/mpmZmZmZ6T9mZmZmZmYGQJqZmZmZmcm/zczMzMzM/D+amZmZmZnJv2ZmZmZmZgZAmpmZmZmZyb9mZmZmZmYGQJqZmZmZmcm/mpmZmZmZ6T9mZmZmZmYGQJqZmZmZmcm/mpmZmZmZ6T+amZmZmZnJv2ZmZmZmZgZAmpmZmZmZyb/NzMzMzMz8P2ZmZmZmZgZAmpmZmZmZyb+amZmZmZnpP2ZmZmZmZgZAmpmZmZmZyb/NzMzMzMz8P5qZmZmZmcm/ZmZmZmZmBkCamZmZmZnJv2ZmZmZmZgZA\",\"dtype\":\"float64\",\"order\":\"little\",\"shape\":[75]},\"end\":[0.003375000000000003,0.003375000000000003,0.041999999999999996,0.055625,0.151125,0.151125,0.278375,0.278375,0.398875,0.398875,0.51025,0.51025,0.53975,0.669375,0.669375,0.796625,0.796625,0.921625,0.998875,0.921625,1.042,1.053375,1.042,1.167,1.167,1.278375,1.278375,1.396625,1.396625,1.51475,1.51475,1.526125,1.642,1.642,1.76025,1.76025,1.8875,1.971625,1.8875,2.017,2.017,2.155625,2.155625,2.278375,2.278375,2.41475,2.41475,2.51475,2.51475,2.546625,2.676125,2.676125,2.796625,2.796625,2.908,2.908,3.023875,3.023875,3.06025,3.171625,3.171625,3.294375,3.294375,3.421625,3.421625,3.43975,3.555625,3.558,3.555625,3.692,3.692,3.808,3.808,3.923875,3.923875],\"grid_line\":[0,0,0,0,1,1,2,2,3,3,4,4,4,5,5,6,6,7,7,7,8,8,8,9,9,10,10,11,11,12,12,12,13,13,14,14,15,15,15,16,16,17,17,18,18,19,19,20,20,20,21,21,22,22,23,23,24,24,24,25,25,26,26,27,27,27,28,28,28,29,29,30,30,31,31],\"instrument\":[\"stream_0\",\"stream_1\",\"stream_2\",\"stream_3\",\"stream_0\",\"stream_2\",\"stream_0\",\"stream_3\",\"stream_0\",\"stream_2\",\"stream_0\",\"stream_1\",\"stream_3\",\"stream_0\",\"stream_2\",\"stream_0\",\"stream_3\",\"stream_0\",\"stream_1\",\"stream_3\",\"stream_0\",\"stream_2\",\"stream_3\",\"stream_0\",\"stream_2\",\"stream_0\",\"stream_3\",\"stream_0\",\"stream_2\",\"stream_0\",\"stream_1\",\"stream_3\",\"stream_0\",\"stream_2\",\"stream_0\",\"stream_3\",\"stream_0\",\"stream_1\",\"stream_3\",\"stream_0\",\"stream_3\",\"stream_0\",\"stream_2\",\"stream_0\",\"stream_3\",\"stream_0\",\"stream_2\",\"stream_0\",\"stream_1\",\"stream_3\",\"stream_0\",\"stream_2\",\"stream_0\",\"stream_3\",\"stream_0\",\"stream_3\",\"stream_0\",\"stream_1\",\"stream_3\",\"stream_0\",\"stream_1\",\"stream_0\",\"stream_3\",\"stream_0\",\"stream_2\",\"stream_3\",\"stream_0\",\"stream_1\",\"stream_3\",\"stream_0\",\"stream_2\",\"stream_0\",\"stream_3\",\"stream_0\",\"stream_3\"],\"midi\":[36,38,42,46,36,42,36,46,36,42,36,38,46,36,42,36,46,36,38,46,36,42,46,36,42,36,46,36,42,36,38,46,36,42,36,46,36,38,46,36,46,36,42,36,46,36,42,36,38,46,36,42,36,46,36,46,36,38,46,36,38,36,46,36,42,46,36,38,46,36,42,36,46,36,46],\"offset\":[-0.473,-0.473,-0.164,-0.055,-0.291,-0.291,-0.273,-0.273,-0.309,-0.309,-0.418,-0.418,-0.182,-0.145,-0.145,-0.127,-0.127,-0.127,0.491,-0.127,-0.164,-0.073,-0.164,-0.164,-0.164,-0.273,-0.273,-0.327,-0.327,-0.382,-0.382,-0.291,-0.364,-0.364,-0.418,-0.418,-0.4,0.273,-0.4,-0.364,-0.364,-0.255,-0.255,-0.273,-0.273,-0.182,-0.182,-0.382,-0.382,-0.127,-0.091,-0.091,-0.127,-0.127,-0.236,-0.236,-0.309,-0.309,-0.018,-0.127,-0.127,-0.145,-0.145,-0.127,-0.127,0.018,-0.055,-0.036,-0.055,0.036,0.036,-0.036,-0.036,-0.109,-0.109],\"offset_sec\":[-0.059,-0.059,-0.02,-0.007,-0.036,-0.036,-0.034,-0.034,-0.039,-0.039,-0.052,-0.052,-0.023,-0.018,-0.018,-0.016,-0.016,-0.016,0.061,-0.016,-0.02,-0.009,-0.02,-0.02,-0.02,-0.034,-0.034,-0.041,-0.041,-0.048,-0.048,-0.036,-0.046,-0.046,-0.052,-0.052,-0.05,0.034,-0.05,-0.046,-0.046,-0.032,-0.032,-0.034,-0.034,-0.023,-0.023,-0.048,-0.048,-0.016,-0.011,-0.011,-0.016,-0.016,-0.03,-0.03,-0.039,-0.039,-0.002,-0.016,-0.016,-0.018,-0.018,-0.016,-0.016,0.002,-0.007,-0.004,-0.007,0.004,0.004,-0.004,-0.004,-0.014,-0.014],\"start\":[-0.059125,-0.059125,-0.0205,-0.006875,0.08862500000000001,0.08862500000000001,0.21587499999999998,0.21587499999999998,0.336375,0.336375,0.44775,0.44775,0.47725,0.606875,0.606875,0.734125,0.734125,0.859125,0.936375,0.859125,0.9795,0.990875,0.9795,1.1045,1.1045,1.215875,1.215875,1.334125,1.334125,1.45225,1.45225,1.463625,1.5795,1.5795,1.69775,1.69775,1.825,1.909125,1.825,1.9545,1.9545,2.093125,2.093125,2.215875,2.215875,2.35225,2.35225,2.45225,2.45225,2.484125,2.613625,2.613625,2.734125,2.734125,2.8455,2.8455,2.961375,2.961375,2.99775,3.109125,3.109125,3.231875,3.231875,3.359125,3.359125,3.37725,3.493125,3.4955,3.493125,3.6295,3.6295,3.7455,3.7455,3.861375,3.861375],\"top\":{\"__ndarray__\":\"mpmZmZmZyT8zMzMzMzPzP5qZmZmZmQFAmpmZmZmZCUCamZmZmZnJP5qZmZmZmQFAmpmZmZmZyT+amZmZmZkJQJqZmZmZmck/mpmZmZmZAUCamZmZmZnJPzMzMzMzM/M/mpmZmZmZCUCamZmZmZnJP5qZmZmZmQFAmpmZmZmZyT+amZmZmZkJQJqZmZmZmck/MzMzMzMz8z+amZmZmZkJQJqZmZmZmck/mpmZmZmZAUCamZmZmZkJQJqZmZmZmck/mpmZmZmZAUCamZmZmZnJP5qZmZmZmQlAmpmZmZmZyT+amZmZmZkBQJqZmZmZmck/MzMzMzMz8z+amZmZmZkJQJqZmZmZmck/mpmZmZmZAUCamZmZmZnJP5qZmZmZmQlAmpmZmZmZyT8zMzMzMzPzP5qZmZmZmQlAmpmZmZmZyT+amZmZmZkJQJqZmZmZmck/mpmZmZmZAUCamZmZmZnJP5qZmZmZmQlAmpmZmZmZyT+amZmZmZkBQJqZmZmZmck/MzMzMzMz8z+amZmZmZkJQJqZmZmZmck/mpmZmZmZAUCamZmZmZnJP5qZmZmZmQlAmpmZmZmZyT+amZmZmZkJQJqZmZmZmck/MzMzMzMz8z+amZmZmZkJQJqZmZmZmck/MzMzMzMz8z+amZmZmZnJP5qZmZmZmQlAmpmZmZmZyT+amZmZmZkBQJqZmZmZmQlAmpmZmZmZyT8zMzMzMzPzP5qZmZmZmQlAmpmZmZmZyT+amZmZmZkBQJqZmZmZmck/mpmZmZmZCUCamZmZmZnJP5qZmZmZmQlA\",\"dtype\":\"float64\",\"order\":\"little\",\"shape\":[75]},\"velocity\":[0.173,0.173,0.48,1.0,0.488,0.488,1.0,1.0,0.535,0.535,0.197,0.197,1.0,0.441,0.441,0.732,0.732,0.669,0.197,0.669,1.0,0.496,1.0,0.512,0.512,0.921,0.921,0.528,0.528,0.213,0.213,0.858,0.425,0.425,1.0,1.0,1.0,0.213,1.0,1.0,1.0,0.37,0.37,0.748,0.748,0.457,0.457,0.213,0.213,0.984,0.402,0.402,0.63,0.63,0.866,0.866,0.236,0.236,1.0,0.315,0.315,0.945,0.945,0.409,0.409,0.559,0.906,0.197,0.906,0.417,0.417,0.906,0.906,0.874,0.874],\"voice_index\":[0,1,2,3,0,2,0,3,0,2,0,1,3,0,2,0,3,0,1,3,0,2,3,0,2,0,3,0,2,0,1,3,0,2,0,3,0,1,3,0,3,0,2,0,3,0,2,0,1,3,0,2,0,3,0,3,0,1,3,0,1,0,3,0,2,3,0,1,3,0,2,0,3,0,3]},\"selected\":{\"id\":\"2338\"},\"selection_policy\":{\"id\":\"2337\"}},\"id\":\"2322\",\"type\":\"ColumnDataSource\"},{\"attributes\":{\"axis_label\":\"Instrument\",\"axis_label_standoff\":10,\"axis_label_text_color\":\"#5B5B5B\",\"axis_label_text_font\":\"Calibri Light\",\"axis_label_text_font_size\":\"1.15em\",\"axis_label_text_font_style\":\"bold\",\"axis_line_alpha\":1,\"axis_line_color\":\"#5B5B5B\",\"coordinates\":null,\"formatter\":{\"id\":\"1366\"},\"group\":null,\"major_label_overrides\":{\"0\":\"stream_0\",\"1\":\"stream_1\",\"2\":\"stream_2\",\"3\":\"stream_3\"},\"major_label_policy\":{\"id\":\"1367\"},\"major_label_text_color\":\"#5B5B5B\",\"major_label_text_font\":\"Calibri Light\",\"major_label_text_font_size\":\"0.95em\",\"major_label_text_font_style\":\"bold\",\"major_tick_in\":0,\"major_tick_line_alpha\":0.25,\"major_tick_line_color\":\"#5B5B5B\",\"major_tick_out\":3,\"minor_tick_line_alpha\":0.25,\"minor_tick_line_color\":\"#5B5B5B\",\"ticker\":{\"id\":\"1379\"}},\"id\":\"1338\",\"type\":\"LinearAxis\"},{\"attributes\":{\"callback\":null,\"renderers\":[{\"id\":\"1039\"}],\"tooltips\":[[\"start\",\"@start\"],[\"end\",\"@end\"],[\"instrument\",\"@instrument\"],[\"voice_index\",\"@voice_index\"],[\"midi\",\"@midi\"],[\"velocity\",\"@velocity\"],[\"offset\",\"@offset\"],[\"offset_sec\",\"@offset_sec\"],[\"grid_line\",\"@grid_line\"]]},\"id\":\"1054\",\"type\":\"HoverTool\"},{\"attributes\":{\"coordinates\":null,\"dimension\":\"height\",\"group\":null,\"line_width\":0.1,\"location\":2.875},\"id\":\"1720\",\"type\":\"Span\"},{\"attributes\":{\"coordinates\":null,\"dimension\":\"height\",\"group\":null,\"line_width\":0.1,\"location\":3.125},\"id\":\"1721\",\"type\":\"Span\"},{\"attributes\":{\"coordinates\":null,\"dimension\":\"height\",\"group\":null,\"line_width\":0.1,\"location\":3.25},\"id\":\"1722\",\"type\":\"Span\"},{\"attributes\":{\"data\":{\"bottom\":{\"__ndarray__\":\"mpmZmZmZyb+amZmZmZnpP83MzMzMzPw/ZmZmZmZmBkCamZmZmZnJv83MzMzMzPw/mpmZmZmZyb9mZmZmZmYGQJqZmZmZmcm/zczMzMzM/D+amZmZmZnJv5qZmZmZmek/ZmZmZmZmBkCamZmZmZnJv83MzMzMzPw/mpmZmZmZyb9mZmZmZmYGQJqZmZmZmcm/zczMzMzM/D+amZmZmZnJv5qZmZmZmek/zczMzMzM/D9mZmZmZmYGQJqZmZmZmcm/zczMzMzM/D+amZmZmZnJv2ZmZmZmZgZAmpmZmZmZyb/NzMzMzMz8P5qZmZmZmcm/mpmZmZmZ6T9mZmZmZmYGQJqZmZmZmcm/zczMzMzM/D+amZmZmZnJv2ZmZmZmZgZAmpmZmZmZyb9mZmZmZmYGQJqZmZmZmcm/mpmZmZmZ6T9mZmZmZmYGQJqZmZmZmcm/zczMzMzM/D+amZmZmZnJv2ZmZmZmZgZAmpmZmZmZyb/NzMzMzMz8P5qZmZmZmcm/mpmZmZmZ6T9mZmZmZmYGQJqZmZmZmcm/ZmZmZmZmBkCamZmZmZnJv2ZmZmZmZgZAmpmZmZmZyb/NzMzMzMz8P5qZmZmZmcm/mpmZmZmZ6T9mZmZmZmYGQJqZmZmZmcm/zczMzMzM/D+amZmZmZnJv2ZmZmZmZgZAmpmZmZmZyb/NzMzMzMz8P5qZmZmZmcm/mpmZmZmZ6T9mZmZmZmYGQJqZmZmZmcm/zczMzMzM/D+amZmZmZnJv2ZmZmZmZgZAmpmZmZmZyb9mZmZmZmYGQA==\",\"dtype\":\"float64\",\"order\":\"little\",\"shape\":[74]},\"end\":[0.001125000000000001,0.001125000000000001,0.058,0.030625,0.173875,0.173875,0.28300000000000003,0.28300000000000003,0.426125,0.426125,0.505625,0.505625,0.544375,0.692,0.692,0.801125,0.801125,0.9375,0.9375,1.008,1.008,1.069375,1.053375,1.173875,1.173875,1.298875,1.298875,1.405625,1.405625,1.553375,1.553375,1.555625,1.673875,1.673875,1.803375,1.803375,1.923875,1.923875,2.03525,2.03525,2.069375,2.176125,2.176125,2.305625,2.305625,2.4125,2.4125,2.542,2.542,2.5625,2.692,2.692,2.823875,2.823875,2.9375,2.9375,3.021625,3.021625,3.067,3.183,3.183,3.296625,3.296625,3.421625,3.421625,3.551125,3.551125,3.551125,3.66475,3.66475,3.792,3.792,3.919375,3.919375],\"grid_line\":[0,0,0,0,1,1,2,2,3,3,4,4,4,5,5,6,6,7,7,8,8,8,8,9,9,10,10,11,11,12,12,12,13,13,14,14,15,15,16,16,16,17,17,18,18,19,19,20,20,20,21,21,22,22,23,23,24,24,24,25,25,26,26,27,27,28,28,28,29,29,30,30,31,31],\"instrument\":[\"stream_0\",\"stream_1\",\"stream_2\",\"stream_3\",\"stream_0\",\"stream_2\",\"stream_0\",\"stream_3\",\"stream_0\",\"stream_2\",\"stream_0\",\"stream_1\",\"stream_3\",\"stream_0\",\"stream_2\",\"stream_0\",\"stream_3\",\"stream_0\",\"stream_2\",\"stream_0\",\"stream_1\",\"stream_2\",\"stream_3\",\"stream_0\",\"stream_2\",\"stream_0\",\"stream_3\",\"stream_0\",\"stream_2\",\"stream_0\",\"stream_1\",\"stream_3\",\"stream_0\",\"stream_2\",\"stream_0\",\"stream_3\",\"stream_0\",\"stream_3\",\"stream_0\",\"stream_1\",\"stream_3\",\"stream_0\",\"stream_2\",\"stream_0\",\"stream_3\",\"stream_0\",\"stream_2\",\"stream_0\",\"stream_1\",\"stream_3\",\"stream_0\",\"stream_3\",\"stream_0\",\"stream_3\",\"stream_0\",\"stream_2\",\"stream_0\",\"stream_1\",\"stream_3\",\"stream_0\",\"stream_2\",\"stream_0\",\"stream_3\",\"stream_0\",\"stream_2\",\"stream_0\",\"stream_1\",\"stream_3\",\"stream_0\",\"stream_2\",\"stream_0\",\"stream_3\",\"stream_0\",\"stream_3\"],\"midi\":[36,38,42,46,36,42,36,46,36,42,36,38,46,36,42,36,46,36,42,36,38,42,46,36,42,36,46,36,42,36,38,46,36,42,36,46,36,46,36,38,46,36,42,36,46,36,42,36,38,46,36,46,36,46,36,42,36,38,46,36,42,36,46,36,42,36,38,46,36,42,36,46,36,46],\"offset\":[-0.491,-0.491,-0.036,-0.255,-0.109,-0.109,-0.236,-0.236,-0.091,-0.091,-0.455,-0.455,-0.145,0.036,0.036,-0.091,-0.091,0.0,0.0,-0.436,-0.436,0.055,-0.073,-0.109,-0.109,-0.109,-0.109,-0.255,-0.255,-0.073,-0.073,-0.055,-0.109,-0.109,-0.073,-0.073,-0.109,-0.109,-0.218,-0.218,0.055,-0.091,-0.091,-0.055,-0.055,-0.2,-0.2,-0.164,-0.164,0.0,0.036,0.036,0.091,0.091,0.0,0.0,-0.327,-0.327,0.036,-0.036,-0.036,-0.127,-0.127,-0.127,-0.127,-0.091,-0.091,-0.091,-0.182,-0.182,-0.164,-0.164,-0.145,-0.145],\"offset_sec\":[-0.061,-0.061,-0.004,-0.032,-0.014,-0.014,-0.03,-0.03,-0.011,-0.011,-0.057,-0.057,-0.018,0.004,0.004,-0.011,-0.011,0.0,0.0,-0.054,-0.054,0.007,-0.009,-0.014,-0.014,-0.014,-0.014,-0.032,-0.032,-0.009,-0.009,-0.007,-0.014,-0.014,-0.009,-0.009,-0.014,-0.014,-0.027,-0.027,0.007,-0.011,-0.011,-0.007,-0.007,-0.025,-0.025,-0.02,-0.02,0.0,0.004,0.004,0.011,0.011,0.0,0.0,-0.041,-0.041,0.004,-0.004,-0.004,-0.016,-0.016,-0.016,-0.016,-0.011,-0.011,-0.011,-0.023,-0.023,-0.02,-0.02,-0.018,-0.018],\"start\":[-0.061375,-0.061375,-0.0045,-0.031875,0.111375,0.111375,0.2205,0.2205,0.363625,0.363625,0.443125,0.443125,0.481875,0.6295,0.6295,0.738625,0.738625,0.875,0.875,0.9455,0.9455,1.006875,0.990875,1.111375,1.111375,1.236375,1.236375,1.343125,1.343125,1.490875,1.490875,1.493125,1.611375,1.611375,1.740875,1.740875,1.861375,1.861375,1.97275,1.97275,2.006875,2.113625,2.113625,2.243125,2.243125,2.35,2.35,2.4795,2.4795,2.5,2.6295,2.6295,2.761375,2.761375,2.875,2.875,2.959125,2.959125,3.0045,3.1205,3.1205,3.234125,3.234125,3.359125,3.359125,3.488625,3.488625,3.488625,3.60225,3.60225,3.7295,3.7295,3.856875,3.856875],\"top\":{\"__ndarray__\":\"mpmZmZmZyT8zMzMzMzPzP5qZmZmZmQFAmpmZmZmZCUCamZmZmZnJP5qZmZmZmQFAmpmZmZmZyT+amZmZmZkJQJqZmZmZmck/mpmZmZmZAUCamZmZmZnJPzMzMzMzM/M/mpmZmZmZCUCamZmZmZnJP5qZmZmZmQFAmpmZmZmZyT+amZmZmZkJQJqZmZmZmck/mpmZmZmZAUCamZmZmZnJPzMzMzMzM/M/mpmZmZmZAUCamZmZmZkJQJqZmZmZmck/mpmZmZmZAUCamZmZmZnJP5qZmZmZmQlAmpmZmZmZyT+amZmZmZkBQJqZmZmZmck/MzMzMzMz8z+amZmZmZkJQJqZmZmZmck/mpmZmZmZAUCamZmZmZnJP5qZmZmZmQlAmpmZmZmZyT+amZmZmZkJQJqZmZmZmck/MzMzMzMz8z+amZmZmZkJQJqZmZmZmck/mpmZmZmZAUCamZmZmZnJP5qZmZmZmQlAmpmZmZmZyT+amZmZmZkBQJqZmZmZmck/MzMzMzMz8z+amZmZmZkJQJqZmZmZmck/mpmZmZmZCUCamZmZmZnJP5qZmZmZmQlAmpmZmZmZyT+amZmZmZkBQJqZmZmZmck/MzMzMzMz8z+amZmZmZkJQJqZmZmZmck/mpmZmZmZAUCamZmZmZnJP5qZmZmZmQlAmpmZmZmZyT+amZmZmZkBQJqZmZmZmck/MzMzMzMz8z+amZmZmZkJQJqZmZmZmck/mpmZmZmZAUCamZmZmZnJP5qZmZmZmQlAmpmZmZmZyT+amZmZmZkJQA==\",\"dtype\":\"float64\",\"order\":\"little\",\"shape\":[74]},\"velocity\":[0.213,0.213,0.386,1.0,0.528,0.528,0.921,0.921,0.48,0.48,0.197,0.197,1.0,0.449,0.449,0.787,0.787,0.48,0.48,0.213,0.213,0.535,1.0,0.402,0.402,0.969,0.969,0.417,0.417,0.236,0.236,0.921,0.496,0.496,0.929,0.929,0.685,0.685,0.213,0.213,1.0,0.386,0.386,0.969,0.969,0.488,0.488,0.173,0.173,1.0,0.591,0.591,0.906,0.906,0.543,0.543,0.213,0.213,1.0,0.504,0.504,0.74,0.74,0.465,0.465,0.213,0.213,0.992,0.37,0.37,1.0,1.0,0.669,0.669],\"voice_index\":[0,1,2,3,0,2,0,3,0,2,0,1,3,0,2,0,3,0,2,0,1,2,3,0,2,0,3,0,2,0,1,3,0,2,0,3,0,3,0,1,3,0,2,0,3,0,2,0,1,3,0,3,0,3,0,2,0,1,3,0,2,0,3,0,2,0,1,3,0,2,0,3,0,3]},\"selected\":{\"id\":\"2016\"},\"selection_policy\":{\"id\":\"2015\"}},\"id\":\"2000\",\"type\":\"ColumnDataSource\"},{\"attributes\":{\"coordinates\":null,\"dimension\":\"height\",\"group\":null,\"line_width\":0.1,\"location\":3.375},\"id\":\"1723\",\"type\":\"Span\"},{\"attributes\":{\"coordinates\":null,\"dimension\":\"height\",\"group\":null,\"line_width\":0.1,\"location\":3.625},\"id\":\"1724\",\"type\":\"Span\"},{\"attributes\":{\"coordinates\":null,\"dimension\":\"height\",\"group\":null,\"line_width\":0.1,\"location\":3.75},\"id\":\"1725\",\"type\":\"Span\"},{\"attributes\":{\"coordinates\":null,\"dimension\":\"height\",\"group\":null,\"line_width\":0.1,\"location\":3.875},\"id\":\"1726\",\"type\":\"Span\"},{\"attributes\":{\"end\":4.2625,\"start\":-0.3875},\"id\":\"1970\",\"type\":\"DataRange1d\"},{\"attributes\":{},\"id\":\"1332\",\"type\":\"LinearScale\"},{\"attributes\":{\"end\":5.75,\"start\":-0.5},\"id\":\"1328\",\"type\":\"Range1d\"},{\"attributes\":{\"coordinates\":null,\"dimension\":\"height\",\"group\":null,\"line_width\":0.1,\"location\":0.75},\"id\":\"1063\",\"type\":\"Span\"},{\"attributes\":{\"data\":{\"grid_index\":[0],\"tempo\":[120.0],\"x\":[0.0],\"y\":[4.5]},\"selected\":{\"id\":\"2077\"},\"selection_policy\":{\"id\":\"2076\"}},\"id\":\"2061\",\"type\":\"ColumnDataSource\"},{\"attributes\":{\"coordinates\":null,\"dimension\":\"height\",\"group\":null,\"line_width\":0.1,\"location\":3.25},\"id\":\"1078\",\"type\":\"Span\"},{\"attributes\":{\"end\":4.2625,\"start\":-0.3875},\"id\":\"2292\",\"type\":\"DataRange1d\"},{\"attributes\":{},\"id\":\"1347\",\"type\":\"HelpTool\"},{\"attributes\":{},\"id\":\"1330\",\"type\":\"LinearScale\"},{\"attributes\":{\"coordinates\":null,\"dimension\":\"height\",\"group\":null,\"line_width\":0.1,\"location\":2.75},\"id\":\"1075\",\"type\":\"Span\"},{\"attributes\":{\"label\":{\"value\":\"Tempo\"},\"renderers\":[{\"id\":\"2066\"}]},\"id\":\"2079\",\"type\":\"LegendItem\"},{\"attributes\":{\"axis_label\":\"Time (sec)\",\"axis_label_standoff\":10,\"axis_label_text_color\":\"#5B5B5B\",\"axis_label_text_font\":\"Calibri Light\",\"axis_label_text_font_size\":\"1.15em\",\"axis_label_text_font_style\":\"bold\",\"axis_line_alpha\":1,\"axis_line_color\":\"#5B5B5B\",\"coordinates\":null,\"formatter\":{\"id\":\"1369\"},\"group\":null,\"major_label_orientation\":1.57,\"major_label_policy\":{\"id\":\"1370\"},\"major_label_text_color\":\"#5B5B5B\",\"major_label_text_font\":\"Calibri Light\",\"major_label_text_font_size\":\"0.95em\",\"major_label_text_font_style\":\"bold\",\"major_tick_in\":0,\"major_tick_line_alpha\":0.25,\"major_tick_line_color\":\"#5B5B5B\",\"major_tick_out\":3,\"minor_tick_line_alpha\":0.25,\"minor_tick_line_color\":\"#5B5B5B\",\"ticker\":{\"id\":\"1405\"}},\"id\":\"1334\",\"type\":\"LinearAxis\"},{\"attributes\":{\"ticks\":[0,1,2,3]},\"id\":\"1057\",\"type\":\"FixedTicker\"},{\"attributes\":{\"coordinates\":null,\"dimension\":\"height\",\"group\":null,\"line_width\":0.1,\"location\":2.625},\"id\":\"1074\",\"type\":\"Span\"},{\"attributes\":{\"coordinates\":null,\"data_source\":{\"id\":\"1356\"},\"glyph\":{\"id\":\"1358\"},\"group\":null,\"hover_glyph\":null,\"muted_glyph\":{\"id\":\"1360\"},\"nonselection_glyph\":{\"id\":\"1359\"},\"view\":{\"id\":\"1362\"}},\"id\":\"1361\",\"type\":\"GlyphRenderer\"},{\"attributes\":{\"coordinates\":null,\"group\":null,\"text_color\":\"#5B5B5B\",\"text_font\":\"Calibri Light\",\"text_font_size\":\"1.25em\",\"text_font_style\":\"bold\"},\"id\":\"2007\",\"type\":\"Title\"},{\"attributes\":{\"coordinates\":null,\"dimension\":\"height\",\"group\":null,\"line_width\":0.5,\"location\":0.0},\"id\":\"1729\",\"type\":\"Span\"},{\"attributes\":{},\"id\":\"1963\",\"type\":\"UnionRenderers\"},{\"attributes\":{\"coordinates\":null,\"dimension\":\"height\",\"group\":null,\"line_width\":0.5,\"location\":0.5},\"id\":\"1730\",\"type\":\"Span\"},{\"attributes\":{\"coordinates\":null,\"dimension\":\"height\",\"group\":null,\"line_width\":0.5,\"location\":1.0},\"id\":\"1731\",\"type\":\"Span\"},{\"attributes\":{\"label\":{\"value\":\"Piano Roll\"},\"renderers\":[{\"id\":\"1039\"}]},\"id\":\"1053\",\"type\":\"LegendItem\"},{\"attributes\":{\"coordinates\":null,\"dimension\":\"height\",\"group\":null,\"line_width\":0.5,\"location\":1.5},\"id\":\"1732\",\"type\":\"Span\"},{\"attributes\":{\"axis_label\":\"Instrument\",\"axis_label_standoff\":10,\"axis_label_text_color\":\"#5B5B5B\",\"axis_label_text_font\":\"Calibri Light\",\"axis_label_text_font_size\":\"1.15em\",\"axis_label_text_font_style\":\"bold\",\"axis_line_alpha\":1,\"axis_line_color\":\"#5B5B5B\",\"coordinates\":null,\"formatter\":{\"id\":\"2010\"},\"group\":null,\"major_label_overrides\":{\"0\":\"stream_0\",\"1\":\"stream_1\",\"2\":\"stream_2\",\"3\":\"stream_3\"},\"major_label_policy\":{\"id\":\"2011\"},\"major_label_text_color\":\"#5B5B5B\",\"major_label_text_font\":\"Calibri Light\",\"major_label_text_font_size\":\"0.95em\",\"major_label_text_font_style\":\"bold\",\"major_tick_in\":0,\"major_tick_line_alpha\":0.25,\"major_tick_line_color\":\"#5B5B5B\",\"major_tick_out\":3,\"minor_tick_line_alpha\":0.25,\"minor_tick_line_color\":\"#5B5B5B\",\"ticker\":{\"id\":\"2023\"}},\"id\":\"1982\",\"type\":\"LinearAxis\"},{\"attributes\":{\"fill_alpha\":{\"value\":0.2},\"fill_color\":{\"value\":\"#1EA087\"},\"hatch_alpha\":{\"value\":0.2},\"line_alpha\":{\"value\":0.2},\"line_color\":{\"value\":\"#1EA087\"},\"size\":{\"value\":10},\"x\":{\"field\":\"x\"},\"y\":{\"field\":\"y\"}},\"id\":\"2592\",\"type\":\"Circle\"},{\"attributes\":{\"coordinates\":null,\"dimension\":\"height\",\"group\":null,\"line_width\":0.5,\"location\":2.0},\"id\":\"1733\",\"type\":\"Span\"},{\"attributes\":{},\"id\":\"1976\",\"type\":\"LinearScale\"},{\"attributes\":{\"coordinates\":null,\"dimension\":\"height\",\"group\":null,\"line_width\":0.5,\"location\":2.5},\"id\":\"1734\",\"type\":\"Span\"},{\"attributes\":{\"end\":5.75,\"start\":-0.5},\"id\":\"1972\",\"type\":\"Range1d\"},{\"attributes\":{\"coordinates\":null,\"dimension\":\"height\",\"group\":null,\"line_width\":0.5,\"location\":3.0},\"id\":\"1735\",\"type\":\"Span\"},{\"attributes\":{},\"id\":\"1991\",\"type\":\"HelpTool\"},{\"attributes\":{\"coordinates\":null,\"dimension\":\"height\",\"group\":null,\"line_width\":0.5,\"location\":3.5},\"id\":\"1736\",\"type\":\"Span\"},{\"attributes\":{},\"id\":\"1974\",\"type\":\"LinearScale\"},{\"attributes\":{\"coordinates\":null,\"dimension\":\"height\",\"group\":null,\"line_width\":0.1,\"location\":0.125},\"id\":\"1059\",\"type\":\"Span\"},{\"attributes\":{\"axis\":{\"id\":\"1334\"},\"coordinates\":null,\"grid_line_color\":null,\"group\":null,\"ticker\":null},\"id\":\"1337\",\"type\":\"Grid\"},{\"attributes\":{\"bottom\":{\"field\":\"bottom\"},\"fill_alpha\":{\"field\":\"velocity\"},\"fill_color\":{\"value\":\"grey\"},\"left\":{\"field\":\"start\"},\"line_color\":{\"value\":\"grey\"},\"right\":{\"field\":\"end\"},\"top\":{\"field\":\"top\"}},\"id\":\"2002\",\"type\":\"Quad\"},{\"attributes\":{\"coordinates\":null,\"dimension\":\"height\",\"group\":null,\"line_width\":0.1,\"location\":0.625},\"id\":\"1062\",\"type\":\"Span\"},{\"attributes\":{\"axis_label\":\"Instrument\",\"axis_label_standoff\":10,\"axis_label_text_color\":\"#5B5B5B\",\"axis_label_text_font\":\"Calibri Light\",\"axis_label_text_font_size\":\"1.15em\",\"axis_label_text_font_style\":\"bold\",\"axis_line_alpha\":1,\"axis_line_color\":\"#5B5B5B\",\"coordinates\":null,\"formatter\":{\"id\":\"2332\"},\"group\":null,\"major_label_overrides\":{\"0\":\"stream_0\",\"1\":\"stream_1\",\"2\":\"stream_2\",\"3\":\"stream_3\"},\"major_label_policy\":{\"id\":\"2333\"},\"major_label_text_color\":\"#5B5B5B\",\"major_label_text_font\":\"Calibri Light\",\"major_label_text_font_size\":\"0.95em\",\"major_label_text_font_style\":\"bold\",\"major_tick_in\":0,\"major_tick_line_alpha\":0.25,\"major_tick_line_color\":\"#5B5B5B\",\"major_tick_out\":3,\"minor_tick_line_alpha\":0.25,\"minor_tick_line_color\":\"#5B5B5B\",\"ticker\":{\"id\":\"2345\"}},\"id\":\"2304\",\"type\":\"LinearAxis\"},{\"attributes\":{\"coordinates\":null,\"data_source\":{\"id\":\"2000\"},\"glyph\":{\"id\":\"2002\"},\"group\":null,\"hover_glyph\":null,\"muted_glyph\":{\"id\":\"2004\"},\"nonselection_glyph\":{\"id\":\"2003\"},\"view\":{\"id\":\"2006\"}},\"id\":\"2005\",\"type\":\"GlyphRenderer\"},{\"attributes\":{},\"id\":\"2298\",\"type\":\"LinearScale\"},{\"attributes\":{\"coordinates\":null,\"dimension\":\"height\",\"group\":null,\"line_width\":0.1,\"location\":3.125},\"id\":\"1077\",\"type\":\"Span\"},{\"attributes\":{\"end\":5.75,\"start\":-0.5},\"id\":\"2294\",\"type\":\"Range1d\"},{\"attributes\":{\"label\":{\"value\":\"Piano Roll\"},\"renderers\":[{\"id\":\"1361\"}]},\"id\":\"1375\",\"type\":\"LegendItem\"},{\"attributes\":{\"coordinates\":null,\"dimension\":\"height\",\"group\":null,\"line_width\":0.1,\"location\":0.25},\"id\":\"1060\",\"type\":\"Span\"},{\"attributes\":{\"background_fill_alpha\":0.25,\"border_line_alpha\":0,\"click_policy\":\"hide\",\"coordinates\":null,\"glyph_width\":15,\"group\":null,\"items\":[{\"id\":\"1375\"},{\"id\":\"1435\"},{\"id\":\"1458\"},{\"id\":\"1483\"}],\"label_standoff\":8,\"label_text_color\":\"#5B5B5B\",\"label_text_font\":\"Calibri Light\",\"label_text_font_size\":\"0.95em\",\"label_text_font_style\":\"bold\",\"spacing\":8},\"id\":\"1374\",\"type\":\"Legend\"},{\"attributes\":{\"axis\":{\"id\":\"1338\"},\"coordinates\":null,\"dimension\":1,\"grid_line_color\":null,\"group\":null,\"ticker\":null},\"id\":\"1341\",\"type\":\"Grid\"},{\"attributes\":{\"coordinates\":null,\"dimension\":\"height\",\"group\":null,\"line_width\":0.1,\"location\":0.375},\"id\":\"1061\",\"type\":\"Span\"},{\"attributes\":{\"tools\":[{\"id\":\"1986\"},{\"id\":\"1987\"},{\"id\":\"1988\"},{\"id\":\"1989\"},{\"id\":\"1990\"},{\"id\":\"1991\"},{\"id\":\"2020\"},{\"id\":\"2080\"},{\"id\":\"2103\"},{\"id\":\"2128\"}]},\"id\":\"1993\",\"type\":\"Toolbar\"},{\"attributes\":{},\"id\":\"2296\",\"type\":\"LinearScale\"},{\"attributes\":{\"coordinates\":null,\"dimension\":\"height\",\"group\":null,\"line_width\":2,\"location\":0.0},\"id\":\"1737\",\"type\":\"Span\"},{\"attributes\":{\"axis_label\":\"Time (sec)\",\"axis_label_standoff\":10,\"axis_label_text_color\":\"#5B5B5B\",\"axis_label_text_font\":\"Calibri Light\",\"axis_label_text_font_size\":\"1.15em\",\"axis_label_text_font_style\":\"bold\",\"axis_line_alpha\":1,\"axis_line_color\":\"#5B5B5B\",\"coordinates\":null,\"formatter\":{\"id\":\"2013\"},\"group\":null,\"major_label_orientation\":1.57,\"major_label_policy\":{\"id\":\"2014\"},\"major_label_text_color\":\"#5B5B5B\",\"major_label_text_font\":\"Calibri Light\",\"major_label_text_font_size\":\"0.95em\",\"major_label_text_font_style\":\"bold\",\"major_tick_in\":0,\"major_tick_line_alpha\":0.25,\"major_tick_line_color\":\"#5B5B5B\",\"major_tick_out\":3,\"minor_tick_line_alpha\":0.25,\"minor_tick_line_color\":\"#5B5B5B\",\"ticker\":{\"id\":\"2049\"}},\"id\":\"1978\",\"type\":\"LinearAxis\"},{\"attributes\":{\"axis_label\":\"Time (sec)\",\"axis_label_standoff\":10,\"axis_label_text_color\":\"#5B5B5B\",\"axis_label_text_font\":\"Calibri Light\",\"axis_label_text_font_size\":\"1.15em\",\"axis_label_text_font_style\":\"bold\",\"axis_line_alpha\":1,\"axis_line_color\":\"#5B5B5B\",\"coordinates\":null,\"formatter\":{\"id\":\"2335\"},\"group\":null,\"major_label_orientation\":1.57,\"major_label_policy\":{\"id\":\"2336\"},\"major_label_text_color\":\"#5B5B5B\",\"major_label_text_font\":\"Calibri Light\",\"major_label_text_font_size\":\"0.95em\",\"major_label_text_font_style\":\"bold\",\"major_tick_in\":0,\"major_tick_line_alpha\":0.25,\"major_tick_line_color\":\"#5B5B5B\",\"major_tick_out\":3,\"minor_tick_line_alpha\":0.25,\"minor_tick_line_color\":\"#5B5B5B\",\"ticker\":{\"id\":\"2371\"}},\"id\":\"2300\",\"type\":\"LinearAxis\"},{\"attributes\":{\"coordinates\":null,\"dimension\":\"height\",\"group\":null,\"line_width\":2,\"location\":2.0},\"id\":\"1738\",\"type\":\"Span\"},{\"attributes\":{\"data\":{\"bpm\":[\"120\"],\"collection\":[\"groove_midi\"],\"genre\":[\"dance-disco\"],\"grouping\":[\"velocity\"],\"member\":[\"high\"],\"meter\":[\"4-4\"],\"sample_id\":[\"6_dance-disco_120_beat_4-4\"],\"source\":[\"GrooveMIDI\"],\"start_bar\":[85],\"stream_0\":[\"groove\"],\"stream_1\":[\"low\"],\"stream_2\":[\"mid\"],\"stream_3\":[\"high\"],\"track_number\":[\"6\"],\"x\":[0.0],\"y\":[3.5]},\"selected\":{\"id\":\"2608\"},\"selection_policy\":{\"id\":\"2607\"}},\"id\":\"2588\",\"type\":\"ColumnDataSource\"},{\"attributes\":{\"axis\":{\"id\":\"1978\"},\"coordinates\":null,\"grid_line_color\":null,\"group\":null,\"ticker\":null},\"id\":\"1981\",\"type\":\"Grid\"},{\"attributes\":{\"fill_color\":{\"value\":\"#440154\"},\"line_color\":{\"value\":\"#440154\"},\"size\":{\"value\":10},\"x\":{\"field\":\"x\"},\"y\":{\"field\":\"y\"}},\"id\":\"1741\",\"type\":\"Circle\"},{\"attributes\":{\"background_fill_alpha\":0.25,\"border_line_alpha\":0,\"click_policy\":\"hide\",\"coordinates\":null,\"glyph_width\":15,\"group\":null,\"items\":[{\"id\":\"1053\"},{\"id\":\"1113\"},{\"id\":\"1136\"},{\"id\":\"1161\"}],\"label_standoff\":8,\"label_text_color\":\"#5B5B5B\",\"label_text_font\":\"Calibri Light\",\"label_text_font_size\":\"0.95em\",\"label_text_font_style\":\"bold\",\"spacing\":8},\"id\":\"1052\",\"type\":\"Legend\"},{\"attributes\":{\"callback\":null,\"renderers\":[{\"id\":\"1744\"}],\"tooltips\":[[\"tempo\",\"@tempo\"],[\"grid_index\",\"@grid_index\"]]},\"id\":\"1758\",\"type\":\"HoverTool\"},{\"attributes\":{\"axis\":{\"id\":\"1982\"},\"coordinates\":null,\"dimension\":1,\"grid_line_color\":null,\"group\":null,\"ticker\":null},\"id\":\"1985\",\"type\":\"Grid\"},{\"attributes\":{\"coordinates\":null,\"group\":null,\"text_color\":\"#5B5B5B\",\"text_font\":\"Calibri Light\",\"text_font_size\":\"1.25em\",\"text_font_style\":\"bold\"},\"id\":\"1041\",\"type\":\"Title\"},{\"attributes\":{\"coordinates\":null,\"dimension\":\"height\",\"group\":null,\"line_width\":0.1,\"location\":2.875},\"id\":\"1076\",\"type\":\"Span\"},{\"attributes\":{\"fill_color\":{\"value\":\"#440154\"},\"line_color\":{\"value\":\"#440154\"},\"size\":{\"value\":10},\"x\":{\"field\":\"x\"},\"y\":{\"field\":\"y\"}},\"id\":\"1258\",\"type\":\"Circle\"},{\"attributes\":{\"bottom\":{\"field\":\"bottom\"},\"fill_alpha\":{\"value\":0.1},\"fill_color\":{\"value\":\"grey\"},\"hatch_alpha\":{\"value\":0.1},\"left\":{\"field\":\"start\"},\"line_alpha\":{\"value\":0.1},\"line_color\":{\"value\":\"grey\"},\"right\":{\"field\":\"end\"},\"top\":{\"field\":\"top\"}},\"id\":\"1359\",\"type\":\"Quad\"},{\"attributes\":{\"bottom\":{\"field\":\"bottom\"},\"fill_alpha\":{\"value\":0.2},\"fill_color\":{\"value\":\"grey\"},\"hatch_alpha\":{\"value\":0.2},\"left\":{\"field\":\"start\"},\"line_alpha\":{\"value\":0.2},\"line_color\":{\"value\":\"grey\"},\"right\":{\"field\":\"end\"},\"top\":{\"field\":\"top\"}},\"id\":\"2004\",\"type\":\"Quad\"},{\"attributes\":{\"coordinates\":null,\"dimension\":\"height\",\"group\":null,\"line_width\":0.1,\"location\":0.875},\"id\":\"1064\",\"type\":\"Span\"},{\"attributes\":{\"axis\":{\"id\":\"2300\"},\"coordinates\":null,\"grid_line_color\":null,\"group\":null,\"ticker\":null},\"id\":\"2303\",\"type\":\"Grid\"},{\"attributes\":{},\"id\":\"1343\",\"type\":\"WheelZoomTool\"},{\"attributes\":{\"coordinates\":null,\"dimension\":\"height\",\"group\":null,\"line_width\":0.1,\"location\":1.125},\"id\":\"1065\",\"type\":\"Span\"},{\"attributes\":{\"source\":{\"id\":\"1356\"}},\"id\":\"1362\",\"type\":\"CDSView\"},{\"attributes\":{},\"id\":\"1342\",\"type\":\"PanTool\"},{\"attributes\":{\"coordinates\":null,\"dimension\":\"height\",\"group\":null,\"line_width\":0.1,\"location\":1.25},\"id\":\"1066\",\"type\":\"Span\"},{\"attributes\":{\"bottom\":{\"field\":\"bottom\"},\"fill_alpha\":{\"field\":\"velocity\"},\"fill_color\":{\"value\":\"grey\"},\"left\":{\"field\":\"start\"},\"line_color\":{\"value\":\"grey\"},\"right\":{\"field\":\"end\"},\"top\":{\"field\":\"top\"}},\"id\":\"1358\",\"type\":\"Quad\"},{\"attributes\":{\"overlay\":{\"id\":\"1348\"}},\"id\":\"1344\",\"type\":\"BoxZoomTool\"},{\"attributes\":{\"coordinates\":null,\"dimension\":\"height\",\"group\":null,\"line_width\":0.1,\"location\":1.375},\"id\":\"1067\",\"type\":\"Span\"},{\"attributes\":{},\"id\":\"1345\",\"type\":\"SaveTool\"},{\"attributes\":{},\"id\":\"2010\",\"type\":\"BasicTickFormatter\"},{\"attributes\":{\"axis\":{\"id\":\"2304\"},\"coordinates\":null,\"dimension\":1,\"grid_line_color\":null,\"group\":null,\"ticker\":null},\"id\":\"2307\",\"type\":\"Grid\"},{\"attributes\":{\"label\":{\"value\":\"Tempo\"},\"renderers\":[{\"id\":\"1744\"}]},\"id\":\"1757\",\"type\":\"LegendItem\"},{\"attributes\":{},\"id\":\"1987\",\"type\":\"WheelZoomTool\"},{\"attributes\":{\"coordinates\":null,\"data_source\":{\"id\":\"1739\"},\"glyph\":{\"id\":\"1741\"},\"group\":null,\"hover_glyph\":null,\"muted_glyph\":{\"id\":\"1743\"},\"nonselection_glyph\":{\"id\":\"1742\"},\"view\":{\"id\":\"1745\"}},\"id\":\"1744\",\"type\":\"GlyphRenderer\"},{\"attributes\":{},\"id\":\"1986\",\"type\":\"PanTool\"},{\"attributes\":{},\"id\":\"2013\",\"type\":\"BasicTickFormatter\"},{\"attributes\":{\"ticks\":[0.0,0.5,1.0,1.5,2.0,2.5,3.0,3.5]},\"id\":\"1727\",\"type\":\"FixedTicker\"},{\"attributes\":{\"overlay\":{\"id\":\"1992\"}},\"id\":\"1988\",\"type\":\"BoxZoomTool\"},{\"attributes\":{\"source\":{\"id\":\"1739\"}},\"id\":\"1745\",\"type\":\"CDSView\"},{\"attributes\":{},\"id\":\"1989\",\"type\":\"SaveTool\"},{\"attributes\":{},\"id\":\"1990\",\"type\":\"ResetTool\"},{\"attributes\":{\"coordinates\":null,\"dimension\":\"height\",\"group\":null,\"line_width\":0.1,\"location\":1.375},\"id\":\"1711\",\"type\":\"Span\"},{\"attributes\":{\"coordinates\":null,\"dimension\":\"height\",\"group\":null,\"line_width\":0.1,\"location\":1.625},\"id\":\"1068\",\"type\":\"Span\"},{\"attributes\":{},\"id\":\"1346\",\"type\":\"ResetTool\"},{\"attributes\":{\"coordinates\":null,\"dimension\":\"height\",\"group\":null,\"line_width\":0.1,\"location\":1.75},\"id\":\"1069\",\"type\":\"Span\"},{\"attributes\":{\"data\":{\"Denominator\":[4],\"Numerator\":[4],\"grid_index\":[0],\"x\":[0.0],\"y\":[4]},\"selected\":{\"id\":\"1456\"},\"selection_policy\":{\"id\":\"1455\"}},\"id\":\"1438\",\"type\":\"ColumnDataSource\"},{\"attributes\":{\"coordinates\":null,\"dimension\":\"height\",\"group\":null,\"line_width\":0.1,\"location\":1.875},\"id\":\"1070\",\"type\":\"Span\"},{\"attributes\":{\"bottom\":{\"field\":\"bottom\"},\"fill_alpha\":{\"value\":0.2},\"fill_color\":{\"value\":\"grey\"},\"hatch_alpha\":{\"value\":0.2},\"left\":{\"field\":\"start\"},\"line_alpha\":{\"value\":0.2},\"line_color\":{\"value\":\"grey\"},\"right\":{\"field\":\"end\"},\"top\":{\"field\":\"top\"}},\"id\":\"1360\",\"type\":\"Quad\"},{\"attributes\":{\"source\":{\"id\":\"2000\"}},\"id\":\"2006\",\"type\":\"CDSView\"},{\"attributes\":{\"coordinates\":null,\"dimension\":\"height\",\"group\":null,\"line_width\":0.1,\"location\":2.125},\"id\":\"1071\",\"type\":\"Span\"},{\"attributes\":{},\"id\":\"2011\",\"type\":\"AllLabels\"},{\"attributes\":{},\"id\":\"2311\",\"type\":\"SaveTool\"},{\"attributes\":{\"coordinates\":null,\"dimension\":\"height\",\"group\":null,\"line_width\":0.1,\"location\":2.25},\"id\":\"1072\",\"type\":\"Span\"},{\"attributes\":{},\"id\":\"2309\",\"type\":\"WheelZoomTool\"},{\"attributes\":{\"bottom_units\":\"screen\",\"coordinates\":null,\"fill_alpha\":0.5,\"fill_color\":\"lightgrey\",\"group\":null,\"left_units\":\"screen\",\"level\":\"overlay\",\"line_alpha\":1.0,\"line_color\":\"black\",\"line_dash\":[4,4],\"line_width\":2,\"right_units\":\"screen\",\"syncable\":false,\"top_units\":\"screen\"},\"id\":\"1348\",\"type\":\"BoxAnnotation\"},{\"attributes\":{\"tools\":[{\"id\":\"1342\"},{\"id\":\"1343\"},{\"id\":\"1344\"},{\"id\":\"1345\"},{\"id\":\"1346\"},{\"id\":\"1347\"},{\"id\":\"1376\"},{\"id\":\"1436\"},{\"id\":\"1459\"},{\"id\":\"1484\"}]},\"id\":\"1349\",\"type\":\"Toolbar\"},{\"attributes\":{\"coordinates\":null,\"dimension\":\"height\",\"group\":null,\"line_width\":0.1,\"location\":2.375},\"id\":\"1073\",\"type\":\"Span\"},{\"attributes\":{},\"id\":\"2308\",\"type\":\"PanTool\"},{\"attributes\":{\"coordinates\":null,\"dimension\":\"height\",\"group\":null,\"line_width\":0.1,\"location\":1.625},\"id\":\"1712\",\"type\":\"Span\"},{\"attributes\":{\"fill_alpha\":{\"value\":0.1},\"fill_color\":{\"value\":\"#70CE56\"},\"hatch_alpha\":{\"value\":0.1},\"line_alpha\":{\"value\":0.1},\"line_color\":{\"value\":\"#70CE56\"},\"size\":{\"value\":10},\"x\":{\"field\":\"x\"},\"y\":{\"field\":\"y\"}},\"id\":\"1441\",\"type\":\"Circle\"},{\"attributes\":{\"overlay\":{\"id\":\"2314\"}},\"id\":\"2310\",\"type\":\"BoxZoomTool\"},{\"attributes\":{\"below\":[{\"id\":\"1978\"}],\"center\":[{\"id\":\"1981\"},{\"id\":\"1985\"},{\"id\":\"2018\"},{\"id\":\"2025\"},{\"id\":\"2026\"},{\"id\":\"2027\"},{\"id\":\"2028\"},{\"id\":\"2029\"},{\"id\":\"2030\"},{\"id\":\"2031\"},{\"id\":\"2032\"},{\"id\":\"2033\"},{\"id\":\"2034\"},{\"id\":\"2035\"},{\"id\":\"2036\"},{\"id\":\"2037\"},{\"id\":\"2038\"},{\"id\":\"2039\"},{\"id\":\"2040\"},{\"id\":\"2041\"},{\"id\":\"2042\"},{\"id\":\"2043\"},{\"id\":\"2044\"},{\"id\":\"2045\"},{\"id\":\"2046\"},{\"id\":\"2047\"},{\"id\":\"2048\"},{\"id\":\"2051\"},{\"id\":\"2052\"},{\"id\":\"2053\"},{\"id\":\"2054\"},{\"id\":\"2055\"},{\"id\":\"2056\"},{\"id\":\"2057\"},{\"id\":\"2058\"},{\"id\":\"2059\"},{\"id\":\"2060\"}],\"height\":400,\"left\":[{\"id\":\"1982\"}],\"renderers\":[{\"id\":\"2005\"},{\"id\":\"2066\"},{\"id\":\"2087\"},{\"id\":\"2110\"}],\"right\":[{\"id\":\"2018\"}],\"title\":{\"id\":\"2007\"},\"toolbar\":{\"id\":\"1993\"},\"width\":800,\"x_range\":{\"id\":\"1970\"},\"x_scale\":{\"id\":\"1974\"},\"y_range\":{\"id\":\"1972\"},\"y_scale\":{\"id\":\"1976\"}},\"id\":\"1969\",\"subtype\":\"Figure\",\"type\":\"Plot\"},{\"attributes\":{\"data\":{\"bpm\":[\"120\"],\"collection\":[\"groove_midi\"],\"genre\":[\"dance-disco\"],\"grouping\":[\"velocity\"],\"member\":[\"high\"],\"meter\":[\"4-4\"],\"sample_id\":[\"6_dance-disco_120_beat_4-4\"],\"source\":[\"GrooveMIDI\"],\"start_bar\":[82],\"stream_0\":[\"groove\"],\"stream_1\":[\"low\"],\"stream_2\":[\"mid\"],\"stream_3\":[\"high\"],\"track_number\":[\"6\"],\"x\":[0.0],\"y\":[3.5]},\"selected\":{\"id\":\"2125\"},\"selection_policy\":{\"id\":\"2124\"}},\"id\":\"2105\",\"type\":\"ColumnDataSource\"},{\"attributes\":{\"source\":{\"id\":\"1438\"}},\"id\":\"1444\",\"type\":\"CDSView\"},{\"attributes\":{\"source\":{\"id\":\"2082\"}},\"id\":\"2088\",\"type\":\"CDSView\"},{\"attributes\":{\"data\":{\"Denominator\":[4],\"Numerator\":[4],\"grid_index\":[0],\"x\":[0.0],\"y\":[4]},\"selected\":{\"id\":\"2100\"},\"selection_policy\":{\"id\":\"2099\"}},\"id\":\"2082\",\"type\":\"ColumnDataSource\"},{\"attributes\":{\"fill_alpha\":{\"value\":0.1},\"fill_color\":{\"value\":\"#70CE56\"},\"hatch_alpha\":{\"value\":0.1},\"line_alpha\":{\"value\":0.1},\"line_color\":{\"value\":\"#70CE56\"},\"size\":{\"value\":10},\"x\":{\"field\":\"x\"},\"y\":{\"field\":\"y\"}},\"id\":\"2085\",\"type\":\"Circle\"},{\"attributes\":{},\"id\":\"1320\",\"type\":\"Selection\"},{\"attributes\":{},\"id\":\"1319\",\"type\":\"UnionRenderers\"},{\"attributes\":{},\"id\":\"2608\",\"type\":\"Selection\"},{\"attributes\":{\"axis_label\":\"Instrument\",\"axis_label_standoff\":10,\"axis_label_text_color\":\"#5B5B5B\",\"axis_label_text_font\":\"Calibri Light\",\"axis_label_text_font_size\":\"1.15em\",\"axis_label_text_font_style\":\"bold\",\"axis_line_alpha\":1,\"axis_line_color\":\"#5B5B5B\",\"coordinates\":null,\"formatter\":{\"id\":\"1205\"},\"group\":null,\"major_label_overrides\":{\"0\":\"stream_0\",\"1\":\"stream_1\",\"2\":\"stream_2\",\"3\":\"stream_3\"},\"major_label_policy\":{\"id\":\"1206\"},\"major_label_text_color\":\"#5B5B5B\",\"major_label_text_font\":\"Calibri Light\",\"major_label_text_font_size\":\"0.95em\",\"major_label_text_font_style\":\"bold\",\"major_tick_in\":0,\"major_tick_line_alpha\":0.25,\"major_tick_line_color\":\"#5B5B5B\",\"major_tick_out\":3,\"minor_tick_line_alpha\":0.25,\"minor_tick_line_color\":\"#5B5B5B\",\"ticker\":{\"id\":\"1218\"}},\"id\":\"1177\",\"type\":\"LinearAxis\"},{\"attributes\":{},\"id\":\"2607\",\"type\":\"UnionRenderers\"},{\"attributes\":{},\"id\":\"1171\",\"type\":\"LinearScale\"},{\"attributes\":{\"end\":5.75,\"start\":-0.5},\"id\":\"1167\",\"type\":\"Range1d\"},{\"attributes\":{},\"id\":\"1186\",\"type\":\"HelpTool\"},{\"attributes\":{\"fill_color\":{\"value\":\"#70CE56\"},\"line_color\":{\"value\":\"#70CE56\"},\"size\":{\"value\":10},\"x\":{\"field\":\"x\"},\"y\":{\"field\":\"y\"}},\"id\":\"2084\",\"type\":\"Circle\"},{\"attributes\":{\"fill_alpha\":{\"value\":0.2},\"fill_color\":{\"value\":\"#70CE56\"},\"hatch_alpha\":{\"value\":0.2},\"line_alpha\":{\"value\":0.2},\"line_color\":{\"value\":\"#70CE56\"},\"size\":{\"value\":10},\"x\":{\"field\":\"x\"},\"y\":{\"field\":\"y\"}},\"id\":\"2086\",\"type\":\"Circle\"},{\"attributes\":{},\"id\":\"2099\",\"type\":\"UnionRenderers\"},{\"attributes\":{\"label\":{\"value\":\"Time Signature\"},\"renderers\":[{\"id\":\"2087\"}]},\"id\":\"2102\",\"type\":\"LegendItem\"},{\"attributes\":{\"coordinates\":null,\"data_source\":{\"id\":\"2082\"},\"glyph\":{\"id\":\"2084\"},\"group\":null,\"hover_glyph\":null,\"muted_glyph\":{\"id\":\"2086\"},\"nonselection_glyph\":{\"id\":\"2085\"},\"view\":{\"id\":\"2088\"}},\"id\":\"2087\",\"type\":\"GlyphRenderer\"},{\"attributes\":{},\"id\":\"1169\",\"type\":\"LinearScale\"},{\"attributes\":{},\"id\":\"2100\",\"type\":\"Selection\"},{\"attributes\":{\"axis_label\":\"Time (sec)\",\"axis_label_standoff\":10,\"axis_label_text_color\":\"#5B5B5B\",\"axis_label_text_font\":\"Calibri Light\",\"axis_label_text_font_size\":\"1.15em\",\"axis_label_text_font_style\":\"bold\",\"axis_line_alpha\":1,\"axis_line_color\":\"#5B5B5B\",\"coordinates\":null,\"formatter\":{\"id\":\"1208\"},\"group\":null,\"major_label_orientation\":1.57,\"major_label_policy\":{\"id\":\"1209\"},\"major_label_text_color\":\"#5B5B5B\",\"major_label_text_font\":\"Calibri Light\",\"major_label_text_font_size\":\"0.95em\",\"major_label_text_font_style\":\"bold\",\"major_tick_in\":0,\"major_tick_line_alpha\":0.25,\"major_tick_line_color\":\"#5B5B5B\",\"major_tick_out\":3,\"minor_tick_line_alpha\":0.25,\"minor_tick_line_color\":\"#5B5B5B\",\"ticker\":{\"id\":\"1244\"}},\"id\":\"1173\",\"type\":\"LinearAxis\"},{\"attributes\":{\"coordinates\":null,\"dimension\":\"height\",\"group\":null,\"line_width\":2,\"location\":2.0},\"id\":\"1255\",\"type\":\"Span\"},{\"attributes\":{},\"id\":\"1617\",\"type\":\"Selection\"},{\"attributes\":{\"axis\":{\"id\":\"1173\"},\"coordinates\":null,\"grid_line_color\":null,\"group\":null,\"ticker\":null},\"id\":\"1176\",\"type\":\"Grid\"},{\"attributes\":{},\"id\":\"1855\",\"type\":\"Selection\"},{\"attributes\":{},\"id\":\"1616\",\"type\":\"UnionRenderers\"},{\"attributes\":{\"axis\":{\"id\":\"1177\"},\"coordinates\":null,\"dimension\":1,\"grid_line_color\":null,\"group\":null,\"ticker\":null},\"id\":\"1180\",\"type\":\"Grid\"},{\"attributes\":{\"fill_alpha\":{\"value\":0.2},\"fill_color\":{\"value\":\"#440154\"},\"hatch_alpha\":{\"value\":0.2},\"line_alpha\":{\"value\":0.2},\"line_color\":{\"value\":\"#440154\"},\"size\":{\"value\":10},\"x\":{\"field\":\"x\"},\"y\":{\"field\":\"y\"}},\"id\":\"1260\",\"type\":\"Circle\"},{\"attributes\":{\"tools\":[{\"id\":\"1181\"},{\"id\":\"1182\"},{\"id\":\"1183\"},{\"id\":\"1184\"},{\"id\":\"1185\"},{\"id\":\"1186\"},{\"id\":\"1215\"},{\"id\":\"1275\"},{\"id\":\"1298\"},{\"id\":\"1323\"}]},\"id\":\"1188\",\"type\":\"Toolbar\"},{\"attributes\":{},\"id\":\"1182\",\"type\":\"WheelZoomTool\"},{\"attributes\":{\"bottom\":{\"field\":\"bottom\"},\"fill_alpha\":{\"value\":0.2},\"fill_color\":{\"value\":\"grey\"},\"hatch_alpha\":{\"value\":0.2},\"left\":{\"field\":\"start\"},\"line_alpha\":{\"value\":0.2},\"line_color\":{\"value\":\"grey\"},\"right\":{\"field\":\"end\"},\"top\":{\"field\":\"top\"}},\"id\":\"2326\",\"type\":\"Quad\"},{\"attributes\":{\"fill_color\":{\"value\":\"#70CE56\"},\"line_color\":{\"value\":\"#70CE56\"},\"size\":{\"value\":10},\"x\":{\"field\":\"x\"},\"y\":{\"field\":\"y\"}},\"id\":\"2245\",\"type\":\"Circle\"},{\"attributes\":{},\"id\":\"1181\",\"type\":\"PanTool\"},{\"attributes\":{\"overlay\":{\"id\":\"1187\"}},\"id\":\"1183\",\"type\":\"BoxZoomTool\"},{\"attributes\":{},\"id\":\"1184\",\"type\":\"SaveTool\"},{\"attributes\":{\"fill_color\":{\"value\":\"#70CE56\"},\"line_color\":{\"value\":\"#70CE56\"},\"size\":{\"value\":10},\"x\":{\"field\":\"x\"},\"y\":{\"field\":\"y\"}},\"id\":\"1601\",\"type\":\"Circle\"},{\"attributes\":{\"data\":{\"Denominator\":[4],\"Numerator\":[4],\"grid_index\":[0],\"x\":[0.0],\"y\":[4]},\"selected\":{\"id\":\"2261\"},\"selection_policy\":{\"id\":\"2260\"}},\"id\":\"2243\",\"type\":\"ColumnDataSource\"},{\"attributes\":{},\"id\":\"1185\",\"type\":\"ResetTool\"},{\"attributes\":{\"fill_alpha\":{\"value\":0.1},\"fill_color\":{\"value\":\"#70CE56\"},\"hatch_alpha\":{\"value\":0.1},\"line_alpha\":{\"value\":0.1},\"line_color\":{\"value\":\"#70CE56\"},\"size\":{\"value\":10},\"x\":{\"field\":\"x\"},\"y\":{\"field\":\"y\"}},\"id\":\"2246\",\"type\":\"Circle\"},{\"attributes\":{\"source\":{\"id\":\"2243\"}},\"id\":\"2249\",\"type\":\"CDSView\"},{\"attributes\":{\"fill_alpha\":{\"value\":0.1},\"fill_color\":{\"value\":\"#440154\"},\"hatch_alpha\":{\"value\":0.1},\"line_alpha\":{\"value\":0.1},\"line_color\":{\"value\":\"#440154\"},\"size\":{\"value\":10},\"x\":{\"field\":\"x\"},\"y\":{\"field\":\"y\"}},\"id\":\"1742\",\"type\":\"Circle\"},{\"attributes\":{\"bottom_units\":\"screen\",\"coordinates\":null,\"fill_alpha\":0.5,\"fill_color\":\"lightgrey\",\"group\":null,\"left_units\":\"screen\",\"level\":\"overlay\",\"line_alpha\":1.0,\"line_color\":\"black\",\"line_dash\":[4,4],\"line_width\":2,\"right_units\":\"screen\",\"syncable\":false,\"top_units\":\"screen\"},\"id\":\"1187\",\"type\":\"BoxAnnotation\"},{\"attributes\":{\"fill_alpha\":{\"value\":0.1},\"fill_color\":{\"value\":\"#70CE56\"},\"hatch_alpha\":{\"value\":0.1},\"line_alpha\":{\"value\":0.1},\"line_color\":{\"value\":\"#70CE56\"},\"size\":{\"value\":10},\"x\":{\"field\":\"x\"},\"y\":{\"field\":\"y\"}},\"id\":\"1602\",\"type\":\"Circle\"},{\"attributes\":{\"fill_alpha\":{\"value\":0.2},\"fill_color\":{\"value\":\"#70CE56\"},\"hatch_alpha\":{\"value\":0.2},\"line_alpha\":{\"value\":0.2},\"line_color\":{\"value\":\"#70CE56\"},\"size\":{\"value\":10},\"x\":{\"field\":\"x\"},\"y\":{\"field\":\"y\"}},\"id\":\"2247\",\"type\":\"Circle\"},{\"attributes\":{\"coordinates\":null,\"data_source\":{\"id\":\"2322\"},\"glyph\":{\"id\":\"2324\"},\"group\":null,\"hover_glyph\":null,\"muted_glyph\":{\"id\":\"2326\"},\"nonselection_glyph\":{\"id\":\"2325\"},\"view\":{\"id\":\"2328\"}},\"id\":\"2327\",\"type\":\"GlyphRenderer\"},{\"attributes\":{\"source\":{\"id\":\"1599\"}},\"id\":\"1605\",\"type\":\"CDSView\"},{\"attributes\":{\"coordinates\":null,\"data_source\":{\"id\":\"2243\"},\"glyph\":{\"id\":\"2245\"},\"group\":null,\"hover_glyph\":null,\"muted_glyph\":{\"id\":\"2247\"},\"nonselection_glyph\":{\"id\":\"2246\"},\"view\":{\"id\":\"2249\"}},\"id\":\"2248\",\"type\":\"GlyphRenderer\"},{\"attributes\":{\"fill_alpha\":{\"value\":0.1},\"fill_color\":{\"value\":\"#440154\"},\"hatch_alpha\":{\"value\":0.1},\"line_alpha\":{\"value\":0.1},\"line_color\":{\"value\":\"#440154\"},\"size\":{\"value\":10},\"x\":{\"field\":\"x\"},\"y\":{\"field\":\"y\"}},\"id\":\"1259\",\"type\":\"Circle\"},{\"attributes\":{\"data\":{\"bottom\":{\"__ndarray__\":\"mpmZmZmZyb/NzMzMzMz8P2ZmZmZmZgZAmpmZmZmZyb/NzMzMzMz8P5qZmZmZmcm/ZmZmZmZmBkCamZmZmZnJv5qZmZmZmek/zczMzMzM/D+amZmZmZnJv2ZmZmZmZgZAmpmZmZmZyb/NzMzMzMz8P5qZmZmZmcm/ZmZmZmZmBkCamZmZmZnJv5qZmZmZmek/ZmZmZmZmBkCamZmZmZnJv83MzMzMzPw/ZmZmZmZmBkCamZmZmZnJv83MzMzMzPw/mpmZmZmZyb9mZmZmZmYGQJqZmZmZmcm/zczMzMzM/D+amZmZmZnJv5qZmZmZmek/ZmZmZmZmBkCamZmZmZnJv83MzMzMzPw/mpmZmZmZyb9mZmZmZmYGQJqZmZmZmcm/mpmZmZmZ6T9mZmZmZmYGQJqZmZmZmcm/zczMzMzM/D9mZmZmZmYGQJqZmZmZmcm/zczMzMzM/D+amZmZmZnJv2ZmZmZmZgZAmpmZmZmZyb+amZmZmZnpP2ZmZmZmZgZAmpmZmZmZyb9mZmZmZmYGQJqZmZmZmcm/zczMzMzM/D+amZmZmZnJv2ZmZmZmZgZAmpmZmZmZyb+amZmZmZnpP83MzMzMzPw/mpmZmZmZyb/NzMzMzMz8P2ZmZmZmZgZAmpmZmZmZyb9mZmZmZmYGQJqZmZmZmcm/ZmZmZmZmBkCamZmZmZnJv5qZmZmZmek/zczMzMzM/D+amZmZmZnJv5qZmZmZmek/ZmZmZmZmBkCamZmZmZnJv2ZmZmZmZgZAmpmZmZmZyb9mZmZmZmYGQJqZmZmZmcm/mpmZmZmZ6T9mZmZmZmYGQA==\",\"dtype\":\"float64\",\"order\":\"little\",\"shape\":[77]},\"end\":[0.012499999999999997,0.012499999999999997,0.048875,0.176125,0.176125,0.298875,0.298875,0.421625,0.455625,0.421625,0.5375,0.5375,0.66025,0.66025,0.792,0.792,0.933,0.976125,0.933,1.03525,1.058,1.03525,1.16475,1.16475,1.271625,1.271625,1.392,1.392,1.501125,1.501125,1.51025,1.644375,1.644375,1.778375,1.778375,1.898875,1.971625,1.898875,2.026125,2.033,2.026125,2.148875,2.148875,2.28525,2.28525,2.41475,2.494375,2.41475,2.53975,2.53975,2.671625,2.671625,2.801125,2.801125,2.923875,2.992,2.923875,3.048875,3.048875,3.048875,3.1625,3.1625,3.280625,3.280625,3.4125,3.417,3.4125,3.53525,3.53525,3.53525,3.655625,3.655625,3.773875,3.773875,3.91025,3.992,3.91025],\"grid_line\":[0,0,0,1,1,2,2,3,3,3,4,4,5,5,6,6,7,7,7,8,8,8,9,9,10,10,11,11,12,12,12,13,13,14,14,15,15,15,16,16,16,17,17,18,18,19,19,19,20,20,21,21,22,22,23,23,23,24,24,24,25,25,26,26,27,27,27,28,28,28,29,29,30,30,31,31,31],\"instrument\":[\"stream_0\",\"stream_2\",\"stream_3\",\"stream_0\",\"stream_2\",\"stream_0\",\"stream_3\",\"stream_0\",\"stream_1\",\"stream_2\",\"stream_0\",\"stream_3\",\"stream_0\",\"stream_2\",\"stream_0\",\"stream_3\",\"stream_0\",\"stream_1\",\"stream_3\",\"stream_0\",\"stream_2\",\"stream_3\",\"stream_0\",\"stream_2\",\"stream_0\",\"stream_3\",\"stream_0\",\"stream_2\",\"stream_0\",\"stream_1\",\"stream_3\",\"stream_0\",\"stream_2\",\"stream_0\",\"stream_3\",\"stream_0\",\"stream_1\",\"stream_3\",\"stream_0\",\"stream_2\",\"stream_3\",\"stream_0\",\"stream_2\",\"stream_0\",\"stream_3\",\"stream_0\",\"stream_1\",\"stream_3\",\"stream_0\",\"stream_3\",\"stream_0\",\"stream_2\",\"stream_0\",\"stream_3\",\"stream_0\",\"stream_1\",\"stream_2\",\"stream_0\",\"stream_2\",\"stream_3\",\"stream_0\",\"stream_3\",\"stream_0\",\"stream_3\",\"stream_0\",\"stream_1\",\"stream_2\",\"stream_0\",\"stream_1\",\"stream_3\",\"stream_0\",\"stream_3\",\"stream_0\",\"stream_3\",\"stream_0\",\"stream_1\",\"stream_3\"],\"midi\":[36,42,46,36,42,36,46,36,38,42,36,46,36,42,36,46,36,38,46,36,42,46,36,42,36,46,36,42,36,38,46,36,42,36,46,36,38,46,36,42,46,36,42,36,46,36,38,46,36,46,36,42,36,46,36,38,42,36,42,46,36,46,36,46,36,38,42,36,38,46,36,46,36,46,36,38,46],\"offset\":[-0.4,-0.4,-0.109,-0.091,-0.091,-0.109,-0.109,-0.127,0.145,-0.127,-0.2,-0.2,-0.218,-0.218,-0.164,-0.164,-0.036,0.309,-0.036,-0.218,-0.036,-0.218,-0.182,-0.182,-0.327,-0.327,-0.364,-0.364,-0.491,-0.491,-0.418,-0.345,-0.345,-0.273,-0.273,-0.309,0.273,-0.309,-0.291,-0.236,-0.291,-0.309,-0.309,-0.218,-0.218,-0.182,0.455,-0.182,-0.182,-0.182,-0.127,-0.127,-0.091,-0.091,-0.109,0.436,-0.109,-0.109,-0.109,-0.109,-0.2,-0.2,-0.255,-0.255,-0.2,-0.164,-0.2,-0.218,-0.218,-0.218,-0.255,-0.255,-0.309,-0.309,-0.218,0.436,-0.218],\"offset_sec\":[-0.05,-0.05,-0.014,-0.011,-0.011,-0.014,-0.014,-0.016,0.018,-0.016,-0.025,-0.025,-0.027,-0.027,-0.02,-0.02,-0.004,0.039,-0.004,-0.027,-0.004,-0.027,-0.023,-0.023,-0.041,-0.041,-0.046,-0.046,-0.061,-0.061,-0.052,-0.043,-0.043,-0.034,-0.034,-0.039,0.034,-0.039,-0.036,-0.03,-0.036,-0.039,-0.039,-0.027,-0.027,-0.023,0.057,-0.023,-0.023,-0.023,-0.016,-0.016,-0.011,-0.011,-0.014,0.054,-0.014,-0.014,-0.014,-0.014,-0.025,-0.025,-0.032,-0.032,-0.025,-0.02,-0.025,-0.027,-0.027,-0.027,-0.032,-0.032,-0.039,-0.039,-0.027,0.054,-0.027],\"start\":[-0.05,-0.05,-0.013625,0.113625,0.113625,0.236375,0.236375,0.359125,0.393125,0.359125,0.475,0.475,0.59775,0.59775,0.7295,0.7295,0.8705,0.913625,0.8705,0.97275,0.9955,0.97275,1.10225,1.10225,1.209125,1.209125,1.3295,1.3295,1.438625,1.438625,1.44775,1.581875,1.581875,1.715875,1.715875,1.836375,1.909125,1.836375,1.963625,1.9705,1.963625,2.086375,2.086375,2.22275,2.22275,2.35225,2.431875,2.35225,2.47725,2.47725,2.609125,2.609125,2.738625,2.738625,2.861375,2.9295,2.861375,2.986375,2.986375,2.986375,3.1,3.1,3.218125,3.218125,3.35,3.3545,3.35,3.47275,3.47275,3.47275,3.593125,3.593125,3.711375,3.711375,3.84775,3.9295,3.84775],\"top\":{\"__ndarray__\":\"mpmZmZmZyT+amZmZmZkBQJqZmZmZmQlAmpmZmZmZyT+amZmZmZkBQJqZmZmZmck/mpmZmZmZCUCamZmZmZnJPzMzMzMzM/M/mpmZmZmZAUCamZmZmZnJP5qZmZmZmQlAmpmZmZmZyT+amZmZmZkBQJqZmZmZmck/mpmZmZmZCUCamZmZmZnJPzMzMzMzM/M/mpmZmZmZCUCamZmZmZnJP5qZmZmZmQFAmpmZmZmZCUCamZmZmZnJP5qZmZmZmQFAmpmZmZmZyT+amZmZmZkJQJqZmZmZmck/mpmZmZmZAUCamZmZmZnJPzMzMzMzM/M/mpmZmZmZCUCamZmZmZnJP5qZmZmZmQFAmpmZmZmZyT+amZmZmZkJQJqZmZmZmck/MzMzMzMz8z+amZmZmZkJQJqZmZmZmck/mpmZmZmZAUCamZmZmZkJQJqZmZmZmck/mpmZmZmZAUCamZmZmZnJP5qZmZmZmQlAmpmZmZmZyT8zMzMzMzPzP5qZmZmZmQlAmpmZmZmZyT+amZmZmZkJQJqZmZmZmck/mpmZmZmZAUCamZmZmZnJP5qZmZmZmQlAmpmZmZmZyT8zMzMzMzPzP5qZmZmZmQFAmpmZmZmZyT+amZmZmZkBQJqZmZmZmQlAmpmZmZmZyT+amZmZmZkJQJqZmZmZmck/mpmZmZmZCUCamZmZmZnJPzMzMzMzM/M/mpmZmZmZAUCamZmZmZnJPzMzMzMzM/M/mpmZmZmZCUCamZmZmZnJP5qZmZmZmQlAmpmZmZmZyT+amZmZmZkJQJqZmZmZmck/MzMzMzMz8z+amZmZmZkJQA==\",\"dtype\":\"float64\",\"order\":\"little\",\"shape\":[77]},\"velocity\":[0.354,0.354,0.811,0.465,0.465,1.0,1.0,0.441,0.291,0.441,1.0,1.0,0.37,0.37,0.661,0.661,0.677,0.236,0.677,1.0,0.346,1.0,0.378,0.378,0.953,0.953,0.52,0.52,0.236,0.236,1.0,0.472,0.472,1.0,1.0,0.638,0.276,0.638,1.0,0.441,1.0,0.386,0.386,1.0,1.0,0.598,0.252,0.598,1.0,1.0,0.488,0.488,0.756,0.756,0.543,0.236,0.543,0.409,0.409,0.898,0.591,0.591,1.0,1.0,0.543,0.307,0.543,0.173,0.173,1.0,0.598,0.598,0.787,0.787,0.756,0.236,0.756],\"voice_index\":[0,2,3,0,2,0,3,0,1,2,0,3,0,2,0,3,0,1,3,0,2,3,0,2,0,3,0,2,0,1,3,0,2,0,3,0,1,3,0,2,3,0,2,0,3,0,1,3,0,3,0,2,0,3,0,1,2,0,2,3,0,3,0,3,0,1,2,0,1,3,0,3,0,3,0,1,3]},\"selected\":{\"id\":\"1372\"},\"selection_policy\":{\"id\":\"1371\"}},\"id\":\"1356\",\"type\":\"ColumnDataSource\"},{\"attributes\":{\"callback\":null,\"renderers\":[{\"id\":\"1604\"}],\"tooltips\":[[\"Numerator\",\"@Numerator\"],[\"Denominator\",\"@Denominator\"],[\"grid_index\",\"@grid_index\"]]},\"id\":\"1620\",\"type\":\"HoverTool\"},{\"attributes\":{},\"id\":\"2261\",\"type\":\"Selection\"},{\"attributes\":{\"child\":{\"id\":\"1164\"},\"title\":\"Tab 2\"},\"id\":\"2614\",\"type\":\"Panel\"},{\"attributes\":{\"label\":{\"value\":\"Time Signature\"},\"renderers\":[{\"id\":\"2248\"}]},\"id\":\"2263\",\"type\":\"LegendItem\"},{\"attributes\":{\"fill_alpha\":{\"value\":0.2},\"fill_color\":{\"value\":\"#440154\"},\"hatch_alpha\":{\"value\":0.2},\"line_alpha\":{\"value\":0.2},\"line_color\":{\"value\":\"#440154\"},\"size\":{\"value\":10},\"x\":{\"field\":\"x\"},\"y\":{\"field\":\"y\"}},\"id\":\"2548\",\"type\":\"Circle\"},{\"attributes\":{\"bottom\":{\"field\":\"bottom\"},\"fill_alpha\":{\"field\":\"velocity\"},\"fill_color\":{\"value\":\"grey\"},\"left\":{\"field\":\"start\"},\"line_color\":{\"value\":\"grey\"},\"right\":{\"field\":\"end\"},\"top\":{\"field\":\"top\"}},\"id\":\"2163\",\"type\":\"Quad\"},{\"attributes\":{\"fill_alpha\":{\"value\":0.2},\"fill_color\":{\"value\":\"#70CE56\"},\"hatch_alpha\":{\"value\":0.2},\"line_alpha\":{\"value\":0.2},\"line_color\":{\"value\":\"#70CE56\"},\"size\":{\"value\":10},\"x\":{\"field\":\"x\"},\"y\":{\"field\":\"y\"}},\"id\":\"1603\",\"type\":\"Circle\"},{\"attributes\":{\"fill_alpha\":{\"value\":0.2},\"fill_color\":{\"value\":\"#440154\"},\"hatch_alpha\":{\"value\":0.2},\"line_alpha\":{\"value\":0.2},\"line_color\":{\"value\":\"#440154\"},\"size\":{\"value\":10},\"x\":{\"field\":\"x\"},\"y\":{\"field\":\"y\"}},\"id\":\"1743\",\"type\":\"Circle\"},{\"attributes\":{\"callback\":null,\"renderers\":[{\"id\":\"2248\"}],\"tooltips\":[[\"Numerator\",\"@Numerator\"],[\"Denominator\",\"@Denominator\"],[\"grid_index\",\"@grid_index\"]]},\"id\":\"2264\",\"type\":\"HoverTool\"},{\"attributes\":{},\"id\":\"1456\",\"type\":\"Selection\"},{\"attributes\":{\"label\":{\"value\":\"Time Signature\"},\"renderers\":[{\"id\":\"1604\"}]},\"id\":\"1619\",\"type\":\"LegendItem\"},{\"attributes\":{},\"id\":\"2260\",\"type\":\"UnionRenderers\"},{\"attributes\":{\"coordinates\":null,\"data_source\":{\"id\":\"1599\"},\"glyph\":{\"id\":\"1601\"},\"group\":null,\"hover_glyph\":null,\"muted_glyph\":{\"id\":\"1603\"},\"nonselection_glyph\":{\"id\":\"1602\"},\"view\":{\"id\":\"1605\"}},\"id\":\"1604\",\"type\":\"GlyphRenderer\"},{\"attributes\":{\"child\":{\"id\":\"1325\"},\"title\":\"Tab 3\"},\"id\":\"2615\",\"type\":\"Panel\"},{\"attributes\":{\"callback\":null,\"renderers\":[{\"id\":\"2087\"}],\"tooltips\":[[\"Numerator\",\"@Numerator\"],[\"Denominator\",\"@Denominator\"],[\"grid_index\",\"@grid_index\"]]},\"id\":\"2103\",\"type\":\"HoverTool\"},{\"attributes\":{\"child\":{\"id\":\"1003\"},\"title\":\"Tab 1\"},\"id\":\"2613\",\"type\":\"Panel\"},{\"attributes\":{},\"id\":\"2151\",\"type\":\"ResetTool\"},{\"attributes\":{\"coordinates\":null,\"dimension\":\"height\",\"group\":null,\"line_width\":0.5,\"location\":1.5},\"id\":\"2054\",\"type\":\"Span\"},{\"attributes\":{\"coordinates\":null,\"dimension\":\"height\",\"group\":null,\"line_width\":0.5,\"location\":0.5},\"id\":\"2052\",\"type\":\"Span\"},{\"attributes\":{\"coordinates\":null,\"dimension\":\"height\",\"group\":null,\"line_width\":0.5,\"location\":1.0},\"id\":\"2053\",\"type\":\"Span\"},{\"attributes\":{\"coordinates\":null,\"dimension\":\"height\",\"group\":null,\"line_width\":0.5,\"location\":0.0},\"id\":\"2051\",\"type\":\"Span\"},{\"attributes\":{},\"id\":\"1367\",\"type\":\"AllLabels\"},{\"attributes\":{\"callback\":null,\"renderers\":[{\"id\":\"1765\"}],\"tooltips\":[[\"Numerator\",\"@Numerator\"],[\"Denominator\",\"@Denominator\"],[\"grid_index\",\"@grid_index\"]]},\"id\":\"1781\",\"type\":\"HoverTool\"},{\"attributes\":{\"fill_alpha\":{\"value\":0.2},\"fill_color\":{\"value\":\"#440154\"},\"hatch_alpha\":{\"value\":0.2},\"line_alpha\":{\"value\":0.2},\"line_color\":{\"value\":\"#440154\"},\"size\":{\"value\":10},\"x\":{\"field\":\"x\"},\"y\":{\"field\":\"y\"}},\"id\":\"2065\",\"type\":\"Circle\"},{\"attributes\":{\"coordinates\":null,\"dimension\":\"height\",\"group\":null,\"line_width\":0.5,\"location\":2.0},\"id\":\"2216\",\"type\":\"Span\"},{\"attributes\":{\"data\":{\"grid_index\":[0],\"tempo\":[120.0],\"x\":[0.0],\"y\":[4.5]},\"selected\":{\"id\":\"1111\"},\"selection_policy\":{\"id\":\"1110\"}},\"id\":\"1095\",\"type\":\"ColumnDataSource\"},{\"attributes\":{},\"id\":\"1370\",\"type\":\"AllLabels\"},{\"attributes\":{\"below\":[{\"id\":\"1173\"}],\"center\":[{\"id\":\"1176\"},{\"id\":\"1180\"},{\"id\":\"1213\"},{\"id\":\"1220\"},{\"id\":\"1221\"},{\"id\":\"1222\"},{\"id\":\"1223\"},{\"id\":\"1224\"},{\"id\":\"1225\"},{\"id\":\"1226\"},{\"id\":\"1227\"},{\"id\":\"1228\"},{\"id\":\"1229\"},{\"id\":\"1230\"},{\"id\":\"1231\"},{\"id\":\"1232\"},{\"id\":\"1233\"},{\"id\":\"1234\"},{\"id\":\"1235\"},{\"id\":\"1236\"},{\"id\":\"1237\"},{\"id\":\"1238\"},{\"id\":\"1239\"},{\"id\":\"1240\"},{\"id\":\"1241\"},{\"id\":\"1242\"},{\"id\":\"1243\"},{\"id\":\"1246\"},{\"id\":\"1247\"},{\"id\":\"1248\"},{\"id\":\"1249\"},{\"id\":\"1250\"},{\"id\":\"1251\"},{\"id\":\"1252\"},{\"id\":\"1253\"},{\"id\":\"1254\"},{\"id\":\"1255\"}],\"height\":400,\"left\":[{\"id\":\"1177\"}],\"renderers\":[{\"id\":\"1200\"},{\"id\":\"1261\"},{\"id\":\"1282\"},{\"id\":\"1305\"}],\"right\":[{\"id\":\"1213\"}],\"title\":{\"id\":\"1202\"},\"toolbar\":{\"id\":\"1188\"},\"width\":800,\"x_range\":{\"id\":\"1165\"},\"x_scale\":{\"id\":\"1169\"},\"y_range\":{\"id\":\"1167\"},\"y_scale\":{\"id\":\"1171\"}},\"id\":\"1164\",\"subtype\":\"Figure\",\"type\":\"Plot\"},{\"attributes\":{\"coordinates\":null,\"data_source\":{\"id\":\"1760\"},\"glyph\":{\"id\":\"1762\"},\"group\":null,\"hover_glyph\":null,\"muted_glyph\":{\"id\":\"1764\"},\"nonselection_glyph\":{\"id\":\"1763\"},\"view\":{\"id\":\"1766\"}},\"id\":\"1765\",\"type\":\"GlyphRenderer\"},{\"attributes\":{\"coordinates\":null,\"dimension\":\"height\",\"group\":null,\"line_width\":0.5,\"location\":1.5},\"id\":\"2215\",\"type\":\"Span\"},{\"attributes\":{\"fill_color\":{\"value\":\"#440154\"},\"line_color\":{\"value\":\"#440154\"},\"size\":{\"value\":10},\"x\":{\"field\":\"x\"},\"y\":{\"field\":\"y\"}},\"id\":\"1097\",\"type\":\"Circle\"},{\"attributes\":{\"data\":{\"bpm\":[\"120\"],\"collection\":[\"groove_midi\"],\"genre\":[\"dance-disco\"],\"grouping\":[\"velocity\"],\"member\":[\"high\"],\"meter\":[\"4-4\"],\"sample_id\":[\"6_dance-disco_120_beat_4-4\"],\"source\":[\"GrooveMIDI\"],\"start_bar\":[77],\"stream_0\":[\"groove\"],\"stream_1\":[\"low\"],\"stream_2\":[\"mid\"],\"stream_3\":[\"high\"],\"track_number\":[\"6\"],\"x\":[0.0],\"y\":[3.5]},\"selected\":{\"id\":\"1320\"},\"selection_policy\":{\"id\":\"1319\"}},\"id\":\"1300\",\"type\":\"ColumnDataSource\"},{\"attributes\":{},\"id\":\"1369\",\"type\":\"BasicTickFormatter\"},{\"attributes\":{\"ticks\":[0.0,0.5,1.0,1.5,2.0,2.5,3.0,3.5]},\"id\":\"1083\",\"type\":\"FixedTicker\"},{\"attributes\":{\"label\":{\"value\":\"Time Signature\"},\"renderers\":[{\"id\":\"1765\"}]},\"id\":\"1780\",\"type\":\"LegendItem\"},{\"attributes\":{\"source\":{\"id\":\"2061\"}},\"id\":\"2067\",\"type\":\"CDSView\"},{\"attributes\":{\"coordinates\":null,\"group\":null,\"text_color\":\"#5B5B5B\",\"text_font\":\"Calibri Light\",\"text_font_size\":\"1.25em\",\"text_font_style\":\"bold\"},\"id\":\"1363\",\"type\":\"Title\"},{\"attributes\":{\"data\":{\"bpm\":[\"120\"],\"collection\":[\"groove_midi\"],\"genre\":[\"dance-disco\"],\"grouping\":[\"velocity\"],\"member\":[\"high\"],\"meter\":[\"4-4\"],\"sample_id\":[\"6_dance-disco_120_beat_4-4\"],\"source\":[\"GrooveMIDI\"],\"start_bar\":[80],\"stream_0\":[\"groove\"],\"stream_1\":[\"low\"],\"stream_2\":[\"mid\"],\"stream_3\":[\"high\"],\"track_number\":[\"6\"],\"x\":[0.0],\"y\":[3.5]},\"selected\":{\"id\":\"1803\"},\"selection_policy\":{\"id\":\"1802\"}},\"id\":\"1783\",\"type\":\"ColumnDataSource\"},{\"attributes\":{\"fill_alpha\":{\"value\":0.1},\"fill_color\":{\"value\":\"#440154\"},\"hatch_alpha\":{\"value\":0.1},\"line_alpha\":{\"value\":0.1},\"line_color\":{\"value\":\"#440154\"},\"size\":{\"value\":10},\"x\":{\"field\":\"x\"},\"y\":{\"field\":\"y\"}},\"id\":\"2064\",\"type\":\"Circle\"},{\"attributes\":{\"ticks\":[0.0,0.5,1.0,1.5,2.0,2.5,3.0,3.5]},\"id\":\"2049\",\"type\":\"FixedTicker\"},{\"attributes\":{},\"id\":\"2147\",\"type\":\"PanTool\"},{\"attributes\":{\"overlay\":{\"id\":\"2153\"}},\"id\":\"2149\",\"type\":\"BoxZoomTool\"},{\"attributes\":{\"coordinates\":null,\"dimension\":\"height\",\"group\":null,\"line_width\":0.5,\"location\":2.0},\"id\":\"2055\",\"type\":\"Span\"},{\"attributes\":{\"ticks\":[0,1,2,3]},\"id\":\"2184\",\"type\":\"FixedTicker\"},{\"attributes\":{},\"id\":\"2313\",\"type\":\"HelpTool\"},{\"attributes\":{\"callback\":null,\"renderers\":[{\"id\":\"1261\"}],\"tooltips\":[[\"tempo\",\"@tempo\"],[\"grid_index\",\"@grid_index\"]]},\"id\":\"1275\",\"type\":\"HoverTool\"},{\"attributes\":{},\"id\":\"2335\",\"type\":\"BasicTickFormatter\"},{\"attributes\":{\"label\":{\"value\":\"Tempo\"},\"renderers\":[{\"id\":\"1261\"}]},\"id\":\"1274\",\"type\":\"LegendItem\"},{\"attributes\":{\"coordinates\":null,\"dimension\":\"height\",\"group\":null,\"line_width\":2,\"location\":0.0},\"id\":\"1254\",\"type\":\"Span\"},{\"attributes\":{\"coordinates\":null,\"dimension\":\"height\",\"group\":null,\"line_width\":0.1,\"location\":3.625},\"id\":\"1080\",\"type\":\"Span\"},{\"attributes\":{\"coordinates\":null,\"dimension\":\"height\",\"group\":null,\"line_width\":0.1,\"location\":2.25},\"id\":\"2038\",\"type\":\"Span\"},{\"attributes\":{},\"id\":\"1777\",\"type\":\"UnionRenderers\"},{\"attributes\":{\"coordinates\":null,\"dimension\":\"height\",\"group\":null,\"line_width\":0.1,\"location\":3.75},\"id\":\"1081\",\"type\":\"Span\"},{\"attributes\":{\"coordinates\":null,\"dimension\":\"height\",\"group\":null,\"line_width\":0.1,\"location\":2.375},\"id\":\"2039\",\"type\":\"Span\"},{\"attributes\":{\"coordinates\":null,\"dimension\":\"height\",\"group\":null,\"line_width\":0.1,\"location\":0.75},\"id\":\"2190\",\"type\":\"Span\"},{\"attributes\":{\"coordinates\":null,\"dimension\":\"height\",\"group\":null,\"line_width\":0.1,\"location\":3.875},\"id\":\"1082\",\"type\":\"Span\"},{\"attributes\":{\"coordinates\":null,\"dimension\":\"height\",\"group\":null,\"line_width\":0.1,\"location\":2.625},\"id\":\"2040\",\"type\":\"Span\"},{\"attributes\":{\"coordinates\":null,\"dimension\":\"height\",\"group\":null,\"line_width\":0.1,\"location\":0.625},\"id\":\"2189\",\"type\":\"Span\"},{\"attributes\":{\"coordinates\":null,\"dimension\":\"height\",\"group\":null,\"line_width\":0.1,\"location\":2.75},\"id\":\"2041\",\"type\":\"Span\"},{\"attributes\":{\"fill_color\":{\"value\":\"#70CE56\"},\"line_color\":{\"value\":\"#70CE56\"},\"size\":{\"value\":10},\"x\":{\"field\":\"x\"},\"y\":{\"field\":\"y\"}},\"id\":\"1279\",\"type\":\"Circle\"},{\"attributes\":{},\"id\":\"2150\",\"type\":\"SaveTool\"},{\"attributes\":{\"coordinates\":null,\"dimension\":\"height\",\"group\":null,\"line_width\":0.5,\"location\":0.0},\"id\":\"1085\",\"type\":\"Span\"},{\"attributes\":{\"coordinates\":null,\"dimension\":\"height\",\"group\":null,\"line_width\":0.1,\"location\":1.125},\"id\":\"1226\",\"type\":\"Span\"},{\"attributes\":{\"coordinates\":null,\"dimension\":\"height\",\"group\":null,\"line_width\":0.1,\"location\":2.875},\"id\":\"2042\",\"type\":\"Span\"},{\"attributes\":{\"coordinates\":null,\"dimension\":\"height\",\"group\":null,\"line_width\":0.5,\"location\":0.5},\"id\":\"1086\",\"type\":\"Span\"},{\"attributes\":{\"coordinates\":null,\"dimension\":\"height\",\"group\":null,\"line_width\":0.1,\"location\":3.125},\"id\":\"2043\",\"type\":\"Span\"},{\"attributes\":{\"coordinates\":null,\"dimension\":\"height\",\"group\":null,\"line_width\":0.1,\"location\":0.25},\"id\":\"2187\",\"type\":\"Span\"},{\"attributes\":{\"coordinates\":null,\"dimension\":\"height\",\"group\":null,\"line_width\":0.5,\"location\":2.5},\"id\":\"2056\",\"type\":\"Span\"},{\"attributes\":{\"coordinates\":null,\"group\":null,\"text_color\":\"#5B5B5B\",\"text_font\":\"Calibri Light\",\"text_font_size\":\"1.25em\",\"text_font_style\":\"bold\"},\"id\":\"2168\",\"type\":\"Title\"},{\"attributes\":{\"coordinates\":null,\"dimension\":\"height\",\"group\":null,\"line_width\":0.1,\"location\":0.375},\"id\":\"2188\",\"type\":\"Span\"},{\"attributes\":{\"coordinates\":null,\"dimension\":\"height\",\"group\":null,\"line_width\":0.5,\"location\":1.0},\"id\":\"2214\",\"type\":\"Span\"},{\"attributes\":{\"fill_alpha\":{\"value\":0.1},\"fill_color\":{\"value\":\"#70CE56\"},\"hatch_alpha\":{\"value\":0.1},\"line_alpha\":{\"value\":0.1},\"line_color\":{\"value\":\"#70CE56\"},\"size\":{\"value\":10},\"x\":{\"field\":\"x\"},\"y\":{\"field\":\"y\"}},\"id\":\"1280\",\"type\":\"Circle\"},{\"attributes\":{\"callback\":null,\"renderers\":[{\"id\":\"1200\"}],\"tooltips\":[[\"start\",\"@start\"],[\"end\",\"@end\"],[\"instrument\",\"@instrument\"],[\"voice_index\",\"@voice_index\"],[\"midi\",\"@midi\"],[\"velocity\",\"@velocity\"],[\"offset\",\"@offset\"],[\"offset_sec\",\"@offset_sec\"],[\"grid_line\",\"@grid_line\"]]},\"id\":\"1215\",\"type\":\"HoverTool\"},{\"attributes\":{},\"id\":\"2337\",\"type\":\"UnionRenderers\"},{\"attributes\":{\"coordinates\":null,\"data_source\":{\"id\":\"1256\"},\"glyph\":{\"id\":\"1258\"},\"group\":null,\"hover_glyph\":null,\"muted_glyph\":{\"id\":\"1260\"},\"nonselection_glyph\":{\"id\":\"1259\"},\"view\":{\"id\":\"1262\"}},\"id\":\"1261\",\"type\":\"GlyphRenderer\"},{\"attributes\":{\"coordinates\":null,\"dimension\":\"height\",\"group\":null,\"line_width\":0.5,\"location\":3.0},\"id\":\"2057\",\"type\":\"Span\"},{\"attributes\":{\"coordinates\":null,\"dimension\":\"height\",\"group\":null,\"line_width\":2,\"location\":2.0},\"id\":\"2060\",\"type\":\"Span\"},{\"attributes\":{\"fill_color\":{\"value\":\"#440154\"},\"line_color\":{\"value\":\"#440154\"},\"size\":{\"value\":10},\"x\":{\"field\":\"x\"},\"y\":{\"field\":\"y\"}},\"id\":\"2063\",\"type\":\"Circle\"},{\"attributes\":{\"coordinates\":null,\"dimension\":\"height\",\"group\":null,\"line_width\":0.5,\"location\":3.5},\"id\":\"2058\",\"type\":\"Span\"},{\"attributes\":{\"coordinates\":null,\"dimension\":\"height\",\"group\":null,\"line_width\":2,\"location\":0.0},\"id\":\"2059\",\"type\":\"Span\"},{\"attributes\":{\"coordinates\":null,\"dimension\":\"height\",\"group\":null,\"line_width\":0.5,\"location\":1.0},\"id\":\"1087\",\"type\":\"Span\"},{\"attributes\":{\"coordinates\":null,\"dimension\":\"height\",\"group\":null,\"line_width\":0.1,\"location\":3.25},\"id\":\"2044\",\"type\":\"Span\"},{\"attributes\":{\"source\":{\"id\":\"1277\"}},\"id\":\"1283\",\"type\":\"CDSView\"},{\"attributes\":{\"coordinates\":null,\"dimension\":\"height\",\"group\":null,\"line_width\":0.5,\"location\":1.5},\"id\":\"1088\",\"type\":\"Span\"},{\"attributes\":{\"coordinates\":null,\"dimension\":\"height\",\"group\":null,\"line_width\":0.1,\"location\":2.75},\"id\":\"1236\",\"type\":\"Span\"},{\"attributes\":{\"coordinates\":null,\"dimension\":\"height\",\"group\":null,\"line_width\":0.1,\"location\":3.375},\"id\":\"2045\",\"type\":\"Span\"},{\"attributes\":{\"coordinates\":null,\"dimension\":\"height\",\"group\":null,\"line_width\":0.5,\"location\":2.0},\"id\":\"1089\",\"type\":\"Span\"},{\"attributes\":{\"coordinates\":null,\"dimension\":\"height\",\"group\":null,\"line_width\":0.1,\"location\":3.625},\"id\":\"2046\",\"type\":\"Span\"},{\"attributes\":{\"coordinates\":null,\"dimension\":\"height\",\"group\":null,\"line_width\":0.5,\"location\":3.0},\"id\":\"2218\",\"type\":\"Span\"},{\"attributes\":{\"coordinates\":null,\"dimension\":\"height\",\"group\":null,\"line_width\":0.5,\"location\":2.5},\"id\":\"1090\",\"type\":\"Span\"},{\"attributes\":{\"coordinates\":null,\"dimension\":\"height\",\"group\":null,\"line_width\":0.1,\"location\":2.625},\"id\":\"1235\",\"type\":\"Span\"},{\"attributes\":{\"coordinates\":null,\"dimension\":\"height\",\"group\":null,\"line_width\":0.1,\"location\":3.75},\"id\":\"2047\",\"type\":\"Span\"},{\"attributes\":{\"coordinates\":null,\"dimension\":\"height\",\"group\":null,\"line_width\":0.5,\"location\":3.0},\"id\":\"1091\",\"type\":\"Span\"},{\"attributes\":{\"coordinates\":null,\"dimension\":\"height\",\"group\":null,\"line_width\":0.1,\"location\":3.875},\"id\":\"2048\",\"type\":\"Span\"},{\"attributes\":{\"coordinates\":null,\"dimension\":\"height\",\"group\":null,\"line_width\":0.1,\"location\":0.875},\"id\":\"2191\",\"type\":\"Span\"},{\"attributes\":{\"coordinates\":null,\"dimension\":\"height\",\"group\":null,\"line_width\":0.5,\"location\":3.5},\"id\":\"1092\",\"type\":\"Span\"},{\"attributes\":{\"coordinates\":null,\"dimension\":\"height\",\"group\":null,\"line_width\":0.1,\"location\":0.75},\"id\":\"1224\",\"type\":\"Span\"},{\"attributes\":{\"coordinates\":null,\"dimension\":\"height\",\"group\":null,\"line_width\":0.1,\"location\":1.125},\"id\":\"2192\",\"type\":\"Span\"},{\"attributes\":{\"coordinates\":null,\"dimension\":\"height\",\"group\":null,\"line_width\":0.1,\"location\":1.25},\"id\":\"2193\",\"type\":\"Span\"},{\"attributes\":{\"coordinates\":null,\"dimension\":\"height\",\"group\":null,\"line_width\":0.1,\"location\":1.375},\"id\":\"2194\",\"type\":\"Span\"},{\"attributes\":{\"source\":{\"id\":\"1256\"}},\"id\":\"1262\",\"type\":\"CDSView\"},{\"attributes\":{\"fill_color\":{\"value\":\"#1EA087\"},\"line_color\":{\"value\":\"#1EA087\"},\"size\":{\"value\":10},\"x\":{\"field\":\"x\"},\"y\":{\"field\":\"y\"}},\"id\":\"1302\",\"type\":\"Circle\"},{\"attributes\":{\"coordinates\":null,\"dimension\":\"height\",\"group\":null,\"line_width\":2,\"location\":0.0},\"id\":\"1093\",\"type\":\"Span\"},{\"attributes\":{\"coordinates\":null,\"data_source\":{\"id\":\"1277\"},\"glyph\":{\"id\":\"1279\"},\"group\":null,\"hover_glyph\":null,\"muted_glyph\":{\"id\":\"1281\"},\"nonselection_glyph\":{\"id\":\"1280\"},\"view\":{\"id\":\"1283\"}},\"id\":\"1282\",\"type\":\"GlyphRenderer\"},{\"attributes\":{\"coordinates\":null,\"dimension\":\"height\",\"group\":null,\"line_width\":0.1,\"location\":0.125},\"id\":\"1220\",\"type\":\"Span\"},{\"attributes\":{\"coordinates\":null,\"dimension\":\"height\",\"group\":null,\"line_width\":2,\"location\":2.0},\"id\":\"1094\",\"type\":\"Span\"},{\"attributes\":{\"coordinates\":null,\"dimension\":\"height\",\"group\":null,\"line_width\":0.1,\"location\":0.625},\"id\":\"1223\",\"type\":\"Span\"},{\"attributes\":{\"coordinates\":null,\"data_source\":{\"id\":\"2061\"},\"glyph\":{\"id\":\"2063\"},\"group\":null,\"hover_glyph\":null,\"muted_glyph\":{\"id\":\"2065\"},\"nonselection_glyph\":{\"id\":\"2064\"},\"view\":{\"id\":\"2067\"}},\"id\":\"2066\",\"type\":\"GlyphRenderer\"},{\"attributes\":{\"coordinates\":null,\"dimension\":\"height\",\"group\":null,\"line_width\":0.1,\"location\":1.625},\"id\":\"2195\",\"type\":\"Span\"},{\"attributes\":{\"coordinates\":null,\"dimension\":\"height\",\"group\":null,\"line_width\":0.1,\"location\":1.75},\"id\":\"2196\",\"type\":\"Span\"},{\"attributes\":{\"label\":{\"value\":\"Time Signature\"},\"renderers\":[{\"id\":\"1282\"}]},\"id\":\"1297\",\"type\":\"LegendItem\"},{\"attributes\":{\"coordinates\":null,\"dimension\":\"height\",\"group\":null,\"line_width\":0.1,\"location\":2.375},\"id\":\"1234\",\"type\":\"Span\"},{\"attributes\":{\"coordinates\":null,\"dimension\":\"height\",\"group\":null,\"line_width\":0.1,\"location\":1.875},\"id\":\"2197\",\"type\":\"Span\"},{\"attributes\":{\"callback\":null,\"renderers\":[{\"id\":\"1282\"}],\"tooltips\":[[\"Numerator\",\"@Numerator\"],[\"Denominator\",\"@Denominator\"],[\"grid_index\",\"@grid_index\"]]},\"id\":\"1298\",\"type\":\"HoverTool\"},{\"attributes\":{\"coordinates\":null,\"dimension\":\"height\",\"group\":null,\"line_width\":0.1,\"location\":0.25},\"id\":\"1221\",\"type\":\"Span\"},{\"attributes\":{\"coordinates\":null,\"dimension\":\"height\",\"group\":null,\"line_width\":0.1,\"location\":2.125},\"id\":\"2198\",\"type\":\"Span\"},{\"attributes\":{\"fill_alpha\":{\"value\":0.1},\"fill_color\":{\"value\":\"#440154\"},\"hatch_alpha\":{\"value\":0.1},\"line_alpha\":{\"value\":0.1},\"line_color\":{\"value\":\"#440154\"},\"size\":{\"value\":10},\"x\":{\"field\":\"x\"},\"y\":{\"field\":\"y\"}},\"id\":\"1098\",\"type\":\"Circle\"},{\"attributes\":{\"coordinates\":null,\"dimension\":\"height\",\"group\":null,\"line_width\":0.1,\"location\":0.375},\"id\":\"1222\",\"type\":\"Span\"},{\"attributes\":{\"coordinates\":null,\"dimension\":\"height\",\"group\":null,\"line_width\":0.1,\"location\":2.25},\"id\":\"2199\",\"type\":\"Span\"},{\"attributes\":{\"source\":{\"id\":\"1095\"}},\"id\":\"1101\",\"type\":\"CDSView\"},{\"attributes\":{\"coordinates\":null,\"dimension\":\"height\",\"group\":null,\"line_width\":0.1,\"location\":2.375},\"id\":\"2200\",\"type\":\"Span\"},{\"attributes\":{\"callback\":null,\"renderers\":[{\"id\":\"2066\"}],\"tooltips\":[[\"tempo\",\"@tempo\"],[\"grid_index\",\"@grid_index\"]]},\"id\":\"2080\",\"type\":\"HoverTool\"},{\"attributes\":{},\"id\":\"1755\",\"type\":\"Selection\"},{\"attributes\":{\"fill_color\":{\"value\":\"#70CE56\"},\"line_color\":{\"value\":\"#70CE56\"},\"size\":{\"value\":10},\"x\":{\"field\":\"x\"},\"y\":{\"field\":\"y\"}},\"id\":\"1762\",\"type\":\"Circle\"},{\"attributes\":{},\"id\":\"1594\",\"type\":\"Selection\"},{\"attributes\":{\"data\":{\"Denominator\":[4],\"Numerator\":[4],\"grid_index\":[0],\"x\":[0.0],\"y\":[4]},\"selected\":{\"id\":\"1778\"},\"selection_policy\":{\"id\":\"1777\"}},\"id\":\"1760\",\"type\":\"ColumnDataSource\"},{\"attributes\":{\"fill_alpha\":{\"value\":0.1},\"fill_color\":{\"value\":\"#70CE56\"},\"hatch_alpha\":{\"value\":0.1},\"line_alpha\":{\"value\":0.1},\"line_color\":{\"value\":\"#70CE56\"},\"size\":{\"value\":10},\"x\":{\"field\":\"x\"},\"y\":{\"field\":\"y\"}},\"id\":\"1763\",\"type\":\"Circle\"},{\"attributes\":{\"source\":{\"id\":\"1760\"}},\"id\":\"1766\",\"type\":\"CDSView\"},{\"attributes\":{\"coordinates\":null,\"dimension\":\"height\",\"group\":null,\"line_width\":0.1,\"location\":3.125},\"id\":\"1238\",\"type\":\"Span\"},{\"attributes\":{\"coordinates\":null,\"dimension\":\"height\",\"group\":null,\"line_width\":0.1,\"location\":2.625},\"id\":\"2201\",\"type\":\"Span\"},{\"attributes\":{\"coordinates\":null,\"dimension\":\"height\",\"group\":null,\"line_width\":0.1,\"location\":0.875},\"id\":\"1225\",\"type\":\"Span\"},{\"attributes\":{\"coordinates\":null,\"dimension\":\"height\",\"group\":null,\"line_width\":0.1,\"location\":2.75},\"id\":\"2202\",\"type\":\"Span\"},{\"attributes\":{\"fill_alpha\":{\"value\":0.2},\"fill_color\":{\"value\":\"#440154\"},\"hatch_alpha\":{\"value\":0.2},\"line_alpha\":{\"value\":0.2},\"line_color\":{\"value\":\"#440154\"},\"size\":{\"value\":10},\"x\":{\"field\":\"x\"},\"y\":{\"field\":\"y\"}},\"id\":\"1099\",\"type\":\"Circle\"},{\"attributes\":{\"coordinates\":null,\"dimension\":\"height\",\"group\":null,\"line_width\":0.1,\"location\":2.875},\"id\":\"1237\",\"type\":\"Span\"},{\"attributes\":{\"coordinates\":null,\"dimension\":\"height\",\"group\":null,\"line_width\":0.1,\"location\":2.875},\"id\":\"2203\",\"type\":\"Span\"},{\"attributes\":{\"fill_alpha\":{\"value\":0.1},\"fill_color\":{\"value\":\"#1EA087\"},\"hatch_alpha\":{\"value\":0.1},\"line_alpha\":{\"value\":0.1},\"line_color\":{\"value\":\"#1EA087\"},\"size\":{\"value\":10},\"x\":{\"field\":\"x\"},\"y\":{\"field\":\"y\"}},\"id\":\"1303\",\"type\":\"Circle\"},{\"attributes\":{\"coordinates\":null,\"data_source\":{\"id\":\"1095\"},\"glyph\":{\"id\":\"1097\"},\"group\":null,\"hover_glyph\":null,\"muted_glyph\":{\"id\":\"1099\"},\"nonselection_glyph\":{\"id\":\"1098\"},\"view\":{\"id\":\"1101\"}},\"id\":\"1100\",\"type\":\"GlyphRenderer\"},{\"attributes\":{\"coordinates\":null,\"dimension\":\"height\",\"group\":null,\"line_width\":0.1,\"location\":3.25},\"id\":\"1239\",\"type\":\"Span\"},{\"attributes\":{\"coordinates\":null,\"dimension\":\"height\",\"group\":null,\"line_width\":0.1,\"location\":3.125},\"id\":\"2204\",\"type\":\"Span\"},{\"attributes\":{\"coordinates\":null,\"dimension\":\"height\",\"group\":null,\"line_width\":0.1,\"location\":1.25},\"id\":\"1227\",\"type\":\"Span\"},{\"attributes\":{\"coordinates\":null,\"dimension\":\"height\",\"group\":null,\"line_width\":0.1,\"location\":3.25},\"id\":\"2205\",\"type\":\"Span\"},{\"attributes\":{\"label\":{\"value\":\"Tempo\"},\"renderers\":[{\"id\":\"1100\"}]},\"id\":\"1113\",\"type\":\"LegendItem\"},{\"attributes\":{\"coordinates\":null,\"dimension\":\"height\",\"group\":null,\"line_width\":0.1,\"location\":3.375},\"id\":\"2206\",\"type\":\"Span\"},{\"attributes\":{\"fill_alpha\":{\"value\":0.2},\"fill_color\":{\"value\":\"#1EA087\"},\"hatch_alpha\":{\"value\":0.2},\"line_alpha\":{\"value\":0.2},\"line_color\":{\"value\":\"#1EA087\"},\"size\":{\"value\":10},\"x\":{\"field\":\"x\"},\"y\":{\"field\":\"y\"}},\"id\":\"1304\",\"type\":\"Circle\"},{\"attributes\":{\"fill_alpha\":{\"value\":0.2},\"fill_color\":{\"value\":\"#70CE56\"},\"hatch_alpha\":{\"value\":0.2},\"line_alpha\":{\"value\":0.2},\"line_color\":{\"value\":\"#70CE56\"},\"size\":{\"value\":10},\"x\":{\"field\":\"x\"},\"y\":{\"field\":\"y\"}},\"id\":\"1764\",\"type\":\"Circle\"},{\"attributes\":{},\"id\":\"1111\",\"type\":\"Selection\"},{\"attributes\":{},\"id\":\"2148\",\"type\":\"WheelZoomTool\"},{\"attributes\":{},\"id\":\"2152\",\"type\":\"HelpTool\"},{\"attributes\":{},\"id\":\"1050\",\"type\":\"Selection\"},{\"attributes\":{\"coordinates\":null,\"dimension\":\"height\",\"group\":null,\"line_width\":0.1,\"location\":1.375},\"id\":\"1228\",\"type\":\"Span\"},{\"attributes\":{\"callback\":null,\"renderers\":[{\"id\":\"1100\"}],\"tooltips\":[[\"tempo\",\"@tempo\"],[\"grid_index\",\"@grid_index\"]]},\"id\":\"1114\",\"type\":\"HoverTool\"},{\"attributes\":{\"source\":{\"id\":\"1300\"}},\"id\":\"1306\",\"type\":\"CDSView\"},{\"attributes\":{\"coordinates\":null,\"data_source\":{\"id\":\"1300\"},\"glyph\":{\"id\":\"1302\"},\"group\":null,\"hover_glyph\":null,\"muted_glyph\":{\"id\":\"1304\"},\"nonselection_glyph\":{\"id\":\"1303\"},\"view\":{\"id\":\"1306\"}},\"id\":\"1305\",\"type\":\"GlyphRenderer\"},{\"attributes\":{\"coordinates\":null,\"dimension\":\"height\",\"group\":null,\"line_width\":0.1,\"location\":1.625},\"id\":\"1229\",\"type\":\"Span\"},{\"attributes\":{\"coordinates\":null,\"dimension\":\"height\",\"group\":null,\"line_width\":0.1,\"location\":3.625},\"id\":\"2207\",\"type\":\"Span\"},{\"attributes\":{\"coordinates\":null,\"dimension\":\"height\",\"group\":null,\"line_width\":0.1,\"location\":1.75},\"id\":\"1230\",\"type\":\"Span\"},{\"attributes\":{\"coordinates\":null,\"dimension\":\"height\",\"group\":null,\"line_width\":0.1,\"location\":3.75},\"id\":\"2208\",\"type\":\"Span\"},{\"attributes\":{},\"id\":\"1110\",\"type\":\"UnionRenderers\"},{\"attributes\":{\"coordinates\":null,\"dimension\":\"height\",\"group\":null,\"line_width\":0.1,\"location\":1.875},\"id\":\"1231\",\"type\":\"Span\"},{\"attributes\":{\"coordinates\":null,\"dimension\":\"height\",\"group\":null,\"line_width\":0.1,\"location\":3.875},\"id\":\"2209\",\"type\":\"Span\"},{\"attributes\":{\"coordinates\":null,\"dimension\":\"height\",\"group\":null,\"line_width\":0.5,\"location\":3.5},\"id\":\"2219\",\"type\":\"Span\"},{\"attributes\":{\"coordinates\":null,\"dimension\":\"height\",\"group\":null,\"line_width\":0.1,\"location\":2.125},\"id\":\"1232\",\"type\":\"Span\"},{\"attributes\":{\"coordinates\":null,\"dimension\":\"height\",\"group\":null,\"line_width\":0.1,\"location\":0.125},\"id\":\"2186\",\"type\":\"Span\"},{\"attributes\":{\"coordinates\":null,\"dimension\":\"height\",\"group\":null,\"line_width\":0.5,\"location\":2.5},\"id\":\"2217\",\"type\":\"Span\"},{\"attributes\":{\"coordinates\":null,\"dimension\":\"height\",\"group\":null,\"line_width\":0.1,\"location\":2.25},\"id\":\"1233\",\"type\":\"Span\"},{\"attributes\":{\"coordinates\":null,\"dimension\":\"height\",\"group\":null,\"line_width\":0.5,\"location\":0.0},\"id\":\"2212\",\"type\":\"Span\"},{\"attributes\":{\"callback\":null,\"renderers\":[{\"id\":\"1305\"}],\"tooltips\":[[\"track_number\",\"@track_number\"],[\"genre\",\"@genre\"],[\"bpm\",\"@bpm\"],[\"meter\",\"@meter\"],[\"grouping\",\"@grouping\"],[\"member\",\"@member\"],[\"source\",\"@source\"],[\"stream_0\",\"@stream_0\"],[\"stream_1\",\"@stream_1\"],[\"stream_2\",\"@stream_2\"],[\"stream_3\",\"@stream_3\"],[\"start_bar\",\"@start_bar\"],[\"collection\",\"@collection\"],[\"sample_id\",\"@sample_id\"]]},\"id\":\"1323\",\"type\":\"HoverTool\"},{\"attributes\":{\"coordinates\":null,\"dimension\":\"height\",\"group\":null,\"line_width\":0.5,\"location\":0.5},\"id\":\"2213\",\"type\":\"Span\"},{\"attributes\":{\"callback\":null,\"renderers\":[{\"id\":\"2166\"}],\"tooltips\":[[\"start\",\"@start\"],[\"end\",\"@end\"],[\"instrument\",\"@instrument\"],[\"voice_index\",\"@voice_index\"],[\"midi\",\"@midi\"],[\"velocity\",\"@velocity\"],[\"offset\",\"@offset\"],[\"offset_sec\",\"@offset_sec\"],[\"grid_line\",\"@grid_line\"]]},\"id\":\"2181\",\"type\":\"HoverTool\"},{\"attributes\":{},\"id\":\"2171\",\"type\":\"BasicTickFormatter\"},{\"attributes\":{\"coordinates\":null,\"data_source\":{\"id\":\"1517\"},\"glyph\":{\"id\":\"1519\"},\"group\":null,\"hover_glyph\":null,\"muted_glyph\":{\"id\":\"1521\"},\"nonselection_glyph\":{\"id\":\"1520\"},\"view\":{\"id\":\"1523\"}},\"id\":\"1522\",\"type\":\"GlyphRenderer\"},{\"attributes\":{\"source\":{\"id\":\"1622\"}},\"id\":\"1628\",\"type\":\"CDSView\"},{\"attributes\":{},\"id\":\"1533\",\"type\":\"Selection\"},{\"attributes\":{\"coordinates\":null,\"dimension\":\"height\",\"group\":null,\"line_width\":2,\"location\":2.0},\"id\":\"2382\",\"type\":\"Span\"},{\"attributes\":{\"bottom\":{\"field\":\"bottom\"},\"fill_alpha\":{\"field\":\"velocity\"},\"fill_color\":{\"value\":\"grey\"},\"left\":{\"field\":\"start\"},\"line_color\":{\"value\":\"grey\"},\"right\":{\"field\":\"end\"},\"top\":{\"field\":\"top\"}},\"id\":\"1197\",\"type\":\"Quad\"},{\"attributes\":{},\"id\":\"2494\",\"type\":\"AllLabels\"},{\"attributes\":{\"coordinates\":null,\"group\":null,\"text_color\":\"#5B5B5B\",\"text_font\":\"Calibri Light\",\"text_font_size\":\"1.25em\",\"text_font_style\":\"bold\"},\"id\":\"1202\",\"type\":\"Title\"},{\"attributes\":{\"source\":{\"id\":\"1783\"}},\"id\":\"1789\",\"type\":\"CDSView\"},{\"attributes\":{\"fill_color\":{\"value\":\"#440154\"},\"line_color\":{\"value\":\"#440154\"},\"size\":{\"value\":10},\"x\":{\"field\":\"x\"},\"y\":{\"field\":\"y\"}},\"id\":\"2385\",\"type\":\"Circle\"},{\"attributes\":{\"coordinates\":null,\"dimension\":\"height\",\"group\":null,\"line_width\":0.1,\"location\":2.25},\"id\":\"1555\",\"type\":\"Span\"},{\"attributes\":{\"fill_alpha\":{\"value\":0.2},\"fill_color\":{\"value\":\"#1EA087\"},\"hatch_alpha\":{\"value\":0.2},\"line_alpha\":{\"value\":0.2},\"line_color\":{\"value\":\"#1EA087\"},\"size\":{\"value\":10},\"x\":{\"field\":\"x\"},\"y\":{\"field\":\"y\"}},\"id\":\"1626\",\"type\":\"Circle\"},{\"attributes\":{\"fill_alpha\":{\"value\":0.1},\"fill_color\":{\"value\":\"#1EA087\"},\"hatch_alpha\":{\"value\":0.1},\"line_alpha\":{\"value\":0.1},\"line_color\":{\"value\":\"#1EA087\"},\"size\":{\"value\":10},\"x\":{\"field\":\"x\"},\"y\":{\"field\":\"y\"}},\"id\":\"1786\",\"type\":\"Circle\"},{\"attributes\":{\"coordinates\":null,\"dimension\":\"height\",\"group\":null,\"line_width\":0.1,\"location\":3.875},\"id\":\"1565\",\"type\":\"Span\"},{\"attributes\":{\"coordinates\":null,\"data_source\":{\"id\":\"2383\"},\"glyph\":{\"id\":\"2385\"},\"group\":null,\"hover_glyph\":null,\"muted_glyph\":{\"id\":\"2387\"},\"nonselection_glyph\":{\"id\":\"2386\"},\"view\":{\"id\":\"2389\"}},\"id\":\"2388\",\"type\":\"GlyphRenderer\"},{\"attributes\":{\"coordinates\":null,\"dimension\":\"height\",\"group\":null,\"line_width\":0.1,\"location\":0.25},\"id\":\"2509\",\"type\":\"Span\"},{\"attributes\":{\"data\":{\"bpm\":[\"120\"],\"collection\":[\"groove_midi\"],\"genre\":[\"dance-disco\"],\"grouping\":[\"velocity\"],\"member\":[\"high\"],\"meter\":[\"4-4\"],\"sample_id\":[\"6_dance-disco_120_beat_4-4\"],\"source\":[\"GrooveMIDI\"],\"start_bar\":[79],\"stream_0\":[\"groove\"],\"stream_1\":[\"low\"],\"stream_2\":[\"mid\"],\"stream_3\":[\"high\"],\"track_number\":[\"6\"],\"x\":[0.0],\"y\":[3.5]},\"selected\":{\"id\":\"1642\"},\"selection_policy\":{\"id\":\"1641\"}},\"id\":\"1622\",\"type\":\"ColumnDataSource\"},{\"attributes\":{\"source\":{\"id\":\"2427\"}},\"id\":\"2433\",\"type\":\"CDSView\"},{\"attributes\":{},\"id\":\"2332\",\"type\":\"BasicTickFormatter\"},{\"attributes\":{\"below\":[{\"id\":\"2461\"}],\"center\":[{\"id\":\"2464\"},{\"id\":\"2468\"},{\"id\":\"2501\"},{\"id\":\"2508\"},{\"id\":\"2509\"},{\"id\":\"2510\"},{\"id\":\"2511\"},{\"id\":\"2512\"},{\"id\":\"2513\"},{\"id\":\"2514\"},{\"id\":\"2515\"},{\"id\":\"2516\"},{\"id\":\"2517\"},{\"id\":\"2518\"},{\"id\":\"2519\"},{\"id\":\"2520\"},{\"id\":\"2521\"},{\"id\":\"2522\"},{\"id\":\"2523\"},{\"id\":\"2524\"},{\"id\":\"2525\"},{\"id\":\"2526\"},{\"id\":\"2527\"},{\"id\":\"2528\"},{\"id\":\"2529\"},{\"id\":\"2530\"},{\"id\":\"2531\"},{\"id\":\"2534\"},{\"id\":\"2535\"},{\"id\":\"2536\"},{\"id\":\"2537\"},{\"id\":\"2538\"},{\"id\":\"2539\"},{\"id\":\"2540\"},{\"id\":\"2541\"},{\"id\":\"2542\"},{\"id\":\"2543\"}],\"height\":400,\"left\":[{\"id\":\"2465\"}],\"renderers\":[{\"id\":\"2488\"},{\"id\":\"2549\"},{\"id\":\"2570\"},{\"id\":\"2593\"}],\"right\":[{\"id\":\"2501\"}],\"title\":{\"id\":\"2490\"},\"toolbar\":{\"id\":\"2476\"},\"width\":800,\"x_range\":{\"id\":\"2453\"},\"x_scale\":{\"id\":\"2457\"},\"y_range\":{\"id\":\"2455\"},\"y_scale\":{\"id\":\"2459\"}},\"id\":\"2452\",\"subtype\":\"Figure\",\"type\":\"Plot\"},{\"attributes\":{\"coordinates\":null,\"group\":null,\"text_color\":\"#5B5B5B\",\"text_font\":\"Calibri Light\",\"text_font_size\":\"1.25em\",\"text_font_style\":\"bold\"},\"id\":\"2490\",\"type\":\"Title\"},{\"attributes\":{\"label\":{\"value\":\"Tempo\"},\"renderers\":[{\"id\":\"2388\"}]},\"id\":\"2401\",\"type\":\"LegendItem\"},{\"attributes\":{},\"id\":\"1210\",\"type\":\"UnionRenderers\"},{\"attributes\":{\"bottom_units\":\"screen\",\"coordinates\":null,\"fill_alpha\":0.5,\"fill_color\":\"lightgrey\",\"group\":null,\"left_units\":\"screen\",\"level\":\"overlay\",\"line_alpha\":1.0,\"line_color\":\"black\",\"line_dash\":[4,4],\"line_width\":2,\"right_units\":\"screen\",\"syncable\":false,\"top_units\":\"screen\"},\"id\":\"2314\",\"type\":\"BoxAnnotation\"},{\"attributes\":{\"ticks\":[0.0,0.5,1.0,1.5,2.0,2.5,3.0,3.5]},\"id\":\"2371\",\"type\":\"FixedTicker\"},{\"attributes\":{\"coordinates\":null,\"dimension\":\"height\",\"group\":null,\"line_width\":0.1,\"location\":1.625},\"id\":\"2356\",\"type\":\"Span\"},{\"attributes\":{\"coordinates\":null,\"dimension\":\"height\",\"group\":null,\"line_width\":0.1,\"location\":0.375},\"id\":\"2349\",\"type\":\"Span\"},{\"attributes\":{\"coordinates\":null,\"dimension\":\"height\",\"group\":null,\"line_width\":0.1,\"location\":0.875},\"id\":\"2352\",\"type\":\"Span\"},{\"attributes\":{\"coordinates\":null,\"dimension\":\"height\",\"group\":null,\"line_width\":0.1,\"location\":1.375},\"id\":\"2355\",\"type\":\"Span\"},{\"attributes\":{\"source\":{\"id\":\"2383\"}},\"id\":\"2389\",\"type\":\"CDSView\"},{\"attributes\":{\"coordinates\":null,\"dimension\":\"height\",\"group\":null,\"line_width\":0.5,\"location\":0.0},\"id\":\"1568\",\"type\":\"Span\"},{\"attributes\":{\"fill_color\":{\"value\":\"#1EA087\"},\"line_color\":{\"value\":\"#1EA087\"},\"size\":{\"value\":10},\"x\":{\"field\":\"x\"},\"y\":{\"field\":\"y\"}},\"id\":\"1624\",\"type\":\"Circle\"},{\"attributes\":{\"fill_alpha\":{\"value\":0.2},\"fill_color\":{\"value\":\"#440154\"},\"hatch_alpha\":{\"value\":0.2},\"line_alpha\":{\"value\":0.2},\"line_color\":{\"value\":\"#440154\"},\"size\":{\"value\":10},\"x\":{\"field\":\"x\"},\"y\":{\"field\":\"y\"}},\"id\":\"2387\",\"type\":\"Circle\"},{\"attributes\":{\"coordinates\":null,\"data_source\":{\"id\":\"1783\"},\"glyph\":{\"id\":\"1785\"},\"group\":null,\"hover_glyph\":null,\"muted_glyph\":{\"id\":\"1787\"},\"nonselection_glyph\":{\"id\":\"1786\"},\"view\":{\"id\":\"1789\"}},\"id\":\"1788\",\"type\":\"GlyphRenderer\"},{\"attributes\":{\"callback\":null,\"renderers\":[{\"id\":\"2388\"}],\"tooltips\":[[\"tempo\",\"@tempo\"],[\"grid_index\",\"@grid_index\"]]},\"id\":\"2402\",\"type\":\"HoverTool\"},{\"attributes\":{},\"id\":\"1209\",\"type\":\"AllLabels\"},{\"attributes\":{},\"id\":\"1802\",\"type\":\"UnionRenderers\"},{\"attributes\":{\"fill_alpha\":{\"value\":0.1},\"fill_color\":{\"value\":\"#1EA087\"},\"hatch_alpha\":{\"value\":0.1},\"line_alpha\":{\"value\":0.1},\"line_color\":{\"value\":\"#1EA087\"},\"size\":{\"value\":10},\"x\":{\"field\":\"x\"},\"y\":{\"field\":\"y\"}},\"id\":\"1625\",\"type\":\"Circle\"},{\"attributes\":{},\"id\":\"1531\",\"type\":\"AllLabels\"},{\"attributes\":{\"label\":{\"value\":\"Metadata\"},\"renderers\":[{\"id\":\"1788\"}]},\"id\":\"1805\",\"type\":\"LegendItem\"},{\"attributes\":{\"callback\":null,\"renderers\":[{\"id\":\"1788\"}],\"tooltips\":[[\"track_number\",\"@track_number\"],[\"genre\",\"@genre\"],[\"bpm\",\"@bpm\"],[\"meter\",\"@meter\"],[\"grouping\",\"@grouping\"],[\"member\",\"@member\"],[\"source\",\"@source\"],[\"stream_0\",\"@stream_0\"],[\"stream_1\",\"@stream_1\"],[\"stream_2\",\"@stream_2\"],[\"stream_3\",\"@stream_3\"],[\"start_bar\",\"@start_bar\"],[\"collection\",\"@collection\"],[\"sample_id\",\"@sample_id\"]]},\"id\":\"1806\",\"type\":\"HoverTool\"},{\"attributes\":{\"bottom\":{\"field\":\"bottom\"},\"fill_alpha\":{\"field\":\"velocity\"},\"fill_color\":{\"value\":\"grey\"},\"left\":{\"field\":\"start\"},\"line_color\":{\"value\":\"grey\"},\"right\":{\"field\":\"end\"},\"top\":{\"field\":\"top\"}},\"id\":\"1519\",\"type\":\"Quad\"},{\"attributes\":{\"bottom\":{\"field\":\"bottom\"},\"fill_alpha\":{\"field\":\"velocity\"},\"fill_color\":{\"value\":\"grey\"},\"left\":{\"field\":\"start\"},\"line_color\":{\"value\":\"grey\"},\"right\":{\"field\":\"end\"},\"top\":{\"field\":\"top\"}},\"id\":\"1680\",\"type\":\"Quad\"},{\"attributes\":{\"fill_color\":{\"value\":\"#70CE56\"},\"line_color\":{\"value\":\"#70CE56\"},\"size\":{\"value\":10},\"x\":{\"field\":\"x\"},\"y\":{\"field\":\"y\"}},\"id\":\"2406\",\"type\":\"Circle\"},{\"attributes\":{},\"id\":\"1593\",\"type\":\"UnionRenderers\"},{\"attributes\":{},\"id\":\"1803\",\"type\":\"Selection\"},{\"attributes\":{},\"id\":\"2238\",\"type\":\"Selection\"},{\"attributes\":{\"end\":4.2625,\"start\":-0.3875},\"id\":\"1487\",\"type\":\"DataRange1d\"},{\"attributes\":{\"coordinates\":null,\"dimension\":\"height\",\"group\":null,\"line_width\":0.1,\"location\":0.25},\"id\":\"2348\",\"type\":\"Span\"},{\"attributes\":{\"coordinates\":null,\"dimension\":\"height\",\"group\":null,\"line_width\":0.1,\"location\":1.75},\"id\":\"2357\",\"type\":\"Span\"},{\"attributes\":{},\"id\":\"1371\",\"type\":\"UnionRenderers\"},{\"attributes\":{\"coordinates\":null,\"dimension\":\"height\",\"group\":null,\"line_width\":0.1,\"location\":2.875},\"id\":\"2364\",\"type\":\"Span\"},{\"attributes\":{\"coordinates\":null,\"dimension\":\"height\",\"group\":null,\"line_width\":0.1,\"location\":2.125},\"id\":\"2359\",\"type\":\"Span\"},{\"attributes\":{\"coordinates\":null,\"dimension\":\"height\",\"group\":null,\"line_width\":0.1,\"location\":2.625},\"id\":\"2362\",\"type\":\"Span\"},{\"attributes\":{\"coordinates\":null,\"group\":null,\"text_color\":\"#5B5B5B\",\"text_font\":\"Calibri Light\",\"text_font_size\":\"1.25em\",\"text_font_style\":\"bold\"},\"id\":\"1524\",\"type\":\"Title\"},{\"attributes\":{\"coordinates\":null,\"dimension\":\"height\",\"group\":null,\"line_width\":0.1,\"location\":2.75},\"id\":\"2363\",\"type\":\"Span\"},{\"attributes\":{\"coordinates\":null,\"dimension\":\"height\",\"group\":null,\"line_width\":0.1,\"location\":2.25},\"id\":\"2360\",\"type\":\"Span\"},{\"attributes\":{\"bottom\":{\"field\":\"bottom\"},\"fill_alpha\":{\"value\":0.1},\"fill_color\":{\"value\":\"grey\"},\"hatch_alpha\":{\"value\":0.1},\"left\":{\"field\":\"start\"},\"line_alpha\":{\"value\":0.1},\"line_color\":{\"value\":\"grey\"},\"right\":{\"field\":\"end\"},\"top\":{\"field\":\"top\"}},\"id\":\"1198\",\"type\":\"Quad\"},{\"attributes\":{\"coordinates\":null,\"dimension\":\"height\",\"group\":null,\"line_width\":0.1,\"location\":2.375},\"id\":\"2361\",\"type\":\"Span\"},{\"attributes\":{\"coordinates\":null,\"data_source\":{\"id\":\"1622\"},\"glyph\":{\"id\":\"1624\"},\"group\":null,\"hover_glyph\":null,\"muted_glyph\":{\"id\":\"1626\"},\"nonselection_glyph\":{\"id\":\"1625\"},\"view\":{\"id\":\"1628\"}},\"id\":\"1627\",\"type\":\"GlyphRenderer\"},{\"attributes\":{\"background_fill_alpha\":0.25,\"border_line_alpha\":0,\"click_policy\":\"hide\",\"coordinates\":null,\"glyph_width\":15,\"group\":null,\"items\":[{\"id\":\"2341\"},{\"id\":\"2401\"},{\"id\":\"2424\"},{\"id\":\"2449\"}],\"label_standoff\":8,\"label_text_color\":\"#5B5B5B\",\"label_text_font\":\"Calibri Light\",\"label_text_font_size\":\"0.95em\",\"label_text_font_style\":\"bold\",\"spacing\":8},\"id\":\"2340\",\"type\":\"Legend\"},{\"attributes\":{\"data\":{\"grid_index\":[0],\"tempo\":[120.0],\"x\":[0.0],\"y\":[4.5]},\"selected\":{\"id\":\"2399\"},\"selection_policy\":{\"id\":\"2398\"}},\"id\":\"2383\",\"type\":\"ColumnDataSource\"},{\"attributes\":{\"data\":{\"Denominator\":[4],\"Numerator\":[4],\"grid_index\":[0],\"x\":[0.0],\"y\":[4]},\"selected\":{\"id\":\"2422\"},\"selection_policy\":{\"id\":\"2421\"}},\"id\":\"2404\",\"type\":\"ColumnDataSource\"},{\"attributes\":{\"fill_alpha\":{\"value\":0.1},\"fill_color\":{\"value\":\"#70CE56\"},\"hatch_alpha\":{\"value\":0.1},\"line_alpha\":{\"value\":0.1},\"line_color\":{\"value\":\"#70CE56\"},\"size\":{\"value\":10},\"x\":{\"field\":\"x\"},\"y\":{\"field\":\"y\"}},\"id\":\"2407\",\"type\":\"Circle\"},{\"attributes\":{},\"id\":\"1641\",\"type\":\"UnionRenderers\"},{\"attributes\":{\"label\":{\"value\":\"Metadata\"},\"renderers\":[{\"id\":\"1627\"}]},\"id\":\"1644\",\"type\":\"LegendItem\"},{\"attributes\":{\"source\":{\"id\":\"2404\"}},\"id\":\"2410\",\"type\":\"CDSView\"},{\"attributes\":{\"label\":{\"value\":\"Piano Roll\"},\"renderers\":[{\"id\":\"2327\"}]},\"id\":\"2341\",\"type\":\"LegendItem\"},{\"attributes\":{\"callback\":null,\"renderers\":[{\"id\":\"1627\"}],\"tooltips\":[[\"track_number\",\"@track_number\"],[\"genre\",\"@genre\"],[\"bpm\",\"@bpm\"],[\"meter\",\"@meter\"],[\"grouping\",\"@grouping\"],[\"member\",\"@member\"],[\"source\",\"@source\"],[\"stream_0\",\"@stream_0\"],[\"stream_1\",\"@stream_1\"],[\"stream_2\",\"@stream_2\"],[\"stream_3\",\"@stream_3\"],[\"start_bar\",\"@start_bar\"],[\"collection\",\"@collection\"],[\"sample_id\",\"@sample_id\"]]},\"id\":\"1645\",\"type\":\"HoverTool\"},{\"attributes\":{},\"id\":\"2493\",\"type\":\"BasicTickFormatter\"},{\"attributes\":{},\"id\":\"1778\",\"type\":\"Selection\"},{\"attributes\":{\"tools\":[{\"id\":\"1503\"},{\"id\":\"1504\"},{\"id\":\"1505\"},{\"id\":\"1506\"},{\"id\":\"1507\"},{\"id\":\"1508\"},{\"id\":\"1537\"},{\"id\":\"1597\"},{\"id\":\"1620\"},{\"id\":\"1645\"}]},\"id\":\"1510\",\"type\":\"Toolbar\"},{\"attributes\":{\"coordinates\":null,\"data_source\":{\"id\":\"2427\"},\"glyph\":{\"id\":\"2429\"},\"group\":null,\"hover_glyph\":null,\"muted_glyph\":{\"id\":\"2431\"},\"nonselection_glyph\":{\"id\":\"2430\"},\"view\":{\"id\":\"2433\"}},\"id\":\"2432\",\"type\":\"GlyphRenderer\"},{\"attributes\":{\"source\":{\"id\":\"2588\"}},\"id\":\"2594\",\"type\":\"CDSView\"},{\"attributes\":{\"fill_alpha\":{\"value\":0.2},\"fill_color\":{\"value\":\"#70CE56\"},\"hatch_alpha\":{\"value\":0.2},\"line_alpha\":{\"value\":0.2},\"line_color\":{\"value\":\"#70CE56\"},\"size\":{\"value\":10},\"x\":{\"field\":\"x\"},\"y\":{\"field\":\"y\"}},\"id\":\"2408\",\"type\":\"Circle\"},{\"attributes\":{},\"id\":\"1642\",\"type\":\"Selection\"},{\"attributes\":{},\"id\":\"1493\",\"type\":\"LinearScale\"},{\"attributes\":{\"coordinates\":null,\"dimension\":\"height\",\"group\":null,\"line_width\":0.1,\"location\":1.875},\"id\":\"2358\",\"type\":\"Span\"},{\"attributes\":{},\"id\":\"1211\",\"type\":\"Selection\"},{\"attributes\":{\"coordinates\":null,\"data_source\":{\"id\":\"1195\"},\"glyph\":{\"id\":\"1197\"},\"group\":null,\"hover_glyph\":null,\"muted_glyph\":{\"id\":\"1199\"},\"nonselection_glyph\":{\"id\":\"1198\"},\"view\":{\"id\":\"1201\"}},\"id\":\"1200\",\"type\":\"GlyphRenderer\"},{\"attributes\":{},\"id\":\"1491\",\"type\":\"LinearScale\"},{\"attributes\":{\"coordinates\":null,\"dimension\":\"height\",\"group\":null,\"line_width\":0.1,\"location\":3.125},\"id\":\"2365\",\"type\":\"Span\"},{\"attributes\":{\"coordinates\":null,\"dimension\":\"height\",\"group\":null,\"line_width\":0.5,\"location\":0.0},\"id\":\"2373\",\"type\":\"Span\"},{\"attributes\":{},\"id\":\"2422\",\"type\":\"Selection\"},{\"attributes\":{\"coordinates\":null,\"dimension\":\"height\",\"group\":null,\"line_width\":0.1,\"location\":3.25},\"id\":\"1561\",\"type\":\"Span\"},{\"attributes\":{\"coordinates\":null,\"dimension\":\"height\",\"group\":null,\"line_width\":0.1,\"location\":3.375},\"id\":\"2367\",\"type\":\"Span\"},{\"attributes\":{\"end\":5.75,\"start\":-0.5},\"id\":\"1489\",\"type\":\"Range1d\"},{\"attributes\":{\"coordinates\":null,\"dimension\":\"height\",\"group\":null,\"line_width\":0.1,\"location\":3.875},\"id\":\"2370\",\"type\":\"Span\"},{\"attributes\":{\"coordinates\":null,\"dimension\":\"height\",\"group\":null,\"line_width\":0.1,\"location\":3.625},\"id\":\"2368\",\"type\":\"Span\"},{\"attributes\":{\"coordinates\":null,\"dimension\":\"height\",\"group\":null,\"line_width\":0.1,\"location\":2.125},\"id\":\"1554\",\"type\":\"Span\"},{\"attributes\":{\"coordinates\":null,\"dimension\":\"height\",\"group\":null,\"line_width\":0.1,\"location\":3.375},\"id\":\"1562\",\"type\":\"Span\"},{\"attributes\":{\"coordinates\":null,\"dimension\":\"height\",\"group\":null,\"line_width\":0.1,\"location\":3.75},\"id\":\"2369\",\"type\":\"Span\"},{\"attributes\":{},\"id\":\"1208\",\"type\":\"BasicTickFormatter\"},{\"attributes\":{\"label\":{\"value\":\"Piano Roll\"},\"renderers\":[{\"id\":\"1522\"}]},\"id\":\"1536\",\"type\":\"LegendItem\"},{\"attributes\":{},\"id\":\"1530\",\"type\":\"BasicTickFormatter\"},{\"attributes\":{\"data\":{\"bpm\":[\"120\"],\"collection\":[\"groove_midi\"],\"genre\":[\"dance-disco\"],\"grouping\":[\"velocity\"],\"member\":[\"high\"],\"meter\":[\"4-4\"],\"sample_id\":[\"6_dance-disco_120_beat_4-4\"],\"source\":[\"GrooveMIDI\"],\"start_bar\":[84],\"stream_0\":[\"groove\"],\"stream_1\":[\"low\"],\"stream_2\":[\"mid\"],\"stream_3\":[\"high\"],\"track_number\":[\"6\"],\"x\":[0.0],\"y\":[3.5]},\"selected\":{\"id\":\"2447\"},\"selection_policy\":{\"id\":\"2446\"}},\"id\":\"2427\",\"type\":\"ColumnDataSource\"},{\"attributes\":{\"fill_color\":{\"value\":\"#1EA087\"},\"line_color\":{\"value\":\"#1EA087\"},\"size\":{\"value\":10},\"x\":{\"field\":\"x\"},\"y\":{\"field\":\"y\"}},\"id\":\"2429\",\"type\":\"Circle\"},{\"attributes\":{\"fill_color\":{\"value\":\"#440154\"},\"line_color\":{\"value\":\"#440154\"},\"size\":{\"value\":10},\"x\":{\"field\":\"x\"},\"y\":{\"field\":\"y\"}},\"id\":\"1580\",\"type\":\"Circle\"},{\"attributes\":{\"coordinates\":null,\"data_source\":{\"id\":\"2404\"},\"glyph\":{\"id\":\"2406\"},\"group\":null,\"hover_glyph\":null,\"muted_glyph\":{\"id\":\"2408\"},\"nonselection_glyph\":{\"id\":\"2407\"},\"view\":{\"id\":\"2410\"}},\"id\":\"2409\",\"type\":\"GlyphRenderer\"},{\"attributes\":{\"label\":{\"value\":\"Time Signature\"},\"renderers\":[{\"id\":\"2409\"}]},\"id\":\"2424\",\"type\":\"LegendItem\"},{\"attributes\":{\"data\":{\"bottom\":{\"__ndarray__\":\"mpmZmZmZyb9mZmZmZmYGQJqZmZmZmcm/zczMzMzM/D+amZmZmZnJv2ZmZmZmZgZAmpmZmZmZyb/NzMzMzMz8P5qZmZmZmcm/mpmZmZmZ6T9mZmZmZmYGQJqZmZmZmcm/zczMzMzM/D+amZmZmZnJv2ZmZmZmZgZAmpmZmZmZyb9mZmZmZmYGQJqZmZmZmcm/mpmZmZmZ6T9mZmZmZmYGQJqZmZmZmcm/mpmZmZmZ6T+amZmZmZnJv2ZmZmZmZgZAmpmZmZmZyb/NzMzMzMz8P2ZmZmZmZgZAmpmZmZmZyb+amZmZmZnpP2ZmZmZmZgZAmpmZmZmZyb/NzMzMzMz8P5qZmZmZmcm/ZmZmZmZmBkCamZmZmZnJv2ZmZmZmZgZAmpmZmZmZyb+amZmZmZnpP83MzMzMzPw/ZmZmZmZmBkCamZmZmZnJv83MzMzMzPw/mpmZmZmZyb9mZmZmZmYGQJqZmZmZmcm/zczMzMzM/D+amZmZmZnJv5qZmZmZmek/ZmZmZmZmBkCamZmZmZnJv83MzMzMzPw/mpmZmZmZyb9mZmZmZmYGQJqZmZmZmcm/zczMzMzM/D9mZmZmZmYGQJqZmZmZmcm/mpmZmZmZ6T9mZmZmZmYGQJqZmZmZmcm/zczMzMzM/D+amZmZmZnJv2ZmZmZmZgZAmpmZmZmZyb/NzMzMzMz8P5qZmZmZmcm/mpmZmZmZ6T9mZmZmZmYGQJqZmZmZmcm/zczMzMzM/D+amZmZmZnJv2ZmZmZmZgZAmpmZmZmZyb9mZmZmZmYGQA==\",\"dtype\":\"float64\",\"order\":\"little\",\"shape\":[74]},\"end\":[0.017,0.017,0.155625,0.155625,0.278375,0.278375,0.41475,0.41475,0.51475,0.51475,0.546625,0.676125,0.676125,0.796625,0.796625,0.908,0.908,1.0238749999999999,1.0238749999999999,1.06025,1.171625,1.171625,1.294375,1.294375,1.421625,1.421625,1.43975,1.555625,1.558,1.555625,1.692,1.692,1.808,1.808,1.923875,1.923875,2.008,2.008,2.0625,2.06025,2.171625,2.171625,2.28975,2.28975,2.426125,2.426125,2.526125,2.526125,2.544375,2.667,2.667,2.796625,2.796625,2.921625,2.951125,2.921625,3.053375,3.053375,3.0875,3.176125,3.176125,3.28975,3.28975,3.419375,3.419375,3.53975,3.53975,3.553375,3.676125,3.676125,3.796625,3.796625,3.917,3.917],\"grid_line\":[0,0,1,1,2,2,3,3,4,4,4,5,5,6,6,7,7,8,8,8,9,9,10,10,11,11,11,12,12,12,13,13,14,14,15,15,16,16,16,16,17,17,18,18,19,19,20,20,20,21,21,22,22,23,23,23,24,24,24,25,25,26,26,27,27,28,28,28,29,29,30,30,31,31],\"instrument\":[\"stream_0\",\"stream_3\",\"stream_0\",\"stream_2\",\"stream_0\",\"stream_3\",\"stream_0\",\"stream_2\",\"stream_0\",\"stream_1\",\"stream_3\",\"stream_0\",\"stream_2\",\"stream_0\",\"stream_3\",\"stream_0\",\"stream_3\",\"stream_0\",\"stream_1\",\"stream_3\",\"stream_0\",\"stream_1\",\"stream_0\",\"stream_3\",\"stream_0\",\"stream_2\",\"stream_3\",\"stream_0\",\"stream_1\",\"stream_3\",\"stream_0\",\"stream_2\",\"stream_0\",\"stream_3\",\"stream_0\",\"stream_3\",\"stream_0\",\"stream_1\",\"stream_2\",\"stream_3\",\"stream_0\",\"stream_2\",\"stream_0\",\"stream_3\",\"stream_0\",\"stream_2\",\"stream_0\",\"stream_1\",\"stream_3\",\"stream_0\",\"stream_2\",\"stream_0\",\"stream_3\",\"stream_0\",\"stream_2\",\"stream_3\",\"stream_0\",\"stream_1\",\"stream_3\",\"stream_0\",\"stream_2\",\"stream_0\",\"stream_3\",\"stream_0\",\"stream_2\",\"stream_0\",\"stream_1\",\"stream_3\",\"stream_0\",\"stream_2\",\"stream_0\",\"stream_3\",\"stream_0\",\"stream_3\"],\"midi\":[36,46,36,42,36,46,36,42,36,38,46,36,42,36,46,36,46,36,38,46,36,38,36,46,36,42,46,36,38,46,36,42,36,46,36,46,36,38,42,46,36,42,36,46,36,42,36,38,46,36,42,36,46,36,42,46,36,38,46,36,42,36,46,36,42,36,38,46,36,42,36,46,36,46],\"offset\":[-0.364,-0.364,-0.255,-0.255,-0.273,-0.273,-0.182,-0.182,-0.382,-0.382,-0.127,-0.091,-0.091,-0.127,-0.127,-0.236,-0.236,-0.309,-0.309,-0.018,-0.127,-0.127,-0.145,-0.145,-0.127,-0.127,0.018,-0.055,-0.036,-0.055,0.036,0.036,-0.036,-0.036,-0.109,-0.109,-0.436,-0.436,0.0,-0.018,-0.127,-0.127,-0.182,-0.182,-0.091,-0.091,-0.291,-0.291,-0.145,-0.164,-0.164,-0.127,-0.127,-0.127,0.109,-0.127,-0.073,-0.073,0.2,-0.091,-0.091,-0.182,-0.182,-0.145,-0.145,-0.182,-0.182,-0.073,-0.091,-0.091,-0.127,-0.127,-0.164,-0.164],\"offset_sec\":[-0.046,-0.046,-0.032,-0.032,-0.034,-0.034,-0.023,-0.023,-0.048,-0.048,-0.016,-0.011,-0.011,-0.016,-0.016,-0.03,-0.03,-0.039,-0.039,-0.002,-0.016,-0.016,-0.018,-0.018,-0.016,-0.016,0.002,-0.007,-0.004,-0.007,0.004,0.004,-0.004,-0.004,-0.014,-0.014,-0.054,-0.054,0.0,-0.002,-0.016,-0.016,-0.023,-0.023,-0.011,-0.011,-0.036,-0.036,-0.018,-0.02,-0.02,-0.016,-0.016,-0.016,0.014,-0.016,-0.009,-0.009,0.025,-0.011,-0.011,-0.023,-0.023,-0.018,-0.018,-0.023,-0.023,-0.009,-0.011,-0.011,-0.016,-0.016,-0.02,-0.02],\"start\":[-0.0455,-0.0455,0.093125,0.093125,0.21587499999999998,0.21587499999999998,0.35225,0.35225,0.45225,0.45225,0.484125,0.613625,0.613625,0.734125,0.734125,0.8455,0.8455,0.961375,0.961375,0.99775,1.109125,1.109125,1.231875,1.231875,1.359125,1.359125,1.37725,1.493125,1.4955,1.493125,1.6295,1.6295,1.7455,1.7455,1.861375,1.861375,1.9455,1.9455,2.0,1.99775,2.109125,2.109125,2.22725,2.22725,2.363625,2.363625,2.463625,2.463625,2.481875,2.6045,2.6045,2.734125,2.734125,2.859125,2.888625,2.859125,2.990875,2.990875,3.025,3.113625,3.113625,3.22725,3.22725,3.356875,3.356875,3.47725,3.47725,3.490875,3.613625,3.613625,3.734125,3.734125,3.8545,3.8545],\"top\":{\"__ndarray__\":\"mpmZmZmZyT+amZmZmZkJQJqZmZmZmck/mpmZmZmZAUCamZmZmZnJP5qZmZmZmQlAmpmZmZmZyT+amZmZmZkBQJqZmZmZmck/MzMzMzMz8z+amZmZmZkJQJqZmZmZmck/mpmZmZmZAUCamZmZmZnJP5qZmZmZmQlAmpmZmZmZyT+amZmZmZkJQJqZmZmZmck/MzMzMzMz8z+amZmZmZkJQJqZmZmZmck/MzMzMzMz8z+amZmZmZnJP5qZmZmZmQlAmpmZmZmZyT+amZmZmZkBQJqZmZmZmQlAmpmZmZmZyT8zMzMzMzPzP5qZmZmZmQlAmpmZmZmZyT+amZmZmZkBQJqZmZmZmck/mpmZmZmZCUCamZmZmZnJP5qZmZmZmQlAmpmZmZmZyT8zMzMzMzPzP5qZmZmZmQFAmpmZmZmZCUCamZmZmZnJP5qZmZmZmQFAmpmZmZmZyT+amZmZmZkJQJqZmZmZmck/mpmZmZmZAUCamZmZmZnJPzMzMzMzM/M/mpmZmZmZCUCamZmZmZnJP5qZmZmZmQFAmpmZmZmZyT+amZmZmZkJQJqZmZmZmck/mpmZmZmZAUCamZmZmZkJQJqZmZmZmck/MzMzMzMz8z+amZmZmZkJQJqZmZmZmck/mpmZmZmZAUCamZmZmZnJP5qZmZmZmQlAmpmZmZmZyT+amZmZmZkBQJqZmZmZmck/MzMzMzMz8z+amZmZmZkJQJqZmZmZmck/mpmZmZmZAUCamZmZmZnJP5qZmZmZmQlAmpmZmZmZyT+amZmZmZkJQA==\",\"dtype\":\"float64\",\"order\":\"little\",\"shape\":[74]},\"velocity\":[1.0,1.0,0.37,0.37,0.748,0.748,0.457,0.457,0.213,0.213,0.984,0.402,0.402,0.63,0.63,0.866,0.866,0.236,0.236,1.0,0.315,0.315,0.945,0.945,0.409,0.409,0.559,0.906,0.197,0.906,0.417,0.417,0.906,0.906,0.874,0.874,0.252,0.252,0.409,1.0,0.417,0.417,0.976,0.976,0.409,0.409,0.173,0.173,0.898,0.362,0.362,0.803,0.803,0.795,0.504,0.795,0.291,0.291,0.772,0.488,0.488,1.0,1.0,0.528,0.528,0.173,0.173,1.0,0.496,0.496,0.772,0.772,0.866,0.866],\"voice_index\":[0,3,0,2,0,3,0,2,0,1,3,0,2,0,3,0,3,0,1,3,0,1,0,3,0,2,3,0,1,3,0,2,0,3,0,3,0,1,2,3,0,2,0,3,0,2,0,1,3,0,2,0,3,0,2,3,0,1,3,0,2,0,3,0,2,0,1,3,0,2,0,3,0,3]},\"selected\":{\"id\":\"2499\"},\"selection_policy\":{\"id\":\"2498\"}},\"id\":\"2483\",\"type\":\"ColumnDataSource\"},{\"attributes\":{\"coordinates\":null,\"dimension\":\"height\",\"group\":null,\"line_width\":0.1,\"location\":3.625},\"id\":\"1563\",\"type\":\"Span\"},{\"attributes\":{\"bottom\":{\"field\":\"bottom\"},\"fill_alpha\":{\"value\":0.1},\"fill_color\":{\"value\":\"grey\"},\"hatch_alpha\":{\"value\":0.1},\"left\":{\"field\":\"start\"},\"line_alpha\":{\"value\":0.1},\"line_color\":{\"value\":\"grey\"},\"right\":{\"field\":\"end\"},\"top\":{\"field\":\"top\"}},\"id\":\"1520\",\"type\":\"Quad\"},{\"attributes\":{\"data\":{\"grid_index\":[0],\"tempo\":[120.0],\"x\":[0.0],\"y\":[4.5]},\"selected\":{\"id\":\"2560\"},\"selection_policy\":{\"id\":\"2559\"}},\"id\":\"2544\",\"type\":\"ColumnDataSource\"},{\"attributes\":{\"coordinates\":null,\"dimension\":\"height\",\"group\":null,\"line_width\":0.1,\"location\":3.125},\"id\":\"1560\",\"type\":\"Span\"},{\"attributes\":{\"coordinates\":null,\"dimension\":\"height\",\"group\":null,\"line_width\":0.1,\"location\":1.125},\"id\":\"2353\",\"type\":\"Span\"},{\"attributes\":{},\"id\":\"1206\",\"type\":\"AllLabels\"},{\"attributes\":{\"axis_label\":\"Instrument\",\"axis_label_standoff\":10,\"axis_label_text_color\":\"#5B5B5B\",\"axis_label_text_font\":\"Calibri Light\",\"axis_label_text_font_size\":\"1.15em\",\"axis_label_text_font_style\":\"bold\",\"axis_line_alpha\":1,\"axis_line_color\":\"#5B5B5B\",\"coordinates\":null,\"formatter\":{\"id\":\"1527\"},\"group\":null,\"major_label_overrides\":{\"0\":\"stream_0\",\"1\":\"stream_1\",\"2\":\"stream_2\",\"3\":\"stream_3\"},\"major_label_policy\":{\"id\":\"1528\"},\"major_label_text_color\":\"#5B5B5B\",\"major_label_text_font\":\"Calibri Light\",\"major_label_text_font_size\":\"0.95em\",\"major_label_text_font_style\":\"bold\",\"major_tick_in\":0,\"major_tick_line_alpha\":0.25,\"major_tick_line_color\":\"#5B5B5B\",\"major_tick_out\":3,\"minor_tick_line_alpha\":0.25,\"minor_tick_line_color\":\"#5B5B5B\",\"ticker\":{\"id\":\"1540\"}},\"id\":\"1499\",\"type\":\"LinearAxis\"},{\"attributes\":{\"data\":{\"grid_index\":[0],\"tempo\":[120.0],\"x\":[0.0],\"y\":[4.5]},\"selected\":{\"id\":\"1594\"},\"selection_policy\":{\"id\":\"1593\"}},\"id\":\"1578\",\"type\":\"ColumnDataSource\"},{\"attributes\":{\"ticks\":[0.0,0.5,1.0,1.5,2.0,2.5,3.0,3.5]},\"id\":\"1566\",\"type\":\"FixedTicker\"},{\"attributes\":{\"axis\":{\"id\":\"1499\"},\"coordinates\":null,\"dimension\":1,\"grid_line_color\":null,\"group\":null,\"ticker\":null},\"id\":\"1502\",\"type\":\"Grid\"},{\"attributes\":{\"coordinates\":null,\"dimension\":\"height\",\"group\":null,\"line_width\":0.1,\"location\":3.25},\"id\":\"2366\",\"type\":\"Span\"},{\"attributes\":{\"source\":{\"id\":\"1195\"}},\"id\":\"1201\",\"type\":\"CDSView\"},{\"attributes\":{\"coordinates\":null,\"dimension\":\"height\",\"group\":null,\"line_width\":0.5,\"location\":0.5},\"id\":\"2374\",\"type\":\"Span\"},{\"attributes\":{},\"id\":\"1508\",\"type\":\"HelpTool\"},{\"attributes\":{\"callback\":null,\"renderers\":[{\"id\":\"2409\"}],\"tooltips\":[[\"Numerator\",\"@Numerator\"],[\"Denominator\",\"@Denominator\"],[\"grid_index\",\"@grid_index\"]]},\"id\":\"2425\",\"type\":\"HoverTool\"},{\"attributes\":{\"coordinates\":null,\"dimension\":\"height\",\"group\":null,\"line_width\":2,\"location\":0.0},\"id\":\"2381\",\"type\":\"Span\"},{\"attributes\":{\"coordinates\":null,\"dimension\":\"height\",\"group\":null,\"line_width\":0.5,\"location\":1.5},\"id\":\"2376\",\"type\":\"Span\"},{\"attributes\":{\"bottom\":{\"field\":\"bottom\"},\"fill_alpha\":{\"value\":0.2},\"fill_color\":{\"value\":\"grey\"},\"hatch_alpha\":{\"value\":0.2},\"left\":{\"field\":\"start\"},\"line_alpha\":{\"value\":0.2},\"line_color\":{\"value\":\"grey\"},\"right\":{\"field\":\"end\"},\"top\":{\"field\":\"top\"}},\"id\":\"1199\",\"type\":\"Quad\"},{\"attributes\":{\"coordinates\":null,\"dimension\":\"height\",\"group\":null,\"line_width\":0.5,\"location\":3.0},\"id\":\"2379\",\"type\":\"Span\"},{\"attributes\":{},\"id\":\"1504\",\"type\":\"WheelZoomTool\"},{\"attributes\":{\"background_fill_alpha\":0.25,\"border_line_alpha\":0,\"click_policy\":\"hide\",\"coordinates\":null,\"glyph_width\":15,\"group\":null,\"items\":[{\"id\":\"1214\"},{\"id\":\"1274\"},{\"id\":\"1297\"},{\"id\":\"1322\"}],\"label_standoff\":8,\"label_text_color\":\"#5B5B5B\",\"label_text_font\":\"Calibri Light\",\"label_text_font_size\":\"0.95em\",\"label_text_font_style\":\"bold\",\"spacing\":8},\"id\":\"1213\",\"type\":\"Legend\"},{\"attributes\":{\"coordinates\":null,\"dimension\":\"height\",\"group\":null,\"line_width\":0.5,\"location\":3.5},\"id\":\"2380\",\"type\":\"Span\"},{\"attributes\":{},\"id\":\"1503\",\"type\":\"PanTool\"},{\"attributes\":{\"coordinates\":null,\"dimension\":\"height\",\"group\":null,\"line_width\":0.5,\"location\":2.0},\"id\":\"2377\",\"type\":\"Span\"},{\"attributes\":{\"label\":{\"value\":\"Piano Roll\"},\"renderers\":[{\"id\":\"1200\"}]},\"id\":\"1214\",\"type\":\"LegendItem\"},{\"attributes\":{\"overlay\":{\"id\":\"1509\"}},\"id\":\"1505\",\"type\":\"BoxZoomTool\"},{\"attributes\":{\"coordinates\":null,\"dimension\":\"height\",\"group\":null,\"line_width\":0.5,\"location\":0.5},\"id\":\"1569\",\"type\":\"Span\"},{\"attributes\":{\"coordinates\":null,\"dimension\":\"height\",\"group\":null,\"line_width\":0.5,\"location\":2.5},\"id\":\"2378\",\"type\":\"Span\"},{\"attributes\":{\"source\":{\"id\":\"1517\"}},\"id\":\"1523\",\"type\":\"CDSView\"},{\"attributes\":{\"coordinates\":null,\"group\":null,\"text_color\":\"#5B5B5B\",\"text_font\":\"Calibri Light\",\"text_font_size\":\"1.25em\",\"text_font_style\":\"bold\"},\"id\":\"2329\",\"type\":\"Title\"},{\"attributes\":{},\"id\":\"1527\",\"type\":\"BasicTickFormatter\"},{\"attributes\":{\"ticks\":[0.0,0.5,1.0,1.5,2.0,2.5,3.0,3.5]},\"id\":\"2210\",\"type\":\"FixedTicker\"},{\"attributes\":{\"source\":{\"id\":\"2322\"}},\"id\":\"2328\",\"type\":\"CDSView\"},{\"attributes\":{},\"id\":\"2333\",\"type\":\"AllLabels\"},{\"attributes\":{\"fill_color\":{\"value\":\"#1EA087\"},\"line_color\":{\"value\":\"#1EA087\"},\"size\":{\"value\":10},\"x\":{\"field\":\"x\"},\"y\":{\"field\":\"y\"}},\"id\":\"2590\",\"type\":\"Circle\"},{\"attributes\":{\"background_fill_alpha\":0.25,\"border_line_alpha\":0,\"click_policy\":\"hide\",\"coordinates\":null,\"glyph_width\":15,\"group\":null,\"items\":[{\"id\":\"1536\"},{\"id\":\"1596\"},{\"id\":\"1619\"},{\"id\":\"1644\"}],\"label_standoff\":8,\"label_text_color\":\"#5B5B5B\",\"label_text_font\":\"Calibri Light\",\"label_text_font_size\":\"0.95em\",\"label_text_font_style\":\"bold\",\"spacing\":8},\"id\":\"1535\",\"type\":\"Legend\"},{\"attributes\":{\"coordinates\":null,\"data_source\":{\"id\":\"1944\"},\"glyph\":{\"id\":\"1946\"},\"group\":null,\"hover_glyph\":null,\"muted_glyph\":{\"id\":\"1948\"},\"nonselection_glyph\":{\"id\":\"1947\"},\"view\":{\"id\":\"1950\"}},\"id\":\"1949\",\"type\":\"GlyphRenderer\"},{\"attributes\":{},\"id\":\"1528\",\"type\":\"AllLabels\"},{\"attributes\":{\"fill_alpha\":{\"value\":0.1},\"fill_color\":{\"value\":\"#1EA087\"},\"hatch_alpha\":{\"value\":0.1},\"line_alpha\":{\"value\":0.1},\"line_color\":{\"value\":\"#1EA087\"},\"size\":{\"value\":10},\"x\":{\"field\":\"x\"},\"y\":{\"field\":\"y\"}},\"id\":\"2591\",\"type\":\"Circle\"},{\"attributes\":{},\"id\":\"1506\",\"type\":\"SaveTool\"},{\"attributes\":{\"coordinates\":null,\"dimension\":\"height\",\"group\":null,\"line_width\":0.5,\"location\":1.0},\"id\":\"2375\",\"type\":\"Span\"},{\"attributes\":{},\"id\":\"1507\",\"type\":\"ResetTool\"},{\"attributes\":{\"data\":{\"Denominator\":[4],\"Numerator\":[4],\"grid_index\":[0],\"x\":[0.0],\"y\":[4]},\"selected\":{\"id\":\"1295\"},\"selection_policy\":{\"id\":\"1294\"}},\"id\":\"1277\",\"type\":\"ColumnDataSource\"},{\"attributes\":{},\"id\":\"2399\",\"type\":\"Selection\"},{\"attributes\":{\"fill_color\":{\"value\":\"#1EA087\"},\"line_color\":{\"value\":\"#1EA087\"},\"size\":{\"value\":10},\"x\":{\"field\":\"x\"},\"y\":{\"field\":\"y\"}},\"id\":\"1785\",\"type\":\"Circle\"},{\"attributes\":{\"coordinates\":null,\"dimension\":\"height\",\"group\":null,\"line_width\":0.1,\"location\":0.75},\"id\":\"2351\",\"type\":\"Span\"},{\"attributes\":{\"coordinates\":null,\"dimension\":\"height\",\"group\":null,\"line_width\":0.1,\"location\":0.625},\"id\":\"2350\",\"type\":\"Span\"},{\"attributes\":{},\"id\":\"2398\",\"type\":\"UnionRenderers\"},{\"attributes\":{\"ticks\":[0,1,2,3]},\"id\":\"2345\",\"type\":\"FixedTicker\"},{\"attributes\":{\"fill_alpha\":{\"value\":0.1},\"fill_color\":{\"value\":\"#440154\"},\"hatch_alpha\":{\"value\":0.1},\"line_alpha\":{\"value\":0.1},\"line_color\":{\"value\":\"#440154\"},\"size\":{\"value\":10},\"x\":{\"field\":\"x\"},\"y\":{\"field\":\"y\"}},\"id\":\"2386\",\"type\":\"Circle\"},{\"attributes\":{\"tools\":[{\"id\":\"2308\"},{\"id\":\"2309\"},{\"id\":\"2310\"},{\"id\":\"2311\"},{\"id\":\"2312\"},{\"id\":\"2313\"},{\"id\":\"2342\"},{\"id\":\"2402\"},{\"id\":\"2425\"},{\"id\":\"2450\"}]},\"id\":\"2315\",\"type\":\"Toolbar\"},{\"attributes\":{\"source\":{\"id\":\"1944\"}},\"id\":\"1950\",\"type\":\"CDSView\"},{\"attributes\":{\"fill_alpha\":{\"value\":0.1},\"fill_color\":{\"value\":\"#1EA087\"},\"hatch_alpha\":{\"value\":0.1},\"line_alpha\":{\"value\":0.1},\"line_color\":{\"value\":\"#1EA087\"},\"size\":{\"value\":10},\"x\":{\"field\":\"x\"},\"y\":{\"field\":\"y\"}},\"id\":\"2430\",\"type\":\"Circle\"},{\"attributes\":{\"coordinates\":null,\"dimension\":\"height\",\"group\":null,\"line_width\":0.1,\"location\":0.125},\"id\":\"2347\",\"type\":\"Span\"},{\"attributes\":{\"coordinates\":null,\"data_source\":{\"id\":\"2588\"},\"glyph\":{\"id\":\"2590\"},\"group\":null,\"hover_glyph\":null,\"muted_glyph\":{\"id\":\"2592\"},\"nonselection_glyph\":{\"id\":\"2591\"},\"view\":{\"id\":\"2594\"}},\"id\":\"2593\",\"type\":\"GlyphRenderer\"},{\"attributes\":{\"coordinates\":null,\"dimension\":\"height\",\"group\":null,\"line_width\":0.1,\"location\":1.25},\"id\":\"2354\",\"type\":\"Span\"},{\"attributes\":{\"bottom\":{\"field\":\"bottom\"},\"fill_alpha\":{\"value\":0.2},\"fill_color\":{\"value\":\"grey\"},\"hatch_alpha\":{\"value\":0.2},\"left\":{\"field\":\"start\"},\"line_alpha\":{\"value\":0.2},\"line_color\":{\"value\":\"grey\"},\"right\":{\"field\":\"end\"},\"top\":{\"field\":\"top\"}},\"id\":\"1521\",\"type\":\"Quad\"},{\"attributes\":{\"end\":4.2625,\"start\":-0.3875},\"id\":\"1165\",\"type\":\"DataRange1d\"},{\"attributes\":{},\"id\":\"1205\",\"type\":\"BasicTickFormatter\"},{\"attributes\":{\"fill_alpha\":{\"value\":0.2},\"fill_color\":{\"value\":\"#1EA087\"},\"hatch_alpha\":{\"value\":0.2},\"line_alpha\":{\"value\":0.2},\"line_color\":{\"value\":\"#1EA087\"},\"size\":{\"value\":10},\"x\":{\"field\":\"x\"},\"y\":{\"field\":\"y\"}},\"id\":\"2431\",\"type\":\"Circle\"},{\"attributes\":{\"callback\":null,\"renderers\":[{\"id\":\"2327\"}],\"tooltips\":[[\"start\",\"@start\"],[\"end\",\"@end\"],[\"instrument\",\"@instrument\"],[\"voice_index\",\"@voice_index\"],[\"midi\",\"@midi\"],[\"velocity\",\"@velocity\"],[\"offset\",\"@offset\"],[\"offset_sec\",\"@offset_sec\"],[\"grid_line\",\"@grid_line\"]]},\"id\":\"2342\",\"type\":\"HoverTool\"},{\"attributes\":{\"callback\":null,\"renderers\":[{\"id\":\"2593\"}],\"tooltips\":[[\"track_number\",\"@track_number\"],[\"genre\",\"@genre\"],[\"bpm\",\"@bpm\"],[\"meter\",\"@meter\"],[\"grouping\",\"@grouping\"],[\"member\",\"@member\"],[\"source\",\"@source\"],[\"stream_0\",\"@stream_0\"],[\"stream_1\",\"@stream_1\"],[\"stream_2\",\"@stream_2\"],[\"stream_3\",\"@stream_3\"],[\"start_bar\",\"@start_bar\"],[\"collection\",\"@collection\"],[\"sample_id\",\"@sample_id\"]]},\"id\":\"2611\",\"type\":\"HoverTool\"},{\"attributes\":{\"label\":{\"value\":\"Metadata\"},\"renderers\":[{\"id\":\"2593\"}]},\"id\":\"2610\",\"type\":\"LegendItem\"},{\"attributes\":{\"fill_alpha\":{\"value\":0.2},\"fill_color\":{\"value\":\"#1EA087\"},\"hatch_alpha\":{\"value\":0.2},\"line_alpha\":{\"value\":0.2},\"line_color\":{\"value\":\"#1EA087\"},\"size\":{\"value\":10},\"x\":{\"field\":\"x\"},\"y\":{\"field\":\"y\"}},\"id\":\"1787\",\"type\":\"Circle\"},{\"attributes\":{},\"id\":\"1010\",\"type\":\"LinearScale\"},{\"attributes\":{\"end\":4.2625,\"start\":-0.3875},\"id\":\"1809\",\"type\":\"DataRange1d\"},{\"attributes\":{\"coordinates\":null,\"dimension\":\"height\",\"group\":null,\"line_width\":0.1,\"location\":2.125},\"id\":\"2037\",\"type\":\"Span\"},{\"attributes\":{\"end\":4.2625,\"start\":-0.3875},\"id\":\"1004\",\"type\":\"DataRange1d\"},{\"attributes\":{\"coordinates\":null,\"dimension\":\"height\",\"group\":null,\"line_width\":0.1,\"location\":0.75},\"id\":\"2029\",\"type\":\"Span\"},{\"attributes\":{\"coordinates\":null,\"dimension\":\"height\",\"group\":null,\"line_width\":0.1,\"location\":1.875},\"id\":\"2036\",\"type\":\"Span\"},{\"attributes\":{\"callback\":null,\"renderers\":[{\"id\":\"2005\"}],\"tooltips\":[[\"start\",\"@start\"],[\"end\",\"@end\"],[\"instrument\",\"@instrument\"],[\"voice_index\",\"@voice_index\"],[\"midi\",\"@midi\"],[\"velocity\",\"@velocity\"],[\"offset\",\"@offset\"],[\"offset_sec\",\"@offset_sec\"],[\"grid_line\",\"@grid_line\"]]},\"id\":\"2020\",\"type\":\"HoverTool\"},{\"attributes\":{},\"id\":\"1049\",\"type\":\"UnionRenderers\"},{\"attributes\":{\"axis_label\":\"Instrument\",\"axis_label_standoff\":10,\"axis_label_text_color\":\"#5B5B5B\",\"axis_label_text_font\":\"Calibri Light\",\"axis_label_text_font_size\":\"1.15em\",\"axis_label_text_font_style\":\"bold\",\"axis_line_alpha\":1,\"axis_line_color\":\"#5B5B5B\",\"coordinates\":null,\"formatter\":{\"id\":\"1849\"},\"group\":null,\"major_label_overrides\":{\"0\":\"stream_0\",\"1\":\"stream_1\",\"2\":\"stream_2\",\"3\":\"stream_3\"},\"major_label_policy\":{\"id\":\"1850\"},\"major_label_text_color\":\"#5B5B5B\",\"major_label_text_font\":\"Calibri Light\",\"major_label_text_font_size\":\"0.95em\",\"major_label_text_font_style\":\"bold\",\"major_tick_in\":0,\"major_tick_line_alpha\":0.25,\"major_tick_line_color\":\"#5B5B5B\",\"major_tick_out\":3,\"minor_tick_line_alpha\":0.25,\"minor_tick_line_color\":\"#5B5B5B\",\"ticker\":{\"id\":\"1862\"}},\"id\":\"1821\",\"type\":\"LinearAxis\"},{\"attributes\":{\"source\":{\"id\":\"1116\"}},\"id\":\"1122\",\"type\":\"CDSView\"},{\"attributes\":{\"source\":{\"id\":\"1578\"}},\"id\":\"1584\",\"type\":\"CDSView\"},{\"attributes\":{\"fill_alpha\":{\"value\":0.1},\"fill_color\":{\"value\":\"#1EA087\"},\"hatch_alpha\":{\"value\":0.1},\"line_alpha\":{\"value\":0.1},\"line_color\":{\"value\":\"#1EA087\"},\"size\":{\"value\":10},\"x\":{\"field\":\"x\"},\"y\":{\"field\":\"y\"}},\"id\":\"1947\",\"type\":\"Circle\"},{\"attributes\":{},\"id\":\"1828\",\"type\":\"SaveTool\"},{\"attributes\":{},\"id\":\"1829\",\"type\":\"ResetTool\"},{\"attributes\":{\"ticks\":[0,1,2,3]},\"id\":\"2023\",\"type\":\"FixedTicker\"},{\"attributes\":{},\"id\":\"1481\",\"type\":\"Selection\"},{\"attributes\":{},\"id\":\"1964\",\"type\":\"Selection\"},{\"attributes\":{\"child\":{\"id\":\"1486\"},\"title\":\"Tab 4\"},\"id\":\"2616\",\"type\":\"Panel\"},{\"attributes\":{\"fill_alpha\":{\"value\":0.1},\"fill_color\":{\"value\":\"#70CE56\"},\"hatch_alpha\":{\"value\":0.1},\"line_alpha\":{\"value\":0.1},\"line_color\":{\"value\":\"#70CE56\"},\"size\":{\"value\":10},\"x\":{\"field\":\"x\"},\"y\":{\"field\":\"y\"}},\"id\":\"1119\",\"type\":\"Circle\"},{\"attributes\":{\"ticks\":[0.0,0.5,1.0,1.5,2.0,2.5,3.0,3.5]},\"id\":\"1244\",\"type\":\"FixedTicker\"},{\"attributes\":{\"fill_color\":{\"value\":\"#70CE56\"},\"line_color\":{\"value\":\"#70CE56\"},\"size\":{\"value\":10},\"x\":{\"field\":\"x\"},\"y\":{\"field\":\"y\"}},\"id\":\"1118\",\"type\":\"Circle\"},{\"attributes\":{\"fill_color\":{\"value\":\"#70CE56\"},\"line_color\":{\"value\":\"#70CE56\"},\"size\":{\"value\":10},\"x\":{\"field\":\"x\"},\"y\":{\"field\":\"y\"}},\"id\":\"1440\",\"type\":\"Circle\"},{\"attributes\":{\"fill_alpha\":{\"value\":0.1},\"fill_color\":{\"value\":\"#440154\"},\"hatch_alpha\":{\"value\":0.1},\"line_alpha\":{\"value\":0.1},\"line_color\":{\"value\":\"#440154\"},\"size\":{\"value\":10},\"x\":{\"field\":\"x\"},\"y\":{\"field\":\"y\"}},\"id\":\"1581\",\"type\":\"Circle\"},{\"attributes\":{\"child\":{\"id\":\"1647\"},\"title\":\"Tab 5\"},\"id\":\"2617\",\"type\":\"Panel\"},{\"attributes\":{\"fill_alpha\":{\"value\":0.2},\"fill_color\":{\"value\":\"#440154\"},\"hatch_alpha\":{\"value\":0.2},\"line_alpha\":{\"value\":0.2},\"line_color\":{\"value\":\"#440154\"},\"size\":{\"value\":10},\"x\":{\"field\":\"x\"},\"y\":{\"field\":\"y\"}},\"id\":\"1582\",\"type\":\"Circle\"},{\"attributes\":{\"bottom_units\":\"screen\",\"coordinates\":null,\"fill_alpha\":0.5,\"fill_color\":\"lightgrey\",\"group\":null,\"left_units\":\"screen\",\"level\":\"overlay\",\"line_alpha\":1.0,\"line_color\":\"black\",\"line_dash\":[4,4],\"line_width\":2,\"right_units\":\"screen\",\"syncable\":false,\"top_units\":\"screen\"},\"id\":\"1831\",\"type\":\"BoxAnnotation\"},{\"attributes\":{\"child\":{\"id\":\"1808\"},\"title\":\"Tab 6\"},\"id\":\"2618\",\"type\":\"Panel\"},{\"attributes\":{},\"id\":\"1815\",\"type\":\"LinearScale\"},{\"attributes\":{\"ticks\":[0,1,2,3]},\"id\":\"1218\",\"type\":\"FixedTicker\"},{\"attributes\":{\"end\":5.75,\"start\":-0.5},\"id\":\"1811\",\"type\":\"Range1d\"},{\"attributes\":{},\"id\":\"1048\",\"type\":\"AllLabels\"},{\"attributes\":{\"bottom_units\":\"screen\",\"coordinates\":null,\"fill_alpha\":0.5,\"fill_color\":\"lightgrey\",\"group\":null,\"left_units\":\"screen\",\"level\":\"overlay\",\"line_alpha\":1.0,\"line_color\":\"black\",\"line_dash\":[4,4],\"line_width\":2,\"right_units\":\"screen\",\"syncable\":false,\"top_units\":\"screen\"},\"id\":\"1509\",\"type\":\"BoxAnnotation\"},{\"attributes\":{},\"id\":\"1008\",\"type\":\"LinearScale\"},{\"attributes\":{},\"id\":\"1830\",\"type\":\"HelpTool\"},{\"attributes\":{},\"id\":\"2421\",\"type\":\"UnionRenderers\"},{\"attributes\":{},\"id\":\"1813\",\"type\":\"LinearScale\"},{\"attributes\":{\"axis_label\":\"Time (sec)\",\"axis_label_standoff\":10,\"axis_label_text_color\":\"#5B5B5B\",\"axis_label_text_font\":\"Calibri Light\",\"axis_label_text_font_size\":\"1.15em\",\"axis_label_text_font_style\":\"bold\",\"axis_line_alpha\":1,\"axis_line_color\":\"#5B5B5B\",\"coordinates\":null,\"formatter\":{\"id\":\"1047\"},\"group\":null,\"major_label_orientation\":1.57,\"major_label_policy\":{\"id\":\"1048\"},\"major_label_text_color\":\"#5B5B5B\",\"major_label_text_font\":\"Calibri Light\",\"major_label_text_font_size\":\"0.95em\",\"major_label_text_font_style\":\"bold\",\"major_tick_in\":0,\"major_tick_line_alpha\":0.25,\"major_tick_line_color\":\"#5B5B5B\",\"major_tick_out\":3,\"minor_tick_line_alpha\":0.25,\"minor_tick_line_color\":\"#5B5B5B\",\"ticker\":{\"id\":\"1083\"}},\"id\":\"1012\",\"type\":\"LinearAxis\"},{\"attributes\":{\"axis_label\":\"Time (sec)\",\"axis_label_standoff\":10,\"axis_label_text_color\":\"#5B5B5B\",\"axis_label_text_font\":\"Calibri Light\",\"axis_label_text_font_size\":\"1.15em\",\"axis_label_text_font_style\":\"bold\",\"axis_line_alpha\":1,\"axis_line_color\":\"#5B5B5B\",\"coordinates\":null,\"formatter\":{\"id\":\"1852\"},\"group\":null,\"major_label_orientation\":1.57,\"major_label_policy\":{\"id\":\"1853\"},\"major_label_text_color\":\"#5B5B5B\",\"major_label_text_font\":\"Calibri Light\",\"major_label_text_font_size\":\"0.95em\",\"major_label_text_font_style\":\"bold\",\"major_tick_in\":0,\"major_tick_line_alpha\":0.25,\"major_tick_line_color\":\"#5B5B5B\",\"major_tick_out\":3,\"minor_tick_line_alpha\":0.25,\"minor_tick_line_color\":\"#5B5B5B\",\"ticker\":{\"id\":\"1888\"}},\"id\":\"1817\",\"type\":\"LinearAxis\"},{\"attributes\":{\"data\":{\"bottom\":{\"__ndarray__\":\"mpmZmZmZyb+amZmZmZnpP2ZmZmZmZgZAmpmZmZmZyb9mZmZmZmYGQJqZmZmZmcm/mpmZmZmZ6T9mZmZmZmYGQJqZmZmZmcm/mpmZmZmZ6T+amZmZmZnJv5qZmZmZmek/ZmZmZmZmBkCamZmZmZnJv83MzMzMzPw/mpmZmZmZyb+amZmZmZnpP83MzMzMzPw/ZmZmZmZmBkCamZmZmZnJv83MzMzMzPw/mpmZmZmZyb9mZmZmZmYGQJqZmZmZmcm/zczMzMzM/D+amZmZmZnJv5qZmZmZmek/ZmZmZmZmBkCamZmZmZnJv83MzMzMzPw/mpmZmZmZyb9mZmZmZmYGQJqZmZmZmcm/zczMzMzM/D9mZmZmZmYGQJqZmZmZmcm/zczMzMzM/D9mZmZmZmYGQJqZmZmZmcm/zczMzMzM/D+amZmZmZnJv2ZmZmZmZgZAmpmZmZmZyb+amZmZmZnpP83MzMzMzPw/mpmZmZmZyb9mZmZmZmYGQJqZmZmZmcm/zczMzMzM/D+amZmZmZnJv2ZmZmZmZgZAmpmZmZmZyb+amZmZmZnpP2ZmZmZmZgZAmpmZmZmZyb/NzMzMzMz8P2ZmZmZmZgZAmpmZmZmZyb/NzMzMzMz8P5qZmZmZmcm/ZmZmZmZmBkCamZmZmZnJv83MzMzMzPw/mpmZmZmZyb+amZmZmZnpP2ZmZmZmZgZAmpmZmZmZyb/NzMzMzMz8P5qZmZmZmcm/ZmZmZmZmBkCamZmZmZnJv5qZmZmZmek/ZmZmZmZmBkA=\",\"dtype\":\"float64\",\"order\":\"little\",\"shape\":[73]},\"end\":[0.017,0.017,0.035250000000000004,0.278375,0.278375,0.519375,0.519375,0.555625,0.733,0.733,0.792,0.792,0.803375,0.9125,0.9125,1.01025,1.01025,1.06475,1.0625,1.169375,1.169375,1.296625,1.296625,1.41475,1.41475,1.528375,1.528375,1.555625,1.6875,1.6875,1.796625,1.796625,1.923875,1.930625,1.923875,2.0125,2.0125,2.048875,2.176125,2.176125,2.298875,2.298875,2.421625,2.455625,2.421625,2.5375,2.5375,2.66025,2.66025,2.792,2.792,2.933,2.976125,2.933,3.03525,3.058,3.03525,3.16475,3.16475,3.271625,3.271625,3.392,3.392,3.501125,3.501125,3.51025,3.644375,3.644375,3.778375,3.778375,3.898875,3.971625,3.898875],\"grid_line\":[0,0,0,2,2,4,4,4,5,5,6,6,6,7,7,8,8,8,8,9,9,10,10,11,11,12,12,12,13,13,14,14,15,15,15,16,16,16,17,17,18,18,19,19,19,20,20,21,21,22,22,23,23,23,24,24,24,25,25,26,26,27,27,28,28,28,29,29,30,30,31,31,31],\"instrument\":[\"stream_0\",\"stream_1\",\"stream_3\",\"stream_0\",\"stream_3\",\"stream_0\",\"stream_1\",\"stream_3\",\"stream_0\",\"stream_1\",\"stream_0\",\"stream_1\",\"stream_3\",\"stream_0\",\"stream_2\",\"stream_0\",\"stream_1\",\"stream_2\",\"stream_3\",\"stream_0\",\"stream_2\",\"stream_0\",\"stream_3\",\"stream_0\",\"stream_2\",\"stream_0\",\"stream_1\",\"stream_3\",\"stream_0\",\"stream_2\",\"stream_0\",\"stream_3\",\"stream_0\",\"stream_2\",\"stream_3\",\"stream_0\",\"stream_2\",\"stream_3\",\"stream_0\",\"stream_2\",\"stream_0\",\"stream_3\",\"stream_0\",\"stream_1\",\"stream_2\",\"stream_0\",\"stream_3\",\"stream_0\",\"stream_2\",\"stream_0\",\"stream_3\",\"stream_0\",\"stream_1\",\"stream_3\",\"stream_0\",\"stream_2\",\"stream_3\",\"stream_0\",\"stream_2\",\"stream_0\",\"stream_3\",\"stream_0\",\"stream_2\",\"stream_0\",\"stream_1\",\"stream_3\",\"stream_0\",\"stream_2\",\"stream_0\",\"stream_3\",\"stream_0\",\"stream_1\",\"stream_3\"],\"midi\":[36,38,46,36,46,36,38,46,36,38,36,38,46,36,42,36,38,42,46,36,42,36,46,36,42,36,38,46,36,42,36,46,36,42,46,36,42,46,36,42,36,46,36,38,42,36,46,36,42,36,46,36,38,46,36,42,46,36,42,36,46,36,42,36,38,46,36,42,36,46,36,38,46],\"offset\":[-0.364,-0.364,-0.218,-0.273,-0.273,-0.345,-0.345,-0.055,0.364,0.364,-0.164,-0.164,-0.073,-0.2,-0.2,-0.418,-0.418,0.018,0.0,-0.145,-0.145,-0.127,-0.127,-0.182,-0.182,-0.273,-0.273,-0.055,0.0,0.0,-0.127,-0.127,-0.109,-0.055,-0.109,-0.4,-0.4,-0.109,-0.091,-0.091,-0.109,-0.109,-0.127,0.145,-0.127,-0.2,-0.2,-0.218,-0.218,-0.164,-0.164,-0.036,0.309,-0.036,-0.218,-0.036,-0.218,-0.182,-0.182,-0.327,-0.327,-0.364,-0.364,-0.491,-0.491,-0.418,-0.345,-0.345,-0.273,-0.273,-0.309,0.273,-0.309],\"offset_sec\":[-0.046,-0.046,-0.027,-0.034,-0.034,-0.043,-0.043,-0.007,0.046,0.046,-0.02,-0.02,-0.009,-0.025,-0.025,-0.052,-0.052,0.002,0.0,-0.018,-0.018,-0.016,-0.016,-0.023,-0.023,-0.034,-0.034,-0.007,0.0,0.0,-0.016,-0.016,-0.014,-0.007,-0.014,-0.05,-0.05,-0.014,-0.011,-0.011,-0.014,-0.014,-0.016,0.018,-0.016,-0.025,-0.025,-0.027,-0.027,-0.02,-0.02,-0.004,0.039,-0.004,-0.027,-0.004,-0.027,-0.023,-0.023,-0.041,-0.041,-0.046,-0.046,-0.061,-0.061,-0.052,-0.043,-0.043,-0.034,-0.034,-0.039,0.034,-0.039],\"start\":[-0.0455,-0.0455,-0.02725,0.21587499999999998,0.21587499999999998,0.45687500000000003,0.45687500000000003,0.493125,0.6705,0.6705,0.7295,0.7295,0.740875,0.85,0.85,0.94775,0.94775,1.00225,1.0,1.106875,1.106875,1.234125,1.234125,1.35225,1.35225,1.465875,1.465875,1.493125,1.625,1.625,1.734125,1.734125,1.861375,1.868125,1.861375,1.95,1.95,1.986375,2.113625,2.113625,2.236375,2.236375,2.359125,2.393125,2.359125,2.475,2.475,2.59775,2.59775,2.7295,2.7295,2.8705,2.913625,2.8705,2.97275,2.9955,2.97275,3.10225,3.10225,3.209125,3.209125,3.3295,3.3295,3.438625,3.438625,3.44775,3.581875,3.581875,3.715875,3.715875,3.836375,3.909125,3.836375],\"top\":{\"__ndarray__\":\"mpmZmZmZyT8zMzMzMzPzP5qZmZmZmQlAmpmZmZmZyT+amZmZmZkJQJqZmZmZmck/MzMzMzMz8z+amZmZmZkJQJqZmZmZmck/MzMzMzMz8z+amZmZmZnJPzMzMzMzM/M/mpmZmZmZCUCamZmZmZnJP5qZmZmZmQFAmpmZmZmZyT8zMzMzMzPzP5qZmZmZmQFAmpmZmZmZCUCamZmZmZnJP5qZmZmZmQFAmpmZmZmZyT+amZmZmZkJQJqZmZmZmck/mpmZmZmZAUCamZmZmZnJPzMzMzMzM/M/mpmZmZmZCUCamZmZmZnJP5qZmZmZmQFAmpmZmZmZyT+amZmZmZkJQJqZmZmZmck/mpmZmZmZAUCamZmZmZkJQJqZmZmZmck/mpmZmZmZAUCamZmZmZkJQJqZmZmZmck/mpmZmZmZAUCamZmZmZnJP5qZmZmZmQlAmpmZmZmZyT8zMzMzMzPzP5qZmZmZmQFAmpmZmZmZyT+amZmZmZkJQJqZmZmZmck/mpmZmZmZAUCamZmZmZnJP5qZmZmZmQlAmpmZmZmZyT8zMzMzMzPzP5qZmZmZmQlAmpmZmZmZyT+amZmZmZkBQJqZmZmZmQlAmpmZmZmZyT+amZmZmZkBQJqZmZmZmck/mpmZmZmZCUCamZmZmZnJP5qZmZmZmQFAmpmZmZmZyT8zMzMzMzPzP5qZmZmZmQlAmpmZmZmZyT+amZmZmZkBQJqZmZmZmck/mpmZmZmZCUCamZmZmZnJPzMzMzMzM/M/mpmZmZmZCUA=\",\"dtype\":\"float64\",\"order\":\"little\",\"shape\":[73]},\"velocity\":[0.276,0.276,1.0,0.583,0.583,0.315,0.315,1.0,0.228,0.228,0.087,0.087,0.787,0.52,0.52,0.236,0.236,0.449,1.0,0.354,0.354,0.835,0.835,0.417,0.417,0.291,0.291,1.0,0.354,0.354,0.583,0.583,0.614,0.457,0.614,0.354,0.354,0.811,0.465,0.465,1.0,1.0,0.441,0.291,0.441,1.0,1.0,0.37,0.37,0.661,0.661,0.677,0.236,0.677,1.0,0.346,1.0,0.378,0.378,0.953,0.953,0.52,0.52,0.236,0.236,1.0,0.472,0.472,1.0,1.0,0.638,0.276,0.638],\"voice_index\":[0,1,3,0,3,0,1,3,0,1,0,1,3,0,2,0,1,2,3,0,2,0,3,0,2,0,1,3,0,2,0,3,0,2,3,0,2,3,0,2,0,3,0,1,2,0,3,0,2,0,3,0,1,3,0,2,3,0,2,0,3,0,2,0,1,3,0,2,0,3,0,1,3]},\"selected\":{\"id\":\"1211\"},\"selection_policy\":{\"id\":\"1210\"}},\"id\":\"1195\",\"type\":\"ColumnDataSource\"},{\"attributes\":{},\"id\":\"1045\",\"type\":\"AllLabels\"},{\"attributes\":{\"end\":5.75,\"start\":-0.5},\"id\":\"1006\",\"type\":\"Range1d\"},{\"attributes\":{\"axis\":{\"id\":\"1817\"},\"coordinates\":null,\"grid_line_color\":null,\"group\":null,\"ticker\":null},\"id\":\"1820\",\"type\":\"Grid\"},{\"attributes\":{},\"id\":\"1047\",\"type\":\"BasicTickFormatter\"},{\"attributes\":{\"coordinates\":null,\"dimension\":\"height\",\"group\":null,\"line_width\":0.1,\"location\":3.375},\"id\":\"1240\",\"type\":\"Span\"},{\"attributes\":{\"coordinates\":null,\"dimension\":\"height\",\"group\":null,\"line_width\":0.5,\"location\":1.0},\"id\":\"1570\",\"type\":\"Span\"},{\"attributes\":{\"fill_alpha\":{\"value\":0.2},\"fill_color\":{\"value\":\"#70CE56\"},\"hatch_alpha\":{\"value\":0.2},\"line_alpha\":{\"value\":0.2},\"line_color\":{\"value\":\"#70CE56\"},\"size\":{\"value\":10},\"x\":{\"field\":\"x\"},\"y\":{\"field\":\"y\"}},\"id\":\"1120\",\"type\":\"Circle\"},{\"attributes\":{\"child\":{\"id\":\"1969\"},\"title\":\"Tab 7\"},\"id\":\"2619\",\"type\":\"Panel\"},{\"attributes\":{\"coordinates\":null,\"dimension\":\"height\",\"group\":null,\"line_width\":0.1,\"location\":3.625},\"id\":\"1241\",\"type\":\"Span\"},{\"attributes\":{\"coordinates\":null,\"dimension\":\"height\",\"group\":null,\"line_width\":0.5,\"location\":1.5},\"id\":\"1571\",\"type\":\"Span\"},{\"attributes\":{\"coordinates\":null,\"dimension\":\"height\",\"group\":null,\"line_width\":0.5,\"location\":2.0},\"id\":\"1572\",\"type\":\"Span\"},{\"attributes\":{\"child\":{\"id\":\"2130\"},\"title\":\"Tab 8\"},\"id\":\"2620\",\"type\":\"Panel\"},{\"attributes\":{\"coordinates\":null,\"dimension\":\"height\",\"group\":null,\"line_width\":0.1,\"location\":3.75},\"id\":\"1242\",\"type\":\"Span\"},{\"attributes\":{\"child\":{\"id\":\"2291\"},\"title\":\"Tab 9\"},\"id\":\"2621\",\"type\":\"Panel\"},{\"attributes\":{\"coordinates\":null,\"data_source\":{\"id\":\"1116\"},\"glyph\":{\"id\":\"1118\"},\"group\":null,\"hover_glyph\":null,\"muted_glyph\":{\"id\":\"1120\"},\"nonselection_glyph\":{\"id\":\"1119\"},\"view\":{\"id\":\"1122\"}},\"id\":\"1121\",\"type\":\"GlyphRenderer\"},{\"attributes\":{\"coordinates\":null,\"dimension\":\"height\",\"group\":null,\"line_width\":0.1,\"location\":3.875},\"id\":\"1243\",\"type\":\"Span\"},{\"attributes\":{\"child\":{\"id\":\"2452\"},\"title\":\"Tab 10\"},\"id\":\"2622\",\"type\":\"Panel\"},{\"attributes\":{\"coordinates\":null,\"dimension\":\"height\",\"group\":null,\"line_width\":0.5,\"location\":2.5},\"id\":\"1573\",\"type\":\"Span\"},{\"attributes\":{\"coordinates\":null,\"dimension\":\"height\",\"group\":null,\"line_width\":0.5,\"location\":3.0},\"id\":\"1574\",\"type\":\"Span\"},{\"attributes\":{\"coordinates\":null,\"dimension\":\"height\",\"group\":null,\"line_width\":0.5,\"location\":0.0},\"id\":\"1246\",\"type\":\"Span\"},{\"attributes\":{\"coordinates\":null,\"dimension\":\"height\",\"group\":null,\"line_width\":0.5,\"location\":3.5},\"id\":\"1575\",\"type\":\"Span\"},{\"attributes\":{\"coordinates\":null,\"dimension\":\"height\",\"group\":null,\"line_width\":0.1,\"location\":0.125},\"id\":\"2025\",\"type\":\"Span\"},{\"attributes\":{\"coordinates\":null,\"dimension\":\"height\",\"group\":null,\"line_width\":0.1,\"location\":1.75},\"id\":\"2035\",\"type\":\"Span\"},{\"attributes\":{\"source\":{\"id\":\"1139\"}},\"id\":\"1145\",\"type\":\"CDSView\"},{\"attributes\":{\"label\":{\"value\":\"Time Signature\"},\"renderers\":[{\"id\":\"1121\"}]},\"id\":\"1136\",\"type\":\"LegendItem\"},{\"attributes\":{\"fill_alpha\":{\"value\":0.2},\"fill_color\":{\"value\":\"#70CE56\"},\"hatch_alpha\":{\"value\":0.2},\"line_alpha\":{\"value\":0.2},\"line_color\":{\"value\":\"#70CE56\"},\"size\":{\"value\":10},\"x\":{\"field\":\"x\"},\"y\":{\"field\":\"y\"}},\"id\":\"1442\",\"type\":\"Circle\"},{\"attributes\":{\"axis\":{\"id\":\"1821\"},\"coordinates\":null,\"dimension\":1,\"grid_line_color\":null,\"group\":null,\"ticker\":null},\"id\":\"1824\",\"type\":\"Grid\"},{\"attributes\":{},\"id\":\"1044\",\"type\":\"BasicTickFormatter\"},{\"attributes\":{},\"id\":\"1826\",\"type\":\"WheelZoomTool\"},{\"attributes\":{},\"id\":\"1825\",\"type\":\"PanTool\"},{\"attributes\":{\"coordinates\":null,\"dimension\":\"height\",\"group\":null,\"line_width\":2,\"location\":0.0},\"id\":\"1576\",\"type\":\"Span\"},{\"attributes\":{\"axis_label\":\"Time (sec)\",\"axis_label_standoff\":10,\"axis_label_text_color\":\"#5B5B5B\",\"axis_label_text_font\":\"Calibri Light\",\"axis_label_text_font_size\":\"1.15em\",\"axis_label_text_font_style\":\"bold\",\"axis_line_alpha\":1,\"axis_line_color\":\"#5B5B5B\",\"coordinates\":null,\"formatter\":{\"id\":\"1530\"},\"group\":null,\"major_label_orientation\":1.57,\"major_label_policy\":{\"id\":\"1531\"},\"major_label_text_color\":\"#5B5B5B\",\"major_label_text_font\":\"Calibri Light\",\"major_label_text_font_size\":\"0.95em\",\"major_label_text_font_style\":\"bold\",\"major_tick_in\":0,\"major_tick_line_alpha\":0.25,\"major_tick_line_color\":\"#5B5B5B\",\"major_tick_out\":3,\"minor_tick_line_alpha\":0.25,\"minor_tick_line_color\":\"#5B5B5B\",\"ticker\":{\"id\":\"1566\"}},\"id\":\"1495\",\"type\":\"LinearAxis\"},{\"attributes\":{\"coordinates\":null,\"dimension\":\"height\",\"group\":null,\"line_width\":0.5,\"location\":0.5},\"id\":\"1247\",\"type\":\"Span\"},{\"attributes\":{\"coordinates\":null,\"dimension\":\"height\",\"group\":null,\"line_width\":2,\"location\":2.0},\"id\":\"1577\",\"type\":\"Span\"},{\"attributes\":{\"coordinates\":null,\"dimension\":\"height\",\"group\":null,\"line_width\":0.5,\"location\":1.0},\"id\":\"1248\",\"type\":\"Span\"},{\"attributes\":{\"coordinates\":null,\"dimension\":\"height\",\"group\":null,\"line_width\":0.1,\"location\":0.625},\"id\":\"2028\",\"type\":\"Span\"},{\"attributes\":{\"coordinates\":null,\"data_source\":{\"id\":\"1438\"},\"glyph\":{\"id\":\"1440\"},\"group\":null,\"hover_glyph\":null,\"muted_glyph\":{\"id\":\"1442\"},\"nonselection_glyph\":{\"id\":\"1441\"},\"view\":{\"id\":\"1444\"}},\"id\":\"1443\",\"type\":\"GlyphRenderer\"},{\"attributes\":{\"below\":[{\"id\":\"1656\"}],\"center\":[{\"id\":\"1659\"},{\"id\":\"1663\"},{\"id\":\"1696\"},{\"id\":\"1703\"},{\"id\":\"1704\"},{\"id\":\"1705\"},{\"id\":\"1706\"},{\"id\":\"1707\"},{\"id\":\"1708\"},{\"id\":\"1709\"},{\"id\":\"1710\"},{\"id\":\"1711\"},{\"id\":\"1712\"},{\"id\":\"1713\"},{\"id\":\"1714\"},{\"id\":\"1715\"},{\"id\":\"1716\"},{\"id\":\"1717\"},{\"id\":\"1718\"},{\"id\":\"1719\"},{\"id\":\"1720\"},{\"id\":\"1721\"},{\"id\":\"1722\"},{\"id\":\"1723\"},{\"id\":\"1724\"},{\"id\":\"1725\"},{\"id\":\"1726\"},{\"id\":\"1729\"},{\"id\":\"1730\"},{\"id\":\"1731\"},{\"id\":\"1732\"},{\"id\":\"1733\"},{\"id\":\"1734\"},{\"id\":\"1735\"},{\"id\":\"1736\"},{\"id\":\"1737\"},{\"id\":\"1738\"}],\"height\":400,\"left\":[{\"id\":\"1660\"}],\"renderers\":[{\"id\":\"1683\"},{\"id\":\"1744\"},{\"id\":\"1765\"},{\"id\":\"1788\"}],\"right\":[{\"id\":\"1696\"}],\"title\":{\"id\":\"1685\"},\"toolbar\":{\"id\":\"1671\"},\"width\":800,\"x_range\":{\"id\":\"1648\"},\"x_scale\":{\"id\":\"1652\"},\"y_range\":{\"id\":\"1650\"},\"y_scale\":{\"id\":\"1654\"}},\"id\":\"1647\",\"subtype\":\"Figure\",\"type\":\"Plot\"},{\"attributes\":{\"coordinates\":null,\"dimension\":\"height\",\"group\":null,\"line_width\":0.5,\"location\":1.5},\"id\":\"1249\",\"type\":\"Span\"},{\"attributes\":{\"coordinates\":null,\"dimension\":\"height\",\"group\":null,\"line_width\":0.5,\"location\":2.0},\"id\":\"1250\",\"type\":\"Span\"},{\"attributes\":{\"coordinates\":null,\"dimension\":\"height\",\"group\":null,\"line_width\":0.1,\"location\":1.25},\"id\":\"2032\",\"type\":\"Span\"},{\"attributes\":{\"source\":{\"id\":\"1461\"}},\"id\":\"1467\",\"type\":\"CDSView\"},{\"attributes\":{\"coordinates\":null,\"data_source\":{\"id\":\"1578\"},\"glyph\":{\"id\":\"1580\"},\"group\":null,\"hover_glyph\":null,\"muted_glyph\":{\"id\":\"1582\"},\"nonselection_glyph\":{\"id\":\"1581\"},\"view\":{\"id\":\"1584\"}},\"id\":\"1583\",\"type\":\"GlyphRenderer\"},{\"attributes\":{\"coordinates\":null,\"dimension\":\"height\",\"group\":null,\"line_width\":0.5,\"location\":2.5},\"id\":\"1251\",\"type\":\"Span\"},{\"attributes\":{\"fill_alpha\":{\"value\":0.2},\"fill_color\":{\"value\":\"#1EA087\"},\"hatch_alpha\":{\"value\":0.2},\"line_alpha\":{\"value\":0.2},\"line_color\":{\"value\":\"#1EA087\"},\"size\":{\"value\":10},\"x\":{\"field\":\"x\"},\"y\":{\"field\":\"y\"}},\"id\":\"1143\",\"type\":\"Circle\"},{\"attributes\":{\"coordinates\":null,\"dimension\":\"height\",\"group\":null,\"line_width\":0.5,\"location\":3.0},\"id\":\"1252\",\"type\":\"Span\"},{\"attributes\":{\"callback\":null,\"renderers\":[{\"id\":\"1443\"}],\"tooltips\":[[\"Numerator\",\"@Numerator\"],[\"Denominator\",\"@Denominator\"],[\"grid_index\",\"@grid_index\"]]},\"id\":\"1459\",\"type\":\"HoverTool\"},{\"attributes\":{\"label\":{\"value\":\"Time Signature\"},\"renderers\":[{\"id\":\"1443\"}]},\"id\":\"1458\",\"type\":\"LegendItem\"},{\"attributes\":{\"callback\":null,\"renderers\":[{\"id\":\"1583\"}],\"tooltips\":[[\"tempo\",\"@tempo\"],[\"grid_index\",\"@grid_index\"]]},\"id\":\"1597\",\"type\":\"HoverTool\"},{\"attributes\":{\"overlay\":{\"id\":\"1831\"}},\"id\":\"1827\",\"type\":\"BoxZoomTool\"},{\"attributes\":{\"label\":{\"value\":\"Piano Roll\"},\"renderers\":[{\"id\":\"2166\"}]},\"id\":\"2180\",\"type\":\"LegendItem\"},{\"attributes\":{},\"id\":\"1134\",\"type\":\"Selection\"},{\"attributes\":{},\"id\":\"2285\",\"type\":\"UnionRenderers\"},{\"attributes\":{\"data\":{\"bottom\":{\"__ndarray__\":\"mpmZmZmZyb9mZmZmZmYGQJqZmZmZmcm/zczMzMzM/D+amZmZmZnJv2ZmZmZmZgZAmpmZmZmZyb+amZmZmZnpP83MzMzMzPw/mpmZmZmZyb9mZmZmZmYGQJqZmZmZmcm/zczMzMzM/D+amZmZmZnJv2ZmZmZmZgZAmpmZmZmZyb+amZmZmZnpP2ZmZmZmZgZAmpmZmZmZyb/NzMzMzMz8P2ZmZmZmZgZAmpmZmZmZyb/NzMzMzMz8P5qZmZmZmcm/ZmZmZmZmBkCamZmZmZnJv5qZmZmZmek/zczMzMzM/D+amZmZmZnJv5qZmZmZmek/ZmZmZmZmBkCamZmZmZnJv83MzMzMzPw/mpmZmZmZyb9mZmZmZmYGQJqZmZmZmcm/zczMzMzM/D+amZmZmZnJv5qZmZmZmek/zczMzMzM/D9mZmZmZmYGQJqZmZmZmcm/zczMzMzM/D+amZmZmZnJv2ZmZmZmZgZAmpmZmZmZyb/NzMzMzMz8P5qZmZmZmcm/mpmZmZmZ6T9mZmZmZmYGQJqZmZmZmcm/zczMzMzM/D+amZmZmZnJv2ZmZmZmZgZAmpmZmZmZyb/NzMzMzMz8P5qZmZmZmcm/mpmZmZmZ6T/NzMzMzMz8P2ZmZmZmZgZAmpmZmZmZyb/NzMzMzMz8P5qZmZmZmcm/ZmZmZmZmBkCamZmZmZnJv83MzMzMzPw/mpmZmZmZyb+amZmZmZnpP2ZmZmZmZgZAmpmZmZmZyb/NzMzMzMz8P5qZmZmZmcm/ZmZmZmZmBkCamZmZmZnJv2ZmZmZmZgZA\",\"dtype\":\"float64\",\"order\":\"little\",\"shape\":[75]},\"end\":[0.017,0.017,0.130625,0.130625,0.26475,0.26475,0.41025,0.494375,0.41025,0.53975,0.53975,0.66025,0.66025,0.7875,0.7875,0.91475,0.992,0.91475,1.0375,1.0511249999999999,1.0375,1.171625,1.171625,1.271625,1.271625,1.417,1.428375,1.417,1.5125,1.5125,1.53975,1.676125,1.676125,1.7875,1.7875,1.919375,1.919375,2.001125,2.001125,2.058,2.0306249999999997,2.173875,2.173875,2.283,2.283,2.426125,2.426125,2.505625,2.505625,2.544375,2.692,2.692,2.801125,2.801125,2.9375,2.9375,3.008,3.008,3.069375,3.053375,3.173875,3.173875,3.298875,3.298875,3.405625,3.405625,3.553375,3.553375,3.555625,3.673875,3.673875,3.803375,3.803375,3.923875,3.923875],\"grid_line\":[0,0,1,1,2,2,3,3,3,4,4,5,5,6,6,7,7,7,8,8,8,9,9,10,10,11,11,11,12,12,12,13,13,14,14,15,15,16,16,16,16,17,17,18,18,19,19,20,20,20,21,21,22,22,23,23,24,24,24,24,25,25,26,26,27,27,28,28,28,29,29,30,30,31,31],\"instrument\":[\"stream_0\",\"stream_3\",\"stream_0\",\"stream_2\",\"stream_0\",\"stream_3\",\"stream_0\",\"stream_1\",\"stream_2\",\"stream_0\",\"stream_3\",\"stream_0\",\"stream_2\",\"stream_0\",\"stream_3\",\"stream_0\",\"stream_1\",\"stream_3\",\"stream_0\",\"stream_2\",\"stream_3\",\"stream_0\",\"stream_2\",\"stream_0\",\"stream_3\",\"stream_0\",\"stream_1\",\"stream_2\",\"stream_0\",\"stream_1\",\"stream_3\",\"stream_0\",\"stream_2\",\"stream_0\",\"stream_3\",\"stream_0\",\"stream_2\",\"stream_0\",\"stream_1\",\"stream_2\",\"stream_3\",\"stream_0\",\"stream_2\",\"stream_0\",\"stream_3\",\"stream_0\",\"stream_2\",\"stream_0\",\"stream_1\",\"stream_3\",\"stream_0\",\"stream_2\",\"stream_0\",\"stream_3\",\"stream_0\",\"stream_2\",\"stream_0\",\"stream_1\",\"stream_2\",\"stream_3\",\"stream_0\",\"stream_2\",\"stream_0\",\"stream_3\",\"stream_0\",\"stream_2\",\"stream_0\",\"stream_1\",\"stream_3\",\"stream_0\",\"stream_2\",\"stream_0\",\"stream_3\",\"stream_0\",\"stream_3\"],\"midi\":[36,46,36,42,36,46,36,38,42,36,46,36,42,36,46,36,38,46,36,42,46,36,42,36,46,36,38,42,36,38,46,36,42,36,46,36,42,36,38,42,46,36,42,36,46,36,42,36,38,46,36,42,36,46,36,42,36,38,42,46,36,42,36,46,36,42,36,38,46,36,42,36,46,36,46],\"offset\":[-0.364,-0.364,-0.455,-0.455,-0.382,-0.382,-0.218,0.455,-0.218,-0.182,-0.182,-0.218,-0.218,-0.2,-0.2,-0.182,0.436,-0.182,-0.2,-0.091,-0.2,-0.127,-0.127,-0.327,-0.327,-0.164,-0.073,-0.164,-0.4,-0.4,-0.182,-0.091,-0.091,-0.2,-0.2,-0.145,-0.145,-0.491,-0.491,-0.036,-0.255,-0.109,-0.109,-0.236,-0.236,-0.091,-0.091,-0.455,-0.455,-0.145,0.036,0.036,-0.091,-0.091,0.0,0.0,-0.436,-0.436,0.055,-0.073,-0.109,-0.109,-0.109,-0.109,-0.255,-0.255,-0.073,-0.073,-0.055,-0.109,-0.109,-0.073,-0.073,-0.109,-0.109],\"offset_sec\":[-0.046,-0.046,-0.057,-0.057,-0.048,-0.048,-0.027,0.057,-0.027,-0.023,-0.023,-0.027,-0.027,-0.025,-0.025,-0.023,0.054,-0.023,-0.025,-0.011,-0.025,-0.016,-0.016,-0.041,-0.041,-0.02,-0.009,-0.02,-0.05,-0.05,-0.023,-0.011,-0.011,-0.025,-0.025,-0.018,-0.018,-0.061,-0.061,-0.004,-0.032,-0.014,-0.014,-0.03,-0.03,-0.011,-0.011,-0.057,-0.057,-0.018,0.004,0.004,-0.011,-0.011,0.0,0.0,-0.054,-0.054,0.007,-0.009,-0.014,-0.014,-0.014,-0.014,-0.032,-0.032,-0.009,-0.009,-0.007,-0.014,-0.014,-0.009,-0.009,-0.014,-0.014],\"start\":[-0.0455,-0.0455,0.06812499999999999,0.06812499999999999,0.20224999999999999,0.20224999999999999,0.34775,0.431875,0.34775,0.47725,0.47725,0.59775,0.59775,0.725,0.725,0.85225,0.9295,0.85225,0.975,0.988625,0.975,1.109125,1.109125,1.209125,1.209125,1.3545,1.365875,1.3545,1.45,1.45,1.47725,1.613625,1.613625,1.725,1.725,1.856875,1.856875,1.938625,1.938625,1.9955,1.968125,2.111375,2.111375,2.2205,2.2205,2.363625,2.363625,2.443125,2.443125,2.481875,2.6295,2.6295,2.738625,2.738625,2.875,2.875,2.9455,2.9455,3.006875,2.990875,3.111375,3.111375,3.236375,3.236375,3.343125,3.343125,3.490875,3.490875,3.493125,3.611375,3.611375,3.740875,3.740875,3.861375,3.861375],\"top\":{\"__ndarray__\":\"mpmZmZmZyT+amZmZmZkJQJqZmZmZmck/mpmZmZmZAUCamZmZmZnJP5qZmZmZmQlAmpmZmZmZyT8zMzMzMzPzP5qZmZmZmQFAmpmZmZmZyT+amZmZmZkJQJqZmZmZmck/mpmZmZmZAUCamZmZmZnJP5qZmZmZmQlAmpmZmZmZyT8zMzMzMzPzP5qZmZmZmQlAmpmZmZmZyT+amZmZmZkBQJqZmZmZmQlAmpmZmZmZyT+amZmZmZkBQJqZmZmZmck/mpmZmZmZCUCamZmZmZnJPzMzMzMzM/M/mpmZmZmZAUCamZmZmZnJPzMzMzMzM/M/mpmZmZmZCUCamZmZmZnJP5qZmZmZmQFAmpmZmZmZyT+amZmZmZkJQJqZmZmZmck/mpmZmZmZAUCamZmZmZnJPzMzMzMzM/M/mpmZmZmZAUCamZmZmZkJQJqZmZmZmck/mpmZmZmZAUCamZmZmZnJP5qZmZmZmQlAmpmZmZmZyT+amZmZmZkBQJqZmZmZmck/MzMzMzMz8z+amZmZmZkJQJqZmZmZmck/mpmZmZmZAUCamZmZmZnJP5qZmZmZmQlAmpmZmZmZyT+amZmZmZkBQJqZmZmZmck/MzMzMzMz8z+amZmZmZkBQJqZmZmZmQlAmpmZmZmZyT+amZmZmZkBQJqZmZmZmck/mpmZmZmZCUCamZmZmZnJP5qZmZmZmQFAmpmZmZmZyT8zMzMzMzPzP5qZmZmZmQlAmpmZmZmZyT+amZmZmZkBQJqZmZmZmck/mpmZmZmZCUCamZmZmZnJP5qZmZmZmQlA\",\"dtype\":\"float64\",\"order\":\"little\",\"shape\":[75]},\"velocity\":[0.827,0.827,0.354,0.354,0.961,0.961,0.354,0.213,0.354,1.0,1.0,0.394,0.394,0.591,0.591,0.78,0.236,0.78,1.0,0.37,1.0,0.433,0.433,1.0,1.0,0.512,0.323,0.512,0.213,0.213,0.89,0.378,0.378,0.787,0.787,0.543,0.543,0.213,0.213,0.386,1.0,0.528,0.528,0.921,0.921,0.48,0.48,0.197,0.197,1.0,0.449,0.449,0.787,0.787,0.48,0.48,0.213,0.213,0.535,1.0,0.402,0.402,0.969,0.969,0.417,0.417,0.236,0.236,0.921,0.496,0.496,0.929,0.929,0.685,0.685],\"voice_index\":[0,3,0,2,0,3,0,1,2,0,3,0,2,0,3,0,1,3,0,2,3,0,2,0,3,0,1,2,0,1,3,0,2,0,3,0,2,0,1,2,3,0,2,0,3,0,2,0,1,3,0,2,0,3,0,2,0,1,2,3,0,2,0,3,0,2,0,1,3,0,2,0,3,0,3]},\"selected\":{\"id\":\"1855\"},\"selection_policy\":{\"id\":\"1854\"}},\"id\":\"1839\",\"type\":\"ColumnDataSource\"},{\"attributes\":{\"coordinates\":null,\"dimension\":\"height\",\"group\":null,\"line_width\":0.5,\"location\":3.5},\"id\":\"1253\",\"type\":\"Span\"},{\"attributes\":{\"data\":{\"bpm\":[\"120\"],\"collection\":[\"groove_midi\"],\"genre\":[\"dance-disco\"],\"grouping\":[\"velocity\"],\"member\":[\"high\"],\"meter\":[\"4-4\"],\"sample_id\":[\"6_dance-disco_120_beat_4-4\"],\"source\":[\"GrooveMIDI\"],\"start_bar\":[76],\"stream_0\":[\"groove\"],\"stream_1\":[\"low\"],\"stream_2\":[\"mid\"],\"stream_3\":[\"high\"],\"track_number\":[\"6\"],\"x\":[0.0],\"y\":[3.5]},\"selected\":{\"id\":\"1159\"},\"selection_policy\":{\"id\":\"1158\"}},\"id\":\"1139\",\"type\":\"ColumnDataSource\"},{\"attributes\":{\"label\":{\"value\":\"Tempo\"},\"renderers\":[{\"id\":\"1583\"}]},\"id\":\"1596\",\"type\":\"LegendItem\"},{\"attributes\":{\"fill_color\":{\"value\":\"#1EA087\"},\"line_color\":{\"value\":\"#1EA087\"},\"size\":{\"value\":10},\"x\":{\"field\":\"x\"},\"y\":{\"field\":\"y\"}},\"id\":\"1141\",\"type\":\"Circle\"},{\"attributes\":{\"data\":{\"Denominator\":[4],\"Numerator\":[4],\"grid_index\":[0],\"x\":[0.0],\"y\":[4]},\"selected\":{\"id\":\"1617\"},\"selection_policy\":{\"id\":\"1616\"}},\"id\":\"1599\",\"type\":\"ColumnDataSource\"},{\"attributes\":{\"data\":{\"bottom\":{\"__ndarray__\":\"mpmZmZmZyb/NzMzMzMz8P2ZmZmZmZgZAmpmZmZmZyb/NzMzMzMz8P5qZmZmZmcm/ZmZmZmZmBkCamZmZmZnJv83MzMzMzPw/mpmZmZmZyb+amZmZmZnpP2ZmZmZmZgZAmpmZmZmZyb/NzMzMzMz8P5qZmZmZmcm/zczMzMzM/D+amZmZmZnJv5qZmZmZmek/ZmZmZmZmBkCamZmZmZnJv2ZmZmZmZgZAmpmZmZmZyb/NzMzMzMz8P5qZmZmZmcm/ZmZmZmZmBkCamZmZmZnJv5qZmZmZmek/ZmZmZmZmBkCamZmZmZnJv2ZmZmZmZgZAmpmZmZmZyb/NzMzMzMz8P5qZmZmZmcm/ZmZmZmZmBkCamZmZmZnJv5qZmZmZmek/zczMzMzM/D+amZmZmZnJv2ZmZmZmZgZAmpmZmZmZyb/NzMzMzMz8P5qZmZmZmcm/ZmZmZmZmBkCamZmZmZnJv5qZmZmZmek/zczMzMzM/D+amZmZmZnJv2ZmZmZmZgZAmpmZmZmZyb/NzMzMzMz8P5qZmZmZmcm/ZmZmZmZmBkCamZmZmZnJv5qZmZmZmek/ZmZmZmZmBkCamZmZmZnJv83MzMzMzPw/ZmZmZmZmBkCamZmZmZnJv83MzMzMzPw/mpmZmZmZyb9mZmZmZmYGQJqZmZmZmcm/mpmZmZmZ6T/NzMzMzMz8P5qZmZmZmcm/mpmZmZmZ6T9mZmZmZmYGQJqZmZmZmcm/zczMzMzM/D+amZmZmZnJv2ZmZmZmZgZAmpmZmZmZyb/NzMzMzMz8Pw==\",\"dtype\":\"float64\",\"order\":\"little\",\"shape\":[74]},\"end\":[0.033,0.044375,0.033,0.1625,0.1625,0.28300000000000003,0.28300000000000003,0.41025,0.41025,0.501125,0.501125,0.542,0.66025,0.66025,0.780625,0.780625,0.9125,0.992,0.9125,1.03525,1.03525,1.153375,1.153375,1.273875,1.273875,1.396625,1.48975,1.396625,1.53525,1.53525,1.66475,1.66475,1.776125,1.776125,1.880625,1.992,1.880625,2.017,2.017,2.130625,2.130625,2.26475,2.26475,2.41025,2.494375,2.41025,2.53975,2.53975,2.66025,2.66025,2.7875,2.7875,2.91475,2.992,2.91475,3.0375,3.051125,3.0375,3.171625,3.171625,3.271625,3.271625,3.417,3.428375,3.417,3.5125,3.5125,3.53975,3.676125,3.676125,3.7875,3.7875,3.919375,3.919375],\"grid_line\":[0,0,0,1,1,2,2,3,3,4,4,4,5,5,6,6,7,7,7,8,8,9,9,10,10,11,11,11,12,12,13,13,14,14,15,15,15,16,16,17,17,18,18,19,19,19,20,20,21,21,22,22,23,23,23,24,24,24,25,25,26,26,27,27,27,28,28,28,29,29,30,30,31,31],\"instrument\":[\"stream_0\",\"stream_2\",\"stream_3\",\"stream_0\",\"stream_2\",\"stream_0\",\"stream_3\",\"stream_0\",\"stream_2\",\"stream_0\",\"stream_1\",\"stream_3\",\"stream_0\",\"stream_2\",\"stream_0\",\"stream_2\",\"stream_0\",\"stream_1\",\"stream_3\",\"stream_0\",\"stream_3\",\"stream_0\",\"stream_2\",\"stream_0\",\"stream_3\",\"stream_0\",\"stream_1\",\"stream_3\",\"stream_0\",\"stream_3\",\"stream_0\",\"stream_2\",\"stream_0\",\"stream_3\",\"stream_0\",\"stream_1\",\"stream_2\",\"stream_0\",\"stream_3\",\"stream_0\",\"stream_2\",\"stream_0\",\"stream_3\",\"stream_0\",\"stream_1\",\"stream_2\",\"stream_0\",\"stream_3\",\"stream_0\",\"stream_2\",\"stream_0\",\"stream_3\",\"stream_0\",\"stream_1\",\"stream_3\",\"stream_0\",\"stream_2\",\"stream_3\",\"stream_0\",\"stream_2\",\"stream_0\",\"stream_3\",\"stream_0\",\"stream_1\",\"stream_2\",\"stream_0\",\"stream_1\",\"stream_3\",\"stream_0\",\"stream_2\",\"stream_0\",\"stream_3\",\"stream_0\",\"stream_2\"],\"midi\":[36,42,46,36,42,36,46,36,42,36,38,46,36,42,36,42,36,38,46,36,46,36,42,36,46,36,38,46,36,46,36,42,36,46,36,38,42,36,46,36,42,36,46,36,38,42,36,46,36,42,36,46,36,38,46,36,42,46,36,42,36,46,36,38,42,36,38,46,36,42,36,46,36,42],\"offset\":[-0.236,-0.145,-0.236,-0.2,-0.2,-0.236,-0.236,-0.218,-0.218,-0.491,-0.491,-0.164,-0.218,-0.218,-0.255,-0.255,-0.2,0.436,-0.2,-0.218,-0.218,-0.273,-0.273,-0.309,-0.309,-0.327,0.418,-0.327,-0.218,-0.218,-0.182,-0.182,-0.291,-0.291,-0.455,0.436,-0.455,-0.364,-0.364,-0.455,-0.455,-0.382,-0.382,-0.218,0.455,-0.218,-0.182,-0.182,-0.218,-0.218,-0.2,-0.2,-0.182,0.436,-0.182,-0.2,-0.091,-0.2,-0.127,-0.127,-0.327,-0.327,-0.164,-0.073,-0.164,-0.4,-0.4,-0.182,-0.091,-0.091,-0.2,-0.2,-0.145,-0.145],\"offset_sec\":[-0.03,-0.018,-0.03,-0.025,-0.025,-0.03,-0.03,-0.027,-0.027,-0.061,-0.061,-0.02,-0.027,-0.027,-0.032,-0.032,-0.025,0.054,-0.025,-0.027,-0.027,-0.034,-0.034,-0.039,-0.039,-0.041,0.052,-0.041,-0.027,-0.027,-0.023,-0.023,-0.036,-0.036,-0.057,0.054,-0.057,-0.046,-0.046,-0.057,-0.057,-0.048,-0.048,-0.027,0.057,-0.027,-0.023,-0.023,-0.027,-0.027,-0.025,-0.025,-0.023,0.054,-0.023,-0.025,-0.011,-0.025,-0.016,-0.016,-0.041,-0.041,-0.02,-0.009,-0.02,-0.05,-0.05,-0.023,-0.011,-0.011,-0.025,-0.025,-0.018,-0.018],\"start\":[-0.0295,-0.018125,-0.0295,0.1,0.1,0.2205,0.2205,0.34775,0.34775,0.438625,0.438625,0.4795,0.59775,0.59775,0.718125,0.718125,0.85,0.9295,0.85,0.97275,0.97275,1.090875,1.090875,1.211375,1.211375,1.334125,1.42725,1.334125,1.47275,1.47275,1.60225,1.60225,1.713625,1.713625,1.818125,1.9295,1.818125,1.9545,1.9545,2.068125,2.068125,2.20225,2.20225,2.34775,2.431875,2.34775,2.47725,2.47725,2.59775,2.59775,2.725,2.725,2.85225,2.9295,2.85225,2.975,2.988625,2.975,3.109125,3.109125,3.209125,3.209125,3.3545,3.365875,3.3545,3.45,3.45,3.47725,3.613625,3.613625,3.725,3.725,3.856875,3.856875],\"top\":{\"__ndarray__\":\"mpmZmZmZyT+amZmZmZkBQJqZmZmZmQlAmpmZmZmZyT+amZmZmZkBQJqZmZmZmck/mpmZmZmZCUCamZmZmZnJP5qZmZmZmQFAmpmZmZmZyT8zMzMzMzPzP5qZmZmZmQlAmpmZmZmZyT+amZmZmZkBQJqZmZmZmck/mpmZmZmZAUCamZmZmZnJPzMzMzMzM/M/mpmZmZmZCUCamZmZmZnJP5qZmZmZmQlAmpmZmZmZyT+amZmZmZkBQJqZmZmZmck/mpmZmZmZCUCamZmZmZnJPzMzMzMzM/M/mpmZmZmZCUCamZmZmZnJP5qZmZmZmQlAmpmZmZmZyT+amZmZmZkBQJqZmZmZmck/mpmZmZmZCUCamZmZmZnJPzMzMzMzM/M/mpmZmZmZAUCamZmZmZnJP5qZmZmZmQlAmpmZmZmZyT+amZmZmZkBQJqZmZmZmck/mpmZmZmZCUCamZmZmZnJPzMzMzMzM/M/mpmZmZmZAUCamZmZmZnJP5qZmZmZmQlAmpmZmZmZyT+amZmZmZkBQJqZmZmZmck/mpmZmZmZCUCamZmZmZnJPzMzMzMzM/M/mpmZmZmZCUCamZmZmZnJP5qZmZmZmQFAmpmZmZmZCUCamZmZmZnJP5qZmZmZmQFAmpmZmZmZyT+amZmZmZkJQJqZmZmZmck/MzMzMzMz8z+amZmZmZkBQJqZmZmZmck/MzMzMzMz8z+amZmZmZkJQJqZmZmZmck/mpmZmZmZAUCamZmZmZnJP5qZmZmZmQlAmpmZmZmZyT+amZmZmZkBQA==\",\"dtype\":\"float64\",\"order\":\"little\",\"shape\":[74]},\"velocity\":[1.0,0.543,1.0,0.496,0.496,1.0,1.0,0.496,0.496,0.213,0.213,1.0,0.433,0.433,0.512,0.512,0.677,0.197,0.677,1.0,1.0,0.386,0.386,0.78,0.78,1.0,0.213,1.0,1.0,1.0,0.402,0.402,0.669,0.669,0.535,0.236,0.535,0.827,0.827,0.354,0.354,0.961,0.961,0.354,0.213,0.354,1.0,1.0,0.394,0.394,0.591,0.591,0.78,0.236,0.78,1.0,0.37,1.0,0.433,0.433,1.0,1.0,0.512,0.323,0.512,0.213,0.213,0.89,0.378,0.378,0.787,0.787,0.543,0.543],\"voice_index\":[0,2,3,0,2,0,3,0,2,0,1,3,0,2,0,2,0,1,3,0,3,0,2,0,3,0,1,3,0,3,0,2,0,3,0,1,2,0,3,0,2,0,3,0,1,2,0,3,0,2,0,3,0,1,3,0,2,3,0,2,0,3,0,1,2,0,1,3,0,2,0,3,0,2]},\"selected\":{\"id\":\"1694\"},\"selection_policy\":{\"id\":\"1693\"}},\"id\":\"1678\",\"type\":\"ColumnDataSource\"},{\"attributes\":{\"fill_alpha\":{\"value\":0.2},\"fill_color\":{\"value\":\"#1EA087\"},\"hatch_alpha\":{\"value\":0.2},\"line_alpha\":{\"value\":0.2},\"line_color\":{\"value\":\"#1EA087\"},\"size\":{\"value\":10},\"x\":{\"field\":\"x\"},\"y\":{\"field\":\"y\"}},\"id\":\"1465\",\"type\":\"Circle\"},{\"attributes\":{\"fill_alpha\":{\"value\":0.2},\"fill_color\":{\"value\":\"#70CE56\"},\"hatch_alpha\":{\"value\":0.2},\"line_alpha\":{\"value\":0.2},\"line_color\":{\"value\":\"#70CE56\"},\"size\":{\"value\":10},\"x\":{\"field\":\"x\"},\"y\":{\"field\":\"y\"}},\"id\":\"1281\",\"type\":\"Circle\"},{\"attributes\":{},\"id\":\"1455\",\"type\":\"UnionRenderers\"},{\"attributes\":{\"coordinates\":null,\"dimension\":\"height\",\"group\":null,\"line_width\":0.1,\"location\":0.875},\"id\":\"1386\",\"type\":\"Span\"},{\"attributes\":{\"bottom\":{\"field\":\"bottom\"},\"fill_alpha\":{\"value\":0.2},\"fill_color\":{\"value\":\"grey\"},\"hatch_alpha\":{\"value\":0.2},\"left\":{\"field\":\"start\"},\"line_alpha\":{\"value\":0.2},\"line_color\":{\"value\":\"grey\"},\"right\":{\"field\":\"end\"},\"top\":{\"field\":\"top\"}},\"id\":\"2165\",\"type\":\"Quad\"},{\"attributes\":{\"background_fill_alpha\":0.25,\"border_line_alpha\":0,\"click_policy\":\"hide\",\"coordinates\":null,\"glyph_width\":15,\"group\":null,\"items\":[{\"id\":\"2180\"},{\"id\":\"2240\"},{\"id\":\"2263\"},{\"id\":\"2288\"}],\"label_standoff\":8,\"label_text_color\":\"#5B5B5B\",\"label_text_font\":\"Calibri Light\",\"label_text_font_size\":\"0.95em\",\"label_text_font_style\":\"bold\",\"spacing\":8},\"id\":\"2179\",\"type\":\"Legend\"},{\"attributes\":{\"fill_alpha\":{\"value\":0.1},\"fill_color\":{\"value\":\"#1EA087\"},\"hatch_alpha\":{\"value\":0.1},\"line_alpha\":{\"value\":0.1},\"line_color\":{\"value\":\"#1EA087\"},\"size\":{\"value\":10},\"x\":{\"field\":\"x\"},\"y\":{\"field\":\"y\"}},\"id\":\"1142\",\"type\":\"Circle\"},{\"attributes\":{\"data\":{\"bpm\":[\"120\"],\"collection\":[\"groove_midi\"],\"genre\":[\"dance-disco\"],\"grouping\":[\"velocity\"],\"member\":[\"high\"],\"meter\":[\"4-4\"],\"sample_id\":[\"6_dance-disco_120_beat_4-4\"],\"source\":[\"GrooveMIDI\"],\"start_bar\":[78],\"stream_0\":[\"groove\"],\"stream_1\":[\"low\"],\"stream_2\":[\"mid\"],\"stream_3\":[\"high\"],\"track_number\":[\"6\"],\"x\":[0.0],\"y\":[3.5]},\"selected\":{\"id\":\"1481\"},\"selection_policy\":{\"id\":\"1480\"}},\"id\":\"1461\",\"type\":\"ColumnDataSource\"},{\"attributes\":{\"end\":4.2625,\"start\":-0.3875},\"id\":\"1648\",\"type\":\"DataRange1d\"},{\"attributes\":{\"coordinates\":null,\"dimension\":\"height\",\"group\":null,\"line_width\":0.1,\"location\":0.25},\"id\":\"2026\",\"type\":\"Span\"},{\"attributes\":{\"fill_color\":{\"value\":\"#1EA087\"},\"line_color\":{\"value\":\"#1EA087\"},\"size\":{\"value\":10},\"x\":{\"field\":\"x\"},\"y\":{\"field\":\"y\"}},\"id\":\"1463\",\"type\":\"Circle\"},{\"attributes\":{\"tools\":[{\"id\":\"2147\"},{\"id\":\"2148\"},{\"id\":\"2149\"},{\"id\":\"2150\"},{\"id\":\"2151\"},{\"id\":\"2152\"},{\"id\":\"2181\"},{\"id\":\"2241\"},{\"id\":\"2264\"},{\"id\":\"2289\"}]},\"id\":\"2154\",\"type\":\"Toolbar\"},{\"attributes\":{\"callback\":null,\"renderers\":[{\"id\":\"1361\"}],\"tooltips\":[[\"start\",\"@start\"],[\"end\",\"@end\"],[\"instrument\",\"@instrument\"],[\"voice_index\",\"@voice_index\"],[\"midi\",\"@midi\"],[\"velocity\",\"@velocity\"],[\"offset\",\"@offset\"],[\"offset_sec\",\"@offset_sec\"],[\"grid_line\",\"@grid_line\"]]},\"id\":\"1376\",\"type\":\"HoverTool\"},{\"attributes\":{\"data\":{\"bottom\":{\"__ndarray__\":\"mpmZmZmZyb+amZmZmZnpP83MzMzMzPw/ZmZmZmZmBkCamZmZmZnJv2ZmZmZmZgZAmpmZmZmZyb9mZmZmZmYGQJqZmZmZmcm/zczMzMzM/D+amZmZmZnJv5qZmZmZmek/ZmZmZmZmBkCamZmZmZnJv83MzMzMzPw/mpmZmZmZyb9mZmZmZmYGQJqZmZmZmcm/ZmZmZmZmBkCamZmZmZnJv5qZmZmZmek/zczMzMzM/D9mZmZmZmYGQJqZmZmZmcm/ZmZmZmZmBkCamZmZmZnJv2ZmZmZmZgZAmpmZmZmZyb9mZmZmZmYGQJqZmZmZmcm/mpmZmZmZ6T9mZmZmZmYGQJqZmZmZmcm/ZmZmZmZmBkCamZmZmZnJv2ZmZmZmZgZAmpmZmZmZyb/NzMzMzMz8P5qZmZmZmcm/mpmZmZmZ6T9mZmZmZmYGQJqZmZmZmcm/ZmZmZmZmBkCamZmZmZnJv5qZmZmZmek/ZmZmZmZmBkCamZmZmZnJv5qZmZmZmek/mpmZmZmZyb+amZmZmZnpP2ZmZmZmZgZAmpmZmZmZyb/NzMzMzMz8P5qZmZmZmcm/mpmZmZmZ6T/NzMzMzMz8P2ZmZmZmZgZAmpmZmZmZyb/NzMzMzMz8P5qZmZmZmcm/ZmZmZmZmBkCamZmZmZnJv83MzMzMzPw/mpmZmZmZyb+amZmZmZnpP2ZmZmZmZgZAmpmZmZmZyb/NzMzMzMz8P5qZmZmZmcm/ZmZmZmZmBkCamZmZmZnJv83MzMzMzPw/ZmZmZmZmBkA=\",\"dtype\":\"float64\",\"order\":\"little\",\"shape\":[73]},\"end\":[0.023875,0.023875,0.051125000000000004,0.0375,0.16699999999999998,0.16699999999999998,0.296625,0.296625,0.428375,0.428375,0.542,0.542,0.553375,0.68975,0.68975,0.796625,0.796625,0.930625,0.930625,1.028375,1.028375,1.06025,1.0625,1.180625,1.180625,1.3125,1.3125,1.428375,1.428375,1.519375,1.519375,1.548875,1.671625,1.671625,1.794375,1.794375,1.903375,1.903375,2.017,2.017,2.03525,2.278375,2.278375,2.519375,2.519375,2.555625,2.733,2.733,2.792,2.792,2.803375,2.9125,2.9125,3.01025,3.01025,3.06475,3.0625,3.169375,3.169375,3.296625,3.296625,3.41475,3.41475,3.528375,3.528375,3.555625,3.6875,3.6875,3.796625,3.796625,3.923875,3.930625,3.923875],\"grid_line\":[0,0,0,0,1,1,2,2,3,3,4,4,4,5,5,6,6,7,7,8,8,8,8,9,9,10,10,11,11,12,12,12,13,13,14,14,15,15,16,16,16,18,18,20,20,20,21,21,22,22,22,23,23,24,24,24,24,25,25,26,26,27,27,28,28,28,29,29,30,30,31,31,31],\"instrument\":[\"stream_0\",\"stream_1\",\"stream_2\",\"stream_3\",\"stream_0\",\"stream_3\",\"stream_0\",\"stream_3\",\"stream_0\",\"stream_2\",\"stream_0\",\"stream_1\",\"stream_3\",\"stream_0\",\"stream_2\",\"stream_0\",\"stream_3\",\"stream_0\",\"stream_3\",\"stream_0\",\"stream_1\",\"stream_2\",\"stream_3\",\"stream_0\",\"stream_3\",\"stream_0\",\"stream_3\",\"stream_0\",\"stream_3\",\"stream_0\",\"stream_1\",\"stream_3\",\"stream_0\",\"stream_3\",\"stream_0\",\"stream_3\",\"stream_0\",\"stream_2\",\"stream_0\",\"stream_1\",\"stream_3\",\"stream_0\",\"stream_3\",\"stream_0\",\"stream_1\",\"stream_3\",\"stream_0\",\"stream_1\",\"stream_0\",\"stream_1\",\"stream_3\",\"stream_0\",\"stream_2\",\"stream_0\",\"stream_1\",\"stream_2\",\"stream_3\",\"stream_0\",\"stream_2\",\"stream_0\",\"stream_3\",\"stream_0\",\"stream_2\",\"stream_0\",\"stream_1\",\"stream_3\",\"stream_0\",\"stream_2\",\"stream_0\",\"stream_3\",\"stream_0\",\"stream_2\",\"stream_3\"],\"midi\":[36,38,42,46,36,46,36,46,36,42,36,38,46,36,42,36,46,36,46,36,38,42,46,36,46,36,46,36,46,36,38,46,36,46,36,46,36,42,36,38,46,36,46,36,38,46,36,38,36,38,46,36,42,36,38,42,46,36,42,36,46,36,42,36,38,46,36,42,36,46,36,42,46],\"offset\":[-0.309,-0.309,-0.091,-0.2,-0.164,-0.164,-0.127,-0.127,-0.073,-0.073,-0.164,-0.164,-0.073,0.018,0.018,-0.127,-0.127,-0.055,-0.055,-0.273,-0.273,-0.018,0.0,-0.055,-0.055,0.0,0.0,-0.073,-0.073,-0.345,-0.345,-0.109,-0.127,-0.127,-0.145,-0.145,-0.273,-0.273,-0.364,-0.364,-0.218,-0.273,-0.273,-0.345,-0.345,-0.055,0.364,0.364,-0.164,-0.164,-0.073,-0.2,-0.2,-0.418,-0.418,0.018,0.0,-0.145,-0.145,-0.127,-0.127,-0.182,-0.182,-0.273,-0.273,-0.055,0.0,0.0,-0.127,-0.127,-0.109,-0.055,-0.109],\"offset_sec\":[-0.039,-0.039,-0.011,-0.025,-0.02,-0.02,-0.016,-0.016,-0.009,-0.009,-0.02,-0.02,-0.009,0.002,0.002,-0.016,-0.016,-0.007,-0.007,-0.034,-0.034,-0.002,0.0,-0.007,-0.007,0.0,0.0,-0.009,-0.009,-0.043,-0.043,-0.014,-0.016,-0.016,-0.018,-0.018,-0.034,-0.034,-0.046,-0.046,-0.027,-0.034,-0.034,-0.043,-0.043,-0.007,0.046,0.046,-0.02,-0.02,-0.009,-0.025,-0.025,-0.052,-0.052,0.002,0.0,-0.018,-0.018,-0.016,-0.016,-0.023,-0.023,-0.034,-0.034,-0.007,0.0,0.0,-0.016,-0.016,-0.014,-0.007,-0.014],\"start\":[-0.038625,-0.038625,-0.011375,-0.025,0.1045,0.1045,0.234125,0.234125,0.365875,0.365875,0.4795,0.4795,0.490875,0.62725,0.62725,0.734125,0.734125,0.868125,0.868125,0.965875,0.965875,0.99775,1.0,1.118125,1.118125,1.25,1.25,1.365875,1.365875,1.456875,1.456875,1.486375,1.609125,1.609125,1.731875,1.731875,1.840875,1.840875,1.9545,1.9545,1.97275,2.215875,2.215875,2.456875,2.456875,2.493125,2.6705,2.6705,2.7295,2.7295,2.740875,2.85,2.85,2.94775,2.94775,3.00225,3.0,3.106875,3.106875,3.234125,3.234125,3.35225,3.35225,3.465875,3.465875,3.493125,3.625,3.625,3.734125,3.734125,3.861375,3.868125,3.861375],\"top\":{\"__ndarray__\":\"mpmZmZmZyT8zMzMzMzPzP5qZmZmZmQFAmpmZmZmZCUCamZmZmZnJP5qZmZmZmQlAmpmZmZmZyT+amZmZmZkJQJqZmZmZmck/mpmZmZmZAUCamZmZmZnJPzMzMzMzM/M/mpmZmZmZCUCamZmZmZnJP5qZmZmZmQFAmpmZmZmZyT+amZmZmZkJQJqZmZmZmck/mpmZmZmZCUCamZmZmZnJPzMzMzMzM/M/mpmZmZmZAUCamZmZmZkJQJqZmZmZmck/mpmZmZmZCUCamZmZmZnJP5qZmZmZmQlAmpmZmZmZyT+amZmZmZkJQJqZmZmZmck/MzMzMzMz8z+amZmZmZkJQJqZmZmZmck/mpmZmZmZCUCamZmZmZnJP5qZmZmZmQlAmpmZmZmZyT+amZmZmZkBQJqZmZmZmck/MzMzMzMz8z+amZmZmZkJQJqZmZmZmck/mpmZmZmZCUCamZmZmZnJPzMzMzMzM/M/mpmZmZmZCUCamZmZmZnJPzMzMzMzM/M/mpmZmZmZyT8zMzMzMzPzP5qZmZmZmQlAmpmZmZmZyT+amZmZmZkBQJqZmZmZmck/MzMzMzMz8z+amZmZmZkBQJqZmZmZmQlAmpmZmZmZyT+amZmZmZkBQJqZmZmZmck/mpmZmZmZCUCamZmZmZnJP5qZmZmZmQFAmpmZmZmZyT8zMzMzMzPzP5qZmZmZmQlAmpmZmZmZyT+amZmZmZkBQJqZmZmZmck/mpmZmZmZCUCamZmZmZnJP5qZmZmZmQFAmpmZmZmZCUA=\",\"dtype\":\"float64\",\"order\":\"little\",\"shape\":[73]},\"velocity\":[0.134,0.134,0.417,0.937,0.559,0.559,0.937,0.937,0.48,0.48,0.173,0.173,0.992,0.417,0.417,0.661,0.661,1.0,1.0,0.134,0.134,0.457,0.976,1.0,1.0,1.0,1.0,1.0,1.0,0.213,0.213,0.866,1.0,1.0,1.0,1.0,0.543,0.543,0.276,0.276,1.0,0.583,0.583,0.315,0.315,1.0,0.228,0.228,0.087,0.087,0.787,0.52,0.52,0.236,0.236,0.449,1.0,0.354,0.354,0.835,0.835,0.417,0.417,0.291,0.291,1.0,0.354,0.354,0.583,0.583,0.614,0.457,0.614],\"voice_index\":[0,1,2,3,0,3,0,3,0,2,0,1,3,0,2,0,3,0,3,0,1,2,3,0,3,0,3,0,3,0,1,3,0,3,0,3,0,2,0,1,3,0,3,0,1,3,0,1,0,1,3,0,2,0,1,2,3,0,2,0,3,0,2,0,1,3,0,2,0,3,0,2,3]},\"selected\":{\"id\":\"1050\"},\"selection_policy\":{\"id\":\"1049\"}},\"id\":\"1034\",\"type\":\"ColumnDataSource\"},{\"attributes\":{\"below\":[{\"id\":\"1012\"}],\"center\":[{\"id\":\"1015\"},{\"id\":\"1019\"},{\"id\":\"1052\"},{\"id\":\"1059\"},{\"id\":\"1060\"},{\"id\":\"1061\"},{\"id\":\"1062\"},{\"id\":\"1063\"},{\"id\":\"1064\"},{\"id\":\"1065\"},{\"id\":\"1066\"},{\"id\":\"1067\"},{\"id\":\"1068\"},{\"id\":\"1069\"},{\"id\":\"1070\"},{\"id\":\"1071\"},{\"id\":\"1072\"},{\"id\":\"1073\"},{\"id\":\"1074\"},{\"id\":\"1075\"},{\"id\":\"1076\"},{\"id\":\"1077\"},{\"id\":\"1078\"},{\"id\":\"1079\"},{\"id\":\"1080\"},{\"id\":\"1081\"},{\"id\":\"1082\"},{\"id\":\"1085\"},{\"id\":\"1086\"},{\"id\":\"1087\"},{\"id\":\"1088\"},{\"id\":\"1089\"},{\"id\":\"1090\"},{\"id\":\"1091\"},{\"id\":\"1092\"},{\"id\":\"1093\"},{\"id\":\"1094\"}],\"height\":400,\"left\":[{\"id\":\"1016\"}],\"renderers\":[{\"id\":\"1039\"},{\"id\":\"1100\"},{\"id\":\"1121\"},{\"id\":\"1144\"}],\"right\":[{\"id\":\"1052\"}],\"title\":{\"id\":\"1041\"},\"toolbar\":{\"id\":\"1027\"},\"width\":800,\"x_range\":{\"id\":\"1004\"},\"x_scale\":{\"id\":\"1008\"},\"y_range\":{\"id\":\"1006\"},\"y_scale\":{\"id\":\"1010\"}},\"id\":\"1003\",\"subtype\":\"Figure\",\"type\":\"Plot\"},{\"attributes\":{\"coordinates\":null,\"dimension\":\"height\",\"group\":null,\"line_width\":0.1,\"location\":1.125},\"id\":\"1387\",\"type\":\"Span\"},{\"attributes\":{\"coordinates\":null,\"dimension\":\"height\",\"group\":null,\"line_width\":0.1,\"location\":0.375},\"id\":\"2027\",\"type\":\"Span\"},{\"attributes\":{\"callback\":null,\"renderers\":[{\"id\":\"1121\"}],\"tooltips\":[[\"Numerator\",\"@Numerator\"],[\"Denominator\",\"@Denominator\"],[\"grid_index\",\"@grid_index\"]]},\"id\":\"1137\",\"type\":\"HoverTool\"},{\"attributes\":{\"coordinates\":null,\"dimension\":\"height\",\"group\":null,\"line_width\":2,\"location\":0.0},\"id\":\"1415\",\"type\":\"Span\"},{\"attributes\":{\"coordinates\":null,\"dimension\":\"height\",\"group\":null,\"line_width\":0.1,\"location\":1.375},\"id\":\"2033\",\"type\":\"Span\"},{\"attributes\":{\"coordinates\":null,\"data_source\":{\"id\":\"1139\"},\"glyph\":{\"id\":\"1141\"},\"group\":null,\"hover_glyph\":null,\"muted_glyph\":{\"id\":\"1143\"},\"nonselection_glyph\":{\"id\":\"1142\"},\"view\":{\"id\":\"1145\"}},\"id\":\"1144\",\"type\":\"GlyphRenderer\"},{\"attributes\":{\"coordinates\":null,\"dimension\":\"height\",\"group\":null,\"line_width\":0.1,\"location\":1.625},\"id\":\"1390\",\"type\":\"Span\"},{\"attributes\":{\"fill_alpha\":{\"value\":0.1},\"fill_color\":{\"value\":\"#1EA087\"},\"hatch_alpha\":{\"value\":0.1},\"line_alpha\":{\"value\":0.1},\"line_color\":{\"value\":\"#1EA087\"},\"size\":{\"value\":10},\"x\":{\"field\":\"x\"},\"y\":{\"field\":\"y\"}},\"id\":\"1464\",\"type\":\"Circle\"},{\"attributes\":{\"coordinates\":null,\"dimension\":\"height\",\"group\":null,\"line_width\":0.1,\"location\":0.875},\"id\":\"2030\",\"type\":\"Span\"},{\"attributes\":{\"ticks\":[0,1,2,3]},\"id\":\"1379\",\"type\":\"FixedTicker\"},{\"attributes\":{},\"id\":\"1158\",\"type\":\"UnionRenderers\"},{\"attributes\":{\"axis\":{\"id\":\"1656\"},\"coordinates\":null,\"grid_line_color\":null,\"group\":null,\"ticker\":null},\"id\":\"1659\",\"type\":\"Grid\"},{\"attributes\":{\"coordinates\":null,\"dimension\":\"height\",\"group\":null,\"line_width\":0.1,\"location\":1.375},\"id\":\"1389\",\"type\":\"Span\"},{\"attributes\":{\"axis\":{\"id\":\"1495\"},\"coordinates\":null,\"grid_line_color\":null,\"group\":null,\"ticker\":null},\"id\":\"1498\",\"type\":\"Grid\"},{\"attributes\":{\"coordinates\":null,\"dimension\":\"height\",\"group\":null,\"line_width\":0.1,\"location\":0.125},\"id\":\"1381\",\"type\":\"Span\"},{\"attributes\":{},\"id\":\"1654\",\"type\":\"LinearScale\"},{\"attributes\":{\"tools\":[{\"id\":\"1825\"},{\"id\":\"1826\"},{\"id\":\"1827\"},{\"id\":\"1828\"},{\"id\":\"1829\"},{\"id\":\"1830\"},{\"id\":\"1859\"},{\"id\":\"1919\"},{\"id\":\"1942\"},{\"id\":\"1967\"}]},\"id\":\"1832\",\"type\":\"Toolbar\"},{\"attributes\":{\"coordinates\":null,\"dimension\":\"height\",\"group\":null,\"line_width\":0.1,\"location\":1.125},\"id\":\"2031\",\"type\":\"Span\"},{\"attributes\":{\"coordinates\":null,\"dimension\":\"height\",\"group\":null,\"line_width\":0.1,\"location\":1.625},\"id\":\"2034\",\"type\":\"Span\"},{\"attributes\":{\"callback\":null,\"renderers\":[{\"id\":\"1144\"}],\"tooltips\":[[\"track_number\",\"@track_number\"],[\"genre\",\"@genre\"],[\"bpm\",\"@bpm\"],[\"meter\",\"@meter\"],[\"grouping\",\"@grouping\"],[\"member\",\"@member\"],[\"source\",\"@source\"],[\"stream_0\",\"@stream_0\"],[\"stream_1\",\"@stream_1\"],[\"stream_2\",\"@stream_2\"],[\"stream_3\",\"@stream_3\"],[\"start_bar\",\"@start_bar\"],[\"collection\",\"@collection\"],[\"sample_id\",\"@sample_id\"]]},\"id\":\"1162\",\"type\":\"HoverTool\"},{\"attributes\":{\"label\":{\"value\":\"Metadata\"},\"renderers\":[{\"id\":\"1144\"}]},\"id\":\"1161\",\"type\":\"LegendItem\"},{\"attributes\":{},\"id\":\"1133\",\"type\":\"UnionRenderers\"},{\"attributes\":{\"end\":5.75,\"start\":-0.5},\"id\":\"1650\",\"type\":\"Range1d\"},{\"attributes\":{\"coordinates\":null,\"dimension\":\"height\",\"group\":null,\"line_width\":0.1,\"location\":0.625},\"id\":\"1384\",\"type\":\"Span\"},{\"attributes\":{\"coordinates\":null,\"data_source\":{\"id\":\"1461\"},\"glyph\":{\"id\":\"1463\"},\"group\":null,\"hover_glyph\":null,\"muted_glyph\":{\"id\":\"1465\"},\"nonselection_glyph\":{\"id\":\"1464\"},\"view\":{\"id\":\"1467\"}},\"id\":\"1466\",\"type\":\"GlyphRenderer\"},{\"attributes\":{\"below\":[{\"id\":\"1495\"}],\"center\":[{\"id\":\"1498\"},{\"id\":\"1502\"},{\"id\":\"1535\"},{\"id\":\"1542\"},{\"id\":\"1543\"},{\"id\":\"1544\"},{\"id\":\"1545\"},{\"id\":\"1546\"},{\"id\":\"1547\"},{\"id\":\"1548\"},{\"id\":\"1549\"},{\"id\":\"1550\"},{\"id\":\"1551\"},{\"id\":\"1552\"},{\"id\":\"1553\"},{\"id\":\"1554\"},{\"id\":\"1555\"},{\"id\":\"1556\"},{\"id\":\"1557\"},{\"id\":\"1558\"},{\"id\":\"1559\"},{\"id\":\"1560\"},{\"id\":\"1561\"},{\"id\":\"1562\"},{\"id\":\"1563\"},{\"id\":\"1564\"},{\"id\":\"1565\"},{\"id\":\"1568\"},{\"id\":\"1569\"},{\"id\":\"1570\"},{\"id\":\"1571\"},{\"id\":\"1572\"},{\"id\":\"1573\"},{\"id\":\"1574\"},{\"id\":\"1575\"},{\"id\":\"1576\"},{\"id\":\"1577\"}],\"height\":400,\"left\":[{\"id\":\"1499\"}],\"renderers\":[{\"id\":\"1522\"},{\"id\":\"1583\"},{\"id\":\"1604\"},{\"id\":\"1627\"}],\"right\":[{\"id\":\"1535\"}],\"title\":{\"id\":\"1524\"},\"toolbar\":{\"id\":\"1510\"},\"width\":800,\"x_range\":{\"id\":\"1487\"},\"x_scale\":{\"id\":\"1491\"},\"y_range\":{\"id\":\"1489\"},\"y_scale\":{\"id\":\"1493\"}},\"id\":\"1486\",\"subtype\":\"Figure\",\"type\":\"Plot\"},{\"attributes\":{},\"id\":\"1159\",\"type\":\"Selection\"},{\"attributes\":{},\"id\":\"1480\",\"type\":\"UnionRenderers\"},{\"attributes\":{},\"id\":\"1652\",\"type\":\"LinearScale\"},{\"attributes\":{\"coordinates\":null,\"dimension\":\"height\",\"group\":null,\"line_width\":0.1,\"location\":0.75},\"id\":\"1385\",\"type\":\"Span\"},{\"attributes\":{\"label\":{\"value\":\"Metadata\"},\"renderers\":[{\"id\":\"1466\"}]},\"id\":\"1483\",\"type\":\"LegendItem\"},{\"attributes\":{\"coordinates\":null,\"dimension\":\"height\",\"group\":null,\"line_width\":0.1,\"location\":0.25},\"id\":\"1382\",\"type\":\"Span\"},{\"attributes\":{\"axis_label\":\"Time (sec)\",\"axis_label_standoff\":10,\"axis_label_text_color\":\"#5B5B5B\",\"axis_label_text_font\":\"Calibri Light\",\"axis_label_text_font_size\":\"1.15em\",\"axis_label_text_font_style\":\"bold\",\"axis_line_alpha\":1,\"axis_line_color\":\"#5B5B5B\",\"coordinates\":null,\"formatter\":{\"id\":\"1691\"},\"group\":null,\"major_label_orientation\":1.57,\"major_label_policy\":{\"id\":\"1692\"},\"major_label_text_color\":\"#5B5B5B\",\"major_label_text_font\":\"Calibri Light\",\"major_label_text_font_size\":\"0.95em\",\"major_label_text_font_style\":\"bold\",\"major_tick_in\":0,\"major_tick_line_alpha\":0.25,\"major_tick_line_color\":\"#5B5B5B\",\"major_tick_out\":3,\"minor_tick_line_alpha\":0.25,\"minor_tick_line_color\":\"#5B5B5B\",\"ticker\":{\"id\":\"1727\"}},\"id\":\"1656\",\"type\":\"LinearAxis\"},{\"attributes\":{\"callback\":null,\"renderers\":[{\"id\":\"1466\"}],\"tooltips\":[[\"track_number\",\"@track_number\"],[\"genre\",\"@genre\"],[\"bpm\",\"@bpm\"],[\"meter\",\"@meter\"],[\"grouping\",\"@grouping\"],[\"member\",\"@member\"],[\"source\",\"@source\"],[\"stream_0\",\"@stream_0\"],[\"stream_1\",\"@stream_1\"],[\"stream_2\",\"@stream_2\"],[\"stream_3\",\"@stream_3\"],[\"start_bar\",\"@start_bar\"],[\"collection\",\"@collection\"],[\"sample_id\",\"@sample_id\"]]},\"id\":\"1484\",\"type\":\"HoverTool\"},{\"attributes\":{\"coordinates\":null,\"dimension\":\"height\",\"group\":null,\"line_width\":0.1,\"location\":0.375},\"id\":\"1383\",\"type\":\"Span\"},{\"attributes\":{\"data\":{\"Denominator\":[4],\"Numerator\":[4],\"grid_index\":[0],\"x\":[0.0],\"y\":[4]},\"selected\":{\"id\":\"1134\"},\"selection_policy\":{\"id\":\"1133\"}},\"id\":\"1116\",\"type\":\"ColumnDataSource\"},{\"attributes\":{\"data\":{\"bpm\":[\"120\"],\"collection\":[\"groove_midi\"],\"genre\":[\"dance-disco\"],\"grouping\":[\"velocity\"],\"member\":[\"high\"],\"meter\":[\"4-4\"],\"sample_id\":[\"6_dance-disco_120_beat_4-4\"],\"source\":[\"GrooveMIDI\"],\"start_bar\":[81],\"stream_0\":[\"groove\"],\"stream_1\":[\"low\"],\"stream_2\":[\"mid\"],\"stream_3\":[\"high\"],\"track_number\":[\"6\"],\"x\":[0.0],\"y\":[3.5]},\"selected\":{\"id\":\"1964\"},\"selection_policy\":{\"id\":\"1963\"}},\"id\":\"1944\",\"type\":\"ColumnDataSource\"},{\"attributes\":{\"coordinates\":null,\"dimension\":\"height\",\"group\":null,\"line_width\":0.1,\"location\":1.25},\"id\":\"1388\",\"type\":\"Span\"},{\"attributes\":{\"data\":{\"bottom\":{\"__ndarray__\":\"mpmZmZmZyb/NzMzMzMz8P2ZmZmZmZgZAmpmZmZmZyb/NzMzMzMz8P5qZmZmZmcm/ZmZmZmZmBkCamZmZmZnJv5qZmZmZmek/ZmZmZmZmBkCamZmZmZnJv2ZmZmZmZgZAmpmZmZmZyb/NzMzMzMz8P5qZmZmZmcm/ZmZmZmZmBkCamZmZmZnJv5qZmZmZmek/zczMzMzM/D+amZmZmZnJv83MzMzMzPw/ZmZmZmZmBkCamZmZmZnJv2ZmZmZmZgZAmpmZmZmZyb9mZmZmZmYGQJqZmZmZmcm/mpmZmZmZ6T/NzMzMzMz8P5qZmZmZmcm/mpmZmZmZ6T9mZmZmZmYGQJqZmZmZmcm/ZmZmZmZmBkCamZmZmZnJv2ZmZmZmZgZAmpmZmZmZyb+amZmZmZnpP2ZmZmZmZgZAmpmZmZmZyb/NzMzMzMz8P2ZmZmZmZgZAmpmZmZmZyb/NzMzMzMz8P5qZmZmZmcm/ZmZmZmZmBkCamZmZmZnJv83MzMzMzPw/mpmZmZmZyb+amZmZmZnpP2ZmZmZmZgZAmpmZmZmZyb/NzMzMzMz8P5qZmZmZmcm/zczMzMzM/D+amZmZmZnJv5qZmZmZmek/ZmZmZmZmBkCamZmZmZnJv2ZmZmZmZgZAmpmZmZmZyb/NzMzMzMz8P5qZmZmZmcm/ZmZmZmZmBkCamZmZmZnJv5qZmZmZmek/ZmZmZmZmBkCamZmZmZnJv2ZmZmZmZgZAmpmZmZmZyb/NzMzMzMz8P5qZmZmZmcm/ZmZmZmZmBkCamZmZmZnJv5qZmZmZmek/zczMzMzM/D8=\",\"dtype\":\"float64\",\"order\":\"little\",\"shape\":[76]},\"end\":[0.026125000000000002,0.033,0.026125000000000002,0.148875,0.148875,0.28525,0.28525,0.41475,0.494375,0.41475,0.53975,0.53975,0.671625,0.671625,0.801125,0.801125,0.923875,0.992,0.923875,1.048875,1.048875,1.048875,1.1625,1.1625,1.280625,1.280625,1.4125,1.417,1.4125,1.53525,1.53525,1.53525,1.655625,1.655625,1.773875,1.773875,1.91025,1.992,1.91025,2.033,2.044375,2.033,2.1625,2.1625,2.283,2.283,2.41025,2.41025,2.501125,2.501125,2.542,2.66025,2.66025,2.780625,2.780625,2.9125,2.992,2.9125,3.03525,3.03525,3.153375,3.153375,3.273875,3.273875,3.396625,3.48975,3.396625,3.53525,3.53525,3.66475,3.66475,3.776125,3.776125,3.880625,3.992,3.880625],\"grid_line\":[0,0,0,1,1,2,2,3,3,3,4,4,5,5,6,6,7,7,7,8,8,8,9,9,10,10,11,11,11,12,12,12,13,13,14,14,15,15,15,16,16,16,17,17,18,18,19,19,20,20,20,21,21,22,22,23,23,23,24,24,25,25,26,26,27,27,27,28,28,29,29,30,30,31,31,31],\"instrument\":[\"stream_0\",\"stream_2\",\"stream_3\",\"stream_0\",\"stream_2\",\"stream_0\",\"stream_3\",\"stream_0\",\"stream_1\",\"stream_3\",\"stream_0\",\"stream_3\",\"stream_0\",\"stream_2\",\"stream_0\",\"stream_3\",\"stream_0\",\"stream_1\",\"stream_2\",\"stream_0\",\"stream_2\",\"stream_3\",\"stream_0\",\"stream_3\",\"stream_0\",\"stream_3\",\"stream_0\",\"stream_1\",\"stream_2\",\"stream_0\",\"stream_1\",\"stream_3\",\"stream_0\",\"stream_3\",\"stream_0\",\"stream_3\",\"stream_0\",\"stream_1\",\"stream_3\",\"stream_0\",\"stream_2\",\"stream_3\",\"stream_0\",\"stream_2\",\"stream_0\",\"stream_3\",\"stream_0\",\"stream_2\",\"stream_0\",\"stream_1\",\"stream_3\",\"stream_0\",\"stream_2\",\"stream_0\",\"stream_2\",\"stream_0\",\"stream_1\",\"stream_3\",\"stream_0\",\"stream_3\",\"stream_0\",\"stream_2\",\"stream_0\",\"stream_3\",\"stream_0\",\"stream_1\",\"stream_3\",\"stream_0\",\"stream_3\",\"stream_0\",\"stream_2\",\"stream_0\",\"stream_3\",\"stream_0\",\"stream_1\",\"stream_2\"],\"midi\":[36,42,46,36,42,36,46,36,38,46,36,46,36,42,36,46,36,38,42,36,42,46,36,46,36,46,36,38,42,36,38,46,36,46,36,46,36,38,46,36,42,46,36,42,36,46,36,42,36,38,46,36,42,36,42,36,38,46,36,46,36,42,36,46,36,38,46,36,46,36,42,36,46,36,38,42],\"offset\":[-0.291,-0.236,-0.291,-0.309,-0.309,-0.218,-0.218,-0.182,0.455,-0.182,-0.182,-0.182,-0.127,-0.127,-0.091,-0.091,-0.109,0.436,-0.109,-0.109,-0.109,-0.109,-0.2,-0.2,-0.255,-0.255,-0.2,-0.164,-0.2,-0.218,-0.218,-0.218,-0.255,-0.255,-0.309,-0.309,-0.218,0.436,-0.218,-0.236,-0.145,-0.236,-0.2,-0.2,-0.236,-0.236,-0.218,-0.218,-0.491,-0.491,-0.164,-0.218,-0.218,-0.255,-0.255,-0.2,0.436,-0.2,-0.218,-0.218,-0.273,-0.273,-0.309,-0.309,-0.327,0.418,-0.327,-0.218,-0.218,-0.182,-0.182,-0.291,-0.291,-0.455,0.436,-0.455],\"offset_sec\":[-0.036,-0.03,-0.036,-0.039,-0.039,-0.027,-0.027,-0.023,0.057,-0.023,-0.023,-0.023,-0.016,-0.016,-0.011,-0.011,-0.014,0.054,-0.014,-0.014,-0.014,-0.014,-0.025,-0.025,-0.032,-0.032,-0.025,-0.02,-0.025,-0.027,-0.027,-0.027,-0.032,-0.032,-0.039,-0.039,-0.027,0.054,-0.027,-0.03,-0.018,-0.03,-0.025,-0.025,-0.03,-0.03,-0.027,-0.027,-0.061,-0.061,-0.02,-0.027,-0.027,-0.032,-0.032,-0.025,0.054,-0.025,-0.027,-0.027,-0.034,-0.034,-0.039,-0.039,-0.041,0.052,-0.041,-0.027,-0.027,-0.023,-0.023,-0.036,-0.036,-0.057,0.054,-0.057],\"start\":[-0.036375,-0.0295,-0.036375,0.08637500000000001,0.08637500000000001,0.22275,0.22275,0.35225,0.431875,0.35225,0.47725,0.47725,0.609125,0.609125,0.738625,0.738625,0.861375,0.9295,0.861375,0.986375,0.986375,0.986375,1.1,1.1,1.218125,1.218125,1.35,1.3545,1.35,1.47275,1.47275,1.47275,1.593125,1.593125,1.711375,1.711375,1.84775,1.9295,1.84775,1.9705,1.981875,1.9705,2.1,2.1,2.2205,2.2205,2.34775,2.34775,2.438625,2.438625,2.4795,2.59775,2.59775,2.718125,2.718125,2.85,2.9295,2.85,2.97275,2.97275,3.090875,3.090875,3.211375,3.211375,3.334125,3.42725,3.334125,3.47275,3.47275,3.60225,3.60225,3.713625,3.713625,3.818125,3.9295,3.818125],\"top\":{\"__ndarray__\":\"mpmZmZmZyT+amZmZmZkBQJqZmZmZmQlAmpmZmZmZyT+amZmZmZkBQJqZmZmZmck/mpmZmZmZCUCamZmZmZnJPzMzMzMzM/M/mpmZmZmZCUCamZmZmZnJP5qZmZmZmQlAmpmZmZmZyT+amZmZmZkBQJqZmZmZmck/mpmZmZmZCUCamZmZmZnJPzMzMzMzM/M/mpmZmZmZAUCamZmZmZnJP5qZmZmZmQFAmpmZmZmZCUCamZmZmZnJP5qZmZmZmQlAmpmZmZmZyT+amZmZmZkJQJqZmZmZmck/MzMzMzMz8z+amZmZmZkBQJqZmZmZmck/MzMzMzMz8z+amZmZmZkJQJqZmZmZmck/mpmZmZmZCUCamZmZmZnJP5qZmZmZmQlAmpmZmZmZyT8zMzMzMzPzP5qZmZmZmQlAmpmZmZmZyT+amZmZmZkBQJqZmZmZmQlAmpmZmZmZyT+amZmZmZkBQJqZmZmZmck/mpmZmZmZCUCamZmZmZnJP5qZmZmZmQFAmpmZmZmZyT8zMzMzMzPzP5qZmZmZmQlAmpmZmZmZyT+amZmZmZkBQJqZmZmZmck/mpmZmZmZAUCamZmZmZnJPzMzMzMzM/M/mpmZmZmZCUCamZmZmZnJP5qZmZmZmQlAmpmZmZmZyT+amZmZmZkBQJqZmZmZmck/mpmZmZmZCUCamZmZmZnJPzMzMzMzM/M/mpmZmZmZCUCamZmZmZnJP5qZmZmZmQlAmpmZmZmZyT+amZmZmZkBQJqZmZmZmck/mpmZmZmZCUCamZmZmZnJPzMzMzMzM/M/mpmZmZmZAUA=\",\"dtype\":\"float64\",\"order\":\"little\",\"shape\":[76]},\"velocity\":[1.0,0.441,1.0,0.386,0.386,1.0,1.0,0.598,0.252,0.598,1.0,1.0,0.488,0.488,0.756,0.756,0.543,0.236,0.543,0.409,0.409,0.898,0.591,0.591,1.0,1.0,0.543,0.307,0.543,0.173,0.173,1.0,0.598,0.598,0.787,0.787,0.756,0.236,0.756,1.0,0.543,1.0,0.496,0.496,1.0,1.0,0.496,0.496,0.213,0.213,1.0,0.433,0.433,0.512,0.512,0.677,0.197,0.677,1.0,1.0,0.386,0.386,0.78,0.78,1.0,0.213,1.0,1.0,1.0,0.402,0.402,0.669,0.669,0.535,0.236,0.535],\"voice_index\":[0,2,3,0,2,0,3,0,1,3,0,3,0,2,0,3,0,1,2,0,2,3,0,3,0,3,0,1,2,0,1,3,0,3,0,3,0,1,3,0,2,3,0,2,0,3,0,2,0,1,3,0,2,0,2,0,1,3,0,3,0,2,0,3,0,1,3,0,3,0,2,0,3,0,1,2]},\"selected\":{\"id\":\"1533\"},\"selection_policy\":{\"id\":\"1532\"}},\"id\":\"1517\",\"type\":\"ColumnDataSource\"},{\"attributes\":{\"below\":[{\"id\":\"1817\"}],\"center\":[{\"id\":\"1820\"},{\"id\":\"1824\"},{\"id\":\"1857\"},{\"id\":\"1864\"},{\"id\":\"1865\"},{\"id\":\"1866\"},{\"id\":\"1867\"},{\"id\":\"1868\"},{\"id\":\"1869\"},{\"id\":\"1870\"},{\"id\":\"1871\"},{\"id\":\"1872\"},{\"id\":\"1873\"},{\"id\":\"1874\"},{\"id\":\"1875\"},{\"id\":\"1876\"},{\"id\":\"1877\"},{\"id\":\"1878\"},{\"id\":\"1879\"},{\"id\":\"1880\"},{\"id\":\"1881\"},{\"id\":\"1882\"},{\"id\":\"1883\"},{\"id\":\"1884\"},{\"id\":\"1885\"},{\"id\":\"1886\"},{\"id\":\"1887\"},{\"id\":\"1890\"},{\"id\":\"1891\"},{\"id\":\"1892\"},{\"id\":\"1893\"},{\"id\":\"1894\"},{\"id\":\"1895\"},{\"id\":\"1896\"},{\"id\":\"1897\"},{\"id\":\"1898\"},{\"id\":\"1899\"}],\"height\":400,\"left\":[{\"id\":\"1821\"}],\"renderers\":[{\"id\":\"1844\"},{\"id\":\"1905\"},{\"id\":\"1926\"},{\"id\":\"1949\"}],\"right\":[{\"id\":\"1857\"}],\"title\":{\"id\":\"1846\"},\"toolbar\":{\"id\":\"1832\"},\"width\":800,\"x_range\":{\"id\":\"1809\"},\"x_scale\":{\"id\":\"1813\"},\"y_range\":{\"id\":\"1811\"},\"y_scale\":{\"id\":\"1815\"}},\"id\":\"1808\",\"subtype\":\"Figure\",\"type\":\"Plot\"},{\"attributes\":{\"coordinates\":null,\"dimension\":\"height\",\"group\":null,\"line_width\":0.1,\"location\":0.875},\"id\":\"1869\",\"type\":\"Span\"},{\"attributes\":{\"coordinates\":null,\"dimension\":\"height\",\"group\":null,\"line_width\":0.1,\"location\":1.125},\"id\":\"1870\",\"type\":\"Span\"},{\"attributes\":{},\"id\":\"2077\",\"type\":\"Selection\"},{\"attributes\":{\"coordinates\":null,\"dimension\":\"height\",\"group\":null,\"line_width\":0.1,\"location\":1.25},\"id\":\"1871\",\"type\":\"Span\"},{\"attributes\":{\"coordinates\":null,\"dimension\":\"height\",\"group\":null,\"line_width\":0.1,\"location\":1.375},\"id\":\"1872\",\"type\":\"Span\"},{\"attributes\":{\"coordinates\":null,\"dimension\":\"height\",\"group\":null,\"line_width\":0.1,\"location\":1.625},\"id\":\"1873\",\"type\":\"Span\"},{\"attributes\":{},\"id\":\"2076\",\"type\":\"UnionRenderers\"},{\"attributes\":{\"coordinates\":null,\"dimension\":\"height\",\"group\":null,\"line_width\":0.1,\"location\":1.75},\"id\":\"1874\",\"type\":\"Span\"},{\"attributes\":{},\"id\":\"2474\",\"type\":\"HelpTool\"},{\"attributes\":{\"callback\":null,\"renderers\":[{\"id\":\"1905\"}],\"tooltips\":[[\"tempo\",\"@tempo\"],[\"grid_index\",\"@grid_index\"]]},\"id\":\"1919\",\"type\":\"HoverTool\"},{\"attributes\":{\"callback\":null,\"renderers\":[{\"id\":\"1844\"}],\"tooltips\":[[\"start\",\"@start\"],[\"end\",\"@end\"],[\"instrument\",\"@instrument\"],[\"voice_index\",\"@voice_index\"],[\"midi\",\"@midi\"],[\"velocity\",\"@velocity\"],[\"offset\",\"@offset\"],[\"offset_sec\",\"@offset_sec\"],[\"grid_line\",\"@grid_line\"]]},\"id\":\"1859\",\"type\":\"HoverTool\"},{\"attributes\":{},\"id\":\"1849\",\"type\":\"BasicTickFormatter\"},{\"attributes\":{\"fill_alpha\":{\"value\":0.1},\"fill_color\":{\"value\":\"#440154\"},\"hatch_alpha\":{\"value\":0.1},\"line_alpha\":{\"value\":0.1},\"line_color\":{\"value\":\"#440154\"},\"size\":{\"value\":10},\"x\":{\"field\":\"x\"},\"y\":{\"field\":\"y\"}},\"id\":\"1903\",\"type\":\"Circle\"},{\"attributes\":{\"coordinates\":null,\"dimension\":\"height\",\"group\":null,\"line_width\":2,\"location\":0.0},\"id\":\"1898\",\"type\":\"Span\"},{\"attributes\":{},\"id\":\"1850\",\"type\":\"AllLabels\"},{\"attributes\":{\"data\":{\"grid_index\":[0],\"tempo\":[120.0],\"x\":[0.0],\"y\":[4.5]},\"selected\":{\"id\":\"1916\"},\"selection_policy\":{\"id\":\"1915\"}},\"id\":\"1900\",\"type\":\"ColumnDataSource\"},{\"attributes\":{\"ticks\":[0.0,0.5,1.0,1.5,2.0,2.5,3.0,3.5]},\"id\":\"1888\",\"type\":\"FixedTicker\"},{\"attributes\":{\"ticks\":[0,1,2,3]},\"id\":\"1862\",\"type\":\"FixedTicker\"},{\"attributes\":{\"coordinates\":null,\"dimension\":\"height\",\"group\":null,\"line_width\":0.1,\"location\":1.875},\"id\":\"1875\",\"type\":\"Span\"},{\"attributes\":{\"coordinates\":null,\"dimension\":\"height\",\"group\":null,\"line_width\":0.1,\"location\":2.125},\"id\":\"1876\",\"type\":\"Span\"},{\"attributes\":{\"coordinates\":null,\"dimension\":\"height\",\"group\":null,\"line_width\":0.1,\"location\":2.25},\"id\":\"1877\",\"type\":\"Span\"},{\"attributes\":{\"end\":4.2625,\"start\":-0.3875},\"id\":\"2453\",\"type\":\"DataRange1d\"},{\"attributes\":{\"coordinates\":null,\"dimension\":\"height\",\"group\":null,\"line_width\":0.1,\"location\":2.375},\"id\":\"1878\",\"type\":\"Span\"},{\"attributes\":{\"coordinates\":null,\"dimension\":\"height\",\"group\":null,\"line_width\":0.1,\"location\":2.625},\"id\":\"1879\",\"type\":\"Span\"},{\"attributes\":{\"coordinates\":null,\"dimension\":\"height\",\"group\":null,\"line_width\":0.1,\"location\":2.75},\"id\":\"1880\",\"type\":\"Span\"},{\"attributes\":{},\"id\":\"1295\",\"type\":\"Selection\"},{\"attributes\":{\"coordinates\":null,\"dimension\":\"height\",\"group\":null,\"line_width\":0.1,\"location\":0.75},\"id\":\"1868\",\"type\":\"Span\"},{\"attributes\":{\"axis_label\":\"Instrument\",\"axis_label_standoff\":10,\"axis_label_text_color\":\"#5B5B5B\",\"axis_label_text_font\":\"Calibri Light\",\"axis_label_text_font_size\":\"1.15em\",\"axis_label_text_font_style\":\"bold\",\"axis_line_alpha\":1,\"axis_line_color\":\"#5B5B5B\",\"coordinates\":null,\"formatter\":{\"id\":\"2493\"},\"group\":null,\"major_label_overrides\":{\"0\":\"stream_0\",\"1\":\"stream_1\",\"2\":\"stream_2\",\"3\":\"stream_3\"},\"major_label_policy\":{\"id\":\"2494\"},\"major_label_text_color\":\"#5B5B5B\",\"major_label_text_font\":\"Calibri Light\",\"major_label_text_font_size\":\"0.95em\",\"major_label_text_font_style\":\"bold\",\"major_tick_in\":0,\"major_tick_line_alpha\":0.25,\"major_tick_line_color\":\"#5B5B5B\",\"major_tick_out\":3,\"minor_tick_line_alpha\":0.25,\"minor_tick_line_color\":\"#5B5B5B\",\"ticker\":{\"id\":\"2506\"}},\"id\":\"2465\",\"type\":\"LinearAxis\"},{\"attributes\":{\"label\":{\"value\":\"Tempo\"},\"renderers\":[{\"id\":\"1422\"}]},\"id\":\"1435\",\"type\":\"LegendItem\"},{\"attributes\":{\"coordinates\":null,\"dimension\":\"height\",\"group\":null,\"line_width\":0.1,\"location\":0.125},\"id\":\"1864\",\"type\":\"Span\"},{\"attributes\":{},\"id\":\"1852\",\"type\":\"BasicTickFormatter\"},{\"attributes\":{\"coordinates\":null,\"dimension\":\"height\",\"group\":null,\"line_width\":0.1,\"location\":0.625},\"id\":\"1867\",\"type\":\"Span\"},{\"attributes\":{},\"id\":\"1853\",\"type\":\"AllLabels\"},{\"attributes\":{\"source\":{\"id\":\"1900\"}},\"id\":\"1906\",\"type\":\"CDSView\"},{\"attributes\":{\"coordinates\":null,\"dimension\":\"height\",\"group\":null,\"line_width\":0.1,\"location\":0.25},\"id\":\"1865\",\"type\":\"Span\"},{\"attributes\":{\"coordinates\":null,\"dimension\":\"height\",\"group\":null,\"line_width\":0.1,\"location\":0.375},\"id\":\"1866\",\"type\":\"Span\"},{\"attributes\":{\"coordinates\":null,\"dimension\":\"height\",\"group\":null,\"line_width\":0.1,\"location\":2.875},\"id\":\"1881\",\"type\":\"Span\"},{\"attributes\":{\"coordinates\":null,\"dimension\":\"height\",\"group\":null,\"line_width\":0.1,\"location\":3.125},\"id\":\"1882\",\"type\":\"Span\"},{\"attributes\":{},\"id\":\"2459\",\"type\":\"LinearScale\"},{\"attributes\":{\"source\":{\"id\":\"2266\"}},\"id\":\"2272\",\"type\":\"CDSView\"},{\"attributes\":{\"coordinates\":null,\"dimension\":\"height\",\"group\":null,\"line_width\":0.1,\"location\":3.25},\"id\":\"1883\",\"type\":\"Span\"},{\"attributes\":{\"end\":5.75,\"start\":-0.5},\"id\":\"2455\",\"type\":\"Range1d\"},{\"attributes\":{},\"id\":\"2312\",\"type\":\"ResetTool\"},{\"attributes\":{\"coordinates\":null,\"dimension\":\"height\",\"group\":null,\"line_width\":0.1,\"location\":2.625},\"id\":\"1557\",\"type\":\"Span\"},{\"attributes\":{\"coordinates\":null,\"dimension\":\"height\",\"group\":null,\"line_width\":0.1,\"location\":3.375},\"id\":\"1884\",\"type\":\"Span\"},{\"attributes\":{},\"id\":\"2336\",\"type\":\"AllLabels\"},{\"attributes\":{\"coordinates\":null,\"dimension\":\"height\",\"group\":null,\"line_width\":0.1,\"location\":3.625},\"id\":\"1885\",\"type\":\"Span\"},{\"attributes\":{},\"id\":\"2457\",\"type\":\"LinearScale\"},{\"attributes\":{\"callback\":null,\"renderers\":[{\"id\":\"1522\"}],\"tooltips\":[[\"start\",\"@start\"],[\"end\",\"@end\"],[\"instrument\",\"@instrument\"],[\"voice_index\",\"@voice_index\"],[\"midi\",\"@midi\"],[\"velocity\",\"@velocity\"],[\"offset\",\"@offset\"],[\"offset_sec\",\"@offset_sec\"],[\"grid_line\",\"@grid_line\"]]},\"id\":\"1537\",\"type\":\"HoverTool\"},{\"attributes\":{\"coordinates\":null,\"dimension\":\"height\",\"group\":null,\"line_width\":0.1,\"location\":3.75},\"id\":\"1886\",\"type\":\"Span\"},{\"attributes\":{\"axis_label\":\"Time (sec)\",\"axis_label_standoff\":10,\"axis_label_text_color\":\"#5B5B5B\",\"axis_label_text_font\":\"Calibri Light\",\"axis_label_text_font_size\":\"1.15em\",\"axis_label_text_font_style\":\"bold\",\"axis_line_alpha\":1,\"axis_line_color\":\"#5B5B5B\",\"coordinates\":null,\"formatter\":{\"id\":\"2496\"},\"group\":null,\"major_label_orientation\":1.57,\"major_label_policy\":{\"id\":\"2497\"},\"major_label_text_color\":\"#5B5B5B\",\"major_label_text_font\":\"Calibri Light\",\"major_label_text_font_size\":\"0.95em\",\"major_label_text_font_style\":\"bold\",\"major_tick_in\":0,\"major_tick_line_alpha\":0.25,\"major_tick_line_color\":\"#5B5B5B\",\"major_tick_out\":3,\"minor_tick_line_alpha\":0.25,\"minor_tick_line_color\":\"#5B5B5B\",\"ticker\":{\"id\":\"2532\"}},\"id\":\"2461\",\"type\":\"LinearAxis\"},{\"attributes\":{\"bottom\":{\"field\":\"bottom\"},\"fill_alpha\":{\"value\":0.2},\"fill_color\":{\"value\":\"grey\"},\"hatch_alpha\":{\"value\":0.2},\"left\":{\"field\":\"start\"},\"line_alpha\":{\"value\":0.2},\"line_color\":{\"value\":\"grey\"},\"right\":{\"field\":\"end\"},\"top\":{\"field\":\"top\"}},\"id\":\"1843\",\"type\":\"Quad\"},{\"attributes\":{\"coordinates\":null,\"data_source\":{\"id\":\"2483\"},\"glyph\":{\"id\":\"2485\"},\"group\":null,\"hover_glyph\":null,\"muted_glyph\":{\"id\":\"2487\"},\"nonselection_glyph\":{\"id\":\"2486\"},\"view\":{\"id\":\"2489\"}},\"id\":\"2488\",\"type\":\"GlyphRenderer\"},{\"attributes\":{\"fill_alpha\":{\"value\":0.2},\"fill_color\":{\"value\":\"#440154\"},\"hatch_alpha\":{\"value\":0.2},\"line_alpha\":{\"value\":0.2},\"line_color\":{\"value\":\"#440154\"},\"size\":{\"value\":10},\"x\":{\"field\":\"x\"},\"y\":{\"field\":\"y\"}},\"id\":\"1904\",\"type\":\"Circle\"},{\"attributes\":{\"fill_alpha\":{\"value\":0.2},\"fill_color\":{\"value\":\"#1EA087\"},\"hatch_alpha\":{\"value\":0.2},\"line_alpha\":{\"value\":0.2},\"line_color\":{\"value\":\"#1EA087\"},\"size\":{\"value\":10},\"x\":{\"field\":\"x\"},\"y\":{\"field\":\"y\"}},\"id\":\"2270\",\"type\":\"Circle\"},{\"attributes\":{\"source\":{\"id\":\"1839\"}},\"id\":\"1845\",\"type\":\"CDSView\"},{\"attributes\":{\"bottom\":{\"field\":\"bottom\"},\"fill_alpha\":{\"value\":0.1},\"fill_color\":{\"value\":\"grey\"},\"hatch_alpha\":{\"value\":0.1},\"left\":{\"field\":\"start\"},\"line_alpha\":{\"value\":0.1},\"line_color\":{\"value\":\"grey\"},\"right\":{\"field\":\"end\"},\"top\":{\"field\":\"top\"}},\"id\":\"1842\",\"type\":\"Quad\"},{\"attributes\":{\"coordinates\":null,\"data_source\":{\"id\":\"1839\"},\"glyph\":{\"id\":\"1841\"},\"group\":null,\"hover_glyph\":null,\"muted_glyph\":{\"id\":\"1843\"},\"nonselection_glyph\":{\"id\":\"1842\"},\"view\":{\"id\":\"1845\"}},\"id\":\"1844\",\"type\":\"GlyphRenderer\"},{\"attributes\":{\"coordinates\":null,\"group\":null,\"text_color\":\"#5B5B5B\",\"text_font\":\"Calibri Light\",\"text_font_size\":\"1.25em\",\"text_font_style\":\"bold\"},\"id\":\"1846\",\"type\":\"Title\"},{\"attributes\":{\"coordinates\":null,\"dimension\":\"height\",\"group\":null,\"line_width\":0.1,\"location\":1.75},\"id\":\"1552\",\"type\":\"Span\"},{\"attributes\":{\"coordinates\":null,\"dimension\":\"height\",\"group\":null,\"line_width\":0.1,\"location\":3.875},\"id\":\"1887\",\"type\":\"Span\"},{\"attributes\":{\"coordinates\":null,\"dimension\":\"height\",\"group\":null,\"line_width\":0.1,\"location\":2.75},\"id\":\"1558\",\"type\":\"Span\"},{\"attributes\":{\"axis\":{\"id\":\"2461\"},\"coordinates\":null,\"grid_line_color\":null,\"group\":null,\"ticker\":null},\"id\":\"2464\",\"type\":\"Grid\"},{\"attributes\":{\"coordinates\":null,\"dimension\":\"height\",\"group\":null,\"line_width\":0.1,\"location\":1.875},\"id\":\"1553\",\"type\":\"Span\"},{\"attributes\":{\"coordinates\":null,\"dimension\":\"height\",\"group\":null,\"line_width\":0.5,\"location\":0.0},\"id\":\"1890\",\"type\":\"Span\"},{\"attributes\":{\"data\":{\"bpm\":[\"120\"],\"collection\":[\"groove_midi\"],\"genre\":[\"dance-disco\"],\"grouping\":[\"velocity\"],\"member\":[\"high\"],\"meter\":[\"4-4\"],\"sample_id\":[\"6_dance-disco_120_beat_4-4\"],\"source\":[\"GrooveMIDI\"],\"start_bar\":[83],\"stream_0\":[\"groove\"],\"stream_1\":[\"low\"],\"stream_2\":[\"mid\"],\"stream_3\":[\"high\"],\"track_number\":[\"6\"],\"x\":[0.0],\"y\":[3.5]},\"selected\":{\"id\":\"2286\"},\"selection_policy\":{\"id\":\"2285\"}},\"id\":\"2266\",\"type\":\"ColumnDataSource\"},{\"attributes\":{\"coordinates\":null,\"dimension\":\"height\",\"group\":null,\"line_width\":0.5,\"location\":0.5},\"id\":\"1891\",\"type\":\"Span\"},{\"attributes\":{\"ticks\":[0,1,2,3]},\"id\":\"1540\",\"type\":\"FixedTicker\"},{\"attributes\":{\"fill_color\":{\"value\":\"#1EA087\"},\"line_color\":{\"value\":\"#1EA087\"},\"size\":{\"value\":10},\"x\":{\"field\":\"x\"},\"y\":{\"field\":\"y\"}},\"id\":\"2268\",\"type\":\"Circle\"},{\"attributes\":{\"coordinates\":null,\"dimension\":\"height\",\"group\":null,\"line_width\":0.1,\"location\":0.75},\"id\":\"1546\",\"type\":\"Span\"},{\"attributes\":{\"coordinates\":null,\"dimension\":\"height\",\"group\":null,\"line_width\":0.5,\"location\":1.0},\"id\":\"1892\",\"type\":\"Span\"},{\"attributes\":{\"bottom\":{\"field\":\"bottom\"},\"fill_alpha\":{\"value\":0.1},\"fill_color\":{\"value\":\"grey\"},\"hatch_alpha\":{\"value\":0.1},\"left\":{\"field\":\"start\"},\"line_alpha\":{\"value\":0.1},\"line_color\":{\"value\":\"grey\"},\"right\":{\"field\":\"end\"},\"top\":{\"field\":\"top\"}},\"id\":\"2325\",\"type\":\"Quad\"},{\"attributes\":{\"coordinates\":null,\"dimension\":\"height\",\"group\":null,\"line_width\":0.1,\"location\":0.125},\"id\":\"1542\",\"type\":\"Span\"},{\"attributes\":{\"coordinates\":null,\"dimension\":\"height\",\"group\":null,\"line_width\":0.5,\"location\":1.5},\"id\":\"1893\",\"type\":\"Span\"},{\"attributes\":{\"background_fill_alpha\":0.25,\"border_line_alpha\":0,\"click_policy\":\"hide\",\"coordinates\":null,\"glyph_width\":15,\"group\":null,\"items\":[{\"id\":\"2502\"},{\"id\":\"2562\"},{\"id\":\"2585\"},{\"id\":\"2610\"}],\"label_standoff\":8,\"label_text_color\":\"#5B5B5B\",\"label_text_font\":\"Calibri Light\",\"label_text_font_size\":\"0.95em\",\"label_text_font_style\":\"bold\",\"spacing\":8},\"id\":\"2501\",\"type\":\"Legend\"},{\"attributes\":{\"axis\":{\"id\":\"2465\"},\"coordinates\":null,\"dimension\":1,\"grid_line_color\":null,\"group\":null,\"ticker\":null},\"id\":\"2468\",\"type\":\"Grid\"},{\"attributes\":{\"fill_alpha\":{\"value\":0.1},\"fill_color\":{\"value\":\"#1EA087\"},\"hatch_alpha\":{\"value\":0.1},\"line_alpha\":{\"value\":0.1},\"line_color\":{\"value\":\"#1EA087\"},\"size\":{\"value\":10},\"x\":{\"field\":\"x\"},\"y\":{\"field\":\"y\"}},\"id\":\"2269\",\"type\":\"Circle\"},{\"attributes\":{\"fill_alpha\":{\"value\":0.1},\"fill_color\":{\"value\":\"#70CE56\"},\"hatch_alpha\":{\"value\":0.1},\"line_alpha\":{\"value\":0.1},\"line_color\":{\"value\":\"#70CE56\"},\"size\":{\"value\":10},\"x\":{\"field\":\"x\"},\"y\":{\"field\":\"y\"}},\"id\":\"2568\",\"type\":\"Circle\"},{\"attributes\":{\"label\":{\"value\":\"Piano Roll\"},\"renderers\":[{\"id\":\"2488\"}]},\"id\":\"2502\",\"type\":\"LegendItem\"},{\"attributes\":{\"coordinates\":null,\"dimension\":\"height\",\"group\":null,\"line_width\":0.1,\"location\":0.625},\"id\":\"1545\",\"type\":\"Span\"},{\"attributes\":{\"coordinates\":null,\"dimension\":\"height\",\"group\":null,\"line_width\":0.5,\"location\":2.0},\"id\":\"1894\",\"type\":\"Span\"},{\"attributes\":{\"coordinates\":null,\"dimension\":\"height\",\"group\":null,\"line_width\":0.5,\"location\":2.5},\"id\":\"1895\",\"type\":\"Span\"},{\"attributes\":{\"coordinates\":null,\"dimension\":\"height\",\"group\":null,\"line_width\":0.1,\"location\":2.375},\"id\":\"1556\",\"type\":\"Span\"},{\"attributes\":{\"coordinates\":null,\"dimension\":\"height\",\"group\":null,\"line_width\":0.5,\"location\":3.0},\"id\":\"1896\",\"type\":\"Span\"},{\"attributes\":{\"bottom\":{\"field\":\"bottom\"},\"fill_alpha\":{\"field\":\"velocity\"},\"fill_color\":{\"value\":\"grey\"},\"left\":{\"field\":\"start\"},\"line_color\":{\"value\":\"grey\"},\"right\":{\"field\":\"end\"},\"top\":{\"field\":\"top\"}},\"id\":\"2324\",\"type\":\"Quad\"},{\"attributes\":{\"coordinates\":null,\"dimension\":\"height\",\"group\":null,\"line_width\":0.1,\"location\":0.25},\"id\":\"1543\",\"type\":\"Span\"},{\"attributes\":{\"coordinates\":null,\"dimension\":\"height\",\"group\":null,\"line_width\":0.5,\"location\":3.5},\"id\":\"1897\",\"type\":\"Span\"},{\"attributes\":{\"bottom\":{\"field\":\"bottom\"},\"fill_alpha\":{\"value\":0.1},\"fill_color\":{\"value\":\"grey\"},\"hatch_alpha\":{\"value\":0.1},\"left\":{\"field\":\"start\"},\"line_alpha\":{\"value\":0.1},\"line_color\":{\"value\":\"grey\"},\"right\":{\"field\":\"end\"},\"top\":{\"field\":\"top\"}},\"id\":\"2486\",\"type\":\"Quad\"},{\"attributes\":{\"coordinates\":null,\"dimension\":\"height\",\"group\":null,\"line_width\":0.1,\"location\":0.375},\"id\":\"1544\",\"type\":\"Span\"},{\"attributes\":{\"coordinates\":null,\"data_source\":{\"id\":\"2266\"},\"glyph\":{\"id\":\"2268\"},\"group\":null,\"hover_glyph\":null,\"muted_glyph\":{\"id\":\"2270\"},\"nonselection_glyph\":{\"id\":\"2269\"},\"view\":{\"id\":\"2272\"}},\"id\":\"2271\",\"type\":\"GlyphRenderer\"},{\"attributes\":{},\"id\":\"1366\",\"type\":\"BasicTickFormatter\"},{\"attributes\":{\"coordinates\":null,\"dimension\":\"height\",\"group\":null,\"line_width\":0.1,\"location\":2.875},\"id\":\"1559\",\"type\":\"Span\"},{\"attributes\":{\"coordinates\":null,\"dimension\":\"height\",\"group\":null,\"line_width\":2,\"location\":2.0},\"id\":\"1899\",\"type\":\"Span\"},{\"attributes\":{\"fill_color\":{\"value\":\"#440154\"},\"line_color\":{\"value\":\"#440154\"},\"size\":{\"value\":10},\"x\":{\"field\":\"x\"},\"y\":{\"field\":\"y\"}},\"id\":\"1902\",\"type\":\"Circle\"},{\"attributes\":{\"label\":{\"value\":\"Metadata\"},\"renderers\":[{\"id\":\"2271\"}]},\"id\":\"2288\",\"type\":\"LegendItem\"},{\"attributes\":{\"source\":{\"id\":\"2483\"}},\"id\":\"2489\",\"type\":\"CDSView\"},{\"attributes\":{\"bottom\":{\"field\":\"bottom\"},\"fill_alpha\":{\"field\":\"velocity\"},\"fill_color\":{\"value\":\"grey\"},\"left\":{\"field\":\"start\"},\"line_color\":{\"value\":\"grey\"},\"right\":{\"field\":\"end\"},\"top\":{\"field\":\"top\"}},\"id\":\"2485\",\"type\":\"Quad\"},{\"attributes\":{},\"id\":\"2469\",\"type\":\"PanTool\"},{\"attributes\":{\"overlay\":{\"id\":\"2475\"}},\"id\":\"2471\",\"type\":\"BoxZoomTool\"},{\"attributes\":{},\"id\":\"2472\",\"type\":\"SaveTool\"},{\"attributes\":{\"label\":{\"value\":\"Piano Roll\"},\"renderers\":[{\"id\":\"1844\"}]},\"id\":\"1858\",\"type\":\"LegendItem\"},{\"attributes\":{\"background_fill_alpha\":0.25,\"border_line_alpha\":0,\"click_policy\":\"hide\",\"coordinates\":null,\"glyph_width\":15,\"group\":null,\"items\":[{\"id\":\"1858\"},{\"id\":\"1918\"},{\"id\":\"1941\"},{\"id\":\"1966\"}],\"label_standoff\":8,\"label_text_color\":\"#5B5B5B\",\"label_text_font\":\"Calibri Light\",\"label_text_font_size\":\"0.95em\",\"label_text_font_style\":\"bold\",\"spacing\":8},\"id\":\"1857\",\"type\":\"Legend\"},{\"attributes\":{\"coordinates\":null,\"dimension\":\"height\",\"group\":null,\"line_width\":0.1,\"location\":3.75},\"id\":\"1564\",\"type\":\"Span\"},{\"attributes\":{\"coordinates\":null,\"dimension\":\"height\",\"group\":null,\"line_width\":0.1,\"location\":0.875},\"id\":\"1547\",\"type\":\"Span\"},{\"attributes\":{\"label\":{\"value\":\"Time Signature\"},\"renderers\":[{\"id\":\"1926\"}]},\"id\":\"1941\",\"type\":\"LegendItem\"},{\"attributes\":{\"callback\":null,\"renderers\":[{\"id\":\"2271\"}],\"tooltips\":[[\"track_number\",\"@track_number\"],[\"genre\",\"@genre\"],[\"bpm\",\"@bpm\"],[\"meter\",\"@meter\"],[\"grouping\",\"@grouping\"],[\"member\",\"@member\"],[\"source\",\"@source\"],[\"stream_0\",\"@stream_0\"],[\"stream_1\",\"@stream_1\"],[\"stream_2\",\"@stream_2\"],[\"stream_3\",\"@stream_3\"],[\"start_bar\",\"@start_bar\"],[\"collection\",\"@collection\"],[\"sample_id\",\"@sample_id\"]]},\"id\":\"2289\",\"type\":\"HoverTool\"},{\"attributes\":{\"coordinates\":null,\"dimension\":\"height\",\"group\":null,\"line_width\":0.1,\"location\":1.125},\"id\":\"1548\",\"type\":\"Span\"},{\"attributes\":{\"coordinates\":null,\"data_source\":{\"id\":\"1900\"},\"glyph\":{\"id\":\"1902\"},\"group\":null,\"hover_glyph\":null,\"muted_glyph\":{\"id\":\"1904\"},\"nonselection_glyph\":{\"id\":\"1903\"},\"view\":{\"id\":\"1906\"}},\"id\":\"1905\",\"type\":\"GlyphRenderer\"},{\"attributes\":{\"fill_color\":{\"value\":\"#1EA087\"},\"line_color\":{\"value\":\"#1EA087\"},\"size\":{\"value\":10},\"x\":{\"field\":\"x\"},\"y\":{\"field\":\"y\"}},\"id\":\"1946\",\"type\":\"Circle\"},{\"attributes\":{\"coordinates\":null,\"dimension\":\"height\",\"group\":null,\"line_width\":0.1,\"location\":1.25},\"id\":\"1549\",\"type\":\"Span\"},{\"attributes\":{\"bottom\":{\"field\":\"bottom\"},\"fill_alpha\":{\"value\":0.2},\"fill_color\":{\"value\":\"grey\"},\"hatch_alpha\":{\"value\":0.2},\"left\":{\"field\":\"start\"},\"line_alpha\":{\"value\":0.2},\"line_color\":{\"value\":\"grey\"},\"right\":{\"field\":\"end\"},\"top\":{\"field\":\"top\"}},\"id\":\"2487\",\"type\":\"Quad\"},{\"attributes\":{},\"id\":\"2473\",\"type\":\"ResetTool\"},{\"attributes\":{\"coordinates\":null,\"dimension\":\"height\",\"group\":null,\"line_width\":0.1,\"location\":1.375},\"id\":\"1550\",\"type\":\"Span\"},{\"attributes\":{},\"id\":\"2286\",\"type\":\"Selection\"},{\"attributes\":{\"bottom_units\":\"screen\",\"coordinates\":null,\"fill_alpha\":0.5,\"fill_color\":\"lightgrey\",\"group\":null,\"left_units\":\"screen\",\"level\":\"overlay\",\"line_alpha\":1.0,\"line_color\":\"black\",\"line_dash\":[4,4],\"line_width\":2,\"right_units\":\"screen\",\"syncable\":false,\"top_units\":\"screen\"},\"id\":\"2475\",\"type\":\"BoxAnnotation\"},{\"attributes\":{\"coordinates\":null,\"dimension\":\"height\",\"group\":null,\"line_width\":0.1,\"location\":1.625},\"id\":\"1551\",\"type\":\"Span\"},{\"attributes\":{\"label\":{\"value\":\"Tempo\"},\"renderers\":[{\"id\":\"1905\"}]},\"id\":\"1918\",\"type\":\"LegendItem\"},{\"attributes\":{\"tools\":[{\"id\":\"2469\"},{\"id\":\"2470\"},{\"id\":\"2471\"},{\"id\":\"2472\"},{\"id\":\"2473\"},{\"id\":\"2474\"},{\"id\":\"2503\"},{\"id\":\"2563\"},{\"id\":\"2586\"},{\"id\":\"2611\"}]},\"id\":\"2476\",\"type\":\"Toolbar\"},{\"attributes\":{},\"id\":\"1938\",\"type\":\"UnionRenderers\"},{\"attributes\":{\"data\":{\"grid_index\":[0],\"tempo\":[120.0],\"x\":[0.0],\"y\":[4.5]},\"selected\":{\"id\":\"1272\"},\"selection_policy\":{\"id\":\"1271\"}},\"id\":\"1256\",\"type\":\"ColumnDataSource\"},{\"attributes\":{},\"id\":\"1372\",\"type\":\"Selection\"},{\"attributes\":{\"ticks\":[0.0,0.5,1.0,1.5,2.0,2.5,3.0,3.5]},\"id\":\"1405\",\"type\":\"FixedTicker\"},{\"attributes\":{\"fill_alpha\":{\"value\":0.2},\"fill_color\":{\"value\":\"#440154\"},\"hatch_alpha\":{\"value\":0.2},\"line_alpha\":{\"value\":0.2},\"line_color\":{\"value\":\"#440154\"},\"size\":{\"value\":10},\"x\":{\"field\":\"x\"},\"y\":{\"field\":\"y\"}},\"id\":\"1421\",\"type\":\"Circle\"},{\"attributes\":{\"fill_alpha\":{\"value\":0.2},\"fill_color\":{\"value\":\"#440154\"},\"hatch_alpha\":{\"value\":0.2},\"line_alpha\":{\"value\":0.2},\"line_color\":{\"value\":\"#440154\"},\"size\":{\"value\":10},\"x\":{\"field\":\"x\"},\"y\":{\"field\":\"y\"}},\"id\":\"2226\",\"type\":\"Circle\"},{\"attributes\":{},\"id\":\"2470\",\"type\":\"WheelZoomTool\"},{\"attributes\":{\"coordinates\":null,\"dimension\":\"height\",\"group\":null,\"line_width\":2,\"location\":2.0},\"id\":\"1416\",\"type\":\"Span\"},{\"attributes\":{\"fill_alpha\":{\"value\":0.1},\"fill_color\":{\"value\":\"#440154\"},\"hatch_alpha\":{\"value\":0.1},\"line_alpha\":{\"value\":0.1},\"line_color\":{\"value\":\"#440154\"},\"size\":{\"value\":10},\"x\":{\"field\":\"x\"},\"y\":{\"field\":\"y\"}},\"id\":\"1420\",\"type\":\"Circle\"},{\"attributes\":{\"source\":{\"id\":\"2222\"}},\"id\":\"2228\",\"type\":\"CDSView\"},{\"attributes\":{\"callback\":null,\"renderers\":[{\"id\":\"2549\"}],\"tooltips\":[[\"tempo\",\"@tempo\"],[\"grid_index\",\"@grid_index\"]]},\"id\":\"2563\",\"type\":\"HoverTool\"},{\"attributes\":{\"callback\":null,\"renderers\":[{\"id\":\"1422\"}],\"tooltips\":[[\"tempo\",\"@tempo\"],[\"grid_index\",\"@grid_index\"]]},\"id\":\"1436\",\"type\":\"HoverTool\"},{\"attributes\":{\"fill_alpha\":{\"value\":0.1},\"fill_color\":{\"value\":\"#440154\"},\"hatch_alpha\":{\"value\":0.1},\"line_alpha\":{\"value\":0.1},\"line_color\":{\"value\":\"#440154\"},\"size\":{\"value\":10},\"x\":{\"field\":\"x\"},\"y\":{\"field\":\"y\"}},\"id\":\"2225\",\"type\":\"Circle\"},{\"attributes\":{\"ticks\":[0.0,0.5,1.0,1.5,2.0,2.5,3.0,3.5]},\"id\":\"2532\",\"type\":\"FixedTicker\"},{\"attributes\":{\"fill_alpha\":{\"value\":0.1},\"fill_color\":{\"value\":\"#440154\"},\"hatch_alpha\":{\"value\":0.1},\"line_alpha\":{\"value\":0.1},\"line_color\":{\"value\":\"#440154\"},\"size\":{\"value\":10},\"x\":{\"field\":\"x\"},\"y\":{\"field\":\"y\"}},\"id\":\"2547\",\"type\":\"Circle\"},{\"attributes\":{\"source\":{\"id\":\"2544\"}},\"id\":\"2550\",\"type\":\"CDSView\"},{\"attributes\":{\"fill_color\":{\"value\":\"#70CE56\"},\"line_color\":{\"value\":\"#70CE56\"},\"size\":{\"value\":10},\"x\":{\"field\":\"x\"},\"y\":{\"field\":\"y\"}},\"id\":\"2567\",\"type\":\"Circle\"},{\"attributes\":{},\"id\":\"1294\",\"type\":\"UnionRenderers\"},{\"attributes\":{},\"id\":\"1916\",\"type\":\"Selection\"},{\"attributes\":{\"data\":{\"grid_index\":[0],\"tempo\":[120.0],\"x\":[0.0],\"y\":[4.5]},\"selected\":{\"id\":\"2238\"},\"selection_policy\":{\"id\":\"2237\"}},\"id\":\"2222\",\"type\":\"ColumnDataSource\"},{\"attributes\":{},\"id\":\"2559\",\"type\":\"UnionRenderers\"},{\"attributes\":{},\"id\":\"1915\",\"type\":\"UnionRenderers\"},{\"attributes\":{\"coordinates\":null,\"dimension\":\"height\",\"group\":null,\"line_width\":0.1,\"location\":1.75},\"id\":\"1391\",\"type\":\"Span\"},{\"attributes\":{\"coordinates\":null,\"dimension\":\"height\",\"group\":null,\"line_width\":0.1,\"location\":1.875},\"id\":\"1392\",\"type\":\"Span\"},{\"attributes\":{\"coordinates\":null,\"dimension\":\"height\",\"group\":null,\"line_width\":2,\"location\":0.0},\"id\":\"2220\",\"type\":\"Span\"},{\"attributes\":{\"coordinates\":null,\"dimension\":\"height\",\"group\":null,\"line_width\":0.1,\"location\":1.375},\"id\":\"2516\",\"type\":\"Span\"},{\"attributes\":{\"coordinates\":null,\"dimension\":\"height\",\"group\":null,\"line_width\":0.1,\"location\":2.125},\"id\":\"1393\",\"type\":\"Span\"},{\"attributes\":{\"coordinates\":null,\"dimension\":\"height\",\"group\":null,\"line_width\":2,\"location\":2.0},\"id\":\"2221\",\"type\":\"Span\"},{\"attributes\":{\"coordinates\":null,\"dimension\":\"height\",\"group\":null,\"line_width\":0.1,\"location\":1.625},\"id\":\"2517\",\"type\":\"Span\"},{\"attributes\":{\"coordinates\":null,\"dimension\":\"height\",\"group\":null,\"line_width\":0.1,\"location\":2.25},\"id\":\"1394\",\"type\":\"Span\"},{\"attributes\":{\"coordinates\":null,\"dimension\":\"height\",\"group\":null,\"line_width\":0.1,\"location\":1.75},\"id\":\"2518\",\"type\":\"Span\"},{\"attributes\":{\"fill_color\":{\"value\":\"#440154\"},\"line_color\":{\"value\":\"#440154\"},\"size\":{\"value\":10},\"x\":{\"field\":\"x\"},\"y\":{\"field\":\"y\"}},\"id\":\"2224\",\"type\":\"Circle\"},{\"attributes\":{\"coordinates\":null,\"dimension\":\"height\",\"group\":null,\"line_width\":0.1,\"location\":2.375},\"id\":\"1395\",\"type\":\"Span\"},{\"attributes\":{\"coordinates\":null,\"dimension\":\"height\",\"group\":null,\"line_width\":0.1,\"location\":1.875},\"id\":\"2519\",\"type\":\"Span\"},{\"attributes\":{\"data\":{\"Denominator\":[4],\"Numerator\":[4],\"grid_index\":[0],\"x\":[0.0],\"y\":[4]},\"selected\":{\"id\":\"2583\"},\"selection_policy\":{\"id\":\"2582\"}},\"id\":\"2565\",\"type\":\"ColumnDataSource\"},{\"attributes\":{\"coordinates\":null,\"dimension\":\"height\",\"group\":null,\"line_width\":0.1,\"location\":2.625},\"id\":\"1396\",\"type\":\"Span\"},{\"attributes\":{\"coordinates\":null,\"data_source\":{\"id\":\"2222\"},\"glyph\":{\"id\":\"2224\"},\"group\":null,\"hover_glyph\":null,\"muted_glyph\":{\"id\":\"2226\"},\"nonselection_glyph\":{\"id\":\"2225\"},\"view\":{\"id\":\"2228\"}},\"id\":\"2227\",\"type\":\"GlyphRenderer\"},{\"attributes\":{\"coordinates\":null,\"dimension\":\"height\",\"group\":null,\"line_width\":0.1,\"location\":2.125},\"id\":\"2520\",\"type\":\"Span\"},{\"attributes\":{\"coordinates\":null,\"dimension\":\"height\",\"group\":null,\"line_width\":0.1,\"location\":2.25},\"id\":\"2521\",\"type\":\"Span\"},{\"attributes\":{\"source\":{\"id\":\"2565\"}},\"id\":\"2571\",\"type\":\"CDSView\"},{\"attributes\":{\"label\":{\"value\":\"Tempo\"},\"renderers\":[{\"id\":\"2549\"}]},\"id\":\"2562\",\"type\":\"LegendItem\"},{\"attributes\":{},\"id\":\"1532\",\"type\":\"UnionRenderers\"},{\"attributes\":{\"coordinates\":null,\"dimension\":\"height\",\"group\":null,\"line_width\":0.1,\"location\":2.75},\"id\":\"1397\",\"type\":\"Span\"},{\"attributes\":{\"coordinates\":null,\"dimension\":\"height\",\"group\":null,\"line_width\":0.1,\"location\":2.875},\"id\":\"1398\",\"type\":\"Span\"},{\"attributes\":{\"coordinates\":null,\"dimension\":\"height\",\"group\":null,\"line_width\":0.1,\"location\":2.375},\"id\":\"2522\",\"type\":\"Span\"},{\"attributes\":{\"label\":{\"value\":\"Tempo\"},\"renderers\":[{\"id\":\"2227\"}]},\"id\":\"2240\",\"type\":\"LegendItem\"},{\"attributes\":{\"coordinates\":null,\"dimension\":\"height\",\"group\":null,\"line_width\":0.1,\"location\":3.125},\"id\":\"1399\",\"type\":\"Span\"},{\"attributes\":{\"coordinates\":null,\"dimension\":\"height\",\"group\":null,\"line_width\":0.1,\"location\":2.625},\"id\":\"2523\",\"type\":\"Span\"},{\"attributes\":{\"callback\":null,\"renderers\":[{\"id\":\"2227\"}],\"tooltips\":[[\"tempo\",\"@tempo\"],[\"grid_index\",\"@grid_index\"]]},\"id\":\"2241\",\"type\":\"HoverTool\"},{\"attributes\":{\"coordinates\":null,\"dimension\":\"height\",\"group\":null,\"line_width\":0.1,\"location\":3.25},\"id\":\"1400\",\"type\":\"Span\"},{\"attributes\":{\"coordinates\":null,\"dimension\":\"height\",\"group\":null,\"line_width\":0.1,\"location\":2.75},\"id\":\"2524\",\"type\":\"Span\"},{\"attributes\":{\"fill_alpha\":{\"value\":0.2},\"fill_color\":{\"value\":\"#70CE56\"},\"hatch_alpha\":{\"value\":0.2},\"line_alpha\":{\"value\":0.2},\"line_color\":{\"value\":\"#70CE56\"},\"size\":{\"value\":10},\"x\":{\"field\":\"x\"},\"y\":{\"field\":\"y\"}},\"id\":\"2569\",\"type\":\"Circle\"},{\"attributes\":{\"coordinates\":null,\"dimension\":\"height\",\"group\":null,\"line_width\":0.1,\"location\":3.375},\"id\":\"1401\",\"type\":\"Span\"},{\"attributes\":{\"coordinates\":null,\"data_source\":{\"id\":\"2565\"},\"glyph\":{\"id\":\"2567\"},\"group\":null,\"hover_glyph\":null,\"muted_glyph\":{\"id\":\"2569\"},\"nonselection_glyph\":{\"id\":\"2568\"},\"view\":{\"id\":\"2571\"}},\"id\":\"2570\",\"type\":\"GlyphRenderer\"},{\"attributes\":{\"coordinates\":null,\"dimension\":\"height\",\"group\":null,\"line_width\":0.1,\"location\":2.875},\"id\":\"2525\",\"type\":\"Span\"},{\"attributes\":{\"coordinates\":null,\"dimension\":\"height\",\"group\":null,\"line_width\":0.1,\"location\":3.625},\"id\":\"1402\",\"type\":\"Span\"},{\"attributes\":{\"coordinates\":null,\"dimension\":\"height\",\"group\":null,\"line_width\":0.1,\"location\":3.125},\"id\":\"2526\",\"type\":\"Span\"},{\"attributes\":{},\"id\":\"1754\",\"type\":\"UnionRenderers\"},{\"attributes\":{\"coordinates\":null,\"dimension\":\"height\",\"group\":null,\"line_width\":0.1,\"location\":3.25},\"id\":\"2527\",\"type\":\"Span\"},{\"attributes\":{\"label\":{\"value\":\"Time Signature\"},\"renderers\":[{\"id\":\"2570\"}]},\"id\":\"2585\",\"type\":\"LegendItem\"},{\"attributes\":{},\"id\":\"2015\",\"type\":\"UnionRenderers\"},{\"attributes\":{\"fill_alpha\":{\"value\":0.1},\"fill_color\":{\"value\":\"#70CE56\"},\"hatch_alpha\":{\"value\":0.1},\"line_alpha\":{\"value\":0.1},\"line_color\":{\"value\":\"#70CE56\"},\"size\":{\"value\":10},\"x\":{\"field\":\"x\"},\"y\":{\"field\":\"y\"}},\"id\":\"1924\",\"type\":\"Circle\"},{\"attributes\":{},\"id\":\"2583\",\"type\":\"Selection\"},{\"attributes\":{\"source\":{\"id\":\"1921\"}},\"id\":\"1927\",\"type\":\"CDSView\"},{\"attributes\":{},\"id\":\"1271\",\"type\":\"UnionRenderers\"},{\"attributes\":{\"fill_alpha\":{\"value\":0.2},\"fill_color\":{\"value\":\"#70CE56\"},\"hatch_alpha\":{\"value\":0.2},\"line_alpha\":{\"value\":0.2},\"line_color\":{\"value\":\"#70CE56\"},\"size\":{\"value\":10},\"x\":{\"field\":\"x\"},\"y\":{\"field\":\"y\"}},\"id\":\"1925\",\"type\":\"Circle\"},{\"attributes\":{\"coordinates\":null,\"data_source\":{\"id\":\"1921\"},\"glyph\":{\"id\":\"1923\"},\"group\":null,\"hover_glyph\":null,\"muted_glyph\":{\"id\":\"1925\"},\"nonselection_glyph\":{\"id\":\"1924\"},\"view\":{\"id\":\"1927\"}},\"id\":\"1926\",\"type\":\"GlyphRenderer\"},{\"attributes\":{},\"id\":\"1939\",\"type\":\"Selection\"},{\"attributes\":{\"coordinates\":null,\"dimension\":\"height\",\"group\":null,\"line_width\":0.1,\"location\":3.75},\"id\":\"1403\",\"type\":\"Span\"},{\"attributes\":{\"coordinates\":null,\"dimension\":\"height\",\"group\":null,\"line_width\":0.1,\"location\":3.875},\"id\":\"1404\",\"type\":\"Span\"},{\"attributes\":{\"coordinates\":null,\"dimension\":\"height\",\"group\":null,\"line_width\":0.1,\"location\":3.375},\"id\":\"2528\",\"type\":\"Span\"},{\"attributes\":{\"callback\":null,\"renderers\":[{\"id\":\"2570\"}],\"tooltips\":[[\"Numerator\",\"@Numerator\"],[\"Denominator\",\"@Denominator\"],[\"grid_index\",\"@grid_index\"]]},\"id\":\"2586\",\"type\":\"HoverTool\"},{\"attributes\":{\"coordinates\":null,\"dimension\":\"height\",\"group\":null,\"line_width\":0.1,\"location\":3.625},\"id\":\"2529\",\"type\":\"Span\"},{\"attributes\":{},\"id\":\"2582\",\"type\":\"UnionRenderers\"},{\"attributes\":{\"coordinates\":null,\"dimension\":\"height\",\"group\":null,\"line_width\":0.5,\"location\":0.0},\"id\":\"1407\",\"type\":\"Span\"},{\"attributes\":{\"coordinates\":null,\"dimension\":\"height\",\"group\":null,\"line_width\":0.1,\"location\":3.75},\"id\":\"2530\",\"type\":\"Span\"},{\"attributes\":{\"coordinates\":null,\"dimension\":\"height\",\"group\":null,\"line_width\":0.5,\"location\":0.5},\"id\":\"1408\",\"type\":\"Span\"},{\"attributes\":{\"coordinates\":null,\"dimension\":\"height\",\"group\":null,\"line_width\":0.1,\"location\":3.875},\"id\":\"2531\",\"type\":\"Span\"},{\"attributes\":{\"coordinates\":null,\"dimension\":\"height\",\"group\":null,\"line_width\":0.5,\"location\":1.0},\"id\":\"1409\",\"type\":\"Span\"},{\"attributes\":{\"coordinates\":null,\"dimension\":\"height\",\"group\":null,\"line_width\":0.1,\"location\":0.75},\"id\":\"2512\",\"type\":\"Span\"},{\"attributes\":{\"coordinates\":null,\"dimension\":\"height\",\"group\":null,\"line_width\":0.5,\"location\":0.0},\"id\":\"2534\",\"type\":\"Span\"},{\"attributes\":{\"bottom\":{\"field\":\"bottom\"},\"fill_alpha\":{\"field\":\"velocity\"},\"fill_color\":{\"value\":\"grey\"},\"left\":{\"field\":\"start\"},\"line_color\":{\"value\":\"grey\"},\"right\":{\"field\":\"end\"},\"top\":{\"field\":\"top\"}},\"id\":\"1841\",\"type\":\"Quad\"},{\"attributes\":{\"coordinates\":null,\"dimension\":\"height\",\"group\":null,\"line_width\":0.5,\"location\":1.5},\"id\":\"1410\",\"type\":\"Span\"},{\"attributes\":{},\"id\":\"2560\",\"type\":\"Selection\"},{\"attributes\":{\"coordinates\":null,\"dimension\":\"height\",\"group\":null,\"line_width\":0.5,\"location\":2.0},\"id\":\"1411\",\"type\":\"Span\"},{\"attributes\":{\"coordinates\":null,\"dimension\":\"height\",\"group\":null,\"line_width\":0.5,\"location\":0.5},\"id\":\"2535\",\"type\":\"Span\"},{\"attributes\":{\"callback\":null,\"renderers\":[{\"id\":\"2488\"}],\"tooltips\":[[\"start\",\"@start\"],[\"end\",\"@end\"],[\"instrument\",\"@instrument\"],[\"voice_index\",\"@voice_index\"],[\"midi\",\"@midi\"],[\"velocity\",\"@velocity\"],[\"offset\",\"@offset\"],[\"offset_sec\",\"@offset_sec\"],[\"grid_line\",\"@grid_line\"]]},\"id\":\"2503\",\"type\":\"HoverTool\"},{\"attributes\":{\"coordinates\":null,\"dimension\":\"height\",\"group\":null,\"line_width\":0.5,\"location\":2.5},\"id\":\"1412\",\"type\":\"Span\"},{\"attributes\":{\"coordinates\":null,\"dimension\":\"height\",\"group\":null,\"line_width\":0.5,\"location\":1.0},\"id\":\"2536\",\"type\":\"Span\"},{\"attributes\":{\"coordinates\":null,\"dimension\":\"height\",\"group\":null,\"line_width\":0.5,\"location\":3.0},\"id\":\"1413\",\"type\":\"Span\"},{\"attributes\":{\"coordinates\":null,\"dimension\":\"height\",\"group\":null,\"line_width\":0.1,\"location\":1.25},\"id\":\"2515\",\"type\":\"Span\"},{\"attributes\":{\"coordinates\":null,\"dimension\":\"height\",\"group\":null,\"line_width\":0.5,\"location\":1.5},\"id\":\"2537\",\"type\":\"Span\"},{\"attributes\":{\"coordinates\":null,\"dimension\":\"height\",\"group\":null,\"line_width\":0.5,\"location\":3.5},\"id\":\"1414\",\"type\":\"Span\"},{\"attributes\":{\"coordinates\":null,\"dimension\":\"height\",\"group\":null,\"line_width\":0.5,\"location\":2.0},\"id\":\"2538\",\"type\":\"Span\"},{\"attributes\":{\"coordinates\":null,\"dimension\":\"height\",\"group\":null,\"line_width\":0.1,\"location\":0.875},\"id\":\"2513\",\"type\":\"Span\"},{\"attributes\":{\"coordinates\":null,\"dimension\":\"height\",\"group\":null,\"line_width\":0.5,\"location\":2.5},\"id\":\"2539\",\"type\":\"Span\"},{\"attributes\":{\"source\":{\"id\":\"1417\"}},\"id\":\"1423\",\"type\":\"CDSView\"},{\"attributes\":{\"coordinates\":null,\"dimension\":\"height\",\"group\":null,\"line_width\":0.5,\"location\":3.0},\"id\":\"2540\",\"type\":\"Span\"},{\"attributes\":{\"ticks\":[0,1,2,3]},\"id\":\"2506\",\"type\":\"FixedTicker\"},{\"attributes\":{},\"id\":\"1272\",\"type\":\"Selection\"},{\"attributes\":{},\"id\":\"2016\",\"type\":\"Selection\"},{\"attributes\":{\"fill_color\":{\"value\":\"#440154\"},\"line_color\":{\"value\":\"#440154\"},\"size\":{\"value\":10},\"x\":{\"field\":\"x\"},\"y\":{\"field\":\"y\"}},\"id\":\"1419\",\"type\":\"Circle\"},{\"attributes\":{},\"id\":\"1433\",\"type\":\"Selection\"},{\"attributes\":{\"coordinates\":null,\"dimension\":\"height\",\"group\":null,\"line_width\":0.1,\"location\":0.625},\"id\":\"2511\",\"type\":\"Span\"},{\"attributes\":{\"coordinates\":null,\"dimension\":\"height\",\"group\":null,\"line_width\":0.5,\"location\":3.5},\"id\":\"2541\",\"type\":\"Span\"},{\"attributes\":{\"coordinates\":null,\"data_source\":{\"id\":\"1417\"},\"glyph\":{\"id\":\"1419\"},\"group\":null,\"hover_glyph\":null,\"muted_glyph\":{\"id\":\"1421\"},\"nonselection_glyph\":{\"id\":\"1420\"},\"view\":{\"id\":\"1423\"}},\"id\":\"1422\",\"type\":\"GlyphRenderer\"},{\"attributes\":{\"coordinates\":null,\"dimension\":\"height\",\"group\":null,\"line_width\":0.1,\"location\":0.125},\"id\":\"2508\",\"type\":\"Span\"},{\"attributes\":{\"coordinates\":null,\"dimension\":\"height\",\"group\":null,\"line_width\":2,\"location\":0.0},\"id\":\"2542\",\"type\":\"Span\"},{\"attributes\":{\"coordinates\":null,\"dimension\":\"height\",\"group\":null,\"line_width\":0.1,\"location\":1.125},\"id\":\"2514\",\"type\":\"Span\"},{\"attributes\":{\"coordinates\":null,\"dimension\":\"height\",\"group\":null,\"line_width\":2,\"location\":2.0},\"id\":\"2543\",\"type\":\"Span\"},{\"attributes\":{\"data\":{\"Denominator\":[4],\"Numerator\":[4],\"grid_index\":[0],\"x\":[0.0],\"y\":[4]},\"selected\":{\"id\":\"1939\"},\"selection_policy\":{\"id\":\"1938\"}},\"id\":\"1921\",\"type\":\"ColumnDataSource\"},{\"attributes\":{\"fill_color\":{\"value\":\"#70CE56\"},\"line_color\":{\"value\":\"#70CE56\"},\"size\":{\"value\":10},\"x\":{\"field\":\"x\"},\"y\":{\"field\":\"y\"}},\"id\":\"1923\",\"type\":\"Circle\"},{\"attributes\":{\"label\":{\"value\":\"Piano Roll\"},\"renderers\":[{\"id\":\"2005\"}]},\"id\":\"2019\",\"type\":\"LegendItem\"},{\"attributes\":{\"fill_color\":{\"value\":\"#440154\"},\"line_color\":{\"value\":\"#440154\"},\"size\":{\"value\":10},\"x\":{\"field\":\"x\"},\"y\":{\"field\":\"y\"}},\"id\":\"2546\",\"type\":\"Circle\"},{\"attributes\":{\"coordinates\":null,\"dimension\":\"height\",\"group\":null,\"line_width\":0.1,\"location\":0.375},\"id\":\"2510\",\"type\":\"Span\"},{\"attributes\":{},\"id\":\"1432\",\"type\":\"UnionRenderers\"},{\"attributes\":{\"coordinates\":null,\"data_source\":{\"id\":\"2544\"},\"glyph\":{\"id\":\"2546\"},\"group\":null,\"hover_glyph\":null,\"muted_glyph\":{\"id\":\"2548\"},\"nonselection_glyph\":{\"id\":\"2547\"},\"view\":{\"id\":\"2550\"}},\"id\":\"2549\",\"type\":\"GlyphRenderer\"}],\"root_ids\":[\"2623\"]},\"title\":\"Bokeh Application\",\"version\":\"2.4.3\"}};\n  const render_items = [{\"docid\":\"99622fa1-f200-4f5c-93f8-329027b0b484\",\"root_ids\":[\"2623\"],\"roots\":{\"2623\":\"55007a44-23b2-476e-9034-f408737f571c\"}}];\n  root.Bokeh.embed.embed_items_notebook(docs_json, render_items);\n  }\n  if (root.Bokeh !== undefined) {\n    embed_document(root);\n  } else {\n    let attempts = 0;\n    const timer = setInterval(function(root) {\n      if (root.Bokeh !== undefined) {\n        clearInterval(timer);\n        embed_document(root);\n      } else {\n        attempts++;\n        if (attempts > 100) {\n          clearInterval(timer);\n          console.log(\"Bokeh: ERROR: Unable to run BokehJS code because BokehJS library is missing\");\n        }\n      }\n    }, 10, root)\n  }\n})(window);",
      "application/vnd.bokehjs_exec.v0+json": ""
     },
     "metadata": {
      "application/vnd.bokehjs_exec.v0+json": {
       "id": "2623"
      }
     },
     "output_type": "display_data"
    },
    {
     "data": {
      "text/plain": [
       "Tabs(id='2623', ...)"
      ],
      "text/html": [
       "<div style=\"display: table;\"><div style=\"display: table-row;\"><div style=\"display: table-cell;\"><b title=\"bokeh.models.layouts.Tabs\">Tabs</b>(</div><div style=\"display: table-cell;\">id&nbsp;=&nbsp;'2623', <span id=\"3525\" style=\"cursor: pointer;\">&hellip;)</span></div></div><div class=\"3524\" style=\"display: none;\"><div style=\"display: table-cell;\"></div><div style=\"display: table-cell;\">active&nbsp;=&nbsp;0,</div></div><div class=\"3524\" style=\"display: none;\"><div style=\"display: table-cell;\"></div><div style=\"display: table-cell;\">align&nbsp;=&nbsp;'start',</div></div><div class=\"3524\" style=\"display: none;\"><div style=\"display: table-cell;\"></div><div style=\"display: table-cell;\">aspect_ratio&nbsp;=&nbsp;None,</div></div><div class=\"3524\" style=\"display: none;\"><div style=\"display: table-cell;\"></div><div style=\"display: table-cell;\">background&nbsp;=&nbsp;None,</div></div><div class=\"3524\" style=\"display: none;\"><div style=\"display: table-cell;\"></div><div style=\"display: table-cell;\">css_classes&nbsp;=&nbsp;[],</div></div><div class=\"3524\" style=\"display: none;\"><div style=\"display: table-cell;\"></div><div style=\"display: table-cell;\">disabled&nbsp;=&nbsp;False,</div></div><div class=\"3524\" style=\"display: none;\"><div style=\"display: table-cell;\"></div><div style=\"display: table-cell;\">height&nbsp;=&nbsp;None,</div></div><div class=\"3524\" style=\"display: none;\"><div style=\"display: table-cell;\"></div><div style=\"display: table-cell;\">height_policy&nbsp;=&nbsp;'auto',</div></div><div class=\"3524\" style=\"display: none;\"><div style=\"display: table-cell;\"></div><div style=\"display: table-cell;\">js_event_callbacks&nbsp;=&nbsp;{},</div></div><div class=\"3524\" style=\"display: none;\"><div style=\"display: table-cell;\"></div><div style=\"display: table-cell;\">js_property_callbacks&nbsp;=&nbsp;{},</div></div><div class=\"3524\" style=\"display: none;\"><div style=\"display: table-cell;\"></div><div style=\"display: table-cell;\">margin&nbsp;=&nbsp;(0, 0, 0, 0),</div></div><div class=\"3524\" style=\"display: none;\"><div style=\"display: table-cell;\"></div><div style=\"display: table-cell;\">max_height&nbsp;=&nbsp;None,</div></div><div class=\"3524\" style=\"display: none;\"><div style=\"display: table-cell;\"></div><div style=\"display: table-cell;\">max_width&nbsp;=&nbsp;None,</div></div><div class=\"3524\" style=\"display: none;\"><div style=\"display: table-cell;\"></div><div style=\"display: table-cell;\">min_height&nbsp;=&nbsp;None,</div></div><div class=\"3524\" style=\"display: none;\"><div style=\"display: table-cell;\"></div><div style=\"display: table-cell;\">min_width&nbsp;=&nbsp;None,</div></div><div class=\"3524\" style=\"display: none;\"><div style=\"display: table-cell;\"></div><div style=\"display: table-cell;\">name&nbsp;=&nbsp;None,</div></div><div class=\"3524\" style=\"display: none;\"><div style=\"display: table-cell;\"></div><div style=\"display: table-cell;\">sizing_mode&nbsp;=&nbsp;None,</div></div><div class=\"3524\" style=\"display: none;\"><div style=\"display: table-cell;\"></div><div style=\"display: table-cell;\">subscribed_events&nbsp;=&nbsp;[],</div></div><div class=\"3524\" style=\"display: none;\"><div style=\"display: table-cell;\"></div><div style=\"display: table-cell;\">syncable&nbsp;=&nbsp;True,</div></div><div class=\"3524\" style=\"display: none;\"><div style=\"display: table-cell;\"></div><div style=\"display: table-cell;\">tabs&nbsp;=&nbsp;[Panel(id='2613', ...), Panel(id='2614', ...), Panel(id='2615', ...), Panel(id='2616', ...), Panel(id='2617', ...), Panel(id='2618', ...), Panel(id='2619', ...), Panel(id='2620', ...), Panel(id='2621', ...), Panel(id='2622', ...)],</div></div><div class=\"3524\" style=\"display: none;\"><div style=\"display: table-cell;\"></div><div style=\"display: table-cell;\">tabs_location&nbsp;=&nbsp;'above',</div></div><div class=\"3524\" style=\"display: none;\"><div style=\"display: table-cell;\"></div><div style=\"display: table-cell;\">tags&nbsp;=&nbsp;[],</div></div><div class=\"3524\" style=\"display: none;\"><div style=\"display: table-cell;\"></div><div style=\"display: table-cell;\">visible&nbsp;=&nbsp;True,</div></div><div class=\"3524\" style=\"display: none;\"><div style=\"display: table-cell;\"></div><div style=\"display: table-cell;\">width&nbsp;=&nbsp;None,</div></div><div class=\"3524\" style=\"display: none;\"><div style=\"display: table-cell;\"></div><div style=\"display: table-cell;\">width_policy&nbsp;=&nbsp;'auto')</div></div></div>\n",
       "<script>\n",
       "(function() {\n",
       "  let expanded = false;\n",
       "  const ellipsis = document.getElementById(\"3525\");\n",
       "  ellipsis.addEventListener(\"click\", function() {\n",
       "    const rows = document.getElementsByClassName(\"3524\");\n",
       "    for (let i = 0; i < rows.length; i++) {\n",
       "      const el = rows[i];\n",
       "      el.style.display = expanded ? \"none\" : \"table-row\";\n",
       "    }\n",
       "    ellipsis.innerHTML = expanded ? \"&hellip;)\" : \"&lsaquo;&lsaquo;&lsaquo;\";\n",
       "    expanded = !expanded;\n",
       "  });\n",
       "})();\n",
       "</script>\n"
      ]
     },
     "execution_count": 4,
     "metadata": {},
     "output_type": "execute_result"
    }
   ],
   "execution_count": 4
  },
  {
   "metadata": {
    "ExecuteTime": {
     "end_time": "2025-08-09T10:20:22.892958Z",
     "start_time": "2025-08-09T10:20:22.885521Z"
    }
   },
   "cell_type": "code",
   "source": [
    "import numpy as np\n",
    "try:\n",
    "    import seaborn as sns\n",
    "    HAVE_SEABORN = True\n",
    "except ModuleNotFoundError:\n",
    "    HAVE_SEABORN = False\n",
    "\n",
    "try:\n",
    "    import matplotlib.pyplot as plt\n",
    "    HAS_MATPLOT = True\n",
    "except:\n",
    "    HAS_MATPLOT = False\n",
    "\n",
    "def get_accent_hits_from_velocities(velocity_flat, accent_thresh=0.75, compare_consecutives=False):\n",
    "    \"\"\"\n",
    "    Extract accent hits from the velocity flat representation of HVO.\n",
    "    :param velocity_flat: a (B, T, 1) or (T, 1) numpy array where the last  column represents the velocity of hits.\n",
    "    :param use_median: if True, use the median velocity to determine accent hits, otherwise use 0.5\n",
    "    :return:\n",
    "    \"\"\"\n",
    "    assert velocity_flat.ndim == 1 or velocity_flat.shape[-1] == 1, \"Velocity flat must have 1 columns (hits, velocity, offset)\"\n",
    "\n",
    "    return np.where(velocity_flat > accent_thresh, 1, 0)\n",
    "\n",
    "def get_split_to_streams(hvo_sample, groove_dim=0):\n",
    "    \"\"\"\n",
    "    Split the HVO sample into input groove, streams, and flat output HVO.\n",
    "\n",
    "    Parameters:\n",
    "    -----------\n",
    "    hvo_sample : HVOSequence\n",
    "        The HVO sample to be split.\n",
    "    groove_dim : int, optional\n",
    "        The index of the groove dimension in the HVO sample. Default is 0.\n",
    "\n",
    "    Returns:\n",
    "    --------\n",
    "    input_hvo : HVOSequence\n",
    "        The input groove extracted from the HVO sample.\n",
    "    streams : list of HVOSequence\n",
    "        List of streams extracted from the HVO sample, excluding the groove dimension.\n",
    "    flat_out_hvo : HVOSequence\n",
    "        The flat output HVO sequence with the groove dimension set to zero.\n",
    "    \"\"\"\n",
    "    # get input groove\n",
    "    n_streams = hvo_sample.hits.shape[1]\n",
    "\n",
    "    input_hvo = hvo_sample.hvo[:, (groove_dim, groove_dim+n_streams, groove_dim+2*n_streams)]\n",
    "\n",
    "    # get flat of rest\n",
    "    flat_hvo = hvo_sample.copy()\n",
    "    flat_hvo.hvo[:, groove_dim] = 0                             # remove groove hit\n",
    "    flat_hvo.hvo[:, (groove_dim + n_streams)] = 0               # remove groove vel\n",
    "    flat_hvo.hvo[:, (groove_dim + n_streams*2)] = 0             # remove groove offset\n",
    "    flat_out_hvo  = flat_hvo.flatten_voices(reduce_dim=True)\n",
    "\n",
    "    # streams\n",
    "    streams = []\n",
    "    for i in range(n_streams):\n",
    "        if i != groove_dim:\n",
    "            streams.append(hvo_sample.hvo[:, (i, i+n_streams, i+2*n_streams)])\n",
    "\n",
    "    return input_hvo, streams, flat_out_hvo\n",
    "\n",
    "def Jaccard_similarity(a, b):\n",
    "    intersection = np.sum(np.minimum(a, b))\n",
    "    union = np.sum(np.maximum(a, b))\n",
    "    return (intersection / union)\n",
    "\n",
    "def hamming_distance(a, b):\n",
    "    if len(a) != len(b):\n",
    "        raise ValueError(\"Sequences must be of equal length\")\n",
    "    return sum(x != y for x, y in zip(a, b))/ len(a)\n",
    "\n",
    "from hvo_sequence.utils import fuzzy_Hamming_distance\n",
    "\n",
    "def extract_features_from_sets(hvo_sample, groove_dim):\n",
    "    \"\"\"\n",
    "    Extract control features from a set of HVO samples.\n",
    "    :param hvo_sample: HVOSequence\n",
    "        The HVO sample to extract control features from.\n",
    "    :param groove_dim: int\n",
    "        The index of the groove dimension in the HVO sample.\n",
    "    :return: dict\n",
    "        A dictionary containing the control features.\n",
    "    \"\"\"\n",
    "    input_hvo, out_streams, flat_out_hvo = get_split_to_streams(hvo_sample, groove_dim=groove_dim)\n",
    "\n",
    "    input_hits = input_hvo[:, 0]\n",
    "    flat_out_hits = flat_out_hvo[:, 0]\n",
    "    analysis_dict = {\n",
    "        \"groove_to_output_hit_hamming_distance\": float(hamming_distance(input_hits, flat_out_hits)),\n",
    "    }\n",
    "\n",
    "    input_velocities = input_hvo[:, 1]\n",
    "    input_accent_hits = get_accent_hits_from_velocities(input_velocities)\n",
    "    flat_out_velocities = flat_out_hvo[:, 1]\n",
    "    flat_out_accent_hits = get_accent_hits_from_velocities(flat_out_velocities)\n",
    "    analysis_dict.update({\n",
    "        \"groove_to_output_accent_hamming_distance\": float(hamming_distance(input_accent_hits, flat_out_accent_hits)),\n",
    "    })\n",
    "\n",
    "    # calculate hit\n",
    "    analysis_dict.update({f\"out_stream_{i}_jaccard_sim_with_flat_out\": float(Jaccard_similarity(out_streams[i][:, 0], flat_out_hits)) for i in range(len(out_streams))})\n",
    "    analysis_dict.update({f\"out_stream_{i}_accent_hamming_distance_with_flat_out\": float(hamming_distance(get_accent_hits_from_velocities(out_streams[i][:, 1]), flat_out_accent_hits)) for i in range(len(out_streams))})\n",
    "\n",
    "\n",
    "    return analysis_dict\n",
    "\n",
    "# plot violin plots of the control features\n",
    "\n",
    "def plot_control_features_violin(control_features_df):\n",
    "    \"\"\"\n",
    "    Plot violin plots of the control features.\n",
    "    :param control_features_df: pd.DataFrame\n",
    "        DataFrame containing the control features.\n",
    "    \"\"\"\n",
    "        \n",
    "    plt.figure(figsize=(6, 8))\n",
    "    sns.violinplot(data=control_features_df.drop(columns=[\"sample_id\", \"collection\"]))\n",
    "    # 90 deg rotate with wrapp\n",
    "    plt.xticks(rotation=90, fontsize=8)\n",
    "    plt.title(\"Control Features Violin Plots\")\n",
    "    plt.tight_layout()\n",
    "\n",
    "\n",
    "    plt.show()\n",
    "\n",
    "# plot the  scatter of groove to output hit hamming distance and groove to output accent hamming distance\n",
    "def plot_scatter_input_output_distribution(control_features_df, use_normalized_accents=False):\n",
    "    if not HAS_MATPLOT: return\n",
    "    plt.figure(figsize=(6, 4))\n",
    "    x = control_features_df[\"groove_to_output_hit_hamming_distance\"]\n",
    "    y = control_features_df[\"groove_to_output_accent_hamming_distance\"] if not use_normalized_accents else control_features_df[\"accent_hamming_values_per_hit_hamming_normalized\"]\n",
    "    plt.scatter(x, y, alpha=0.005)\n",
    "    plt.xlabel(\"Groove to Output Hit Hamming Distance\")\n",
    "    plt.ylabel(\"Groove to Output Accent Hamming Distance\")\n",
    "    if use_normalized_accents:\n",
    "        plt.title(\"Scatter Plot of Groove to Output Hit and Binned Accent Hamming Distances\")\n",
    "    else:\n",
    "        plt.title(\"Scatter Plot of Groove to Output Hit and Accent Hamming Distances\")\n",
    "    plt.tight_layout()\n",
    "    plt.show()\n",
    "\n"
   ],
   "id": "eb65630743dd3f59",
   "outputs": [],
   "execution_count": 14
  },
  {
   "metadata": {
    "ExecuteTime": {
     "end_time": "2025-08-09T10:20:23.945096Z",
     "start_time": "2025-08-09T10:20:23.941958Z"
    }
   },
   "cell_type": "code",
   "source": "split_n_bar_phrases[0].metadata",
   "id": "f59f66b0b3141e47",
   "outputs": [
    {
     "data": {
      "text/plain": [
       "{'track_number': '40',\n",
       " 'genre': 'latin-samba',\n",
       " 'bpm': '116',\n",
       " 'meter': '4-4',\n",
       " 'grouping': 'velocity',\n",
       " 'member': 'groove',\n",
       " 'source': 'GrooveMIDI',\n",
       " 'stream_0': 'low',\n",
       " 'stream_1': 'mid',\n",
       " 'stream_2': 'high',\n",
       " 'stream_3': 'groove',\n",
       " 'start_bar': 0,\n",
       " 'collection': 'groove_midi',\n",
       " 'sample_id': '40_latin-samba_116_fill_4-4'}"
      ]
     },
     "execution_count": 15,
     "metadata": {},
     "output_type": "execute_result"
    }
   ],
   "execution_count": 15
  },
  {
   "cell_type": "code",
   "id": "34057300e8051c72",
   "metadata": {
    "ExecuteTime": {
     "end_time": "2025-08-09T10:20:26.645308Z",
     "start_time": "2025-08-09T10:20:26.508644Z"
    }
   },
   "source": [
    "hvo_samples, sample_indices = get_randome_phrases(split_n_bar_phrases, n=1)\n",
    "create_multitab_from_figures(hvo_samples, [f\"ix: {ix}\" for ix in sample_indices], show_tabs=True)\n",
    "extract_features_from_sets(hvo_samples[0], groove_dim=0)"
   ],
   "outputs": [
    {
     "data": {
      "text/html": [
       "<div class=\"bk-root\">\n",
       "        <a href=\"https://bokeh.org\" target=\"_blank\" class=\"bk-logo bk-logo-small bk-logo-notebook\"></a>\n",
       "        <span id=\"3930\">Loading BokehJS ...</span>\n",
       "    </div>\n"
      ]
     },
     "metadata": {},
     "output_type": "display_data"
    },
    {
     "data": {
      "application/javascript": "(function(root) {\n  function now() {\n    return new Date();\n  }\n\n  const force = true;\n\n  if (typeof root._bokeh_onload_callbacks === \"undefined\" || force === true) {\n    root._bokeh_onload_callbacks = [];\n    root._bokeh_is_loading = undefined;\n  }\n\nconst JS_MIME_TYPE = 'application/javascript';\n  const HTML_MIME_TYPE = 'text/html';\n  const EXEC_MIME_TYPE = 'application/vnd.bokehjs_exec.v0+json';\n  const CLASS_NAME = 'output_bokeh rendered_html';\n\n  /**\n   * Render data to the DOM node\n   */\n  function render(props, node) {\n    const script = document.createElement(\"script\");\n    node.appendChild(script);\n  }\n\n  /**\n   * Handle when an output is cleared or removed\n   */\n  function handleClearOutput(event, handle) {\n    const cell = handle.cell;\n\n    const id = cell.output_area._bokeh_element_id;\n    const server_id = cell.output_area._bokeh_server_id;\n    // Clean up Bokeh references\n    if (id != null && id in Bokeh.index) {\n      Bokeh.index[id].model.document.clear();\n      delete Bokeh.index[id];\n    }\n\n    if (server_id !== undefined) {\n      // Clean up Bokeh references\n      const cmd_clean = \"from bokeh.io.state import curstate; print(curstate().uuid_to_server['\" + server_id + \"'].get_sessions()[0].document.roots[0]._id)\";\n      cell.notebook.kernel.execute(cmd_clean, {\n        iopub: {\n          output: function(msg) {\n            const id = msg.content.text.trim();\n            if (id in Bokeh.index) {\n              Bokeh.index[id].model.document.clear();\n              delete Bokeh.index[id];\n            }\n          }\n        }\n      });\n      // Destroy server and session\n      const cmd_destroy = \"import bokeh.io.notebook as ion; ion.destroy_server('\" + server_id + \"')\";\n      cell.notebook.kernel.execute(cmd_destroy);\n    }\n  }\n\n  /**\n   * Handle when a new output is added\n   */\n  function handleAddOutput(event, handle) {\n    const output_area = handle.output_area;\n    const output = handle.output;\n\n    // limit handleAddOutput to display_data with EXEC_MIME_TYPE content only\n    if ((output.output_type != \"display_data\") || (!Object.prototype.hasOwnProperty.call(output.data, EXEC_MIME_TYPE))) {\n      return\n    }\n\n    const toinsert = output_area.element.find(\".\" + CLASS_NAME.split(' ')[0]);\n\n    if (output.metadata[EXEC_MIME_TYPE][\"id\"] !== undefined) {\n      toinsert[toinsert.length - 1].firstChild.textContent = output.data[JS_MIME_TYPE];\n      // store reference to embed id on output_area\n      output_area._bokeh_element_id = output.metadata[EXEC_MIME_TYPE][\"id\"];\n    }\n    if (output.metadata[EXEC_MIME_TYPE][\"server_id\"] !== undefined) {\n      const bk_div = document.createElement(\"div\");\n      bk_div.innerHTML = output.data[HTML_MIME_TYPE];\n      const script_attrs = bk_div.children[0].attributes;\n      for (let i = 0; i < script_attrs.length; i++) {\n        toinsert[toinsert.length - 1].firstChild.setAttribute(script_attrs[i].name, script_attrs[i].value);\n        toinsert[toinsert.length - 1].firstChild.textContent = bk_div.children[0].textContent\n      }\n      // store reference to server id on output_area\n      output_area._bokeh_server_id = output.metadata[EXEC_MIME_TYPE][\"server_id\"];\n    }\n  }\n\n  function register_renderer(events, OutputArea) {\n\n    function append_mime(data, metadata, element) {\n      // create a DOM node to render to\n      const toinsert = this.create_output_subarea(\n        metadata,\n        CLASS_NAME,\n        EXEC_MIME_TYPE\n      );\n      this.keyboard_manager.register_events(toinsert);\n      // Render to node\n      const props = {data: data, metadata: metadata[EXEC_MIME_TYPE]};\n      render(props, toinsert[toinsert.length - 1]);\n      element.append(toinsert);\n      return toinsert\n    }\n\n    /* Handle when an output is cleared or removed */\n    events.on('clear_output.CodeCell', handleClearOutput);\n    events.on('delete.Cell', handleClearOutput);\n\n    /* Handle when a new output is added */\n    events.on('output_added.OutputArea', handleAddOutput);\n\n    /**\n     * Register the mime type and append_mime function with output_area\n     */\n    OutputArea.prototype.register_mime_type(EXEC_MIME_TYPE, append_mime, {\n      /* Is output safe? */\n      safe: true,\n      /* Index of renderer in `output_area.display_order` */\n      index: 0\n    });\n  }\n\n  // register the mime type if in Jupyter Notebook environment and previously unregistered\n  if (root.Jupyter !== undefined) {\n    const events = require('base/js/events');\n    const OutputArea = require('notebook/js/outputarea').OutputArea;\n\n    if (OutputArea.prototype.mime_types().indexOf(EXEC_MIME_TYPE) == -1) {\n      register_renderer(events, OutputArea);\n    }\n  }\n  if (typeof (root._bokeh_timeout) === \"undefined\" || force === true) {\n    root._bokeh_timeout = Date.now() + 5000;\n    root._bokeh_failed_load = false;\n  }\n\n  const NB_LOAD_WARNING = {'data': {'text/html':\n     \"<div style='background-color: #fdd'>\\n\"+\n     \"<p>\\n\"+\n     \"BokehJS does not appear to have successfully loaded. If loading BokehJS from CDN, this \\n\"+\n     \"may be due to a slow or bad network connection. Possible fixes:\\n\"+\n     \"</p>\\n\"+\n     \"<ul>\\n\"+\n     \"<li>re-rerun `output_notebook()` to attempt to load from CDN again, or</li>\\n\"+\n     \"<li>use INLINE resources instead, as so:</li>\\n\"+\n     \"</ul>\\n\"+\n     \"<code>\\n\"+\n     \"from bokeh.resources import INLINE\\n\"+\n     \"output_notebook(resources=INLINE)\\n\"+\n     \"</code>\\n\"+\n     \"</div>\"}};\n\n  function display_loaded() {\n    const el = document.getElementById(\"3930\");\n    if (el != null) {\n      el.textContent = \"BokehJS is loading...\";\n    }\n    if (root.Bokeh !== undefined) {\n      if (el != null) {\n        el.textContent = \"BokehJS \" + root.Bokeh.version + \" successfully loaded.\";\n      }\n    } else if (Date.now() < root._bokeh_timeout) {\n      setTimeout(display_loaded, 100)\n    }\n  }\n\n  function run_callbacks() {\n    try {\n      root._bokeh_onload_callbacks.forEach(function(callback) {\n        if (callback != null)\n          callback();\n      });\n    } finally {\n      delete root._bokeh_onload_callbacks\n    }\n    console.debug(\"Bokeh: all callbacks have finished\");\n  }\n\n  function load_libs(css_urls, js_urls, callback) {\n    if (css_urls == null) css_urls = [];\n    if (js_urls == null) js_urls = [];\n\n    root._bokeh_onload_callbacks.push(callback);\n    if (root._bokeh_is_loading > 0) {\n      console.debug(\"Bokeh: BokehJS is being loaded, scheduling callback at\", now());\n      return null;\n    }\n    if (js_urls == null || js_urls.length === 0) {\n      run_callbacks();\n      return null;\n    }\n    console.debug(\"Bokeh: BokehJS not loaded, scheduling load and callback at\", now());\n    root._bokeh_is_loading = css_urls.length + js_urls.length;\n\n    function on_load() {\n      root._bokeh_is_loading--;\n      if (root._bokeh_is_loading === 0) {\n        console.debug(\"Bokeh: all BokehJS libraries/stylesheets loaded\");\n        run_callbacks()\n      }\n    }\n\n    function on_error(url) {\n      console.error(\"failed to load \" + url);\n    }\n\n    for (let i = 0; i < css_urls.length; i++) {\n      const url = css_urls[i];\n      const element = document.createElement(\"link\");\n      element.onload = on_load;\n      element.onerror = on_error.bind(null, url);\n      element.rel = \"stylesheet\";\n      element.type = \"text/css\";\n      element.href = url;\n      console.debug(\"Bokeh: injecting link tag for BokehJS stylesheet: \", url);\n      document.body.appendChild(element);\n    }\n\n    for (let i = 0; i < js_urls.length; i++) {\n      const url = js_urls[i];\n      const element = document.createElement('script');\n      element.onload = on_load;\n      element.onerror = on_error.bind(null, url);\n      element.async = false;\n      element.src = url;\n      console.debug(\"Bokeh: injecting script tag for BokehJS library: \", url);\n      document.head.appendChild(element);\n    }\n  };\n\n  function inject_raw_css(css) {\n    const element = document.createElement(\"style\");\n    element.appendChild(document.createTextNode(css));\n    document.body.appendChild(element);\n  }\n\n  const js_urls = [\"https://cdn.bokeh.org/bokeh/release/bokeh-2.4.3.min.js\", \"https://cdn.bokeh.org/bokeh/release/bokeh-gl-2.4.3.min.js\", \"https://cdn.bokeh.org/bokeh/release/bokeh-widgets-2.4.3.min.js\", \"https://cdn.bokeh.org/bokeh/release/bokeh-tables-2.4.3.min.js\", \"https://cdn.bokeh.org/bokeh/release/bokeh-mathjax-2.4.3.min.js\"];\n  const css_urls = [];\n\n  const inline_js = [    function(Bokeh) {\n      Bokeh.set_log_level(\"info\");\n    },\nfunction(Bokeh) {\n    }\n  ];\n\n  function run_inline_js() {\n    if (root.Bokeh !== undefined || force === true) {\n          for (let i = 0; i < inline_js.length; i++) {\n      inline_js[i].call(root, root.Bokeh);\n    }\nif (force === true) {\n        display_loaded();\n      }} else if (Date.now() < root._bokeh_timeout) {\n      setTimeout(run_inline_js, 100);\n    } else if (!root._bokeh_failed_load) {\n      console.log(\"Bokeh: BokehJS failed to load within specified timeout.\");\n      root._bokeh_failed_load = true;\n    } else if (force !== true) {\n      const cell = $(document.getElementById(\"3930\")).parents('.cell').data().cell;\n      cell.output_area.append_execute_result(NB_LOAD_WARNING)\n    }\n  }\n\n  if (root._bokeh_is_loading === 0) {\n    console.debug(\"Bokeh: BokehJS loaded, going straight to plotting\");\n    run_inline_js();\n  } else {\n    load_libs(css_urls, js_urls, function() {\n      console.debug(\"Bokeh: BokehJS plotting callback run at\", now());\n      run_inline_js();\n    });\n  }\n}(window));",
      "application/vnd.bokehjs_load.v0+json": "(function(root) {\n  function now() {\n    return new Date();\n  }\n\n  const force = true;\n\n  if (typeof root._bokeh_onload_callbacks === \"undefined\" || force === true) {\n    root._bokeh_onload_callbacks = [];\n    root._bokeh_is_loading = undefined;\n  }\n\n\n  if (typeof (root._bokeh_timeout) === \"undefined\" || force === true) {\n    root._bokeh_timeout = Date.now() + 5000;\n    root._bokeh_failed_load = false;\n  }\n\n  const NB_LOAD_WARNING = {'data': {'text/html':\n     \"<div style='background-color: #fdd'>\\n\"+\n     \"<p>\\n\"+\n     \"BokehJS does not appear to have successfully loaded. If loading BokehJS from CDN, this \\n\"+\n     \"may be due to a slow or bad network connection. Possible fixes:\\n\"+\n     \"</p>\\n\"+\n     \"<ul>\\n\"+\n     \"<li>re-rerun `output_notebook()` to attempt to load from CDN again, or</li>\\n\"+\n     \"<li>use INLINE resources instead, as so:</li>\\n\"+\n     \"</ul>\\n\"+\n     \"<code>\\n\"+\n     \"from bokeh.resources import INLINE\\n\"+\n     \"output_notebook(resources=INLINE)\\n\"+\n     \"</code>\\n\"+\n     \"</div>\"}};\n\n  function display_loaded() {\n    const el = document.getElementById(\"3930\");\n    if (el != null) {\n      el.textContent = \"BokehJS is loading...\";\n    }\n    if (root.Bokeh !== undefined) {\n      if (el != null) {\n        el.textContent = \"BokehJS \" + root.Bokeh.version + \" successfully loaded.\";\n      }\n    } else if (Date.now() < root._bokeh_timeout) {\n      setTimeout(display_loaded, 100)\n    }\n  }\n\n  function run_callbacks() {\n    try {\n      root._bokeh_onload_callbacks.forEach(function(callback) {\n        if (callback != null)\n          callback();\n      });\n    } finally {\n      delete root._bokeh_onload_callbacks\n    }\n    console.debug(\"Bokeh: all callbacks have finished\");\n  }\n\n  function load_libs(css_urls, js_urls, callback) {\n    if (css_urls == null) css_urls = [];\n    if (js_urls == null) js_urls = [];\n\n    root._bokeh_onload_callbacks.push(callback);\n    if (root._bokeh_is_loading > 0) {\n      console.debug(\"Bokeh: BokehJS is being loaded, scheduling callback at\", now());\n      return null;\n    }\n    if (js_urls == null || js_urls.length === 0) {\n      run_callbacks();\n      return null;\n    }\n    console.debug(\"Bokeh: BokehJS not loaded, scheduling load and callback at\", now());\n    root._bokeh_is_loading = css_urls.length + js_urls.length;\n\n    function on_load() {\n      root._bokeh_is_loading--;\n      if (root._bokeh_is_loading === 0) {\n        console.debug(\"Bokeh: all BokehJS libraries/stylesheets loaded\");\n        run_callbacks()\n      }\n    }\n\n    function on_error(url) {\n      console.error(\"failed to load \" + url);\n    }\n\n    for (let i = 0; i < css_urls.length; i++) {\n      const url = css_urls[i];\n      const element = document.createElement(\"link\");\n      element.onload = on_load;\n      element.onerror = on_error.bind(null, url);\n      element.rel = \"stylesheet\";\n      element.type = \"text/css\";\n      element.href = url;\n      console.debug(\"Bokeh: injecting link tag for BokehJS stylesheet: \", url);\n      document.body.appendChild(element);\n    }\n\n    for (let i = 0; i < js_urls.length; i++) {\n      const url = js_urls[i];\n      const element = document.createElement('script');\n      element.onload = on_load;\n      element.onerror = on_error.bind(null, url);\n      element.async = false;\n      element.src = url;\n      console.debug(\"Bokeh: injecting script tag for BokehJS library: \", url);\n      document.head.appendChild(element);\n    }\n  };\n\n  function inject_raw_css(css) {\n    const element = document.createElement(\"style\");\n    element.appendChild(document.createTextNode(css));\n    document.body.appendChild(element);\n  }\n\n  const js_urls = [\"https://cdn.bokeh.org/bokeh/release/bokeh-2.4.3.min.js\", \"https://cdn.bokeh.org/bokeh/release/bokeh-gl-2.4.3.min.js\", \"https://cdn.bokeh.org/bokeh/release/bokeh-widgets-2.4.3.min.js\", \"https://cdn.bokeh.org/bokeh/release/bokeh-tables-2.4.3.min.js\", \"https://cdn.bokeh.org/bokeh/release/bokeh-mathjax-2.4.3.min.js\"];\n  const css_urls = [];\n\n  const inline_js = [    function(Bokeh) {\n      Bokeh.set_log_level(\"info\");\n    },\nfunction(Bokeh) {\n    }\n  ];\n\n  function run_inline_js() {\n    if (root.Bokeh !== undefined || force === true) {\n          for (let i = 0; i < inline_js.length; i++) {\n      inline_js[i].call(root, root.Bokeh);\n    }\nif (force === true) {\n        display_loaded();\n      }} else if (Date.now() < root._bokeh_timeout) {\n      setTimeout(run_inline_js, 100);\n    } else if (!root._bokeh_failed_load) {\n      console.log(\"Bokeh: BokehJS failed to load within specified timeout.\");\n      root._bokeh_failed_load = true;\n    } else if (force !== true) {\n      const cell = $(document.getElementById(\"3930\")).parents('.cell').data().cell;\n      cell.output_area.append_execute_result(NB_LOAD_WARNING)\n    }\n  }\n\n  if (root._bokeh_is_loading === 0) {\n    console.debug(\"Bokeh: BokehJS loaded, going straight to plotting\");\n    run_inline_js();\n  } else {\n    load_libs(css_urls, js_urls, function() {\n      console.debug(\"Bokeh: BokehJS plotting callback run at\", now());\n      run_inline_js();\n    });\n  }\n}(window));"
     },
     "metadata": {},
     "output_type": "display_data"
    },
    {
     "data": {
      "text/html": [
       "\n",
       "  <div class=\"bk-root\" id=\"26943588-68be-4e70-adb8-061588de58f4\" data-root-id=\"4093\"></div>\n"
      ]
     },
     "metadata": {},
     "output_type": "display_data"
    },
    {
     "data": {
      "application/javascript": "(function(root) {\n  function embed_document(root) {\n  const docs_json = {\"4c7b1fca-dcbe-48d0-8e0e-ea4db2de4486\":{\"defs\":[],\"roots\":{\"references\":[{\"attributes\":{\"tabs\":[{\"id\":\"4092\"}]},\"id\":\"4093\",\"type\":\"Tabs\"},{\"attributes\":{\"coordinates\":null,\"dimension\":\"height\",\"group\":null,\"line_width\":0.1,\"location\":0.409},\"id\":\"3989\",\"type\":\"Span\"},{\"attributes\":{},\"id\":\"4061\",\"type\":\"UnionRenderers\"},{\"attributes\":{\"coordinates\":null,\"dimension\":\"height\",\"group\":null,\"line_width\":0.1,\"location\":0.136},\"id\":\"3987\",\"type\":\"Span\"},{\"attributes\":{\"coordinates\":null,\"dimension\":\"height\",\"group\":null,\"line_width\":0.1,\"location\":0.681},\"id\":\"3990\",\"type\":\"Span\"},{\"attributes\":{\"ticks\":[0.0,0.55,1.09,1.64,2.18,2.73,3.27,3.82]},\"id\":\"4011\",\"type\":\"FixedTicker\"},{\"attributes\":{},\"id\":\"4039\",\"type\":\"Selection\"},{\"attributes\":{},\"id\":\"4086\",\"type\":\"UnionRenderers\"},{\"attributes\":{\"coordinates\":null,\"dimension\":\"height\",\"group\":null,\"line_width\":0.1,\"location\":0.818},\"id\":\"3991\",\"type\":\"Span\"},{\"attributes\":{\"source\":{\"id\":\"3962\"}},\"id\":\"3968\",\"type\":\"CDSView\"},{\"attributes\":{\"callback\":null,\"renderers\":[{\"id\":\"4049\"}],\"tooltips\":[[\"Numerator\",\"@Numerator\"],[\"Denominator\",\"@Denominator\"],[\"grid_index\",\"@grid_index\"]]},\"id\":\"4065\",\"type\":\"HoverTool\"},{\"attributes\":{\"coordinates\":null,\"data_source\":{\"id\":\"4023\"},\"glyph\":{\"id\":\"4025\"},\"group\":null,\"hover_glyph\":null,\"muted_glyph\":{\"id\":\"4027\"},\"nonselection_glyph\":{\"id\":\"4026\"},\"view\":{\"id\":\"4029\"}},\"id\":\"4028\",\"type\":\"GlyphRenderer\"},{\"attributes\":{\"bottom\":{\"field\":\"bottom\"},\"fill_alpha\":{\"field\":\"velocity\"},\"fill_color\":{\"value\":\"grey\"},\"left\":{\"field\":\"start\"},\"line_color\":{\"value\":\"grey\"},\"right\":{\"field\":\"end\"},\"top\":{\"field\":\"top\"}},\"id\":\"3964\",\"type\":\"Quad\"},{\"attributes\":{},\"id\":\"4038\",\"type\":\"UnionRenderers\"},{\"attributes\":{\"ticks\":[0,1,2,3]},\"id\":\"3985\",\"type\":\"FixedTicker\"},{\"attributes\":{\"coordinates\":null,\"dimension\":\"height\",\"group\":null,\"line_width\":0.1,\"location\":4.227},\"id\":\"4010\",\"type\":\"Span\"},{\"attributes\":{\"source\":{\"id\":\"4044\"}},\"id\":\"4050\",\"type\":\"CDSView\"},{\"attributes\":{\"label\":{\"value\":\"Tempo\"},\"renderers\":[{\"id\":\"4028\"}]},\"id\":\"4041\",\"type\":\"LegendItem\"},{\"attributes\":{},\"id\":\"4062\",\"type\":\"Selection\"},{\"attributes\":{\"fill_alpha\":{\"value\":0.2},\"fill_color\":{\"value\":\"#70CE56\"},\"hatch_alpha\":{\"value\":0.2},\"line_alpha\":{\"value\":0.2},\"line_color\":{\"value\":\"#70CE56\"},\"size\":{\"value\":10},\"x\":{\"field\":\"x\"},\"y\":{\"field\":\"y\"}},\"id\":\"4048\",\"type\":\"Circle\"},{\"attributes\":{\"callback\":null,\"renderers\":[{\"id\":\"3967\"}],\"tooltips\":[[\"start\",\"@start\"],[\"end\",\"@end\"],[\"instrument\",\"@instrument\"],[\"voice_index\",\"@voice_index\"],[\"midi\",\"@midi\"],[\"velocity\",\"@velocity\"],[\"offset\",\"@offset\"],[\"offset_sec\",\"@offset_sec\"],[\"grid_line\",\"@grid_line\"]]},\"id\":\"3982\",\"type\":\"HoverTool\"},{\"attributes\":{\"coordinates\":null,\"data_source\":{\"id\":\"4044\"},\"glyph\":{\"id\":\"4046\"},\"group\":null,\"hover_glyph\":null,\"muted_glyph\":{\"id\":\"4048\"},\"nonselection_glyph\":{\"id\":\"4047\"},\"view\":{\"id\":\"4050\"}},\"id\":\"4049\",\"type\":\"GlyphRenderer\"},{\"attributes\":{\"background_fill_alpha\":0.25,\"border_line_alpha\":0,\"click_policy\":\"hide\",\"coordinates\":null,\"glyph_width\":15,\"group\":null,\"items\":[{\"id\":\"3981\"},{\"id\":\"4041\"},{\"id\":\"4064\"},{\"id\":\"4089\"}],\"label_standoff\":8,\"label_text_color\":\"#5B5B5B\",\"label_text_font\":\"Calibri Light\",\"label_text_font_size\":\"0.95em\",\"label_text_font_style\":\"bold\",\"spacing\":8},\"id\":\"3980\",\"type\":\"Legend\"},{\"attributes\":{\"bottom\":{\"field\":\"bottom\"},\"fill_alpha\":{\"value\":0.2},\"fill_color\":{\"value\":\"grey\"},\"hatch_alpha\":{\"value\":0.2},\"left\":{\"field\":\"start\"},\"line_alpha\":{\"value\":0.2},\"line_color\":{\"value\":\"grey\"},\"right\":{\"field\":\"end\"},\"top\":{\"field\":\"top\"}},\"id\":\"3966\",\"type\":\"Quad\"},{\"attributes\":{\"coordinates\":null,\"dimension\":\"height\",\"group\":null,\"line_width\":0.5,\"location\":3.818},\"id\":\"4020\",\"type\":\"Span\"},{\"attributes\":{\"coordinates\":null,\"dimension\":\"height\",\"group\":null,\"line_width\":0.1,\"location\":2.455},\"id\":\"4000\",\"type\":\"Span\"},{\"attributes\":{\"coordinates\":null,\"dimension\":\"height\",\"group\":null,\"line_width\":0.1,\"location\":4.091},\"id\":\"4009\",\"type\":\"Span\"},{\"attributes\":{\"coordinates\":null,\"dimension\":\"height\",\"group\":null,\"line_width\":0.1,\"location\":2.591},\"id\":\"4001\",\"type\":\"Span\"},{\"attributes\":{\"coordinates\":null,\"dimension\":\"height\",\"group\":null,\"line_width\":0.1,\"location\":3.0},\"id\":\"4003\",\"type\":\"Span\"},{\"attributes\":{\"coordinates\":null,\"dimension\":\"height\",\"group\":null,\"line_width\":0.1,\"location\":3.954},\"id\":\"4008\",\"type\":\"Span\"},{\"attributes\":{\"coordinates\":null,\"dimension\":\"height\",\"group\":null,\"line_width\":0.1,\"location\":2.863},\"id\":\"4002\",\"type\":\"Span\"},{\"attributes\":{\"fill_alpha\":{\"value\":0.1},\"fill_color\":{\"value\":\"#70CE56\"},\"hatch_alpha\":{\"value\":0.1},\"line_alpha\":{\"value\":0.1},\"line_color\":{\"value\":\"#70CE56\"},\"size\":{\"value\":10},\"x\":{\"field\":\"x\"},\"y\":{\"field\":\"y\"}},\"id\":\"4047\",\"type\":\"Circle\"},{\"attributes\":{\"label\":{\"value\":\"Time Signature\"},\"renderers\":[{\"id\":\"4049\"}]},\"id\":\"4064\",\"type\":\"LegendItem\"},{\"attributes\":{\"data\":{\"Denominator\":[4],\"Numerator\":[4],\"grid_index\":[0],\"x\":[0.0],\"y\":[4]},\"selected\":{\"id\":\"4062\"},\"selection_policy\":{\"id\":\"4061\"}},\"id\":\"4044\",\"type\":\"ColumnDataSource\"},{\"attributes\":{\"fill_color\":{\"value\":\"#1EA087\"},\"line_color\":{\"value\":\"#1EA087\"},\"size\":{\"value\":10},\"x\":{\"field\":\"x\"},\"y\":{\"field\":\"y\"}},\"id\":\"4069\",\"type\":\"Circle\"},{\"attributes\":{\"fill_color\":{\"value\":\"#70CE56\"},\"line_color\":{\"value\":\"#70CE56\"},\"size\":{\"value\":10},\"x\":{\"field\":\"x\"},\"y\":{\"field\":\"y\"}},\"id\":\"4046\",\"type\":\"Circle\"},{\"attributes\":{\"coordinates\":null,\"dimension\":\"height\",\"group\":null,\"line_width\":0.1,\"location\":3.136},\"id\":\"4004\",\"type\":\"Span\"},{\"attributes\":{\"coordinates\":null,\"dimension\":\"height\",\"group\":null,\"line_width\":0.1,\"location\":1.772},\"id\":\"3996\",\"type\":\"Span\"},{\"attributes\":{\"coordinates\":null,\"dimension\":\"height\",\"group\":null,\"line_width\":0.1,\"location\":3.409},\"id\":\"4005\",\"type\":\"Span\"},{\"attributes\":{\"coordinates\":null,\"dimension\":\"height\",\"group\":null,\"line_width\":0.1,\"location\":3.546},\"id\":\"4006\",\"type\":\"Span\"},{\"attributes\":{\"coordinates\":null,\"dimension\":\"height\",\"group\":null,\"line_width\":0.1,\"location\":1.909},\"id\":\"3997\",\"type\":\"Span\"},{\"attributes\":{\"coordinates\":null,\"dimension\":\"height\",\"group\":null,\"line_width\":0.1,\"location\":2.045},\"id\":\"3998\",\"type\":\"Span\"},{\"attributes\":{\"coordinates\":null,\"dimension\":\"height\",\"group\":null,\"line_width\":0.1,\"location\":3.682},\"id\":\"4007\",\"type\":\"Span\"},{\"attributes\":{\"coordinates\":null,\"data_source\":{\"id\":\"3962\"},\"glyph\":{\"id\":\"3964\"},\"group\":null,\"hover_glyph\":null,\"muted_glyph\":{\"id\":\"3966\"},\"nonselection_glyph\":{\"id\":\"3965\"},\"view\":{\"id\":\"3968\"}},\"id\":\"3967\",\"type\":\"GlyphRenderer\"},{\"attributes\":{\"label\":{\"value\":\"Piano Roll\"},\"renderers\":[{\"id\":\"3967\"}]},\"id\":\"3981\",\"type\":\"LegendItem\"},{\"attributes\":{\"callback\":null,\"renderers\":[{\"id\":\"4028\"}],\"tooltips\":[[\"tempo\",\"@tempo\"],[\"grid_index\",\"@grid_index\"]]},\"id\":\"4042\",\"type\":\"HoverTool\"},{\"attributes\":{\"coordinates\":null,\"dimension\":\"height\",\"group\":null,\"line_width\":0.1,\"location\":2.318},\"id\":\"3999\",\"type\":\"Span\"},{\"attributes\":{\"coordinates\":null,\"dimension\":\"height\",\"group\":null,\"line_width\":0.1,\"location\":1.227},\"id\":\"3993\",\"type\":\"Span\"},{\"attributes\":{\"coordinates\":null,\"dimension\":\"height\",\"group\":null,\"line_width\":0.1,\"location\":0.954},\"id\":\"3992\",\"type\":\"Span\"},{\"attributes\":{\"coordinates\":null,\"dimension\":\"height\",\"group\":null,\"line_width\":0.1,\"location\":0.273},\"id\":\"3988\",\"type\":\"Span\"},{\"attributes\":{\"data\":{\"bpm\":[\"110\"],\"collection\":[\"groove_midi\"],\"genre\":[\"rock-prog\"],\"grouping\":[\"toms\"],\"member\":[\"lo\"],\"meter\":[\"5-4\"],\"sample_id\":[\"111_rock-prog_110_beat_5-4\"],\"source\":[\"GrooveMIDI\"],\"start_bar\":[1],\"stream_0\":[\"hi\"],\"stream_1\":[\"mid\"],\"stream_2\":[\"ride\"],\"stream_3\":[\"lo\"],\"track_number\":[\"111\"],\"x\":[0.0],\"y\":[3.5]},\"selected\":{\"id\":\"4087\"},\"selection_policy\":{\"id\":\"4086\"}},\"id\":\"4067\",\"type\":\"ColumnDataSource\"},{\"attributes\":{\"coordinates\":null,\"dimension\":\"height\",\"group\":null,\"line_width\":0.1,\"location\":1.5},\"id\":\"3995\",\"type\":\"Span\"},{\"attributes\":{\"source\":{\"id\":\"4023\"}},\"id\":\"4029\",\"type\":\"CDSView\"},{\"attributes\":{\"coordinates\":null,\"group\":null,\"text_color\":\"#5B5B5B\",\"text_font\":\"Calibri Light\",\"text_font_size\":\"1.25em\",\"text_font_style\":\"bold\"},\"id\":\"3969\",\"type\":\"Title\"},{\"attributes\":{\"coordinates\":null,\"dimension\":\"height\",\"group\":null,\"line_width\":0.5,\"location\":3.273},\"id\":\"4019\",\"type\":\"Span\"},{\"attributes\":{\"coordinates\":null,\"dimension\":\"height\",\"group\":null,\"line_width\":0.5,\"location\":0.0},\"id\":\"4013\",\"type\":\"Span\"},{\"attributes\":{\"coordinates\":null,\"dimension\":\"height\",\"group\":null,\"line_width\":0.5,\"location\":0.545},\"id\":\"4014\",\"type\":\"Span\"},{\"attributes\":{\"coordinates\":null,\"dimension\":\"height\",\"group\":null,\"line_width\":0.5,\"location\":2.727},\"id\":\"4018\",\"type\":\"Span\"},{\"attributes\":{\"bottom_units\":\"screen\",\"coordinates\":null,\"fill_alpha\":0.5,\"fill_color\":\"lightgrey\",\"group\":null,\"left_units\":\"screen\",\"level\":\"overlay\",\"line_alpha\":1.0,\"line_color\":\"black\",\"line_dash\":[4,4],\"line_width\":2,\"right_units\":\"screen\",\"syncable\":false,\"top_units\":\"screen\"},\"id\":\"3954\",\"type\":\"BoxAnnotation\"},{\"attributes\":{\"coordinates\":null,\"dimension\":\"height\",\"group\":null,\"line_width\":0.5,\"location\":1.091},\"id\":\"4015\",\"type\":\"Span\"},{\"attributes\":{\"tools\":[{\"id\":\"3948\"},{\"id\":\"3949\"},{\"id\":\"3950\"},{\"id\":\"3951\"},{\"id\":\"3952\"},{\"id\":\"3953\"},{\"id\":\"3982\"},{\"id\":\"4042\"},{\"id\":\"4065\"},{\"id\":\"4090\"}]},\"id\":\"3955\",\"type\":\"Toolbar\"},{\"attributes\":{\"coordinates\":null,\"dimension\":\"height\",\"group\":null,\"line_width\":0.5,\"location\":2.182},\"id\":\"4017\",\"type\":\"Span\"},{\"attributes\":{\"coordinates\":null,\"dimension\":\"height\",\"group\":null,\"line_width\":0.1,\"location\":1.364},\"id\":\"3994\",\"type\":\"Span\"},{\"attributes\":{\"coordinates\":null,\"dimension\":\"height\",\"group\":null,\"line_width\":2,\"location\":0.0},\"id\":\"4021\",\"type\":\"Span\"},{\"attributes\":{\"coordinates\":null,\"dimension\":\"height\",\"group\":null,\"line_width\":2,\"location\":2.182},\"id\":\"4022\",\"type\":\"Span\"},{\"attributes\":{\"coordinates\":null,\"dimension\":\"height\",\"group\":null,\"line_width\":0.5,\"location\":1.636},\"id\":\"4016\",\"type\":\"Span\"},{\"attributes\":{},\"id\":\"3953\",\"type\":\"HelpTool\"},{\"attributes\":{\"bottom\":{\"field\":\"bottom\"},\"fill_alpha\":{\"value\":0.1},\"fill_color\":{\"value\":\"grey\"},\"hatch_alpha\":{\"value\":0.1},\"left\":{\"field\":\"start\"},\"line_alpha\":{\"value\":0.1},\"line_color\":{\"value\":\"grey\"},\"right\":{\"field\":\"end\"},\"top\":{\"field\":\"top\"}},\"id\":\"3965\",\"type\":\"Quad\"},{\"attributes\":{},\"id\":\"3973\",\"type\":\"AllLabels\"},{\"attributes\":{},\"id\":\"3975\",\"type\":\"BasicTickFormatter\"},{\"attributes\":{\"axis\":{\"id\":\"3944\"},\"coordinates\":null,\"dimension\":1,\"grid_line_color\":null,\"group\":null,\"ticker\":null},\"id\":\"3947\",\"type\":\"Grid\"},{\"attributes\":{\"end\":4.649700000000001,\"start\":-0.4227000000000001},\"id\":\"3932\",\"type\":\"DataRange1d\"},{\"attributes\":{},\"id\":\"3976\",\"type\":\"AllLabels\"},{\"attributes\":{\"fill_color\":{\"value\":\"#440154\"},\"line_color\":{\"value\":\"#440154\"},\"size\":{\"value\":10},\"x\":{\"field\":\"x\"},\"y\":{\"field\":\"y\"}},\"id\":\"4025\",\"type\":\"Circle\"},{\"attributes\":{\"fill_alpha\":{\"value\":0.2},\"fill_color\":{\"value\":\"#440154\"},\"hatch_alpha\":{\"value\":0.2},\"line_alpha\":{\"value\":0.2},\"line_color\":{\"value\":\"#440154\"},\"size\":{\"value\":10},\"x\":{\"field\":\"x\"},\"y\":{\"field\":\"y\"}},\"id\":\"4027\",\"type\":\"Circle\"},{\"attributes\":{},\"id\":\"4087\",\"type\":\"Selection\"},{\"attributes\":{},\"id\":\"3972\",\"type\":\"BasicTickFormatter\"},{\"attributes\":{},\"id\":\"3951\",\"type\":\"SaveTool\"},{\"attributes\":{\"axis\":{\"id\":\"3940\"},\"coordinates\":null,\"grid_line_color\":null,\"group\":null,\"ticker\":null},\"id\":\"3943\",\"type\":\"Grid\"},{\"attributes\":{\"fill_alpha\":{\"value\":0.2},\"fill_color\":{\"value\":\"#1EA087\"},\"hatch_alpha\":{\"value\":0.2},\"line_alpha\":{\"value\":0.2},\"line_color\":{\"value\":\"#1EA087\"},\"size\":{\"value\":10},\"x\":{\"field\":\"x\"},\"y\":{\"field\":\"y\"}},\"id\":\"4071\",\"type\":\"Circle\"},{\"attributes\":{\"coordinates\":null,\"data_source\":{\"id\":\"4067\"},\"glyph\":{\"id\":\"4069\"},\"group\":null,\"hover_glyph\":null,\"muted_glyph\":{\"id\":\"4071\"},\"nonselection_glyph\":{\"id\":\"4070\"},\"view\":{\"id\":\"4073\"}},\"id\":\"4072\",\"type\":\"GlyphRenderer\"},{\"attributes\":{},\"id\":\"3949\",\"type\":\"WheelZoomTool\"},{\"attributes\":{\"below\":[{\"id\":\"3940\"}],\"center\":[{\"id\":\"3943\"},{\"id\":\"3947\"},{\"id\":\"3980\"},{\"id\":\"3987\"},{\"id\":\"3988\"},{\"id\":\"3989\"},{\"id\":\"3990\"},{\"id\":\"3991\"},{\"id\":\"3992\"},{\"id\":\"3993\"},{\"id\":\"3994\"},{\"id\":\"3995\"},{\"id\":\"3996\"},{\"id\":\"3997\"},{\"id\":\"3998\"},{\"id\":\"3999\"},{\"id\":\"4000\"},{\"id\":\"4001\"},{\"id\":\"4002\"},{\"id\":\"4003\"},{\"id\":\"4004\"},{\"id\":\"4005\"},{\"id\":\"4006\"},{\"id\":\"4007\"},{\"id\":\"4008\"},{\"id\":\"4009\"},{\"id\":\"4010\"},{\"id\":\"4013\"},{\"id\":\"4014\"},{\"id\":\"4015\"},{\"id\":\"4016\"},{\"id\":\"4017\"},{\"id\":\"4018\"},{\"id\":\"4019\"},{\"id\":\"4020\"},{\"id\":\"4021\"},{\"id\":\"4022\"}],\"height\":400,\"left\":[{\"id\":\"3944\"}],\"renderers\":[{\"id\":\"3967\"},{\"id\":\"4028\"},{\"id\":\"4049\"},{\"id\":\"4072\"}],\"right\":[{\"id\":\"3980\"}],\"title\":{\"id\":\"3969\"},\"toolbar\":{\"id\":\"3955\"},\"width\":800,\"x_range\":{\"id\":\"3932\"},\"x_scale\":{\"id\":\"3936\"},\"y_range\":{\"id\":\"3934\"},\"y_scale\":{\"id\":\"3938\"}},\"id\":\"3931\",\"subtype\":\"Figure\",\"type\":\"Plot\"},{\"attributes\":{\"data\":{\"grid_index\":[0],\"tempo\":[110.00011000011],\"x\":[0.0],\"y\":[4.5]},\"selected\":{\"id\":\"4039\"},\"selection_policy\":{\"id\":\"4038\"}},\"id\":\"4023\",\"type\":\"ColumnDataSource\"},{\"attributes\":{\"callback\":null,\"renderers\":[{\"id\":\"4072\"}],\"tooltips\":[[\"track_number\",\"@track_number\"],[\"genre\",\"@genre\"],[\"bpm\",\"@bpm\"],[\"meter\",\"@meter\"],[\"grouping\",\"@grouping\"],[\"member\",\"@member\"],[\"source\",\"@source\"],[\"stream_0\",\"@stream_0\"],[\"stream_1\",\"@stream_1\"],[\"stream_2\",\"@stream_2\"],[\"stream_3\",\"@stream_3\"],[\"start_bar\",\"@start_bar\"],[\"collection\",\"@collection\"],[\"sample_id\",\"@sample_id\"]]},\"id\":\"4090\",\"type\":\"HoverTool\"},{\"attributes\":{\"label\":{\"value\":\"Metadata\"},\"renderers\":[{\"id\":\"4072\"}]},\"id\":\"4089\",\"type\":\"LegendItem\"},{\"attributes\":{\"child\":{\"id\":\"3931\"},\"title\":\"ix: 77577\"},\"id\":\"4092\",\"type\":\"Panel\"},{\"attributes\":{},\"id\":\"3938\",\"type\":\"LinearScale\"},{\"attributes\":{},\"id\":\"3948\",\"type\":\"PanTool\"},{\"attributes\":{},\"id\":\"3977\",\"type\":\"UnionRenderers\"},{\"attributes\":{\"axis_label\":\"Time (sec)\",\"axis_label_standoff\":10,\"axis_label_text_color\":\"#5B5B5B\",\"axis_label_text_font\":\"Calibri Light\",\"axis_label_text_font_size\":\"1.15em\",\"axis_label_text_font_style\":\"bold\",\"axis_line_alpha\":1,\"axis_line_color\":\"#5B5B5B\",\"coordinates\":null,\"formatter\":{\"id\":\"3975\"},\"group\":null,\"major_label_orientation\":1.57,\"major_label_policy\":{\"id\":\"3976\"},\"major_label_text_color\":\"#5B5B5B\",\"major_label_text_font\":\"Calibri Light\",\"major_label_text_font_size\":\"0.95em\",\"major_label_text_font_style\":\"bold\",\"major_tick_in\":0,\"major_tick_line_alpha\":0.25,\"major_tick_line_color\":\"#5B5B5B\",\"major_tick_out\":3,\"minor_tick_line_alpha\":0.25,\"minor_tick_line_color\":\"#5B5B5B\",\"ticker\":{\"id\":\"4011\"}},\"id\":\"3940\",\"type\":\"LinearAxis\"},{\"attributes\":{},\"id\":\"3936\",\"type\":\"LinearScale\"},{\"attributes\":{\"source\":{\"id\":\"4067\"}},\"id\":\"4073\",\"type\":\"CDSView\"},{\"attributes\":{\"overlay\":{\"id\":\"3954\"}},\"id\":\"3950\",\"type\":\"BoxZoomTool\"},{\"attributes\":{\"end\":5.75,\"start\":-0.5},\"id\":\"3934\",\"type\":\"Range1d\"},{\"attributes\":{},\"id\":\"3978\",\"type\":\"Selection\"},{\"attributes\":{},\"id\":\"3952\",\"type\":\"ResetTool\"},{\"attributes\":{\"data\":{\"bottom\":{\"__ndarray__\":\"zczMzMzM/D/NzMzMzMz8P83MzMzMzPw/zczMzMzM/D/NzMzMzMz8P83MzMzMzPw/zczMzMzM/D/NzMzMzMz8P83MzMzMzPw/zczMzMzM/D/NzMzMzMz8P83MzMzMzPw/zczMzMzM/D/NzMzMzMz8P83MzMzMzPw/zczMzMzM/D/NzMzMzMz8Pw==\",\"dtype\":\"float64\",\"order\":\"little\",\"shape\":[17]},\"end\":[0.16700799999999985,0.28852899999999987,0.5611839999999999,0.8214729999999999,1.243048,1.5133279999999998,1.6396719999999998,1.914939,2.190131,2.601744,2.8744239999999994,3.0107340000000002,3.2909949999999997,3.5711189999999995,3.692608,3.982696,4.2678],\"grid_line\":[1,2,4,6,9,11,12,14,16,19,21,22,24,26,27,29,31],\"instrument\":[\"stream_2\",\"stream_2\",\"stream_2\",\"stream_2\",\"stream_2\",\"stream_2\",\"stream_2\",\"stream_2\",\"stream_2\",\"stream_2\",\"stream_2\",\"stream_2\",\"stream_2\",\"stream_2\",\"stream_2\",\"stream_2\",\"stream_2\"],\"midi\":[42,42,42,42,42,42,42,42,42,42,42,42,42,42,42,42,42],\"offset\":[-0.272,-0.383,-0.381,-0.471,-0.382,-0.402,-0.473,-0.453,-0.437,-0.421,-0.416,-0.418,-0.365,-0.313,-0.422,-0.289,-0.2],\"offset_sec\":[-0.037,-0.052,-0.052,-0.065,-0.052,-0.055,-0.064,-0.062,-0.06,-0.057,-0.057,-0.057,-0.05,-0.043,-0.057,-0.039,-0.027],\"start\":[0.09900800000000001,0.22052900000000003,0.493184,0.7534730000000001,1.175048,1.445328,1.571672,1.846939,2.122131,2.533744,2.806424,2.942734,3.222995,3.503119,3.624608,3.914696,4.199800000000001],\"top\":{\"__ndarray__\":\"mpmZmZmZAUCamZmZmZkBQJqZmZmZmQFAmpmZmZmZAUCamZmZmZkBQJqZmZmZmQFAmpmZmZmZAUCamZmZmZkBQJqZmZmZmQFAmpmZmZmZAUCamZmZmZkBQJqZmZmZmQFAmpmZmZmZAUCamZmZmZkBQJqZmZmZmQFAmpmZmZmZAUCamZmZmZkBQA==\",\"dtype\":\"float64\",\"order\":\"little\",\"shape\":[17]},\"velocity\":[0.346,0.402,0.598,0.291,0.732,0.26,0.48,0.402,0.315,0.504,0.181,0.323,0.244,0.15,0.268,0.386,0.205],\"voice_index\":[2,2,2,2,2,2,2,2,2,2,2,2,2,2,2,2,2]},\"selected\":{\"id\":\"3978\"},\"selection_policy\":{\"id\":\"3977\"}},\"id\":\"3962\",\"type\":\"ColumnDataSource\"},{\"attributes\":{\"fill_alpha\":{\"value\":0.1},\"fill_color\":{\"value\":\"#1EA087\"},\"hatch_alpha\":{\"value\":0.1},\"line_alpha\":{\"value\":0.1},\"line_color\":{\"value\":\"#1EA087\"},\"size\":{\"value\":10},\"x\":{\"field\":\"x\"},\"y\":{\"field\":\"y\"}},\"id\":\"4070\",\"type\":\"Circle\"},{\"attributes\":{\"fill_alpha\":{\"value\":0.1},\"fill_color\":{\"value\":\"#440154\"},\"hatch_alpha\":{\"value\":0.1},\"line_alpha\":{\"value\":0.1},\"line_color\":{\"value\":\"#440154\"},\"size\":{\"value\":10},\"x\":{\"field\":\"x\"},\"y\":{\"field\":\"y\"}},\"id\":\"4026\",\"type\":\"Circle\"},{\"attributes\":{\"axis_label\":\"Instrument\",\"axis_label_standoff\":10,\"axis_label_text_color\":\"#5B5B5B\",\"axis_label_text_font\":\"Calibri Light\",\"axis_label_text_font_size\":\"1.15em\",\"axis_label_text_font_style\":\"bold\",\"axis_line_alpha\":1,\"axis_line_color\":\"#5B5B5B\",\"coordinates\":null,\"formatter\":{\"id\":\"3972\"},\"group\":null,\"major_label_overrides\":{\"0\":\"stream_0\",\"1\":\"stream_1\",\"2\":\"stream_2\",\"3\":\"stream_3\"},\"major_label_policy\":{\"id\":\"3973\"},\"major_label_text_color\":\"#5B5B5B\",\"major_label_text_font\":\"Calibri Light\",\"major_label_text_font_size\":\"0.95em\",\"major_label_text_font_style\":\"bold\",\"major_tick_in\":0,\"major_tick_line_alpha\":0.25,\"major_tick_line_color\":\"#5B5B5B\",\"major_tick_out\":3,\"minor_tick_line_alpha\":0.25,\"minor_tick_line_color\":\"#5B5B5B\",\"ticker\":{\"id\":\"3985\"}},\"id\":\"3944\",\"type\":\"LinearAxis\"}],\"root_ids\":[\"4093\"]},\"title\":\"Bokeh Application\",\"version\":\"2.4.3\"}};\n  const render_items = [{\"docid\":\"4c7b1fca-dcbe-48d0-8e0e-ea4db2de4486\",\"root_ids\":[\"4093\"],\"roots\":{\"4093\":\"26943588-68be-4e70-adb8-061588de58f4\"}}];\n  root.Bokeh.embed.embed_items_notebook(docs_json, render_items);\n  }\n  if (root.Bokeh !== undefined) {\n    embed_document(root);\n  } else {\n    let attempts = 0;\n    const timer = setInterval(function(root) {\n      if (root.Bokeh !== undefined) {\n        clearInterval(timer);\n        embed_document(root);\n      } else {\n        attempts++;\n        if (attempts > 100) {\n          clearInterval(timer);\n          console.log(\"Bokeh: ERROR: Unable to run BokehJS code because BokehJS library is missing\");\n        }\n      }\n    }, 10, root)\n  }\n})(window);",
      "application/vnd.bokehjs_exec.v0+json": ""
     },
     "metadata": {
      "application/vnd.bokehjs_exec.v0+json": {
       "id": "4093"
      }
     },
     "output_type": "display_data"
    },
    {
     "data": {
      "text/plain": [
       "{'groove_to_output_hit_hamming_distance': 0.53125,\n",
       " 'groove_to_output_accent_hamming_distance': 0.0,\n",
       " 'out_stream_0_jaccard_sim_with_flat_out': 0.0,\n",
       " 'out_stream_1_jaccard_sim_with_flat_out': 1.0,\n",
       " 'out_stream_2_jaccard_sim_with_flat_out': 0.0,\n",
       " 'out_stream_0_accent_hamming_distance_with_flat_out': 0.0,\n",
       " 'out_stream_1_accent_hamming_distance_with_flat_out': 0.0,\n",
       " 'out_stream_2_accent_hamming_distance_with_flat_out': 0.0}"
      ]
     },
     "execution_count": 16,
     "metadata": {},
     "output_type": "execute_result"
    }
   ],
   "execution_count": 16
  },
  {
   "cell_type": "code",
   "id": "c6cec677d006acc8",
   "metadata": {
    "ExecuteTime": {
     "end_time": "2025-08-09T10:21:28.241683Z",
     "start_time": "2025-08-09T10:20:31.418038Z"
    }
   },
   "source": [
    "# Extract control features for all samples\n",
    "control_features = {\n",
    "    \"sample_id\": [],\n",
    "    \"collection\": [],\n",
    "}\n",
    "import tqdm\n",
    "\n",
    "for hvo_sample in tqdm.tqdm(split_n_bar_phrases):\n",
    "    for groove_dim in range(4): #<--- change to 1 if you don't want to use all streams as a groove (TODO: Change and generate different plots)\n",
    "        control_features[\"sample_id\"].append(hvo_sample.metadata['sample_id'])\n",
    "        control_features[\"collection\"].append(hvo_sample.metadata['collection'])\n",
    "\n",
    "        features = extract_features_from_sets(hvo_sample, groove_dim)\n",
    "        for key, value in features.items():\n",
    "            if key not in control_features:\n",
    "                control_features[key] = []\n",
    "            control_features[key].append(value)\n",
    "\n",
    "\n",
    "\n",
    "# Convert to DataFrame\n",
    "import pandas as pd\n",
    "control_features_df = pd.DataFrame(control_features)\n",
    "control_features_df"
   ],
   "outputs": [
    {
     "name": "stderr",
     "output_type": "stream",
     "text": [
      " 50%|█████     | 41419/82687 [00:28<00:28, 1460.36it/s]/var/folders/lr/8ctpqx7n6m54ydpt525nf6q80000gn/T/ipykernel_4893/4236917185.py:68: RuntimeWarning: invalid value encountered in scalar divide\n",
      "  return (intersection / union)\n",
      "100%|██████████| 82687/82687 [00:56<00:00, 1463.85it/s]\n"
     ]
    },
    {
     "data": {
      "text/plain": [
       "                           sample_id   collection  \\\n",
       "0        40_latin-samba_116_fill_4-4  groove_midi   \n",
       "1        40_latin-samba_116_fill_4-4  groove_midi   \n",
       "2        40_latin-samba_116_fill_4-4  groove_midi   \n",
       "3        40_latin-samba_116_fill_4-4  groove_midi   \n",
       "4             26_hiphop_100_fill_4-4  groove_midi   \n",
       "...                              ...          ...   \n",
       "330743  28_latin-bounce_106_beat_4-4  groove_midi   \n",
       "330744  28_latin-bounce_106_beat_4-4  groove_midi   \n",
       "330745  28_latin-bounce_106_beat_4-4  groove_midi   \n",
       "330746  28_latin-bounce_106_beat_4-4  groove_midi   \n",
       "330747  28_latin-bounce_106_beat_4-4  groove_midi   \n",
       "\n",
       "        groove_to_output_hit_hamming_distance  \\\n",
       "0                                     0.21875   \n",
       "1                                     0.21875   \n",
       "2                                     0.09375   \n",
       "3                                     0.00000   \n",
       "4                                     0.21875   \n",
       "...                                       ...   \n",
       "330743                                0.53125   \n",
       "330744                                0.53125   \n",
       "330745                                0.53125   \n",
       "330746                                0.53125   \n",
       "330747                                0.53125   \n",
       "\n",
       "        groove_to_output_accent_hamming_distance  \\\n",
       "0                                         0.0000   \n",
       "1                                         0.0000   \n",
       "2                                         0.0000   \n",
       "3                                         0.0000   \n",
       "4                                         0.0000   \n",
       "...                                          ...   \n",
       "330743                                    0.0625   \n",
       "330744                                    0.1250   \n",
       "330745                                    0.1250   \n",
       "330746                                    0.1250   \n",
       "330747                                    0.1250   \n",
       "\n",
       "        out_stream_0_jaccard_sim_with_flat_out  \\\n",
       "0                                     0.300000   \n",
       "1                                     0.300000   \n",
       "2                                     0.300000   \n",
       "3                                     0.300000   \n",
       "4                                     1.000000   \n",
       "...                                        ...   \n",
       "330743                                0.000000   \n",
       "330744                                0.058824   \n",
       "330745                                0.000000   \n",
       "330746                                0.000000   \n",
       "330747                                0.000000   \n",
       "\n",
       "        out_stream_1_jaccard_sim_with_flat_out  \\\n",
       "0                                     0.700000   \n",
       "1                                     0.700000   \n",
       "2                                     0.300000   \n",
       "3                                     0.300000   \n",
       "4                                     0.235294   \n",
       "...                                        ...   \n",
       "330743                                0.100000   \n",
       "330744                                0.529412   \n",
       "330745                                0.562500   \n",
       "330746                                0.125000   \n",
       "330747                                0.100000   \n",
       "\n",
       "        out_stream_2_jaccard_sim_with_flat_out  \\\n",
       "0                                     1.000000   \n",
       "1                                     1.000000   \n",
       "2                                     1.000000   \n",
       "3                                     0.700000   \n",
       "4                                     0.352941   \n",
       "...                                        ...   \n",
       "330743                                0.900000   \n",
       "330744                                0.411765   \n",
       "330745                                0.437500   \n",
       "330746                                0.875000   \n",
       "330747                                0.900000   \n",
       "\n",
       "        out_stream_0_accent_hamming_distance_with_flat_out  \\\n",
       "0                                                 0.00000    \n",
       "1                                                 0.00000    \n",
       "2                                                 0.00000    \n",
       "3                                                 0.00000    \n",
       "4                                                 0.00000    \n",
       "...                                                   ...    \n",
       "330743                                            0.06250    \n",
       "330744                                            0.09375    \n",
       "330745                                            0.09375    \n",
       "330746                                            0.09375    \n",
       "330747                                            0.06250    \n",
       "\n",
       "        out_stream_1_accent_hamming_distance_with_flat_out  \\\n",
       "0                                                 0.00000    \n",
       "1                                                 0.00000    \n",
       "2                                                 0.00000    \n",
       "3                                                 0.00000    \n",
       "4                                                 0.12500    \n",
       "...                                                   ...    \n",
       "330743                                            0.03125    \n",
       "330744                                            0.09375    \n",
       "330745                                            0.06250    \n",
       "330746                                            0.06250    \n",
       "330747                                            0.03125    \n",
       "\n",
       "        out_stream_2_accent_hamming_distance_with_flat_out  \n",
       "0                                                 0.00000   \n",
       "1                                                 0.00000   \n",
       "2                                                 0.00000   \n",
       "3                                                 0.00000   \n",
       "4                                                 0.12500   \n",
       "...                                                   ...   \n",
       "330743                                            0.03125   \n",
       "330744                                            0.06250   \n",
       "330745                                            0.03125   \n",
       "330746                                            0.03125   \n",
       "330747                                            0.03125   \n",
       "\n",
       "[330748 rows x 10 columns]"
      ],
      "text/html": [
       "<div>\n",
       "<style scoped>\n",
       "    .dataframe tbody tr th:only-of-type {\n",
       "        vertical-align: middle;\n",
       "    }\n",
       "\n",
       "    .dataframe tbody tr th {\n",
       "        vertical-align: top;\n",
       "    }\n",
       "\n",
       "    .dataframe thead th {\n",
       "        text-align: right;\n",
       "    }\n",
       "</style>\n",
       "<table border=\"1\" class=\"dataframe\">\n",
       "  <thead>\n",
       "    <tr style=\"text-align: right;\">\n",
       "      <th></th>\n",
       "      <th>sample_id</th>\n",
       "      <th>collection</th>\n",
       "      <th>groove_to_output_hit_hamming_distance</th>\n",
       "      <th>groove_to_output_accent_hamming_distance</th>\n",
       "      <th>out_stream_0_jaccard_sim_with_flat_out</th>\n",
       "      <th>out_stream_1_jaccard_sim_with_flat_out</th>\n",
       "      <th>out_stream_2_jaccard_sim_with_flat_out</th>\n",
       "      <th>out_stream_0_accent_hamming_distance_with_flat_out</th>\n",
       "      <th>out_stream_1_accent_hamming_distance_with_flat_out</th>\n",
       "      <th>out_stream_2_accent_hamming_distance_with_flat_out</th>\n",
       "    </tr>\n",
       "  </thead>\n",
       "  <tbody>\n",
       "    <tr>\n",
       "      <th>0</th>\n",
       "      <td>40_latin-samba_116_fill_4-4</td>\n",
       "      <td>groove_midi</td>\n",
       "      <td>0.21875</td>\n",
       "      <td>0.0000</td>\n",
       "      <td>0.300000</td>\n",
       "      <td>0.700000</td>\n",
       "      <td>1.000000</td>\n",
       "      <td>0.00000</td>\n",
       "      <td>0.00000</td>\n",
       "      <td>0.00000</td>\n",
       "    </tr>\n",
       "    <tr>\n",
       "      <th>1</th>\n",
       "      <td>40_latin-samba_116_fill_4-4</td>\n",
       "      <td>groove_midi</td>\n",
       "      <td>0.21875</td>\n",
       "      <td>0.0000</td>\n",
       "      <td>0.300000</td>\n",
       "      <td>0.700000</td>\n",
       "      <td>1.000000</td>\n",
       "      <td>0.00000</td>\n",
       "      <td>0.00000</td>\n",
       "      <td>0.00000</td>\n",
       "    </tr>\n",
       "    <tr>\n",
       "      <th>2</th>\n",
       "      <td>40_latin-samba_116_fill_4-4</td>\n",
       "      <td>groove_midi</td>\n",
       "      <td>0.09375</td>\n",
       "      <td>0.0000</td>\n",
       "      <td>0.300000</td>\n",
       "      <td>0.300000</td>\n",
       "      <td>1.000000</td>\n",
       "      <td>0.00000</td>\n",
       "      <td>0.00000</td>\n",
       "      <td>0.00000</td>\n",
       "    </tr>\n",
       "    <tr>\n",
       "      <th>3</th>\n",
       "      <td>40_latin-samba_116_fill_4-4</td>\n",
       "      <td>groove_midi</td>\n",
       "      <td>0.00000</td>\n",
       "      <td>0.0000</td>\n",
       "      <td>0.300000</td>\n",
       "      <td>0.300000</td>\n",
       "      <td>0.700000</td>\n",
       "      <td>0.00000</td>\n",
       "      <td>0.00000</td>\n",
       "      <td>0.00000</td>\n",
       "    </tr>\n",
       "    <tr>\n",
       "      <th>4</th>\n",
       "      <td>26_hiphop_100_fill_4-4</td>\n",
       "      <td>groove_midi</td>\n",
       "      <td>0.21875</td>\n",
       "      <td>0.0000</td>\n",
       "      <td>1.000000</td>\n",
       "      <td>0.235294</td>\n",
       "      <td>0.352941</td>\n",
       "      <td>0.00000</td>\n",
       "      <td>0.12500</td>\n",
       "      <td>0.12500</td>\n",
       "    </tr>\n",
       "    <tr>\n",
       "      <th>...</th>\n",
       "      <td>...</td>\n",
       "      <td>...</td>\n",
       "      <td>...</td>\n",
       "      <td>...</td>\n",
       "      <td>...</td>\n",
       "      <td>...</td>\n",
       "      <td>...</td>\n",
       "      <td>...</td>\n",
       "      <td>...</td>\n",
       "      <td>...</td>\n",
       "    </tr>\n",
       "    <tr>\n",
       "      <th>330743</th>\n",
       "      <td>28_latin-bounce_106_beat_4-4</td>\n",
       "      <td>groove_midi</td>\n",
       "      <td>0.53125</td>\n",
       "      <td>0.0625</td>\n",
       "      <td>0.000000</td>\n",
       "      <td>0.100000</td>\n",
       "      <td>0.900000</td>\n",
       "      <td>0.06250</td>\n",
       "      <td>0.03125</td>\n",
       "      <td>0.03125</td>\n",
       "    </tr>\n",
       "    <tr>\n",
       "      <th>330744</th>\n",
       "      <td>28_latin-bounce_106_beat_4-4</td>\n",
       "      <td>groove_midi</td>\n",
       "      <td>0.53125</td>\n",
       "      <td>0.1250</td>\n",
       "      <td>0.058824</td>\n",
       "      <td>0.529412</td>\n",
       "      <td>0.411765</td>\n",
       "      <td>0.09375</td>\n",
       "      <td>0.09375</td>\n",
       "      <td>0.06250</td>\n",
       "    </tr>\n",
       "    <tr>\n",
       "      <th>330745</th>\n",
       "      <td>28_latin-bounce_106_beat_4-4</td>\n",
       "      <td>groove_midi</td>\n",
       "      <td>0.53125</td>\n",
       "      <td>0.1250</td>\n",
       "      <td>0.000000</td>\n",
       "      <td>0.562500</td>\n",
       "      <td>0.437500</td>\n",
       "      <td>0.09375</td>\n",
       "      <td>0.06250</td>\n",
       "      <td>0.03125</td>\n",
       "    </tr>\n",
       "    <tr>\n",
       "      <th>330746</th>\n",
       "      <td>28_latin-bounce_106_beat_4-4</td>\n",
       "      <td>groove_midi</td>\n",
       "      <td>0.53125</td>\n",
       "      <td>0.1250</td>\n",
       "      <td>0.000000</td>\n",
       "      <td>0.125000</td>\n",
       "      <td>0.875000</td>\n",
       "      <td>0.09375</td>\n",
       "      <td>0.06250</td>\n",
       "      <td>0.03125</td>\n",
       "    </tr>\n",
       "    <tr>\n",
       "      <th>330747</th>\n",
       "      <td>28_latin-bounce_106_beat_4-4</td>\n",
       "      <td>groove_midi</td>\n",
       "      <td>0.53125</td>\n",
       "      <td>0.1250</td>\n",
       "      <td>0.000000</td>\n",
       "      <td>0.100000</td>\n",
       "      <td>0.900000</td>\n",
       "      <td>0.06250</td>\n",
       "      <td>0.03125</td>\n",
       "      <td>0.03125</td>\n",
       "    </tr>\n",
       "  </tbody>\n",
       "</table>\n",
       "<p>330748 rows × 10 columns</p>\n",
       "</div>"
      ]
     },
     "execution_count": 17,
     "metadata": {},
     "output_type": "execute_result"
    }
   ],
   "execution_count": 17
  },
  {
   "cell_type": "code",
   "id": "c16cb9638521dfe2",
   "metadata": {
    "ExecuteTime": {
     "end_time": "2025-08-09T10:21:28.931805Z",
     "start_time": "2025-08-09T10:21:28.339138Z"
    }
   },
   "source": [
    "import numpy as np\n",
    "# box plot import\n",
    "\n",
    "n_bins = 10\n",
    "valid_values = np.linspace(0, 1, n_bins)\n",
    "# get unique hit hamming distances\n",
    "hit_hamming_values = sorted(set(control_features_df[\"groove_to_output_hit_hamming_distance\"].values))\n",
    "\n",
    "accent_hamming_values_per_hit_hamming = {float(hit_hamming_value): [] for hit_hamming_value in hit_hamming_values}\n",
    "for key in accent_hamming_values_per_hit_hamming.keys():\n",
    "    accent_hamming_values_per_hit_hamming[key] = control_features_df[control_features_df[\"groove_to_output_hit_hamming_distance\"] == key].groove_to_output_accent_hamming_distance.values\n",
    "    # get box plot stats\n",
    "    lower_bound = np.sort(accent_hamming_values_per_hit_hamming[key])[10]\n",
    "    upper_bound = min(np.sort(accent_hamming_values_per_hit_hamming[key])[-20], 1.0)  # upper bound is the 20th largest value or 1.0\n",
    "\n",
    "    if \"accent_hamming_values_per_hit_hamming_normalized\" not in control_features_df.columns:\n",
    "        control_features_df[\"accent_hamming_values_per_hit_hamming_normalized\"] = np.nan\n",
    "\n",
    "    # strech so that lower bound is 0 and upper bound is 1, then clip to 0-1 range\n",
    "    if lower_bound < 0.1:\n",
    "        lower_bound = 0.\n",
    "    control_features_df.loc[control_features_df[\"groove_to_output_hit_hamming_distance\"] == key, \"accent_hamming_values_per_hit_hamming_normalized\"] = \\\n",
    "        np.clip((control_features_df.loc[control_features_df[\"groove_to_output_hit_hamming_distance\"] == key, \"groove_to_output_accent_hamming_distance\"] - lower_bound) / (upper_bound - lower_bound), 0, 1)\n",
    "\n",
    "# change normalized values to the closest valid value\n",
    "control_features_df[\"accent_hamming_values_per_hit_hamming_normalized\"] = control_features_df[\"accent_hamming_values_per_hit_hamming_normalized\"].apply(\n",
    "    lambda x: valid_values[np.argmin(np.abs(valid_values - x))] if not np.isnan(x) else np.nan)\n",
    "# print the first 10 rows of the control features DataFrame\n",
    "\n",
    "# print new normalized column, vs original\n",
    "control_features_df[[\"groove_to_output_hit_hamming_distance\", \"groove_to_output_accent_hamming_distance\", \"accent_hamming_values_per_hit_hamming_normalized\"]].head(10)\n"
   ],
   "outputs": [
    {
     "data": {
      "text/plain": [
       "   groove_to_output_hit_hamming_distance  \\\n",
       "0                                0.21875   \n",
       "1                                0.21875   \n",
       "2                                0.09375   \n",
       "3                                0.00000   \n",
       "4                                0.21875   \n",
       "5                                0.00000   \n",
       "6                                0.40625   \n",
       "7                                0.34375   \n",
       "8                                0.31250   \n",
       "9                                0.15625   \n",
       "\n",
       "   groove_to_output_accent_hamming_distance  \\\n",
       "0                                     0.000   \n",
       "1                                     0.000   \n",
       "2                                     0.000   \n",
       "3                                     0.000   \n",
       "4                                     0.000   \n",
       "5                                     0.000   \n",
       "6                                     0.125   \n",
       "7                                     0.125   \n",
       "8                                     0.125   \n",
       "9                                     0.125   \n",
       "\n",
       "   accent_hamming_values_per_hit_hamming_normalized  \n",
       "0                                          0.000000  \n",
       "1                                          0.000000  \n",
       "2                                          0.000000  \n",
       "3                                          0.000000  \n",
       "4                                          0.000000  \n",
       "5                                          0.000000  \n",
       "6                                          0.222222  \n",
       "7                                          0.222222  \n",
       "8                                          0.222222  \n",
       "9                                          0.333333  "
      ],
      "text/html": [
       "<div>\n",
       "<style scoped>\n",
       "    .dataframe tbody tr th:only-of-type {\n",
       "        vertical-align: middle;\n",
       "    }\n",
       "\n",
       "    .dataframe tbody tr th {\n",
       "        vertical-align: top;\n",
       "    }\n",
       "\n",
       "    .dataframe thead th {\n",
       "        text-align: right;\n",
       "    }\n",
       "</style>\n",
       "<table border=\"1\" class=\"dataframe\">\n",
       "  <thead>\n",
       "    <tr style=\"text-align: right;\">\n",
       "      <th></th>\n",
       "      <th>groove_to_output_hit_hamming_distance</th>\n",
       "      <th>groove_to_output_accent_hamming_distance</th>\n",
       "      <th>accent_hamming_values_per_hit_hamming_normalized</th>\n",
       "    </tr>\n",
       "  </thead>\n",
       "  <tbody>\n",
       "    <tr>\n",
       "      <th>0</th>\n",
       "      <td>0.21875</td>\n",
       "      <td>0.000</td>\n",
       "      <td>0.000000</td>\n",
       "    </tr>\n",
       "    <tr>\n",
       "      <th>1</th>\n",
       "      <td>0.21875</td>\n",
       "      <td>0.000</td>\n",
       "      <td>0.000000</td>\n",
       "    </tr>\n",
       "    <tr>\n",
       "      <th>2</th>\n",
       "      <td>0.09375</td>\n",
       "      <td>0.000</td>\n",
       "      <td>0.000000</td>\n",
       "    </tr>\n",
       "    <tr>\n",
       "      <th>3</th>\n",
       "      <td>0.00000</td>\n",
       "      <td>0.000</td>\n",
       "      <td>0.000000</td>\n",
       "    </tr>\n",
       "    <tr>\n",
       "      <th>4</th>\n",
       "      <td>0.21875</td>\n",
       "      <td>0.000</td>\n",
       "      <td>0.000000</td>\n",
       "    </tr>\n",
       "    <tr>\n",
       "      <th>5</th>\n",
       "      <td>0.00000</td>\n",
       "      <td>0.000</td>\n",
       "      <td>0.000000</td>\n",
       "    </tr>\n",
       "    <tr>\n",
       "      <th>6</th>\n",
       "      <td>0.40625</td>\n",
       "      <td>0.125</td>\n",
       "      <td>0.222222</td>\n",
       "    </tr>\n",
       "    <tr>\n",
       "      <th>7</th>\n",
       "      <td>0.34375</td>\n",
       "      <td>0.125</td>\n",
       "      <td>0.222222</td>\n",
       "    </tr>\n",
       "    <tr>\n",
       "      <th>8</th>\n",
       "      <td>0.31250</td>\n",
       "      <td>0.125</td>\n",
       "      <td>0.222222</td>\n",
       "    </tr>\n",
       "    <tr>\n",
       "      <th>9</th>\n",
       "      <td>0.15625</td>\n",
       "      <td>0.125</td>\n",
       "      <td>0.333333</td>\n",
       "    </tr>\n",
       "  </tbody>\n",
       "</table>\n",
       "</div>"
      ]
     },
     "execution_count": 18,
     "metadata": {},
     "output_type": "execute_result"
    }
   ],
   "execution_count": 18
  },
  {
   "cell_type": "code",
   "id": "31dd2d7b4699e779",
   "metadata": {
    "ExecuteTime": {
     "end_time": "2025-08-09T10:21:29.280557Z",
     "start_time": "2025-08-09T10:21:28.967915Z"
    }
   },
   "source": [
    "plot_scatter_input_output_distribution(control_features_df, use_normalized_accents=False)\n",
    "plot_scatter_input_output_distribution(control_features_df, use_normalized_accents=True)"
   ],
   "outputs": [
    {
     "data": {
      "text/plain": [
       "<Figure size 600x400 with 1 Axes>"
      ],
      "image/png": "[encoded data removed]"
     },
     "metadata": {},
     "output_type": "display_data"
    },
    {
     "data": {
      "text/plain": [
       "<Figure size 600x400 with 1 Axes>"
      ],
      "image/png": "[encoded data removed]"
     },
     "metadata": {},
     "output_type": "display_data"
    }
   ],
   "execution_count": 19
  },
  {
   "cell_type": "code",
   "id": "12f7addd6f52b8aa",
   "metadata": {
    "ExecuteTime": {
     "end_time": "2025-08-09T10:21:29.416691Z",
     "start_time": "2025-08-09T10:21:29.300023Z"
    }
   },
   "source": [
    "\n",
    "# get all available collections\n",
    "collections = control_features_df[\"collection\"].unique()\n",
    "print(f\"Available collections: {collections}\")\n",
    "# exclude groove_midi\n",
    "df_subset = control_features_df[control_features_df[\"collection\"] == \"lmd_batch_60\"]\n",
    "plot_scatter_input_output_distribution(df_subset, use_normalized_accents=False)\n",
    "df_subset = control_features_df[control_features_df[\"collection\"] == \"lmd_batch_60\"]\n",
    "plot_scatter_input_output_distribution(df_subset, use_normalized_accents=True)\n",
    "# df_subset = control_features_df[control_features_df[\"collection\"] == \"elbg\"]\n",
    "# plot_scatter_input_output_distribution(df_subset, use_normalized_accents=False)\n",
    "# df_subset = control_features_df[control_features_df[\"collection\"] == \"candombe\"]\n",
    "# plot_scatter_input_output_distribution(df_subset, use_normalized_accents=False)\n",
    "# df_subset = control_features_df[control_features_df[\"collection\"] == \"taptamdrum_hvo_output_both_is_and\"]\n",
    "# plot_scatter_input_output_distribution(df_subset, use_normalized_accents=False)\n",
    "# df_subset = control_features_df[control_features_df[\"collection\"] == \"groove_midi\"]\n",
    "# plot_scatter_input_output_distribution(df_subset, use_normalized_accents=False)\n"
   ],
   "outputs": [
    {
     "name": "stdout",
     "output_type": "stream",
     "text": [
      "Available collections: ['groove_midi']\n"
     ]
    },
    {
     "data": {
      "text/plain": [
       "<Figure size 600x400 with 1 Axes>"
      ],
      "image/png": "[encoded data removed]"
     },
     "metadata": {},
     "output_type": "display_data"
    },
    {
     "data": {
      "text/plain": [
       "<Figure size 600x400 with 1 Axes>"
      ],
      "image/png": "[encoded data removed]"
     },
     "metadata": {},
     "output_type": "display_data"
    }
   ],
   "execution_count": 20
  },
  {
   "cell_type": "code",
   "id": "450a0fdb87a76f7f",
   "metadata": {
    "ExecuteTime": {
     "end_time": "2025-08-09T10:21:33.642510Z",
     "start_time": "2025-08-09T10:21:29.435320Z"
    }
   },
   "source": [
    "plot_control_features_violin(control_features_df)\n"
   ],
   "outputs": [
    {
     "data": {
      "text/plain": [
       "<Figure size 600x800 with 1 Axes>"
      ],
      "image/png": "[encoded data removed]"
     },
     "metadata": {},
     "output_type": "display_data"
    }
   ],
   "execution_count": 21
  },
  {
   "cell_type": "code",
   "id": "b47a22f9f709a401",
   "metadata": {
    "ExecuteTime": {
     "end_time": "2025-08-09T10:21:33.649758Z",
     "start_time": "2025-08-09T10:21:33.648454Z"
    }
   },
   "source": [],
   "outputs": [],
   "execution_count": null
  },
  {
   "cell_type": "code",
   "id": "f581080cd5581786",
   "metadata": {
    "ExecuteTime": {
     "end_time": "2025-08-09T10:21:33.662152Z",
     "start_time": "2025-08-09T10:21:33.658887Z"
    }
   },
   "source": [
    "# plot histogram of Accent hamming for hit distance of n (actual distance will be n*1./31.)\n",
    "def plot_histogram_accent_hamming_distance(control_features_df, hit_hamming_distance_index=0):\n",
    "    \"\"\"\n",
    "    Plot histogram of accent hamming distance for hit distance of n (actual distance will be n*1./32.)\n",
    "    :param control_features_df: pd.DataFrame\n",
    "        DataFrame containing the control features.\n",
    "    :param hit_hamming_distance_index: int\n",
    "        The index of the hit hamming distance to plot.\n",
    "    \"\"\"\n",
    "    plt.figure(figsize=(6, 4))\n",
    "    hit_hamming_distance = control_features_df[\"groove_to_output_hit_hamming_distance\"]\n",
    "    accent_hamming_distance = control_features_df[\"groove_to_output_accent_hamming_distance\"]\n",
    "\n",
    "    plt.hist(accent_hamming_distance[hit_hamming_distance == hit_hamming_distance_index/32.0], bins=30, alpha=0.7)\n",
    "    plt.xlabel(\"Accent Hamming Distance\")\n",
    "    plt.ylabel(\"Frequency\")\n",
    "    plt.title(f\"Histogram of Accent Hamming Distance for Hit Distance {hit_hamming_distance_index}\")\n",
    "    plt.tight_layout()\n",
    "    plt.show()\n",
    "\n",
    "# create a grid of 4 x 8 figures with the histogram of accent hamming distance for hit distance of n (actual distance will be n*1./32.)\n",
    "def plot_histogram_accent_hamming_distance_grid(control_features_df, hit_hamming_distance_index=0):\n",
    "    \"\"\"\n",
    "    Plot histogram of accent hamming distance for hit distance of n (actual distance will be n*1./32.)\n",
    "    :param control_features_df: pd.DataFrame\n",
    "        DataFrame containing the control features.\n",
    "    :param hit_hamming_distance_index: int\n",
    "        The index of the hit hamming distance to plot.\n",
    "    \"\"\"\n",
    "    fig, axs = plt.subplots(4, 8, figsize=(16, 8))\n",
    "    axs = axs.flatten()\n",
    "\n",
    "    for i in range(32):\n",
    "        hit_hamming_distance = control_features_df[\"groove_to_output_hit_hamming_distance\"]\n",
    "        accent_hamming_distance = control_features_df[\"groove_to_output_accent_hamming_distance\"]\n",
    "\n",
    "        axs[i].hist(accent_hamming_distance[hit_hamming_distance == i/32.0], bins=30, alpha=0.7)\n",
    "        axs[i].set_xlabel(\"Accent Hamming Distance\")\n",
    "        axs[i].set_ylabel(\"Frequency\")\n",
    "        axs[i].set_title(f\"Hit Distance {i}\")\n",
    "\n",
    "    plt.tight_layout()\n",
    "    plt.show()"
   ],
   "outputs": [],
   "execution_count": 22
  },
  {
   "cell_type": "code",
   "id": "dc182aaa72f124f3",
   "metadata": {
    "ExecuteTime": {
     "end_time": "2025-08-09T10:21:33.673594Z",
     "start_time": "2025-08-09T10:21:33.672471Z"
    }
   },
   "source": [],
   "outputs": [],
   "execution_count": null
  },
  {
   "cell_type": "code",
   "id": "d556e7e6c155a224",
   "metadata": {
    "ExecuteTime": {
     "end_time": "2025-08-09T10:21:34.709689Z",
     "start_time": "2025-08-09T10:21:33.680185Z"
    }
   },
   "source": [
    "\n",
    "plot_histogram_accent_hamming_distance_grid(control_features_df, hit_hamming_distance_index=32)\n"
   ],
   "outputs": [
    {
     "data": {
      "text/plain": [
       "<Figure size 1600x800 with 32 Axes>"
      ],
      "image/png": "[encoded data removed]"
     },
     "metadata": {},
     "output_type": "display_data"
    }
   ],
   "execution_count": 23
  },
  {
   "cell_type": "code",
   "id": "1ff81c90dca910be",
   "metadata": {
    "ExecuteTime": {
     "end_time": "2025-08-09T10:21:35.464469Z",
     "start_time": "2025-08-09T10:21:34.716911Z"
    }
   },
   "source": [
    "import pandas as pd\n",
    "import plotly.graph_objects as go\n",
    "import plotly.express as px\n",
    "import numpy as np\n",
    "\n",
    "def create_heatmap_histogram(df, key1, key2, bins=None, title=None, exclude_pairs=None,\n",
    "                           show_zeros=False):\n",
    "    \"\"\"\n",
    "    Creates an interactive heatmap histogram from a DataFrame using two keys.\n",
    "    Shows frequency counts in each cell like a confusion matrix.\n",
    "\n",
    "    Parameters:\n",
    "    -----------\n",
    "    df : pandas.DataFrame\n",
    "        The input dataframe\n",
    "    key1 : str\n",
    "        Column name for x-axis\n",
    "    key2 : str\n",
    "        Column name for y-axis\n",
    "    bins : int, tuple, or None, optional\n",
    "        Number of bins for each dimension. If None (default), uses all unique values\n",
    "    title : str, optional\n",
    "        Plot title (default: auto-generated)\n",
    "    exclude_pairs : list of tuples or tuple, optional\n",
    "        Specific (key1, key2) value pairs to exclude from calculations\n",
    "        e.g., [(10, 20), (15, 25)] or (10, 20) for single exclusion\n",
    "    show_zeros : bool, optional\n",
    "        Whether to show 0 counts in cells (default: False)\n",
    "\n",
    "    Returns:\n",
    "    --------\n",
    "    plotly.graph_objects.Figure\n",
    "        Interactive heatmap with counts\n",
    "    \"\"\"\n",
    "\n",
    "    # Create a copy to avoid modifying original dataframe\n",
    "    df_filtered = df.copy()\n",
    "\n",
    "    # Handle exclusions\n",
    "    if exclude_pairs is not None:\n",
    "        # Convert single tuple to list of tuples\n",
    "        if isinstance(exclude_pairs, tuple):\n",
    "            exclude_pairs = [exclude_pairs]\n",
    "\n",
    "        # Create boolean mask for rows to keep\n",
    "        mask = pd.Series([True] * len(df_filtered), index=df_filtered.index)\n",
    "\n",
    "        for pair in exclude_pairs:\n",
    "            if len(pair) != 2:\n",
    "                raise ValueError(\"Each exclusion pair must contain exactly 2 values\")\n",
    "\n",
    "            exclude_mask = (df_filtered[key1] == pair[0]) & (df_filtered[key2] == pair[1])\n",
    "            mask = mask & ~exclude_mask\n",
    "\n",
    "            # Print info about excluded points\n",
    "            excluded_count = exclude_mask.sum()\n",
    "            if excluded_count > 0:\n",
    "                print(f\"Excluded {excluded_count} points with ({key1}={pair[0]}, {key2}={pair[1]})\")\n",
    "\n",
    "        # Apply the mask\n",
    "        df_filtered = df_filtered[mask]\n",
    "        print(f\"Total rows after exclusions: {len(df_filtered)} (original: {len(df)})\")\n",
    "\n",
    "    # Extract data for the two keys and remove NaN values\n",
    "    valid_data = df_filtered[[key1, key2]].dropna()\n",
    "    x_data = valid_data[key1]\n",
    "    y_data = valid_data[key2]\n",
    "\n",
    "    if len(x_data) == 0:\n",
    "        print(\"Warning: No valid data points remaining after exclusions and NaN removal\")\n",
    "        return None\n",
    "\n",
    "    # Handle bins=None case (use unique values)\n",
    "    if bins is None:\n",
    "        # Create cross-tabulation using unique values\n",
    "        crosstab = pd.crosstab(y_data, x_data, dropna=False)\n",
    "\n",
    "        # Get sorted unique values for consistent ordering\n",
    "        x_values = sorted(x_data.unique())\n",
    "        y_values = sorted(y_data.unique())\n",
    "\n",
    "        # Reindex to ensure all values are present\n",
    "        crosstab = crosstab.reindex(index=y_values, columns=x_values, fill_value=0)\n",
    "\n",
    "        # Create labels (convert to string for display)\n",
    "        x_labels = [str(x) for x in x_values]\n",
    "        y_labels = [str(y) for y in y_values]\n",
    "\n",
    "        # Get the count matrix\n",
    "        count_matrix = crosstab.values\n",
    "\n",
    "    else:\n",
    "        # Use binning approach for numeric bins\n",
    "        # Create 2D histogram using numpy\n",
    "        hist, x_edges, y_edges = np.histogram2d(x_data, y_data, bins=bins)\n",
    "\n",
    "        # Create bin labels for better readability\n",
    "        x_labels = []\n",
    "        for i in range(len(x_edges) - 1):\n",
    "            x_labels.append(f\"{x_edges[i]:.1f}-{x_edges[i+1]:.1f}\")\n",
    "\n",
    "        y_labels = []\n",
    "        for i in range(len(y_edges) - 1):\n",
    "            y_labels.append(f\"{y_edges[i]:.1f}-{y_edges[i+1]:.1f}\")\n",
    "\n",
    "        # Transpose histogram for correct orientation\n",
    "        count_matrix = hist.T\n",
    "\n",
    "    # Create text annotations for each cell (showing the count)\n",
    "    text_annotations = []\n",
    "    for i in range(len(y_labels)):\n",
    "        row = []\n",
    "        for j in range(len(x_labels)):\n",
    "            count = int(count_matrix[i, j])\n",
    "            if count > 0 or show_zeros:\n",
    "                row.append(str(count))\n",
    "            else:\n",
    "                row.append(\"\")  # Don't show 0s for cleaner look unless requested\n",
    "        text_annotations.append(row)\n",
    "\n",
    "    # Create the heatmap\n",
    "    fig = go.Figure(data=go.Heatmap(\n",
    "        z=count_matrix,\n",
    "        x=x_labels,\n",
    "        y=y_labels,\n",
    "        text=text_annotations,\n",
    "        texttemplate=\"%{text}\",\n",
    "        textfont={\"size\": max(8, min(12, 300 // max(len(x_labels), len(y_labels))))},  # Dynamic font size\n",
    "        colorscale='Plasma', # 'YlGnBu', 'Cividis', 'Plasma', 'Inferno', 'Magma'\n",
    "        showscale=True,\n",
    "        colorbar=dict(title=\"Count\"),\n",
    "        hovertemplate=f'{key1}: %{{x}}<br>{key2}: %{{y}}<br>Count: %{{z}}<extra></extra>'\n",
    "    ))\n",
    "\n",
    "    # Update layout\n",
    "    if title is None:\n",
    "        exclusion_info = f\" (Excluded {len(exclude_pairs)} pairs)\" if exclude_pairs else \"\"\n",
    "        bins_info = \"All unique values\" if bins is None else f\"{bins} bins\"\n",
    "        title = f'Heatmap: {key1} vs {key2} ({bins_info}){exclusion_info}'\n",
    "\n",
    "    # Dynamic sizing based on number of categories\n",
    "    plot_width = max(600, len(x_labels) * 40)\n",
    "    plot_height = max(400, len(y_labels) * 30)\n",
    "\n",
    "    fig.update_layout(\n",
    "        title=title,\n",
    "        xaxis_title=key1,\n",
    "        yaxis_title=key2,\n",
    "        width=min(plot_width, 1200),  # Cap maximum width\n",
    "        height=min(plot_height, 800), # Cap maximum height\n",
    "        xaxis=dict(tickangle=45 if len(x_labels) > 10 else 0),\n",
    "        yaxis=dict(tickangle=0)\n",
    "    )\n",
    "\n",
    "    return fig\n",
    "\n",
    "def create_binned_heatmap_histogram(df, key1, key2, bins=20, title=None, exclude_pairs=None,\n",
    "                                  show_zeros=False):\n",
    "    \"\"\"\n",
    "    Creates a heatmap for continuous data with explicit binning.\n",
    "    This is the old behavior when you specifically want to bin continuous data.\n",
    "\n",
    "    Parameters are the same as create_heatmap_histogram but bins defaults to 20.\n",
    "    \"\"\"\n",
    "    return create_heatmap_histogram(df, key1, key2, bins=bins, title=title,\n",
    "                                  exclude_pairs=exclude_pairs, show_zeros=show_zeros)\n",
    "\n",
    "# Helper function to check data characteristics\n",
    "def analyze_data_for_binning(df, key1, key2):\n",
    "    \"\"\"\n",
    "    Analyzes the data to suggest whether binning might be needed.\n",
    "\n",
    "    Returns:\n",
    "    --------\n",
    "    dict: Information about the data characteristics\n",
    "    \"\"\"\n",
    "    x_data = df[key1].dropna()\n",
    "    y_data = df[key2].dropna()\n",
    "\n",
    "    x_unique_count = x_data.nunique()\n",
    "    y_unique_count = y_data.nunique()\n",
    "\n",
    "    x_is_numeric = pd.api.types.is_numeric_dtype(x_data)\n",
    "    y_is_numeric = pd.api.types.is_numeric_dtype(y_data)\n",
    "\n",
    "    analysis = {\n",
    "        'x_unique_count': x_unique_count,\n",
    "        'y_unique_count': y_unique_count,\n",
    "        'x_is_numeric': x_is_numeric,\n",
    "        'y_is_numeric': y_is_numeric,\n",
    "        'total_combinations': x_unique_count * y_unique_count,\n",
    "        'data_points': len(df[[key1, key2]].dropna())\n",
    "    }\n",
    "\n",
    "    # Suggestions\n",
    "    if analysis['total_combinations'] > 100:\n",
    "        analysis['suggestion'] = f\"Consider using bins (e.g., bins=20) as you have {analysis['total_combinations']} unique combinations\"\n",
    "    elif analysis['total_combinations'] > 50:\n",
    "        analysis['suggestion'] = \"Data might benefit from binning for cleaner visualization\"\n",
    "    else:\n",
    "        analysis['suggestion'] = \"Using unique values (bins=None) should work well\"\n",
    "\n",
    "    return analysis\n",
    "\n",
    "# Example usage:\n",
    "\"\"\"\n",
    "import pandas as pd\n",
    "import numpy as np\n",
    "\n",
    "# Example 1: Discrete/Categorical data (bins=None works great)\n",
    "np.random.seed(42)\n",
    "df_discrete = pd.DataFrame({\n",
    "    'department': np.random.choice(['Sales', 'Engineering', 'Marketing', 'HR'], 500),\n",
    "    'rating': np.random.choice([1, 2, 3, 4, 5], 500),\n",
    "    'experience': np.random.choice(['Junior', 'Mid', 'Senior'], 500)\n",
    "})\n",
    "\n",
    "# This will use all unique values automatically\n",
    "fig1 = create_heatmap_histogram(df_discrete, 'department', 'rating',\n",
    "                               title='Department vs Rating (All Unique Values)')\n",
    "fig1.show()\n",
    "\n",
    "# Example 2: Continuous data with bins=None (might create many unique values)\n",
    "df_continuous = pd.DataFrame({\n",
    "    'height': np.random.normal(170, 10, 1000),\n",
    "    'weight': np.random.normal(70, 15, 1000),\n",
    "    'age': np.random.randint(18, 80, 1000)\n",
    "})\n",
    "\n",
    "# Check data characteristics first\n",
    "analysis = analyze_data_for_binning(df_continuous, 'height', 'weight')\n",
    "print(\"Data analysis:\", analysis)\n",
    "\n",
    "# This might create a very sparse heatmap due to many unique float values\n",
    "fig2 = create_heatmap_histogram(df_continuous, 'height', 'weight',\n",
    "                               title='Height vs Weight (All Unique Values - Might be Sparse)')\n",
    "\n",
    "# Better approach for continuous data - use binning\n",
    "fig3 = create_heatmap_histogram(df_continuous, 'height', 'weight', bins=15,\n",
    "                               title='Height vs Weight (15x15 bins)')\n",
    "fig3.show()\n",
    "\n",
    "# Example 3: Integer data works well with bins=None\n",
    "df_integers = pd.DataFrame({\n",
    "    'score1': np.random.randint(0, 11, 1000),  # 0-10 score\n",
    "    'score2': np.random.randint(0, 11, 1000),  # 0-10 score\n",
    "    'category': np.random.choice(['A', 'B', 'C'], 1000)\n",
    "})\n",
    "\n",
    "fig4 = create_heatmap_histogram(df_integers, 'score1', 'score2',\n",
    "                               title='Score1 vs Score2 (Integer Values)')\n",
    "fig4.show()\n",
    "\n",
    "# Example 4: With exclusions\n",
    "fig5 = create_heatmap_histogram(df_discrete, 'department', 'rating',\n",
    "                               exclude_pairs=[('Sales', 5), ('HR', 1)],\n",
    "                               show_zeros=True,\n",
    "                               title='Department vs Rating (With Exclusions)')\n",
    "fig5.show()\n",
    "\"\"\"\n",
    "\n",
    "create_heatmap_histogram(control_features_df,\n",
    "                         key1=\"groove_to_output_hit_hamming_distance\",\n",
    "                         key2=\"groove_to_output_accent_hamming_distance\",\n",
    "                         bins=None,\n",
    "                         title=\"Heatmap Histogram of Groove to Output Hit Hamming Distance vs Accent Hamming Distance\",\n",
    "                         )\n",
    "\n",
    "\n"
   ],
   "outputs": [
    {
     "data": {
      "application/vnd.plotly.v1+json": {
       "data": [
        {
         "colorbar": {
          "title": {
           "text": "Count"
          }
         },
         "colorscale": [
          [
           0.0,
           "#0d0887"
          ],
          [
           0.1111111111111111,
           "#46039f"
          ],
          [
           0.2222222222222222,
           "#7201a8"
          ],
          [
           0.3333333333333333,
           "#9c179e"
          ],
          [
           0.4444444444444444,
           "#bd3786"
          ],
          [
           0.5555555555555556,
           "#d8576b"
          ],
          [
           0.6666666666666666,
           "#ed7953"
          ],
          [
           0.7777777777777778,
           "#fb9f3a"
          ],
          [
           0.8888888888888888,
           "#fdca26"
          ],
          [
           1.0,
           "#f0f921"
          ]
         ],
         "hovertemplate": "groove_to_output_hit_hamming_distance: %{x}<br>groove_to_output_accent_hamming_distance: %{y}<br>Count: %{z}<extra></extra>",
         "showscale": true,
         "text": [
          [
           "27801",
           "1347",
           "1021",
           "1117",
           "3013",
           "1566",
           "1539",
           "1649",
           "2876",
           "2235",
           "2269",
           "2632",
           "2972",
           "2494",
           "2650",
           "2472",
           "3877",
           "1832",
           "1579",
           "1302",
           "1390",
           "1011",
           "882",
           "908",
           "1508",
           "412",
           "316",
           "235",
           "290",
           "163",
           "149",
           "153",
           "429"
          ],
          [
           "8582",
           "1361",
           "817",
           "697",
           "888",
           "1153",
           "1133",
           "1117",
           "1449",
           "1506",
           "1392",
           "1416",
           "1716",
           "1415",
           "1507",
           "1452",
           "1525",
           "1114",
           "1000",
           "813",
           "700",
           "512",
           "503",
           "371",
           "522",
           "180",
           "136",
           "104",
           "164",
           "99",
           "73",
           "92",
           "102"
          ],
          [
           "6355",
           "296",
           "1012",
           "580",
           "677",
           "769",
           "965",
           "978",
           "1315",
           "1237",
           "1363",
           "1433",
           "1554",
           "1455",
           "1450",
           "1222",
           "1459",
           "1017",
           "995",
           "710",
           "669",
           "481",
           "427",
           "400",
           "434",
           "207",
           "153",
           "160",
           "131",
           "84",
           "91",
           "61",
           "60"
          ],
          [
           "4564",
           "192",
           "281",
           "682",
           "670",
           "627",
           "752",
           "830",
           "1103",
           "1114",
           "1287",
           "1343",
           "1595",
           "1339",
           "1429",
           "1335",
           "1431",
           "931",
           "951",
           "741",
           "676",
           "584",
           "406",
           "411",
           "425",
           "249",
           "162",
           "173",
           "111",
           "72",
           "80",
           "70",
           "87"
          ],
          [
           "3154",
           "157",
           "201",
           "290",
           "869",
           "740",
           "790",
           "911",
           "1191",
           "1135",
           "1311",
           "1432",
           "1778",
           "1457",
           "1468",
           "1350",
           "1508",
           "1228",
           "965",
           "751",
           "687",
           "606",
           "597",
           "502",
           "511",
           "290",
           "234",
           "153",
           "129",
           "83",
           "104",
           "76",
           "67"
          ],
          [
           "1761",
           "83",
           "120",
           "145",
           "267",
           "534",
           "668",
           "749",
           "953",
           "946",
           "1137",
           "1177",
           "1358",
           "1303",
           "1378",
           "1247",
           "1455",
           "989",
           "867",
           "694",
           "656",
           "644",
           "569",
           "516",
           "521",
           "290",
           "231",
           "179",
           "170",
           "101",
           "91",
           "72",
           "82"
          ],
          [
           "1262",
           "100",
           "119",
           "109",
           "198",
           "254",
           "639",
           "660",
           "901",
           "809",
           "1021",
           "1059",
           "1239",
           "1119",
           "1300",
           "1300",
           "1458",
           "959",
           "863",
           "747",
           "692",
           "580",
           "564",
           "492",
           "439",
           "268",
           "220",
           "176",
           "130",
           "102",
           "102",
           "86",
           "83"
          ],
          [
           "791",
           "76",
           "107",
           "70",
           "149",
           "199",
           "270",
           "496",
           "829",
           "648",
           "832",
           "941",
           "1113",
           "1028",
           "1254",
           "1194",
           "1427",
           "862",
           "750",
           "748",
           "666",
           "528",
           "514",
           "498",
           "509",
           "274",
           "256",
           "191",
           "166",
           "93",
           "82",
           "98",
           "83"
          ],
          [
           "491",
           "56",
           "93",
           "66",
           "144",
           "146",
           "209",
           "319",
           "1032",
           "651",
           "831",
           "875",
           "1094",
           "1079",
           "1182",
           "1048",
           "1484",
           "884",
           "800",
           "651",
           "689",
           "591",
           "529",
           "444",
           "573",
           "288",
           "265",
           "175",
           "196",
           "90",
           "90",
           "100",
           "95"
          ],
          [
           "249",
           "34",
           "57",
           "47",
           "74",
           "104",
           "113",
           "158",
           "249",
           "528",
           "573",
           "591",
           "705",
           "796",
           "852",
           "882",
           "973",
           "704",
           "625",
           "672",
           "531",
           "462",
           "420",
           "359",
           "447",
           "238",
           "198",
           "175",
           "134",
           "72",
           "84",
           "112",
           "84"
          ],
          [
           "122",
           "27",
           "19",
           "31",
           "47",
           "48",
           "97",
           "109",
           "168",
           "197",
           "539",
           "465",
           "563",
           "616",
           "702",
           "666",
           "810",
           "627",
           "604",
           "522",
           "463",
           "395",
           "415",
           "314",
           "374",
           "202",
           "174",
           "137",
           "131",
           "83",
           "96",
           "93",
           "93"
          ],
          [
           "45",
           "6",
           "11",
           "9",
           "32",
           "41",
           "63",
           "49",
           "85",
           "167",
           "194",
           "303",
           "461",
           "479",
           "557",
           "527",
           "669",
           "524",
           "521",
           "403",
           "381",
           "382",
           "410",
           "309",
           "355",
           "191",
           "130",
           "111",
           "113",
           "67",
           "76",
           "90",
           "105"
          ],
          [
           "22",
           "8",
           "",
           "8",
           "10",
           "37",
           "42",
           "51",
           "57",
           "94",
           "126",
           "204",
           "417",
           "374",
           "414",
           "474",
           "529",
           "443",
           "448",
           "375",
           "368",
           "307",
           "305",
           "316",
           "324",
           "183",
           "136",
           "105",
           "109",
           "64",
           "70",
           "66",
           "87"
          ],
          [
           "11",
           "5",
           "4",
           "2",
           "5",
           "9",
           "22",
           "36",
           "40",
           "67",
           "86",
           "109",
           "148",
           "267",
           "303",
           "372",
           "511",
           "371",
           "394",
           "292",
           "293",
           "319",
           "291",
           "295",
           "283",
           "154",
           "112",
           "87",
           "95",
           "62",
           "64",
           "95",
           "62"
          ],
          [
           "7",
           "2",
           "3",
           "",
           "5",
           "10",
           "15",
           "14",
           "30",
           "40",
           "51",
           "77",
           "123",
           "150",
           "268",
           "263",
           "393",
           "356",
           "319",
           "328",
           "247",
           "269",
           "236",
           "218",
           "232",
           "163",
           "132",
           "103",
           "89",
           "74",
           "54",
           "65",
           "95"
          ],
          [
           "2",
           "",
           "",
           "",
           "",
           "4",
           "9",
           "12",
           "13",
           "28",
           "27",
           "42",
           "76",
           "79",
           "149",
           "241",
           "308",
           "254",
           "311",
           "238",
           "230",
           "232",
           "192",
           "214",
           "169",
           "136",
           "103",
           "92",
           "72",
           "67",
           "61",
           "54",
           "43"
          ],
          [
           "3",
           "",
           "3",
           "3",
           "2",
           "3",
           "4",
           "5",
           "21",
           "13",
           "27",
           "31",
           "35",
           "68",
           "98",
           "108",
           "204",
           "196",
           "234",
           "213",
           "181",
           "149",
           "161",
           "149",
           "151",
           "112",
           "83",
           "57",
           "65",
           "75",
           "37",
           "24",
           "59"
          ],
          [
           "",
           "1",
           "",
           "1",
           "",
           "",
           "1",
           "3",
           "2",
           "9",
           "19",
           "20",
           "25",
           "25",
           "57",
           "80",
           "94",
           "123",
           "164",
           "137",
           "150",
           "129",
           "119",
           "106",
           "103",
           "94",
           "80",
           "69",
           "49",
           "36",
           "19",
           "27",
           "22"
          ],
          [
           "",
           "",
           "",
           "",
           "",
           "",
           "",
           "2",
           "1",
           "4",
           "5",
           "9",
           "13",
           "32",
           "32",
           "59",
           "65",
           "81",
           "131",
           "154",
           "102",
           "124",
           "102",
           "93",
           "87",
           "77",
           "77",
           "59",
           "40",
           "27",
           "28",
           "16",
           "23"
          ],
          [
           "",
           "",
           "",
           "",
           "",
           "",
           "",
           "",
           "",
           "1",
           "2",
           "3",
           "13",
           "13",
           "25",
           "24",
           "47",
           "53",
           "58",
           "84",
           "86",
           "75",
           "71",
           "74",
           "67",
           "59",
           "71",
           "54",
           "52",
           "34",
           "21",
           "14",
           "6"
          ],
          [
           "",
           "",
           "",
           "",
           "",
           "",
           "",
           "",
           "",
           "2",
           "1",
           "2",
           "5",
           "9",
           "20",
           "19",
           "26",
           "36",
           "52",
           "54",
           "69",
           "51",
           "42",
           "54",
           "51",
           "47",
           "47",
           "43",
           "40",
           "35",
           "18",
           "12",
           "12"
          ],
          [
           "",
           "",
           "",
           "",
           "",
           "",
           "",
           "",
           "",
           "",
           "1",
           "3",
           "2",
           "5",
           "12",
           "12",
           "19",
           "18",
           "23",
           "30",
           "28",
           "39",
           "34",
           "37",
           "21",
           "33",
           "30",
           "34",
           "29",
           "28",
           "22",
           "9",
           "9"
          ],
          [
           "",
           "",
           "",
           "",
           "",
           "",
           "",
           "",
           "",
           "",
           "",
           "1",
           "",
           "1",
           "4",
           "8",
           "7",
           "8",
           "24",
           "13",
           "16",
           "24",
           "18",
           "22",
           "14",
           "17",
           "15",
           "16",
           "12",
           "10",
           "7",
           "9",
           "5"
          ],
          [
           "",
           "",
           "",
           "",
           "",
           "",
           "",
           "",
           "",
           "",
           "",
           "",
           "",
           "1",
           "1",
           "4",
           "2",
           "5",
           "8",
           "5",
           "8",
           "11",
           "7",
           "6",
           "14",
           "10",
           "6",
           "8",
           "9",
           "1",
           "7",
           "7",
           "9"
          ],
          [
           "",
           "",
           "",
           "",
           "",
           "",
           "",
           "",
           "",
           "",
           "",
           "",
           "",
           "",
           "",
           "1",
           "1",
           "4",
           "4",
           "4",
           "7",
           "3",
           "4",
           "6",
           "2",
           "8",
           "4",
           "1",
           "6",
           "2",
           "1",
           "6",
           "5"
          ],
          [
           "",
           "",
           "",
           "",
           "",
           "",
           "",
           "",
           "",
           "",
           "",
           "",
           "1",
           "1",
           "",
           "3",
           "3",
           "1",
           "3",
           "2",
           "2",
           "3",
           "3",
           "2",
           "5",
           "2",
           "4",
           "6",
           "2",
           "5",
           "4",
           "",
           "2"
          ],
          [
           "",
           "",
           "",
           "",
           "",
           "",
           "",
           "",
           "",
           "",
           "",
           "",
           "",
           "",
           "2",
           "",
           "1",
           "2",
           "4",
           "2",
           "",
           "",
           "3",
           "",
           "2",
           "3",
           "7",
           "2",
           "2",
           "1",
           "2",
           "1",
           "2"
          ],
          [
           "",
           "",
           "",
           "",
           "",
           "",
           "",
           "",
           "",
           "",
           "",
           "",
           "",
           "",
           "",
           "",
           "",
           "",
           "",
           "1",
           "1",
           "1",
           "",
           "1",
           "1",
           "",
           "",
           "",
           "",
           "",
           "1",
           "1",
           "4"
          ],
          [
           "",
           "",
           "",
           "",
           "",
           "",
           "",
           "",
           "",
           "",
           "",
           "",
           "",
           "",
           "",
           "",
           "",
           "",
           "",
           "",
           "",
           "",
           "",
           "1",
           "1",
           "",
           "1",
           "",
           "",
           "",
           "",
           "",
           ""
          ],
          [
           "",
           "",
           "",
           "",
           "",
           "",
           "",
           "",
           "",
           "",
           "",
           "",
           "",
           "",
           "",
           "",
           "",
           "",
           "",
           "",
           "",
           "",
           "",
           "",
           "",
           "",
           "",
           "",
           "",
           "",
           "2",
           "",
           "2"
          ]
         ],
         "textfont": {
          "size": 9
         },
         "texttemplate": "%{text}",
         "x": [
          "0.0",
          "0.03125",
          "0.0625",
          "0.09375",
          "0.125",
          "0.15625",
          "0.1875",
          "0.21875",
          "0.25",
          "0.28125",
          "0.3125",
          "0.34375",
          "0.375",
          "0.40625",
          "0.4375",
          "0.46875",
          "0.5",
          "0.53125",
          "0.5625",
          "0.59375",
          "0.625",
          "0.65625",
          "0.6875",
          "0.71875",
          "0.75",
          "0.78125",
          "0.8125",
          "0.84375",
          "0.875",
          "0.90625",
          "0.9375",
          "0.96875",
          "1.0"
         ],
         "y": [
          "0.0",
          "0.03125",
          "0.0625",
          "0.09375",
          "0.125",
          "0.15625",
          "0.1875",
          "0.21875",
          "0.25",
          "0.28125",
          "0.3125",
          "0.34375",
          "0.375",
          "0.40625",
          "0.4375",
          "0.46875",
          "0.5",
          "0.53125",
          "0.5625",
          "0.59375",
          "0.625",
          "0.65625",
          "0.6875",
          "0.71875",
          "0.75",
          "0.78125",
          "0.8125",
          "0.84375",
          "0.875",
          "0.90625"
         ],
         "z": {
          "dtype": "i2",
          "bdata": "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",
          "shape": "30, 33"
         },
         "type": "heatmap"
        }
       ],
       "layout": {
        "template": {
         "data": {
          "histogram2dcontour": [
           {
            "type": "histogram2dcontour",
            "colorbar": {
             "outlinewidth": 0,
             "ticks": ""
            },
            "colorscale": [
             [
              0.0,
              "#0d0887"
             ],
             [
              0.1111111111111111,
              "#46039f"
             ],
             [
              0.2222222222222222,
              "#7201a8"
             ],
             [
              0.3333333333333333,
              "#9c179e"
             ],
             [
              0.4444444444444444,
              "#bd3786"
             ],
             [
              0.5555555555555556,
              "#d8576b"
             ],
             [
              0.6666666666666666,
              "#ed7953"
             ],
             [
              0.7777777777777778,
              "#fb9f3a"
             ],
             [
              0.8888888888888888,
              "#fdca26"
             ],
             [
              1.0,
              "#f0f921"
             ]
            ]
           }
          ],
          "choropleth": [
           {
            "type": "choropleth",
            "colorbar": {
             "outlinewidth": 0,
             "ticks": ""
            }
           }
          ],
          "histogram2d": [
           {
            "type": "histogram2d",
            "colorbar": {
             "outlinewidth": 0,
             "ticks": ""
            },
            "colorscale": [
             [
              0.0,
              "#0d0887"
             ],
             [
              0.1111111111111111,
              "#46039f"
             ],
             [
              0.2222222222222222,
              "#7201a8"
             ],
             [
              0.3333333333333333,
              "#9c179e"
             ],
             [
              0.4444444444444444,
              "#bd3786"
             ],
             [
              0.5555555555555556,
              "#d8576b"
             ],
             [
              0.6666666666666666,
              "#ed7953"
             ],
             [
              0.7777777777777778,
              "#fb9f3a"
             ],
             [
              0.8888888888888888,
              "#fdca26"
             ],
             [
              1.0,
              "#f0f921"
             ]
            ]
           }
          ],
          "heatmap": [
           {
            "type": "heatmap",
            "colorbar": {
             "outlinewidth": 0,
             "ticks": ""
            },
            "colorscale": [
             [
              0.0,
              "#0d0887"
             ],
             [
              0.1111111111111111,
              "#46039f"
             ],
             [
              0.2222222222222222,
              "#7201a8"
             ],
             [
              0.3333333333333333,
              "#9c179e"
             ],
             [
              0.4444444444444444,
              "#bd3786"
             ],
             [
              0.5555555555555556,
              "#d8576b"
             ],
             [
              0.6666666666666666,
              "#ed7953"
             ],
             [
              0.7777777777777778,
              "#fb9f3a"
             ],
             [
              0.8888888888888888,
              "#fdca26"
             ],
             [
              1.0,
              "#f0f921"
             ]
            ]
           }
          ],
          "contourcarpet": [
           {
            "type": "contourcarpet",
            "colorbar": {
             "outlinewidth": 0,
             "ticks": ""
            }
           }
          ],
          "contour": [
           {
            "type": "contour",
            "colorbar": {
             "outlinewidth": 0,
             "ticks": ""
            },
            "colorscale": [
             [
              0.0,
              "#0d0887"
             ],
             [
              0.1111111111111111,
              "#46039f"
             ],
             [
              0.2222222222222222,
              "#7201a8"
             ],
             [
              0.3333333333333333,
              "#9c179e"
             ],
             [
              0.4444444444444444,
              "#bd3786"
             ],
             [
              0.5555555555555556,
              "#d8576b"
             ],
             [
              0.6666666666666666,
              "#ed7953"
             ],
             [
              0.7777777777777778,
              "#fb9f3a"
             ],
             [
              0.8888888888888888,
              "#fdca26"
             ],
             [
              1.0,
              "#f0f921"
             ]
            ]
           }
          ],
          "surface": [
           {
            "type": "surface",
            "colorbar": {
             "outlinewidth": 0,
             "ticks": ""
            },
            "colorscale": [
             [
              0.0,
              "#0d0887"
             ],
             [
              0.1111111111111111,
              "#46039f"
             ],
             [
              0.2222222222222222,
              "#7201a8"
             ],
             [
              0.3333333333333333,
              "#9c179e"
             ],
             [
              0.4444444444444444,
              "#bd3786"
             ],
             [
              0.5555555555555556,
              "#d8576b"
             ],
             [
              0.6666666666666666,
              "#ed7953"
             ],
             [
              0.7777777777777778,
              "#fb9f3a"
             ],
             [
              0.8888888888888888,
              "#fdca26"
             ],
             [
              1.0,
              "#f0f921"
             ]
            ]
           }
          ],
          "mesh3d": [
           {
            "type": "mesh3d",
            "colorbar": {
             "outlinewidth": 0,
             "ticks": ""
            }
           }
          ],
          "scatter": [
           {
            "fillpattern": {
             "fillmode": "overlay",
             "size": 10,
             "solidity": 0.2
            },
            "type": "scatter"
           }
          ],
          "parcoords": [
           {
            "type": "parcoords",
            "line": {
             "colorbar": {
              "outlinewidth": 0,
              "ticks": ""
             }
            }
           }
          ],
          "scatterpolargl": [
           {
            "type": "scatterpolargl",
            "marker": {
             "colorbar": {
              "outlinewidth": 0,
              "ticks": ""
             }
            }
           }
          ],
          "bar": [
           {
            "error_x": {
             "color": "#2a3f5f"
            },
            "error_y": {
             "color": "#2a3f5f"
            },
            "marker": {
             "line": {
              "color": "#E5ECF6",
              "width": 0.5
             },
             "pattern": {
              "fillmode": "overlay",
              "size": 10,
              "solidity": 0.2
             }
            },
            "type": "bar"
           }
          ],
          "scattergeo": [
           {
            "type": "scattergeo",
            "marker": {
             "colorbar": {
              "outlinewidth": 0,
              "ticks": ""
             }
            }
           }
          ],
          "scatterpolar": [
           {
            "type": "scatterpolar",
            "marker": {
             "colorbar": {
              "outlinewidth": 0,
              "ticks": ""
             }
            }
           }
          ],
          "histogram": [
           {
            "marker": {
             "pattern": {
              "fillmode": "overlay",
              "size": 10,
              "solidity": 0.2
             }
            },
            "type": "histogram"
           }
          ],
          "scattergl": [
           {
            "type": "scattergl",
            "marker": {
             "colorbar": {
              "outlinewidth": 0,
              "ticks": ""
             }
            }
           }
          ],
          "scatter3d": [
           {
            "type": "scatter3d",
            "line": {
             "colorbar": {
              "outlinewidth": 0,
              "ticks": ""
             }
            },
            "marker": {
             "colorbar": {
              "outlinewidth": 0,
              "ticks": ""
             }
            }
           }
          ],
          "scattermap": [
           {
            "type": "scattermap",
            "marker": {
             "colorbar": {
              "outlinewidth": 0,
              "ticks": ""
             }
            }
           }
          ],
          "scattermapbox": [
           {
            "type": "scattermapbox",
            "marker": {
             "colorbar": {
              "outlinewidth": 0,
              "ticks": ""
             }
            }
           }
          ],
          "scatterternary": [
           {
            "type": "scatterternary",
            "marker": {
             "colorbar": {
              "outlinewidth": 0,
              "ticks": ""
             }
            }
           }
          ],
          "scattercarpet": [
           {
            "type": "scattercarpet",
            "marker": {
             "colorbar": {
              "outlinewidth": 0,
              "ticks": ""
             }
            }
           }
          ],
          "carpet": [
           {
            "aaxis": {
             "endlinecolor": "#2a3f5f",
             "gridcolor": "white",
             "linecolor": "white",
             "minorgridcolor": "white",
             "startlinecolor": "#2a3f5f"
            },
            "baxis": {
             "endlinecolor": "#2a3f5f",
             "gridcolor": "white",
             "linecolor": "white",
             "minorgridcolor": "white",
             "startlinecolor": "#2a3f5f"
            },
            "type": "carpet"
           }
          ],
          "table": [
           {
            "cells": {
             "fill": {
              "color": "#EBF0F8"
             },
             "line": {
              "color": "white"
             }
            },
            "header": {
             "fill": {
              "color": "#C8D4E3"
             },
             "line": {
              "color": "white"
             }
            },
            "type": "table"
           }
          ],
          "barpolar": [
           {
            "marker": {
             "line": {
              "color": "#E5ECF6",
              "width": 0.5
             },
             "pattern": {
              "fillmode": "overlay",
              "size": 10,
              "solidity": 0.2
             }
            },
            "type": "barpolar"
           }
          ],
          "pie": [
           {
            "automargin": true,
            "type": "pie"
           }
          ]
         },
         "layout": {
          "autotypenumbers": "strict",
          "colorway": [
           "#636efa",
           "#EF553B",
           "#00cc96",
           "#ab63fa",
           "#FFA15A",
           "#19d3f3",
           "#FF6692",
           "#B6E880",
           "#FF97FF",
           "#FECB52"
          ],
          "font": {
           "color": "#2a3f5f"
          },
          "hovermode": "closest",
          "hoverlabel": {
           "align": "left"
          },
          "paper_bgcolor": "white",
          "plot_bgcolor": "#E5ECF6",
          "polar": {
           "bgcolor": "#E5ECF6",
           "angularaxis": {
            "gridcolor": "white",
            "linecolor": "white",
            "ticks": ""
           },
           "radialaxis": {
            "gridcolor": "white",
            "linecolor": "white",
            "ticks": ""
           }
          },
          "ternary": {
           "bgcolor": "#E5ECF6",
           "aaxis": {
            "gridcolor": "white",
            "linecolor": "white",
            "ticks": ""
           },
           "baxis": {
            "gridcolor": "white",
            "linecolor": "white",
            "ticks": ""
           },
           "caxis": {
            "gridcolor": "white",
            "linecolor": "white",
            "ticks": ""
           }
          },
          "coloraxis": {
           "colorbar": {
            "outlinewidth": 0,
            "ticks": ""
           }
          },
          "colorscale": {
           "sequential": [
            [
             0.0,
             "#0d0887"
            ],
            [
             0.1111111111111111,
             "#46039f"
            ],
            [
             0.2222222222222222,
             "#7201a8"
            ],
            [
             0.3333333333333333,
             "#9c179e"
            ],
            [
             0.4444444444444444,
             "#bd3786"
            ],
            [
             0.5555555555555556,
             "#d8576b"
            ],
            [
             0.6666666666666666,
             "#ed7953"
            ],
            [
             0.7777777777777778,
             "#fb9f3a"
            ],
            [
             0.8888888888888888,
             "#fdca26"
            ],
            [
             1.0,
             "#f0f921"
            ]
           ],
           "sequentialminus": [
            [
             0.0,
             "#0d0887"
            ],
            [
             0.1111111111111111,
             "#46039f"
            ],
            [
             0.2222222222222222,
             "#7201a8"
            ],
            [
             0.3333333333333333,
             "#9c179e"
            ],
            [
             0.4444444444444444,
             "#bd3786"
            ],
            [
             0.5555555555555556,
             "#d8576b"
            ],
            [
             0.6666666666666666,
             "#ed7953"
            ],
            [
             0.7777777777777778,
             "#fb9f3a"
            ],
            [
             0.8888888888888888,
             "#fdca26"
            ],
            [
             1.0,
             "#f0f921"
            ]
           ],
           "diverging": [
            [
             0,
             "#8e0152"
            ],
            [
             0.1,
             "#c51b7d"
            ],
            [
             0.2,
             "#de77ae"
            ],
            [
             0.3,
             "#f1b6da"
            ],
            [
             0.4,
             "#fde0ef"
            ],
            [
             0.5,
             "#f7f7f7"
            ],
            [
             0.6,
             "#e6f5d0"
            ],
            [
             0.7,
             "#b8e186"
            ],
            [
             0.8,
             "#7fbc41"
            ],
            [
             0.9,
             "#4d9221"
            ],
            [
             1,
             "#276419"
            ]
           ]
          },
          "xaxis": {
           "gridcolor": "white",
           "linecolor": "white",
           "ticks": "",
           "title": {
            "standoff": 15
           },
           "zerolinecolor": "white",
           "automargin": true,
           "zerolinewidth": 2
          },
          "yaxis": {
           "gridcolor": "white",
           "linecolor": "white",
           "ticks": "",
           "title": {
            "standoff": 15
           },
           "zerolinecolor": "white",
           "automargin": true,
           "zerolinewidth": 2
          },
          "scene": {
           "xaxis": {
            "backgroundcolor": "#E5ECF6",
            "gridcolor": "white",
            "linecolor": "white",
            "showbackground": true,
            "ticks": "",
            "zerolinecolor": "white",
            "gridwidth": 2
           },
           "yaxis": {
            "backgroundcolor": "#E5ECF6",
            "gridcolor": "white",
            "linecolor": "white",
            "showbackground": true,
            "ticks": "",
            "zerolinecolor": "white",
            "gridwidth": 2
           },
           "zaxis": {
            "backgroundcolor": "#E5ECF6",
            "gridcolor": "white",
            "linecolor": "white",
            "showbackground": true,
            "ticks": "",
            "zerolinecolor": "white",
            "gridwidth": 2
           }
          },
          "shapedefaults": {
           "line": {
            "color": "#2a3f5f"
           }
          },
          "annotationdefaults": {
           "arrowcolor": "#2a3f5f",
           "arrowhead": 0,
           "arrowwidth": 1
          },
          "geo": {
           "bgcolor": "white",
           "landcolor": "#E5ECF6",
           "subunitcolor": "white",
           "showland": true,
           "showlakes": true,
           "lakecolor": "white"
          },
          "title": {
           "x": 0.05
          },
          "mapbox": {
           "style": "light"
          }
         }
        },
        "xaxis": {
         "title": {
          "text": "groove_to_output_hit_hamming_distance"
         },
         "tickangle": 45
        },
        "yaxis": {
         "title": {
          "text": "groove_to_output_accent_hamming_distance"
         },
         "tickangle": 0
        },
        "title": {
         "text": "Heatmap Histogram of Groove to Output Hit Hamming Distance vs Accent Hamming Distance"
        },
        "width": 1200,
        "height": 800
       },
       "config": {
        "plotlyServerURL": "https://plot.ly"
       }
      }
     },
     "metadata": {},
     "output_type": "display_data"
    }
   ],
   "execution_count": 24
  },
  {
   "cell_type": "code",
   "id": "52146c06974a6d6e",
   "metadata": {
    "ExecuteTime": {
     "end_time": "2025-08-09T10:21:48.642526Z",
     "start_time": "2025-08-09T10:21:48.596642Z"
    }
   },
   "source": [
    "create_heatmap_histogram(control_features_df,\n",
    "                         key1=\"groove_to_output_hit_hamming_distance\",\n",
    "                         key2=\"accent_hamming_values_per_hit_hamming_normalized\",\n",
    "                         bins=None,\n",
    "                         title=\"Heatmap Histogram of Groove to Output Hit Hamming Distance vs Modified Accent Hamming Distance\",\n",
    "                         )"
   ],
   "outputs": [
    {
     "data": {
      "application/vnd.plotly.v1+json": {
       "data": [
        {
         "colorbar": {
          "title": {
           "text": "Count"
          }
         },
         "colorscale": [
          [
           0.0,
           "#0d0887"
          ],
          [
           0.1111111111111111,
           "#46039f"
          ],
          [
           0.2222222222222222,
           "#7201a8"
          ],
          [
           0.3333333333333333,
           "#9c179e"
          ],
          [
           0.4444444444444444,
           "#bd3786"
          ],
          [
           0.5555555555555556,
           "#d8576b"
          ],
          [
           0.6666666666666666,
           "#ed7953"
          ],
          [
           0.7777777777777778,
           "#fb9f3a"
          ],
          [
           0.8888888888888888,
           "#fdca26"
          ],
          [
           1.0,
           "#f0f921"
          ]
         ],
         "hovertemplate": "groove_to_output_hit_hamming_distance: %{x}<br>accent_hamming_values_per_hit_hamming_normalized: %{y}<br>Count: %{z}<extra></extra>",
         "showscale": true,
         "text": [
          [
           "27801",
           "1347",
           "1021",
           "1117",
           "3013",
           "1566",
           "1539",
           "1649",
           "2876",
           "2235",
           "2269",
           "2632",
           "4688",
           "3909",
           "4157",
           "3924",
           "5402",
           "2946",
           "2579",
           "2115",
           "2090",
           "1523",
           "1385",
           "1279",
           "2030",
           "592",
           "452",
           "339",
           "454",
           "262",
           "222",
           "245",
           "531"
          ],
          [
           "14937",
           "1361",
           "817",
           "697",
           "1565",
           "1922",
           "2098",
           "2095",
           "2764",
           "2743",
           "2755",
           "2849",
           "3149",
           "2794",
           "2879",
           "2557",
           "2890",
           "1948",
           "1946",
           "1451",
           "1345",
           "1065",
           "833",
           "811",
           "859",
           "456",
           "315",
           "333",
           "242",
           "156",
           "171",
           "131",
           "147"
          ],
          [
           "4564",
           "488",
           "1293",
           "1262",
           "670",
           "627",
           "752",
           "1741",
           "2294",
           "2249",
           "2598",
           "2775",
           "3136",
           "2760",
           "2846",
           "2597",
           "2963",
           "3176",
           "2695",
           "2192",
           "2035",
           "1830",
           "1730",
           "1510",
           "1471",
           "848",
           "685",
           "508",
           "429",
           "184",
           "297",
           "234",
           "232"
          ],
          [
           "4915",
           "157",
           "201",
           "290",
           "869",
           "1274",
           "1458",
           "749",
           "1854",
           "1755",
           "2158",
           "2236",
           "2352",
           "2147",
           "2554",
           "3542",
           "4369",
           "1746",
           "1550",
           "1399",
           "1355",
           "1119",
           "1043",
           "942",
           "1082",
           "562",
           "521",
           "366",
           "362",
           "285",
           "172",
           "198",
           "178"
          ],
          [
           "1262",
           "83",
           "120",
           "145",
           "465",
           "254",
           "909",
           "1156",
           "1861",
           "1299",
           "1663",
           "1816",
           "1799",
           "1875",
           "2736",
           "1548",
           "1783",
           "1855",
           "1750",
           "1597",
           "1375",
           "1239",
           "1245",
           "982",
           "1176",
           "631",
           "502",
           "423",
           "378",
           "155",
           "256",
           "295",
           "282"
          ],
          [
           "791",
           "100",
           "119",
           "109",
           "149",
           "199",
           "209",
           "477",
           "249",
           "528",
           "1112",
           "1056",
           "1024",
           "1095",
           "971",
           "1001",
           "1198",
           "814",
           "842",
           "667",
           "661",
           "626",
           "596",
           "611",
           "839",
           "500",
           "380",
           "192",
           "204",
           "131",
           "134",
           "161",
           "244"
          ],
          [
           "740",
           "76",
           "107",
           "70",
           "144",
           "250",
           "210",
           "109",
           "253",
           "364",
           "320",
           "507",
           "565",
           "641",
           "571",
           "876",
           "1212",
           "610",
           "630",
           "566",
           "477",
           "501",
           "428",
           "432",
           "320",
           "248",
           "186",
           "195",
           "161",
           "203",
           "115",
           "119",
           "102"
          ],
          [
           "122",
           "90",
           "150",
           "113",
           "74",
           "48",
           "63",
           "100",
           "97",
           "161",
           "137",
           "186",
           "199",
           "229",
           "247",
           "188",
           "298",
           "400",
           "529",
           "504",
           "433",
           "402",
           "382",
           "348",
           "257",
           "230",
           "228",
           "185",
           "154",
           "111",
           "84",
           "67",
           "51"
          ],
          [
           "67",
           "27",
           "19",
           "31",
           "79",
           "78",
           "64",
           "50",
           "43",
           "68",
           "54",
           "73",
           "60",
           "93",
           "89",
           "83",
           "112",
           "89",
           "110",
           "138",
           "155",
           "126",
           "113",
           "128",
           "72",
           "80",
           "77",
           "97",
           "92",
           "61",
           "39",
           "26",
           "21"
          ],
          [
           "23",
           "22",
           "21",
           "23",
           "22",
           "26",
           "29",
           "22",
           "24",
           "29",
           "28",
           "38",
           "34",
           "62",
           "64",
           "47",
           "59",
           "38",
           "66",
           "57",
           "62",
           "81",
           "69",
           "75",
           "39",
           "40",
           "37",
           "67",
           "60",
           "82",
           "46",
           "33",
           "29"
          ]
         ],
         "textfont": {
          "size": 9
         },
         "texttemplate": "%{text}",
         "x": [
          "0.0",
          "0.03125",
          "0.0625",
          "0.09375",
          "0.125",
          "0.15625",
          "0.1875",
          "0.21875",
          "0.25",
          "0.28125",
          "0.3125",
          "0.34375",
          "0.375",
          "0.40625",
          "0.4375",
          "0.46875",
          "0.5",
          "0.53125",
          "0.5625",
          "0.59375",
          "0.625",
          "0.65625",
          "0.6875",
          "0.71875",
          "0.75",
          "0.78125",
          "0.8125",
          "0.84375",
          "0.875",
          "0.90625",
          "0.9375",
          "0.96875",
          "1.0"
         ],
         "y": [
          "0.0",
          "0.1111111111111111",
          "0.2222222222222222",
          "0.3333333333333333",
          "0.4444444444444444",
          "0.5555555555555556",
          "0.6666666666666666",
          "0.7777777777777777",
          "0.8888888888888888",
          "1.0"
         ],
         "z": {
          "dtype": "i2",
          "bdata": "mWxDBf0DXQTFCx4GAwZxBjwLuwjdCEgKUBJFDz0QVA8aFYILEwpDCCoI8wVpBf8E7gdQAsQBUwHGAQYB3gD1ABMCWTpRBTEDuQIdBoIHMggvCMwKtwrDCiELTQzqCj8L/QlKC5wHmgerBUEFKQRBAysDWwPIATsBTQHyAJwAqwCDAJMA1BHoAQ0F7gSeAnMC8ALNBvYIyQgmCtcKQAzICh4LJQqTC2gMhwqQCPMHJgfCBuYFvwVQA60C/AGtAbgAKQHqAOgAMxOdAMkAIgFlA/oEsgXtAj4H2wZuCLwIMAljCPoJ1g0REdIGDgZ3BUsFXwQTBK4DOgQyAgkCbgFqAR0BrADGALIA7gRTAHgAkQDRAf4AjQOEBEUHEwV/BhgHBwdTB7AKDAb3Bj8H1gY9Bl8F1wTdBNYDmAR3AvYBpwF6AZsAAAEnARoBFwNkAHcAbQCVAMcA0QDdAfkAEAJYBCAEAARHBMsD6QOuBC4DSgObApUCcgJUAmMCRwP0AXwBwADMAIMAhgChAPQA5AJMAGsARgCQAPoA0gBtAP0AbAFAAfsBNQKBAjsCbAO8BGICdgI2At0B9QGsAbABQAH4ALoAwwChAMsAcwB3AGYAegBaAJYAcQBKADAAPwBkAGEAoQCJALoAxwDlAPcAvAAqAZABEQL4AbEBkgF+AVwBAQHmAOQAuQCaAG8AVABDADMAQwAbABMAHwBPAE4AQAAyACsARAA2AEkAPABdAFkAUwBwAFkAbgCKAJsAfgBxAIAASABQAE0AYQBcAD0AJwAaABUAFwAWABUAFwAWABoAHQAWABgAHQAcACYAIgA+AEAALwA7ACYAQgA5AD4AUQBFAEsAJwAoACUAQwA8AFIALgAhAB0A",
          "shape": "10, 33"
         },
         "type": "heatmap"
        }
       ],
       "layout": {
        "template": {
         "data": {
          "histogram2dcontour": [
           {
            "type": "histogram2dcontour",
            "colorbar": {
             "outlinewidth": 0,
             "ticks": ""
            },
            "colorscale": [
             [
              0.0,
              "#0d0887"
             ],
             [
              0.1111111111111111,
              "#46039f"
             ],
             [
              0.2222222222222222,
              "#7201a8"
             ],
             [
              0.3333333333333333,
              "#9c179e"
             ],
             [
              0.4444444444444444,
              "#bd3786"
             ],
             [
              0.5555555555555556,
              "#d8576b"
             ],
             [
              0.6666666666666666,
              "#ed7953"
             ],
             [
              0.7777777777777778,
              "#fb9f3a"
             ],
             [
              0.8888888888888888,
              "#fdca26"
             ],
             [
              1.0,
              "#f0f921"
             ]
            ]
           }
          ],
          "choropleth": [
           {
            "type": "choropleth",
            "colorbar": {
             "outlinewidth": 0,
             "ticks": ""
            }
           }
          ],
          "histogram2d": [
           {
            "type": "histogram2d",
            "colorbar": {
             "outlinewidth": 0,
             "ticks": ""
            },
            "colorscale": [
             [
              0.0,
              "#0d0887"
             ],
             [
              0.1111111111111111,
              "#46039f"
             ],
             [
              0.2222222222222222,
              "#7201a8"
             ],
             [
              0.3333333333333333,
              "#9c179e"
             ],
             [
              0.4444444444444444,
              "#bd3786"
             ],
             [
              0.5555555555555556,
              "#d8576b"
             ],
             [
              0.6666666666666666,
              "#ed7953"
             ],
             [
              0.7777777777777778,
              "#fb9f3a"
             ],
             [
              0.8888888888888888,
              "#fdca26"
             ],
             [
              1.0,
              "#f0f921"
             ]
            ]
           }
          ],
          "heatmap": [
           {
            "type": "heatmap",
            "colorbar": {
             "outlinewidth": 0,
             "ticks": ""
            },
            "colorscale": [
             [
              0.0,
              "#0d0887"
             ],
             [
              0.1111111111111111,
              "#46039f"
             ],
             [
              0.2222222222222222,
              "#7201a8"
             ],
             [
              0.3333333333333333,
              "#9c179e"
             ],
             [
              0.4444444444444444,
              "#bd3786"
             ],
             [
              0.5555555555555556,
              "#d8576b"
             ],
             [
              0.6666666666666666,
              "#ed7953"
             ],
             [
              0.7777777777777778,
              "#fb9f3a"
             ],
             [
              0.8888888888888888,
              "#fdca26"
             ],
             [
              1.0,
              "#f0f921"
             ]
            ]
           }
          ],
          "contourcarpet": [
           {
            "type": "contourcarpet",
            "colorbar": {
             "outlinewidth": 0,
             "ticks": ""
            }
           }
          ],
          "contour": [
           {
            "type": "contour",
            "colorbar": {
             "outlinewidth": 0,
             "ticks": ""
            },
            "colorscale": [
             [
              0.0,
              "#0d0887"
             ],
             [
              0.1111111111111111,
              "#46039f"
             ],
             [
              0.2222222222222222,
              "#7201a8"
             ],
             [
              0.3333333333333333,
              "#9c179e"
             ],
             [
              0.4444444444444444,
              "#bd3786"
             ],
             [
              0.5555555555555556,
              "#d8576b"
             ],
             [
              0.6666666666666666,
              "#ed7953"
             ],
             [
              0.7777777777777778,
              "#fb9f3a"
             ],
             [
              0.8888888888888888,
              "#fdca26"
             ],
             [
              1.0,
              "#f0f921"
             ]
            ]
           }
          ],
          "surface": [
           {
            "type": "surface",
            "colorbar": {
             "outlinewidth": 0,
             "ticks": ""
            },
            "colorscale": [
             [
              0.0,
              "#0d0887"
             ],
             [
              0.1111111111111111,
              "#46039f"
             ],
             [
              0.2222222222222222,
              "#7201a8"
             ],
             [
              0.3333333333333333,
              "#9c179e"
             ],
             [
              0.4444444444444444,
              "#bd3786"
             ],
             [
              0.5555555555555556,
              "#d8576b"
             ],
             [
              0.6666666666666666,
              "#ed7953"
             ],
             [
              0.7777777777777778,
              "#fb9f3a"
             ],
             [
              0.8888888888888888,
              "#fdca26"
             ],
             [
              1.0,
              "#f0f921"
             ]
            ]
           }
          ],
          "mesh3d": [
           {
            "type": "mesh3d",
            "colorbar": {
             "outlinewidth": 0,
             "ticks": ""
            }
           }
          ],
          "scatter": [
           {
            "fillpattern": {
             "fillmode": "overlay",
             "size": 10,
             "solidity": 0.2
            },
            "type": "scatter"
           }
          ],
          "parcoords": [
           {
            "type": "parcoords",
            "line": {
             "colorbar": {
              "outlinewidth": 0,
              "ticks": ""
             }
            }
           }
          ],
          "scatterpolargl": [
           {
            "type": "scatterpolargl",
            "marker": {
             "colorbar": {
              "outlinewidth": 0,
              "ticks": ""
             }
            }
           }
          ],
          "bar": [
           {
            "error_x": {
             "color": "#2a3f5f"
            },
            "error_y": {
             "color": "#2a3f5f"
            },
            "marker": {
             "line": {
              "color": "#E5ECF6",
              "width": 0.5
             },
             "pattern": {
              "fillmode": "overlay",
              "size": 10,
              "solidity": 0.2
             }
            },
            "type": "bar"
           }
          ],
          "scattergeo": [
           {
            "type": "scattergeo",
            "marker": {
             "colorbar": {
              "outlinewidth": 0,
              "ticks": ""
             }
            }
           }
          ],
          "scatterpolar": [
           {
            "type": "scatterpolar",
            "marker": {
             "colorbar": {
              "outlinewidth": 0,
              "ticks": ""
             }
            }
           }
          ],
          "histogram": [
           {
            "marker": {
             "pattern": {
              "fillmode": "overlay",
              "size": 10,
              "solidity": 0.2
             }
            },
            "type": "histogram"
           }
          ],
          "scattergl": [
           {
            "type": "scattergl",
            "marker": {
             "colorbar": {
              "outlinewidth": 0,
              "ticks": ""
             }
            }
           }
          ],
          "scatter3d": [
           {
            "type": "scatter3d",
            "line": {
             "colorbar": {
              "outlinewidth": 0,
              "ticks": ""
             }
            },
            "marker": {
             "colorbar": {
              "outlinewidth": 0,
              "ticks": ""
             }
            }
           }
          ],
          "scattermap": [
           {
            "type": "scattermap",
            "marker": {
             "colorbar": {
              "outlinewidth": 0,
              "ticks": ""
             }
            }
           }
          ],
          "scattermapbox": [
           {
            "type": "scattermapbox",
            "marker": {
             "colorbar": {
              "outlinewidth": 0,
              "ticks": ""
             }
            }
           }
          ],
          "scatterternary": [
           {
            "type": "scatterternary",
            "marker": {
             "colorbar": {
              "outlinewidth": 0,
              "ticks": ""
             }
            }
           }
          ],
          "scattercarpet": [
           {
            "type": "scattercarpet",
            "marker": {
             "colorbar": {
              "outlinewidth": 0,
              "ticks": ""
             }
            }
           }
          ],
          "carpet": [
           {
            "aaxis": {
             "endlinecolor": "#2a3f5f",
             "gridcolor": "white",
             "linecolor": "white",
             "minorgridcolor": "white",
             "startlinecolor": "#2a3f5f"
            },
            "baxis": {
             "endlinecolor": "#2a3f5f",
             "gridcolor": "white",
             "linecolor": "white",
             "minorgridcolor": "white",
             "startlinecolor": "#2a3f5f"
            },
            "type": "carpet"
           }
          ],
          "table": [
           {
            "cells": {
             "fill": {
              "color": "#EBF0F8"
             },
             "line": {
              "color": "white"
             }
            },
            "header": {
             "fill": {
              "color": "#C8D4E3"
             },
             "line": {
              "color": "white"
             }
            },
            "type": "table"
           }
          ],
          "barpolar": [
           {
            "marker": {
             "line": {
              "color": "#E5ECF6",
              "width": 0.5
             },
             "pattern": {
              "fillmode": "overlay",
              "size": 10,
              "solidity": 0.2
             }
            },
            "type": "barpolar"
           }
          ],
          "pie": [
           {
            "automargin": true,
            "type": "pie"
           }
          ]
         },
         "layout": {
          "autotypenumbers": "strict",
          "colorway": [
           "#636efa",
           "#EF553B",
           "#00cc96",
           "#ab63fa",
           "#FFA15A",
           "#19d3f3",
           "#FF6692",
           "#B6E880",
           "#FF97FF",
           "#FECB52"
          ],
          "font": {
           "color": "#2a3f5f"
          },
          "hovermode": "closest",
          "hoverlabel": {
           "align": "left"
          },
          "paper_bgcolor": "white",
          "plot_bgcolor": "#E5ECF6",
          "polar": {
           "bgcolor": "#E5ECF6",
           "angularaxis": {
            "gridcolor": "white",
            "linecolor": "white",
            "ticks": ""
           },
           "radialaxis": {
            "gridcolor": "white",
            "linecolor": "white",
            "ticks": ""
           }
          },
          "ternary": {
           "bgcolor": "#E5ECF6",
           "aaxis": {
            "gridcolor": "white",
            "linecolor": "white",
            "ticks": ""
           },
           "baxis": {
            "gridcolor": "white",
            "linecolor": "white",
            "ticks": ""
           },
           "caxis": {
            "gridcolor": "white",
            "linecolor": "white",
            "ticks": ""
           }
          },
          "coloraxis": {
           "colorbar": {
            "outlinewidth": 0,
            "ticks": ""
           }
          },
          "colorscale": {
           "sequential": [
            [
             0.0,
             "#0d0887"
            ],
            [
             0.1111111111111111,
             "#46039f"
            ],
            [
             0.2222222222222222,
             "#7201a8"
            ],
            [
             0.3333333333333333,
             "#9c179e"
            ],
            [
             0.4444444444444444,
             "#bd3786"
            ],
            [
             0.5555555555555556,
             "#d8576b"
            ],
            [
             0.6666666666666666,
             "#ed7953"
            ],
            [
             0.7777777777777778,
             "#fb9f3a"
            ],
            [
             0.8888888888888888,
             "#fdca26"
            ],
            [
             1.0,
             "#f0f921"
            ]
           ],
           "sequentialminus": [
            [
             0.0,
             "#0d0887"
            ],
            [
             0.1111111111111111,
             "#46039f"
            ],
            [
             0.2222222222222222,
             "#7201a8"
            ],
            [
             0.3333333333333333,
             "#9c179e"
            ],
            [
             0.4444444444444444,
             "#bd3786"
            ],
            [
             0.5555555555555556,
             "#d8576b"
            ],
            [
             0.6666666666666666,
             "#ed7953"
            ],
            [
             0.7777777777777778,
             "#fb9f3a"
            ],
            [
             0.8888888888888888,
             "#fdca26"
            ],
            [
             1.0,
             "#f0f921"
            ]
           ],
           "diverging": [
            [
             0,
             "#8e0152"
            ],
            [
             0.1,
             "#c51b7d"
            ],
            [
             0.2,
             "#de77ae"
            ],
            [
             0.3,
             "#f1b6da"
            ],
            [
             0.4,
             "#fde0ef"
            ],
            [
             0.5,
             "#f7f7f7"
            ],
            [
             0.6,
             "#e6f5d0"
            ],
            [
             0.7,
             "#b8e186"
            ],
            [
             0.8,
             "#7fbc41"
            ],
            [
             0.9,
             "#4d9221"
            ],
            [
             1,
             "#276419"
            ]
           ]
          },
          "xaxis": {
           "gridcolor": "white",
           "linecolor": "white",
           "ticks": "",
           "title": {
            "standoff": 15
           },
           "zerolinecolor": "white",
           "automargin": true,
           "zerolinewidth": 2
          },
          "yaxis": {
           "gridcolor": "white",
           "linecolor": "white",
           "ticks": "",
           "title": {
            "standoff": 15
           },
           "zerolinecolor": "white",
           "automargin": true,
           "zerolinewidth": 2
          },
          "scene": {
           "xaxis": {
            "backgroundcolor": "#E5ECF6",
            "gridcolor": "white",
            "linecolor": "white",
            "showbackground": true,
            "ticks": "",
            "zerolinecolor": "white",
            "gridwidth": 2
           },
           "yaxis": {
            "backgroundcolor": "#E5ECF6",
            "gridcolor": "white",
            "linecolor": "white",
            "showbackground": true,
            "ticks": "",
            "zerolinecolor": "white",
            "gridwidth": 2
           },
           "zaxis": {
            "backgroundcolor": "#E5ECF6",
            "gridcolor": "white",
            "linecolor": "white",
            "showbackground": true,
            "ticks": "",
            "zerolinecolor": "white",
            "gridwidth": 2
           }
          },
          "shapedefaults": {
           "line": {
            "color": "#2a3f5f"
           }
          },
          "annotationdefaults": {
           "arrowcolor": "#2a3f5f",
           "arrowhead": 0,
           "arrowwidth": 1
          },
          "geo": {
           "bgcolor": "white",
           "landcolor": "#E5ECF6",
           "subunitcolor": "white",
           "showland": true,
           "showlakes": true,
           "lakecolor": "white"
          },
          "title": {
           "x": 0.05
          },
          "mapbox": {
           "style": "light"
          }
         }
        },
        "xaxis": {
         "title": {
          "text": "groove_to_output_hit_hamming_distance"
         },
         "tickangle": 45
        },
        "yaxis": {
         "title": {
          "text": "accent_hamming_values_per_hit_hamming_normalized"
         },
         "tickangle": 0
        },
        "title": {
         "text": "Heatmap Histogram of Groove to Output Hit Hamming Distance vs Modified Accent Hamming Distance"
        },
        "width": 1200,
        "height": 400
       },
       "config": {
        "plotlyServerURL": "https://plot.ly"
       }
      }
     },
     "metadata": {},
     "output_type": "display_data"
    }
   ],
   "execution_count": 26
  },
  {
   "cell_type": "code",
   "execution_count": null,
   "id": "cc0eabcf6a1f26a3",
   "metadata": {},
   "outputs": [],
   "source": []
  },
  {
   "metadata": {
    "ExecuteTime": {
     "end_time": "2025-08-11T10:06:07.652054Z",
     "start_time": "2025-08-11T10:06:07.645409Z"
    }
   },
   "cell_type": "code",
   "source": [
    "\n",
    "\n",
    "# Example usage and demonstrations\n",
    "if __name__ == \"__main__\":\n",
    "    # Test strings\n",
    "    long_strings = [\n",
    "        \"This is a very long string that needs to be hashed into a shorter name\",\n",
    "        \"SELECT * FROM users WHERE age > 25 AND status = 'active' ORDER BY created_date DESC\",\n",
    "        \"feature_engineering_pipeline_with_categorical_encoding_and_normalization_v2_final\",\n",
    "        \"https://api.example.com/v1/users/12345/posts?limit=50&offset=0&sort=date_desc\"\n",
    "    ]\n",
    "\n",
    "    print(\"\\n=== REPRODUCIBILITY TEST ===\")\n",
    "    print(f\"Test string: {long_strings[0]}\")\n",
    "    for i in range(3):\n",
    "        hash_result = hash_string_to_name(long_strings[0])\n",
    "        print(f\"Run {i+1}: {hash_result}\")\n",
    "    print(\"✓ All runs should produce identical results\")"
   ],
   "id": "5bddcf0d-4c81-42e7-96d5-98d0087c891b",
   "outputs": [
    {
     "name": "stdout",
     "output_type": "stream",
     "text": [
      "\n",
      "=== REPRODUCIBILITY TEST ===\n",
      "Test string: This is a very long string that needs to be hashed into a shorter name\n",
      "Run 1: 0600c911\n",
      "Run 2: 0600c911\n",
      "Run 3: 0600c911\n",
      "✓ All runs should produce identical results\n"
     ]
    }
   ],
   "execution_count": 3
  },
  {
   "metadata": {},
   "cell_type": "code",
   "outputs": [],
   "execution_count": null,
   "source": "",
   "id": "2134d9fdd1deca46"
  }
 ],
 "metadata": {
  "kernelspec": {
   "display_name": "Python TripleStreams",
   "language": "python",
   "name": "triplestreams"
  },
  "language_info": {
   "codemirror_mode": {
    "name": "ipython",
    "version": 3
   },
   "file_extension": ".py",
   "mimetype": "text/x-python",
   "name": "python",
   "nbconvert_exporter": "python",
   "pygments_lexer": "ipython3",
   "version": "3.9.23"
  }
 },
 "nbformat": 4,
 "nbformat_minor": 5
}
