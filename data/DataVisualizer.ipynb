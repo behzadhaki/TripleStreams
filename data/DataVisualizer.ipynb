{
 "cells": [
  {
   "metadata": {
    "ExecuteTime": {
     "end_time": "2025-08-13T19:30:27.502469Z",
     "start_time": "2025-08-13T19:30:27.499431Z"
    }
   },
   "cell_type": "code",
   "source": [
    "import sys\n",
    "from random import shuffle\n",
    "\n",
    "import torch\n",
    "\n",
    "sys.path.append('../..')\n",
    "\n",
    "from hvo_sequence.hvo_seq import HVO_Sequence\n",
    "from data import Groove2TripleStream2BarDataset\n",
    "\n"
   ],
   "id": "edf32849fc1f085a",
   "outputs": [],
   "execution_count": 34
  },
  {
   "metadata": {
    "ExecuteTime": {
     "end_time": "2025-08-14T06:13:31.737041Z",
     "start_time": "2025-08-14T06:13:28.856754Z"
    }
   },
   "cell_type": "code",
   "source": [
    "# import yaml\n",
    "# config = yaml.safe_load(open('helpers/configs/TripleStreams_beta_0.5_ELBG.yaml', 'r'))\n",
    "\n",
    "config = {'dataset_root_path': '../data/triple_streams/model_ready/AccentAt0.75/',\n",
    " 'dataset_files': ['02_elbg_both_flattened_left_right.pkl.bz2'],\n",
    " 'encoding_control1_key': 'Flat Out Vs. Input | Hits | Hamming',\n",
    " 'encoding_control2_key': 'Flat Out Vs. Input | Accent | Hamming',\n",
    " 'decoding_control1_key': 'Stream 1 Vs. Flat Out | Hits | Hamming',\n",
    " 'decoding_control2_key': 'Stream 2 Vs. Flat Out | Hits | Hamming',\n",
    " 'decoding_control3_key': 'Stream 3 Vs. Flat Out | Hits | Hamming',\n",
    " 'n_encoding_control1_tokens': 33,\n",
    " 'n_encoding_control2_tokens': 10,\n",
    " 'n_decoding_control1_tokens': 10,\n",
    " 'n_decoding_control2_tokens': 10,\n",
    " 'n_decoding_control3_tokens': 10,\n",
    " 'max_len': 32}\n",
    "\n",
    "dataset = Groove2TripleStream2BarDataset(\n",
    "    config=config,\n",
    "    subset_tag='train',\n",
    "    use_cached=False,\n",
    "    force_regenerate=True)\n",
    "\n",
    "fname_to_index = {x['full_midi_filename'] : i for i, x in enumerate(dataset.metadata)}\n",
    "print(len(dataset))"
   ],
   "id": "6a012fb18bb9f8fe",
   "outputs": [
    {
     "name": "stdout",
     "output_type": "stream",
     "text": [
      "37704\n"
     ]
    }
   ],
   "execution_count": 147
  },
  {
   "metadata": {
    "ExecuteTime": {
     "end_time": "2025-08-14T06:13:33.766095Z",
     "start_time": "2025-08-14T06:13:33.759651Z"
    }
   },
   "cell_type": "code",
   "source": [
    "def plot_sample(sample_ix, show_figure=True):\n",
    "    input = dataset.input_grooves[sample_ix]\n",
    "    output = dataset.output_streams[sample_ix]\n",
    "\n",
    "    hvo_temp = HVO_Sequence(\n",
    "        beat_division_factors=[4],\n",
    "        drum_mapping={\n",
    "            \"groove\": [36],\n",
    "            \"stream_1\": [38],\n",
    "            \"stream_2\": [42],\n",
    "            \"stream_3\": [46],\n",
    "        }\n",
    "    )\n",
    "\n",
    "    hvo_temp.add_tempo(0, 120)\n",
    "    hvo_temp.add_time_signature(0, 4, 4)\n",
    "\n",
    "    hvo_temp.adjust_length(32)\n",
    "\n",
    "    hvo_temp.hvo[:, 0] = input[:, 0]\n",
    "    hvo_temp.hvo[:, 4] = input[:, 1]\n",
    "    hvo_temp.hvo[:, 8] = input[:, 2]\n",
    "\n",
    "    hvo_temp.hvo[:, 1] = output[:, 0]\n",
    "    hvo_temp.hvo[:, 2] = output[:, 1]\n",
    "    hvo_temp.hvo[:, 3] = output[:, 2]\n",
    "\n",
    "    hvo_temp.hvo[:, 5] = output[:, 3]\n",
    "    hvo_temp.hvo[:, 6] = output[:, 4]\n",
    "    hvo_temp.hvo[:, 7] = output[:, 5]\n",
    "\n",
    "    hvo_temp.hvo[:, 9] = output[:, 6]\n",
    "    hvo_temp.hvo[:, 10] = output[:, 7]\n",
    "    hvo_temp.hvo[:, 11] = output[:, 8]\n",
    "\n",
    "    # hvo_temp.metadata.update(dataset.metadata[sample_ix])\n",
    "    fig = hvo_temp.to_html_plot(\n",
    "        filename=f\"{sample_ix}\",\n",
    "        show_figure=show_figure,\n",
    "        height=250\n",
    "    )\n",
    "\n",
    "    return fig"
   ],
   "id": "47e24ba68de2241b",
   "outputs": [],
   "execution_count": 148
  },
  {
   "metadata": {
    "ExecuteTime": {
     "end_time": "2025-08-14T06:13:41.246350Z",
     "start_time": "2025-08-14T06:13:40.755326Z"
    }
   },
   "cell_type": "code",
   "source": [
    "from bokeh.io import output_notebook\n",
    "import random\n",
    "import torch\n",
    "\n",
    "output_notebook()\n",
    "\n",
    "def random_sample():\n",
    "    indices = list(range(len(dataset.input_grooves)))\n",
    "    rand_sample = random.choice(indices)\n",
    "    print(rand_sample)\n",
    "    return rand_sample\n",
    "# plot_sample(random_sample())\n",
    "\n",
    "# ix = fname_to_index['elbg_both_flattened_left_right_44449.mid']\n",
    "# dataset.input_grooves[ix] = torch.clip(dataset.input_grooves[ix], 0, 1)\n",
    "# dataset.output_streams[ix] = torch.zeros_like(dataset.output_streams[ix])\n",
    "# plot_sample(fname_to_index['elbg_both_flattened_left_right_8091.mid'])\n",
    "# dataset.input_grooves[fname_to_index['elbg_both_flattened_left_right_76?09.mid']]\n",
    "plot_sample(random_sample())\n"
   ],
   "id": "551940f7d870b372",
   "outputs": [
    {
     "data": {
      "text/html": [
       "<div class=\"bk-root\">\n",
       "        <a href=\"https://bokeh.org\" target=\"_blank\" class=\"bk-logo bk-logo-small bk-logo-notebook\"></a>\n",
       "        <span id=\"91977\">Loading BokehJS ...</span>\n",
       "    </div>\n"
      ]
     },
     "metadata": {},
     "output_type": "display_data"
    },
    {
     "data": {
      "application/javascript": "(function(root) {\n  function now() {\n    return new Date();\n  }\n\n  const force = true;\n\n  if (typeof root._bokeh_onload_callbacks === \"undefined\" || force === true) {\n    root._bokeh_onload_callbacks = [];\n    root._bokeh_is_loading = undefined;\n  }\n\nconst JS_MIME_TYPE = 'application/javascript';\n  const HTML_MIME_TYPE = 'text/html';\n  const EXEC_MIME_TYPE = 'application/vnd.bokehjs_exec.v0+json';\n  const CLASS_NAME = 'output_bokeh rendered_html';\n\n  /**\n   * Render data to the DOM node\n   */\n  function render(props, node) {\n    const script = document.createElement(\"script\");\n    node.appendChild(script);\n  }\n\n  /**\n   * Handle when an output is cleared or removed\n   */\n  function handleClearOutput(event, handle) {\n    const cell = handle.cell;\n\n    const id = cell.output_area._bokeh_element_id;\n    const server_id = cell.output_area._bokeh_server_id;\n    // Clean up Bokeh references\n    if (id != null && id in Bokeh.index) {\n      Bokeh.index[id].model.document.clear();\n      delete Bokeh.index[id];\n    }\n\n    if (server_id !== undefined) {\n      // Clean up Bokeh references\n      const cmd_clean = \"from bokeh.io.state import curstate; print(curstate().uuid_to_server['\" + server_id + \"'].get_sessions()[0].document.roots[0]._id)\";\n      cell.notebook.kernel.execute(cmd_clean, {\n        iopub: {\n          output: function(msg) {\n            const id = msg.content.text.trim();\n            if (id in Bokeh.index) {\n              Bokeh.index[id].model.document.clear();\n              delete Bokeh.index[id];\n            }\n          }\n        }\n      });\n      // Destroy server and session\n      const cmd_destroy = \"import bokeh.io.notebook as ion; ion.destroy_server('\" + server_id + \"')\";\n      cell.notebook.kernel.execute(cmd_destroy);\n    }\n  }\n\n  /**\n   * Handle when a new output is added\n   */\n  function handleAddOutput(event, handle) {\n    const output_area = handle.output_area;\n    const output = handle.output;\n\n    // limit handleAddOutput to display_data with EXEC_MIME_TYPE content only\n    if ((output.output_type != \"display_data\") || (!Object.prototype.hasOwnProperty.call(output.data, EXEC_MIME_TYPE))) {\n      return\n    }\n\n    const toinsert = output_area.element.find(\".\" + CLASS_NAME.split(' ')[0]);\n\n    if (output.metadata[EXEC_MIME_TYPE][\"id\"] !== undefined) {\n      toinsert[toinsert.length - 1].firstChild.textContent = output.data[JS_MIME_TYPE];\n      // store reference to embed id on output_area\n      output_area._bokeh_element_id = output.metadata[EXEC_MIME_TYPE][\"id\"];\n    }\n    if (output.metadata[EXEC_MIME_TYPE][\"server_id\"] !== undefined) {\n      const bk_div = document.createElement(\"div\");\n      bk_div.innerHTML = output.data[HTML_MIME_TYPE];\n      const script_attrs = bk_div.children[0].attributes;\n      for (let i = 0; i < script_attrs.length; i++) {\n        toinsert[toinsert.length - 1].firstChild.setAttribute(script_attrs[i].name, script_attrs[i].value);\n        toinsert[toinsert.length - 1].firstChild.textContent = bk_div.children[0].textContent\n      }\n      // store reference to server id on output_area\n      output_area._bokeh_server_id = output.metadata[EXEC_MIME_TYPE][\"server_id\"];\n    }\n  }\n\n  function register_renderer(events, OutputArea) {\n\n    function append_mime(data, metadata, element) {\n      // create a DOM node to render to\n      const toinsert = this.create_output_subarea(\n        metadata,\n        CLASS_NAME,\n        EXEC_MIME_TYPE\n      );\n      this.keyboard_manager.register_events(toinsert);\n      // Render to node\n      const props = {data: data, metadata: metadata[EXEC_MIME_TYPE]};\n      render(props, toinsert[toinsert.length - 1]);\n      element.append(toinsert);\n      return toinsert\n    }\n\n    /* Handle when an output is cleared or removed */\n    events.on('clear_output.CodeCell', handleClearOutput);\n    events.on('delete.Cell', handleClearOutput);\n\n    /* Handle when a new output is added */\n    events.on('output_added.OutputArea', handleAddOutput);\n\n    /**\n     * Register the mime type and append_mime function with output_area\n     */\n    OutputArea.prototype.register_mime_type(EXEC_MIME_TYPE, append_mime, {\n      /* Is output safe? */\n      safe: true,\n      /* Index of renderer in `output_area.display_order` */\n      index: 0\n    });\n  }\n\n  // register the mime type if in Jupyter Notebook environment and previously unregistered\n  if (root.Jupyter !== undefined) {\n    const events = require('base/js/events');\n    const OutputArea = require('notebook/js/outputarea').OutputArea;\n\n    if (OutputArea.prototype.mime_types().indexOf(EXEC_MIME_TYPE) == -1) {\n      register_renderer(events, OutputArea);\n    }\n  }\n  if (typeof (root._bokeh_timeout) === \"undefined\" || force === true) {\n    root._bokeh_timeout = Date.now() + 5000;\n    root._bokeh_failed_load = false;\n  }\n\n  const NB_LOAD_WARNING = {'data': {'text/html':\n     \"<div style='background-color: #fdd'>\\n\"+\n     \"<p>\\n\"+\n     \"BokehJS does not appear to have successfully loaded. If loading BokehJS from CDN, this \\n\"+\n     \"may be due to a slow or bad network connection. Possible fixes:\\n\"+\n     \"</p>\\n\"+\n     \"<ul>\\n\"+\n     \"<li>re-rerun `output_notebook()` to attempt to load from CDN again, or</li>\\n\"+\n     \"<li>use INLINE resources instead, as so:</li>\\n\"+\n     \"</ul>\\n\"+\n     \"<code>\\n\"+\n     \"from bokeh.resources import INLINE\\n\"+\n     \"output_notebook(resources=INLINE)\\n\"+\n     \"</code>\\n\"+\n     \"</div>\"}};\n\n  function display_loaded() {\n    const el = document.getElementById(\"91977\");\n    if (el != null) {\n      el.textContent = \"BokehJS is loading...\";\n    }\n    if (root.Bokeh !== undefined) {\n      if (el != null) {\n        el.textContent = \"BokehJS \" + root.Bokeh.version + \" successfully loaded.\";\n      }\n    } else if (Date.now() < root._bokeh_timeout) {\n      setTimeout(display_loaded, 100)\n    }\n  }\n\n  function run_callbacks() {\n    try {\n      root._bokeh_onload_callbacks.forEach(function(callback) {\n        if (callback != null)\n          callback();\n      });\n    } finally {\n      delete root._bokeh_onload_callbacks\n    }\n    console.debug(\"Bokeh: all callbacks have finished\");\n  }\n\n  function load_libs(css_urls, js_urls, callback) {\n    if (css_urls == null) css_urls = [];\n    if (js_urls == null) js_urls = [];\n\n    root._bokeh_onload_callbacks.push(callback);\n    if (root._bokeh_is_loading > 0) {\n      console.debug(\"Bokeh: BokehJS is being loaded, scheduling callback at\", now());\n      return null;\n    }\n    if (js_urls == null || js_urls.length === 0) {\n      run_callbacks();\n      return null;\n    }\n    console.debug(\"Bokeh: BokehJS not loaded, scheduling load and callback at\", now());\n    root._bokeh_is_loading = css_urls.length + js_urls.length;\n\n    function on_load() {\n      root._bokeh_is_loading--;\n      if (root._bokeh_is_loading === 0) {\n        console.debug(\"Bokeh: all BokehJS libraries/stylesheets loaded\");\n        run_callbacks()\n      }\n    }\n\n    function on_error(url) {\n      console.error(\"failed to load \" + url);\n    }\n\n    for (let i = 0; i < css_urls.length; i++) {\n      const url = css_urls[i];\n      const element = document.createElement(\"link\");\n      element.onload = on_load;\n      element.onerror = on_error.bind(null, url);\n      element.rel = \"stylesheet\";\n      element.type = \"text/css\";\n      element.href = url;\n      console.debug(\"Bokeh: injecting link tag for BokehJS stylesheet: \", url);\n      document.body.appendChild(element);\n    }\n\n    for (let i = 0; i < js_urls.length; i++) {\n      const url = js_urls[i];\n      const element = document.createElement('script');\n      element.onload = on_load;\n      element.onerror = on_error.bind(null, url);\n      element.async = false;\n      element.src = url;\n      console.debug(\"Bokeh: injecting script tag for BokehJS library: \", url);\n      document.head.appendChild(element);\n    }\n  };\n\n  function inject_raw_css(css) {\n    const element = document.createElement(\"style\");\n    element.appendChild(document.createTextNode(css));\n    document.body.appendChild(element);\n  }\n\n  const js_urls = [\"https://cdn.bokeh.org/bokeh/release/bokeh-2.4.3.min.js\", \"https://cdn.bokeh.org/bokeh/release/bokeh-gl-2.4.3.min.js\", \"https://cdn.bokeh.org/bokeh/release/bokeh-widgets-2.4.3.min.js\", \"https://cdn.bokeh.org/bokeh/release/bokeh-tables-2.4.3.min.js\", \"https://cdn.bokeh.org/bokeh/release/bokeh-mathjax-2.4.3.min.js\"];\n  const css_urls = [];\n\n  const inline_js = [    function(Bokeh) {\n      Bokeh.set_log_level(\"info\");\n    },\nfunction(Bokeh) {\n    }\n  ];\n\n  function run_inline_js() {\n    if (root.Bokeh !== undefined || force === true) {\n          for (let i = 0; i < inline_js.length; i++) {\n      inline_js[i].call(root, root.Bokeh);\n    }\nif (force === true) {\n        display_loaded();\n      }} else if (Date.now() < root._bokeh_timeout) {\n      setTimeout(run_inline_js, 100);\n    } else if (!root._bokeh_failed_load) {\n      console.log(\"Bokeh: BokehJS failed to load within specified timeout.\");\n      root._bokeh_failed_load = true;\n    } else if (force !== true) {\n      const cell = $(document.getElementById(\"91977\")).parents('.cell').data().cell;\n      cell.output_area.append_execute_result(NB_LOAD_WARNING)\n    }\n  }\n\n  if (root._bokeh_is_loading === 0) {\n    console.debug(\"Bokeh: BokehJS loaded, going straight to plotting\");\n    run_inline_js();\n  } else {\n    load_libs(css_urls, js_urls, function() {\n      console.debug(\"Bokeh: BokehJS plotting callback run at\", now());\n      run_inline_js();\n    });\n  }\n}(window));",
      "application/vnd.bokehjs_load.v0+json": "(function(root) {\n  function now() {\n    return new Date();\n  }\n\n  const force = true;\n\n  if (typeof root._bokeh_onload_callbacks === \"undefined\" || force === true) {\n    root._bokeh_onload_callbacks = [];\n    root._bokeh_is_loading = undefined;\n  }\n\n\n  if (typeof (root._bokeh_timeout) === \"undefined\" || force === true) {\n    root._bokeh_timeout = Date.now() + 5000;\n    root._bokeh_failed_load = false;\n  }\n\n  const NB_LOAD_WARNING = {'data': {'text/html':\n     \"<div style='background-color: #fdd'>\\n\"+\n     \"<p>\\n\"+\n     \"BokehJS does not appear to have successfully loaded. If loading BokehJS from CDN, this \\n\"+\n     \"may be due to a slow or bad network connection. Possible fixes:\\n\"+\n     \"</p>\\n\"+\n     \"<ul>\\n\"+\n     \"<li>re-rerun `output_notebook()` to attempt to load from CDN again, or</li>\\n\"+\n     \"<li>use INLINE resources instead, as so:</li>\\n\"+\n     \"</ul>\\n\"+\n     \"<code>\\n\"+\n     \"from bokeh.resources import INLINE\\n\"+\n     \"output_notebook(resources=INLINE)\\n\"+\n     \"</code>\\n\"+\n     \"</div>\"}};\n\n  function display_loaded() {\n    const el = document.getElementById(\"91977\");\n    if (el != null) {\n      el.textContent = \"BokehJS is loading...\";\n    }\n    if (root.Bokeh !== undefined) {\n      if (el != null) {\n        el.textContent = \"BokehJS \" + root.Bokeh.version + \" successfully loaded.\";\n      }\n    } else if (Date.now() < root._bokeh_timeout) {\n      setTimeout(display_loaded, 100)\n    }\n  }\n\n  function run_callbacks() {\n    try {\n      root._bokeh_onload_callbacks.forEach(function(callback) {\n        if (callback != null)\n          callback();\n      });\n    } finally {\n      delete root._bokeh_onload_callbacks\n    }\n    console.debug(\"Bokeh: all callbacks have finished\");\n  }\n\n  function load_libs(css_urls, js_urls, callback) {\n    if (css_urls == null) css_urls = [];\n    if (js_urls == null) js_urls = [];\n\n    root._bokeh_onload_callbacks.push(callback);\n    if (root._bokeh_is_loading > 0) {\n      console.debug(\"Bokeh: BokehJS is being loaded, scheduling callback at\", now());\n      return null;\n    }\n    if (js_urls == null || js_urls.length === 0) {\n      run_callbacks();\n      return null;\n    }\n    console.debug(\"Bokeh: BokehJS not loaded, scheduling load and callback at\", now());\n    root._bokeh_is_loading = css_urls.length + js_urls.length;\n\n    function on_load() {\n      root._bokeh_is_loading--;\n      if (root._bokeh_is_loading === 0) {\n        console.debug(\"Bokeh: all BokehJS libraries/stylesheets loaded\");\n        run_callbacks()\n      }\n    }\n\n    function on_error(url) {\n      console.error(\"failed to load \" + url);\n    }\n\n    for (let i = 0; i < css_urls.length; i++) {\n      const url = css_urls[i];\n      const element = document.createElement(\"link\");\n      element.onload = on_load;\n      element.onerror = on_error.bind(null, url);\n      element.rel = \"stylesheet\";\n      element.type = \"text/css\";\n      element.href = url;\n      console.debug(\"Bokeh: injecting link tag for BokehJS stylesheet: \", url);\n      document.body.appendChild(element);\n    }\n\n    for (let i = 0; i < js_urls.length; i++) {\n      const url = js_urls[i];\n      const element = document.createElement('script');\n      element.onload = on_load;\n      element.onerror = on_error.bind(null, url);\n      element.async = false;\n      element.src = url;\n      console.debug(\"Bokeh: injecting script tag for BokehJS library: \", url);\n      document.head.appendChild(element);\n    }\n  };\n\n  function inject_raw_css(css) {\n    const element = document.createElement(\"style\");\n    element.appendChild(document.createTextNode(css));\n    document.body.appendChild(element);\n  }\n\n  const js_urls = [\"https://cdn.bokeh.org/bokeh/release/bokeh-2.4.3.min.js\", \"https://cdn.bokeh.org/bokeh/release/bokeh-gl-2.4.3.min.js\", \"https://cdn.bokeh.org/bokeh/release/bokeh-widgets-2.4.3.min.js\", \"https://cdn.bokeh.org/bokeh/release/bokeh-tables-2.4.3.min.js\", \"https://cdn.bokeh.org/bokeh/release/bokeh-mathjax-2.4.3.min.js\"];\n  const css_urls = [];\n\n  const inline_js = [    function(Bokeh) {\n      Bokeh.set_log_level(\"info\");\n    },\nfunction(Bokeh) {\n    }\n  ];\n\n  function run_inline_js() {\n    if (root.Bokeh !== undefined || force === true) {\n          for (let i = 0; i < inline_js.length; i++) {\n      inline_js[i].call(root, root.Bokeh);\n    }\nif (force === true) {\n        display_loaded();\n      }} else if (Date.now() < root._bokeh_timeout) {\n      setTimeout(run_inline_js, 100);\n    } else if (!root._bokeh_failed_load) {\n      console.log(\"Bokeh: BokehJS failed to load within specified timeout.\");\n      root._bokeh_failed_load = true;\n    } else if (force !== true) {\n      const cell = $(document.getElementById(\"91977\")).parents('.cell').data().cell;\n      cell.output_area.append_execute_result(NB_LOAD_WARNING)\n    }\n  }\n\n  if (root._bokeh_is_loading === 0) {\n    console.debug(\"Bokeh: BokehJS loaded, going straight to plotting\");\n    run_inline_js();\n  } else {\n    load_libs(css_urls, js_urls, function() {\n      console.debug(\"Bokeh: BokehJS plotting callback run at\", now());\n      run_inline_js();\n    });\n  }\n}(window));"
     },
     "metadata": {},
     "output_type": "display_data"
    },
    {
     "name": "stdout",
     "output_type": "stream",
     "text": [
      "28212\n"
     ]
    },
    {
     "ename": "ValueError",
     "evalue": "Out of range float values are not JSON compliant",
     "output_type": "error",
     "traceback": [
      "\u001B[0;31m---------------------------------------------------------------------------\u001B[0m",
      "\u001B[0;31mValueError\u001B[0m                                Traceback (most recent call last)",
      "Cell \u001B[0;32mIn[150], line 19\u001B[0m\n\u001B[1;32m     11\u001B[0m     \u001B[38;5;28;01mreturn\u001B[39;00m rand_sample\n\u001B[1;32m     12\u001B[0m \u001B[38;5;66;03m# plot_sample(random_sample())\u001B[39;00m\n\u001B[1;32m     13\u001B[0m \n\u001B[1;32m     14\u001B[0m \u001B[38;5;66;03m# ix = fname_to_index['elbg_both_flattened_left_right_44449.mid']\u001B[39;00m\n\u001B[0;32m   (...)\u001B[0m\n\u001B[1;32m     17\u001B[0m \u001B[38;5;66;03m# plot_sample(fname_to_index['elbg_both_flattened_left_right_8091.mid'])\u001B[39;00m\n\u001B[1;32m     18\u001B[0m \u001B[38;5;66;03m# dataset.input_grooves[fname_to_index['elbg_both_flattened_left_right_76?09.mid']]\u001B[39;00m\n\u001B[0;32m---> 19\u001B[0m \u001B[43mplot_sample\u001B[49m\u001B[43m(\u001B[49m\u001B[43mrandom_sample\u001B[49m\u001B[43m(\u001B[49m\u001B[43m)\u001B[49m\u001B[43m)\u001B[49m\n",
      "Cell \u001B[0;32mIn[148], line 37\u001B[0m, in \u001B[0;36mplot_sample\u001B[0;34m(sample_ix, show_figure)\u001B[0m\n\u001B[1;32m     34\u001B[0m hvo_temp\u001B[38;5;241m.\u001B[39mhvo[:, \u001B[38;5;241m11\u001B[39m] \u001B[38;5;241m=\u001B[39m output[:, \u001B[38;5;241m8\u001B[39m]\n\u001B[1;32m     36\u001B[0m \u001B[38;5;66;03m# hvo_temp.metadata.update(dataset.metadata[sample_ix])\u001B[39;00m\n\u001B[0;32m---> 37\u001B[0m fig \u001B[38;5;241m=\u001B[39m \u001B[43mhvo_temp\u001B[49m\u001B[38;5;241;43m.\u001B[39;49m\u001B[43mto_html_plot\u001B[49m\u001B[43m(\u001B[49m\n\u001B[1;32m     38\u001B[0m \u001B[43m    \u001B[49m\u001B[43mfilename\u001B[49m\u001B[38;5;241;43m=\u001B[39;49m\u001B[38;5;124;43mf\u001B[39;49m\u001B[38;5;124;43m\"\u001B[39;49m\u001B[38;5;132;43;01m{\u001B[39;49;00m\u001B[43msample_ix\u001B[49m\u001B[38;5;132;43;01m}\u001B[39;49;00m\u001B[38;5;124;43m\"\u001B[39;49m\u001B[43m,\u001B[49m\n\u001B[1;32m     39\u001B[0m \u001B[43m    \u001B[49m\u001B[43mshow_figure\u001B[49m\u001B[38;5;241;43m=\u001B[39;49m\u001B[43mshow_figure\u001B[49m\u001B[43m,\u001B[49m\n\u001B[1;32m     40\u001B[0m \u001B[43m    \u001B[49m\u001B[43mheight\u001B[49m\u001B[38;5;241;43m=\u001B[39;49m\u001B[38;5;241;43m250\u001B[39;49m\n\u001B[1;32m     41\u001B[0m \u001B[43m\u001B[49m\u001B[43m)\u001B[49m\n\u001B[1;32m     43\u001B[0m \u001B[38;5;28;01mreturn\u001B[39;00m fig\n",
      "File \u001B[0;32m~/PycharmProjects/TripleStreams/hvo_sequence/hvo_seq.py:1316\u001B[0m, in \u001B[0;36mHVO_Sequence.to_html_plot\u001B[0;34m(self, filename, show_figure, save_figure, show_tempo, show_time_signature, show_metadata, minor_grid_color, minor_line_width, major_grid_color, major_line_width, downbeat_color, downbeat_line_width, note_color, width, height)\u001B[0m\n\u001B[1;32m   1304\u001B[0m \u001B[38;5;28;01mdef\u001B[39;00m\u001B[38;5;250m \u001B[39m\u001B[38;5;21mto_html_plot\u001B[39m(\u001B[38;5;28mself\u001B[39m, filename\u001B[38;5;241m=\u001B[39m\u001B[38;5;124m\"\u001B[39m\u001B[38;5;124mmisc/temp.html\u001B[39m\u001B[38;5;124m\"\u001B[39m, show_figure\u001B[38;5;241m=\u001B[39m\u001B[38;5;28;01mFalse\u001B[39;00m,\n\u001B[1;32m   1305\u001B[0m                  save_figure\u001B[38;5;241m=\u001B[39m\u001B[38;5;28;01mFalse\u001B[39;00m,\n\u001B[1;32m   1306\u001B[0m                  show_tempo\u001B[38;5;241m=\u001B[39m\u001B[38;5;28;01mTrue\u001B[39;00m, \n\u001B[0;32m   (...)\u001B[0m\n\u001B[1;32m   1312\u001B[0m                  note_color\u001B[38;5;241m=\u001B[39m\u001B[38;5;124m\"\u001B[39m\u001B[38;5;124mgrey\u001B[39m\u001B[38;5;124m\"\u001B[39m,\n\u001B[1;32m   1313\u001B[0m                  width\u001B[38;5;241m=\u001B[39m\u001B[38;5;241m800\u001B[39m, height\u001B[38;5;241m=\u001B[39m\u001B[38;5;241m400\u001B[39m):\n\u001B[1;32m   1314\u001B[0m \u001B[38;5;250m    \u001B[39m\u001B[38;5;124;03m\"\"\"**DEPRECIATED** Use piano_roll to plot the hvo_sequence instead \"\"\"\u001B[39;00m\n\u001B[0;32m-> 1316\u001B[0m     \u001B[38;5;28;01mreturn\u001B[39;00m \u001B[38;5;28;43mself\u001B[39;49m\u001B[38;5;241;43m.\u001B[39;49m\u001B[43mpiano_roll\u001B[49m\u001B[43m(\u001B[49m\n\u001B[1;32m   1317\u001B[0m \u001B[43m        \u001B[49m\u001B[43mfilename\u001B[49m\u001B[38;5;241;43m=\u001B[39;49m\u001B[43mfilename\u001B[49m\u001B[43m,\u001B[49m\u001B[43m \u001B[49m\u001B[43mshow_figure\u001B[49m\u001B[38;5;241;43m=\u001B[39;49m\u001B[43mshow_figure\u001B[49m\u001B[43m,\u001B[49m\u001B[43m \u001B[49m\u001B[43msave_figure\u001B[49m\u001B[38;5;241;43m=\u001B[39;49m\u001B[43msave_figure\u001B[49m\u001B[43m,\u001B[49m\n\u001B[1;32m   1318\u001B[0m \u001B[43m        \u001B[49m\u001B[43mshow_tempo\u001B[49m\u001B[38;5;241;43m=\u001B[39;49m\u001B[43mshow_tempo\u001B[49m\u001B[43m,\u001B[49m\u001B[43m \u001B[49m\n\u001B[1;32m   1319\u001B[0m \u001B[43m        \u001B[49m\u001B[43mshow_time_signature\u001B[49m\u001B[38;5;241;43m=\u001B[39;49m\u001B[43mshow_time_signature\u001B[49m\u001B[43m,\u001B[49m\u001B[43m \u001B[49m\n\u001B[1;32m   1320\u001B[0m \u001B[43m        \u001B[49m\u001B[43mshow_metadata\u001B[49m\u001B[38;5;241;43m=\u001B[39;49m\u001B[43mshow_metadata\u001B[49m\u001B[43m,\u001B[49m\u001B[43m \u001B[49m\u001B[43mminor_grid_color\u001B[49m\u001B[38;5;241;43m=\u001B[39;49m\u001B[43mminor_grid_color\u001B[49m\u001B[43m,\u001B[49m\u001B[43m \u001B[49m\u001B[43mminor_line_width\u001B[49m\u001B[38;5;241;43m=\u001B[39;49m\u001B[43mminor_line_width\u001B[49m\u001B[43m,\u001B[49m\n\u001B[1;32m   1321\u001B[0m \u001B[43m        \u001B[49m\u001B[43mmajor_grid_color\u001B[49m\u001B[38;5;241;43m=\u001B[39;49m\u001B[43mmajor_grid_color\u001B[49m\u001B[43m,\u001B[49m\u001B[43m \u001B[49m\u001B[43mmajor_line_width\u001B[49m\u001B[38;5;241;43m=\u001B[39;49m\u001B[43mmajor_line_width\u001B[49m\u001B[43m,\u001B[49m\n\u001B[1;32m   1322\u001B[0m \u001B[43m        \u001B[49m\u001B[43mdownbeat_color\u001B[49m\u001B[38;5;241;43m=\u001B[39;49m\u001B[43mdownbeat_color\u001B[49m\u001B[43m,\u001B[49m\u001B[43m \u001B[49m\u001B[43mdownbeat_line_width\u001B[49m\u001B[38;5;241;43m=\u001B[39;49m\u001B[43mdownbeat_line_width\u001B[49m\u001B[43m,\u001B[49m\n\u001B[1;32m   1323\u001B[0m \u001B[43m        \u001B[49m\u001B[43mnote_color\u001B[49m\u001B[38;5;241;43m=\u001B[39;49m\u001B[43mnote_color\u001B[49m\u001B[43m,\u001B[49m\n\u001B[1;32m   1324\u001B[0m \u001B[43m        \u001B[49m\u001B[43mwidth\u001B[49m\u001B[38;5;241;43m=\u001B[39;49m\u001B[43mwidth\u001B[49m\u001B[43m,\u001B[49m\u001B[43m \u001B[49m\u001B[43mheight\u001B[49m\u001B[38;5;241;43m=\u001B[39;49m\u001B[43mheight\u001B[49m\u001B[43m)\u001B[49m\n",
      "File \u001B[0;32m~/PycharmProjects/TripleStreams/hvo_sequence/hvo_seq.py:1476\u001B[0m, in \u001B[0;36mHVO_Sequence.piano_roll\u001B[0;34m(self, filename, show_figure, save_figure, show_tempo, show_time_signature, show_metadata, minor_grid_color, minor_line_width, major_grid_color, major_line_width, downbeat_color, downbeat_line_width, note_color, width, height)\u001B[0m\n\u001B[1;32m   1473\u001B[0m \u001B[38;5;66;03m# create a row\u001B[39;00m\n\u001B[1;32m   1474\u001B[0m \u001B[38;5;66;03m# Plot the figure if requested\u001B[39;00m\n\u001B[1;32m   1475\u001B[0m \u001B[38;5;28;01mif\u001B[39;00m show_figure:\n\u001B[0;32m-> 1476\u001B[0m     \u001B[43mshow\u001B[49m\u001B[43m(\u001B[49m\u001B[43m_html_fig\u001B[49m\u001B[43m)\u001B[49m\n\u001B[1;32m   1478\u001B[0m \u001B[38;5;66;03m# Save the plot\u001B[39;00m\n\u001B[1;32m   1479\u001B[0m \u001B[38;5;28;01mif\u001B[39;00m save_figure:\n",
      "File \u001B[0;32m~/anaconda3/envs/TripleStreams/lib/python3.9/site-packages/bokeh/io/showing.py:144\u001B[0m, in \u001B[0;36mshow\u001B[0;34m(obj, browser, new, notebook_handle, notebook_url, **kwargs)\u001B[0m\n\u001B[1;32m    141\u001B[0m state \u001B[38;5;241m=\u001B[39m curstate()\n\u001B[1;32m    143\u001B[0m \u001B[38;5;28;01mif\u001B[39;00m \u001B[38;5;28misinstance\u001B[39m(obj, LayoutDOM):\n\u001B[0;32m--> 144\u001B[0m     \u001B[38;5;28;01mreturn\u001B[39;00m \u001B[43m_show_with_state\u001B[49m\u001B[43m(\u001B[49m\u001B[43mobj\u001B[49m\u001B[43m,\u001B[49m\u001B[43m \u001B[49m\u001B[43mstate\u001B[49m\u001B[43m,\u001B[49m\u001B[43m \u001B[49m\u001B[43mbrowser\u001B[49m\u001B[43m,\u001B[49m\u001B[43m \u001B[49m\u001B[43mnew\u001B[49m\u001B[43m,\u001B[49m\u001B[43m \u001B[49m\u001B[43mnotebook_handle\u001B[49m\u001B[38;5;241;43m=\u001B[39;49m\u001B[43mnotebook_handle\u001B[49m\u001B[43m)\u001B[49m\n\u001B[1;32m    146\u001B[0m \u001B[38;5;28;01mdef\u001B[39;00m\u001B[38;5;250m \u001B[39m\u001B[38;5;21mis_application\u001B[39m(obj: Any) \u001B[38;5;241m-\u001B[39m\u001B[38;5;241m>\u001B[39m TypeGuard[Application]:\n\u001B[1;32m    147\u001B[0m     \u001B[38;5;28;01mreturn\u001B[39;00m \u001B[38;5;28mgetattr\u001B[39m(obj, \u001B[38;5;124m'\u001B[39m\u001B[38;5;124m_is_a_bokeh_application_class\u001B[39m\u001B[38;5;124m'\u001B[39m, \u001B[38;5;28;01mFalse\u001B[39;00m)\n",
      "File \u001B[0;32m~/anaconda3/envs/TripleStreams/lib/python3.9/site-packages/bokeh/io/showing.py:191\u001B[0m, in \u001B[0;36m_show_with_state\u001B[0;34m(obj, state, browser, new, notebook_handle)\u001B[0m\n\u001B[1;32m    189\u001B[0m \u001B[38;5;28;01mif\u001B[39;00m state\u001B[38;5;241m.\u001B[39mnotebook:\n\u001B[1;32m    190\u001B[0m     \u001B[38;5;28;01massert\u001B[39;00m state\u001B[38;5;241m.\u001B[39mnotebook_type \u001B[38;5;129;01mis\u001B[39;00m \u001B[38;5;129;01mnot\u001B[39;00m \u001B[38;5;28;01mNone\u001B[39;00m\n\u001B[0;32m--> 191\u001B[0m     comms_handle \u001B[38;5;241m=\u001B[39m \u001B[43mrun_notebook_hook\u001B[49m\u001B[43m(\u001B[49m\u001B[43mstate\u001B[49m\u001B[38;5;241;43m.\u001B[39;49m\u001B[43mnotebook_type\u001B[49m\u001B[43m,\u001B[49m\u001B[43m \u001B[49m\u001B[38;5;124;43m'\u001B[39;49m\u001B[38;5;124;43mdoc\u001B[39;49m\u001B[38;5;124;43m'\u001B[39;49m\u001B[43m,\u001B[49m\u001B[43m \u001B[49m\u001B[43mobj\u001B[49m\u001B[43m,\u001B[49m\u001B[43m \u001B[49m\u001B[43mstate\u001B[49m\u001B[43m,\u001B[49m\u001B[43m \u001B[49m\u001B[43mnotebook_handle\u001B[49m\u001B[43m)\u001B[49m\n\u001B[1;32m    192\u001B[0m     shown \u001B[38;5;241m=\u001B[39m \u001B[38;5;28;01mTrue\u001B[39;00m\n\u001B[1;32m    194\u001B[0m \u001B[38;5;28;01mif\u001B[39;00m state\u001B[38;5;241m.\u001B[39mfile \u001B[38;5;129;01mor\u001B[39;00m \u001B[38;5;129;01mnot\u001B[39;00m shown:\n",
      "File \u001B[0;32m~/anaconda3/envs/TripleStreams/lib/python3.9/site-packages/bokeh/io/notebook.py:357\u001B[0m, in \u001B[0;36mrun_notebook_hook\u001B[0;34m(notebook_type, action, *args, **kwargs)\u001B[0m\n\u001B[1;32m    355\u001B[0m \u001B[38;5;28;01mif\u001B[39;00m _HOOKS[notebook_type][action] \u001B[38;5;129;01mis\u001B[39;00m \u001B[38;5;28;01mNone\u001B[39;00m:\n\u001B[1;32m    356\u001B[0m     \u001B[38;5;28;01mraise\u001B[39;00m \u001B[38;5;167;01mRuntimeError\u001B[39;00m(\u001B[38;5;124mf\u001B[39m\u001B[38;5;124m\"\u001B[39m\u001B[38;5;124mnotebook hook for \u001B[39m\u001B[38;5;132;01m{\u001B[39;00mnotebook_type\u001B[38;5;132;01m!r}\u001B[39;00m\u001B[38;5;124m did not install \u001B[39m\u001B[38;5;132;01m{\u001B[39;00maction\u001B[38;5;132;01m!r}\u001B[39;00m\u001B[38;5;124m action\u001B[39m\u001B[38;5;124m\"\u001B[39m)\n\u001B[0;32m--> 357\u001B[0m \u001B[38;5;28;01mreturn\u001B[39;00m \u001B[43m_HOOKS\u001B[49m\u001B[43m[\u001B[49m\u001B[43mnotebook_type\u001B[49m\u001B[43m]\u001B[49m\u001B[43m[\u001B[49m\u001B[43maction\u001B[49m\u001B[43m]\u001B[49m\u001B[43m(\u001B[49m\u001B[38;5;241;43m*\u001B[39;49m\u001B[43margs\u001B[49m\u001B[43m,\u001B[49m\u001B[43m \u001B[49m\u001B[38;5;241;43m*\u001B[39;49m\u001B[38;5;241;43m*\u001B[39;49m\u001B[43mkwargs\u001B[49m\u001B[43m)\u001B[49m\n",
      "File \u001B[0;32m~/anaconda3/envs/TripleStreams/lib/python3.9/site-packages/bokeh/io/notebook.py:574\u001B[0m, in \u001B[0;36mshow_doc\u001B[0;34m(obj, state, notebook_handle)\u001B[0m\n\u001B[1;32m    572\u001B[0m \u001B[38;5;28;01mfrom\u001B[39;00m\u001B[38;5;250m \u001B[39m\u001B[38;5;21;01m.\u001B[39;00m\u001B[38;5;21;01m.\u001B[39;00m\u001B[38;5;21;01membed\u001B[39;00m\u001B[38;5;21;01m.\u001B[39;00m\u001B[38;5;21;01mnotebook\u001B[39;00m\u001B[38;5;250m \u001B[39m\u001B[38;5;28;01mimport\u001B[39;00m notebook_content\n\u001B[1;32m    573\u001B[0m comms_target \u001B[38;5;241m=\u001B[39m make_id() \u001B[38;5;28;01mif\u001B[39;00m notebook_handle \u001B[38;5;28;01melse\u001B[39;00m \u001B[38;5;28;01mNone\u001B[39;00m\n\u001B[0;32m--> 574\u001B[0m (script, div, cell_doc) \u001B[38;5;241m=\u001B[39m \u001B[43mnotebook_content\u001B[49m\u001B[43m(\u001B[49m\u001B[43mobj\u001B[49m\u001B[43m,\u001B[49m\u001B[43m \u001B[49m\u001B[43mcomms_target\u001B[49m\u001B[43m)\u001B[49m\n\u001B[1;32m    576\u001B[0m publish_display_data({HTML_MIME_TYPE: div})\n\u001B[1;32m    577\u001B[0m publish_display_data({JS_MIME_TYPE: script, EXEC_MIME_TYPE: \u001B[38;5;124m\"\u001B[39m\u001B[38;5;124m\"\u001B[39m}, metadata\u001B[38;5;241m=\u001B[39m{EXEC_MIME_TYPE: {\u001B[38;5;124m\"\u001B[39m\u001B[38;5;124mid\u001B[39m\u001B[38;5;124m\"\u001B[39m: obj\u001B[38;5;241m.\u001B[39mid}})\n",
      "File \u001B[0;32m~/anaconda3/envs/TripleStreams/lib/python3.9/site-packages/bokeh/embed/notebook.py:87\u001B[0m, in \u001B[0;36mnotebook_content\u001B[0;34m(model, notebook_comms_target, theme)\u001B[0m\n\u001B[1;32m     84\u001B[0m \u001B[38;5;66;03m# Comms handling relies on the fact that the new_doc returned here\u001B[39;00m\n\u001B[1;32m     85\u001B[0m \u001B[38;5;66;03m# has models with the same IDs as they were started with\u001B[39;00m\n\u001B[1;32m     86\u001B[0m \u001B[38;5;28;01mwith\u001B[39;00m OutputDocumentFor([model], apply_theme\u001B[38;5;241m=\u001B[39mtheme, always_new\u001B[38;5;241m=\u001B[39m\u001B[38;5;28;01mTrue\u001B[39;00m) \u001B[38;5;28;01mas\u001B[39;00m new_doc:\n\u001B[0;32m---> 87\u001B[0m     (docs_json, [render_item]) \u001B[38;5;241m=\u001B[39m \u001B[43mstandalone_docs_json_and_render_items\u001B[49m\u001B[43m(\u001B[49m\u001B[43m[\u001B[49m\u001B[43mmodel\u001B[49m\u001B[43m]\u001B[49m\u001B[43m)\u001B[49m\n\u001B[1;32m     89\u001B[0m div \u001B[38;5;241m=\u001B[39m div_for_render_item(render_item)\n\u001B[1;32m     91\u001B[0m render_item \u001B[38;5;241m=\u001B[39m render_item\u001B[38;5;241m.\u001B[39mto_json()\n",
      "File \u001B[0;32m~/anaconda3/envs/TripleStreams/lib/python3.9/site-packages/bokeh/embed/util.py:337\u001B[0m, in \u001B[0;36mstandalone_docs_json_and_render_items\u001B[0;34m(models, suppress_callback_warning)\u001B[0m\n\u001B[1;32m    335\u001B[0m docs_json: Dict[ID, DocJson] \u001B[38;5;241m=\u001B[39m {}\n\u001B[1;32m    336\u001B[0m \u001B[38;5;28;01mfor\u001B[39;00m doc, (docid, _) \u001B[38;5;129;01min\u001B[39;00m docs\u001B[38;5;241m.\u001B[39mitems():\n\u001B[0;32m--> 337\u001B[0m     docs_json[docid] \u001B[38;5;241m=\u001B[39m \u001B[43mdoc\u001B[49m\u001B[38;5;241;43m.\u001B[39;49m\u001B[43mto_json\u001B[49m\u001B[43m(\u001B[49m\u001B[43m)\u001B[49m\n\u001B[1;32m    339\u001B[0m render_items: List[RenderItem] \u001B[38;5;241m=\u001B[39m []\n\u001B[1;32m    340\u001B[0m \u001B[38;5;28;01mfor\u001B[39;00m _, (docid, roots) \u001B[38;5;129;01min\u001B[39;00m docs\u001B[38;5;241m.\u001B[39mitems():\n",
      "File \u001B[0;32m~/anaconda3/envs/TripleStreams/lib/python3.9/site-packages/bokeh/document/document.py:758\u001B[0m, in \u001B[0;36mDocument.to_json\u001B[0;34m(self)\u001B[0m\n\u001B[1;32m    749\u001B[0m \u001B[38;5;250m\u001B[39m\u001B[38;5;124;03m''' Convert this document to a JSON object.\u001B[39;00m\n\u001B[1;32m    750\u001B[0m \n\u001B[1;32m    751\u001B[0m \u001B[38;5;124;03mReturn:\u001B[39;00m\n\u001B[1;32m    752\u001B[0m \u001B[38;5;124;03m    JSON-data\u001B[39;00m\n\u001B[1;32m    753\u001B[0m \n\u001B[1;32m    754\u001B[0m \u001B[38;5;124;03m'''\u001B[39;00m\n\u001B[1;32m    756\u001B[0m \u001B[38;5;66;03m# this is a total hack to go via a string, needed because\u001B[39;00m\n\u001B[1;32m    757\u001B[0m \u001B[38;5;66;03m# our BokehJSONEncoder goes straight to a string.\u001B[39;00m\n\u001B[0;32m--> 758\u001B[0m doc_json \u001B[38;5;241m=\u001B[39m \u001B[38;5;28;43mself\u001B[39;49m\u001B[38;5;241;43m.\u001B[39;49m\u001B[43mto_json_string\u001B[49m\u001B[43m(\u001B[49m\u001B[43m)\u001B[49m\n\u001B[1;32m    759\u001B[0m \u001B[38;5;28;01mreturn\u001B[39;00m loads(doc_json)\n",
      "File \u001B[0;32m~/anaconda3/envs/TripleStreams/lib/python3.9/site-packages/bokeh/document/document.py:790\u001B[0m, in \u001B[0;36mDocument.to_json_string\u001B[0;34m(self, indent)\u001B[0m\n\u001B[1;32m    778\u001B[0m root_ids \u001B[38;5;241m=\u001B[39m [ r\u001B[38;5;241m.\u001B[39mid \u001B[38;5;28;01mfor\u001B[39;00m r \u001B[38;5;129;01min\u001B[39;00m \u001B[38;5;28mself\u001B[39m\u001B[38;5;241m.\u001B[39m_roots ]\n\u001B[1;32m    780\u001B[0m json \u001B[38;5;241m=\u001B[39m DocJson(\n\u001B[1;32m    781\u001B[0m     title\u001B[38;5;241m=\u001B[39m\u001B[38;5;28mself\u001B[39m\u001B[38;5;241m.\u001B[39mtitle,\n\u001B[1;32m    782\u001B[0m     defs\u001B[38;5;241m=\u001B[39mserializer\u001B[38;5;241m.\u001B[39mdefinitions,\n\u001B[0;32m   (...)\u001B[0m\n\u001B[1;32m    787\u001B[0m     version\u001B[38;5;241m=\u001B[39m__version__,\n\u001B[1;32m    788\u001B[0m )\n\u001B[0;32m--> 790\u001B[0m \u001B[38;5;28;01mreturn\u001B[39;00m \u001B[43mserialize_json\u001B[49m\u001B[43m(\u001B[49m\u001B[43mjson\u001B[49m\u001B[43m,\u001B[49m\u001B[43m \u001B[49m\u001B[43mindent\u001B[49m\u001B[38;5;241;43m=\u001B[39;49m\u001B[43mindent\u001B[49m\u001B[43m)\u001B[49m\n",
      "File \u001B[0;32m~/anaconda3/envs/TripleStreams/lib/python3.9/site-packages/bokeh/core/json_encoder.py:171\u001B[0m, in \u001B[0;36mserialize_json\u001B[0;34m(obj, pretty, indent, **kwargs)\u001B[0m\n\u001B[1;32m    168\u001B[0m \u001B[38;5;28;01mif\u001B[39;00m pretty \u001B[38;5;129;01mand\u001B[39;00m indent \u001B[38;5;129;01mis\u001B[39;00m \u001B[38;5;28;01mNone\u001B[39;00m:\n\u001B[1;32m    169\u001B[0m     indent \u001B[38;5;241m=\u001B[39m \u001B[38;5;241m2\u001B[39m\n\u001B[0;32m--> 171\u001B[0m \u001B[38;5;28;01mreturn\u001B[39;00m \u001B[43mjson\u001B[49m\u001B[38;5;241;43m.\u001B[39;49m\u001B[43mdumps\u001B[49m\u001B[43m(\u001B[49m\u001B[43mobj\u001B[49m\u001B[43m,\u001B[49m\u001B[43m \u001B[49m\u001B[38;5;28;43mcls\u001B[39;49m\u001B[38;5;241;43m=\u001B[39;49m\u001B[43mBokehJSONEncoder\u001B[49m\u001B[43m,\u001B[49m\u001B[43m \u001B[49m\u001B[43mallow_nan\u001B[49m\u001B[38;5;241;43m=\u001B[39;49m\u001B[38;5;28;43;01mFalse\u001B[39;49;00m\u001B[43m,\u001B[49m\u001B[43m \u001B[49m\u001B[43mindent\u001B[49m\u001B[38;5;241;43m=\u001B[39;49m\u001B[43mindent\u001B[49m\u001B[43m,\u001B[49m\u001B[43m \u001B[49m\u001B[43mseparators\u001B[49m\u001B[38;5;241;43m=\u001B[39;49m\u001B[43mseparators\u001B[49m\u001B[43m,\u001B[49m\u001B[43m \u001B[49m\u001B[43msort_keys\u001B[49m\u001B[38;5;241;43m=\u001B[39;49m\u001B[38;5;28;43;01mTrue\u001B[39;49;00m\u001B[43m,\u001B[49m\u001B[43m \u001B[49m\u001B[38;5;241;43m*\u001B[39;49m\u001B[38;5;241;43m*\u001B[39;49m\u001B[43mkwargs\u001B[49m\u001B[43m)\u001B[49m\n",
      "File \u001B[0;32m~/anaconda3/envs/TripleStreams/lib/python3.9/json/__init__.py:234\u001B[0m, in \u001B[0;36mdumps\u001B[0;34m(obj, skipkeys, ensure_ascii, check_circular, allow_nan, cls, indent, separators, default, sort_keys, **kw)\u001B[0m\n\u001B[1;32m    232\u001B[0m \u001B[38;5;28;01mif\u001B[39;00m \u001B[38;5;28mcls\u001B[39m \u001B[38;5;129;01mis\u001B[39;00m \u001B[38;5;28;01mNone\u001B[39;00m:\n\u001B[1;32m    233\u001B[0m     \u001B[38;5;28mcls\u001B[39m \u001B[38;5;241m=\u001B[39m JSONEncoder\n\u001B[0;32m--> 234\u001B[0m \u001B[38;5;28;01mreturn\u001B[39;00m \u001B[38;5;28;43mcls\u001B[39;49m\u001B[43m(\u001B[49m\n\u001B[1;32m    235\u001B[0m \u001B[43m    \u001B[49m\u001B[43mskipkeys\u001B[49m\u001B[38;5;241;43m=\u001B[39;49m\u001B[43mskipkeys\u001B[49m\u001B[43m,\u001B[49m\u001B[43m \u001B[49m\u001B[43mensure_ascii\u001B[49m\u001B[38;5;241;43m=\u001B[39;49m\u001B[43mensure_ascii\u001B[49m\u001B[43m,\u001B[49m\n\u001B[1;32m    236\u001B[0m \u001B[43m    \u001B[49m\u001B[43mcheck_circular\u001B[49m\u001B[38;5;241;43m=\u001B[39;49m\u001B[43mcheck_circular\u001B[49m\u001B[43m,\u001B[49m\u001B[43m \u001B[49m\u001B[43mallow_nan\u001B[49m\u001B[38;5;241;43m=\u001B[39;49m\u001B[43mallow_nan\u001B[49m\u001B[43m,\u001B[49m\u001B[43m \u001B[49m\u001B[43mindent\u001B[49m\u001B[38;5;241;43m=\u001B[39;49m\u001B[43mindent\u001B[49m\u001B[43m,\u001B[49m\n\u001B[1;32m    237\u001B[0m \u001B[43m    \u001B[49m\u001B[43mseparators\u001B[49m\u001B[38;5;241;43m=\u001B[39;49m\u001B[43mseparators\u001B[49m\u001B[43m,\u001B[49m\u001B[43m \u001B[49m\u001B[43mdefault\u001B[49m\u001B[38;5;241;43m=\u001B[39;49m\u001B[43mdefault\u001B[49m\u001B[43m,\u001B[49m\u001B[43m \u001B[49m\u001B[43msort_keys\u001B[49m\u001B[38;5;241;43m=\u001B[39;49m\u001B[43msort_keys\u001B[49m\u001B[43m,\u001B[49m\n\u001B[1;32m    238\u001B[0m \u001B[43m    \u001B[49m\u001B[38;5;241;43m*\u001B[39;49m\u001B[38;5;241;43m*\u001B[39;49m\u001B[43mkw\u001B[49m\u001B[43m)\u001B[49m\u001B[38;5;241;43m.\u001B[39;49m\u001B[43mencode\u001B[49m\u001B[43m(\u001B[49m\u001B[43mobj\u001B[49m\u001B[43m)\u001B[49m\n",
      "File \u001B[0;32m~/anaconda3/envs/TripleStreams/lib/python3.9/json/encoder.py:199\u001B[0m, in \u001B[0;36mJSONEncoder.encode\u001B[0;34m(self, o)\u001B[0m\n\u001B[1;32m    195\u001B[0m         \u001B[38;5;28;01mreturn\u001B[39;00m encode_basestring(o)\n\u001B[1;32m    196\u001B[0m \u001B[38;5;66;03m# This doesn't pass the iterator directly to ''.join() because the\u001B[39;00m\n\u001B[1;32m    197\u001B[0m \u001B[38;5;66;03m# exceptions aren't as detailed.  The list call should be roughly\u001B[39;00m\n\u001B[1;32m    198\u001B[0m \u001B[38;5;66;03m# equivalent to the PySequence_Fast that ''.join() would do.\u001B[39;00m\n\u001B[0;32m--> 199\u001B[0m chunks \u001B[38;5;241m=\u001B[39m \u001B[38;5;28;43mself\u001B[39;49m\u001B[38;5;241;43m.\u001B[39;49m\u001B[43miterencode\u001B[49m\u001B[43m(\u001B[49m\u001B[43mo\u001B[49m\u001B[43m,\u001B[49m\u001B[43m \u001B[49m\u001B[43m_one_shot\u001B[49m\u001B[38;5;241;43m=\u001B[39;49m\u001B[38;5;28;43;01mTrue\u001B[39;49;00m\u001B[43m)\u001B[49m\n\u001B[1;32m    200\u001B[0m \u001B[38;5;28;01mif\u001B[39;00m \u001B[38;5;129;01mnot\u001B[39;00m \u001B[38;5;28misinstance\u001B[39m(chunks, (\u001B[38;5;28mlist\u001B[39m, \u001B[38;5;28mtuple\u001B[39m)):\n\u001B[1;32m    201\u001B[0m     chunks \u001B[38;5;241m=\u001B[39m \u001B[38;5;28mlist\u001B[39m(chunks)\n",
      "File \u001B[0;32m~/anaconda3/envs/TripleStreams/lib/python3.9/json/encoder.py:257\u001B[0m, in \u001B[0;36mJSONEncoder.iterencode\u001B[0;34m(self, o, _one_shot)\u001B[0m\n\u001B[1;32m    252\u001B[0m \u001B[38;5;28;01melse\u001B[39;00m:\n\u001B[1;32m    253\u001B[0m     _iterencode \u001B[38;5;241m=\u001B[39m _make_iterencode(\n\u001B[1;32m    254\u001B[0m         markers, \u001B[38;5;28mself\u001B[39m\u001B[38;5;241m.\u001B[39mdefault, _encoder, \u001B[38;5;28mself\u001B[39m\u001B[38;5;241m.\u001B[39mindent, floatstr,\n\u001B[1;32m    255\u001B[0m         \u001B[38;5;28mself\u001B[39m\u001B[38;5;241m.\u001B[39mkey_separator, \u001B[38;5;28mself\u001B[39m\u001B[38;5;241m.\u001B[39mitem_separator, \u001B[38;5;28mself\u001B[39m\u001B[38;5;241m.\u001B[39msort_keys,\n\u001B[1;32m    256\u001B[0m         \u001B[38;5;28mself\u001B[39m\u001B[38;5;241m.\u001B[39mskipkeys, _one_shot)\n\u001B[0;32m--> 257\u001B[0m \u001B[38;5;28;01mreturn\u001B[39;00m \u001B[43m_iterencode\u001B[49m\u001B[43m(\u001B[49m\u001B[43mo\u001B[49m\u001B[43m,\u001B[49m\u001B[43m \u001B[49m\u001B[38;5;241;43m0\u001B[39;49m\u001B[43m)\u001B[49m\n",
      "\u001B[0;31mValueError\u001B[0m: Out of range float values are not JSON compliant"
     ]
    }
   ],
   "execution_count": 150
  },
  {
   "metadata": {
    "ExecuteTime": {
     "end_time": "2025-08-14T06:14:41.369455Z",
     "start_time": "2025-08-14T06:14:41.364720Z"
    }
   },
   "cell_type": "code",
   "source": "dataset.input_grooves[28212].transpose(0, 1).numpy(), dataset.output_streams[28212].transpose(0, 1).numpy()\n",
   "id": "5b4dafecfb76232c",
   "outputs": [
    {
     "data": {
      "text/plain": [
       "(array([[ 0.        ,  0.        ,  1.        ,  1.        ,  1.        ,\n",
       "          1.        ,  0.        ,  0.        ,  0.        ,  1.        ,\n",
       "          1.        ,  1.        ,  1.        ,  1.        ,  0.        ,\n",
       "          1.        ,  0.        ,  1.        ,  0.        ,  1.        ,\n",
       "          1.        ,  1.        ,  0.        ,  0.        ,  0.        ,\n",
       "          1.        ,  1.        ,  1.        ,  1.        ,  1.        ,\n",
       "          0.        ,  1.        ],\n",
       "        [ 0.        ,  0.        ,  0.8031496 ,  0.78740156,  0.86614174,\n",
       "          0.8503937 ,  0.        ,  0.        ,  0.        ,  0.62204725,\n",
       "          0.61417323,  0.86614174,  0.8346457 ,  0.8267717 ,  0.        ,\n",
       "          0.62992126,  0.        ,  0.56692916,  0.        ,  0.78740156,\n",
       "          0.8582677 ,  0.88188976,  0.        ,  0.        ,  0.        ,\n",
       "          0.77952754,  0.62204725,  0.6062992 ,  0.79527557,  0.7322835 ,\n",
       "          0.        ,  0.70866144],\n",
       "        [ 0.        ,  0.        ,  0.154     ,  0.362     ,  0.225     ,\n",
       "          0.471     ,  0.        ,  0.        ,  0.        ,  0.346     ,\n",
       "          0.417     ,  0.075     ,  0.188     , -0.067     ,  0.        ,\n",
       "         -0.079     ,  0.        , -0.133     ,  0.        ,  0.458     ,\n",
       "          0.312     ,  0.012     ,  0.        ,  0.        ,  0.        ,\n",
       "          0.067     , -0.088     ,  0.125     ,  0.329     ,  0.        ,\n",
       "          0.        ,  0.308     ]], dtype=float32),\n",
       " array([[ 1.        ,  0.        ,  1.        ,  1.        ,  1.        ,\n",
       "          0.        ,  1.        ,  0.        ,  1.        ,  1.        ,\n",
       "          1.        ,  0.        ,  1.        ,  0.        ,  1.        ,\n",
       "          0.        ,  1.        ,  0.        ,  1.        ,  1.        ,\n",
       "          1.        ,  0.        ,  1.        ,  0.        ,  1.        ,\n",
       "          1.        ,  1.        ,  0.        ,  1.        ,  0.        ,\n",
       "          1.        ,  0.        ],\n",
       "        [ 1.        ,  1.        ,  1.        ,  1.        ,  1.        ,\n",
       "          1.        ,  2.        ,  1.        ,  1.        ,  1.        ,\n",
       "          1.        ,  1.        ,  1.        ,  1.        ,  1.        ,\n",
       "          1.        ,  1.        ,  1.        ,  1.        ,  1.        ,\n",
       "          1.        ,  1.        ,  2.        ,  1.        ,  1.        ,\n",
       "          1.        ,  1.        ,  1.        ,  1.        ,  1.        ,\n",
       "          1.        ,  1.        ],\n",
       "        [ 2.        ,  0.        ,  1.        ,  1.        ,  1.        ,\n",
       "          1.        ,  1.        ,  2.        ,  2.        ,  1.        ,\n",
       "          1.        ,  1.        ,  1.        ,  1.        ,  2.        ,\n",
       "          1.        ,  2.        ,  1.        ,  0.        ,  1.        ,\n",
       "          1.        ,  1.        ,  1.        ,  2.        ,  2.        ,\n",
       "          1.        ,  1.        ,  1.        ,  1.        ,  1.        ,\n",
       "          2.        ,  1.        ],\n",
       "        [ 1.        ,  0.        ,  1.        ,  1.        ,  1.        ,\n",
       "          0.        ,  1.        ,  0.        ,  1.        ,  1.        ,\n",
       "          1.        ,  0.        ,  1.        ,  0.        ,  1.        ,\n",
       "          0.        ,  1.        ,  0.        ,  1.        ,  1.        ,\n",
       "          1.        ,  0.        ,  1.        ,  0.        ,  1.        ,\n",
       "          1.        ,  1.        ,  0.        ,  1.        ,  0.        ,\n",
       "          1.        ,  0.        ],\n",
       "        [ 0.9133858 ,  0.62992126,  0.8031496 ,  0.78740156,  0.86614174,\n",
       "          0.8503937 ,         inf,  0.6535433 ,  0.9055118 ,  0.62204725,\n",
       "          0.511811  ,  0.86614174,  0.8346457 ,  0.8267717 ,  0.8346457 ,\n",
       "          0.62992126,  0.8582677 ,  0.56692916,  0.77952754,  0.5590551 ,\n",
       "          0.8582677 ,  0.88188976,         inf,  0.6062992 ,  0.6771653 ,\n",
       "          0.7322835 ,  0.62204725,  0.56692916,  0.71653545,  0.7322835 ,\n",
       "          0.8346457 ,  0.70866144],\n",
       "        [        inf,  0.        ,  0.25984251,  0.71653545,  0.78740156,\n",
       "          0.63779527,  0.78740156,         inf,         inf,  0.56692916,\n",
       "          0.61417323,  0.51968503,  0.71653545,  0.54330707,         inf,\n",
       "          0.61417323,         inf,  0.51968503,  0.        ,  0.78740156,\n",
       "          0.8110236 ,  0.6692913 ,  0.8346457 ,         inf,         inf,\n",
       "          0.77952754,  0.4566929 ,  0.6062992 ,  0.79527557,  0.62204725,\n",
       "                 inf,  0.496063  ],\n",
       "        [ 0.        ,  0.        ,  0.        ,  0.        ,  0.        ,\n",
       "          0.        ,  0.        ,  0.        ,  0.        ,  0.        ,\n",
       "          0.        ,  0.        ,  0.        ,  0.        ,  0.        ,\n",
       "          0.        ,  0.        ,  0.        ,  0.        ,  0.        ,\n",
       "          0.        ,  0.        ,  0.        ,  0.        ,  0.        ,\n",
       "          0.        ,  0.        ,  0.        ,  0.        ,  0.        ,\n",
       "          0.        ,  0.        ],\n",
       "        [ 0.275     ,  0.163     ,  0.154     ,  0.071     ,  0.225     ,\n",
       "         -0.354     ,         inf,  0.183     ,  0.171     , -0.029     ,\n",
       "         -0.367     , -0.342     ,  0.188     , -0.446     , -0.183     ,\n",
       "         -0.079     , -0.021     , -0.2       , -0.029     , -0.117     ,\n",
       "          0.312     , -0.446     ,         inf,  0.413     ,  0.012     ,\n",
       "          0.067     , -0.088     ,  0.05      ,  0.        , -0.387     ,\n",
       "          0.129     ,  0.308     ],\n",
       "        [        inf,  0.        , -0.1       ,  0.362     , -0.367     ,\n",
       "          0.471     ,  0.446     ,        -inf,         inf,  0.346     ,\n",
       "          0.417     ,  0.075     ,  0.008     , -0.067     ,         inf,\n",
       "         -0.342     ,         inf, -0.133     ,  0.        ,  0.458     ,\n",
       "         -0.488     ,  0.012     ,  0.458     ,         inf,         inf,\n",
       "         -0.446     , -0.338     ,  0.125     ,  0.329     ,  0.        ,\n",
       "                 inf,  0.113     ]], dtype=float32))"
      ]
     },
     "execution_count": 158,
     "metadata": {},
     "output_type": "execute_result"
    }
   ],
   "execution_count": 158
  },
  {
   "metadata": {
    "ExecuteTime": {
     "end_time": "2025-08-14T06:22:37.443998Z",
     "start_time": "2025-08-14T06:22:37.439127Z"
    }
   },
   "cell_type": "code",
   "source": "dataset.output_streams[28212].transpose(0, 1).numpy()",
   "id": "5cc8c2feb1eeaf5",
   "outputs": [
    {
     "data": {
      "text/plain": [
       "array([[ 1.        ,  0.        ,  1.        ,  1.        ,  1.        ,\n",
       "         0.        ,  1.        ,  0.        ,  1.        ,  1.        ,\n",
       "         1.        ,  0.        ,  1.        ,  0.        ,  1.        ,\n",
       "         0.        ,  1.        ,  0.        ,  1.        ,  1.        ,\n",
       "         1.        ,  0.        ,  1.        ,  0.        ,  1.        ,\n",
       "         1.        ,  1.        ,  0.        ,  1.        ,  0.        ,\n",
       "         1.        ,  0.        ],\n",
       "       [ 1.        ,  1.        ,  1.        ,  1.        ,  1.        ,\n",
       "         1.        ,  2.        ,  1.        ,  1.        ,  1.        ,\n",
       "         1.        ,  1.        ,  1.        ,  1.        ,  1.        ,\n",
       "         1.        ,  1.        ,  1.        ,  1.        ,  1.        ,\n",
       "         1.        ,  1.        ,  2.        ,  1.        ,  1.        ,\n",
       "         1.        ,  1.        ,  1.        ,  1.        ,  1.        ,\n",
       "         1.        ,  1.        ],\n",
       "       [ 2.        ,  0.        ,  1.        ,  1.        ,  1.        ,\n",
       "         1.        ,  1.        ,  2.        ,  2.        ,  1.        ,\n",
       "         1.        ,  1.        ,  1.        ,  1.        ,  2.        ,\n",
       "         1.        ,  2.        ,  1.        ,  0.        ,  1.        ,\n",
       "         1.        ,  1.        ,  1.        ,  2.        ,  2.        ,\n",
       "         1.        ,  1.        ,  1.        ,  1.        ,  1.        ,\n",
       "         2.        ,  1.        ],\n",
       "       [ 1.        ,  0.        ,  1.        ,  1.        ,  1.        ,\n",
       "         0.        ,  1.        ,  0.        ,  1.        ,  1.        ,\n",
       "         1.        ,  0.        ,  1.        ,  0.        ,  1.        ,\n",
       "         0.        ,  1.        ,  0.        ,  1.        ,  1.        ,\n",
       "         1.        ,  0.        ,  1.        ,  0.        ,  1.        ,\n",
       "         1.        ,  1.        ,  0.        ,  1.        ,  0.        ,\n",
       "         1.        ,  0.        ],\n",
       "       [ 0.9133858 ,  0.62992126,  0.8031496 ,  0.78740156,  0.86614174,\n",
       "         0.8503937 ,         inf,  0.6535433 ,  0.9055118 ,  0.62204725,\n",
       "         0.511811  ,  0.86614174,  0.8346457 ,  0.8267717 ,  0.8346457 ,\n",
       "         0.62992126,  0.8582677 ,  0.56692916,  0.77952754,  0.5590551 ,\n",
       "         0.8582677 ,  0.88188976,         inf,  0.6062992 ,  0.6771653 ,\n",
       "         0.7322835 ,  0.62204725,  0.56692916,  0.71653545,  0.7322835 ,\n",
       "         0.8346457 ,  0.70866144],\n",
       "       [        inf,  0.        ,  0.25984251,  0.71653545,  0.78740156,\n",
       "         0.63779527,  0.78740156,         inf,         inf,  0.56692916,\n",
       "         0.61417323,  0.51968503,  0.71653545,  0.54330707,         inf,\n",
       "         0.61417323,         inf,  0.51968503,  0.        ,  0.78740156,\n",
       "         0.8110236 ,  0.6692913 ,  0.8346457 ,         inf,         inf,\n",
       "         0.77952754,  0.4566929 ,  0.6062992 ,  0.79527557,  0.62204725,\n",
       "                inf,  0.496063  ],\n",
       "       [ 0.        ,  0.        ,  0.        ,  0.        ,  0.        ,\n",
       "         0.        ,  0.        ,  0.        ,  0.        ,  0.        ,\n",
       "         0.        ,  0.        ,  0.        ,  0.        ,  0.        ,\n",
       "         0.        ,  0.        ,  0.        ,  0.        ,  0.        ,\n",
       "         0.        ,  0.        ,  0.        ,  0.        ,  0.        ,\n",
       "         0.        ,  0.        ,  0.        ,  0.        ,  0.        ,\n",
       "         0.        ,  0.        ],\n",
       "       [ 0.275     ,  0.163     ,  0.154     ,  0.071     ,  0.225     ,\n",
       "        -0.354     ,         inf,  0.183     ,  0.171     , -0.029     ,\n",
       "        -0.367     , -0.342     ,  0.188     , -0.446     , -0.183     ,\n",
       "        -0.079     , -0.021     , -0.2       , -0.029     , -0.117     ,\n",
       "         0.312     , -0.446     ,         inf,  0.413     ,  0.012     ,\n",
       "         0.067     , -0.088     ,  0.05      ,  0.        , -0.387     ,\n",
       "         0.129     ,  0.308     ],\n",
       "       [        inf,  0.        , -0.1       ,  0.362     , -0.367     ,\n",
       "         0.471     ,  0.446     ,        -inf,         inf,  0.346     ,\n",
       "         0.417     ,  0.075     ,  0.008     , -0.067     ,         inf,\n",
       "        -0.342     ,         inf, -0.133     ,  0.        ,  0.458     ,\n",
       "        -0.488     ,  0.012     ,  0.458     ,         inf,         inf,\n",
       "        -0.446     , -0.338     ,  0.125     ,  0.329     ,  0.        ,\n",
       "                inf,  0.113     ]], dtype=float32)"
      ]
     },
     "execution_count": 163,
     "metadata": {},
     "output_type": "execute_result"
    }
   ],
   "execution_count": 163
  },
  {
   "metadata": {
    "ExecuteTime": {
     "end_time": "2025-08-14T06:22:38.265117Z",
     "start_time": "2025-08-14T06:22:38.261831Z"
    }
   },
   "cell_type": "code",
   "source": "dataset.metadata[28212]",
   "id": "102dec0f4599d762",
   "outputs": [
    {
     "data": {
      "text/plain": [
       "{'self_assesment': 5,\n",
       " 'genre': 'Electronic',\n",
       " 'tempo': 120.0,\n",
       " 'experience': 5,\n",
       " 'instrument': 'right',\n",
       " 'participant_number': '3775',\n",
       " 'attempt': '0',\n",
       " 'stream_0': 'flattened',\n",
       " 'stream_1': 'left',\n",
       " 'stream_2': 'both',\n",
       " 'stream_3': 'right',\n",
       " 'start_bar': 0,\n",
       " 'collection': 'elbg',\n",
       " 'sample_id': '3775_attempt0',\n",
       " 'full_midi_filename': 'elbg_both_flattened_left_right_46476.mid',\n",
       " 'master_id': 'elbg_both_flattened_left_right_46476',\n",
       " 'style_primary': 'elbg'}"
      ]
     },
     "execution_count": 164,
     "metadata": {},
     "output_type": "execute_result"
    }
   ],
   "execution_count": 164
  },
  {
   "metadata": {},
   "cell_type": "code",
   "outputs": [],
   "execution_count": null,
   "source": "",
   "id": "b83a5cff51f39baa"
  }
 ],
 "metadata": {
  "kernelspec": {
   "display_name": "Python 3",
   "language": "python",
   "name": "python3"
  },
  "language_info": {
   "codemirror_mode": {
    "name": "ipython",
    "version": 2
   },
   "file_extension": ".py",
   "mimetype": "text/x-python",
   "name": "python",
   "nbconvert_exporter": "python",
   "pygments_lexer": "ipython2",
   "version": "2.7.6"
  }
 },
 "nbformat": 4,
 "nbformat_minor": 5
}
