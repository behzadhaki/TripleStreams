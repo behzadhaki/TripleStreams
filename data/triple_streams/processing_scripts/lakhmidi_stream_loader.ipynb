{
 "cells": [
  {
   "cell_type": "code",
   "id": "initial_id",
   "metadata": {
    "collapsed": true,
    "ExecuteTime": {
     "end_time": "2025-07-16T11:39:02.322574Z",
     "start_time": "2025-07-16T11:38:59.513568Z"
    }
   },
   "source": [
    "from random import random\n",
    "\n",
    "from hvo_sequence.io_helpers import load_HVO_Sequence_from_file"
   ],
   "outputs": [
    {
     "name": "stderr",
     "output_type": "stream",
     "text": [
      "/Users/bezha/anaconda3/envs/TripleStreams/lib/python3.9/site-packages/pydub/utils.py:170: RuntimeWarning: Couldn't find ffmpeg or avconv - defaulting to ffmpeg, but may not work\n",
      "  warn(\"Couldn't find ffmpeg or avconv - defaulting to ffmpeg, but may not work\", RuntimeWarning)\n"
     ]
    }
   ],
   "execution_count": 1
  },
  {
   "metadata": {
    "ExecuteTime": {
     "end_time": "2025-07-16T11:39:02.327357Z",
     "start_time": "2025-07-16T11:39:02.325830Z"
    }
   },
   "cell_type": "code",
   "source": "grouping_types = [\"AllAvailableStreams\"]",
   "id": "a849e8ebb57be6b8",
   "outputs": [],
   "execution_count": 2
  },
  {
   "metadata": {
    "ExecuteTime": {
     "end_time": "2025-07-16T11:39:02.392948Z",
     "start_time": "2025-07-16T11:39:02.376699Z"
    }
   },
   "cell_type": "code",
   "source": [
    "import os\n",
    "root_dir = \"data/triple_streams/lmd_merged_hvo\"\n",
    "\n",
    "# search and compile all folders that end in _{grouping_type} in the root_dir\n",
    "subfolder_dict = {grouping_type: [] for grouping_type in grouping_types}\n",
    "\n",
    "# subfolders will be formatted as \"data/triple_streams/lmd_merged_hvo/***_hvo\"\n",
    "for grouping_type in grouping_types:\n",
    "    subfolder = os.path.join(root_dir, f\"*\")\n",
    "    subfolder_dict[grouping_type] = [f for f in os.listdir(root_dir) if \"_\" not in f]\n",
    "    subfolder_dict[grouping_type] = subfolder_dict[grouping_type] #[:10]  # Limit to first 10 for testing\n",
    "# print(subfolder_dict)\n"
   ],
   "id": "ce7df464ff94e21b",
   "outputs": [],
   "execution_count": 3
  },
  {
   "metadata": {
    "ExecuteTime": {
     "end_time": "2025-07-16T11:42:21.386010Z",
     "start_time": "2025-07-16T11:39:02.397367Z"
    }
   },
   "cell_type": "code",
   "source": [
    "# load all files in the dictionary above, use tqdm to show progress\n",
    "# also the key in the subdictionary is file name without the _{grouping_type}.hvo\n",
    "\n",
    "# i want the dict to look like this for eg.\n",
    "# loaded_hvos = {\"velocity\": {\"1_funk-groove1_138_beat_4-4\": \"filenames\": [], \"hvo_sequences\": []},\n",
    "\n",
    "import tqdm\n",
    "from hvo_sequence.io_helpers import load_HVO_Sequence_from_file\n",
    "loaded_hvos = {grouping_type: {} for grouping_type in grouping_types}\n",
    "\n",
    "for grouping_type, subfolders in subfolder_dict.items():\n",
    "    for subfolder in subfolders:\n",
    "        # remove the _{grouping_type} from the folder name\n",
    "        subfolder_name = subfolder.replace(f\"_{grouping_type}\", \"\")\n",
    "        loaded_hvos[grouping_type].update({subfolder_name: {\n",
    "            \"filenames\": [],\n",
    "            \"hvo_sequences\": [],\n",
    "            \"compiled_single_hvos\": [],\n",
    "            \"split_n_bar_phrases\": None\n",
    "        }})\n",
    "\n",
    "# add filenames and hvo_sequences to the dict\n",
    "for grouping_type, subfolders in subfolder_dict.items():\n",
    "    print(f\"Loading {grouping_type}\")\n",
    "    for subfolder in tqdm.tqdm(subfolders):\n",
    "        # remove the _{grouping_type} from the folder name\n",
    "        subfolder_name = subfolder.replace(f\"_{grouping_type}\", \"\")\n",
    "        hvo_files = [f for f in os.listdir(os.path.join(root_dir, subfolder)) if f.endswith('.hvo')]\n",
    "\n",
    "        for hvo_file in hvo_files:\n",
    "            hvo_seq = load_HVO_Sequence_from_file(os.path.join(root_dir, subfolder, hvo_file))\n",
    "            loaded_hvos[grouping_type][subfolder_name][\"filenames\"].append(hvo_file)\n",
    "            loaded_hvos[grouping_type][subfolder_name][\"hvo_sequences\"].append(hvo_seq)\n",
    "\n"
   ],
   "id": "a5ebf2bdba3096e5",
   "outputs": [
    {
     "name": "stdout",
     "output_type": "stream",
     "text": [
      "Loading AllAvailableStreams\n"
     ]
    },
    {
     "name": "stderr",
     "output_type": "stream",
     "text": [
      "100%|██████████| 42654/42654 [03:18<00:00, 214.49it/s]\n"
     ]
    }
   ],
   "execution_count": 4
  },
  {
   "metadata": {
    "ExecuteTime": {
     "end_time": "2025-07-16T11:42:21.412142Z",
     "start_time": "2025-07-16T11:42:21.406265Z"
    }
   },
   "cell_type": "code",
   "source": [
    "# Dictionary structure of loaded_hvos\n",
    "\n",
    "def get_loaded_hvos_text_description(loaded_hvos, title=\"Lack MIDI\"):\n",
    "    text = f'{title}\\n\\n'\n",
    "    text += \"Dictionary Structure:\\n\"\n",
    "    \n",
    "    for grouping_type, hvo_dict in loaded_hvos.items():\n",
    "        text += f\"{grouping_type}:\\n\"\n",
    "        cnt = 0\n",
    "        for subfolder_name, subfolder_data in hvo_dict.items():\n",
    "            text += (f\"    |-------> {subfolder_name} ({len(subfolder_data['filenames'])} files) \\n\")\n",
    "            text += (f\"    |          |-------> {subfolder_name} \\n\")\n",
    "            text += (f\"    |                     |--> 'filenames:' \\n\")\n",
    "\n",
    "            for i, filename in enumerate(subfolder_data[\"filenames\"]):\n",
    "               text += (f\"    |                           |-------> {filename} \\n\")\n",
    "\n",
    "            text +=(f\"    |                     |--> 'hvo_sequences:'\\n\")\n",
    "            for i, hvo_seq in enumerate(subfolder_data[\"hvo_sequences\"]):\n",
    "                text +=(f\"    |                           |-------> {hvo_seq.hvo.shape[0]} steps, i.e. {hvo_seq.hvo.shape[0] // 16} bars.\\n\")\n",
    "\n",
    "            text += (f\"    |                     |--> 'compiled_single_hvos:'\\n\")\n",
    "            text += (f\"    |                               |-------> {loaded_hvos[grouping_type][subfolder_name]['compiled_single_hvos']}\\n\")\n",
    "\n",
    "            text += (f\"    |                     |--> 'split_n_bar_phrases:'\\n\")\n",
    "            text += (f\"    |                               |-------> {loaded_hvos[grouping_type][subfolder_name]['split_n_bar_phrases']}\\n\")\n",
    "\n",
    "            text += (f\"    |-------> ...\\n\")\n",
    "            text += (\"\\n\")\n",
    "\n",
    "            cnt+= 1\n",
    "            if cnt > 5:  # Limit to first 5 subfolders for readability\n",
    "                break\n",
    "    \n",
    "    return text\n",
    "\n",
    "print(get_loaded_hvos_text_description(loaded_hvos))"
   ],
   "id": "bebaa50dbb4a1c27",
   "outputs": [
    {
     "name": "stdout",
     "output_type": "stream",
     "text": [
      "Lack MIDI\n",
      "\n",
      "Dictionary Structure:\n",
      "AllAvailableStreams:\n",
      "    |-------> 3ca0f5bf8a30195c5e2f62f10a894c1d (4 files) \n",
      "    |          |-------> 3ca0f5bf8a30195c5e2f62f10a894c1d \n",
      "    |                     |--> 'filenames:' \n",
      "    |                           |-------> 3ca0f5bf8a30195c5e2f62f10a894c1d_guitar.hvo \n",
      "    |                           |-------> 3ca0f5bf8a30195c5e2f62f10a894c1d_percussion.hvo \n",
      "    |                           |-------> 3ca0f5bf8a30195c5e2f62f10a894c1d_bass.hvo \n",
      "    |                           |-------> 3ca0f5bf8a30195c5e2f62f10a894c1d_drum.hvo \n",
      "    |                     |--> 'hvo_sequences:'\n",
      "    |                           |-------> 1932 steps, i.e. 120 bars.\n",
      "    |                           |-------> 1904 steps, i.e. 119 bars.\n",
      "    |                           |-------> 1922 steps, i.e. 120 bars.\n",
      "    |                           |-------> 1965 steps, i.e. 122 bars.\n",
      "    |                     |--> 'compiled_single_hvos:'\n",
      "    |                               |-------> []\n",
      "    |                     |--> 'split_n_bar_phrases:'\n",
      "    |                               |-------> None\n",
      "    |-------> ...\n",
      "\n",
      "    |-------> 5c97c7dc84f88952dbaeb0615e444331 (6 files) \n",
      "    |          |-------> 5c97c7dc84f88952dbaeb0615e444331 \n",
      "    |                     |--> 'filenames:' \n",
      "    |                           |-------> 5c97c7dc84f88952dbaeb0615e444331_brass.hvo \n",
      "    |                           |-------> 5c97c7dc84f88952dbaeb0615e444331_guitar.hvo \n",
      "    |                           |-------> 5c97c7dc84f88952dbaeb0615e444331_piano.hvo \n",
      "    |                           |-------> 5c97c7dc84f88952dbaeb0615e444331_percussive.hvo \n",
      "    |                           |-------> 5c97c7dc84f88952dbaeb0615e444331_bass.hvo \n",
      "    |                           |-------> 5c97c7dc84f88952dbaeb0615e444331_drum.hvo \n",
      "    |                     |--> 'hvo_sequences:'\n",
      "    |                           |-------> 2183 steps, i.e. 136 bars.\n",
      "    |                           |-------> 1773 steps, i.e. 110 bars.\n",
      "    |                           |-------> 2185 steps, i.e. 136 bars.\n",
      "    |                           |-------> 2181 steps, i.e. 136 bars.\n",
      "    |                           |-------> 2181 steps, i.e. 136 bars.\n",
      "    |                           |-------> 2187 steps, i.e. 136 bars.\n",
      "    |                     |--> 'compiled_single_hvos:'\n",
      "    |                               |-------> []\n",
      "    |                     |--> 'split_n_bar_phrases:'\n",
      "    |                               |-------> None\n",
      "    |-------> ...\n",
      "\n",
      "    |-------> ad2fc4b3d93f42de10416cac09430f2c (4 files) \n",
      "    |          |-------> ad2fc4b3d93f42de10416cac09430f2c \n",
      "    |                     |--> 'filenames:' \n",
      "    |                           |-------> ad2fc4b3d93f42de10416cac09430f2c_bass.hvo \n",
      "    |                           |-------> ad2fc4b3d93f42de10416cac09430f2c_drum.hvo \n",
      "    |                           |-------> ad2fc4b3d93f42de10416cac09430f2c_piano.hvo \n",
      "    |                           |-------> ad2fc4b3d93f42de10416cac09430f2c_brass.hvo \n",
      "    |                     |--> 'hvo_sequences:'\n",
      "    |                           |-------> 1097 steps, i.e. 68 bars.\n",
      "    |                           |-------> 1103 steps, i.e. 68 bars.\n",
      "    |                           |-------> 1103 steps, i.e. 68 bars.\n",
      "    |                           |-------> 1097 steps, i.e. 68 bars.\n",
      "    |                     |--> 'compiled_single_hvos:'\n",
      "    |                               |-------> []\n",
      "    |                     |--> 'split_n_bar_phrases:'\n",
      "    |                               |-------> None\n",
      "    |-------> ...\n",
      "\n",
      "    |-------> 5e7824fcdf79b64aa96f02de4c52c745 (6 files) \n",
      "    |          |-------> 5e7824fcdf79b64aa96f02de4c52c745 \n",
      "    |                     |--> 'filenames:' \n",
      "    |                           |-------> 5e7824fcdf79b64aa96f02de4c52c745_percussion.hvo \n",
      "    |                           |-------> 5e7824fcdf79b64aa96f02de4c52c745_guitar.hvo \n",
      "    |                           |-------> 5e7824fcdf79b64aa96f02de4c52c745_bass.hvo \n",
      "    |                           |-------> 5e7824fcdf79b64aa96f02de4c52c745_drum.hvo \n",
      "    |                           |-------> 5e7824fcdf79b64aa96f02de4c52c745_piano.hvo \n",
      "    |                           |-------> 5e7824fcdf79b64aa96f02de4c52c745_brass.hvo \n",
      "    |                     |--> 'hvo_sequences:'\n",
      "    |                           |-------> 2276 steps, i.e. 142 bars.\n",
      "    |                           |-------> 2276 steps, i.e. 142 bars.\n",
      "    |                           |-------> 2276 steps, i.e. 142 bars.\n",
      "    |                           |-------> 2276 steps, i.e. 142 bars.\n",
      "    |                           |-------> 2276 steps, i.e. 142 bars.\n",
      "    |                           |-------> 2274 steps, i.e. 142 bars.\n",
      "    |                     |--> 'compiled_single_hvos:'\n",
      "    |                               |-------> []\n",
      "    |                     |--> 'split_n_bar_phrases:'\n",
      "    |                               |-------> None\n",
      "    |-------> ...\n",
      "\n",
      "    |-------> 6c8170533e47dd268321ff770f3a1ec2 (6 files) \n",
      "    |          |-------> 6c8170533e47dd268321ff770f3a1ec2 \n",
      "    |                     |--> 'filenames:' \n",
      "    |                           |-------> 6c8170533e47dd268321ff770f3a1ec2_guitar.hvo \n",
      "    |                           |-------> 6c8170533e47dd268321ff770f3a1ec2_percussion.hvo \n",
      "    |                           |-------> 6c8170533e47dd268321ff770f3a1ec2_bass.hvo \n",
      "    |                           |-------> 6c8170533e47dd268321ff770f3a1ec2_drum.hvo \n",
      "    |                           |-------> 6c8170533e47dd268321ff770f3a1ec2_piano.hvo \n",
      "    |                           |-------> 6c8170533e47dd268321ff770f3a1ec2_brass.hvo \n",
      "    |                     |--> 'hvo_sequences:'\n",
      "    |                           |-------> 1105 steps, i.e. 69 bars.\n",
      "    |                           |-------> 1105 steps, i.e. 69 bars.\n",
      "    |                           |-------> 1180 steps, i.e. 73 bars.\n",
      "    |                           |-------> 1179 steps, i.e. 73 bars.\n",
      "    |                           |-------> 1180 steps, i.e. 73 bars.\n",
      "    |                           |-------> 1105 steps, i.e. 69 bars.\n",
      "    |                     |--> 'compiled_single_hvos:'\n",
      "    |                               |-------> []\n",
      "    |                     |--> 'split_n_bar_phrases:'\n",
      "    |                               |-------> None\n",
      "    |-------> ...\n",
      "\n",
      "    |-------> 58db73ce4416f8a95b130af8f65c3713 (5 files) \n",
      "    |          |-------> 58db73ce4416f8a95b130af8f65c3713 \n",
      "    |                     |--> 'filenames:' \n",
      "    |                           |-------> 58db73ce4416f8a95b130af8f65c3713_brass.hvo \n",
      "    |                           |-------> 58db73ce4416f8a95b130af8f65c3713_guitar.hvo \n",
      "    |                           |-------> 58db73ce4416f8a95b130af8f65c3713_drum.hvo \n",
      "    |                           |-------> 58db73ce4416f8a95b130af8f65c3713_bass.hvo \n",
      "    |                           |-------> 58db73ce4416f8a95b130af8f65c3713_piano.hvo \n",
      "    |                     |--> 'hvo_sequences:'\n",
      "    |                           |-------> 2566 steps, i.e. 160 bars.\n",
      "    |                           |-------> 2579 steps, i.e. 161 bars.\n",
      "    |                           |-------> 2579 steps, i.e. 161 bars.\n",
      "    |                           |-------> 2579 steps, i.e. 161 bars.\n",
      "    |                           |-------> 1180 steps, i.e. 73 bars.\n",
      "    |                     |--> 'compiled_single_hvos:'\n",
      "    |                               |-------> []\n",
      "    |                     |--> 'split_n_bar_phrases:'\n",
      "    |                               |-------> None\n",
      "    |-------> ...\n",
      "\n",
      "\n"
     ]
    }
   ],
   "execution_count": 5
  },
  {
   "metadata": {
    "ExecuteTime": {
     "end_time": "2025-07-16T11:42:33.178914Z",
     "start_time": "2025-07-16T11:42:21.445122Z"
    }
   },
   "cell_type": "code",
   "source": [
    "# adjust all loaded HVO sequences to the same length\n",
    "for grouping_type, hvo_dict in loaded_hvos.items():\n",
    "    for subfolder_name, subfolder_data in hvo_dict.items():\n",
    "        # Find the maximum length of HVO sequences in this subfolder\n",
    "        max_length = max(hvo_seq.hvo.shape[0] for hvo_seq in subfolder_data[\"hvo_sequences\"])\n",
    "\n",
    "        # Adjust each HVO sequence to the maximum length\n",
    "        for i, hvo_seq in enumerate(subfolder_data[\"hvo_sequences\"]):\n",
    "            hvo_seq.adjust_length(max(max_length, 32))\n",
    "\n",
    "# reprint\n",
    "print(get_loaded_hvos_text_description(loaded_hvos))\n"
   ],
   "id": "7cd3621bd02f46da",
   "outputs": [
    {
     "name": "stdout",
     "output_type": "stream",
     "text": [
      "Lack MIDI\n",
      "\n",
      "Dictionary Structure:\n",
      "AllAvailableStreams:\n",
      "    |-------> 3ca0f5bf8a30195c5e2f62f10a894c1d (4 files) \n",
      "    |          |-------> 3ca0f5bf8a30195c5e2f62f10a894c1d \n",
      "    |                     |--> 'filenames:' \n",
      "    |                           |-------> 3ca0f5bf8a30195c5e2f62f10a894c1d_guitar.hvo \n",
      "    |                           |-------> 3ca0f5bf8a30195c5e2f62f10a894c1d_percussion.hvo \n",
      "    |                           |-------> 3ca0f5bf8a30195c5e2f62f10a894c1d_bass.hvo \n",
      "    |                           |-------> 3ca0f5bf8a30195c5e2f62f10a894c1d_drum.hvo \n",
      "    |                     |--> 'hvo_sequences:'\n",
      "    |                           |-------> 1965 steps, i.e. 122 bars.\n",
      "    |                           |-------> 1965 steps, i.e. 122 bars.\n",
      "    |                           |-------> 1965 steps, i.e. 122 bars.\n",
      "    |                           |-------> 1965 steps, i.e. 122 bars.\n",
      "    |                     |--> 'compiled_single_hvos:'\n",
      "    |                               |-------> []\n",
      "    |                     |--> 'split_n_bar_phrases:'\n",
      "    |                               |-------> None\n",
      "    |-------> ...\n",
      "\n",
      "    |-------> 5c97c7dc84f88952dbaeb0615e444331 (6 files) \n",
      "    |          |-------> 5c97c7dc84f88952dbaeb0615e444331 \n",
      "    |                     |--> 'filenames:' \n",
      "    |                           |-------> 5c97c7dc84f88952dbaeb0615e444331_brass.hvo \n",
      "    |                           |-------> 5c97c7dc84f88952dbaeb0615e444331_guitar.hvo \n",
      "    |                           |-------> 5c97c7dc84f88952dbaeb0615e444331_piano.hvo \n",
      "    |                           |-------> 5c97c7dc84f88952dbaeb0615e444331_percussive.hvo \n",
      "    |                           |-------> 5c97c7dc84f88952dbaeb0615e444331_bass.hvo \n",
      "    |                           |-------> 5c97c7dc84f88952dbaeb0615e444331_drum.hvo \n",
      "    |                     |--> 'hvo_sequences:'\n",
      "    |                           |-------> 2187 steps, i.e. 136 bars.\n",
      "    |                           |-------> 2187 steps, i.e. 136 bars.\n",
      "    |                           |-------> 2187 steps, i.e. 136 bars.\n",
      "    |                           |-------> 2187 steps, i.e. 136 bars.\n",
      "    |                           |-------> 2187 steps, i.e. 136 bars.\n",
      "    |                           |-------> 2187 steps, i.e. 136 bars.\n",
      "    |                     |--> 'compiled_single_hvos:'\n",
      "    |                               |-------> []\n",
      "    |                     |--> 'split_n_bar_phrases:'\n",
      "    |                               |-------> None\n",
      "    |-------> ...\n",
      "\n",
      "    |-------> ad2fc4b3d93f42de10416cac09430f2c (4 files) \n",
      "    |          |-------> ad2fc4b3d93f42de10416cac09430f2c \n",
      "    |                     |--> 'filenames:' \n",
      "    |                           |-------> ad2fc4b3d93f42de10416cac09430f2c_bass.hvo \n",
      "    |                           |-------> ad2fc4b3d93f42de10416cac09430f2c_drum.hvo \n",
      "    |                           |-------> ad2fc4b3d93f42de10416cac09430f2c_piano.hvo \n",
      "    |                           |-------> ad2fc4b3d93f42de10416cac09430f2c_brass.hvo \n",
      "    |                     |--> 'hvo_sequences:'\n",
      "    |                           |-------> 1103 steps, i.e. 68 bars.\n",
      "    |                           |-------> 1103 steps, i.e. 68 bars.\n",
      "    |                           |-------> 1103 steps, i.e. 68 bars.\n",
      "    |                           |-------> 1103 steps, i.e. 68 bars.\n",
      "    |                     |--> 'compiled_single_hvos:'\n",
      "    |                               |-------> []\n",
      "    |                     |--> 'split_n_bar_phrases:'\n",
      "    |                               |-------> None\n",
      "    |-------> ...\n",
      "\n",
      "    |-------> 5e7824fcdf79b64aa96f02de4c52c745 (6 files) \n",
      "    |          |-------> 5e7824fcdf79b64aa96f02de4c52c745 \n",
      "    |                     |--> 'filenames:' \n",
      "    |                           |-------> 5e7824fcdf79b64aa96f02de4c52c745_percussion.hvo \n",
      "    |                           |-------> 5e7824fcdf79b64aa96f02de4c52c745_guitar.hvo \n",
      "    |                           |-------> 5e7824fcdf79b64aa96f02de4c52c745_bass.hvo \n",
      "    |                           |-------> 5e7824fcdf79b64aa96f02de4c52c745_drum.hvo \n",
      "    |                           |-------> 5e7824fcdf79b64aa96f02de4c52c745_piano.hvo \n",
      "    |                           |-------> 5e7824fcdf79b64aa96f02de4c52c745_brass.hvo \n",
      "    |                     |--> 'hvo_sequences:'\n",
      "    |                           |-------> 2276 steps, i.e. 142 bars.\n",
      "    |                           |-------> 2276 steps, i.e. 142 bars.\n",
      "    |                           |-------> 2276 steps, i.e. 142 bars.\n",
      "    |                           |-------> 2276 steps, i.e. 142 bars.\n",
      "    |                           |-------> 2276 steps, i.e. 142 bars.\n",
      "    |                           |-------> 2276 steps, i.e. 142 bars.\n",
      "    |                     |--> 'compiled_single_hvos:'\n",
      "    |                               |-------> []\n",
      "    |                     |--> 'split_n_bar_phrases:'\n",
      "    |                               |-------> None\n",
      "    |-------> ...\n",
      "\n",
      "    |-------> 6c8170533e47dd268321ff770f3a1ec2 (6 files) \n",
      "    |          |-------> 6c8170533e47dd268321ff770f3a1ec2 \n",
      "    |                     |--> 'filenames:' \n",
      "    |                           |-------> 6c8170533e47dd268321ff770f3a1ec2_guitar.hvo \n",
      "    |                           |-------> 6c8170533e47dd268321ff770f3a1ec2_percussion.hvo \n",
      "    |                           |-------> 6c8170533e47dd268321ff770f3a1ec2_bass.hvo \n",
      "    |                           |-------> 6c8170533e47dd268321ff770f3a1ec2_drum.hvo \n",
      "    |                           |-------> 6c8170533e47dd268321ff770f3a1ec2_piano.hvo \n",
      "    |                           |-------> 6c8170533e47dd268321ff770f3a1ec2_brass.hvo \n",
      "    |                     |--> 'hvo_sequences:'\n",
      "    |                           |-------> 1180 steps, i.e. 73 bars.\n",
      "    |                           |-------> 1180 steps, i.e. 73 bars.\n",
      "    |                           |-------> 1180 steps, i.e. 73 bars.\n",
      "    |                           |-------> 1180 steps, i.e. 73 bars.\n",
      "    |                           |-------> 1180 steps, i.e. 73 bars.\n",
      "    |                           |-------> 1180 steps, i.e. 73 bars.\n",
      "    |                     |--> 'compiled_single_hvos:'\n",
      "    |                               |-------> []\n",
      "    |                     |--> 'split_n_bar_phrases:'\n",
      "    |                               |-------> None\n",
      "    |-------> ...\n",
      "\n",
      "    |-------> 58db73ce4416f8a95b130af8f65c3713 (5 files) \n",
      "    |          |-------> 58db73ce4416f8a95b130af8f65c3713 \n",
      "    |                     |--> 'filenames:' \n",
      "    |                           |-------> 58db73ce4416f8a95b130af8f65c3713_brass.hvo \n",
      "    |                           |-------> 58db73ce4416f8a95b130af8f65c3713_guitar.hvo \n",
      "    |                           |-------> 58db73ce4416f8a95b130af8f65c3713_drum.hvo \n",
      "    |                           |-------> 58db73ce4416f8a95b130af8f65c3713_bass.hvo \n",
      "    |                           |-------> 58db73ce4416f8a95b130af8f65c3713_piano.hvo \n",
      "    |                     |--> 'hvo_sequences:'\n",
      "    |                           |-------> 2579 steps, i.e. 161 bars.\n",
      "    |                           |-------> 2579 steps, i.e. 161 bars.\n",
      "    |                           |-------> 2579 steps, i.e. 161 bars.\n",
      "    |                           |-------> 2579 steps, i.e. 161 bars.\n",
      "    |                           |-------> 2579 steps, i.e. 161 bars.\n",
      "    |                     |--> 'compiled_single_hvos:'\n",
      "    |                               |-------> []\n",
      "    |                     |--> 'split_n_bar_phrases:'\n",
      "    |                               |-------> None\n",
      "    |-------> ...\n",
      "\n",
      "\n"
     ]
    }
   ],
   "execution_count": 6
  },
  {
   "metadata": {
    "ExecuteTime": {
     "end_time": "2025-07-16T11:42:33.369494Z",
     "start_time": "2025-07-16T11:42:33.202616Z"
    }
   },
   "cell_type": "code",
   "source": [
    "# Get a random grouping type and a random file name from that grouping type\n",
    "import random\n",
    "from hvo_sequence.hvo_seq import HVO_Sequence\n",
    "\n",
    "def compile_four_hvo_streams_into_single_hvo(seperate_hvo_seqs_, filenames_):\n",
    "    voice_mapping = {\n",
    "    'stream_0': [36],\n",
    "    'stream_1': [38],\n",
    "    'stream_2': [42],\n",
    "    'stream_3': [46]\n",
    "    }\n",
    "\n",
    "    time_sigs = seperate_hvo_seqs_[-1].time_signatures\n",
    "    tempos = seperate_hvo_seqs_[-1].tempos\n",
    "\n",
    "    # max length of all HVO sequences\n",
    "\n",
    "    single_compiled_hvo_seq = HVO_Sequence(\n",
    "        beat_division_factors=[4],\n",
    "        drum_mapping=voice_mapping\n",
    "    )\n",
    "\n",
    "    for time_sig in time_sigs:\n",
    "        single_compiled_hvo_seq.add_time_signature(time_step=time_sig.time_step, numerator=time_sig.numerator, denominator=time_sig.denominator)\n",
    "    for tempo in tempos:\n",
    "        single_compiled_hvo_seq.add_tempo(time_step=tempo.time_step, qpm=tempo.qpm)\n",
    "\n",
    "    max_length = max(hvo_seq.hvo.shape[0] for hvo_seq in seperate_hvo_seqs_)\n",
    "    single_compiled_hvo_seq.adjust_length(max_length)\n",
    "\n",
    "    metadata_ = {}\n",
    "    metadata_.update(seperate_hvo_seqs_[-1].metadata)\n",
    "    metadata_.update({f'stream_{ix}': filenames_[ix].split(\"_\")[-1].replace(\".hvo\", \"\") for ix in range(len(filenames_))})\n",
    "    n_streams = single_compiled_hvo_seq.hvo.shape[-1] // 3\n",
    "    for ix, hvo_stream_seq_ in enumerate(seperate_hvo_seqs_):\n",
    "        hvo_stream_file_name = filenames_[ix]\n",
    "        hvo_stream_seq_type = filenames_[ix].split(\"_\")[-1].replace(\".hvo\", \"\")\n",
    "        metadata_[f'stream_{ix}'] = hvo_stream_seq_type\n",
    "        single_compiled_hvo_seq.hvo[:, ix] = hvo_stream_seq_.hvo[:, 0]\n",
    "        single_compiled_hvo_seq.hvo[:, ix+n_streams] = hvo_stream_seq_.hvo[:, 1]\n",
    "        single_compiled_hvo_seq.hvo[:, ix+n_streams*2] = hvo_stream_seq_.hvo[:, 2]\n",
    "\n",
    "    single_compiled_hvo_seq.metadata.update(metadata_)\n",
    "\n",
    "    return single_compiled_hvo_seq\n",
    "\n",
    "import itertools\n",
    "\n",
    "def get_combinations_of_four_hvo_streams(seperate_hvo_seqs_, filenames_):\n",
    "    seperate_hvo_seqs_four_streams = []\n",
    "    filenames_four_streams = []\n",
    "    # get all combinations of four HVO sequences (without repetition)\n",
    "    for combination in itertools.combinations(zip(seperate_hvo_seqs_, filenames_), 4):\n",
    "        hvo_streams_combination, filenames_combination = zip(*combination)\n",
    "        if len(hvo_streams_combination) == 4:\n",
    "            seperate_hvo_seqs_four_streams.append(list(hvo_streams_combination))\n",
    "            filenames_four_streams.append(list(filenames_combination))\n",
    "    return seperate_hvo_seqs_four_streams, filenames_four_streams\n",
    "\n",
    "\n",
    "\n"
   ],
   "id": "7aaff0d323db9a45",
   "outputs": [],
   "execution_count": 7
  },
  {
   "metadata": {
    "ExecuteTime": {
     "end_time": "2025-07-16T11:44:54.747065Z",
     "start_time": "2025-07-16T11:42:33.386596Z"
    }
   },
   "cell_type": "code",
   "source": [
    "\n",
    "\n",
    "# populate the compiled_single_hvo for each grouping type (use tqdm to show progress)\n",
    "#\n",
    "for grouping_type, hvo_dict in loaded_hvos.items():\n",
    "    for subfolder_name, subfolder_data in tqdm.tqdm(hvo_dict.items()):\n",
    "        filenames = subfolder_data[\"filenames\"]\n",
    "        seperate_hvo_seqs = subfolder_data[\"hvo_sequences\"]\n",
    "        grouped_hvos, grouped_filenames = get_combinations_of_four_hvo_streams(seperate_hvo_seqs, filenames)\n",
    "        loaded_hvos[grouping_type][subfolder_name][\"compiled_single_hvos\"] = []\n",
    "        for i in range(len(grouped_hvos)):\n",
    "            seperate_hvo_seqs_ = grouped_hvos[i]\n",
    "            filenames_ = grouped_filenames[i]\n",
    "            # compile the HVO sequences into a single HVO sequence\n",
    "            compiled_single_hvo = compile_four_hvo_streams_into_single_hvo(seperate_hvo_seqs_, filenames_)\n",
    "            loaded_hvos[grouping_type][subfolder_name][\"compiled_single_hvos\"].append(compiled_single_hvo)\n",
    "\n",
    "# reprint\n",
    "\n",
    "\n",
    "\n",
    "print(get_loaded_hvos_text_description(loaded_hvos))\n"
   ],
   "id": "52dc3e5132ce7b5b",
   "outputs": [
    {
     "name": "stderr",
     "output_type": "stream",
     "text": [
      "100%|██████████| 42654/42654 [02:21<00:00, 301.75it/s]"
     ]
    },
    {
     "name": "stdout",
     "output_type": "stream",
     "text": [
      "Lack MIDI\n",
      "\n",
      "Dictionary Structure:\n",
      "AllAvailableStreams:\n",
      "    |-------> 3ca0f5bf8a30195c5e2f62f10a894c1d (4 files) \n",
      "    |          |-------> 3ca0f5bf8a30195c5e2f62f10a894c1d \n",
      "    |                     |--> 'filenames:' \n",
      "    |                           |-------> 3ca0f5bf8a30195c5e2f62f10a894c1d_guitar.hvo \n",
      "    |                           |-------> 3ca0f5bf8a30195c5e2f62f10a894c1d_percussion.hvo \n",
      "    |                           |-------> 3ca0f5bf8a30195c5e2f62f10a894c1d_bass.hvo \n",
      "    |                           |-------> 3ca0f5bf8a30195c5e2f62f10a894c1d_drum.hvo \n",
      "    |                     |--> 'hvo_sequences:'\n",
      "    |                           |-------> 1965 steps, i.e. 122 bars.\n",
      "    |                           |-------> 1965 steps, i.e. 122 bars.\n",
      "    |                           |-------> 1965 steps, i.e. 122 bars.\n",
      "    |                           |-------> 1965 steps, i.e. 122 bars.\n",
      "    |                     |--> 'compiled_single_hvos:'\n",
      "    |                               |-------> [<hvo_sequence.hvo_seq.HVO_Sequence object at 0x109c4a910>]\n",
      "    |                     |--> 'split_n_bar_phrases:'\n",
      "    |                               |-------> None\n",
      "    |-------> ...\n",
      "\n",
      "    |-------> 5c97c7dc84f88952dbaeb0615e444331 (6 files) \n",
      "    |          |-------> 5c97c7dc84f88952dbaeb0615e444331 \n",
      "    |                     |--> 'filenames:' \n",
      "    |                           |-------> 5c97c7dc84f88952dbaeb0615e444331_brass.hvo \n",
      "    |                           |-------> 5c97c7dc84f88952dbaeb0615e444331_guitar.hvo \n",
      "    |                           |-------> 5c97c7dc84f88952dbaeb0615e444331_piano.hvo \n",
      "    |                           |-------> 5c97c7dc84f88952dbaeb0615e444331_percussive.hvo \n",
      "    |                           |-------> 5c97c7dc84f88952dbaeb0615e444331_bass.hvo \n",
      "    |                           |-------> 5c97c7dc84f88952dbaeb0615e444331_drum.hvo \n",
      "    |                     |--> 'hvo_sequences:'\n",
      "    |                           |-------> 2187 steps, i.e. 136 bars.\n",
      "    |                           |-------> 2187 steps, i.e. 136 bars.\n",
      "    |                           |-------> 2187 steps, i.e. 136 bars.\n",
      "    |                           |-------> 2187 steps, i.e. 136 bars.\n",
      "    |                           |-------> 2187 steps, i.e. 136 bars.\n",
      "    |                           |-------> 2187 steps, i.e. 136 bars.\n",
      "    |                     |--> 'compiled_single_hvos:'\n",
      "    |                               |-------> [<hvo_sequence.hvo_seq.HVO_Sequence object at 0x1083b47c0>, <hvo_sequence.hvo_seq.HVO_Sequence object at 0x13bc53790>, <hvo_sequence.hvo_seq.HVO_Sequence object at 0x13bc53550>, <hvo_sequence.hvo_seq.HVO_Sequence object at 0x13bc53c70>, <hvo_sequence.hvo_seq.HVO_Sequence object at 0x5810cdfd0>, <hvo_sequence.hvo_seq.HVO_Sequence object at 0x5810d4ee0>, <hvo_sequence.hvo_seq.HVO_Sequence object at 0x5810d4eb0>, <hvo_sequence.hvo_seq.HVO_Sequence object at 0x5810e3e20>, <hvo_sequence.hvo_seq.HVO_Sequence object at 0x5810e3490>, <hvo_sequence.hvo_seq.HVO_Sequence object at 0x5810e3430>, <hvo_sequence.hvo_seq.HVO_Sequence object at 0x5810e3880>, <hvo_sequence.hvo_seq.HVO_Sequence object at 0x5810e3c10>, <hvo_sequence.hvo_seq.HVO_Sequence object at 0x5810e3e50>, <hvo_sequence.hvo_seq.HVO_Sequence object at 0x5810e3940>, <hvo_sequence.hvo_seq.HVO_Sequence object at 0x5810e3a30>]\n",
      "    |                     |--> 'split_n_bar_phrases:'\n",
      "    |                               |-------> None\n",
      "    |-------> ...\n",
      "\n",
      "    |-------> ad2fc4b3d93f42de10416cac09430f2c (4 files) \n",
      "    |          |-------> ad2fc4b3d93f42de10416cac09430f2c \n",
      "    |                     |--> 'filenames:' \n",
      "    |                           |-------> ad2fc4b3d93f42de10416cac09430f2c_bass.hvo \n",
      "    |                           |-------> ad2fc4b3d93f42de10416cac09430f2c_drum.hvo \n",
      "    |                           |-------> ad2fc4b3d93f42de10416cac09430f2c_piano.hvo \n",
      "    |                           |-------> ad2fc4b3d93f42de10416cac09430f2c_brass.hvo \n",
      "    |                     |--> 'hvo_sequences:'\n",
      "    |                           |-------> 1103 steps, i.e. 68 bars.\n",
      "    |                           |-------> 1103 steps, i.e. 68 bars.\n",
      "    |                           |-------> 1103 steps, i.e. 68 bars.\n",
      "    |                           |-------> 1103 steps, i.e. 68 bars.\n",
      "    |                     |--> 'compiled_single_hvos:'\n",
      "    |                               |-------> [<hvo_sequence.hvo_seq.HVO_Sequence object at 0x5810e3a90>]\n",
      "    |                     |--> 'split_n_bar_phrases:'\n",
      "    |                               |-------> None\n",
      "    |-------> ...\n",
      "\n",
      "    |-------> 5e7824fcdf79b64aa96f02de4c52c745 (6 files) \n",
      "    |          |-------> 5e7824fcdf79b64aa96f02de4c52c745 \n",
      "    |                     |--> 'filenames:' \n",
      "    |                           |-------> 5e7824fcdf79b64aa96f02de4c52c745_percussion.hvo \n",
      "    |                           |-------> 5e7824fcdf79b64aa96f02de4c52c745_guitar.hvo \n",
      "    |                           |-------> 5e7824fcdf79b64aa96f02de4c52c745_bass.hvo \n",
      "    |                           |-------> 5e7824fcdf79b64aa96f02de4c52c745_drum.hvo \n",
      "    |                           |-------> 5e7824fcdf79b64aa96f02de4c52c745_piano.hvo \n",
      "    |                           |-------> 5e7824fcdf79b64aa96f02de4c52c745_brass.hvo \n",
      "    |                     |--> 'hvo_sequences:'\n",
      "    |                           |-------> 2276 steps, i.e. 142 bars.\n",
      "    |                           |-------> 2276 steps, i.e. 142 bars.\n",
      "    |                           |-------> 2276 steps, i.e. 142 bars.\n",
      "    |                           |-------> 2276 steps, i.e. 142 bars.\n",
      "    |                           |-------> 2276 steps, i.e. 142 bars.\n",
      "    |                           |-------> 2276 steps, i.e. 142 bars.\n",
      "    |                     |--> 'compiled_single_hvos:'\n",
      "    |                               |-------> [<hvo_sequence.hvo_seq.HVO_Sequence object at 0x5810e3280>, <hvo_sequence.hvo_seq.HVO_Sequence object at 0x13bb57100>, <hvo_sequence.hvo_seq.HVO_Sequence object at 0x581112190>, <hvo_sequence.hvo_seq.HVO_Sequence object at 0x581112310>, <hvo_sequence.hvo_seq.HVO_Sequence object at 0x581112490>, <hvo_sequence.hvo_seq.HVO_Sequence object at 0x581112610>, <hvo_sequence.hvo_seq.HVO_Sequence object at 0x581112790>, <hvo_sequence.hvo_seq.HVO_Sequence object at 0x581112910>, <hvo_sequence.hvo_seq.HVO_Sequence object at 0x581112a90>, <hvo_sequence.hvo_seq.HVO_Sequence object at 0x581112c10>, <hvo_sequence.hvo_seq.HVO_Sequence object at 0x581112d90>, <hvo_sequence.hvo_seq.HVO_Sequence object at 0x581112f10>, <hvo_sequence.hvo_seq.HVO_Sequence object at 0x581112fa0>, <hvo_sequence.hvo_seq.HVO_Sequence object at 0x58111b250>, <hvo_sequence.hvo_seq.HVO_Sequence object at 0x58111b3d0>]\n",
      "    |                     |--> 'split_n_bar_phrases:'\n",
      "    |                               |-------> None\n",
      "    |-------> ...\n",
      "\n",
      "    |-------> 6c8170533e47dd268321ff770f3a1ec2 (6 files) \n",
      "    |          |-------> 6c8170533e47dd268321ff770f3a1ec2 \n",
      "    |                     |--> 'filenames:' \n",
      "    |                           |-------> 6c8170533e47dd268321ff770f3a1ec2_guitar.hvo \n",
      "    |                           |-------> 6c8170533e47dd268321ff770f3a1ec2_percussion.hvo \n",
      "    |                           |-------> 6c8170533e47dd268321ff770f3a1ec2_bass.hvo \n",
      "    |                           |-------> 6c8170533e47dd268321ff770f3a1ec2_drum.hvo \n",
      "    |                           |-------> 6c8170533e47dd268321ff770f3a1ec2_piano.hvo \n",
      "    |                           |-------> 6c8170533e47dd268321ff770f3a1ec2_brass.hvo \n",
      "    |                     |--> 'hvo_sequences:'\n",
      "    |                           |-------> 1180 steps, i.e. 73 bars.\n",
      "    |                           |-------> 1180 steps, i.e. 73 bars.\n",
      "    |                           |-------> 1180 steps, i.e. 73 bars.\n",
      "    |                           |-------> 1180 steps, i.e. 73 bars.\n",
      "    |                           |-------> 1180 steps, i.e. 73 bars.\n",
      "    |                           |-------> 1180 steps, i.e. 73 bars.\n",
      "    |                     |--> 'compiled_single_hvos:'\n",
      "    |                               |-------> [<hvo_sequence.hvo_seq.HVO_Sequence object at 0x58111b550>, <hvo_sequence.hvo_seq.HVO_Sequence object at 0x58111b6d0>, <hvo_sequence.hvo_seq.HVO_Sequence object at 0x58111b850>, <hvo_sequence.hvo_seq.HVO_Sequence object at 0x58111b9d0>, <hvo_sequence.hvo_seq.HVO_Sequence object at 0x58111bb50>, <hvo_sequence.hvo_seq.HVO_Sequence object at 0x58111bcd0>, <hvo_sequence.hvo_seq.HVO_Sequence object at 0x58111be50>, <hvo_sequence.hvo_seq.HVO_Sequence object at 0x58111bfd0>, <hvo_sequence.hvo_seq.HVO_Sequence object at 0x581123190>, <hvo_sequence.hvo_seq.HVO_Sequence object at 0x581123310>, <hvo_sequence.hvo_seq.HVO_Sequence object at 0x581123490>, <hvo_sequence.hvo_seq.HVO_Sequence object at 0x581123610>, <hvo_sequence.hvo_seq.HVO_Sequence object at 0x581123790>, <hvo_sequence.hvo_seq.HVO_Sequence object at 0x581123910>, <hvo_sequence.hvo_seq.HVO_Sequence object at 0x581123a90>]\n",
      "    |                     |--> 'split_n_bar_phrases:'\n",
      "    |                               |-------> None\n",
      "    |-------> ...\n",
      "\n",
      "    |-------> 58db73ce4416f8a95b130af8f65c3713 (5 files) \n",
      "    |          |-------> 58db73ce4416f8a95b130af8f65c3713 \n",
      "    |                     |--> 'filenames:' \n",
      "    |                           |-------> 58db73ce4416f8a95b130af8f65c3713_brass.hvo \n",
      "    |                           |-------> 58db73ce4416f8a95b130af8f65c3713_guitar.hvo \n",
      "    |                           |-------> 58db73ce4416f8a95b130af8f65c3713_drum.hvo \n",
      "    |                           |-------> 58db73ce4416f8a95b130af8f65c3713_bass.hvo \n",
      "    |                           |-------> 58db73ce4416f8a95b130af8f65c3713_piano.hvo \n",
      "    |                     |--> 'hvo_sequences:'\n",
      "    |                           |-------> 2579 steps, i.e. 161 bars.\n",
      "    |                           |-------> 2579 steps, i.e. 161 bars.\n",
      "    |                           |-------> 2579 steps, i.e. 161 bars.\n",
      "    |                           |-------> 2579 steps, i.e. 161 bars.\n",
      "    |                           |-------> 2579 steps, i.e. 161 bars.\n",
      "    |                     |--> 'compiled_single_hvos:'\n",
      "    |                               |-------> [<hvo_sequence.hvo_seq.HVO_Sequence object at 0x581123c10>, <hvo_sequence.hvo_seq.HVO_Sequence object at 0x581123d90>, <hvo_sequence.hvo_seq.HVO_Sequence object at 0x581123f10>, <hvo_sequence.hvo_seq.HVO_Sequence object at 0x581123fa0>, <hvo_sequence.hvo_seq.HVO_Sequence object at 0x58112a250>]\n",
      "    |                     |--> 'split_n_bar_phrases:'\n",
      "    |                               |-------> None\n",
      "    |-------> ...\n",
      "\n",
      "\n"
     ]
    },
    {
     "name": "stderr",
     "output_type": "stream",
     "text": [
      "\n"
     ]
    }
   ],
   "execution_count": 8
  },
  {
   "metadata": {
    "ExecuteTime": {
     "end_time": "2025-07-16T11:44:54.800252Z",
     "start_time": "2025-07-16T11:44:54.798732Z"
    }
   },
   "cell_type": "code",
   "source": [
    "# loaded_hvos['AllAvailableStreams']['3ca0f5bf8a30195c5e2f62f10a894c1d']['compiled_single_hvos'][0].to_html_plot(\n",
    "#     filename=\"hvo_1.html\",\n",
    "#     save_figure=False,\n",
    "#     show_figure=True)\n",
    "# loaded_hvos['AllAvailableStreams']['3ca0f5bf8a30195c5e2f62f10a894c1d']['compiled_single_hvos'][-1].to_html_plot(\n",
    "#     filename=\"hvo_1.html\",\n",
    "#     save_figure=False,\n",
    "#     show_figure=True)"
   ],
   "id": "4fb16f705344d298",
   "outputs": [],
   "execution_count": 9
  },
  {
   "metadata": {
    "jupyter": {
     "is_executing": true
    },
    "ExecuteTime": {
     "start_time": "2025-07-16T11:44:54.842745Z"
    }
   },
   "cell_type": "code",
   "source": [
    "# Split in two bar phrases, with a hop size of 16.\n",
    "\n",
    "def split_into_n_bar_phrases(hvo_seq, n_bars=2, hop_size=16):\n",
    "    \"\"\"\n",
    "    Split the HVO sequence into n-bar phrases with a hop size.\n",
    "    Returns a list of HVO sequences.\n",
    "    \"\"\"\n",
    "    n_steps_per_bar = hvo_seq.grid_maker.n_steps_per_beat * 4  # Assuming 4/4 time signature\n",
    "    n_steps_per_phrase = n_steps_per_bar * n_bars\n",
    "\n",
    "    phrases = []\n",
    "\n",
    "    for start in range(0, hvo_seq.hvo.shape[0] - n_steps_per_phrase + 1, hop_size):\n",
    "        end = start + n_steps_per_phrase\n",
    "        phrase_hvo = hvo_seq.copy_empty()\n",
    "        phrase_hvo.adjust_length(n_steps_per_phrase)\n",
    "        phrase_hvo.hvo[:n_steps_per_phrase, :] = hvo_seq.hvo[start:end, :]\n",
    "        phrase_hvo.metadata.update({'start_bar': start // n_steps_per_bar})\n",
    "        phrases.append(phrase_hvo)\n",
    "\n",
    "    return phrases\n",
    "\n",
    "for grouping_type, hvo_dict in loaded_hvos.items():\n",
    "    for subfolder_name, subfolder_data in tqdm.tqdm(hvo_dict.items()):\n",
    "        loaded_hvos[grouping_type][subfolder_name][\"split_n_bar_phrases\"] = []\n",
    "        compiled_single_hvos = subfolder_data[\"compiled_single_hvos\"]\n",
    "        for compiled_single_hvo in compiled_single_hvos:\n",
    "            split_n_bar_phrases = split_into_n_bar_phrases(compiled_single_hvo, n_bars=2, hop_size=16)\n",
    "            loaded_hvos[grouping_type][subfolder_name][\"split_n_bar_phrases\"].extend(split_n_bar_phrases)\n",
    "\n",
    "# reprint\n",
    "\n",
    "import pickle, bz2\n",
    "# Save the loaded_hvos dictionary to a compressed file\n",
    "os.makedirs(\"data/triple_streams/split_2bars\", exist_ok=True)\n",
    "with bz2.BZ2File(\"data/triple_streams/split_2bars/lmd.pkl.bz2\", \"wb\") as f:\n",
    "    pickle.dump(loaded_hvos, f)\n",
    "\n",
    "\n"
   ],
   "id": "5f3a76fa11afd3e",
   "outputs": [
    {
     "name": "stderr",
     "output_type": "stream",
     "text": [
      "100%|██████████| 42654/42654 [1:00:20<00:00, 11.78it/s]  \n"
     ]
    }
   ],
   "execution_count": null
  },
  {
   "metadata": {},
   "cell_type": "code",
   "source": [
    "# save the description text to a file\n",
    "with open(\"data/triple_streams/split_2bars/lmd_description.txt\", \"w\") as f:\n",
    "    f.write(get_loaded_hvos_text_description(loaded_hvos))\n",
    "\n",
    "\n",
    "print(get_loaded_hvos_text_description(loaded_hvos))"
   ],
   "id": "17922c07cdf770a5",
   "outputs": [],
   "execution_count": null
  },
  {
   "metadata": {
    "ExecuteTime": {
     "end_time": "2025-07-16T14:45:15.855805Z",
     "start_time": "2025-07-16T14:44:45.237984Z"
    }
   },
   "cell_type": "code",
   "source": [
    "import pickle, bz2\n",
    "import os\n",
    "from hvo_sequence.hvo_seq import HVO_Sequence\n",
    "# Load the loaded_hvos dictionary from a compressed file\n",
    "def load_loaded_hvos_from_file(file_path):\n",
    "    with bz2.BZ2File(file_path, \"rb\") as f:\n",
    "        loaded_hvos = pickle.load(f)\n",
    "    return loaded_hvos\n",
    "\n",
    "loaded_hvos = load_loaded_hvos_from_file(\"data/triple_streams/split_2bars/lmd.pkl.bz2\")\n",
    "print(get_loaded_hvos_text_description(loaded_hvos))\n"
   ],
   "id": "2ff82de3e00eb532",
   "outputs": [
    {
     "name": "stderr",
     "output_type": "stream",
     "text": [
      "/Users/bezha/anaconda3/envs/TripleStreams/lib/python3.9/site-packages/pydub/utils.py:170: RuntimeWarning: Couldn't find ffmpeg or avconv - defaulting to ffmpeg, but may not work\n",
      "  warn(\"Couldn't find ffmpeg or avconv - defaulting to ffmpeg, but may not work\", RuntimeWarning)\n"
     ]
    },
    {
     "ename": "EOFError",
     "evalue": "Compressed file ended before the end-of-stream marker was reached",
     "output_type": "error",
     "traceback": [
      "\u001B[0;31m---------------------------------------------------------------------------\u001B[0m",
      "\u001B[0;31mEOFError\u001B[0m                                  Traceback (most recent call last)",
      "Cell \u001B[0;32mIn[1], line 10\u001B[0m\n\u001B[1;32m      7\u001B[0m         loaded_hvos \u001B[38;5;241m=\u001B[39m pickle\u001B[38;5;241m.\u001B[39mload(f)\n\u001B[1;32m      8\u001B[0m     \u001B[38;5;28;01mreturn\u001B[39;00m loaded_hvos\n\u001B[0;32m---> 10\u001B[0m loaded_hvos \u001B[38;5;241m=\u001B[39m \u001B[43mload_loaded_hvos_from_file\u001B[49m\u001B[43m(\u001B[49m\u001B[38;5;124;43m\"\u001B[39;49m\u001B[38;5;124;43mdata/triple_streams/split_2bars/lmd.pkl.bz2\u001B[39;49m\u001B[38;5;124;43m\"\u001B[39;49m\u001B[43m)\u001B[49m\n\u001B[1;32m     11\u001B[0m \u001B[38;5;28mprint\u001B[39m(get_loaded_hvos_text_description(loaded_hvos))\n",
      "Cell \u001B[0;32mIn[1], line 7\u001B[0m, in \u001B[0;36mload_loaded_hvos_from_file\u001B[0;34m(file_path)\u001B[0m\n\u001B[1;32m      5\u001B[0m \u001B[38;5;28;01mdef\u001B[39;00m\u001B[38;5;250m \u001B[39m\u001B[38;5;21mload_loaded_hvos_from_file\u001B[39m(file_path):\n\u001B[1;32m      6\u001B[0m     \u001B[38;5;28;01mwith\u001B[39;00m bz2\u001B[38;5;241m.\u001B[39mBZ2File(file_path, \u001B[38;5;124m\"\u001B[39m\u001B[38;5;124mrb\u001B[39m\u001B[38;5;124m\"\u001B[39m) \u001B[38;5;28;01mas\u001B[39;00m f:\n\u001B[0;32m----> 7\u001B[0m         loaded_hvos \u001B[38;5;241m=\u001B[39m \u001B[43mpickle\u001B[49m\u001B[38;5;241;43m.\u001B[39;49m\u001B[43mload\u001B[49m\u001B[43m(\u001B[49m\u001B[43mf\u001B[49m\u001B[43m)\u001B[49m\n\u001B[1;32m      8\u001B[0m     \u001B[38;5;28;01mreturn\u001B[39;00m loaded_hvos\n",
      "File \u001B[0;32m~/anaconda3/envs/TripleStreams/lib/python3.9/bz2.py:171\u001B[0m, in \u001B[0;36mBZ2File.read\u001B[0;34m(self, size)\u001B[0m\n\u001B[1;32m    169\u001B[0m \u001B[38;5;28;01mwith\u001B[39;00m \u001B[38;5;28mself\u001B[39m\u001B[38;5;241m.\u001B[39m_lock:\n\u001B[1;32m    170\u001B[0m     \u001B[38;5;28mself\u001B[39m\u001B[38;5;241m.\u001B[39m_check_can_read()\n\u001B[0;32m--> 171\u001B[0m     \u001B[38;5;28;01mreturn\u001B[39;00m \u001B[38;5;28;43mself\u001B[39;49m\u001B[38;5;241;43m.\u001B[39;49m\u001B[43m_buffer\u001B[49m\u001B[38;5;241;43m.\u001B[39;49m\u001B[43mread\u001B[49m\u001B[43m(\u001B[49m\u001B[43msize\u001B[49m\u001B[43m)\u001B[49m\n",
      "File \u001B[0;32m~/anaconda3/envs/TripleStreams/lib/python3.9/_compression.py:68\u001B[0m, in \u001B[0;36mDecompressReader.readinto\u001B[0;34m(self, b)\u001B[0m\n\u001B[1;32m     66\u001B[0m \u001B[38;5;28;01mdef\u001B[39;00m\u001B[38;5;250m \u001B[39m\u001B[38;5;21mreadinto\u001B[39m(\u001B[38;5;28mself\u001B[39m, b):\n\u001B[1;32m     67\u001B[0m     \u001B[38;5;28;01mwith\u001B[39;00m \u001B[38;5;28mmemoryview\u001B[39m(b) \u001B[38;5;28;01mas\u001B[39;00m view, view\u001B[38;5;241m.\u001B[39mcast(\u001B[38;5;124m\"\u001B[39m\u001B[38;5;124mB\u001B[39m\u001B[38;5;124m\"\u001B[39m) \u001B[38;5;28;01mas\u001B[39;00m byte_view:\n\u001B[0;32m---> 68\u001B[0m         data \u001B[38;5;241m=\u001B[39m \u001B[38;5;28;43mself\u001B[39;49m\u001B[38;5;241;43m.\u001B[39;49m\u001B[43mread\u001B[49m\u001B[43m(\u001B[49m\u001B[38;5;28;43mlen\u001B[39;49m\u001B[43m(\u001B[49m\u001B[43mbyte_view\u001B[49m\u001B[43m)\u001B[49m\u001B[43m)\u001B[49m\n\u001B[1;32m     69\u001B[0m         byte_view[:\u001B[38;5;28mlen\u001B[39m(data)] \u001B[38;5;241m=\u001B[39m data\n\u001B[1;32m     70\u001B[0m     \u001B[38;5;28;01mreturn\u001B[39;00m \u001B[38;5;28mlen\u001B[39m(data)\n",
      "File \u001B[0;32m~/anaconda3/envs/TripleStreams/lib/python3.9/_compression.py:99\u001B[0m, in \u001B[0;36mDecompressReader.read\u001B[0;34m(self, size)\u001B[0m\n\u001B[1;32m     97\u001B[0m     rawblock \u001B[38;5;241m=\u001B[39m \u001B[38;5;28mself\u001B[39m\u001B[38;5;241m.\u001B[39m_fp\u001B[38;5;241m.\u001B[39mread(BUFFER_SIZE)\n\u001B[1;32m     98\u001B[0m     \u001B[38;5;28;01mif\u001B[39;00m \u001B[38;5;129;01mnot\u001B[39;00m rawblock:\n\u001B[0;32m---> 99\u001B[0m         \u001B[38;5;28;01mraise\u001B[39;00m \u001B[38;5;167;01mEOFError\u001B[39;00m(\u001B[38;5;124m\"\u001B[39m\u001B[38;5;124mCompressed file ended before the \u001B[39m\u001B[38;5;124m\"\u001B[39m\n\u001B[1;32m    100\u001B[0m                        \u001B[38;5;124m\"\u001B[39m\u001B[38;5;124mend-of-stream marker was reached\u001B[39m\u001B[38;5;124m\"\u001B[39m)\n\u001B[1;32m    101\u001B[0m \u001B[38;5;28;01melse\u001B[39;00m:\n\u001B[1;32m    102\u001B[0m     rawblock \u001B[38;5;241m=\u001B[39m \u001B[38;5;124mb\u001B[39m\u001B[38;5;124m\"\u001B[39m\u001B[38;5;124m\"\u001B[39m\n",
      "\u001B[0;31mEOFError\u001B[0m: Compressed file ended before the end-of-stream marker was reached"
     ]
    }
   ],
   "execution_count": 1
  },
  {
   "metadata": {
    "ExecuteTime": {
     "end_time": "2025-07-16T11:38:56.559880Z",
     "start_time": "2025-07-16T11:34:05.599133Z"
    }
   },
   "cell_type": "code",
   "source": [
    "def get_random_set(loaded_hvos):\n",
    "    \"\"\"\n",
    "    Get a random grouping type and a random file name from that grouping type.\n",
    "    Returns the filenames and HVO sequences.\n",
    "    \"\"\"\n",
    "    random_grouping_type = random.choice(list(loaded_hvos.keys()))\n",
    "    random_file_name = random.choice(list(loaded_hvos[random_grouping_type].keys()))\n",
    "    print(loaded_hvos[random_grouping_type][random_file_name]['compiled_single_hvos'][-1].metadata)\n",
    "    return loaded_hvos[random_grouping_type][random_file_name]\n",
    "\n",
    "streams_set_dict = get_random_set(loaded_hvos)\n",
    "\n",
    "from bokeh.io import output_notebook, show\n",
    "output_notebook()\n",
    "\n",
    "streams_set_dict['split_n_bar_phrases'][2].to_html_plot(\n",
    "    filename=\"hvo_1.html\",\n",
    "    save_figure=False,\n",
    "    show_figure=True)\n",
    "\n"
   ],
   "id": "8e9f5d04f22245db",
   "outputs": [
    {
     "name": "stdout",
     "output_type": "stream",
     "text": [
      "{'filename': 'ad2fc4b3d93f42de10416cac09430f2c_brass.mid', 'main_file': 'ad2fc4b3d93f42de10416cac09430f2c', 'instrument': 'brass', 'source': 'Lakh MIDI', 'stream_0': 'bass', 'stream_1': 'drum', 'stream_2': 'piano', 'stream_3': 'brass'}\n"
     ]
    },
    {
     "data": {
      "text/html": [
       "    <style>\n",
       "        .bk-notebook-logo {\n",
       "            display: block;\n",
       "            width: 20px;\n",
       "            height: 20px;\n",
       "            background-image: url(data:image/png;base64,iVBORw0KGgoAAAANSUhEUgAAABQAAAAUCAYAAACNiR0NAAAABHNCSVQICAgIfAhkiAAAAAlwSFlzAAALEgAACxIB0t1+/AAAABx0RVh0U29mdHdhcmUAQWRvYmUgRmlyZXdvcmtzIENTNui8sowAAAOkSURBVDiNjZRtaJVlGMd/1/08zzln5zjP1LWcU9N0NkN8m2CYjpgQYQXqSs0I84OLIC0hkEKoPtiH3gmKoiJDU7QpLgoLjLIQCpEsNJ1vqUOdO7ppbuec5+V+rj4ctwzd8IIbbi6u+8f1539dt3A78eXC7QizUF7gyV1fD1Yqg4JWz84yffhm0qkFqBogB9rM8tZdtwVsPUhWhGcFJngGeWrPzHm5oaMmkfEg1usvLFyc8jLRqDOMru7AyC8saQr7GG7f5fvDeH7Ej8CM66nIF+8yngt6HWaKh7k49Soy9nXurCi1o3qUbS3zWfrYeQDTB/Qj6kX6Ybhw4B+bOYoLKCC9H3Nu/leUTZ1JdRWkkn2ldcCamzrcf47KKXdAJllSlxAOkRgyHsGC/zRday5Qld9DyoM4/q/rUoy/CXh3jzOu3bHUVZeU+DEn8FInkPBFlu3+nW3Nw0mk6vCDiWg8CeJaxEwuHS3+z5RgY+YBR6V1Z1nxSOfoaPa4LASWxxdNp+VWTk7+4vzaou8v8PN+xo+KY2xsw6une2frhw05CTYOmQvsEhjhWjn0bmXPjpE1+kplmmkP3suftwTubK9Vq22qKmrBhpY4jvd5afdRA3wGjFAgcnTK2s4hY0/GPNIb0nErGMCRxWOOX64Z8RAC4oCXdklmEvcL8o0BfkNK4lUg9HTl+oPlQxdNo3Mg4Nv175e/1LDGzZen30MEjRUtmXSfiTVu1kK8W4txyV6BMKlbgk3lMwYCiusNy9fVfvvwMxv8Ynl6vxoByANLTWplvuj/nF9m2+PDtt1eiHPBr1oIfhCChQMBw6Aw0UulqTKZdfVvfG7VcfIqLG9bcldL/+pdWTLxLUy8Qq38heUIjh4XlzZxzQm19lLFlr8vdQ97rjZVOLf8nclzckbcD4wxXMidpX30sFd37Fv/GtwwhzhxGVAprjbg0gCAEeIgwCZyTV2Z1REEW8O4py0wsjeloKoMr6iCY6dP92H6Vw/oTyICIthibxjm/DfN9lVz8IqtqKYLUXfoKVMVQVVJOElGjrnnUt9T9wbgp8AyYKaGlqingHZU/uG2NTZSVqwHQTWkx9hxjkpWDaCg6Ckj5qebgBVbT3V3NNXMSiWSDdGV3hrtzla7J+duwPOToIg42ChPQOQjspnSlp1V+Gjdged7+8UN5CRAV7a5EdFNwCjEaBR27b3W890TE7g24NAP/mMDXRWrGoFPQI9ls/MWO2dWFAar/xcOIImbbpA3zgAAAABJRU5ErkJggg==);\n",
       "        }\n",
       "    </style>\n",
       "    <div>\n",
       "        <a href=\"https://bokeh.org\" target=\"_blank\" class=\"bk-notebook-logo\"></a>\n",
       "        <span id=\"a21f5d69-a6d3-4a5e-945a-ae0e406990ef\">Loading BokehJS ...</span>\n",
       "    </div>\n"
      ]
     },
     "metadata": {},
     "output_type": "display_data"
    },
    {
     "data": {
      "application/javascript": "'use strict';\n(function(root) {\n  function now() {\n    return new Date();\n  }\n\n  const force = true;\n\n  if (typeof root._bokeh_onload_callbacks === \"undefined\" || force === true) {\n    root._bokeh_onload_callbacks = [];\n    root._bokeh_is_loading = undefined;\n  }\n\nconst JS_MIME_TYPE = 'application/javascript';\n  const HTML_MIME_TYPE = 'text/html';\n  const EXEC_MIME_TYPE = 'application/vnd.bokehjs_exec.v0+json';\n  const CLASS_NAME = 'output_bokeh rendered_html';\n\n  /**\n   * Render data to the DOM node\n   */\n  function render(props, node) {\n    const script = document.createElement(\"script\");\n    node.appendChild(script);\n  }\n\n  /**\n   * Handle when an output is cleared or removed\n   */\n  function handleClearOutput(event, handle) {\n    function drop(id) {\n      const view = Bokeh.index.get_by_id(id)\n      if (view != null) {\n        view.model.document.clear()\n        Bokeh.index.delete(view)\n      }\n    }\n\n    const cell = handle.cell;\n\n    const id = cell.output_area._bokeh_element_id;\n    const server_id = cell.output_area._bokeh_server_id;\n\n    // Clean up Bokeh references\n    if (id != null) {\n      drop(id)\n    }\n\n    if (server_id !== undefined) {\n      // Clean up Bokeh references\n      const cmd_clean = \"from bokeh.io.state import curstate; print(curstate().uuid_to_server['\" + server_id + \"'].get_sessions()[0].document.roots[0]._id)\";\n      cell.notebook.kernel.execute(cmd_clean, {\n        iopub: {\n          output: function(msg) {\n            const id = msg.content.text.trim()\n            drop(id)\n          }\n        }\n      });\n      // Destroy server and session\n      const cmd_destroy = \"import bokeh.io.notebook as ion; ion.destroy_server('\" + server_id + \"')\";\n      cell.notebook.kernel.execute(cmd_destroy);\n    }\n  }\n\n  /**\n   * Handle when a new output is added\n   */\n  function handleAddOutput(event, handle) {\n    const output_area = handle.output_area;\n    const output = handle.output;\n\n    // limit handleAddOutput to display_data with EXEC_MIME_TYPE content only\n    if ((output.output_type != \"display_data\") || (!Object.prototype.hasOwnProperty.call(output.data, EXEC_MIME_TYPE))) {\n      return\n    }\n\n    const toinsert = output_area.element.find(\".\" + CLASS_NAME.split(' ')[0]);\n\n    if (output.metadata[EXEC_MIME_TYPE][\"id\"] !== undefined) {\n      toinsert[toinsert.length - 1].firstChild.textContent = output.data[JS_MIME_TYPE];\n      // store reference to embed id on output_area\n      output_area._bokeh_element_id = output.metadata[EXEC_MIME_TYPE][\"id\"];\n    }\n    if (output.metadata[EXEC_MIME_TYPE][\"server_id\"] !== undefined) {\n      const bk_div = document.createElement(\"div\");\n      bk_div.innerHTML = output.data[HTML_MIME_TYPE];\n      const script_attrs = bk_div.children[0].attributes;\n      for (let i = 0; i < script_attrs.length; i++) {\n        toinsert[toinsert.length - 1].firstChild.setAttribute(script_attrs[i].name, script_attrs[i].value);\n        toinsert[toinsert.length - 1].firstChild.textContent = bk_div.children[0].textContent\n      }\n      // store reference to server id on output_area\n      output_area._bokeh_server_id = output.metadata[EXEC_MIME_TYPE][\"server_id\"];\n    }\n  }\n\n  function register_renderer(events, OutputArea) {\n\n    function append_mime(data, metadata, element) {\n      // create a DOM node to render to\n      const toinsert = this.create_output_subarea(\n        metadata,\n        CLASS_NAME,\n        EXEC_MIME_TYPE\n      );\n      this.keyboard_manager.register_events(toinsert);\n      // Render to node\n      const props = {data: data, metadata: metadata[EXEC_MIME_TYPE]};\n      render(props, toinsert[toinsert.length - 1]);\n      element.append(toinsert);\n      return toinsert\n    }\n\n    /* Handle when an output is cleared or removed */\n    events.on('clear_output.CodeCell', handleClearOutput);\n    events.on('delete.Cell', handleClearOutput);\n\n    /* Handle when a new output is added */\n    events.on('output_added.OutputArea', handleAddOutput);\n\n    /**\n     * Register the mime type and append_mime function with output_area\n     */\n    OutputArea.prototype.register_mime_type(EXEC_MIME_TYPE, append_mime, {\n      /* Is output safe? */\n      safe: true,\n      /* Index of renderer in `output_area.display_order` */\n      index: 0\n    });\n  }\n\n  // register the mime type if in Jupyter Notebook environment and previously unregistered\n  if (root.Jupyter !== undefined) {\n    const events = require('base/js/events');\n    const OutputArea = require('notebook/js/outputarea').OutputArea;\n\n    if (OutputArea.prototype.mime_types().indexOf(EXEC_MIME_TYPE) == -1) {\n      register_renderer(events, OutputArea);\n    }\n  }\n  if (typeof (root._bokeh_timeout) === \"undefined\" || force === true) {\n    root._bokeh_timeout = Date.now() + 5000;\n    root._bokeh_failed_load = false;\n  }\n\n  const NB_LOAD_WARNING = {'data': {'text/html':\n     \"<div style='background-color: #fdd'>\\n\"+\n     \"<p>\\n\"+\n     \"BokehJS does not appear to have successfully loaded. If loading BokehJS from CDN, this \\n\"+\n     \"may be due to a slow or bad network connection. Possible fixes:\\n\"+\n     \"</p>\\n\"+\n     \"<ul>\\n\"+\n     \"<li>re-rerun `output_notebook()` to attempt to load from CDN again, or</li>\\n\"+\n     \"<li>use INLINE resources instead, as so:</li>\\n\"+\n     \"</ul>\\n\"+\n     \"<code>\\n\"+\n     \"from bokeh.resources import INLINE\\n\"+\n     \"output_notebook(resources=INLINE)\\n\"+\n     \"</code>\\n\"+\n     \"</div>\"}};\n\n  function display_loaded(error = null) {\n    const el = document.getElementById(\"a21f5d69-a6d3-4a5e-945a-ae0e406990ef\");\n    if (el != null) {\n      const html = (() => {\n        if (typeof root.Bokeh === \"undefined\") {\n          if (error == null) {\n            return \"BokehJS is loading ...\";\n          } else {\n            return \"BokehJS failed to load.\";\n          }\n        } else {\n          const prefix = `BokehJS ${root.Bokeh.version}`;\n          if (error == null) {\n            return `${prefix} successfully loaded.`;\n          } else {\n            return `${prefix} <b>encountered errors</b> while loading and may not function as expected.`;\n          }\n        }\n      })();\n      el.innerHTML = html;\n\n      if (error != null) {\n        const wrapper = document.createElement(\"div\");\n        wrapper.style.overflow = \"auto\";\n        wrapper.style.height = \"5em\";\n        wrapper.style.resize = \"vertical\";\n        const content = document.createElement(\"div\");\n        content.style.fontFamily = \"monospace\";\n        content.style.whiteSpace = \"pre-wrap\";\n        content.style.backgroundColor = \"rgb(255, 221, 221)\";\n        content.textContent = error.stack ?? error.toString();\n        wrapper.append(content);\n        el.append(wrapper);\n      }\n    } else if (Date.now() < root._bokeh_timeout) {\n      setTimeout(() => display_loaded(error), 100);\n    }\n  }\n\n  function run_callbacks() {\n    try {\n      root._bokeh_onload_callbacks.forEach(function(callback) {\n        if (callback != null)\n          callback();\n      });\n    } finally {\n      delete root._bokeh_onload_callbacks\n    }\n    console.debug(\"Bokeh: all callbacks have finished\");\n  }\n\n  function load_libs(css_urls, js_urls, callback) {\n    if (css_urls == null) css_urls = [];\n    if (js_urls == null) js_urls = [];\n\n    root._bokeh_onload_callbacks.push(callback);\n    if (root._bokeh_is_loading > 0) {\n      console.debug(\"Bokeh: BokehJS is being loaded, scheduling callback at\", now());\n      return null;\n    }\n    if (js_urls == null || js_urls.length === 0) {\n      run_callbacks();\n      return null;\n    }\n    console.debug(\"Bokeh: BokehJS not loaded, scheduling load and callback at\", now());\n    root._bokeh_is_loading = css_urls.length + js_urls.length;\n\n    function on_load() {\n      root._bokeh_is_loading--;\n      if (root._bokeh_is_loading === 0) {\n        console.debug(\"Bokeh: all BokehJS libraries/stylesheets loaded\");\n        run_callbacks()\n      }\n    }\n\n    function on_error(url) {\n      console.error(\"failed to load \" + url);\n    }\n\n    for (let i = 0; i < css_urls.length; i++) {\n      const url = css_urls[i];\n      const element = document.createElement(\"link\");\n      element.onload = on_load;\n      element.onerror = on_error.bind(null, url);\n      element.rel = \"stylesheet\";\n      element.type = \"text/css\";\n      element.href = url;\n      console.debug(\"Bokeh: injecting link tag for BokehJS stylesheet: \", url);\n      document.body.appendChild(element);\n    }\n\n    for (let i = 0; i < js_urls.length; i++) {\n      const url = js_urls[i];\n      const element = document.createElement('script');\n      element.onload = on_load;\n      element.onerror = on_error.bind(null, url);\n      element.async = false;\n      element.src = url;\n      console.debug(\"Bokeh: injecting script tag for BokehJS library: \", url);\n      document.head.appendChild(element);\n    }\n  };\n\n  function inject_raw_css(css) {\n    const element = document.createElement(\"style\");\n    element.appendChild(document.createTextNode(css));\n    document.body.appendChild(element);\n  }\n\n  const js_urls = [\"https://cdn.bokeh.org/bokeh/release/bokeh-3.4.3.min.js\", \"https://cdn.bokeh.org/bokeh/release/bokeh-gl-3.4.3.min.js\", \"https://cdn.bokeh.org/bokeh/release/bokeh-widgets-3.4.3.min.js\", \"https://cdn.bokeh.org/bokeh/release/bokeh-tables-3.4.3.min.js\", \"https://cdn.bokeh.org/bokeh/release/bokeh-mathjax-3.4.3.min.js\"];\n  const css_urls = [];\n\n  const inline_js = [    function(Bokeh) {\n      Bokeh.set_log_level(\"info\");\n    },\nfunction(Bokeh) {\n    }\n  ];\n\n  function run_inline_js() {\n    if (root.Bokeh !== undefined || force === true) {\n      try {\n            for (let i = 0; i < inline_js.length; i++) {\n      inline_js[i].call(root, root.Bokeh);\n    }\n\n      } catch (error) {display_loaded(error);throw error;\n      }if (force === true) {\n        display_loaded();\n      }} else if (Date.now() < root._bokeh_timeout) {\n      setTimeout(run_inline_js, 100);\n    } else if (!root._bokeh_failed_load) {\n      console.log(\"Bokeh: BokehJS failed to load within specified timeout.\");\n      root._bokeh_failed_load = true;\n    } else if (force !== true) {\n      const cell = $(document.getElementById(\"a21f5d69-a6d3-4a5e-945a-ae0e406990ef\")).parents('.cell').data().cell;\n      cell.output_area.append_execute_result(NB_LOAD_WARNING)\n    }\n  }\n\n  if (root._bokeh_is_loading === 0) {\n    console.debug(\"Bokeh: BokehJS loaded, going straight to plotting\");\n    run_inline_js();\n  } else {\n    load_libs(css_urls, js_urls, function() {\n      console.debug(\"Bokeh: BokehJS plotting callback run at\", now());\n      run_inline_js();\n    });\n  }\n}(window));",
      "application/vnd.bokehjs_load.v0+json": "'use strict';\n(function(root) {\n  function now() {\n    return new Date();\n  }\n\n  const force = true;\n\n  if (typeof root._bokeh_onload_callbacks === \"undefined\" || force === true) {\n    root._bokeh_onload_callbacks = [];\n    root._bokeh_is_loading = undefined;\n  }\n\n\n  if (typeof (root._bokeh_timeout) === \"undefined\" || force === true) {\n    root._bokeh_timeout = Date.now() + 5000;\n    root._bokeh_failed_load = false;\n  }\n\n  const NB_LOAD_WARNING = {'data': {'text/html':\n     \"<div style='background-color: #fdd'>\\n\"+\n     \"<p>\\n\"+\n     \"BokehJS does not appear to have successfully loaded. If loading BokehJS from CDN, this \\n\"+\n     \"may be due to a slow or bad network connection. Possible fixes:\\n\"+\n     \"</p>\\n\"+\n     \"<ul>\\n\"+\n     \"<li>re-rerun `output_notebook()` to attempt to load from CDN again, or</li>\\n\"+\n     \"<li>use INLINE resources instead, as so:</li>\\n\"+\n     \"</ul>\\n\"+\n     \"<code>\\n\"+\n     \"from bokeh.resources import INLINE\\n\"+\n     \"output_notebook(resources=INLINE)\\n\"+\n     \"</code>\\n\"+\n     \"</div>\"}};\n\n  function display_loaded(error = null) {\n    const el = document.getElementById(\"a21f5d69-a6d3-4a5e-945a-ae0e406990ef\");\n    if (el != null) {\n      const html = (() => {\n        if (typeof root.Bokeh === \"undefined\") {\n          if (error == null) {\n            return \"BokehJS is loading ...\";\n          } else {\n            return \"BokehJS failed to load.\";\n          }\n        } else {\n          const prefix = `BokehJS ${root.Bokeh.version}`;\n          if (error == null) {\n            return `${prefix} successfully loaded.`;\n          } else {\n            return `${prefix} <b>encountered errors</b> while loading and may not function as expected.`;\n          }\n        }\n      })();\n      el.innerHTML = html;\n\n      if (error != null) {\n        const wrapper = document.createElement(\"div\");\n        wrapper.style.overflow = \"auto\";\n        wrapper.style.height = \"5em\";\n        wrapper.style.resize = \"vertical\";\n        const content = document.createElement(\"div\");\n        content.style.fontFamily = \"monospace\";\n        content.style.whiteSpace = \"pre-wrap\";\n        content.style.backgroundColor = \"rgb(255, 221, 221)\";\n        content.textContent = error.stack ?? error.toString();\n        wrapper.append(content);\n        el.append(wrapper);\n      }\n    } else if (Date.now() < root._bokeh_timeout) {\n      setTimeout(() => display_loaded(error), 100);\n    }\n  }\n\n  function run_callbacks() {\n    try {\n      root._bokeh_onload_callbacks.forEach(function(callback) {\n        if (callback != null)\n          callback();\n      });\n    } finally {\n      delete root._bokeh_onload_callbacks\n    }\n    console.debug(\"Bokeh: all callbacks have finished\");\n  }\n\n  function load_libs(css_urls, js_urls, callback) {\n    if (css_urls == null) css_urls = [];\n    if (js_urls == null) js_urls = [];\n\n    root._bokeh_onload_callbacks.push(callback);\n    if (root._bokeh_is_loading > 0) {\n      console.debug(\"Bokeh: BokehJS is being loaded, scheduling callback at\", now());\n      return null;\n    }\n    if (js_urls == null || js_urls.length === 0) {\n      run_callbacks();\n      return null;\n    }\n    console.debug(\"Bokeh: BokehJS not loaded, scheduling load and callback at\", now());\n    root._bokeh_is_loading = css_urls.length + js_urls.length;\n\n    function on_load() {\n      root._bokeh_is_loading--;\n      if (root._bokeh_is_loading === 0) {\n        console.debug(\"Bokeh: all BokehJS libraries/stylesheets loaded\");\n        run_callbacks()\n      }\n    }\n\n    function on_error(url) {\n      console.error(\"failed to load \" + url);\n    }\n\n    for (let i = 0; i < css_urls.length; i++) {\n      const url = css_urls[i];\n      const element = document.createElement(\"link\");\n      element.onload = on_load;\n      element.onerror = on_error.bind(null, url);\n      element.rel = \"stylesheet\";\n      element.type = \"text/css\";\n      element.href = url;\n      console.debug(\"Bokeh: injecting link tag for BokehJS stylesheet: \", url);\n      document.body.appendChild(element);\n    }\n\n    for (let i = 0; i < js_urls.length; i++) {\n      const url = js_urls[i];\n      const element = document.createElement('script');\n      element.onload = on_load;\n      element.onerror = on_error.bind(null, url);\n      element.async = false;\n      element.src = url;\n      console.debug(\"Bokeh: injecting script tag for BokehJS library: \", url);\n      document.head.appendChild(element);\n    }\n  };\n\n  function inject_raw_css(css) {\n    const element = document.createElement(\"style\");\n    element.appendChild(document.createTextNode(css));\n    document.body.appendChild(element);\n  }\n\n  const js_urls = [\"https://cdn.bokeh.org/bokeh/release/bokeh-3.4.3.min.js\", \"https://cdn.bokeh.org/bokeh/release/bokeh-gl-3.4.3.min.js\", \"https://cdn.bokeh.org/bokeh/release/bokeh-widgets-3.4.3.min.js\", \"https://cdn.bokeh.org/bokeh/release/bokeh-tables-3.4.3.min.js\", \"https://cdn.bokeh.org/bokeh/release/bokeh-mathjax-3.4.3.min.js\"];\n  const css_urls = [];\n\n  const inline_js = [    function(Bokeh) {\n      Bokeh.set_log_level(\"info\");\n    },\nfunction(Bokeh) {\n    }\n  ];\n\n  function run_inline_js() {\n    if (root.Bokeh !== undefined || force === true) {\n      try {\n            for (let i = 0; i < inline_js.length; i++) {\n      inline_js[i].call(root, root.Bokeh);\n    }\n\n      } catch (error) {display_loaded(error);throw error;\n      }if (force === true) {\n        display_loaded();\n      }} else if (Date.now() < root._bokeh_timeout) {\n      setTimeout(run_inline_js, 100);\n    } else if (!root._bokeh_failed_load) {\n      console.log(\"Bokeh: BokehJS failed to load within specified timeout.\");\n      root._bokeh_failed_load = true;\n    } else if (force !== true) {\n      const cell = $(document.getElementById(\"a21f5d69-a6d3-4a5e-945a-ae0e406990ef\")).parents('.cell').data().cell;\n      cell.output_area.append_execute_result(NB_LOAD_WARNING)\n    }\n  }\n\n  if (root._bokeh_is_loading === 0) {\n    console.debug(\"Bokeh: BokehJS loaded, going straight to plotting\");\n    run_inline_js();\n  } else {\n    load_libs(css_urls, js_urls, function() {\n      console.debug(\"Bokeh: BokehJS plotting callback run at\", now());\n      run_inline_js();\n    });\n  }\n}(window));"
     },
     "metadata": {},
     "output_type": "display_data"
    },
    {
     "name": "stderr",
     "output_type": "stream",
     "text": [
      "BokehDeprecationWarning: 'circle() method with size value' was deprecated in Bokeh 3.4.0 and will be removed, use 'scatter(size=...) instead' instead.\n",
      "BokehDeprecationWarning: 'circle() method with size value' was deprecated in Bokeh 3.4.0 and will be removed, use 'scatter(size=...) instead' instead.\n",
      "BokehDeprecationWarning: 'circle() method with size value' was deprecated in Bokeh 3.4.0 and will be removed, use 'scatter(size=...) instead' instead.\n"
     ]
    },
    {
     "data": {
      "text/html": [
       "\n",
       "  <div id=\"c35ebb11-ff57-48ee-9dd6-b7955f873f7c\" data-root-id=\"p7696\" style=\"display: contents;\"></div>\n"
      ]
     },
     "metadata": {},
     "output_type": "display_data"
    },
    {
     "data": {
      "application/javascript": "(function(root) {\n  function embed_document(root) {\n  const docs_json = {\"a3a14c61-0c73-451e-ab25-688bb55b53ed\":{\"version\":\"3.4.3\",\"title\":\"Bokeh Application\",\"roots\":[{\"type\":\"object\",\"name\":\"Figure\",\"id\":\"p7696\",\"attributes\":{\"width\":800,\"height\":400,\"x_range\":{\"type\":\"object\",\"name\":\"DataRange1d\",\"id\":\"p7698\",\"attributes\":{\"start\":-0.7622,\"end\":8.3842}},\"y_range\":{\"type\":\"object\",\"name\":\"Range1d\",\"id\":\"p7705\",\"attributes\":{\"start\":-0.5,\"end\":5.75}},\"x_scale\":{\"type\":\"object\",\"name\":\"LinearScale\",\"id\":\"p7706\"},\"y_scale\":{\"type\":\"object\",\"name\":\"LinearScale\",\"id\":\"p7707\"},\"title\":{\"type\":\"object\",\"name\":\"Title\",\"id\":\"p7703\",\"attributes\":{\"text\":\"hvo_1.html\",\"text_color\":\"#5B5B5B\",\"text_font\":\"Helvetica\",\"text_font_size\":\"1.15em\"}},\"renderers\":[{\"type\":\"object\",\"name\":\"GlyphRenderer\",\"id\":\"p7738\",\"attributes\":{\"data_source\":{\"type\":\"object\",\"name\":\"ColumnDataSource\",\"id\":\"p7729\",\"attributes\":{\"selected\":{\"type\":\"object\",\"name\":\"Selection\",\"id\":\"p7730\",\"attributes\":{\"indices\":[],\"line_indices\":[]}},\"selection_policy\":{\"type\":\"object\",\"name\":\"UnionRenderers\",\"id\":\"p7731\"},\"data\":{\"type\":\"map\",\"entries\":[[\"start\",[-0.000492,-0.000492,0.491262,0.983,1.4747540000000001,1.967492,1.967492,2.4592460000000003,2.95,2.95,3.4415080000000002,3.9342460000000004,3.9342460000000004,4.426,4.916755,5.408507999999999,5.9012459999999995,5.9012459999999995,6.393,6.883755000000001,6.883755000000001,7.375508,7.375508,7.500476,7.621262]],[\"end\",[0.12200799999999999,0.12200799999999999,0.6137619999999999,1.1055,1.5972540000000002,2.089992,2.089992,2.5817460000000003,3.0725000000000002,3.0725000000000002,3.5640080000000003,4.056746,4.056746,4.5485,5.039255,5.531007999999999,6.023745999999999,6.023745999999999,6.515499999999999,7.006255,7.006255,7.498008,7.498008,7.6229759999999995,7.743761999999999]],[\"instrument\",[\"stream_0\",\"stream_2\",\"stream_2\",\"stream_2\",\"stream_2\",\"stream_0\",\"stream_2\",\"stream_2\",\"stream_0\",\"stream_2\",\"stream_2\",\"stream_0\",\"stream_2\",\"stream_2\",\"stream_2\",\"stream_2\",\"stream_0\",\"stream_2\",\"stream_2\",\"stream_0\",\"stream_2\",\"stream_1\",\"stream_2\",\"stream_1\",\"stream_2\"]],[\"voice_index\",[0,2,2,2,2,0,2,2,0,2,2,0,2,2,2,2,0,2,2,0,2,1,2,1,2]],[\"midi\",[36,42,42,42,42,36,42,42,36,42,42,36,42,42,42,42,36,42,42,36,42,38,42,38,42]],[\"velocity\",[0.866,0.614,0.409,0.528,0.449,0.866,0.504,0.449,0.866,0.551,0.551,0.866,0.402,0.394,0.575,0.449,0.866,0.504,0.394,0.866,0.575,0.118,0.465,0.079,0.236]],[\"offset\",[-0.002,-0.002,-0.003,0.0,-0.001,0.002,0.002,0.001,0.0,0.0,-0.002,0.001,0.001,0.0,-0.001,-0.002,0.001,0.001,0.0,-0.001,-0.001,-0.002,-0.002,-0.494,-0.003]],[\"offset_sec\",[-0.0,-0.0,-0.001,0.0,-0.0,0.0,0.0,0.0,0.0,0.0,-0.0,0.0,0.0,0.0,-0.0,-0.0,0.0,0.0,0.0,-0.0,-0.0,-0.0,-0.0,-0.122,-0.001]],[\"grid_line\",[0,0,2,4,6,8,8,10,12,12,14,16,16,18,20,22,24,24,26,28,28,30,30,31,31]],[\"top\",{\"type\":\"ndarray\",\"array\":{\"type\":\"bytes\",\"data\":\"mpmZmZmZyT+amZmZmZkBQJqZmZmZmQFAmpmZmZmZAUCamZmZmZkBQJqZmZmZmck/mpmZmZmZAUCamZmZmZkBQJqZmZmZmck/mpmZmZmZAUCamZmZmZkBQJqZmZmZmck/mpmZmZmZAUCamZmZmZkBQJqZmZmZmQFAmpmZmZmZAUCamZmZmZnJP5qZmZmZmQFAmpmZmZmZAUCamZmZmZnJP5qZmZmZmQFAMzMzMzMz8z+amZmZmZkBQDMzMzMzM/M/mpmZmZmZAUA=\"},\"shape\":[25],\"dtype\":\"float64\",\"order\":\"little\"}],[\"bottom\",{\"type\":\"ndarray\",\"array\":{\"type\":\"bytes\",\"data\":\"mpmZmZmZyb/NzMzMzMz8P83MzMzMzPw/zczMzMzM/D/NzMzMzMz8P5qZmZmZmcm/zczMzMzM/D/NzMzMzMz8P5qZmZmZmcm/zczMzMzM/D/NzMzMzMz8P5qZmZmZmcm/zczMzMzM/D/NzMzMzMz8P83MzMzMzPw/zczMzMzM/D+amZmZmZnJv83MzMzMzPw/zczMzMzM/D+amZmZmZnJv83MzMzMzPw/mpmZmZmZ6T/NzMzMzMz8P5qZmZmZmek/zczMzMzM/D8=\"},\"shape\":[25],\"dtype\":\"float64\",\"order\":\"little\"}]]}}},\"view\":{\"type\":\"object\",\"name\":\"CDSView\",\"id\":\"p7739\",\"attributes\":{\"filter\":{\"type\":\"object\",\"name\":\"AllIndices\",\"id\":\"p7740\"}}},\"glyph\":{\"type\":\"object\",\"name\":\"Quad\",\"id\":\"p7735\",\"attributes\":{\"left\":{\"type\":\"field\",\"field\":\"start\"},\"right\":{\"type\":\"field\",\"field\":\"end\"},\"bottom\":{\"type\":\"field\",\"field\":\"bottom\"},\"top\":{\"type\":\"field\",\"field\":\"top\"},\"line_color\":{\"type\":\"value\",\"value\":\"grey\"},\"fill_color\":{\"type\":\"value\",\"value\":\"grey\"},\"fill_alpha\":{\"type\":\"field\",\"field\":\"velocity\"}}},\"nonselection_glyph\":{\"type\":\"object\",\"name\":\"Quad\",\"id\":\"p7736\",\"attributes\":{\"left\":{\"type\":\"field\",\"field\":\"start\"},\"right\":{\"type\":\"field\",\"field\":\"end\"},\"bottom\":{\"type\":\"field\",\"field\":\"bottom\"},\"top\":{\"type\":\"field\",\"field\":\"top\"},\"line_color\":{\"type\":\"value\",\"value\":\"grey\"},\"line_alpha\":{\"type\":\"value\",\"value\":0.1},\"fill_color\":{\"type\":\"value\",\"value\":\"grey\"},\"fill_alpha\":{\"type\":\"value\",\"value\":0.1},\"hatch_alpha\":{\"type\":\"value\",\"value\":0.1}}},\"muted_glyph\":{\"type\":\"object\",\"name\":\"Quad\",\"id\":\"p7737\",\"attributes\":{\"left\":{\"type\":\"field\",\"field\":\"start\"},\"right\":{\"type\":\"field\",\"field\":\"end\"},\"bottom\":{\"type\":\"field\",\"field\":\"bottom\"},\"top\":{\"type\":\"field\",\"field\":\"top\"},\"line_color\":{\"type\":\"value\",\"value\":\"grey\"},\"line_alpha\":{\"type\":\"value\",\"value\":0.2},\"fill_color\":{\"type\":\"value\",\"value\":\"grey\"},\"fill_alpha\":{\"type\":\"value\",\"value\":0.2},\"hatch_alpha\":{\"type\":\"value\",\"value\":0.2}}}}},{\"type\":\"object\",\"name\":\"GlyphRenderer\",\"id\":\"p7789\",\"attributes\":{\"data_source\":{\"type\":\"object\",\"name\":\"ColumnDataSource\",\"id\":\"p7780\",\"attributes\":{\"selected\":{\"type\":\"object\",\"name\":\"Selection\",\"id\":\"p7781\",\"attributes\":{\"indices\":[],\"line_indices\":[]}},\"selection_policy\":{\"type\":\"object\",\"name\":\"UnionRenderers\",\"id\":\"p7782\"},\"data\":{\"type\":\"map\",\"entries\":[[\"x\",[0.0]],[\"y\",[4.5]],[\"tempo\",[61.01002089593216]],[\"grid_index\",[0]]]}}},\"view\":{\"type\":\"object\",\"name\":\"CDSView\",\"id\":\"p7790\",\"attributes\":{\"filter\":{\"type\":\"object\",\"name\":\"AllIndices\",\"id\":\"p7791\"}}},\"glyph\":{\"type\":\"object\",\"name\":\"Scatter\",\"id\":\"p7786\",\"attributes\":{\"x\":{\"type\":\"field\",\"field\":\"x\"},\"y\":{\"type\":\"field\",\"field\":\"y\"},\"size\":{\"type\":\"value\",\"value\":10},\"line_color\":{\"type\":\"value\",\"value\":\"#440154\"},\"fill_color\":{\"type\":\"value\",\"value\":\"#440154\"}}},\"nonselection_glyph\":{\"type\":\"object\",\"name\":\"Scatter\",\"id\":\"p7787\",\"attributes\":{\"x\":{\"type\":\"field\",\"field\":\"x\"},\"y\":{\"type\":\"field\",\"field\":\"y\"},\"size\":{\"type\":\"value\",\"value\":10},\"line_color\":{\"type\":\"value\",\"value\":\"#440154\"},\"line_alpha\":{\"type\":\"value\",\"value\":0.1},\"fill_color\":{\"type\":\"value\",\"value\":\"#440154\"},\"fill_alpha\":{\"type\":\"value\",\"value\":0.1},\"hatch_alpha\":{\"type\":\"value\",\"value\":0.1}}},\"muted_glyph\":{\"type\":\"object\",\"name\":\"Scatter\",\"id\":\"p7788\",\"attributes\":{\"x\":{\"type\":\"field\",\"field\":\"x\"},\"y\":{\"type\":\"field\",\"field\":\"y\"},\"size\":{\"type\":\"value\",\"value\":10},\"line_color\":{\"type\":\"value\",\"value\":\"#440154\"},\"line_alpha\":{\"type\":\"value\",\"value\":0.2},\"fill_color\":{\"type\":\"value\",\"value\":\"#440154\"},\"fill_alpha\":{\"type\":\"value\",\"value\":0.2},\"hatch_alpha\":{\"type\":\"value\",\"value\":0.2}}}}},{\"type\":\"object\",\"name\":\"GlyphRenderer\",\"id\":\"p7803\",\"attributes\":{\"data_source\":{\"type\":\"object\",\"name\":\"ColumnDataSource\",\"id\":\"p7794\",\"attributes\":{\"selected\":{\"type\":\"object\",\"name\":\"Selection\",\"id\":\"p7795\",\"attributes\":{\"indices\":[],\"line_indices\":[]}},\"selection_policy\":{\"type\":\"object\",\"name\":\"UnionRenderers\",\"id\":\"p7796\"},\"data\":{\"type\":\"map\",\"entries\":[[\"x\",[0.0]],[\"y\",[4]],[\"Numerator\",[4]],[\"Denominator\",[4]],[\"grid_index\",[0]]]}}},\"view\":{\"type\":\"object\",\"name\":\"CDSView\",\"id\":\"p7804\",\"attributes\":{\"filter\":{\"type\":\"object\",\"name\":\"AllIndices\",\"id\":\"p7805\"}}},\"glyph\":{\"type\":\"object\",\"name\":\"Scatter\",\"id\":\"p7800\",\"attributes\":{\"x\":{\"type\":\"field\",\"field\":\"x\"},\"y\":{\"type\":\"field\",\"field\":\"y\"},\"size\":{\"type\":\"value\",\"value\":10},\"line_color\":{\"type\":\"value\",\"value\":\"#70CE56\"},\"fill_color\":{\"type\":\"value\",\"value\":\"#70CE56\"}}},\"nonselection_glyph\":{\"type\":\"object\",\"name\":\"Scatter\",\"id\":\"p7801\",\"attributes\":{\"x\":{\"type\":\"field\",\"field\":\"x\"},\"y\":{\"type\":\"field\",\"field\":\"y\"},\"size\":{\"type\":\"value\",\"value\":10},\"line_color\":{\"type\":\"value\",\"value\":\"#70CE56\"},\"line_alpha\":{\"type\":\"value\",\"value\":0.1},\"fill_color\":{\"type\":\"value\",\"value\":\"#70CE56\"},\"fill_alpha\":{\"type\":\"value\",\"value\":0.1},\"hatch_alpha\":{\"type\":\"value\",\"value\":0.1}}},\"muted_glyph\":{\"type\":\"object\",\"name\":\"Scatter\",\"id\":\"p7802\",\"attributes\":{\"x\":{\"type\":\"field\",\"field\":\"x\"},\"y\":{\"type\":\"field\",\"field\":\"y\"},\"size\":{\"type\":\"value\",\"value\":10},\"line_color\":{\"type\":\"value\",\"value\":\"#70CE56\"},\"line_alpha\":{\"type\":\"value\",\"value\":0.2},\"fill_color\":{\"type\":\"value\",\"value\":\"#70CE56\"},\"fill_alpha\":{\"type\":\"value\",\"value\":0.2},\"hatch_alpha\":{\"type\":\"value\",\"value\":0.2}}}}},{\"type\":\"object\",\"name\":\"GlyphRenderer\",\"id\":\"p7817\",\"attributes\":{\"data_source\":{\"type\":\"object\",\"name\":\"ColumnDataSource\",\"id\":\"p7808\",\"attributes\":{\"selected\":{\"type\":\"object\",\"name\":\"Selection\",\"id\":\"p7809\",\"attributes\":{\"indices\":[],\"line_indices\":[]}},\"selection_policy\":{\"type\":\"object\",\"name\":\"UnionRenderers\",\"id\":\"p7810\"},\"data\":{\"type\":\"map\",\"entries\":[[\"x\",[0.0]],[\"y\",[3.5]],[\"filename\",[\"ad2fc4b3d93f42de10416cac09430f2c_brass.mid\"]],[\"main_file\",[\"ad2fc4b3d93f42de10416cac09430f2c\"]],[\"instrument\",[\"brass\"]],[\"source\",[\"Lakh MIDI\"]],[\"stream_0\",[\"bass\"]],[\"stream_1\",[\"drum\"]],[\"stream_2\",[\"piano\"]],[\"stream_3\",[\"brass\"]],[\"start_bar\",[2]]]}}},\"view\":{\"type\":\"object\",\"name\":\"CDSView\",\"id\":\"p7818\",\"attributes\":{\"filter\":{\"type\":\"object\",\"name\":\"AllIndices\",\"id\":\"p7819\"}}},\"glyph\":{\"type\":\"object\",\"name\":\"Scatter\",\"id\":\"p7814\",\"attributes\":{\"x\":{\"type\":\"field\",\"field\":\"x\"},\"y\":{\"type\":\"field\",\"field\":\"y\"},\"size\":{\"type\":\"value\",\"value\":10},\"line_color\":{\"type\":\"value\",\"value\":\"#1EA087\"},\"fill_color\":{\"type\":\"value\",\"value\":\"#1EA087\"}}},\"nonselection_glyph\":{\"type\":\"object\",\"name\":\"Scatter\",\"id\":\"p7815\",\"attributes\":{\"x\":{\"type\":\"field\",\"field\":\"x\"},\"y\":{\"type\":\"field\",\"field\":\"y\"},\"size\":{\"type\":\"value\",\"value\":10},\"line_color\":{\"type\":\"value\",\"value\":\"#1EA087\"},\"line_alpha\":{\"type\":\"value\",\"value\":0.1},\"fill_color\":{\"type\":\"value\",\"value\":\"#1EA087\"},\"fill_alpha\":{\"type\":\"value\",\"value\":0.1},\"hatch_alpha\":{\"type\":\"value\",\"value\":0.1}}},\"muted_glyph\":{\"type\":\"object\",\"name\":\"Scatter\",\"id\":\"p7816\",\"attributes\":{\"x\":{\"type\":\"field\",\"field\":\"x\"},\"y\":{\"type\":\"field\",\"field\":\"y\"},\"size\":{\"type\":\"value\",\"value\":10},\"line_color\":{\"type\":\"value\",\"value\":\"#1EA087\"},\"line_alpha\":{\"type\":\"value\",\"value\":0.2},\"fill_color\":{\"type\":\"value\",\"value\":\"#1EA087\"},\"fill_alpha\":{\"type\":\"value\",\"value\":0.2},\"hatch_alpha\":{\"type\":\"value\",\"value\":0.2}}}}}],\"toolbar\":{\"type\":\"object\",\"name\":\"Toolbar\",\"id\":\"p7704\",\"attributes\":{\"tools\":[{\"type\":\"object\",\"name\":\"PanTool\",\"id\":\"p7718\"},{\"type\":\"object\",\"name\":\"WheelZoomTool\",\"id\":\"p7719\",\"attributes\":{\"renderers\":\"auto\"}},{\"type\":\"object\",\"name\":\"BoxZoomTool\",\"id\":\"p7720\",\"attributes\":{\"overlay\":{\"type\":\"object\",\"name\":\"BoxAnnotation\",\"id\":\"p7721\",\"attributes\":{\"syncable\":false,\"level\":\"overlay\",\"visible\":false,\"left\":{\"type\":\"number\",\"value\":\"nan\"},\"right\":{\"type\":\"number\",\"value\":\"nan\"},\"top\":{\"type\":\"number\",\"value\":\"nan\"},\"bottom\":{\"type\":\"number\",\"value\":\"nan\"},\"left_units\":\"canvas\",\"right_units\":\"canvas\",\"top_units\":\"canvas\",\"bottom_units\":\"canvas\",\"line_color\":\"black\",\"line_alpha\":1.0,\"line_width\":2,\"line_dash\":[4,4],\"fill_color\":\"lightgrey\",\"fill_alpha\":0.5}}}},{\"type\":\"object\",\"name\":\"SaveTool\",\"id\":\"p7726\"},{\"type\":\"object\",\"name\":\"ResetTool\",\"id\":\"p7727\"},{\"type\":\"object\",\"name\":\"HelpTool\",\"id\":\"p7728\"},{\"type\":\"object\",\"name\":\"HoverTool\",\"id\":\"p7743\",\"attributes\":{\"renderers\":[{\"id\":\"p7738\"}],\"tooltips\":[[\"start\",\"@start\"],[\"end\",\"@end\"],[\"instrument\",\"@instrument\"],[\"voice_index\",\"@voice_index\"],[\"midi\",\"@midi\"],[\"velocity\",\"@velocity\"],[\"offset\",\"@offset\"],[\"offset_sec\",\"@offset_sec\"],[\"grid_line\",\"@grid_line\"]]}},{\"type\":\"object\",\"name\":\"HoverTool\",\"id\":\"p7793\",\"attributes\":{\"renderers\":[{\"id\":\"p7789\"}],\"tooltips\":[[\"tempo\",\"@tempo\"],[\"grid_index\",\"@grid_index\"]]}},{\"type\":\"object\",\"name\":\"HoverTool\",\"id\":\"p7807\",\"attributes\":{\"renderers\":[{\"id\":\"p7803\"}],\"tooltips\":[[\"Numerator\",\"@Numerator\"],[\"Denominator\",\"@Denominator\"],[\"grid_index\",\"@grid_index\"]]}},{\"type\":\"object\",\"name\":\"HoverTool\",\"id\":\"p7821\",\"attributes\":{\"renderers\":[{\"id\":\"p7817\"}],\"tooltips\":[[\"filename\",\"@filename\"],[\"main_file\",\"@main_file\"],[\"instrument\",\"@instrument\"],[\"source\",\"@source\"],[\"stream_0\",\"@stream_0\"],[\"stream_1\",\"@stream_1\"],[\"stream_2\",\"@stream_2\"],[\"stream_3\",\"@stream_3\"],[\"start_bar\",\"@start_bar\"]]}}]}},\"left\":[{\"type\":\"object\",\"name\":\"LinearAxis\",\"id\":\"p7713\",\"attributes\":{\"ticker\":{\"type\":\"object\",\"name\":\"FixedTicker\",\"id\":\"p7744\",\"attributes\":{\"ticks\":[0,1,2,3],\"minor_ticks\":[]}},\"formatter\":{\"type\":\"object\",\"name\":\"BasicTickFormatter\",\"id\":\"p7715\"},\"axis_label\":\"Instrument\",\"axis_label_standoff\":10,\"axis_label_text_color\":\"#5B5B5B\",\"axis_label_text_font\":\"Helvetica\",\"axis_label_text_font_size\":\"1.25em\",\"axis_label_text_font_style\":\"normal\",\"major_label_overrides\":{\"type\":\"map\",\"entries\":[[0,\"stream_0\"],[1,\"stream_1\"],[2,\"stream_2\"],[3,\"stream_3\"]]},\"major_label_policy\":{\"type\":\"object\",\"name\":\"AllLabels\",\"id\":\"p7716\"},\"major_label_text_color\":\"#5B5B5B\",\"major_label_text_font\":\"Helvetica\",\"major_label_text_font_size\":\"1.025em\",\"axis_line_color\":\"#5B5B5B\",\"axis_line_alpha\":0,\"major_tick_line_color\":\"#5B5B5B\",\"major_tick_line_alpha\":0,\"minor_tick_line_color\":\"#5B5B5B\",\"minor_tick_line_alpha\":0}}],\"right\":[{\"type\":\"object\",\"name\":\"Legend\",\"id\":\"p7741\",\"attributes\":{\"border_line_alpha\":0,\"background_fill_alpha\":0.25,\"click_policy\":\"hide\",\"label_text_color\":\"#5B5B5B\",\"label_text_font\":\"Helvetica\",\"label_text_font_size\":\"1.025em\",\"label_standoff\":8,\"glyph_width\":15,\"spacing\":8,\"items\":[{\"type\":\"object\",\"name\":\"LegendItem\",\"id\":\"p7742\",\"attributes\":{\"label\":{\"type\":\"value\",\"value\":\"Piano Roll\"},\"renderers\":[{\"id\":\"p7738\"}]}},{\"type\":\"object\",\"name\":\"LegendItem\",\"id\":\"p7792\",\"attributes\":{\"label\":{\"type\":\"value\",\"value\":\"Tempo\"},\"renderers\":[{\"id\":\"p7789\"}]}},{\"type\":\"object\",\"name\":\"LegendItem\",\"id\":\"p7806\",\"attributes\":{\"label\":{\"type\":\"value\",\"value\":\"Time Signature\"},\"renderers\":[{\"id\":\"p7803\"}]}},{\"type\":\"object\",\"name\":\"LegendItem\",\"id\":\"p7820\",\"attributes\":{\"label\":{\"type\":\"value\",\"value\":\"Metadata\"},\"renderers\":[{\"id\":\"p7817\"}]}}]}}],\"below\":[{\"type\":\"object\",\"name\":\"LinearAxis\",\"id\":\"p7708\",\"attributes\":{\"ticker\":{\"type\":\"object\",\"name\":\"FixedTicker\",\"id\":\"p7769\",\"attributes\":{\"ticks\":[0.0,0.98,1.97,2.95,3.93,4.92,5.9,6.88],\"minor_ticks\":[]}},\"formatter\":{\"type\":\"object\",\"name\":\"BasicTickFormatter\",\"id\":\"p7710\"},\"axis_label\":\"Time (sec)\",\"axis_label_standoff\":10,\"axis_label_text_color\":\"#5B5B5B\",\"axis_label_text_font\":\"Helvetica\",\"axis_label_text_font_size\":\"1.25em\",\"axis_label_text_font_style\":\"normal\",\"major_label_orientation\":1.57,\"major_label_policy\":{\"type\":\"object\",\"name\":\"AllLabels\",\"id\":\"p7711\"},\"major_label_text_color\":\"#5B5B5B\",\"major_label_text_font\":\"Helvetica\",\"major_label_text_font_size\":\"1.025em\",\"axis_line_color\":\"#5B5B5B\",\"axis_line_alpha\":0,\"major_tick_line_color\":\"#5B5B5B\",\"major_tick_line_alpha\":0,\"minor_tick_line_color\":\"#5B5B5B\",\"minor_tick_line_alpha\":0}}],\"center\":[{\"type\":\"object\",\"name\":\"Grid\",\"id\":\"p7712\",\"attributes\":{\"axis\":{\"id\":\"p7708\"},\"grid_line_color\":null}},{\"type\":\"object\",\"name\":\"Grid\",\"id\":\"p7717\",\"attributes\":{\"dimension\":1,\"axis\":{\"id\":\"p7713\"},\"grid_line_color\":null}},{\"id\":\"p7741\"},{\"type\":\"object\",\"name\":\"Span\",\"id\":\"p7745\",\"attributes\":{\"location\":0.246,\"dimension\":\"height\",\"line_width\":0.1}},{\"type\":\"object\",\"name\":\"Span\",\"id\":\"p7746\",\"attributes\":{\"location\":0.492,\"dimension\":\"height\",\"line_width\":0.1}},{\"type\":\"object\",\"name\":\"Span\",\"id\":\"p7747\",\"attributes\":{\"location\":0.738,\"dimension\":\"height\",\"line_width\":0.1}},{\"type\":\"object\",\"name\":\"Span\",\"id\":\"p7748\",\"attributes\":{\"location\":1.229,\"dimension\":\"height\",\"line_width\":0.1}},{\"type\":\"object\",\"name\":\"Span\",\"id\":\"p7749\",\"attributes\":{\"location\":1.475,\"dimension\":\"height\",\"line_width\":0.1}},{\"type\":\"object\",\"name\":\"Span\",\"id\":\"p7750\",\"attributes\":{\"location\":1.721,\"dimension\":\"height\",\"line_width\":0.1}},{\"type\":\"object\",\"name\":\"Span\",\"id\":\"p7751\",\"attributes\":{\"location\":2.213,\"dimension\":\"height\",\"line_width\":0.1}},{\"type\":\"object\",\"name\":\"Span\",\"id\":\"p7752\",\"attributes\":{\"location\":2.459,\"dimension\":\"height\",\"line_width\":0.1}},{\"type\":\"object\",\"name\":\"Span\",\"id\":\"p7753\",\"attributes\":{\"location\":2.705,\"dimension\":\"height\",\"line_width\":0.1}},{\"type\":\"object\",\"name\":\"Span\",\"id\":\"p7754\",\"attributes\":{\"location\":3.196,\"dimension\":\"height\",\"line_width\":0.1}},{\"type\":\"object\",\"name\":\"Span\",\"id\":\"p7755\",\"attributes\":{\"location\":3.442,\"dimension\":\"height\",\"line_width\":0.1}},{\"type\":\"object\",\"name\":\"Span\",\"id\":\"p7756\",\"attributes\":{\"location\":3.688,\"dimension\":\"height\",\"line_width\":0.1}},{\"type\":\"object\",\"name\":\"Span\",\"id\":\"p7757\",\"attributes\":{\"location\":4.18,\"dimension\":\"height\",\"line_width\":0.1}},{\"type\":\"object\",\"name\":\"Span\",\"id\":\"p7758\",\"attributes\":{\"location\":4.426,\"dimension\":\"height\",\"line_width\":0.1}},{\"type\":\"object\",\"name\":\"Span\",\"id\":\"p7759\",\"attributes\":{\"location\":4.672,\"dimension\":\"height\",\"line_width\":0.1}},{\"type\":\"object\",\"name\":\"Span\",\"id\":\"p7760\",\"attributes\":{\"location\":5.163,\"dimension\":\"height\",\"line_width\":0.1}},{\"type\":\"object\",\"name\":\"Span\",\"id\":\"p7761\",\"attributes\":{\"location\":5.409,\"dimension\":\"height\",\"line_width\":0.1}},{\"type\":\"object\",\"name\":\"Span\",\"id\":\"p7762\",\"attributes\":{\"location\":5.655,\"dimension\":\"height\",\"line_width\":0.1}},{\"type\":\"object\",\"name\":\"Span\",\"id\":\"p7763\",\"attributes\":{\"location\":6.147,\"dimension\":\"height\",\"line_width\":0.1}},{\"type\":\"object\",\"name\":\"Span\",\"id\":\"p7764\",\"attributes\":{\"location\":6.393,\"dimension\":\"height\",\"line_width\":0.1}},{\"type\":\"object\",\"name\":\"Span\",\"id\":\"p7765\",\"attributes\":{\"location\":6.639,\"dimension\":\"height\",\"line_width\":0.1}},{\"type\":\"object\",\"name\":\"Span\",\"id\":\"p7766\",\"attributes\":{\"location\":7.13,\"dimension\":\"height\",\"line_width\":0.1}},{\"type\":\"object\",\"name\":\"Span\",\"id\":\"p7767\",\"attributes\":{\"location\":7.376,\"dimension\":\"height\",\"line_width\":0.1}},{\"type\":\"object\",\"name\":\"Span\",\"id\":\"p7768\",\"attributes\":{\"location\":7.622,\"dimension\":\"height\",\"line_width\":0.1}},{\"type\":\"object\",\"name\":\"Span\",\"id\":\"p7770\",\"attributes\":{\"location\":0.0,\"dimension\":\"height\",\"line_width\":0.5}},{\"type\":\"object\",\"name\":\"Span\",\"id\":\"p7771\",\"attributes\":{\"location\":0.983,\"dimension\":\"height\",\"line_width\":0.5}},{\"type\":\"object\",\"name\":\"Span\",\"id\":\"p7772\",\"attributes\":{\"location\":1.967,\"dimension\":\"height\",\"line_width\":0.5}},{\"type\":\"object\",\"name\":\"Span\",\"id\":\"p7773\",\"attributes\":{\"location\":2.95,\"dimension\":\"height\",\"line_width\":0.5}},{\"type\":\"object\",\"name\":\"Span\",\"id\":\"p7774\",\"attributes\":{\"location\":3.934,\"dimension\":\"height\",\"line_width\":0.5}},{\"type\":\"object\",\"name\":\"Span\",\"id\":\"p7775\",\"attributes\":{\"location\":4.917,\"dimension\":\"height\",\"line_width\":0.5}},{\"type\":\"object\",\"name\":\"Span\",\"id\":\"p7776\",\"attributes\":{\"location\":5.901,\"dimension\":\"height\",\"line_width\":0.5}},{\"type\":\"object\",\"name\":\"Span\",\"id\":\"p7777\",\"attributes\":{\"location\":6.884,\"dimension\":\"height\",\"line_width\":0.5}},{\"type\":\"object\",\"name\":\"Span\",\"id\":\"p7778\",\"attributes\":{\"location\":0.0,\"dimension\":\"height\",\"line_width\":2}},{\"type\":\"object\",\"name\":\"Span\",\"id\":\"p7779\",\"attributes\":{\"location\":3.934,\"dimension\":\"height\",\"line_width\":2}}]}}]}};\n  const render_items = [{\"docid\":\"a3a14c61-0c73-451e-ab25-688bb55b53ed\",\"roots\":{\"p7696\":\"c35ebb11-ff57-48ee-9dd6-b7955f873f7c\"},\"root_ids\":[\"p7696\"]}];\n  void root.Bokeh.embed.embed_items_notebook(docs_json, render_items);\n  }\n  if (root.Bokeh !== undefined) {\n    embed_document(root);\n  } else {\n    let attempts = 0;\n    const timer = setInterval(function(root) {\n      if (root.Bokeh !== undefined) {\n        clearInterval(timer);\n        embed_document(root);\n      } else {\n        attempts++;\n        if (attempts > 100) {\n          clearInterval(timer);\n          console.log(\"Bokeh: ERROR: Unable to run BokehJS code because BokehJS library is missing\");\n        }\n      }\n    }, 10, root)\n  }\n})(window);",
      "application/vnd.bokehjs_exec.v0+json": ""
     },
     "metadata": {
      "application/vnd.bokehjs_exec.v0+json": {
       "id": "p7696"
      }
     },
     "output_type": "display_data"
    },
    {
     "data": {
      "text/plain": [
       "figure(id='p7696', ...)"
      ],
      "text/html": [
       "<div style=\"display: table;\"><div style=\"display: table-row;\"><div style=\"display: table-cell;\"><b title=\"bokeh.plotting._figure.figure\">figure</b>(</div><div style=\"display: table-cell;\">id&nbsp;=&nbsp;'p7696', <span id=\"p7825\" style=\"cursor: pointer;\">&hellip;)</span></div></div><div class=\"p7824\" style=\"display: none;\"><div style=\"display: table-cell;\"></div><div style=\"display: table-cell;\">above&nbsp;=&nbsp;[],</div></div><div class=\"p7824\" style=\"display: none;\"><div style=\"display: table-cell;\"></div><div style=\"display: table-cell;\">align&nbsp;=&nbsp;'auto',</div></div><div class=\"p7824\" style=\"display: none;\"><div style=\"display: table-cell;\"></div><div style=\"display: table-cell;\">aspect_ratio&nbsp;=&nbsp;None,</div></div><div class=\"p7824\" style=\"display: none;\"><div style=\"display: table-cell;\"></div><div style=\"display: table-cell;\">aspect_scale&nbsp;=&nbsp;1,</div></div><div class=\"p7824\" style=\"display: none;\"><div style=\"display: table-cell;\"></div><div style=\"display: table-cell;\">attribution&nbsp;=&nbsp;[],</div></div><div class=\"p7824\" style=\"display: none;\"><div style=\"display: table-cell;\"></div><div style=\"display: table-cell;\">background_fill_alpha&nbsp;=&nbsp;1.0,</div></div><div class=\"p7824\" style=\"display: none;\"><div style=\"display: table-cell;\"></div><div style=\"display: table-cell;\">background_fill_color&nbsp;=&nbsp;'#ffffff',</div></div><div class=\"p7824\" style=\"display: none;\"><div style=\"display: table-cell;\"></div><div style=\"display: table-cell;\">below&nbsp;=&nbsp;[LinearAxis(id='p7708', ...)],</div></div><div class=\"p7824\" style=\"display: none;\"><div style=\"display: table-cell;\"></div><div style=\"display: table-cell;\">border_fill_alpha&nbsp;=&nbsp;1.0,</div></div><div class=\"p7824\" style=\"display: none;\"><div style=\"display: table-cell;\"></div><div style=\"display: table-cell;\">border_fill_color&nbsp;=&nbsp;'#ffffff',</div></div><div class=\"p7824\" style=\"display: none;\"><div style=\"display: table-cell;\"></div><div style=\"display: table-cell;\">center&nbsp;=&nbsp;[Grid(id='p7712', ...), Grid(id='p7717', ...), Legend(id='p7741', ...), Span(id='p7745', ...), Span(id='p7746', ...), Span(id='p7747', ...), Span(id='p7748', ...), Span(id='p7749', ...), Span(id='p7750', ...), Span(id='p7751', ...), Span(id='p7752', ...), Span(id='p7753', ...), Span(id='p7754', ...), Span(id='p7755', ...), Span(id='p7756', ...), Span(id='p7757', ...), Span(id='p7758', ...), Span(id='p7759', ...), Span(id='p7760', ...), Span(id='p7761', ...), Span(id='p7762', ...), Span(id='p7763', ...), Span(id='p7764', ...), Span(id='p7765', ...), Span(id='p7766', ...), Span(id='p7767', ...), Span(id='p7768', ...), Span(id='p7770', ...), Span(id='p7771', ...), Span(id='p7772', ...), Span(id='p7773', ...), Span(id='p7774', ...), Span(id='p7775', ...), Span(id='p7776', ...), Span(id='p7777', ...), Span(id='p7778', ...), Span(id='p7779', ...)],</div></div><div class=\"p7824\" style=\"display: none;\"><div style=\"display: table-cell;\"></div><div style=\"display: table-cell;\">context_menu&nbsp;=&nbsp;None,</div></div><div class=\"p7824\" style=\"display: none;\"><div style=\"display: table-cell;\"></div><div style=\"display: table-cell;\">css_classes&nbsp;=&nbsp;[],</div></div><div class=\"p7824\" style=\"display: none;\"><div style=\"display: table-cell;\"></div><div style=\"display: table-cell;\">css_variables&nbsp;=&nbsp;{},</div></div><div class=\"p7824\" style=\"display: none;\"><div style=\"display: table-cell;\"></div><div style=\"display: table-cell;\">disabled&nbsp;=&nbsp;False,</div></div><div class=\"p7824\" style=\"display: none;\"><div style=\"display: table-cell;\"></div><div style=\"display: table-cell;\">elements&nbsp;=&nbsp;[],</div></div><div class=\"p7824\" style=\"display: none;\"><div style=\"display: table-cell;\"></div><div style=\"display: table-cell;\">extra_x_ranges&nbsp;=&nbsp;{},</div></div><div class=\"p7824\" style=\"display: none;\"><div style=\"display: table-cell;\"></div><div style=\"display: table-cell;\">extra_x_scales&nbsp;=&nbsp;{},</div></div><div class=\"p7824\" style=\"display: none;\"><div style=\"display: table-cell;\"></div><div style=\"display: table-cell;\">extra_y_ranges&nbsp;=&nbsp;{},</div></div><div class=\"p7824\" style=\"display: none;\"><div style=\"display: table-cell;\"></div><div style=\"display: table-cell;\">extra_y_scales&nbsp;=&nbsp;{},</div></div><div class=\"p7824\" style=\"display: none;\"><div style=\"display: table-cell;\"></div><div style=\"display: table-cell;\">flow_mode&nbsp;=&nbsp;'block',</div></div><div class=\"p7824\" style=\"display: none;\"><div style=\"display: table-cell;\"></div><div style=\"display: table-cell;\">frame_align&nbsp;=&nbsp;True,</div></div><div class=\"p7824\" style=\"display: none;\"><div style=\"display: table-cell;\"></div><div style=\"display: table-cell;\">frame_height&nbsp;=&nbsp;None,</div></div><div class=\"p7824\" style=\"display: none;\"><div style=\"display: table-cell;\"></div><div style=\"display: table-cell;\">frame_width&nbsp;=&nbsp;None,</div></div><div class=\"p7824\" style=\"display: none;\"><div style=\"display: table-cell;\"></div><div style=\"display: table-cell;\">height&nbsp;=&nbsp;400,</div></div><div class=\"p7824\" style=\"display: none;\"><div style=\"display: table-cell;\"></div><div style=\"display: table-cell;\">height_policy&nbsp;=&nbsp;'auto',</div></div><div class=\"p7824\" style=\"display: none;\"><div style=\"display: table-cell;\"></div><div style=\"display: table-cell;\">hidpi&nbsp;=&nbsp;True,</div></div><div class=\"p7824\" style=\"display: none;\"><div style=\"display: table-cell;\"></div><div style=\"display: table-cell;\">hold_render&nbsp;=&nbsp;False,</div></div><div class=\"p7824\" style=\"display: none;\"><div style=\"display: table-cell;\"></div><div style=\"display: table-cell;\">js_event_callbacks&nbsp;=&nbsp;{},</div></div><div class=\"p7824\" style=\"display: none;\"><div style=\"display: table-cell;\"></div><div style=\"display: table-cell;\">js_property_callbacks&nbsp;=&nbsp;{},</div></div><div class=\"p7824\" style=\"display: none;\"><div style=\"display: table-cell;\"></div><div style=\"display: table-cell;\">left&nbsp;=&nbsp;[LinearAxis(id='p7713', ...)],</div></div><div class=\"p7824\" style=\"display: none;\"><div style=\"display: table-cell;\"></div><div style=\"display: table-cell;\">lod_factor&nbsp;=&nbsp;10,</div></div><div class=\"p7824\" style=\"display: none;\"><div style=\"display: table-cell;\"></div><div style=\"display: table-cell;\">lod_interval&nbsp;=&nbsp;300,</div></div><div class=\"p7824\" style=\"display: none;\"><div style=\"display: table-cell;\"></div><div style=\"display: table-cell;\">lod_threshold&nbsp;=&nbsp;2000,</div></div><div class=\"p7824\" style=\"display: none;\"><div style=\"display: table-cell;\"></div><div style=\"display: table-cell;\">lod_timeout&nbsp;=&nbsp;500,</div></div><div class=\"p7824\" style=\"display: none;\"><div style=\"display: table-cell;\"></div><div style=\"display: table-cell;\">margin&nbsp;=&nbsp;None,</div></div><div class=\"p7824\" style=\"display: none;\"><div style=\"display: table-cell;\"></div><div style=\"display: table-cell;\">match_aspect&nbsp;=&nbsp;False,</div></div><div class=\"p7824\" style=\"display: none;\"><div style=\"display: table-cell;\"></div><div style=\"display: table-cell;\">max_height&nbsp;=&nbsp;None,</div></div><div class=\"p7824\" style=\"display: none;\"><div style=\"display: table-cell;\"></div><div style=\"display: table-cell;\">max_width&nbsp;=&nbsp;None,</div></div><div class=\"p7824\" style=\"display: none;\"><div style=\"display: table-cell;\"></div><div style=\"display: table-cell;\">min_border&nbsp;=&nbsp;5,</div></div><div class=\"p7824\" style=\"display: none;\"><div style=\"display: table-cell;\"></div><div style=\"display: table-cell;\">min_border_bottom&nbsp;=&nbsp;None,</div></div><div class=\"p7824\" style=\"display: none;\"><div style=\"display: table-cell;\"></div><div style=\"display: table-cell;\">min_border_left&nbsp;=&nbsp;None,</div></div><div class=\"p7824\" style=\"display: none;\"><div style=\"display: table-cell;\"></div><div style=\"display: table-cell;\">min_border_right&nbsp;=&nbsp;None,</div></div><div class=\"p7824\" style=\"display: none;\"><div style=\"display: table-cell;\"></div><div style=\"display: table-cell;\">min_border_top&nbsp;=&nbsp;None,</div></div><div class=\"p7824\" style=\"display: none;\"><div style=\"display: table-cell;\"></div><div style=\"display: table-cell;\">min_height&nbsp;=&nbsp;None,</div></div><div class=\"p7824\" style=\"display: none;\"><div style=\"display: table-cell;\"></div><div style=\"display: table-cell;\">min_width&nbsp;=&nbsp;None,</div></div><div class=\"p7824\" style=\"display: none;\"><div style=\"display: table-cell;\"></div><div style=\"display: table-cell;\">name&nbsp;=&nbsp;None,</div></div><div class=\"p7824\" style=\"display: none;\"><div style=\"display: table-cell;\"></div><div style=\"display: table-cell;\">outline_line_alpha&nbsp;=&nbsp;1.0,</div></div><div class=\"p7824\" style=\"display: none;\"><div style=\"display: table-cell;\"></div><div style=\"display: table-cell;\">outline_line_cap&nbsp;=&nbsp;'butt',</div></div><div class=\"p7824\" style=\"display: none;\"><div style=\"display: table-cell;\"></div><div style=\"display: table-cell;\">outline_line_color&nbsp;=&nbsp;'#e5e5e5',</div></div><div class=\"p7824\" style=\"display: none;\"><div style=\"display: table-cell;\"></div><div style=\"display: table-cell;\">outline_line_dash&nbsp;=&nbsp;[],</div></div><div class=\"p7824\" style=\"display: none;\"><div style=\"display: table-cell;\"></div><div style=\"display: table-cell;\">outline_line_dash_offset&nbsp;=&nbsp;0,</div></div><div class=\"p7824\" style=\"display: none;\"><div style=\"display: table-cell;\"></div><div style=\"display: table-cell;\">outline_line_join&nbsp;=&nbsp;'bevel',</div></div><div class=\"p7824\" style=\"display: none;\"><div style=\"display: table-cell;\"></div><div style=\"display: table-cell;\">outline_line_width&nbsp;=&nbsp;1,</div></div><div class=\"p7824\" style=\"display: none;\"><div style=\"display: table-cell;\"></div><div style=\"display: table-cell;\">output_backend&nbsp;=&nbsp;'canvas',</div></div><div class=\"p7824\" style=\"display: none;\"><div style=\"display: table-cell;\"></div><div style=\"display: table-cell;\">renderers&nbsp;=&nbsp;[GlyphRenderer(id='p7738', ...), GlyphRenderer(id='p7789', ...), GlyphRenderer(id='p7803', ...), GlyphRenderer(id='p7817', ...)],</div></div><div class=\"p7824\" style=\"display: none;\"><div style=\"display: table-cell;\"></div><div style=\"display: table-cell;\">reset_policy&nbsp;=&nbsp;'standard',</div></div><div class=\"p7824\" style=\"display: none;\"><div style=\"display: table-cell;\"></div><div style=\"display: table-cell;\">resizable&nbsp;=&nbsp;False,</div></div><div class=\"p7824\" style=\"display: none;\"><div style=\"display: table-cell;\"></div><div style=\"display: table-cell;\">right&nbsp;=&nbsp;[Legend(id='p7741', ...)],</div></div><div class=\"p7824\" style=\"display: none;\"><div style=\"display: table-cell;\"></div><div style=\"display: table-cell;\">sizing_mode&nbsp;=&nbsp;None,</div></div><div class=\"p7824\" style=\"display: none;\"><div style=\"display: table-cell;\"></div><div style=\"display: table-cell;\">styles&nbsp;=&nbsp;{},</div></div><div class=\"p7824\" style=\"display: none;\"><div style=\"display: table-cell;\"></div><div style=\"display: table-cell;\">stylesheets&nbsp;=&nbsp;[],</div></div><div class=\"p7824\" style=\"display: none;\"><div style=\"display: table-cell;\"></div><div style=\"display: table-cell;\">subscribed_events&nbsp;=&nbsp;PropertyValueSet(),</div></div><div class=\"p7824\" style=\"display: none;\"><div style=\"display: table-cell;\"></div><div style=\"display: table-cell;\">syncable&nbsp;=&nbsp;True,</div></div><div class=\"p7824\" style=\"display: none;\"><div style=\"display: table-cell;\"></div><div style=\"display: table-cell;\">tags&nbsp;=&nbsp;[],</div></div><div class=\"p7824\" style=\"display: none;\"><div style=\"display: table-cell;\"></div><div style=\"display: table-cell;\">title&nbsp;=&nbsp;Title(id='p7703', ...),</div></div><div class=\"p7824\" style=\"display: none;\"><div style=\"display: table-cell;\"></div><div style=\"display: table-cell;\">title_location&nbsp;=&nbsp;'above',</div></div><div class=\"p7824\" style=\"display: none;\"><div style=\"display: table-cell;\"></div><div style=\"display: table-cell;\">toolbar&nbsp;=&nbsp;Toolbar(id='p7704', ...),</div></div><div class=\"p7824\" style=\"display: none;\"><div style=\"display: table-cell;\"></div><div style=\"display: table-cell;\">toolbar_inner&nbsp;=&nbsp;False,</div></div><div class=\"p7824\" style=\"display: none;\"><div style=\"display: table-cell;\"></div><div style=\"display: table-cell;\">toolbar_location&nbsp;=&nbsp;'right',</div></div><div class=\"p7824\" style=\"display: none;\"><div style=\"display: table-cell;\"></div><div style=\"display: table-cell;\">toolbar_sticky&nbsp;=&nbsp;True,</div></div><div class=\"p7824\" style=\"display: none;\"><div style=\"display: table-cell;\"></div><div style=\"display: table-cell;\">visible&nbsp;=&nbsp;True,</div></div><div class=\"p7824\" style=\"display: none;\"><div style=\"display: table-cell;\"></div><div style=\"display: table-cell;\">width&nbsp;=&nbsp;800,</div></div><div class=\"p7824\" style=\"display: none;\"><div style=\"display: table-cell;\"></div><div style=\"display: table-cell;\">width_policy&nbsp;=&nbsp;'auto',</div></div><div class=\"p7824\" style=\"display: none;\"><div style=\"display: table-cell;\"></div><div style=\"display: table-cell;\">x_range&nbsp;=&nbsp;DataRange1d(id='p7698', ...),</div></div><div class=\"p7824\" style=\"display: none;\"><div style=\"display: table-cell;\"></div><div style=\"display: table-cell;\">x_scale&nbsp;=&nbsp;LinearScale(id='p7706', ...),</div></div><div class=\"p7824\" style=\"display: none;\"><div style=\"display: table-cell;\"></div><div style=\"display: table-cell;\">y_range&nbsp;=&nbsp;Range1d(id='p7705', ...),</div></div><div class=\"p7824\" style=\"display: none;\"><div style=\"display: table-cell;\"></div><div style=\"display: table-cell;\">y_scale&nbsp;=&nbsp;LinearScale(id='p7707', ...))</div></div></div>\n",
       "<script>\n",
       "(function() {\n",
       "  let expanded = false;\n",
       "  const ellipsis = document.getElementById(\"p7825\");\n",
       "  ellipsis.addEventListener(\"click\", function() {\n",
       "    const rows = document.getElementsByClassName(\"p7824\");\n",
       "    for (let i = 0; i < rows.length; i++) {\n",
       "      const el = rows[i];\n",
       "      el.style.display = expanded ? \"none\" : \"table-row\";\n",
       "    }\n",
       "    ellipsis.innerHTML = expanded ? \"&hellip;)\" : \"&lsaquo;&lsaquo;&lsaquo;\";\n",
       "    expanded = !expanded;\n",
       "  });\n",
       "})();\n",
       "</script>\n"
      ]
     },
     "execution_count": 19,
     "metadata": {},
     "output_type": "execute_result"
    }
   ],
   "execution_count": 19
  },
  {
   "metadata": {
    "ExecuteTime": {
     "end_time": "2025-07-16T11:38:56.560175Z",
     "start_time": "2025-07-16T10:43:27.805588Z"
    }
   },
   "cell_type": "code",
   "source": [
    "streams_set_dict['split_n_bar_phrases'][1].to_html_plot(\n",
    "    filename=\"hvo_1.html\",\n",
    "    save_figure=False,\n",
    "    show_figure=True)"
   ],
   "id": "4a86a1e964d98d04",
   "outputs": [
    {
     "ename": "IndexError",
     "evalue": "list index out of range",
     "output_type": "error",
     "traceback": [
      "\u001B[0;31m---------------------------------------------------------------------------\u001B[0m",
      "\u001B[0;31mIndexError\u001B[0m                                Traceback (most recent call last)",
      "Cell \u001B[0;32mIn[10], line 1\u001B[0m\n\u001B[0;32m----> 1\u001B[0m \u001B[43mstreams_set_dict\u001B[49m\u001B[43m[\u001B[49m\u001B[38;5;124;43m'\u001B[39;49m\u001B[38;5;124;43msplit_n_bar_phrases\u001B[39;49m\u001B[38;5;124;43m'\u001B[39;49m\u001B[43m]\u001B[49m\u001B[43m[\u001B[49m\u001B[38;5;241;43m1\u001B[39;49m\u001B[43m]\u001B[49m\u001B[38;5;241m.\u001B[39mto_html_plot(\n\u001B[1;32m      2\u001B[0m     filename\u001B[38;5;241m=\u001B[39m\u001B[38;5;124m\"\u001B[39m\u001B[38;5;124mhvo_1.html\u001B[39m\u001B[38;5;124m\"\u001B[39m,\n\u001B[1;32m      3\u001B[0m     save_figure\u001B[38;5;241m=\u001B[39m\u001B[38;5;28;01mFalse\u001B[39;00m,\n\u001B[1;32m      4\u001B[0m     show_figure\u001B[38;5;241m=\u001B[39m\u001B[38;5;28;01mTrue\u001B[39;00m)\n",
      "\u001B[0;31mIndexError\u001B[0m: list index out of range"
     ]
    }
   ],
   "execution_count": 10
  },
  {
   "metadata": {
    "ExecuteTime": {
     "end_time": "2025-07-16T11:38:56.560395Z",
     "start_time": "2025-07-16T09:42:02.619223Z"
    }
   },
   "cell_type": "code",
   "source": "",
   "id": "b49acc8008e805c1",
   "outputs": [],
   "execution_count": null
  }
 ],
 "metadata": {
  "kernelspec": {
   "display_name": "Python 3",
   "language": "python",
   "name": "python3"
  },
  "language_info": {
   "codemirror_mode": {
    "name": "ipython",
    "version": 2
   },
   "file_extension": ".py",
   "mimetype": "text/x-python",
   "name": "python",
   "nbconvert_exporter": "python",
   "pygments_lexer": "ipython2",
   "version": "2.7.6"
  }
 },
 "nbformat": 4,
 "nbformat_minor": 5
}
