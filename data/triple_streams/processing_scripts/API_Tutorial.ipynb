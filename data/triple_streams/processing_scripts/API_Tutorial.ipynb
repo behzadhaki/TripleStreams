{
 "cells": [
  {
   "cell_type": "markdown",
   "id": "499561566c34baab",
   "metadata": {
    "collapsed": false
   },
   "source": [
    "# Load Plotting Libraries"
   ]
  },
  {
   "cell_type": "code",
   "execution_count": 5,
   "id": "f25b7fd7753f53d0",
   "metadata": {
    "ExecuteTime": {
     "end_time": "2024-04-24T13:52:14.951127Z",
     "start_time": "2024-04-24T13:52:14.930324Z"
    },
    "collapsed": false
   },
   "outputs": [],
   "source": [
    "from bokeh.plotting import figure, show, save\n",
    "from bokeh.io import output_notebook, reset_output\n",
    "# output_notebook()"
   ]
  },
  {
   "cell_type": "markdown",
   "id": "4c74752cb415f93b",
   "metadata": {
    "collapsed": false
   },
   "source": [
    "# Load Collection\n",
    "\n",
    "\n",
    "```\n",
    "collection \n",
    "|\n",
    "|------------ User1\n",
    "|            |------------ Attempts\n",
    "|            |            |------------ Attempt1\n",
    "|            |            |------------ Attempt2\n",
    "|            |            |------------ ...\n",
    "```\n"
   ]
  },
  {
   "cell_type": "code",
   "execution_count": 6,
   "id": "efbf56b1ff86f423",
   "metadata": {
    "ExecuteTime": {
     "end_time": "2024-04-24T13:52:29.296815Z",
     "start_time": "2024-04-24T13:52:14.951871Z"
    },
    "collapsed": false
   },
   "outputs": [
    {
     "ename": "ModuleNotFoundError",
     "evalue": "No module named 'src'",
     "output_type": "error",
     "traceback": [
      "\u001b[0;31m---------------------------------------------------------------------------\u001b[0m",
      "\u001b[0;31mModuleNotFoundError\u001b[0m                       Traceback (most recent call last)",
      "Cell \u001b[0;32mIn[6], line 1\u001b[0m\n\u001b[0;32m----> 1\u001b[0m \u001b[38;5;28;01mfrom\u001b[39;00m\u001b[38;5;250m \u001b[39m\u001b[38;5;21;01msrc\u001b[39;00m\u001b[38;5;250m \u001b[39m\u001b[38;5;28;01mimport\u001b[39;00m BongoDrumCollection\n\u001b[1;32m      3\u001b[0m collection \u001b[38;5;241m=\u001b[39m BongoDrumCollection(\u001b[38;5;124m'\u001b[39m\u001b[38;5;124mdata/SavedSessions.bz2\u001b[39m\u001b[38;5;124m'\u001b[39m)\n\u001b[1;32m      4\u001b[0m collection\n",
      "\u001b[0;31mModuleNotFoundError\u001b[0m: No module named 'src'"
     ]
    }
   ],
   "source": [
    "from src import BongoDrumCollection\n",
    "\n",
    "collection = BongoDrumCollection('data/SavedSessions.bz2')\n",
    "collection\n"
   ]
  },
  {
   "cell_type": "markdown",
   "id": "6fad23b80cb8dbca",
   "metadata": {
    "collapsed": false
   },
   "source": [
    "### Accessing User Data and  Aggregate Info\n",
    "\n",
    "`BongoDrumCollection` is iterable and has a length. It contains all the users that `explicitely` granted permission to use their data \n"
   ]
  },
  {
   "cell_type": "code",
   "execution_count": 3,
   "id": "77a62ab397c2b71d",
   "metadata": {
    "ExecuteTime": {
     "end_time": "2024-04-24T13:52:29.300070Z",
     "start_time": "2024-04-24T13:52:29.297841Z"
    },
    "collapsed": false
   },
   "outputs": [
    {
     "name": "stdout",
     "output_type": "stream",
     "text": [
      "Number of users: 3286\n"
     ]
    }
   ],
   "source": [
    "print(f'Number of users: { len(collection)}')"
   ]
  },
  {
   "cell_type": "code",
   "execution_count": 4,
   "id": "5e3494fea87029bb",
   "metadata": {
    "ExecuteTime": {
     "end_time": "2024-04-24T13:52:29.376684Z",
     "start_time": "2024-04-24T13:52:29.300613Z"
    },
    "collapsed": false
   },
   "outputs": [],
   "source": [
    "for user_data in collection:\n",
    "    pass"
   ]
  },
  {
   "cell_type": "code",
   "execution_count": 5,
   "id": "17a28eed04a838a7",
   "metadata": {
    "ExecuteTime": {
     "end_time": "2024-04-24T13:52:29.381255Z",
     "start_time": "2024-04-24T13:52:29.377216Z"
    },
    "collapsed": false
   },
   "outputs": [
    {
     "data": {
      "text/plain": [
       "['Afrobeat',\n",
       " 'Afrocuban',\n",
       " 'Bossanova',\n",
       " 'Disco',\n",
       " 'Electronic',\n",
       " 'Funk',\n",
       " 'Hiphop',\n",
       " 'Jazz',\n",
       " 'Rock',\n",
       " 'Soul']"
      ]
     },
     "execution_count": 5,
     "metadata": {},
     "output_type": "execute_result"
    }
   ],
   "source": [
    "collection.get_all_styles()"
   ]
  },
  {
   "cell_type": "code",
   "execution_count": 6,
   "id": "b2b21d1b991e500",
   "metadata": {
    "ExecuteTime": {
     "end_time": "2024-04-24T13:52:29.385618Z",
     "start_time": "2024-04-24T13:52:29.381749Z"
    },
    "collapsed": false
   },
   "outputs": [
    {
     "data": {
      "text/plain": [
       "{'Afrobeat': 504,\n",
       " 'Afrocuban': 439,\n",
       " 'Bossanova': 624,\n",
       " 'Disco': 760,\n",
       " 'Electronic': 1001,\n",
       " 'Funk': 671,\n",
       " 'Hiphop': 686,\n",
       " 'Jazz': 601,\n",
       " 'Rock': 927,\n",
       " 'Soul': 427}"
      ]
     },
     "execution_count": 6,
     "metadata": {},
     "output_type": "execute_result"
    }
   ],
   "source": [
    "collection.count_number_of_attempts_per_style()"
   ]
  },
  {
   "cell_type": "code",
   "execution_count": 7,
   "id": "c529e5173baab51f",
   "metadata": {
    "ExecuteTime": {
     "end_time": "2024-04-24T13:52:29.393291Z",
     "start_time": "2024-04-24T13:52:29.386137Z"
    },
    "collapsed": false
   },
   "outputs": [
    {
     "data": {
      "text/plain": [
       "{'Afrobeat': 100,\n",
       " 'Afrocuban': 99,\n",
       " 'Bossanova': 97,\n",
       " 'Disco': 100,\n",
       " 'Electronic': 16,\n",
       " 'Funk': 100,\n",
       " 'Hiphop': 100,\n",
       " 'Jazz': 100,\n",
       " 'Rock': 100,\n",
       " 'Soul': 100}"
      ]
     },
     "execution_count": 7,
     "metadata": {},
     "output_type": "execute_result"
    }
   ],
   "source": [
    "collection.count_unique_drums_tested_per_style()"
   ]
  },
  {
   "cell_type": "markdown",
   "id": "662f33f0ff5e0a88",
   "metadata": {
    "collapsed": false
   },
   "source": [
    "# Access a single user's attempts\n"
   ]
  },
  {
   "cell_type": "code",
   "execution_count": 4,
   "id": "15a4ae2e83684b68",
   "metadata": {
    "ExecuteTime": {
     "end_time": "2024-04-24T13:52:29.395919Z",
     "start_time": "2024-04-24T13:52:29.393883Z"
    },
    "collapsed": false
   },
   "outputs": [
    {
     "ename": "NameError",
     "evalue": "name 'collection' is not defined",
     "output_type": "error",
     "traceback": [
      "\u001b[0;31m---------------------------------------------------------------------------\u001b[0m",
      "\u001b[0;31mNameError\u001b[0m                                 Traceback (most recent call last)",
      "Cell \u001b[0;32mIn[4], line 1\u001b[0m\n\u001b[0;32m----> 1\u001b[0m user_data \u001b[38;5;241m=\u001b[39m \u001b[43mcollection\u001b[49m[\u001b[38;5;241m200\u001b[39m]\n\u001b[1;32m      3\u001b[0m \u001b[38;5;28mprint\u001b[39m(\u001b[38;5;124mf\u001b[39m\u001b[38;5;124m'\u001b[39m\u001b[38;5;124muser_id: \u001b[39m\u001b[38;5;132;01m{\u001b[39;00muser_data\u001b[38;5;241m.\u001b[39muser_id\u001b[38;5;132;01m}\u001b[39;00m\u001b[38;5;124m, number_of_attempts: \u001b[39m\u001b[38;5;132;01m{\u001b[39;00muser_data\u001b[38;5;241m.\u001b[39mnumber_of_attempts\u001b[38;5;132;01m}\u001b[39;00m\u001b[38;5;124m'\u001b[39m)\n\u001b[1;32m      5\u001b[0m \u001b[38;5;28mprint\u001b[39m(\u001b[38;5;124mf\u001b[39m\u001b[38;5;124m'\u001b[39m\u001b[38;5;124muser_level_of_musical_experience: \u001b[39m\u001b[38;5;132;01m{\u001b[39;00muser_data\u001b[38;5;241m.\u001b[39muser_level_of_musical_experience\u001b[38;5;132;01m}\u001b[39;00m\u001b[38;5;124m, user_exhibion_rating: \u001b[39m\u001b[38;5;132;01m{\u001b[39;00muser_data\u001b[38;5;241m.\u001b[39muser_exhibion_rating\u001b[38;5;132;01m}\u001b[39;00m\u001b[38;5;124m'\u001b[39m)\n",
      "\u001b[0;31mNameError\u001b[0m: name 'collection' is not defined"
     ]
    }
   ],
   "source": [
    "user_data = collection[200]\n",
    "\n",
    "print(f'user_id: {user_data.user_id}, number_of_attempts: {user_data.number_of_attempts}')\n",
    "\n",
    "print(f'user_level_of_musical_experience: {user_data.user_level_of_musical_experience}, user_exhibion_rating: {user_data.user_exhibion_rating}') "
   ]
  },
  {
   "cell_type": "code",
   "execution_count": 3,
   "id": "c1a090aa2c7b3cc2",
   "metadata": {
    "ExecuteTime": {
     "end_time": "2024-04-24T13:52:29.398490Z",
     "start_time": "2024-04-24T13:52:29.396443Z"
    },
    "collapsed": false
   },
   "outputs": [
    {
     "ename": "NameError",
     "evalue": "name 'user_data' is not defined",
     "output_type": "error",
     "traceback": [
      "\u001b[0;31m---------------------------------------------------------------------------\u001b[0m",
      "\u001b[0;31mNameError\u001b[0m                                 Traceback (most recent call last)",
      "Cell \u001b[0;32mIn[3], line 1\u001b[0m\n\u001b[0;32m----> 1\u001b[0m attempt_1 \u001b[38;5;241m=\u001b[39m \u001b[43muser_data\u001b[49m\u001b[38;5;241m.\u001b[39mattempts[\u001b[38;5;241m0\u001b[39m]\n\u001b[1;32m      2\u001b[0m attempt_1\n",
      "\u001b[0;31mNameError\u001b[0m: name 'user_data' is not defined"
     ]
    }
   ],
   "source": [
    "attempt_1 = user_data.attempts[0]\n",
    "attempt_1"
   ]
  },
  {
   "cell_type": "code",
   "execution_count": null,
   "id": "e099f8e78584183d",
   "metadata": {
    "ExecuteTime": {
     "end_time": "2024-04-24T13:52:29.400799Z",
     "start_time": "2024-04-24T13:52:29.398956Z"
    },
    "collapsed": false
   },
   "outputs": [
    {
     "data": {
      "text/plain": [
       "(24.0, 'Bossanova')"
      ]
     },
     "execution_count": 10,
     "metadata": {},
     "output_type": "execute_result"
    }
   ],
   "source": [
    "attempt_1.attempt_duration, attempt_1.genre"
   ]
  },
  {
   "cell_type": "code",
   "execution_count": 2,
   "id": "eb02c429fba00ca5",
   "metadata": {
    "ExecuteTime": {
     "end_time": "2024-04-24T13:52:29.405940Z",
     "start_time": "2024-04-24T13:52:29.401304Z"
    },
    "collapsed": false
   },
   "outputs": [
    {
     "ename": "NameError",
     "evalue": "name 'attempt_1' is not defined",
     "output_type": "error",
     "traceback": [
      "\u001b[0;31m---------------------------------------------------------------------------\u001b[0m",
      "\u001b[0;31mNameError\u001b[0m                                 Traceback (most recent call last)",
      "Cell \u001b[0;32mIn[2], line 1\u001b[0m\n\u001b[0;32m----> 1\u001b[0m hs_bongo \u001b[38;5;241m=\u001b[39m \u001b[43mattempt_1\u001b[49m\u001b[38;5;241m.\u001b[39mload_bongo_loop_hvo_seq()\n\u001b[1;32m      2\u001b[0m hs_bongo\u001b[38;5;241m.\u001b[39mhvo\u001b[38;5;241m.\u001b[39mhits\n",
      "\u001b[0;31mNameError\u001b[0m: name 'attempt_1' is not defined"
     ]
    }
   ],
   "source": [
    "hs_bongo = attempt_1.load_bongo_loop_hvo_seq()\n",
    "hs_bongo.hvo.hits"
   ]
  },
  {
   "cell_type": "code",
   "execution_count": 1,
   "id": "57109ac0c900e609",
   "metadata": {
    "ExecuteTime": {
     "end_time": "2024-04-24T13:52:29.481953Z",
     "start_time": "2024-04-24T13:52:29.407192Z"
    },
    "collapsed": false
   },
   "outputs": [
    {
     "ename": "NameError",
     "evalue": "name 'hs_bongo' is not defined",
     "output_type": "error",
     "traceback": [
      "\u001b[0;31m---------------------------------------------------------------------------\u001b[0m",
      "\u001b[0;31mNameError\u001b[0m                                 Traceback (most recent call last)",
      "Cell \u001b[0;32mIn[1], line 1\u001b[0m\n\u001b[0;32m----> 1\u001b[0m proll \u001b[38;5;241m=\u001b[39m \u001b[43mhs_bongo\u001b[49m\u001b[38;5;241m.\u001b[39mpiano_roll(show_figure\u001b[38;5;241m=\u001b[39m\u001b[38;5;28;01mFalse\u001b[39;00m)\n\u001b[1;32m      2\u001b[0m \u001b[38;5;66;03m# Prepare the notebook for displaying Bokeh plots\u001b[39;00m\n\u001b[1;32m      3\u001b[0m output_notebook()\n",
      "\u001b[0;31mNameError\u001b[0m: name 'hs_bongo' is not defined"
     ]
    }
   ],
   "source": [
    "proll = hs_bongo.piano_roll(show_figure=False)\n",
    "# Prepare the notebook for displaying Bokeh plots\n",
    "output_notebook()\n",
    "show(proll)"
   ]
  },
  {
   "cell_type": "code",
   "execution_count": 13,
   "id": "a609fb605c3d5e2d",
   "metadata": {
    "ExecuteTime": {
     "end_time": "2024-04-24T13:52:29.621748Z",
     "start_time": "2024-04-24T13:52:29.482456Z"
    },
    "collapsed": false
   },
   "outputs": [
    {
     "data": {
      "text/html": [
       "\n",
       "  <div class=\"bk-root\" id=\"b5274629-7168-42d9-83ce-1682dbd62d00\" data-root-id=\"1254\"></div>\n"
      ]
     },
     "metadata": {},
     "output_type": "display_data"
    },
    {
     "data": {
      "application/javascript": "(function(root) {\n  function embed_document(root) {\n  const docs_json = {\"5859282d-d919-4aec-a651-93944f3358df\":{\"defs\":[],\"roots\":{\"references\":[{\"attributes\":{\"below\":[{\"id\":\"1263\"}],\"center\":[{\"id\":\"1266\"},{\"id\":\"1270\"},{\"id\":\"1303\"},{\"id\":\"1310\"},{\"id\":\"1311\"},{\"id\":\"1312\"},{\"id\":\"1313\"},{\"id\":\"1314\"},{\"id\":\"1315\"},{\"id\":\"1316\"},{\"id\":\"1317\"},{\"id\":\"1318\"},{\"id\":\"1319\"},{\"id\":\"1320\"},{\"id\":\"1321\"},{\"id\":\"1322\"},{\"id\":\"1323\"},{\"id\":\"1324\"},{\"id\":\"1325\"},{\"id\":\"1326\"},{\"id\":\"1327\"},{\"id\":\"1328\"},{\"id\":\"1329\"},{\"id\":\"1330\"},{\"id\":\"1331\"},{\"id\":\"1332\"},{\"id\":\"1333\"},{\"id\":\"1336\"},{\"id\":\"1337\"},{\"id\":\"1338\"},{\"id\":\"1339\"},{\"id\":\"1340\"},{\"id\":\"1341\"},{\"id\":\"1342\"},{\"id\":\"1343\"},{\"id\":\"1344\"},{\"id\":\"1345\"}],\"height\":300,\"left\":[{\"id\":\"1267\"}],\"renderers\":[{\"id\":\"1290\"},{\"id\":\"1351\"},{\"id\":\"1372\"},{\"id\":\"1395\"}],\"right\":[{\"id\":\"1303\"}],\"title\":{\"id\":\"1292\"},\"toolbar\":{\"id\":\"1278\"},\"x_range\":{\"id\":\"1255\"},\"x_scale\":{\"id\":\"1259\"},\"y_range\":{\"id\":\"1257\"},\"y_scale\":{\"id\":\"1261\"}},\"id\":\"1254\",\"subtype\":\"Figure\",\"type\":\"Plot\"},{\"attributes\":{},\"id\":\"1295\",\"type\":\"BasicTickFormatter\"},{\"attributes\":{},\"id\":\"1296\",\"type\":\"AllLabels\"},{\"attributes\":{\"data\":{\"grid_index\":[0],\"tempo\":[110.00011000011],\"x\":[0.0],\"y\":[9.5]},\"selected\":{\"id\":\"1362\"},\"selection_policy\":{\"id\":\"1361\"}},\"id\":\"1346\",\"type\":\"ColumnDataSource\"},{\"attributes\":{},\"id\":\"1298\",\"type\":\"BasicTickFormatter\"},{\"attributes\":{},\"id\":\"1299\",\"type\":\"AllLabels\"},{\"attributes\":{},\"id\":\"1300\",\"type\":\"UnionRenderers\"},{\"attributes\":{},\"id\":\"1301\",\"type\":\"Selection\"},{\"attributes\":{\"bottom_units\":\"screen\",\"coordinates\":null,\"fill_alpha\":0.5,\"fill_color\":\"lightgrey\",\"group\":null,\"left_units\":\"screen\",\"level\":\"overlay\",\"line_alpha\":1.0,\"line_color\":\"black\",\"line_dash\":[4,4],\"line_width\":2,\"right_units\":\"screen\",\"syncable\":false,\"top_units\":\"screen\"},\"id\":\"1277\",\"type\":\"BoxAnnotation\"},{\"attributes\":{\"coordinates\":null,\"dimension\":\"height\",\"group\":null,\"line_width\":0.1,\"location\":0.954},\"id\":\"1315\",\"type\":\"Span\"},{\"attributes\":{\"coordinates\":null,\"dimension\":\"height\",\"group\":null,\"line_width\":0.1,\"location\":1.5},\"id\":\"1318\",\"type\":\"Span\"},{\"attributes\":{\"coordinates\":null,\"dimension\":\"height\",\"group\":null,\"line_width\":0.1,\"location\":1.772},\"id\":\"1319\",\"type\":\"Span\"},{\"attributes\":{\"coordinates\":null,\"dimension\":\"height\",\"group\":null,\"line_width\":0.1,\"location\":2.591},\"id\":\"1324\",\"type\":\"Span\"},{\"attributes\":{},\"id\":\"1362\",\"type\":\"Selection\"},{\"attributes\":{},\"id\":\"1361\",\"type\":\"UnionRenderers\"},{\"attributes\":{\"coordinates\":null,\"dimension\":\"height\",\"group\":null,\"line_width\":0.1,\"location\":1.909},\"id\":\"1320\",\"type\":\"Span\"},{\"attributes\":{\"fill_alpha\":{\"value\":0.1},\"fill_color\":{\"value\":\"#1EA087\"},\"hatch_alpha\":{\"value\":0.1},\"line_alpha\":{\"value\":0.1},\"line_color\":{\"value\":\"#1EA087\"},\"size\":{\"value\":10},\"x\":{\"field\":\"x\"},\"y\":{\"field\":\"y\"}},\"id\":\"1393\",\"type\":\"Circle\"},{\"attributes\":{\"label\":{\"value\":\"Metadata\"},\"renderers\":[{\"id\":\"1395\"}]},\"id\":\"1412\",\"type\":\"LegendItem\"},{\"attributes\":{\"coordinates\":null,\"data_source\":{\"id\":\"1390\"},\"glyph\":{\"id\":\"1392\"},\"group\":null,\"hover_glyph\":null,\"muted_glyph\":{\"id\":\"1394\"},\"nonselection_glyph\":{\"id\":\"1393\"},\"view\":{\"id\":\"1396\"}},\"id\":\"1395\",\"type\":\"GlyphRenderer\"},{\"attributes\":{\"source\":{\"id\":\"1285\"}},\"id\":\"1291\",\"type\":\"CDSView\"},{\"attributes\":{\"fill_alpha\":{\"value\":0.2},\"fill_color\":{\"value\":\"#1EA087\"},\"hatch_alpha\":{\"value\":0.2},\"line_alpha\":{\"value\":0.2},\"line_color\":{\"value\":\"#1EA087\"},\"size\":{\"value\":10},\"x\":{\"field\":\"x\"},\"y\":{\"field\":\"y\"}},\"id\":\"1394\",\"type\":\"Circle\"},{\"attributes\":{},\"id\":\"1409\",\"type\":\"UnionRenderers\"},{\"attributes\":{\"coordinates\":null,\"dimension\":\"height\",\"group\":null,\"line_width\":0.1,\"location\":0.818},\"id\":\"1314\",\"type\":\"Span\"},{\"attributes\":{\"source\":{\"id\":\"1390\"}},\"id\":\"1396\",\"type\":\"CDSView\"},{\"attributes\":{\"bottom\":{\"field\":\"bottom\"},\"fill_alpha\":{\"value\":0.1},\"fill_color\":{\"value\":\"grey\"},\"hatch_alpha\":{\"value\":0.1},\"left\":{\"field\":\"start\"},\"line_alpha\":{\"value\":0.1},\"line_color\":{\"value\":\"grey\"},\"right\":{\"field\":\"end\"},\"top\":{\"field\":\"top\"}},\"id\":\"1288\",\"type\":\"Quad\"},{\"attributes\":{\"callback\":null,\"renderers\":[{\"id\":\"1290\"}],\"tooltips\":[[\"start\",\"@start\"],[\"end\",\"@end\"],[\"instrument\",\"@instrument\"],[\"voice_index\",\"@voice_index\"],[\"midi\",\"@midi\"],[\"velocity\",\"@velocity\"],[\"offset\",\"@offset\"],[\"offset_sec\",\"@offset_sec\"],[\"grid_line\",\"@grid_line\"]]},\"id\":\"1305\",\"type\":\"HoverTool\"},{\"attributes\":{},\"id\":\"1410\",\"type\":\"Selection\"},{\"attributes\":{\"ticks\":[0,1,2,3,4,5,6,7,8]},\"id\":\"1308\",\"type\":\"FixedTicker\"},{\"attributes\":{\"fill_alpha\":{\"value\":0.1},\"fill_color\":{\"value\":\"#440154\"},\"hatch_alpha\":{\"value\":0.1},\"line_alpha\":{\"value\":0.1},\"line_color\":{\"value\":\"#440154\"},\"size\":{\"value\":10},\"x\":{\"field\":\"x\"},\"y\":{\"field\":\"y\"}},\"id\":\"1349\",\"type\":\"Circle\"},{\"attributes\":{\"bottom\":{\"field\":\"bottom\"},\"fill_alpha\":{\"field\":\"velocity\"},\"fill_color\":{\"value\":\"grey\"},\"left\":{\"field\":\"start\"},\"line_color\":{\"value\":\"grey\"},\"right\":{\"field\":\"end\"},\"top\":{\"field\":\"top\"}},\"id\":\"1287\",\"type\":\"Quad\"},{\"attributes\":{\"coordinates\":null,\"dimension\":\"height\",\"group\":null,\"line_width\":0.1,\"location\":2.863},\"id\":\"1325\",\"type\":\"Span\"},{\"attributes\":{\"ticks\":[0.0,0.55,1.09,1.64,2.18,2.73,3.27,3.82]},\"id\":\"1334\",\"type\":\"FixedTicker\"},{\"attributes\":{\"coordinates\":null,\"dimension\":\"height\",\"group\":null,\"line_width\":0.1,\"location\":0.136},\"id\":\"1310\",\"type\":\"Span\"},{\"attributes\":{\"coordinates\":null,\"dimension\":\"height\",\"group\":null,\"line_width\":0.1,\"location\":0.681},\"id\":\"1313\",\"type\":\"Span\"},{\"attributes\":{\"coordinates\":null,\"dimension\":\"height\",\"group\":null,\"line_width\":0.1,\"location\":0.273},\"id\":\"1311\",\"type\":\"Span\"},{\"attributes\":{\"coordinates\":null,\"dimension\":\"height\",\"group\":null,\"line_width\":0.1,\"location\":0.409},\"id\":\"1312\",\"type\":\"Span\"},{\"attributes\":{\"bottom\":{\"field\":\"bottom\"},\"fill_alpha\":{\"value\":0.2},\"fill_color\":{\"value\":\"grey\"},\"hatch_alpha\":{\"value\":0.2},\"left\":{\"field\":\"start\"},\"line_alpha\":{\"value\":0.2},\"line_color\":{\"value\":\"grey\"},\"right\":{\"field\":\"end\"},\"top\":{\"field\":\"top\"}},\"id\":\"1289\",\"type\":\"Quad\"},{\"attributes\":{\"label\":{\"value\":\"Tempo\"},\"renderers\":[{\"id\":\"1351\"}]},\"id\":\"1364\",\"type\":\"LegendItem\"},{\"attributes\":{\"coordinates\":null,\"dimension\":\"height\",\"group\":null,\"line_width\":0.1,\"location\":3.0},\"id\":\"1326\",\"type\":\"Span\"},{\"attributes\":{\"coordinates\":null,\"dimension\":\"height\",\"group\":null,\"line_width\":0.1,\"location\":3.136},\"id\":\"1327\",\"type\":\"Span\"},{\"attributes\":{},\"id\":\"1276\",\"type\":\"HelpTool\"},{\"attributes\":{\"axis_label\":\"Instrument\",\"axis_label_standoff\":10,\"axis_label_text_color\":\"#5B5B5B\",\"axis_label_text_font\":\"Calibri Light\",\"axis_label_text_font_size\":\"1.15em\",\"axis_label_text_font_style\":\"bold\",\"axis_line_alpha\":1,\"axis_line_color\":\"#5B5B5B\",\"coordinates\":null,\"formatter\":{\"id\":\"1295\"},\"group\":null,\"major_label_overrides\":{\"0\":\"KICK\",\"1\":\"SNARE\",\"2\":\"HH_CLOSED\",\"3\":\"HH_OPEN\",\"4\":\"TOM_3_LO\",\"5\":\"TOM_2_MID\",\"6\":\"TOM_1_HI\",\"7\":\"CRASH\",\"8\":\"RIDE\"},\"major_label_policy\":{\"id\":\"1296\"},\"major_label_text_color\":\"#5B5B5B\",\"major_label_text_font\":\"Calibri Light\",\"major_label_text_font_size\":\"0.95em\",\"major_label_text_font_style\":\"bold\",\"major_tick_in\":0,\"major_tick_line_alpha\":0.25,\"major_tick_line_color\":\"#5B5B5B\",\"major_tick_out\":3,\"minor_tick_line_alpha\":0.25,\"minor_tick_line_color\":\"#5B5B5B\",\"ticker\":{\"id\":\"1308\"}},\"id\":\"1267\",\"type\":\"LinearAxis\"},{\"attributes\":{\"coordinates\":null,\"dimension\":\"height\",\"group\":null,\"line_width\":0.1,\"location\":3.409},\"id\":\"1328\",\"type\":\"Span\"},{\"attributes\":{\"coordinates\":null,\"group\":null,\"text\":\"temp.html\",\"text_color\":\"#5B5B5B\",\"text_font\":\"Calibri Light\",\"text_font_size\":\"1.25em\",\"text_font_style\":\"bold\"},\"id\":\"1292\",\"type\":\"Title\"},{\"attributes\":{\"coordinates\":null,\"dimension\":\"height\",\"group\":null,\"line_width\":0.1,\"location\":3.546},\"id\":\"1329\",\"type\":\"Span\"},{\"attributes\":{\"coordinates\":null,\"data_source\":{\"id\":\"1285\"},\"glyph\":{\"id\":\"1287\"},\"group\":null,\"hover_glyph\":null,\"muted_glyph\":{\"id\":\"1289\"},\"nonselection_glyph\":{\"id\":\"1288\"},\"view\":{\"id\":\"1291\"}},\"id\":\"1290\",\"type\":\"GlyphRenderer\"},{\"attributes\":{\"coordinates\":null,\"dimension\":\"height\",\"group\":null,\"line_width\":0.1,\"location\":3.682},\"id\":\"1330\",\"type\":\"Span\"},{\"attributes\":{\"fill_color\":{\"value\":\"#70CE56\"},\"line_color\":{\"value\":\"#70CE56\"},\"size\":{\"value\":10},\"x\":{\"field\":\"x\"},\"y\":{\"field\":\"y\"}},\"id\":\"1369\",\"type\":\"Circle\"},{\"attributes\":{\"coordinates\":null,\"dimension\":\"height\",\"group\":null,\"line_width\":0.1,\"location\":3.954},\"id\":\"1331\",\"type\":\"Span\"},{\"attributes\":{\"coordinates\":null,\"dimension\":\"height\",\"group\":null,\"line_width\":0.1,\"location\":4.091},\"id\":\"1332\",\"type\":\"Span\"},{\"attributes\":{\"data\":{\"Denominator\":[4],\"Numerator\":[4],\"grid_index\":[0],\"x\":[0.0],\"y\":[9]},\"selected\":{\"id\":\"1385\"},\"selection_policy\":{\"id\":\"1384\"}},\"id\":\"1367\",\"type\":\"ColumnDataSource\"},{\"attributes\":{\"coordinates\":null,\"dimension\":\"height\",\"group\":null,\"line_width\":0.1,\"location\":4.227},\"id\":\"1333\",\"type\":\"Span\"},{\"attributes\":{\"fill_alpha\":{\"value\":0.1},\"fill_color\":{\"value\":\"#70CE56\"},\"hatch_alpha\":{\"value\":0.1},\"line_alpha\":{\"value\":0.1},\"line_color\":{\"value\":\"#70CE56\"},\"size\":{\"value\":10},\"x\":{\"field\":\"x\"},\"y\":{\"field\":\"y\"}},\"id\":\"1370\",\"type\":\"Circle\"},{\"attributes\":{\"coordinates\":null,\"dimension\":\"height\",\"group\":null,\"line_width\":0.5,\"location\":0.0},\"id\":\"1336\",\"type\":\"Span\"},{\"attributes\":{},\"id\":\"1261\",\"type\":\"LinearScale\"},{\"attributes\":{\"coordinates\":null,\"data_source\":{\"id\":\"1367\"},\"glyph\":{\"id\":\"1369\"},\"group\":null,\"hover_glyph\":null,\"muted_glyph\":{\"id\":\"1371\"},\"nonselection_glyph\":{\"id\":\"1370\"},\"view\":{\"id\":\"1373\"}},\"id\":\"1372\",\"type\":\"GlyphRenderer\"},{\"attributes\":{\"coordinates\":null,\"dimension\":\"height\",\"group\":null,\"line_width\":0.5,\"location\":0.545},\"id\":\"1337\",\"type\":\"Span\"},{\"attributes\":{\"coordinates\":null,\"dimension\":\"height\",\"group\":null,\"line_width\":0.5,\"location\":1.091},\"id\":\"1338\",\"type\":\"Span\"},{\"attributes\":{\"label\":{\"value\":\"Time Signature\"},\"renderers\":[{\"id\":\"1372\"}]},\"id\":\"1387\",\"type\":\"LegendItem\"},{\"attributes\":{\"coordinates\":null,\"dimension\":\"height\",\"group\":null,\"line_width\":0.5,\"location\":1.636},\"id\":\"1339\",\"type\":\"Span\"},{\"attributes\":{\"coordinates\":null,\"dimension\":\"height\",\"group\":null,\"line_width\":0.5,\"location\":2.182},\"id\":\"1340\",\"type\":\"Span\"},{\"attributes\":{\"coordinates\":null,\"dimension\":\"height\",\"group\":null,\"line_width\":0.5,\"location\":2.727},\"id\":\"1341\",\"type\":\"Span\"},{\"attributes\":{\"fill_alpha\":{\"value\":0.2},\"fill_color\":{\"value\":\"#70CE56\"},\"hatch_alpha\":{\"value\":0.2},\"line_alpha\":{\"value\":0.2},\"line_color\":{\"value\":\"#70CE56\"},\"size\":{\"value\":10},\"x\":{\"field\":\"x\"},\"y\":{\"field\":\"y\"}},\"id\":\"1371\",\"type\":\"Circle\"},{\"attributes\":{\"coordinates\":null,\"dimension\":\"height\",\"group\":null,\"line_width\":0.5,\"location\":3.273},\"id\":\"1342\",\"type\":\"Span\"},{\"attributes\":{\"axis\":{\"id\":\"1267\"},\"coordinates\":null,\"dimension\":1,\"grid_line_color\":null,\"group\":null,\"ticker\":null},\"id\":\"1270\",\"type\":\"Grid\"},{\"attributes\":{},\"id\":\"1385\",\"type\":\"Selection\"},{\"attributes\":{\"source\":{\"id\":\"1367\"}},\"id\":\"1373\",\"type\":\"CDSView\"},{\"attributes\":{\"coordinates\":null,\"dimension\":\"height\",\"group\":null,\"line_width\":0.5,\"location\":3.818},\"id\":\"1343\",\"type\":\"Span\"},{\"attributes\":{\"coordinates\":null,\"dimension\":\"height\",\"group\":null,\"line_width\":0.1,\"location\":1.227},\"id\":\"1316\",\"type\":\"Span\"},{\"attributes\":{\"coordinates\":null,\"dimension\":\"height\",\"group\":null,\"line_width\":2,\"location\":0.0},\"id\":\"1344\",\"type\":\"Span\"},{\"attributes\":{\"tools\":[{\"id\":\"1271\"},{\"id\":\"1272\"},{\"id\":\"1273\"},{\"id\":\"1274\"},{\"id\":\"1275\"},{\"id\":\"1276\"},{\"id\":\"1305\"},{\"id\":\"1365\"},{\"id\":\"1388\"},{\"id\":\"1413\"}]},\"id\":\"1278\",\"type\":\"Toolbar\"},{\"attributes\":{\"coordinates\":null,\"dimension\":\"height\",\"group\":null,\"line_width\":2,\"location\":2.182},\"id\":\"1345\",\"type\":\"Span\"},{\"attributes\":{},\"id\":\"1384\",\"type\":\"UnionRenderers\"},{\"attributes\":{\"fill_color\":{\"value\":\"#440154\"},\"line_color\":{\"value\":\"#440154\"},\"size\":{\"value\":10},\"x\":{\"field\":\"x\"},\"y\":{\"field\":\"y\"}},\"id\":\"1348\",\"type\":\"Circle\"},{\"attributes\":{},\"id\":\"1272\",\"type\":\"WheelZoomTool\"},{\"attributes\":{\"coordinates\":null,\"data_source\":{\"id\":\"1346\"},\"glyph\":{\"id\":\"1348\"},\"group\":null,\"hover_glyph\":null,\"muted_glyph\":{\"id\":\"1350\"},\"nonselection_glyph\":{\"id\":\"1349\"},\"view\":{\"id\":\"1352\"}},\"id\":\"1351\",\"type\":\"GlyphRenderer\"},{\"attributes\":{},\"id\":\"1271\",\"type\":\"PanTool\"},{\"attributes\":{\"fill_alpha\":{\"value\":0.2},\"fill_color\":{\"value\":\"#440154\"},\"hatch_alpha\":{\"value\":0.2},\"line_alpha\":{\"value\":0.2},\"line_color\":{\"value\":\"#440154\"},\"size\":{\"value\":10},\"x\":{\"field\":\"x\"},\"y\":{\"field\":\"y\"}},\"id\":\"1350\",\"type\":\"Circle\"},{\"attributes\":{\"coordinates\":null,\"dimension\":\"height\",\"group\":null,\"line_width\":0.1,\"location\":2.318},\"id\":\"1322\",\"type\":\"Span\"},{\"attributes\":{\"source\":{\"id\":\"1346\"}},\"id\":\"1352\",\"type\":\"CDSView\"},{\"attributes\":{\"callback\":null,\"renderers\":[{\"id\":\"1395\"}],\"tooltips\":[]},\"id\":\"1413\",\"type\":\"HoverTool\"},{\"attributes\":{\"coordinates\":null,\"dimension\":\"height\",\"group\":null,\"line_width\":0.1,\"location\":2.455},\"id\":\"1323\",\"type\":\"Span\"},{\"attributes\":{\"callback\":null,\"renderers\":[{\"id\":\"1351\"}],\"tooltips\":[[\"tempo\",\"@tempo\"],[\"grid_index\",\"@grid_index\"]]},\"id\":\"1365\",\"type\":\"HoverTool\"},{\"attributes\":{\"background_fill_alpha\":0.25,\"border_line_alpha\":0,\"click_policy\":\"hide\",\"coordinates\":null,\"glyph_width\":15,\"group\":null,\"items\":[{\"id\":\"1304\"},{\"id\":\"1364\"},{\"id\":\"1387\"},{\"id\":\"1412\"}],\"label_standoff\":8,\"label_text_color\":\"#5B5B5B\",\"label_text_font\":\"Calibri Light\",\"label_text_font_size\":\"0.95em\",\"label_text_font_style\":\"bold\",\"spacing\":8},\"id\":\"1303\",\"type\":\"Legend\"},{\"attributes\":{\"coordinates\":null,\"dimension\":\"height\",\"group\":null,\"line_width\":0.1,\"location\":2.045},\"id\":\"1321\",\"type\":\"Span\"},{\"attributes\":{\"overlay\":{\"id\":\"1277\"}},\"id\":\"1273\",\"type\":\"BoxZoomTool\"},{\"attributes\":{},\"id\":\"1274\",\"type\":\"SaveTool\"},{\"attributes\":{},\"id\":\"1275\",\"type\":\"ResetTool\"},{\"attributes\":{\"end\":4.649700000000001,\"start\":-0.4227000000000001},\"id\":\"1255\",\"type\":\"DataRange1d\"},{\"attributes\":{\"end\":10.75,\"start\":-0.5},\"id\":\"1257\",\"type\":\"Range1d\"},{\"attributes\":{},\"id\":\"1259\",\"type\":\"LinearScale\"},{\"attributes\":{\"data\":{\"bottom\":{\"__ndarray__\":\"zczMzMzM/D/NzMzMzMz8PzMzMzMzMx9AzczMzMzM/D+amZmZmZnpP83MzMzMzPw/MzMzMzMzH0DNzMzMzMz8P83MzMzMzPw/MzMzMzMzH0CamZmZmZnJv83MzMzMzPw/zczMzMzM/D+amZmZmZnpP83MzMzMzPw/MzMzMzMzH0DNzMzMzMz8P5qZmZmZmcm/zczMzMzM/D+amZmZmZnJv83MzMzMzPw/zczMzMzM/D+amZmZmZnJv83MzMzMzPw/zczMzMzM/D+amZmZmZnpP83MzMzMzPw/zczMzMzM/D/NzMzMzMz8P5qZmZmZmcm/mpmZmZmZyb/NzMzMzMz8P5qZmZmZmek/mpmZmZmZ6T+amZmZmZnpPzMzMzMzMxdAmpmZmZmZyb8=\",\"dtype\":\"float64\",\"order\":\"little\",\"shape\":[37]},\"end\":[0.3456239999999999,0.4969919999999998,0.49440799999999985,0.6233359999999999,0.8985119999999998,0.8861359999999998,0.8911679999999997,1.044879,1.1663439999999998,1.312673,1.439072,1.439072,1.5903039999999997,1.7143359999999996,1.7143359999999996,1.7044079999999997,1.9844799999999998,2.125878,2.1357419999999996,2.2572079999999994,2.2498629999999995,2.534968,2.676272,2.676272,2.8001679999999993,3.0754799999999998,3.0803760000000002,3.2267419999999998,3.345624,3.4968649999999997,3.618352,3.6060539999999994,3.759792,3.8267039999999994,4.037481,4.168792,4.31744],\"grid_line\":[2,3,3,4,6,6,6,7,8,9,10,10,11,12,12,12,14,15,15,16,16,18,19,19,20,22,22,23,24,25,26,26,27,28,29,30,31],\"instrument\":[\"HH_CLOSED\",\"HH_CLOSED\",\"RIDE\",\"HH_CLOSED\",\"SNARE\",\"HH_CLOSED\",\"RIDE\",\"HH_CLOSED\",\"HH_CLOSED\",\"RIDE\",\"KICK\",\"HH_CLOSED\",\"HH_CLOSED\",\"SNARE\",\"HH_CLOSED\",\"RIDE\",\"HH_CLOSED\",\"KICK\",\"HH_CLOSED\",\"KICK\",\"HH_CLOSED\",\"HH_CLOSED\",\"KICK\",\"HH_CLOSED\",\"HH_CLOSED\",\"SNARE\",\"HH_CLOSED\",\"HH_CLOSED\",\"HH_CLOSED\",\"KICK\",\"KICK\",\"HH_CLOSED\",\"SNARE\",\"SNARE\",\"SNARE\",\"TOM_1_HI\",\"KICK\"],\"midi\":[42,42,51,42,38,42,51,42,42,51,36,42,42,38,42,51,42,36,42,36,42,42,36,42,42,38,42,42,42,36,36,42,38,38,38,50,36],\"offset\":[0.034,0.147,0.128,0.076,0.092,0.001,0.038,0.167,0.054,0.129,0.052,0.052,0.164,0.076,0.076,0.003,0.055,0.094,0.166,0.053,-0.001,0.088,0.127,0.127,0.038,0.055,0.091,0.166,0.034,0.145,0.032,-0.058,0.072,-0.436,0.113,0.072,0.165],\"offset_sec\":[0.005,0.02,0.017,0.01,0.013,0.0,0.005,0.023,0.007,0.018,0.007,0.007,0.022,0.01,0.01,0.0,0.007,0.013,0.023,0.007,-0.0,0.012,0.017,0.017,0.005,0.007,0.012,0.023,0.005,0.02,0.004,-0.008,0.01,-0.059,0.015,0.01,0.022],\"start\":[0.27762400000000004,0.428992,0.426408,0.555336,0.8305119999999999,0.818136,0.8231679999999999,0.9768789999999999,1.098344,1.2446730000000001,1.371072,1.371072,1.5223039999999999,1.6463359999999998,1.6463359999999998,1.6364079999999999,1.91648,2.057878,2.067742,2.189208,2.181863,2.466968,2.6082720000000004,2.6082720000000004,2.7321679999999997,3.00748,3.012376,3.158742,3.2776240000000003,3.4288649999999996,3.5503519999999997,3.538054,3.691792,3.758704,3.969481,4.100792,4.249440000000001],\"top\":{\"__ndarray__\":\"mpmZmZmZAUCamZmZmZkBQGZmZmZmZiBAmpmZmZmZAUAzMzMzMzPzP5qZmZmZmQFAZmZmZmZmIECamZmZmZkBQJqZmZmZmQFAZmZmZmZmIECamZmZmZnJP5qZmZmZmQFAmpmZmZmZAUAzMzMzMzPzP5qZmZmZmQFAZmZmZmZmIECamZmZmZkBQJqZmZmZmck/mpmZmZmZAUCamZmZmZnJP5qZmZmZmQFAmpmZmZmZAUCamZmZmZnJP5qZmZmZmQFAmpmZmZmZAUAzMzMzMzPzP5qZmZmZmQFAmpmZmZmZAUCamZmZmZkBQJqZmZmZmck/mpmZmZmZyT+amZmZmZkBQDMzMzMzM/M/MzMzMzMz8z8zMzMzMzPzP83MzMzMzBhAmpmZmZmZyT8=\",\"dtype\":\"float64\",\"order\":\"little\",\"shape\":[37]},\"velocity\":[0.622,0.488,0.827,0.685,0.882,0.614,0.858,0.457,0.732,0.827,0.835,0.622,0.409,0.898,0.701,0.913,0.614,0.748,0.457,0.843,0.685,0.575,0.78,0.465,0.661,0.866,0.591,0.472,0.756,0.724,0.898,0.874,0.378,0.339,0.803,0.906,0.764],\"voice_index\":[2,2,8,2,1,2,8,2,2,8,0,2,2,1,2,8,2,0,2,0,2,2,0,2,2,1,2,2,2,0,0,2,1,1,1,6,0]},\"selected\":{\"id\":\"1301\"},\"selection_policy\":{\"id\":\"1300\"}},\"id\":\"1285\",\"type\":\"ColumnDataSource\"},{\"attributes\":{\"axis\":{\"id\":\"1263\"},\"coordinates\":null,\"grid_line_color\":null,\"group\":null,\"ticker\":null},\"id\":\"1266\",\"type\":\"Grid\"},{\"attributes\":{\"axis_label\":\"Time (sec)\",\"axis_label_standoff\":10,\"axis_label_text_color\":\"#5B5B5B\",\"axis_label_text_font\":\"Calibri Light\",\"axis_label_text_font_size\":\"1.15em\",\"axis_label_text_font_style\":\"bold\",\"axis_line_alpha\":1,\"axis_line_color\":\"#5B5B5B\",\"coordinates\":null,\"formatter\":{\"id\":\"1298\"},\"group\":null,\"major_label_orientation\":1.57,\"major_label_policy\":{\"id\":\"1299\"},\"major_label_text_color\":\"#5B5B5B\",\"major_label_text_font\":\"Calibri Light\",\"major_label_text_font_size\":\"0.95em\",\"major_label_text_font_style\":\"bold\",\"major_tick_in\":0,\"major_tick_line_alpha\":0.25,\"major_tick_line_color\":\"#5B5B5B\",\"major_tick_out\":3,\"minor_tick_line_alpha\":0.25,\"minor_tick_line_color\":\"#5B5B5B\",\"ticker\":{\"id\":\"1334\"}},\"id\":\"1263\",\"type\":\"LinearAxis\"},{\"attributes\":{\"coordinates\":null,\"dimension\":\"height\",\"group\":null,\"line_width\":0.1,\"location\":1.364},\"id\":\"1317\",\"type\":\"Span\"},{\"attributes\":{\"label\":{\"value\":\"Piano Roll\"},\"renderers\":[{\"id\":\"1290\"}]},\"id\":\"1304\",\"type\":\"LegendItem\"},{\"attributes\":{\"callback\":null,\"renderers\":[{\"id\":\"1372\"}],\"tooltips\":[[\"Numerator\",\"@Numerator\"],[\"Denominator\",\"@Denominator\"],[\"grid_index\",\"@grid_index\"]]},\"id\":\"1388\",\"type\":\"HoverTool\"},{\"attributes\":{\"data\":{\"x\":[0.0],\"y\":[8.5]},\"selected\":{\"id\":\"1410\"},\"selection_policy\":{\"id\":\"1409\"}},\"id\":\"1390\",\"type\":\"ColumnDataSource\"},{\"attributes\":{\"fill_color\":{\"value\":\"#1EA087\"},\"line_color\":{\"value\":\"#1EA087\"},\"size\":{\"value\":10},\"x\":{\"field\":\"x\"},\"y\":{\"field\":\"y\"}},\"id\":\"1392\",\"type\":\"Circle\"}],\"root_ids\":[\"1254\"]},\"title\":\"Bokeh Application\",\"version\":\"2.4.3\"}};\n  const render_items = [{\"docid\":\"5859282d-d919-4aec-a651-93944f3358df\",\"root_ids\":[\"1254\"],\"roots\":{\"1254\":\"b5274629-7168-42d9-83ce-1682dbd62d00\"}}];\n  root.Bokeh.embed.embed_items_notebook(docs_json, render_items);\n  }\n  if (root.Bokeh !== undefined) {\n    embed_document(root);\n  } else {\n    let attempts = 0;\n    const timer = setInterval(function(root) {\n      if (root.Bokeh !== undefined) {\n        clearInterval(timer);\n        embed_document(root);\n      } else {\n        attempts++;\n        if (attempts > 100) {\n          clearInterval(timer);\n          console.log(\"Bokeh: ERROR: Unable to run BokehJS code because BokehJS library is missing\");\n        }\n      }\n    }, 10, root)\n  }\n})(window);",
      "application/vnd.bokehjs_exec.v0+json": ""
     },
     "metadata": {
      "application/vnd.bokehjs_exec.v0+json": {
       "id": "1254"
      }
     },
     "output_type": "display_data"
    }
   ],
   "source": [
    "hs_drums = attempt_1.load_source_drum_hvo_seq(drum_source='data/DrumSources.zip')\n",
    "proll = hs_drums.piano_roll(show_figure=False, width=600, height=300)\n",
    "show(proll)"
   ]
  },
  {
   "cell_type": "code",
   "execution_count": 14,
   "id": "b08ce3cf0b266a39",
   "metadata": {
    "ExecuteTime": {
     "end_time": "2024-04-24T13:52:29.706038Z",
     "start_time": "2024-04-24T13:52:29.622298Z"
    },
    "collapsed": false
   },
   "outputs": [
    {
     "data": {
      "text/html": [
       "\n",
       "  <div class=\"bk-root\" id=\"4ad4c1db-661d-4613-b947-02cb383bfbc5\" data-root-id=\"1520\"></div>\n"
      ]
     },
     "metadata": {},
     "output_type": "display_data"
    },
    {
     "data": {
      "application/javascript": "(function(root) {\n  function embed_document(root) {\n  const docs_json = {\"3999c7af-0035-49e4-94b0-3b69fe90c1e7\":{\"defs\":[],\"roots\":{\"references\":[{\"attributes\":{\"below\":[{\"id\":\"1529\"}],\"center\":[{\"id\":\"1532\"},{\"id\":\"1536\"},{\"id\":\"1569\"},{\"id\":\"1576\"},{\"id\":\"1577\"},{\"id\":\"1578\"},{\"id\":\"1579\"},{\"id\":\"1580\"},{\"id\":\"1581\"},{\"id\":\"1582\"},{\"id\":\"1583\"},{\"id\":\"1584\"},{\"id\":\"1585\"},{\"id\":\"1586\"},{\"id\":\"1587\"},{\"id\":\"1588\"},{\"id\":\"1589\"},{\"id\":\"1590\"},{\"id\":\"1591\"},{\"id\":\"1592\"},{\"id\":\"1593\"},{\"id\":\"1594\"},{\"id\":\"1595\"},{\"id\":\"1596\"},{\"id\":\"1597\"},{\"id\":\"1598\"},{\"id\":\"1599\"},{\"id\":\"1602\"},{\"id\":\"1603\"},{\"id\":\"1604\"},{\"id\":\"1605\"},{\"id\":\"1606\"},{\"id\":\"1607\"},{\"id\":\"1608\"},{\"id\":\"1609\"},{\"id\":\"1610\"},{\"id\":\"1611\"}],\"height\":300,\"left\":[{\"id\":\"1533\"}],\"renderers\":[{\"id\":\"1556\"},{\"id\":\"1617\"},{\"id\":\"1638\"},{\"id\":\"1661\"}],\"right\":[{\"id\":\"1569\"}],\"title\":{\"id\":\"1558\"},\"toolbar\":{\"id\":\"1544\"},\"x_range\":{\"id\":\"1521\"},\"x_scale\":{\"id\":\"1525\"},\"y_range\":{\"id\":\"1523\"},\"y_scale\":{\"id\":\"1527\"}},\"id\":\"1520\",\"subtype\":\"Figure\",\"type\":\"Plot\"},{\"attributes\":{},\"id\":\"1542\",\"type\":\"HelpTool\"},{\"attributes\":{\"axis_label\":\"Instrument\",\"axis_label_standoff\":10,\"axis_label_text_color\":\"#5B5B5B\",\"axis_label_text_font\":\"Calibri Light\",\"axis_label_text_font_size\":\"1.15em\",\"axis_label_text_font_style\":\"bold\",\"axis_line_alpha\":1,\"axis_line_color\":\"#5B5B5B\",\"coordinates\":null,\"formatter\":{\"id\":\"1561\"},\"group\":null,\"major_label_overrides\":{\"0\":\"Left_Hand_Bongo\",\"1\":\"Right_Hand_Bongo\",\"10\":\"RIDE\",\"2\":\"KICK\",\"3\":\"SNARE\",\"4\":\"HH_CLOSED\",\"5\":\"HH_OPEN\",\"6\":\"TOM_3_LO\",\"7\":\"TOM_2_MID\",\"8\":\"TOM_1_HI\",\"9\":\"CRASH\"},\"major_label_policy\":{\"id\":\"1562\"},\"major_label_text_color\":\"#5B5B5B\",\"major_label_text_font\":\"Calibri Light\",\"major_label_text_font_size\":\"0.95em\",\"major_label_text_font_style\":\"bold\",\"major_tick_in\":0,\"major_tick_line_alpha\":0.25,\"major_tick_line_color\":\"#5B5B5B\",\"major_tick_out\":3,\"minor_tick_line_alpha\":0.25,\"minor_tick_line_color\":\"#5B5B5B\",\"ticker\":{\"id\":\"1574\"}},\"id\":\"1533\",\"type\":\"LinearAxis\"},{\"attributes\":{},\"id\":\"1538\",\"type\":\"WheelZoomTool\"},{\"attributes\":{\"axis\":{\"id\":\"1533\"},\"coordinates\":null,\"dimension\":1,\"grid_line_color\":null,\"group\":null,\"ticker\":null},\"id\":\"1536\",\"type\":\"Grid\"},{\"attributes\":{\"fill_alpha\":{\"value\":0.1},\"fill_color\":{\"value\":\"#1EA087\"},\"hatch_alpha\":{\"value\":0.1},\"line_alpha\":{\"value\":0.1},\"line_color\":{\"value\":\"#1EA087\"},\"size\":{\"value\":10},\"x\":{\"field\":\"x\"},\"y\":{\"field\":\"y\"}},\"id\":\"1659\",\"type\":\"Circle\"},{\"attributes\":{},\"id\":\"1537\",\"type\":\"PanTool\"},{\"attributes\":{\"overlay\":{\"id\":\"1543\"}},\"id\":\"1539\",\"type\":\"BoxZoomTool\"},{\"attributes\":{\"fill_color\":{\"value\":\"#70CE56\"},\"line_color\":{\"value\":\"#70CE56\"},\"size\":{\"value\":10},\"x\":{\"field\":\"x\"},\"y\":{\"field\":\"y\"}},\"id\":\"1635\",\"type\":\"Circle\"},{\"attributes\":{\"data\":{\"Denominator\":[4],\"Numerator\":[4],\"grid_index\":[0],\"x\":[0.0],\"y\":[11]},\"selected\":{\"id\":\"1651\"},\"selection_policy\":{\"id\":\"1650\"}},\"id\":\"1633\",\"type\":\"ColumnDataSource\"},{\"attributes\":{\"fill_alpha\":{\"value\":0.1},\"fill_color\":{\"value\":\"#70CE56\"},\"hatch_alpha\":{\"value\":0.1},\"line_alpha\":{\"value\":0.1},\"line_color\":{\"value\":\"#70CE56\"},\"size\":{\"value\":10},\"x\":{\"field\":\"x\"},\"y\":{\"field\":\"y\"}},\"id\":\"1636\",\"type\":\"Circle\"},{\"attributes\":{},\"id\":\"1541\",\"type\":\"ResetTool\"},{\"attributes\":{},\"id\":\"1540\",\"type\":\"SaveTool\"},{\"attributes\":{\"coordinates\":null,\"data_source\":{\"id\":\"1633\"},\"glyph\":{\"id\":\"1635\"},\"group\":null,\"hover_glyph\":null,\"muted_glyph\":{\"id\":\"1637\"},\"nonselection_glyph\":{\"id\":\"1636\"},\"view\":{\"id\":\"1639\"}},\"id\":\"1638\",\"type\":\"GlyphRenderer\"},{\"attributes\":{\"label\":{\"value\":\"Time Signature\"},\"renderers\":[{\"id\":\"1638\"}]},\"id\":\"1653\",\"type\":\"LegendItem\"},{\"attributes\":{\"bottom_units\":\"screen\",\"coordinates\":null,\"fill_alpha\":0.5,\"fill_color\":\"lightgrey\",\"group\":null,\"left_units\":\"screen\",\"level\":\"overlay\",\"line_alpha\":1.0,\"line_color\":\"black\",\"line_dash\":[4,4],\"line_width\":2,\"right_units\":\"screen\",\"syncable\":false,\"top_units\":\"screen\"},\"id\":\"1543\",\"type\":\"BoxAnnotation\"},{\"attributes\":{\"coordinates\":null,\"group\":null,\"text\":\"temp.html\",\"text_color\":\"#5B5B5B\",\"text_font\":\"Calibri Light\",\"text_font_size\":\"1.25em\",\"text_font_style\":\"bold\"},\"id\":\"1558\",\"type\":\"Title\"},{\"attributes\":{\"fill_alpha\":{\"value\":0.2},\"fill_color\":{\"value\":\"#70CE56\"},\"hatch_alpha\":{\"value\":0.2},\"line_alpha\":{\"value\":0.2},\"line_color\":{\"value\":\"#70CE56\"},\"size\":{\"value\":10},\"x\":{\"field\":\"x\"},\"y\":{\"field\":\"y\"}},\"id\":\"1637\",\"type\":\"Circle\"},{\"attributes\":{\"bottom\":{\"field\":\"bottom\"},\"fill_alpha\":{\"field\":\"velocity\"},\"fill_color\":{\"value\":\"grey\"},\"left\":{\"field\":\"start\"},\"line_color\":{\"value\":\"grey\"},\"right\":{\"field\":\"end\"},\"top\":{\"field\":\"top\"}},\"id\":\"1553\",\"type\":\"Quad\"},{\"attributes\":{},\"id\":\"1651\",\"type\":\"Selection\"},{\"attributes\":{\"source\":{\"id\":\"1633\"}},\"id\":\"1639\",\"type\":\"CDSView\"},{\"attributes\":{\"bottom\":{\"field\":\"bottom\"},\"fill_alpha\":{\"value\":0.1},\"fill_color\":{\"value\":\"grey\"},\"hatch_alpha\":{\"value\":0.1},\"left\":{\"field\":\"start\"},\"line_alpha\":{\"value\":0.1},\"line_color\":{\"value\":\"grey\"},\"right\":{\"field\":\"end\"},\"top\":{\"field\":\"top\"}},\"id\":\"1554\",\"type\":\"Quad\"},{\"attributes\":{},\"id\":\"1650\",\"type\":\"UnionRenderers\"},{\"attributes\":{\"source\":{\"id\":\"1551\"}},\"id\":\"1557\",\"type\":\"CDSView\"},{\"attributes\":{},\"id\":\"1628\",\"type\":\"Selection\"},{\"attributes\":{},\"id\":\"1627\",\"type\":\"UnionRenderers\"},{\"attributes\":{\"label\":{\"value\":\"Piano Roll\"},\"renderers\":[{\"id\":\"1556\"}]},\"id\":\"1570\",\"type\":\"LegendItem\"},{\"attributes\":{\"tools\":[{\"id\":\"1537\"},{\"id\":\"1538\"},{\"id\":\"1539\"},{\"id\":\"1540\"},{\"id\":\"1541\"},{\"id\":\"1542\"},{\"id\":\"1571\"},{\"id\":\"1631\"},{\"id\":\"1654\"},{\"id\":\"1679\"}]},\"id\":\"1544\",\"type\":\"Toolbar\"},{\"attributes\":{\"callback\":null,\"renderers\":[{\"id\":\"1638\"}],\"tooltips\":[[\"Numerator\",\"@Numerator\"],[\"Denominator\",\"@Denominator\"],[\"grid_index\",\"@grid_index\"]]},\"id\":\"1654\",\"type\":\"HoverTool\"},{\"attributes\":{\"label\":{\"value\":\"Metadata\"},\"renderers\":[{\"id\":\"1661\"}]},\"id\":\"1678\",\"type\":\"LegendItem\"},{\"attributes\":{\"data\":{\"x\":[0.0],\"y\":[10.5]},\"selected\":{\"id\":\"1676\"},\"selection_policy\":{\"id\":\"1675\"}},\"id\":\"1656\",\"type\":\"ColumnDataSource\"},{\"attributes\":{\"coordinates\":null,\"data_source\":{\"id\":\"1551\"},\"glyph\":{\"id\":\"1553\"},\"group\":null,\"hover_glyph\":null,\"muted_glyph\":{\"id\":\"1555\"},\"nonselection_glyph\":{\"id\":\"1554\"},\"view\":{\"id\":\"1557\"}},\"id\":\"1556\",\"type\":\"GlyphRenderer\"},{\"attributes\":{\"fill_color\":{\"value\":\"#1EA087\"},\"line_color\":{\"value\":\"#1EA087\"},\"size\":{\"value\":10},\"x\":{\"field\":\"x\"},\"y\":{\"field\":\"y\"}},\"id\":\"1658\",\"type\":\"Circle\"},{\"attributes\":{\"background_fill_alpha\":0.25,\"border_line_alpha\":0,\"click_policy\":\"hide\",\"coordinates\":null,\"glyph_width\":15,\"group\":null,\"items\":[{\"id\":\"1570\"},{\"id\":\"1630\"},{\"id\":\"1653\"},{\"id\":\"1678\"}],\"label_standoff\":8,\"label_text_color\":\"#5B5B5B\",\"label_text_font\":\"Calibri Light\",\"label_text_font_size\":\"0.95em\",\"label_text_font_style\":\"bold\",\"spacing\":8},\"id\":\"1569\",\"type\":\"Legend\"},{\"attributes\":{\"bottom\":{\"field\":\"bottom\"},\"fill_alpha\":{\"value\":0.2},\"fill_color\":{\"value\":\"grey\"},\"hatch_alpha\":{\"value\":0.2},\"left\":{\"field\":\"start\"},\"line_alpha\":{\"value\":0.2},\"line_color\":{\"value\":\"grey\"},\"right\":{\"field\":\"end\"},\"top\":{\"field\":\"top\"}},\"id\":\"1555\",\"type\":\"Quad\"},{\"attributes\":{\"coordinates\":null,\"data_source\":{\"id\":\"1656\"},\"glyph\":{\"id\":\"1658\"},\"group\":null,\"hover_glyph\":null,\"muted_glyph\":{\"id\":\"1660\"},\"nonselection_glyph\":{\"id\":\"1659\"},\"view\":{\"id\":\"1662\"}},\"id\":\"1661\",\"type\":\"GlyphRenderer\"},{\"attributes\":{\"fill_alpha\":{\"value\":0.2},\"fill_color\":{\"value\":\"#1EA087\"},\"hatch_alpha\":{\"value\":0.2},\"line_alpha\":{\"value\":0.2},\"line_color\":{\"value\":\"#1EA087\"},\"size\":{\"value\":10},\"x\":{\"field\":\"x\"},\"y\":{\"field\":\"y\"}},\"id\":\"1660\",\"type\":\"Circle\"},{\"attributes\":{\"source\":{\"id\":\"1656\"}},\"id\":\"1662\",\"type\":\"CDSView\"},{\"attributes\":{\"callback\":null,\"renderers\":[{\"id\":\"1661\"}],\"tooltips\":[]},\"id\":\"1679\",\"type\":\"HoverTool\"},{\"attributes\":{},\"id\":\"1676\",\"type\":\"Selection\"},{\"attributes\":{\"ticks\":[0.0,0.55,1.09,1.64,2.18,2.73,3.27,3.82]},\"id\":\"1600\",\"type\":\"FixedTicker\"},{\"attributes\":{},\"id\":\"1675\",\"type\":\"UnionRenderers\"},{\"attributes\":{\"source\":{\"id\":\"1612\"}},\"id\":\"1618\",\"type\":\"CDSView\"},{\"attributes\":{\"coordinates\":null,\"dimension\":\"height\",\"group\":null,\"line_width\":0.1,\"location\":1.5},\"id\":\"1584\",\"type\":\"Span\"},{\"attributes\":{},\"id\":\"1561\",\"type\":\"BasicTickFormatter\"},{\"attributes\":{\"fill_alpha\":{\"value\":0.1},\"fill_color\":{\"value\":\"#440154\"},\"hatch_alpha\":{\"value\":0.1},\"line_alpha\":{\"value\":0.1},\"line_color\":{\"value\":\"#440154\"},\"size\":{\"value\":10},\"x\":{\"field\":\"x\"},\"y\":{\"field\":\"y\"}},\"id\":\"1615\",\"type\":\"Circle\"},{\"attributes\":{\"coordinates\":null,\"dimension\":\"height\",\"group\":null,\"line_width\":0.1,\"location\":1.772},\"id\":\"1585\",\"type\":\"Span\"},{\"attributes\":{},\"id\":\"1562\",\"type\":\"AllLabels\"},{\"attributes\":{\"coordinates\":null,\"dimension\":\"height\",\"group\":null,\"line_width\":0.1,\"location\":0.136},\"id\":\"1576\",\"type\":\"Span\"},{\"attributes\":{\"coordinates\":null,\"dimension\":\"height\",\"group\":null,\"line_width\":0.1,\"location\":1.909},\"id\":\"1586\",\"type\":\"Span\"},{\"attributes\":{\"coordinates\":null,\"dimension\":\"height\",\"group\":null,\"line_width\":0.1,\"location\":2.045},\"id\":\"1587\",\"type\":\"Span\"},{\"attributes\":{\"coordinates\":null,\"dimension\":\"height\",\"group\":null,\"line_width\":0.1,\"location\":2.318},\"id\":\"1588\",\"type\":\"Span\"},{\"attributes\":{},\"id\":\"1564\",\"type\":\"BasicTickFormatter\"},{\"attributes\":{\"coordinates\":null,\"dimension\":\"height\",\"group\":null,\"line_width\":0.1,\"location\":2.455},\"id\":\"1589\",\"type\":\"Span\"},{\"attributes\":{\"coordinates\":null,\"dimension\":\"height\",\"group\":null,\"line_width\":0.1,\"location\":2.591},\"id\":\"1590\",\"type\":\"Span\"},{\"attributes\":{\"coordinates\":null,\"dimension\":\"height\",\"group\":null,\"line_width\":0.1,\"location\":2.863},\"id\":\"1591\",\"type\":\"Span\"},{\"attributes\":{},\"id\":\"1565\",\"type\":\"AllLabels\"},{\"attributes\":{\"coordinates\":null,\"dimension\":\"height\",\"group\":null,\"line_width\":0.1,\"location\":3.0},\"id\":\"1592\",\"type\":\"Span\"},{\"attributes\":{\"coordinates\":null,\"dimension\":\"height\",\"group\":null,\"line_width\":0.1,\"location\":3.136},\"id\":\"1593\",\"type\":\"Span\"},{\"attributes\":{\"coordinates\":null,\"dimension\":\"height\",\"group\":null,\"line_width\":0.1,\"location\":3.409},\"id\":\"1594\",\"type\":\"Span\"},{\"attributes\":{\"coordinates\":null,\"dimension\":\"height\",\"group\":null,\"line_width\":0.1,\"location\":3.546},\"id\":\"1595\",\"type\":\"Span\"},{\"attributes\":{\"coordinates\":null,\"dimension\":\"height\",\"group\":null,\"line_width\":0.1,\"location\":3.682},\"id\":\"1596\",\"type\":\"Span\"},{\"attributes\":{\"coordinates\":null,\"dimension\":\"height\",\"group\":null,\"line_width\":0.1,\"location\":3.954},\"id\":\"1597\",\"type\":\"Span\"},{\"attributes\":{\"coordinates\":null,\"dimension\":\"height\",\"group\":null,\"line_width\":0.1,\"location\":4.091},\"id\":\"1598\",\"type\":\"Span\"},{\"attributes\":{\"axis_label\":\"Time (sec)\",\"axis_label_standoff\":10,\"axis_label_text_color\":\"#5B5B5B\",\"axis_label_text_font\":\"Calibri Light\",\"axis_label_text_font_size\":\"1.15em\",\"axis_label_text_font_style\":\"bold\",\"axis_line_alpha\":1,\"axis_line_color\":\"#5B5B5B\",\"coordinates\":null,\"formatter\":{\"id\":\"1564\"},\"group\":null,\"major_label_orientation\":1.57,\"major_label_policy\":{\"id\":\"1565\"},\"major_label_text_color\":\"#5B5B5B\",\"major_label_text_font\":\"Calibri Light\",\"major_label_text_font_size\":\"0.95em\",\"major_label_text_font_style\":\"bold\",\"major_tick_in\":0,\"major_tick_line_alpha\":0.25,\"major_tick_line_color\":\"#5B5B5B\",\"major_tick_out\":3,\"minor_tick_line_alpha\":0.25,\"minor_tick_line_color\":\"#5B5B5B\",\"ticker\":{\"id\":\"1600\"}},\"id\":\"1529\",\"type\":\"LinearAxis\"},{\"attributes\":{\"coordinates\":null,\"dimension\":\"height\",\"group\":null,\"line_width\":0.1,\"location\":4.227},\"id\":\"1599\",\"type\":\"Span\"},{\"attributes\":{},\"id\":\"1525\",\"type\":\"LinearScale\"},{\"attributes\":{\"coordinates\":null,\"dimension\":\"height\",\"group\":null,\"line_width\":0.5,\"location\":0.0},\"id\":\"1602\",\"type\":\"Span\"},{\"attributes\":{\"coordinates\":null,\"dimension\":\"height\",\"group\":null,\"line_width\":0.5,\"location\":0.545},\"id\":\"1603\",\"type\":\"Span\"},{\"attributes\":{},\"id\":\"1566\",\"type\":\"UnionRenderers\"},{\"attributes\":{\"coordinates\":null,\"dimension\":\"height\",\"group\":null,\"line_width\":0.5,\"location\":1.091},\"id\":\"1604\",\"type\":\"Span\"},{\"attributes\":{\"coordinates\":null,\"dimension\":\"height\",\"group\":null,\"line_width\":0.5,\"location\":1.636},\"id\":\"1605\",\"type\":\"Span\"},{\"attributes\":{\"coordinates\":null,\"dimension\":\"height\",\"group\":null,\"line_width\":0.5,\"location\":2.182},\"id\":\"1606\",\"type\":\"Span\"},{\"attributes\":{},\"id\":\"1567\",\"type\":\"Selection\"},{\"attributes\":{\"coordinates\":null,\"dimension\":\"height\",\"group\":null,\"line_width\":0.5,\"location\":2.727},\"id\":\"1607\",\"type\":\"Span\"},{\"attributes\":{\"coordinates\":null,\"dimension\":\"height\",\"group\":null,\"line_width\":0.5,\"location\":3.273},\"id\":\"1608\",\"type\":\"Span\"},{\"attributes\":{\"coordinates\":null,\"dimension\":\"height\",\"group\":null,\"line_width\":0.5,\"location\":3.818},\"id\":\"1609\",\"type\":\"Span\"},{\"attributes\":{\"coordinates\":null,\"dimension\":\"height\",\"group\":null,\"line_width\":2,\"location\":0.0},\"id\":\"1610\",\"type\":\"Span\"},{\"attributes\":{\"coordinates\":null,\"dimension\":\"height\",\"group\":null,\"line_width\":2,\"location\":2.182},\"id\":\"1611\",\"type\":\"Span\"},{\"attributes\":{\"fill_color\":{\"value\":\"#440154\"},\"line_color\":{\"value\":\"#440154\"},\"size\":{\"value\":10},\"x\":{\"field\":\"x\"},\"y\":{\"field\":\"y\"}},\"id\":\"1614\",\"type\":\"Circle\"},{\"attributes\":{\"coordinates\":null,\"data_source\":{\"id\":\"1612\"},\"glyph\":{\"id\":\"1614\"},\"group\":null,\"hover_glyph\":null,\"muted_glyph\":{\"id\":\"1616\"},\"nonselection_glyph\":{\"id\":\"1615\"},\"view\":{\"id\":\"1618\"}},\"id\":\"1617\",\"type\":\"GlyphRenderer\"},{\"attributes\":{\"fill_alpha\":{\"value\":0.2},\"fill_color\":{\"value\":\"#440154\"},\"hatch_alpha\":{\"value\":0.2},\"line_alpha\":{\"value\":0.2},\"line_color\":{\"value\":\"#440154\"},\"size\":{\"value\":10},\"x\":{\"field\":\"x\"},\"y\":{\"field\":\"y\"}},\"id\":\"1616\",\"type\":\"Circle\"},{\"attributes\":{\"data\":{\"bottom\":{\"__ndarray__\":\"mpmZmZmZ6T9mZmZmZmYOQJqZmZmZmcm/ZmZmZmZmDkCamZmZmZkjQJqZmZmZmcm/mpmZmZmZ6T9mZmZmZmYOQJqZmZmZmcm/mpmZmZmZ6T9mZmZmZmYGQGZmZmZmZg5AmpmZmZmZI0BmZmZmZmYOQJqZmZmZmek/ZmZmZmZmDkCamZmZmZkjQJqZmZmZmcm/zczMzMzM/D9mZmZmZmYOQGZmZmZmZg5AmpmZmZmZyb+amZmZmZnpP2ZmZmZmZgZAZmZmZmZmDkCamZmZmZkjQJqZmZmZmek/mpmZmZmZ6T9mZmZmZmYOQM3MzMzMzPw/ZmZmZmZmDkCamZmZmZnpP83MzMzMzPw/ZmZmZmZmDkCamZmZmZnJv5qZmZmZmcm/mpmZmZmZ6T9mZmZmZmYOQM3MzMzMzPw/ZmZmZmZmDkCamZmZmZnpP2ZmZmZmZg5AmpmZmZmZ6T9mZmZmZmYGQGZmZmZmZg5AmpmZmZmZyb9mZmZmZmYOQJqZmZmZmek/ZmZmZmZmDkCamZmZmZnJv83MzMzMzPw/mpmZmZmZ6T/NzMzMzMz8P2ZmZmZmZg5AZmZmZmZmBkCamZmZmZnJv5qZmZmZmek/ZmZmZmZmBkBmZmZmZmYGQJqZmZmZmek/MzMzMzMzH0DNzMzMzMz8Pw==\",\"dtype\":\"float64\",\"order\":\"little\",\"shape\":[62]},\"end\":[0.35786399999999985,0.3456239999999999,0.5209279999999998,0.4969919999999998,0.49440799999999985,0.5452719999999999,0.6121839999999998,0.6233359999999999,0.8205139999999999,0.8787389999999998,0.8985119999999998,0.8861359999999998,0.8911679999999997,1.044879,1.1588629999999998,1.1663439999999998,1.312673,1.399257,1.439072,1.439072,1.5903039999999997,1.6685039999999998,1.7161039999999999,1.7143359999999996,1.7143359999999996,1.7044079999999997,1.7964799999999999,1.9950879999999998,1.9844799999999998,2.125878,2.1357419999999996,2.2713519999999994,2.2572079999999994,2.2498629999999995,2.322896,2.5816160000000004,2.550472,2.534968,2.676272,2.676272,2.8358,2.8001679999999993,3.0956079999999995,3.0754799999999998,3.0803760000000002,3.192984,3.2267419999999998,3.3673839999999995,3.345624,3.426272,3.4968649999999997,3.6543919999999996,3.618352,3.6060539999999994,3.759792,3.835,3.8938879999999996,3.8267039999999994,4.037481,4.16512,4.168792,4.31744],\"grid_line\":[2,2,3,3,3,4,4,4,6,6,6,6,6,7,8,8,9,10,10,10,11,12,12,12,12,12,13,14,14,15,15,16,16,16,17,18,18,18,19,19,20,20,22,22,22,23,23,24,24,25,25,26,26,26,27,28,28,28,29,30,30,31],\"instrument\":[\"Right_Hand_Bongo\",\"HH_CLOSED\",\"Left_Hand_Bongo\",\"HH_CLOSED\",\"RIDE\",\"Left_Hand_Bongo\",\"Right_Hand_Bongo\",\"HH_CLOSED\",\"Left_Hand_Bongo\",\"Right_Hand_Bongo\",\"SNARE\",\"HH_CLOSED\",\"RIDE\",\"HH_CLOSED\",\"Right_Hand_Bongo\",\"HH_CLOSED\",\"RIDE\",\"Left_Hand_Bongo\",\"KICK\",\"HH_CLOSED\",\"HH_CLOSED\",\"Left_Hand_Bongo\",\"Right_Hand_Bongo\",\"SNARE\",\"HH_CLOSED\",\"RIDE\",\"Right_Hand_Bongo\",\"Right_Hand_Bongo\",\"HH_CLOSED\",\"KICK\",\"HH_CLOSED\",\"Right_Hand_Bongo\",\"KICK\",\"HH_CLOSED\",\"Left_Hand_Bongo\",\"Left_Hand_Bongo\",\"Right_Hand_Bongo\",\"HH_CLOSED\",\"KICK\",\"HH_CLOSED\",\"Right_Hand_Bongo\",\"HH_CLOSED\",\"Right_Hand_Bongo\",\"SNARE\",\"HH_CLOSED\",\"Left_Hand_Bongo\",\"HH_CLOSED\",\"Right_Hand_Bongo\",\"HH_CLOSED\",\"Left_Hand_Bongo\",\"KICK\",\"Right_Hand_Bongo\",\"KICK\",\"HH_CLOSED\",\"SNARE\",\"Left_Hand_Bongo\",\"Right_Hand_Bongo\",\"SNARE\",\"SNARE\",\"Right_Hand_Bongo\",\"TOM_1_HI\",\"KICK\"],\"midi\":[63,42,64,42,51,64,63,42,64,63,38,42,51,42,63,42,51,64,36,42,42,64,63,38,42,51,63,63,42,36,42,63,36,42,64,64,63,42,36,42,63,42,63,38,42,64,42,63,42,64,36,63,36,42,38,64,63,38,38,63,50,36],\"offset\":[0.124,0.034,0.323,0.147,0.128,-0.498,-0.006,0.076,-0.478,-0.053,0.092,0.001,0.038,0.167,-0.001,0.054,0.129,-0.239,0.052,0.052,0.164,-0.261,0.089,0.076,0.076,0.003,-0.32,0.133,0.055,0.094,0.166,0.157,0.053,-0.001,-0.464,0.431,0.202,0.088,0.127,0.127,0.3,0.038,0.203,0.055,0.091,-0.081,0.166,0.194,0.034,-0.373,0.145,0.297,0.032,-0.058,0.072,-0.375,0.058,-0.436,0.113,0.045,0.072,0.165],\"offset_sec\":[0.017,0.005,0.044,0.02,0.017,-0.068,-0.001,0.01,-0.065,-0.007,0.013,0.0,0.005,0.023,-0.0,0.007,0.018,-0.033,0.007,0.007,0.022,-0.035,0.012,0.01,0.01,0.0,-0.044,0.018,0.007,0.013,0.023,0.021,0.007,-0.0,-0.063,0.059,0.027,0.012,0.017,0.017,0.041,0.005,0.028,0.007,0.012,-0.011,0.023,0.026,0.005,-0.051,0.02,0.04,0.004,-0.008,0.01,-0.051,0.008,-0.059,0.015,0.006,0.01,0.022],\"start\":[0.289864,0.27762400000000004,0.452928,0.428992,0.426408,0.47727200000000003,0.544184,0.555336,0.752514,0.810739,0.8305119999999999,0.818136,0.8231679999999999,0.9768789999999999,1.090863,1.098344,1.2446730000000001,1.3312570000000001,1.371072,1.371072,1.5223039999999999,1.600504,1.648104,1.6463359999999998,1.6463359999999998,1.6364079999999999,1.72848,1.927088,1.91648,2.057878,2.067742,2.2033519999999998,2.189208,2.181863,2.254896,2.5136160000000003,2.482472,2.466968,2.6082720000000004,2.6082720000000004,2.7678,2.7321679999999997,3.027608,3.00748,3.012376,3.124984,3.158742,3.299384,3.2776240000000003,3.358272,3.4288649999999996,3.586392,3.5503519999999997,3.538054,3.691792,3.767,3.825888,3.758704,3.969481,4.09712,4.100792,4.249440000000001],\"top\":{\"__ndarray__\":\"MzMzMzMz8z/NzMzMzMwQQJqZmZmZmck/zczMzMzMEEBmZmZmZmYkQJqZmZmZmck/MzMzMzMz8z/NzMzMzMwQQJqZmZmZmck/MzMzMzMz8z+amZmZmZkJQM3MzMzMzBBAZmZmZmZmJEDNzMzMzMwQQDMzMzMzM/M/zczMzMzMEEBmZmZmZmYkQJqZmZmZmck/mpmZmZmZAUDNzMzMzMwQQM3MzMzMzBBAmpmZmZmZyT8zMzMzMzPzP5qZmZmZmQlAzczMzMzMEEBmZmZmZmYkQDMzMzMzM/M/MzMzMzMz8z/NzMzMzMwQQJqZmZmZmQFAzczMzMzMEEAzMzMzMzPzP5qZmZmZmQFAzczMzMzMEECamZmZmZnJP5qZmZmZmck/MzMzMzMz8z/NzMzMzMwQQJqZmZmZmQFAzczMzMzMEEAzMzMzMzPzP83MzMzMzBBAMzMzMzMz8z+amZmZmZkJQM3MzMzMzBBAmpmZmZmZyT/NzMzMzMwQQDMzMzMzM/M/zczMzMzMEECamZmZmZnJP5qZmZmZmQFAMzMzMzMz8z+amZmZmZkBQM3MzMzMzBBAmpmZmZmZCUCamZmZmZnJPzMzMzMzM/M/mpmZmZmZCUCamZmZmZkJQDMzMzMzM/M/ZmZmZmZmIECamZmZmZkBQA==\",\"dtype\":\"float64\",\"order\":\"little\",\"shape\":[62]},\"velocity\":[0.331,0.622,0.268,0.488,0.827,0.047,0.283,0.685,0.071,0.213,0.882,0.614,0.858,0.457,0.378,0.732,0.827,0.307,0.835,0.622,0.409,0.126,0.433,0.898,0.701,0.913,0.362,0.465,0.614,0.748,0.457,0.181,0.843,0.685,0.165,0.071,0.213,0.575,0.78,0.465,0.173,0.661,0.11,0.866,0.591,0.102,0.472,0.425,0.756,0.181,0.724,0.055,0.898,0.874,0.378,0.488,0.276,0.339,0.803,0.512,0.906,0.764],\"voice_index\":[1,4,0,4,10,0,1,4,0,1,3,4,10,4,1,4,10,0,2,4,4,0,1,3,4,10,1,1,4,2,4,1,2,4,0,0,1,4,2,4,1,4,1,3,4,0,4,1,4,0,2,1,2,4,3,0,1,3,3,1,8,2]},\"selected\":{\"id\":\"1567\"},\"selection_policy\":{\"id\":\"1566\"}},\"id\":\"1551\",\"type\":\"ColumnDataSource\"},{\"attributes\":{},\"id\":\"1527\",\"type\":\"LinearScale\"},{\"attributes\":{\"label\":{\"value\":\"Tempo\"},\"renderers\":[{\"id\":\"1617\"}]},\"id\":\"1630\",\"type\":\"LegendItem\"},{\"attributes\":{\"axis\":{\"id\":\"1529\"},\"coordinates\":null,\"grid_line_color\":null,\"group\":null,\"ticker\":null},\"id\":\"1532\",\"type\":\"Grid\"},{\"attributes\":{\"callback\":null,\"renderers\":[{\"id\":\"1617\"}],\"tooltips\":[[\"tempo\",\"@tempo\"],[\"grid_index\",\"@grid_index\"]]},\"id\":\"1631\",\"type\":\"HoverTool\"},{\"attributes\":{\"end\":12.75,\"start\":-0.5},\"id\":\"1523\",\"type\":\"Range1d\"},{\"attributes\":{\"end\":4.649700000000001,\"start\":-0.4227000000000001},\"id\":\"1521\",\"type\":\"DataRange1d\"},{\"attributes\":{\"coordinates\":null,\"dimension\":\"height\",\"group\":null,\"line_width\":0.1,\"location\":0.681},\"id\":\"1579\",\"type\":\"Span\"},{\"attributes\":{\"callback\":null,\"renderers\":[{\"id\":\"1556\"}],\"tooltips\":[[\"start\",\"@start\"],[\"end\",\"@end\"],[\"instrument\",\"@instrument\"],[\"voice_index\",\"@voice_index\"],[\"midi\",\"@midi\"],[\"velocity\",\"@velocity\"],[\"offset\",\"@offset\"],[\"offset_sec\",\"@offset_sec\"],[\"grid_line\",\"@grid_line\"]]},\"id\":\"1571\",\"type\":\"HoverTool\"},{\"attributes\":{\"ticks\":[0,1,2,3,4,5,6,7,8,9,10]},\"id\":\"1574\",\"type\":\"FixedTicker\"},{\"attributes\":{\"data\":{\"grid_index\":[0],\"tempo\":[110.00011000011],\"x\":[0.0],\"y\":[11.5]},\"selected\":{\"id\":\"1628\"},\"selection_policy\":{\"id\":\"1627\"}},\"id\":\"1612\",\"type\":\"ColumnDataSource\"},{\"attributes\":{\"coordinates\":null,\"dimension\":\"height\",\"group\":null,\"line_width\":0.1,\"location\":0.954},\"id\":\"1581\",\"type\":\"Span\"},{\"attributes\":{\"coordinates\":null,\"dimension\":\"height\",\"group\":null,\"line_width\":0.1,\"location\":1.364},\"id\":\"1583\",\"type\":\"Span\"},{\"attributes\":{\"coordinates\":null,\"dimension\":\"height\",\"group\":null,\"line_width\":0.1,\"location\":0.818},\"id\":\"1580\",\"type\":\"Span\"},{\"attributes\":{\"coordinates\":null,\"dimension\":\"height\",\"group\":null,\"line_width\":0.1,\"location\":1.227},\"id\":\"1582\",\"type\":\"Span\"},{\"attributes\":{\"coordinates\":null,\"dimension\":\"height\",\"group\":null,\"line_width\":0.1,\"location\":0.409},\"id\":\"1578\",\"type\":\"Span\"},{\"attributes\":{\"coordinates\":null,\"dimension\":\"height\",\"group\":null,\"line_width\":0.1,\"location\":0.273},\"id\":\"1577\",\"type\":\"Span\"}],\"root_ids\":[\"1520\"]},\"title\":\"Bokeh Application\",\"version\":\"2.4.3\"}};\n  const render_items = [{\"docid\":\"3999c7af-0035-49e4-94b0-3b69fe90c1e7\",\"root_ids\":[\"1520\"],\"roots\":{\"1520\":\"4ad4c1db-661d-4613-b947-02cb383bfbc5\"}}];\n  root.Bokeh.embed.embed_items_notebook(docs_json, render_items);\n  }\n  if (root.Bokeh !== undefined) {\n    embed_document(root);\n  } else {\n    let attempts = 0;\n    const timer = setInterval(function(root) {\n      if (root.Bokeh !== undefined) {\n        clearInterval(timer);\n        embed_document(root);\n      } else {\n        attempts++;\n        if (attempts > 100) {\n          clearInterval(timer);\n          console.log(\"Bokeh: ERROR: Unable to run BokehJS code because BokehJS library is missing\");\n        }\n      }\n    }, 10, root)\n  }\n})(window);",
      "application/vnd.bokehjs_exec.v0+json": ""
     },
     "metadata": {
      "application/vnd.bokehjs_exec.v0+json": {
       "id": "1520"
      }
     },
     "output_type": "display_data"
    }
   ],
   "source": [
    "hs_drums_and_bongo = attempt_1.load_drums_with_bongos_hvo_sequence(drum_source='data/DrumSources')\n",
    "proll = hs_drums_and_bongo.piano_roll(show_figure=False, width=600, height=300)\n",
    "show(proll)"
   ]
  },
  {
   "cell_type": "markdown",
   "id": "3ded58d75b987c20",
   "metadata": {
    "collapsed": false
   },
   "source": [
    "# Subsetting\n",
    "\n",
    "You can Subset using the following methods, the returned subset will also be of type `BongoDrumCollection`\n",
    "\n",
    "Also, subsetters can be cascaded one after the other\n",
    "\n",
    "Available subsetters:\n",
    "- `filter_by_assessment_duration_minimumm(min_duration)` --> the amount user thought about rating their performance\n",
    "- `filter_by_attempt_duration_minimum(min_duration)` --> the amount of time the user spent on the attempt\n",
    "- `filter_by_self_assessment_within_range(min_rating, max_rating)` --> the user's self assessment of their performance\n",
    "- `filter_by_tempo_range(min_tempo, max_tempo)` --> the tempo of the drum loop\n",
    "-  `filter_by_total_bongo_hits_within_range(min_hits, max_hits)` --> the total number of bongo hits in the loop (use to get rid of empty loops)\n",
    "- `filter_by_style(style)` --> the style of the drum loop\n",
    "- `filter_by_user_level_of_musical_experience(min_, max_)` --> the user's level of musical experience\n",
    "- `filter_by_user_exhibion_rating(min_, max_)` --> the user's rating of their experience with the installation\n",
    "- "
   ]
  },
  {
   "cell_type": "markdown",
   "id": "f35aa8636ef884d5",
   "metadata": {
    "collapsed": false
   },
   "source": []
  },
  {
   "cell_type": "code",
   "execution_count": 15,
   "id": "70551e08cbbb3ba8",
   "metadata": {
    "ExecuteTime": {
     "end_time": "2024-04-24T13:52:38.716717Z",
     "start_time": "2024-04-24T13:52:29.706597Z"
    },
    "collapsed": false
   },
   "outputs": [
    {
     "data": {
      "text/plain": [
       "BongoDrumCollection with 3139 users, total of 6035 attempts"
      ]
     },
     "execution_count": 15,
     "metadata": {},
     "output_type": "execute_result"
    }
   ],
   "source": [
    "non_empty_collection = collection.filter_by_total_bongo_hits_within_range(1, 1000)\n",
    "non_empty_collection"
   ]
  },
  {
   "cell_type": "code",
   "execution_count": 16,
   "id": "e192674e83f3fa85",
   "metadata": {
    "ExecuteTime": {
     "end_time": "2024-04-24T13:52:38.722722Z",
     "start_time": "2024-04-24T13:52:38.717378Z"
    },
    "collapsed": false
   },
   "outputs": [
    {
     "data": {
      "text/plain": [
       "{'Afrobeat': 458,\n",
       " 'Afrocuban': 399,\n",
       " 'Bossanova': 569,\n",
       " 'Disco': 673,\n",
       " 'Electronic': 919,\n",
       " 'Funk': 607,\n",
       " 'Hiphop': 641,\n",
       " 'Jazz': 548,\n",
       " 'Rock': 850,\n",
       " 'Soul': 371}"
      ]
     },
     "execution_count": 16,
     "metadata": {},
     "output_type": "execute_result"
    }
   ],
   "source": [
    "non_empty_collection.count_number_of_attempts_per_style()"
   ]
  },
  {
   "cell_type": "code",
   "execution_count": 17,
   "id": "5c74810f38c6febf",
   "metadata": {
    "ExecuteTime": {
     "end_time": "2024-04-24T13:52:42.257098Z",
     "start_time": "2024-04-24T13:52:38.723201Z"
    },
    "collapsed": false
   },
   "outputs": [
    {
     "data": {
      "text/plain": [
       "(BongoDrumCollection with 392 users, total of 691 attempts,\n",
       " BongoDrumCollection with 915 users, total of 1692 attempts,\n",
       " BongoDrumCollection with 805 users, total of 1536 attempts,\n",
       " BongoDrumCollection with 549 users, total of 1074 attempts,\n",
       " BongoDrumCollection with 478 users, total of 1042 attempts)"
      ]
     },
     "execution_count": 17,
     "metadata": {},
     "output_type": "execute_result"
    }
   ],
   "source": [
    "level_1 = non_empty_collection.filter_by_user_level_of_musical_experience(1, 1)\n",
    "level_2 = non_empty_collection.filter_by_user_level_of_musical_experience(2, 2)\n",
    "level_3 = non_empty_collection.filter_by_user_level_of_musical_experience(3, 3)\n",
    "level_4 = non_empty_collection.filter_by_user_level_of_musical_experience(4, 4)\n",
    "level_5 = non_empty_collection.filter_by_user_level_of_musical_experience(5, 5)\n",
    "level_1, level_2, level_3, level_4, level_5"
   ]
  },
  {
   "cell_type": "code",
   "execution_count": 18,
   "id": "76d25e9583fd05b",
   "metadata": {
    "ExecuteTime": {
     "end_time": "2024-04-24T13:52:42.268374Z",
     "start_time": "2024-04-24T13:52:42.257668Z"
    },
    "collapsed": false
   },
   "outputs": [
    {
     "data": {
      "text/html": [
       "<div>\n",
       "<style scoped>\n",
       "    .dataframe tbody tr th:only-of-type {\n",
       "        vertical-align: middle;\n",
       "    }\n",
       "\n",
       "    .dataframe tbody tr th {\n",
       "        vertical-align: top;\n",
       "    }\n",
       "\n",
       "    .dataframe thead th {\n",
       "        text-align: right;\n",
       "    }\n",
       "</style>\n",
       "<table border=\"1\" class=\"dataframe\">\n",
       "  <thead>\n",
       "    <tr style=\"text-align: right;\">\n",
       "      <th></th>\n",
       "      <th>level_1</th>\n",
       "      <th>level_2</th>\n",
       "      <th>level_3</th>\n",
       "      <th>level_4</th>\n",
       "      <th>level_5</th>\n",
       "      <th>total</th>\n",
       "    </tr>\n",
       "  </thead>\n",
       "  <tbody>\n",
       "    <tr>\n",
       "      <th>Afrobeat</th>\n",
       "      <td>37</td>\n",
       "      <td>125</td>\n",
       "      <td>124</td>\n",
       "      <td>81</td>\n",
       "      <td>91</td>\n",
       "      <td>458</td>\n",
       "    </tr>\n",
       "    <tr>\n",
       "      <th>Afrocuban</th>\n",
       "      <td>47</td>\n",
       "      <td>117</td>\n",
       "      <td>103</td>\n",
       "      <td>66</td>\n",
       "      <td>66</td>\n",
       "      <td>399</td>\n",
       "    </tr>\n",
       "    <tr>\n",
       "      <th>Bossanova</th>\n",
       "      <td>66</td>\n",
       "      <td>153</td>\n",
       "      <td>161</td>\n",
       "      <td>100</td>\n",
       "      <td>89</td>\n",
       "      <td>569</td>\n",
       "    </tr>\n",
       "    <tr>\n",
       "      <th>Disco</th>\n",
       "      <td>88</td>\n",
       "      <td>178</td>\n",
       "      <td>163</td>\n",
       "      <td>109</td>\n",
       "      <td>135</td>\n",
       "      <td>673</td>\n",
       "    </tr>\n",
       "    <tr>\n",
       "      <th>Electronic</th>\n",
       "      <td>97</td>\n",
       "      <td>266</td>\n",
       "      <td>223</td>\n",
       "      <td>168</td>\n",
       "      <td>165</td>\n",
       "      <td>919</td>\n",
       "    </tr>\n",
       "    <tr>\n",
       "      <th>Funk</th>\n",
       "      <td>71</td>\n",
       "      <td>158</td>\n",
       "      <td>154</td>\n",
       "      <td>132</td>\n",
       "      <td>92</td>\n",
       "      <td>607</td>\n",
       "    </tr>\n",
       "    <tr>\n",
       "      <th>Hiphop</th>\n",
       "      <td>76</td>\n",
       "      <td>160</td>\n",
       "      <td>165</td>\n",
       "      <td>113</td>\n",
       "      <td>127</td>\n",
       "      <td>641</td>\n",
       "    </tr>\n",
       "    <tr>\n",
       "      <th>Jazz</th>\n",
       "      <td>61</td>\n",
       "      <td>152</td>\n",
       "      <td>142</td>\n",
       "      <td>93</td>\n",
       "      <td>100</td>\n",
       "      <td>548</td>\n",
       "    </tr>\n",
       "    <tr>\n",
       "      <th>Rock</th>\n",
       "      <td>100</td>\n",
       "      <td>252</td>\n",
       "      <td>208</td>\n",
       "      <td>158</td>\n",
       "      <td>132</td>\n",
       "      <td>850</td>\n",
       "    </tr>\n",
       "    <tr>\n",
       "      <th>Soul</th>\n",
       "      <td>48</td>\n",
       "      <td>131</td>\n",
       "      <td>93</td>\n",
       "      <td>54</td>\n",
       "      <td>45</td>\n",
       "      <td>371</td>\n",
       "    </tr>\n",
       "    <tr>\n",
       "      <th>total</th>\n",
       "      <td>691</td>\n",
       "      <td>1692</td>\n",
       "      <td>1536</td>\n",
       "      <td>1074</td>\n",
       "      <td>1042</td>\n",
       "      <td>6035</td>\n",
       "    </tr>\n",
       "  </tbody>\n",
       "</table>\n",
       "</div>"
      ],
      "text/plain": [
       "            level_1  level_2  level_3  level_4  level_5  total\n",
       "Afrobeat         37      125      124       81       91    458\n",
       "Afrocuban        47      117      103       66       66    399\n",
       "Bossanova        66      153      161      100       89    569\n",
       "Disco            88      178      163      109      135    673\n",
       "Electronic       97      266      223      168      165    919\n",
       "Funk             71      158      154      132       92    607\n",
       "Hiphop           76      160      165      113      127    641\n",
       "Jazz             61      152      142       93      100    548\n",
       "Rock            100      252      208      158      132    850\n",
       "Soul             48      131       93       54       45    371\n",
       "total           691     1692     1536     1074     1042   6035"
      ]
     },
     "execution_count": 18,
     "metadata": {},
     "output_type": "execute_result"
    }
   ],
   "source": [
    "import pandas as pd\n",
    "df = pd.DataFrame({\n",
    "    'level_1': level_1.count_number_of_attempts_per_style(),\n",
    "    'level_2': level_2.count_number_of_attempts_per_style(),\n",
    "    'level_3': level_3.count_number_of_attempts_per_style(),\n",
    "    'level_4': level_4.count_number_of_attempts_per_style(),\n",
    "    'level_5': level_5.count_number_of_attempts_per_style()\n",
    "})\n",
    "\n",
    "# add total\n",
    "df['total'] = df.sum(axis=1)\n",
    "\n",
    "\n",
    "# add totals per level\n",
    "df.loc['total'] = df.sum(axis=0)\n",
    "df\n"
   ]
  },
  {
   "cell_type": "code",
   "execution_count": 19,
   "id": "b7b7719e0b021f48",
   "metadata": {
    "ExecuteTime": {
     "end_time": "2024-04-24T13:52:42.276352Z",
     "start_time": "2024-04-24T13:52:42.268852Z"
    },
    "collapsed": false
   },
   "outputs": [
    {
     "data": {
      "text/html": [
       "<div>\n",
       "<style scoped>\n",
       "    .dataframe tbody tr th:only-of-type {\n",
       "        vertical-align: middle;\n",
       "    }\n",
       "\n",
       "    .dataframe tbody tr th {\n",
       "        vertical-align: top;\n",
       "    }\n",
       "\n",
       "    .dataframe thead th {\n",
       "        text-align: right;\n",
       "    }\n",
       "</style>\n",
       "<table border=\"1\" class=\"dataframe\">\n",
       "  <thead>\n",
       "    <tr style=\"text-align: right;\">\n",
       "      <th></th>\n",
       "      <th>level_1</th>\n",
       "      <th>level_2</th>\n",
       "      <th>level_3</th>\n",
       "      <th>level_4</th>\n",
       "      <th>level_5</th>\n",
       "      <th>total</th>\n",
       "    </tr>\n",
       "  </thead>\n",
       "  <tbody>\n",
       "    <tr>\n",
       "      <th>Afrobeat</th>\n",
       "      <td>30</td>\n",
       "      <td>78</td>\n",
       "      <td>74</td>\n",
       "      <td>52</td>\n",
       "      <td>59</td>\n",
       "      <td>293</td>\n",
       "    </tr>\n",
       "    <tr>\n",
       "      <th>Afrocuban</th>\n",
       "      <td>37</td>\n",
       "      <td>69</td>\n",
       "      <td>60</td>\n",
       "      <td>49</td>\n",
       "      <td>45</td>\n",
       "      <td>260</td>\n",
       "    </tr>\n",
       "    <tr>\n",
       "      <th>Bossanova</th>\n",
       "      <td>47</td>\n",
       "      <td>77</td>\n",
       "      <td>73</td>\n",
       "      <td>59</td>\n",
       "      <td>55</td>\n",
       "      <td>311</td>\n",
       "    </tr>\n",
       "    <tr>\n",
       "      <th>Disco</th>\n",
       "      <td>58</td>\n",
       "      <td>82</td>\n",
       "      <td>80</td>\n",
       "      <td>61</td>\n",
       "      <td>68</td>\n",
       "      <td>349</td>\n",
       "    </tr>\n",
       "    <tr>\n",
       "      <th>Electronic</th>\n",
       "      <td>16</td>\n",
       "      <td>16</td>\n",
       "      <td>16</td>\n",
       "      <td>16</td>\n",
       "      <td>16</td>\n",
       "      <td>80</td>\n",
       "    </tr>\n",
       "    <tr>\n",
       "      <th>Funk</th>\n",
       "      <td>45</td>\n",
       "      <td>82</td>\n",
       "      <td>82</td>\n",
       "      <td>74</td>\n",
       "      <td>58</td>\n",
       "      <td>341</td>\n",
       "    </tr>\n",
       "    <tr>\n",
       "      <th>Hiphop</th>\n",
       "      <td>55</td>\n",
       "      <td>83</td>\n",
       "      <td>81</td>\n",
       "      <td>72</td>\n",
       "      <td>71</td>\n",
       "      <td>362</td>\n",
       "    </tr>\n",
       "    <tr>\n",
       "      <th>Jazz</th>\n",
       "      <td>47</td>\n",
       "      <td>74</td>\n",
       "      <td>80</td>\n",
       "      <td>61</td>\n",
       "      <td>68</td>\n",
       "      <td>330</td>\n",
       "    </tr>\n",
       "    <tr>\n",
       "      <th>Rock</th>\n",
       "      <td>60</td>\n",
       "      <td>91</td>\n",
       "      <td>82</td>\n",
       "      <td>76</td>\n",
       "      <td>73</td>\n",
       "      <td>382</td>\n",
       "    </tr>\n",
       "    <tr>\n",
       "      <th>Soul</th>\n",
       "      <td>38</td>\n",
       "      <td>68</td>\n",
       "      <td>63</td>\n",
       "      <td>42</td>\n",
       "      <td>40</td>\n",
       "      <td>251</td>\n",
       "    </tr>\n",
       "    <tr>\n",
       "      <th>total</th>\n",
       "      <td>433</td>\n",
       "      <td>720</td>\n",
       "      <td>691</td>\n",
       "      <td>562</td>\n",
       "      <td>553</td>\n",
       "      <td>2959</td>\n",
       "    </tr>\n",
       "  </tbody>\n",
       "</table>\n",
       "</div>"
      ],
      "text/plain": [
       "            level_1  level_2  level_3  level_4  level_5  total\n",
       "Afrobeat         30       78       74       52       59    293\n",
       "Afrocuban        37       69       60       49       45    260\n",
       "Bossanova        47       77       73       59       55    311\n",
       "Disco            58       82       80       61       68    349\n",
       "Electronic       16       16       16       16       16     80\n",
       "Funk             45       82       82       74       58    341\n",
       "Hiphop           55       83       81       72       71    362\n",
       "Jazz             47       74       80       61       68    330\n",
       "Rock             60       91       82       76       73    382\n",
       "Soul             38       68       63       42       40    251\n",
       "total           433      720      691      562      553   2959"
      ]
     },
     "execution_count": 19,
     "metadata": {},
     "output_type": "execute_result"
    }
   ],
   "source": [
    "df2 = pd.DataFrame({\n",
    "    'level_1': level_1.count_unique_drums_tested_per_style(),\n",
    "    'level_2': level_2.count_unique_drums_tested_per_style(),\n",
    "    'level_3': level_3.count_unique_drums_tested_per_style(),\n",
    "    'level_4': level_4.count_unique_drums_tested_per_style(),\n",
    "    'level_5': level_5.count_unique_drums_tested_per_style()\n",
    "})\n",
    "\n",
    "# add total\n",
    "df2['total'] = df2.sum(axis=1)\n",
    "df2.loc['total'] = df2.sum(axis=0)\n",
    "df2"
   ]
  },
  {
   "cell_type": "code",
   "execution_count": 20,
   "id": "8cb7dee7d9ccd0d9",
   "metadata": {
    "ExecuteTime": {
     "end_time": "2024-04-24T13:52:50.547304Z",
     "start_time": "2024-04-24T13:52:42.276863Z"
    },
    "collapsed": false
   },
   "outputs": [
    {
     "data": {
      "text/html": [
       "<div>\n",
       "<style scoped>\n",
       "    .dataframe tbody tr th:only-of-type {\n",
       "        vertical-align: middle;\n",
       "    }\n",
       "\n",
       "    .dataframe tbody tr th {\n",
       "        vertical-align: top;\n",
       "    }\n",
       "\n",
       "    .dataframe thead th {\n",
       "        text-align: right;\n",
       "    }\n",
       "</style>\n",
       "<table border=\"1\" class=\"dataframe\">\n",
       "  <thead>\n",
       "    <tr style=\"text-align: right;\">\n",
       "      <th></th>\n",
       "      <th>level_1</th>\n",
       "      <th>level_2</th>\n",
       "      <th>level_3</th>\n",
       "      <th>level_4</th>\n",
       "      <th>level_5</th>\n",
       "    </tr>\n",
       "  </thead>\n",
       "  <tbody>\n",
       "    <tr>\n",
       "      <th>mean</th>\n",
       "      <td>20.765557</td>\n",
       "      <td>20.900118</td>\n",
       "      <td>20.106120</td>\n",
       "      <td>20.434823</td>\n",
       "      <td>22.771593</td>\n",
       "    </tr>\n",
       "    <tr>\n",
       "      <th>std</th>\n",
       "      <td>12.391352</td>\n",
       "      <td>12.946748</td>\n",
       "      <td>12.399694</td>\n",
       "      <td>12.554979</td>\n",
       "      <td>13.956872</td>\n",
       "    </tr>\n",
       "    <tr>\n",
       "      <th>min</th>\n",
       "      <td>1.000000</td>\n",
       "      <td>1.000000</td>\n",
       "      <td>1.000000</td>\n",
       "      <td>1.000000</td>\n",
       "      <td>1.000000</td>\n",
       "    </tr>\n",
       "    <tr>\n",
       "      <th>max</th>\n",
       "      <td>63.000000</td>\n",
       "      <td>63.000000</td>\n",
       "      <td>64.000000</td>\n",
       "      <td>64.000000</td>\n",
       "      <td>64.000000</td>\n",
       "    </tr>\n",
       "  </tbody>\n",
       "</table>\n",
       "</div>"
      ],
      "text/plain": [
       "        level_1    level_2    level_3    level_4    level_5\n",
       "mean  20.765557  20.900118  20.106120  20.434823  22.771593\n",
       "std   12.391352  12.946748  12.399694  12.554979  13.956872\n",
       "min    1.000000   1.000000   1.000000   1.000000   1.000000\n",
       "max   63.000000  63.000000  64.000000  64.000000  64.000000"
      ]
     },
     "execution_count": 20,
     "metadata": {},
     "output_type": "execute_result"
    }
   ],
   "source": [
    "# hit statistics\n",
    "\n",
    "df3 = pd.DataFrame({\n",
    "    'level_1': level_1.get_bongo_hits_statistics(),\n",
    "    'level_2': level_2.get_bongo_hits_statistics(),\n",
    "    'level_3': level_3.get_bongo_hits_statistics(),\n",
    "    'level_4': level_4.get_bongo_hits_statistics(),\n",
    "    'level_5': level_5.get_bongo_hits_statistics()\n",
    "})\n",
    "\n",
    "df3"
   ]
  },
  {
   "cell_type": "code",
   "execution_count": 21,
   "id": "71802708fc9b5022",
   "metadata": {
    "ExecuteTime": {
     "end_time": "2024-04-24T13:52:50.556397Z",
     "start_time": "2024-04-24T13:52:50.547933Z"
    },
    "collapsed": false
   },
   "outputs": [
    {
     "data": {
      "text/html": [
       "<div>\n",
       "<style scoped>\n",
       "    .dataframe tbody tr th:only-of-type {\n",
       "        vertical-align: middle;\n",
       "    }\n",
       "\n",
       "    .dataframe tbody tr th {\n",
       "        vertical-align: top;\n",
       "    }\n",
       "\n",
       "    .dataframe thead th {\n",
       "        text-align: right;\n",
       "    }\n",
       "</style>\n",
       "<table border=\"1\" class=\"dataframe\">\n",
       "  <thead>\n",
       "    <tr style=\"text-align: right;\">\n",
       "      <th></th>\n",
       "      <th>level_1</th>\n",
       "      <th>level_2</th>\n",
       "      <th>level_3</th>\n",
       "      <th>level_4</th>\n",
       "      <th>level_5</th>\n",
       "    </tr>\n",
       "  </thead>\n",
       "  <tbody>\n",
       "    <tr>\n",
       "      <th>mean</th>\n",
       "      <td>3.143271</td>\n",
       "      <td>3.325059</td>\n",
       "      <td>3.503255</td>\n",
       "      <td>3.743017</td>\n",
       "      <td>4.188100</td>\n",
       "    </tr>\n",
       "    <tr>\n",
       "      <th>std</th>\n",
       "      <td>1.446997</td>\n",
       "      <td>1.303572</td>\n",
       "      <td>1.235326</td>\n",
       "      <td>1.246624</td>\n",
       "      <td>1.262607</td>\n",
       "    </tr>\n",
       "    <tr>\n",
       "      <th>min</th>\n",
       "      <td>1.000000</td>\n",
       "      <td>1.000000</td>\n",
       "      <td>1.000000</td>\n",
       "      <td>1.000000</td>\n",
       "      <td>1.000000</td>\n",
       "    </tr>\n",
       "    <tr>\n",
       "      <th>max</th>\n",
       "      <td>5.000000</td>\n",
       "      <td>5.000000</td>\n",
       "      <td>5.000000</td>\n",
       "      <td>5.000000</td>\n",
       "      <td>5.000000</td>\n",
       "    </tr>\n",
       "  </tbody>\n",
       "</table>\n",
       "</div>"
      ],
      "text/plain": [
       "       level_1   level_2   level_3   level_4   level_5\n",
       "mean  3.143271  3.325059  3.503255  3.743017  4.188100\n",
       "std   1.446997  1.303572  1.235326  1.246624  1.262607\n",
       "min   1.000000  1.000000  1.000000  1.000000  1.000000\n",
       "max   5.000000  5.000000  5.000000  5.000000  5.000000"
      ]
     },
     "execution_count": 21,
     "metadata": {},
     "output_type": "execute_result"
    }
   ],
   "source": [
    "# self assessment ratings\n",
    "df4 = pd.DataFrame({\n",
    "    'level_1': level_1.get_self_assessment_rating_statistics(),\n",
    "    'level_2': level_2.get_self_assessment_rating_statistics(),\n",
    "    'level_3': level_3.get_self_assessment_rating_statistics(),\n",
    "    'level_4': level_4.get_self_assessment_rating_statistics(),\n",
    "    'level_5': level_5.get_self_assessment_rating_statistics()\n",
    "})\n",
    "\n",
    "df4"
   ]
  },
  {
   "cell_type": "code",
   "execution_count": 22,
   "id": "1a6b5b8e114ac23f",
   "metadata": {
    "ExecuteTime": {
     "end_time": "2024-04-24T13:52:50.562451Z",
     "start_time": "2024-04-24T13:52:50.556933Z"
    },
    "collapsed": false
   },
   "outputs": [
    {
     "data": {
      "text/html": [
       "<div>\n",
       "<style scoped>\n",
       "    .dataframe tbody tr th:only-of-type {\n",
       "        vertical-align: middle;\n",
       "    }\n",
       "\n",
       "    .dataframe tbody tr th {\n",
       "        vertical-align: top;\n",
       "    }\n",
       "\n",
       "    .dataframe thead th {\n",
       "        text-align: right;\n",
       "    }\n",
       "</style>\n",
       "<table border=\"1\" class=\"dataframe\">\n",
       "  <thead>\n",
       "    <tr style=\"text-align: right;\">\n",
       "      <th></th>\n",
       "      <th>level_1</th>\n",
       "      <th>level_2</th>\n",
       "      <th>level_3</th>\n",
       "      <th>level_4</th>\n",
       "      <th>level_5</th>\n",
       "    </tr>\n",
       "  </thead>\n",
       "  <tbody>\n",
       "    <tr>\n",
       "      <th>mean</th>\n",
       "      <td>3.622449</td>\n",
       "      <td>3.769399</td>\n",
       "      <td>3.795031</td>\n",
       "      <td>4.023679</td>\n",
       "      <td>4.347280</td>\n",
       "    </tr>\n",
       "    <tr>\n",
       "      <th>std</th>\n",
       "      <td>1.154099</td>\n",
       "      <td>0.832629</td>\n",
       "      <td>0.795312</td>\n",
       "      <td>0.799239</td>\n",
       "      <td>0.991967</td>\n",
       "    </tr>\n",
       "    <tr>\n",
       "      <th>min</th>\n",
       "      <td>1.000000</td>\n",
       "      <td>1.000000</td>\n",
       "      <td>1.000000</td>\n",
       "      <td>1.000000</td>\n",
       "      <td>1.000000</td>\n",
       "    </tr>\n",
       "    <tr>\n",
       "      <th>max</th>\n",
       "      <td>5.000000</td>\n",
       "      <td>5.000000</td>\n",
       "      <td>5.000000</td>\n",
       "      <td>5.000000</td>\n",
       "      <td>5.000000</td>\n",
       "    </tr>\n",
       "  </tbody>\n",
       "</table>\n",
       "</div>"
      ],
      "text/plain": [
       "       level_1   level_2   level_3   level_4   level_5\n",
       "mean  3.622449  3.769399  3.795031  4.023679  4.347280\n",
       "std   1.154099  0.832629  0.795312  0.799239  0.991967\n",
       "min   1.000000  1.000000  1.000000  1.000000  1.000000\n",
       "max   5.000000  5.000000  5.000000  5.000000  5.000000"
      ]
     },
     "execution_count": 22,
     "metadata": {},
     "output_type": "execute_result"
    }
   ],
   "source": [
    "# exhibition ratings\n",
    "df5 = pd.DataFrame({\n",
    "    'level_1': level_1.get_exhibition_rating_statistics(),\n",
    "    'level_2': level_2.get_exhibition_rating_statistics(),\n",
    "    'level_3': level_3.get_exhibition_rating_statistics(),\n",
    "    'level_4': level_4.get_exhibition_rating_statistics(),\n",
    "    'level_5': level_5.get_exhibition_rating_statistics()\n",
    "})\n",
    "\n",
    "df5"
   ]
  },
  {
   "cell_type": "code",
   "execution_count": 23,
   "id": "393672ce7f38b677",
   "metadata": {
    "ExecuteTime": {
     "end_time": "2024-04-24T13:53:17.198745Z",
     "start_time": "2024-04-24T13:52:50.562994Z"
    },
    "collapsed": false
   },
   "outputs": [
    {
     "data": {
      "text/html": [
       "<div>\n",
       "<style scoped>\n",
       "    .dataframe tbody tr th:only-of-type {\n",
       "        vertical-align: middle;\n",
       "    }\n",
       "\n",
       "    .dataframe tbody tr th {\n",
       "        vertical-align: top;\n",
       "    }\n",
       "\n",
       "    .dataframe thead th {\n",
       "        text-align: right;\n",
       "    }\n",
       "</style>\n",
       "<table border=\"1\" class=\"dataframe\">\n",
       "  <thead>\n",
       "    <tr style=\"text-align: right;\">\n",
       "      <th></th>\n",
       "      <th>level_1</th>\n",
       "      <th>level_2</th>\n",
       "      <th>level_3</th>\n",
       "      <th>level_4</th>\n",
       "      <th>level_5</th>\n",
       "    </tr>\n",
       "  </thead>\n",
       "  <tbody>\n",
       "    <tr>\n",
       "      <th>mean</th>\n",
       "      <td>0.987493</td>\n",
       "      <td>0.974753</td>\n",
       "      <td>0.926252</td>\n",
       "      <td>0.954687</td>\n",
       "      <td>1.042101</td>\n",
       "    </tr>\n",
       "    <tr>\n",
       "      <th>std</th>\n",
       "      <td>0.734087</td>\n",
       "      <td>0.723891</td>\n",
       "      <td>0.660528</td>\n",
       "      <td>0.705595</td>\n",
       "      <td>0.777009</td>\n",
       "    </tr>\n",
       "    <tr>\n",
       "      <th>min</th>\n",
       "      <td>0.033333</td>\n",
       "      <td>0.035714</td>\n",
       "      <td>0.032258</td>\n",
       "      <td>0.035714</td>\n",
       "      <td>0.033333</td>\n",
       "    </tr>\n",
       "    <tr>\n",
       "      <th>max</th>\n",
       "      <td>7.250000</td>\n",
       "      <td>6.000000</td>\n",
       "      <td>6.400000</td>\n",
       "      <td>8.000000</td>\n",
       "      <td>7.000000</td>\n",
       "    </tr>\n",
       "  </tbody>\n",
       "</table>\n",
       "</div>"
      ],
      "text/plain": [
       "       level_1   level_2   level_3   level_4   level_5\n",
       "mean  0.987493  0.974753  0.926252  0.954687  1.042101\n",
       "std   0.734087  0.723891  0.660528  0.705595  0.777009\n",
       "min   0.033333  0.035714  0.032258  0.035714  0.033333\n",
       "max   7.250000  6.000000  6.400000  8.000000  7.000000"
      ]
     },
     "execution_count": 23,
     "metadata": {},
     "output_type": "execute_result"
    }
   ],
   "source": [
    "# bongo groove density to drum density ratio\n",
    "df6 = pd.DataFrame({\n",
    "    'level_1': level_1.get_bongo_groove_density_to_drum_density_ratio_statistics(drum_source='data/DrumSources'),\n",
    "    'level_2': level_2.get_bongo_groove_density_to_drum_density_ratio_statistics(drum_source='data/DrumSources'),\n",
    "    'level_3': level_3.get_bongo_groove_density_to_drum_density_ratio_statistics(drum_source='data/DrumSources'),\n",
    "    'level_4': level_4.get_bongo_groove_density_to_drum_density_ratio_statistics(drum_source='data/DrumSources'),\n",
    "    'level_5': level_5.get_bongo_groove_density_to_drum_density_ratio_statistics(drum_source='data/DrumSources')\n",
    "})\n",
    "\n",
    "df6"
   ]
  },
  {
   "cell_type": "code",
   "execution_count": 23,
   "id": "adfd7c8feb5afc9a",
   "metadata": {
    "ExecuteTime": {
     "end_time": "2024-04-24T13:53:17.201267Z",
     "start_time": "2024-04-24T13:53:17.199712Z"
    },
    "collapsed": false
   },
   "outputs": [],
   "source": []
  }
 ],
 "metadata": {
  "kernelspec": {
   "display_name": "TripleStreams",
   "language": "python",
   "name": "python3"
  },
  "language_info": {
   "codemirror_mode": {
    "name": "ipython",
    "version": 3
   },
   "file_extension": ".py",
   "mimetype": "text/x-python",
   "name": "python",
   "nbconvert_exporter": "python",
   "pygments_lexer": "ipython3",
   "version": "3.9.21"
  }
 },
 "nbformat": 4,
 "nbformat_minor": 5
}
